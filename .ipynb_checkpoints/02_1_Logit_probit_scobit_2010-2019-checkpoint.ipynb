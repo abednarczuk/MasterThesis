{
 "cells": [
  {
   "cell_type": "markdown",
   "metadata": {},
   "source": [
    "Aleksandra Bednarczuk"
   ]
  },
  {
   "cell_type": "markdown",
   "metadata": {},
   "source": [
    "# Predictors of elderly citizens willingness to stay in the neighbourhood\n",
    "# Logistic regression"
   ]
  },
  {
   "cell_type": "markdown",
   "metadata": {},
   "source": [
    "Original dataset, including barris among predictors"
   ]
  },
  {
   "cell_type": "code",
   "execution_count": 1,
   "metadata": {},
   "outputs": [],
   "source": [
    "import pandas as pd\n",
    "import numpy as np\n",
    "\n",
    "import matplotlib.pyplot as plt"
   ]
  },
  {
   "cell_type": "code",
   "execution_count": 2,
   "metadata": {},
   "outputs": [],
   "source": [
    "from imblearn.over_sampling import SMOTE\n",
    "\n",
    "import statsmodels.api as sm\n",
    "import statsmodels.formula.api as smf\n",
    "\n",
    "from sklearn.model_selection import train_test_split\n",
    "from sklearn.feature_selection import RFE\n",
    "from sklearn.linear_model import LogisticRegression\n",
    "\n",
    "from sklearn.metrics import accuracy_score\n",
    "from sklearn.metrics import classification_report\n",
    "from sklearn.metrics import confusion_matrix\n",
    "from sklearn.metrics import roc_auc_score\n",
    "from sklearn.metrics import roc_curve\n",
    "from sklearn.metrics import r2_score\n",
    "\n",
    "from sklearn.feature_selection import SelectKBest\n",
    "from sklearn.feature_selection import chi2\n",
    "from sklearn.feature_selection import mutual_info_classif\n",
    "from sklearn.feature_selection import f_classif\n",
    "from sklearn.preprocessing import LabelEncoder\n",
    "from sklearn.preprocessing import OrdinalEncoder\n",
    "\n",
    "from scipy import stats"
   ]
  },
  {
   "cell_type": "code",
   "execution_count": null,
   "metadata": {},
   "outputs": [],
   "source": []
  },
  {
   "cell_type": "code",
   "execution_count": 3,
   "metadata": {},
   "outputs": [],
   "source": [
    "data = pd.read_pickle(\"survey_transformed_20102019.pkl\")"
   ]
  },
  {
   "cell_type": "code",
   "execution_count": 4,
   "metadata": {},
   "outputs": [],
   "source": [
    "data.reset_index(drop=True, inplace=True)"
   ]
  },
  {
   "cell_type": "code",
   "execution_count": 5,
   "metadata": {},
   "outputs": [
    {
     "data": {
      "text/html": [
       "<div>\n",
       "<style scoped>\n",
       "    .dataframe tbody tr th:only-of-type {\n",
       "        vertical-align: middle;\n",
       "    }\n",
       "\n",
       "    .dataframe tbody tr th {\n",
       "        vertical-align: top;\n",
       "    }\n",
       "\n",
       "    .dataframe thead th {\n",
       "        text-align: right;\n",
       "    }\n",
       "</style>\n",
       "<table border=\"1\" class=\"dataframe\">\n",
       "  <thead>\n",
       "    <tr style=\"text-align: right;\">\n",
       "      <th></th>\n",
       "      <th>Would_live_in_another_neighborhood</th>\n",
       "      <th>District</th>\n",
       "      <th>Woman</th>\n",
       "      <th>Car</th>\n",
       "      <th>House_size</th>\n",
       "      <th>Living_alone</th>\n",
       "      <th>No_of_people_in_the_house</th>\n",
       "      <th>Time_living_in_barri</th>\n",
       "      <th>Barri_evolution</th>\n",
       "      <th>BCN_evolution</th>\n",
       "      <th>...</th>\n",
       "      <th>BCN_transport</th>\n",
       "      <th>Barri_problem_with_security</th>\n",
       "      <th>Barri_problem_with_streets_cleaning</th>\n",
       "      <th>Barri_problem_with_mobility</th>\n",
       "      <th>BCN_over_barri_evolution</th>\n",
       "      <th>BCN_over_barri_future</th>\n",
       "      <th>BCN_over_barri_satisfaction</th>\n",
       "      <th>BCN_over_barri_transport</th>\n",
       "      <th>BCN_over_barri_management</th>\n",
       "      <th>BCN_over_barri_security</th>\n",
       "    </tr>\n",
       "  </thead>\n",
       "  <tbody>\n",
       "    <tr>\n",
       "      <th>0</th>\n",
       "      <td>0.0</td>\n",
       "      <td>CIUTAT VELLA</td>\n",
       "      <td>1</td>\n",
       "      <td>1.0</td>\n",
       "      <td>51-100 M2</td>\n",
       "      <td>0</td>\n",
       "      <td>TWO</td>\n",
       "      <td>MORE THAN 10 YEARS</td>\n",
       "      <td>IT HAS WORSENED</td>\n",
       "      <td>IT HAS IMPROVED</td>\n",
       "      <td>...</td>\n",
       "      <td>GOOD</td>\n",
       "      <td>0</td>\n",
       "      <td>0</td>\n",
       "      <td>0</td>\n",
       "      <td>1</td>\n",
       "      <td>0</td>\n",
       "      <td>0</td>\n",
       "      <td>0</td>\n",
       "      <td>0</td>\n",
       "      <td>0</td>\n",
       "    </tr>\n",
       "    <tr>\n",
       "      <th>1</th>\n",
       "      <td>0.0</td>\n",
       "      <td>CIUTAT VELLA</td>\n",
       "      <td>1</td>\n",
       "      <td>0.0</td>\n",
       "      <td>101-150 M2</td>\n",
       "      <td>0</td>\n",
       "      <td>TWO</td>\n",
       "      <td>MORE THAN 10 YEARS</td>\n",
       "      <td>IT HAS IMPROVED</td>\n",
       "      <td>IT HAS IMPROVED</td>\n",
       "      <td>...</td>\n",
       "      <td>GOOD</td>\n",
       "      <td>0</td>\n",
       "      <td>0</td>\n",
       "      <td>0</td>\n",
       "      <td>0</td>\n",
       "      <td>0</td>\n",
       "      <td>0</td>\n",
       "      <td>0</td>\n",
       "      <td>0</td>\n",
       "      <td>0</td>\n",
       "    </tr>\n",
       "    <tr>\n",
       "      <th>2</th>\n",
       "      <td>1.0</td>\n",
       "      <td>CIUTAT VELLA</td>\n",
       "      <td>1</td>\n",
       "      <td>0.0</td>\n",
       "      <td>51-100 M2</td>\n",
       "      <td>0</td>\n",
       "      <td>TWO</td>\n",
       "      <td>I HAVE ALWAYS LIVED IN THE NEIGHBORHOOD</td>\n",
       "      <td>IT HAS WORSENED</td>\n",
       "      <td>IT HAS WORSENED</td>\n",
       "      <td>...</td>\n",
       "      <td>GOOD</td>\n",
       "      <td>0</td>\n",
       "      <td>0</td>\n",
       "      <td>0</td>\n",
       "      <td>0</td>\n",
       "      <td>0</td>\n",
       "      <td>1</td>\n",
       "      <td>0</td>\n",
       "      <td>0</td>\n",
       "      <td>0</td>\n",
       "    </tr>\n",
       "    <tr>\n",
       "      <th>3</th>\n",
       "      <td>0.0</td>\n",
       "      <td>CIUTAT VELLA</td>\n",
       "      <td>1</td>\n",
       "      <td>0.0</td>\n",
       "      <td>&lt; 50 M2</td>\n",
       "      <td>1</td>\n",
       "      <td>ONE</td>\n",
       "      <td>MORE THAN 10 YEARS</td>\n",
       "      <td>IT HAS IMPROVED</td>\n",
       "      <td>IT IS THE SAME</td>\n",
       "      <td>...</td>\n",
       "      <td>NEITHER BAD, NOR GOOD</td>\n",
       "      <td>1</td>\n",
       "      <td>0</td>\n",
       "      <td>0</td>\n",
       "      <td>0</td>\n",
       "      <td>0</td>\n",
       "      <td>0</td>\n",
       "      <td>0</td>\n",
       "      <td>0</td>\n",
       "      <td>0</td>\n",
       "    </tr>\n",
       "    <tr>\n",
       "      <th>4</th>\n",
       "      <td>1.0</td>\n",
       "      <td>CIUTAT VELLA</td>\n",
       "      <td>0</td>\n",
       "      <td>0.0</td>\n",
       "      <td>&lt; 50 M2</td>\n",
       "      <td>1</td>\n",
       "      <td>ONE</td>\n",
       "      <td>MORE THAN 10 YEARS</td>\n",
       "      <td>IT HAS IMPROVED</td>\n",
       "      <td>IT HAS IMPROVED</td>\n",
       "      <td>...</td>\n",
       "      <td>GOOD</td>\n",
       "      <td>0</td>\n",
       "      <td>0</td>\n",
       "      <td>0</td>\n",
       "      <td>0</td>\n",
       "      <td>0</td>\n",
       "      <td>0</td>\n",
       "      <td>0</td>\n",
       "      <td>0</td>\n",
       "      <td>0</td>\n",
       "    </tr>\n",
       "  </tbody>\n",
       "</table>\n",
       "<p>5 rows × 30 columns</p>\n",
       "</div>"
      ],
      "text/plain": [
       "   Would_live_in_another_neighborhood      District  Woman  Car  House_size  \\\n",
       "0                                 0.0  CIUTAT VELLA      1  1.0   51-100 M2   \n",
       "1                                 0.0  CIUTAT VELLA      1  0.0  101-150 M2   \n",
       "2                                 1.0  CIUTAT VELLA      1  0.0   51-100 M2   \n",
       "3                                 0.0  CIUTAT VELLA      1  0.0     < 50 M2   \n",
       "4                                 1.0  CIUTAT VELLA      0  0.0     < 50 M2   \n",
       "\n",
       "   Living_alone No_of_people_in_the_house  \\\n",
       "0             0                       TWO   \n",
       "1             0                       TWO   \n",
       "2             0                       TWO   \n",
       "3             1                       ONE   \n",
       "4             1                       ONE   \n",
       "\n",
       "                      Time_living_in_barri  Barri_evolution    BCN_evolution  \\\n",
       "0                       MORE THAN 10 YEARS  IT HAS WORSENED  IT HAS IMPROVED   \n",
       "1                       MORE THAN 10 YEARS  IT HAS IMPROVED  IT HAS IMPROVED   \n",
       "2  I HAVE ALWAYS LIVED IN THE NEIGHBORHOOD  IT HAS WORSENED  IT HAS WORSENED   \n",
       "3                       MORE THAN 10 YEARS  IT HAS IMPROVED   IT IS THE SAME   \n",
       "4                       MORE THAN 10 YEARS  IT HAS IMPROVED  IT HAS IMPROVED   \n",
       "\n",
       "   ...          BCN_transport Barri_problem_with_security  \\\n",
       "0  ...                   GOOD                           0   \n",
       "1  ...                   GOOD                           0   \n",
       "2  ...                   GOOD                           0   \n",
       "3  ...  NEITHER BAD, NOR GOOD                           1   \n",
       "4  ...                   GOOD                           0   \n",
       "\n",
       "  Barri_problem_with_streets_cleaning Barri_problem_with_mobility  \\\n",
       "0                                   0                           0   \n",
       "1                                   0                           0   \n",
       "2                                   0                           0   \n",
       "3                                   0                           0   \n",
       "4                                   0                           0   \n",
       "\n",
       "  BCN_over_barri_evolution BCN_over_barri_future BCN_over_barri_satisfaction  \\\n",
       "0                        1                     0                           0   \n",
       "1                        0                     0                           0   \n",
       "2                        0                     0                           1   \n",
       "3                        0                     0                           0   \n",
       "4                        0                     0                           0   \n",
       "\n",
       "  BCN_over_barri_transport BCN_over_barri_management BCN_over_barri_security  \n",
       "0                        0                         0                       0  \n",
       "1                        0                         0                       0  \n",
       "2                        0                         0                       0  \n",
       "3                        0                         0                       0  \n",
       "4                        0                         0                       0  \n",
       "\n",
       "[5 rows x 30 columns]"
      ]
     },
     "execution_count": 5,
     "metadata": {},
     "output_type": "execute_result"
    }
   ],
   "source": [
    "data.head()"
   ]
  },
  {
   "cell_type": "code",
   "execution_count": null,
   "metadata": {},
   "outputs": [],
   "source": []
  },
  {
   "cell_type": "code",
   "execution_count": 6,
   "metadata": {},
   "outputs": [
    {
     "data": {
      "text/plain": [
       "(12758, 30)"
      ]
     },
     "execution_count": 6,
     "metadata": {},
     "output_type": "execute_result"
    }
   ],
   "source": [
    "data.shape"
   ]
  },
  {
   "cell_type": "code",
   "execution_count": 7,
   "metadata": {},
   "outputs": [
    {
     "data": {
      "text/plain": [
       "['Would_live_in_another_neighborhood',\n",
       " 'District',\n",
       " 'Woman',\n",
       " 'Car',\n",
       " 'House_size',\n",
       " 'Living_alone',\n",
       " 'No_of_people_in_the_house',\n",
       " 'Time_living_in_barri',\n",
       " 'Barri_evolution',\n",
       " 'BCN_evolution',\n",
       " 'Barri_future',\n",
       " 'BCN_future',\n",
       " 'Barri_satisfaction',\n",
       " 'BCN_satisfaction',\n",
       " 'Barri_security',\n",
       " 'BCN_security',\n",
       " 'Barri_management',\n",
       " 'BCN_management',\n",
       " 'Barri_comparison',\n",
       " 'Barri_transport',\n",
       " 'BCN_transport',\n",
       " 'Barri_problem_with_security',\n",
       " 'Barri_problem_with_streets_cleaning',\n",
       " 'Barri_problem_with_mobility',\n",
       " 'BCN_over_barri_evolution',\n",
       " 'BCN_over_barri_future',\n",
       " 'BCN_over_barri_satisfaction',\n",
       " 'BCN_over_barri_transport',\n",
       " 'BCN_over_barri_management',\n",
       " 'BCN_over_barri_security']"
      ]
     },
     "execution_count": 7,
     "metadata": {},
     "output_type": "execute_result"
    }
   ],
   "source": [
    "data.columns.tolist()"
   ]
  },
  {
   "cell_type": "code",
   "execution_count": 8,
   "metadata": {},
   "outputs": [
    {
     "data": {
      "text/html": [
       "<div>\n",
       "<style scoped>\n",
       "    .dataframe tbody tr th:only-of-type {\n",
       "        vertical-align: middle;\n",
       "    }\n",
       "\n",
       "    .dataframe tbody tr th {\n",
       "        vertical-align: top;\n",
       "    }\n",
       "\n",
       "    .dataframe thead th {\n",
       "        text-align: right;\n",
       "    }\n",
       "</style>\n",
       "<table border=\"1\" class=\"dataframe\">\n",
       "  <thead>\n",
       "    <tr style=\"text-align: right;\">\n",
       "      <th>Would_live_in_another_neighborhood</th>\n",
       "      <th>0.0</th>\n",
       "      <th>1.0</th>\n",
       "    </tr>\n",
       "    <tr>\n",
       "      <th>Would_live_in_another_neighborhood</th>\n",
       "      <th></th>\n",
       "      <th></th>\n",
       "    </tr>\n",
       "  </thead>\n",
       "  <tbody>\n",
       "    <tr>\n",
       "      <th>0.0</th>\n",
       "      <td>11340</td>\n",
       "      <td>0</td>\n",
       "    </tr>\n",
       "    <tr>\n",
       "      <th>1.0</th>\n",
       "      <td>0</td>\n",
       "      <td>1418</td>\n",
       "    </tr>\n",
       "  </tbody>\n",
       "</table>\n",
       "</div>"
      ],
      "text/plain": [
       "Would_live_in_another_neighborhood    0.0   1.0\n",
       "Would_live_in_another_neighborhood             \n",
       "0.0                                 11340     0\n",
       "1.0                                     0  1418"
      ]
     },
     "metadata": {},
     "output_type": "display_data"
    },
    {
     "data": {
      "text/html": [
       "<div>\n",
       "<style scoped>\n",
       "    .dataframe tbody tr th:only-of-type {\n",
       "        vertical-align: middle;\n",
       "    }\n",
       "\n",
       "    .dataframe tbody tr th {\n",
       "        vertical-align: top;\n",
       "    }\n",
       "\n",
       "    .dataframe thead th {\n",
       "        text-align: right;\n",
       "    }\n",
       "</style>\n",
       "<table border=\"1\" class=\"dataframe\">\n",
       "  <thead>\n",
       "    <tr style=\"text-align: right;\">\n",
       "      <th>Would_live_in_another_neighborhood</th>\n",
       "      <th>0.0</th>\n",
       "      <th>1.0</th>\n",
       "    </tr>\n",
       "    <tr>\n",
       "      <th>District</th>\n",
       "      <th></th>\n",
       "      <th></th>\n",
       "    </tr>\n",
       "  </thead>\n",
       "  <tbody>\n",
       "    <tr>\n",
       "      <th>CIUTAT VELLA</th>\n",
       "      <td>741</td>\n",
       "      <td>160</td>\n",
       "    </tr>\n",
       "    <tr>\n",
       "      <th>EIXAMPLE</th>\n",
       "      <td>1914</td>\n",
       "      <td>164</td>\n",
       "    </tr>\n",
       "    <tr>\n",
       "      <th>GRÀCIA</th>\n",
       "      <td>921</td>\n",
       "      <td>88</td>\n",
       "    </tr>\n",
       "    <tr>\n",
       "      <th>HORTA - GUINARDÓ</th>\n",
       "      <td>1290</td>\n",
       "      <td>180</td>\n",
       "    </tr>\n",
       "    <tr>\n",
       "      <th>LES CORTS</th>\n",
       "      <td>1021</td>\n",
       "      <td>49</td>\n",
       "    </tr>\n",
       "    <tr>\n",
       "      <th>NOU BARRIS</th>\n",
       "      <td>1158</td>\n",
       "      <td>209</td>\n",
       "    </tr>\n",
       "    <tr>\n",
       "      <th>SANT ANDREU</th>\n",
       "      <td>940</td>\n",
       "      <td>149</td>\n",
       "    </tr>\n",
       "    <tr>\n",
       "      <th>SANT MARTÍ</th>\n",
       "      <td>1359</td>\n",
       "      <td>166</td>\n",
       "    </tr>\n",
       "    <tr>\n",
       "      <th>SANTS - MONTJUÏC</th>\n",
       "      <td>972</td>\n",
       "      <td>203</td>\n",
       "    </tr>\n",
       "    <tr>\n",
       "      <th>SARRIÀ - SANT GERVASI</th>\n",
       "      <td>1024</td>\n",
       "      <td>50</td>\n",
       "    </tr>\n",
       "  </tbody>\n",
       "</table>\n",
       "</div>"
      ],
      "text/plain": [
       "Would_live_in_another_neighborhood   0.0  1.0\n",
       "District                                     \n",
       "CIUTAT VELLA                         741  160\n",
       "EIXAMPLE                            1914  164\n",
       "GRÀCIA                               921   88\n",
       "HORTA - GUINARDÓ                    1290  180\n",
       "LES CORTS                           1021   49\n",
       "NOU BARRIS                          1158  209\n",
       "SANT ANDREU                          940  149\n",
       "SANT MARTÍ                          1359  166\n",
       "SANTS - MONTJUÏC                     972  203\n",
       "SARRIÀ - SANT GERVASI               1024   50"
      ]
     },
     "metadata": {},
     "output_type": "display_data"
    },
    {
     "data": {
      "text/html": [
       "<div>\n",
       "<style scoped>\n",
       "    .dataframe tbody tr th:only-of-type {\n",
       "        vertical-align: middle;\n",
       "    }\n",
       "\n",
       "    .dataframe tbody tr th {\n",
       "        vertical-align: top;\n",
       "    }\n",
       "\n",
       "    .dataframe thead th {\n",
       "        text-align: right;\n",
       "    }\n",
       "</style>\n",
       "<table border=\"1\" class=\"dataframe\">\n",
       "  <thead>\n",
       "    <tr style=\"text-align: right;\">\n",
       "      <th>Would_live_in_another_neighborhood</th>\n",
       "      <th>0.0</th>\n",
       "      <th>1.0</th>\n",
       "    </tr>\n",
       "    <tr>\n",
       "      <th>Woman</th>\n",
       "      <th></th>\n",
       "      <th></th>\n",
       "    </tr>\n",
       "  </thead>\n",
       "  <tbody>\n",
       "    <tr>\n",
       "      <th>0</th>\n",
       "      <td>4446</td>\n",
       "      <td>526</td>\n",
       "    </tr>\n",
       "    <tr>\n",
       "      <th>1</th>\n",
       "      <td>6894</td>\n",
       "      <td>892</td>\n",
       "    </tr>\n",
       "  </tbody>\n",
       "</table>\n",
       "</div>"
      ],
      "text/plain": [
       "Would_live_in_another_neighborhood   0.0  1.0\n",
       "Woman                                        \n",
       "0                                   4446  526\n",
       "1                                   6894  892"
      ]
     },
     "metadata": {},
     "output_type": "display_data"
    },
    {
     "data": {
      "text/html": [
       "<div>\n",
       "<style scoped>\n",
       "    .dataframe tbody tr th:only-of-type {\n",
       "        vertical-align: middle;\n",
       "    }\n",
       "\n",
       "    .dataframe tbody tr th {\n",
       "        vertical-align: top;\n",
       "    }\n",
       "\n",
       "    .dataframe thead th {\n",
       "        text-align: right;\n",
       "    }\n",
       "</style>\n",
       "<table border=\"1\" class=\"dataframe\">\n",
       "  <thead>\n",
       "    <tr style=\"text-align: right;\">\n",
       "      <th>Would_live_in_another_neighborhood</th>\n",
       "      <th>0.0</th>\n",
       "      <th>1.0</th>\n",
       "    </tr>\n",
       "    <tr>\n",
       "      <th>Car</th>\n",
       "      <th></th>\n",
       "      <th></th>\n",
       "    </tr>\n",
       "  </thead>\n",
       "  <tbody>\n",
       "    <tr>\n",
       "      <th>0.0</th>\n",
       "      <td>5874</td>\n",
       "      <td>719</td>\n",
       "    </tr>\n",
       "    <tr>\n",
       "      <th>1.0</th>\n",
       "      <td>5466</td>\n",
       "      <td>699</td>\n",
       "    </tr>\n",
       "  </tbody>\n",
       "</table>\n",
       "</div>"
      ],
      "text/plain": [
       "Would_live_in_another_neighborhood   0.0  1.0\n",
       "Car                                          \n",
       "0.0                                 5874  719\n",
       "1.0                                 5466  699"
      ]
     },
     "metadata": {},
     "output_type": "display_data"
    },
    {
     "data": {
      "text/html": [
       "<div>\n",
       "<style scoped>\n",
       "    .dataframe tbody tr th:only-of-type {\n",
       "        vertical-align: middle;\n",
       "    }\n",
       "\n",
       "    .dataframe tbody tr th {\n",
       "        vertical-align: top;\n",
       "    }\n",
       "\n",
       "    .dataframe thead th {\n",
       "        text-align: right;\n",
       "    }\n",
       "</style>\n",
       "<table border=\"1\" class=\"dataframe\">\n",
       "  <thead>\n",
       "    <tr style=\"text-align: right;\">\n",
       "      <th>Would_live_in_another_neighborhood</th>\n",
       "      <th>0.0</th>\n",
       "      <th>1.0</th>\n",
       "    </tr>\n",
       "    <tr>\n",
       "      <th>House_size</th>\n",
       "      <th></th>\n",
       "      <th></th>\n",
       "    </tr>\n",
       "  </thead>\n",
       "  <tbody>\n",
       "    <tr>\n",
       "      <th>101-150 M2</th>\n",
       "      <td>1373</td>\n",
       "      <td>117</td>\n",
       "    </tr>\n",
       "    <tr>\n",
       "      <th>51-100 M2</th>\n",
       "      <td>7843</td>\n",
       "      <td>1058</td>\n",
       "    </tr>\n",
       "    <tr>\n",
       "      <th>&lt; 50 M2</th>\n",
       "      <td>793</td>\n",
       "      <td>124</td>\n",
       "    </tr>\n",
       "    <tr>\n",
       "      <th>&gt; 150 M2</th>\n",
       "      <td>496</td>\n",
       "      <td>40</td>\n",
       "    </tr>\n",
       "    <tr>\n",
       "      <th>I DON'T KNOW</th>\n",
       "      <td>835</td>\n",
       "      <td>79</td>\n",
       "    </tr>\n",
       "  </tbody>\n",
       "</table>\n",
       "</div>"
      ],
      "text/plain": [
       "Would_live_in_another_neighborhood   0.0   1.0\n",
       "House_size                                    \n",
       "101-150 M2                          1373   117\n",
       "51-100 M2                           7843  1058\n",
       "< 50 M2                              793   124\n",
       "> 150 M2                             496    40\n",
       "I DON'T KNOW                         835    79"
      ]
     },
     "metadata": {},
     "output_type": "display_data"
    },
    {
     "data": {
      "text/html": [
       "<div>\n",
       "<style scoped>\n",
       "    .dataframe tbody tr th:only-of-type {\n",
       "        vertical-align: middle;\n",
       "    }\n",
       "\n",
       "    .dataframe tbody tr th {\n",
       "        vertical-align: top;\n",
       "    }\n",
       "\n",
       "    .dataframe thead th {\n",
       "        text-align: right;\n",
       "    }\n",
       "</style>\n",
       "<table border=\"1\" class=\"dataframe\">\n",
       "  <thead>\n",
       "    <tr style=\"text-align: right;\">\n",
       "      <th>Would_live_in_another_neighborhood</th>\n",
       "      <th>0.0</th>\n",
       "      <th>1.0</th>\n",
       "    </tr>\n",
       "    <tr>\n",
       "      <th>Living_alone</th>\n",
       "      <th></th>\n",
       "      <th></th>\n",
       "    </tr>\n",
       "  </thead>\n",
       "  <tbody>\n",
       "    <tr>\n",
       "      <th>0</th>\n",
       "      <td>7919</td>\n",
       "      <td>985</td>\n",
       "    </tr>\n",
       "    <tr>\n",
       "      <th>1</th>\n",
       "      <td>3421</td>\n",
       "      <td>433</td>\n",
       "    </tr>\n",
       "  </tbody>\n",
       "</table>\n",
       "</div>"
      ],
      "text/plain": [
       "Would_live_in_another_neighborhood   0.0  1.0\n",
       "Living_alone                                 \n",
       "0                                   7919  985\n",
       "1                                   3421  433"
      ]
     },
     "metadata": {},
     "output_type": "display_data"
    },
    {
     "data": {
      "text/html": [
       "<div>\n",
       "<style scoped>\n",
       "    .dataframe tbody tr th:only-of-type {\n",
       "        vertical-align: middle;\n",
       "    }\n",
       "\n",
       "    .dataframe tbody tr th {\n",
       "        vertical-align: top;\n",
       "    }\n",
       "\n",
       "    .dataframe thead th {\n",
       "        text-align: right;\n",
       "    }\n",
       "</style>\n",
       "<table border=\"1\" class=\"dataframe\">\n",
       "  <thead>\n",
       "    <tr style=\"text-align: right;\">\n",
       "      <th>Would_live_in_another_neighborhood</th>\n",
       "      <th>0.0</th>\n",
       "      <th>1.0</th>\n",
       "    </tr>\n",
       "    <tr>\n",
       "      <th>No_of_people_in_the_house</th>\n",
       "      <th></th>\n",
       "      <th></th>\n",
       "    </tr>\n",
       "  </thead>\n",
       "  <tbody>\n",
       "    <tr>\n",
       "      <th>FOUR OR MORE</th>\n",
       "      <td>549</td>\n",
       "      <td>58</td>\n",
       "    </tr>\n",
       "    <tr>\n",
       "      <th>ONE</th>\n",
       "      <td>3421</td>\n",
       "      <td>433</td>\n",
       "    </tr>\n",
       "    <tr>\n",
       "      <th>THREE</th>\n",
       "      <td>1319</td>\n",
       "      <td>146</td>\n",
       "    </tr>\n",
       "    <tr>\n",
       "      <th>TWO</th>\n",
       "      <td>6051</td>\n",
       "      <td>781</td>\n",
       "    </tr>\n",
       "  </tbody>\n",
       "</table>\n",
       "</div>"
      ],
      "text/plain": [
       "Would_live_in_another_neighborhood   0.0  1.0\n",
       "No_of_people_in_the_house                    \n",
       "FOUR OR MORE                         549   58\n",
       "ONE                                 3421  433\n",
       "THREE                               1319  146\n",
       "TWO                                 6051  781"
      ]
     },
     "metadata": {},
     "output_type": "display_data"
    },
    {
     "data": {
      "text/html": [
       "<div>\n",
       "<style scoped>\n",
       "    .dataframe tbody tr th:only-of-type {\n",
       "        vertical-align: middle;\n",
       "    }\n",
       "\n",
       "    .dataframe tbody tr th {\n",
       "        vertical-align: top;\n",
       "    }\n",
       "\n",
       "    .dataframe thead th {\n",
       "        text-align: right;\n",
       "    }\n",
       "</style>\n",
       "<table border=\"1\" class=\"dataframe\">\n",
       "  <thead>\n",
       "    <tr style=\"text-align: right;\">\n",
       "      <th>Would_live_in_another_neighborhood</th>\n",
       "      <th>0.0</th>\n",
       "      <th>1.0</th>\n",
       "    </tr>\n",
       "    <tr>\n",
       "      <th>Time_living_in_barri</th>\n",
       "      <th></th>\n",
       "      <th></th>\n",
       "    </tr>\n",
       "  </thead>\n",
       "  <tbody>\n",
       "    <tr>\n",
       "      <th>I HAVE ALWAYS LIVED IN THE NEIGHBORHOOD</th>\n",
       "      <td>1628</td>\n",
       "      <td>128</td>\n",
       "    </tr>\n",
       "    <tr>\n",
       "      <th>LESS THAN 10 YEARS</th>\n",
       "      <td>573</td>\n",
       "      <td>165</td>\n",
       "    </tr>\n",
       "    <tr>\n",
       "      <th>MORE THAN 10 YEARS</th>\n",
       "      <td>9139</td>\n",
       "      <td>1125</td>\n",
       "    </tr>\n",
       "  </tbody>\n",
       "</table>\n",
       "</div>"
      ],
      "text/plain": [
       "Would_live_in_another_neighborhood        0.0   1.0\n",
       "Time_living_in_barri                               \n",
       "I HAVE ALWAYS LIVED IN THE NEIGHBORHOOD  1628   128\n",
       "LESS THAN 10 YEARS                        573   165\n",
       "MORE THAN 10 YEARS                       9139  1125"
      ]
     },
     "metadata": {},
     "output_type": "display_data"
    },
    {
     "data": {
      "text/html": [
       "<div>\n",
       "<style scoped>\n",
       "    .dataframe tbody tr th:only-of-type {\n",
       "        vertical-align: middle;\n",
       "    }\n",
       "\n",
       "    .dataframe tbody tr th {\n",
       "        vertical-align: top;\n",
       "    }\n",
       "\n",
       "    .dataframe thead th {\n",
       "        text-align: right;\n",
       "    }\n",
       "</style>\n",
       "<table border=\"1\" class=\"dataframe\">\n",
       "  <thead>\n",
       "    <tr style=\"text-align: right;\">\n",
       "      <th>Would_live_in_another_neighborhood</th>\n",
       "      <th>0.0</th>\n",
       "      <th>1.0</th>\n",
       "    </tr>\n",
       "    <tr>\n",
       "      <th>Barri_evolution</th>\n",
       "      <th></th>\n",
       "      <th></th>\n",
       "    </tr>\n",
       "  </thead>\n",
       "  <tbody>\n",
       "    <tr>\n",
       "      <th>IT HAS IMPROVED</th>\n",
       "      <td>5962</td>\n",
       "      <td>573</td>\n",
       "    </tr>\n",
       "    <tr>\n",
       "      <th>IT HAS WORSENED</th>\n",
       "      <td>1984</td>\n",
       "      <td>465</td>\n",
       "    </tr>\n",
       "    <tr>\n",
       "      <th>IT IS THE SAME</th>\n",
       "      <td>3394</td>\n",
       "      <td>380</td>\n",
       "    </tr>\n",
       "  </tbody>\n",
       "</table>\n",
       "</div>"
      ],
      "text/plain": [
       "Would_live_in_another_neighborhood   0.0  1.0\n",
       "Barri_evolution                              \n",
       "IT HAS IMPROVED                     5962  573\n",
       "IT HAS WORSENED                     1984  465\n",
       "IT IS THE SAME                      3394  380"
      ]
     },
     "metadata": {},
     "output_type": "display_data"
    },
    {
     "data": {
      "text/html": [
       "<div>\n",
       "<style scoped>\n",
       "    .dataframe tbody tr th:only-of-type {\n",
       "        vertical-align: middle;\n",
       "    }\n",
       "\n",
       "    .dataframe tbody tr th {\n",
       "        vertical-align: top;\n",
       "    }\n",
       "\n",
       "    .dataframe thead th {\n",
       "        text-align: right;\n",
       "    }\n",
       "</style>\n",
       "<table border=\"1\" class=\"dataframe\">\n",
       "  <thead>\n",
       "    <tr style=\"text-align: right;\">\n",
       "      <th>Would_live_in_another_neighborhood</th>\n",
       "      <th>0.0</th>\n",
       "      <th>1.0</th>\n",
       "    </tr>\n",
       "    <tr>\n",
       "      <th>BCN_evolution</th>\n",
       "      <th></th>\n",
       "      <th></th>\n",
       "    </tr>\n",
       "  </thead>\n",
       "  <tbody>\n",
       "    <tr>\n",
       "      <th>IT HAS IMPROVED</th>\n",
       "      <td>3733</td>\n",
       "      <td>371</td>\n",
       "    </tr>\n",
       "    <tr>\n",
       "      <th>IT HAS WORSENED</th>\n",
       "      <td>4266</td>\n",
       "      <td>698</td>\n",
       "    </tr>\n",
       "    <tr>\n",
       "      <th>IT IS THE SAME</th>\n",
       "      <td>3341</td>\n",
       "      <td>349</td>\n",
       "    </tr>\n",
       "  </tbody>\n",
       "</table>\n",
       "</div>"
      ],
      "text/plain": [
       "Would_live_in_another_neighborhood   0.0  1.0\n",
       "BCN_evolution                                \n",
       "IT HAS IMPROVED                     3733  371\n",
       "IT HAS WORSENED                     4266  698\n",
       "IT IS THE SAME                      3341  349"
      ]
     },
     "metadata": {},
     "output_type": "display_data"
    },
    {
     "data": {
      "text/html": [
       "<div>\n",
       "<style scoped>\n",
       "    .dataframe tbody tr th:only-of-type {\n",
       "        vertical-align: middle;\n",
       "    }\n",
       "\n",
       "    .dataframe tbody tr th {\n",
       "        vertical-align: top;\n",
       "    }\n",
       "\n",
       "    .dataframe thead th {\n",
       "        text-align: right;\n",
       "    }\n",
       "</style>\n",
       "<table border=\"1\" class=\"dataframe\">\n",
       "  <thead>\n",
       "    <tr style=\"text-align: right;\">\n",
       "      <th>Would_live_in_another_neighborhood</th>\n",
       "      <th>0.0</th>\n",
       "      <th>1.0</th>\n",
       "    </tr>\n",
       "    <tr>\n",
       "      <th>Barri_future</th>\n",
       "      <th></th>\n",
       "      <th></th>\n",
       "    </tr>\n",
       "  </thead>\n",
       "  <tbody>\n",
       "    <tr>\n",
       "      <th>IT WILL IMPROVE</th>\n",
       "      <td>6375</td>\n",
       "      <td>608</td>\n",
       "    </tr>\n",
       "    <tr>\n",
       "      <th>IT WILL STAY THE SAME</th>\n",
       "      <td>3483</td>\n",
       "      <td>432</td>\n",
       "    </tr>\n",
       "    <tr>\n",
       "      <th>IT WILL WORSEN</th>\n",
       "      <td>1482</td>\n",
       "      <td>378</td>\n",
       "    </tr>\n",
       "  </tbody>\n",
       "</table>\n",
       "</div>"
      ],
      "text/plain": [
       "Would_live_in_another_neighborhood   0.0  1.0\n",
       "Barri_future                                 \n",
       "IT WILL IMPROVE                     6375  608\n",
       "IT WILL STAY THE SAME               3483  432\n",
       "IT WILL WORSEN                      1482  378"
      ]
     },
     "metadata": {},
     "output_type": "display_data"
    },
    {
     "data": {
      "text/html": [
       "<div>\n",
       "<style scoped>\n",
       "    .dataframe tbody tr th:only-of-type {\n",
       "        vertical-align: middle;\n",
       "    }\n",
       "\n",
       "    .dataframe tbody tr th {\n",
       "        vertical-align: top;\n",
       "    }\n",
       "\n",
       "    .dataframe thead th {\n",
       "        text-align: right;\n",
       "    }\n",
       "</style>\n",
       "<table border=\"1\" class=\"dataframe\">\n",
       "  <thead>\n",
       "    <tr style=\"text-align: right;\">\n",
       "      <th>Would_live_in_another_neighborhood</th>\n",
       "      <th>0.0</th>\n",
       "      <th>1.0</th>\n",
       "    </tr>\n",
       "    <tr>\n",
       "      <th>BCN_future</th>\n",
       "      <th></th>\n",
       "      <th></th>\n",
       "    </tr>\n",
       "  </thead>\n",
       "  <tbody>\n",
       "    <tr>\n",
       "      <th>IT WILL IMPROVE</th>\n",
       "      <td>5906</td>\n",
       "      <td>645</td>\n",
       "    </tr>\n",
       "    <tr>\n",
       "      <th>IT WILL STAY THE SAME</th>\n",
       "      <td>2795</td>\n",
       "      <td>359</td>\n",
       "    </tr>\n",
       "    <tr>\n",
       "      <th>IT WILL WORSEN</th>\n",
       "      <td>2639</td>\n",
       "      <td>414</td>\n",
       "    </tr>\n",
       "  </tbody>\n",
       "</table>\n",
       "</div>"
      ],
      "text/plain": [
       "Would_live_in_another_neighborhood   0.0  1.0\n",
       "BCN_future                                   \n",
       "IT WILL IMPROVE                     5906  645\n",
       "IT WILL STAY THE SAME               2795  359\n",
       "IT WILL WORSEN                      2639  414"
      ]
     },
     "metadata": {},
     "output_type": "display_data"
    },
    {
     "data": {
      "text/html": [
       "<div>\n",
       "<style scoped>\n",
       "    .dataframe tbody tr th:only-of-type {\n",
       "        vertical-align: middle;\n",
       "    }\n",
       "\n",
       "    .dataframe tbody tr th {\n",
       "        vertical-align: top;\n",
       "    }\n",
       "\n",
       "    .dataframe thead th {\n",
       "        text-align: right;\n",
       "    }\n",
       "</style>\n",
       "<table border=\"1\" class=\"dataframe\">\n",
       "  <thead>\n",
       "    <tr style=\"text-align: right;\">\n",
       "      <th>Would_live_in_another_neighborhood</th>\n",
       "      <th>0.0</th>\n",
       "      <th>1.0</th>\n",
       "    </tr>\n",
       "    <tr>\n",
       "      <th>Barri_satisfaction</th>\n",
       "      <th></th>\n",
       "      <th></th>\n",
       "    </tr>\n",
       "  </thead>\n",
       "  <tbody>\n",
       "    <tr>\n",
       "      <th>FAIRLY SATISFIED</th>\n",
       "      <td>749</td>\n",
       "      <td>368</td>\n",
       "    </tr>\n",
       "    <tr>\n",
       "      <th>NOT SATISFIED</th>\n",
       "      <td>45</td>\n",
       "      <td>94</td>\n",
       "    </tr>\n",
       "    <tr>\n",
       "      <th>SATISFIED</th>\n",
       "      <td>10546</td>\n",
       "      <td>956</td>\n",
       "    </tr>\n",
       "  </tbody>\n",
       "</table>\n",
       "</div>"
      ],
      "text/plain": [
       "Would_live_in_another_neighborhood    0.0  1.0\n",
       "Barri_satisfaction                            \n",
       "FAIRLY SATISFIED                      749  368\n",
       "NOT SATISFIED                          45   94\n",
       "SATISFIED                           10546  956"
      ]
     },
     "metadata": {},
     "output_type": "display_data"
    },
    {
     "data": {
      "text/html": [
       "<div>\n",
       "<style scoped>\n",
       "    .dataframe tbody tr th:only-of-type {\n",
       "        vertical-align: middle;\n",
       "    }\n",
       "\n",
       "    .dataframe tbody tr th {\n",
       "        vertical-align: top;\n",
       "    }\n",
       "\n",
       "    .dataframe thead th {\n",
       "        text-align: right;\n",
       "    }\n",
       "</style>\n",
       "<table border=\"1\" class=\"dataframe\">\n",
       "  <thead>\n",
       "    <tr style=\"text-align: right;\">\n",
       "      <th>Would_live_in_another_neighborhood</th>\n",
       "      <th>0.0</th>\n",
       "      <th>1.0</th>\n",
       "    </tr>\n",
       "    <tr>\n",
       "      <th>BCN_satisfaction</th>\n",
       "      <th></th>\n",
       "      <th></th>\n",
       "    </tr>\n",
       "  </thead>\n",
       "  <tbody>\n",
       "    <tr>\n",
       "      <th>FAIRLY SATISFIED</th>\n",
       "      <td>1090</td>\n",
       "      <td>238</td>\n",
       "    </tr>\n",
       "    <tr>\n",
       "      <th>NOT SATISFIED</th>\n",
       "      <td>106</td>\n",
       "      <td>21</td>\n",
       "    </tr>\n",
       "    <tr>\n",
       "      <th>SATISFIED</th>\n",
       "      <td>10144</td>\n",
       "      <td>1159</td>\n",
       "    </tr>\n",
       "  </tbody>\n",
       "</table>\n",
       "</div>"
      ],
      "text/plain": [
       "Would_live_in_another_neighborhood    0.0   1.0\n",
       "BCN_satisfaction                               \n",
       "FAIRLY SATISFIED                     1090   238\n",
       "NOT SATISFIED                         106    21\n",
       "SATISFIED                           10144  1159"
      ]
     },
     "metadata": {},
     "output_type": "display_data"
    },
    {
     "data": {
      "text/html": [
       "<div>\n",
       "<style scoped>\n",
       "    .dataframe tbody tr th:only-of-type {\n",
       "        vertical-align: middle;\n",
       "    }\n",
       "\n",
       "    .dataframe tbody tr th {\n",
       "        vertical-align: top;\n",
       "    }\n",
       "\n",
       "    .dataframe thead th {\n",
       "        text-align: right;\n",
       "    }\n",
       "</style>\n",
       "<table border=\"1\" class=\"dataframe\">\n",
       "  <thead>\n",
       "    <tr style=\"text-align: right;\">\n",
       "      <th>Would_live_in_another_neighborhood</th>\n",
       "      <th>0.0</th>\n",
       "      <th>1.0</th>\n",
       "    </tr>\n",
       "    <tr>\n",
       "      <th>Barri_security</th>\n",
       "      <th></th>\n",
       "      <th></th>\n",
       "    </tr>\n",
       "  </thead>\n",
       "  <tbody>\n",
       "    <tr>\n",
       "      <th>BAD</th>\n",
       "      <td>1528</td>\n",
       "      <td>363</td>\n",
       "    </tr>\n",
       "    <tr>\n",
       "      <th>GOOD</th>\n",
       "      <td>4707</td>\n",
       "      <td>423</td>\n",
       "    </tr>\n",
       "    <tr>\n",
       "      <th>NEITHER BAD, NOR GOOD</th>\n",
       "      <td>5105</td>\n",
       "      <td>632</td>\n",
       "    </tr>\n",
       "  </tbody>\n",
       "</table>\n",
       "</div>"
      ],
      "text/plain": [
       "Would_live_in_another_neighborhood   0.0  1.0\n",
       "Barri_security                               \n",
       "BAD                                 1528  363\n",
       "GOOD                                4707  423\n",
       "NEITHER BAD, NOR GOOD               5105  632"
      ]
     },
     "metadata": {},
     "output_type": "display_data"
    },
    {
     "data": {
      "text/html": [
       "<div>\n",
       "<style scoped>\n",
       "    .dataframe tbody tr th:only-of-type {\n",
       "        vertical-align: middle;\n",
       "    }\n",
       "\n",
       "    .dataframe tbody tr th {\n",
       "        vertical-align: top;\n",
       "    }\n",
       "\n",
       "    .dataframe thead th {\n",
       "        text-align: right;\n",
       "    }\n",
       "</style>\n",
       "<table border=\"1\" class=\"dataframe\">\n",
       "  <thead>\n",
       "    <tr style=\"text-align: right;\">\n",
       "      <th>Would_live_in_another_neighborhood</th>\n",
       "      <th>0.0</th>\n",
       "      <th>1.0</th>\n",
       "    </tr>\n",
       "    <tr>\n",
       "      <th>BCN_security</th>\n",
       "      <th></th>\n",
       "      <th></th>\n",
       "    </tr>\n",
       "  </thead>\n",
       "  <tbody>\n",
       "    <tr>\n",
       "      <th>BAD</th>\n",
       "      <td>1766</td>\n",
       "      <td>293</td>\n",
       "    </tr>\n",
       "    <tr>\n",
       "      <th>GOOD</th>\n",
       "      <td>3171</td>\n",
       "      <td>320</td>\n",
       "    </tr>\n",
       "    <tr>\n",
       "      <th>NEITHER BAD, NOR GOOD</th>\n",
       "      <td>6403</td>\n",
       "      <td>805</td>\n",
       "    </tr>\n",
       "  </tbody>\n",
       "</table>\n",
       "</div>"
      ],
      "text/plain": [
       "Would_live_in_another_neighborhood   0.0  1.0\n",
       "BCN_security                                 \n",
       "BAD                                 1766  293\n",
       "GOOD                                3171  320\n",
       "NEITHER BAD, NOR GOOD               6403  805"
      ]
     },
     "metadata": {},
     "output_type": "display_data"
    },
    {
     "data": {
      "text/html": [
       "<div>\n",
       "<style scoped>\n",
       "    .dataframe tbody tr th:only-of-type {\n",
       "        vertical-align: middle;\n",
       "    }\n",
       "\n",
       "    .dataframe tbody tr th {\n",
       "        vertical-align: top;\n",
       "    }\n",
       "\n",
       "    .dataframe thead th {\n",
       "        text-align: right;\n",
       "    }\n",
       "</style>\n",
       "<table border=\"1\" class=\"dataframe\">\n",
       "  <thead>\n",
       "    <tr style=\"text-align: right;\">\n",
       "      <th>Would_live_in_another_neighborhood</th>\n",
       "      <th>0.0</th>\n",
       "      <th>1.0</th>\n",
       "    </tr>\n",
       "    <tr>\n",
       "      <th>Barri_management</th>\n",
       "      <th></th>\n",
       "      <th></th>\n",
       "    </tr>\n",
       "  </thead>\n",
       "  <tbody>\n",
       "    <tr>\n",
       "      <th>BAD</th>\n",
       "      <td>512</td>\n",
       "      <td>147</td>\n",
       "    </tr>\n",
       "    <tr>\n",
       "      <th>GOOD</th>\n",
       "      <td>5861</td>\n",
       "      <td>514</td>\n",
       "    </tr>\n",
       "    <tr>\n",
       "      <th>NEITHER BAD, NOR GOOD</th>\n",
       "      <td>4967</td>\n",
       "      <td>757</td>\n",
       "    </tr>\n",
       "  </tbody>\n",
       "</table>\n",
       "</div>"
      ],
      "text/plain": [
       "Would_live_in_another_neighborhood   0.0  1.0\n",
       "Barri_management                             \n",
       "BAD                                  512  147\n",
       "GOOD                                5861  514\n",
       "NEITHER BAD, NOR GOOD               4967  757"
      ]
     },
     "metadata": {},
     "output_type": "display_data"
    },
    {
     "data": {
      "text/html": [
       "<div>\n",
       "<style scoped>\n",
       "    .dataframe tbody tr th:only-of-type {\n",
       "        vertical-align: middle;\n",
       "    }\n",
       "\n",
       "    .dataframe tbody tr th {\n",
       "        vertical-align: top;\n",
       "    }\n",
       "\n",
       "    .dataframe thead th {\n",
       "        text-align: right;\n",
       "    }\n",
       "</style>\n",
       "<table border=\"1\" class=\"dataframe\">\n",
       "  <thead>\n",
       "    <tr style=\"text-align: right;\">\n",
       "      <th>Would_live_in_another_neighborhood</th>\n",
       "      <th>0.0</th>\n",
       "      <th>1.0</th>\n",
       "    </tr>\n",
       "    <tr>\n",
       "      <th>BCN_management</th>\n",
       "      <th></th>\n",
       "      <th></th>\n",
       "    </tr>\n",
       "  </thead>\n",
       "  <tbody>\n",
       "    <tr>\n",
       "      <th>BAD</th>\n",
       "      <td>972</td>\n",
       "      <td>162</td>\n",
       "    </tr>\n",
       "    <tr>\n",
       "      <th>GOOD</th>\n",
       "      <td>4918</td>\n",
       "      <td>486</td>\n",
       "    </tr>\n",
       "    <tr>\n",
       "      <th>NEITHER BAD, NOR GOOD</th>\n",
       "      <td>5450</td>\n",
       "      <td>770</td>\n",
       "    </tr>\n",
       "  </tbody>\n",
       "</table>\n",
       "</div>"
      ],
      "text/plain": [
       "Would_live_in_another_neighborhood   0.0  1.0\n",
       "BCN_management                               \n",
       "BAD                                  972  162\n",
       "GOOD                                4918  486\n",
       "NEITHER BAD, NOR GOOD               5450  770"
      ]
     },
     "metadata": {},
     "output_type": "display_data"
    },
    {
     "data": {
      "text/html": [
       "<div>\n",
       "<style scoped>\n",
       "    .dataframe tbody tr th:only-of-type {\n",
       "        vertical-align: middle;\n",
       "    }\n",
       "\n",
       "    .dataframe tbody tr th {\n",
       "        vertical-align: top;\n",
       "    }\n",
       "\n",
       "    .dataframe thead th {\n",
       "        text-align: right;\n",
       "    }\n",
       "</style>\n",
       "<table border=\"1\" class=\"dataframe\">\n",
       "  <thead>\n",
       "    <tr style=\"text-align: right;\">\n",
       "      <th>Would_live_in_another_neighborhood</th>\n",
       "      <th>0.0</th>\n",
       "      <th>1.0</th>\n",
       "    </tr>\n",
       "    <tr>\n",
       "      <th>Barri_comparison</th>\n",
       "      <th></th>\n",
       "      <th></th>\n",
       "    </tr>\n",
       "  </thead>\n",
       "  <tbody>\n",
       "    <tr>\n",
       "      <th>NEITHER THE BEST, NOR THE WORST</th>\n",
       "      <td>4250</td>\n",
       "      <td>868</td>\n",
       "    </tr>\n",
       "    <tr>\n",
       "      <th>ONE OF THE BEST</th>\n",
       "      <td>6852</td>\n",
       "      <td>317</td>\n",
       "    </tr>\n",
       "    <tr>\n",
       "      <th>ONE OF THE WORST</th>\n",
       "      <td>238</td>\n",
       "      <td>233</td>\n",
       "    </tr>\n",
       "  </tbody>\n",
       "</table>\n",
       "</div>"
      ],
      "text/plain": [
       "Would_live_in_another_neighborhood   0.0  1.0\n",
       "Barri_comparison                             \n",
       "NEITHER THE BEST, NOR THE WORST     4250  868\n",
       "ONE OF THE BEST                     6852  317\n",
       "ONE OF THE WORST                     238  233"
      ]
     },
     "metadata": {},
     "output_type": "display_data"
    },
    {
     "data": {
      "text/html": [
       "<div>\n",
       "<style scoped>\n",
       "    .dataframe tbody tr th:only-of-type {\n",
       "        vertical-align: middle;\n",
       "    }\n",
       "\n",
       "    .dataframe tbody tr th {\n",
       "        vertical-align: top;\n",
       "    }\n",
       "\n",
       "    .dataframe thead th {\n",
       "        text-align: right;\n",
       "    }\n",
       "</style>\n",
       "<table border=\"1\" class=\"dataframe\">\n",
       "  <thead>\n",
       "    <tr style=\"text-align: right;\">\n",
       "      <th>Would_live_in_another_neighborhood</th>\n",
       "      <th>0.0</th>\n",
       "      <th>1.0</th>\n",
       "    </tr>\n",
       "    <tr>\n",
       "      <th>Barri_transport</th>\n",
       "      <th></th>\n",
       "      <th></th>\n",
       "    </tr>\n",
       "  </thead>\n",
       "  <tbody>\n",
       "    <tr>\n",
       "      <th>BAD</th>\n",
       "      <td>1240</td>\n",
       "      <td>232</td>\n",
       "    </tr>\n",
       "    <tr>\n",
       "      <th>GOOD</th>\n",
       "      <td>9104</td>\n",
       "      <td>1016</td>\n",
       "    </tr>\n",
       "    <tr>\n",
       "      <th>NEITHER BAD, NOR GOOD</th>\n",
       "      <td>996</td>\n",
       "      <td>170</td>\n",
       "    </tr>\n",
       "  </tbody>\n",
       "</table>\n",
       "</div>"
      ],
      "text/plain": [
       "Would_live_in_another_neighborhood   0.0   1.0\n",
       "Barri_transport                               \n",
       "BAD                                 1240   232\n",
       "GOOD                                9104  1016\n",
       "NEITHER BAD, NOR GOOD                996   170"
      ]
     },
     "metadata": {},
     "output_type": "display_data"
    },
    {
     "data": {
      "text/html": [
       "<div>\n",
       "<style scoped>\n",
       "    .dataframe tbody tr th:only-of-type {\n",
       "        vertical-align: middle;\n",
       "    }\n",
       "\n",
       "    .dataframe tbody tr th {\n",
       "        vertical-align: top;\n",
       "    }\n",
       "\n",
       "    .dataframe thead th {\n",
       "        text-align: right;\n",
       "    }\n",
       "</style>\n",
       "<table border=\"1\" class=\"dataframe\">\n",
       "  <thead>\n",
       "    <tr style=\"text-align: right;\">\n",
       "      <th>Would_live_in_another_neighborhood</th>\n",
       "      <th>0.0</th>\n",
       "      <th>1.0</th>\n",
       "    </tr>\n",
       "    <tr>\n",
       "      <th>BCN_transport</th>\n",
       "      <th></th>\n",
       "      <th></th>\n",
       "    </tr>\n",
       "  </thead>\n",
       "  <tbody>\n",
       "    <tr>\n",
       "      <th>BAD</th>\n",
       "      <td>845</td>\n",
       "      <td>146</td>\n",
       "    </tr>\n",
       "    <tr>\n",
       "      <th>GOOD</th>\n",
       "      <td>9333</td>\n",
       "      <td>1109</td>\n",
       "    </tr>\n",
       "    <tr>\n",
       "      <th>NEITHER BAD, NOR GOOD</th>\n",
       "      <td>1162</td>\n",
       "      <td>163</td>\n",
       "    </tr>\n",
       "  </tbody>\n",
       "</table>\n",
       "</div>"
      ],
      "text/plain": [
       "Would_live_in_another_neighborhood   0.0   1.0\n",
       "BCN_transport                                 \n",
       "BAD                                  845   146\n",
       "GOOD                                9333  1109\n",
       "NEITHER BAD, NOR GOOD               1162   163"
      ]
     },
     "metadata": {},
     "output_type": "display_data"
    },
    {
     "data": {
      "text/html": [
       "<div>\n",
       "<style scoped>\n",
       "    .dataframe tbody tr th:only-of-type {\n",
       "        vertical-align: middle;\n",
       "    }\n",
       "\n",
       "    .dataframe tbody tr th {\n",
       "        vertical-align: top;\n",
       "    }\n",
       "\n",
       "    .dataframe thead th {\n",
       "        text-align: right;\n",
       "    }\n",
       "</style>\n",
       "<table border=\"1\" class=\"dataframe\">\n",
       "  <thead>\n",
       "    <tr style=\"text-align: right;\">\n",
       "      <th>Would_live_in_another_neighborhood</th>\n",
       "      <th>0.0</th>\n",
       "      <th>1.0</th>\n",
       "    </tr>\n",
       "    <tr>\n",
       "      <th>Barri_problem_with_security</th>\n",
       "      <th></th>\n",
       "      <th></th>\n",
       "    </tr>\n",
       "  </thead>\n",
       "  <tbody>\n",
       "    <tr>\n",
       "      <th>0</th>\n",
       "      <td>9650</td>\n",
       "      <td>1170</td>\n",
       "    </tr>\n",
       "    <tr>\n",
       "      <th>1</th>\n",
       "      <td>1690</td>\n",
       "      <td>248</td>\n",
       "    </tr>\n",
       "  </tbody>\n",
       "</table>\n",
       "</div>"
      ],
      "text/plain": [
       "Would_live_in_another_neighborhood   0.0   1.0\n",
       "Barri_problem_with_security                   \n",
       "0                                   9650  1170\n",
       "1                                   1690   248"
      ]
     },
     "metadata": {},
     "output_type": "display_data"
    },
    {
     "data": {
      "text/html": [
       "<div>\n",
       "<style scoped>\n",
       "    .dataframe tbody tr th:only-of-type {\n",
       "        vertical-align: middle;\n",
       "    }\n",
       "\n",
       "    .dataframe tbody tr th {\n",
       "        vertical-align: top;\n",
       "    }\n",
       "\n",
       "    .dataframe thead th {\n",
       "        text-align: right;\n",
       "    }\n",
       "</style>\n",
       "<table border=\"1\" class=\"dataframe\">\n",
       "  <thead>\n",
       "    <tr style=\"text-align: right;\">\n",
       "      <th>Would_live_in_another_neighborhood</th>\n",
       "      <th>0.0</th>\n",
       "      <th>1.0</th>\n",
       "    </tr>\n",
       "    <tr>\n",
       "      <th>Barri_problem_with_streets_cleaning</th>\n",
       "      <th></th>\n",
       "      <th></th>\n",
       "    </tr>\n",
       "  </thead>\n",
       "  <tbody>\n",
       "    <tr>\n",
       "      <th>0</th>\n",
       "      <td>10400</td>\n",
       "      <td>1317</td>\n",
       "    </tr>\n",
       "    <tr>\n",
       "      <th>1</th>\n",
       "      <td>940</td>\n",
       "      <td>101</td>\n",
       "    </tr>\n",
       "  </tbody>\n",
       "</table>\n",
       "</div>"
      ],
      "text/plain": [
       "Would_live_in_another_neighborhood     0.0   1.0\n",
       "Barri_problem_with_streets_cleaning             \n",
       "0                                    10400  1317\n",
       "1                                      940   101"
      ]
     },
     "metadata": {},
     "output_type": "display_data"
    },
    {
     "data": {
      "text/html": [
       "<div>\n",
       "<style scoped>\n",
       "    .dataframe tbody tr th:only-of-type {\n",
       "        vertical-align: middle;\n",
       "    }\n",
       "\n",
       "    .dataframe tbody tr th {\n",
       "        vertical-align: top;\n",
       "    }\n",
       "\n",
       "    .dataframe thead th {\n",
       "        text-align: right;\n",
       "    }\n",
       "</style>\n",
       "<table border=\"1\" class=\"dataframe\">\n",
       "  <thead>\n",
       "    <tr style=\"text-align: right;\">\n",
       "      <th>Would_live_in_another_neighborhood</th>\n",
       "      <th>0.0</th>\n",
       "      <th>1.0</th>\n",
       "    </tr>\n",
       "    <tr>\n",
       "      <th>Barri_problem_with_mobility</th>\n",
       "      <th></th>\n",
       "      <th></th>\n",
       "    </tr>\n",
       "  </thead>\n",
       "  <tbody>\n",
       "    <tr>\n",
       "      <th>0</th>\n",
       "      <td>10833</td>\n",
       "      <td>1361</td>\n",
       "    </tr>\n",
       "    <tr>\n",
       "      <th>1</th>\n",
       "      <td>507</td>\n",
       "      <td>57</td>\n",
       "    </tr>\n",
       "  </tbody>\n",
       "</table>\n",
       "</div>"
      ],
      "text/plain": [
       "Would_live_in_another_neighborhood    0.0   1.0\n",
       "Barri_problem_with_mobility                    \n",
       "0                                   10833  1361\n",
       "1                                     507    57"
      ]
     },
     "metadata": {},
     "output_type": "display_data"
    },
    {
     "data": {
      "text/html": [
       "<div>\n",
       "<style scoped>\n",
       "    .dataframe tbody tr th:only-of-type {\n",
       "        vertical-align: middle;\n",
       "    }\n",
       "\n",
       "    .dataframe tbody tr th {\n",
       "        vertical-align: top;\n",
       "    }\n",
       "\n",
       "    .dataframe thead th {\n",
       "        text-align: right;\n",
       "    }\n",
       "</style>\n",
       "<table border=\"1\" class=\"dataframe\">\n",
       "  <thead>\n",
       "    <tr style=\"text-align: right;\">\n",
       "      <th>Would_live_in_another_neighborhood</th>\n",
       "      <th>0.0</th>\n",
       "      <th>1.0</th>\n",
       "    </tr>\n",
       "    <tr>\n",
       "      <th>BCN_over_barri_evolution</th>\n",
       "      <th></th>\n",
       "      <th></th>\n",
       "    </tr>\n",
       "  </thead>\n",
       "  <tbody>\n",
       "    <tr>\n",
       "      <th>0</th>\n",
       "      <td>10282</td>\n",
       "      <td>1280</td>\n",
       "    </tr>\n",
       "    <tr>\n",
       "      <th>1</th>\n",
       "      <td>1058</td>\n",
       "      <td>138</td>\n",
       "    </tr>\n",
       "  </tbody>\n",
       "</table>\n",
       "</div>"
      ],
      "text/plain": [
       "Would_live_in_another_neighborhood    0.0   1.0\n",
       "BCN_over_barri_evolution                       \n",
       "0                                   10282  1280\n",
       "1                                    1058   138"
      ]
     },
     "metadata": {},
     "output_type": "display_data"
    },
    {
     "data": {
      "text/html": [
       "<div>\n",
       "<style scoped>\n",
       "    .dataframe tbody tr th:only-of-type {\n",
       "        vertical-align: middle;\n",
       "    }\n",
       "\n",
       "    .dataframe tbody tr th {\n",
       "        vertical-align: top;\n",
       "    }\n",
       "\n",
       "    .dataframe thead th {\n",
       "        text-align: right;\n",
       "    }\n",
       "</style>\n",
       "<table border=\"1\" class=\"dataframe\">\n",
       "  <thead>\n",
       "    <tr style=\"text-align: right;\">\n",
       "      <th>Would_live_in_another_neighborhood</th>\n",
       "      <th>0.0</th>\n",
       "      <th>1.0</th>\n",
       "    </tr>\n",
       "    <tr>\n",
       "      <th>BCN_over_barri_future</th>\n",
       "      <th></th>\n",
       "      <th></th>\n",
       "    </tr>\n",
       "  </thead>\n",
       "  <tbody>\n",
       "    <tr>\n",
       "      <th>0</th>\n",
       "      <td>9649</td>\n",
       "      <td>1141</td>\n",
       "    </tr>\n",
       "    <tr>\n",
       "      <th>1</th>\n",
       "      <td>1691</td>\n",
       "      <td>277</td>\n",
       "    </tr>\n",
       "  </tbody>\n",
       "</table>\n",
       "</div>"
      ],
      "text/plain": [
       "Would_live_in_another_neighborhood   0.0   1.0\n",
       "BCN_over_barri_future                         \n",
       "0                                   9649  1141\n",
       "1                                   1691   277"
      ]
     },
     "metadata": {},
     "output_type": "display_data"
    },
    {
     "data": {
      "text/html": [
       "<div>\n",
       "<style scoped>\n",
       "    .dataframe tbody tr th:only-of-type {\n",
       "        vertical-align: middle;\n",
       "    }\n",
       "\n",
       "    .dataframe tbody tr th {\n",
       "        vertical-align: top;\n",
       "    }\n",
       "\n",
       "    .dataframe thead th {\n",
       "        text-align: right;\n",
       "    }\n",
       "</style>\n",
       "<table border=\"1\" class=\"dataframe\">\n",
       "  <thead>\n",
       "    <tr style=\"text-align: right;\">\n",
       "      <th>Would_live_in_another_neighborhood</th>\n",
       "      <th>0.0</th>\n",
       "      <th>1.0</th>\n",
       "    </tr>\n",
       "    <tr>\n",
       "      <th>BCN_over_barri_satisfaction</th>\n",
       "      <th></th>\n",
       "      <th></th>\n",
       "    </tr>\n",
       "  </thead>\n",
       "  <tbody>\n",
       "    <tr>\n",
       "      <th>0</th>\n",
       "      <td>10835</td>\n",
       "      <td>1076</td>\n",
       "    </tr>\n",
       "    <tr>\n",
       "      <th>1</th>\n",
       "      <td>505</td>\n",
       "      <td>342</td>\n",
       "    </tr>\n",
       "  </tbody>\n",
       "</table>\n",
       "</div>"
      ],
      "text/plain": [
       "Would_live_in_another_neighborhood    0.0   1.0\n",
       "BCN_over_barri_satisfaction                    \n",
       "0                                   10835  1076\n",
       "1                                     505   342"
      ]
     },
     "metadata": {},
     "output_type": "display_data"
    },
    {
     "data": {
      "text/html": [
       "<div>\n",
       "<style scoped>\n",
       "    .dataframe tbody tr th:only-of-type {\n",
       "        vertical-align: middle;\n",
       "    }\n",
       "\n",
       "    .dataframe tbody tr th {\n",
       "        vertical-align: top;\n",
       "    }\n",
       "\n",
       "    .dataframe thead th {\n",
       "        text-align: right;\n",
       "    }\n",
       "</style>\n",
       "<table border=\"1\" class=\"dataframe\">\n",
       "  <thead>\n",
       "    <tr style=\"text-align: right;\">\n",
       "      <th>Would_live_in_another_neighborhood</th>\n",
       "      <th>0.0</th>\n",
       "      <th>1.0</th>\n",
       "    </tr>\n",
       "    <tr>\n",
       "      <th>BCN_over_barri_transport</th>\n",
       "      <th></th>\n",
       "      <th></th>\n",
       "    </tr>\n",
       "  </thead>\n",
       "  <tbody>\n",
       "    <tr>\n",
       "      <th>0</th>\n",
       "      <td>10616</td>\n",
       "      <td>1279</td>\n",
       "    </tr>\n",
       "    <tr>\n",
       "      <th>1</th>\n",
       "      <td>724</td>\n",
       "      <td>139</td>\n",
       "    </tr>\n",
       "  </tbody>\n",
       "</table>\n",
       "</div>"
      ],
      "text/plain": [
       "Would_live_in_another_neighborhood    0.0   1.0\n",
       "BCN_over_barri_transport                       \n",
       "0                                   10616  1279\n",
       "1                                     724   139"
      ]
     },
     "metadata": {},
     "output_type": "display_data"
    },
    {
     "data": {
      "text/html": [
       "<div>\n",
       "<style scoped>\n",
       "    .dataframe tbody tr th:only-of-type {\n",
       "        vertical-align: middle;\n",
       "    }\n",
       "\n",
       "    .dataframe tbody tr th {\n",
       "        vertical-align: top;\n",
       "    }\n",
       "\n",
       "    .dataframe thead th {\n",
       "        text-align: right;\n",
       "    }\n",
       "</style>\n",
       "<table border=\"1\" class=\"dataframe\">\n",
       "  <thead>\n",
       "    <tr style=\"text-align: right;\">\n",
       "      <th>Would_live_in_another_neighborhood</th>\n",
       "      <th>0.0</th>\n",
       "      <th>1.0</th>\n",
       "    </tr>\n",
       "    <tr>\n",
       "      <th>BCN_over_barri_management</th>\n",
       "      <th></th>\n",
       "      <th></th>\n",
       "    </tr>\n",
       "  </thead>\n",
       "  <tbody>\n",
       "    <tr>\n",
       "      <th>0</th>\n",
       "      <td>11076</td>\n",
       "      <td>1339</td>\n",
       "    </tr>\n",
       "    <tr>\n",
       "      <th>1</th>\n",
       "      <td>264</td>\n",
       "      <td>79</td>\n",
       "    </tr>\n",
       "  </tbody>\n",
       "</table>\n",
       "</div>"
      ],
      "text/plain": [
       "Would_live_in_another_neighborhood    0.0   1.0\n",
       "BCN_over_barri_management                      \n",
       "0                                   11076  1339\n",
       "1                                     264    79"
      ]
     },
     "metadata": {},
     "output_type": "display_data"
    },
    {
     "data": {
      "text/html": [
       "<div>\n",
       "<style scoped>\n",
       "    .dataframe tbody tr th:only-of-type {\n",
       "        vertical-align: middle;\n",
       "    }\n",
       "\n",
       "    .dataframe tbody tr th {\n",
       "        vertical-align: top;\n",
       "    }\n",
       "\n",
       "    .dataframe thead th {\n",
       "        text-align: right;\n",
       "    }\n",
       "</style>\n",
       "<table border=\"1\" class=\"dataframe\">\n",
       "  <thead>\n",
       "    <tr style=\"text-align: right;\">\n",
       "      <th>Would_live_in_another_neighborhood</th>\n",
       "      <th>0.0</th>\n",
       "      <th>1.0</th>\n",
       "    </tr>\n",
       "    <tr>\n",
       "      <th>BCN_over_barri_security</th>\n",
       "      <th></th>\n",
       "      <th></th>\n",
       "    </tr>\n",
       "  </thead>\n",
       "  <tbody>\n",
       "    <tr>\n",
       "      <th>0</th>\n",
       "      <td>10881</td>\n",
       "      <td>1276</td>\n",
       "    </tr>\n",
       "    <tr>\n",
       "      <th>1</th>\n",
       "      <td>459</td>\n",
       "      <td>142</td>\n",
       "    </tr>\n",
       "  </tbody>\n",
       "</table>\n",
       "</div>"
      ],
      "text/plain": [
       "Would_live_in_another_neighborhood    0.0   1.0\n",
       "BCN_over_barri_security                        \n",
       "0                                   10881  1276\n",
       "1                                     459   142"
      ]
     },
     "metadata": {},
     "output_type": "display_data"
    }
   ],
   "source": [
    "for i in data.columns.tolist():\n",
    "    display(pd.crosstab(data[i], data.Would_live_in_another_neighborhood))"
   ]
  },
  {
   "cell_type": "code",
   "execution_count": 9,
   "metadata": {},
   "outputs": [
    {
     "data": {
      "text/plain": [
       "['Would_live_in_another_neighborhood',\n",
       " 'District',\n",
       " 'Woman',\n",
       " 'Car',\n",
       " 'House_size',\n",
       " 'Living_alone',\n",
       " 'No_of_people_in_the_house',\n",
       " 'Time_living_in_barri',\n",
       " 'Barri_evolution',\n",
       " 'BCN_evolution',\n",
       " 'Barri_future',\n",
       " 'BCN_future',\n",
       " 'Barri_satisfaction',\n",
       " 'BCN_satisfaction',\n",
       " 'Barri_security',\n",
       " 'BCN_security',\n",
       " 'Barri_management',\n",
       " 'BCN_management',\n",
       " 'Barri_comparison',\n",
       " 'Barri_transport',\n",
       " 'BCN_transport',\n",
       " 'Barri_problem_with_security',\n",
       " 'Barri_problem_with_streets_cleaning',\n",
       " 'Barri_problem_with_mobility',\n",
       " 'BCN_over_barri_evolution',\n",
       " 'BCN_over_barri_future',\n",
       " 'BCN_over_barri_satisfaction',\n",
       " 'BCN_over_barri_transport',\n",
       " 'BCN_over_barri_management',\n",
       " 'BCN_over_barri_security']"
      ]
     },
     "execution_count": 9,
     "metadata": {},
     "output_type": "execute_result"
    }
   ],
   "source": [
    "data.columns.tolist()"
   ]
  },
  {
   "cell_type": "code",
   "execution_count": null,
   "metadata": {},
   "outputs": [],
   "source": []
  },
  {
   "cell_type": "code",
   "execution_count": 10,
   "metadata": {},
   "outputs": [],
   "source": [
    "x_var = [#'District',\n",
    " 'Woman',\n",
    " 'Car',\n",
    " 'House_size',\n",
    " #'Living_alone',\n",
    " 'No_of_people_in_the_house',\n",
    " 'Time_living_in_barri',\n",
    " #'Barri_evolution',\n",
    " #'BCN_evolution',\n",
    " #'Barri_future',\n",
    " #'BCN_future',\n",
    " 'Barri_satisfaction',\n",
    " #'BCN_satisfaction',\n",
    " 'Barri_security',\n",
    " #'BCN_security',\n",
    " 'Barri_management',\n",
    " #'BCN_management',\n",
    " 'Barri_comparison',\n",
    " 'Barri_transport']\n",
    " #'BCN_transport',\n",
    " #'Barri_problem_with_security',\n",
    " #'Barri_problem_with_streets_cleaning',\n",
    " #'Barri_problem_with_mobility']\n",
    " #'BCN_over_barri_evolution',\n",
    " #'BCN_over_barri_future',\n",
    " #'BCN_over_barri_satisfaction',\n",
    " #'BCN_over_barri_transport',\n",
    " #'BCN_over_barri_management',\n",
    " #'BCN_over_barri_security'"
   ]
  },
  {
   "cell_type": "code",
   "execution_count": null,
   "metadata": {},
   "outputs": [],
   "source": []
  },
  {
   "cell_type": "code",
   "execution_count": 11,
   "metadata": {},
   "outputs": [],
   "source": [
    "y = data['Would_live_in_another_neighborhood']"
   ]
  },
  {
   "cell_type": "code",
   "execution_count": null,
   "metadata": {},
   "outputs": [],
   "source": []
  },
  {
   "cell_type": "code",
   "execution_count": 12,
   "metadata": {},
   "outputs": [],
   "source": [
    "x = pd.get_dummies(data[x_var])"
   ]
  },
  {
   "cell_type": "code",
   "execution_count": 13,
   "metadata": {},
   "outputs": [
    {
     "data": {
      "text/plain": [
       "['Woman',\n",
       " 'Car',\n",
       " 'House_size_101-150 M2',\n",
       " 'House_size_51-100 M2',\n",
       " 'House_size_< 50 M2',\n",
       " 'House_size_> 150 M2',\n",
       " \"House_size_I DON'T KNOW\",\n",
       " 'No_of_people_in_the_house_FOUR OR MORE',\n",
       " 'No_of_people_in_the_house_ONE',\n",
       " 'No_of_people_in_the_house_THREE',\n",
       " 'No_of_people_in_the_house_TWO',\n",
       " 'Time_living_in_barri_I HAVE ALWAYS LIVED IN THE NEIGHBORHOOD',\n",
       " 'Time_living_in_barri_LESS THAN 10 YEARS',\n",
       " 'Time_living_in_barri_MORE THAN 10 YEARS',\n",
       " 'Barri_satisfaction_FAIRLY SATISFIED',\n",
       " 'Barri_satisfaction_NOT SATISFIED',\n",
       " 'Barri_satisfaction_SATISFIED',\n",
       " 'Barri_security_BAD',\n",
       " 'Barri_security_GOOD',\n",
       " 'Barri_security_NEITHER BAD, NOR GOOD',\n",
       " 'Barri_management_BAD',\n",
       " 'Barri_management_GOOD',\n",
       " 'Barri_management_NEITHER BAD, NOR GOOD',\n",
       " 'Barri_comparison_NEITHER THE BEST, NOR THE WORST',\n",
       " 'Barri_comparison_ONE OF THE BEST',\n",
       " 'Barri_comparison_ONE OF THE WORST',\n",
       " 'Barri_transport_BAD',\n",
       " 'Barri_transport_GOOD',\n",
       " 'Barri_transport_NEITHER BAD, NOR GOOD']"
      ]
     },
     "execution_count": 13,
     "metadata": {},
     "output_type": "execute_result"
    }
   ],
   "source": [
    "x.columns.tolist()"
   ]
  },
  {
   "cell_type": "code",
   "execution_count": 14,
   "metadata": {},
   "outputs": [],
   "source": [
    "for i in ['House_size_< 50 M2',\n",
    " \n",
    " 'No_of_people_in_the_house_ONE',\n",
    " \n",
    " 'Time_living_in_barri_LESS THAN 10 YEARS',\n",
    " \n",
    " 'Barri_satisfaction_SATISFIED',\n",
    " \n",
    " 'Barri_security_GOOD',\n",
    " \n",
    " 'Barri_management_GOOD',\n",
    " \n",
    " 'Barri_comparison_ONE OF THE BEST',\n",
    " \n",
    " 'Barri_transport_GOOD']:\n",
    "    del x[i]"
   ]
  },
  {
   "cell_type": "code",
   "execution_count": 15,
   "metadata": {},
   "outputs": [],
   "source": [
    "x = sm.add_constant(x)"
   ]
  },
  {
   "cell_type": "code",
   "execution_count": null,
   "metadata": {},
   "outputs": [],
   "source": []
  },
  {
   "cell_type": "markdown",
   "metadata": {},
   "source": [
    "# Logit"
   ]
  },
  {
   "cell_type": "code",
   "execution_count": 21,
   "metadata": {},
   "outputs": [
    {
     "data": {
      "text/html": [
       "<table class=\"simpletable\">\n",
       "<caption>Generalized Linear Model Regression Results</caption>\n",
       "<tr>\n",
       "  <th>Dep. Variable:</th>   <td>Would_live_in_another_neighborhood</td> <th>  No. Observations:  </th>  <td> 12758</td> \n",
       "</tr>\n",
       "<tr>\n",
       "  <th>Model:</th>                           <td>GLM</td>                <th>  Df Residuals:      </th>  <td> 12736</td> \n",
       "</tr>\n",
       "<tr>\n",
       "  <th>Model Family:</th>                 <td>Binomial</td>              <th>  Df Model:          </th>  <td>    21</td> \n",
       "</tr>\n",
       "<tr>\n",
       "  <th>Link Function:</th>                  <td>logit</td>               <th>  Scale:             </th> <td>  1.0000</td>\n",
       "</tr>\n",
       "<tr>\n",
       "  <th>Method:</th>                         <td>IRLS</td>                <th>  Log-Likelihood:    </th> <td> -3726.9</td>\n",
       "</tr>\n",
       "<tr>\n",
       "  <th>Date:</th>                     <td>Sun, 09 May 2021</td>          <th>  Deviance:          </th> <td>  7453.9</td>\n",
       "</tr>\n",
       "<tr>\n",
       "  <th>Time:</th>                         <td>16:54:09</td>              <th>  Pearson chi2:      </th> <td>1.29e+04</td>\n",
       "</tr>\n",
       "<tr>\n",
       "  <th>No. Iterations:</th>                   <td>6</td>                 <th>                     </th>     <td> </td>   \n",
       "</tr>\n",
       "<tr>\n",
       "  <th>Covariance Type:</th>              <td>nonrobust</td>             <th>                     </th>     <td> </td>   \n",
       "</tr>\n",
       "</table>\n",
       "<table class=\"simpletable\">\n",
       "<tr>\n",
       "                                <td></td>                                  <th>coef</th>     <th>std err</th>      <th>z</th>      <th>P>|z|</th>  <th>[0.025</th>    <th>0.975]</th>  \n",
       "</tr>\n",
       "<tr>\n",
       "  <th>const</th>                                                        <td>   -2.3843</td> <td>    0.159</td> <td>  -14.961</td> <td> 0.000</td> <td>   -2.697</td> <td>   -2.072</td>\n",
       "</tr>\n",
       "<tr>\n",
       "  <th>Woman</th>                                                        <td>    0.0662</td> <td>    0.066</td> <td>    1.007</td> <td> 0.314</td> <td>   -0.063</td> <td>    0.195</td>\n",
       "</tr>\n",
       "<tr>\n",
       "  <th>Car</th>                                                          <td>    0.1505</td> <td>    0.069</td> <td>    2.186</td> <td> 0.029</td> <td>    0.016</td> <td>    0.285</td>\n",
       "</tr>\n",
       "<tr>\n",
       "  <th>House_size_101-150 M2</th>                                        <td>   -0.1697</td> <td>    0.153</td> <td>   -1.111</td> <td> 0.267</td> <td>   -0.469</td> <td>    0.130</td>\n",
       "</tr>\n",
       "<tr>\n",
       "  <th>House_size_51-100 M2</th>                                         <td>    0.0247</td> <td>    0.116</td> <td>    0.213</td> <td> 0.831</td> <td>   -0.202</td> <td>    0.252</td>\n",
       "</tr>\n",
       "<tr>\n",
       "  <th>House_size_> 150 M2</th>                                          <td>   -0.1562</td> <td>    0.210</td> <td>   -0.744</td> <td> 0.457</td> <td>   -0.568</td> <td>    0.256</td>\n",
       "</tr>\n",
       "<tr>\n",
       "  <th>House_size_I DON'T KNOW</th>                                      <td>   -0.3220</td> <td>    0.168</td> <td>   -1.921</td> <td> 0.055</td> <td>   -0.651</td> <td>    0.007</td>\n",
       "</tr>\n",
       "<tr>\n",
       "  <th>No_of_people_in_the_house_FOUR OR MORE</th>                       <td>   -0.3790</td> <td>    0.163</td> <td>   -2.327</td> <td> 0.020</td> <td>   -0.698</td> <td>   -0.060</td>\n",
       "</tr>\n",
       "<tr>\n",
       "  <th>No_of_people_in_the_house_THREE</th>                              <td>   -0.1699</td> <td>    0.114</td> <td>   -1.490</td> <td> 0.136</td> <td>   -0.393</td> <td>    0.054</td>\n",
       "</tr>\n",
       "<tr>\n",
       "  <th>No_of_people_in_the_house_TWO</th>                                <td>   -0.0235</td> <td>    0.076</td> <td>   -0.309</td> <td> 0.758</td> <td>   -0.173</td> <td>    0.126</td>\n",
       "</tr>\n",
       "<tr>\n",
       "  <th>Time_living_in_barri_I HAVE ALWAYS LIVED IN THE NEIGHBORHOOD</th> <td>   -1.3938</td> <td>    0.141</td> <td>   -9.912</td> <td> 0.000</td> <td>   -1.669</td> <td>   -1.118</td>\n",
       "</tr>\n",
       "<tr>\n",
       "  <th>Time_living_in_barri_MORE THAN 10 YEARS</th>                      <td>   -0.9251</td> <td>    0.106</td> <td>   -8.758</td> <td> 0.000</td> <td>   -1.132</td> <td>   -0.718</td>\n",
       "</tr>\n",
       "<tr>\n",
       "  <th>Barri_satisfaction_FAIRLY SATISFIED</th>                          <td>    1.1137</td> <td>    0.081</td> <td>   13.677</td> <td> 0.000</td> <td>    0.954</td> <td>    1.273</td>\n",
       "</tr>\n",
       "<tr>\n",
       "  <th>Barri_satisfaction_NOT SATISFIED</th>                             <td>    2.1175</td> <td>    0.208</td> <td>   10.181</td> <td> 0.000</td> <td>    1.710</td> <td>    2.525</td>\n",
       "</tr>\n",
       "<tr>\n",
       "  <th>Barri_security_BAD</th>                                           <td>    0.1791</td> <td>    0.092</td> <td>    1.938</td> <td> 0.053</td> <td>   -0.002</td> <td>    0.360</td>\n",
       "</tr>\n",
       "<tr>\n",
       "  <th>Barri_security_NEITHER BAD, NOR GOOD</th>                         <td>   -0.0502</td> <td>    0.072</td> <td>   -0.693</td> <td> 0.489</td> <td>   -0.192</td> <td>    0.092</td>\n",
       "</tr>\n",
       "<tr>\n",
       "  <th>Barri_management_BAD</th>                                         <td>    0.1200</td> <td>    0.130</td> <td>    0.924</td> <td> 0.356</td> <td>   -0.135</td> <td>    0.375</td>\n",
       "</tr>\n",
       "<tr>\n",
       "  <th>Barri_management_NEITHER BAD, NOR GOOD</th>                       <td>    0.0998</td> <td>    0.068</td> <td>    1.469</td> <td> 0.142</td> <td>   -0.033</td> <td>    0.233</td>\n",
       "</tr>\n",
       "<tr>\n",
       "  <th>Barri_comparison_NEITHER THE BEST, NOR THE WORST</th>             <td>    1.3151</td> <td>    0.071</td> <td>   18.405</td> <td> 0.000</td> <td>    1.175</td> <td>    1.455</td>\n",
       "</tr>\n",
       "<tr>\n",
       "  <th>Barri_comparison_ONE OF THE WORST</th>                            <td>    2.3305</td> <td>    0.123</td> <td>   18.900</td> <td> 0.000</td> <td>    2.089</td> <td>    2.572</td>\n",
       "</tr>\n",
       "<tr>\n",
       "  <th>Barri_transport_BAD</th>                                          <td>    0.2239</td> <td>    0.089</td> <td>    2.504</td> <td> 0.012</td> <td>    0.049</td> <td>    0.399</td>\n",
       "</tr>\n",
       "<tr>\n",
       "  <th>Barri_transport_NEITHER BAD, NOR GOOD</th>                        <td>    0.1491</td> <td>    0.099</td> <td>    1.500</td> <td> 0.134</td> <td>   -0.046</td> <td>    0.344</td>\n",
       "</tr>\n",
       "</table>"
      ],
      "text/plain": [
       "<class 'statsmodels.iolib.summary.Summary'>\n",
       "\"\"\"\n",
       "                         Generalized Linear Model Regression Results                          \n",
       "==============================================================================================\n",
       "Dep. Variable:     Would_live_in_another_neighborhood   No. Observations:                12758\n",
       "Model:                                            GLM   Df Residuals:                    12736\n",
       "Model Family:                                Binomial   Df Model:                           21\n",
       "Link Function:                                  logit   Scale:                          1.0000\n",
       "Method:                                          IRLS   Log-Likelihood:                -3726.9\n",
       "Date:                                Sun, 09 May 2021   Deviance:                       7453.9\n",
       "Time:                                        16:54:09   Pearson chi2:                 1.29e+04\n",
       "No. Iterations:                                     6                                         \n",
       "Covariance Type:                            nonrobust                                         \n",
       "================================================================================================================================\n",
       "                                                                   coef    std err          z      P>|z|      [0.025      0.975]\n",
       "--------------------------------------------------------------------------------------------------------------------------------\n",
       "const                                                           -2.3843      0.159    -14.961      0.000      -2.697      -2.072\n",
       "Woman                                                            0.0662      0.066      1.007      0.314      -0.063       0.195\n",
       "Car                                                              0.1505      0.069      2.186      0.029       0.016       0.285\n",
       "House_size_101-150 M2                                           -0.1697      0.153     -1.111      0.267      -0.469       0.130\n",
       "House_size_51-100 M2                                             0.0247      0.116      0.213      0.831      -0.202       0.252\n",
       "House_size_> 150 M2                                             -0.1562      0.210     -0.744      0.457      -0.568       0.256\n",
       "House_size_I DON'T KNOW                                         -0.3220      0.168     -1.921      0.055      -0.651       0.007\n",
       "No_of_people_in_the_house_FOUR OR MORE                          -0.3790      0.163     -2.327      0.020      -0.698      -0.060\n",
       "No_of_people_in_the_house_THREE                                 -0.1699      0.114     -1.490      0.136      -0.393       0.054\n",
       "No_of_people_in_the_house_TWO                                   -0.0235      0.076     -0.309      0.758      -0.173       0.126\n",
       "Time_living_in_barri_I HAVE ALWAYS LIVED IN THE NEIGHBORHOOD    -1.3938      0.141     -9.912      0.000      -1.669      -1.118\n",
       "Time_living_in_barri_MORE THAN 10 YEARS                         -0.9251      0.106     -8.758      0.000      -1.132      -0.718\n",
       "Barri_satisfaction_FAIRLY SATISFIED                              1.1137      0.081     13.677      0.000       0.954       1.273\n",
       "Barri_satisfaction_NOT SATISFIED                                 2.1175      0.208     10.181      0.000       1.710       2.525\n",
       "Barri_security_BAD                                               0.1791      0.092      1.938      0.053      -0.002       0.360\n",
       "Barri_security_NEITHER BAD, NOR GOOD                            -0.0502      0.072     -0.693      0.489      -0.192       0.092\n",
       "Barri_management_BAD                                             0.1200      0.130      0.924      0.356      -0.135       0.375\n",
       "Barri_management_NEITHER BAD, NOR GOOD                           0.0998      0.068      1.469      0.142      -0.033       0.233\n",
       "Barri_comparison_NEITHER THE BEST, NOR THE WORST                 1.3151      0.071     18.405      0.000       1.175       1.455\n",
       "Barri_comparison_ONE OF THE WORST                                2.3305      0.123     18.900      0.000       2.089       2.572\n",
       "Barri_transport_BAD                                              0.2239      0.089      2.504      0.012       0.049       0.399\n",
       "Barri_transport_NEITHER BAD, NOR GOOD                            0.1491      0.099      1.500      0.134      -0.046       0.344\n",
       "================================================================================================================================\n",
       "\"\"\""
      ]
     },
     "execution_count": 21,
     "metadata": {},
     "output_type": "execute_result"
    }
   ],
   "source": [
    "glm_logit = sm.GLM(y, x, family=sm.families.Binomial())\n",
    "glm_logit_results = glm_logit.fit()\n",
    "glm_logit_results.summary()"
   ]
  },
  {
   "cell_type": "code",
   "execution_count": 22,
   "metadata": {},
   "outputs": [
    {
     "data": {
      "text/plain": [
       "7497.865471573759"
      ]
     },
     "execution_count": 22,
     "metadata": {},
     "output_type": "execute_result"
    }
   ],
   "source": [
    "glm_logit_results.aic"
   ]
  },
  {
   "cell_type": "code",
   "execution_count": 23,
   "metadata": {},
   "outputs": [
    {
     "data": {
      "text/plain": [
       "-112951.18074638324"
      ]
     },
     "execution_count": 23,
     "metadata": {},
     "output_type": "execute_result"
    }
   ],
   "source": [
    "glm_logit_results.bic"
   ]
  },
  {
   "cell_type": "code",
   "execution_count": 24,
   "metadata": {},
   "outputs": [
    {
     "data": {
      "text/plain": [
       "House_size_51-100 M2                                            8.311418e-01\n",
       "No_of_people_in_the_house_TWO                                   7.575827e-01\n",
       "Barri_security_NEITHER BAD, NOR GOOD                            4.885630e-01\n",
       "House_size_> 150 M2                                             4.571024e-01\n",
       "Barri_management_BAD                                            3.556547e-01\n",
       "Woman                                                           3.139619e-01\n",
       "House_size_101-150 M2                                           2.665136e-01\n",
       "Barri_management_NEITHER BAD, NOR GOOD                          1.418573e-01\n",
       "No_of_people_in_the_house_THREE                                 1.363464e-01\n",
       "Barri_transport_NEITHER BAD, NOR GOOD                           1.336606e-01\n",
       "House_size_I DON'T KNOW                                         5.477803e-02\n",
       "Barri_security_BAD                                              5.260029e-02\n",
       "Car                                                             2.883969e-02\n",
       "No_of_people_in_the_house_FOUR OR MORE                          1.995956e-02\n",
       "Barri_transport_BAD                                             1.226725e-02\n",
       "Time_living_in_barri_MORE THAN 10 YEARS                         1.988533e-18\n",
       "Time_living_in_barri_I HAVE ALWAYS LIVED IN THE NEIGHBORHOOD    3.695641e-23\n",
       "Barri_satisfaction_NOT SATISFIED                                2.402559e-24\n",
       "Barri_satisfaction_FAIRLY SATISFIED                             1.400763e-42\n",
       "const                                                           1.323383e-50\n",
       "Barri_comparison_NEITHER THE BEST, NOR THE WORST                1.188385e-75\n",
       "Barri_comparison_ONE OF THE WORST                               1.150238e-79\n",
       "dtype: float64"
      ]
     },
     "execution_count": 24,
     "metadata": {},
     "output_type": "execute_result"
    }
   ],
   "source": [
    "glm_logit_results.pvalues.sort_values(ascending=False)"
   ]
  },
  {
   "cell_type": "code",
   "execution_count": null,
   "metadata": {},
   "outputs": [],
   "source": []
  },
  {
   "cell_type": "code",
   "execution_count": 25,
   "metadata": {},
   "outputs": [],
   "source": [
    "for i in ['House_size_> 150 M2', 'House_size_101-150 M2', 'House_size_51-100 M2', \"House_size_I DON'T KNOW\"]:\n",
    "    del x[i]"
   ]
  },
  {
   "cell_type": "code",
   "execution_count": 26,
   "metadata": {},
   "outputs": [
    {
     "data": {
      "text/html": [
       "<table class=\"simpletable\">\n",
       "<caption>Generalized Linear Model Regression Results</caption>\n",
       "<tr>\n",
       "  <th>Dep. Variable:</th>   <td>Would_live_in_another_neighborhood</td> <th>  No. Observations:  </th>  <td> 12758</td> \n",
       "</tr>\n",
       "<tr>\n",
       "  <th>Model:</th>                           <td>GLM</td>                <th>  Df Residuals:      </th>  <td> 12740</td> \n",
       "</tr>\n",
       "<tr>\n",
       "  <th>Model Family:</th>                 <td>Binomial</td>              <th>  Df Model:          </th>  <td>    17</td> \n",
       "</tr>\n",
       "<tr>\n",
       "  <th>Link Function:</th>                  <td>logit</td>               <th>  Scale:             </th> <td>  1.0000</td>\n",
       "</tr>\n",
       "<tr>\n",
       "  <th>Method:</th>                         <td>IRLS</td>                <th>  Log-Likelihood:    </th> <td> -3732.1</td>\n",
       "</tr>\n",
       "<tr>\n",
       "  <th>Date:</th>                     <td>Sun, 09 May 2021</td>          <th>  Deviance:          </th> <td>  7464.2</td>\n",
       "</tr>\n",
       "<tr>\n",
       "  <th>Time:</th>                         <td>16:54:09</td>              <th>  Pearson chi2:      </th> <td>1.29e+04</td>\n",
       "</tr>\n",
       "<tr>\n",
       "  <th>No. Iterations:</th>                   <td>6</td>                 <th>                     </th>     <td> </td>   \n",
       "</tr>\n",
       "<tr>\n",
       "  <th>Covariance Type:</th>              <td>nonrobust</td>             <th>                     </th>     <td> </td>   \n",
       "</tr>\n",
       "</table>\n",
       "<table class=\"simpletable\">\n",
       "<tr>\n",
       "                                <td></td>                                  <th>coef</th>     <th>std err</th>      <th>z</th>      <th>P>|z|</th>  <th>[0.025</th>    <th>0.975]</th>  \n",
       "</tr>\n",
       "<tr>\n",
       "  <th>const</th>                                                        <td>   -2.4173</td> <td>    0.131</td> <td>  -18.428</td> <td> 0.000</td> <td>   -2.674</td> <td>   -2.160</td>\n",
       "</tr>\n",
       "<tr>\n",
       "  <th>Woman</th>                                                        <td>    0.0501</td> <td>    0.065</td> <td>    0.765</td> <td> 0.444</td> <td>   -0.078</td> <td>    0.178</td>\n",
       "</tr>\n",
       "<tr>\n",
       "  <th>Car</th>                                                          <td>    0.1483</td> <td>    0.068</td> <td>    2.176</td> <td> 0.030</td> <td>    0.015</td> <td>    0.282</td>\n",
       "</tr>\n",
       "<tr>\n",
       "  <th>No_of_people_in_the_house_FOUR OR MORE</th>                       <td>   -0.4079</td> <td>    0.162</td> <td>   -2.514</td> <td> 0.012</td> <td>   -0.726</td> <td>   -0.090</td>\n",
       "</tr>\n",
       "<tr>\n",
       "  <th>No_of_people_in_the_house_THREE</th>                              <td>   -0.1803</td> <td>    0.114</td> <td>   -1.586</td> <td> 0.113</td> <td>   -0.403</td> <td>    0.043</td>\n",
       "</tr>\n",
       "<tr>\n",
       "  <th>No_of_people_in_the_house_TWO</th>                                <td>   -0.0250</td> <td>    0.076</td> <td>   -0.331</td> <td> 0.741</td> <td>   -0.173</td> <td>    0.123</td>\n",
       "</tr>\n",
       "<tr>\n",
       "  <th>Time_living_in_barri_I HAVE ALWAYS LIVED IN THE NEIGHBORHOOD</th> <td>   -1.3892</td> <td>    0.140</td> <td>   -9.899</td> <td> 0.000</td> <td>   -1.664</td> <td>   -1.114</td>\n",
       "</tr>\n",
       "<tr>\n",
       "  <th>Time_living_in_barri_MORE THAN 10 YEARS</th>                      <td>   -0.9137</td> <td>    0.105</td> <td>   -8.693</td> <td> 0.000</td> <td>   -1.120</td> <td>   -0.708</td>\n",
       "</tr>\n",
       "<tr>\n",
       "  <th>Barri_satisfaction_FAIRLY SATISFIED</th>                          <td>    1.1158</td> <td>    0.081</td> <td>   13.726</td> <td> 0.000</td> <td>    0.956</td> <td>    1.275</td>\n",
       "</tr>\n",
       "<tr>\n",
       "  <th>Barri_satisfaction_NOT SATISFIED</th>                             <td>    2.1111</td> <td>    0.208</td> <td>   10.150</td> <td> 0.000</td> <td>    1.703</td> <td>    2.519</td>\n",
       "</tr>\n",
       "<tr>\n",
       "  <th>Barri_security_BAD</th>                                           <td>    0.1932</td> <td>    0.092</td> <td>    2.096</td> <td> 0.036</td> <td>    0.012</td> <td>    0.374</td>\n",
       "</tr>\n",
       "<tr>\n",
       "  <th>Barri_security_NEITHER BAD, NOR GOOD</th>                         <td>   -0.0422</td> <td>    0.072</td> <td>   -0.583</td> <td> 0.560</td> <td>   -0.184</td> <td>    0.100</td>\n",
       "</tr>\n",
       "<tr>\n",
       "  <th>Barri_management_BAD</th>                                         <td>    0.1094</td> <td>    0.130</td> <td>    0.844</td> <td> 0.399</td> <td>   -0.145</td> <td>    0.364</td>\n",
       "</tr>\n",
       "<tr>\n",
       "  <th>Barri_management_NEITHER BAD, NOR GOOD</th>                       <td>    0.0979</td> <td>    0.068</td> <td>    1.443</td> <td> 0.149</td> <td>   -0.035</td> <td>    0.231</td>\n",
       "</tr>\n",
       "<tr>\n",
       "  <th>Barri_comparison_NEITHER THE BEST, NOR THE WORST</th>             <td>    1.3274</td> <td>    0.071</td> <td>   18.668</td> <td> 0.000</td> <td>    1.188</td> <td>    1.467</td>\n",
       "</tr>\n",
       "<tr>\n",
       "  <th>Barri_comparison_ONE OF THE WORST</th>                            <td>    2.3503</td> <td>    0.123</td> <td>   19.125</td> <td> 0.000</td> <td>    2.109</td> <td>    2.591</td>\n",
       "</tr>\n",
       "<tr>\n",
       "  <th>Barri_transport_BAD</th>                                          <td>    0.2222</td> <td>    0.089</td> <td>    2.489</td> <td> 0.013</td> <td>    0.047</td> <td>    0.397</td>\n",
       "</tr>\n",
       "<tr>\n",
       "  <th>Barri_transport_NEITHER BAD, NOR GOOD</th>                        <td>    0.1466</td> <td>    0.099</td> <td>    1.476</td> <td> 0.140</td> <td>   -0.048</td> <td>    0.341</td>\n",
       "</tr>\n",
       "</table>"
      ],
      "text/plain": [
       "<class 'statsmodels.iolib.summary.Summary'>\n",
       "\"\"\"\n",
       "                         Generalized Linear Model Regression Results                          \n",
       "==============================================================================================\n",
       "Dep. Variable:     Would_live_in_another_neighborhood   No. Observations:                12758\n",
       "Model:                                            GLM   Df Residuals:                    12740\n",
       "Model Family:                                Binomial   Df Model:                           17\n",
       "Link Function:                                  logit   Scale:                          1.0000\n",
       "Method:                                          IRLS   Log-Likelihood:                -3732.1\n",
       "Date:                                Sun, 09 May 2021   Deviance:                       7464.2\n",
       "Time:                                        16:54:09   Pearson chi2:                 1.29e+04\n",
       "No. Iterations:                                     6                                         \n",
       "Covariance Type:                            nonrobust                                         \n",
       "================================================================================================================================\n",
       "                                                                   coef    std err          z      P>|z|      [0.025      0.975]\n",
       "--------------------------------------------------------------------------------------------------------------------------------\n",
       "const                                                           -2.4173      0.131    -18.428      0.000      -2.674      -2.160\n",
       "Woman                                                            0.0501      0.065      0.765      0.444      -0.078       0.178\n",
       "Car                                                              0.1483      0.068      2.176      0.030       0.015       0.282\n",
       "No_of_people_in_the_house_FOUR OR MORE                          -0.4079      0.162     -2.514      0.012      -0.726      -0.090\n",
       "No_of_people_in_the_house_THREE                                 -0.1803      0.114     -1.586      0.113      -0.403       0.043\n",
       "No_of_people_in_the_house_TWO                                   -0.0250      0.076     -0.331      0.741      -0.173       0.123\n",
       "Time_living_in_barri_I HAVE ALWAYS LIVED IN THE NEIGHBORHOOD    -1.3892      0.140     -9.899      0.000      -1.664      -1.114\n",
       "Time_living_in_barri_MORE THAN 10 YEARS                         -0.9137      0.105     -8.693      0.000      -1.120      -0.708\n",
       "Barri_satisfaction_FAIRLY SATISFIED                              1.1158      0.081     13.726      0.000       0.956       1.275\n",
       "Barri_satisfaction_NOT SATISFIED                                 2.1111      0.208     10.150      0.000       1.703       2.519\n",
       "Barri_security_BAD                                               0.1932      0.092      2.096      0.036       0.012       0.374\n",
       "Barri_security_NEITHER BAD, NOR GOOD                            -0.0422      0.072     -0.583      0.560      -0.184       0.100\n",
       "Barri_management_BAD                                             0.1094      0.130      0.844      0.399      -0.145       0.364\n",
       "Barri_management_NEITHER BAD, NOR GOOD                           0.0979      0.068      1.443      0.149      -0.035       0.231\n",
       "Barri_comparison_NEITHER THE BEST, NOR THE WORST                 1.3274      0.071     18.668      0.000       1.188       1.467\n",
       "Barri_comparison_ONE OF THE WORST                                2.3503      0.123     19.125      0.000       2.109       2.591\n",
       "Barri_transport_BAD                                              0.2222      0.089      2.489      0.013       0.047       0.397\n",
       "Barri_transport_NEITHER BAD, NOR GOOD                            0.1466      0.099      1.476      0.140      -0.048       0.341\n",
       "================================================================================================================================\n",
       "\"\"\""
      ]
     },
     "execution_count": 26,
     "metadata": {},
     "output_type": "execute_result"
    }
   ],
   "source": [
    "glm_logit = sm.GLM(y, x, family=sm.families.Binomial())\n",
    "glm_logit_results = glm_logit.fit()\n",
    "glm_logit_results.summary()"
   ]
  },
  {
   "cell_type": "code",
   "execution_count": 27,
   "metadata": {},
   "outputs": [
    {
     "data": {
      "text/plain": [
       "7500.167338291666"
      ]
     },
     "execution_count": 27,
     "metadata": {},
     "output_type": "execute_result"
    }
   ],
   "source": [
    "glm_logit_results.aic"
   ]
  },
  {
   "cell_type": "code",
   "execution_count": 28,
   "metadata": {},
   "outputs": [
    {
     "data": {
      "text/plain": [
       "-112978.69453488453"
      ]
     },
     "execution_count": 28,
     "metadata": {},
     "output_type": "execute_result"
    }
   ],
   "source": [
    "glm_logit_results.bic"
   ]
  },
  {
   "cell_type": "code",
   "execution_count": 29,
   "metadata": {},
   "outputs": [
    {
     "data": {
      "text/plain": [
       "No_of_people_in_the_house_TWO                                   7.405718e-01\n",
       "Barri_security_NEITHER BAD, NOR GOOD                            5.598848e-01\n",
       "Woman                                                           4.441392e-01\n",
       "Barri_management_BAD                                            3.988233e-01\n",
       "Barri_management_NEITHER BAD, NOR GOOD                          1.490943e-01\n",
       "Barri_transport_NEITHER BAD, NOR GOOD                           1.398941e-01\n",
       "No_of_people_in_the_house_THREE                                 1.128076e-01\n",
       "Barri_security_BAD                                              3.612619e-02\n",
       "Car                                                             2.954262e-02\n",
       "Barri_transport_BAD                                             1.281369e-02\n",
       "No_of_people_in_the_house_FOUR OR MORE                          1.193080e-02\n",
       "Time_living_in_barri_MORE THAN 10 YEARS                         3.541475e-18\n",
       "Time_living_in_barri_I HAVE ALWAYS LIVED IN THE NEIGHBORHOOD    4.196851e-23\n",
       "Barri_satisfaction_NOT SATISFIED                                3.328341e-24\n",
       "Barri_satisfaction_FAIRLY SATISFIED                             7.123556e-43\n",
       "const                                                           7.763933e-76\n",
       "Barri_comparison_NEITHER THE BEST, NOR THE WORST                9.023423e-78\n",
       "Barri_comparison_ONE OF THE WORST                               1.549590e-81\n",
       "dtype: float64"
      ]
     },
     "execution_count": 29,
     "metadata": {},
     "output_type": "execute_result"
    }
   ],
   "source": [
    "glm_logit_results.pvalues.sort_values(ascending=False)"
   ]
  },
  {
   "cell_type": "code",
   "execution_count": null,
   "metadata": {},
   "outputs": [],
   "source": []
  },
  {
   "cell_type": "code",
   "execution_count": 30,
   "metadata": {},
   "outputs": [],
   "source": [
    "for i in ['Woman', 'Barri_security_NEITHER BAD, NOR GOOD', 'Barri_security_BAD', \n",
    "         'No_of_people_in_the_house_TWO', 'No_of_people_in_the_house_THREE', \n",
    "         'No_of_people_in_the_house_FOUR OR MORE', 'Barri_management_BAD',\n",
    "         'Barri_management_NEITHER BAD, NOR GOOD']:\n",
    "    del x[i]"
   ]
  },
  {
   "cell_type": "code",
   "execution_count": 31,
   "metadata": {},
   "outputs": [
    {
     "data": {
      "text/html": [
       "<table class=\"simpletable\">\n",
       "<caption>Generalized Linear Model Regression Results</caption>\n",
       "<tr>\n",
       "  <th>Dep. Variable:</th>   <td>Would_live_in_another_neighborhood</td> <th>  No. Observations:  </th>  <td> 12758</td> \n",
       "</tr>\n",
       "<tr>\n",
       "  <th>Model:</th>                           <td>GLM</td>                <th>  Df Residuals:      </th>  <td> 12748</td> \n",
       "</tr>\n",
       "<tr>\n",
       "  <th>Model Family:</th>                 <td>Binomial</td>              <th>  Df Model:          </th>  <td>     9</td> \n",
       "</tr>\n",
       "<tr>\n",
       "  <th>Link Function:</th>                  <td>logit</td>               <th>  Scale:             </th> <td>  1.0000</td>\n",
       "</tr>\n",
       "<tr>\n",
       "  <th>Method:</th>                         <td>IRLS</td>                <th>  Log-Likelihood:    </th> <td> -3742.7</td>\n",
       "</tr>\n",
       "<tr>\n",
       "  <th>Date:</th>                     <td>Sun, 09 May 2021</td>          <th>  Deviance:          </th> <td>  7485.3</td>\n",
       "</tr>\n",
       "<tr>\n",
       "  <th>Time:</th>                         <td>16:54:10</td>              <th>  Pearson chi2:      </th> <td>1.28e+04</td>\n",
       "</tr>\n",
       "<tr>\n",
       "  <th>No. Iterations:</th>                   <td>6</td>                 <th>                     </th>     <td> </td>   \n",
       "</tr>\n",
       "<tr>\n",
       "  <th>Covariance Type:</th>              <td>nonrobust</td>             <th>                     </th>     <td> </td>   \n",
       "</tr>\n",
       "</table>\n",
       "<table class=\"simpletable\">\n",
       "<tr>\n",
       "                                <td></td>                                  <th>coef</th>     <th>std err</th>      <th>z</th>      <th>P>|z|</th>  <th>[0.025</th>    <th>0.975]</th>  \n",
       "</tr>\n",
       "<tr>\n",
       "  <th>const</th>                                                        <td>   -2.3988</td> <td>    0.113</td> <td>  -21.313</td> <td> 0.000</td> <td>   -2.619</td> <td>   -2.178</td>\n",
       "</tr>\n",
       "<tr>\n",
       "  <th>Car</th>                                                          <td>    0.1061</td> <td>    0.061</td> <td>    1.731</td> <td> 0.083</td> <td>   -0.014</td> <td>    0.226</td>\n",
       "</tr>\n",
       "<tr>\n",
       "  <th>Time_living_in_barri_I HAVE ALWAYS LIVED IN THE NEIGHBORHOOD</th> <td>   -1.3479</td> <td>    0.139</td> <td>   -9.668</td> <td> 0.000</td> <td>   -1.621</td> <td>   -1.075</td>\n",
       "</tr>\n",
       "<tr>\n",
       "  <th>Time_living_in_barri_MORE THAN 10 YEARS</th>                      <td>   -0.8870</td> <td>    0.104</td> <td>   -8.501</td> <td> 0.000</td> <td>   -1.092</td> <td>   -0.683</td>\n",
       "</tr>\n",
       "<tr>\n",
       "  <th>Barri_satisfaction_FAIRLY SATISFIED</th>                          <td>    1.1658</td> <td>    0.079</td> <td>   14.838</td> <td> 0.000</td> <td>    1.012</td> <td>    1.320</td>\n",
       "</tr>\n",
       "<tr>\n",
       "  <th>Barri_satisfaction_NOT SATISFIED</th>                             <td>    2.2096</td> <td>    0.202</td> <td>   10.937</td> <td> 0.000</td> <td>    1.814</td> <td>    2.606</td>\n",
       "</tr>\n",
       "<tr>\n",
       "  <th>Barri_comparison_NEITHER THE BEST, NOR THE WORST</th>             <td>    1.3405</td> <td>    0.070</td> <td>   19.072</td> <td> 0.000</td> <td>    1.203</td> <td>    1.478</td>\n",
       "</tr>\n",
       "<tr>\n",
       "  <th>Barri_comparison_ONE OF THE WORST</th>                            <td>    2.4012</td> <td>    0.121</td> <td>   19.886</td> <td> 0.000</td> <td>    2.165</td> <td>    2.638</td>\n",
       "</tr>\n",
       "<tr>\n",
       "  <th>Barri_transport_BAD</th>                                          <td>    0.2533</td> <td>    0.088</td> <td>    2.868</td> <td> 0.004</td> <td>    0.080</td> <td>    0.426</td>\n",
       "</tr>\n",
       "<tr>\n",
       "  <th>Barri_transport_NEITHER BAD, NOR GOOD</th>                        <td>    0.1682</td> <td>    0.099</td> <td>    1.706</td> <td> 0.088</td> <td>   -0.025</td> <td>    0.361</td>\n",
       "</tr>\n",
       "</table>"
      ],
      "text/plain": [
       "<class 'statsmodels.iolib.summary.Summary'>\n",
       "\"\"\"\n",
       "                         Generalized Linear Model Regression Results                          \n",
       "==============================================================================================\n",
       "Dep. Variable:     Would_live_in_another_neighborhood   No. Observations:                12758\n",
       "Model:                                            GLM   Df Residuals:                    12748\n",
       "Model Family:                                Binomial   Df Model:                            9\n",
       "Link Function:                                  logit   Scale:                          1.0000\n",
       "Method:                                          IRLS   Log-Likelihood:                -3742.7\n",
       "Date:                                Sun, 09 May 2021   Deviance:                       7485.3\n",
       "Time:                                        16:54:10   Pearson chi2:                 1.28e+04\n",
       "No. Iterations:                                     6                                         \n",
       "Covariance Type:                            nonrobust                                         \n",
       "================================================================================================================================\n",
       "                                                                   coef    std err          z      P>|z|      [0.025      0.975]\n",
       "--------------------------------------------------------------------------------------------------------------------------------\n",
       "const                                                           -2.3988      0.113    -21.313      0.000      -2.619      -2.178\n",
       "Car                                                              0.1061      0.061      1.731      0.083      -0.014       0.226\n",
       "Time_living_in_barri_I HAVE ALWAYS LIVED IN THE NEIGHBORHOOD    -1.3479      0.139     -9.668      0.000      -1.621      -1.075\n",
       "Time_living_in_barri_MORE THAN 10 YEARS                         -0.8870      0.104     -8.501      0.000      -1.092      -0.683\n",
       "Barri_satisfaction_FAIRLY SATISFIED                              1.1658      0.079     14.838      0.000       1.012       1.320\n",
       "Barri_satisfaction_NOT SATISFIED                                 2.2096      0.202     10.937      0.000       1.814       2.606\n",
       "Barri_comparison_NEITHER THE BEST, NOR THE WORST                 1.3405      0.070     19.072      0.000       1.203       1.478\n",
       "Barri_comparison_ONE OF THE WORST                                2.4012      0.121     19.886      0.000       2.165       2.638\n",
       "Barri_transport_BAD                                              0.2533      0.088      2.868      0.004       0.080       0.426\n",
       "Barri_transport_NEITHER BAD, NOR GOOD                            0.1682      0.099      1.706      0.088      -0.025       0.361\n",
       "================================================================================================================================\n",
       "\"\"\""
      ]
     },
     "execution_count": 31,
     "metadata": {},
     "output_type": "execute_result"
    }
   ],
   "source": [
    "glm_logit = sm.GLM(y, x, family=sm.families.Binomial())\n",
    "glm_logit_results = glm_logit.fit()\n",
    "glm_logit_results.summary()"
   ]
  },
  {
   "cell_type": "code",
   "execution_count": 32,
   "metadata": {},
   "outputs": [
    {
     "data": {
      "text/plain": [
       "7505.3100628813445"
      ]
     },
     "execution_count": 32,
     "metadata": {},
     "output_type": "execute_result"
    }
   ],
   "source": [
    "glm_logit_results.aic"
   ]
  },
  {
   "cell_type": "code",
   "execution_count": 33,
   "metadata": {},
   "outputs": [
    {
     "data": {
      "text/plain": [
       "-113033.18312073327"
      ]
     },
     "execution_count": 33,
     "metadata": {},
     "output_type": "execute_result"
    }
   ],
   "source": [
    "glm_logit_results.bic"
   ]
  },
  {
   "cell_type": "code",
   "execution_count": 34,
   "metadata": {},
   "outputs": [
    {
     "data": {
      "text/plain": [
       "Barri_transport_NEITHER BAD, NOR GOOD                            8.804066e-02\n",
       "Car                                                              8.345611e-02\n",
       "Barri_transport_BAD                                              4.133939e-03\n",
       "Time_living_in_barri_MORE THAN 10 YEARS                          1.882540e-17\n",
       "Time_living_in_barri_I HAVE ALWAYS LIVED IN THE NEIGHBORHOOD     4.109186e-22\n",
       "Barri_satisfaction_NOT SATISFIED                                 7.644951e-28\n",
       "Barri_satisfaction_FAIRLY SATISFIED                              8.332260e-50\n",
       "Barri_comparison_NEITHER THE BEST, NOR THE WORST                 4.302117e-81\n",
       "Barri_comparison_ONE OF THE WORST                                5.336565e-88\n",
       "const                                                           8.648727e-101\n",
       "dtype: float64"
      ]
     },
     "execution_count": 34,
     "metadata": {},
     "output_type": "execute_result"
    }
   ],
   "source": [
    "glm_logit_results.pvalues.sort_values(ascending=False)"
   ]
  },
  {
   "cell_type": "code",
   "execution_count": null,
   "metadata": {},
   "outputs": [],
   "source": []
  },
  {
   "cell_type": "code",
   "execution_count": 35,
   "metadata": {},
   "outputs": [],
   "source": [
    "def glm_classification_table(results):\n",
    "    df_classification_table = pd.DataFrame(y).join(pd.DataFrame(results.predict(x).round()))\n",
    "    df_classification_table.rename(columns={'Would_live_in_another_neighborhood': 'y', 0: 'y_predict'}, inplace=True)\n",
    "    return pd.crosstab(df_classification_table['y'], df_classification_table['y_predict'])"
   ]
  },
  {
   "cell_type": "code",
   "execution_count": 36,
   "metadata": {},
   "outputs": [
    {
     "data": {
      "text/html": [
       "<div>\n",
       "<style scoped>\n",
       "    .dataframe tbody tr th:only-of-type {\n",
       "        vertical-align: middle;\n",
       "    }\n",
       "\n",
       "    .dataframe tbody tr th {\n",
       "        vertical-align: top;\n",
       "    }\n",
       "\n",
       "    .dataframe thead th {\n",
       "        text-align: right;\n",
       "    }\n",
       "</style>\n",
       "<table border=\"1\" class=\"dataframe\">\n",
       "  <thead>\n",
       "    <tr style=\"text-align: right;\">\n",
       "      <th>y_predict</th>\n",
       "      <th>0.0</th>\n",
       "      <th>1.0</th>\n",
       "    </tr>\n",
       "    <tr>\n",
       "      <th>y</th>\n",
       "      <th></th>\n",
       "      <th></th>\n",
       "    </tr>\n",
       "  </thead>\n",
       "  <tbody>\n",
       "    <tr>\n",
       "      <th>0.0</th>\n",
       "      <td>11226</td>\n",
       "      <td>114</td>\n",
       "    </tr>\n",
       "    <tr>\n",
       "      <th>1.0</th>\n",
       "      <td>1184</td>\n",
       "      <td>234</td>\n",
       "    </tr>\n",
       "  </tbody>\n",
       "</table>\n",
       "</div>"
      ],
      "text/plain": [
       "y_predict    0.0  1.0\n",
       "y                    \n",
       "0.0        11226  114\n",
       "1.0         1184  234"
      ]
     },
     "execution_count": 36,
     "metadata": {},
     "output_type": "execute_result"
    }
   ],
   "source": [
    "glm_classification_table(glm_logit_results)"
   ]
  },
  {
   "cell_type": "code",
   "execution_count": null,
   "metadata": {},
   "outputs": [],
   "source": []
  },
  {
   "cell_type": "code",
   "execution_count": 37,
   "metadata": {},
   "outputs": [],
   "source": [
    "def plot_roc_auc(results):\n",
    "    y_predict = results.predict(x)\n",
    "    roc_auc = roc_auc_score(y, y_predict)\n",
    "    fpr, tpr, thresholds = roc_curve(y, y_predict)\n",
    "    plt.figure()\n",
    "    plt.plot(fpr, tpr, label='Logistic Regression (area = %0.2f)' % roc_auc)\n",
    "    plt.plot([0, 1], [0, 1],'r--')\n",
    "    plt.xlim([0.0, 1.0])\n",
    "    plt.ylim([0.0, 1.05])\n",
    "    plt.xlabel('False Positive Rate')\n",
    "    plt.ylabel('True Positive Rate')\n",
    "    plt.title('Receiver operating characteristic')\n",
    "    plt.legend(loc=\"lower right\")\n",
    "    plt.show()"
   ]
  },
  {
   "cell_type": "code",
   "execution_count": 38,
   "metadata": {},
   "outputs": [
    {
     "data": {
      "image/png": "[encoded data removed]",
      "text/plain": [
       "<Figure size 432x288 with 1 Axes>"
      ]
     },
     "metadata": {
      "needs_background": "light"
     },
     "output_type": "display_data"
    }
   ],
   "source": [
    "plot_roc_auc(glm_logit_results)"
   ]
  },
  {
   "cell_type": "code",
   "execution_count": null,
   "metadata": {},
   "outputs": [],
   "source": []
  },
  {
   "cell_type": "code",
   "execution_count": 39,
   "metadata": {},
   "outputs": [],
   "source": [
    "def odds_ratios(results):\n",
    "    return np.exp(results.params)"
   ]
  },
  {
   "cell_type": "code",
   "execution_count": 40,
   "metadata": {
    "scrolled": true
   },
   "outputs": [
    {
     "data": {
      "text/plain": [
       "const                                                            0.090826\n",
       "Car                                                              1.111948\n",
       "Time_living_in_barri_I HAVE ALWAYS LIVED IN THE NEIGHBORHOOD     0.259777\n",
       "Time_living_in_barri_MORE THAN 10 YEARS                          0.411877\n",
       "Barri_satisfaction_FAIRLY SATISFIED                              3.208622\n",
       "Barri_satisfaction_NOT SATISFIED                                 9.112454\n",
       "Barri_comparison_NEITHER THE BEST, NOR THE WORST                 3.820965\n",
       "Barri_comparison_ONE OF THE WORST                               11.036380\n",
       "Barri_transport_BAD                                              1.288321\n",
       "Barri_transport_NEITHER BAD, NOR GOOD                            1.183121\n",
       "dtype: float64"
      ]
     },
     "execution_count": 40,
     "metadata": {},
     "output_type": "execute_result"
    }
   ],
   "source": [
    "odds_ratios(glm_logit_results)"
   ]
  },
  {
   "cell_type": "code",
   "execution_count": null,
   "metadata": {},
   "outputs": [],
   "source": []
  },
  {
   "cell_type": "code",
   "execution_count": 41,
   "metadata": {},
   "outputs": [],
   "source": [
    "def pseudo_r2(results):\n",
    "    return (1 - results.llf / results.llnull)"
   ]
  },
  {
   "cell_type": "code",
   "execution_count": 42,
   "metadata": {},
   "outputs": [
    {
     "data": {
      "text/plain": [
       "0.15920408528491514"
      ]
     },
     "execution_count": 42,
     "metadata": {},
     "output_type": "execute_result"
    }
   ],
   "source": [
    "pseudo_r2(glm_logit_results)"
   ]
  },
  {
   "cell_type": "code",
   "execution_count": null,
   "metadata": {},
   "outputs": [],
   "source": []
  },
  {
   "cell_type": "code",
   "execution_count": 43,
   "metadata": {},
   "outputs": [],
   "source": [
    "def adj_count_r2(results):\n",
    "    df_classification_table = pd.DataFrame(y).join(pd.DataFrame(results.predict(x).round()))\n",
    "    df_classification_table.rename(columns={'Would_live_in_another_neighborhood': 'y', 0: 'y_predict'}, inplace=True)\n",
    "    df = pd.crosstab(df_classification_table['y'], df_classification_table['y_predict'])\n",
    "    return round((df[0][0] + df[1][1] - (df[0][0]+df[1][0]))/(df[0][1]+df[1][1]),3)"
   ]
  },
  {
   "cell_type": "code",
   "execution_count": 44,
   "metadata": {},
   "outputs": [
    {
     "data": {
      "text/plain": [
       "0.085"
      ]
     },
     "execution_count": 44,
     "metadata": {},
     "output_type": "execute_result"
    }
   ],
   "source": [
    "adj_count_r2(glm_logit_results)"
   ]
  },
  {
   "cell_type": "code",
   "execution_count": null,
   "metadata": {},
   "outputs": [],
   "source": []
  },
  {
   "cell_type": "code",
   "execution_count": 62,
   "metadata": {},
   "outputs": [
    {
     "data": {
      "text/plain": [
       "0.10514541894174045"
      ]
     },
     "execution_count": 62,
     "metadata": {},
     "output_type": "execute_result"
    }
   ],
   "source": [
    "1 - np.exp((glm_logit_results.llnull - glm_logit_results.llf)*(2/glm_logit_results.nobs))"
   ]
  },
  {
   "cell_type": "markdown",
   "metadata": {},
   "source": [
    "# Probit"
   ]
  },
  {
   "cell_type": "code",
   "execution_count": 45,
   "metadata": {},
   "outputs": [
    {
     "name": "stderr",
     "output_type": "stream",
     "text": [
      "C:\\Users\\THINK\\anaconda3\\lib\\site-packages\\ipykernel_launcher.py:1: DeprecationWarning: Calling Family(..) with a link class as argument is deprecated.\n",
      "Use an instance of a link class instead.\n",
      "  \"\"\"Entry point for launching an IPython kernel.\n"
     ]
    },
    {
     "data": {
      "text/html": [
       "<table class=\"simpletable\">\n",
       "<caption>Generalized Linear Model Regression Results</caption>\n",
       "<tr>\n",
       "  <th>Dep. Variable:</th>   <td>Would_live_in_another_neighborhood</td> <th>  No. Observations:  </th>  <td> 12758</td> \n",
       "</tr>\n",
       "<tr>\n",
       "  <th>Model:</th>                           <td>GLM</td>                <th>  Df Residuals:      </th>  <td> 12748</td> \n",
       "</tr>\n",
       "<tr>\n",
       "  <th>Model Family:</th>                 <td>Binomial</td>              <th>  Df Model:          </th>  <td>     9</td> \n",
       "</tr>\n",
       "<tr>\n",
       "  <th>Link Function:</th>                 <td>probit</td>               <th>  Scale:             </th> <td>  1.0000</td>\n",
       "</tr>\n",
       "<tr>\n",
       "  <th>Method:</th>                         <td>IRLS</td>                <th>  Log-Likelihood:    </th> <td> -3745.3</td>\n",
       "</tr>\n",
       "<tr>\n",
       "  <th>Date:</th>                     <td>Sun, 09 May 2021</td>          <th>  Deviance:          </th> <td>  7490.6</td>\n",
       "</tr>\n",
       "<tr>\n",
       "  <th>Time:</th>                         <td>16:54:10</td>              <th>  Pearson chi2:      </th> <td>1.29e+04</td>\n",
       "</tr>\n",
       "<tr>\n",
       "  <th>No. Iterations:</th>                   <td>6</td>                 <th>                     </th>     <td> </td>   \n",
       "</tr>\n",
       "<tr>\n",
       "  <th>Covariance Type:</th>              <td>nonrobust</td>             <th>                     </th>     <td> </td>   \n",
       "</tr>\n",
       "</table>\n",
       "<table class=\"simpletable\">\n",
       "<tr>\n",
       "                                <td></td>                                  <th>coef</th>     <th>std err</th>      <th>z</th>      <th>P>|z|</th>  <th>[0.025</th>    <th>0.975]</th>  \n",
       "</tr>\n",
       "<tr>\n",
       "  <th>const</th>                                                        <td>   -1.3460</td> <td>    0.061</td> <td>  -22.185</td> <td> 0.000</td> <td>   -1.465</td> <td>   -1.227</td>\n",
       "</tr>\n",
       "<tr>\n",
       "  <th>Car</th>                                                          <td>    0.0565</td> <td>    0.032</td> <td>    1.758</td> <td> 0.079</td> <td>   -0.006</td> <td>    0.119</td>\n",
       "</tr>\n",
       "<tr>\n",
       "  <th>Time_living_in_barri_I HAVE ALWAYS LIVED IN THE NEIGHBORHOOD</th> <td>   -0.7097</td> <td>    0.074</td> <td>   -9.576</td> <td> 0.000</td> <td>   -0.855</td> <td>   -0.564</td>\n",
       "</tr>\n",
       "<tr>\n",
       "  <th>Time_living_in_barri_MORE THAN 10 YEARS</th>                      <td>   -0.4680</td> <td>    0.058</td> <td>   -8.044</td> <td> 0.000</td> <td>   -0.582</td> <td>   -0.354</td>\n",
       "</tr>\n",
       "<tr>\n",
       "  <th>Barri_satisfaction_FAIRLY SATISFIED</th>                          <td>    0.6576</td> <td>    0.045</td> <td>   14.463</td> <td> 0.000</td> <td>    0.568</td> <td>    0.747</td>\n",
       "</tr>\n",
       "<tr>\n",
       "  <th>Barri_satisfaction_NOT SATISFIED</th>                             <td>    1.2916</td> <td>    0.120</td> <td>   10.801</td> <td> 0.000</td> <td>    1.057</td> <td>    1.526</td>\n",
       "</tr>\n",
       "<tr>\n",
       "  <th>Barri_comparison_NEITHER THE BEST, NOR THE WORST</th>             <td>    0.6717</td> <td>    0.034</td> <td>   19.546</td> <td> 0.000</td> <td>    0.604</td> <td>    0.739</td>\n",
       "</tr>\n",
       "<tr>\n",
       "  <th>Barri_comparison_ONE OF THE WORST</th>                            <td>    1.3045</td> <td>    0.069</td> <td>   18.819</td> <td> 0.000</td> <td>    1.169</td> <td>    1.440</td>\n",
       "</tr>\n",
       "<tr>\n",
       "  <th>Barri_transport_BAD</th>                                          <td>    0.1365</td> <td>    0.048</td> <td>    2.873</td> <td> 0.004</td> <td>    0.043</td> <td>    0.230</td>\n",
       "</tr>\n",
       "<tr>\n",
       "  <th>Barri_transport_NEITHER BAD, NOR GOOD</th>                        <td>    0.0868</td> <td>    0.053</td> <td>    1.638</td> <td> 0.101</td> <td>   -0.017</td> <td>    0.191</td>\n",
       "</tr>\n",
       "</table>"
      ],
      "text/plain": [
       "<class 'statsmodels.iolib.summary.Summary'>\n",
       "\"\"\"\n",
       "                         Generalized Linear Model Regression Results                          \n",
       "==============================================================================================\n",
       "Dep. Variable:     Would_live_in_another_neighborhood   No. Observations:                12758\n",
       "Model:                                            GLM   Df Residuals:                    12748\n",
       "Model Family:                                Binomial   Df Model:                            9\n",
       "Link Function:                                 probit   Scale:                          1.0000\n",
       "Method:                                          IRLS   Log-Likelihood:                -3745.3\n",
       "Date:                                Sun, 09 May 2021   Deviance:                       7490.6\n",
       "Time:                                        16:54:10   Pearson chi2:                 1.29e+04\n",
       "No. Iterations:                                     6                                         \n",
       "Covariance Type:                            nonrobust                                         \n",
       "================================================================================================================================\n",
       "                                                                   coef    std err          z      P>|z|      [0.025      0.975]\n",
       "--------------------------------------------------------------------------------------------------------------------------------\n",
       "const                                                           -1.3460      0.061    -22.185      0.000      -1.465      -1.227\n",
       "Car                                                              0.0565      0.032      1.758      0.079      -0.006       0.119\n",
       "Time_living_in_barri_I HAVE ALWAYS LIVED IN THE NEIGHBORHOOD    -0.7097      0.074     -9.576      0.000      -0.855      -0.564\n",
       "Time_living_in_barri_MORE THAN 10 YEARS                         -0.4680      0.058     -8.044      0.000      -0.582      -0.354\n",
       "Barri_satisfaction_FAIRLY SATISFIED                              0.6576      0.045     14.463      0.000       0.568       0.747\n",
       "Barri_satisfaction_NOT SATISFIED                                 1.2916      0.120     10.801      0.000       1.057       1.526\n",
       "Barri_comparison_NEITHER THE BEST, NOR THE WORST                 0.6717      0.034     19.546      0.000       0.604       0.739\n",
       "Barri_comparison_ONE OF THE WORST                                1.3045      0.069     18.819      0.000       1.169       1.440\n",
       "Barri_transport_BAD                                              0.1365      0.048      2.873      0.004       0.043       0.230\n",
       "Barri_transport_NEITHER BAD, NOR GOOD                            0.0868      0.053      1.638      0.101      -0.017       0.191\n",
       "================================================================================================================================\n",
       "\"\"\""
      ]
     },
     "execution_count": 45,
     "metadata": {},
     "output_type": "execute_result"
    }
   ],
   "source": [
    "glm_probit = sm.GLM(y, x, family=sm.families.Binomial(link=sm.genmod.families.links.probit))\n",
    "glm_probit_results = glm_probit.fit()\n",
    "glm_probit_results.summary()"
   ]
  },
  {
   "cell_type": "code",
   "execution_count": 46,
   "metadata": {},
   "outputs": [
    {
     "data": {
      "text/plain": [
       "7510.640290749845"
      ]
     },
     "execution_count": 46,
     "metadata": {},
     "output_type": "execute_result"
    }
   ],
   "source": [
    "glm_probit_results.aic"
   ]
  },
  {
   "cell_type": "code",
   "execution_count": 47,
   "metadata": {},
   "outputs": [
    {
     "data": {
      "text/plain": [
       "-113027.85289286477"
      ]
     },
     "execution_count": 47,
     "metadata": {},
     "output_type": "execute_result"
    }
   ],
   "source": [
    "glm_probit_results.bic"
   ]
  },
  {
   "cell_type": "code",
   "execution_count": 48,
   "metadata": {},
   "outputs": [
    {
     "data": {
      "text/html": [
       "<div>\n",
       "<style scoped>\n",
       "    .dataframe tbody tr th:only-of-type {\n",
       "        vertical-align: middle;\n",
       "    }\n",
       "\n",
       "    .dataframe tbody tr th {\n",
       "        vertical-align: top;\n",
       "    }\n",
       "\n",
       "    .dataframe thead th {\n",
       "        text-align: right;\n",
       "    }\n",
       "</style>\n",
       "<table border=\"1\" class=\"dataframe\">\n",
       "  <thead>\n",
       "    <tr style=\"text-align: right;\">\n",
       "      <th>y_predict</th>\n",
       "      <th>0.0</th>\n",
       "      <th>1.0</th>\n",
       "    </tr>\n",
       "    <tr>\n",
       "      <th>y</th>\n",
       "      <th></th>\n",
       "      <th></th>\n",
       "    </tr>\n",
       "  </thead>\n",
       "  <tbody>\n",
       "    <tr>\n",
       "      <th>0.0</th>\n",
       "      <td>11238</td>\n",
       "      <td>102</td>\n",
       "    </tr>\n",
       "    <tr>\n",
       "      <th>1.0</th>\n",
       "      <td>1199</td>\n",
       "      <td>219</td>\n",
       "    </tr>\n",
       "  </tbody>\n",
       "</table>\n",
       "</div>"
      ],
      "text/plain": [
       "y_predict    0.0  1.0\n",
       "y                    \n",
       "0.0        11238  102\n",
       "1.0         1199  219"
      ]
     },
     "execution_count": 48,
     "metadata": {},
     "output_type": "execute_result"
    }
   ],
   "source": [
    "glm_classification_table(glm_probit_results)"
   ]
  },
  {
   "cell_type": "code",
   "execution_count": 49,
   "metadata": {},
   "outputs": [
    {
     "data": {
      "image/png": "[encoded data removed]",
      "text/plain": [
       "<Figure size 432x288 with 1 Axes>"
      ]
     },
     "metadata": {
      "needs_background": "light"
     },
     "output_type": "display_data"
    }
   ],
   "source": [
    "plot_roc_auc(glm_probit_results)"
   ]
  },
  {
   "cell_type": "code",
   "execution_count": 50,
   "metadata": {},
   "outputs": [
    {
     "data": {
      "text/plain": [
       "const                                                           0.260286\n",
       "Car                                                             1.058111\n",
       "Time_living_in_barri_I HAVE ALWAYS LIVED IN THE NEIGHBORHOOD    0.491769\n",
       "Time_living_in_barri_MORE THAN 10 YEARS                         0.626224\n",
       "Barri_satisfaction_FAIRLY SATISFIED                             1.930148\n",
       "Barri_satisfaction_NOT SATISFIED                                3.638512\n",
       "Barri_comparison_NEITHER THE BEST, NOR THE WORST                1.957504\n",
       "Barri_comparison_ONE OF THE WORST                               3.686011\n",
       "Barri_transport_BAD                                             1.146309\n",
       "Barri_transport_NEITHER BAD, NOR GOOD                           1.090690\n",
       "dtype: float64"
      ]
     },
     "execution_count": 50,
     "metadata": {},
     "output_type": "execute_result"
    }
   ],
   "source": [
    "odds_ratios(glm_probit_results)"
   ]
  },
  {
   "cell_type": "code",
   "execution_count": 51,
   "metadata": {},
   "outputs": [
    {
     "data": {
      "text/plain": [
       "0.1586053614139349"
      ]
     },
     "execution_count": 51,
     "metadata": {},
     "output_type": "execute_result"
    }
   ],
   "source": [
    "pseudo_r2(glm_probit_results)"
   ]
  },
  {
   "cell_type": "code",
   "execution_count": 52,
   "metadata": {},
   "outputs": [
    {
     "data": {
      "text/plain": [
       "0.083"
      ]
     },
     "execution_count": 52,
     "metadata": {},
     "output_type": "execute_result"
    }
   ],
   "source": [
    "adj_count_r2(glm_probit_results)"
   ]
  },
  {
   "cell_type": "code",
   "execution_count": null,
   "metadata": {},
   "outputs": [],
   "source": []
  },
  {
   "cell_type": "markdown",
   "metadata": {},
   "source": [
    "# Scobit"
   ]
  },
  {
   "cell_type": "code",
   "execution_count": 53,
   "metadata": {
    "scrolled": false
   },
   "outputs": [
    {
     "name": "stderr",
     "output_type": "stream",
     "text": [
      "C:\\Users\\THINK\\anaconda3\\lib\\site-packages\\ipykernel_launcher.py:1: DeprecationWarning: Calling Family(..) with a link class as argument is deprecated.\n",
      "Use an instance of a link class instead.\n",
      "  \"\"\"Entry point for launching an IPython kernel.\n"
     ]
    },
    {
     "data": {
      "text/html": [
       "<table class=\"simpletable\">\n",
       "<caption>Generalized Linear Model Regression Results</caption>\n",
       "<tr>\n",
       "  <th>Dep. Variable:</th>   <td>Would_live_in_another_neighborhood</td> <th>  No. Observations:  </th>  <td> 12758</td> \n",
       "</tr>\n",
       "<tr>\n",
       "  <th>Model:</th>                           <td>GLM</td>                <th>  Df Residuals:      </th>  <td> 12748</td> \n",
       "</tr>\n",
       "<tr>\n",
       "  <th>Model Family:</th>                 <td>Binomial</td>              <th>  Df Model:          </th>  <td>     9</td> \n",
       "</tr>\n",
       "<tr>\n",
       "  <th>Link Function:</th>                 <td>cloglog</td>              <th>  Scale:             </th> <td>  1.0000</td>\n",
       "</tr>\n",
       "<tr>\n",
       "  <th>Method:</th>                         <td>IRLS</td>                <th>  Log-Likelihood:    </th> <td> -3747.0</td>\n",
       "</tr>\n",
       "<tr>\n",
       "  <th>Date:</th>                     <td>Sun, 09 May 2021</td>          <th>  Deviance:          </th> <td>  7494.0</td>\n",
       "</tr>\n",
       "<tr>\n",
       "  <th>Time:</th>                         <td>16:54:11</td>              <th>  Pearson chi2:      </th> <td>1.27e+04</td>\n",
       "</tr>\n",
       "<tr>\n",
       "  <th>No. Iterations:</th>                   <td>8</td>                 <th>                     </th>     <td> </td>   \n",
       "</tr>\n",
       "<tr>\n",
       "  <th>Covariance Type:</th>              <td>nonrobust</td>             <th>                     </th>     <td> </td>   \n",
       "</tr>\n",
       "</table>\n",
       "<table class=\"simpletable\">\n",
       "<tr>\n",
       "                                <td></td>                                  <th>coef</th>     <th>std err</th>      <th>z</th>      <th>P>|z|</th>  <th>[0.025</th>    <th>0.975]</th>  \n",
       "</tr>\n",
       "<tr>\n",
       "  <th>const</th>                                                        <td>   -2.5369</td> <td>    0.099</td> <td>  -25.570</td> <td> 0.000</td> <td>   -2.731</td> <td>   -2.342</td>\n",
       "</tr>\n",
       "<tr>\n",
       "  <th>Car</th>                                                          <td>    0.1002</td> <td>    0.054</td> <td>    1.854</td> <td> 0.064</td> <td>   -0.006</td> <td>    0.206</td>\n",
       "</tr>\n",
       "<tr>\n",
       "  <th>Time_living_in_barri_I HAVE ALWAYS LIVED IN THE NEIGHBORHOOD</th> <td>   -1.1460</td> <td>    0.121</td> <td>   -9.447</td> <td> 0.000</td> <td>   -1.384</td> <td>   -0.908</td>\n",
       "</tr>\n",
       "<tr>\n",
       "  <th>Time_living_in_barri_MORE THAN 10 YEARS</th>                      <td>   -0.7301</td> <td>    0.087</td> <td>   -8.345</td> <td> 0.000</td> <td>   -0.902</td> <td>   -0.559</td>\n",
       "</tr>\n",
       "<tr>\n",
       "  <th>Barri_satisfaction_FAIRLY SATISFIED</th>                          <td>    1.0186</td> <td>    0.066</td> <td>   15.487</td> <td> 0.000</td> <td>    0.890</td> <td>    1.148</td>\n",
       "</tr>\n",
       "<tr>\n",
       "  <th>Barri_satisfaction_NOT SATISFIED</th>                             <td>    1.6319</td> <td>    0.129</td> <td>   12.634</td> <td> 0.000</td> <td>    1.379</td> <td>    1.885</td>\n",
       "</tr>\n",
       "<tr>\n",
       "  <th>Barri_comparison_NEITHER THE BEST, NOR THE WORST</th>             <td>    1.2713</td> <td>    0.067</td> <td>   19.055</td> <td> 0.000</td> <td>    1.141</td> <td>    1.402</td>\n",
       "</tr>\n",
       "<tr>\n",
       "  <th>Barri_comparison_ONE OF THE WORST</th>                            <td>    2.0662</td> <td>    0.098</td> <td>   20.983</td> <td> 0.000</td> <td>    1.873</td> <td>    2.259</td>\n",
       "</tr>\n",
       "<tr>\n",
       "  <th>Barri_transport_BAD</th>                                          <td>    0.2029</td> <td>    0.076</td> <td>    2.678</td> <td> 0.007</td> <td>    0.054</td> <td>    0.351</td>\n",
       "</tr>\n",
       "<tr>\n",
       "  <th>Barri_transport_NEITHER BAD, NOR GOOD</th>                        <td>    0.1375</td> <td>    0.085</td> <td>    1.617</td> <td> 0.106</td> <td>   -0.029</td> <td>    0.304</td>\n",
       "</tr>\n",
       "</table>"
      ],
      "text/plain": [
       "<class 'statsmodels.iolib.summary.Summary'>\n",
       "\"\"\"\n",
       "                         Generalized Linear Model Regression Results                          \n",
       "==============================================================================================\n",
       "Dep. Variable:     Would_live_in_another_neighborhood   No. Observations:                12758\n",
       "Model:                                            GLM   Df Residuals:                    12748\n",
       "Model Family:                                Binomial   Df Model:                            9\n",
       "Link Function:                                cloglog   Scale:                          1.0000\n",
       "Method:                                          IRLS   Log-Likelihood:                -3747.0\n",
       "Date:                                Sun, 09 May 2021   Deviance:                       7494.0\n",
       "Time:                                        16:54:11   Pearson chi2:                 1.27e+04\n",
       "No. Iterations:                                     8                                         \n",
       "Covariance Type:                            nonrobust                                         \n",
       "================================================================================================================================\n",
       "                                                                   coef    std err          z      P>|z|      [0.025      0.975]\n",
       "--------------------------------------------------------------------------------------------------------------------------------\n",
       "const                                                           -2.5369      0.099    -25.570      0.000      -2.731      -2.342\n",
       "Car                                                              0.1002      0.054      1.854      0.064      -0.006       0.206\n",
       "Time_living_in_barri_I HAVE ALWAYS LIVED IN THE NEIGHBORHOOD    -1.1460      0.121     -9.447      0.000      -1.384      -0.908\n",
       "Time_living_in_barri_MORE THAN 10 YEARS                         -0.7301      0.087     -8.345      0.000      -0.902      -0.559\n",
       "Barri_satisfaction_FAIRLY SATISFIED                              1.0186      0.066     15.487      0.000       0.890       1.148\n",
       "Barri_satisfaction_NOT SATISFIED                                 1.6319      0.129     12.634      0.000       1.379       1.885\n",
       "Barri_comparison_NEITHER THE BEST, NOR THE WORST                 1.2713      0.067     19.055      0.000       1.141       1.402\n",
       "Barri_comparison_ONE OF THE WORST                                2.0662      0.098     20.983      0.000       1.873       2.259\n",
       "Barri_transport_BAD                                              0.2029      0.076      2.678      0.007       0.054       0.351\n",
       "Barri_transport_NEITHER BAD, NOR GOOD                            0.1375      0.085      1.617      0.106      -0.029       0.304\n",
       "================================================================================================================================\n",
       "\"\"\""
      ]
     },
     "execution_count": 53,
     "metadata": {},
     "output_type": "execute_result"
    }
   ],
   "source": [
    "glm_scobit = sm.GLM(y, x, family=sm.families.Binomial(link=sm.genmod.families.links.cloglog))\n",
    "glm_scobit_results = glm_scobit.fit()\n",
    "glm_scobit_results.summary()"
   ]
  },
  {
   "cell_type": "code",
   "execution_count": 54,
   "metadata": {},
   "outputs": [
    {
     "data": {
      "text/plain": [
       "7514.032538260228"
      ]
     },
     "execution_count": 54,
     "metadata": {},
     "output_type": "execute_result"
    }
   ],
   "source": [
    "glm_scobit_results.aic"
   ]
  },
  {
   "cell_type": "code",
   "execution_count": 55,
   "metadata": {},
   "outputs": [
    {
     "data": {
      "text/plain": [
       "-113024.46064535438"
      ]
     },
     "execution_count": 55,
     "metadata": {},
     "output_type": "execute_result"
    }
   ],
   "source": [
    "glm_scobit_results.bic"
   ]
  },
  {
   "cell_type": "code",
   "execution_count": 56,
   "metadata": {},
   "outputs": [
    {
     "data": {
      "text/html": [
       "<div>\n",
       "<style scoped>\n",
       "    .dataframe tbody tr th:only-of-type {\n",
       "        vertical-align: middle;\n",
       "    }\n",
       "\n",
       "    .dataframe tbody tr th {\n",
       "        vertical-align: top;\n",
       "    }\n",
       "\n",
       "    .dataframe thead th {\n",
       "        text-align: right;\n",
       "    }\n",
       "</style>\n",
       "<table border=\"1\" class=\"dataframe\">\n",
       "  <thead>\n",
       "    <tr style=\"text-align: right;\">\n",
       "      <th>y_predict</th>\n",
       "      <th>0.0</th>\n",
       "      <th>1.0</th>\n",
       "    </tr>\n",
       "    <tr>\n",
       "      <th>y</th>\n",
       "      <th></th>\n",
       "      <th></th>\n",
       "    </tr>\n",
       "  </thead>\n",
       "  <tbody>\n",
       "    <tr>\n",
       "      <th>0.0</th>\n",
       "      <td>11233</td>\n",
       "      <td>107</td>\n",
       "    </tr>\n",
       "    <tr>\n",
       "      <th>1.0</th>\n",
       "      <td>1188</td>\n",
       "      <td>230</td>\n",
       "    </tr>\n",
       "  </tbody>\n",
       "</table>\n",
       "</div>"
      ],
      "text/plain": [
       "y_predict    0.0  1.0\n",
       "y                    \n",
       "0.0        11233  107\n",
       "1.0         1188  230"
      ]
     },
     "execution_count": 56,
     "metadata": {},
     "output_type": "execute_result"
    }
   ],
   "source": [
    "glm_classification_table(glm_scobit_results)"
   ]
  },
  {
   "cell_type": "code",
   "execution_count": 57,
   "metadata": {},
   "outputs": [
    {
     "data": {
      "image/png": "[encoded data removed]",
      "text/plain": [
       "<Figure size 432x288 with 1 Axes>"
      ]
     },
     "metadata": {
      "needs_background": "light"
     },
     "output_type": "display_data"
    }
   ],
   "source": [
    "plot_roc_auc(glm_scobit_results)"
   ]
  },
  {
   "cell_type": "code",
   "execution_count": 58,
   "metadata": {},
   "outputs": [
    {
     "data": {
      "text/plain": [
       "const                                                           0.079112\n",
       "Car                                                             1.105372\n",
       "Time_living_in_barri_I HAVE ALWAYS LIVED IN THE NEIGHBORHOOD    0.317908\n",
       "Time_living_in_barri_MORE THAN 10 YEARS                         0.481867\n",
       "Barri_satisfaction_FAIRLY SATISFIED                             2.769330\n",
       "Barri_satisfaction_NOT SATISFIED                                5.113354\n",
       "Barri_comparison_NEITHER THE BEST, NOR THE WORST                3.565514\n",
       "Barri_comparison_ONE OF THE WORST                               7.894639\n",
       "Barri_transport_BAD                                             1.224941\n",
       "Barri_transport_NEITHER BAD, NOR GOOD                           1.147351\n",
       "dtype: float64"
      ]
     },
     "execution_count": 58,
     "metadata": {},
     "output_type": "execute_result"
    }
   ],
   "source": [
    "odds_ratios(glm_scobit_results)"
   ]
  },
  {
   "cell_type": "code",
   "execution_count": 59,
   "metadata": {},
   "outputs": [
    {
     "data": {
      "text/plain": [
       "0.15822432337750458"
      ]
     },
     "execution_count": 59,
     "metadata": {},
     "output_type": "execute_result"
    }
   ],
   "source": [
    "pseudo_r2(glm_scobit_results)"
   ]
  },
  {
   "cell_type": "code",
   "execution_count": 60,
   "metadata": {},
   "outputs": [
    {
     "data": {
      "text/plain": [
       "0.087"
      ]
     },
     "execution_count": 60,
     "metadata": {},
     "output_type": "execute_result"
    }
   ],
   "source": [
    "adj_count_r2(glm_scobit_results)"
   ]
  },
  {
   "cell_type": "code",
   "execution_count": null,
   "metadata": {},
   "outputs": [],
   "source": []
  },
  {
   "cell_type": "code",
   "execution_count": 61,
   "metadata": {},
   "outputs": [
    {
     "name": "stdout",
     "output_type": "stream",
     "text": [
      "AIC:  7505.3100628813445 BIC:  -113033.18312073327\n",
      "AIC:  7510.640290749845 BIC:  -113027.85289286477\n",
      "AIC:  7514.032538260228 BIC:  -113024.46064535438\n"
     ]
    }
   ],
   "source": [
    "print(\"AIC: \", glm_logit_results.aic, \"BIC: \", glm_logit_results.bic)\n",
    "print(\"AIC: \", glm_probit_results.aic, \"BIC: \", glm_probit_results.bic)\n",
    "print(\"AIC: \", glm_scobit_results.aic, \"BIC: \", glm_scobit_results.bic)"
   ]
  },
  {
   "cell_type": "code",
   "execution_count": null,
   "metadata": {},
   "outputs": [],
   "source": []
  },
  {
   "cell_type": "code",
   "execution_count": null,
   "metadata": {},
   "outputs": [],
   "source": []
  },
  {
   "cell_type": "code",
   "execution_count": null,
   "metadata": {},
   "outputs": [],
   "source": []
  }
 ],
 "metadata": {
  "kernelspec": {
   "display_name": "Python 3",
   "language": "python",
   "name": "python3"
  },
  "language_info": {
   "codemirror_mode": {
    "name": "ipython",
    "version": 3
   },
   "file_extension": ".py",
   "mimetype": "text/x-python",
   "name": "python",
   "nbconvert_exporter": "python",
   "pygments_lexer": "ipython3",
   "version": "3.7.6"
  }
 },
 "nbformat": 4,
 "nbformat_minor": 4
}
