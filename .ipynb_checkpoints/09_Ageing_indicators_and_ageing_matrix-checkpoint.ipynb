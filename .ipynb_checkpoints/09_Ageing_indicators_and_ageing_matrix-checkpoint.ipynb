{
 "cells": [
  {
   "cell_type": "markdown",
   "metadata": {},
   "source": [
    "# Ageing indicators"
   ]
  },
  {
   "cell_type": "code",
   "execution_count": 1,
   "metadata": {},
   "outputs": [],
   "source": [
    "import pandas as pd\n",
    "import geopandas as gpd\n",
    "import libpysal as lp\n",
    "import matplotlib.pyplot as plt\n",
    "import seaborn as sns\n",
    "import rasterio as rio\n",
    "import numpy as np\n",
    "import contextily as cx\n",
    "import shapely.geometry as geom\n",
    "from splot.libpysal import plot_spatial_weights"
   ]
  },
  {
   "cell_type": "code",
   "execution_count": 2,
   "metadata": {},
   "outputs": [
    {
     "ename": "Exception",
     "evalue": "File `'data.ipynb.py'` not found.",
     "output_type": "error",
     "traceback": [
      "\u001b[1;31m---------------------------------------------------------------------------\u001b[0m",
      "\u001b[1;31mOSError\u001b[0m                                   Traceback (most recent call last)",
      "\u001b[1;32m~\\anaconda3\\lib\\site-packages\\IPython\\core\\magics\\execution.py\u001b[0m in \u001b[0;36mrun\u001b[1;34m(self, parameter_s, runner, file_finder)\u001b[0m\n\u001b[0;32m    696\u001b[0m             \u001b[0mfpath\u001b[0m \u001b[1;33m=\u001b[0m \u001b[0marg_lst\u001b[0m\u001b[1;33m[\u001b[0m\u001b[1;36m0\u001b[0m\u001b[1;33m]\u001b[0m\u001b[1;33m\u001b[0m\u001b[1;33m\u001b[0m\u001b[0m\n\u001b[1;32m--> 697\u001b[1;33m             \u001b[0mfilename\u001b[0m \u001b[1;33m=\u001b[0m \u001b[0mfile_finder\u001b[0m\u001b[1;33m(\u001b[0m\u001b[0mfpath\u001b[0m\u001b[1;33m)\u001b[0m\u001b[1;33m\u001b[0m\u001b[1;33m\u001b[0m\u001b[0m\n\u001b[0m\u001b[0;32m    698\u001b[0m         \u001b[1;32mexcept\u001b[0m \u001b[0mIndexError\u001b[0m\u001b[1;33m:\u001b[0m\u001b[1;33m\u001b[0m\u001b[1;33m\u001b[0m\u001b[0m\n",
      "\u001b[1;32m~\\anaconda3\\lib\\site-packages\\IPython\\utils\\path.py\u001b[0m in \u001b[0;36mget_py_filename\u001b[1;34m(name, force_win32)\u001b[0m\n\u001b[0;32m    108\u001b[0m     \u001b[1;32melse\u001b[0m\u001b[1;33m:\u001b[0m\u001b[1;33m\u001b[0m\u001b[1;33m\u001b[0m\u001b[0m\n\u001b[1;32m--> 109\u001b[1;33m         \u001b[1;32mraise\u001b[0m \u001b[0mIOError\u001b[0m\u001b[1;33m(\u001b[0m\u001b[1;34m'File `%r` not found.'\u001b[0m \u001b[1;33m%\u001b[0m \u001b[0mname\u001b[0m\u001b[1;33m)\u001b[0m\u001b[1;33m\u001b[0m\u001b[1;33m\u001b[0m\u001b[0m\n\u001b[0m\u001b[0;32m    110\u001b[0m \u001b[1;33m\u001b[0m\u001b[0m\n",
      "\u001b[1;31mOSError\u001b[0m: File `'data.ipynb.py'` not found.",
      "\nDuring handling of the above exception, another exception occurred:\n",
      "\u001b[1;31mException\u001b[0m                                 Traceback (most recent call last)",
      "\u001b[1;32m<ipython-input-2-add4f6e86d22>\u001b[0m in \u001b[0;36m<module>\u001b[1;34m\u001b[0m\n\u001b[1;32m----> 1\u001b[1;33m \u001b[0mget_ipython\u001b[0m\u001b[1;33m(\u001b[0m\u001b[1;33m)\u001b[0m\u001b[1;33m.\u001b[0m\u001b[0mrun_line_magic\u001b[0m\u001b[1;33m(\u001b[0m\u001b[1;34m'run'\u001b[0m\u001b[1;33m,\u001b[0m \u001b[1;34m'data.ipynb'\u001b[0m\u001b[1;33m)\u001b[0m\u001b[1;33m\u001b[0m\u001b[1;33m\u001b[0m\u001b[0m\n\u001b[0m",
      "\u001b[1;32m~\\anaconda3\\lib\\site-packages\\IPython\\core\\interactiveshell.py\u001b[0m in \u001b[0;36mrun_line_magic\u001b[1;34m(self, magic_name, line, _stack_depth)\u001b[0m\n\u001b[0;32m   2324\u001b[0m                 \u001b[0mkwargs\u001b[0m\u001b[1;33m[\u001b[0m\u001b[1;34m'local_ns'\u001b[0m\u001b[1;33m]\u001b[0m \u001b[1;33m=\u001b[0m \u001b[0msys\u001b[0m\u001b[1;33m.\u001b[0m\u001b[0m_getframe\u001b[0m\u001b[1;33m(\u001b[0m\u001b[0mstack_depth\u001b[0m\u001b[1;33m)\u001b[0m\u001b[1;33m.\u001b[0m\u001b[0mf_locals\u001b[0m\u001b[1;33m\u001b[0m\u001b[1;33m\u001b[0m\u001b[0m\n\u001b[0;32m   2325\u001b[0m             \u001b[1;32mwith\u001b[0m \u001b[0mself\u001b[0m\u001b[1;33m.\u001b[0m\u001b[0mbuiltin_trap\u001b[0m\u001b[1;33m:\u001b[0m\u001b[1;33m\u001b[0m\u001b[1;33m\u001b[0m\u001b[0m\n\u001b[1;32m-> 2326\u001b[1;33m                 \u001b[0mresult\u001b[0m \u001b[1;33m=\u001b[0m \u001b[0mfn\u001b[0m\u001b[1;33m(\u001b[0m\u001b[1;33m*\u001b[0m\u001b[0margs\u001b[0m\u001b[1;33m,\u001b[0m \u001b[1;33m**\u001b[0m\u001b[0mkwargs\u001b[0m\u001b[1;33m)\u001b[0m\u001b[1;33m\u001b[0m\u001b[1;33m\u001b[0m\u001b[0m\n\u001b[0m\u001b[0;32m   2327\u001b[0m             \u001b[1;32mreturn\u001b[0m \u001b[0mresult\u001b[0m\u001b[1;33m\u001b[0m\u001b[1;33m\u001b[0m\u001b[0m\n\u001b[0;32m   2328\u001b[0m \u001b[1;33m\u001b[0m\u001b[0m\n",
      "\u001b[1;32m<decorator-gen-60>\u001b[0m in \u001b[0;36mrun\u001b[1;34m(self, parameter_s, runner, file_finder)\u001b[0m\n",
      "\u001b[1;32m~\\anaconda3\\lib\\site-packages\\IPython\\core\\magic.py\u001b[0m in \u001b[0;36m<lambda>\u001b[1;34m(f, *a, **k)\u001b[0m\n\u001b[0;32m    185\u001b[0m     \u001b[1;31m# but it's overkill for just that one bit of state.\u001b[0m\u001b[1;33m\u001b[0m\u001b[1;33m\u001b[0m\u001b[1;33m\u001b[0m\u001b[0m\n\u001b[0;32m    186\u001b[0m     \u001b[1;32mdef\u001b[0m \u001b[0mmagic_deco\u001b[0m\u001b[1;33m(\u001b[0m\u001b[0marg\u001b[0m\u001b[1;33m)\u001b[0m\u001b[1;33m:\u001b[0m\u001b[1;33m\u001b[0m\u001b[1;33m\u001b[0m\u001b[0m\n\u001b[1;32m--> 187\u001b[1;33m         \u001b[0mcall\u001b[0m \u001b[1;33m=\u001b[0m \u001b[1;32mlambda\u001b[0m \u001b[0mf\u001b[0m\u001b[1;33m,\u001b[0m \u001b[1;33m*\u001b[0m\u001b[0ma\u001b[0m\u001b[1;33m,\u001b[0m \u001b[1;33m**\u001b[0m\u001b[0mk\u001b[0m\u001b[1;33m:\u001b[0m \u001b[0mf\u001b[0m\u001b[1;33m(\u001b[0m\u001b[1;33m*\u001b[0m\u001b[0ma\u001b[0m\u001b[1;33m,\u001b[0m \u001b[1;33m**\u001b[0m\u001b[0mk\u001b[0m\u001b[1;33m)\u001b[0m\u001b[1;33m\u001b[0m\u001b[1;33m\u001b[0m\u001b[0m\n\u001b[0m\u001b[0;32m    188\u001b[0m \u001b[1;33m\u001b[0m\u001b[0m\n\u001b[0;32m    189\u001b[0m         \u001b[1;32mif\u001b[0m \u001b[0mcallable\u001b[0m\u001b[1;33m(\u001b[0m\u001b[0marg\u001b[0m\u001b[1;33m)\u001b[0m\u001b[1;33m:\u001b[0m\u001b[1;33m\u001b[0m\u001b[1;33m\u001b[0m\u001b[0m\n",
      "\u001b[1;32m~\\anaconda3\\lib\\site-packages\\IPython\\core\\magics\\execution.py\u001b[0m in \u001b[0;36mrun\u001b[1;34m(self, parameter_s, runner, file_finder)\u001b[0m\n\u001b[0;32m    706\u001b[0m             \u001b[1;32mif\u001b[0m \u001b[0mos\u001b[0m\u001b[1;33m.\u001b[0m\u001b[0mname\u001b[0m \u001b[1;33m==\u001b[0m \u001b[1;34m'nt'\u001b[0m \u001b[1;32mand\u001b[0m \u001b[0mre\u001b[0m\u001b[1;33m.\u001b[0m\u001b[0mmatch\u001b[0m\u001b[1;33m(\u001b[0m\u001b[1;34mr\"^'.*'$\"\u001b[0m\u001b[1;33m,\u001b[0m\u001b[0mfpath\u001b[0m\u001b[1;33m)\u001b[0m\u001b[1;33m:\u001b[0m\u001b[1;33m\u001b[0m\u001b[1;33m\u001b[0m\u001b[0m\n\u001b[0;32m    707\u001b[0m                 \u001b[0mwarn\u001b[0m\u001b[1;33m(\u001b[0m\u001b[1;34m'For Windows, use double quotes to wrap a filename: %run \"mypath\\\\myfile.py\"'\u001b[0m\u001b[1;33m)\u001b[0m\u001b[1;33m\u001b[0m\u001b[1;33m\u001b[0m\u001b[0m\n\u001b[1;32m--> 708\u001b[1;33m             \u001b[1;32mraise\u001b[0m \u001b[0mException\u001b[0m\u001b[1;33m(\u001b[0m\u001b[0mmsg\u001b[0m\u001b[1;33m)\u001b[0m\u001b[1;33m\u001b[0m\u001b[1;33m\u001b[0m\u001b[0m\n\u001b[0m\u001b[0;32m    709\u001b[0m         \u001b[1;32mexcept\u001b[0m \u001b[0mTypeError\u001b[0m\u001b[1;33m:\u001b[0m\u001b[1;33m\u001b[0m\u001b[1;33m\u001b[0m\u001b[0m\n\u001b[0;32m    710\u001b[0m             \u001b[1;32mif\u001b[0m \u001b[0mfpath\u001b[0m \u001b[1;32min\u001b[0m \u001b[0msys\u001b[0m\u001b[1;33m.\u001b[0m\u001b[0mmeta_path\u001b[0m\u001b[1;33m:\u001b[0m\u001b[1;33m\u001b[0m\u001b[1;33m\u001b[0m\u001b[0m\n",
      "\u001b[1;31mException\u001b[0m: File `'data.ipynb.py'` not found."
     ]
    }
   ],
   "source": [
    "%run data.ipynb"
   ]
  },
  {
   "cell_type": "code",
   "execution_count": null,
   "metadata": {},
   "outputs": [],
   "source": []
  },
  {
   "cell_type": "markdown",
   "metadata": {},
   "source": [
    "### Ageing index\n",
    "The number of persons aged 65+ per 100 persons under age 15\n",
    "\n",
    "### Dependency ratio\n",
    "The number of persons under 15 plus persons aged 65+ per 100 persons aged 15-64\n",
    "\n",
    "### Elderly support ratio\n",
    "The number of people aged 65+ per 100 persons aged 15-64"
   ]
  },
  {
   "cell_type": "code",
   "execution_count": null,
   "metadata": {},
   "outputs": [],
   "source": [
    "ageing_indicators_2010 = population.query('Year == 2010').pivot_table(index = ['Barri_code', 'Barri_name'], \n",
    "                                                                 columns=['Age_group'], \n",
    "                                                            values='Number', aggfunc='sum').reset_index()\n",
    "ageing_indicators_2010['Total'] = ageing_indicators_2010['< 15 years'] + ageing_indicators_2010['15-64 years'] + ageing_indicators_2010['65 years and more']\n",
    "\n",
    "ageing_indicators_2010['Ageing_index'] = ageing_indicators_2010['65 years and more'] / ageing_indicators_2010['< 15 years'] * 100\n",
    "ageing_indicators_2010['Dependency_ratio'] = (ageing_indicators_2010['65 years and more'] + ageing_indicators_2010['< 15 years']) / ageing_indicators_2010['15-64 years'] * 100\n",
    "ageing_indicators_2010['Elderly_support_ratio'] = ageing_indicators_2010['65 years and more'] / ageing_indicators_2010['15-64 years'] * 100"
   ]
  },
  {
   "cell_type": "code",
   "execution_count": null,
   "metadata": {},
   "outputs": [],
   "source": [
    "ageing_indicators_2019 = population.query('Year == 2019').pivot_table(index = ['Barri_code', 'Barri_name'], \n",
    "                                                                 columns=['Age_group'], \n",
    "                                                            values='Number', aggfunc='sum').reset_index()\n",
    "ageing_indicators_2019['Total'] = ageing_indicators_2019['< 15 years'] + ageing_indicators_2019['15-64 years'] + ageing_indicators_2019['65 years and more']\n",
    "\n",
    "ageing_indicators_2019['Ageing_index'] = ageing_indicators_2019['65 years and more'] / ageing_indicators_2019['< 15 years'] * 100\n",
    "ageing_indicators_2019['Dependency_ratio'] = (ageing_indicators_2019['65 years and more'] + ageing_indicators_2019['< 15 years']) / ageing_indicators_2019['15-64 years'] * 100\n",
    "ageing_indicators_2019['Elderly_support_ratio'] = ageing_indicators_2019['65 years and more'] / ageing_indicators_2019['15-64 years'] * 100"
   ]
  },
  {
   "cell_type": "code",
   "execution_count": null,
   "metadata": {},
   "outputs": [],
   "source": [
    "ageing_indicator_2010_2019 = ageing_indicators_2010[['Barri_code', 'Barri_name', \n",
    "                        'Ageing_index', 'Dependency_ratio', \n",
    "                        'Elderly_support_ratio']].merge(ageing_indicators_2019[['Barri_code', 'Barri_name', \n",
    "                                                                                'Ageing_index', 'Dependency_ratio', \n",
    "                                                                                'Elderly_support_ratio']], \n",
    "                                                        on=['Barri_code', 'Barri_name'],\n",
    "                                                        suffixes=('_2010', '_2019'))[['Barri_code', 'Barri_name', \n",
    "                                                                                     'Ageing_index_2010', 'Ageing_index_2019',\n",
    "                                                                                     'Dependency_ratio_2010', 'Dependency_ratio_2019',\n",
    "                                                                                     'Elderly_support_ratio_2010', 'Elderly_support_ratio_2019']]"
   ]
  },
  {
   "cell_type": "code",
   "execution_count": null,
   "metadata": {},
   "outputs": [],
   "source": [
    "ageing_indicator_2010_2019['Ageing_index_change'] = ageing_indicator_2010_2019['Ageing_index_2019'] - ageing_indicator_2010_2019['Ageing_index_2010']\n",
    "ageing_indicator_2010_2019['Dependency_ratio_change'] = ageing_indicator_2010_2019['Dependency_ratio_2019'] - ageing_indicator_2010_2019['Dependency_ratio_2010']\n",
    "ageing_indicator_2010_2019['Elderly_support_ratio_change'] = ageing_indicator_2010_2019['Elderly_support_ratio_2019'] - ageing_indicator_2010_2019['Elderly_support_ratio_2010']\n",
    "ageing_indicator_2010_2019[['Barri_code', 'Barri_name','Ageing_index_change', 'Dependency_ratio_change', 'Elderly_support_ratio_change']]"
   ]
  },
  {
   "cell_type": "code",
   "execution_count": null,
   "metadata": {},
   "outputs": [],
   "source": [
    "# def highlight_values(val):\n",
    "#     if val==0:\n",
    "#         return 'background-color: %s' % '#ffffff'\n",
    "#     elif val<0:\n",
    "#         return 'background-color: %s' % '#43D255'\n",
    "#     elif val>0:\n",
    "#         return 'background-color: %s' % '#FF5B52'\n",
    "#     else:\n",
    "#         return ''"
   ]
  },
  {
   "cell_type": "code",
   "execution_count": null,
   "metadata": {},
   "outputs": [],
   "source": [
    "# t = ageing_indicator_2010_2019[['Ageing_index_change', 'Dependency_ratio_change', 'Elderly_support_ratio_change']]\n",
    "# t.style.applymap(highlight_values)"
   ]
  },
  {
   "cell_type": "code",
   "execution_count": null,
   "metadata": {},
   "outputs": [],
   "source": []
  },
  {
   "cell_type": "code",
   "execution_count": null,
   "metadata": {},
   "outputs": [],
   "source": [
    "ageing_indicators_barris = population.pivot_table(index = ['Year', 'Barri_code', 'Barri_name'], columns=['Age_group'], \n",
    "                                                values='Number', aggfunc='sum').reset_index()\n",
    "ageing_indicators_barris['Total'] = ageing_indicators_barris['< 15 years'] + ageing_indicators_barris['15-64 years'] + ageing_indicators_barris['65 years and more']\n",
    "\n",
    "ageing_indicators_barris['Ageing_index'] = round(ageing_indicators_barris['65 years and more'] / ageing_indicators_barris['< 15 years'] * 100,1)\n",
    "ageing_indicators_barris['Dependency_ratio'] = round((ageing_indicators_barris['65 years and more'] + ageing_indicators_barris['< 15 years']) / ageing_indicators_barris['15-64 years'] * 100,1)\n",
    "ageing_indicators_barris['Elderly_support_ratio'] = round(ageing_indicators_barris['65 years and more'] / ageing_indicators_barris['15-64 years'] * 100,1)"
   ]
  },
  {
   "cell_type": "code",
   "execution_count": null,
   "metadata": {},
   "outputs": [],
   "source": [
    "ageing_indicators_barris = ageing_indicators_barris[['Year', 'Barri_code', 'Barri_name', 'Ageing_index', 'Dependency_ratio', 'Elderly_support_ratio']]\n",
    "ageing_indicators_barris = ageing_indicators_barris.merge(barris, on='Barri_code')\n",
    "ageing_indicators_barris = gpd.GeoDataFrame(ageing_indicators_barris, geometry=ageing_indicators_barris['geometry'])"
   ]
  },
  {
   "cell_type": "code",
   "execution_count": null,
   "metadata": {},
   "outputs": [],
   "source": [
    "ageing_indicators_barris"
   ]
  },
  {
   "cell_type": "code",
   "execution_count": null,
   "metadata": {},
   "outputs": [],
   "source": [
    "f, ax = plt.subplots(1,2,figsize=(2.16*8,8))\n",
    "\n",
    "df = ageing_indicators_barris\n",
    "df = gpd.GeoDataFrame(df, geometry=df['geometry'], crs={\"init\": \"epsg:4326\"})\n",
    "df = df.to_crs(epsg=3857)\n",
    "\n",
    "df.query('Year == 2010').plot('Ageing_index', ax=ax[0], alpha=0.8, cmap='Blues', edgecolor='k', legend=True)\n",
    "cx.add_basemap(ax[0], crs=df.crs, source=cx.providers.Stamen.TonerLite)\n",
    "ax[0].axis('off')\n",
    "\n",
    "df.query('Year == 2019').plot('Ageing_index', ax=ax[1], alpha=0.8, cmap='Blues', edgecolor='k', legend=True)\n",
    "cx.add_basemap(ax[1], crs=df.crs, source=cx.providers.Stamen.TonerLite)\n",
    "ax[1].axis('off')\n",
    "\n",
    "f.suptitle('Ageing index', fontsize=16)\n",
    "ax[0].set_title(\"2010\")\n",
    "ax[1].set_title(\"2019\")"
   ]
  },
  {
   "cell_type": "code",
   "execution_count": null,
   "metadata": {},
   "outputs": [],
   "source": []
  },
  {
   "cell_type": "code",
   "execution_count": null,
   "metadata": {},
   "outputs": [],
   "source": [
    "ageing_indicators = population.pivot_table(index = ['Year'], columns=['Age_group'], \n",
    "                                                values='Number', aggfunc='sum').reset_index()\n",
    "ageing_indicators['Total'] = ageing_indicators['< 15 years'] + ageing_indicators['15-64 years'] + ageing_indicators['65 years and more']\n",
    "\n",
    "ageing_indicators['Ageing_index'] = round(ageing_indicators['65 years and more'] / ageing_indicators['< 15 years'] * 100,1)\n",
    "ageing_indicators['Dependency_ratio'] = round((ageing_indicators['65 years and more'] + ageing_indicators['< 15 years']) / ageing_indicators['15-64 years'] * 100,1)\n",
    "ageing_indicators['Elderly_support_ratio'] = round(ageing_indicators['65 years and more'] / ageing_indicators['15-64 years'] * 100,1)"
   ]
  },
  {
   "cell_type": "code",
   "execution_count": null,
   "metadata": {},
   "outputs": [],
   "source": [
    "ageing_indicators[['Year', 'Ageing_index', 'Dependency_ratio', 'Elderly_support_ratio']].query('Year == 2010 or Year == 2019')"
   ]
  },
  {
   "cell_type": "code",
   "execution_count": null,
   "metadata": {},
   "outputs": [],
   "source": []
  },
  {
   "cell_type": "code",
   "execution_count": null,
   "metadata": {},
   "outputs": [],
   "source": [
    "ageing_indicators_spain_eu = population_spain.query('GEO == \"Spain\"').pivot_table(index = ['TIME', 'GEO'], columns=['AGE'], \n",
    "                                                values='Value', aggfunc='sum').reset_index()\n",
    "ageing_indicators_spain_eu['Ageing_index'] = round(ageing_indicators_spain_eu['65 years or over'] / ageing_indicators_spain_eu['Less than 15 years'] * 100,1)\n",
    "ageing_indicators_spain_eu['Dependency_ratio'] = round((ageing_indicators_spain_eu['65 years or over'] + ageing_indicators_spain_eu['Less than 15 years']) / ageing_indicators_spain_eu['From 15 to 64 years'] * 100,1)\n",
    "ageing_indicators_spain_eu['Elderly_support_ratio'] = round(ageing_indicators_spain_eu['65 years or over'] / ageing_indicators_spain_eu['From 15 to 64 years'] * 100,1)\n",
    "ageing_indicators_spain_eu[['TIME', 'GEO', 'Ageing_index', 'Dependency_ratio', 'Elderly_support_ratio']].query('TIME == 2019 or TIME == 2010')"
   ]
  },
  {
   "cell_type": "code",
   "execution_count": null,
   "metadata": {},
   "outputs": [],
   "source": []
  },
  {
   "cell_type": "code",
   "execution_count": null,
   "metadata": {},
   "outputs": [],
   "source": [
    "ageing_indicators_cat = population_cat.pivot_table(index = ['TIME', 'GEO'], columns=['AGE'], \n",
    "                                                values='Value', aggfunc='sum').reset_index()\n",
    "ageing_indicators_cat['Total'] = ageing_indicators_cat['< 15 years'] + ageing_indicators_cat['15-64 years'] + ageing_indicators_cat['65 years and more']\n",
    "\n",
    "ageing_indicators_cat['Ageing_index'] = round(ageing_indicators_cat['65 years and more'] / ageing_indicators_cat['< 15 years'] * 100,1)\n",
    "ageing_indicators_cat['Dependency_ratio'] = round((ageing_indicators_cat['65 years and more'] + ageing_indicators_cat['< 15 years']) / ageing_indicators_cat['15-64 years'] * 100,1)\n",
    "ageing_indicators_cat['Elderly_support_ratio'] = round(ageing_indicators_cat['65 years and more'] / ageing_indicators_cat['15-64 years'] * 100,1)\n",
    "ageing_indicators_cat[['TIME', 'GEO', 'Ageing_index', 'Dependency_ratio', 'Elderly_support_ratio']].query('TIME == 2019 or TIME == 2010')"
   ]
  },
  {
   "cell_type": "code",
   "execution_count": null,
   "metadata": {},
   "outputs": [],
   "source": []
  },
  {
   "cell_type": "markdown",
   "metadata": {},
   "source": [
    "# Population ageing matrix\n",
    "A theorethical framework that classifies the demographic dynamics of population ageing across metropolitan areas.\n",
    "\n",
    "Numeric ageing - percentage change in the number of people ages 65+ per unit area between 2010 and 2019.\n",
    "\n",
    "Structural ageing - percentage change in the ratio of of the 65+ population to the total population per barri between 2010 and 2019."
   ]
  },
  {
   "cell_type": "code",
   "execution_count": null,
   "metadata": {},
   "outputs": [],
   "source": [
    "area_df = pop_density.copy()\n",
    "area_df = area_df[['Year', 'Barri_code', 'Area_ha']]\n",
    "\n",
    "numeric2010 = population_tg.query('Year == 2010').merge(area_df.query('Year == 2010'), on = \"Barri_code\")\n",
    "numeric2010 = numeric2010[['Year_x', 'District_code', 'District_name', 'Barri_code', 'Barri_name',\n",
    "       'Age_group', 'Number', 'geometry_district', 'geometry_barri',\n",
    "       'geometry', 'Area_ha']].rename(columns = {'Year_x': 'Year'})\n",
    "numeric2010['Density'] = numeric2010['Number'].div(numeric2010['Area_ha'], axis=0).round(2)\n",
    "numeric2010 = numeric2010[['Year', 'District_code', 'District_name', 'Barri_code', 'Barri_name',\n",
    "       'Age_group', 'Number', 'Area_ha', 'Density', 'geometry_district', 'geometry_barri',\n",
    "       'geometry']]\n",
    "numeric2010 = numeric2010.query('Age_group == \"65 years and more\"')\n",
    "numeric2010.head()"
   ]
  },
  {
   "cell_type": "code",
   "execution_count": null,
   "metadata": {},
   "outputs": [],
   "source": [
    "numeric2019 = population_tg.query('Year == 2019').merge(area_df.query('Year == 2010'), on = \"Barri_code\")\n",
    "numeric2019 = numeric2019[['Year_x', 'District_code', 'District_name', 'Barri_code', 'Barri_name',\n",
    "       'Age_group', 'Number', 'geometry_district', 'geometry_barri',\n",
    "       'geometry', 'Area_ha']].rename(columns = {'Year_x': 'Year'})\n",
    "numeric2019['Density'] = numeric2019['Number'].div(numeric2019['Area_ha'], axis=0).round(2)\n",
    "numeric2019 = numeric2019[['Year', 'District_code', 'District_name', 'Barri_code', 'Barri_name',\n",
    "       'Age_group', 'Number', 'Area_ha', 'Density', 'geometry_district', 'geometry_barri',\n",
    "       'geometry']]\n",
    "numeric2019 = numeric2019.query('Age_group == \"65 years and more\"')\n",
    "numeric2019.head()"
   ]
  },
  {
   "cell_type": "code",
   "execution_count": null,
   "metadata": {},
   "outputs": [],
   "source": [
    "numeric = numeric2010[['Barri_code', 'Barri_name', 'Density']].merge(numeric2019[['Barri_code', 'Density']], on='Barri_code')"
   ]
  },
  {
   "cell_type": "code",
   "execution_count": null,
   "metadata": {},
   "outputs": [],
   "source": [
    "numeric.rename(columns={'Density_x': 'Density_2010', 'Density_y': 'Density_2019'}, inplace=True)"
   ]
  },
  {
   "cell_type": "code",
   "execution_count": null,
   "metadata": {},
   "outputs": [],
   "source": [
    "numeric['Change'] = (numeric['Density_2019'] - numeric['Density_2010'])/numeric['Density_2010']*100"
   ]
  },
  {
   "cell_type": "code",
   "execution_count": null,
   "metadata": {},
   "outputs": [],
   "source": [
    "numeric"
   ]
  },
  {
   "cell_type": "code",
   "execution_count": null,
   "metadata": {},
   "outputs": [],
   "source": []
  },
  {
   "cell_type": "code",
   "execution_count": null,
   "metadata": {},
   "outputs": [],
   "source": [
    "structural2010 = population_tg.query('Year == 2010').groupby(['Year', 'District_code', 'District_name', \n",
    "                       'Barri_code', 'Barri_name', 'Age_group']).agg({'Number': 'sum'}).groupby(level=[\"Year\",\"Barri_name\"]).apply(lambda x: 100 * x / float(x.sum())).reset_index()\n",
    "structural2010 = structural2010.merge(districts, on='District_code').merge(barris, on='Barri_code')\n",
    "structural2010.rename(columns={'geometry_x': 'geometry_district', 'geometry_y': 'geometry_barri'}, inplace=True)\n",
    "structural2010 = gpd.GeoDataFrame(structural2010, geometry=structural2010['geometry_barri'])\n",
    "structural2010 = structural2010.query('Age_group == \"65 years and more\"')\n",
    "structural2010.head()"
   ]
  },
  {
   "cell_type": "code",
   "execution_count": null,
   "metadata": {},
   "outputs": [],
   "source": [
    "structural2019 = population_tg.query('Year == 2019').groupby(['Year', 'District_code', 'District_name', \n",
    "                       'Barri_code', 'Barri_name', 'Age_group']).agg({'Number': 'sum'}).groupby(level=[\"Year\",\"Barri_name\"]).apply(lambda x: 100 * x / float(x.sum())).reset_index()\n",
    "structural2019 = structural2019.merge(districts, on='District_code').merge(barris, on='Barri_code')\n",
    "structural2019.rename(columns={'geometry_x': 'geometry_district', 'geometry_y': 'geometry_barri'}, inplace=True)\n",
    "structural2019 = gpd.GeoDataFrame(structural2019, geometry=structural2019['geometry_barri'])\n",
    "structural2019 = structural2019.query('Age_group == \"65 years and more\"')\n",
    "structural2019.head()"
   ]
  },
  {
   "cell_type": "code",
   "execution_count": null,
   "metadata": {},
   "outputs": [],
   "source": [
    "structural = structural2010[['Barri_code', 'Barri_name', 'Number']].merge(structural2019[['Barri_code', 'Number']], on='Barri_code')"
   ]
  },
  {
   "cell_type": "code",
   "execution_count": null,
   "metadata": {},
   "outputs": [],
   "source": [
    "structural.rename(columns={'Number_x': 'Number_2010', 'Number_y': 'Number_2019'}, inplace=True)"
   ]
  },
  {
   "cell_type": "code",
   "execution_count": null,
   "metadata": {},
   "outputs": [],
   "source": [
    "structural['Change'] = structural['Number_2019'] - structural['Number_2010']"
   ]
  },
  {
   "cell_type": "code",
   "execution_count": null,
   "metadata": {},
   "outputs": [],
   "source": [
    "ageing_matrix = numeric[['Barri_code', 'Barri_name', 'Change']].merge(structural[['Barri_code', 'Change']], on='Barri_code')"
   ]
  },
  {
   "cell_type": "code",
   "execution_count": null,
   "metadata": {},
   "outputs": [],
   "source": [
    "ageing_matrix.rename(columns={'Change_x': 'Change_numeric', 'Change_y': 'Change_structural'}, inplace=True)"
   ]
  },
  {
   "cell_type": "code",
   "execution_count": null,
   "metadata": {},
   "outputs": [],
   "source": [
    "ageing_matrix.sort_values(by='Change_numeric', ascending=False)"
   ]
  },
  {
   "cell_type": "markdown",
   "metadata": {},
   "source": [
    "**Dilution** - \n",
    "This quadrant represents areas which are experiencing structural decrease and numeric\n",
    "increase. In this case, the over 65 population as a percentage of the total population in\n",
    "that area is decreasing or becoming ‘diluted’ relative to younger age groups. Although\n",
    "the numbers of the older demographic are increasing, they are not keeping pace with\n",
    "the increases in the under 65 age group. This may be due to out-migration on the part\n",
    "of the older demographic, or in-migration on the part of the younger one. The\n",
    "numbers of the over 65 population continue to increase, pointing to ageing-in-place\n",
    "as well as in-migration of the older demographic (but not as much as for younger\n",
    "people).\n",
    "\n",
    "\n",
    "**Accumulation** - \n",
    "This quadrant represents areas that are experiencing both structural and numeric increase\n",
    "in the over 65 population group. In this case the over 65 population is accumulating in the\n",
    "area, possibly due to the older demographic ageing-in-place, as well as attracting people\n",
    "from this demographic into the area (in-migration). Structural increase may also be a\n",
    "result of the under 65 demographic moving out of the area.\n",
    "\n",
    "\n",
    "**Concentration** - \n",
    "This quadrant represents areas which are experiencing structural increase but numeric\n",
    "decrease. Here the over 65 population as a percentage of the total population is increasing\n",
    "while the total numbers of the over 65 population are decreasing. In effect there is a concentration\n",
    "of the older demographic even though the overall numbers are falling. This\n",
    "points to a trend of out-migration, especially of the younger demographic.\n",
    "\n",
    "\n",
    "**Decline** - \n",
    "This quadrant represents areas that are experiencing structural and numeric decreases in\n",
    "the over 65 population. This is most likely as a result of over 65 out-migration or stagnation\n",
    "coupled with a growth in the under 65 population group both in structural and\n",
    "numeric terms."
   ]
  },
  {
   "cell_type": "code",
   "execution_count": null,
   "metadata": {},
   "outputs": [],
   "source": [
    "def label_ageing(row):\n",
    "    if row['Change_numeric'] > ageing_matrix['Change_numeric'].mean() and row['Change_structural'] > ageing_matrix['Change_structural'].mean():\n",
    "        return 'Accumulation'\n",
    "    if row['Change_numeric'] > ageing_matrix['Change_numeric'].mean() and row['Change_structural'] < ageing_matrix['Change_structural'].mean():\n",
    "        return 'Concentration'\n",
    "    if row['Change_numeric'] < ageing_matrix['Change_numeric'].mean() and row['Change_structural'] < ageing_matrix['Change_structural'].mean():\n",
    "        return 'Decline'\n",
    "    if row['Change_numeric'] < ageing_matrix['Change_numeric'].mean() and row['Change_structural'] > ageing_matrix['Change_structural'].mean():\n",
    "        return 'Dilution'"
   ]
  },
  {
   "cell_type": "code",
   "execution_count": null,
   "metadata": {},
   "outputs": [],
   "source": [
    "ageing_matrix['Label'] = ageing_matrix.apply(lambda row: label_ageing(row), axis=1)"
   ]
  },
  {
   "cell_type": "code",
   "execution_count": null,
   "metadata": {},
   "outputs": [],
   "source": [
    "f, ax = plt.subplots(1, figsize=(8,8))\n",
    "\n",
    "plt.plot(ageing_matrix['Change_structural'], ageing_matrix['Change_numeric'], 'o', markersize=8, color='grey')\n",
    "\n",
    " # dashed horizontal at mean of the price\n",
    "plt.hlines(ageing_matrix['Change_numeric'].mean(), ageing_matrix['Change_structural'].min(), ageing_matrix['Change_structural'].max(), linestyle='--')\n",
    " # dashed vertical at mean of lagged price \n",
    "plt.vlines(ageing_matrix['Change_structural'].mean(), ageing_matrix['Change_numeric'].min(), ageing_matrix['Change_numeric'].max(), linestyle='--')\n",
    "\n",
    "plt.title('Scatterplot of structural change (p.p.) against numeric change (%) \\n 2010 to 2019 65+ age population')\n",
    "plt.xlabel('Structural change (p.p.)')\n",
    "plt.ylabel('Numeric change (%)')\n",
    "plt.show()\n"
   ]
  },
  {
   "cell_type": "code",
   "execution_count": null,
   "metadata": {},
   "outputs": [],
   "source": [
    "ageing_matrix = gpd.GeoDataFrame(ageing_matrix.merge(barris, on='Barri_code'), geometry='geometry')"
   ]
  },
  {
   "cell_type": "code",
   "execution_count": null,
   "metadata": {},
   "outputs": [],
   "source": [
    "from matplotlib import colors\n",
    "f, ax = plt.subplots(1, figsize=(8,8))\n",
    "hmap = colors.ListedColormap(['firebrick', 'darkorange', 'mediumblue', 'cornflowerblue'])\n",
    "\n",
    "ageing_matrix.plot(column='Label', cmap=hmap, categorical=True, alpha=0.8, ax=ax, edgecolor='k', legend=True)\n",
    "cx.add_basemap(ax, crs=ageing_matrix.crs, source=cx.providers.Stamen.TonerLite)\n",
    "\n",
    "ax.set_axis_off()\n",
    "plt.title(\"Ageing matrix\")\n",
    "\n",
    "plt.show()"
   ]
  },
  {
   "cell_type": "code",
   "execution_count": null,
   "metadata": {},
   "outputs": [],
   "source": []
  },
  {
   "cell_type": "code",
   "execution_count": null,
   "metadata": {},
   "outputs": [],
   "source": []
  }
 ],
 "metadata": {
  "kernelspec": {
   "display_name": "Python 3",
   "language": "python",
   "name": "python3"
  },
  "language_info": {
   "codemirror_mode": {
    "name": "ipython",
    "version": 3
   },
   "file_extension": ".py",
   "mimetype": "text/x-python",
   "name": "python",
   "nbconvert_exporter": "python",
   "pygments_lexer": "ipython3",
   "version": "3.7.6"
  }
 },
 "nbformat": 4,
 "nbformat_minor": 4
}
