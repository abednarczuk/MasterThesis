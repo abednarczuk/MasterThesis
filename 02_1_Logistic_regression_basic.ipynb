{
 "cells": [
  {
   "cell_type": "markdown",
   "metadata": {},
   "source": [
    "Aleksandra Bednarczuk"
   ]
  },
  {
   "cell_type": "markdown",
   "metadata": {},
   "source": [
    "# Predictors of elderly citizens willingness to stay in the neighbourhood\n",
    "# Logistic regression"
   ]
  },
  {
   "cell_type": "markdown",
   "metadata": {},
   "source": [
    "Original dataset, including barris among predictors"
   ]
  },
  {
   "cell_type": "code",
   "execution_count": 1,
   "metadata": {},
   "outputs": [],
   "source": [
    "import pandas as pd\n",
    "import numpy as np\n",
    "\n",
    "import matplotlib.pyplot as plt"
   ]
  },
  {
   "cell_type": "code",
   "execution_count": 2,
   "metadata": {},
   "outputs": [],
   "source": [
    "from imblearn.over_sampling import SMOTE\n",
    "\n",
    "import statsmodels.api as sm\n",
    "import statsmodels.formula.api as smf\n",
    "\n",
    "from sklearn.model_selection import train_test_split\n",
    "from sklearn.feature_selection import RFE\n",
    "from sklearn.linear_model import LogisticRegression\n",
    "\n",
    "from sklearn.metrics import accuracy_score\n",
    "from sklearn.metrics import classification_report\n",
    "from sklearn.metrics import confusion_matrix\n",
    "from sklearn.metrics import roc_auc_score\n",
    "from sklearn.metrics import roc_curve\n",
    "from sklearn.metrics import r2_score\n",
    "\n",
    "from sklearn.feature_selection import SelectKBest\n",
    "from sklearn.feature_selection import chi2\n",
    "from sklearn.feature_selection import mutual_info_classif\n",
    "from sklearn.feature_selection import f_classif\n",
    "from sklearn.preprocessing import LabelEncoder\n",
    "from sklearn.preprocessing import OrdinalEncoder\n",
    "\n",
    "from scipy import stats"
   ]
  },
  {
   "cell_type": "code",
   "execution_count": null,
   "metadata": {},
   "outputs": [],
   "source": []
  },
  {
   "cell_type": "code",
   "execution_count": 3,
   "metadata": {},
   "outputs": [],
   "source": [
    "data = pd.read_pickle(\"survey_transformed.pkl\")"
   ]
  },
  {
   "cell_type": "code",
   "execution_count": 4,
   "metadata": {},
   "outputs": [
    {
     "data": {
      "text/html": [
       "<div>\n",
       "<style scoped>\n",
       "    .dataframe tbody tr th:only-of-type {\n",
       "        vertical-align: middle;\n",
       "    }\n",
       "\n",
       "    .dataframe tbody tr th {\n",
       "        vertical-align: top;\n",
       "    }\n",
       "\n",
       "    .dataframe thead th {\n",
       "        text-align: right;\n",
       "    }\n",
       "</style>\n",
       "<table border=\"1\" class=\"dataframe\">\n",
       "  <thead>\n",
       "    <tr style=\"text-align: right;\">\n",
       "      <th></th>\n",
       "      <th>ANY</th>\n",
       "      <th>Would_live_in_another_neighborhood</th>\n",
       "      <th>District</th>\n",
       "      <th>Gender</th>\n",
       "      <th>Place_of_birth</th>\n",
       "      <th>Time_living_in_barri</th>\n",
       "      <th>Barri_evolution</th>\n",
       "      <th>BCN_evolution</th>\n",
       "      <th>Barri_future</th>\n",
       "      <th>BCN_future</th>\n",
       "      <th>...</th>\n",
       "      <th>House_size</th>\n",
       "      <th>Monthly_family_income</th>\n",
       "      <th>Social_class</th>\n",
       "      <th>Living_alone</th>\n",
       "      <th>BCN_over_barri_evolution</th>\n",
       "      <th>BCN_over_barri_future</th>\n",
       "      <th>BCN_over_barri_satisfaction_of_living</th>\n",
       "      <th>BCN_over_barri_transport</th>\n",
       "      <th>BCN_over_barri_management</th>\n",
       "      <th>BCN_over_barri_citizen_security</th>\n",
       "    </tr>\n",
       "  </thead>\n",
       "  <tbody>\n",
       "    <tr>\n",
       "      <th>0</th>\n",
       "      <td>2008</td>\n",
       "      <td>0.0</td>\n",
       "      <td>CIUTAT VELLA</td>\n",
       "      <td>1</td>\n",
       "      <td>BARCELONA</td>\n",
       "      <td>I HAVE ALWAYS LIVED IN THE NEIGHBORHOOD</td>\n",
       "      <td>IT IS THE SAME</td>\n",
       "      <td>IT IS WORSE</td>\n",
       "      <td>IT WILL STAY THE SAME</td>\n",
       "      <td>IT WILL GET WORSE</td>\n",
       "      <td>...</td>\n",
       "      <td>&lt; 50 M2</td>\n",
       "      <td>&lt; 1000 EUROS</td>\n",
       "      <td>MIDDLE-MIDDLE</td>\n",
       "      <td>ONE</td>\n",
       "      <td>0</td>\n",
       "      <td>0</td>\n",
       "      <td>0</td>\n",
       "      <td>0</td>\n",
       "      <td>0</td>\n",
       "      <td>0</td>\n",
       "    </tr>\n",
       "    <tr>\n",
       "      <th>1</th>\n",
       "      <td>2008</td>\n",
       "      <td>0.0</td>\n",
       "      <td>CIUTAT VELLA</td>\n",
       "      <td>1</td>\n",
       "      <td>REST OF SPAIN</td>\n",
       "      <td>MORE THAN 10 YEARS</td>\n",
       "      <td>IT IS THE SAME</td>\n",
       "      <td>IT HAS IMPROVED</td>\n",
       "      <td>IT WILL IMPROVE</td>\n",
       "      <td>IT WILL IMPROVE</td>\n",
       "      <td>...</td>\n",
       "      <td>51-100 M2</td>\n",
       "      <td>&lt; 1000 EUROS</td>\n",
       "      <td>LOW</td>\n",
       "      <td>TWO</td>\n",
       "      <td>1</td>\n",
       "      <td>0</td>\n",
       "      <td>0</td>\n",
       "      <td>0</td>\n",
       "      <td>0</td>\n",
       "      <td>0</td>\n",
       "    </tr>\n",
       "    <tr>\n",
       "      <th>3</th>\n",
       "      <td>2008</td>\n",
       "      <td>0.0</td>\n",
       "      <td>CIUTAT VELLA</td>\n",
       "      <td>0</td>\n",
       "      <td>REST OF CATALONIA</td>\n",
       "      <td>MORE THAN 10 YEARS</td>\n",
       "      <td>IT HAS IMPROVED</td>\n",
       "      <td>IT IS WORSE</td>\n",
       "      <td>IT WILL IMPROVE</td>\n",
       "      <td>IT WILL GET WORSE</td>\n",
       "      <td>...</td>\n",
       "      <td>51-100 M2</td>\n",
       "      <td>1001-2000 EUROS</td>\n",
       "      <td>MIDDLE-LOW</td>\n",
       "      <td>THREE</td>\n",
       "      <td>0</td>\n",
       "      <td>0</td>\n",
       "      <td>0</td>\n",
       "      <td>0</td>\n",
       "      <td>0</td>\n",
       "      <td>0</td>\n",
       "    </tr>\n",
       "    <tr>\n",
       "      <th>5</th>\n",
       "      <td>2008</td>\n",
       "      <td>0.0</td>\n",
       "      <td>CIUTAT VELLA</td>\n",
       "      <td>0</td>\n",
       "      <td>BARCELONA</td>\n",
       "      <td>I HAVE ALWAYS LIVED IN THE NEIGHBORHOOD</td>\n",
       "      <td>IT IS THE SAME</td>\n",
       "      <td>IT IS WORSE</td>\n",
       "      <td>IT WILL IMPROVE</td>\n",
       "      <td>IT WILL STAY THE SAME</td>\n",
       "      <td>...</td>\n",
       "      <td>51-100 M2</td>\n",
       "      <td>&lt; 1000 EUROS</td>\n",
       "      <td>MIDDLE-LOW</td>\n",
       "      <td>THREE</td>\n",
       "      <td>0</td>\n",
       "      <td>0</td>\n",
       "      <td>0</td>\n",
       "      <td>0</td>\n",
       "      <td>0</td>\n",
       "      <td>0</td>\n",
       "    </tr>\n",
       "    <tr>\n",
       "      <th>6</th>\n",
       "      <td>2008</td>\n",
       "      <td>0.0</td>\n",
       "      <td>CIUTAT VELLA</td>\n",
       "      <td>1</td>\n",
       "      <td>BARCELONA</td>\n",
       "      <td>I HAVE ALWAYS LIVED IN THE NEIGHBORHOOD</td>\n",
       "      <td>IT IS WORSE</td>\n",
       "      <td>IT IS WORSE</td>\n",
       "      <td>IT WILL GET WORSE</td>\n",
       "      <td>IT WILL GET WORSE</td>\n",
       "      <td>...</td>\n",
       "      <td>51-100 M2</td>\n",
       "      <td>&lt; 1000 EUROS</td>\n",
       "      <td>LOW</td>\n",
       "      <td>ONE</td>\n",
       "      <td>0</td>\n",
       "      <td>0</td>\n",
       "      <td>1</td>\n",
       "      <td>0</td>\n",
       "      <td>0</td>\n",
       "      <td>0</td>\n",
       "    </tr>\n",
       "  </tbody>\n",
       "</table>\n",
       "<p>5 rows × 41 columns</p>\n",
       "</div>"
      ],
      "text/plain": [
       "    ANY  Would_live_in_another_neighborhood      District  Gender  \\\n",
       "0  2008                                 0.0  CIUTAT VELLA       1   \n",
       "1  2008                                 0.0  CIUTAT VELLA       1   \n",
       "3  2008                                 0.0  CIUTAT VELLA       0   \n",
       "5  2008                                 0.0  CIUTAT VELLA       0   \n",
       "6  2008                                 0.0  CIUTAT VELLA       1   \n",
       "\n",
       "      Place_of_birth                     Time_living_in_barri  \\\n",
       "0          BARCELONA  I HAVE ALWAYS LIVED IN THE NEIGHBORHOOD   \n",
       "1      REST OF SPAIN                       MORE THAN 10 YEARS   \n",
       "3  REST OF CATALONIA                       MORE THAN 10 YEARS   \n",
       "5          BARCELONA  I HAVE ALWAYS LIVED IN THE NEIGHBORHOOD   \n",
       "6          BARCELONA  I HAVE ALWAYS LIVED IN THE NEIGHBORHOOD   \n",
       "\n",
       "   Barri_evolution    BCN_evolution           Barri_future  \\\n",
       "0   IT IS THE SAME      IT IS WORSE  IT WILL STAY THE SAME   \n",
       "1   IT IS THE SAME  IT HAS IMPROVED        IT WILL IMPROVE   \n",
       "3  IT HAS IMPROVED      IT IS WORSE        IT WILL IMPROVE   \n",
       "5   IT IS THE SAME      IT IS WORSE        IT WILL IMPROVE   \n",
       "6      IT IS WORSE      IT IS WORSE      IT WILL GET WORSE   \n",
       "\n",
       "              BCN_future  ... House_size Monthly_family_income   Social_class  \\\n",
       "0      IT WILL GET WORSE  ...    < 50 M2          < 1000 EUROS  MIDDLE-MIDDLE   \n",
       "1        IT WILL IMPROVE  ...  51-100 M2          < 1000 EUROS            LOW   \n",
       "3      IT WILL GET WORSE  ...  51-100 M2       1001-2000 EUROS     MIDDLE-LOW   \n",
       "5  IT WILL STAY THE SAME  ...  51-100 M2          < 1000 EUROS     MIDDLE-LOW   \n",
       "6      IT WILL GET WORSE  ...  51-100 M2          < 1000 EUROS            LOW   \n",
       "\n",
       "  Living_alone BCN_over_barri_evolution BCN_over_barri_future  \\\n",
       "0          ONE                        0                     0   \n",
       "1          TWO                        1                     0   \n",
       "3        THREE                        0                     0   \n",
       "5        THREE                        0                     0   \n",
       "6          ONE                        0                     0   \n",
       "\n",
       "  BCN_over_barri_satisfaction_of_living BCN_over_barri_transport  \\\n",
       "0                                     0                        0   \n",
       "1                                     0                        0   \n",
       "3                                     0                        0   \n",
       "5                                     0                        0   \n",
       "6                                     1                        0   \n",
       "\n",
       "  BCN_over_barri_management BCN_over_barri_citizen_security  \n",
       "0                         0                               0  \n",
       "1                         0                               0  \n",
       "3                         0                               0  \n",
       "5                         0                               0  \n",
       "6                         0                               0  \n",
       "\n",
       "[5 rows x 41 columns]"
      ]
     },
     "execution_count": 4,
     "metadata": {},
     "output_type": "execute_result"
    }
   ],
   "source": [
    "data.head()"
   ]
  },
  {
   "cell_type": "code",
   "execution_count": 5,
   "metadata": {},
   "outputs": [
    {
     "data": {
      "text/plain": [
       "(15075, 41)"
      ]
     },
     "execution_count": 5,
     "metadata": {},
     "output_type": "execute_result"
    }
   ],
   "source": [
    "data.shape"
   ]
  },
  {
   "cell_type": "code",
   "execution_count": 6,
   "metadata": {},
   "outputs": [
    {
     "data": {
      "text/plain": [
       "['ANY',\n",
       " 'Would_live_in_another_neighborhood',\n",
       " 'District',\n",
       " 'Gender',\n",
       " 'Place_of_birth',\n",
       " 'Time_living_in_barri',\n",
       " 'Barri_evolution',\n",
       " 'BCN_evolution',\n",
       " 'Barri_future',\n",
       " 'BCN_future',\n",
       " 'Barri_satisfaction_of_living',\n",
       " 'BCN_satisfaction_of_living',\n",
       " 'Barri_citizen_security',\n",
       " 'BCN_citizen_security',\n",
       " 'Barri_management',\n",
       " 'BCN_management',\n",
       " 'Barri_comparison',\n",
       " 'STREETS CLEANING',\n",
       " 'NOISE',\n",
       " 'GREEN AREAS',\n",
       " 'PUBLIC LIGHTING',\n",
       " 'URBANISM',\n",
       " 'ASPHALT AND STREET CONSERVATION',\n",
       " 'CIRCULATION',\n",
       " 'PARKING',\n",
       " 'BUS',\n",
       " 'SUBWAY',\n",
       " 'MUNICIPAL MARKETS',\n",
       " 'Barri_transport',\n",
       " 'BCN_transport',\n",
       " 'Owns_a_car',\n",
       " 'House_size',\n",
       " 'Monthly_family_income',\n",
       " 'Social_class',\n",
       " 'Living_alone',\n",
       " 'BCN_over_barri_evolution',\n",
       " 'BCN_over_barri_future',\n",
       " 'BCN_over_barri_satisfaction_of_living',\n",
       " 'BCN_over_barri_transport',\n",
       " 'BCN_over_barri_management',\n",
       " 'BCN_over_barri_citizen_security']"
      ]
     },
     "execution_count": 6,
     "metadata": {},
     "output_type": "execute_result"
    }
   ],
   "source": [
    "data.columns.tolist()"
   ]
  },
  {
   "cell_type": "code",
   "execution_count": 7,
   "metadata": {},
   "outputs": [],
   "source": [
    "x_var = data.columns.tolist()"
   ]
  },
  {
   "cell_type": "code",
   "execution_count": 8,
   "metadata": {},
   "outputs": [],
   "source": [
    "for i in ['ANY', 'Would_live_in_another_neighborhood',\n",
    "          'BCN_evolution', 'BCN_future', 'BCN_satisfaction_of_living', 'BCN_transport',\n",
    "          'BCN_citizen_security', 'BCN_management']:\n",
    "    x_var.remove(i)"
   ]
  },
  {
   "cell_type": "code",
   "execution_count": 9,
   "metadata": {},
   "outputs": [],
   "source": [
    "x = data[x_var]"
   ]
  },
  {
   "cell_type": "code",
   "execution_count": 10,
   "metadata": {},
   "outputs": [],
   "source": [
    "y = data['Would_live_in_another_neighborhood']"
   ]
  },
  {
   "cell_type": "code",
   "execution_count": null,
   "metadata": {},
   "outputs": [],
   "source": []
  },
  {
   "cell_type": "code",
   "execution_count": 11,
   "metadata": {},
   "outputs": [],
   "source": [
    "x = pd.get_dummies(x, drop_first=True)"
   ]
  },
  {
   "cell_type": "code",
   "execution_count": 12,
   "metadata": {
    "scrolled": true
   },
   "outputs": [
    {
     "data": {
      "text/plain": [
       "['Gender',\n",
       " 'Owns_a_car',\n",
       " 'BCN_over_barri_evolution',\n",
       " 'BCN_over_barri_future',\n",
       " 'BCN_over_barri_satisfaction_of_living',\n",
       " 'BCN_over_barri_transport',\n",
       " 'BCN_over_barri_management',\n",
       " 'BCN_over_barri_citizen_security',\n",
       " 'District_EIXAMPLE',\n",
       " 'District_GRÀCIA',\n",
       " 'District_HORTA - GUINARDÓ',\n",
       " 'District_LES CORTS',\n",
       " 'District_NOU BARRIS',\n",
       " 'District_SANT ANDREU',\n",
       " 'District_SANT MARTÍ',\n",
       " 'District_SANTS - MONTJUÏC',\n",
       " 'District_SARRIÀ - SANT GERVASI',\n",
       " 'Place_of_birth_FOREIGN',\n",
       " 'Place_of_birth_REST OF CATALONIA',\n",
       " 'Place_of_birth_REST OF SPAIN',\n",
       " 'Time_living_in_barri_LESS THAN 10 YEARS',\n",
       " 'Time_living_in_barri_MORE THAN 10 YEARS',\n",
       " 'Barri_evolution_IT HAS IMPROVED',\n",
       " 'Barri_evolution_IT IS THE SAME',\n",
       " 'Barri_evolution_IT IS WORSE',\n",
       " 'Barri_future_IT WILL GET WORSE',\n",
       " 'Barri_future_IT WILL IMPROVE',\n",
       " 'Barri_future_IT WILL STAY THE SAME',\n",
       " \"Barri_satisfaction_of_living_I DON'T KNOW\",\n",
       " 'Barri_satisfaction_of_living_NOT SATISFIED',\n",
       " 'Barri_satisfaction_of_living_SATISFIED',\n",
       " 'Barri_citizen_security_GOOD',\n",
       " \"Barri_citizen_security_I DON'T KNOW\",\n",
       " 'Barri_citizen_security_NEITHER BAD, NOR GOOD',\n",
       " 'Barri_management_GOOD',\n",
       " \"Barri_management_I DON'T KNOW\",\n",
       " 'Barri_management_NEITHER BAD, NOR GOOD',\n",
       " 'Barri_comparison_NEITHER THE BEST, NOR THE WORST',\n",
       " 'Barri_comparison_ONE OF THE BEST',\n",
       " 'Barri_comparison_ONE OF THE WORST',\n",
       " 'STREETS CLEANING_GOOD',\n",
       " \"STREETS CLEANING_I DON'T KNOW\",\n",
       " 'STREETS CLEANING_NEITHER BAD, NOR GOOD',\n",
       " 'NOISE_GOOD',\n",
       " \"NOISE_I DON'T KNOW\",\n",
       " 'NOISE_NEITHER BAD, NOR GOOD',\n",
       " 'GREEN AREAS_GOOD',\n",
       " \"GREEN AREAS_I DON'T KNOW\",\n",
       " 'GREEN AREAS_NEITHER BAD, NOR GOOD',\n",
       " 'PUBLIC LIGHTING_GOOD',\n",
       " \"PUBLIC LIGHTING_I DON'T KNOW\",\n",
       " 'PUBLIC LIGHTING_NEITHER BAD, NOR GOOD',\n",
       " 'URBANISM_GOOD',\n",
       " \"URBANISM_I DON'T KNOW\",\n",
       " 'URBANISM_NEITHER BAD, NOR GOOD',\n",
       " 'ASPHALT AND STREET CONSERVATION_GOOD',\n",
       " \"ASPHALT AND STREET CONSERVATION_I DON'T KNOW\",\n",
       " 'ASPHALT AND STREET CONSERVATION_NEITHER BAD, NOR GOOD',\n",
       " 'CIRCULATION_GOOD',\n",
       " \"CIRCULATION_I DON'T KNOW\",\n",
       " 'CIRCULATION_NEITHER BAD, NOR GOOD',\n",
       " 'PARKING_GOOD',\n",
       " \"PARKING_I DON'T KNOW\",\n",
       " 'PARKING_NEITHER BAD, NOR GOOD',\n",
       " 'BUS_GOOD',\n",
       " \"BUS_I DON'T KNOW\",\n",
       " 'BUS_NEITHER BAD, NOR GOOD',\n",
       " 'SUBWAY_GOOD',\n",
       " \"SUBWAY_I DON'T KNOW\",\n",
       " 'SUBWAY_NEITHER BAD, NOR GOOD',\n",
       " 'MUNICIPAL MARKETS_GOOD',\n",
       " \"MUNICIPAL MARKETS_I DON'T KNOW\",\n",
       " 'MUNICIPAL MARKETS_NEITHER BAD, NOR GOOD',\n",
       " 'Barri_transport_GOOD',\n",
       " \"Barri_transport_I DON'T KNOW\",\n",
       " 'Barri_transport_NEITHER BAD, NOR GOOD',\n",
       " 'House_size_51-100 M2',\n",
       " 'House_size_< 50 M2',\n",
       " 'House_size_> 150 M2',\n",
       " \"House_size_I DON'T KNOW\",\n",
       " 'Monthly_family_income_2001-3000 EUROS',\n",
       " 'Monthly_family_income_< 1000 EUROS',\n",
       " 'Monthly_family_income_> 3000 EUROS',\n",
       " \"Monthly_family_income_I DON'T KNOW / NO ANSWER\",\n",
       " \"Social_class_I DON'T KNOW\",\n",
       " 'Social_class_LOW',\n",
       " 'Social_class_MIDDLE-HIGH',\n",
       " 'Social_class_MIDDLE-LOW',\n",
       " 'Social_class_MIDDLE-MIDDLE',\n",
       " 'Living_alone_ONE',\n",
       " 'Living_alone_THREE',\n",
       " 'Living_alone_TWO']"
      ]
     },
     "execution_count": 12,
     "metadata": {},
     "output_type": "execute_result"
    }
   ],
   "source": [
    "x.columns.tolist()"
   ]
  },
  {
   "cell_type": "code",
   "execution_count": 13,
   "metadata": {},
   "outputs": [],
   "source": [
    "x = sm.add_constant(x)"
   ]
  },
  {
   "cell_type": "code",
   "execution_count": 14,
   "metadata": {
    "scrolled": false
   },
   "outputs": [
    {
     "name": "stdout",
     "output_type": "stream",
     "text": [
      "Optimization terminated successfully.\n",
      "         Current function value: 0.276635\n",
      "         Iterations 8\n",
      "                                           Results: Logit\n",
      "=====================================================================================================\n",
      "Model:                     Logit                                    Pseudo R-squared:       0.194    \n",
      "Dependent Variable:        Would_live_in_another_neighborhood       AIC:                    8526.5545\n",
      "Date:                      2021-05-02 10:05                         BIC:                    9235.2882\n",
      "No. Observations:          15075                                    Log-Likelihood:         -4170.3  \n",
      "Df Model:                  92                                       LL-Null:                -5177.0  \n",
      "Df Residuals:              14982                                    LLR p-value:            0.0000   \n",
      "Converged:                 1.0000                                   Scale:                  1.0000   \n",
      "No. Iterations:            8.0000                                                                    \n",
      "-----------------------------------------------------------------------------------------------------\n",
      "                                                       Coef.  Std.Err.    z    P>|z|   [0.025  0.975]\n",
      "-----------------------------------------------------------------------------------------------------\n",
      "const                                                 -2.4915   0.9306 -2.6773 0.0074 -4.3155 -0.6676\n",
      "Gender                                                 0.0753   0.0640  1.1772 0.2391 -0.0501  0.2008\n",
      "Owns_a_car                                             0.1827   0.0696  2.6258 0.0086  0.0463  0.3191\n",
      "BCN_over_barri_evolution                              -0.0224   0.1049 -0.2133 0.8311 -0.2280  0.1832\n",
      "BCN_over_barri_future                                  0.1978   0.0876  2.2583 0.0239  0.0261  0.3694\n",
      "BCN_over_barri_satisfaction_of_living                  0.3519   0.1336  2.6344 0.0084  0.0901  0.6137\n",
      "BCN_over_barri_transport                               0.2024   0.1534  1.3191 0.1871 -0.0983  0.5031\n",
      "BCN_over_barri_management                              0.0019   0.1900  0.0099 0.9921 -0.3705  0.3742\n",
      "BCN_over_barri_citizen_security                        0.2566   0.3290  0.7801 0.4353 -0.3881  0.9014\n",
      "District_EIXAMPLE                                     -0.5330   0.1306 -4.0815 0.0000 -0.7890 -0.2771\n",
      "District_GRÀCIA                                       -0.3052   0.1513 -2.0175 0.0436 -0.6016 -0.0087\n",
      "District_HORTA - GUINARDÓ                             -0.0151   0.1309 -0.1153 0.9082 -0.2717  0.2415\n",
      "District_LES CORTS                                    -0.6100   0.1744 -3.4967 0.0005 -0.9519 -0.2681\n",
      "District_NOU BARRIS                                   -0.0503   0.1293 -0.3892 0.6972 -0.3037  0.2031\n",
      "District_SANT ANDREU                                  -0.1819   0.1381 -1.3178 0.1876 -0.4525  0.0886\n",
      "District_SANT MARTÍ                                   -0.2561   0.1306 -1.9615 0.0498 -0.5120 -0.0002\n",
      "District_SANTS - MONTJUÏC                             -0.0674   0.1274 -0.5293 0.5966 -0.3172  0.1823\n",
      "District_SARRIÀ - SANT GERVASI                        -0.8171   0.1834 -4.4549 0.0000 -1.1765 -0.4576\n",
      "Place_of_birth_FOREIGN                                -0.2312   0.1504 -1.5375 0.1242 -0.5259  0.0635\n",
      "Place_of_birth_REST OF CATALONIA                      -0.4299   0.1003 -4.2854 0.0000 -0.6265 -0.2333\n",
      "Place_of_birth_REST OF SPAIN                          -0.5507   0.0706 -7.7998 0.0000 -0.6891 -0.4123\n",
      "Time_living_in_barri_LESS THAN 10 YEARS                1.6304   0.1368 11.9157 0.0000  1.3623  1.8986\n",
      "Time_living_in_barri_MORE THAN 10 YEARS                0.7239   0.0995  7.2724 0.0000  0.5288  0.9190\n",
      "Barri_evolution_IT HAS IMPROVED                        0.2587   0.2896  0.8933 0.3717 -0.3089  0.8263\n",
      "Barri_evolution_IT IS THE SAME                         0.1646   0.2895  0.5685 0.5697 -0.4028  0.7319\n",
      "Barri_evolution_IT IS WORSE                            0.1977   0.2926  0.6758 0.4992 -0.3758  0.7712\n",
      "Barri_future_IT WILL GET WORSE                         0.2033   0.1106  1.8388 0.0659 -0.0134  0.4201\n",
      "Barri_future_IT WILL IMPROVE                          -0.0888   0.1024 -0.8674 0.3857 -0.2895  0.1119\n",
      "Barri_future_IT WILL STAY THE SAME                    -0.0829   0.1097 -0.7555 0.4499 -0.2979  0.1321\n",
      "Barri_satisfaction_of_living_I DON'T KNOW             -0.1996   0.4441 -0.4494 0.6532 -1.0700  0.6709\n",
      "Barri_satisfaction_of_living_NOT SATISFIED             0.9997   0.2055  4.8658 0.0000  0.5970  1.4024\n",
      "Barri_satisfaction_of_living_SATISFIED                -0.8546   0.1213 -7.0451 0.0000 -1.0924 -0.6169\n",
      "Barri_citizen_security_GOOD                           -0.0594   0.0948 -0.6265 0.5310 -0.2452  0.1264\n",
      "Barri_citizen_security_I DON'T KNOW                    0.2414   0.2837  0.8509 0.3948 -0.3146  0.7975\n",
      "Barri_citizen_security_NEITHER BAD, NOR GOOD          -0.1506   0.0819 -1.8379 0.0661 -0.3112  0.0100\n",
      "Barri_management_GOOD                                 -0.1140   0.1330 -0.8565 0.3917 -0.3747  0.1468\n",
      "Barri_management_I DON'T KNOW                          0.2592   0.1610  1.6100 0.1074 -0.0563  0.5747\n",
      "Barri_management_NEITHER BAD, NOR GOOD                -0.0758   0.1234 -0.6143 0.5390 -0.3176  0.1660\n",
      "Barri_comparison_NEITHER THE BEST, NOR THE WORST       0.3602   0.1881  1.9151 0.0555 -0.0084  0.7289\n",
      "Barri_comparison_ONE OF THE BEST                      -0.9619   0.1936 -4.9672 0.0000 -1.3414 -0.5823\n",
      "Barri_comparison_ONE OF THE WORST                      1.2585   0.2114  5.9531 0.0000  0.8441  1.6728\n",
      "STREETS CLEANING_GOOD                                 -0.0988   0.1090 -0.9064 0.3647 -0.3123  0.1148\n",
      "STREETS CLEANING_I DON'T KNOW                         -0.7173   0.8086 -0.8872 0.3750 -2.3021  0.8674\n",
      "STREETS CLEANING_NEITHER BAD, NOR GOOD                 0.0299   0.1060  0.2825 0.7776 -0.1778  0.2377\n",
      "NOISE_GOOD                                            -0.1810   0.0906 -1.9983 0.0457 -0.3585 -0.0035\n",
      "NOISE_I DON'T KNOW                                    -0.3013   0.1993 -1.5115 0.1307 -0.6920  0.0894\n",
      "NOISE_NEITHER BAD, NOR GOOD                           -0.3171   0.0797 -3.9768 0.0001 -0.4733 -0.1608\n",
      "GREEN AREAS_GOOD                                      -0.1611   0.1155 -1.3951 0.1630 -0.3875  0.0652\n",
      "GREEN AREAS_I DON'T KNOW                              -0.3527   0.1887 -1.8689 0.0616 -0.7225  0.0172\n",
      "GREEN AREAS_NEITHER BAD, NOR GOOD                      0.0634   0.1094  0.5793 0.5624 -0.1510  0.2778\n",
      "PUBLIC LIGHTING_GOOD                                  -0.4069   0.1475 -2.7593 0.0058 -0.6959 -0.1179\n",
      "PUBLIC LIGHTING_I DON'T KNOW                          -0.2186   0.2697 -0.8105 0.4176 -0.7472  0.3100\n",
      "PUBLIC LIGHTING_NEITHER BAD, NOR GOOD                 -0.4610   0.1463 -3.1502 0.0016 -0.7477 -0.1742\n",
      "URBANISM_GOOD                                         -0.0901   0.1451 -0.6210 0.5346 -0.3746  0.1943\n",
      "URBANISM_I DON'T KNOW                                 -0.0361   0.1620 -0.2228 0.8237 -0.3537  0.2815\n",
      "URBANISM_NEITHER BAD, NOR GOOD                        -0.0286   0.1365 -0.2095 0.8341 -0.2962  0.2390\n",
      "ASPHALT AND STREET CONSERVATION_GOOD                   0.1771   0.1161  1.5254 0.1272 -0.0504  0.4046\n",
      "ASPHALT AND STREET CONSERVATION_I DON'T KNOW          -0.0092   0.2888 -0.0318 0.9746 -0.5753  0.5569\n",
      "ASPHALT AND STREET CONSERVATION_NEITHER BAD, NOR GOOD  0.0631   0.1065  0.5921 0.5538 -0.1457  0.2718\n",
      "CIRCULATION_GOOD                                       0.0460   0.1084  0.4245 0.6712 -0.1665  0.2585\n",
      "CIRCULATION_I DON'T KNOW                               0.1000   0.1648  0.6069 0.5439 -0.2230  0.4230\n",
      "CIRCULATION_NEITHER BAD, NOR GOOD                      0.1493   0.0873  1.7096 0.0873 -0.0219  0.3204\n",
      "PARKING_GOOD                                          -0.0694   0.1240 -0.5595 0.5758 -0.3125  0.1737\n",
      "PARKING_I DON'T KNOW                                   0.0606   0.1005  0.6034 0.5462 -0.1363  0.2575\n",
      "PARKING_NEITHER BAD, NOR GOOD                          0.0023   0.0715  0.0328 0.9739 -0.1378  0.1425\n",
      "BUS_GOOD                                              -0.0752   0.1485 -0.5061 0.6128 -0.3663  0.2160\n",
      "BUS_I DON'T KNOW                                      -0.3537   0.2172 -1.6284 0.1034 -0.7794  0.0720\n",
      "BUS_NEITHER BAD, NOR GOOD                             -0.0134   0.1463 -0.0914 0.9272 -0.3001  0.2734\n",
      "SUBWAY_GOOD                                            0.1582   0.2441  0.6481 0.5169 -0.3202  0.6366\n",
      "SUBWAY_I DON'T KNOW                                    0.1013   0.2607  0.3884 0.6977 -0.4098  0.6123\n",
      "SUBWAY_NEITHER BAD, NOR GOOD                           0.0088   0.2490  0.0353 0.9718 -0.4793  0.4969\n",
      "MUNICIPAL MARKETS_GOOD                                 0.3827   0.1762  2.1718 0.0299  0.0373  0.7280\n",
      "MUNICIPAL MARKETS_I DON'T KNOW                         0.1635   0.2009  0.8137 0.4158 -0.2303  0.5573\n",
      "MUNICIPAL MARKETS_NEITHER BAD, NOR GOOD                0.3506   0.1808  1.9391 0.0525 -0.0038  0.7049\n",
      "Barri_transport_GOOD                                  -0.0959   0.1141 -0.8406 0.4006 -0.3195  0.1277\n",
      "Barri_transport_I DON'T KNOW                          -0.4487   0.4199 -1.0686 0.2853 -1.2716  0.3743\n",
      "Barri_transport_NEITHER BAD, NOR GOOD                  0.0572   0.1354  0.4224 0.6727 -0.2083  0.3227\n",
      "House_size_51-100 M2                                   0.1668   0.1096  1.5209 0.1283 -0.0481  0.3817\n",
      "House_size_< 50 M2                                     0.1197   0.1509  0.7932 0.4276 -0.1760  0.4154\n",
      "House_size_> 150 M2                                    0.0151   0.2015  0.0748 0.9404 -0.3799  0.4100\n",
      "House_size_I DON'T KNOW                               -0.0692   0.1626 -0.4257 0.6703 -0.3878  0.2494\n",
      "Monthly_family_income_2001-3000 EUROS                  0.1172   0.1101  1.0643 0.2872 -0.0987  0.3331\n",
      "Monthly_family_income_< 1000 EUROS                    -0.0544   0.0829 -0.6562 0.5117 -0.2169  0.1081\n",
      "Monthly_family_income_> 3000 EUROS                     0.2737   0.1538  1.7798 0.0751 -0.0277  0.5751\n",
      "Monthly_family_income_I DON'T KNOW / NO ANSWER        -0.0405   0.0784 -0.5164 0.6056 -0.1941  0.1131\n",
      "Social_class_I DON'T KNOW                              0.1599   0.8033  0.1991 0.8422 -1.4145  1.7343\n",
      "Social_class_LOW                                       0.7651   0.7771  0.9846 0.3248 -0.7580  2.2881\n",
      "Social_class_MIDDLE-HIGH                               0.8126   0.7846  1.0357 0.3003 -0.7252  2.3505\n",
      "Social_class_MIDDLE-LOW                                0.7417   0.7740  0.9583 0.3379 -0.7752  2.2587\n",
      "Social_class_MIDDLE-MIDDLE                             0.5985   0.7731  0.7742 0.4388 -0.9167  2.1137\n",
      "Living_alone_ONE                                       0.2556   0.1484  1.7224 0.0850 -0.0353  0.5466\n",
      "Living_alone_THREE                                     0.0362   0.1585  0.2285 0.8193 -0.2744  0.3468\n",
      "Living_alone_TWO                                       0.1856   0.1378  1.3469 0.1780 -0.0845  0.4556\n",
      "=====================================================================================================\n",
      "\n"
     ]
    }
   ],
   "source": [
    "logit_model = sm.Logit(y,x)\n",
    "result=logit_model.fit()\n",
    "print(result.summary2())"
   ]
  },
  {
   "cell_type": "code",
   "execution_count": 15,
   "metadata": {},
   "outputs": [
    {
     "data": {
      "image/png": "[encoded data removed]",
      "text/plain": [
       "<Figure size 432x288 with 1 Axes>"
      ]
     },
     "metadata": {
      "needs_background": "light"
     },
     "output_type": "display_data"
    }
   ],
   "source": [
    "logit_roc_auc = roc_auc_score(y, result.predict(x))\n",
    "fpr, tpr, thresholds = roc_curve(y, result.predict(x))\n",
    "plt.figure()\n",
    "plt.plot(fpr, tpr, label='Logistic Regression (area = %0.2f)' % logit_roc_auc)\n",
    "plt.plot([0, 1], [0, 1],'r--')\n",
    "plt.xlim([0.0, 1.0])\n",
    "plt.ylim([0.0, 1.05])\n",
    "plt.xlabel('False Positive Rate')\n",
    "plt.ylabel('True Positive Rate')\n",
    "plt.title('Receiver operating characteristic')\n",
    "plt.legend(loc=\"lower right\")\n",
    "#plt.savefig('Log_ROC')\n",
    "plt.show()"
   ]
  },
  {
   "cell_type": "code",
   "execution_count": null,
   "metadata": {},
   "outputs": [],
   "source": []
  },
  {
   "cell_type": "code",
   "execution_count": 22,
   "metadata": {},
   "outputs": [],
   "source": [
    "for i in ['House_size', 'Monthly_family_income', 'Social_class']:\n",
    "    x_var.remove(i)"
   ]
  },
  {
   "cell_type": "code",
   "execution_count": 26,
   "metadata": {},
   "outputs": [],
   "source": [
    "x = data[x_var]\n",
    "x = pd.get_dummies(x, drop_first = True)\n",
    "x = sm.add_constant(x)"
   ]
  },
  {
   "cell_type": "code",
   "execution_count": 27,
   "metadata": {},
   "outputs": [
    {
     "name": "stdout",
     "output_type": "stream",
     "text": [
      "Optimization terminated successfully.\n",
      "         Current function value: 0.277455\n",
      "         Iterations 7\n",
      "                                           Results: Logit\n",
      "=====================================================================================================\n",
      "Model:                     Logit                                    Pseudo R-squared:       0.192    \n",
      "Dependent Variable:        Would_live_in_another_neighborhood       AIC:                    8525.2658\n",
      "Date:                      2021-05-02 10:16                         BIC:                    9134.9292\n",
      "No. Observations:          15075                                    Log-Likelihood:         -4182.6  \n",
      "Df Model:                  79                                       LL-Null:                -5177.0  \n",
      "Df Residuals:              14995                                    LLR p-value:            0.0000   \n",
      "Converged:                 1.0000                                   Scale:                  1.0000   \n",
      "No. Iterations:            7.0000                                                                    \n",
      "-----------------------------------------------------------------------------------------------------\n",
      "                                                       Coef.  Std.Err.    z    P>|z|   [0.025  0.975]\n",
      "-----------------------------------------------------------------------------------------------------\n",
      "const                                                 -1.7453   0.5138 -3.3969 0.0007 -2.7523 -0.7383\n",
      "Gender                                                 0.0462   0.0633  0.7307 0.4650 -0.0778  0.1702\n",
      "Owns_a_car                                             0.1926   0.0668  2.8849 0.0039  0.0618  0.3235\n",
      "BCN_over_barri_evolution                              -0.0288   0.1049 -0.2750 0.7833 -0.2344  0.1767\n",
      "BCN_over_barri_future                                  0.2022   0.0874  2.3124 0.0208  0.0308  0.3735\n",
      "BCN_over_barri_satisfaction_of_living                  0.3490   0.1332  2.6207 0.0088  0.0880  0.6100\n",
      "BCN_over_barri_transport                               0.2176   0.1531  1.4211 0.1553 -0.0825  0.5177\n",
      "BCN_over_barri_management                             -0.0131   0.1898 -0.0690 0.9450 -0.3851  0.3589\n",
      "BCN_over_barri_citizen_security                        0.2906   0.3284  0.8850 0.3762 -0.3530  0.9343\n",
      "District_EIXAMPLE                                     -0.5396   0.1286 -4.1957 0.0000 -0.7917 -0.2876\n",
      "District_GRÀCIA                                       -0.3005   0.1500 -2.0033 0.0451 -0.5946 -0.0065\n",
      "District_HORTA - GUINARDÓ                             -0.0172   0.1295 -0.1331 0.8941 -0.2710  0.2365\n",
      "District_LES CORTS                                    -0.6255   0.1732 -3.6114 0.0003 -0.9650 -0.2860\n",
      "District_NOU BARRIS                                   -0.0392   0.1278 -0.3069 0.7589 -0.2896  0.2112\n",
      "District_SANT ANDREU                                  -0.1783   0.1364 -1.3071 0.1912 -0.4457  0.0891\n",
      "District_SANT MARTÍ                                   -0.2394   0.1287 -1.8594 0.0630 -0.4917  0.0129\n",
      "District_SANTS - MONTJUÏC                             -0.0541   0.1258 -0.4298 0.6673 -0.3007  0.1926\n",
      "District_SARRIÀ - SANT GERVASI                        -0.8369   0.1795 -4.6627 0.0000 -1.1887 -0.4851\n",
      "Place_of_birth_FOREIGN                                -0.2572   0.1499 -1.7162 0.0861 -0.5510  0.0365\n",
      "Place_of_birth_REST OF CATALONIA                      -0.4280   0.1001 -4.2737 0.0000 -0.6242 -0.2317\n",
      "Place_of_birth_REST OF SPAIN                          -0.5491   0.0701 -7.8352 0.0000 -0.6864 -0.4117\n",
      "Time_living_in_barri_LESS THAN 10 YEARS                1.6519   0.1363 12.1174 0.0000  1.3847  1.9190\n",
      "Time_living_in_barri_MORE THAN 10 YEARS                0.7377   0.0993  7.4315 0.0000  0.5431  0.9322\n",
      "Barri_evolution_IT HAS IMPROVED                        0.2781   0.2888  0.9630 0.3355 -0.2879  0.8442\n",
      "Barri_evolution_IT IS THE SAME                         0.1827   0.2888  0.6328 0.5269 -0.3833  0.7487\n",
      "Barri_evolution_IT IS WORSE                            0.2188   0.2920  0.7494 0.4536 -0.3535  0.7911\n",
      "Barri_future_IT WILL GET WORSE                         0.1960   0.1103  1.7766 0.0756 -0.0202  0.4123\n",
      "Barri_future_IT WILL IMPROVE                          -0.0961   0.1020 -0.9424 0.3460 -0.2960  0.1038\n",
      "Barri_future_IT WILL STAY THE SAME                    -0.0942   0.1093 -0.8615 0.3890 -0.3085  0.1201\n",
      "Barri_satisfaction_of_living_I DON'T KNOW             -0.2142   0.4441 -0.4822 0.6296 -1.0847  0.6563\n",
      "Barri_satisfaction_of_living_NOT SATISFIED             0.9886   0.2043  4.8387 0.0000  0.5882  1.3891\n",
      "Barri_satisfaction_of_living_SATISFIED                -0.8549   0.1210 -7.0647 0.0000 -1.0921 -0.6177\n",
      "Barri_citizen_security_GOOD                           -0.0530   0.0943 -0.5627 0.5736 -0.2378  0.1317\n",
      "Barri_citizen_security_I DON'T KNOW                    0.2243   0.2834  0.7917 0.4285 -0.3310  0.7797\n",
      "Barri_citizen_security_NEITHER BAD, NOR GOOD          -0.1509   0.0816 -1.8487 0.0645 -0.3110  0.0091\n",
      "Barri_management_GOOD                                 -0.1146   0.1326 -0.8644 0.3873 -0.3745  0.1453\n",
      "Barri_management_I DON'T KNOW                          0.2377   0.1604  1.4817 0.1384 -0.0767  0.5522\n",
      "Barri_management_NEITHER BAD, NOR GOOD                -0.0760   0.1230 -0.6183 0.5364 -0.3171  0.1650\n",
      "Barri_comparison_NEITHER THE BEST, NOR THE WORST       0.3805   0.1878  2.0266 0.0427  0.0125  0.7485\n",
      "Barri_comparison_ONE OF THE BEST                      -0.9409   0.1932 -4.8690 0.0000 -1.3197 -0.5622\n",
      "Barri_comparison_ONE OF THE WORST                      1.3011   0.2108  6.1709 0.0000  0.8878  1.7143\n",
      "STREETS CLEANING_GOOD                                 -0.0835   0.1086 -0.7686 0.4421 -0.2965  0.1294\n",
      "STREETS CLEANING_I DON'T KNOW                         -0.6817   0.8021 -0.8499 0.3954 -2.2537  0.8904\n",
      "STREETS CLEANING_NEITHER BAD, NOR GOOD                 0.0520   0.1057  0.4921 0.6226 -0.1551  0.2592\n",
      "NOISE_GOOD                                            -0.1835   0.0904 -2.0289 0.0425 -0.3607 -0.0062\n",
      "NOISE_I DON'T KNOW                                    -0.2891   0.1988 -1.4541 0.1459 -0.6789  0.1006\n",
      "NOISE_NEITHER BAD, NOR GOOD                           -0.3159   0.0796 -3.9695 0.0001 -0.4718 -0.1599\n",
      "GREEN AREAS_GOOD                                      -0.1716   0.1150 -1.4915 0.1358 -0.3971  0.0539\n",
      "GREEN AREAS_I DON'T KNOW                              -0.3845   0.1881 -2.0446 0.0409 -0.7532 -0.0159\n",
      "GREEN AREAS_NEITHER BAD, NOR GOOD                      0.0524   0.1090  0.4810 0.6305 -0.1612  0.2660\n",
      "PUBLIC LIGHTING_GOOD                                  -0.3970   0.1470 -2.7007 0.0069 -0.6852 -0.1089\n",
      "PUBLIC LIGHTING_I DON'T KNOW                          -0.2004   0.2685 -0.7463 0.4555 -0.7266  0.3258\n",
      "PUBLIC LIGHTING_NEITHER BAD, NOR GOOD                 -0.4541   0.1459 -3.1122 0.0019 -0.7400 -0.1681\n",
      "URBANISM_GOOD                                         -0.0754   0.1448 -0.5209 0.6025 -0.3592  0.2084\n",
      "URBANISM_I DON'T KNOW                                 -0.0310   0.1617 -0.1916 0.8480 -0.3480  0.2860\n",
      "URBANISM_NEITHER BAD, NOR GOOD                        -0.0141   0.1362 -0.1036 0.9175 -0.2810  0.2528\n",
      "ASPHALT AND STREET CONSERVATION_GOOD                   0.1620   0.1157  1.4000 0.1615 -0.0648  0.3888\n",
      "ASPHALT AND STREET CONSERVATION_I DON'T KNOW          -0.0068   0.2882 -0.0235 0.9812 -0.5717  0.5581\n",
      "ASPHALT AND STREET CONSERVATION_NEITHER BAD, NOR GOOD  0.0558   0.1062  0.5260 0.5989 -0.1522  0.2639\n",
      "CIRCULATION_GOOD                                       0.0510   0.1083  0.4710 0.6376 -0.1612  0.2632\n",
      "CIRCULATION_I DON'T KNOW                               0.0764   0.1645  0.4642 0.6425 -0.2460  0.3987\n",
      "CIRCULATION_NEITHER BAD, NOR GOOD                      0.1514   0.0871  1.7380 0.0822 -0.0193  0.3222\n",
      "PARKING_GOOD                                          -0.0736   0.1238 -0.5945 0.5522 -0.3163  0.1691\n",
      "PARKING_I DON'T KNOW                                   0.0392   0.1000  0.3925 0.6947 -0.1567  0.2352\n",
      "PARKING_NEITHER BAD, NOR GOOD                          0.0035   0.0713  0.0492 0.9607 -0.1362  0.1433\n",
      "BUS_GOOD                                              -0.0822   0.1482 -0.5548 0.5790 -0.3727  0.2082\n",
      "BUS_I DON'T KNOW                                      -0.3775   0.2167 -1.7423 0.0815 -0.8022  0.0472\n",
      "BUS_NEITHER BAD, NOR GOOD                             -0.0226   0.1460 -0.1546 0.8771 -0.3088  0.2636\n",
      "SUBWAY_GOOD                                            0.1590   0.2430  0.6542 0.5130 -0.3173  0.6353\n",
      "SUBWAY_I DON'T KNOW                                    0.0896   0.2597  0.3449 0.7302 -0.4194  0.5985\n",
      "SUBWAY_NEITHER BAD, NOR GOOD                           0.0040   0.2480  0.0162 0.9870 -0.4821  0.4902\n",
      "MUNICIPAL MARKETS_GOOD                                 0.3798   0.1757  2.1610 0.0307  0.0353  0.7243\n",
      "MUNICIPAL MARKETS_I DON'T KNOW                         0.1551   0.2005  0.7735 0.4393 -0.2379  0.5480\n",
      "MUNICIPAL MARKETS_NEITHER BAD, NOR GOOD                0.3453   0.1805  1.9130 0.0557 -0.0085  0.6990\n",
      "Barri_transport_GOOD                                  -0.0921   0.1137 -0.8094 0.4183 -0.3150  0.1309\n",
      "Barri_transport_I DON'T KNOW                          -0.4547   0.4195 -1.0838 0.2785 -1.2770  0.3676\n",
      "Barri_transport_NEITHER BAD, NOR GOOD                  0.0579   0.1351  0.4289 0.6680 -0.2068  0.3226\n",
      "Living_alone_ONE                                       0.2465   0.1450  1.6996 0.0892 -0.0378  0.5307\n",
      "Living_alone_THREE                                     0.0425   0.1581  0.2686 0.7883 -0.2673  0.3522\n",
      "Living_alone_TWO                                       0.1973   0.1370  1.4401 0.1499 -0.0712  0.4659\n",
      "=====================================================================================================\n",
      "\n"
     ]
    }
   ],
   "source": [
    "logit_model = sm.Logit(y,x)\n",
    "result=logit_model.fit()\n",
    "print(result.summary2())"
   ]
  },
  {
   "cell_type": "code",
   "execution_count": 30,
   "metadata": {},
   "outputs": [
    {
     "data": {
      "image/png": "[encoded data removed]",
      "text/plain": [
       "<Figure size 432x288 with 1 Axes>"
      ]
     },
     "metadata": {
      "needs_background": "light"
     },
     "output_type": "display_data"
    }
   ],
   "source": [
    "logit_roc_auc = roc_auc_score(y, result.predict(x))\n",
    "fpr, tpr, thresholds = roc_curve(y, result.predict(x))\n",
    "plt.figure()\n",
    "plt.plot(fpr, tpr, label='Logistic Regression (area = %0.2f)' % logit_roc_auc)\n",
    "plt.plot([0, 1], [0, 1],'r--')\n",
    "plt.xlim([0.0, 1.0])\n",
    "plt.ylim([0.0, 1.05])\n",
    "plt.xlabel('False Positive Rate')\n",
    "plt.ylabel('True Positive Rate')\n",
    "plt.title('Receiver operating characteristic')\n",
    "plt.legend(loc=\"lower right\")\n",
    "#plt.savefig('Log_ROC')\n",
    "plt.show()"
   ]
  },
  {
   "cell_type": "code",
   "execution_count": 29,
   "metadata": {},
   "outputs": [
    {
     "data": {
      "text/plain": [
       "SUBWAY_NEITHER BAD, NOR GOOD                    9.870489e-01\n",
       "ASPHALT AND STREET CONSERVATION_I DON'T KNOW    9.812426e-01\n",
       "PARKING_NEITHER BAD, NOR GOOD                   9.607222e-01\n",
       "BCN_over_barri_management                       9.449731e-01\n",
       "URBANISM_NEITHER BAD, NOR GOOD                  9.174673e-01\n",
       "                                                    ...     \n",
       "Barri_comparison_ONE OF THE WORST               6.789841e-10\n",
       "Barri_satisfaction_of_living_SATISFIED          1.609935e-12\n",
       "Time_living_in_barri_MORE THAN 10 YEARS         1.074093e-13\n",
       "Place_of_birth_REST OF SPAIN                    4.682812e-15\n",
       "Time_living_in_barri_LESS THAN 10 YEARS         8.545862e-34\n",
       "Length: 80, dtype: float64"
      ]
     },
     "execution_count": 29,
     "metadata": {},
     "output_type": "execute_result"
    }
   ],
   "source": [
    "result.pvalues.sort_values(ascending=False)"
   ]
  },
  {
   "cell_type": "code",
   "execution_count": null,
   "metadata": {},
   "outputs": [],
   "source": []
  },
  {
   "cell_type": "code",
   "execution_count": 31,
   "metadata": {},
   "outputs": [],
   "source": [
    "for i in ['BCN_over_barri_evolution', 'BCN_over_barri_management', 'Barri_evolution', 'Barri_future',\n",
    "         'Barri_management', 'STREETS CLEANING', 'URBANISM', 'ASPHALT AND STREET CONSERVATION', 'CIRCULATION',\n",
    "         'PARKING', 'SUBWAY']:\n",
    "    x_var.remove(i)"
   ]
  },
  {
   "cell_type": "code",
   "execution_count": 32,
   "metadata": {},
   "outputs": [],
   "source": [
    "x = data[x_var]\n",
    "x = pd.get_dummies(x, drop_first = True)\n",
    "x = sm.add_constant(x)"
   ]
  },
  {
   "cell_type": "code",
   "execution_count": 33,
   "metadata": {},
   "outputs": [
    {
     "name": "stdout",
     "output_type": "stream",
     "text": [
      "Optimization terminated successfully.\n",
      "         Current function value: 0.278786\n",
      "         Iterations 7\n",
      "                                         Results: Logit\n",
      "================================================================================================\n",
      "Model:                    Logit                                  Pseudo R-squared:     0.188    \n",
      "Dependent Variable:       Would_live_in_another_neighborhood     AIC:                  8507.3879\n",
      "Date:                     2021-05-02 10:20                       BIC:                  8896.0483\n",
      "No. Observations:         15075                                  Log-Likelihood:       -4202.7  \n",
      "Df Model:                 50                                     LL-Null:              -5177.0  \n",
      "Df Residuals:             15024                                  LLR p-value:          0.0000   \n",
      "Converged:                1.0000                                 Scale:                1.0000   \n",
      "No. Iterations:           7.0000                                                                \n",
      "------------------------------------------------------------------------------------------------\n",
      "                                                  Coef.  Std.Err.    z    P>|z|   [0.025  0.975]\n",
      "------------------------------------------------------------------------------------------------\n",
      "const                                            -1.3152   0.3607 -3.6464 0.0003 -2.0221 -0.6083\n",
      "Gender                                            0.0523   0.0622  0.8411 0.4003 -0.0696  0.1743\n",
      "Owns_a_car                                        0.1949   0.0652  2.9869 0.0028  0.0670  0.3227\n",
      "BCN_over_barri_future                             0.2476   0.0757  3.2713 0.0011  0.0993  0.3960\n",
      "BCN_over_barri_satisfaction_of_living             0.3545   0.1320  2.6862 0.0072  0.0958  0.6132\n",
      "BCN_over_barri_transport                          0.2306   0.1524  1.5127 0.1303 -0.0682  0.5294\n",
      "BCN_over_barri_citizen_security                   0.2060   0.3282  0.6276 0.5303 -0.4373  0.8492\n",
      "District_EIXAMPLE                                -0.5573   0.1272 -4.3820 0.0000 -0.8066 -0.3080\n",
      "District_GRÀCIA                                  -0.3326   0.1487 -2.2360 0.0254 -0.6241 -0.0411\n",
      "District_HORTA - GUINARDÓ                        -0.0538   0.1275 -0.4218 0.6732 -0.3036  0.1961\n",
      "District_LES CORTS                               -0.6583   0.1715 -3.8381 0.0001 -0.9944 -0.3221\n",
      "District_NOU BARRIS                              -0.0474   0.1259 -0.3760 0.7069 -0.2942  0.1995\n",
      "District_SANT ANDREU                             -0.1988   0.1349 -1.4739 0.1405 -0.4632  0.0656\n",
      "District_SANT MARTÍ                              -0.2641   0.1271 -2.0781 0.0377 -0.5132 -0.0150\n",
      "District_SANTS - MONTJUÏC                        -0.0762   0.1246 -0.6114 0.5410 -0.3205  0.1681\n",
      "District_SARRIÀ - SANT GERVASI                   -0.8633   0.1775 -4.8641 0.0000 -1.2112 -0.5154\n",
      "Place_of_birth_FOREIGN                           -0.2583   0.1490 -1.7333 0.0830 -0.5504  0.0338\n",
      "Place_of_birth_REST OF CATALONIA                 -0.4377   0.0999 -4.3804 0.0000 -0.6335 -0.2418\n",
      "Place_of_birth_REST OF SPAIN                     -0.5483   0.0695 -7.8867 0.0000 -0.6846 -0.4121\n",
      "Time_living_in_barri_LESS THAN 10 YEARS           1.6050   0.1342 11.9599 0.0000  1.3420  1.8680\n",
      "Time_living_in_barri_MORE THAN 10 YEARS           0.7338   0.0987  7.4377 0.0000  0.5404  0.9271\n",
      "Barri_satisfaction_of_living_I DON'T KNOW        -0.1595   0.4405 -0.3621 0.7173 -1.0228  0.7038\n",
      "Barri_satisfaction_of_living_NOT SATISFIED        1.0335   0.2005  5.1537 0.0000  0.6405  1.4266\n",
      "Barri_satisfaction_of_living_SATISFIED           -0.8864   0.1183 -7.4949 0.0000 -1.1182 -0.6546\n",
      "Barri_citizen_security_GOOD                      -0.0740   0.0906 -0.8166 0.4142 -0.2515  0.1036\n",
      "Barri_citizen_security_I DON'T KNOW               0.2470   0.2797  0.8830 0.3772 -0.3013  0.7953\n",
      "Barri_citizen_security_NEITHER BAD, NOR GOOD     -0.1596   0.0797 -2.0032 0.0452 -0.3157 -0.0034\n",
      "Barri_comparison_NEITHER THE BEST, NOR THE WORST  0.3299   0.1856  1.7774 0.0755 -0.0339  0.6938\n",
      "Barri_comparison_ONE OF THE BEST                 -0.9966   0.1911 -5.2156 0.0000 -1.3710 -0.6221\n",
      "Barri_comparison_ONE OF THE WORST                 1.2987   0.2081  6.2410 0.0000  0.8909  1.7066\n",
      "NOISE_GOOD                                       -0.2000   0.0861 -2.3230 0.0202 -0.3687 -0.0313\n",
      "NOISE_I DON'T KNOW                               -0.2698   0.1961 -1.3758 0.1689 -0.6541  0.1146\n",
      "NOISE_NEITHER BAD, NOR GOOD                      -0.3002   0.0768 -3.9082 0.0001 -0.4507 -0.1496\n",
      "GREEN AREAS_GOOD                                 -0.1908   0.1094 -1.7442 0.0811 -0.4053  0.0236\n",
      "GREEN AREAS_I DON'T KNOW                         -0.3462   0.1820 -1.9024 0.0571 -0.7029  0.0105\n",
      "GREEN AREAS_NEITHER BAD, NOR GOOD                 0.0560   0.1054  0.5319 0.5948 -0.1505  0.2625\n",
      "PUBLIC LIGHTING_GOOD                             -0.3828   0.1428 -2.6805 0.0074 -0.6627 -0.1029\n",
      "PUBLIC LIGHTING_I DON'T KNOW                     -0.1517   0.2648 -0.5730 0.5666 -0.6708  0.3673\n",
      "PUBLIC LIGHTING_NEITHER BAD, NOR GOOD            -0.4362   0.1425 -3.0603 0.0022 -0.7156 -0.1568\n",
      "BUS_GOOD                                         -0.0484   0.1417 -0.3412 0.7329 -0.3261  0.2294\n",
      "BUS_I DON'T KNOW                                 -0.3777   0.2071 -1.8240 0.0681 -0.7835  0.0281\n",
      "BUS_NEITHER BAD, NOR GOOD                        -0.0190   0.1417 -0.1340 0.8934 -0.2967  0.2587\n",
      "MUNICIPAL MARKETS_GOOD                            0.3819   0.1745  2.1889 0.0286  0.0399  0.7238\n",
      "MUNICIPAL MARKETS_I DON'T KNOW                    0.1678   0.1988  0.8440 0.3987 -0.2219  0.5575\n",
      "MUNICIPAL MARKETS_NEITHER BAD, NOR GOOD           0.3444   0.1793  1.9205 0.0548 -0.0071  0.6959\n",
      "Barri_transport_GOOD                             -0.0890   0.1131 -0.7865 0.4316 -0.3107  0.1327\n",
      "Barri_transport_I DON'T KNOW                     -0.4352   0.4159 -1.0464 0.2954 -1.2504  0.3800\n",
      "Barri_transport_NEITHER BAD, NOR GOOD             0.0623   0.1346  0.4627 0.6436 -0.2016  0.3261\n",
      "Living_alone_ONE                                  0.2652   0.1445  1.8359 0.0664 -0.0179  0.5484\n",
      "Living_alone_THREE                                0.0568   0.1577  0.3605 0.7184 -0.2522  0.3659\n",
      "Living_alone_TWO                                  0.2211   0.1365  1.6196 0.1053 -0.0465  0.4887\n",
      "================================================================================================\n",
      "\n"
     ]
    }
   ],
   "source": [
    "logit_model = sm.Logit(y,x)\n",
    "result=logit_model.fit()\n",
    "print(result.summary2())"
   ]
  },
  {
   "cell_type": "code",
   "execution_count": 35,
   "metadata": {},
   "outputs": [
    {
     "data": {
      "image/png": "[encoded data removed]",
      "text/plain": [
       "<Figure size 432x288 with 1 Axes>"
      ]
     },
     "metadata": {
      "needs_background": "light"
     },
     "output_type": "display_data"
    }
   ],
   "source": [
    "logit_roc_auc = roc_auc_score(y, result.predict(x))\n",
    "fpr, tpr, thresholds = roc_curve(y, result.predict(x))\n",
    "plt.figure()\n",
    "plt.plot(fpr, tpr, label='Logistic Regression (area = %0.2f)' % logit_roc_auc)\n",
    "plt.plot([0, 1], [0, 1],'r--')\n",
    "plt.xlim([0.0, 1.0])\n",
    "plt.ylim([0.0, 1.05])\n",
    "plt.xlabel('False Positive Rate')\n",
    "plt.ylabel('True Positive Rate')\n",
    "plt.title('Receiver operating characteristic')\n",
    "plt.legend(loc=\"lower right\")\n",
    "#plt.savefig('Log_ROC')\n",
    "plt.show()"
   ]
  },
  {
   "cell_type": "code",
   "execution_count": 34,
   "metadata": {},
   "outputs": [
    {
     "data": {
      "text/plain": [
       "BUS_NEITHER BAD, NOR GOOD                           8.933673e-01\n",
       "BUS_GOOD                                            7.329369e-01\n",
       "Living_alone_THREE                                  7.184461e-01\n",
       "Barri_satisfaction_of_living_I DON'T KNOW           7.172573e-01\n",
       "District_NOU BARRIS                                 7.069150e-01\n",
       "District_HORTA - GUINARDÓ                           6.731791e-01\n",
       "Barri_transport_NEITHER BAD, NOR GOOD               6.435933e-01\n",
       "GREEN AREAS_NEITHER BAD, NOR GOOD                   5.948211e-01\n",
       "PUBLIC LIGHTING_I DON'T KNOW                        5.666381e-01\n",
       "District_SANTS - MONTJUÏC                           5.409602e-01\n",
       "BCN_over_barri_citizen_security                     5.302844e-01\n",
       "Barri_transport_GOOD                                4.315610e-01\n",
       "Barri_citizen_security_GOOD                         4.141687e-01\n",
       "Gender                                              4.002657e-01\n",
       "MUNICIPAL MARKETS_I DON'T KNOW                      3.986736e-01\n",
       "Barri_citizen_security_I DON'T KNOW                 3.772241e-01\n",
       "Barri_transport_I DON'T KNOW                        2.953937e-01\n",
       "NOISE_I DON'T KNOW                                  1.688957e-01\n",
       "District_SANT ANDREU                                1.405214e-01\n",
       "BCN_over_barri_transport                            1.303482e-01\n",
       "Living_alone_TWO                                    1.053082e-01\n",
       "Place_of_birth_FOREIGN                              8.304332e-02\n",
       "GREEN AREAS_GOOD                                    8.112997e-02\n",
       "Barri_comparison_NEITHER THE BEST, NOR THE WORST    7.549839e-02\n",
       "BUS_I DON'T KNOW                                    6.814452e-02\n",
       "Living_alone_ONE                                    6.637058e-02\n",
       "GREEN AREAS_I DON'T KNOW                            5.711640e-02\n",
       "MUNICIPAL MARKETS_NEITHER BAD, NOR GOOD             5.479525e-02\n",
       "Barri_citizen_security_NEITHER BAD, NOR GOOD        4.515105e-02\n",
       "District_SANT MARTÍ                                 3.770418e-02\n",
       "MUNICIPAL MARKETS_GOOD                              2.860659e-02\n",
       "District_GRÀCIA                                     2.535053e-02\n",
       "NOISE_GOOD                                          2.017992e-02\n",
       "PUBLIC LIGHTING_GOOD                                7.350686e-03\n",
       "BCN_over_barri_satisfaction_of_living               7.227046e-03\n",
       "Owns_a_car                                          2.817761e-03\n",
       "PUBLIC LIGHTING_NEITHER BAD, NOR GOOD               2.210886e-03\n",
       "BCN_over_barri_future                               1.070369e-03\n",
       "const                                               2.659002e-04\n",
       "District_LES CORTS                                  1.239982e-04\n",
       "NOISE_NEITHER BAD, NOR GOOD                         9.299824e-05\n",
       "Place_of_birth_REST OF CATALONIA                    1.184605e-05\n",
       "District_EIXAMPLE                                   1.175936e-05\n",
       "District_SARRIÀ - SANT GERVASI                      1.149784e-06\n",
       "Barri_satisfaction_of_living_NOT SATISFIED          2.554373e-07\n",
       "Barri_comparison_ONE OF THE BEST                    1.831774e-07\n",
       "Barri_comparison_ONE OF THE WORST                   4.349133e-10\n",
       "Time_living_in_barri_MORE THAN 10 YEARS             1.024257e-13\n",
       "Barri_satisfaction_of_living_SATISFIED              6.635207e-14\n",
       "Place_of_birth_REST OF SPAIN                        3.103763e-15\n",
       "Time_living_in_barri_LESS THAN 10 YEARS             5.764244e-33\n",
       "dtype: float64"
      ]
     },
     "execution_count": 34,
     "metadata": {},
     "output_type": "execute_result"
    }
   ],
   "source": [
    "result.pvalues.sort_values(ascending=False)"
   ]
  },
  {
   "cell_type": "code",
   "execution_count": null,
   "metadata": {},
   "outputs": [],
   "source": []
  },
  {
   "cell_type": "code",
   "execution_count": 38,
   "metadata": {},
   "outputs": [
    {
     "ename": "ValueError",
     "evalue": "list.remove(x): x not in list",
     "output_type": "error",
     "traceback": [
      "\u001b[1;31m---------------------------------------------------------------------------\u001b[0m",
      "\u001b[1;31mValueError\u001b[0m                                Traceback (most recent call last)",
      "\u001b[1;32m<ipython-input-38-931ee8382612>\u001b[0m in \u001b[0;36m<module>\u001b[1;34m\u001b[0m\n\u001b[0;32m      1\u001b[0m \u001b[1;32mfor\u001b[0m \u001b[0mi\u001b[0m \u001b[1;32min\u001b[0m \u001b[1;33m[\u001b[0m\u001b[1;34m'BCN_over_barri_citizen_security'\u001b[0m\u001b[1;33m,\u001b[0m \u001b[1;34m'Barri_citizen_security'\u001b[0m\u001b[1;33m,\u001b[0m \u001b[1;34m'BUS'\u001b[0m\u001b[1;33m,\u001b[0m \u001b[1;34m'Barri_transport'\u001b[0m\u001b[1;33m]\u001b[0m\u001b[1;33m:\u001b[0m\u001b[1;33m\u001b[0m\u001b[1;33m\u001b[0m\u001b[0m\n\u001b[1;32m----> 2\u001b[1;33m     \u001b[0mx_var\u001b[0m\u001b[1;33m.\u001b[0m\u001b[0mremove\u001b[0m\u001b[1;33m(\u001b[0m\u001b[0mi\u001b[0m\u001b[1;33m)\u001b[0m\u001b[1;33m\u001b[0m\u001b[1;33m\u001b[0m\u001b[0m\n\u001b[0m",
      "\u001b[1;31mValueError\u001b[0m: list.remove(x): x not in list"
     ]
    }
   ],
   "source": [
    "for i in ['BCN_over_barri_citizen_security', 'Barri_citizen_security', 'BUS', 'Barri_transport']:\n",
    "    x_var.remove(i)"
   ]
  },
  {
   "cell_type": "code",
   "execution_count": 39,
   "metadata": {},
   "outputs": [],
   "source": [
    "x = data[x_var]\n",
    "x = pd.get_dummies(x, drop_first = True)\n",
    "x = sm.add_constant(x)"
   ]
  },
  {
   "cell_type": "code",
   "execution_count": 40,
   "metadata": {},
   "outputs": [
    {
     "name": "stdout",
     "output_type": "stream",
     "text": [
      "Optimization terminated successfully.\n",
      "         Current function value: 0.279354\n",
      "         Iterations 7\n",
      "                                         Results: Logit\n",
      "================================================================================================\n",
      "Model:                    Logit                                  Pseudo R-squared:     0.187    \n",
      "Dependent Variable:       Would_live_in_another_neighborhood     AIC:                  8504.5197\n",
      "Date:                     2021-05-02 10:23                       BIC:                  8816.9722\n",
      "No. Observations:         15075                                  Log-Likelihood:       -4211.3  \n",
      "Df Model:                 40                                     LL-Null:              -5177.0  \n",
      "Df Residuals:             15034                                  LLR p-value:          0.0000   \n",
      "Converged:                1.0000                                 Scale:                1.0000   \n",
      "No. Iterations:           7.0000                                                                \n",
      "------------------------------------------------------------------------------------------------\n",
      "                                                  Coef.  Std.Err.    z    P>|z|   [0.025  0.975]\n",
      "------------------------------------------------------------------------------------------------\n",
      "const                                            -1.4271   0.3411 -4.1843 0.0000 -2.0955 -0.7586\n",
      "Gender                                            0.0545   0.0620  0.8788 0.3795 -0.0671  0.1761\n",
      "Owns_a_car                                        0.1917   0.0651  2.9438 0.0032  0.0641  0.3193\n",
      "BCN_over_barri_future                             0.2524   0.0756  3.3384 0.0008  0.1042  0.4006\n",
      "BCN_over_barri_satisfaction_of_living             0.3460   0.1316  2.6295 0.0086  0.0881  0.6039\n",
      "BCN_over_barri_transport                          0.2967   0.1184  2.5056 0.0122  0.0646  0.5288\n",
      "District_EIXAMPLE                                -0.5469   0.1265 -4.3218 0.0000 -0.7949 -0.2989\n",
      "District_GRÀCIA                                  -0.3096   0.1476 -2.0984 0.0359 -0.5989 -0.0204\n",
      "District_HORTA - GUINARDÓ                        -0.0227   0.1261 -0.1798 0.8573 -0.2699  0.2245\n",
      "District_LES CORTS                               -0.6379   0.1708 -3.7335 0.0002 -0.9727 -0.3030\n",
      "District_NOU BARRIS                              -0.0328   0.1256 -0.2608 0.7942 -0.2790  0.2134\n",
      "District_SANT ANDREU                             -0.1761   0.1345 -1.3098 0.1903 -0.4397  0.0874\n",
      "District_SANT MARTÍ                              -0.2497   0.1266 -1.9720 0.0486 -0.4979 -0.0015\n",
      "District_SANTS - MONTJUÏC                        -0.0496   0.1242 -0.3997 0.6894 -0.2930  0.1937\n",
      "District_SARRIÀ - SANT GERVASI                   -0.8364   0.1765 -4.7379 0.0000 -1.1824 -0.4904\n",
      "Place_of_birth_FOREIGN                           -0.2653   0.1485 -1.7861 0.0741 -0.5564  0.0258\n",
      "Place_of_birth_REST OF CATALONIA                 -0.4460   0.0998 -4.4683 0.0000 -0.6417 -0.2504\n",
      "Place_of_birth_REST OF SPAIN                     -0.5485   0.0693 -7.9149 0.0000 -0.6843 -0.4126\n",
      "Time_living_in_barri_LESS THAN 10 YEARS           1.6102   0.1339 12.0260 0.0000  1.3478  1.8727\n",
      "Time_living_in_barri_MORE THAN 10 YEARS           0.7295   0.0985  7.4093 0.0000  0.5366  0.9225\n",
      "Barri_satisfaction_of_living_I DON'T KNOW        -0.1408   0.4377 -0.3218 0.7476 -0.9987  0.7170\n",
      "Barri_satisfaction_of_living_NOT SATISFIED        1.0649   0.1993  5.3436 0.0000  0.6743  1.4555\n",
      "Barri_satisfaction_of_living_SATISFIED           -0.9085   0.1172 -7.7492 0.0000 -1.1382 -0.6787\n",
      "Barri_comparison_NEITHER THE BEST, NOR THE WORST  0.3145   0.1852  1.6985 0.0894 -0.0484  0.6775\n",
      "Barri_comparison_ONE OF THE BEST                 -1.0140   0.1906 -5.3200 0.0000 -1.3876 -0.6405\n",
      "Barri_comparison_ONE OF THE WORST                 1.3131   0.2076  6.3256 0.0000  0.9063  1.7200\n",
      "NOISE_GOOD                                       -0.2215   0.0846 -2.6172 0.0089 -0.3873 -0.0556\n",
      "NOISE_I DON'T KNOW                               -0.2878   0.1943 -1.4815 0.1385 -0.6686  0.0929\n",
      "NOISE_NEITHER BAD, NOR GOOD                      -0.3233   0.0761 -4.2507 0.0000 -0.4723 -0.1742\n",
      "GREEN AREAS_GOOD                                 -0.2081   0.1082 -1.9228 0.0545 -0.4202  0.0040\n",
      "GREEN AREAS_I DON'T KNOW                         -0.4037   0.1804 -2.2379 0.0252 -0.7573 -0.0501\n",
      "GREEN AREAS_NEITHER BAD, NOR GOOD                 0.0398   0.1044  0.3813 0.7030 -0.1648  0.2444\n",
      "PUBLIC LIGHTING_GOOD                             -0.4180   0.1411 -2.9627 0.0030 -0.6945 -0.1415\n",
      "PUBLIC LIGHTING_I DON'T KNOW                     -0.1982   0.2629 -0.7538 0.4510 -0.7135  0.3171\n",
      "PUBLIC LIGHTING_NEITHER BAD, NOR GOOD            -0.4637   0.1416 -3.2745 0.0011 -0.7413 -0.1862\n",
      "MUNICIPAL MARKETS_GOOD                            0.3577   0.1735  2.0622 0.0392  0.0177  0.6978\n",
      "MUNICIPAL MARKETS_I DON'T KNOW                    0.1213   0.1978  0.6135 0.5395 -0.2663  0.5089\n",
      "MUNICIPAL MARKETS_NEITHER BAD, NOR GOOD           0.3302   0.1784  1.8504 0.0642 -0.0195  0.6799\n",
      "Living_alone_ONE                                  0.2675   0.1441  1.8567 0.0633 -0.0149  0.5499\n",
      "Living_alone_THREE                                0.0654   0.1573  0.4157 0.6777 -0.2429  0.3736\n",
      "Living_alone_TWO                                  0.2283   0.1362  1.6761 0.0937 -0.0387  0.4952\n",
      "================================================================================================\n",
      "\n"
     ]
    }
   ],
   "source": [
    "logit_model = sm.Logit(y,x)\n",
    "result=logit_model.fit()\n",
    "print(result.summary2())"
   ]
  },
  {
   "cell_type": "code",
   "execution_count": 41,
   "metadata": {},
   "outputs": [
    {
     "data": {
      "image/png": "[encoded data removed]",
      "text/plain": [
       "<Figure size 432x288 with 1 Axes>"
      ]
     },
     "metadata": {
      "needs_background": "light"
     },
     "output_type": "display_data"
    }
   ],
   "source": [
    "logit_roc_auc = roc_auc_score(y, result.predict(x))\n",
    "fpr, tpr, thresholds = roc_curve(y, result.predict(x))\n",
    "plt.figure()\n",
    "plt.plot(fpr, tpr, label='Logistic Regression (area = %0.2f)' % logit_roc_auc)\n",
    "plt.plot([0, 1], [0, 1],'r--')\n",
    "plt.xlim([0.0, 1.0])\n",
    "plt.ylim([0.0, 1.05])\n",
    "plt.xlabel('False Positive Rate')\n",
    "plt.ylabel('True Positive Rate')\n",
    "plt.title('Receiver operating characteristic')\n",
    "plt.legend(loc=\"lower right\")\n",
    "#plt.savefig('Log_ROC')\n",
    "plt.show()"
   ]
  },
  {
   "cell_type": "code",
   "execution_count": 42,
   "metadata": {},
   "outputs": [
    {
     "data": {
      "text/plain": [
       "District_HORTA - GUINARDÓ                           8.572970e-01\n",
       "District_NOU BARRIS                                 7.942175e-01\n",
       "Barri_satisfaction_of_living_I DON'T KNOW           7.476051e-01\n",
       "GREEN AREAS_NEITHER BAD, NOR GOOD                   7.029751e-01\n",
       "District_SANTS - MONTJUÏC                           6.893682e-01\n",
       "Living_alone_THREE                                  6.776546e-01\n",
       "MUNICIPAL MARKETS_I DON'T KNOW                      5.395262e-01\n",
       "PUBLIC LIGHTING_I DON'T KNOW                        4.509601e-01\n",
       "Gender                                              3.795091e-01\n",
       "District_SANT ANDREU                                1.902794e-01\n",
       "NOISE_I DON'T KNOW                                  1.384632e-01\n",
       "Living_alone_TWO                                    9.371915e-02\n",
       "Barri_comparison_NEITHER THE BEST, NOR THE WORST    8.941718e-02\n",
       "Place_of_birth_FOREIGN                              7.407975e-02\n",
       "MUNICIPAL MARKETS_NEITHER BAD, NOR GOOD             6.424976e-02\n",
       "Living_alone_ONE                                    6.334746e-02\n",
       "GREEN AREAS_GOOD                                    5.450761e-02\n",
       "District_SANT MARTÍ                                 4.861319e-02\n",
       "MUNICIPAL MARKETS_GOOD                              3.918873e-02\n",
       "District_GRÀCIA                                     3.586622e-02\n",
       "GREEN AREAS_I DON'T KNOW                            2.523034e-02\n",
       "BCN_over_barri_transport                            1.222587e-02\n",
       "NOISE_GOOD                                          8.864341e-03\n",
       "BCN_over_barri_satisfaction_of_living               8.551114e-03\n",
       "Owns_a_car                                          3.241865e-03\n",
       "PUBLIC LIGHTING_GOOD                                3.049888e-03\n",
       "PUBLIC LIGHTING_NEITHER BAD, NOR GOOD               1.058667e-03\n",
       "BCN_over_barri_future                               8.426878e-04\n",
       "District_LES CORTS                                  1.888219e-04\n",
       "const                                               2.859840e-05\n",
       "NOISE_NEITHER BAD, NOR GOOD                         2.130617e-05\n",
       "District_EIXAMPLE                                   1.547342e-05\n",
       "Place_of_birth_REST OF CATALONIA                    7.886201e-06\n",
       "District_SARRIÀ - SANT GERVASI                      2.159630e-06\n",
       "Barri_comparison_ONE OF THE BEST                    1.037772e-07\n",
       "Barri_satisfaction_of_living_NOT SATISFIED          9.112779e-08\n",
       "Barri_comparison_ONE OF THE WORST                   2.522349e-10\n",
       "Time_living_in_barri_MORE THAN 10 YEARS             1.270029e-13\n",
       "Barri_satisfaction_of_living_SATISFIED              9.248435e-15\n",
       "Place_of_birth_REST OF SPAIN                        2.475155e-15\n",
       "Time_living_in_barri_LESS THAN 10 YEARS             2.594945e-33\n",
       "dtype: float64"
      ]
     },
     "execution_count": 42,
     "metadata": {},
     "output_type": "execute_result"
    }
   ],
   "source": [
    "result.pvalues.sort_values(ascending=False)"
   ]
  },
  {
   "cell_type": "code",
   "execution_count": null,
   "metadata": {},
   "outputs": [],
   "source": []
  },
  {
   "cell_type": "code",
   "execution_count": 43,
   "metadata": {},
   "outputs": [],
   "source": [
    "for i in ['Gender']:\n",
    "    x_var.remove(i)"
   ]
  },
  {
   "cell_type": "code",
   "execution_count": 45,
   "metadata": {},
   "outputs": [],
   "source": [
    "x = data[x_var]\n",
    "x = pd.get_dummies(x, drop_first = True)\n",
    "x = sm.add_constant(x)"
   ]
  },
  {
   "cell_type": "code",
   "execution_count": 46,
   "metadata": {},
   "outputs": [
    {
     "name": "stdout",
     "output_type": "stream",
     "text": [
      "Optimization terminated successfully.\n",
      "         Current function value: 0.279380\n",
      "         Iterations 7\n",
      "                                         Results: Logit\n",
      "================================================================================================\n",
      "Model:                    Logit                                  Pseudo R-squared:     0.186    \n",
      "Dependent Variable:       Would_live_in_another_neighborhood     AIC:                  8503.2936\n",
      "Date:                     2021-05-02 10:24                       BIC:                  8808.1253\n",
      "No. Observations:         15075                                  Log-Likelihood:       -4211.6  \n",
      "Df Model:                 39                                     LL-Null:              -5177.0  \n",
      "Df Residuals:             15035                                  LLR p-value:          0.0000   \n",
      "Converged:                1.0000                                 Scale:                1.0000   \n",
      "No. Iterations:           7.0000                                                                \n",
      "------------------------------------------------------------------------------------------------\n",
      "                                                  Coef.  Std.Err.    z    P>|z|   [0.025  0.975]\n",
      "------------------------------------------------------------------------------------------------\n",
      "const                                            -1.3856   0.3378 -4.1017 0.0000 -2.0477 -0.7235\n",
      "Owns_a_car                                        0.1821   0.0642  2.8376 0.0045  0.0563  0.3079\n",
      "BCN_over_barri_future                             0.2521   0.0756  3.3349 0.0009  0.1040  0.4003\n",
      "BCN_over_barri_satisfaction_of_living             0.3500   0.1315  2.6617 0.0078  0.0923  0.6077\n",
      "BCN_over_barri_transport                          0.2988   0.1184  2.5228 0.0116  0.0667  0.5309\n",
      "District_EIXAMPLE                                -0.5408   0.1264 -4.2800 0.0000 -0.7884 -0.2931\n",
      "District_GRÀCIA                                  -0.3041   0.1474 -2.0624 0.0392 -0.5931 -0.0151\n",
      "District_HORTA - GUINARDÓ                        -0.0174   0.1260 -0.1385 0.8899 -0.2644  0.2295\n",
      "District_LES CORTS                               -0.6328   0.1708 -3.7055 0.0002 -0.9675 -0.2981\n",
      "District_NOU BARRIS                              -0.0285   0.1255 -0.2270 0.8204 -0.2745  0.2176\n",
      "District_SANT ANDREU                             -0.1709   0.1343 -1.2722 0.2033 -0.4342  0.0924\n",
      "District_SANT MARTÍ                              -0.2442   0.1265 -1.9308 0.0535 -0.4921  0.0037\n",
      "District_SANTS - MONTJUÏC                        -0.0450   0.1241 -0.3624 0.7170 -0.2881  0.1982\n",
      "District_SARRIÀ - SANT GERVASI                   -0.8299   0.1764 -4.7060 0.0000 -1.1756 -0.4843\n",
      "Place_of_birth_FOREIGN                           -0.2656   0.1486 -1.7873 0.0739 -0.5568  0.0256\n",
      "Place_of_birth_REST OF CATALONIA                 -0.4466   0.0998 -4.4732 0.0000 -0.6422 -0.2509\n",
      "Place_of_birth_REST OF SPAIN                     -0.5484   0.0693 -7.9145 0.0000 -0.6842 -0.4126\n",
      "Time_living_in_barri_LESS THAN 10 YEARS           1.6078   0.1339 12.0108 0.0000  1.3455  1.8702\n",
      "Time_living_in_barri_MORE THAN 10 YEARS           0.7285   0.0985  7.3996 0.0000  0.5355  0.9215\n",
      "Barri_satisfaction_of_living_I DON'T KNOW        -0.1438   0.4381 -0.3283 0.7427 -1.0025  0.7148\n",
      "Barri_satisfaction_of_living_NOT SATISFIED        1.0676   0.1992  5.3590 0.0000  0.6771  1.4580\n",
      "Barri_satisfaction_of_living_SATISFIED           -0.9069   0.1172 -7.7384 0.0000 -1.1367 -0.6772\n",
      "Barri_comparison_NEITHER THE BEST, NOR THE WORST  0.3110   0.1851  1.6798 0.0930 -0.0519  0.6739\n",
      "Barri_comparison_ONE OF THE BEST                 -1.0183   0.1906 -5.3440 0.0000 -1.3918 -0.6448\n",
      "Barri_comparison_ONE OF THE WORST                 1.3089   0.2075  6.3072 0.0000  0.9022  1.7157\n",
      "NOISE_GOOD                                       -0.2218   0.0846 -2.6213 0.0088 -0.3877 -0.0560\n",
      "NOISE_I DON'T KNOW                               -0.2811   0.1941 -1.4482 0.1476 -0.6615  0.0993\n",
      "NOISE_NEITHER BAD, NOR GOOD                      -0.3236   0.0760 -4.2553 0.0000 -0.4727 -0.1746\n",
      "GREEN AREAS_GOOD                                 -0.2102   0.1082 -1.9427 0.0521 -0.4223  0.0019\n",
      "GREEN AREAS_I DON'T KNOW                         -0.3999   0.1804 -2.2173 0.0266 -0.7534 -0.0464\n",
      "GREEN AREAS_NEITHER BAD, NOR GOOD                 0.0383   0.1044  0.3671 0.7136 -0.1663  0.2429\n",
      "PUBLIC LIGHTING_GOOD                             -0.4240   0.1409 -3.0087 0.0026 -0.7002 -0.1478\n",
      "PUBLIC LIGHTING_I DON'T KNOW                     -0.1972   0.2629 -0.7501 0.4532 -0.7123  0.3180\n",
      "PUBLIC LIGHTING_NEITHER BAD, NOR GOOD            -0.4686   0.1415 -3.3119 0.0009 -0.7460 -0.1913\n",
      "MUNICIPAL MARKETS_GOOD                            0.3580   0.1734  2.0642 0.0390  0.0181  0.6979\n",
      "MUNICIPAL MARKETS_I DON'T KNOW                    0.1181   0.1977  0.5975 0.5502 -0.2693  0.5056\n",
      "MUNICIPAL MARKETS_NEITHER BAD, NOR GOOD           0.3291   0.1784  1.8450 0.0650 -0.0205  0.6787\n",
      "Living_alone_ONE                                  0.2751   0.1438  1.9130 0.0558 -0.0068  0.5570\n",
      "Living_alone_THREE                                0.0654   0.1573  0.4158 0.6775 -0.2428  0.3736\n",
      "Living_alone_TWO                                  0.2280   0.1362  1.6742 0.0941 -0.0389  0.4949\n",
      "================================================================================================\n",
      "\n"
     ]
    }
   ],
   "source": [
    "logit_model = sm.Logit(y,x)\n",
    "result=logit_model.fit()\n",
    "print(result.summary2())"
   ]
  },
  {
   "cell_type": "code",
   "execution_count": 47,
   "metadata": {},
   "outputs": [
    {
     "data": {
      "image/png": "[encoded data removed]",
      "text/plain": [
       "<Figure size 432x288 with 1 Axes>"
      ]
     },
     "metadata": {
      "needs_background": "light"
     },
     "output_type": "display_data"
    }
   ],
   "source": [
    "logit_roc_auc = roc_auc_score(y, result.predict(x))\n",
    "fpr, tpr, thresholds = roc_curve(y, result.predict(x))\n",
    "plt.figure()\n",
    "plt.plot(fpr, tpr, label='Logistic Regression (area = %0.2f)' % logit_roc_auc)\n",
    "plt.plot([0, 1], [0, 1],'r--')\n",
    "plt.xlim([0.0, 1.0])\n",
    "plt.ylim([0.0, 1.05])\n",
    "plt.xlabel('False Positive Rate')\n",
    "plt.ylabel('True Positive Rate')\n",
    "plt.title('Receiver operating characteristic')\n",
    "plt.legend(loc=\"lower right\")\n",
    "#plt.savefig('Log_ROC')\n",
    "plt.show()"
   ]
  },
  {
   "cell_type": "code",
   "execution_count": 48,
   "metadata": {},
   "outputs": [
    {
     "data": {
      "text/plain": [
       "District_HORTA - GUINARDÓ                           8.898816e-01\n",
       "District_NOU BARRIS                                 8.204490e-01\n",
       "Barri_satisfaction_of_living_I DON'T KNOW           7.427211e-01\n",
       "District_SANTS - MONTJUÏC                           7.170456e-01\n",
       "GREEN AREAS_NEITHER BAD, NOR GOOD                   7.135738e-01\n",
       "Living_alone_THREE                                  6.775333e-01\n",
       "MUNICIPAL MARKETS_I DON'T KNOW                      5.501763e-01\n",
       "PUBLIC LIGHTING_I DON'T KNOW                        4.532132e-01\n",
       "District_SANT ANDREU                                2.033136e-01\n",
       "NOISE_I DON'T KNOW                                  1.475528e-01\n",
       "Living_alone_TWO                                    9.409013e-02\n",
       "Barri_comparison_NEITHER THE BEST, NOR THE WORST    9.300492e-02\n",
       "Place_of_birth_FOREIGN                              7.388411e-02\n",
       "MUNICIPAL MARKETS_NEITHER BAD, NOR GOOD             6.503264e-02\n",
       "Living_alone_ONE                                    5.575286e-02\n",
       "District_SANT MARTÍ                                 5.350813e-02\n",
       "GREEN AREAS_GOOD                                    5.205223e-02\n",
       "District_GRÀCIA                                     3.916756e-02\n",
       "MUNICIPAL MARKETS_GOOD                              3.899499e-02\n",
       "GREEN AREAS_I DON'T KNOW                            2.660338e-02\n",
       "BCN_over_barri_transport                            1.164134e-02\n",
       "NOISE_GOOD                                          8.760756e-03\n",
       "BCN_over_barri_satisfaction_of_living               7.774976e-03\n",
       "Owns_a_car                                          4.545385e-03\n",
       "PUBLIC LIGHTING_GOOD                                2.623943e-03\n",
       "PUBLIC LIGHTING_NEITHER BAD, NOR GOOD               9.267441e-04\n",
       "BCN_over_barri_future                               8.531879e-04\n",
       "District_LES CORTS                                  2.109990e-04\n",
       "const                                               4.101419e-05\n",
       "NOISE_NEITHER BAD, NOR GOOD                         2.087822e-05\n",
       "District_EIXAMPLE                                   1.868682e-05\n",
       "Place_of_birth_REST OF CATALONIA                    7.704704e-06\n",
       "District_SARRIÀ - SANT GERVASI                      2.526303e-06\n",
       "Barri_comparison_ONE OF THE BEST                    9.093725e-08\n",
       "Barri_satisfaction_of_living_NOT SATISFIED          8.366953e-08\n",
       "Barri_comparison_ONE OF THE WORST                   2.842172e-10\n",
       "Time_living_in_barri_MORE THAN 10 YEARS             1.366282e-13\n",
       "Barri_satisfaction_of_living_SATISFIED              1.006518e-14\n",
       "Place_of_birth_REST OF SPAIN                        2.482174e-15\n",
       "Time_living_in_barri_LESS THAN 10 YEARS             3.117444e-33\n",
       "dtype: float64"
      ]
     },
     "execution_count": 48,
     "metadata": {},
     "output_type": "execute_result"
    }
   ],
   "source": [
    "result.pvalues.sort_values(ascending=False)"
   ]
  },
  {
   "cell_type": "code",
   "execution_count": null,
   "metadata": {},
   "outputs": [],
   "source": []
  },
  {
   "cell_type": "code",
   "execution_count": 49,
   "metadata": {},
   "outputs": [
    {
     "name": "stdout",
     "output_type": "stream",
     "text": [
      "                Logit Marginal Effects               \n",
      "=====================================================\n",
      "Dep. Variable:     Would_live_in_another_neighborhood\n",
      "Method:                                          dydx\n",
      "At:                                           overall\n",
      "====================================================================================================================\n",
      "                                                      dy/dx    std err          z      P>|z|      [0.025      0.975]\n",
      "--------------------------------------------------------------------------------------------------------------------\n",
      "Owns_a_car                                           0.0146      0.005      2.837      0.005       0.005       0.025\n",
      "BCN_over_barri_future                                0.0202      0.006      3.336      0.001       0.008       0.032\n",
      "BCN_over_barri_satisfaction_of_living                0.0280      0.011      2.664      0.008       0.007       0.049\n",
      "BCN_over_barri_transport                             0.0239      0.009      2.523      0.012       0.005       0.042\n",
      "District_EIXAMPLE                                   -0.0433      0.010     -4.281      0.000      -0.063      -0.023\n",
      "District_GRÀCIA                                     -0.0243      0.012     -2.063      0.039      -0.047      -0.001\n",
      "District_HORTA - GUINARDÓ                           -0.0014      0.010     -0.138      0.890      -0.021       0.018\n",
      "District_LES CORTS                                  -0.0507      0.014     -3.705      0.000      -0.077      -0.024\n",
      "District_NOU BARRIS                                 -0.0023      0.010     -0.227      0.820      -0.022       0.017\n",
      "District_SANT ANDREU                                -0.0137      0.011     -1.272      0.203      -0.035       0.007\n",
      "District_SANT MARTÍ                                 -0.0195      0.010     -1.931      0.053      -0.039       0.000\n",
      "District_SANTS - MONTJUÏC                           -0.0036      0.010     -0.362      0.717      -0.023       0.016\n",
      "District_SARRIÀ - SANT GERVASI                      -0.0664      0.014     -4.705      0.000      -0.094      -0.039\n",
      "Place_of_birth_FOREIGN                              -0.0213      0.012     -1.788      0.074      -0.045       0.002\n",
      "Place_of_birth_REST OF CATALONIA                    -0.0357      0.008     -4.474      0.000      -0.051      -0.020\n",
      "Place_of_birth_REST OF SPAIN                        -0.0439      0.006     -7.922      0.000      -0.055      -0.033\n",
      "Time_living_in_barri_LESS THAN 10 YEARS              0.1287      0.011     12.051      0.000       0.108       0.150\n",
      "Time_living_in_barri_MORE THAN 10 YEARS              0.0583      0.008      7.403      0.000       0.043       0.074\n",
      "Barri_satisfaction_of_living_I DON'T KNOW           -0.0115      0.035     -0.328      0.743      -0.080       0.057\n",
      "Barri_satisfaction_of_living_NOT SATISFIED           0.0855      0.016      5.382      0.000       0.054       0.117\n",
      "Barri_satisfaction_of_living_SATISFIED              -0.0726      0.009     -7.771      0.000      -0.091      -0.054\n",
      "Barri_comparison_NEITHER THE BEST, NOR THE WORST     0.0249      0.015      1.680      0.093      -0.004       0.054\n",
      "Barri_comparison_ONE OF THE BEST                    -0.0815      0.015     -5.333      0.000      -0.111      -0.052\n",
      "Barri_comparison_ONE OF THE WORST                    0.1048      0.017      6.337      0.000       0.072       0.137\n",
      "NOISE_GOOD                                          -0.0178      0.007     -2.622      0.009      -0.031      -0.004\n",
      "NOISE_I DON'T KNOW                                  -0.0225      0.016     -1.448      0.148      -0.053       0.008\n",
      "NOISE_NEITHER BAD, NOR GOOD                         -0.0259      0.006     -4.257      0.000      -0.038      -0.014\n",
      "GREEN AREAS_GOOD                                    -0.0168      0.009     -1.943      0.052      -0.034       0.000\n",
      "GREEN AREAS_I DON'T KNOW                            -0.0320      0.014     -2.218      0.027      -0.060      -0.004\n",
      "GREEN AREAS_NEITHER BAD, NOR GOOD                    0.0031      0.008      0.367      0.714      -0.013       0.019\n",
      "PUBLIC LIGHTING_GOOD                                -0.0339      0.011     -3.009      0.003      -0.056      -0.012\n",
      "PUBLIC LIGHTING_I DON'T KNOW                        -0.0158      0.021     -0.750      0.453      -0.057       0.025\n",
      "PUBLIC LIGHTING_NEITHER BAD, NOR GOOD               -0.0375      0.011     -3.313      0.001      -0.060      -0.015\n",
      "MUNICIPAL MARKETS_GOOD                               0.0287      0.014      2.065      0.039       0.001       0.056\n",
      "MUNICIPAL MARKETS_I DON'T KNOW                       0.0095      0.016      0.598      0.550      -0.022       0.040\n",
      "MUNICIPAL MARKETS_NEITHER BAD, NOR GOOD              0.0263      0.014      1.845      0.065      -0.002       0.054\n",
      "Living_alone_ONE                                     0.0220      0.012      1.913      0.056      -0.001       0.045\n",
      "Living_alone_THREE                                   0.0052      0.013      0.416      0.678      -0.019       0.030\n",
      "Living_alone_TWO                                     0.0183      0.011      1.674      0.094      -0.003       0.040\n",
      "====================================================================================================================\n"
     ]
    }
   ],
   "source": [
    "print(result.get_margeff().summary())"
   ]
  },
  {
   "cell_type": "code",
   "execution_count": null,
   "metadata": {},
   "outputs": [],
   "source": []
  },
  {
   "cell_type": "code",
   "execution_count": 50,
   "metadata": {},
   "outputs": [
    {
     "data": {
      "text/plain": [
       "array([[13322.,   117.],\n",
       "       [ 1363.,   273.]])"
      ]
     },
     "execution_count": 50,
     "metadata": {},
     "output_type": "execute_result"
    }
   ],
   "source": [
    "result.pred_table()"
   ]
  },
  {
   "cell_type": "code",
   "execution_count": null,
   "metadata": {},
   "outputs": [],
   "source": []
  },
  {
   "cell_type": "code",
   "execution_count": 51,
   "metadata": {},
   "outputs": [
    {
     "data": {
      "image/png": "[encoded data removed]",
      "text/plain": [
       "<Figure size 432x288 with 1 Axes>"
      ]
     },
     "metadata": {
      "needs_background": "light"
     },
     "output_type": "display_data"
    }
   ],
   "source": [
    "logit_roc_auc = roc_auc_score(y, result.predict(x))\n",
    "fpr, tpr, thresholds = roc_curve(y, result.predict(x))\n",
    "plt.figure()\n",
    "plt.plot(fpr, tpr, label='Logistic Regression (area = %0.2f)' % logit_roc_auc)\n",
    "plt.plot([0, 1], [0, 1],'r--')\n",
    "plt.xlim([0.0, 1.0])\n",
    "plt.ylim([0.0, 1.05])\n",
    "plt.xlabel('False Positive Rate')\n",
    "plt.ylabel('True Positive Rate')\n",
    "plt.title('Receiver operating characteristic')\n",
    "plt.legend(loc=\"lower right\")\n",
    "#plt.savefig('Log_ROC')\n",
    "plt.show()"
   ]
  },
  {
   "cell_type": "code",
   "execution_count": null,
   "metadata": {},
   "outputs": [],
   "source": []
  }
 ],
 "metadata": {
  "kernelspec": {
   "display_name": "Python 3",
   "language": "python",
   "name": "python3"
  },
  "language_info": {
   "codemirror_mode": {
    "name": "ipython",
    "version": 3
   },
   "file_extension": ".py",
   "mimetype": "text/x-python",
   "name": "python",
   "nbconvert_exporter": "python",
   "pygments_lexer": "ipython3",
   "version": "3.7.6"
  }
 },
 "nbformat": 4,
 "nbformat_minor": 4
}
