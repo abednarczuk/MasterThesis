{
 "cells": [
  {
   "cell_type": "markdown",
   "metadata": {},
   "source": [
    "Aleksandra Bednarczuk"
   ]
  },
  {
   "cell_type": "markdown",
   "metadata": {},
   "source": [
    "# Predictors of elderly citizens willingness to stay in the neighbourhood\n",
    "# Logistic regression"
   ]
  },
  {
   "cell_type": "markdown",
   "metadata": {},
   "source": [
    "Original dataset, including barris among predictors"
   ]
  },
  {
   "cell_type": "code",
   "execution_count": 1,
   "metadata": {},
   "outputs": [],
   "source": [
    "import pandas as pd\n",
    "import numpy as np\n",
    "\n",
    "import matplotlib.pyplot as plt"
   ]
  },
  {
   "cell_type": "code",
   "execution_count": 2,
   "metadata": {},
   "outputs": [],
   "source": [
    "from imblearn.over_sampling import SMOTE\n",
    "\n",
    "import statsmodels.api as sm\n",
    "import statsmodels.formula.api as smf\n",
    "\n",
    "from sklearn.model_selection import train_test_split\n",
    "from sklearn.feature_selection import RFE\n",
    "from sklearn.linear_model import LogisticRegression\n",
    "\n",
    "from sklearn.metrics import accuracy_score\n",
    "from sklearn.metrics import classification_report\n",
    "from sklearn.metrics import confusion_matrix\n",
    "from sklearn.metrics import roc_auc_score\n",
    "from sklearn.metrics import roc_curve\n",
    "from sklearn.metrics import r2_score\n",
    "\n",
    "from sklearn.feature_selection import SelectKBest\n",
    "from sklearn.feature_selection import chi2\n",
    "from sklearn.feature_selection import mutual_info_classif\n",
    "from sklearn.feature_selection import f_classif\n",
    "from sklearn.preprocessing import LabelEncoder\n",
    "from sklearn.preprocessing import OrdinalEncoder\n",
    "\n",
    "from scipy import stats"
   ]
  },
  {
   "cell_type": "code",
   "execution_count": null,
   "metadata": {},
   "outputs": [],
   "source": []
  },
  {
   "cell_type": "code",
   "execution_count": 3,
   "metadata": {},
   "outputs": [],
   "source": [
    "data = pd.read_pickle(\"survey_transformed_2019.pkl\")"
   ]
  },
  {
   "cell_type": "code",
   "execution_count": 4,
   "metadata": {},
   "outputs": [],
   "source": [
    "data.reset_index(drop=True, inplace=True)"
   ]
  },
  {
   "cell_type": "code",
   "execution_count": 5,
   "metadata": {},
   "outputs": [
    {
     "data": {
      "text/html": [
       "<div>\n",
       "<style scoped>\n",
       "    .dataframe tbody tr th:only-of-type {\n",
       "        vertical-align: middle;\n",
       "    }\n",
       "\n",
       "    .dataframe tbody tr th {\n",
       "        vertical-align: top;\n",
       "    }\n",
       "\n",
       "    .dataframe thead th {\n",
       "        text-align: right;\n",
       "    }\n",
       "</style>\n",
       "<table border=\"1\" class=\"dataframe\">\n",
       "  <thead>\n",
       "    <tr style=\"text-align: right;\">\n",
       "      <th></th>\n",
       "      <th>Would_live_in_another_neighborhood</th>\n",
       "      <th>District</th>\n",
       "      <th>Woman</th>\n",
       "      <th>Car</th>\n",
       "      <th>Support_with_housework</th>\n",
       "      <th>Owner</th>\n",
       "      <th>House_size</th>\n",
       "      <th>No_of_people_in_the_house</th>\n",
       "      <th>Financial_situation</th>\n",
       "      <th>Disability</th>\n",
       "      <th>...</th>\n",
       "      <th>BCN_transport</th>\n",
       "      <th>Barri_problem_with_security</th>\n",
       "      <th>Barri_problem_with_streets_cleaning</th>\n",
       "      <th>Barri_problem_with_mobility</th>\n",
       "      <th>BCN_over_barri_evolution</th>\n",
       "      <th>BCN_over_barri_future</th>\n",
       "      <th>BCN_over_barri_satisfaction</th>\n",
       "      <th>BCN_over_barri_transport</th>\n",
       "      <th>BCN_over_barri_management</th>\n",
       "      <th>BCN_over_barri_security</th>\n",
       "    </tr>\n",
       "  </thead>\n",
       "  <tbody>\n",
       "    <tr>\n",
       "      <th>0</th>\n",
       "      <td>0.0</td>\n",
       "      <td>SANTS - MONTJUÏC</td>\n",
       "      <td>0</td>\n",
       "      <td>1</td>\n",
       "      <td>0.0</td>\n",
       "      <td>1.0</td>\n",
       "      <td>51-100 M2</td>\n",
       "      <td>TWO</td>\n",
       "      <td>GOOD</td>\n",
       "      <td>0.0</td>\n",
       "      <td>...</td>\n",
       "      <td>GOOD</td>\n",
       "      <td>0</td>\n",
       "      <td>0</td>\n",
       "      <td>0</td>\n",
       "      <td>0</td>\n",
       "      <td>0</td>\n",
       "      <td>0</td>\n",
       "      <td>0</td>\n",
       "      <td>0</td>\n",
       "      <td>0</td>\n",
       "    </tr>\n",
       "    <tr>\n",
       "      <th>1</th>\n",
       "      <td>0.0</td>\n",
       "      <td>SANTS - MONTJUÏC</td>\n",
       "      <td>1</td>\n",
       "      <td>0</td>\n",
       "      <td>0.0</td>\n",
       "      <td>1.0</td>\n",
       "      <td>51-100 M2</td>\n",
       "      <td>ONE</td>\n",
       "      <td>BAD</td>\n",
       "      <td>0.0</td>\n",
       "      <td>...</td>\n",
       "      <td>GOOD</td>\n",
       "      <td>0</td>\n",
       "      <td>0</td>\n",
       "      <td>0</td>\n",
       "      <td>1</td>\n",
       "      <td>0</td>\n",
       "      <td>0</td>\n",
       "      <td>0</td>\n",
       "      <td>0</td>\n",
       "      <td>0</td>\n",
       "    </tr>\n",
       "    <tr>\n",
       "      <th>2</th>\n",
       "      <td>0.0</td>\n",
       "      <td>SANTS - MONTJUÏC</td>\n",
       "      <td>1</td>\n",
       "      <td>0</td>\n",
       "      <td>1.0</td>\n",
       "      <td>0.0</td>\n",
       "      <td>51-100 M2</td>\n",
       "      <td>ONE</td>\n",
       "      <td>GOOD</td>\n",
       "      <td>0.0</td>\n",
       "      <td>...</td>\n",
       "      <td>NEITHER BAD, NOR GOOD</td>\n",
       "      <td>0</td>\n",
       "      <td>0</td>\n",
       "      <td>0</td>\n",
       "      <td>0</td>\n",
       "      <td>0</td>\n",
       "      <td>0</td>\n",
       "      <td>1</td>\n",
       "      <td>0</td>\n",
       "      <td>0</td>\n",
       "    </tr>\n",
       "    <tr>\n",
       "      <th>3</th>\n",
       "      <td>1.0</td>\n",
       "      <td>SANTS - MONTJUÏC</td>\n",
       "      <td>0</td>\n",
       "      <td>0</td>\n",
       "      <td>0.0</td>\n",
       "      <td>1.0</td>\n",
       "      <td>&lt; 50 M2</td>\n",
       "      <td>TWO</td>\n",
       "      <td>BAD</td>\n",
       "      <td>1.0</td>\n",
       "      <td>...</td>\n",
       "      <td>GOOD</td>\n",
       "      <td>0</td>\n",
       "      <td>0</td>\n",
       "      <td>0</td>\n",
       "      <td>0</td>\n",
       "      <td>0</td>\n",
       "      <td>1</td>\n",
       "      <td>0</td>\n",
       "      <td>0</td>\n",
       "      <td>0</td>\n",
       "    </tr>\n",
       "    <tr>\n",
       "      <th>4</th>\n",
       "      <td>0.0</td>\n",
       "      <td>SANTS - MONTJUÏC</td>\n",
       "      <td>1</td>\n",
       "      <td>0</td>\n",
       "      <td>1.0</td>\n",
       "      <td>1.0</td>\n",
       "      <td>51-100 M2</td>\n",
       "      <td>TWO</td>\n",
       "      <td>GOOD</td>\n",
       "      <td>0.0</td>\n",
       "      <td>...</td>\n",
       "      <td>GOOD</td>\n",
       "      <td>0</td>\n",
       "      <td>1</td>\n",
       "      <td>0</td>\n",
       "      <td>0</td>\n",
       "      <td>1</td>\n",
       "      <td>0</td>\n",
       "      <td>0</td>\n",
       "      <td>0</td>\n",
       "      <td>0</td>\n",
       "    </tr>\n",
       "  </tbody>\n",
       "</table>\n",
       "<p>5 rows × 35 columns</p>\n",
       "</div>"
      ],
      "text/plain": [
       "   Would_live_in_another_neighborhood          District  Woman  Car  \\\n",
       "0                                 0.0  SANTS - MONTJUÏC      0    1   \n",
       "1                                 0.0  SANTS - MONTJUÏC      1    0   \n",
       "2                                 0.0  SANTS - MONTJUÏC      1    0   \n",
       "3                                 1.0  SANTS - MONTJUÏC      0    0   \n",
       "4                                 0.0  SANTS - MONTJUÏC      1    0   \n",
       "\n",
       "   Support_with_housework  Owner House_size No_of_people_in_the_house  \\\n",
       "0                     0.0    1.0  51-100 M2                       TWO   \n",
       "1                     0.0    1.0  51-100 M2                       ONE   \n",
       "2                     1.0    0.0  51-100 M2                       ONE   \n",
       "3                     0.0    1.0    < 50 M2                       TWO   \n",
       "4                     1.0    1.0  51-100 M2                       TWO   \n",
       "\n",
       "  Financial_situation  Disability  ...          BCN_transport  \\\n",
       "0                GOOD         0.0  ...                   GOOD   \n",
       "1                 BAD         0.0  ...                   GOOD   \n",
       "2                GOOD         0.0  ...  NEITHER BAD, NOR GOOD   \n",
       "3                 BAD         1.0  ...                   GOOD   \n",
       "4                GOOD         0.0  ...                   GOOD   \n",
       "\n",
       "  Barri_problem_with_security Barri_problem_with_streets_cleaning  \\\n",
       "0                           0                                   0   \n",
       "1                           0                                   0   \n",
       "2                           0                                   0   \n",
       "3                           0                                   0   \n",
       "4                           0                                   1   \n",
       "\n",
       "  Barri_problem_with_mobility BCN_over_barri_evolution BCN_over_barri_future  \\\n",
       "0                           0                        0                     0   \n",
       "1                           0                        1                     0   \n",
       "2                           0                        0                     0   \n",
       "3                           0                        0                     0   \n",
       "4                           0                        0                     1   \n",
       "\n",
       "  BCN_over_barri_satisfaction BCN_over_barri_transport  \\\n",
       "0                           0                        0   \n",
       "1                           0                        0   \n",
       "2                           0                        1   \n",
       "3                           1                        0   \n",
       "4                           0                        0   \n",
       "\n",
       "  BCN_over_barri_management BCN_over_barri_security  \n",
       "0                         0                       0  \n",
       "1                         0                       0  \n",
       "2                         0                       0  \n",
       "3                         0                       0  \n",
       "4                         0                       0  \n",
       "\n",
       "[5 rows x 35 columns]"
      ]
     },
     "execution_count": 5,
     "metadata": {},
     "output_type": "execute_result"
    }
   ],
   "source": [
    "data.head()"
   ]
  },
  {
   "cell_type": "code",
   "execution_count": null,
   "metadata": {},
   "outputs": [],
   "source": []
  },
  {
   "cell_type": "code",
   "execution_count": 6,
   "metadata": {},
   "outputs": [
    {
     "data": {
      "text/plain": [
       "(1174, 35)"
      ]
     },
     "execution_count": 6,
     "metadata": {},
     "output_type": "execute_result"
    }
   ],
   "source": [
    "data.shape"
   ]
  },
  {
   "cell_type": "code",
   "execution_count": 7,
   "metadata": {},
   "outputs": [
    {
     "data": {
      "text/html": [
       "<div>\n",
       "<style scoped>\n",
       "    .dataframe tbody tr th:only-of-type {\n",
       "        vertical-align: middle;\n",
       "    }\n",
       "\n",
       "    .dataframe tbody tr th {\n",
       "        vertical-align: top;\n",
       "    }\n",
       "\n",
       "    .dataframe thead th {\n",
       "        text-align: right;\n",
       "    }\n",
       "</style>\n",
       "<table border=\"1\" class=\"dataframe\">\n",
       "  <thead>\n",
       "    <tr style=\"text-align: right;\">\n",
       "      <th>Would_live_in_another_neighborhood</th>\n",
       "      <th>0.0</th>\n",
       "      <th>1.0</th>\n",
       "    </tr>\n",
       "    <tr>\n",
       "      <th>Would_live_in_another_neighborhood</th>\n",
       "      <th></th>\n",
       "      <th></th>\n",
       "    </tr>\n",
       "  </thead>\n",
       "  <tbody>\n",
       "    <tr>\n",
       "      <th>0.0</th>\n",
       "      <td>1019</td>\n",
       "      <td>0</td>\n",
       "    </tr>\n",
       "    <tr>\n",
       "      <th>1.0</th>\n",
       "      <td>0</td>\n",
       "      <td>155</td>\n",
       "    </tr>\n",
       "  </tbody>\n",
       "</table>\n",
       "</div>"
      ],
      "text/plain": [
       "Would_live_in_another_neighborhood   0.0  1.0\n",
       "Would_live_in_another_neighborhood           \n",
       "0.0                                 1019    0\n",
       "1.0                                    0  155"
      ]
     },
     "metadata": {},
     "output_type": "display_data"
    },
    {
     "data": {
      "text/html": [
       "<div>\n",
       "<style scoped>\n",
       "    .dataframe tbody tr th:only-of-type {\n",
       "        vertical-align: middle;\n",
       "    }\n",
       "\n",
       "    .dataframe tbody tr th {\n",
       "        vertical-align: top;\n",
       "    }\n",
       "\n",
       "    .dataframe thead th {\n",
       "        text-align: right;\n",
       "    }\n",
       "</style>\n",
       "<table border=\"1\" class=\"dataframe\">\n",
       "  <thead>\n",
       "    <tr style=\"text-align: right;\">\n",
       "      <th>Would_live_in_another_neighborhood</th>\n",
       "      <th>0.0</th>\n",
       "      <th>1.0</th>\n",
       "    </tr>\n",
       "    <tr>\n",
       "      <th>District</th>\n",
       "      <th></th>\n",
       "      <th></th>\n",
       "    </tr>\n",
       "  </thead>\n",
       "  <tbody>\n",
       "    <tr>\n",
       "      <th>CIUTAT VELLA</th>\n",
       "      <td>61</td>\n",
       "      <td>8</td>\n",
       "    </tr>\n",
       "    <tr>\n",
       "      <th>EIXAMPLE</th>\n",
       "      <td>179</td>\n",
       "      <td>20</td>\n",
       "    </tr>\n",
       "    <tr>\n",
       "      <th>GRÀCIA</th>\n",
       "      <td>84</td>\n",
       "      <td>12</td>\n",
       "    </tr>\n",
       "    <tr>\n",
       "      <th>HORTA - GUINARDÓ</th>\n",
       "      <td>112</td>\n",
       "      <td>21</td>\n",
       "    </tr>\n",
       "    <tr>\n",
       "      <th>LES CORTS</th>\n",
       "      <td>104</td>\n",
       "      <td>4</td>\n",
       "    </tr>\n",
       "    <tr>\n",
       "      <th>NOU BARRIS</th>\n",
       "      <td>94</td>\n",
       "      <td>23</td>\n",
       "    </tr>\n",
       "    <tr>\n",
       "      <th>SANT ANDREU</th>\n",
       "      <td>83</td>\n",
       "      <td>22</td>\n",
       "    </tr>\n",
       "    <tr>\n",
       "      <th>SANT MARTÍ</th>\n",
       "      <td>129</td>\n",
       "      <td>18</td>\n",
       "    </tr>\n",
       "    <tr>\n",
       "      <th>SANTS - MONTJUÏC</th>\n",
       "      <td>80</td>\n",
       "      <td>22</td>\n",
       "    </tr>\n",
       "    <tr>\n",
       "      <th>SARRIÀ - SANT GERVASI</th>\n",
       "      <td>93</td>\n",
       "      <td>5</td>\n",
       "    </tr>\n",
       "  </tbody>\n",
       "</table>\n",
       "</div>"
      ],
      "text/plain": [
       "Would_live_in_another_neighborhood  0.0  1.0\n",
       "District                                    \n",
       "CIUTAT VELLA                         61    8\n",
       "EIXAMPLE                            179   20\n",
       "GRÀCIA                               84   12\n",
       "HORTA - GUINARDÓ                    112   21\n",
       "LES CORTS                           104    4\n",
       "NOU BARRIS                           94   23\n",
       "SANT ANDREU                          83   22\n",
       "SANT MARTÍ                          129   18\n",
       "SANTS - MONTJUÏC                     80   22\n",
       "SARRIÀ - SANT GERVASI                93    5"
      ]
     },
     "metadata": {},
     "output_type": "display_data"
    },
    {
     "data": {
      "text/html": [
       "<div>\n",
       "<style scoped>\n",
       "    .dataframe tbody tr th:only-of-type {\n",
       "        vertical-align: middle;\n",
       "    }\n",
       "\n",
       "    .dataframe tbody tr th {\n",
       "        vertical-align: top;\n",
       "    }\n",
       "\n",
       "    .dataframe thead th {\n",
       "        text-align: right;\n",
       "    }\n",
       "</style>\n",
       "<table border=\"1\" class=\"dataframe\">\n",
       "  <thead>\n",
       "    <tr style=\"text-align: right;\">\n",
       "      <th>Would_live_in_another_neighborhood</th>\n",
       "      <th>0.0</th>\n",
       "      <th>1.0</th>\n",
       "    </tr>\n",
       "    <tr>\n",
       "      <th>Woman</th>\n",
       "      <th></th>\n",
       "      <th></th>\n",
       "    </tr>\n",
       "  </thead>\n",
       "  <tbody>\n",
       "    <tr>\n",
       "      <th>0</th>\n",
       "      <td>399</td>\n",
       "      <td>61</td>\n",
       "    </tr>\n",
       "    <tr>\n",
       "      <th>1</th>\n",
       "      <td>620</td>\n",
       "      <td>94</td>\n",
       "    </tr>\n",
       "  </tbody>\n",
       "</table>\n",
       "</div>"
      ],
      "text/plain": [
       "Would_live_in_another_neighborhood  0.0  1.0\n",
       "Woman                                       \n",
       "0                                   399   61\n",
       "1                                   620   94"
      ]
     },
     "metadata": {},
     "output_type": "display_data"
    },
    {
     "data": {
      "text/html": [
       "<div>\n",
       "<style scoped>\n",
       "    .dataframe tbody tr th:only-of-type {\n",
       "        vertical-align: middle;\n",
       "    }\n",
       "\n",
       "    .dataframe tbody tr th {\n",
       "        vertical-align: top;\n",
       "    }\n",
       "\n",
       "    .dataframe thead th {\n",
       "        text-align: right;\n",
       "    }\n",
       "</style>\n",
       "<table border=\"1\" class=\"dataframe\">\n",
       "  <thead>\n",
       "    <tr style=\"text-align: right;\">\n",
       "      <th>Would_live_in_another_neighborhood</th>\n",
       "      <th>0.0</th>\n",
       "      <th>1.0</th>\n",
       "    </tr>\n",
       "    <tr>\n",
       "      <th>Car</th>\n",
       "      <th></th>\n",
       "      <th></th>\n",
       "    </tr>\n",
       "  </thead>\n",
       "  <tbody>\n",
       "    <tr>\n",
       "      <th>0</th>\n",
       "      <td>479</td>\n",
       "      <td>63</td>\n",
       "    </tr>\n",
       "    <tr>\n",
       "      <th>1</th>\n",
       "      <td>540</td>\n",
       "      <td>92</td>\n",
       "    </tr>\n",
       "  </tbody>\n",
       "</table>\n",
       "</div>"
      ],
      "text/plain": [
       "Would_live_in_another_neighborhood  0.0  1.0\n",
       "Car                                         \n",
       "0                                   479   63\n",
       "1                                   540   92"
      ]
     },
     "metadata": {},
     "output_type": "display_data"
    },
    {
     "data": {
      "text/html": [
       "<div>\n",
       "<style scoped>\n",
       "    .dataframe tbody tr th:only-of-type {\n",
       "        vertical-align: middle;\n",
       "    }\n",
       "\n",
       "    .dataframe tbody tr th {\n",
       "        vertical-align: top;\n",
       "    }\n",
       "\n",
       "    .dataframe thead th {\n",
       "        text-align: right;\n",
       "    }\n",
       "</style>\n",
       "<table border=\"1\" class=\"dataframe\">\n",
       "  <thead>\n",
       "    <tr style=\"text-align: right;\">\n",
       "      <th>Would_live_in_another_neighborhood</th>\n",
       "      <th>0.0</th>\n",
       "      <th>1.0</th>\n",
       "    </tr>\n",
       "    <tr>\n",
       "      <th>Support_with_housework</th>\n",
       "      <th></th>\n",
       "      <th></th>\n",
       "    </tr>\n",
       "  </thead>\n",
       "  <tbody>\n",
       "    <tr>\n",
       "      <th>0.0</th>\n",
       "      <td>656</td>\n",
       "      <td>110</td>\n",
       "    </tr>\n",
       "    <tr>\n",
       "      <th>1.0</th>\n",
       "      <td>363</td>\n",
       "      <td>45</td>\n",
       "    </tr>\n",
       "  </tbody>\n",
       "</table>\n",
       "</div>"
      ],
      "text/plain": [
       "Would_live_in_another_neighborhood  0.0  1.0\n",
       "Support_with_housework                      \n",
       "0.0                                 656  110\n",
       "1.0                                 363   45"
      ]
     },
     "metadata": {},
     "output_type": "display_data"
    },
    {
     "data": {
      "text/html": [
       "<div>\n",
       "<style scoped>\n",
       "    .dataframe tbody tr th:only-of-type {\n",
       "        vertical-align: middle;\n",
       "    }\n",
       "\n",
       "    .dataframe tbody tr th {\n",
       "        vertical-align: top;\n",
       "    }\n",
       "\n",
       "    .dataframe thead th {\n",
       "        text-align: right;\n",
       "    }\n",
       "</style>\n",
       "<table border=\"1\" class=\"dataframe\">\n",
       "  <thead>\n",
       "    <tr style=\"text-align: right;\">\n",
       "      <th>Would_live_in_another_neighborhood</th>\n",
       "      <th>0.0</th>\n",
       "      <th>1.0</th>\n",
       "    </tr>\n",
       "    <tr>\n",
       "      <th>Owner</th>\n",
       "      <th></th>\n",
       "      <th></th>\n",
       "    </tr>\n",
       "  </thead>\n",
       "  <tbody>\n",
       "    <tr>\n",
       "      <th>0.0</th>\n",
       "      <td>210</td>\n",
       "      <td>28</td>\n",
       "    </tr>\n",
       "    <tr>\n",
       "      <th>1.0</th>\n",
       "      <td>809</td>\n",
       "      <td>127</td>\n",
       "    </tr>\n",
       "  </tbody>\n",
       "</table>\n",
       "</div>"
      ],
      "text/plain": [
       "Would_live_in_another_neighborhood  0.0  1.0\n",
       "Owner                                       \n",
       "0.0                                 210   28\n",
       "1.0                                 809  127"
      ]
     },
     "metadata": {},
     "output_type": "display_data"
    },
    {
     "data": {
      "text/html": [
       "<div>\n",
       "<style scoped>\n",
       "    .dataframe tbody tr th:only-of-type {\n",
       "        vertical-align: middle;\n",
       "    }\n",
       "\n",
       "    .dataframe tbody tr th {\n",
       "        vertical-align: top;\n",
       "    }\n",
       "\n",
       "    .dataframe thead th {\n",
       "        text-align: right;\n",
       "    }\n",
       "</style>\n",
       "<table border=\"1\" class=\"dataframe\">\n",
       "  <thead>\n",
       "    <tr style=\"text-align: right;\">\n",
       "      <th>Would_live_in_another_neighborhood</th>\n",
       "      <th>0.0</th>\n",
       "      <th>1.0</th>\n",
       "    </tr>\n",
       "    <tr>\n",
       "      <th>House_size</th>\n",
       "      <th></th>\n",
       "      <th></th>\n",
       "    </tr>\n",
       "  </thead>\n",
       "  <tbody>\n",
       "    <tr>\n",
       "      <th>101-150 M2</th>\n",
       "      <td>126</td>\n",
       "      <td>15</td>\n",
       "    </tr>\n",
       "    <tr>\n",
       "      <th>51-100 M2</th>\n",
       "      <td>724</td>\n",
       "      <td>115</td>\n",
       "    </tr>\n",
       "    <tr>\n",
       "      <th>&lt; 50 M2</th>\n",
       "      <td>57</td>\n",
       "      <td>14</td>\n",
       "    </tr>\n",
       "    <tr>\n",
       "      <th>&gt; 150 M2</th>\n",
       "      <td>43</td>\n",
       "      <td>5</td>\n",
       "    </tr>\n",
       "    <tr>\n",
       "      <th>I DON'T KNOW</th>\n",
       "      <td>69</td>\n",
       "      <td>6</td>\n",
       "    </tr>\n",
       "  </tbody>\n",
       "</table>\n",
       "</div>"
      ],
      "text/plain": [
       "Would_live_in_another_neighborhood  0.0  1.0\n",
       "House_size                                  \n",
       "101-150 M2                          126   15\n",
       "51-100 M2                           724  115\n",
       "< 50 M2                              57   14\n",
       "> 150 M2                             43    5\n",
       "I DON'T KNOW                         69    6"
      ]
     },
     "metadata": {},
     "output_type": "display_data"
    },
    {
     "data": {
      "text/html": [
       "<div>\n",
       "<style scoped>\n",
       "    .dataframe tbody tr th:only-of-type {\n",
       "        vertical-align: middle;\n",
       "    }\n",
       "\n",
       "    .dataframe tbody tr th {\n",
       "        vertical-align: top;\n",
       "    }\n",
       "\n",
       "    .dataframe thead th {\n",
       "        text-align: right;\n",
       "    }\n",
       "</style>\n",
       "<table border=\"1\" class=\"dataframe\">\n",
       "  <thead>\n",
       "    <tr style=\"text-align: right;\">\n",
       "      <th>Would_live_in_another_neighborhood</th>\n",
       "      <th>0.0</th>\n",
       "      <th>1.0</th>\n",
       "    </tr>\n",
       "    <tr>\n",
       "      <th>No_of_people_in_the_house</th>\n",
       "      <th></th>\n",
       "      <th></th>\n",
       "    </tr>\n",
       "  </thead>\n",
       "  <tbody>\n",
       "    <tr>\n",
       "      <th>ONE</th>\n",
       "      <td>353</td>\n",
       "      <td>52</td>\n",
       "    </tr>\n",
       "    <tr>\n",
       "      <th>THREE OR MORE</th>\n",
       "      <td>137</td>\n",
       "      <td>24</td>\n",
       "    </tr>\n",
       "    <tr>\n",
       "      <th>TWO</th>\n",
       "      <td>529</td>\n",
       "      <td>79</td>\n",
       "    </tr>\n",
       "  </tbody>\n",
       "</table>\n",
       "</div>"
      ],
      "text/plain": [
       "Would_live_in_another_neighborhood  0.0  1.0\n",
       "No_of_people_in_the_house                   \n",
       "ONE                                 353   52\n",
       "THREE OR MORE                       137   24\n",
       "TWO                                 529   79"
      ]
     },
     "metadata": {},
     "output_type": "display_data"
    },
    {
     "data": {
      "text/html": [
       "<div>\n",
       "<style scoped>\n",
       "    .dataframe tbody tr th:only-of-type {\n",
       "        vertical-align: middle;\n",
       "    }\n",
       "\n",
       "    .dataframe tbody tr th {\n",
       "        vertical-align: top;\n",
       "    }\n",
       "\n",
       "    .dataframe thead th {\n",
       "        text-align: right;\n",
       "    }\n",
       "</style>\n",
       "<table border=\"1\" class=\"dataframe\">\n",
       "  <thead>\n",
       "    <tr style=\"text-align: right;\">\n",
       "      <th>Would_live_in_another_neighborhood</th>\n",
       "      <th>0.0</th>\n",
       "      <th>1.0</th>\n",
       "    </tr>\n",
       "    <tr>\n",
       "      <th>Financial_situation</th>\n",
       "      <th></th>\n",
       "      <th></th>\n",
       "    </tr>\n",
       "  </thead>\n",
       "  <tbody>\n",
       "    <tr>\n",
       "      <th>BAD</th>\n",
       "      <td>390</td>\n",
       "      <td>63</td>\n",
       "    </tr>\n",
       "    <tr>\n",
       "      <th>GOOD</th>\n",
       "      <td>629</td>\n",
       "      <td>92</td>\n",
       "    </tr>\n",
       "  </tbody>\n",
       "</table>\n",
       "</div>"
      ],
      "text/plain": [
       "Would_live_in_another_neighborhood  0.0  1.0\n",
       "Financial_situation                         \n",
       "BAD                                 390   63\n",
       "GOOD                                629   92"
      ]
     },
     "metadata": {},
     "output_type": "display_data"
    },
    {
     "data": {
      "text/html": [
       "<div>\n",
       "<style scoped>\n",
       "    .dataframe tbody tr th:only-of-type {\n",
       "        vertical-align: middle;\n",
       "    }\n",
       "\n",
       "    .dataframe tbody tr th {\n",
       "        vertical-align: top;\n",
       "    }\n",
       "\n",
       "    .dataframe thead th {\n",
       "        text-align: right;\n",
       "    }\n",
       "</style>\n",
       "<table border=\"1\" class=\"dataframe\">\n",
       "  <thead>\n",
       "    <tr style=\"text-align: right;\">\n",
       "      <th>Would_live_in_another_neighborhood</th>\n",
       "      <th>0.0</th>\n",
       "      <th>1.0</th>\n",
       "    </tr>\n",
       "    <tr>\n",
       "      <th>Disability</th>\n",
       "      <th></th>\n",
       "      <th></th>\n",
       "    </tr>\n",
       "  </thead>\n",
       "  <tbody>\n",
       "    <tr>\n",
       "      <th>0.0</th>\n",
       "      <td>856</td>\n",
       "      <td>121</td>\n",
       "    </tr>\n",
       "    <tr>\n",
       "      <th>1.0</th>\n",
       "      <td>163</td>\n",
       "      <td>34</td>\n",
       "    </tr>\n",
       "  </tbody>\n",
       "</table>\n",
       "</div>"
      ],
      "text/plain": [
       "Would_live_in_another_neighborhood  0.0  1.0\n",
       "Disability                                  \n",
       "0.0                                 856  121\n",
       "1.0                                 163   34"
      ]
     },
     "metadata": {},
     "output_type": "display_data"
    },
    {
     "data": {
      "text/html": [
       "<div>\n",
       "<style scoped>\n",
       "    .dataframe tbody tr th:only-of-type {\n",
       "        vertical-align: middle;\n",
       "    }\n",
       "\n",
       "    .dataframe tbody tr th {\n",
       "        vertical-align: top;\n",
       "    }\n",
       "\n",
       "    .dataframe thead th {\n",
       "        text-align: right;\n",
       "    }\n",
       "</style>\n",
       "<table border=\"1\" class=\"dataframe\">\n",
       "  <thead>\n",
       "    <tr style=\"text-align: right;\">\n",
       "      <th>Would_live_in_another_neighborhood</th>\n",
       "      <th>0.0</th>\n",
       "      <th>1.0</th>\n",
       "    </tr>\n",
       "    <tr>\n",
       "      <th>Living_with_disabled_person</th>\n",
       "      <th></th>\n",
       "      <th></th>\n",
       "    </tr>\n",
       "  </thead>\n",
       "  <tbody>\n",
       "    <tr>\n",
       "      <th>0</th>\n",
       "      <td>722</td>\n",
       "      <td>105</td>\n",
       "    </tr>\n",
       "    <tr>\n",
       "      <th>1</th>\n",
       "      <td>297</td>\n",
       "      <td>50</td>\n",
       "    </tr>\n",
       "  </tbody>\n",
       "</table>\n",
       "</div>"
      ],
      "text/plain": [
       "Would_live_in_another_neighborhood  0.0  1.0\n",
       "Living_with_disabled_person                 \n",
       "0                                   722  105\n",
       "1                                   297   50"
      ]
     },
     "metadata": {},
     "output_type": "display_data"
    },
    {
     "data": {
      "text/html": [
       "<div>\n",
       "<style scoped>\n",
       "    .dataframe tbody tr th:only-of-type {\n",
       "        vertical-align: middle;\n",
       "    }\n",
       "\n",
       "    .dataframe tbody tr th {\n",
       "        vertical-align: top;\n",
       "    }\n",
       "\n",
       "    .dataframe thead th {\n",
       "        text-align: right;\n",
       "    }\n",
       "</style>\n",
       "<table border=\"1\" class=\"dataframe\">\n",
       "  <thead>\n",
       "    <tr style=\"text-align: right;\">\n",
       "      <th>Would_live_in_another_neighborhood</th>\n",
       "      <th>0.0</th>\n",
       "      <th>1.0</th>\n",
       "    </tr>\n",
       "    <tr>\n",
       "      <th>Time_living_in_barri</th>\n",
       "      <th></th>\n",
       "      <th></th>\n",
       "    </tr>\n",
       "  </thead>\n",
       "  <tbody>\n",
       "    <tr>\n",
       "      <th>I HAVE ALWAYS LIVED IN THE NEIGHBORHOOD</th>\n",
       "      <td>136</td>\n",
       "      <td>7</td>\n",
       "    </tr>\n",
       "    <tr>\n",
       "      <th>LESS THAN 10 YEARS</th>\n",
       "      <td>57</td>\n",
       "      <td>16</td>\n",
       "    </tr>\n",
       "    <tr>\n",
       "      <th>MORE THAN 10 YEARS</th>\n",
       "      <td>826</td>\n",
       "      <td>132</td>\n",
       "    </tr>\n",
       "  </tbody>\n",
       "</table>\n",
       "</div>"
      ],
      "text/plain": [
       "Would_live_in_another_neighborhood       0.0  1.0\n",
       "Time_living_in_barri                             \n",
       "I HAVE ALWAYS LIVED IN THE NEIGHBORHOOD  136    7\n",
       "LESS THAN 10 YEARS                        57   16\n",
       "MORE THAN 10 YEARS                       826  132"
      ]
     },
     "metadata": {},
     "output_type": "display_data"
    },
    {
     "data": {
      "text/html": [
       "<div>\n",
       "<style scoped>\n",
       "    .dataframe tbody tr th:only-of-type {\n",
       "        vertical-align: middle;\n",
       "    }\n",
       "\n",
       "    .dataframe tbody tr th {\n",
       "        vertical-align: top;\n",
       "    }\n",
       "\n",
       "    .dataframe thead th {\n",
       "        text-align: right;\n",
       "    }\n",
       "</style>\n",
       "<table border=\"1\" class=\"dataframe\">\n",
       "  <thead>\n",
       "    <tr style=\"text-align: right;\">\n",
       "      <th>Would_live_in_another_neighborhood</th>\n",
       "      <th>0.0</th>\n",
       "      <th>1.0</th>\n",
       "    </tr>\n",
       "    <tr>\n",
       "      <th>Barri_evolution</th>\n",
       "      <th></th>\n",
       "      <th></th>\n",
       "    </tr>\n",
       "  </thead>\n",
       "  <tbody>\n",
       "    <tr>\n",
       "      <th>IT HAS IMPROVED</th>\n",
       "      <td>411</td>\n",
       "      <td>59</td>\n",
       "    </tr>\n",
       "    <tr>\n",
       "      <th>IT HAS WORSENED</th>\n",
       "      <td>230</td>\n",
       "      <td>46</td>\n",
       "    </tr>\n",
       "    <tr>\n",
       "      <th>IT IS THE SAME</th>\n",
       "      <td>378</td>\n",
       "      <td>50</td>\n",
       "    </tr>\n",
       "  </tbody>\n",
       "</table>\n",
       "</div>"
      ],
      "text/plain": [
       "Would_live_in_another_neighborhood  0.0  1.0\n",
       "Barri_evolution                             \n",
       "IT HAS IMPROVED                     411   59\n",
       "IT HAS WORSENED                     230   46\n",
       "IT IS THE SAME                      378   50"
      ]
     },
     "metadata": {},
     "output_type": "display_data"
    },
    {
     "data": {
      "text/html": [
       "<div>\n",
       "<style scoped>\n",
       "    .dataframe tbody tr th:only-of-type {\n",
       "        vertical-align: middle;\n",
       "    }\n",
       "\n",
       "    .dataframe tbody tr th {\n",
       "        vertical-align: top;\n",
       "    }\n",
       "\n",
       "    .dataframe thead th {\n",
       "        text-align: right;\n",
       "    }\n",
       "</style>\n",
       "<table border=\"1\" class=\"dataframe\">\n",
       "  <thead>\n",
       "    <tr style=\"text-align: right;\">\n",
       "      <th>Would_live_in_another_neighborhood</th>\n",
       "      <th>0.0</th>\n",
       "      <th>1.0</th>\n",
       "    </tr>\n",
       "    <tr>\n",
       "      <th>BCN_evolution</th>\n",
       "      <th></th>\n",
       "      <th></th>\n",
       "    </tr>\n",
       "  </thead>\n",
       "  <tbody>\n",
       "    <tr>\n",
       "      <th>IT HAS IMPROVED</th>\n",
       "      <td>272</td>\n",
       "      <td>36</td>\n",
       "    </tr>\n",
       "    <tr>\n",
       "      <th>IT HAS WORSENED</th>\n",
       "      <td>517</td>\n",
       "      <td>85</td>\n",
       "    </tr>\n",
       "    <tr>\n",
       "      <th>IT IS THE SAME</th>\n",
       "      <td>230</td>\n",
       "      <td>34</td>\n",
       "    </tr>\n",
       "  </tbody>\n",
       "</table>\n",
       "</div>"
      ],
      "text/plain": [
       "Would_live_in_another_neighborhood  0.0  1.0\n",
       "BCN_evolution                               \n",
       "IT HAS IMPROVED                     272   36\n",
       "IT HAS WORSENED                     517   85\n",
       "IT IS THE SAME                      230   34"
      ]
     },
     "metadata": {},
     "output_type": "display_data"
    },
    {
     "data": {
      "text/html": [
       "<div>\n",
       "<style scoped>\n",
       "    .dataframe tbody tr th:only-of-type {\n",
       "        vertical-align: middle;\n",
       "    }\n",
       "\n",
       "    .dataframe tbody tr th {\n",
       "        vertical-align: top;\n",
       "    }\n",
       "\n",
       "    .dataframe thead th {\n",
       "        text-align: right;\n",
       "    }\n",
       "</style>\n",
       "<table border=\"1\" class=\"dataframe\">\n",
       "  <thead>\n",
       "    <tr style=\"text-align: right;\">\n",
       "      <th>Would_live_in_another_neighborhood</th>\n",
       "      <th>0.0</th>\n",
       "      <th>1.0</th>\n",
       "    </tr>\n",
       "    <tr>\n",
       "      <th>Barri_future</th>\n",
       "      <th></th>\n",
       "      <th></th>\n",
       "    </tr>\n",
       "  </thead>\n",
       "  <tbody>\n",
       "    <tr>\n",
       "      <th>IT WILL IMPROVE</th>\n",
       "      <td>577</td>\n",
       "      <td>79</td>\n",
       "    </tr>\n",
       "    <tr>\n",
       "      <th>IT WILL STAY THE SAME</th>\n",
       "      <td>288</td>\n",
       "      <td>45</td>\n",
       "    </tr>\n",
       "    <tr>\n",
       "      <th>IT WILL WORSEN</th>\n",
       "      <td>154</td>\n",
       "      <td>31</td>\n",
       "    </tr>\n",
       "  </tbody>\n",
       "</table>\n",
       "</div>"
      ],
      "text/plain": [
       "Would_live_in_another_neighborhood  0.0  1.0\n",
       "Barri_future                                \n",
       "IT WILL IMPROVE                     577   79\n",
       "IT WILL STAY THE SAME               288   45\n",
       "IT WILL WORSEN                      154   31"
      ]
     },
     "metadata": {},
     "output_type": "display_data"
    },
    {
     "data": {
      "text/html": [
       "<div>\n",
       "<style scoped>\n",
       "    .dataframe tbody tr th:only-of-type {\n",
       "        vertical-align: middle;\n",
       "    }\n",
       "\n",
       "    .dataframe tbody tr th {\n",
       "        vertical-align: top;\n",
       "    }\n",
       "\n",
       "    .dataframe thead th {\n",
       "        text-align: right;\n",
       "    }\n",
       "</style>\n",
       "<table border=\"1\" class=\"dataframe\">\n",
       "  <thead>\n",
       "    <tr style=\"text-align: right;\">\n",
       "      <th>Would_live_in_another_neighborhood</th>\n",
       "      <th>0.0</th>\n",
       "      <th>1.0</th>\n",
       "    </tr>\n",
       "    <tr>\n",
       "      <th>BCN_future</th>\n",
       "      <th></th>\n",
       "      <th></th>\n",
       "    </tr>\n",
       "  </thead>\n",
       "  <tbody>\n",
       "    <tr>\n",
       "      <th>IT WILL IMPROVE</th>\n",
       "      <td>546</td>\n",
       "      <td>92</td>\n",
       "    </tr>\n",
       "    <tr>\n",
       "      <th>IT WILL STAY THE SAME</th>\n",
       "      <td>241</td>\n",
       "      <td>32</td>\n",
       "    </tr>\n",
       "    <tr>\n",
       "      <th>IT WILL WORSEN</th>\n",
       "      <td>232</td>\n",
       "      <td>31</td>\n",
       "    </tr>\n",
       "  </tbody>\n",
       "</table>\n",
       "</div>"
      ],
      "text/plain": [
       "Would_live_in_another_neighborhood  0.0  1.0\n",
       "BCN_future                                  \n",
       "IT WILL IMPROVE                     546   92\n",
       "IT WILL STAY THE SAME               241   32\n",
       "IT WILL WORSEN                      232   31"
      ]
     },
     "metadata": {},
     "output_type": "display_data"
    },
    {
     "data": {
      "text/html": [
       "<div>\n",
       "<style scoped>\n",
       "    .dataframe tbody tr th:only-of-type {\n",
       "        vertical-align: middle;\n",
       "    }\n",
       "\n",
       "    .dataframe tbody tr th {\n",
       "        vertical-align: top;\n",
       "    }\n",
       "\n",
       "    .dataframe thead th {\n",
       "        text-align: right;\n",
       "    }\n",
       "</style>\n",
       "<table border=\"1\" class=\"dataframe\">\n",
       "  <thead>\n",
       "    <tr style=\"text-align: right;\">\n",
       "      <th>Would_live_in_another_neighborhood</th>\n",
       "      <th>0.0</th>\n",
       "      <th>1.0</th>\n",
       "    </tr>\n",
       "    <tr>\n",
       "      <th>Barri_satisfaction</th>\n",
       "      <th></th>\n",
       "      <th></th>\n",
       "    </tr>\n",
       "  </thead>\n",
       "  <tbody>\n",
       "    <tr>\n",
       "      <th>FAIRLY SATISFIED</th>\n",
       "      <td>75</td>\n",
       "      <td>25</td>\n",
       "    </tr>\n",
       "    <tr>\n",
       "      <th>NOT SATISFIED</th>\n",
       "      <td>1</td>\n",
       "      <td>9</td>\n",
       "    </tr>\n",
       "    <tr>\n",
       "      <th>SATISFIED</th>\n",
       "      <td>943</td>\n",
       "      <td>121</td>\n",
       "    </tr>\n",
       "  </tbody>\n",
       "</table>\n",
       "</div>"
      ],
      "text/plain": [
       "Would_live_in_another_neighborhood  0.0  1.0\n",
       "Barri_satisfaction                          \n",
       "FAIRLY SATISFIED                     75   25\n",
       "NOT SATISFIED                         1    9\n",
       "SATISFIED                           943  121"
      ]
     },
     "metadata": {},
     "output_type": "display_data"
    },
    {
     "data": {
      "text/html": [
       "<div>\n",
       "<style scoped>\n",
       "    .dataframe tbody tr th:only-of-type {\n",
       "        vertical-align: middle;\n",
       "    }\n",
       "\n",
       "    .dataframe tbody tr th {\n",
       "        vertical-align: top;\n",
       "    }\n",
       "\n",
       "    .dataframe thead th {\n",
       "        text-align: right;\n",
       "    }\n",
       "</style>\n",
       "<table border=\"1\" class=\"dataframe\">\n",
       "  <thead>\n",
       "    <tr style=\"text-align: right;\">\n",
       "      <th>Would_live_in_another_neighborhood</th>\n",
       "      <th>0.0</th>\n",
       "      <th>1.0</th>\n",
       "    </tr>\n",
       "    <tr>\n",
       "      <th>BCN_satisfaction</th>\n",
       "      <th></th>\n",
       "      <th></th>\n",
       "    </tr>\n",
       "  </thead>\n",
       "  <tbody>\n",
       "    <tr>\n",
       "      <th>FAIRLY SATISFIED</th>\n",
       "      <td>118</td>\n",
       "      <td>22</td>\n",
       "    </tr>\n",
       "    <tr>\n",
       "      <th>NOT SATISFIED</th>\n",
       "      <td>8</td>\n",
       "      <td>1</td>\n",
       "    </tr>\n",
       "    <tr>\n",
       "      <th>SATISFIED</th>\n",
       "      <td>893</td>\n",
       "      <td>132</td>\n",
       "    </tr>\n",
       "  </tbody>\n",
       "</table>\n",
       "</div>"
      ],
      "text/plain": [
       "Would_live_in_another_neighborhood  0.0  1.0\n",
       "BCN_satisfaction                            \n",
       "FAIRLY SATISFIED                    118   22\n",
       "NOT SATISFIED                         8    1\n",
       "SATISFIED                           893  132"
      ]
     },
     "metadata": {},
     "output_type": "display_data"
    },
    {
     "data": {
      "text/html": [
       "<div>\n",
       "<style scoped>\n",
       "    .dataframe tbody tr th:only-of-type {\n",
       "        vertical-align: middle;\n",
       "    }\n",
       "\n",
       "    .dataframe tbody tr th {\n",
       "        vertical-align: top;\n",
       "    }\n",
       "\n",
       "    .dataframe thead th {\n",
       "        text-align: right;\n",
       "    }\n",
       "</style>\n",
       "<table border=\"1\" class=\"dataframe\">\n",
       "  <thead>\n",
       "    <tr style=\"text-align: right;\">\n",
       "      <th>Would_live_in_another_neighborhood</th>\n",
       "      <th>0.0</th>\n",
       "      <th>1.0</th>\n",
       "    </tr>\n",
       "    <tr>\n",
       "      <th>Barri_security</th>\n",
       "      <th></th>\n",
       "      <th></th>\n",
       "    </tr>\n",
       "  </thead>\n",
       "  <tbody>\n",
       "    <tr>\n",
       "      <th>BAD</th>\n",
       "      <td>152</td>\n",
       "      <td>40</td>\n",
       "    </tr>\n",
       "    <tr>\n",
       "      <th>GOOD</th>\n",
       "      <td>455</td>\n",
       "      <td>49</td>\n",
       "    </tr>\n",
       "    <tr>\n",
       "      <th>NEITHER BAD, NOR GOOD</th>\n",
       "      <td>412</td>\n",
       "      <td>66</td>\n",
       "    </tr>\n",
       "  </tbody>\n",
       "</table>\n",
       "</div>"
      ],
      "text/plain": [
       "Would_live_in_another_neighborhood  0.0  1.0\n",
       "Barri_security                              \n",
       "BAD                                 152   40\n",
       "GOOD                                455   49\n",
       "NEITHER BAD, NOR GOOD               412   66"
      ]
     },
     "metadata": {},
     "output_type": "display_data"
    },
    {
     "data": {
      "text/html": [
       "<div>\n",
       "<style scoped>\n",
       "    .dataframe tbody tr th:only-of-type {\n",
       "        vertical-align: middle;\n",
       "    }\n",
       "\n",
       "    .dataframe tbody tr th {\n",
       "        vertical-align: top;\n",
       "    }\n",
       "\n",
       "    .dataframe thead th {\n",
       "        text-align: right;\n",
       "    }\n",
       "</style>\n",
       "<table border=\"1\" class=\"dataframe\">\n",
       "  <thead>\n",
       "    <tr style=\"text-align: right;\">\n",
       "      <th>Would_live_in_another_neighborhood</th>\n",
       "      <th>0.0</th>\n",
       "      <th>1.0</th>\n",
       "    </tr>\n",
       "    <tr>\n",
       "      <th>BCN_security</th>\n",
       "      <th></th>\n",
       "      <th></th>\n",
       "    </tr>\n",
       "  </thead>\n",
       "  <tbody>\n",
       "    <tr>\n",
       "      <th>BAD</th>\n",
       "      <td>199</td>\n",
       "      <td>40</td>\n",
       "    </tr>\n",
       "    <tr>\n",
       "      <th>GOOD</th>\n",
       "      <td>285</td>\n",
       "      <td>38</td>\n",
       "    </tr>\n",
       "    <tr>\n",
       "      <th>NEITHER BAD, NOR GOOD</th>\n",
       "      <td>535</td>\n",
       "      <td>77</td>\n",
       "    </tr>\n",
       "  </tbody>\n",
       "</table>\n",
       "</div>"
      ],
      "text/plain": [
       "Would_live_in_another_neighborhood  0.0  1.0\n",
       "BCN_security                                \n",
       "BAD                                 199   40\n",
       "GOOD                                285   38\n",
       "NEITHER BAD, NOR GOOD               535   77"
      ]
     },
     "metadata": {},
     "output_type": "display_data"
    },
    {
     "data": {
      "text/html": [
       "<div>\n",
       "<style scoped>\n",
       "    .dataframe tbody tr th:only-of-type {\n",
       "        vertical-align: middle;\n",
       "    }\n",
       "\n",
       "    .dataframe tbody tr th {\n",
       "        vertical-align: top;\n",
       "    }\n",
       "\n",
       "    .dataframe thead th {\n",
       "        text-align: right;\n",
       "    }\n",
       "</style>\n",
       "<table border=\"1\" class=\"dataframe\">\n",
       "  <thead>\n",
       "    <tr style=\"text-align: right;\">\n",
       "      <th>Would_live_in_another_neighborhood</th>\n",
       "      <th>0.0</th>\n",
       "      <th>1.0</th>\n",
       "    </tr>\n",
       "    <tr>\n",
       "      <th>Barri_management</th>\n",
       "      <th></th>\n",
       "      <th></th>\n",
       "    </tr>\n",
       "  </thead>\n",
       "  <tbody>\n",
       "    <tr>\n",
       "      <th>BAD</th>\n",
       "      <td>65</td>\n",
       "      <td>17</td>\n",
       "    </tr>\n",
       "    <tr>\n",
       "      <th>GOOD</th>\n",
       "      <td>509</td>\n",
       "      <td>56</td>\n",
       "    </tr>\n",
       "    <tr>\n",
       "      <th>NEITHER BAD, NOR GOOD</th>\n",
       "      <td>445</td>\n",
       "      <td>82</td>\n",
       "    </tr>\n",
       "  </tbody>\n",
       "</table>\n",
       "</div>"
      ],
      "text/plain": [
       "Would_live_in_another_neighborhood  0.0  1.0\n",
       "Barri_management                            \n",
       "BAD                                  65   17\n",
       "GOOD                                509   56\n",
       "NEITHER BAD, NOR GOOD               445   82"
      ]
     },
     "metadata": {},
     "output_type": "display_data"
    },
    {
     "data": {
      "text/html": [
       "<div>\n",
       "<style scoped>\n",
       "    .dataframe tbody tr th:only-of-type {\n",
       "        vertical-align: middle;\n",
       "    }\n",
       "\n",
       "    .dataframe tbody tr th {\n",
       "        vertical-align: top;\n",
       "    }\n",
       "\n",
       "    .dataframe thead th {\n",
       "        text-align: right;\n",
       "    }\n",
       "</style>\n",
       "<table border=\"1\" class=\"dataframe\">\n",
       "  <thead>\n",
       "    <tr style=\"text-align: right;\">\n",
       "      <th>Would_live_in_another_neighborhood</th>\n",
       "      <th>0.0</th>\n",
       "      <th>1.0</th>\n",
       "    </tr>\n",
       "    <tr>\n",
       "      <th>BCN_management</th>\n",
       "      <th></th>\n",
       "      <th></th>\n",
       "    </tr>\n",
       "  </thead>\n",
       "  <tbody>\n",
       "    <tr>\n",
       "      <th>BAD</th>\n",
       "      <td>96</td>\n",
       "      <td>21</td>\n",
       "    </tr>\n",
       "    <tr>\n",
       "      <th>GOOD</th>\n",
       "      <td>431</td>\n",
       "      <td>46</td>\n",
       "    </tr>\n",
       "    <tr>\n",
       "      <th>NEITHER BAD, NOR GOOD</th>\n",
       "      <td>492</td>\n",
       "      <td>88</td>\n",
       "    </tr>\n",
       "  </tbody>\n",
       "</table>\n",
       "</div>"
      ],
      "text/plain": [
       "Would_live_in_another_neighborhood  0.0  1.0\n",
       "BCN_management                              \n",
       "BAD                                  96   21\n",
       "GOOD                                431   46\n",
       "NEITHER BAD, NOR GOOD               492   88"
      ]
     },
     "metadata": {},
     "output_type": "display_data"
    },
    {
     "data": {
      "text/html": [
       "<div>\n",
       "<style scoped>\n",
       "    .dataframe tbody tr th:only-of-type {\n",
       "        vertical-align: middle;\n",
       "    }\n",
       "\n",
       "    .dataframe tbody tr th {\n",
       "        vertical-align: top;\n",
       "    }\n",
       "\n",
       "    .dataframe thead th {\n",
       "        text-align: right;\n",
       "    }\n",
       "</style>\n",
       "<table border=\"1\" class=\"dataframe\">\n",
       "  <thead>\n",
       "    <tr style=\"text-align: right;\">\n",
       "      <th>Would_live_in_another_neighborhood</th>\n",
       "      <th>0.0</th>\n",
       "      <th>1.0</th>\n",
       "    </tr>\n",
       "    <tr>\n",
       "      <th>Barri_comparison</th>\n",
       "      <th></th>\n",
       "      <th></th>\n",
       "    </tr>\n",
       "  </thead>\n",
       "  <tbody>\n",
       "    <tr>\n",
       "      <th>NEITHER THE BEST, NOR THE WORST</th>\n",
       "      <td>341</td>\n",
       "      <td>94</td>\n",
       "    </tr>\n",
       "    <tr>\n",
       "      <th>ONE OF THE BEST</th>\n",
       "      <td>649</td>\n",
       "      <td>41</td>\n",
       "    </tr>\n",
       "    <tr>\n",
       "      <th>ONE OF THE WORST</th>\n",
       "      <td>29</td>\n",
       "      <td>20</td>\n",
       "    </tr>\n",
       "  </tbody>\n",
       "</table>\n",
       "</div>"
      ],
      "text/plain": [
       "Would_live_in_another_neighborhood  0.0  1.0\n",
       "Barri_comparison                            \n",
       "NEITHER THE BEST, NOR THE WORST     341   94\n",
       "ONE OF THE BEST                     649   41\n",
       "ONE OF THE WORST                     29   20"
      ]
     },
     "metadata": {},
     "output_type": "display_data"
    },
    {
     "data": {
      "text/html": [
       "<div>\n",
       "<style scoped>\n",
       "    .dataframe tbody tr th:only-of-type {\n",
       "        vertical-align: middle;\n",
       "    }\n",
       "\n",
       "    .dataframe tbody tr th {\n",
       "        vertical-align: top;\n",
       "    }\n",
       "\n",
       "    .dataframe thead th {\n",
       "        text-align: right;\n",
       "    }\n",
       "</style>\n",
       "<table border=\"1\" class=\"dataframe\">\n",
       "  <thead>\n",
       "    <tr style=\"text-align: right;\">\n",
       "      <th>Would_live_in_another_neighborhood</th>\n",
       "      <th>0.0</th>\n",
       "      <th>1.0</th>\n",
       "    </tr>\n",
       "    <tr>\n",
       "      <th>Barri_association</th>\n",
       "      <th></th>\n",
       "      <th></th>\n",
       "    </tr>\n",
       "  </thead>\n",
       "  <tbody>\n",
       "    <tr>\n",
       "      <th>0.0</th>\n",
       "      <td>805</td>\n",
       "      <td>128</td>\n",
       "    </tr>\n",
       "    <tr>\n",
       "      <th>1.0</th>\n",
       "      <td>214</td>\n",
       "      <td>27</td>\n",
       "    </tr>\n",
       "  </tbody>\n",
       "</table>\n",
       "</div>"
      ],
      "text/plain": [
       "Would_live_in_another_neighborhood  0.0  1.0\n",
       "Barri_association                           \n",
       "0.0                                 805  128\n",
       "1.0                                 214   27"
      ]
     },
     "metadata": {},
     "output_type": "display_data"
    },
    {
     "data": {
      "text/html": [
       "<div>\n",
       "<style scoped>\n",
       "    .dataframe tbody tr th:only-of-type {\n",
       "        vertical-align: middle;\n",
       "    }\n",
       "\n",
       "    .dataframe tbody tr th {\n",
       "        vertical-align: top;\n",
       "    }\n",
       "\n",
       "    .dataframe thead th {\n",
       "        text-align: right;\n",
       "    }\n",
       "</style>\n",
       "<table border=\"1\" class=\"dataframe\">\n",
       "  <thead>\n",
       "    <tr style=\"text-align: right;\">\n",
       "      <th>Would_live_in_another_neighborhood</th>\n",
       "      <th>0.0</th>\n",
       "      <th>1.0</th>\n",
       "    </tr>\n",
       "    <tr>\n",
       "      <th>Barri_transport</th>\n",
       "      <th></th>\n",
       "      <th></th>\n",
       "    </tr>\n",
       "  </thead>\n",
       "  <tbody>\n",
       "    <tr>\n",
       "      <th>BAD</th>\n",
       "      <td>149</td>\n",
       "      <td>22</td>\n",
       "    </tr>\n",
       "    <tr>\n",
       "      <th>GOOD</th>\n",
       "      <td>812</td>\n",
       "      <td>120</td>\n",
       "    </tr>\n",
       "    <tr>\n",
       "      <th>NEITHER BAD, NOR GOOD</th>\n",
       "      <td>58</td>\n",
       "      <td>13</td>\n",
       "    </tr>\n",
       "  </tbody>\n",
       "</table>\n",
       "</div>"
      ],
      "text/plain": [
       "Would_live_in_another_neighborhood  0.0  1.0\n",
       "Barri_transport                             \n",
       "BAD                                 149   22\n",
       "GOOD                                812  120\n",
       "NEITHER BAD, NOR GOOD                58   13"
      ]
     },
     "metadata": {},
     "output_type": "display_data"
    },
    {
     "data": {
      "text/html": [
       "<div>\n",
       "<style scoped>\n",
       "    .dataframe tbody tr th:only-of-type {\n",
       "        vertical-align: middle;\n",
       "    }\n",
       "\n",
       "    .dataframe tbody tr th {\n",
       "        vertical-align: top;\n",
       "    }\n",
       "\n",
       "    .dataframe thead th {\n",
       "        text-align: right;\n",
       "    }\n",
       "</style>\n",
       "<table border=\"1\" class=\"dataframe\">\n",
       "  <thead>\n",
       "    <tr style=\"text-align: right;\">\n",
       "      <th>Would_live_in_another_neighborhood</th>\n",
       "      <th>0.0</th>\n",
       "      <th>1.0</th>\n",
       "    </tr>\n",
       "    <tr>\n",
       "      <th>BCN_transport</th>\n",
       "      <th></th>\n",
       "      <th></th>\n",
       "    </tr>\n",
       "  </thead>\n",
       "  <tbody>\n",
       "    <tr>\n",
       "      <th>BAD</th>\n",
       "      <td>95</td>\n",
       "      <td>21</td>\n",
       "    </tr>\n",
       "    <tr>\n",
       "      <th>GOOD</th>\n",
       "      <td>824</td>\n",
       "      <td>125</td>\n",
       "    </tr>\n",
       "    <tr>\n",
       "      <th>NEITHER BAD, NOR GOOD</th>\n",
       "      <td>100</td>\n",
       "      <td>9</td>\n",
       "    </tr>\n",
       "  </tbody>\n",
       "</table>\n",
       "</div>"
      ],
      "text/plain": [
       "Would_live_in_another_neighborhood  0.0  1.0\n",
       "BCN_transport                               \n",
       "BAD                                  95   21\n",
       "GOOD                                824  125\n",
       "NEITHER BAD, NOR GOOD               100    9"
      ]
     },
     "metadata": {},
     "output_type": "display_data"
    },
    {
     "data": {
      "text/html": [
       "<div>\n",
       "<style scoped>\n",
       "    .dataframe tbody tr th:only-of-type {\n",
       "        vertical-align: middle;\n",
       "    }\n",
       "\n",
       "    .dataframe tbody tr th {\n",
       "        vertical-align: top;\n",
       "    }\n",
       "\n",
       "    .dataframe thead th {\n",
       "        text-align: right;\n",
       "    }\n",
       "</style>\n",
       "<table border=\"1\" class=\"dataframe\">\n",
       "  <thead>\n",
       "    <tr style=\"text-align: right;\">\n",
       "      <th>Would_live_in_another_neighborhood</th>\n",
       "      <th>0.0</th>\n",
       "      <th>1.0</th>\n",
       "    </tr>\n",
       "    <tr>\n",
       "      <th>Barri_problem_with_security</th>\n",
       "      <th></th>\n",
       "      <th></th>\n",
       "    </tr>\n",
       "  </thead>\n",
       "  <tbody>\n",
       "    <tr>\n",
       "      <th>0</th>\n",
       "      <td>860</td>\n",
       "      <td>131</td>\n",
       "    </tr>\n",
       "    <tr>\n",
       "      <th>1</th>\n",
       "      <td>159</td>\n",
       "      <td>24</td>\n",
       "    </tr>\n",
       "  </tbody>\n",
       "</table>\n",
       "</div>"
      ],
      "text/plain": [
       "Would_live_in_another_neighborhood  0.0  1.0\n",
       "Barri_problem_with_security                 \n",
       "0                                   860  131\n",
       "1                                   159   24"
      ]
     },
     "metadata": {},
     "output_type": "display_data"
    },
    {
     "data": {
      "text/html": [
       "<div>\n",
       "<style scoped>\n",
       "    .dataframe tbody tr th:only-of-type {\n",
       "        vertical-align: middle;\n",
       "    }\n",
       "\n",
       "    .dataframe tbody tr th {\n",
       "        vertical-align: top;\n",
       "    }\n",
       "\n",
       "    .dataframe thead th {\n",
       "        text-align: right;\n",
       "    }\n",
       "</style>\n",
       "<table border=\"1\" class=\"dataframe\">\n",
       "  <thead>\n",
       "    <tr style=\"text-align: right;\">\n",
       "      <th>Would_live_in_another_neighborhood</th>\n",
       "      <th>0.0</th>\n",
       "      <th>1.0</th>\n",
       "    </tr>\n",
       "    <tr>\n",
       "      <th>Barri_problem_with_streets_cleaning</th>\n",
       "      <th></th>\n",
       "      <th></th>\n",
       "    </tr>\n",
       "  </thead>\n",
       "  <tbody>\n",
       "    <tr>\n",
       "      <th>0</th>\n",
       "      <td>920</td>\n",
       "      <td>138</td>\n",
       "    </tr>\n",
       "    <tr>\n",
       "      <th>1</th>\n",
       "      <td>99</td>\n",
       "      <td>17</td>\n",
       "    </tr>\n",
       "  </tbody>\n",
       "</table>\n",
       "</div>"
      ],
      "text/plain": [
       "Would_live_in_another_neighborhood   0.0  1.0\n",
       "Barri_problem_with_streets_cleaning          \n",
       "0                                    920  138\n",
       "1                                     99   17"
      ]
     },
     "metadata": {},
     "output_type": "display_data"
    },
    {
     "data": {
      "text/html": [
       "<div>\n",
       "<style scoped>\n",
       "    .dataframe tbody tr th:only-of-type {\n",
       "        vertical-align: middle;\n",
       "    }\n",
       "\n",
       "    .dataframe tbody tr th {\n",
       "        vertical-align: top;\n",
       "    }\n",
       "\n",
       "    .dataframe thead th {\n",
       "        text-align: right;\n",
       "    }\n",
       "</style>\n",
       "<table border=\"1\" class=\"dataframe\">\n",
       "  <thead>\n",
       "    <tr style=\"text-align: right;\">\n",
       "      <th>Would_live_in_another_neighborhood</th>\n",
       "      <th>0.0</th>\n",
       "      <th>1.0</th>\n",
       "    </tr>\n",
       "    <tr>\n",
       "      <th>Barri_problem_with_mobility</th>\n",
       "      <th></th>\n",
       "      <th></th>\n",
       "    </tr>\n",
       "  </thead>\n",
       "  <tbody>\n",
       "    <tr>\n",
       "      <th>0</th>\n",
       "      <td>962</td>\n",
       "      <td>148</td>\n",
       "    </tr>\n",
       "    <tr>\n",
       "      <th>1</th>\n",
       "      <td>57</td>\n",
       "      <td>7</td>\n",
       "    </tr>\n",
       "  </tbody>\n",
       "</table>\n",
       "</div>"
      ],
      "text/plain": [
       "Would_live_in_another_neighborhood  0.0  1.0\n",
       "Barri_problem_with_mobility                 \n",
       "0                                   962  148\n",
       "1                                    57    7"
      ]
     },
     "metadata": {},
     "output_type": "display_data"
    },
    {
     "data": {
      "text/html": [
       "<div>\n",
       "<style scoped>\n",
       "    .dataframe tbody tr th:only-of-type {\n",
       "        vertical-align: middle;\n",
       "    }\n",
       "\n",
       "    .dataframe tbody tr th {\n",
       "        vertical-align: top;\n",
       "    }\n",
       "\n",
       "    .dataframe thead th {\n",
       "        text-align: right;\n",
       "    }\n",
       "</style>\n",
       "<table border=\"1\" class=\"dataframe\">\n",
       "  <thead>\n",
       "    <tr style=\"text-align: right;\">\n",
       "      <th>Would_live_in_another_neighborhood</th>\n",
       "      <th>0.0</th>\n",
       "      <th>1.0</th>\n",
       "    </tr>\n",
       "    <tr>\n",
       "      <th>BCN_over_barri_evolution</th>\n",
       "      <th></th>\n",
       "      <th></th>\n",
       "    </tr>\n",
       "  </thead>\n",
       "  <tbody>\n",
       "    <tr>\n",
       "      <th>0</th>\n",
       "      <td>913</td>\n",
       "      <td>140</td>\n",
       "    </tr>\n",
       "    <tr>\n",
       "      <th>1</th>\n",
       "      <td>106</td>\n",
       "      <td>15</td>\n",
       "    </tr>\n",
       "  </tbody>\n",
       "</table>\n",
       "</div>"
      ],
      "text/plain": [
       "Would_live_in_another_neighborhood  0.0  1.0\n",
       "BCN_over_barri_evolution                    \n",
       "0                                   913  140\n",
       "1                                   106   15"
      ]
     },
     "metadata": {},
     "output_type": "display_data"
    },
    {
     "data": {
      "text/html": [
       "<div>\n",
       "<style scoped>\n",
       "    .dataframe tbody tr th:only-of-type {\n",
       "        vertical-align: middle;\n",
       "    }\n",
       "\n",
       "    .dataframe tbody tr th {\n",
       "        vertical-align: top;\n",
       "    }\n",
       "\n",
       "    .dataframe thead th {\n",
       "        text-align: right;\n",
       "    }\n",
       "</style>\n",
       "<table border=\"1\" class=\"dataframe\">\n",
       "  <thead>\n",
       "    <tr style=\"text-align: right;\">\n",
       "      <th>Would_live_in_another_neighborhood</th>\n",
       "      <th>0.0</th>\n",
       "      <th>1.0</th>\n",
       "    </tr>\n",
       "    <tr>\n",
       "      <th>BCN_over_barri_future</th>\n",
       "      <th></th>\n",
       "      <th></th>\n",
       "    </tr>\n",
       "  </thead>\n",
       "  <tbody>\n",
       "    <tr>\n",
       "      <th>0</th>\n",
       "      <td>871</td>\n",
       "      <td>126</td>\n",
       "    </tr>\n",
       "    <tr>\n",
       "      <th>1</th>\n",
       "      <td>148</td>\n",
       "      <td>29</td>\n",
       "    </tr>\n",
       "  </tbody>\n",
       "</table>\n",
       "</div>"
      ],
      "text/plain": [
       "Would_live_in_another_neighborhood  0.0  1.0\n",
       "BCN_over_barri_future                       \n",
       "0                                   871  126\n",
       "1                                   148   29"
      ]
     },
     "metadata": {},
     "output_type": "display_data"
    },
    {
     "data": {
      "text/html": [
       "<div>\n",
       "<style scoped>\n",
       "    .dataframe tbody tr th:only-of-type {\n",
       "        vertical-align: middle;\n",
       "    }\n",
       "\n",
       "    .dataframe tbody tr th {\n",
       "        vertical-align: top;\n",
       "    }\n",
       "\n",
       "    .dataframe thead th {\n",
       "        text-align: right;\n",
       "    }\n",
       "</style>\n",
       "<table border=\"1\" class=\"dataframe\">\n",
       "  <thead>\n",
       "    <tr style=\"text-align: right;\">\n",
       "      <th>Would_live_in_another_neighborhood</th>\n",
       "      <th>0.0</th>\n",
       "      <th>1.0</th>\n",
       "    </tr>\n",
       "    <tr>\n",
       "      <th>BCN_over_barri_satisfaction</th>\n",
       "      <th></th>\n",
       "      <th></th>\n",
       "    </tr>\n",
       "  </thead>\n",
       "  <tbody>\n",
       "    <tr>\n",
       "      <th>0</th>\n",
       "      <td>968</td>\n",
       "      <td>126</td>\n",
       "    </tr>\n",
       "    <tr>\n",
       "      <th>1</th>\n",
       "      <td>51</td>\n",
       "      <td>29</td>\n",
       "    </tr>\n",
       "  </tbody>\n",
       "</table>\n",
       "</div>"
      ],
      "text/plain": [
       "Would_live_in_another_neighborhood  0.0  1.0\n",
       "BCN_over_barri_satisfaction                 \n",
       "0                                   968  126\n",
       "1                                    51   29"
      ]
     },
     "metadata": {},
     "output_type": "display_data"
    },
    {
     "data": {
      "text/html": [
       "<div>\n",
       "<style scoped>\n",
       "    .dataframe tbody tr th:only-of-type {\n",
       "        vertical-align: middle;\n",
       "    }\n",
       "\n",
       "    .dataframe tbody tr th {\n",
       "        vertical-align: top;\n",
       "    }\n",
       "\n",
       "    .dataframe thead th {\n",
       "        text-align: right;\n",
       "    }\n",
       "</style>\n",
       "<table border=\"1\" class=\"dataframe\">\n",
       "  <thead>\n",
       "    <tr style=\"text-align: right;\">\n",
       "      <th>Would_live_in_another_neighborhood</th>\n",
       "      <th>0.0</th>\n",
       "      <th>1.0</th>\n",
       "    </tr>\n",
       "    <tr>\n",
       "      <th>BCN_over_barri_transport</th>\n",
       "      <th></th>\n",
       "      <th></th>\n",
       "    </tr>\n",
       "  </thead>\n",
       "  <tbody>\n",
       "    <tr>\n",
       "      <th>0</th>\n",
       "      <td>921</td>\n",
       "      <td>146</td>\n",
       "    </tr>\n",
       "    <tr>\n",
       "      <th>1</th>\n",
       "      <td>98</td>\n",
       "      <td>9</td>\n",
       "    </tr>\n",
       "  </tbody>\n",
       "</table>\n",
       "</div>"
      ],
      "text/plain": [
       "Would_live_in_another_neighborhood  0.0  1.0\n",
       "BCN_over_barri_transport                    \n",
       "0                                   921  146\n",
       "1                                    98    9"
      ]
     },
     "metadata": {},
     "output_type": "display_data"
    },
    {
     "data": {
      "text/html": [
       "<div>\n",
       "<style scoped>\n",
       "    .dataframe tbody tr th:only-of-type {\n",
       "        vertical-align: middle;\n",
       "    }\n",
       "\n",
       "    .dataframe tbody tr th {\n",
       "        vertical-align: top;\n",
       "    }\n",
       "\n",
       "    .dataframe thead th {\n",
       "        text-align: right;\n",
       "    }\n",
       "</style>\n",
       "<table border=\"1\" class=\"dataframe\">\n",
       "  <thead>\n",
       "    <tr style=\"text-align: right;\">\n",
       "      <th>Would_live_in_another_neighborhood</th>\n",
       "      <th>0.0</th>\n",
       "      <th>1.0</th>\n",
       "    </tr>\n",
       "    <tr>\n",
       "      <th>BCN_over_barri_management</th>\n",
       "      <th></th>\n",
       "      <th></th>\n",
       "    </tr>\n",
       "  </thead>\n",
       "  <tbody>\n",
       "    <tr>\n",
       "      <th>0</th>\n",
       "      <td>983</td>\n",
       "      <td>147</td>\n",
       "    </tr>\n",
       "    <tr>\n",
       "      <th>1</th>\n",
       "      <td>36</td>\n",
       "      <td>8</td>\n",
       "    </tr>\n",
       "  </tbody>\n",
       "</table>\n",
       "</div>"
      ],
      "text/plain": [
       "Would_live_in_another_neighborhood  0.0  1.0\n",
       "BCN_over_barri_management                   \n",
       "0                                   983  147\n",
       "1                                    36    8"
      ]
     },
     "metadata": {},
     "output_type": "display_data"
    },
    {
     "data": {
      "text/html": [
       "<div>\n",
       "<style scoped>\n",
       "    .dataframe tbody tr th:only-of-type {\n",
       "        vertical-align: middle;\n",
       "    }\n",
       "\n",
       "    .dataframe tbody tr th {\n",
       "        vertical-align: top;\n",
       "    }\n",
       "\n",
       "    .dataframe thead th {\n",
       "        text-align: right;\n",
       "    }\n",
       "</style>\n",
       "<table border=\"1\" class=\"dataframe\">\n",
       "  <thead>\n",
       "    <tr style=\"text-align: right;\">\n",
       "      <th>Would_live_in_another_neighborhood</th>\n",
       "      <th>0.0</th>\n",
       "      <th>1.0</th>\n",
       "    </tr>\n",
       "    <tr>\n",
       "      <th>BCN_over_barri_security</th>\n",
       "      <th></th>\n",
       "      <th></th>\n",
       "    </tr>\n",
       "  </thead>\n",
       "  <tbody>\n",
       "    <tr>\n",
       "      <th>0</th>\n",
       "      <td>973</td>\n",
       "      <td>145</td>\n",
       "    </tr>\n",
       "    <tr>\n",
       "      <th>1</th>\n",
       "      <td>46</td>\n",
       "      <td>10</td>\n",
       "    </tr>\n",
       "  </tbody>\n",
       "</table>\n",
       "</div>"
      ],
      "text/plain": [
       "Would_live_in_another_neighborhood  0.0  1.0\n",
       "BCN_over_barri_security                     \n",
       "0                                   973  145\n",
       "1                                    46   10"
      ]
     },
     "metadata": {},
     "output_type": "display_data"
    }
   ],
   "source": [
    "for i in data.columns.tolist():\n",
    "    display(pd.crosstab(data[i], data.Would_live_in_another_neighborhood))"
   ]
  },
  {
   "cell_type": "code",
   "execution_count": 8,
   "metadata": {},
   "outputs": [
    {
     "data": {
      "text/plain": [
       "['Would_live_in_another_neighborhood',\n",
       " 'District',\n",
       " 'Woman',\n",
       " 'Car',\n",
       " 'Support_with_housework',\n",
       " 'Owner',\n",
       " 'House_size',\n",
       " 'No_of_people_in_the_house',\n",
       " 'Financial_situation',\n",
       " 'Disability',\n",
       " 'Living_with_disabled_person',\n",
       " 'Time_living_in_barri',\n",
       " 'Barri_evolution',\n",
       " 'BCN_evolution',\n",
       " 'Barri_future',\n",
       " 'BCN_future',\n",
       " 'Barri_satisfaction',\n",
       " 'BCN_satisfaction',\n",
       " 'Barri_security',\n",
       " 'BCN_security',\n",
       " 'Barri_management',\n",
       " 'BCN_management',\n",
       " 'Barri_comparison',\n",
       " 'Barri_association',\n",
       " 'Barri_transport',\n",
       " 'BCN_transport',\n",
       " 'Barri_problem_with_security',\n",
       " 'Barri_problem_with_streets_cleaning',\n",
       " 'Barri_problem_with_mobility',\n",
       " 'BCN_over_barri_evolution',\n",
       " 'BCN_over_barri_future',\n",
       " 'BCN_over_barri_satisfaction',\n",
       " 'BCN_over_barri_transport',\n",
       " 'BCN_over_barri_management',\n",
       " 'BCN_over_barri_security']"
      ]
     },
     "execution_count": 8,
     "metadata": {},
     "output_type": "execute_result"
    }
   ],
   "source": [
    "data.columns.tolist()"
   ]
  },
  {
   "cell_type": "code",
   "execution_count": null,
   "metadata": {},
   "outputs": [],
   "source": []
  },
  {
   "cell_type": "code",
   "execution_count": 9,
   "metadata": {},
   "outputs": [],
   "source": [
    "x_var = ['District', # neighbourhood & city\n",
    " 'Woman', # gender\n",
    " 'Car', # support / health\n",
    " 'Support_with_housework', # support\n",
    " 'Owner', # housing\n",
    " 'House_size', # housing\n",
    " 'No_of_people_in_the_house', # housing\n",
    " 'Financial_situation', # financial situation\n",
    " 'Disability', # health\n",
    " 'Living_with_disabled_person', # health\n",
    " 'Time_living_in_barri', # attachment\n",
    " 'Barri_evolution', # neighbourhood & city\n",
    " 'Barri_future', # neighbourhood & city\n",
    " 'Barri_satisfaction', # neighbourhood & city\n",
    " 'Barri_security', # neighbourhood & city\n",
    " 'Barri_management', # neighbourhood & city\n",
    " 'Barri_comparison', # neighbourhood & city\n",
    " 'Barri_association', # neighbourhood & city\n",
    " 'Barri_transport', # neighbourhood & city\n",
    " 'BCN_over_barri_evolution', # neighbourhood & city\n",
    " 'BCN_over_barri_future', # neighbourhood & city\n",
    " 'BCN_over_barri_satisfaction', # neighbourhood & city\n",
    " 'BCN_over_barri_transport', # neighbourhood & city\n",
    " 'BCN_over_barri_management', # neighbourhood & city\n",
    " 'BCN_over_barri_security'] # neighbourhood & city"
   ]
  },
  {
   "cell_type": "code",
   "execution_count": null,
   "metadata": {},
   "outputs": [],
   "source": []
  },
  {
   "cell_type": "code",
   "execution_count": 10,
   "metadata": {},
   "outputs": [],
   "source": [
    "y = data['Would_live_in_another_neighborhood']"
   ]
  },
  {
   "cell_type": "code",
   "execution_count": null,
   "metadata": {},
   "outputs": [],
   "source": []
  },
  {
   "cell_type": "code",
   "execution_count": 11,
   "metadata": {},
   "outputs": [],
   "source": [
    "x = pd.get_dummies(data[x_var])"
   ]
  },
  {
   "cell_type": "code",
   "execution_count": 12,
   "metadata": {},
   "outputs": [
    {
     "data": {
      "text/plain": [
       "['Woman',\n",
       " 'Car',\n",
       " 'Support_with_housework',\n",
       " 'Owner',\n",
       " 'Disability',\n",
       " 'Living_with_disabled_person',\n",
       " 'Barri_association',\n",
       " 'BCN_over_barri_evolution',\n",
       " 'BCN_over_barri_future',\n",
       " 'BCN_over_barri_satisfaction',\n",
       " 'BCN_over_barri_transport',\n",
       " 'BCN_over_barri_management',\n",
       " 'BCN_over_barri_security',\n",
       " 'District_CIUTAT VELLA',\n",
       " 'District_EIXAMPLE',\n",
       " 'District_GRÀCIA',\n",
       " 'District_HORTA - GUINARDÓ',\n",
       " 'District_LES CORTS',\n",
       " 'District_NOU BARRIS',\n",
       " 'District_SANT ANDREU',\n",
       " 'District_SANT MARTÍ',\n",
       " 'District_SANTS - MONTJUÏC',\n",
       " 'District_SARRIÀ - SANT GERVASI',\n",
       " 'House_size_101-150 M2',\n",
       " 'House_size_51-100 M2',\n",
       " 'House_size_< 50 M2',\n",
       " 'House_size_> 150 M2',\n",
       " \"House_size_I DON'T KNOW\",\n",
       " 'No_of_people_in_the_house_ONE',\n",
       " 'No_of_people_in_the_house_THREE OR MORE',\n",
       " 'No_of_people_in_the_house_TWO',\n",
       " 'Financial_situation_BAD',\n",
       " 'Financial_situation_GOOD',\n",
       " 'Time_living_in_barri_I HAVE ALWAYS LIVED IN THE NEIGHBORHOOD',\n",
       " 'Time_living_in_barri_LESS THAN 10 YEARS',\n",
       " 'Time_living_in_barri_MORE THAN 10 YEARS',\n",
       " 'Barri_evolution_IT HAS IMPROVED',\n",
       " 'Barri_evolution_IT HAS WORSENED',\n",
       " 'Barri_evolution_IT IS THE SAME',\n",
       " 'Barri_future_IT WILL IMPROVE',\n",
       " 'Barri_future_IT WILL STAY THE SAME',\n",
       " 'Barri_future_IT WILL WORSEN',\n",
       " 'Barri_satisfaction_FAIRLY SATISFIED',\n",
       " 'Barri_satisfaction_NOT SATISFIED',\n",
       " 'Barri_satisfaction_SATISFIED',\n",
       " 'Barri_security_BAD',\n",
       " 'Barri_security_GOOD',\n",
       " 'Barri_security_NEITHER BAD, NOR GOOD',\n",
       " 'Barri_management_BAD',\n",
       " 'Barri_management_GOOD',\n",
       " 'Barri_management_NEITHER BAD, NOR GOOD',\n",
       " 'Barri_comparison_NEITHER THE BEST, NOR THE WORST',\n",
       " 'Barri_comparison_ONE OF THE BEST',\n",
       " 'Barri_comparison_ONE OF THE WORST',\n",
       " 'Barri_transport_BAD',\n",
       " 'Barri_transport_GOOD',\n",
       " 'Barri_transport_NEITHER BAD, NOR GOOD']"
      ]
     },
     "execution_count": 12,
     "metadata": {},
     "output_type": "execute_result"
    }
   ],
   "source": [
    "x.columns.tolist()"
   ]
  },
  {
   "cell_type": "code",
   "execution_count": 13,
   "metadata": {},
   "outputs": [],
   "source": [
    "for i in ['District_EIXAMPLE',\n",
    "          'House_size_< 50 M2',\n",
    "          'No_of_people_in_the_house_ONE',\n",
    "          'Financial_situation_GOOD',\n",
    "          'Time_living_in_barri_LESS THAN 10 YEARS',\n",
    "          'Barri_evolution_IT HAS IMPROVED',\n",
    "          'Barri_future_IT WILL IMPROVE',\n",
    "          'Barri_satisfaction_SATISFIED',\n",
    "          'Barri_security_GOOD',\n",
    "          'Barri_management_GOOD',\n",
    "          'Barri_comparison_ONE OF THE BEST',\n",
    "          'Barri_transport_GOOD']:\n",
    "    del x[i]"
   ]
  },
  {
   "cell_type": "code",
   "execution_count": 14,
   "metadata": {},
   "outputs": [
    {
     "data": {
      "text/plain": [
       "<matplotlib.axes._subplots.AxesSubplot at 0x23085ecf948>"
      ]
     },
     "execution_count": 14,
     "metadata": {},
     "output_type": "execute_result"
    },
    {
     "data": {
      "image/png": "[encoded data removed]",
      "text/plain": [
       "<Figure size 1152x1152 with 2 Axes>"
      ]
     },
     "metadata": {},
     "output_type": "display_data"
    }
   ],
   "source": [
    "import seaborn as sns # just a conventional alias, don't know why\n",
    "sns.set(style=\"white\")\n",
    "\n",
    "corr = x.corr('spearman')\n",
    "\n",
    "# Generate a mask for the upper triangle\n",
    "mask = np.zeros_like(corr, dtype=np.bool)\n",
    "mask[np.triu_indices_from(mask)] = True\n",
    "\n",
    "# Set up the matplotlib figure\n",
    "f, ax = plt.subplots(figsize=(16, 16))\n",
    "\n",
    "# Generate a custom diverging colormap\n",
    "cmap = sns.diverging_palette(220, 10, as_cmap=True)\n",
    "\n",
    "# Draw the heatmap with the mask and correct aspect ratio\n",
    "sns.heatmap(corr, mask=mask, cmap=cmap, vmax=.3, center=0,\n",
    "            square=True, #annot = corr.round(2), \n",
    "            linewidths=.5, cbar_kws={\"shrink\": .5})"
   ]
  },
  {
   "cell_type": "code",
   "execution_count": 15,
   "metadata": {},
   "outputs": [],
   "source": [
    "x = sm.add_constant(x)"
   ]
  },
  {
   "cell_type": "code",
   "execution_count": null,
   "metadata": {},
   "outputs": [],
   "source": []
  },
  {
   "cell_type": "markdown",
   "metadata": {},
   "source": [
    "# Models"
   ]
  },
  {
   "cell_type": "code",
   "execution_count": 16,
   "metadata": {},
   "outputs": [
    {
     "data": {
      "text/plain": [
       "[statsmodels.genmod.families.links.logit,\n",
       " statsmodels.genmod.families.links.probit,\n",
       " statsmodels.genmod.families.links.cauchy,\n",
       " statsmodels.genmod.families.links.log,\n",
       " statsmodels.genmod.families.links.cloglog,\n",
       " statsmodels.genmod.families.links.identity]"
      ]
     },
     "execution_count": 16,
     "metadata": {},
     "output_type": "execute_result"
    }
   ],
   "source": [
    "sm.families.family.Binomial.links"
   ]
  },
  {
   "cell_type": "code",
   "execution_count": null,
   "metadata": {},
   "outputs": [],
   "source": []
  },
  {
   "cell_type": "markdown",
   "metadata": {},
   "source": [
    "# Logit"
   ]
  },
  {
   "cell_type": "code",
   "execution_count": 17,
   "metadata": {},
   "outputs": [
    {
     "data": {
      "text/html": [
       "<table class=\"simpletable\">\n",
       "<caption>Generalized Linear Model Regression Results</caption>\n",
       "<tr>\n",
       "  <th>Dep. Variable:</th>   <td>Would_live_in_another_neighborhood</td> <th>  No. Observations:  </th>  <td>  1174</td> \n",
       "</tr>\n",
       "<tr>\n",
       "  <th>Model:</th>                           <td>GLM</td>                <th>  Df Residuals:      </th>  <td>  1128</td> \n",
       "</tr>\n",
       "<tr>\n",
       "  <th>Model Family:</th>                 <td>Binomial</td>              <th>  Df Model:          </th>  <td>    45</td> \n",
       "</tr>\n",
       "<tr>\n",
       "  <th>Link Function:</th>                  <td>logit</td>               <th>  Scale:             </th> <td>  1.0000</td>\n",
       "</tr>\n",
       "<tr>\n",
       "  <th>Method:</th>                         <td>IRLS</td>                <th>  Log-Likelihood:    </th> <td> -378.03</td>\n",
       "</tr>\n",
       "<tr>\n",
       "  <th>Date:</th>                     <td>Mon, 10 May 2021</td>          <th>  Deviance:          </th> <td>  756.07</td>\n",
       "</tr>\n",
       "<tr>\n",
       "  <th>Time:</th>                         <td>07:55:39</td>              <th>  Pearson chi2:      </th> <td>1.27e+03</td>\n",
       "</tr>\n",
       "<tr>\n",
       "  <th>No. Iterations:</th>                   <td>6</td>                 <th>                     </th>     <td> </td>   \n",
       "</tr>\n",
       "<tr>\n",
       "  <th>Covariance Type:</th>              <td>nonrobust</td>             <th>                     </th>     <td> </td>   \n",
       "</tr>\n",
       "</table>\n",
       "<table class=\"simpletable\">\n",
       "<tr>\n",
       "                                <td></td>                                  <th>coef</th>     <th>std err</th>      <th>z</th>      <th>P>|z|</th>  <th>[0.025</th>    <th>0.975]</th>  \n",
       "</tr>\n",
       "<tr>\n",
       "  <th>const</th>                                                        <td>   -1.7351</td> <td>    0.567</td> <td>   -3.060</td> <td> 0.002</td> <td>   -2.846</td> <td>   -0.624</td>\n",
       "</tr>\n",
       "<tr>\n",
       "  <th>Woman</th>                                                        <td>   -0.0866</td> <td>    0.208</td> <td>   -0.416</td> <td> 0.678</td> <td>   -0.495</td> <td>    0.322</td>\n",
       "</tr>\n",
       "<tr>\n",
       "  <th>Car</th>                                                          <td>    0.3230</td> <td>    0.231</td> <td>    1.395</td> <td> 0.163</td> <td>   -0.131</td> <td>    0.777</td>\n",
       "</tr>\n",
       "<tr>\n",
       "  <th>Support_with_housework</th>                                       <td>    0.0613</td> <td>    0.226</td> <td>    0.272</td> <td> 0.786</td> <td>   -0.381</td> <td>    0.504</td>\n",
       "</tr>\n",
       "<tr>\n",
       "  <th>Owner</th>                                                        <td>    0.1178</td> <td>    0.279</td> <td>    0.423</td> <td> 0.672</td> <td>   -0.428</td> <td>    0.664</td>\n",
       "</tr>\n",
       "<tr>\n",
       "  <th>Disability</th>                                                   <td>    0.3229</td> <td>    0.376</td> <td>    0.859</td> <td> 0.390</td> <td>   -0.414</td> <td>    1.060</td>\n",
       "</tr>\n",
       "<tr>\n",
       "  <th>Living_with_disabled_person</th>                                  <td>   -0.2684</td> <td>    0.323</td> <td>   -0.830</td> <td> 0.406</td> <td>   -0.902</td> <td>    0.365</td>\n",
       "</tr>\n",
       "<tr>\n",
       "  <th>Barri_association</th>                                            <td>   -0.3978</td> <td>    0.256</td> <td>   -1.553</td> <td> 0.120</td> <td>   -0.900</td> <td>    0.104</td>\n",
       "</tr>\n",
       "<tr>\n",
       "  <th>BCN_over_barri_evolution</th>                                     <td>    0.0709</td> <td>    0.352</td> <td>    0.201</td> <td> 0.840</td> <td>   -0.619</td> <td>    0.761</td>\n",
       "</tr>\n",
       "<tr>\n",
       "  <th>BCN_over_barri_future</th>                                        <td>    0.4188</td> <td>    0.303</td> <td>    1.383</td> <td> 0.167</td> <td>   -0.174</td> <td>    1.012</td>\n",
       "</tr>\n",
       "<tr>\n",
       "  <th>BCN_over_barri_satisfaction</th>                                  <td>    1.1520</td> <td>    0.652</td> <td>    1.767</td> <td> 0.077</td> <td>   -0.126</td> <td>    2.430</td>\n",
       "</tr>\n",
       "<tr>\n",
       "  <th>BCN_over_barri_transport</th>                                     <td>   -0.7979</td> <td>    0.526</td> <td>   -1.516</td> <td> 0.129</td> <td>   -1.829</td> <td>    0.234</td>\n",
       "</tr>\n",
       "<tr>\n",
       "  <th>BCN_over_barri_management</th>                                    <td>   -0.4310</td> <td>    0.695</td> <td>   -0.620</td> <td> 0.535</td> <td>   -1.793</td> <td>    0.931</td>\n",
       "</tr>\n",
       "<tr>\n",
       "  <th>BCN_over_barri_security</th>                                      <td>    0.0060</td> <td>    0.461</td> <td>    0.013</td> <td> 0.990</td> <td>   -0.898</td> <td>    0.911</td>\n",
       "</tr>\n",
       "<tr>\n",
       "  <th>District_CIUTAT VELLA</th>                                        <td>    0.1098</td> <td>    0.523</td> <td>    0.210</td> <td> 0.834</td> <td>   -0.916</td> <td>    1.135</td>\n",
       "</tr>\n",
       "<tr>\n",
       "  <th>District_GRÀCIA</th>                                              <td>    0.4800</td> <td>    0.421</td> <td>    1.139</td> <td> 0.255</td> <td>   -0.346</td> <td>    1.306</td>\n",
       "</tr>\n",
       "<tr>\n",
       "  <th>District_HORTA - GUINARDÓ</th>                                    <td>    0.6358</td> <td>    0.377</td> <td>    1.686</td> <td> 0.092</td> <td>   -0.103</td> <td>    1.375</td>\n",
       "</tr>\n",
       "<tr>\n",
       "  <th>District_LES CORTS</th>                                           <td>   -0.8014</td> <td>    0.587</td> <td>   -1.365</td> <td> 0.172</td> <td>   -1.952</td> <td>    0.349</td>\n",
       "</tr>\n",
       "<tr>\n",
       "  <th>District_NOU BARRIS</th>                                          <td>    0.6037</td> <td>    0.391</td> <td>    1.545</td> <td> 0.122</td> <td>   -0.162</td> <td>    1.370</td>\n",
       "</tr>\n",
       "<tr>\n",
       "  <th>District_SANT ANDREU</th>                                         <td>    0.4935</td> <td>    0.390</td> <td>    1.266</td> <td> 0.205</td> <td>   -0.270</td> <td>    1.257</td>\n",
       "</tr>\n",
       "<tr>\n",
       "  <th>District_SANT MARTÍ</th>                                          <td>    0.1011</td> <td>    0.392</td> <td>    0.258</td> <td> 0.797</td> <td>   -0.668</td> <td>    0.870</td>\n",
       "</tr>\n",
       "<tr>\n",
       "  <th>District_SANTS - MONTJUÏC</th>                                    <td>    0.4543</td> <td>    0.396</td> <td>    1.147</td> <td> 0.252</td> <td>   -0.322</td> <td>    1.231</td>\n",
       "</tr>\n",
       "<tr>\n",
       "  <th>District_SARRIÀ - SANT GERVASI</th>                               <td>   -0.4596</td> <td>    0.549</td> <td>   -0.837</td> <td> 0.403</td> <td>   -1.536</td> <td>    0.617</td>\n",
       "</tr>\n",
       "<tr>\n",
       "  <th>House_size_101-150 M2</th>                                        <td>   -0.6060</td> <td>    0.489</td> <td>   -1.239</td> <td> 0.215</td> <td>   -1.565</td> <td>    0.353</td>\n",
       "</tr>\n",
       "<tr>\n",
       "  <th>House_size_51-100 M2</th>                                         <td>   -0.4032</td> <td>    0.374</td> <td>   -1.078</td> <td> 0.281</td> <td>   -1.136</td> <td>    0.330</td>\n",
       "</tr>\n",
       "<tr>\n",
       "  <th>House_size_> 150 M2</th>                                          <td>   -0.0927</td> <td>    0.643</td> <td>   -0.144</td> <td> 0.885</td> <td>   -1.353</td> <td>    1.168</td>\n",
       "</tr>\n",
       "<tr>\n",
       "  <th>House_size_I DON'T KNOW</th>                                      <td>   -0.8863</td> <td>    0.570</td> <td>   -1.555</td> <td> 0.120</td> <td>   -2.003</td> <td>    0.231</td>\n",
       "</tr>\n",
       "<tr>\n",
       "  <th>No_of_people_in_the_house_THREE OR MORE</th>                      <td>    0.0576</td> <td>    0.334</td> <td>    0.173</td> <td> 0.863</td> <td>   -0.596</td> <td>    0.711</td>\n",
       "</tr>\n",
       "<tr>\n",
       "  <th>No_of_people_in_the_house_TWO</th>                                <td>   -0.1853</td> <td>    0.245</td> <td>   -0.755</td> <td> 0.450</td> <td>   -0.666</td> <td>    0.296</td>\n",
       "</tr>\n",
       "<tr>\n",
       "  <th>Financial_situation_BAD</th>                                      <td>    0.0699</td> <td>    0.215</td> <td>    0.325</td> <td> 0.745</td> <td>   -0.351</td> <td>    0.491</td>\n",
       "</tr>\n",
       "<tr>\n",
       "  <th>Time_living_in_barri_I HAVE ALWAYS LIVED IN THE NEIGHBORHOOD</th> <td>   -2.1906</td> <td>    0.537</td> <td>   -4.080</td> <td> 0.000</td> <td>   -3.243</td> <td>   -1.138</td>\n",
       "</tr>\n",
       "<tr>\n",
       "  <th>Time_living_in_barri_MORE THAN 10 YEARS</th>                      <td>   -0.9751</td> <td>    0.351</td> <td>   -2.774</td> <td> 0.006</td> <td>   -1.664</td> <td>   -0.286</td>\n",
       "</tr>\n",
       "<tr>\n",
       "  <th>Barri_evolution_IT HAS WORSENED</th>                              <td>   -0.2592</td> <td>    0.290</td> <td>   -0.893</td> <td> 0.372</td> <td>   -0.828</td> <td>    0.310</td>\n",
       "</tr>\n",
       "<tr>\n",
       "  <th>Barri_evolution_IT IS THE SAME</th>                               <td>   -0.3446</td> <td>    0.253</td> <td>   -1.361</td> <td> 0.174</td> <td>   -0.841</td> <td>    0.152</td>\n",
       "</tr>\n",
       "<tr>\n",
       "  <th>Barri_future_IT WILL STAY THE SAME</th>                           <td>   -0.1018</td> <td>    0.272</td> <td>   -0.375</td> <td> 0.708</td> <td>   -0.634</td> <td>    0.430</td>\n",
       "</tr>\n",
       "<tr>\n",
       "  <th>Barri_future_IT WILL WORSEN</th>                                  <td>   -0.0085</td> <td>    0.330</td> <td>   -0.026</td> <td> 0.979</td> <td>   -0.655</td> <td>    0.638</td>\n",
       "</tr>\n",
       "<tr>\n",
       "  <th>Barri_satisfaction_FAIRLY SATISFIED</th>                          <td>   -0.2652</td> <td>    0.610</td> <td>   -0.435</td> <td> 0.664</td> <td>   -1.461</td> <td>    0.931</td>\n",
       "</tr>\n",
       "<tr>\n",
       "  <th>Barri_satisfaction_NOT SATISFIED</th>                             <td>    2.6762</td> <td>    1.358</td> <td>    1.970</td> <td> 0.049</td> <td>    0.014</td> <td>    5.338</td>\n",
       "</tr>\n",
       "<tr>\n",
       "  <th>Barri_security_BAD</th>                                           <td>    0.3037</td> <td>    0.330</td> <td>    0.919</td> <td> 0.358</td> <td>   -0.344</td> <td>    0.951</td>\n",
       "</tr>\n",
       "<tr>\n",
       "  <th>Barri_security_NEITHER BAD, NOR GOOD</th>                         <td>    0.1110</td> <td>    0.232</td> <td>    0.479</td> <td> 0.632</td> <td>   -0.343</td> <td>    0.565</td>\n",
       "</tr>\n",
       "<tr>\n",
       "  <th>Barri_management_BAD</th>                                         <td>    0.3983</td> <td>    0.567</td> <td>    0.703</td> <td> 0.482</td> <td>   -0.712</td> <td>    1.509</td>\n",
       "</tr>\n",
       "<tr>\n",
       "  <th>Barri_management_NEITHER BAD, NOR GOOD</th>                       <td>    0.2269</td> <td>    0.225</td> <td>    1.010</td> <td> 0.313</td> <td>   -0.213</td> <td>    0.667</td>\n",
       "</tr>\n",
       "<tr>\n",
       "  <th>Barri_comparison_NEITHER THE BEST, NOR THE WORST</th>             <td>    1.3020</td> <td>    0.220</td> <td>    5.930</td> <td> 0.000</td> <td>    0.872</td> <td>    1.732</td>\n",
       "</tr>\n",
       "<tr>\n",
       "  <th>Barri_comparison_ONE OF THE WORST</th>                            <td>    1.4608</td> <td>    0.432</td> <td>    3.383</td> <td> 0.001</td> <td>    0.615</td> <td>    2.307</td>\n",
       "</tr>\n",
       "<tr>\n",
       "  <th>Barri_transport_BAD</th>                                          <td>    0.2528</td> <td>    0.386</td> <td>    0.654</td> <td> 0.513</td> <td>   -0.504</td> <td>    1.010</td>\n",
       "</tr>\n",
       "<tr>\n",
       "  <th>Barri_transport_NEITHER BAD, NOR GOOD</th>                        <td>    0.0883</td> <td>    0.397</td> <td>    0.223</td> <td> 0.824</td> <td>   -0.689</td> <td>    0.866</td>\n",
       "</tr>\n",
       "</table>"
      ],
      "text/plain": [
       "<class 'statsmodels.iolib.summary.Summary'>\n",
       "\"\"\"\n",
       "                         Generalized Linear Model Regression Results                          \n",
       "==============================================================================================\n",
       "Dep. Variable:     Would_live_in_another_neighborhood   No. Observations:                 1174\n",
       "Model:                                            GLM   Df Residuals:                     1128\n",
       "Model Family:                                Binomial   Df Model:                           45\n",
       "Link Function:                                  logit   Scale:                          1.0000\n",
       "Method:                                          IRLS   Log-Likelihood:                -378.03\n",
       "Date:                                Mon, 10 May 2021   Deviance:                       756.07\n",
       "Time:                                        07:55:39   Pearson chi2:                 1.27e+03\n",
       "No. Iterations:                                     6                                         \n",
       "Covariance Type:                            nonrobust                                         \n",
       "================================================================================================================================\n",
       "                                                                   coef    std err          z      P>|z|      [0.025      0.975]\n",
       "--------------------------------------------------------------------------------------------------------------------------------\n",
       "const                                                           -1.7351      0.567     -3.060      0.002      -2.846      -0.624\n",
       "Woman                                                           -0.0866      0.208     -0.416      0.678      -0.495       0.322\n",
       "Car                                                              0.3230      0.231      1.395      0.163      -0.131       0.777\n",
       "Support_with_housework                                           0.0613      0.226      0.272      0.786      -0.381       0.504\n",
       "Owner                                                            0.1178      0.279      0.423      0.672      -0.428       0.664\n",
       "Disability                                                       0.3229      0.376      0.859      0.390      -0.414       1.060\n",
       "Living_with_disabled_person                                     -0.2684      0.323     -0.830      0.406      -0.902       0.365\n",
       "Barri_association                                               -0.3978      0.256     -1.553      0.120      -0.900       0.104\n",
       "BCN_over_barri_evolution                                         0.0709      0.352      0.201      0.840      -0.619       0.761\n",
       "BCN_over_barri_future                                            0.4188      0.303      1.383      0.167      -0.174       1.012\n",
       "BCN_over_barri_satisfaction                                      1.1520      0.652      1.767      0.077      -0.126       2.430\n",
       "BCN_over_barri_transport                                        -0.7979      0.526     -1.516      0.129      -1.829       0.234\n",
       "BCN_over_barri_management                                       -0.4310      0.695     -0.620      0.535      -1.793       0.931\n",
       "BCN_over_barri_security                                          0.0060      0.461      0.013      0.990      -0.898       0.911\n",
       "District_CIUTAT VELLA                                            0.1098      0.523      0.210      0.834      -0.916       1.135\n",
       "District_GRÀCIA                                                  0.4800      0.421      1.139      0.255      -0.346       1.306\n",
       "District_HORTA - GUINARDÓ                                        0.6358      0.377      1.686      0.092      -0.103       1.375\n",
       "District_LES CORTS                                              -0.8014      0.587     -1.365      0.172      -1.952       0.349\n",
       "District_NOU BARRIS                                              0.6037      0.391      1.545      0.122      -0.162       1.370\n",
       "District_SANT ANDREU                                             0.4935      0.390      1.266      0.205      -0.270       1.257\n",
       "District_SANT MARTÍ                                              0.1011      0.392      0.258      0.797      -0.668       0.870\n",
       "District_SANTS - MONTJUÏC                                        0.4543      0.396      1.147      0.252      -0.322       1.231\n",
       "District_SARRIÀ - SANT GERVASI                                  -0.4596      0.549     -0.837      0.403      -1.536       0.617\n",
       "House_size_101-150 M2                                           -0.6060      0.489     -1.239      0.215      -1.565       0.353\n",
       "House_size_51-100 M2                                            -0.4032      0.374     -1.078      0.281      -1.136       0.330\n",
       "House_size_> 150 M2                                             -0.0927      0.643     -0.144      0.885      -1.353       1.168\n",
       "House_size_I DON'T KNOW                                         -0.8863      0.570     -1.555      0.120      -2.003       0.231\n",
       "No_of_people_in_the_house_THREE OR MORE                          0.0576      0.334      0.173      0.863      -0.596       0.711\n",
       "No_of_people_in_the_house_TWO                                   -0.1853      0.245     -0.755      0.450      -0.666       0.296\n",
       "Financial_situation_BAD                                          0.0699      0.215      0.325      0.745      -0.351       0.491\n",
       "Time_living_in_barri_I HAVE ALWAYS LIVED IN THE NEIGHBORHOOD    -2.1906      0.537     -4.080      0.000      -3.243      -1.138\n",
       "Time_living_in_barri_MORE THAN 10 YEARS                         -0.9751      0.351     -2.774      0.006      -1.664      -0.286\n",
       "Barri_evolution_IT HAS WORSENED                                 -0.2592      0.290     -0.893      0.372      -0.828       0.310\n",
       "Barri_evolution_IT IS THE SAME                                  -0.3446      0.253     -1.361      0.174      -0.841       0.152\n",
       "Barri_future_IT WILL STAY THE SAME                              -0.1018      0.272     -0.375      0.708      -0.634       0.430\n",
       "Barri_future_IT WILL WORSEN                                     -0.0085      0.330     -0.026      0.979      -0.655       0.638\n",
       "Barri_satisfaction_FAIRLY SATISFIED                             -0.2652      0.610     -0.435      0.664      -1.461       0.931\n",
       "Barri_satisfaction_NOT SATISFIED                                 2.6762      1.358      1.970      0.049       0.014       5.338\n",
       "Barri_security_BAD                                               0.3037      0.330      0.919      0.358      -0.344       0.951\n",
       "Barri_security_NEITHER BAD, NOR GOOD                             0.1110      0.232      0.479      0.632      -0.343       0.565\n",
       "Barri_management_BAD                                             0.3983      0.567      0.703      0.482      -0.712       1.509\n",
       "Barri_management_NEITHER BAD, NOR GOOD                           0.2269      0.225      1.010      0.313      -0.213       0.667\n",
       "Barri_comparison_NEITHER THE BEST, NOR THE WORST                 1.3020      0.220      5.930      0.000       0.872       1.732\n",
       "Barri_comparison_ONE OF THE WORST                                1.4608      0.432      3.383      0.001       0.615       2.307\n",
       "Barri_transport_BAD                                              0.2528      0.386      0.654      0.513      -0.504       1.010\n",
       "Barri_transport_NEITHER BAD, NOR GOOD                            0.0883      0.397      0.223      0.824      -0.689       0.866\n",
       "================================================================================================================================\n",
       "\"\"\""
      ]
     },
     "execution_count": 17,
     "metadata": {},
     "output_type": "execute_result"
    }
   ],
   "source": [
    "glm_logit = sm.GLM(y, x, family=sm.families.Binomial())\n",
    "glm_logit_results = glm_logit.fit()\n",
    "glm_logit_results.summary()"
   ]
  },
  {
   "cell_type": "code",
   "execution_count": 18,
   "metadata": {},
   "outputs": [
    {
     "data": {
      "text/plain": [
       "848.0653966481343"
      ]
     },
     "execution_count": 18,
     "metadata": {},
     "output_type": "execute_result"
    }
   ],
   "source": [
    "glm_logit_results.aic"
   ]
  },
  {
   "cell_type": "code",
   "execution_count": 19,
   "metadata": {},
   "outputs": [
    {
     "name": "stderr",
     "output_type": "stream",
     "text": [
      "C:\\Users\\THINK\\anaconda3\\lib\\site-packages\\statsmodels\\genmod\\generalized_linear_model.py:1731: FutureWarning: The bic value is computed using the deviance formula. After 0.13 this will change to the log-likelihood based formula. This change has no impact on the relative rank of models compared using BIC. You can directly access the log-likelihood version using the `bic_llf` attribute. You can suppress this message by calling statsmodels.genmod.generalized_linear_model.SET_USE_BIC_LLF with True to get the LLF-based version now or False to retainthe deviance version.\n",
      "  FutureWarning\n"
     ]
    },
    {
     "data": {
      "text/plain": [
       "-7216.832619789578"
      ]
     },
     "execution_count": 19,
     "metadata": {},
     "output_type": "execute_result"
    }
   ],
   "source": [
    "glm_logit_results.bic"
   ]
  },
  {
   "cell_type": "code",
   "execution_count": 20,
   "metadata": {},
   "outputs": [
    {
     "data": {
      "text/plain": [
       "BCN_over_barri_security                                         9.895544e-01\n",
       "Barri_future_IT WILL WORSEN                                     9.793927e-01\n",
       "House_size_> 150 M2                                             8.854685e-01\n",
       "No_of_people_in_the_house_THREE OR MORE                         8.629247e-01\n",
       "BCN_over_barri_evolution                                        8.404676e-01\n",
       "District_CIUTAT VELLA                                           8.338171e-01\n",
       "Barri_transport_NEITHER BAD, NOR GOOD                           8.238460e-01\n",
       "District_SANT MARTÍ                                             7.967103e-01\n",
       "Support_with_housework                                          7.858226e-01\n",
       "Financial_situation_BAD                                         7.448398e-01\n",
       "Barri_future_IT WILL STAY THE SAME                              7.078002e-01\n",
       "Woman                                                           6.776462e-01\n",
       "Owner                                                           6.723614e-01\n",
       "Barri_satisfaction_FAIRLY SATISFIED                             6.638428e-01\n",
       "Barri_security_NEITHER BAD, NOR GOOD                            6.319212e-01\n",
       "BCN_over_barri_management                                       5.351564e-01\n",
       "Barri_transport_BAD                                             5.129266e-01\n",
       "Barri_management_BAD                                            4.820722e-01\n",
       "No_of_people_in_the_house_TWO                                   4.502329e-01\n",
       "Living_with_disabled_person                                     4.064062e-01\n",
       "District_SARRIÀ - SANT GERVASI                                  4.027204e-01\n",
       "Disability                                                      3.901901e-01\n",
       "Barri_evolution_IT HAS WORSENED                                 3.716680e-01\n",
       "Barri_security_BAD                                              3.579756e-01\n",
       "Barri_management_NEITHER BAD, NOR GOOD                          3.125174e-01\n",
       "House_size_51-100 M2                                            2.809772e-01\n",
       "District_GRÀCIA                                                 2.546320e-01\n",
       "District_SANTS - MONTJUÏC                                       2.515618e-01\n",
       "House_size_101-150 M2                                           2.153795e-01\n",
       "District_SANT ANDREU                                            2.054050e-01\n",
       "Barri_evolution_IT IS THE SAME                                  1.735424e-01\n",
       "District_LES CORTS                                              1.722162e-01\n",
       "BCN_over_barri_future                                           1.665127e-01\n",
       "Car                                                             1.628804e-01\n",
       "BCN_over_barri_transport                                        1.294773e-01\n",
       "District_NOU BARRIS                                             1.223796e-01\n",
       "Barri_association                                               1.204259e-01\n",
       "House_size_I DON'T KNOW                                         1.199778e-01\n",
       "District_HORTA - GUINARDÓ                                       9.184794e-02\n",
       "BCN_over_barri_satisfaction                                     7.718398e-02\n",
       "Barri_satisfaction_NOT SATISFIED                                4.880331e-02\n",
       "Time_living_in_barri_MORE THAN 10 YEARS                         5.533193e-03\n",
       "const                                                           2.211430e-03\n",
       "Barri_comparison_ONE OF THE WORST                               7.158207e-04\n",
       "Time_living_in_barri_I HAVE ALWAYS LIVED IN THE NEIGHBORHOOD    4.497636e-05\n",
       "Barri_comparison_NEITHER THE BEST, NOR THE WORST                3.027788e-09\n",
       "dtype: float64"
      ]
     },
     "execution_count": 20,
     "metadata": {},
     "output_type": "execute_result"
    }
   ],
   "source": [
    "glm_logit_results.pvalues.sort_values(ascending=False)"
   ]
  },
  {
   "cell_type": "code",
   "execution_count": null,
   "metadata": {},
   "outputs": [],
   "source": []
  },
  {
   "cell_type": "code",
   "execution_count": 21,
   "metadata": {},
   "outputs": [],
   "source": [
    "for i in x.columns.tolist():\n",
    "    if i[:8] == 'District':\n",
    "        del x[i]"
   ]
  },
  {
   "cell_type": "code",
   "execution_count": 22,
   "metadata": {},
   "outputs": [
    {
     "data": {
      "text/html": [
       "<table class=\"simpletable\">\n",
       "<caption>Generalized Linear Model Regression Results</caption>\n",
       "<tr>\n",
       "  <th>Dep. Variable:</th>   <td>Would_live_in_another_neighborhood</td> <th>  No. Observations:  </th>  <td>  1174</td> \n",
       "</tr>\n",
       "<tr>\n",
       "  <th>Model:</th>                           <td>GLM</td>                <th>  Df Residuals:      </th>  <td>  1137</td> \n",
       "</tr>\n",
       "<tr>\n",
       "  <th>Model Family:</th>                 <td>Binomial</td>              <th>  Df Model:          </th>  <td>    36</td> \n",
       "</tr>\n",
       "<tr>\n",
       "  <th>Link Function:</th>                  <td>logit</td>               <th>  Scale:             </th> <td>  1.0000</td>\n",
       "</tr>\n",
       "<tr>\n",
       "  <th>Method:</th>                         <td>IRLS</td>                <th>  Log-Likelihood:    </th> <td> -384.58</td>\n",
       "</tr>\n",
       "<tr>\n",
       "  <th>Date:</th>                     <td>Mon, 10 May 2021</td>          <th>  Deviance:          </th> <td>  769.17</td>\n",
       "</tr>\n",
       "<tr>\n",
       "  <th>Time:</th>                         <td>07:55:39</td>              <th>  Pearson chi2:      </th> <td>1.20e+03</td>\n",
       "</tr>\n",
       "<tr>\n",
       "  <th>No. Iterations:</th>                   <td>6</td>                 <th>                     </th>     <td> </td>   \n",
       "</tr>\n",
       "<tr>\n",
       "  <th>Covariance Type:</th>              <td>nonrobust</td>             <th>                     </th>     <td> </td>   \n",
       "</tr>\n",
       "</table>\n",
       "<table class=\"simpletable\">\n",
       "<tr>\n",
       "                                <td></td>                                  <th>coef</th>     <th>std err</th>      <th>z</th>      <th>P>|z|</th>  <th>[0.025</th>    <th>0.975]</th>  \n",
       "</tr>\n",
       "<tr>\n",
       "  <th>const</th>                                                        <td>   -1.6511</td> <td>    0.502</td> <td>   -3.288</td> <td> 0.001</td> <td>   -2.635</td> <td>   -0.667</td>\n",
       "</tr>\n",
       "<tr>\n",
       "  <th>Woman</th>                                                        <td>   -0.0831</td> <td>    0.207</td> <td>   -0.401</td> <td> 0.688</td> <td>   -0.489</td> <td>    0.323</td>\n",
       "</tr>\n",
       "<tr>\n",
       "  <th>Car</th>                                                          <td>    0.2959</td> <td>    0.226</td> <td>    1.310</td> <td> 0.190</td> <td>   -0.147</td> <td>    0.739</td>\n",
       "</tr>\n",
       "<tr>\n",
       "  <th>Support_with_housework</th>                                       <td>   -0.0583</td> <td>    0.217</td> <td>   -0.268</td> <td> 0.788</td> <td>   -0.484</td> <td>    0.367</td>\n",
       "</tr>\n",
       "<tr>\n",
       "  <th>Owner</th>                                                        <td>    0.2509</td> <td>    0.268</td> <td>    0.937</td> <td> 0.349</td> <td>   -0.274</td> <td>    0.776</td>\n",
       "</tr>\n",
       "<tr>\n",
       "  <th>Disability</th>                                                   <td>    0.4080</td> <td>    0.370</td> <td>    1.103</td> <td> 0.270</td> <td>   -0.317</td> <td>    1.133</td>\n",
       "</tr>\n",
       "<tr>\n",
       "  <th>Living_with_disabled_person</th>                                  <td>   -0.2537</td> <td>    0.317</td> <td>   -0.800</td> <td> 0.424</td> <td>   -0.876</td> <td>    0.368</td>\n",
       "</tr>\n",
       "<tr>\n",
       "  <th>Barri_association</th>                                            <td>   -0.3546</td> <td>    0.252</td> <td>   -1.409</td> <td> 0.159</td> <td>   -0.848</td> <td>    0.139</td>\n",
       "</tr>\n",
       "<tr>\n",
       "  <th>BCN_over_barri_evolution</th>                                     <td>    0.0791</td> <td>    0.348</td> <td>    0.227</td> <td> 0.820</td> <td>   -0.603</td> <td>    0.761</td>\n",
       "</tr>\n",
       "<tr>\n",
       "  <th>BCN_over_barri_future</th>                                        <td>    0.4115</td> <td>    0.297</td> <td>    1.386</td> <td> 0.166</td> <td>   -0.170</td> <td>    0.993</td>\n",
       "</tr>\n",
       "<tr>\n",
       "  <th>BCN_over_barri_satisfaction</th>                                  <td>    1.1493</td> <td>    0.640</td> <td>    1.796</td> <td> 0.072</td> <td>   -0.105</td> <td>    2.403</td>\n",
       "</tr>\n",
       "<tr>\n",
       "  <th>BCN_over_barri_transport</th>                                     <td>   -0.7787</td> <td>    0.521</td> <td>   -1.494</td> <td> 0.135</td> <td>   -1.800</td> <td>    0.243</td>\n",
       "</tr>\n",
       "<tr>\n",
       "  <th>BCN_over_barri_management</th>                                    <td>   -0.2616</td> <td>    0.688</td> <td>   -0.380</td> <td> 0.704</td> <td>   -1.610</td> <td>    1.087</td>\n",
       "</tr>\n",
       "<tr>\n",
       "  <th>BCN_over_barri_security</th>                                      <td>   -0.0833</td> <td>    0.458</td> <td>   -0.182</td> <td> 0.856</td> <td>   -0.981</td> <td>    0.814</td>\n",
       "</tr>\n",
       "<tr>\n",
       "  <th>House_size_101-150 M2</th>                                        <td>   -0.7177</td> <td>    0.476</td> <td>   -1.508</td> <td> 0.132</td> <td>   -1.650</td> <td>    0.215</td>\n",
       "</tr>\n",
       "<tr>\n",
       "  <th>House_size_51-100 M2</th>                                         <td>   -0.4051</td> <td>    0.367</td> <td>   -1.104</td> <td> 0.270</td> <td>   -1.124</td> <td>    0.314</td>\n",
       "</tr>\n",
       "<tr>\n",
       "  <th>House_size_> 150 M2</th>                                          <td>   -0.2934</td> <td>    0.627</td> <td>   -0.468</td> <td> 0.640</td> <td>   -1.522</td> <td>    0.935</td>\n",
       "</tr>\n",
       "<tr>\n",
       "  <th>House_size_I DON'T KNOW</th>                                      <td>   -0.8326</td> <td>    0.559</td> <td>   -1.488</td> <td> 0.137</td> <td>   -1.929</td> <td>    0.264</td>\n",
       "</tr>\n",
       "<tr>\n",
       "  <th>No_of_people_in_the_house_THREE OR MORE</th>                      <td>    0.1004</td> <td>    0.328</td> <td>    0.306</td> <td> 0.759</td> <td>   -0.542</td> <td>    0.743</td>\n",
       "</tr>\n",
       "<tr>\n",
       "  <th>No_of_people_in_the_house_TWO</th>                                <td>   -0.1481</td> <td>    0.240</td> <td>   -0.616</td> <td> 0.538</td> <td>   -0.619</td> <td>    0.323</td>\n",
       "</tr>\n",
       "<tr>\n",
       "  <th>Financial_situation_BAD</th>                                      <td>    0.0909</td> <td>    0.210</td> <td>    0.433</td> <td> 0.665</td> <td>   -0.321</td> <td>    0.503</td>\n",
       "</tr>\n",
       "<tr>\n",
       "  <th>Time_living_in_barri_I HAVE ALWAYS LIVED IN THE NEIGHBORHOOD</th> <td>   -2.1281</td> <td>    0.528</td> <td>   -4.032</td> <td> 0.000</td> <td>   -3.163</td> <td>   -1.094</td>\n",
       "</tr>\n",
       "<tr>\n",
       "  <th>Time_living_in_barri_MORE THAN 10 YEARS</th>                      <td>   -0.9422</td> <td>    0.344</td> <td>   -2.736</td> <td> 0.006</td> <td>   -1.617</td> <td>   -0.267</td>\n",
       "</tr>\n",
       "<tr>\n",
       "  <th>Barri_evolution_IT HAS WORSENED</th>                              <td>   -0.2820</td> <td>    0.287</td> <td>   -0.983</td> <td> 0.325</td> <td>   -0.844</td> <td>    0.280</td>\n",
       "</tr>\n",
       "<tr>\n",
       "  <th>Barri_evolution_IT IS THE SAME</th>                               <td>   -0.3710</td> <td>    0.249</td> <td>   -1.490</td> <td> 0.136</td> <td>   -0.859</td> <td>    0.117</td>\n",
       "</tr>\n",
       "<tr>\n",
       "  <th>Barri_future_IT WILL STAY THE SAME</th>                           <td>   -0.1497</td> <td>    0.266</td> <td>   -0.563</td> <td> 0.573</td> <td>   -0.671</td> <td>    0.371</td>\n",
       "</tr>\n",
       "<tr>\n",
       "  <th>Barri_future_IT WILL WORSEN</th>                                  <td>   -0.0808</td> <td>    0.326</td> <td>   -0.248</td> <td> 0.804</td> <td>   -0.719</td> <td>    0.558</td>\n",
       "</tr>\n",
       "<tr>\n",
       "  <th>Barri_satisfaction_FAIRLY SATISFIED</th>                          <td>   -0.3433</td> <td>    0.598</td> <td>   -0.574</td> <td> 0.566</td> <td>   -1.516</td> <td>    0.829</td>\n",
       "</tr>\n",
       "<tr>\n",
       "  <th>Barri_satisfaction_NOT SATISFIED</th>                             <td>    2.6009</td> <td>    1.350</td> <td>    1.926</td> <td> 0.054</td> <td>   -0.046</td> <td>    5.248</td>\n",
       "</tr>\n",
       "<tr>\n",
       "  <th>Barri_security_BAD</th>                                           <td>    0.4401</td> <td>    0.323</td> <td>    1.363</td> <td> 0.173</td> <td>   -0.193</td> <td>    1.073</td>\n",
       "</tr>\n",
       "<tr>\n",
       "  <th>Barri_security_NEITHER BAD, NOR GOOD</th>                         <td>    0.1455</td> <td>    0.228</td> <td>    0.639</td> <td> 0.523</td> <td>   -0.301</td> <td>    0.592</td>\n",
       "</tr>\n",
       "<tr>\n",
       "  <th>Barri_management_BAD</th>                                         <td>    0.2361</td> <td>    0.559</td> <td>    0.422</td> <td> 0.673</td> <td>   -0.859</td> <td>    1.332</td>\n",
       "</tr>\n",
       "<tr>\n",
       "  <th>Barri_management_NEITHER BAD, NOR GOOD</th>                       <td>    0.2082</td> <td>    0.219</td> <td>    0.948</td> <td> 0.343</td> <td>   -0.222</td> <td>    0.638</td>\n",
       "</tr>\n",
       "<tr>\n",
       "  <th>Barri_comparison_NEITHER THE BEST, NOR THE WORST</th>             <td>    1.4137</td> <td>    0.212</td> <td>    6.682</td> <td> 0.000</td> <td>    0.999</td> <td>    1.828</td>\n",
       "</tr>\n",
       "<tr>\n",
       "  <th>Barri_comparison_ONE OF THE WORST</th>                            <td>    1.6968</td> <td>    0.413</td> <td>    4.104</td> <td> 0.000</td> <td>    0.886</td> <td>    2.507</td>\n",
       "</tr>\n",
       "<tr>\n",
       "  <th>Barri_transport_BAD</th>                                          <td>    0.2040</td> <td>    0.382</td> <td>    0.534</td> <td> 0.594</td> <td>   -0.545</td> <td>    0.953</td>\n",
       "</tr>\n",
       "<tr>\n",
       "  <th>Barri_transport_NEITHER BAD, NOR GOOD</th>                        <td>    0.0780</td> <td>    0.388</td> <td>    0.201</td> <td> 0.841</td> <td>   -0.683</td> <td>    0.839</td>\n",
       "</tr>\n",
       "</table>"
      ],
      "text/plain": [
       "<class 'statsmodels.iolib.summary.Summary'>\n",
       "\"\"\"\n",
       "                         Generalized Linear Model Regression Results                          \n",
       "==============================================================================================\n",
       "Dep. Variable:     Would_live_in_another_neighborhood   No. Observations:                 1174\n",
       "Model:                                            GLM   Df Residuals:                     1137\n",
       "Model Family:                                Binomial   Df Model:                           36\n",
       "Link Function:                                  logit   Scale:                          1.0000\n",
       "Method:                                          IRLS   Log-Likelihood:                -384.58\n",
       "Date:                                Mon, 10 May 2021   Deviance:                       769.17\n",
       "Time:                                        07:55:39   Pearson chi2:                 1.20e+03\n",
       "No. Iterations:                                     6                                         \n",
       "Covariance Type:                            nonrobust                                         \n",
       "================================================================================================================================\n",
       "                                                                   coef    std err          z      P>|z|      [0.025      0.975]\n",
       "--------------------------------------------------------------------------------------------------------------------------------\n",
       "const                                                           -1.6511      0.502     -3.288      0.001      -2.635      -0.667\n",
       "Woman                                                           -0.0831      0.207     -0.401      0.688      -0.489       0.323\n",
       "Car                                                              0.2959      0.226      1.310      0.190      -0.147       0.739\n",
       "Support_with_housework                                          -0.0583      0.217     -0.268      0.788      -0.484       0.367\n",
       "Owner                                                            0.2509      0.268      0.937      0.349      -0.274       0.776\n",
       "Disability                                                       0.4080      0.370      1.103      0.270      -0.317       1.133\n",
       "Living_with_disabled_person                                     -0.2537      0.317     -0.800      0.424      -0.876       0.368\n",
       "Barri_association                                               -0.3546      0.252     -1.409      0.159      -0.848       0.139\n",
       "BCN_over_barri_evolution                                         0.0791      0.348      0.227      0.820      -0.603       0.761\n",
       "BCN_over_barri_future                                            0.4115      0.297      1.386      0.166      -0.170       0.993\n",
       "BCN_over_barri_satisfaction                                      1.1493      0.640      1.796      0.072      -0.105       2.403\n",
       "BCN_over_barri_transport                                        -0.7787      0.521     -1.494      0.135      -1.800       0.243\n",
       "BCN_over_barri_management                                       -0.2616      0.688     -0.380      0.704      -1.610       1.087\n",
       "BCN_over_barri_security                                         -0.0833      0.458     -0.182      0.856      -0.981       0.814\n",
       "House_size_101-150 M2                                           -0.7177      0.476     -1.508      0.132      -1.650       0.215\n",
       "House_size_51-100 M2                                            -0.4051      0.367     -1.104      0.270      -1.124       0.314\n",
       "House_size_> 150 M2                                             -0.2934      0.627     -0.468      0.640      -1.522       0.935\n",
       "House_size_I DON'T KNOW                                         -0.8326      0.559     -1.488      0.137      -1.929       0.264\n",
       "No_of_people_in_the_house_THREE OR MORE                          0.1004      0.328      0.306      0.759      -0.542       0.743\n",
       "No_of_people_in_the_house_TWO                                   -0.1481      0.240     -0.616      0.538      -0.619       0.323\n",
       "Financial_situation_BAD                                          0.0909      0.210      0.433      0.665      -0.321       0.503\n",
       "Time_living_in_barri_I HAVE ALWAYS LIVED IN THE NEIGHBORHOOD    -2.1281      0.528     -4.032      0.000      -3.163      -1.094\n",
       "Time_living_in_barri_MORE THAN 10 YEARS                         -0.9422      0.344     -2.736      0.006      -1.617      -0.267\n",
       "Barri_evolution_IT HAS WORSENED                                 -0.2820      0.287     -0.983      0.325      -0.844       0.280\n",
       "Barri_evolution_IT IS THE SAME                                  -0.3710      0.249     -1.490      0.136      -0.859       0.117\n",
       "Barri_future_IT WILL STAY THE SAME                              -0.1497      0.266     -0.563      0.573      -0.671       0.371\n",
       "Barri_future_IT WILL WORSEN                                     -0.0808      0.326     -0.248      0.804      -0.719       0.558\n",
       "Barri_satisfaction_FAIRLY SATISFIED                             -0.3433      0.598     -0.574      0.566      -1.516       0.829\n",
       "Barri_satisfaction_NOT SATISFIED                                 2.6009      1.350      1.926      0.054      -0.046       5.248\n",
       "Barri_security_BAD                                               0.4401      0.323      1.363      0.173      -0.193       1.073\n",
       "Barri_security_NEITHER BAD, NOR GOOD                             0.1455      0.228      0.639      0.523      -0.301       0.592\n",
       "Barri_management_BAD                                             0.2361      0.559      0.422      0.673      -0.859       1.332\n",
       "Barri_management_NEITHER BAD, NOR GOOD                           0.2082      0.219      0.948      0.343      -0.222       0.638\n",
       "Barri_comparison_NEITHER THE BEST, NOR THE WORST                 1.4137      0.212      6.682      0.000       0.999       1.828\n",
       "Barri_comparison_ONE OF THE WORST                                1.6968      0.413      4.104      0.000       0.886       2.507\n",
       "Barri_transport_BAD                                              0.2040      0.382      0.534      0.594      -0.545       0.953\n",
       "Barri_transport_NEITHER BAD, NOR GOOD                            0.0780      0.388      0.201      0.841      -0.683       0.839\n",
       "================================================================================================================================\n",
       "\"\"\""
      ]
     },
     "execution_count": 22,
     "metadata": {},
     "output_type": "execute_result"
    }
   ],
   "source": [
    "glm_logit = sm.GLM(y, x, family=sm.families.Binomial())\n",
    "glm_logit_results = glm_logit.fit()\n",
    "glm_logit_results.summary()"
   ]
  },
  {
   "cell_type": "code",
   "execution_count": 23,
   "metadata": {},
   "outputs": [
    {
     "data": {
      "text/plain": [
       "843.167098686094"
      ]
     },
     "execution_count": 23,
     "metadata": {},
     "output_type": "execute_result"
    }
   ],
   "source": [
    "glm_logit_results.aic"
   ]
  },
  {
   "cell_type": "code",
   "execution_count": 24,
   "metadata": {},
   "outputs": [
    {
     "name": "stderr",
     "output_type": "stream",
     "text": [
      "C:\\Users\\THINK\\anaconda3\\lib\\site-packages\\statsmodels\\genmod\\generalized_linear_model.py:1731: FutureWarning: The bic value is computed using the deviance formula. After 0.13 this will change to the log-likelihood based formula. This change has no impact on the relative rank of models compared using BIC. You can directly access the log-likelihood version using the `bic_llf` attribute. You can suppress this message by calling statsmodels.genmod.generalized_linear_model.SET_USE_BIC_LLF with True to get the LLF-based version now or False to retainthe deviance version.\n",
      "  FutureWarning\n"
     ]
    },
    {
     "data": {
      "text/plain": [
       "-7267.34446575511"
      ]
     },
     "execution_count": 24,
     "metadata": {},
     "output_type": "execute_result"
    }
   ],
   "source": [
    "glm_logit_results.bic"
   ]
  },
  {
   "cell_type": "code",
   "execution_count": 25,
   "metadata": {},
   "outputs": [
    {
     "data": {
      "text/plain": [
       "BCN_over_barri_security                                         8.555888e-01\n",
       "Barri_transport_NEITHER BAD, NOR GOOD                           8.408699e-01\n",
       "BCN_over_barri_evolution                                        8.201745e-01\n",
       "Barri_future_IT WILL WORSEN                                     8.040117e-01\n",
       "Support_with_housework                                          7.883499e-01\n",
       "No_of_people_in_the_house_THREE OR MORE                         7.592878e-01\n",
       "BCN_over_barri_management                                       7.036785e-01\n",
       "Woman                                                           6.881677e-01\n",
       "Barri_management_BAD                                            6.727678e-01\n",
       "Financial_situation_BAD                                         6.653441e-01\n",
       "House_size_> 150 M2                                             6.398366e-01\n",
       "Barri_transport_BAD                                             5.936606e-01\n",
       "Barri_future_IT WILL STAY THE SAME                              5.733969e-01\n",
       "Barri_satisfaction_FAIRLY SATISFIED                             5.661599e-01\n",
       "No_of_people_in_the_house_TWO                                   5.380539e-01\n",
       "Barri_security_NEITHER BAD, NOR GOOD                            5.228584e-01\n",
       "Living_with_disabled_person                                     4.239200e-01\n",
       "Owner                                                           3.485592e-01\n",
       "Barri_management_NEITHER BAD, NOR GOOD                          3.429156e-01\n",
       "Barri_evolution_IT HAS WORSENED                                 3.254490e-01\n",
       "Disability                                                      2.698831e-01\n",
       "House_size_51-100 M2                                            2.696114e-01\n",
       "Car                                                             1.902643e-01\n",
       "Barri_security_BAD                                              1.728376e-01\n",
       "BCN_over_barri_future                                           1.656412e-01\n",
       "Barri_association                                               1.588129e-01\n",
       "House_size_I DON'T KNOW                                         1.366337e-01\n",
       "Barri_evolution_IT IS THE SAME                                  1.363274e-01\n",
       "BCN_over_barri_transport                                        1.351765e-01\n",
       "House_size_101-150 M2                                           1.315539e-01\n",
       "BCN_over_barri_satisfaction                                     7.248370e-02\n",
       "Barri_satisfaction_NOT SATISFIED                                5.411057e-02\n",
       "Time_living_in_barri_MORE THAN 10 YEARS                         6.217047e-03\n",
       "const                                                           1.010305e-03\n",
       "Time_living_in_barri_I HAVE ALWAYS LIVED IN THE NEIGHBORHOOD    5.536843e-05\n",
       "Barri_comparison_ONE OF THE WORST                               4.066681e-05\n",
       "Barri_comparison_NEITHER THE BEST, NOR THE WORST                2.357075e-11\n",
       "dtype: float64"
      ]
     },
     "execution_count": 25,
     "metadata": {},
     "output_type": "execute_result"
    }
   ],
   "source": [
    "glm_logit_results.pvalues.sort_values(ascending=False)"
   ]
  },
  {
   "cell_type": "code",
   "execution_count": null,
   "metadata": {},
   "outputs": [],
   "source": []
  },
  {
   "cell_type": "code",
   "execution_count": 26,
   "metadata": {},
   "outputs": [],
   "source": [
    "for i in ['BCN_over_barri_security', \n",
    "          'Barri_transport_NEITHER BAD, NOR GOOD', 'Barri_transport_BAD',\n",
    "          'BCN_over_barri_evolution',\n",
    "          'Barri_future_IT WILL WORSEN', 'Barri_future_IT WILL STAY THE SAME',\n",
    "          'Support_with_housework',\n",
    "          'No_of_people_in_the_house_THREE OR MORE', 'No_of_people_in_the_house_TWO',\n",
    "          'BCN_over_barri_management', \n",
    "          'Woman',\n",
    "          'Barri_management_BAD', 'Barri_management_NEITHER BAD, NOR GOOD',\n",
    "          'Financial_situation_BAD',\n",
    "          'Living_with_disabled_person',\n",
    "          'Owner',\n",
    "          'Barri_evolution_IT HAS WORSENED', 'Barri_evolution_IT IS THE SAME']:\n",
    "    del x[i]"
   ]
  },
  {
   "cell_type": "code",
   "execution_count": 27,
   "metadata": {},
   "outputs": [
    {
     "data": {
      "text/html": [
       "<table class=\"simpletable\">\n",
       "<caption>Generalized Linear Model Regression Results</caption>\n",
       "<tr>\n",
       "  <th>Dep. Variable:</th>   <td>Would_live_in_another_neighborhood</td> <th>  No. Observations:  </th>  <td>  1174</td> \n",
       "</tr>\n",
       "<tr>\n",
       "  <th>Model:</th>                           <td>GLM</td>                <th>  Df Residuals:      </th>  <td>  1155</td> \n",
       "</tr>\n",
       "<tr>\n",
       "  <th>Model Family:</th>                 <td>Binomial</td>              <th>  Df Model:          </th>  <td>    18</td> \n",
       "</tr>\n",
       "<tr>\n",
       "  <th>Link Function:</th>                  <td>logit</td>               <th>  Scale:             </th> <td>  1.0000</td>\n",
       "</tr>\n",
       "<tr>\n",
       "  <th>Method:</th>                         <td>IRLS</td>                <th>  Log-Likelihood:    </th> <td> -388.30</td>\n",
       "</tr>\n",
       "<tr>\n",
       "  <th>Date:</th>                     <td>Mon, 10 May 2021</td>          <th>  Deviance:          </th> <td>  776.61</td>\n",
       "</tr>\n",
       "<tr>\n",
       "  <th>Time:</th>                         <td>07:55:39</td>              <th>  Pearson chi2:      </th> <td>1.20e+03</td>\n",
       "</tr>\n",
       "<tr>\n",
       "  <th>No. Iterations:</th>                   <td>6</td>                 <th>                     </th>     <td> </td>   \n",
       "</tr>\n",
       "<tr>\n",
       "  <th>Covariance Type:</th>              <td>nonrobust</td>             <th>                     </th>     <td> </td>   \n",
       "</tr>\n",
       "</table>\n",
       "<table class=\"simpletable\">\n",
       "<tr>\n",
       "                                <td></td>                                  <th>coef</th>     <th>std err</th>      <th>z</th>      <th>P>|z|</th>  <th>[0.025</th>    <th>0.975]</th>  \n",
       "</tr>\n",
       "<tr>\n",
       "  <th>const</th>                                                        <td>   -1.7329</td> <td>    0.434</td> <td>   -3.991</td> <td> 0.000</td> <td>   -2.584</td> <td>   -0.882</td>\n",
       "</tr>\n",
       "<tr>\n",
       "  <th>Car</th>                                                          <td>    0.2794</td> <td>    0.198</td> <td>    1.408</td> <td> 0.159</td> <td>   -0.110</td> <td>    0.668</td>\n",
       "</tr>\n",
       "<tr>\n",
       "  <th>Disability</th>                                                   <td>    0.2210</td> <td>    0.237</td> <td>    0.932</td> <td> 0.352</td> <td>   -0.244</td> <td>    0.686</td>\n",
       "</tr>\n",
       "<tr>\n",
       "  <th>Barri_association</th>                                            <td>   -0.3216</td> <td>    0.247</td> <td>   -1.303</td> <td> 0.193</td> <td>   -0.805</td> <td>    0.162</td>\n",
       "</tr>\n",
       "<tr>\n",
       "  <th>BCN_over_barri_future</th>                                        <td>    0.2875</td> <td>    0.247</td> <td>    1.165</td> <td> 0.244</td> <td>   -0.196</td> <td>    0.771</td>\n",
       "</tr>\n",
       "<tr>\n",
       "  <th>BCN_over_barri_satisfaction</th>                                  <td>    1.1548</td> <td>    0.616</td> <td>    1.874</td> <td> 0.061</td> <td>   -0.053</td> <td>    2.362</td>\n",
       "</tr>\n",
       "<tr>\n",
       "  <th>BCN_over_barri_transport</th>                                     <td>   -0.6224</td> <td>    0.384</td> <td>   -1.623</td> <td> 0.105</td> <td>   -1.374</td> <td>    0.129</td>\n",
       "</tr>\n",
       "<tr>\n",
       "  <th>House_size_101-150 M2</th>                                        <td>   -0.7172</td> <td>    0.450</td> <td>   -1.595</td> <td> 0.111</td> <td>   -1.599</td> <td>    0.164</td>\n",
       "</tr>\n",
       "<tr>\n",
       "  <th>House_size_51-100 M2</th>                                         <td>   -0.4152</td> <td>    0.350</td> <td>   -1.187</td> <td> 0.235</td> <td>   -1.101</td> <td>    0.271</td>\n",
       "</tr>\n",
       "<tr>\n",
       "  <th>House_size_> 150 M2</th>                                          <td>   -0.3239</td> <td>    0.604</td> <td>   -0.536</td> <td> 0.592</td> <td>   -1.509</td> <td>    0.861</td>\n",
       "</tr>\n",
       "<tr>\n",
       "  <th>House_size_I DON'T KNOW</th>                                      <td>   -0.8824</td> <td>    0.548</td> <td>   -1.611</td> <td> 0.107</td> <td>   -1.956</td> <td>    0.191</td>\n",
       "</tr>\n",
       "<tr>\n",
       "  <th>Time_living_in_barri_I HAVE ALWAYS LIVED IN THE NEIGHBORHOOD</th> <td>   -2.0417</td> <td>    0.519</td> <td>   -3.936</td> <td> 0.000</td> <td>   -3.059</td> <td>   -1.025</td>\n",
       "</tr>\n",
       "<tr>\n",
       "  <th>Time_living_in_barri_MORE THAN 10 YEARS</th>                      <td>   -0.8599</td> <td>    0.328</td> <td>   -2.625</td> <td> 0.009</td> <td>   -1.502</td> <td>   -0.218</td>\n",
       "</tr>\n",
       "<tr>\n",
       "  <th>Barri_satisfaction_FAIRLY SATISFIED</th>                          <td>   -0.3337</td> <td>    0.569</td> <td>   -0.587</td> <td> 0.557</td> <td>   -1.448</td> <td>    0.781</td>\n",
       "</tr>\n",
       "<tr>\n",
       "  <th>Barri_satisfaction_NOT SATISFIED</th>                             <td>    2.3725</td> <td>    1.258</td> <td>    1.885</td> <td> 0.059</td> <td>   -0.094</td> <td>    4.839</td>\n",
       "</tr>\n",
       "<tr>\n",
       "  <th>Barri_security_BAD</th>                                           <td>    0.4173</td> <td>    0.266</td> <td>    1.566</td> <td> 0.117</td> <td>   -0.105</td> <td>    0.940</td>\n",
       "</tr>\n",
       "<tr>\n",
       "  <th>Barri_security_NEITHER BAD, NOR GOOD</th>                         <td>    0.1458</td> <td>    0.219</td> <td>    0.665</td> <td> 0.506</td> <td>   -0.284</td> <td>    0.575</td>\n",
       "</tr>\n",
       "<tr>\n",
       "  <th>Barri_comparison_NEITHER THE BEST, NOR THE WORST</th>             <td>    1.3841</td> <td>    0.208</td> <td>    6.639</td> <td> 0.000</td> <td>    0.976</td> <td>    1.793</td>\n",
       "</tr>\n",
       "<tr>\n",
       "  <th>Barri_comparison_ONE OF THE WORST</th>                            <td>    1.7269</td> <td>    0.400</td> <td>    4.322</td> <td> 0.000</td> <td>    0.944</td> <td>    2.510</td>\n",
       "</tr>\n",
       "</table>"
      ],
      "text/plain": [
       "<class 'statsmodels.iolib.summary.Summary'>\n",
       "\"\"\"\n",
       "                         Generalized Linear Model Regression Results                          \n",
       "==============================================================================================\n",
       "Dep. Variable:     Would_live_in_another_neighborhood   No. Observations:                 1174\n",
       "Model:                                            GLM   Df Residuals:                     1155\n",
       "Model Family:                                Binomial   Df Model:                           18\n",
       "Link Function:                                  logit   Scale:                          1.0000\n",
       "Method:                                          IRLS   Log-Likelihood:                -388.30\n",
       "Date:                                Mon, 10 May 2021   Deviance:                       776.61\n",
       "Time:                                        07:55:39   Pearson chi2:                 1.20e+03\n",
       "No. Iterations:                                     6                                         \n",
       "Covariance Type:                            nonrobust                                         \n",
       "================================================================================================================================\n",
       "                                                                   coef    std err          z      P>|z|      [0.025      0.975]\n",
       "--------------------------------------------------------------------------------------------------------------------------------\n",
       "const                                                           -1.7329      0.434     -3.991      0.000      -2.584      -0.882\n",
       "Car                                                              0.2794      0.198      1.408      0.159      -0.110       0.668\n",
       "Disability                                                       0.2210      0.237      0.932      0.352      -0.244       0.686\n",
       "Barri_association                                               -0.3216      0.247     -1.303      0.193      -0.805       0.162\n",
       "BCN_over_barri_future                                            0.2875      0.247      1.165      0.244      -0.196       0.771\n",
       "BCN_over_barri_satisfaction                                      1.1548      0.616      1.874      0.061      -0.053       2.362\n",
       "BCN_over_barri_transport                                        -0.6224      0.384     -1.623      0.105      -1.374       0.129\n",
       "House_size_101-150 M2                                           -0.7172      0.450     -1.595      0.111      -1.599       0.164\n",
       "House_size_51-100 M2                                            -0.4152      0.350     -1.187      0.235      -1.101       0.271\n",
       "House_size_> 150 M2                                             -0.3239      0.604     -0.536      0.592      -1.509       0.861\n",
       "House_size_I DON'T KNOW                                         -0.8824      0.548     -1.611      0.107      -1.956       0.191\n",
       "Time_living_in_barri_I HAVE ALWAYS LIVED IN THE NEIGHBORHOOD    -2.0417      0.519     -3.936      0.000      -3.059      -1.025\n",
       "Time_living_in_barri_MORE THAN 10 YEARS                         -0.8599      0.328     -2.625      0.009      -1.502      -0.218\n",
       "Barri_satisfaction_FAIRLY SATISFIED                             -0.3337      0.569     -0.587      0.557      -1.448       0.781\n",
       "Barri_satisfaction_NOT SATISFIED                                 2.3725      1.258      1.885      0.059      -0.094       4.839\n",
       "Barri_security_BAD                                               0.4173      0.266      1.566      0.117      -0.105       0.940\n",
       "Barri_security_NEITHER BAD, NOR GOOD                             0.1458      0.219      0.665      0.506      -0.284       0.575\n",
       "Barri_comparison_NEITHER THE BEST, NOR THE WORST                 1.3841      0.208      6.639      0.000       0.976       1.793\n",
       "Barri_comparison_ONE OF THE WORST                                1.7269      0.400      4.322      0.000       0.944       2.510\n",
       "================================================================================================================================\n",
       "\"\"\""
      ]
     },
     "execution_count": 27,
     "metadata": {},
     "output_type": "execute_result"
    }
   ],
   "source": [
    "glm_logit = sm.GLM(y, x, family=sm.families.Binomial())\n",
    "glm_logit_results = glm_logit.fit()\n",
    "glm_logit_results.summary()"
   ]
  },
  {
   "cell_type": "code",
   "execution_count": 28,
   "metadata": {},
   "outputs": [
    {
     "data": {
      "text/plain": [
       "814.6069095963435"
      ]
     },
     "execution_count": 28,
     "metadata": {},
     "output_type": "execute_result"
    }
   ],
   "source": [
    "glm_logit_results.aic"
   ]
  },
  {
   "cell_type": "code",
   "execution_count": 29,
   "metadata": {},
   "outputs": [
    {
     "name": "stderr",
     "output_type": "stream",
     "text": [
      "C:\\Users\\THINK\\anaconda3\\lib\\site-packages\\statsmodels\\genmod\\generalized_linear_model.py:1731: FutureWarning: The bic value is computed using the deviance formula. After 0.13 this will change to the log-likelihood based formula. This change has no impact on the relative rank of models compared using BIC. You can directly access the log-likelihood version using the `bic_llf` attribute. You can suppress this message by calling statsmodels.genmod.generalized_linear_model.SET_USE_BIC_LLF with True to get the LLF-based version now or False to retainthe deviance version.\n",
      "  FutureWarning\n"
     ]
    },
    {
     "data": {
      "text/plain": [
       "-7387.131750851846"
      ]
     },
     "execution_count": 29,
     "metadata": {},
     "output_type": "execute_result"
    }
   ],
   "source": [
    "glm_logit_results.bic"
   ]
  },
  {
   "cell_type": "code",
   "execution_count": 30,
   "metadata": {},
   "outputs": [
    {
     "data": {
      "text/plain": [
       "House_size_> 150 M2                                             5.920576e-01\n",
       "Barri_satisfaction_FAIRLY SATISFIED                             5.572292e-01\n",
       "Barri_security_NEITHER BAD, NOR GOOD                            5.060778e-01\n",
       "Disability                                                      3.515676e-01\n",
       "BCN_over_barri_future                                           2.438381e-01\n",
       "House_size_51-100 M2                                            2.353125e-01\n",
       "Barri_association                                               1.925844e-01\n",
       "Car                                                             1.591564e-01\n",
       "Barri_security_BAD                                              1.173587e-01\n",
       "House_size_101-150 M2                                           1.107579e-01\n",
       "House_size_I DON'T KNOW                                         1.071568e-01\n",
       "BCN_over_barri_transport                                        1.046880e-01\n",
       "BCN_over_barri_satisfaction                                     6.089526e-02\n",
       "Barri_satisfaction_NOT SATISFIED                                5.938095e-02\n",
       "Time_living_in_barri_MORE THAN 10 YEARS                         8.668419e-03\n",
       "Time_living_in_barri_I HAVE ALWAYS LIVED IN THE NEIGHBORHOOD    8.296911e-05\n",
       "const                                                           6.591550e-05\n",
       "Barri_comparison_ONE OF THE WORST                               1.543304e-05\n",
       "Barri_comparison_NEITHER THE BEST, NOR THE WORST                3.156040e-11\n",
       "dtype: float64"
      ]
     },
     "execution_count": 30,
     "metadata": {},
     "output_type": "execute_result"
    }
   ],
   "source": [
    "glm_logit_results.pvalues.sort_values(ascending=False)"
   ]
  },
  {
   "cell_type": "code",
   "execution_count": null,
   "metadata": {},
   "outputs": [],
   "source": []
  },
  {
   "cell_type": "code",
   "execution_count": 31,
   "metadata": {},
   "outputs": [],
   "source": [
    "for i in ['House_size_> 150 M2', 'House_size_51-100 M2', 'House_size_101-150 M2', \"House_size_I DON'T KNOW\",\n",
    "          'Barri_security_NEITHER BAD, NOR GOOD', 'Barri_security_BAD',\n",
    "          'Disability',\n",
    "          'BCN_over_barri_future']:\n",
    "    del x[i]"
   ]
  },
  {
   "cell_type": "code",
   "execution_count": 32,
   "metadata": {},
   "outputs": [
    {
     "data": {
      "text/html": [
       "<table class=\"simpletable\">\n",
       "<caption>Generalized Linear Model Regression Results</caption>\n",
       "<tr>\n",
       "  <th>Dep. Variable:</th>   <td>Would_live_in_another_neighborhood</td> <th>  No. Observations:  </th>  <td>  1174</td> \n",
       "</tr>\n",
       "<tr>\n",
       "  <th>Model:</th>                           <td>GLM</td>                <th>  Df Residuals:      </th>  <td>  1163</td> \n",
       "</tr>\n",
       "<tr>\n",
       "  <th>Model Family:</th>                 <td>Binomial</td>              <th>  Df Model:          </th>  <td>    10</td> \n",
       "</tr>\n",
       "<tr>\n",
       "  <th>Link Function:</th>                  <td>logit</td>               <th>  Scale:             </th> <td>  1.0000</td>\n",
       "</tr>\n",
       "<tr>\n",
       "  <th>Method:</th>                         <td>IRLS</td>                <th>  Log-Likelihood:    </th> <td> -392.64</td>\n",
       "</tr>\n",
       "<tr>\n",
       "  <th>Date:</th>                     <td>Mon, 10 May 2021</td>          <th>  Deviance:          </th> <td>  785.28</td>\n",
       "</tr>\n",
       "<tr>\n",
       "  <th>Time:</th>                         <td>07:55:39</td>              <th>  Pearson chi2:      </th> <td>1.20e+03</td>\n",
       "</tr>\n",
       "<tr>\n",
       "  <th>No. Iterations:</th>                   <td>6</td>                 <th>                     </th>     <td> </td>   \n",
       "</tr>\n",
       "<tr>\n",
       "  <th>Covariance Type:</th>              <td>nonrobust</td>             <th>                     </th>     <td> </td>   \n",
       "</tr>\n",
       "</table>\n",
       "<table class=\"simpletable\">\n",
       "<tr>\n",
       "                                <td></td>                                  <th>coef</th>     <th>std err</th>      <th>z</th>      <th>P>|z|</th>  <th>[0.025</th>    <th>0.975]</th>  \n",
       "</tr>\n",
       "<tr>\n",
       "  <th>const</th>                                                        <td>   -2.0310</td> <td>    0.332</td> <td>   -6.125</td> <td> 0.000</td> <td>   -2.681</td> <td>   -1.381</td>\n",
       "</tr>\n",
       "<tr>\n",
       "  <th>Car</th>                                                          <td>    0.2674</td> <td>    0.190</td> <td>    1.410</td> <td> 0.159</td> <td>   -0.104</td> <td>    0.639</td>\n",
       "</tr>\n",
       "<tr>\n",
       "  <th>Barri_association</th>                                            <td>   -0.3362</td> <td>    0.245</td> <td>   -1.374</td> <td> 0.170</td> <td>   -0.816</td> <td>    0.144</td>\n",
       "</tr>\n",
       "<tr>\n",
       "  <th>BCN_over_barri_satisfaction</th>                                  <td>    1.2272</td> <td>    0.606</td> <td>    2.027</td> <td> 0.043</td> <td>    0.040</td> <td>    2.414</td>\n",
       "</tr>\n",
       "<tr>\n",
       "  <th>BCN_over_barri_transport</th>                                     <td>   -0.5764</td> <td>    0.381</td> <td>   -1.512</td> <td> 0.130</td> <td>   -1.323</td> <td>    0.171</td>\n",
       "</tr>\n",
       "<tr>\n",
       "  <th>Time_living_in_barri_I HAVE ALWAYS LIVED IN THE NEIGHBORHOOD</th> <td>   -1.9318</td> <td>    0.509</td> <td>   -3.794</td> <td> 0.000</td> <td>   -2.930</td> <td>   -0.934</td>\n",
       "</tr>\n",
       "<tr>\n",
       "  <th>Time_living_in_barri_MORE THAN 10 YEARS</th>                      <td>   -0.8069</td> <td>    0.318</td> <td>   -2.541</td> <td> 0.011</td> <td>   -1.429</td> <td>   -0.185</td>\n",
       "</tr>\n",
       "<tr>\n",
       "  <th>Barri_satisfaction_FAIRLY SATISFIED</th>                          <td>   -0.2607</td> <td>    0.557</td> <td>   -0.468</td> <td> 0.640</td> <td>   -1.353</td> <td>    0.832</td>\n",
       "</tr>\n",
       "<tr>\n",
       "  <th>Barri_satisfaction_NOT SATISFIED</th>                             <td>    2.4164</td> <td>    1.244</td> <td>    1.943</td> <td> 0.052</td> <td>   -0.022</td> <td>    4.854</td>\n",
       "</tr>\n",
       "<tr>\n",
       "  <th>Barri_comparison_NEITHER THE BEST, NOR THE WORST</th>             <td>    1.4247</td> <td>    0.203</td> <td>    7.012</td> <td> 0.000</td> <td>    1.027</td> <td>    1.823</td>\n",
       "</tr>\n",
       "<tr>\n",
       "  <th>Barri_comparison_ONE OF THE WORST</th>                            <td>    1.8505</td> <td>    0.392</td> <td>    4.725</td> <td> 0.000</td> <td>    1.083</td> <td>    2.618</td>\n",
       "</tr>\n",
       "</table>"
      ],
      "text/plain": [
       "<class 'statsmodels.iolib.summary.Summary'>\n",
       "\"\"\"\n",
       "                         Generalized Linear Model Regression Results                          \n",
       "==============================================================================================\n",
       "Dep. Variable:     Would_live_in_another_neighborhood   No. Observations:                 1174\n",
       "Model:                                            GLM   Df Residuals:                     1163\n",
       "Model Family:                                Binomial   Df Model:                           10\n",
       "Link Function:                                  logit   Scale:                          1.0000\n",
       "Method:                                          IRLS   Log-Likelihood:                -392.64\n",
       "Date:                                Mon, 10 May 2021   Deviance:                       785.28\n",
       "Time:                                        07:55:39   Pearson chi2:                 1.20e+03\n",
       "No. Iterations:                                     6                                         \n",
       "Covariance Type:                            nonrobust                                         \n",
       "================================================================================================================================\n",
       "                                                                   coef    std err          z      P>|z|      [0.025      0.975]\n",
       "--------------------------------------------------------------------------------------------------------------------------------\n",
       "const                                                           -2.0310      0.332     -6.125      0.000      -2.681      -1.381\n",
       "Car                                                              0.2674      0.190      1.410      0.159      -0.104       0.639\n",
       "Barri_association                                               -0.3362      0.245     -1.374      0.170      -0.816       0.144\n",
       "BCN_over_barri_satisfaction                                      1.2272      0.606      2.027      0.043       0.040       2.414\n",
       "BCN_over_barri_transport                                        -0.5764      0.381     -1.512      0.130      -1.323       0.171\n",
       "Time_living_in_barri_I HAVE ALWAYS LIVED IN THE NEIGHBORHOOD    -1.9318      0.509     -3.794      0.000      -2.930      -0.934\n",
       "Time_living_in_barri_MORE THAN 10 YEARS                         -0.8069      0.318     -2.541      0.011      -1.429      -0.185\n",
       "Barri_satisfaction_FAIRLY SATISFIED                             -0.2607      0.557     -0.468      0.640      -1.353       0.832\n",
       "Barri_satisfaction_NOT SATISFIED                                 2.4164      1.244      1.943      0.052      -0.022       4.854\n",
       "Barri_comparison_NEITHER THE BEST, NOR THE WORST                 1.4247      0.203      7.012      0.000       1.027       1.823\n",
       "Barri_comparison_ONE OF THE WORST                                1.8505      0.392      4.725      0.000       1.083       2.618\n",
       "================================================================================================================================\n",
       "\"\"\""
      ]
     },
     "execution_count": 32,
     "metadata": {},
     "output_type": "execute_result"
    }
   ],
   "source": [
    "glm_logit = sm.GLM(y, x, family=sm.families.Binomial())\n",
    "glm_logit_results = glm_logit.fit()\n",
    "glm_logit_results.summary()"
   ]
  },
  {
   "cell_type": "code",
   "execution_count": 33,
   "metadata": {},
   "outputs": [
    {
     "data": {
      "text/plain": [
       "807.2756625463222"
      ]
     },
     "execution_count": 33,
     "metadata": {},
     "output_type": "execute_result"
    }
   ],
   "source": [
    "glm_logit_results.aic"
   ]
  },
  {
   "cell_type": "code",
   "execution_count": 34,
   "metadata": {},
   "outputs": [
    {
     "name": "stderr",
     "output_type": "stream",
     "text": [
      "C:\\Users\\THINK\\anaconda3\\lib\\site-packages\\statsmodels\\genmod\\generalized_linear_model.py:1731: FutureWarning: The bic value is computed using the deviance formula. After 0.13 this will change to the log-likelihood based formula. This change has no impact on the relative rank of models compared using BIC. You can directly access the log-likelihood version using the `bic_llf` attribute. You can suppress this message by calling statsmodels.genmod.generalized_linear_model.SET_USE_BIC_LLF with True to get the LLF-based version now or False to retainthe deviance version.\n",
      "  FutureWarning\n"
     ]
    },
    {
     "data": {
      "text/plain": [
       "-7435.00837390497"
      ]
     },
     "execution_count": 34,
     "metadata": {},
     "output_type": "execute_result"
    }
   ],
   "source": [
    "glm_logit_results.bic"
   ]
  },
  {
   "cell_type": "code",
   "execution_count": 35,
   "metadata": {},
   "outputs": [
    {
     "data": {
      "text/plain": [
       "Barri_satisfaction_FAIRLY SATISFIED                             6.400547e-01\n",
       "Barri_association                                               1.695727e-01\n",
       "Car                                                             1.586384e-01\n",
       "BCN_over_barri_transport                                        1.304738e-01\n",
       "Barri_satisfaction_NOT SATISFIED                                5.206538e-02\n",
       "BCN_over_barri_satisfaction                                     4.270883e-02\n",
       "Time_living_in_barri_MORE THAN 10 YEARS                         1.105484e-02\n",
       "Time_living_in_barri_I HAVE ALWAYS LIVED IN THE NEIGHBORHOOD    1.484941e-04\n",
       "Barri_comparison_ONE OF THE WORST                               2.297955e-06\n",
       "const                                                           9.063157e-10\n",
       "Barri_comparison_NEITHER THE BEST, NOR THE WORST                2.342330e-12\n",
       "dtype: float64"
      ]
     },
     "execution_count": 35,
     "metadata": {},
     "output_type": "execute_result"
    }
   ],
   "source": [
    "glm_logit_results.pvalues.sort_values(ascending=False)"
   ]
  },
  {
   "cell_type": "code",
   "execution_count": null,
   "metadata": {},
   "outputs": [],
   "source": []
  },
  {
   "cell_type": "code",
   "execution_count": 36,
   "metadata": {},
   "outputs": [],
   "source": [
    "for i in ['Barri_association', 'Car']:\n",
    "    del x[i]"
   ]
  },
  {
   "cell_type": "code",
   "execution_count": 37,
   "metadata": {},
   "outputs": [
    {
     "data": {
      "text/html": [
       "<table class=\"simpletable\">\n",
       "<caption>Generalized Linear Model Regression Results</caption>\n",
       "<tr>\n",
       "  <th>Dep. Variable:</th>   <td>Would_live_in_another_neighborhood</td> <th>  No. Observations:  </th>  <td>  1174</td> \n",
       "</tr>\n",
       "<tr>\n",
       "  <th>Model:</th>                           <td>GLM</td>                <th>  Df Residuals:      </th>  <td>  1165</td> \n",
       "</tr>\n",
       "<tr>\n",
       "  <th>Model Family:</th>                 <td>Binomial</td>              <th>  Df Model:          </th>  <td>     8</td> \n",
       "</tr>\n",
       "<tr>\n",
       "  <th>Link Function:</th>                  <td>logit</td>               <th>  Scale:             </th> <td>  1.0000</td>\n",
       "</tr>\n",
       "<tr>\n",
       "  <th>Method:</th>                         <td>IRLS</td>                <th>  Log-Likelihood:    </th> <td> -394.52</td>\n",
       "</tr>\n",
       "<tr>\n",
       "  <th>Date:</th>                     <td>Mon, 10 May 2021</td>          <th>  Deviance:          </th> <td>  789.05</td>\n",
       "</tr>\n",
       "<tr>\n",
       "  <th>Time:</th>                         <td>07:55:39</td>              <th>  Pearson chi2:      </th> <td>1.20e+03</td>\n",
       "</tr>\n",
       "<tr>\n",
       "  <th>No. Iterations:</th>                   <td>6</td>                 <th>                     </th>     <td> </td>   \n",
       "</tr>\n",
       "<tr>\n",
       "  <th>Covariance Type:</th>              <td>nonrobust</td>             <th>                     </th>     <td> </td>   \n",
       "</tr>\n",
       "</table>\n",
       "<table class=\"simpletable\">\n",
       "<tr>\n",
       "                                <td></td>                                  <th>coef</th>     <th>std err</th>      <th>z</th>      <th>P>|z|</th>  <th>[0.025</th>    <th>0.975]</th>  \n",
       "</tr>\n",
       "<tr>\n",
       "  <th>const</th>                                                        <td>   -1.9981</td> <td>    0.320</td> <td>   -6.241</td> <td> 0.000</td> <td>   -2.626</td> <td>   -1.371</td>\n",
       "</tr>\n",
       "<tr>\n",
       "  <th>BCN_over_barri_satisfaction</th>                                  <td>    1.2280</td> <td>    0.606</td> <td>    2.028</td> <td> 0.043</td> <td>    0.041</td> <td>    2.415</td>\n",
       "</tr>\n",
       "<tr>\n",
       "  <th>BCN_over_barri_transport</th>                                     <td>   -0.5766</td> <td>    0.380</td> <td>   -1.516</td> <td> 0.129</td> <td>   -1.322</td> <td>    0.169</td>\n",
       "</tr>\n",
       "<tr>\n",
       "  <th>Time_living_in_barri_I HAVE ALWAYS LIVED IN THE NEIGHBORHOOD</th> <td>   -1.8835</td> <td>    0.507</td> <td>   -3.717</td> <td> 0.000</td> <td>   -2.877</td> <td>   -0.890</td>\n",
       "</tr>\n",
       "<tr>\n",
       "  <th>Time_living_in_barri_MORE THAN 10 YEARS</th>                      <td>   -0.7452</td> <td>    0.315</td> <td>   -2.369</td> <td> 0.018</td> <td>   -1.362</td> <td>   -0.129</td>\n",
       "</tr>\n",
       "<tr>\n",
       "  <th>Barri_satisfaction_FAIRLY SATISFIED</th>                          <td>   -0.2804</td> <td>    0.558</td> <td>   -0.502</td> <td> 0.615</td> <td>   -1.374</td> <td>    0.814</td>\n",
       "</tr>\n",
       "<tr>\n",
       "  <th>Barri_satisfaction_NOT SATISFIED</th>                             <td>    2.4712</td> <td>    1.248</td> <td>    1.980</td> <td> 0.048</td> <td>    0.025</td> <td>    4.918</td>\n",
       "</tr>\n",
       "<tr>\n",
       "  <th>Barri_comparison_NEITHER THE BEST, NOR THE WORST</th>             <td>    1.4279</td> <td>    0.202</td> <td>    7.052</td> <td> 0.000</td> <td>    1.031</td> <td>    1.825</td>\n",
       "</tr>\n",
       "<tr>\n",
       "  <th>Barri_comparison_ONE OF THE WORST</th>                            <td>    1.8370</td> <td>    0.391</td> <td>    4.703</td> <td> 0.000</td> <td>    1.071</td> <td>    2.603</td>\n",
       "</tr>\n",
       "</table>"
      ],
      "text/plain": [
       "<class 'statsmodels.iolib.summary.Summary'>\n",
       "\"\"\"\n",
       "                         Generalized Linear Model Regression Results                          \n",
       "==============================================================================================\n",
       "Dep. Variable:     Would_live_in_another_neighborhood   No. Observations:                 1174\n",
       "Model:                                            GLM   Df Residuals:                     1165\n",
       "Model Family:                                Binomial   Df Model:                            8\n",
       "Link Function:                                  logit   Scale:                          1.0000\n",
       "Method:                                          IRLS   Log-Likelihood:                -394.52\n",
       "Date:                                Mon, 10 May 2021   Deviance:                       789.05\n",
       "Time:                                        07:55:39   Pearson chi2:                 1.20e+03\n",
       "No. Iterations:                                     6                                         \n",
       "Covariance Type:                            nonrobust                                         \n",
       "================================================================================================================================\n",
       "                                                                   coef    std err          z      P>|z|      [0.025      0.975]\n",
       "--------------------------------------------------------------------------------------------------------------------------------\n",
       "const                                                           -1.9981      0.320     -6.241      0.000      -2.626      -1.371\n",
       "BCN_over_barri_satisfaction                                      1.2280      0.606      2.028      0.043       0.041       2.415\n",
       "BCN_over_barri_transport                                        -0.5766      0.380     -1.516      0.129      -1.322       0.169\n",
       "Time_living_in_barri_I HAVE ALWAYS LIVED IN THE NEIGHBORHOOD    -1.8835      0.507     -3.717      0.000      -2.877      -0.890\n",
       "Time_living_in_barri_MORE THAN 10 YEARS                         -0.7452      0.315     -2.369      0.018      -1.362      -0.129\n",
       "Barri_satisfaction_FAIRLY SATISFIED                             -0.2804      0.558     -0.502      0.615      -1.374       0.814\n",
       "Barri_satisfaction_NOT SATISFIED                                 2.4712      1.248      1.980      0.048       0.025       4.918\n",
       "Barri_comparison_NEITHER THE BEST, NOR THE WORST                 1.4279      0.202      7.052      0.000       1.031       1.825\n",
       "Barri_comparison_ONE OF THE WORST                                1.8370      0.391      4.703      0.000       1.071       2.603\n",
       "================================================================================================================================\n",
       "\"\"\""
      ]
     },
     "execution_count": 37,
     "metadata": {},
     "output_type": "execute_result"
    }
   ],
   "source": [
    "glm_logit = sm.GLM(y, x, family=sm.families.Binomial())\n",
    "glm_logit_results = glm_logit.fit()\n",
    "glm_logit_results.summary()"
   ]
  },
  {
   "cell_type": "code",
   "execution_count": 38,
   "metadata": {},
   "outputs": [
    {
     "data": {
      "text/plain": [
       "807.0457852244397"
      ]
     },
     "execution_count": 38,
     "metadata": {},
     "output_type": "execute_result"
    }
   ],
   "source": [
    "glm_logit_results.aic"
   ]
  },
  {
   "cell_type": "code",
   "execution_count": 39,
   "metadata": {},
   "outputs": [
    {
     "name": "stderr",
     "output_type": "stream",
     "text": [
      "C:\\Users\\THINK\\anaconda3\\lib\\site-packages\\statsmodels\\genmod\\generalized_linear_model.py:1731: FutureWarning: The bic value is computed using the deviance formula. After 0.13 this will change to the log-likelihood based formula. This change has no impact on the relative rank of models compared using BIC. You can directly access the log-likelihood version using the `bic_llf` attribute. You can suppress this message by calling statsmodels.genmod.generalized_linear_model.SET_USE_BIC_LLF with True to get the LLF-based version now or False to retainthe deviance version.\n",
      "  FutureWarning\n"
     ]
    },
    {
     "data": {
      "text/plain": [
       "-7445.3745952276295"
      ]
     },
     "execution_count": 39,
     "metadata": {},
     "output_type": "execute_result"
    }
   ],
   "source": [
    "glm_logit_results.bic"
   ]
  },
  {
   "cell_type": "code",
   "execution_count": 40,
   "metadata": {},
   "outputs": [
    {
     "data": {
      "text/plain": [
       "Barri_satisfaction_FAIRLY SATISFIED                             6.154491e-01\n",
       "BCN_over_barri_transport                                        1.294818e-01\n",
       "Barri_satisfaction_NOT SATISFIED                                4.773037e-02\n",
       "BCN_over_barri_satisfaction                                     4.256402e-02\n",
       "Time_living_in_barri_MORE THAN 10 YEARS                         1.783851e-02\n",
       "Time_living_in_barri_I HAVE ALWAYS LIVED IN THE NEIGHBORHOOD    2.017497e-04\n",
       "Barri_comparison_ONE OF THE WORST                               2.568241e-06\n",
       "const                                                           4.353585e-10\n",
       "Barri_comparison_NEITHER THE BEST, NOR THE WORST                1.767500e-12\n",
       "dtype: float64"
      ]
     },
     "execution_count": 40,
     "metadata": {},
     "output_type": "execute_result"
    }
   ],
   "source": [
    "glm_logit_results.pvalues.sort_values(ascending=False)"
   ]
  },
  {
   "cell_type": "code",
   "execution_count": null,
   "metadata": {},
   "outputs": [],
   "source": []
  },
  {
   "cell_type": "code",
   "execution_count": 41,
   "metadata": {},
   "outputs": [],
   "source": [
    "for i in ['BCN_over_barri_transport']:\n",
    "    del x[i]"
   ]
  },
  {
   "cell_type": "code",
   "execution_count": 42,
   "metadata": {},
   "outputs": [
    {
     "data": {
      "text/html": [
       "<table class=\"simpletable\">\n",
       "<caption>Generalized Linear Model Regression Results</caption>\n",
       "<tr>\n",
       "  <th>Dep. Variable:</th>   <td>Would_live_in_another_neighborhood</td> <th>  No. Observations:  </th>  <td>  1174</td> \n",
       "</tr>\n",
       "<tr>\n",
       "  <th>Model:</th>                           <td>GLM</td>                <th>  Df Residuals:      </th>  <td>  1166</td> \n",
       "</tr>\n",
       "<tr>\n",
       "  <th>Model Family:</th>                 <td>Binomial</td>              <th>  Df Model:          </th>  <td>     7</td> \n",
       "</tr>\n",
       "<tr>\n",
       "  <th>Link Function:</th>                  <td>logit</td>               <th>  Scale:             </th> <td>  1.0000</td>\n",
       "</tr>\n",
       "<tr>\n",
       "  <th>Method:</th>                         <td>IRLS</td>                <th>  Log-Likelihood:    </th> <td> -395.82</td>\n",
       "</tr>\n",
       "<tr>\n",
       "  <th>Date:</th>                     <td>Mon, 10 May 2021</td>          <th>  Deviance:          </th> <td>  791.64</td>\n",
       "</tr>\n",
       "<tr>\n",
       "  <th>Time:</th>                         <td>07:55:40</td>              <th>  Pearson chi2:      </th> <td>1.22e+03</td>\n",
       "</tr>\n",
       "<tr>\n",
       "  <th>No. Iterations:</th>                   <td>6</td>                 <th>                     </th>     <td> </td>   \n",
       "</tr>\n",
       "<tr>\n",
       "  <th>Covariance Type:</th>              <td>nonrobust</td>             <th>                     </th>     <td> </td>   \n",
       "</tr>\n",
       "</table>\n",
       "<table class=\"simpletable\">\n",
       "<tr>\n",
       "                                <td></td>                                  <th>coef</th>     <th>std err</th>      <th>z</th>      <th>P>|z|</th>  <th>[0.025</th>    <th>0.975]</th>  \n",
       "</tr>\n",
       "<tr>\n",
       "  <th>const</th>                                                        <td>   -2.0282</td> <td>    0.320</td> <td>   -6.337</td> <td> 0.000</td> <td>   -2.656</td> <td>   -1.401</td>\n",
       "</tr>\n",
       "<tr>\n",
       "  <th>BCN_over_barri_satisfaction</th>                                  <td>    1.2623</td> <td>    0.601</td> <td>    2.100</td> <td> 0.036</td> <td>    0.084</td> <td>    2.440</td>\n",
       "</tr>\n",
       "<tr>\n",
       "  <th>Time_living_in_barri_I HAVE ALWAYS LIVED IN THE NEIGHBORHOOD</th> <td>   -1.9077</td> <td>    0.509</td> <td>   -3.749</td> <td> 0.000</td> <td>   -2.905</td> <td>   -0.910</td>\n",
       "</tr>\n",
       "<tr>\n",
       "  <th>Time_living_in_barri_MORE THAN 10 YEARS</th>                      <td>   -0.7535</td> <td>    0.314</td> <td>   -2.397</td> <td> 0.017</td> <td>   -1.370</td> <td>   -0.137</td>\n",
       "</tr>\n",
       "<tr>\n",
       "  <th>Barri_satisfaction_FAIRLY SATISFIED</th>                          <td>   -0.3200</td> <td>    0.554</td> <td>   -0.578</td> <td> 0.564</td> <td>   -1.406</td> <td>    0.766</td>\n",
       "</tr>\n",
       "<tr>\n",
       "  <th>Barri_satisfaction_NOT SATISFIED</th>                             <td>    2.3289</td> <td>    1.224</td> <td>    1.903</td> <td> 0.057</td> <td>   -0.069</td> <td>    4.727</td>\n",
       "</tr>\n",
       "<tr>\n",
       "  <th>Barri_comparison_NEITHER THE BEST, NOR THE WORST</th>             <td>    1.4191</td> <td>    0.202</td> <td>    7.023</td> <td> 0.000</td> <td>    1.023</td> <td>    1.815</td>\n",
       "</tr>\n",
       "<tr>\n",
       "  <th>Barri_comparison_ONE OF THE WORST</th>                            <td>    1.8636</td> <td>    0.390</td> <td>    4.775</td> <td> 0.000</td> <td>    1.099</td> <td>    2.629</td>\n",
       "</tr>\n",
       "</table>"
      ],
      "text/plain": [
       "<class 'statsmodels.iolib.summary.Summary'>\n",
       "\"\"\"\n",
       "                         Generalized Linear Model Regression Results                          \n",
       "==============================================================================================\n",
       "Dep. Variable:     Would_live_in_another_neighborhood   No. Observations:                 1174\n",
       "Model:                                            GLM   Df Residuals:                     1166\n",
       "Model Family:                                Binomial   Df Model:                            7\n",
       "Link Function:                                  logit   Scale:                          1.0000\n",
       "Method:                                          IRLS   Log-Likelihood:                -395.82\n",
       "Date:                                Mon, 10 May 2021   Deviance:                       791.64\n",
       "Time:                                        07:55:40   Pearson chi2:                 1.22e+03\n",
       "No. Iterations:                                     6                                         \n",
       "Covariance Type:                            nonrobust                                         \n",
       "================================================================================================================================\n",
       "                                                                   coef    std err          z      P>|z|      [0.025      0.975]\n",
       "--------------------------------------------------------------------------------------------------------------------------------\n",
       "const                                                           -2.0282      0.320     -6.337      0.000      -2.656      -1.401\n",
       "BCN_over_barri_satisfaction                                      1.2623      0.601      2.100      0.036       0.084       2.440\n",
       "Time_living_in_barri_I HAVE ALWAYS LIVED IN THE NEIGHBORHOOD    -1.9077      0.509     -3.749      0.000      -2.905      -0.910\n",
       "Time_living_in_barri_MORE THAN 10 YEARS                         -0.7535      0.314     -2.397      0.017      -1.370      -0.137\n",
       "Barri_satisfaction_FAIRLY SATISFIED                             -0.3200      0.554     -0.578      0.564      -1.406       0.766\n",
       "Barri_satisfaction_NOT SATISFIED                                 2.3289      1.224      1.903      0.057      -0.069       4.727\n",
       "Barri_comparison_NEITHER THE BEST, NOR THE WORST                 1.4191      0.202      7.023      0.000       1.023       1.815\n",
       "Barri_comparison_ONE OF THE WORST                                1.8636      0.390      4.775      0.000       1.099       2.629\n",
       "================================================================================================================================\n",
       "\"\"\""
      ]
     },
     "execution_count": 42,
     "metadata": {},
     "output_type": "execute_result"
    }
   ],
   "source": [
    "glm_logit = sm.GLM(y, x, family=sm.families.Binomial())\n",
    "glm_logit_results = glm_logit.fit()\n",
    "glm_logit_results.summary()"
   ]
  },
  {
   "cell_type": "code",
   "execution_count": 43,
   "metadata": {},
   "outputs": [
    {
     "data": {
      "text/plain": [
       "807.6358393000108"
      ]
     },
     "execution_count": 43,
     "metadata": {},
     "output_type": "execute_result"
    }
   ],
   "source": [
    "glm_logit_results.aic"
   ]
  },
  {
   "cell_type": "code",
   "execution_count": 44,
   "metadata": {},
   "outputs": [
    {
     "name": "stderr",
     "output_type": "stream",
     "text": [
      "C:\\Users\\THINK\\anaconda3\\lib\\site-packages\\statsmodels\\genmod\\generalized_linear_model.py:1731: FutureWarning: The bic value is computed using the deviance formula. After 0.13 this will change to the log-likelihood based formula. This change has no impact on the relative rank of models compared using BIC. You can directly access the log-likelihood version using the `bic_llf` attribute. You can suppress this message by calling statsmodels.genmod.generalized_linear_model.SET_USE_BIC_LLF with True to get the LLF-based version now or False to retainthe deviance version.\n",
      "  FutureWarning\n"
     ]
    },
    {
     "data": {
      "text/plain": [
       "-7449.852713152447"
      ]
     },
     "execution_count": 44,
     "metadata": {},
     "output_type": "execute_result"
    }
   ],
   "source": [
    "glm_logit_results.bic"
   ]
  },
  {
   "cell_type": "code",
   "execution_count": 45,
   "metadata": {},
   "outputs": [
    {
     "data": {
      "text/plain": [
       "Barri_satisfaction_FAIRLY SATISFIED                             5.635220e-01\n",
       "Barri_satisfaction_NOT SATISFIED                                5.699655e-02\n",
       "BCN_over_barri_satisfaction                                     3.573131e-02\n",
       "Time_living_in_barri_MORE THAN 10 YEARS                         1.653556e-02\n",
       "Time_living_in_barri_I HAVE ALWAYS LIVED IN THE NEIGHBORHOOD    1.774428e-04\n",
       "Barri_comparison_ONE OF THE WORST                               1.799348e-06\n",
       "const                                                           2.344028e-10\n",
       "Barri_comparison_NEITHER THE BEST, NOR THE WORST                2.165260e-12\n",
       "dtype: float64"
      ]
     },
     "execution_count": 45,
     "metadata": {},
     "output_type": "execute_result"
    }
   ],
   "source": [
    "glm_logit_results.pvalues.sort_values(ascending=False)"
   ]
  },
  {
   "cell_type": "code",
   "execution_count": null,
   "metadata": {},
   "outputs": [],
   "source": [
    "glm_logit_results.predict()"
   ]
  },
  {
   "cell_type": "markdown",
   "metadata": {},
   "source": []
  },
  {
   "cell_type": "code",
   "execution_count": 46,
   "metadata": {},
   "outputs": [],
   "source": [
    "def odds_ratios(results):\n",
    "    return np.exp(results.params)"
   ]
  },
  {
   "cell_type": "code",
   "execution_count": 47,
   "metadata": {},
   "outputs": [
    {
     "data": {
      "text/plain": [
       "const                                                            0.131570\n",
       "BCN_over_barri_satisfaction                                      3.533595\n",
       "Time_living_in_barri_I HAVE ALWAYS LIVED IN THE NEIGHBORHOOD     0.148423\n",
       "Time_living_in_barri_MORE THAN 10 YEARS                          0.470697\n",
       "Barri_satisfaction_FAIRLY SATISFIED                              0.726132\n",
       "Barri_satisfaction_NOT SATISFIED                                10.266586\n",
       "Barri_comparison_NEITHER THE BEST, NOR THE WORST                 4.133216\n",
       "Barri_comparison_ONE OF THE WORST                                6.446781\n",
       "dtype: float64"
      ]
     },
     "execution_count": 47,
     "metadata": {},
     "output_type": "execute_result"
    }
   ],
   "source": [
    "odds_ratios(glm_logit_results)"
   ]
  },
  {
   "cell_type": "code",
   "execution_count": null,
   "metadata": {},
   "outputs": [],
   "source": []
  },
  {
   "cell_type": "code",
   "execution_count": 48,
   "metadata": {},
   "outputs": [],
   "source": [
    "def classification_table(results):\n",
    "    df_classification_table = pd.DataFrame(y).join(pd.DataFrame(results.predict(x).round()))\n",
    "    df_classification_table.rename(columns={'Would_live_in_another_neighborhood': 'y', 0: 'y_predict'}, inplace=True)\n",
    "    return pd.crosstab(df_classification_table['y'], df_classification_table['y_predict'])"
   ]
  },
  {
   "cell_type": "code",
   "execution_count": 49,
   "metadata": {},
   "outputs": [],
   "source": [
    "def plot_roc_auc(results):\n",
    "    y_predict = results.predict(x)\n",
    "    roc_auc = roc_auc_score(y, y_predict)\n",
    "    fpr, tpr, thresholds = roc_curve(y, y_predict)\n",
    "    plt.figure()\n",
    "    plt.plot(fpr, tpr, label='Logistic Regression (area = %0.2f)' % roc_auc)\n",
    "    plt.plot([0, 1], [0, 1],'r--')\n",
    "    plt.xlim([0.0, 1.0])\n",
    "    plt.ylim([0.0, 1.05])\n",
    "    plt.xlabel('False Positive Rate')\n",
    "    plt.ylabel('True Positive Rate')\n",
    "    plt.title('Receiver operating characteristic')\n",
    "    plt.legend(loc=\"lower right\")\n",
    "    plt.show()"
   ]
  },
  {
   "cell_type": "code",
   "execution_count": 50,
   "metadata": {},
   "outputs": [],
   "source": [
    "# https://github.com/statsmodels/statsmodels/issues/5861\n",
    "def pseudo_r2(results):\n",
    "    return print(\"Pseudo R2:\", (1 - results.llf / results.llnull))"
   ]
  },
  {
   "cell_type": "code",
   "execution_count": 51,
   "metadata": {},
   "outputs": [],
   "source": [
    "def adj_count_r2(results):\n",
    "    df_classification_table = pd.DataFrame(y).join(pd.DataFrame(results.predict(x).round()))\n",
    "    df_classification_table.rename(columns={'Would_live_in_another_neighborhood': 'y', 0: 'y_predict'}, inplace=True)\n",
    "    df = pd.crosstab(df_classification_table['y'], df_classification_table['y_predict'])\n",
    "    return print(\"Adj Count R2:\", round((df[0][0] + df[1][1] - (df[0][0]+df[1][0]))/(df[0][1]+df[1][1]),3))"
   ]
  },
  {
   "cell_type": "code",
   "execution_count": null,
   "metadata": {},
   "outputs": [],
   "source": []
  },
  {
   "cell_type": "code",
   "execution_count": 52,
   "metadata": {},
   "outputs": [
    {
     "data": {
      "text/html": [
       "<div>\n",
       "<style scoped>\n",
       "    .dataframe tbody tr th:only-of-type {\n",
       "        vertical-align: middle;\n",
       "    }\n",
       "\n",
       "    .dataframe tbody tr th {\n",
       "        vertical-align: top;\n",
       "    }\n",
       "\n",
       "    .dataframe thead th {\n",
       "        text-align: right;\n",
       "    }\n",
       "</style>\n",
       "<table border=\"1\" class=\"dataframe\">\n",
       "  <thead>\n",
       "    <tr style=\"text-align: right;\">\n",
       "      <th>y_predict</th>\n",
       "      <th>0.0</th>\n",
       "      <th>1.0</th>\n",
       "    </tr>\n",
       "    <tr>\n",
       "      <th>y</th>\n",
       "      <th></th>\n",
       "      <th></th>\n",
       "    </tr>\n",
       "  </thead>\n",
       "  <tbody>\n",
       "    <tr>\n",
       "      <th>0.0</th>\n",
       "      <td>1017</td>\n",
       "      <td>2</td>\n",
       "    </tr>\n",
       "    <tr>\n",
       "      <th>1.0</th>\n",
       "      <td>139</td>\n",
       "      <td>16</td>\n",
       "    </tr>\n",
       "  </tbody>\n",
       "</table>\n",
       "</div>"
      ],
      "text/plain": [
       "y_predict   0.0  1.0\n",
       "y                   \n",
       "0.0        1017    2\n",
       "1.0         139   16"
      ]
     },
     "execution_count": 52,
     "metadata": {},
     "output_type": "execute_result"
    }
   ],
   "source": [
    "classification_table(glm_logit_results)"
   ]
  },
  {
   "cell_type": "code",
   "execution_count": 53,
   "metadata": {},
   "outputs": [
    {
     "data": {
      "image/png": "[encoded data removed]",
      "text/plain": [
       "<Figure size 432x288 with 1 Axes>"
      ]
     },
     "metadata": {},
     "output_type": "display_data"
    }
   ],
   "source": [
    "plot_roc_auc(glm_logit_results)"
   ]
  },
  {
   "cell_type": "code",
   "execution_count": 54,
   "metadata": {},
   "outputs": [
    {
     "name": "stdout",
     "output_type": "stream",
     "text": [
      "Pseudo R2: 0.1359970697611943\n"
     ]
    }
   ],
   "source": [
    "pseudo_r2(glm_logit_results)"
   ]
  },
  {
   "cell_type": "code",
   "execution_count": 55,
   "metadata": {},
   "outputs": [
    {
     "name": "stdout",
     "output_type": "stream",
     "text": [
      "Adj Count R2: 0.09\n"
     ]
    }
   ],
   "source": [
    "adj_count_r2(glm_logit_results)"
   ]
  },
  {
   "cell_type": "code",
   "execution_count": null,
   "metadata": {},
   "outputs": [],
   "source": []
  },
  {
   "cell_type": "markdown",
   "metadata": {},
   "source": [
    "# Probit"
   ]
  },
  {
   "cell_type": "code",
   "execution_count": 56,
   "metadata": {},
   "outputs": [
    {
     "name": "stderr",
     "output_type": "stream",
     "text": [
      "C:\\Users\\THINK\\anaconda3\\lib\\site-packages\\ipykernel_launcher.py:1: DeprecationWarning: Calling Family(..) with a link class as argument is deprecated.\n",
      "Use an instance of a link class instead.\n",
      "  \"\"\"Entry point for launching an IPython kernel.\n"
     ]
    },
    {
     "data": {
      "text/html": [
       "<table class=\"simpletable\">\n",
       "<caption>Generalized Linear Model Regression Results</caption>\n",
       "<tr>\n",
       "  <th>Dep. Variable:</th>   <td>Would_live_in_another_neighborhood</td> <th>  No. Observations:  </th>  <td>  1174</td> \n",
       "</tr>\n",
       "<tr>\n",
       "  <th>Model:</th>                           <td>GLM</td>                <th>  Df Residuals:      </th>  <td>  1166</td> \n",
       "</tr>\n",
       "<tr>\n",
       "  <th>Model Family:</th>                 <td>Binomial</td>              <th>  Df Model:          </th>  <td>     7</td> \n",
       "</tr>\n",
       "<tr>\n",
       "  <th>Link Function:</th>                 <td>probit</td>               <th>  Scale:             </th> <td>  1.0000</td>\n",
       "</tr>\n",
       "<tr>\n",
       "  <th>Method:</th>                         <td>IRLS</td>                <th>  Log-Likelihood:    </th> <td> -396.53</td>\n",
       "</tr>\n",
       "<tr>\n",
       "  <th>Date:</th>                     <td>Mon, 10 May 2021</td>          <th>  Deviance:          </th> <td>  793.07</td>\n",
       "</tr>\n",
       "<tr>\n",
       "  <th>Time:</th>                         <td>07:55:40</td>              <th>  Pearson chi2:      </th> <td>1.23e+03</td>\n",
       "</tr>\n",
       "<tr>\n",
       "  <th>No. Iterations:</th>                   <td>6</td>                 <th>                     </th>     <td> </td>   \n",
       "</tr>\n",
       "<tr>\n",
       "  <th>Covariance Type:</th>              <td>nonrobust</td>             <th>                     </th>     <td> </td>   \n",
       "</tr>\n",
       "</table>\n",
       "<table class=\"simpletable\">\n",
       "<tr>\n",
       "                                <td></td>                                  <th>coef</th>     <th>std err</th>      <th>z</th>      <th>P>|z|</th>  <th>[0.025</th>    <th>0.975]</th>  \n",
       "</tr>\n",
       "<tr>\n",
       "  <th>const</th>                                                        <td>   -1.1558</td> <td>    0.178</td> <td>   -6.504</td> <td> 0.000</td> <td>   -1.504</td> <td>   -0.808</td>\n",
       "</tr>\n",
       "<tr>\n",
       "  <th>BCN_over_barri_satisfaction</th>                                  <td>    0.7072</td> <td>    0.336</td> <td>    2.105</td> <td> 0.035</td> <td>    0.049</td> <td>    1.366</td>\n",
       "</tr>\n",
       "<tr>\n",
       "  <th>Time_living_in_barri_I HAVE ALWAYS LIVED IN THE NEIGHBORHOOD</th> <td>   -0.9590</td> <td>    0.256</td> <td>   -3.749</td> <td> 0.000</td> <td>   -1.460</td> <td>   -0.458</td>\n",
       "</tr>\n",
       "<tr>\n",
       "  <th>Time_living_in_barri_MORE THAN 10 YEARS</th>                      <td>   -0.4137</td> <td>    0.179</td> <td>   -2.317</td> <td> 0.020</td> <td>   -0.764</td> <td>   -0.064</td>\n",
       "</tr>\n",
       "<tr>\n",
       "  <th>Barri_satisfaction_FAIRLY SATISFIED</th>                          <td>   -0.1838</td> <td>    0.305</td> <td>   -0.602</td> <td> 0.547</td> <td>   -0.782</td> <td>    0.414</td>\n",
       "</tr>\n",
       "<tr>\n",
       "  <th>Barri_satisfaction_NOT SATISFIED</th>                             <td>    1.3314</td> <td>    0.641</td> <td>    2.077</td> <td> 0.038</td> <td>    0.075</td> <td>    2.588</td>\n",
       "</tr>\n",
       "<tr>\n",
       "  <th>Barri_comparison_NEITHER THE BEST, NOR THE WORST</th>             <td>    0.7441</td> <td>    0.104</td> <td>    7.170</td> <td> 0.000</td> <td>    0.541</td> <td>    0.947</td>\n",
       "</tr>\n",
       "<tr>\n",
       "  <th>Barri_comparison_ONE OF THE WORST</th>                            <td>    0.9962</td> <td>    0.225</td> <td>    4.423</td> <td> 0.000</td> <td>    0.555</td> <td>    1.438</td>\n",
       "</tr>\n",
       "</table>"
      ],
      "text/plain": [
       "<class 'statsmodels.iolib.summary.Summary'>\n",
       "\"\"\"\n",
       "                         Generalized Linear Model Regression Results                          \n",
       "==============================================================================================\n",
       "Dep. Variable:     Would_live_in_another_neighborhood   No. Observations:                 1174\n",
       "Model:                                            GLM   Df Residuals:                     1166\n",
       "Model Family:                                Binomial   Df Model:                            7\n",
       "Link Function:                                 probit   Scale:                          1.0000\n",
       "Method:                                          IRLS   Log-Likelihood:                -396.53\n",
       "Date:                                Mon, 10 May 2021   Deviance:                       793.07\n",
       "Time:                                        07:55:40   Pearson chi2:                 1.23e+03\n",
       "No. Iterations:                                     6                                         \n",
       "Covariance Type:                            nonrobust                                         \n",
       "================================================================================================================================\n",
       "                                                                   coef    std err          z      P>|z|      [0.025      0.975]\n",
       "--------------------------------------------------------------------------------------------------------------------------------\n",
       "const                                                           -1.1558      0.178     -6.504      0.000      -1.504      -0.808\n",
       "BCN_over_barri_satisfaction                                      0.7072      0.336      2.105      0.035       0.049       1.366\n",
       "Time_living_in_barri_I HAVE ALWAYS LIVED IN THE NEIGHBORHOOD    -0.9590      0.256     -3.749      0.000      -1.460      -0.458\n",
       "Time_living_in_barri_MORE THAN 10 YEARS                         -0.4137      0.179     -2.317      0.020      -0.764      -0.064\n",
       "Barri_satisfaction_FAIRLY SATISFIED                             -0.1838      0.305     -0.602      0.547      -0.782       0.414\n",
       "Barri_satisfaction_NOT SATISFIED                                 1.3314      0.641      2.077      0.038       0.075       2.588\n",
       "Barri_comparison_NEITHER THE BEST, NOR THE WORST                 0.7441      0.104      7.170      0.000       0.541       0.947\n",
       "Barri_comparison_ONE OF THE WORST                                0.9962      0.225      4.423      0.000       0.555       1.438\n",
       "================================================================================================================================\n",
       "\"\"\""
      ]
     },
     "execution_count": 56,
     "metadata": {},
     "output_type": "execute_result"
    }
   ],
   "source": [
    "glm_probit = sm.GLM(y, x, family=sm.families.Binomial(link=sm.genmod.families.links.probit))\n",
    "glm_probit_results = glm_probit.fit()\n",
    "glm_probit_results.summary()"
   ]
  },
  {
   "cell_type": "code",
   "execution_count": 57,
   "metadata": {},
   "outputs": [
    {
     "data": {
      "text/plain": [
       "809.066989007597"
      ]
     },
     "execution_count": 57,
     "metadata": {},
     "output_type": "execute_result"
    }
   ],
   "source": [
    "glm_probit_results.aic"
   ]
  },
  {
   "cell_type": "code",
   "execution_count": 58,
   "metadata": {},
   "outputs": [
    {
     "name": "stderr",
     "output_type": "stream",
     "text": [
      "C:\\Users\\THINK\\anaconda3\\lib\\site-packages\\statsmodels\\genmod\\generalized_linear_model.py:1731: FutureWarning: The bic value is computed using the deviance formula. After 0.13 this will change to the log-likelihood based formula. This change has no impact on the relative rank of models compared using BIC. You can directly access the log-likelihood version using the `bic_llf` attribute. You can suppress this message by calling statsmodels.genmod.generalized_linear_model.SET_USE_BIC_LLF with True to get the LLF-based version now or False to retainthe deviance version.\n",
      "  FutureWarning\n"
     ]
    },
    {
     "data": {
      "text/plain": [
       "-7448.421563444861"
      ]
     },
     "execution_count": 58,
     "metadata": {},
     "output_type": "execute_result"
    }
   ],
   "source": [
    "glm_probit_results.bic"
   ]
  },
  {
   "cell_type": "code",
   "execution_count": 59,
   "metadata": {},
   "outputs": [
    {
     "data": {
      "text/html": [
       "<div>\n",
       "<style scoped>\n",
       "    .dataframe tbody tr th:only-of-type {\n",
       "        vertical-align: middle;\n",
       "    }\n",
       "\n",
       "    .dataframe tbody tr th {\n",
       "        vertical-align: top;\n",
       "    }\n",
       "\n",
       "    .dataframe thead th {\n",
       "        text-align: right;\n",
       "    }\n",
       "</style>\n",
       "<table border=\"1\" class=\"dataframe\">\n",
       "  <thead>\n",
       "    <tr style=\"text-align: right;\">\n",
       "      <th>y_predict</th>\n",
       "      <th>0.0</th>\n",
       "      <th>1.0</th>\n",
       "    </tr>\n",
       "    <tr>\n",
       "      <th>y</th>\n",
       "      <th></th>\n",
       "      <th></th>\n",
       "    </tr>\n",
       "  </thead>\n",
       "  <tbody>\n",
       "    <tr>\n",
       "      <th>0.0</th>\n",
       "      <td>1018</td>\n",
       "      <td>1</td>\n",
       "    </tr>\n",
       "    <tr>\n",
       "      <th>1.0</th>\n",
       "      <td>145</td>\n",
       "      <td>10</td>\n",
       "    </tr>\n",
       "  </tbody>\n",
       "</table>\n",
       "</div>"
      ],
      "text/plain": [
       "y_predict   0.0  1.0\n",
       "y                   \n",
       "0.0        1018    1\n",
       "1.0         145   10"
      ]
     },
     "execution_count": 59,
     "metadata": {},
     "output_type": "execute_result"
    }
   ],
   "source": [
    "classification_table(glm_probit_results)"
   ]
  },
  {
   "cell_type": "code",
   "execution_count": 60,
   "metadata": {},
   "outputs": [
    {
     "data": {
      "image/png": "[encoded data removed]",
      "text/plain": [
       "<Figure size 432x288 with 1 Axes>"
      ]
     },
     "metadata": {},
     "output_type": "display_data"
    }
   ],
   "source": [
    "plot_roc_auc(glm_probit_results)"
   ]
  },
  {
   "cell_type": "code",
   "execution_count": 61,
   "metadata": {},
   "outputs": [
    {
     "data": {
      "text/plain": [
       "const                                                           0.314802\n",
       "BCN_over_barri_satisfaction                                     2.028321\n",
       "Time_living_in_barri_I HAVE ALWAYS LIVED IN THE NEIGHBORHOOD    0.383264\n",
       "Time_living_in_barri_MORE THAN 10 YEARS                         0.661169\n",
       "Barri_satisfaction_FAIRLY SATISFIED                             0.832094\n",
       "Barri_satisfaction_NOT SATISFIED                                3.786204\n",
       "Barri_comparison_NEITHER THE BEST, NOR THE WORST                2.104500\n",
       "Barri_comparison_ONE OF THE WORST                               2.708043\n",
       "dtype: float64"
      ]
     },
     "execution_count": 61,
     "metadata": {},
     "output_type": "execute_result"
    }
   ],
   "source": [
    "odds_ratios(glm_probit_results)"
   ]
  },
  {
   "cell_type": "code",
   "execution_count": 62,
   "metadata": {},
   "outputs": [
    {
     "name": "stdout",
     "output_type": "stream",
     "text": [
      "Pseudo R2: 0.13443509204419457\n"
     ]
    }
   ],
   "source": [
    "pseudo_r2(glm_probit_results)"
   ]
  },
  {
   "cell_type": "code",
   "execution_count": 63,
   "metadata": {},
   "outputs": [
    {
     "name": "stdout",
     "output_type": "stream",
     "text": [
      "Adj Count R2: 0.058\n"
     ]
    }
   ],
   "source": [
    "adj_count_r2(glm_probit_results)"
   ]
  },
  {
   "cell_type": "code",
   "execution_count": null,
   "metadata": {},
   "outputs": [],
   "source": []
  },
  {
   "cell_type": "markdown",
   "metadata": {},
   "source": [
    "# Scobit"
   ]
  },
  {
   "cell_type": "code",
   "execution_count": 64,
   "metadata": {
    "scrolled": false
   },
   "outputs": [
    {
     "name": "stderr",
     "output_type": "stream",
     "text": [
      "C:\\Users\\THINK\\anaconda3\\lib\\site-packages\\ipykernel_launcher.py:1: DeprecationWarning: Calling Family(..) with a link class as argument is deprecated.\n",
      "Use an instance of a link class instead.\n",
      "  \"\"\"Entry point for launching an IPython kernel.\n"
     ]
    },
    {
     "data": {
      "text/html": [
       "<table class=\"simpletable\">\n",
       "<caption>Generalized Linear Model Regression Results</caption>\n",
       "<tr>\n",
       "  <th>Dep. Variable:</th>   <td>Would_live_in_another_neighborhood</td> <th>  No. Observations:  </th>  <td>  1174</td> \n",
       "</tr>\n",
       "<tr>\n",
       "  <th>Model:</th>                           <td>GLM</td>                <th>  Df Residuals:      </th>  <td>  1166</td> \n",
       "</tr>\n",
       "<tr>\n",
       "  <th>Model Family:</th>                 <td>Binomial</td>              <th>  Df Model:          </th>  <td>     7</td> \n",
       "</tr>\n",
       "<tr>\n",
       "  <th>Link Function:</th>                 <td>cloglog</td>              <th>  Scale:             </th> <td>  1.0000</td>\n",
       "</tr>\n",
       "<tr>\n",
       "  <th>Method:</th>                         <td>IRLS</td>                <th>  Log-Likelihood:    </th> <td> -396.14</td>\n",
       "</tr>\n",
       "<tr>\n",
       "  <th>Date:</th>                     <td>Mon, 10 May 2021</td>          <th>  Deviance:          </th> <td>  792.28</td>\n",
       "</tr>\n",
       "<tr>\n",
       "  <th>Time:</th>                         <td>07:55:41</td>              <th>  Pearson chi2:      </th> <td>1.20e+03</td>\n",
       "</tr>\n",
       "<tr>\n",
       "  <th>No. Iterations:</th>                   <td>8</td>                 <th>                     </th>     <td> </td>   \n",
       "</tr>\n",
       "<tr>\n",
       "  <th>Covariance Type:</th>              <td>nonrobust</td>             <th>                     </th>     <td> </td>   \n",
       "</tr>\n",
       "</table>\n",
       "<table class=\"simpletable\">\n",
       "<tr>\n",
       "                                <td></td>                                  <th>coef</th>     <th>std err</th>      <th>z</th>      <th>P>|z|</th>  <th>[0.025</th>    <th>0.975]</th>  \n",
       "</tr>\n",
       "<tr>\n",
       "  <th>const</th>                                                        <td>   -2.1305</td> <td>    0.282</td> <td>   -7.564</td> <td> 0.000</td> <td>   -2.683</td> <td>   -1.578</td>\n",
       "</tr>\n",
       "<tr>\n",
       "  <th>BCN_over_barri_satisfaction</th>                                  <td>    1.0290</td> <td>    0.492</td> <td>    2.090</td> <td> 0.037</td> <td>    0.064</td> <td>    1.994</td>\n",
       "</tr>\n",
       "<tr>\n",
       "  <th>Time_living_in_barri_I HAVE ALWAYS LIVED IN THE NEIGHBORHOOD</th> <td>   -1.7037</td> <td>    0.455</td> <td>   -3.746</td> <td> 0.000</td> <td>   -2.595</td> <td>   -0.812</td>\n",
       "</tr>\n",
       "<tr>\n",
       "  <th>Time_living_in_barri_MORE THAN 10 YEARS</th>                      <td>   -0.6778</td> <td>    0.268</td> <td>   -2.531</td> <td> 0.011</td> <td>   -1.203</td> <td>   -0.153</td>\n",
       "</tr>\n",
       "<tr>\n",
       "  <th>Barri_satisfaction_FAIRLY SATISFIED</th>                          <td>   -0.2007</td> <td>    0.467</td> <td>   -0.430</td> <td> 0.667</td> <td>   -1.115</td> <td>    0.714</td>\n",
       "</tr>\n",
       "<tr>\n",
       "  <th>Barri_satisfaction_NOT SATISFIED</th>                             <td>    1.1048</td> <td>    0.675</td> <td>    1.638</td> <td> 0.101</td> <td>   -0.217</td> <td>    2.427</td>\n",
       "</tr>\n",
       "<tr>\n",
       "  <th>Barri_comparison_NEITHER THE BEST, NOR THE WORST</th>             <td>    1.3232</td> <td>    0.189</td> <td>    7.013</td> <td> 0.000</td> <td>    0.953</td> <td>    1.693</td>\n",
       "</tr>\n",
       "<tr>\n",
       "  <th>Barri_comparison_ONE OF THE WORST</th>                            <td>    1.6846</td> <td>    0.326</td> <td>    5.167</td> <td> 0.000</td> <td>    1.046</td> <td>    2.324</td>\n",
       "</tr>\n",
       "</table>"
      ],
      "text/plain": [
       "<class 'statsmodels.iolib.summary.Summary'>\n",
       "\"\"\"\n",
       "                         Generalized Linear Model Regression Results                          \n",
       "==============================================================================================\n",
       "Dep. Variable:     Would_live_in_another_neighborhood   No. Observations:                 1174\n",
       "Model:                                            GLM   Df Residuals:                     1166\n",
       "Model Family:                                Binomial   Df Model:                            7\n",
       "Link Function:                                cloglog   Scale:                          1.0000\n",
       "Method:                                          IRLS   Log-Likelihood:                -396.14\n",
       "Date:                                Mon, 10 May 2021   Deviance:                       792.28\n",
       "Time:                                        07:55:41   Pearson chi2:                 1.20e+03\n",
       "No. Iterations:                                     8                                         \n",
       "Covariance Type:                            nonrobust                                         \n",
       "================================================================================================================================\n",
       "                                                                   coef    std err          z      P>|z|      [0.025      0.975]\n",
       "--------------------------------------------------------------------------------------------------------------------------------\n",
       "const                                                           -2.1305      0.282     -7.564      0.000      -2.683      -1.578\n",
       "BCN_over_barri_satisfaction                                      1.0290      0.492      2.090      0.037       0.064       1.994\n",
       "Time_living_in_barri_I HAVE ALWAYS LIVED IN THE NEIGHBORHOOD    -1.7037      0.455     -3.746      0.000      -2.595      -0.812\n",
       "Time_living_in_barri_MORE THAN 10 YEARS                         -0.6778      0.268     -2.531      0.011      -1.203      -0.153\n",
       "Barri_satisfaction_FAIRLY SATISFIED                             -0.2007      0.467     -0.430      0.667      -1.115       0.714\n",
       "Barri_satisfaction_NOT SATISFIED                                 1.1048      0.675      1.638      0.101      -0.217       2.427\n",
       "Barri_comparison_NEITHER THE BEST, NOR THE WORST                 1.3232      0.189      7.013      0.000       0.953       1.693\n",
       "Barri_comparison_ONE OF THE WORST                                1.6846      0.326      5.167      0.000       1.046       2.324\n",
       "================================================================================================================================\n",
       "\"\"\""
      ]
     },
     "execution_count": 64,
     "metadata": {},
     "output_type": "execute_result"
    }
   ],
   "source": [
    "glm_scobit = sm.GLM(y, x, family=sm.families.Binomial(link=sm.genmod.families.links.cloglog))\n",
    "glm_scobit_results = glm_scobit.fit()\n",
    "glm_scobit_results.summary()"
   ]
  },
  {
   "cell_type": "code",
   "execution_count": 65,
   "metadata": {},
   "outputs": [
    {
     "data": {
      "text/plain": [
       "808.2819070297534"
      ]
     },
     "execution_count": 65,
     "metadata": {},
     "output_type": "execute_result"
    }
   ],
   "source": [
    "glm_scobit_results.aic"
   ]
  },
  {
   "cell_type": "code",
   "execution_count": 66,
   "metadata": {},
   "outputs": [
    {
     "name": "stderr",
     "output_type": "stream",
     "text": [
      "C:\\Users\\THINK\\anaconda3\\lib\\site-packages\\statsmodels\\genmod\\generalized_linear_model.py:1731: FutureWarning: The bic value is computed using the deviance formula. After 0.13 this will change to the log-likelihood based formula. This change has no impact on the relative rank of models compared using BIC. You can directly access the log-likelihood version using the `bic_llf` attribute. You can suppress this message by calling statsmodels.genmod.generalized_linear_model.SET_USE_BIC_LLF with True to get the LLF-based version now or False to retainthe deviance version.\n",
      "  FutureWarning\n"
     ]
    },
    {
     "data": {
      "text/plain": [
       "-7449.206645422704"
      ]
     },
     "execution_count": 66,
     "metadata": {},
     "output_type": "execute_result"
    }
   ],
   "source": [
    "glm_scobit_results.bic"
   ]
  },
  {
   "cell_type": "code",
   "execution_count": 67,
   "metadata": {},
   "outputs": [
    {
     "data": {
      "text/html": [
       "<div>\n",
       "<style scoped>\n",
       "    .dataframe tbody tr th:only-of-type {\n",
       "        vertical-align: middle;\n",
       "    }\n",
       "\n",
       "    .dataframe tbody tr th {\n",
       "        vertical-align: top;\n",
       "    }\n",
       "\n",
       "    .dataframe thead th {\n",
       "        text-align: right;\n",
       "    }\n",
       "</style>\n",
       "<table border=\"1\" class=\"dataframe\">\n",
       "  <thead>\n",
       "    <tr style=\"text-align: right;\">\n",
       "      <th>y_predict</th>\n",
       "      <th>0.0</th>\n",
       "      <th>1.0</th>\n",
       "    </tr>\n",
       "    <tr>\n",
       "      <th>y</th>\n",
       "      <th></th>\n",
       "      <th></th>\n",
       "    </tr>\n",
       "  </thead>\n",
       "  <tbody>\n",
       "    <tr>\n",
       "      <th>0.0</th>\n",
       "      <td>1017</td>\n",
       "      <td>2</td>\n",
       "    </tr>\n",
       "    <tr>\n",
       "      <th>1.0</th>\n",
       "      <td>140</td>\n",
       "      <td>15</td>\n",
       "    </tr>\n",
       "  </tbody>\n",
       "</table>\n",
       "</div>"
      ],
      "text/plain": [
       "y_predict   0.0  1.0\n",
       "y                   \n",
       "0.0        1017    2\n",
       "1.0         140   15"
      ]
     },
     "execution_count": 67,
     "metadata": {},
     "output_type": "execute_result"
    }
   ],
   "source": [
    "classification_table(glm_scobit_results)"
   ]
  },
  {
   "cell_type": "code",
   "execution_count": 68,
   "metadata": {},
   "outputs": [
    {
     "data": {
      "image/png": "[encoded data removed]",
      "text/plain": [
       "<Figure size 432x288 with 1 Axes>"
      ]
     },
     "metadata": {},
     "output_type": "display_data"
    }
   ],
   "source": [
    "plot_roc_auc(glm_scobit_results)"
   ]
  },
  {
   "cell_type": "code",
   "execution_count": 69,
   "metadata": {},
   "outputs": [
    {
     "data": {
      "text/plain": [
       "const                                                           0.118779\n",
       "BCN_over_barri_satisfaction                                     2.798382\n",
       "Time_living_in_barri_I HAVE ALWAYS LIVED IN THE NEIGHBORHOOD    0.182015\n",
       "Time_living_in_barri_MORE THAN 10 YEARS                         0.507708\n",
       "Barri_satisfaction_FAIRLY SATISFIED                             0.818196\n",
       "Barri_satisfaction_NOT SATISFIED                                3.018493\n",
       "Barri_comparison_NEITHER THE BEST, NOR THE WORST                3.755494\n",
       "Barri_comparison_ONE OF THE WORST                               5.390427\n",
       "dtype: float64"
      ]
     },
     "execution_count": 69,
     "metadata": {},
     "output_type": "execute_result"
    }
   ],
   "source": [
    "odds_ratios(glm_scobit_results)"
   ]
  },
  {
   "cell_type": "code",
   "execution_count": 70,
   "metadata": {},
   "outputs": [
    {
     "name": "stdout",
     "output_type": "stream",
     "text": [
      "Pseudo R2: 0.13529194199421013\n"
     ]
    }
   ],
   "source": [
    "pseudo_r2(glm_scobit_results)"
   ]
  },
  {
   "cell_type": "code",
   "execution_count": 71,
   "metadata": {},
   "outputs": [
    {
     "name": "stdout",
     "output_type": "stream",
     "text": [
      "Adj Count R2: 0.084\n"
     ]
    }
   ],
   "source": [
    "adj_count_r2(glm_scobit_results)"
   ]
  },
  {
   "cell_type": "code",
   "execution_count": null,
   "metadata": {},
   "outputs": [],
   "source": []
  },
  {
   "cell_type": "markdown",
   "metadata": {},
   "source": [
    "# Results comparison"
   ]
  },
  {
   "cell_type": "code",
   "execution_count": 72,
   "metadata": {},
   "outputs": [
    {
     "data": {
      "text/html": [
       "<table class=\"simpletable\">\n",
       "<caption>Generalized Linear Model Regression Results</caption>\n",
       "<tr>\n",
       "  <th>Dep. Variable:</th>   <td>Would_live_in_another_neighborhood</td> <th>  No. Observations:  </th>  <td>  1174</td> \n",
       "</tr>\n",
       "<tr>\n",
       "  <th>Model:</th>                           <td>GLM</td>                <th>  Df Residuals:      </th>  <td>  1166</td> \n",
       "</tr>\n",
       "<tr>\n",
       "  <th>Model Family:</th>                 <td>Binomial</td>              <th>  Df Model:          </th>  <td>     7</td> \n",
       "</tr>\n",
       "<tr>\n",
       "  <th>Link Function:</th>                  <td>logit</td>               <th>  Scale:             </th> <td>  1.0000</td>\n",
       "</tr>\n",
       "<tr>\n",
       "  <th>Method:</th>                         <td>IRLS</td>                <th>  Log-Likelihood:    </th> <td> -395.82</td>\n",
       "</tr>\n",
       "<tr>\n",
       "  <th>Date:</th>                     <td>Mon, 10 May 2021</td>          <th>  Deviance:          </th> <td>  791.64</td>\n",
       "</tr>\n",
       "<tr>\n",
       "  <th>Time:</th>                         <td>07:55:42</td>              <th>  Pearson chi2:      </th> <td>1.22e+03</td>\n",
       "</tr>\n",
       "<tr>\n",
       "  <th>No. Iterations:</th>                   <td>6</td>                 <th>                     </th>     <td> </td>   \n",
       "</tr>\n",
       "<tr>\n",
       "  <th>Covariance Type:</th>              <td>nonrobust</td>             <th>                     </th>     <td> </td>   \n",
       "</tr>\n",
       "</table>\n",
       "<table class=\"simpletable\">\n",
       "<tr>\n",
       "                                <td></td>                                  <th>coef</th>     <th>std err</th>      <th>z</th>      <th>P>|z|</th>  <th>[0.025</th>    <th>0.975]</th>  \n",
       "</tr>\n",
       "<tr>\n",
       "  <th>const</th>                                                        <td>   -2.0282</td> <td>    0.320</td> <td>   -6.337</td> <td> 0.000</td> <td>   -2.656</td> <td>   -1.401</td>\n",
       "</tr>\n",
       "<tr>\n",
       "  <th>BCN_over_barri_satisfaction</th>                                  <td>    1.2623</td> <td>    0.601</td> <td>    2.100</td> <td> 0.036</td> <td>    0.084</td> <td>    2.440</td>\n",
       "</tr>\n",
       "<tr>\n",
       "  <th>Time_living_in_barri_I HAVE ALWAYS LIVED IN THE NEIGHBORHOOD</th> <td>   -1.9077</td> <td>    0.509</td> <td>   -3.749</td> <td> 0.000</td> <td>   -2.905</td> <td>   -0.910</td>\n",
       "</tr>\n",
       "<tr>\n",
       "  <th>Time_living_in_barri_MORE THAN 10 YEARS</th>                      <td>   -0.7535</td> <td>    0.314</td> <td>   -2.397</td> <td> 0.017</td> <td>   -1.370</td> <td>   -0.137</td>\n",
       "</tr>\n",
       "<tr>\n",
       "  <th>Barri_satisfaction_FAIRLY SATISFIED</th>                          <td>   -0.3200</td> <td>    0.554</td> <td>   -0.578</td> <td> 0.564</td> <td>   -1.406</td> <td>    0.766</td>\n",
       "</tr>\n",
       "<tr>\n",
       "  <th>Barri_satisfaction_NOT SATISFIED</th>                             <td>    2.3289</td> <td>    1.224</td> <td>    1.903</td> <td> 0.057</td> <td>   -0.069</td> <td>    4.727</td>\n",
       "</tr>\n",
       "<tr>\n",
       "  <th>Barri_comparison_NEITHER THE BEST, NOR THE WORST</th>             <td>    1.4191</td> <td>    0.202</td> <td>    7.023</td> <td> 0.000</td> <td>    1.023</td> <td>    1.815</td>\n",
       "</tr>\n",
       "<tr>\n",
       "  <th>Barri_comparison_ONE OF THE WORST</th>                            <td>    1.8636</td> <td>    0.390</td> <td>    4.775</td> <td> 0.000</td> <td>    1.099</td> <td>    2.629</td>\n",
       "</tr>\n",
       "</table>"
      ],
      "text/plain": [
       "<class 'statsmodels.iolib.summary.Summary'>\n",
       "\"\"\"\n",
       "                         Generalized Linear Model Regression Results                          \n",
       "==============================================================================================\n",
       "Dep. Variable:     Would_live_in_another_neighborhood   No. Observations:                 1174\n",
       "Model:                                            GLM   Df Residuals:                     1166\n",
       "Model Family:                                Binomial   Df Model:                            7\n",
       "Link Function:                                  logit   Scale:                          1.0000\n",
       "Method:                                          IRLS   Log-Likelihood:                -395.82\n",
       "Date:                                Mon, 10 May 2021   Deviance:                       791.64\n",
       "Time:                                        07:55:42   Pearson chi2:                 1.22e+03\n",
       "No. Iterations:                                     6                                         \n",
       "Covariance Type:                            nonrobust                                         \n",
       "================================================================================================================================\n",
       "                                                                   coef    std err          z      P>|z|      [0.025      0.975]\n",
       "--------------------------------------------------------------------------------------------------------------------------------\n",
       "const                                                           -2.0282      0.320     -6.337      0.000      -2.656      -1.401\n",
       "BCN_over_barri_satisfaction                                      1.2623      0.601      2.100      0.036       0.084       2.440\n",
       "Time_living_in_barri_I HAVE ALWAYS LIVED IN THE NEIGHBORHOOD    -1.9077      0.509     -3.749      0.000      -2.905      -0.910\n",
       "Time_living_in_barri_MORE THAN 10 YEARS                         -0.7535      0.314     -2.397      0.017      -1.370      -0.137\n",
       "Barri_satisfaction_FAIRLY SATISFIED                             -0.3200      0.554     -0.578      0.564      -1.406       0.766\n",
       "Barri_satisfaction_NOT SATISFIED                                 2.3289      1.224      1.903      0.057      -0.069       4.727\n",
       "Barri_comparison_NEITHER THE BEST, NOR THE WORST                 1.4191      0.202      7.023      0.000       1.023       1.815\n",
       "Barri_comparison_ONE OF THE WORST                                1.8636      0.390      4.775      0.000       1.099       2.629\n",
       "================================================================================================================================\n",
       "\"\"\""
      ]
     },
     "execution_count": 72,
     "metadata": {},
     "output_type": "execute_result"
    }
   ],
   "source": [
    "glm_logit_results.summary()"
   ]
  },
  {
   "cell_type": "code",
   "execution_count": 73,
   "metadata": {},
   "outputs": [
    {
     "data": {
      "text/html": [
       "<table class=\"simpletable\">\n",
       "<caption>Generalized Linear Model Regression Results</caption>\n",
       "<tr>\n",
       "  <th>Dep. Variable:</th>   <td>Would_live_in_another_neighborhood</td> <th>  No. Observations:  </th>  <td>  1174</td> \n",
       "</tr>\n",
       "<tr>\n",
       "  <th>Model:</th>                           <td>GLM</td>                <th>  Df Residuals:      </th>  <td>  1166</td> \n",
       "</tr>\n",
       "<tr>\n",
       "  <th>Model Family:</th>                 <td>Binomial</td>              <th>  Df Model:          </th>  <td>     7</td> \n",
       "</tr>\n",
       "<tr>\n",
       "  <th>Link Function:</th>                 <td>probit</td>               <th>  Scale:             </th> <td>  1.0000</td>\n",
       "</tr>\n",
       "<tr>\n",
       "  <th>Method:</th>                         <td>IRLS</td>                <th>  Log-Likelihood:    </th> <td> -396.53</td>\n",
       "</tr>\n",
       "<tr>\n",
       "  <th>Date:</th>                     <td>Mon, 10 May 2021</td>          <th>  Deviance:          </th> <td>  793.07</td>\n",
       "</tr>\n",
       "<tr>\n",
       "  <th>Time:</th>                         <td>07:55:42</td>              <th>  Pearson chi2:      </th> <td>1.23e+03</td>\n",
       "</tr>\n",
       "<tr>\n",
       "  <th>No. Iterations:</th>                   <td>6</td>                 <th>                     </th>     <td> </td>   \n",
       "</tr>\n",
       "<tr>\n",
       "  <th>Covariance Type:</th>              <td>nonrobust</td>             <th>                     </th>     <td> </td>   \n",
       "</tr>\n",
       "</table>\n",
       "<table class=\"simpletable\">\n",
       "<tr>\n",
       "                                <td></td>                                  <th>coef</th>     <th>std err</th>      <th>z</th>      <th>P>|z|</th>  <th>[0.025</th>    <th>0.975]</th>  \n",
       "</tr>\n",
       "<tr>\n",
       "  <th>const</th>                                                        <td>   -1.1558</td> <td>    0.178</td> <td>   -6.504</td> <td> 0.000</td> <td>   -1.504</td> <td>   -0.808</td>\n",
       "</tr>\n",
       "<tr>\n",
       "  <th>BCN_over_barri_satisfaction</th>                                  <td>    0.7072</td> <td>    0.336</td> <td>    2.105</td> <td> 0.035</td> <td>    0.049</td> <td>    1.366</td>\n",
       "</tr>\n",
       "<tr>\n",
       "  <th>Time_living_in_barri_I HAVE ALWAYS LIVED IN THE NEIGHBORHOOD</th> <td>   -0.9590</td> <td>    0.256</td> <td>   -3.749</td> <td> 0.000</td> <td>   -1.460</td> <td>   -0.458</td>\n",
       "</tr>\n",
       "<tr>\n",
       "  <th>Time_living_in_barri_MORE THAN 10 YEARS</th>                      <td>   -0.4137</td> <td>    0.179</td> <td>   -2.317</td> <td> 0.020</td> <td>   -0.764</td> <td>   -0.064</td>\n",
       "</tr>\n",
       "<tr>\n",
       "  <th>Barri_satisfaction_FAIRLY SATISFIED</th>                          <td>   -0.1838</td> <td>    0.305</td> <td>   -0.602</td> <td> 0.547</td> <td>   -0.782</td> <td>    0.414</td>\n",
       "</tr>\n",
       "<tr>\n",
       "  <th>Barri_satisfaction_NOT SATISFIED</th>                             <td>    1.3314</td> <td>    0.641</td> <td>    2.077</td> <td> 0.038</td> <td>    0.075</td> <td>    2.588</td>\n",
       "</tr>\n",
       "<tr>\n",
       "  <th>Barri_comparison_NEITHER THE BEST, NOR THE WORST</th>             <td>    0.7441</td> <td>    0.104</td> <td>    7.170</td> <td> 0.000</td> <td>    0.541</td> <td>    0.947</td>\n",
       "</tr>\n",
       "<tr>\n",
       "  <th>Barri_comparison_ONE OF THE WORST</th>                            <td>    0.9962</td> <td>    0.225</td> <td>    4.423</td> <td> 0.000</td> <td>    0.555</td> <td>    1.438</td>\n",
       "</tr>\n",
       "</table>"
      ],
      "text/plain": [
       "<class 'statsmodels.iolib.summary.Summary'>\n",
       "\"\"\"\n",
       "                         Generalized Linear Model Regression Results                          \n",
       "==============================================================================================\n",
       "Dep. Variable:     Would_live_in_another_neighborhood   No. Observations:                 1174\n",
       "Model:                                            GLM   Df Residuals:                     1166\n",
       "Model Family:                                Binomial   Df Model:                            7\n",
       "Link Function:                                 probit   Scale:                          1.0000\n",
       "Method:                                          IRLS   Log-Likelihood:                -396.53\n",
       "Date:                                Mon, 10 May 2021   Deviance:                       793.07\n",
       "Time:                                        07:55:42   Pearson chi2:                 1.23e+03\n",
       "No. Iterations:                                     6                                         \n",
       "Covariance Type:                            nonrobust                                         \n",
       "================================================================================================================================\n",
       "                                                                   coef    std err          z      P>|z|      [0.025      0.975]\n",
       "--------------------------------------------------------------------------------------------------------------------------------\n",
       "const                                                           -1.1558      0.178     -6.504      0.000      -1.504      -0.808\n",
       "BCN_over_barri_satisfaction                                      0.7072      0.336      2.105      0.035       0.049       1.366\n",
       "Time_living_in_barri_I HAVE ALWAYS LIVED IN THE NEIGHBORHOOD    -0.9590      0.256     -3.749      0.000      -1.460      -0.458\n",
       "Time_living_in_barri_MORE THAN 10 YEARS                         -0.4137      0.179     -2.317      0.020      -0.764      -0.064\n",
       "Barri_satisfaction_FAIRLY SATISFIED                             -0.1838      0.305     -0.602      0.547      -0.782       0.414\n",
       "Barri_satisfaction_NOT SATISFIED                                 1.3314      0.641      2.077      0.038       0.075       2.588\n",
       "Barri_comparison_NEITHER THE BEST, NOR THE WORST                 0.7441      0.104      7.170      0.000       0.541       0.947\n",
       "Barri_comparison_ONE OF THE WORST                                0.9962      0.225      4.423      0.000       0.555       1.438\n",
       "================================================================================================================================\n",
       "\"\"\""
      ]
     },
     "execution_count": 73,
     "metadata": {},
     "output_type": "execute_result"
    }
   ],
   "source": [
    "glm_probit_results.summary()"
   ]
  },
  {
   "cell_type": "code",
   "execution_count": 74,
   "metadata": {},
   "outputs": [
    {
     "data": {
      "text/html": [
       "<table class=\"simpletable\">\n",
       "<caption>Generalized Linear Model Regression Results</caption>\n",
       "<tr>\n",
       "  <th>Dep. Variable:</th>   <td>Would_live_in_another_neighborhood</td> <th>  No. Observations:  </th>  <td>  1174</td> \n",
       "</tr>\n",
       "<tr>\n",
       "  <th>Model:</th>                           <td>GLM</td>                <th>  Df Residuals:      </th>  <td>  1166</td> \n",
       "</tr>\n",
       "<tr>\n",
       "  <th>Model Family:</th>                 <td>Binomial</td>              <th>  Df Model:          </th>  <td>     7</td> \n",
       "</tr>\n",
       "<tr>\n",
       "  <th>Link Function:</th>                 <td>cloglog</td>              <th>  Scale:             </th> <td>  1.0000</td>\n",
       "</tr>\n",
       "<tr>\n",
       "  <th>Method:</th>                         <td>IRLS</td>                <th>  Log-Likelihood:    </th> <td> -396.14</td>\n",
       "</tr>\n",
       "<tr>\n",
       "  <th>Date:</th>                     <td>Mon, 10 May 2021</td>          <th>  Deviance:          </th> <td>  792.28</td>\n",
       "</tr>\n",
       "<tr>\n",
       "  <th>Time:</th>                         <td>07:55:42</td>              <th>  Pearson chi2:      </th> <td>1.20e+03</td>\n",
       "</tr>\n",
       "<tr>\n",
       "  <th>No. Iterations:</th>                   <td>8</td>                 <th>                     </th>     <td> </td>   \n",
       "</tr>\n",
       "<tr>\n",
       "  <th>Covariance Type:</th>              <td>nonrobust</td>             <th>                     </th>     <td> </td>   \n",
       "</tr>\n",
       "</table>\n",
       "<table class=\"simpletable\">\n",
       "<tr>\n",
       "                                <td></td>                                  <th>coef</th>     <th>std err</th>      <th>z</th>      <th>P>|z|</th>  <th>[0.025</th>    <th>0.975]</th>  \n",
       "</tr>\n",
       "<tr>\n",
       "  <th>const</th>                                                        <td>   -2.1305</td> <td>    0.282</td> <td>   -7.564</td> <td> 0.000</td> <td>   -2.683</td> <td>   -1.578</td>\n",
       "</tr>\n",
       "<tr>\n",
       "  <th>BCN_over_barri_satisfaction</th>                                  <td>    1.0290</td> <td>    0.492</td> <td>    2.090</td> <td> 0.037</td> <td>    0.064</td> <td>    1.994</td>\n",
       "</tr>\n",
       "<tr>\n",
       "  <th>Time_living_in_barri_I HAVE ALWAYS LIVED IN THE NEIGHBORHOOD</th> <td>   -1.7037</td> <td>    0.455</td> <td>   -3.746</td> <td> 0.000</td> <td>   -2.595</td> <td>   -0.812</td>\n",
       "</tr>\n",
       "<tr>\n",
       "  <th>Time_living_in_barri_MORE THAN 10 YEARS</th>                      <td>   -0.6778</td> <td>    0.268</td> <td>   -2.531</td> <td> 0.011</td> <td>   -1.203</td> <td>   -0.153</td>\n",
       "</tr>\n",
       "<tr>\n",
       "  <th>Barri_satisfaction_FAIRLY SATISFIED</th>                          <td>   -0.2007</td> <td>    0.467</td> <td>   -0.430</td> <td> 0.667</td> <td>   -1.115</td> <td>    0.714</td>\n",
       "</tr>\n",
       "<tr>\n",
       "  <th>Barri_satisfaction_NOT SATISFIED</th>                             <td>    1.1048</td> <td>    0.675</td> <td>    1.638</td> <td> 0.101</td> <td>   -0.217</td> <td>    2.427</td>\n",
       "</tr>\n",
       "<tr>\n",
       "  <th>Barri_comparison_NEITHER THE BEST, NOR THE WORST</th>             <td>    1.3232</td> <td>    0.189</td> <td>    7.013</td> <td> 0.000</td> <td>    0.953</td> <td>    1.693</td>\n",
       "</tr>\n",
       "<tr>\n",
       "  <th>Barri_comparison_ONE OF THE WORST</th>                            <td>    1.6846</td> <td>    0.326</td> <td>    5.167</td> <td> 0.000</td> <td>    1.046</td> <td>    2.324</td>\n",
       "</tr>\n",
       "</table>"
      ],
      "text/plain": [
       "<class 'statsmodels.iolib.summary.Summary'>\n",
       "\"\"\"\n",
       "                         Generalized Linear Model Regression Results                          \n",
       "==============================================================================================\n",
       "Dep. Variable:     Would_live_in_another_neighborhood   No. Observations:                 1174\n",
       "Model:                                            GLM   Df Residuals:                     1166\n",
       "Model Family:                                Binomial   Df Model:                            7\n",
       "Link Function:                                cloglog   Scale:                          1.0000\n",
       "Method:                                          IRLS   Log-Likelihood:                -396.14\n",
       "Date:                                Mon, 10 May 2021   Deviance:                       792.28\n",
       "Time:                                        07:55:42   Pearson chi2:                 1.20e+03\n",
       "No. Iterations:                                     8                                         \n",
       "Covariance Type:                            nonrobust                                         \n",
       "================================================================================================================================\n",
       "                                                                   coef    std err          z      P>|z|      [0.025      0.975]\n",
       "--------------------------------------------------------------------------------------------------------------------------------\n",
       "const                                                           -2.1305      0.282     -7.564      0.000      -2.683      -1.578\n",
       "BCN_over_barri_satisfaction                                      1.0290      0.492      2.090      0.037       0.064       1.994\n",
       "Time_living_in_barri_I HAVE ALWAYS LIVED IN THE NEIGHBORHOOD    -1.7037      0.455     -3.746      0.000      -2.595      -0.812\n",
       "Time_living_in_barri_MORE THAN 10 YEARS                         -0.6778      0.268     -2.531      0.011      -1.203      -0.153\n",
       "Barri_satisfaction_FAIRLY SATISFIED                             -0.2007      0.467     -0.430      0.667      -1.115       0.714\n",
       "Barri_satisfaction_NOT SATISFIED                                 1.1048      0.675      1.638      0.101      -0.217       2.427\n",
       "Barri_comparison_NEITHER THE BEST, NOR THE WORST                 1.3232      0.189      7.013      0.000       0.953       1.693\n",
       "Barri_comparison_ONE OF THE WORST                                1.6846      0.326      5.167      0.000       1.046       2.324\n",
       "================================================================================================================================\n",
       "\"\"\""
      ]
     },
     "execution_count": 74,
     "metadata": {},
     "output_type": "execute_result"
    }
   ],
   "source": [
    "glm_scobit_results.summary()"
   ]
  },
  {
   "cell_type": "code",
   "execution_count": null,
   "metadata": {},
   "outputs": [],
   "source": []
  },
  {
   "cell_type": "code",
   "execution_count": 75,
   "metadata": {},
   "outputs": [
    {
     "data": {
      "text/html": [
       "<div>\n",
       "<style scoped>\n",
       "    .dataframe tbody tr th:only-of-type {\n",
       "        vertical-align: middle;\n",
       "    }\n",
       "\n",
       "    .dataframe tbody tr th {\n",
       "        vertical-align: top;\n",
       "    }\n",
       "\n",
       "    .dataframe thead th {\n",
       "        text-align: right;\n",
       "    }\n",
       "</style>\n",
       "<table border=\"1\" class=\"dataframe\">\n",
       "  <thead>\n",
       "    <tr style=\"text-align: right;\">\n",
       "      <th>y_predict</th>\n",
       "      <th>0.0</th>\n",
       "      <th>1.0</th>\n",
       "    </tr>\n",
       "    <tr>\n",
       "      <th>y</th>\n",
       "      <th></th>\n",
       "      <th></th>\n",
       "    </tr>\n",
       "  </thead>\n",
       "  <tbody>\n",
       "    <tr>\n",
       "      <th>0.0</th>\n",
       "      <td>1017</td>\n",
       "      <td>2</td>\n",
       "    </tr>\n",
       "    <tr>\n",
       "      <th>1.0</th>\n",
       "      <td>139</td>\n",
       "      <td>16</td>\n",
       "    </tr>\n",
       "  </tbody>\n",
       "</table>\n",
       "</div>"
      ],
      "text/plain": [
       "y_predict   0.0  1.0\n",
       "y                   \n",
       "0.0        1017    2\n",
       "1.0         139   16"
      ]
     },
     "execution_count": 75,
     "metadata": {},
     "output_type": "execute_result"
    }
   ],
   "source": [
    "classification_table(glm_logit_results)"
   ]
  },
  {
   "cell_type": "code",
   "execution_count": 76,
   "metadata": {},
   "outputs": [
    {
     "data": {
      "text/html": [
       "<div>\n",
       "<style scoped>\n",
       "    .dataframe tbody tr th:only-of-type {\n",
       "        vertical-align: middle;\n",
       "    }\n",
       "\n",
       "    .dataframe tbody tr th {\n",
       "        vertical-align: top;\n",
       "    }\n",
       "\n",
       "    .dataframe thead th {\n",
       "        text-align: right;\n",
       "    }\n",
       "</style>\n",
       "<table border=\"1\" class=\"dataframe\">\n",
       "  <thead>\n",
       "    <tr style=\"text-align: right;\">\n",
       "      <th>y_predict</th>\n",
       "      <th>0.0</th>\n",
       "      <th>1.0</th>\n",
       "    </tr>\n",
       "    <tr>\n",
       "      <th>y</th>\n",
       "      <th></th>\n",
       "      <th></th>\n",
       "    </tr>\n",
       "  </thead>\n",
       "  <tbody>\n",
       "    <tr>\n",
       "      <th>0.0</th>\n",
       "      <td>1018</td>\n",
       "      <td>1</td>\n",
       "    </tr>\n",
       "    <tr>\n",
       "      <th>1.0</th>\n",
       "      <td>145</td>\n",
       "      <td>10</td>\n",
       "    </tr>\n",
       "  </tbody>\n",
       "</table>\n",
       "</div>"
      ],
      "text/plain": [
       "y_predict   0.0  1.0\n",
       "y                   \n",
       "0.0        1018    1\n",
       "1.0         145   10"
      ]
     },
     "execution_count": 76,
     "metadata": {},
     "output_type": "execute_result"
    }
   ],
   "source": [
    "classification_table(glm_probit_results)"
   ]
  },
  {
   "cell_type": "code",
   "execution_count": 77,
   "metadata": {},
   "outputs": [
    {
     "data": {
      "text/html": [
       "<div>\n",
       "<style scoped>\n",
       "    .dataframe tbody tr th:only-of-type {\n",
       "        vertical-align: middle;\n",
       "    }\n",
       "\n",
       "    .dataframe tbody tr th {\n",
       "        vertical-align: top;\n",
       "    }\n",
       "\n",
       "    .dataframe thead th {\n",
       "        text-align: right;\n",
       "    }\n",
       "</style>\n",
       "<table border=\"1\" class=\"dataframe\">\n",
       "  <thead>\n",
       "    <tr style=\"text-align: right;\">\n",
       "      <th>y_predict</th>\n",
       "      <th>0.0</th>\n",
       "      <th>1.0</th>\n",
       "    </tr>\n",
       "    <tr>\n",
       "      <th>y</th>\n",
       "      <th></th>\n",
       "      <th></th>\n",
       "    </tr>\n",
       "  </thead>\n",
       "  <tbody>\n",
       "    <tr>\n",
       "      <th>0.0</th>\n",
       "      <td>1017</td>\n",
       "      <td>2</td>\n",
       "    </tr>\n",
       "    <tr>\n",
       "      <th>1.0</th>\n",
       "      <td>140</td>\n",
       "      <td>15</td>\n",
       "    </tr>\n",
       "  </tbody>\n",
       "</table>\n",
       "</div>"
      ],
      "text/plain": [
       "y_predict   0.0  1.0\n",
       "y                   \n",
       "0.0        1017    2\n",
       "1.0         140   15"
      ]
     },
     "execution_count": 77,
     "metadata": {},
     "output_type": "execute_result"
    }
   ],
   "source": [
    "classification_table(glm_scobit_results)"
   ]
  },
  {
   "cell_type": "code",
   "execution_count": null,
   "metadata": {},
   "outputs": [],
   "source": []
  },
  {
   "cell_type": "code",
   "execution_count": 78,
   "metadata": {},
   "outputs": [
    {
     "data": {
      "image/png": "[encoded data removed]",
      "text/plain": [
       "<Figure size 432x288 with 1 Axes>"
      ]
     },
     "metadata": {},
     "output_type": "display_data"
    }
   ],
   "source": [
    "plot_roc_auc(glm_logit_results)"
   ]
  },
  {
   "cell_type": "code",
   "execution_count": 79,
   "metadata": {},
   "outputs": [
    {
     "data": {
      "image/png": "[encoded data removed]",
      "text/plain": [
       "<Figure size 432x288 with 1 Axes>"
      ]
     },
     "metadata": {},
     "output_type": "display_data"
    }
   ],
   "source": [
    "plot_roc_auc(glm_probit_results)"
   ]
  },
  {
   "cell_type": "code",
   "execution_count": 80,
   "metadata": {},
   "outputs": [
    {
     "data": {
      "image/png": "[encoded data removed]",
      "text/plain": [
       "<Figure size 432x288 with 1 Axes>"
      ]
     },
     "metadata": {},
     "output_type": "display_data"
    }
   ],
   "source": [
    "plot_roc_auc(glm_scobit_results)"
   ]
  },
  {
   "cell_type": "code",
   "execution_count": null,
   "metadata": {},
   "outputs": [],
   "source": []
  },
  {
   "cell_type": "code",
   "execution_count": 81,
   "metadata": {},
   "outputs": [
    {
     "name": "stdout",
     "output_type": "stream",
     "text": [
      "Logit\n",
      "Pseudo R2: 0.1359970697611943\n",
      "Adj Count R2: 0.09\n"
     ]
    }
   ],
   "source": [
    "print(\"Logit\")\n",
    "pseudo_r2(glm_logit_results)\n",
    "adj_count_r2(glm_logit_results)"
   ]
  },
  {
   "cell_type": "code",
   "execution_count": 82,
   "metadata": {},
   "outputs": [
    {
     "name": "stdout",
     "output_type": "stream",
     "text": [
      "Probit\n",
      "Pseudo R2: 0.13443509204419457\n",
      "Adj Count R2: 0.058\n"
     ]
    }
   ],
   "source": [
    "print(\"Probit\")\n",
    "pseudo_r2(glm_probit_results)\n",
    "adj_count_r2(glm_probit_results)"
   ]
  },
  {
   "cell_type": "code",
   "execution_count": 83,
   "metadata": {},
   "outputs": [
    {
     "name": "stdout",
     "output_type": "stream",
     "text": [
      "Scobit\n",
      "Pseudo R2: 0.13529194199421013\n",
      "Adj Count R2: 0.084\n"
     ]
    }
   ],
   "source": [
    "print(\"Scobit\")\n",
    "pseudo_r2(glm_scobit_results)\n",
    "adj_count_r2(glm_scobit_results)"
   ]
  },
  {
   "cell_type": "code",
   "execution_count": null,
   "metadata": {},
   "outputs": [],
   "source": []
  },
  {
   "cell_type": "code",
   "execution_count": 84,
   "metadata": {},
   "outputs": [
    {
     "name": "stdout",
     "output_type": "stream",
     "text": [
      "Logit \n",
      " AIC: 807.6358393000108 BIC: -7449.852713152447\n"
     ]
    },
    {
     "name": "stderr",
     "output_type": "stream",
     "text": [
      "C:\\Users\\THINK\\anaconda3\\lib\\site-packages\\statsmodels\\genmod\\generalized_linear_model.py:1731: FutureWarning: The bic value is computed using the deviance formula. After 0.13 this will change to the log-likelihood based formula. This change has no impact on the relative rank of models compared using BIC. You can directly access the log-likelihood version using the `bic_llf` attribute. You can suppress this message by calling statsmodels.genmod.generalized_linear_model.SET_USE_BIC_LLF with True to get the LLF-based version now or False to retainthe deviance version.\n",
      "  FutureWarning\n"
     ]
    }
   ],
   "source": [
    "print(\"Logit \\n AIC:\", glm_logit_results.aic, \"BIC:\", glm_logit_results.bic)"
   ]
  },
  {
   "cell_type": "code",
   "execution_count": 85,
   "metadata": {},
   "outputs": [
    {
     "name": "stdout",
     "output_type": "stream",
     "text": [
      "Probit \n",
      " AIC: 809.066989007597 BIC: -7448.421563444861\n"
     ]
    }
   ],
   "source": [
    "print(\"Probit \\n AIC:\", glm_probit_results.aic, \"BIC:\", glm_probit_results.bic)"
   ]
  },
  {
   "cell_type": "code",
   "execution_count": 86,
   "metadata": {},
   "outputs": [
    {
     "name": "stdout",
     "output_type": "stream",
     "text": [
      "Scobit \n",
      " AIC: 808.2819070297534 BIC: -7449.206645422704\n"
     ]
    }
   ],
   "source": [
    "print(\"Scobit \\n AIC:\", glm_scobit_results.aic, \"BIC:\", glm_scobit_results.bic)"
   ]
  },
  {
   "cell_type": "code",
   "execution_count": null,
   "metadata": {},
   "outputs": [],
   "source": []
  },
  {
   "cell_type": "code",
   "execution_count": null,
   "metadata": {},
   "outputs": [],
   "source": []
  }
 ],
 "metadata": {
  "kernelspec": {
   "display_name": "Python 3",
   "language": "python",
   "name": "python3"
  },
  "language_info": {
   "codemirror_mode": {
    "name": "ipython",
    "version": 3
   },
   "file_extension": ".py",
   "mimetype": "text/x-python",
   "name": "python",
   "nbconvert_exporter": "python",
   "pygments_lexer": "ipython3",
   "version": "3.7.6"
  }
 },
 "nbformat": 4,
 "nbformat_minor": 4
}
