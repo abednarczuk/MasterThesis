{
 "cells": [
  {
   "cell_type": "markdown",
   "metadata": {},
   "source": [
    "Aleksandra Bednarczuk"
   ]
  },
  {
   "cell_type": "markdown",
   "metadata": {},
   "source": [
    "# Predictors of elderly citizens willingness to stay in the neighbourhood\n",
    "# Logistic regression"
   ]
  },
  {
   "cell_type": "markdown",
   "metadata": {},
   "source": [
    "Original dataset, including barris among predictors"
   ]
  },
  {
   "cell_type": "code",
   "execution_count": 1,
   "metadata": {},
   "outputs": [],
   "source": [
    "import pandas as pd\n",
    "import numpy as np\n",
    "\n",
    "import matplotlib.pyplot as plt"
   ]
  },
  {
   "cell_type": "code",
   "execution_count": 2,
   "metadata": {},
   "outputs": [],
   "source": [
    "import statsmodels.api as sm\n",
    "import statsmodels.formula.api as smf\n",
    "\n",
    "from sklearn.metrics import accuracy_score\n",
    "from sklearn.metrics import classification_report\n",
    "from sklearn.metrics import confusion_matrix\n",
    "from sklearn.metrics import roc_auc_score\n",
    "from sklearn.metrics import roc_curve\n",
    "from sklearn.metrics import r2_score\n",
    "\n",
    "from sklearn.feature_selection import SelectKBest\n",
    "from sklearn.feature_selection import chi2\n",
    "from sklearn.feature_selection import mutual_info_classif\n",
    "from sklearn.feature_selection import f_classif\n",
    "\n",
    "from scipy import stats"
   ]
  },
  {
   "cell_type": "code",
   "execution_count": null,
   "metadata": {},
   "outputs": [],
   "source": []
  },
  {
   "cell_type": "code",
   "execution_count": 3,
   "metadata": {},
   "outputs": [],
   "source": [
    "data = pd.read_pickle(\"survey_transformed_2019.pkl\")"
   ]
  },
  {
   "cell_type": "code",
   "execution_count": 4,
   "metadata": {},
   "outputs": [],
   "source": [
    "data.reset_index(drop=True, inplace=True)"
   ]
  },
  {
   "cell_type": "code",
   "execution_count": 5,
   "metadata": {},
   "outputs": [
    {
     "data": {
      "text/html": [
       "<div>\n",
       "<style scoped>\n",
       "    .dataframe tbody tr th:only-of-type {\n",
       "        vertical-align: middle;\n",
       "    }\n",
       "\n",
       "    .dataframe tbody tr th {\n",
       "        vertical-align: top;\n",
       "    }\n",
       "\n",
       "    .dataframe thead th {\n",
       "        text-align: right;\n",
       "    }\n",
       "</style>\n",
       "<table border=\"1\" class=\"dataframe\">\n",
       "  <thead>\n",
       "    <tr style=\"text-align: right;\">\n",
       "      <th></th>\n",
       "      <th>Would_live_in_another_neighborhood</th>\n",
       "      <th>District</th>\n",
       "      <th>Woman</th>\n",
       "      <th>Car</th>\n",
       "      <th>Support_with_housework</th>\n",
       "      <th>Owner</th>\n",
       "      <th>House_size</th>\n",
       "      <th>No_of_people_in_the_house</th>\n",
       "      <th>Family_type</th>\n",
       "      <th>Financial_situation</th>\n",
       "      <th>...</th>\n",
       "      <th>CIRCULATION AND TRAFFIC</th>\n",
       "      <th>BUS</th>\n",
       "      <th>CITIZEN SECURITY IN THE CITY AS A WHOLE</th>\n",
       "      <th>CITY MANAGEMENT</th>\n",
       "      <th>BCN_over_barri_evolution</th>\n",
       "      <th>BCN_over_barri_future</th>\n",
       "      <th>BCN_over_barri_satisfaction</th>\n",
       "      <th>BCN_over_barri_transport</th>\n",
       "      <th>BCN_over_barri_management</th>\n",
       "      <th>BCN_over_barri_security</th>\n",
       "    </tr>\n",
       "  </thead>\n",
       "  <tbody>\n",
       "    <tr>\n",
       "      <th>0</th>\n",
       "      <td>0.0</td>\n",
       "      <td>SANTS - MONTJUÏC</td>\n",
       "      <td>0</td>\n",
       "      <td>1</td>\n",
       "      <td>0.0</td>\n",
       "      <td>1.0</td>\n",
       "      <td>51-100 M2</td>\n",
       "      <td>TWO</td>\n",
       "      <td>COUPLE WITH NO CHILDREN</td>\n",
       "      <td>GOOD</td>\n",
       "      <td>...</td>\n",
       "      <td>GOOD</td>\n",
       "      <td>GOOD</td>\n",
       "      <td>NEITHER BAD, NOR GOOD</td>\n",
       "      <td>GOOD</td>\n",
       "      <td>0</td>\n",
       "      <td>0</td>\n",
       "      <td>0</td>\n",
       "      <td>0</td>\n",
       "      <td>0</td>\n",
       "      <td>0</td>\n",
       "    </tr>\n",
       "    <tr>\n",
       "      <th>1</th>\n",
       "      <td>0.0</td>\n",
       "      <td>SANTS - MONTJUÏC</td>\n",
       "      <td>1</td>\n",
       "      <td>0</td>\n",
       "      <td>0.0</td>\n",
       "      <td>1.0</td>\n",
       "      <td>51-100 M2</td>\n",
       "      <td>ONE</td>\n",
       "      <td>SINGLE</td>\n",
       "      <td>BAD</td>\n",
       "      <td>...</td>\n",
       "      <td>NEITHER BAD, NOR GOOD</td>\n",
       "      <td>GOOD</td>\n",
       "      <td>GOOD</td>\n",
       "      <td>NEITHER BAD, NOR GOOD</td>\n",
       "      <td>1</td>\n",
       "      <td>0</td>\n",
       "      <td>0</td>\n",
       "      <td>0</td>\n",
       "      <td>0</td>\n",
       "      <td>0</td>\n",
       "    </tr>\n",
       "    <tr>\n",
       "      <th>2</th>\n",
       "      <td>0.0</td>\n",
       "      <td>SANTS - MONTJUÏC</td>\n",
       "      <td>1</td>\n",
       "      <td>0</td>\n",
       "      <td>1.0</td>\n",
       "      <td>0.0</td>\n",
       "      <td>51-100 M2</td>\n",
       "      <td>ONE</td>\n",
       "      <td>SINGLE</td>\n",
       "      <td>GOOD</td>\n",
       "      <td>...</td>\n",
       "      <td>NEITHER BAD, NOR GOOD</td>\n",
       "      <td>GOOD</td>\n",
       "      <td>NEITHER BAD, NOR GOOD</td>\n",
       "      <td>NEITHER BAD, NOR GOOD</td>\n",
       "      <td>0</td>\n",
       "      <td>0</td>\n",
       "      <td>0</td>\n",
       "      <td>1</td>\n",
       "      <td>0</td>\n",
       "      <td>0</td>\n",
       "    </tr>\n",
       "    <tr>\n",
       "      <th>3</th>\n",
       "      <td>1.0</td>\n",
       "      <td>SANTS - MONTJUÏC</td>\n",
       "      <td>0</td>\n",
       "      <td>0</td>\n",
       "      <td>0.0</td>\n",
       "      <td>1.0</td>\n",
       "      <td>&lt; 50 M2</td>\n",
       "      <td>TWO</td>\n",
       "      <td>COUPLE WITH NO CHILDREN</td>\n",
       "      <td>BAD</td>\n",
       "      <td>...</td>\n",
       "      <td>NEITHER BAD, NOR GOOD</td>\n",
       "      <td>GOOD</td>\n",
       "      <td>NEITHER BAD, NOR GOOD</td>\n",
       "      <td>NEITHER BAD, NOR GOOD</td>\n",
       "      <td>0</td>\n",
       "      <td>0</td>\n",
       "      <td>1</td>\n",
       "      <td>0</td>\n",
       "      <td>0</td>\n",
       "      <td>0</td>\n",
       "    </tr>\n",
       "    <tr>\n",
       "      <th>4</th>\n",
       "      <td>0.0</td>\n",
       "      <td>SANTS - MONTJUÏC</td>\n",
       "      <td>1</td>\n",
       "      <td>0</td>\n",
       "      <td>1.0</td>\n",
       "      <td>1.0</td>\n",
       "      <td>51-100 M2</td>\n",
       "      <td>TWO</td>\n",
       "      <td>SINGLE-PARENT WITH CHILDREN</td>\n",
       "      <td>GOOD</td>\n",
       "      <td>...</td>\n",
       "      <td>NEITHER BAD, NOR GOOD</td>\n",
       "      <td>NEITHER BAD, NOR GOOD</td>\n",
       "      <td>GOOD</td>\n",
       "      <td>GOOD</td>\n",
       "      <td>0</td>\n",
       "      <td>1</td>\n",
       "      <td>0</td>\n",
       "      <td>0</td>\n",
       "      <td>0</td>\n",
       "      <td>0</td>\n",
       "    </tr>\n",
       "  </tbody>\n",
       "</table>\n",
       "<p>5 rows × 48 columns</p>\n",
       "</div>"
      ],
      "text/plain": [
       "   Would_live_in_another_neighborhood          District  Woman  Car  \\\n",
       "0                                 0.0  SANTS - MONTJUÏC      0    1   \n",
       "1                                 0.0  SANTS - MONTJUÏC      1    0   \n",
       "2                                 0.0  SANTS - MONTJUÏC      1    0   \n",
       "3                                 1.0  SANTS - MONTJUÏC      0    0   \n",
       "4                                 0.0  SANTS - MONTJUÏC      1    0   \n",
       "\n",
       "   Support_with_housework  Owner House_size No_of_people_in_the_house  \\\n",
       "0                     0.0    1.0  51-100 M2                       TWO   \n",
       "1                     0.0    1.0  51-100 M2                       ONE   \n",
       "2                     1.0    0.0  51-100 M2                       ONE   \n",
       "3                     0.0    1.0    < 50 M2                       TWO   \n",
       "4                     1.0    1.0  51-100 M2                       TWO   \n",
       "\n",
       "                   Family_type Financial_situation  ...  \\\n",
       "0      COUPLE WITH NO CHILDREN                GOOD  ...   \n",
       "1                       SINGLE                 BAD  ...   \n",
       "2                       SINGLE                GOOD  ...   \n",
       "3      COUPLE WITH NO CHILDREN                 BAD  ...   \n",
       "4  SINGLE-PARENT WITH CHILDREN                GOOD  ...   \n",
       "\n",
       "   CIRCULATION AND TRAFFIC                    BUS  \\\n",
       "0                     GOOD                   GOOD   \n",
       "1    NEITHER BAD, NOR GOOD                   GOOD   \n",
       "2    NEITHER BAD, NOR GOOD                   GOOD   \n",
       "3    NEITHER BAD, NOR GOOD                   GOOD   \n",
       "4    NEITHER BAD, NOR GOOD  NEITHER BAD, NOR GOOD   \n",
       "\n",
       "  CITIZEN SECURITY IN THE CITY AS A WHOLE        CITY MANAGEMENT  \\\n",
       "0                   NEITHER BAD, NOR GOOD                   GOOD   \n",
       "1                                    GOOD  NEITHER BAD, NOR GOOD   \n",
       "2                   NEITHER BAD, NOR GOOD  NEITHER BAD, NOR GOOD   \n",
       "3                   NEITHER BAD, NOR GOOD  NEITHER BAD, NOR GOOD   \n",
       "4                                    GOOD                   GOOD   \n",
       "\n",
       "  BCN_over_barri_evolution BCN_over_barri_future BCN_over_barri_satisfaction  \\\n",
       "0                        0                     0                           0   \n",
       "1                        1                     0                           0   \n",
       "2                        0                     0                           0   \n",
       "3                        0                     0                           1   \n",
       "4                        0                     1                           0   \n",
       "\n",
       "  BCN_over_barri_transport BCN_over_barri_management BCN_over_barri_security  \n",
       "0                        0                         0                       0  \n",
       "1                        0                         0                       0  \n",
       "2                        1                         0                       0  \n",
       "3                        0                         0                       0  \n",
       "4                        0                         0                       0  \n",
       "\n",
       "[5 rows x 48 columns]"
      ]
     },
     "execution_count": 5,
     "metadata": {},
     "output_type": "execute_result"
    }
   ],
   "source": [
    "data.head()"
   ]
  },
  {
   "cell_type": "code",
   "execution_count": null,
   "metadata": {},
   "outputs": [],
   "source": []
  },
  {
   "cell_type": "code",
   "execution_count": 6,
   "metadata": {},
   "outputs": [
    {
     "data": {
      "text/plain": [
       "(1169, 48)"
      ]
     },
     "execution_count": 6,
     "metadata": {},
     "output_type": "execute_result"
    }
   ],
   "source": [
    "data.shape"
   ]
  },
  {
   "cell_type": "code",
   "execution_count": 7,
   "metadata": {},
   "outputs": [
    {
     "data": {
      "text/html": [
       "<div>\n",
       "<style scoped>\n",
       "    .dataframe tbody tr th:only-of-type {\n",
       "        vertical-align: middle;\n",
       "    }\n",
       "\n",
       "    .dataframe tbody tr th {\n",
       "        vertical-align: top;\n",
       "    }\n",
       "\n",
       "    .dataframe thead th {\n",
       "        text-align: right;\n",
       "    }\n",
       "</style>\n",
       "<table border=\"1\" class=\"dataframe\">\n",
       "  <thead>\n",
       "    <tr style=\"text-align: right;\">\n",
       "      <th>Would_live_in_another_neighborhood</th>\n",
       "      <th>0.0</th>\n",
       "      <th>1.0</th>\n",
       "    </tr>\n",
       "    <tr>\n",
       "      <th>Would_live_in_another_neighborhood</th>\n",
       "      <th></th>\n",
       "      <th></th>\n",
       "    </tr>\n",
       "  </thead>\n",
       "  <tbody>\n",
       "    <tr>\n",
       "      <th>0.0</th>\n",
       "      <td>1014</td>\n",
       "      <td>0</td>\n",
       "    </tr>\n",
       "    <tr>\n",
       "      <th>1.0</th>\n",
       "      <td>0</td>\n",
       "      <td>155</td>\n",
       "    </tr>\n",
       "  </tbody>\n",
       "</table>\n",
       "</div>"
      ],
      "text/plain": [
       "Would_live_in_another_neighborhood   0.0  1.0\n",
       "Would_live_in_another_neighborhood           \n",
       "0.0                                 1014    0\n",
       "1.0                                    0  155"
      ]
     },
     "metadata": {},
     "output_type": "display_data"
    },
    {
     "data": {
      "text/html": [
       "<div>\n",
       "<style scoped>\n",
       "    .dataframe tbody tr th:only-of-type {\n",
       "        vertical-align: middle;\n",
       "    }\n",
       "\n",
       "    .dataframe tbody tr th {\n",
       "        vertical-align: top;\n",
       "    }\n",
       "\n",
       "    .dataframe thead th {\n",
       "        text-align: right;\n",
       "    }\n",
       "</style>\n",
       "<table border=\"1\" class=\"dataframe\">\n",
       "  <thead>\n",
       "    <tr style=\"text-align: right;\">\n",
       "      <th>Would_live_in_another_neighborhood</th>\n",
       "      <th>0.0</th>\n",
       "      <th>1.0</th>\n",
       "    </tr>\n",
       "    <tr>\n",
       "      <th>District</th>\n",
       "      <th></th>\n",
       "      <th></th>\n",
       "    </tr>\n",
       "  </thead>\n",
       "  <tbody>\n",
       "    <tr>\n",
       "      <th>CIUTAT VELLA</th>\n",
       "      <td>60</td>\n",
       "      <td>8</td>\n",
       "    </tr>\n",
       "    <tr>\n",
       "      <th>EIXAMPLE</th>\n",
       "      <td>178</td>\n",
       "      <td>20</td>\n",
       "    </tr>\n",
       "    <tr>\n",
       "      <th>GRÀCIA</th>\n",
       "      <td>83</td>\n",
       "      <td>12</td>\n",
       "    </tr>\n",
       "    <tr>\n",
       "      <th>HORTA - GUINARDÓ</th>\n",
       "      <td>111</td>\n",
       "      <td>21</td>\n",
       "    </tr>\n",
       "    <tr>\n",
       "      <th>LES CORTS</th>\n",
       "      <td>104</td>\n",
       "      <td>4</td>\n",
       "    </tr>\n",
       "    <tr>\n",
       "      <th>NOU BARRIS</th>\n",
       "      <td>94</td>\n",
       "      <td>23</td>\n",
       "    </tr>\n",
       "    <tr>\n",
       "      <th>SANT ANDREU</th>\n",
       "      <td>83</td>\n",
       "      <td>22</td>\n",
       "    </tr>\n",
       "    <tr>\n",
       "      <th>SANT MARTÍ</th>\n",
       "      <td>128</td>\n",
       "      <td>18</td>\n",
       "    </tr>\n",
       "    <tr>\n",
       "      <th>SANTS - MONTJUÏC</th>\n",
       "      <td>80</td>\n",
       "      <td>22</td>\n",
       "    </tr>\n",
       "    <tr>\n",
       "      <th>SARRIÀ - SANT GERVASI</th>\n",
       "      <td>93</td>\n",
       "      <td>5</td>\n",
       "    </tr>\n",
       "  </tbody>\n",
       "</table>\n",
       "</div>"
      ],
      "text/plain": [
       "Would_live_in_another_neighborhood  0.0  1.0\n",
       "District                                    \n",
       "CIUTAT VELLA                         60    8\n",
       "EIXAMPLE                            178   20\n",
       "GRÀCIA                               83   12\n",
       "HORTA - GUINARDÓ                    111   21\n",
       "LES CORTS                           104    4\n",
       "NOU BARRIS                           94   23\n",
       "SANT ANDREU                          83   22\n",
       "SANT MARTÍ                          128   18\n",
       "SANTS - MONTJUÏC                     80   22\n",
       "SARRIÀ - SANT GERVASI                93    5"
      ]
     },
     "metadata": {},
     "output_type": "display_data"
    },
    {
     "data": {
      "text/html": [
       "<div>\n",
       "<style scoped>\n",
       "    .dataframe tbody tr th:only-of-type {\n",
       "        vertical-align: middle;\n",
       "    }\n",
       "\n",
       "    .dataframe tbody tr th {\n",
       "        vertical-align: top;\n",
       "    }\n",
       "\n",
       "    .dataframe thead th {\n",
       "        text-align: right;\n",
       "    }\n",
       "</style>\n",
       "<table border=\"1\" class=\"dataframe\">\n",
       "  <thead>\n",
       "    <tr style=\"text-align: right;\">\n",
       "      <th>Would_live_in_another_neighborhood</th>\n",
       "      <th>0.0</th>\n",
       "      <th>1.0</th>\n",
       "    </tr>\n",
       "    <tr>\n",
       "      <th>Woman</th>\n",
       "      <th></th>\n",
       "      <th></th>\n",
       "    </tr>\n",
       "  </thead>\n",
       "  <tbody>\n",
       "    <tr>\n",
       "      <th>0</th>\n",
       "      <td>399</td>\n",
       "      <td>61</td>\n",
       "    </tr>\n",
       "    <tr>\n",
       "      <th>1</th>\n",
       "      <td>615</td>\n",
       "      <td>94</td>\n",
       "    </tr>\n",
       "  </tbody>\n",
       "</table>\n",
       "</div>"
      ],
      "text/plain": [
       "Would_live_in_another_neighborhood  0.0  1.0\n",
       "Woman                                       \n",
       "0                                   399   61\n",
       "1                                   615   94"
      ]
     },
     "metadata": {},
     "output_type": "display_data"
    },
    {
     "data": {
      "text/html": [
       "<div>\n",
       "<style scoped>\n",
       "    .dataframe tbody tr th:only-of-type {\n",
       "        vertical-align: middle;\n",
       "    }\n",
       "\n",
       "    .dataframe tbody tr th {\n",
       "        vertical-align: top;\n",
       "    }\n",
       "\n",
       "    .dataframe thead th {\n",
       "        text-align: right;\n",
       "    }\n",
       "</style>\n",
       "<table border=\"1\" class=\"dataframe\">\n",
       "  <thead>\n",
       "    <tr style=\"text-align: right;\">\n",
       "      <th>Would_live_in_another_neighborhood</th>\n",
       "      <th>0.0</th>\n",
       "      <th>1.0</th>\n",
       "    </tr>\n",
       "    <tr>\n",
       "      <th>Car</th>\n",
       "      <th></th>\n",
       "      <th></th>\n",
       "    </tr>\n",
       "  </thead>\n",
       "  <tbody>\n",
       "    <tr>\n",
       "      <th>0</th>\n",
       "      <td>476</td>\n",
       "      <td>63</td>\n",
       "    </tr>\n",
       "    <tr>\n",
       "      <th>1</th>\n",
       "      <td>538</td>\n",
       "      <td>92</td>\n",
       "    </tr>\n",
       "  </tbody>\n",
       "</table>\n",
       "</div>"
      ],
      "text/plain": [
       "Would_live_in_another_neighborhood  0.0  1.0\n",
       "Car                                         \n",
       "0                                   476   63\n",
       "1                                   538   92"
      ]
     },
     "metadata": {},
     "output_type": "display_data"
    },
    {
     "data": {
      "text/html": [
       "<div>\n",
       "<style scoped>\n",
       "    .dataframe tbody tr th:only-of-type {\n",
       "        vertical-align: middle;\n",
       "    }\n",
       "\n",
       "    .dataframe tbody tr th {\n",
       "        vertical-align: top;\n",
       "    }\n",
       "\n",
       "    .dataframe thead th {\n",
       "        text-align: right;\n",
       "    }\n",
       "</style>\n",
       "<table border=\"1\" class=\"dataframe\">\n",
       "  <thead>\n",
       "    <tr style=\"text-align: right;\">\n",
       "      <th>Would_live_in_another_neighborhood</th>\n",
       "      <th>0.0</th>\n",
       "      <th>1.0</th>\n",
       "    </tr>\n",
       "    <tr>\n",
       "      <th>Support_with_housework</th>\n",
       "      <th></th>\n",
       "      <th></th>\n",
       "    </tr>\n",
       "  </thead>\n",
       "  <tbody>\n",
       "    <tr>\n",
       "      <th>0.0</th>\n",
       "      <td>652</td>\n",
       "      <td>110</td>\n",
       "    </tr>\n",
       "    <tr>\n",
       "      <th>1.0</th>\n",
       "      <td>362</td>\n",
       "      <td>45</td>\n",
       "    </tr>\n",
       "  </tbody>\n",
       "</table>\n",
       "</div>"
      ],
      "text/plain": [
       "Would_live_in_another_neighborhood  0.0  1.0\n",
       "Support_with_housework                      \n",
       "0.0                                 652  110\n",
       "1.0                                 362   45"
      ]
     },
     "metadata": {},
     "output_type": "display_data"
    },
    {
     "data": {
      "text/html": [
       "<div>\n",
       "<style scoped>\n",
       "    .dataframe tbody tr th:only-of-type {\n",
       "        vertical-align: middle;\n",
       "    }\n",
       "\n",
       "    .dataframe tbody tr th {\n",
       "        vertical-align: top;\n",
       "    }\n",
       "\n",
       "    .dataframe thead th {\n",
       "        text-align: right;\n",
       "    }\n",
       "</style>\n",
       "<table border=\"1\" class=\"dataframe\">\n",
       "  <thead>\n",
       "    <tr style=\"text-align: right;\">\n",
       "      <th>Would_live_in_another_neighborhood</th>\n",
       "      <th>0.0</th>\n",
       "      <th>1.0</th>\n",
       "    </tr>\n",
       "    <tr>\n",
       "      <th>Owner</th>\n",
       "      <th></th>\n",
       "      <th></th>\n",
       "    </tr>\n",
       "  </thead>\n",
       "  <tbody>\n",
       "    <tr>\n",
       "      <th>0.0</th>\n",
       "      <td>207</td>\n",
       "      <td>28</td>\n",
       "    </tr>\n",
       "    <tr>\n",
       "      <th>1.0</th>\n",
       "      <td>807</td>\n",
       "      <td>127</td>\n",
       "    </tr>\n",
       "  </tbody>\n",
       "</table>\n",
       "</div>"
      ],
      "text/plain": [
       "Would_live_in_another_neighborhood  0.0  1.0\n",
       "Owner                                       \n",
       "0.0                                 207   28\n",
       "1.0                                 807  127"
      ]
     },
     "metadata": {},
     "output_type": "display_data"
    },
    {
     "data": {
      "text/html": [
       "<div>\n",
       "<style scoped>\n",
       "    .dataframe tbody tr th:only-of-type {\n",
       "        vertical-align: middle;\n",
       "    }\n",
       "\n",
       "    .dataframe tbody tr th {\n",
       "        vertical-align: top;\n",
       "    }\n",
       "\n",
       "    .dataframe thead th {\n",
       "        text-align: right;\n",
       "    }\n",
       "</style>\n",
       "<table border=\"1\" class=\"dataframe\">\n",
       "  <thead>\n",
       "    <tr style=\"text-align: right;\">\n",
       "      <th>Would_live_in_another_neighborhood</th>\n",
       "      <th>0.0</th>\n",
       "      <th>1.0</th>\n",
       "    </tr>\n",
       "    <tr>\n",
       "      <th>House_size</th>\n",
       "      <th></th>\n",
       "      <th></th>\n",
       "    </tr>\n",
       "  </thead>\n",
       "  <tbody>\n",
       "    <tr>\n",
       "      <th>101-150 M2</th>\n",
       "      <td>125</td>\n",
       "      <td>15</td>\n",
       "    </tr>\n",
       "    <tr>\n",
       "      <th>51-100 M2</th>\n",
       "      <td>723</td>\n",
       "      <td>115</td>\n",
       "    </tr>\n",
       "    <tr>\n",
       "      <th>&lt; 50 M2</th>\n",
       "      <td>57</td>\n",
       "      <td>14</td>\n",
       "    </tr>\n",
       "    <tr>\n",
       "      <th>&gt; 150 M2</th>\n",
       "      <td>42</td>\n",
       "      <td>5</td>\n",
       "    </tr>\n",
       "    <tr>\n",
       "      <th>I DON'T KNOW</th>\n",
       "      <td>67</td>\n",
       "      <td>6</td>\n",
       "    </tr>\n",
       "  </tbody>\n",
       "</table>\n",
       "</div>"
      ],
      "text/plain": [
       "Would_live_in_another_neighborhood  0.0  1.0\n",
       "House_size                                  \n",
       "101-150 M2                          125   15\n",
       "51-100 M2                           723  115\n",
       "< 50 M2                              57   14\n",
       "> 150 M2                             42    5\n",
       "I DON'T KNOW                         67    6"
      ]
     },
     "metadata": {},
     "output_type": "display_data"
    },
    {
     "data": {
      "text/html": [
       "<div>\n",
       "<style scoped>\n",
       "    .dataframe tbody tr th:only-of-type {\n",
       "        vertical-align: middle;\n",
       "    }\n",
       "\n",
       "    .dataframe tbody tr th {\n",
       "        vertical-align: top;\n",
       "    }\n",
       "\n",
       "    .dataframe thead th {\n",
       "        text-align: right;\n",
       "    }\n",
       "</style>\n",
       "<table border=\"1\" class=\"dataframe\">\n",
       "  <thead>\n",
       "    <tr style=\"text-align: right;\">\n",
       "      <th>Would_live_in_another_neighborhood</th>\n",
       "      <th>0.0</th>\n",
       "      <th>1.0</th>\n",
       "    </tr>\n",
       "    <tr>\n",
       "      <th>No_of_people_in_the_house</th>\n",
       "      <th></th>\n",
       "      <th></th>\n",
       "    </tr>\n",
       "  </thead>\n",
       "  <tbody>\n",
       "    <tr>\n",
       "      <th>ONE</th>\n",
       "      <td>352</td>\n",
       "      <td>52</td>\n",
       "    </tr>\n",
       "    <tr>\n",
       "      <th>THREE OR MORE</th>\n",
       "      <td>136</td>\n",
       "      <td>24</td>\n",
       "    </tr>\n",
       "    <tr>\n",
       "      <th>TWO</th>\n",
       "      <td>526</td>\n",
       "      <td>79</td>\n",
       "    </tr>\n",
       "  </tbody>\n",
       "</table>\n",
       "</div>"
      ],
      "text/plain": [
       "Would_live_in_another_neighborhood  0.0  1.0\n",
       "No_of_people_in_the_house                   \n",
       "ONE                                 352   52\n",
       "THREE OR MORE                       136   24\n",
       "TWO                                 526   79"
      ]
     },
     "metadata": {},
     "output_type": "display_data"
    },
    {
     "data": {
      "text/html": [
       "<div>\n",
       "<style scoped>\n",
       "    .dataframe tbody tr th:only-of-type {\n",
       "        vertical-align: middle;\n",
       "    }\n",
       "\n",
       "    .dataframe tbody tr th {\n",
       "        vertical-align: top;\n",
       "    }\n",
       "\n",
       "    .dataframe thead th {\n",
       "        text-align: right;\n",
       "    }\n",
       "</style>\n",
       "<table border=\"1\" class=\"dataframe\">\n",
       "  <thead>\n",
       "    <tr style=\"text-align: right;\">\n",
       "      <th>Would_live_in_another_neighborhood</th>\n",
       "      <th>0.0</th>\n",
       "      <th>1.0</th>\n",
       "    </tr>\n",
       "    <tr>\n",
       "      <th>Family_type</th>\n",
       "      <th></th>\n",
       "      <th></th>\n",
       "    </tr>\n",
       "  </thead>\n",
       "  <tbody>\n",
       "    <tr>\n",
       "      <th>COUPLE WITH CHILDREN</th>\n",
       "      <td>97</td>\n",
       "      <td>14</td>\n",
       "    </tr>\n",
       "    <tr>\n",
       "      <th>COUPLE WITH NO CHILDREN</th>\n",
       "      <td>451</td>\n",
       "      <td>67</td>\n",
       "    </tr>\n",
       "    <tr>\n",
       "      <th>OTHER</th>\n",
       "      <td>47</td>\n",
       "      <td>11</td>\n",
       "    </tr>\n",
       "    <tr>\n",
       "      <th>SINGLE</th>\n",
       "      <td>352</td>\n",
       "      <td>52</td>\n",
       "    </tr>\n",
       "    <tr>\n",
       "      <th>SINGLE-PARENT WITH CHILDREN</th>\n",
       "      <td>67</td>\n",
       "      <td>11</td>\n",
       "    </tr>\n",
       "  </tbody>\n",
       "</table>\n",
       "</div>"
      ],
      "text/plain": [
       "Would_live_in_another_neighborhood  0.0  1.0\n",
       "Family_type                                 \n",
       "COUPLE WITH CHILDREN                 97   14\n",
       "COUPLE WITH NO CHILDREN             451   67\n",
       "OTHER                                47   11\n",
       "SINGLE                              352   52\n",
       "SINGLE-PARENT WITH CHILDREN          67   11"
      ]
     },
     "metadata": {},
     "output_type": "display_data"
    },
    {
     "data": {
      "text/html": [
       "<div>\n",
       "<style scoped>\n",
       "    .dataframe tbody tr th:only-of-type {\n",
       "        vertical-align: middle;\n",
       "    }\n",
       "\n",
       "    .dataframe tbody tr th {\n",
       "        vertical-align: top;\n",
       "    }\n",
       "\n",
       "    .dataframe thead th {\n",
       "        text-align: right;\n",
       "    }\n",
       "</style>\n",
       "<table border=\"1\" class=\"dataframe\">\n",
       "  <thead>\n",
       "    <tr style=\"text-align: right;\">\n",
       "      <th>Would_live_in_another_neighborhood</th>\n",
       "      <th>0.0</th>\n",
       "      <th>1.0</th>\n",
       "    </tr>\n",
       "    <tr>\n",
       "      <th>Financial_situation</th>\n",
       "      <th></th>\n",
       "      <th></th>\n",
       "    </tr>\n",
       "  </thead>\n",
       "  <tbody>\n",
       "    <tr>\n",
       "      <th>BAD</th>\n",
       "      <td>387</td>\n",
       "      <td>63</td>\n",
       "    </tr>\n",
       "    <tr>\n",
       "      <th>GOOD</th>\n",
       "      <td>627</td>\n",
       "      <td>92</td>\n",
       "    </tr>\n",
       "  </tbody>\n",
       "</table>\n",
       "</div>"
      ],
      "text/plain": [
       "Would_live_in_another_neighborhood  0.0  1.0\n",
       "Financial_situation                         \n",
       "BAD                                 387   63\n",
       "GOOD                                627   92"
      ]
     },
     "metadata": {},
     "output_type": "display_data"
    },
    {
     "data": {
      "text/html": [
       "<div>\n",
       "<style scoped>\n",
       "    .dataframe tbody tr th:only-of-type {\n",
       "        vertical-align: middle;\n",
       "    }\n",
       "\n",
       "    .dataframe tbody tr th {\n",
       "        vertical-align: top;\n",
       "    }\n",
       "\n",
       "    .dataframe thead th {\n",
       "        text-align: right;\n",
       "    }\n",
       "</style>\n",
       "<table border=\"1\" class=\"dataframe\">\n",
       "  <thead>\n",
       "    <tr style=\"text-align: right;\">\n",
       "      <th>Would_live_in_another_neighborhood</th>\n",
       "      <th>0.0</th>\n",
       "      <th>1.0</th>\n",
       "    </tr>\n",
       "    <tr>\n",
       "      <th>Disability</th>\n",
       "      <th></th>\n",
       "      <th></th>\n",
       "    </tr>\n",
       "  </thead>\n",
       "  <tbody>\n",
       "    <tr>\n",
       "      <th>0.0</th>\n",
       "      <td>851</td>\n",
       "      <td>121</td>\n",
       "    </tr>\n",
       "    <tr>\n",
       "      <th>1.0</th>\n",
       "      <td>163</td>\n",
       "      <td>34</td>\n",
       "    </tr>\n",
       "  </tbody>\n",
       "</table>\n",
       "</div>"
      ],
      "text/plain": [
       "Would_live_in_another_neighborhood  0.0  1.0\n",
       "Disability                                  \n",
       "0.0                                 851  121\n",
       "1.0                                 163   34"
      ]
     },
     "metadata": {},
     "output_type": "display_data"
    },
    {
     "data": {
      "text/html": [
       "<div>\n",
       "<style scoped>\n",
       "    .dataframe tbody tr th:only-of-type {\n",
       "        vertical-align: middle;\n",
       "    }\n",
       "\n",
       "    .dataframe tbody tr th {\n",
       "        vertical-align: top;\n",
       "    }\n",
       "\n",
       "    .dataframe thead th {\n",
       "        text-align: right;\n",
       "    }\n",
       "</style>\n",
       "<table border=\"1\" class=\"dataframe\">\n",
       "  <thead>\n",
       "    <tr style=\"text-align: right;\">\n",
       "      <th>Would_live_in_another_neighborhood</th>\n",
       "      <th>0.0</th>\n",
       "      <th>1.0</th>\n",
       "    </tr>\n",
       "    <tr>\n",
       "      <th>Living_with_disabled_person</th>\n",
       "      <th></th>\n",
       "      <th></th>\n",
       "    </tr>\n",
       "  </thead>\n",
       "  <tbody>\n",
       "    <tr>\n",
       "      <th>0</th>\n",
       "      <td>719</td>\n",
       "      <td>105</td>\n",
       "    </tr>\n",
       "    <tr>\n",
       "      <th>1</th>\n",
       "      <td>295</td>\n",
       "      <td>50</td>\n",
       "    </tr>\n",
       "  </tbody>\n",
       "</table>\n",
       "</div>"
      ],
      "text/plain": [
       "Would_live_in_another_neighborhood  0.0  1.0\n",
       "Living_with_disabled_person                 \n",
       "0                                   719  105\n",
       "1                                   295   50"
      ]
     },
     "metadata": {},
     "output_type": "display_data"
    },
    {
     "data": {
      "text/html": [
       "<div>\n",
       "<style scoped>\n",
       "    .dataframe tbody tr th:only-of-type {\n",
       "        vertical-align: middle;\n",
       "    }\n",
       "\n",
       "    .dataframe tbody tr th {\n",
       "        vertical-align: top;\n",
       "    }\n",
       "\n",
       "    .dataframe thead th {\n",
       "        text-align: right;\n",
       "    }\n",
       "</style>\n",
       "<table border=\"1\" class=\"dataframe\">\n",
       "  <thead>\n",
       "    <tr style=\"text-align: right;\">\n",
       "      <th>Would_live_in_another_neighborhood</th>\n",
       "      <th>0.0</th>\n",
       "      <th>1.0</th>\n",
       "    </tr>\n",
       "    <tr>\n",
       "      <th>Time_living_in_BCN</th>\n",
       "      <th></th>\n",
       "      <th></th>\n",
       "    </tr>\n",
       "  </thead>\n",
       "  <tbody>\n",
       "    <tr>\n",
       "      <th>I HAVE ALWAYS LIVED IN THE CITY</th>\n",
       "      <td>433</td>\n",
       "      <td>68</td>\n",
       "    </tr>\n",
       "    <tr>\n",
       "      <th>LESS THAN 10 YEARS</th>\n",
       "      <td>21</td>\n",
       "      <td>7</td>\n",
       "    </tr>\n",
       "    <tr>\n",
       "      <th>MORE THAN 10 YEARS</th>\n",
       "      <td>560</td>\n",
       "      <td>80</td>\n",
       "    </tr>\n",
       "  </tbody>\n",
       "</table>\n",
       "</div>"
      ],
      "text/plain": [
       "Would_live_in_another_neighborhood  0.0  1.0\n",
       "Time_living_in_BCN                          \n",
       "I HAVE ALWAYS LIVED IN THE CITY     433   68\n",
       "LESS THAN 10 YEARS                   21    7\n",
       "MORE THAN 10 YEARS                  560   80"
      ]
     },
     "metadata": {},
     "output_type": "display_data"
    },
    {
     "data": {
      "text/html": [
       "<div>\n",
       "<style scoped>\n",
       "    .dataframe tbody tr th:only-of-type {\n",
       "        vertical-align: middle;\n",
       "    }\n",
       "\n",
       "    .dataframe tbody tr th {\n",
       "        vertical-align: top;\n",
       "    }\n",
       "\n",
       "    .dataframe thead th {\n",
       "        text-align: right;\n",
       "    }\n",
       "</style>\n",
       "<table border=\"1\" class=\"dataframe\">\n",
       "  <thead>\n",
       "    <tr style=\"text-align: right;\">\n",
       "      <th>Would_live_in_another_neighborhood</th>\n",
       "      <th>0.0</th>\n",
       "      <th>1.0</th>\n",
       "    </tr>\n",
       "    <tr>\n",
       "      <th>Time_living_in_barri</th>\n",
       "      <th></th>\n",
       "      <th></th>\n",
       "    </tr>\n",
       "  </thead>\n",
       "  <tbody>\n",
       "    <tr>\n",
       "      <th>I HAVE ALWAYS LIVED IN THE NEIGHBORHOOD</th>\n",
       "      <td>135</td>\n",
       "      <td>7</td>\n",
       "    </tr>\n",
       "    <tr>\n",
       "      <th>LESS THAN 10 YEARS</th>\n",
       "      <td>57</td>\n",
       "      <td>16</td>\n",
       "    </tr>\n",
       "    <tr>\n",
       "      <th>MORE THAN 10 YEARS</th>\n",
       "      <td>822</td>\n",
       "      <td>132</td>\n",
       "    </tr>\n",
       "  </tbody>\n",
       "</table>\n",
       "</div>"
      ],
      "text/plain": [
       "Would_live_in_another_neighborhood       0.0  1.0\n",
       "Time_living_in_barri                             \n",
       "I HAVE ALWAYS LIVED IN THE NEIGHBORHOOD  135    7\n",
       "LESS THAN 10 YEARS                        57   16\n",
       "MORE THAN 10 YEARS                       822  132"
      ]
     },
     "metadata": {},
     "output_type": "display_data"
    },
    {
     "data": {
      "text/html": [
       "<div>\n",
       "<style scoped>\n",
       "    .dataframe tbody tr th:only-of-type {\n",
       "        vertical-align: middle;\n",
       "    }\n",
       "\n",
       "    .dataframe tbody tr th {\n",
       "        vertical-align: top;\n",
       "    }\n",
       "\n",
       "    .dataframe thead th {\n",
       "        text-align: right;\n",
       "    }\n",
       "</style>\n",
       "<table border=\"1\" class=\"dataframe\">\n",
       "  <thead>\n",
       "    <tr style=\"text-align: right;\">\n",
       "      <th>Would_live_in_another_neighborhood</th>\n",
       "      <th>0.0</th>\n",
       "      <th>1.0</th>\n",
       "    </tr>\n",
       "    <tr>\n",
       "      <th>Barri_evolution</th>\n",
       "      <th></th>\n",
       "      <th></th>\n",
       "    </tr>\n",
       "  </thead>\n",
       "  <tbody>\n",
       "    <tr>\n",
       "      <th>IT HAS IMPROVED</th>\n",
       "      <td>408</td>\n",
       "      <td>59</td>\n",
       "    </tr>\n",
       "    <tr>\n",
       "      <th>IT HAS WORSENED</th>\n",
       "      <td>229</td>\n",
       "      <td>46</td>\n",
       "    </tr>\n",
       "    <tr>\n",
       "      <th>IT IS THE SAME</th>\n",
       "      <td>377</td>\n",
       "      <td>50</td>\n",
       "    </tr>\n",
       "  </tbody>\n",
       "</table>\n",
       "</div>"
      ],
      "text/plain": [
       "Would_live_in_another_neighborhood  0.0  1.0\n",
       "Barri_evolution                             \n",
       "IT HAS IMPROVED                     408   59\n",
       "IT HAS WORSENED                     229   46\n",
       "IT IS THE SAME                      377   50"
      ]
     },
     "metadata": {},
     "output_type": "display_data"
    },
    {
     "data": {
      "text/html": [
       "<div>\n",
       "<style scoped>\n",
       "    .dataframe tbody tr th:only-of-type {\n",
       "        vertical-align: middle;\n",
       "    }\n",
       "\n",
       "    .dataframe tbody tr th {\n",
       "        vertical-align: top;\n",
       "    }\n",
       "\n",
       "    .dataframe thead th {\n",
       "        text-align: right;\n",
       "    }\n",
       "</style>\n",
       "<table border=\"1\" class=\"dataframe\">\n",
       "  <thead>\n",
       "    <tr style=\"text-align: right;\">\n",
       "      <th>Would_live_in_another_neighborhood</th>\n",
       "      <th>0.0</th>\n",
       "      <th>1.0</th>\n",
       "    </tr>\n",
       "    <tr>\n",
       "      <th>BCN_evolution</th>\n",
       "      <th></th>\n",
       "      <th></th>\n",
       "    </tr>\n",
       "  </thead>\n",
       "  <tbody>\n",
       "    <tr>\n",
       "      <th>IT HAS IMPROVED</th>\n",
       "      <td>272</td>\n",
       "      <td>36</td>\n",
       "    </tr>\n",
       "    <tr>\n",
       "      <th>IT HAS WORSENED</th>\n",
       "      <td>512</td>\n",
       "      <td>85</td>\n",
       "    </tr>\n",
       "    <tr>\n",
       "      <th>IT IS THE SAME</th>\n",
       "      <td>230</td>\n",
       "      <td>34</td>\n",
       "    </tr>\n",
       "  </tbody>\n",
       "</table>\n",
       "</div>"
      ],
      "text/plain": [
       "Would_live_in_another_neighborhood  0.0  1.0\n",
       "BCN_evolution                               \n",
       "IT HAS IMPROVED                     272   36\n",
       "IT HAS WORSENED                     512   85\n",
       "IT IS THE SAME                      230   34"
      ]
     },
     "metadata": {},
     "output_type": "display_data"
    },
    {
     "data": {
      "text/html": [
       "<div>\n",
       "<style scoped>\n",
       "    .dataframe tbody tr th:only-of-type {\n",
       "        vertical-align: middle;\n",
       "    }\n",
       "\n",
       "    .dataframe tbody tr th {\n",
       "        vertical-align: top;\n",
       "    }\n",
       "\n",
       "    .dataframe thead th {\n",
       "        text-align: right;\n",
       "    }\n",
       "</style>\n",
       "<table border=\"1\" class=\"dataframe\">\n",
       "  <thead>\n",
       "    <tr style=\"text-align: right;\">\n",
       "      <th>Would_live_in_another_neighborhood</th>\n",
       "      <th>0.0</th>\n",
       "      <th>1.0</th>\n",
       "    </tr>\n",
       "    <tr>\n",
       "      <th>Barri_future</th>\n",
       "      <th></th>\n",
       "      <th></th>\n",
       "    </tr>\n",
       "  </thead>\n",
       "  <tbody>\n",
       "    <tr>\n",
       "      <th>IT WILL IMPROVE</th>\n",
       "      <td>574</td>\n",
       "      <td>79</td>\n",
       "    </tr>\n",
       "    <tr>\n",
       "      <th>IT WILL STAY THE SAME</th>\n",
       "      <td>286</td>\n",
       "      <td>45</td>\n",
       "    </tr>\n",
       "    <tr>\n",
       "      <th>IT WILL WORSEN</th>\n",
       "      <td>154</td>\n",
       "      <td>31</td>\n",
       "    </tr>\n",
       "  </tbody>\n",
       "</table>\n",
       "</div>"
      ],
      "text/plain": [
       "Would_live_in_another_neighborhood  0.0  1.0\n",
       "Barri_future                                \n",
       "IT WILL IMPROVE                     574   79\n",
       "IT WILL STAY THE SAME               286   45\n",
       "IT WILL WORSEN                      154   31"
      ]
     },
     "metadata": {},
     "output_type": "display_data"
    },
    {
     "data": {
      "text/html": [
       "<div>\n",
       "<style scoped>\n",
       "    .dataframe tbody tr th:only-of-type {\n",
       "        vertical-align: middle;\n",
       "    }\n",
       "\n",
       "    .dataframe tbody tr th {\n",
       "        vertical-align: top;\n",
       "    }\n",
       "\n",
       "    .dataframe thead th {\n",
       "        text-align: right;\n",
       "    }\n",
       "</style>\n",
       "<table border=\"1\" class=\"dataframe\">\n",
       "  <thead>\n",
       "    <tr style=\"text-align: right;\">\n",
       "      <th>Would_live_in_another_neighborhood</th>\n",
       "      <th>0.0</th>\n",
       "      <th>1.0</th>\n",
       "    </tr>\n",
       "    <tr>\n",
       "      <th>BCN_future</th>\n",
       "      <th></th>\n",
       "      <th></th>\n",
       "    </tr>\n",
       "  </thead>\n",
       "  <tbody>\n",
       "    <tr>\n",
       "      <th>IT WILL IMPROVE</th>\n",
       "      <td>543</td>\n",
       "      <td>92</td>\n",
       "    </tr>\n",
       "    <tr>\n",
       "      <th>IT WILL STAY THE SAME</th>\n",
       "      <td>240</td>\n",
       "      <td>32</td>\n",
       "    </tr>\n",
       "    <tr>\n",
       "      <th>IT WILL WORSEN</th>\n",
       "      <td>231</td>\n",
       "      <td>31</td>\n",
       "    </tr>\n",
       "  </tbody>\n",
       "</table>\n",
       "</div>"
      ],
      "text/plain": [
       "Would_live_in_another_neighborhood  0.0  1.0\n",
       "BCN_future                                  \n",
       "IT WILL IMPROVE                     543   92\n",
       "IT WILL STAY THE SAME               240   32\n",
       "IT WILL WORSEN                      231   31"
      ]
     },
     "metadata": {},
     "output_type": "display_data"
    },
    {
     "data": {
      "text/html": [
       "<div>\n",
       "<style scoped>\n",
       "    .dataframe tbody tr th:only-of-type {\n",
       "        vertical-align: middle;\n",
       "    }\n",
       "\n",
       "    .dataframe tbody tr th {\n",
       "        vertical-align: top;\n",
       "    }\n",
       "\n",
       "    .dataframe thead th {\n",
       "        text-align: right;\n",
       "    }\n",
       "</style>\n",
       "<table border=\"1\" class=\"dataframe\">\n",
       "  <thead>\n",
       "    <tr style=\"text-align: right;\">\n",
       "      <th>Would_live_in_another_neighborhood</th>\n",
       "      <th>0.0</th>\n",
       "      <th>1.0</th>\n",
       "    </tr>\n",
       "    <tr>\n",
       "      <th>Barri_satisfaction</th>\n",
       "      <th></th>\n",
       "      <th></th>\n",
       "    </tr>\n",
       "  </thead>\n",
       "  <tbody>\n",
       "    <tr>\n",
       "      <th>FAIRLY SATISFIED</th>\n",
       "      <td>75</td>\n",
       "      <td>25</td>\n",
       "    </tr>\n",
       "    <tr>\n",
       "      <th>NOT SATISFIED</th>\n",
       "      <td>1</td>\n",
       "      <td>9</td>\n",
       "    </tr>\n",
       "    <tr>\n",
       "      <th>SATISFIED</th>\n",
       "      <td>938</td>\n",
       "      <td>121</td>\n",
       "    </tr>\n",
       "  </tbody>\n",
       "</table>\n",
       "</div>"
      ],
      "text/plain": [
       "Would_live_in_another_neighborhood  0.0  1.0\n",
       "Barri_satisfaction                          \n",
       "FAIRLY SATISFIED                     75   25\n",
       "NOT SATISFIED                         1    9\n",
       "SATISFIED                           938  121"
      ]
     },
     "metadata": {},
     "output_type": "display_data"
    },
    {
     "data": {
      "text/html": [
       "<div>\n",
       "<style scoped>\n",
       "    .dataframe tbody tr th:only-of-type {\n",
       "        vertical-align: middle;\n",
       "    }\n",
       "\n",
       "    .dataframe tbody tr th {\n",
       "        vertical-align: top;\n",
       "    }\n",
       "\n",
       "    .dataframe thead th {\n",
       "        text-align: right;\n",
       "    }\n",
       "</style>\n",
       "<table border=\"1\" class=\"dataframe\">\n",
       "  <thead>\n",
       "    <tr style=\"text-align: right;\">\n",
       "      <th>Would_live_in_another_neighborhood</th>\n",
       "      <th>0.0</th>\n",
       "      <th>1.0</th>\n",
       "    </tr>\n",
       "    <tr>\n",
       "      <th>BCN_satisfaction</th>\n",
       "      <th></th>\n",
       "      <th></th>\n",
       "    </tr>\n",
       "  </thead>\n",
       "  <tbody>\n",
       "    <tr>\n",
       "      <th>FAIRLY SATISFIED</th>\n",
       "      <td>118</td>\n",
       "      <td>22</td>\n",
       "    </tr>\n",
       "    <tr>\n",
       "      <th>NOT SATISFIED</th>\n",
       "      <td>8</td>\n",
       "      <td>1</td>\n",
       "    </tr>\n",
       "    <tr>\n",
       "      <th>SATISFIED</th>\n",
       "      <td>888</td>\n",
       "      <td>132</td>\n",
       "    </tr>\n",
       "  </tbody>\n",
       "</table>\n",
       "</div>"
      ],
      "text/plain": [
       "Would_live_in_another_neighborhood  0.0  1.0\n",
       "BCN_satisfaction                            \n",
       "FAIRLY SATISFIED                    118   22\n",
       "NOT SATISFIED                         8    1\n",
       "SATISFIED                           888  132"
      ]
     },
     "metadata": {},
     "output_type": "display_data"
    },
    {
     "data": {
      "text/html": [
       "<div>\n",
       "<style scoped>\n",
       "    .dataframe tbody tr th:only-of-type {\n",
       "        vertical-align: middle;\n",
       "    }\n",
       "\n",
       "    .dataframe tbody tr th {\n",
       "        vertical-align: top;\n",
       "    }\n",
       "\n",
       "    .dataframe thead th {\n",
       "        text-align: right;\n",
       "    }\n",
       "</style>\n",
       "<table border=\"1\" class=\"dataframe\">\n",
       "  <thead>\n",
       "    <tr style=\"text-align: right;\">\n",
       "      <th>Would_live_in_another_neighborhood</th>\n",
       "      <th>0.0</th>\n",
       "      <th>1.0</th>\n",
       "    </tr>\n",
       "    <tr>\n",
       "      <th>Barri_security</th>\n",
       "      <th></th>\n",
       "      <th></th>\n",
       "    </tr>\n",
       "  </thead>\n",
       "  <tbody>\n",
       "    <tr>\n",
       "      <th>BAD</th>\n",
       "      <td>151</td>\n",
       "      <td>40</td>\n",
       "    </tr>\n",
       "    <tr>\n",
       "      <th>GOOD</th>\n",
       "      <td>453</td>\n",
       "      <td>49</td>\n",
       "    </tr>\n",
       "    <tr>\n",
       "      <th>NEITHER BAD, NOR GOOD</th>\n",
       "      <td>410</td>\n",
       "      <td>66</td>\n",
       "    </tr>\n",
       "  </tbody>\n",
       "</table>\n",
       "</div>"
      ],
      "text/plain": [
       "Would_live_in_another_neighborhood  0.0  1.0\n",
       "Barri_security                              \n",
       "BAD                                 151   40\n",
       "GOOD                                453   49\n",
       "NEITHER BAD, NOR GOOD               410   66"
      ]
     },
     "metadata": {},
     "output_type": "display_data"
    },
    {
     "data": {
      "text/html": [
       "<div>\n",
       "<style scoped>\n",
       "    .dataframe tbody tr th:only-of-type {\n",
       "        vertical-align: middle;\n",
       "    }\n",
       "\n",
       "    .dataframe tbody tr th {\n",
       "        vertical-align: top;\n",
       "    }\n",
       "\n",
       "    .dataframe thead th {\n",
       "        text-align: right;\n",
       "    }\n",
       "</style>\n",
       "<table border=\"1\" class=\"dataframe\">\n",
       "  <thead>\n",
       "    <tr style=\"text-align: right;\">\n",
       "      <th>Would_live_in_another_neighborhood</th>\n",
       "      <th>0.0</th>\n",
       "      <th>1.0</th>\n",
       "    </tr>\n",
       "    <tr>\n",
       "      <th>BCN_security</th>\n",
       "      <th></th>\n",
       "      <th></th>\n",
       "    </tr>\n",
       "  </thead>\n",
       "  <tbody>\n",
       "    <tr>\n",
       "      <th>BAD</th>\n",
       "      <td>198</td>\n",
       "      <td>40</td>\n",
       "    </tr>\n",
       "    <tr>\n",
       "      <th>GOOD</th>\n",
       "      <td>284</td>\n",
       "      <td>38</td>\n",
       "    </tr>\n",
       "    <tr>\n",
       "      <th>NEITHER BAD, NOR GOOD</th>\n",
       "      <td>532</td>\n",
       "      <td>77</td>\n",
       "    </tr>\n",
       "  </tbody>\n",
       "</table>\n",
       "</div>"
      ],
      "text/plain": [
       "Would_live_in_another_neighborhood  0.0  1.0\n",
       "BCN_security                                \n",
       "BAD                                 198   40\n",
       "GOOD                                284   38\n",
       "NEITHER BAD, NOR GOOD               532   77"
      ]
     },
     "metadata": {},
     "output_type": "display_data"
    },
    {
     "data": {
      "text/html": [
       "<div>\n",
       "<style scoped>\n",
       "    .dataframe tbody tr th:only-of-type {\n",
       "        vertical-align: middle;\n",
       "    }\n",
       "\n",
       "    .dataframe tbody tr th {\n",
       "        vertical-align: top;\n",
       "    }\n",
       "\n",
       "    .dataframe thead th {\n",
       "        text-align: right;\n",
       "    }\n",
       "</style>\n",
       "<table border=\"1\" class=\"dataframe\">\n",
       "  <thead>\n",
       "    <tr style=\"text-align: right;\">\n",
       "      <th>Would_live_in_another_neighborhood</th>\n",
       "      <th>0.0</th>\n",
       "      <th>1.0</th>\n",
       "    </tr>\n",
       "    <tr>\n",
       "      <th>Barri_management</th>\n",
       "      <th></th>\n",
       "      <th></th>\n",
       "    </tr>\n",
       "  </thead>\n",
       "  <tbody>\n",
       "    <tr>\n",
       "      <th>BAD</th>\n",
       "      <td>65</td>\n",
       "      <td>17</td>\n",
       "    </tr>\n",
       "    <tr>\n",
       "      <th>GOOD</th>\n",
       "      <td>508</td>\n",
       "      <td>56</td>\n",
       "    </tr>\n",
       "    <tr>\n",
       "      <th>NEITHER BAD, NOR GOOD</th>\n",
       "      <td>441</td>\n",
       "      <td>82</td>\n",
       "    </tr>\n",
       "  </tbody>\n",
       "</table>\n",
       "</div>"
      ],
      "text/plain": [
       "Would_live_in_another_neighborhood  0.0  1.0\n",
       "Barri_management                            \n",
       "BAD                                  65   17\n",
       "GOOD                                508   56\n",
       "NEITHER BAD, NOR GOOD               441   82"
      ]
     },
     "metadata": {},
     "output_type": "display_data"
    },
    {
     "data": {
      "text/html": [
       "<div>\n",
       "<style scoped>\n",
       "    .dataframe tbody tr th:only-of-type {\n",
       "        vertical-align: middle;\n",
       "    }\n",
       "\n",
       "    .dataframe tbody tr th {\n",
       "        vertical-align: top;\n",
       "    }\n",
       "\n",
       "    .dataframe thead th {\n",
       "        text-align: right;\n",
       "    }\n",
       "</style>\n",
       "<table border=\"1\" class=\"dataframe\">\n",
       "  <thead>\n",
       "    <tr style=\"text-align: right;\">\n",
       "      <th>Would_live_in_another_neighborhood</th>\n",
       "      <th>0.0</th>\n",
       "      <th>1.0</th>\n",
       "    </tr>\n",
       "    <tr>\n",
       "      <th>BCN_management</th>\n",
       "      <th></th>\n",
       "      <th></th>\n",
       "    </tr>\n",
       "  </thead>\n",
       "  <tbody>\n",
       "    <tr>\n",
       "      <th>BAD</th>\n",
       "      <td>95</td>\n",
       "      <td>21</td>\n",
       "    </tr>\n",
       "    <tr>\n",
       "      <th>GOOD</th>\n",
       "      <td>429</td>\n",
       "      <td>46</td>\n",
       "    </tr>\n",
       "    <tr>\n",
       "      <th>NEITHER BAD, NOR GOOD</th>\n",
       "      <td>490</td>\n",
       "      <td>88</td>\n",
       "    </tr>\n",
       "  </tbody>\n",
       "</table>\n",
       "</div>"
      ],
      "text/plain": [
       "Would_live_in_another_neighborhood  0.0  1.0\n",
       "BCN_management                              \n",
       "BAD                                  95   21\n",
       "GOOD                                429   46\n",
       "NEITHER BAD, NOR GOOD               490   88"
      ]
     },
     "metadata": {},
     "output_type": "display_data"
    },
    {
     "data": {
      "text/html": [
       "<div>\n",
       "<style scoped>\n",
       "    .dataframe tbody tr th:only-of-type {\n",
       "        vertical-align: middle;\n",
       "    }\n",
       "\n",
       "    .dataframe tbody tr th {\n",
       "        vertical-align: top;\n",
       "    }\n",
       "\n",
       "    .dataframe thead th {\n",
       "        text-align: right;\n",
       "    }\n",
       "</style>\n",
       "<table border=\"1\" class=\"dataframe\">\n",
       "  <thead>\n",
       "    <tr style=\"text-align: right;\">\n",
       "      <th>Would_live_in_another_neighborhood</th>\n",
       "      <th>0.0</th>\n",
       "      <th>1.0</th>\n",
       "    </tr>\n",
       "    <tr>\n",
       "      <th>Barri_comparison</th>\n",
       "      <th></th>\n",
       "      <th></th>\n",
       "    </tr>\n",
       "  </thead>\n",
       "  <tbody>\n",
       "    <tr>\n",
       "      <th>NEITHER THE BEST, NOR THE WORST</th>\n",
       "      <td>340</td>\n",
       "      <td>94</td>\n",
       "    </tr>\n",
       "    <tr>\n",
       "      <th>ONE OF THE BEST</th>\n",
       "      <td>645</td>\n",
       "      <td>41</td>\n",
       "    </tr>\n",
       "    <tr>\n",
       "      <th>ONE OF THE WORST</th>\n",
       "      <td>29</td>\n",
       "      <td>20</td>\n",
       "    </tr>\n",
       "  </tbody>\n",
       "</table>\n",
       "</div>"
      ],
      "text/plain": [
       "Would_live_in_another_neighborhood  0.0  1.0\n",
       "Barri_comparison                            \n",
       "NEITHER THE BEST, NOR THE WORST     340   94\n",
       "ONE OF THE BEST                     645   41\n",
       "ONE OF THE WORST                     29   20"
      ]
     },
     "metadata": {},
     "output_type": "display_data"
    },
    {
     "data": {
      "text/html": [
       "<div>\n",
       "<style scoped>\n",
       "    .dataframe tbody tr th:only-of-type {\n",
       "        vertical-align: middle;\n",
       "    }\n",
       "\n",
       "    .dataframe tbody tr th {\n",
       "        vertical-align: top;\n",
       "    }\n",
       "\n",
       "    .dataframe thead th {\n",
       "        text-align: right;\n",
       "    }\n",
       "</style>\n",
       "<table border=\"1\" class=\"dataframe\">\n",
       "  <thead>\n",
       "    <tr style=\"text-align: right;\">\n",
       "      <th>Would_live_in_another_neighborhood</th>\n",
       "      <th>0.0</th>\n",
       "      <th>1.0</th>\n",
       "    </tr>\n",
       "    <tr>\n",
       "      <th>Barri_association</th>\n",
       "      <th></th>\n",
       "      <th></th>\n",
       "    </tr>\n",
       "  </thead>\n",
       "  <tbody>\n",
       "    <tr>\n",
       "      <th>0.0</th>\n",
       "      <td>803</td>\n",
       "      <td>128</td>\n",
       "    </tr>\n",
       "    <tr>\n",
       "      <th>1.0</th>\n",
       "      <td>211</td>\n",
       "      <td>27</td>\n",
       "    </tr>\n",
       "  </tbody>\n",
       "</table>\n",
       "</div>"
      ],
      "text/plain": [
       "Would_live_in_another_neighborhood  0.0  1.0\n",
       "Barri_association                           \n",
       "0.0                                 803  128\n",
       "1.0                                 211   27"
      ]
     },
     "metadata": {},
     "output_type": "display_data"
    },
    {
     "data": {
      "text/html": [
       "<div>\n",
       "<style scoped>\n",
       "    .dataframe tbody tr th:only-of-type {\n",
       "        vertical-align: middle;\n",
       "    }\n",
       "\n",
       "    .dataframe tbody tr th {\n",
       "        vertical-align: top;\n",
       "    }\n",
       "\n",
       "    .dataframe thead th {\n",
       "        text-align: right;\n",
       "    }\n",
       "</style>\n",
       "<table border=\"1\" class=\"dataframe\">\n",
       "  <thead>\n",
       "    <tr style=\"text-align: right;\">\n",
       "      <th>Would_live_in_another_neighborhood</th>\n",
       "      <th>0.0</th>\n",
       "      <th>1.0</th>\n",
       "    </tr>\n",
       "    <tr>\n",
       "      <th>Barri_transport</th>\n",
       "      <th></th>\n",
       "      <th></th>\n",
       "    </tr>\n",
       "  </thead>\n",
       "  <tbody>\n",
       "    <tr>\n",
       "      <th>BAD</th>\n",
       "      <td>148</td>\n",
       "      <td>22</td>\n",
       "    </tr>\n",
       "    <tr>\n",
       "      <th>GOOD</th>\n",
       "      <td>808</td>\n",
       "      <td>120</td>\n",
       "    </tr>\n",
       "    <tr>\n",
       "      <th>NEITHER BAD, NOR GOOD</th>\n",
       "      <td>58</td>\n",
       "      <td>13</td>\n",
       "    </tr>\n",
       "  </tbody>\n",
       "</table>\n",
       "</div>"
      ],
      "text/plain": [
       "Would_live_in_another_neighborhood  0.0  1.0\n",
       "Barri_transport                             \n",
       "BAD                                 148   22\n",
       "GOOD                                808  120\n",
       "NEITHER BAD, NOR GOOD                58   13"
      ]
     },
     "metadata": {},
     "output_type": "display_data"
    },
    {
     "data": {
      "text/html": [
       "<div>\n",
       "<style scoped>\n",
       "    .dataframe tbody tr th:only-of-type {\n",
       "        vertical-align: middle;\n",
       "    }\n",
       "\n",
       "    .dataframe tbody tr th {\n",
       "        vertical-align: top;\n",
       "    }\n",
       "\n",
       "    .dataframe thead th {\n",
       "        text-align: right;\n",
       "    }\n",
       "</style>\n",
       "<table border=\"1\" class=\"dataframe\">\n",
       "  <thead>\n",
       "    <tr style=\"text-align: right;\">\n",
       "      <th>Would_live_in_another_neighborhood</th>\n",
       "      <th>0.0</th>\n",
       "      <th>1.0</th>\n",
       "    </tr>\n",
       "    <tr>\n",
       "      <th>BCN_transport</th>\n",
       "      <th></th>\n",
       "      <th></th>\n",
       "    </tr>\n",
       "  </thead>\n",
       "  <tbody>\n",
       "    <tr>\n",
       "      <th>BAD</th>\n",
       "      <td>95</td>\n",
       "      <td>21</td>\n",
       "    </tr>\n",
       "    <tr>\n",
       "      <th>GOOD</th>\n",
       "      <td>821</td>\n",
       "      <td>125</td>\n",
       "    </tr>\n",
       "    <tr>\n",
       "      <th>NEITHER BAD, NOR GOOD</th>\n",
       "      <td>98</td>\n",
       "      <td>9</td>\n",
       "    </tr>\n",
       "  </tbody>\n",
       "</table>\n",
       "</div>"
      ],
      "text/plain": [
       "Would_live_in_another_neighborhood  0.0  1.0\n",
       "BCN_transport                               \n",
       "BAD                                  95   21\n",
       "GOOD                                821  125\n",
       "NEITHER BAD, NOR GOOD                98    9"
      ]
     },
     "metadata": {},
     "output_type": "display_data"
    },
    {
     "data": {
      "text/html": [
       "<div>\n",
       "<style scoped>\n",
       "    .dataframe tbody tr th:only-of-type {\n",
       "        vertical-align: middle;\n",
       "    }\n",
       "\n",
       "    .dataframe tbody tr th {\n",
       "        vertical-align: top;\n",
       "    }\n",
       "\n",
       "    .dataframe thead th {\n",
       "        text-align: right;\n",
       "    }\n",
       "</style>\n",
       "<table border=\"1\" class=\"dataframe\">\n",
       "  <thead>\n",
       "    <tr style=\"text-align: right;\">\n",
       "      <th>Would_live_in_another_neighborhood</th>\n",
       "      <th>0.0</th>\n",
       "      <th>1.0</th>\n",
       "    </tr>\n",
       "    <tr>\n",
       "      <th>Barri_problem_with_security</th>\n",
       "      <th></th>\n",
       "      <th></th>\n",
       "    </tr>\n",
       "  </thead>\n",
       "  <tbody>\n",
       "    <tr>\n",
       "      <th>0</th>\n",
       "      <td>856</td>\n",
       "      <td>131</td>\n",
       "    </tr>\n",
       "    <tr>\n",
       "      <th>1</th>\n",
       "      <td>158</td>\n",
       "      <td>24</td>\n",
       "    </tr>\n",
       "  </tbody>\n",
       "</table>\n",
       "</div>"
      ],
      "text/plain": [
       "Would_live_in_another_neighborhood  0.0  1.0\n",
       "Barri_problem_with_security                 \n",
       "0                                   856  131\n",
       "1                                   158   24"
      ]
     },
     "metadata": {},
     "output_type": "display_data"
    },
    {
     "data": {
      "text/html": [
       "<div>\n",
       "<style scoped>\n",
       "    .dataframe tbody tr th:only-of-type {\n",
       "        vertical-align: middle;\n",
       "    }\n",
       "\n",
       "    .dataframe tbody tr th {\n",
       "        vertical-align: top;\n",
       "    }\n",
       "\n",
       "    .dataframe thead th {\n",
       "        text-align: right;\n",
       "    }\n",
       "</style>\n",
       "<table border=\"1\" class=\"dataframe\">\n",
       "  <thead>\n",
       "    <tr style=\"text-align: right;\">\n",
       "      <th>Would_live_in_another_neighborhood</th>\n",
       "      <th>0.0</th>\n",
       "      <th>1.0</th>\n",
       "    </tr>\n",
       "    <tr>\n",
       "      <th>Barri_problem_with_streets_cleaning</th>\n",
       "      <th></th>\n",
       "      <th></th>\n",
       "    </tr>\n",
       "  </thead>\n",
       "  <tbody>\n",
       "    <tr>\n",
       "      <th>0</th>\n",
       "      <td>915</td>\n",
       "      <td>138</td>\n",
       "    </tr>\n",
       "    <tr>\n",
       "      <th>1</th>\n",
       "      <td>99</td>\n",
       "      <td>17</td>\n",
       "    </tr>\n",
       "  </tbody>\n",
       "</table>\n",
       "</div>"
      ],
      "text/plain": [
       "Would_live_in_another_neighborhood   0.0  1.0\n",
       "Barri_problem_with_streets_cleaning          \n",
       "0                                    915  138\n",
       "1                                     99   17"
      ]
     },
     "metadata": {},
     "output_type": "display_data"
    },
    {
     "data": {
      "text/html": [
       "<div>\n",
       "<style scoped>\n",
       "    .dataframe tbody tr th:only-of-type {\n",
       "        vertical-align: middle;\n",
       "    }\n",
       "\n",
       "    .dataframe tbody tr th {\n",
       "        vertical-align: top;\n",
       "    }\n",
       "\n",
       "    .dataframe thead th {\n",
       "        text-align: right;\n",
       "    }\n",
       "</style>\n",
       "<table border=\"1\" class=\"dataframe\">\n",
       "  <thead>\n",
       "    <tr style=\"text-align: right;\">\n",
       "      <th>Would_live_in_another_neighborhood</th>\n",
       "      <th>0.0</th>\n",
       "      <th>1.0</th>\n",
       "    </tr>\n",
       "    <tr>\n",
       "      <th>Barri_problem_with_mobility</th>\n",
       "      <th></th>\n",
       "      <th></th>\n",
       "    </tr>\n",
       "  </thead>\n",
       "  <tbody>\n",
       "    <tr>\n",
       "      <th>0</th>\n",
       "      <td>958</td>\n",
       "      <td>148</td>\n",
       "    </tr>\n",
       "    <tr>\n",
       "      <th>1</th>\n",
       "      <td>56</td>\n",
       "      <td>7</td>\n",
       "    </tr>\n",
       "  </tbody>\n",
       "</table>\n",
       "</div>"
      ],
      "text/plain": [
       "Would_live_in_another_neighborhood  0.0  1.0\n",
       "Barri_problem_with_mobility                 \n",
       "0                                   958  148\n",
       "1                                    56    7"
      ]
     },
     "metadata": {},
     "output_type": "display_data"
    },
    {
     "data": {
      "text/html": [
       "<div>\n",
       "<style scoped>\n",
       "    .dataframe tbody tr th:only-of-type {\n",
       "        vertical-align: middle;\n",
       "    }\n",
       "\n",
       "    .dataframe tbody tr th {\n",
       "        vertical-align: top;\n",
       "    }\n",
       "\n",
       "    .dataframe thead th {\n",
       "        text-align: right;\n",
       "    }\n",
       "</style>\n",
       "<table border=\"1\" class=\"dataframe\">\n",
       "  <thead>\n",
       "    <tr style=\"text-align: right;\">\n",
       "      <th>Would_live_in_another_neighborhood</th>\n",
       "      <th>0.0</th>\n",
       "      <th>1.0</th>\n",
       "    </tr>\n",
       "    <tr>\n",
       "      <th>Residential_satisfaction</th>\n",
       "      <th></th>\n",
       "      <th></th>\n",
       "    </tr>\n",
       "  </thead>\n",
       "  <tbody>\n",
       "    <tr>\n",
       "      <th>0</th>\n",
       "      <td>126</td>\n",
       "      <td>23</td>\n",
       "    </tr>\n",
       "    <tr>\n",
       "      <th>1</th>\n",
       "      <td>888</td>\n",
       "      <td>132</td>\n",
       "    </tr>\n",
       "  </tbody>\n",
       "</table>\n",
       "</div>"
      ],
      "text/plain": [
       "Would_live_in_another_neighborhood  0.0  1.0\n",
       "Residential_satisfaction                    \n",
       "0                                   126   23\n",
       "1                                   888  132"
      ]
     },
     "metadata": {},
     "output_type": "display_data"
    },
    {
     "data": {
      "text/html": [
       "<div>\n",
       "<style scoped>\n",
       "    .dataframe tbody tr th:only-of-type {\n",
       "        vertical-align: middle;\n",
       "    }\n",
       "\n",
       "    .dataframe tbody tr th {\n",
       "        vertical-align: top;\n",
       "    }\n",
       "\n",
       "    .dataframe thead th {\n",
       "        text-align: right;\n",
       "    }\n",
       "</style>\n",
       "<table border=\"1\" class=\"dataframe\">\n",
       "  <thead>\n",
       "    <tr style=\"text-align: right;\">\n",
       "      <th>Would_live_in_another_neighborhood</th>\n",
       "      <th>0.0</th>\n",
       "      <th>1.0</th>\n",
       "    </tr>\n",
       "    <tr>\n",
       "      <th>GARBAGE COLLECTION</th>\n",
       "      <th></th>\n",
       "      <th></th>\n",
       "    </tr>\n",
       "  </thead>\n",
       "  <tbody>\n",
       "    <tr>\n",
       "      <th>BAD</th>\n",
       "      <td>37</td>\n",
       "      <td>3</td>\n",
       "    </tr>\n",
       "    <tr>\n",
       "      <th>GOOD</th>\n",
       "      <td>760</td>\n",
       "      <td>112</td>\n",
       "    </tr>\n",
       "    <tr>\n",
       "      <th>NEITHER BAD, NOR GOOD</th>\n",
       "      <td>217</td>\n",
       "      <td>40</td>\n",
       "    </tr>\n",
       "  </tbody>\n",
       "</table>\n",
       "</div>"
      ],
      "text/plain": [
       "Would_live_in_another_neighborhood  0.0  1.0\n",
       "GARBAGE COLLECTION                          \n",
       "BAD                                  37    3\n",
       "GOOD                                760  112\n",
       "NEITHER BAD, NOR GOOD               217   40"
      ]
     },
     "metadata": {},
     "output_type": "display_data"
    },
    {
     "data": {
      "text/html": [
       "<div>\n",
       "<style scoped>\n",
       "    .dataframe tbody tr th:only-of-type {\n",
       "        vertical-align: middle;\n",
       "    }\n",
       "\n",
       "    .dataframe tbody tr th {\n",
       "        vertical-align: top;\n",
       "    }\n",
       "\n",
       "    .dataframe thead th {\n",
       "        text-align: right;\n",
       "    }\n",
       "</style>\n",
       "<table border=\"1\" class=\"dataframe\">\n",
       "  <thead>\n",
       "    <tr style=\"text-align: right;\">\n",
       "      <th>Would_live_in_another_neighborhood</th>\n",
       "      <th>0.0</th>\n",
       "      <th>1.0</th>\n",
       "    </tr>\n",
       "    <tr>\n",
       "      <th>STREETS CLEANING</th>\n",
       "      <th></th>\n",
       "      <th></th>\n",
       "    </tr>\n",
       "  </thead>\n",
       "  <tbody>\n",
       "    <tr>\n",
       "      <th>BAD</th>\n",
       "      <td>109</td>\n",
       "      <td>16</td>\n",
       "    </tr>\n",
       "    <tr>\n",
       "      <th>GOOD</th>\n",
       "      <td>543</td>\n",
       "      <td>71</td>\n",
       "    </tr>\n",
       "    <tr>\n",
       "      <th>NEITHER BAD, NOR GOOD</th>\n",
       "      <td>362</td>\n",
       "      <td>68</td>\n",
       "    </tr>\n",
       "  </tbody>\n",
       "</table>\n",
       "</div>"
      ],
      "text/plain": [
       "Would_live_in_another_neighborhood  0.0  1.0\n",
       "STREETS CLEANING                            \n",
       "BAD                                 109   16\n",
       "GOOD                                543   71\n",
       "NEITHER BAD, NOR GOOD               362   68"
      ]
     },
     "metadata": {},
     "output_type": "display_data"
    },
    {
     "data": {
      "text/html": [
       "<div>\n",
       "<style scoped>\n",
       "    .dataframe tbody tr th:only-of-type {\n",
       "        vertical-align: middle;\n",
       "    }\n",
       "\n",
       "    .dataframe tbody tr th {\n",
       "        vertical-align: top;\n",
       "    }\n",
       "\n",
       "    .dataframe thead th {\n",
       "        text-align: right;\n",
       "    }\n",
       "</style>\n",
       "<table border=\"1\" class=\"dataframe\">\n",
       "  <thead>\n",
       "    <tr style=\"text-align: right;\">\n",
       "      <th>Would_live_in_another_neighborhood</th>\n",
       "      <th>0.0</th>\n",
       "      <th>1.0</th>\n",
       "    </tr>\n",
       "    <tr>\n",
       "      <th>NOISE</th>\n",
       "      <th></th>\n",
       "      <th></th>\n",
       "    </tr>\n",
       "  </thead>\n",
       "  <tbody>\n",
       "    <tr>\n",
       "      <th>BAD</th>\n",
       "      <td>114</td>\n",
       "      <td>26</td>\n",
       "    </tr>\n",
       "    <tr>\n",
       "      <th>GOOD</th>\n",
       "      <td>442</td>\n",
       "      <td>64</td>\n",
       "    </tr>\n",
       "    <tr>\n",
       "      <th>NEITHER BAD, NOR GOOD</th>\n",
       "      <td>458</td>\n",
       "      <td>65</td>\n",
       "    </tr>\n",
       "  </tbody>\n",
       "</table>\n",
       "</div>"
      ],
      "text/plain": [
       "Would_live_in_another_neighborhood  0.0  1.0\n",
       "NOISE                                       \n",
       "BAD                                 114   26\n",
       "GOOD                                442   64\n",
       "NEITHER BAD, NOR GOOD               458   65"
      ]
     },
     "metadata": {},
     "output_type": "display_data"
    },
    {
     "data": {
      "text/html": [
       "<div>\n",
       "<style scoped>\n",
       "    .dataframe tbody tr th:only-of-type {\n",
       "        vertical-align: middle;\n",
       "    }\n",
       "\n",
       "    .dataframe tbody tr th {\n",
       "        vertical-align: top;\n",
       "    }\n",
       "\n",
       "    .dataframe thead th {\n",
       "        text-align: right;\n",
       "    }\n",
       "</style>\n",
       "<table border=\"1\" class=\"dataframe\">\n",
       "  <thead>\n",
       "    <tr style=\"text-align: right;\">\n",
       "      <th>Would_live_in_another_neighborhood</th>\n",
       "      <th>0.0</th>\n",
       "      <th>1.0</th>\n",
       "    </tr>\n",
       "    <tr>\n",
       "      <th>GREEN AREAS</th>\n",
       "      <th></th>\n",
       "      <th></th>\n",
       "    </tr>\n",
       "  </thead>\n",
       "  <tbody>\n",
       "    <tr>\n",
       "      <th>BAD</th>\n",
       "      <td>100</td>\n",
       "      <td>20</td>\n",
       "    </tr>\n",
       "    <tr>\n",
       "      <th>GOOD</th>\n",
       "      <td>521</td>\n",
       "      <td>59</td>\n",
       "    </tr>\n",
       "    <tr>\n",
       "      <th>NEITHER BAD, NOR GOOD</th>\n",
       "      <td>393</td>\n",
       "      <td>76</td>\n",
       "    </tr>\n",
       "  </tbody>\n",
       "</table>\n",
       "</div>"
      ],
      "text/plain": [
       "Would_live_in_another_neighborhood  0.0  1.0\n",
       "GREEN AREAS                                 \n",
       "BAD                                 100   20\n",
       "GOOD                                521   59\n",
       "NEITHER BAD, NOR GOOD               393   76"
      ]
     },
     "metadata": {},
     "output_type": "display_data"
    },
    {
     "data": {
      "text/html": [
       "<div>\n",
       "<style scoped>\n",
       "    .dataframe tbody tr th:only-of-type {\n",
       "        vertical-align: middle;\n",
       "    }\n",
       "\n",
       "    .dataframe tbody tr th {\n",
       "        vertical-align: top;\n",
       "    }\n",
       "\n",
       "    .dataframe thead th {\n",
       "        text-align: right;\n",
       "    }\n",
       "</style>\n",
       "<table border=\"1\" class=\"dataframe\">\n",
       "  <thead>\n",
       "    <tr style=\"text-align: right;\">\n",
       "      <th>Would_live_in_another_neighborhood</th>\n",
       "      <th>0.0</th>\n",
       "      <th>1.0</th>\n",
       "    </tr>\n",
       "    <tr>\n",
       "      <th>PUBLIC LIGHTING</th>\n",
       "      <th></th>\n",
       "      <th></th>\n",
       "    </tr>\n",
       "  </thead>\n",
       "  <tbody>\n",
       "    <tr>\n",
       "      <th>BAD</th>\n",
       "      <td>52</td>\n",
       "      <td>11</td>\n",
       "    </tr>\n",
       "    <tr>\n",
       "      <th>GOOD</th>\n",
       "      <td>643</td>\n",
       "      <td>94</td>\n",
       "    </tr>\n",
       "    <tr>\n",
       "      <th>NEITHER BAD, NOR GOOD</th>\n",
       "      <td>319</td>\n",
       "      <td>50</td>\n",
       "    </tr>\n",
       "  </tbody>\n",
       "</table>\n",
       "</div>"
      ],
      "text/plain": [
       "Would_live_in_another_neighborhood  0.0  1.0\n",
       "PUBLIC LIGHTING                             \n",
       "BAD                                  52   11\n",
       "GOOD                                643   94\n",
       "NEITHER BAD, NOR GOOD               319   50"
      ]
     },
     "metadata": {},
     "output_type": "display_data"
    },
    {
     "data": {
      "text/html": [
       "<div>\n",
       "<style scoped>\n",
       "    .dataframe tbody tr th:only-of-type {\n",
       "        vertical-align: middle;\n",
       "    }\n",
       "\n",
       "    .dataframe tbody tr th {\n",
       "        vertical-align: top;\n",
       "    }\n",
       "\n",
       "    .dataframe thead th {\n",
       "        text-align: right;\n",
       "    }\n",
       "</style>\n",
       "<table border=\"1\" class=\"dataframe\">\n",
       "  <thead>\n",
       "    <tr style=\"text-align: right;\">\n",
       "      <th>Would_live_in_another_neighborhood</th>\n",
       "      <th>0.0</th>\n",
       "      <th>1.0</th>\n",
       "    </tr>\n",
       "    <tr>\n",
       "      <th>ASPHALT AND STREET CONSERVATION</th>\n",
       "      <th></th>\n",
       "      <th></th>\n",
       "    </tr>\n",
       "  </thead>\n",
       "  <tbody>\n",
       "    <tr>\n",
       "      <th>BAD</th>\n",
       "      <td>118</td>\n",
       "      <td>26</td>\n",
       "    </tr>\n",
       "    <tr>\n",
       "      <th>GOOD</th>\n",
       "      <td>441</td>\n",
       "      <td>62</td>\n",
       "    </tr>\n",
       "    <tr>\n",
       "      <th>NEITHER BAD, NOR GOOD</th>\n",
       "      <td>455</td>\n",
       "      <td>67</td>\n",
       "    </tr>\n",
       "  </tbody>\n",
       "</table>\n",
       "</div>"
      ],
      "text/plain": [
       "Would_live_in_another_neighborhood  0.0  1.0\n",
       "ASPHALT AND STREET CONSERVATION             \n",
       "BAD                                 118   26\n",
       "GOOD                                441   62\n",
       "NEITHER BAD, NOR GOOD               455   67"
      ]
     },
     "metadata": {},
     "output_type": "display_data"
    },
    {
     "data": {
      "text/html": [
       "<div>\n",
       "<style scoped>\n",
       "    .dataframe tbody tr th:only-of-type {\n",
       "        vertical-align: middle;\n",
       "    }\n",
       "\n",
       "    .dataframe tbody tr th {\n",
       "        vertical-align: top;\n",
       "    }\n",
       "\n",
       "    .dataframe thead th {\n",
       "        text-align: right;\n",
       "    }\n",
       "</style>\n",
       "<table border=\"1\" class=\"dataframe\">\n",
       "  <thead>\n",
       "    <tr style=\"text-align: right;\">\n",
       "      <th>Would_live_in_another_neighborhood</th>\n",
       "      <th>0.0</th>\n",
       "      <th>1.0</th>\n",
       "    </tr>\n",
       "    <tr>\n",
       "      <th>CIRCULATION AND TRAFFIC</th>\n",
       "      <th></th>\n",
       "      <th></th>\n",
       "    </tr>\n",
       "  </thead>\n",
       "  <tbody>\n",
       "    <tr>\n",
       "      <th>BAD</th>\n",
       "      <td>150</td>\n",
       "      <td>22</td>\n",
       "    </tr>\n",
       "    <tr>\n",
       "      <th>GOOD</th>\n",
       "      <td>346</td>\n",
       "      <td>51</td>\n",
       "    </tr>\n",
       "    <tr>\n",
       "      <th>NEITHER BAD, NOR GOOD</th>\n",
       "      <td>518</td>\n",
       "      <td>82</td>\n",
       "    </tr>\n",
       "  </tbody>\n",
       "</table>\n",
       "</div>"
      ],
      "text/plain": [
       "Would_live_in_another_neighborhood  0.0  1.0\n",
       "CIRCULATION AND TRAFFIC                     \n",
       "BAD                                 150   22\n",
       "GOOD                                346   51\n",
       "NEITHER BAD, NOR GOOD               518   82"
      ]
     },
     "metadata": {},
     "output_type": "display_data"
    },
    {
     "data": {
      "text/html": [
       "<div>\n",
       "<style scoped>\n",
       "    .dataframe tbody tr th:only-of-type {\n",
       "        vertical-align: middle;\n",
       "    }\n",
       "\n",
       "    .dataframe tbody tr th {\n",
       "        vertical-align: top;\n",
       "    }\n",
       "\n",
       "    .dataframe thead th {\n",
       "        text-align: right;\n",
       "    }\n",
       "</style>\n",
       "<table border=\"1\" class=\"dataframe\">\n",
       "  <thead>\n",
       "    <tr style=\"text-align: right;\">\n",
       "      <th>Would_live_in_another_neighborhood</th>\n",
       "      <th>0.0</th>\n",
       "      <th>1.0</th>\n",
       "    </tr>\n",
       "    <tr>\n",
       "      <th>BUS</th>\n",
       "      <th></th>\n",
       "      <th></th>\n",
       "    </tr>\n",
       "  </thead>\n",
       "  <tbody>\n",
       "    <tr>\n",
       "      <th>BAD</th>\n",
       "      <td>63</td>\n",
       "      <td>12</td>\n",
       "    </tr>\n",
       "    <tr>\n",
       "      <th>GOOD</th>\n",
       "      <td>689</td>\n",
       "      <td>103</td>\n",
       "    </tr>\n",
       "    <tr>\n",
       "      <th>NEITHER BAD, NOR GOOD</th>\n",
       "      <td>262</td>\n",
       "      <td>40</td>\n",
       "    </tr>\n",
       "  </tbody>\n",
       "</table>\n",
       "</div>"
      ],
      "text/plain": [
       "Would_live_in_another_neighborhood  0.0  1.0\n",
       "BUS                                         \n",
       "BAD                                  63   12\n",
       "GOOD                                689  103\n",
       "NEITHER BAD, NOR GOOD               262   40"
      ]
     },
     "metadata": {},
     "output_type": "display_data"
    },
    {
     "data": {
      "text/html": [
       "<div>\n",
       "<style scoped>\n",
       "    .dataframe tbody tr th:only-of-type {\n",
       "        vertical-align: middle;\n",
       "    }\n",
       "\n",
       "    .dataframe tbody tr th {\n",
       "        vertical-align: top;\n",
       "    }\n",
       "\n",
       "    .dataframe thead th {\n",
       "        text-align: right;\n",
       "    }\n",
       "</style>\n",
       "<table border=\"1\" class=\"dataframe\">\n",
       "  <thead>\n",
       "    <tr style=\"text-align: right;\">\n",
       "      <th>Would_live_in_another_neighborhood</th>\n",
       "      <th>0.0</th>\n",
       "      <th>1.0</th>\n",
       "    </tr>\n",
       "    <tr>\n",
       "      <th>CITIZEN SECURITY IN THE CITY AS A WHOLE</th>\n",
       "      <th></th>\n",
       "      <th></th>\n",
       "    </tr>\n",
       "  </thead>\n",
       "  <tbody>\n",
       "    <tr>\n",
       "      <th>BAD</th>\n",
       "      <td>198</td>\n",
       "      <td>40</td>\n",
       "    </tr>\n",
       "    <tr>\n",
       "      <th>GOOD</th>\n",
       "      <td>284</td>\n",
       "      <td>38</td>\n",
       "    </tr>\n",
       "    <tr>\n",
       "      <th>NEITHER BAD, NOR GOOD</th>\n",
       "      <td>532</td>\n",
       "      <td>77</td>\n",
       "    </tr>\n",
       "  </tbody>\n",
       "</table>\n",
       "</div>"
      ],
      "text/plain": [
       "Would_live_in_another_neighborhood       0.0  1.0\n",
       "CITIZEN SECURITY IN THE CITY AS A WHOLE          \n",
       "BAD                                      198   40\n",
       "GOOD                                     284   38\n",
       "NEITHER BAD, NOR GOOD                    532   77"
      ]
     },
     "metadata": {},
     "output_type": "display_data"
    },
    {
     "data": {
      "text/html": [
       "<div>\n",
       "<style scoped>\n",
       "    .dataframe tbody tr th:only-of-type {\n",
       "        vertical-align: middle;\n",
       "    }\n",
       "\n",
       "    .dataframe tbody tr th {\n",
       "        vertical-align: top;\n",
       "    }\n",
       "\n",
       "    .dataframe thead th {\n",
       "        text-align: right;\n",
       "    }\n",
       "</style>\n",
       "<table border=\"1\" class=\"dataframe\">\n",
       "  <thead>\n",
       "    <tr style=\"text-align: right;\">\n",
       "      <th>Would_live_in_another_neighborhood</th>\n",
       "      <th>0.0</th>\n",
       "      <th>1.0</th>\n",
       "    </tr>\n",
       "    <tr>\n",
       "      <th>CITY MANAGEMENT</th>\n",
       "      <th></th>\n",
       "      <th></th>\n",
       "    </tr>\n",
       "  </thead>\n",
       "  <tbody>\n",
       "    <tr>\n",
       "      <th>BAD</th>\n",
       "      <td>95</td>\n",
       "      <td>21</td>\n",
       "    </tr>\n",
       "    <tr>\n",
       "      <th>GOOD</th>\n",
       "      <td>429</td>\n",
       "      <td>46</td>\n",
       "    </tr>\n",
       "    <tr>\n",
       "      <th>NEITHER BAD, NOR GOOD</th>\n",
       "      <td>490</td>\n",
       "      <td>88</td>\n",
       "    </tr>\n",
       "  </tbody>\n",
       "</table>\n",
       "</div>"
      ],
      "text/plain": [
       "Would_live_in_another_neighborhood  0.0  1.0\n",
       "CITY MANAGEMENT                             \n",
       "BAD                                  95   21\n",
       "GOOD                                429   46\n",
       "NEITHER BAD, NOR GOOD               490   88"
      ]
     },
     "metadata": {},
     "output_type": "display_data"
    },
    {
     "data": {
      "text/html": [
       "<div>\n",
       "<style scoped>\n",
       "    .dataframe tbody tr th:only-of-type {\n",
       "        vertical-align: middle;\n",
       "    }\n",
       "\n",
       "    .dataframe tbody tr th {\n",
       "        vertical-align: top;\n",
       "    }\n",
       "\n",
       "    .dataframe thead th {\n",
       "        text-align: right;\n",
       "    }\n",
       "</style>\n",
       "<table border=\"1\" class=\"dataframe\">\n",
       "  <thead>\n",
       "    <tr style=\"text-align: right;\">\n",
       "      <th>Would_live_in_another_neighborhood</th>\n",
       "      <th>0.0</th>\n",
       "      <th>1.0</th>\n",
       "    </tr>\n",
       "    <tr>\n",
       "      <th>BCN_over_barri_evolution</th>\n",
       "      <th></th>\n",
       "      <th></th>\n",
       "    </tr>\n",
       "  </thead>\n",
       "  <tbody>\n",
       "    <tr>\n",
       "      <th>0</th>\n",
       "      <td>908</td>\n",
       "      <td>140</td>\n",
       "    </tr>\n",
       "    <tr>\n",
       "      <th>1</th>\n",
       "      <td>106</td>\n",
       "      <td>15</td>\n",
       "    </tr>\n",
       "  </tbody>\n",
       "</table>\n",
       "</div>"
      ],
      "text/plain": [
       "Would_live_in_another_neighborhood  0.0  1.0\n",
       "BCN_over_barri_evolution                    \n",
       "0                                   908  140\n",
       "1                                   106   15"
      ]
     },
     "metadata": {},
     "output_type": "display_data"
    },
    {
     "data": {
      "text/html": [
       "<div>\n",
       "<style scoped>\n",
       "    .dataframe tbody tr th:only-of-type {\n",
       "        vertical-align: middle;\n",
       "    }\n",
       "\n",
       "    .dataframe tbody tr th {\n",
       "        vertical-align: top;\n",
       "    }\n",
       "\n",
       "    .dataframe thead th {\n",
       "        text-align: right;\n",
       "    }\n",
       "</style>\n",
       "<table border=\"1\" class=\"dataframe\">\n",
       "  <thead>\n",
       "    <tr style=\"text-align: right;\">\n",
       "      <th>Would_live_in_another_neighborhood</th>\n",
       "      <th>0.0</th>\n",
       "      <th>1.0</th>\n",
       "    </tr>\n",
       "    <tr>\n",
       "      <th>BCN_over_barri_future</th>\n",
       "      <th></th>\n",
       "      <th></th>\n",
       "    </tr>\n",
       "  </thead>\n",
       "  <tbody>\n",
       "    <tr>\n",
       "      <th>0</th>\n",
       "      <td>866</td>\n",
       "      <td>126</td>\n",
       "    </tr>\n",
       "    <tr>\n",
       "      <th>1</th>\n",
       "      <td>148</td>\n",
       "      <td>29</td>\n",
       "    </tr>\n",
       "  </tbody>\n",
       "</table>\n",
       "</div>"
      ],
      "text/plain": [
       "Would_live_in_another_neighborhood  0.0  1.0\n",
       "BCN_over_barri_future                       \n",
       "0                                   866  126\n",
       "1                                   148   29"
      ]
     },
     "metadata": {},
     "output_type": "display_data"
    },
    {
     "data": {
      "text/html": [
       "<div>\n",
       "<style scoped>\n",
       "    .dataframe tbody tr th:only-of-type {\n",
       "        vertical-align: middle;\n",
       "    }\n",
       "\n",
       "    .dataframe tbody tr th {\n",
       "        vertical-align: top;\n",
       "    }\n",
       "\n",
       "    .dataframe thead th {\n",
       "        text-align: right;\n",
       "    }\n",
       "</style>\n",
       "<table border=\"1\" class=\"dataframe\">\n",
       "  <thead>\n",
       "    <tr style=\"text-align: right;\">\n",
       "      <th>Would_live_in_another_neighborhood</th>\n",
       "      <th>0.0</th>\n",
       "      <th>1.0</th>\n",
       "    </tr>\n",
       "    <tr>\n",
       "      <th>BCN_over_barri_satisfaction</th>\n",
       "      <th></th>\n",
       "      <th></th>\n",
       "    </tr>\n",
       "  </thead>\n",
       "  <tbody>\n",
       "    <tr>\n",
       "      <th>0</th>\n",
       "      <td>963</td>\n",
       "      <td>126</td>\n",
       "    </tr>\n",
       "    <tr>\n",
       "      <th>1</th>\n",
       "      <td>51</td>\n",
       "      <td>29</td>\n",
       "    </tr>\n",
       "  </tbody>\n",
       "</table>\n",
       "</div>"
      ],
      "text/plain": [
       "Would_live_in_another_neighborhood  0.0  1.0\n",
       "BCN_over_barri_satisfaction                 \n",
       "0                                   963  126\n",
       "1                                    51   29"
      ]
     },
     "metadata": {},
     "output_type": "display_data"
    },
    {
     "data": {
      "text/html": [
       "<div>\n",
       "<style scoped>\n",
       "    .dataframe tbody tr th:only-of-type {\n",
       "        vertical-align: middle;\n",
       "    }\n",
       "\n",
       "    .dataframe tbody tr th {\n",
       "        vertical-align: top;\n",
       "    }\n",
       "\n",
       "    .dataframe thead th {\n",
       "        text-align: right;\n",
       "    }\n",
       "</style>\n",
       "<table border=\"1\" class=\"dataframe\">\n",
       "  <thead>\n",
       "    <tr style=\"text-align: right;\">\n",
       "      <th>Would_live_in_another_neighborhood</th>\n",
       "      <th>0.0</th>\n",
       "      <th>1.0</th>\n",
       "    </tr>\n",
       "    <tr>\n",
       "      <th>BCN_over_barri_transport</th>\n",
       "      <th></th>\n",
       "      <th></th>\n",
       "    </tr>\n",
       "  </thead>\n",
       "  <tbody>\n",
       "    <tr>\n",
       "      <th>0</th>\n",
       "      <td>917</td>\n",
       "      <td>146</td>\n",
       "    </tr>\n",
       "    <tr>\n",
       "      <th>1</th>\n",
       "      <td>97</td>\n",
       "      <td>9</td>\n",
       "    </tr>\n",
       "  </tbody>\n",
       "</table>\n",
       "</div>"
      ],
      "text/plain": [
       "Would_live_in_another_neighborhood  0.0  1.0\n",
       "BCN_over_barri_transport                    \n",
       "0                                   917  146\n",
       "1                                    97    9"
      ]
     },
     "metadata": {},
     "output_type": "display_data"
    },
    {
     "data": {
      "text/html": [
       "<div>\n",
       "<style scoped>\n",
       "    .dataframe tbody tr th:only-of-type {\n",
       "        vertical-align: middle;\n",
       "    }\n",
       "\n",
       "    .dataframe tbody tr th {\n",
       "        vertical-align: top;\n",
       "    }\n",
       "\n",
       "    .dataframe thead th {\n",
       "        text-align: right;\n",
       "    }\n",
       "</style>\n",
       "<table border=\"1\" class=\"dataframe\">\n",
       "  <thead>\n",
       "    <tr style=\"text-align: right;\">\n",
       "      <th>Would_live_in_another_neighborhood</th>\n",
       "      <th>0.0</th>\n",
       "      <th>1.0</th>\n",
       "    </tr>\n",
       "    <tr>\n",
       "      <th>BCN_over_barri_management</th>\n",
       "      <th></th>\n",
       "      <th></th>\n",
       "    </tr>\n",
       "  </thead>\n",
       "  <tbody>\n",
       "    <tr>\n",
       "      <th>0</th>\n",
       "      <td>978</td>\n",
       "      <td>147</td>\n",
       "    </tr>\n",
       "    <tr>\n",
       "      <th>1</th>\n",
       "      <td>36</td>\n",
       "      <td>8</td>\n",
       "    </tr>\n",
       "  </tbody>\n",
       "</table>\n",
       "</div>"
      ],
      "text/plain": [
       "Would_live_in_another_neighborhood  0.0  1.0\n",
       "BCN_over_barri_management                   \n",
       "0                                   978  147\n",
       "1                                    36    8"
      ]
     },
     "metadata": {},
     "output_type": "display_data"
    },
    {
     "data": {
      "text/html": [
       "<div>\n",
       "<style scoped>\n",
       "    .dataframe tbody tr th:only-of-type {\n",
       "        vertical-align: middle;\n",
       "    }\n",
       "\n",
       "    .dataframe tbody tr th {\n",
       "        vertical-align: top;\n",
       "    }\n",
       "\n",
       "    .dataframe thead th {\n",
       "        text-align: right;\n",
       "    }\n",
       "</style>\n",
       "<table border=\"1\" class=\"dataframe\">\n",
       "  <thead>\n",
       "    <tr style=\"text-align: right;\">\n",
       "      <th>Would_live_in_another_neighborhood</th>\n",
       "      <th>0.0</th>\n",
       "      <th>1.0</th>\n",
       "    </tr>\n",
       "    <tr>\n",
       "      <th>BCN_over_barri_security</th>\n",
       "      <th></th>\n",
       "      <th></th>\n",
       "    </tr>\n",
       "  </thead>\n",
       "  <tbody>\n",
       "    <tr>\n",
       "      <th>0</th>\n",
       "      <td>969</td>\n",
       "      <td>145</td>\n",
       "    </tr>\n",
       "    <tr>\n",
       "      <th>1</th>\n",
       "      <td>45</td>\n",
       "      <td>10</td>\n",
       "    </tr>\n",
       "  </tbody>\n",
       "</table>\n",
       "</div>"
      ],
      "text/plain": [
       "Would_live_in_another_neighborhood  0.0  1.0\n",
       "BCN_over_barri_security                     \n",
       "0                                   969  145\n",
       "1                                    45   10"
      ]
     },
     "metadata": {},
     "output_type": "display_data"
    }
   ],
   "source": [
    "for i in data.columns.tolist():\n",
    "    display(pd.crosstab(data[i], data.Would_live_in_another_neighborhood))"
   ]
  },
  {
   "cell_type": "code",
   "execution_count": 8,
   "metadata": {},
   "outputs": [
    {
     "data": {
      "text/plain": [
       "['Would_live_in_another_neighborhood',\n",
       " 'District',\n",
       " 'Woman',\n",
       " 'Car',\n",
       " 'Support_with_housework',\n",
       " 'Owner',\n",
       " 'House_size',\n",
       " 'No_of_people_in_the_house',\n",
       " 'Family_type',\n",
       " 'Financial_situation',\n",
       " 'Disability',\n",
       " 'Living_with_disabled_person',\n",
       " 'Time_living_in_BCN',\n",
       " 'Time_living_in_barri',\n",
       " 'Barri_evolution',\n",
       " 'BCN_evolution',\n",
       " 'Barri_future',\n",
       " 'BCN_future',\n",
       " 'Barri_satisfaction',\n",
       " 'BCN_satisfaction',\n",
       " 'Barri_security',\n",
       " 'BCN_security',\n",
       " 'Barri_management',\n",
       " 'BCN_management',\n",
       " 'Barri_comparison',\n",
       " 'Barri_association',\n",
       " 'Barri_transport',\n",
       " 'BCN_transport',\n",
       " 'Barri_problem_with_security',\n",
       " 'Barri_problem_with_streets_cleaning',\n",
       " 'Barri_problem_with_mobility',\n",
       " 'Residential_satisfaction',\n",
       " 'GARBAGE COLLECTION',\n",
       " 'STREETS CLEANING',\n",
       " 'NOISE',\n",
       " 'GREEN AREAS',\n",
       " 'PUBLIC LIGHTING',\n",
       " 'ASPHALT AND STREET CONSERVATION',\n",
       " 'CIRCULATION AND TRAFFIC',\n",
       " 'BUS',\n",
       " 'CITIZEN SECURITY IN THE CITY AS A WHOLE',\n",
       " 'CITY MANAGEMENT',\n",
       " 'BCN_over_barri_evolution',\n",
       " 'BCN_over_barri_future',\n",
       " 'BCN_over_barri_satisfaction',\n",
       " 'BCN_over_barri_transport',\n",
       " 'BCN_over_barri_management',\n",
       " 'BCN_over_barri_security']"
      ]
     },
     "execution_count": 8,
     "metadata": {},
     "output_type": "execute_result"
    }
   ],
   "source": [
    "data.columns.tolist()"
   ]
  },
  {
   "cell_type": "code",
   "execution_count": null,
   "metadata": {},
   "outputs": [],
   "source": []
  },
  {
   "cell_type": "code",
   "execution_count": 9,
   "metadata": {},
   "outputs": [],
   "source": [
    "x_var = ['District', # neighbourhood & city\n",
    " 'Woman', # gender\n",
    " 'Car', # support / health\n",
    " 'Support_with_housework', # support\n",
    " 'Owner', # housing\n",
    " 'House_size', # housing\n",
    " 'No_of_people_in_the_house', # housing\n",
    " 'Family_type', # family\n",
    " 'Financial_situation', # financial situation\n",
    " 'Disability', # health\n",
    " 'Living_with_disabled_person', # health\n",
    " 'Time_living_in_barri', # attachment\n",
    " 'Barri_evolution', # neighbourhood & city\n",
    " 'Barri_future', # neighbourhood & city\n",
    " 'Barri_satisfaction', # neighbourhood & city\n",
    " 'Barri_security', # neighbourhood & city\n",
    " 'Barri_management', # neighbourhood & city\n",
    " 'Barri_comparison', # neighbourhood & city\n",
    " 'Barri_association', # neighbourhood & city\n",
    " 'Barri_transport', # neighbourhood & city\n",
    " 'BCN_over_barri_evolution', # neighbourhood & city\n",
    " 'BCN_over_barri_future', # neighbourhood & city\n",
    " 'BCN_over_barri_satisfaction', # neighbourhood & city\n",
    " 'BCN_over_barri_transport', # neighbourhood & city\n",
    " 'BCN_over_barri_management', # neighbourhood & city\n",
    " 'BCN_over_barri_security'] # neighbourhood & city"
   ]
  },
  {
   "cell_type": "code",
   "execution_count": null,
   "metadata": {},
   "outputs": [],
   "source": []
  },
  {
   "cell_type": "code",
   "execution_count": 10,
   "metadata": {},
   "outputs": [],
   "source": [
    "y = data['Would_live_in_another_neighborhood']"
   ]
  },
  {
   "cell_type": "code",
   "execution_count": null,
   "metadata": {},
   "outputs": [],
   "source": []
  },
  {
   "cell_type": "code",
   "execution_count": 11,
   "metadata": {},
   "outputs": [],
   "source": [
    "x = pd.get_dummies(data[x_var])"
   ]
  },
  {
   "cell_type": "code",
   "execution_count": 12,
   "metadata": {},
   "outputs": [
    {
     "data": {
      "text/plain": [
       "['Woman',\n",
       " 'Car',\n",
       " 'Support_with_housework',\n",
       " 'Owner',\n",
       " 'Disability',\n",
       " 'Living_with_disabled_person',\n",
       " 'Barri_association',\n",
       " 'BCN_over_barri_evolution',\n",
       " 'BCN_over_barri_future',\n",
       " 'BCN_over_barri_satisfaction',\n",
       " 'BCN_over_barri_transport',\n",
       " 'BCN_over_barri_management',\n",
       " 'BCN_over_barri_security',\n",
       " 'District_CIUTAT VELLA',\n",
       " 'District_EIXAMPLE',\n",
       " 'District_GRÀCIA',\n",
       " 'District_HORTA - GUINARDÓ',\n",
       " 'District_LES CORTS',\n",
       " 'District_NOU BARRIS',\n",
       " 'District_SANT ANDREU',\n",
       " 'District_SANT MARTÍ',\n",
       " 'District_SANTS - MONTJUÏC',\n",
       " 'District_SARRIÀ - SANT GERVASI',\n",
       " 'House_size_101-150 M2',\n",
       " 'House_size_51-100 M2',\n",
       " 'House_size_< 50 M2',\n",
       " 'House_size_> 150 M2',\n",
       " \"House_size_I DON'T KNOW\",\n",
       " 'No_of_people_in_the_house_ONE',\n",
       " 'No_of_people_in_the_house_THREE OR MORE',\n",
       " 'No_of_people_in_the_house_TWO',\n",
       " 'Family_type_COUPLE WITH CHILDREN',\n",
       " 'Family_type_COUPLE WITH NO CHILDREN',\n",
       " 'Family_type_OTHER',\n",
       " 'Family_type_SINGLE',\n",
       " 'Family_type_SINGLE-PARENT WITH CHILDREN',\n",
       " 'Financial_situation_BAD',\n",
       " 'Financial_situation_GOOD',\n",
       " 'Time_living_in_barri_I HAVE ALWAYS LIVED IN THE NEIGHBORHOOD',\n",
       " 'Time_living_in_barri_LESS THAN 10 YEARS',\n",
       " 'Time_living_in_barri_MORE THAN 10 YEARS',\n",
       " 'Barri_evolution_IT HAS IMPROVED',\n",
       " 'Barri_evolution_IT HAS WORSENED',\n",
       " 'Barri_evolution_IT IS THE SAME',\n",
       " 'Barri_future_IT WILL IMPROVE',\n",
       " 'Barri_future_IT WILL STAY THE SAME',\n",
       " 'Barri_future_IT WILL WORSEN',\n",
       " 'Barri_satisfaction_FAIRLY SATISFIED',\n",
       " 'Barri_satisfaction_NOT SATISFIED',\n",
       " 'Barri_satisfaction_SATISFIED',\n",
       " 'Barri_security_BAD',\n",
       " 'Barri_security_GOOD',\n",
       " 'Barri_security_NEITHER BAD, NOR GOOD',\n",
       " 'Barri_management_BAD',\n",
       " 'Barri_management_GOOD',\n",
       " 'Barri_management_NEITHER BAD, NOR GOOD',\n",
       " 'Barri_comparison_NEITHER THE BEST, NOR THE WORST',\n",
       " 'Barri_comparison_ONE OF THE BEST',\n",
       " 'Barri_comparison_ONE OF THE WORST',\n",
       " 'Barri_transport_BAD',\n",
       " 'Barri_transport_GOOD',\n",
       " 'Barri_transport_NEITHER BAD, NOR GOOD']"
      ]
     },
     "execution_count": 12,
     "metadata": {},
     "output_type": "execute_result"
    }
   ],
   "source": [
    "x.columns.tolist()"
   ]
  },
  {
   "cell_type": "code",
   "execution_count": 13,
   "metadata": {},
   "outputs": [],
   "source": [
    "for i in ['District_EIXAMPLE',\n",
    "          'House_size_< 50 M2',\n",
    "          'No_of_people_in_the_house_ONE',\n",
    "          'Family_type_OTHER',\n",
    "          'Financial_situation_GOOD',\n",
    "          'Time_living_in_barri_LESS THAN 10 YEARS',\n",
    "          'Barri_evolution_IT HAS IMPROVED',\n",
    "          'Barri_future_IT WILL IMPROVE',\n",
    "          'Barri_satisfaction_SATISFIED',\n",
    "          'Barri_security_GOOD',\n",
    "          'Barri_management_GOOD',\n",
    "          'Barri_comparison_ONE OF THE BEST',\n",
    "          'Barri_transport_GOOD']:\n",
    "    del x[i]"
   ]
  },
  {
   "cell_type": "code",
   "execution_count": 14,
   "metadata": {},
   "outputs": [
    {
     "data": {
      "text/plain": [
       "<matplotlib.axes._subplots.AxesSubplot at 0x23106e5a808>"
      ]
     },
     "execution_count": 14,
     "metadata": {},
     "output_type": "execute_result"
    },
    {
     "data": {
      "image/png": "[encoded data removed]",
      "text/plain": [
       "<Figure size 1152x1152 with 2 Axes>"
      ]
     },
     "metadata": {},
     "output_type": "display_data"
    }
   ],
   "source": [
    "import seaborn as sns # just a conventional alias, don't know why\n",
    "sns.set(style=\"white\")\n",
    "\n",
    "corr = x.corr('spearman')\n",
    "\n",
    "# Generate a mask for the upper triangle\n",
    "mask = np.zeros_like(corr, dtype=np.bool)\n",
    "mask[np.triu_indices_from(mask)] = True\n",
    "\n",
    "# Set up the matplotlib figure\n",
    "f, ax = plt.subplots(figsize=(16, 16))\n",
    "\n",
    "# Generate a custom diverging colormap\n",
    "cmap = sns.diverging_palette(220, 10, as_cmap=True)\n",
    "\n",
    "# Draw the heatmap with the mask and correct aspect ratio\n",
    "sns.heatmap(corr, mask=mask, cmap=cmap, vmax=.3, center=0,\n",
    "            square=True, #annot = corr.round(2), \n",
    "            linewidths=.5, cbar_kws={\"shrink\": .5})"
   ]
  },
  {
   "cell_type": "code",
   "execution_count": 15,
   "metadata": {},
   "outputs": [],
   "source": [
    "x = sm.add_constant(x)"
   ]
  },
  {
   "cell_type": "code",
   "execution_count": 16,
   "metadata": {},
   "outputs": [
    {
     "data": {
      "text/plain": [
       "(1169, 50)"
      ]
     },
     "execution_count": 16,
     "metadata": {},
     "output_type": "execute_result"
    }
   ],
   "source": [
    "x.shape"
   ]
  },
  {
   "cell_type": "code",
   "execution_count": null,
   "metadata": {},
   "outputs": [],
   "source": []
  },
  {
   "cell_type": "markdown",
   "metadata": {},
   "source": [
    "# Models"
   ]
  },
  {
   "cell_type": "code",
   "execution_count": 17,
   "metadata": {},
   "outputs": [
    {
     "data": {
      "text/plain": [
       "[statsmodels.genmod.families.links.logit,\n",
       " statsmodels.genmod.families.links.probit,\n",
       " statsmodels.genmod.families.links.cauchy,\n",
       " statsmodels.genmod.families.links.log,\n",
       " statsmodels.genmod.families.links.cloglog,\n",
       " statsmodels.genmod.families.links.identity]"
      ]
     },
     "execution_count": 17,
     "metadata": {},
     "output_type": "execute_result"
    }
   ],
   "source": [
    "sm.families.family.Binomial.links"
   ]
  },
  {
   "cell_type": "code",
   "execution_count": null,
   "metadata": {},
   "outputs": [],
   "source": []
  },
  {
   "cell_type": "code",
   "execution_count": 18,
   "metadata": {},
   "outputs": [],
   "source": [
    "def odds_ratios(results):\n",
    "    return np.exp(results.params)\n",
    "\n",
    "def classification_table(results):\n",
    "    df_classification_table = pd.DataFrame(y).join(pd.DataFrame(results.predict(x).round()))\n",
    "    df_classification_table.rename(columns={'Would_live_in_another_neighborhood': 'y', 0: 'y_predict'}, inplace=True)\n",
    "    return pd.crosstab(df_classification_table['y'], df_classification_table['y_predict'])\n",
    "\n",
    "def plot_roc_auc(results):\n",
    "    y_predict = results.predict(x)\n",
    "    roc_auc = roc_auc_score(y, y_predict)\n",
    "    fpr, tpr, thresholds = roc_curve(y, y_predict)\n",
    "    plt.figure()\n",
    "    plt.plot(fpr, tpr, label='Logistic Regression (area = %0.2f)' % roc_auc)\n",
    "    plt.plot([0, 1], [0, 1],'r--')\n",
    "    plt.xlim([0.0, 1.0])\n",
    "    plt.ylim([0.0, 1.05])\n",
    "    plt.xlabel('False Positive Rate')\n",
    "    plt.ylabel('True Positive Rate')\n",
    "    plt.title('Receiver operating characteristic')\n",
    "    plt.legend(loc=\"lower right\")\n",
    "    plt.show()\n",
    "\n",
    "# https://github.com/statsmodels/statsmodels/issues/5861\n",
    "def pseudo_r2(results):\n",
    "    return print(\"Pseudo R2:\", (1 - results.llf / results.llnull))\n",
    "\n",
    "def adj_pseudo_r2(results):\n",
    "    return print(\"Adjusted Pseudo R2:\", (1 - (results.llf - results.params.shape[0]+1) / results.llnull))\n",
    "\n",
    "def adj_count_r2(results):\n",
    "    df_classification_table = pd.DataFrame(y).join(pd.DataFrame(results.predict(x).round()))\n",
    "    df_classification_table.rename(columns={'Would_live_in_another_neighborhood': 'y', 0: 'y_predict'}, inplace=True)\n",
    "    df = pd.crosstab(df_classification_table['y'], df_classification_table['y_predict'])\n",
    "    return print(\"Adj Count R2:\", round((df[0][0] + df[1][1] - (df[0][0]+df[1][0]))/(df[0][1]+df[1][1]),3))"
   ]
  },
  {
   "cell_type": "markdown",
   "metadata": {},
   "source": [
    "# Logit"
   ]
  },
  {
   "cell_type": "code",
   "execution_count": 19,
   "metadata": {},
   "outputs": [
    {
     "data": {
      "text/html": [
       "<table class=\"simpletable\">\n",
       "<caption>Generalized Linear Model Regression Results</caption>\n",
       "<tr>\n",
       "  <th>Dep. Variable:</th>   <td>Would_live_in_another_neighborhood</td> <th>  No. Observations:  </th>  <td>  1169</td> \n",
       "</tr>\n",
       "<tr>\n",
       "  <th>Model:</th>                           <td>GLM</td>                <th>  Df Residuals:      </th>  <td>  1120</td> \n",
       "</tr>\n",
       "<tr>\n",
       "  <th>Model Family:</th>                 <td>Binomial</td>              <th>  Df Model:          </th>  <td>    48</td> \n",
       "</tr>\n",
       "<tr>\n",
       "  <th>Link Function:</th>                  <td>logit</td>               <th>  Scale:             </th> <td>  1.0000</td>\n",
       "</tr>\n",
       "<tr>\n",
       "  <th>Method:</th>                         <td>IRLS</td>                <th>  Log-Likelihood:    </th> <td> -376.11</td>\n",
       "</tr>\n",
       "<tr>\n",
       "  <th>Date:</th>                     <td>Sun, 08 Aug 2021</td>          <th>  Deviance:          </th> <td>  752.23</td>\n",
       "</tr>\n",
       "<tr>\n",
       "  <th>Time:</th>                         <td>12:51:35</td>              <th>  Pearson chi2:      </th> <td>1.27e+03</td>\n",
       "</tr>\n",
       "<tr>\n",
       "  <th>No. Iterations:</th>                   <td>6</td>                 <th>                     </th>     <td> </td>   \n",
       "</tr>\n",
       "<tr>\n",
       "  <th>Covariance Type:</th>              <td>nonrobust</td>             <th>                     </th>     <td> </td>   \n",
       "</tr>\n",
       "</table>\n",
       "<table class=\"simpletable\">\n",
       "<tr>\n",
       "                                <td></td>                                  <th>coef</th>     <th>std err</th>      <th>z</th>      <th>P>|z|</th>  <th>[0.025</th>    <th>0.975]</th>  \n",
       "</tr>\n",
       "<tr>\n",
       "  <th>const</th>                                                        <td>   -1.0737</td> <td>    0.456</td> <td>   -2.352</td> <td> 0.019</td> <td>   -1.968</td> <td>   -0.179</td>\n",
       "</tr>\n",
       "<tr>\n",
       "  <th>Woman</th>                                                        <td>   -0.0930</td> <td>    0.212</td> <td>   -0.439</td> <td> 0.660</td> <td>   -0.508</td> <td>    0.322</td>\n",
       "</tr>\n",
       "<tr>\n",
       "  <th>Car</th>                                                          <td>    0.3431</td> <td>    0.233</td> <td>    1.472</td> <td> 0.141</td> <td>   -0.114</td> <td>    0.800</td>\n",
       "</tr>\n",
       "<tr>\n",
       "  <th>Support_with_housework</th>                                       <td>    0.0383</td> <td>    0.227</td> <td>    0.169</td> <td> 0.866</td> <td>   -0.407</td> <td>    0.484</td>\n",
       "</tr>\n",
       "<tr>\n",
       "  <th>Owner</th>                                                        <td>    0.0917</td> <td>    0.280</td> <td>    0.327</td> <td> 0.743</td> <td>   -0.457</td> <td>    0.641</td>\n",
       "</tr>\n",
       "<tr>\n",
       "  <th>Disability</th>                                                   <td>    0.3594</td> <td>    0.380</td> <td>    0.945</td> <td> 0.345</td> <td>   -0.386</td> <td>    1.105</td>\n",
       "</tr>\n",
       "<tr>\n",
       "  <th>Living_with_disabled_person</th>                                  <td>   -0.3036</td> <td>    0.328</td> <td>   -0.926</td> <td> 0.355</td> <td>   -0.946</td> <td>    0.339</td>\n",
       "</tr>\n",
       "<tr>\n",
       "  <th>Barri_association</th>                                            <td>   -0.3707</td> <td>    0.257</td> <td>   -1.441</td> <td> 0.150</td> <td>   -0.875</td> <td>    0.134</td>\n",
       "</tr>\n",
       "<tr>\n",
       "  <th>BCN_over_barri_evolution</th>                                     <td>    0.0589</td> <td>    0.353</td> <td>    0.167</td> <td> 0.867</td> <td>   -0.632</td> <td>    0.750</td>\n",
       "</tr>\n",
       "<tr>\n",
       "  <th>BCN_over_barri_future</th>                                        <td>    0.4512</td> <td>    0.303</td> <td>    1.487</td> <td> 0.137</td> <td>   -0.143</td> <td>    1.046</td>\n",
       "</tr>\n",
       "<tr>\n",
       "  <th>BCN_over_barri_satisfaction</th>                                  <td>    1.0905</td> <td>    0.653</td> <td>    1.670</td> <td> 0.095</td> <td>   -0.189</td> <td>    2.370</td>\n",
       "</tr>\n",
       "<tr>\n",
       "  <th>BCN_over_barri_transport</th>                                     <td>   -0.7977</td> <td>    0.528</td> <td>   -1.512</td> <td> 0.131</td> <td>   -1.832</td> <td>    0.237</td>\n",
       "</tr>\n",
       "<tr>\n",
       "  <th>BCN_over_barri_management</th>                                    <td>   -0.4118</td> <td>    0.697</td> <td>   -0.591</td> <td> 0.555</td> <td>   -1.779</td> <td>    0.955</td>\n",
       "</tr>\n",
       "<tr>\n",
       "  <th>BCN_over_barri_security</th>                                      <td>   -0.0049</td> <td>    0.464</td> <td>   -0.011</td> <td> 0.992</td> <td>   -0.915</td> <td>    0.905</td>\n",
       "</tr>\n",
       "<tr>\n",
       "  <th>District_CIUTAT VELLA</th>                                        <td>    0.0591</td> <td>    0.526</td> <td>    0.112</td> <td> 0.910</td> <td>   -0.972</td> <td>    1.090</td>\n",
       "</tr>\n",
       "<tr>\n",
       "  <th>District_GRÀCIA</th>                                              <td>    0.4840</td> <td>    0.422</td> <td>    1.146</td> <td> 0.252</td> <td>   -0.344</td> <td>    1.312</td>\n",
       "</tr>\n",
       "<tr>\n",
       "  <th>District_HORTA - GUINARDÓ</th>                                    <td>    0.6435</td> <td>    0.379</td> <td>    1.698</td> <td> 0.089</td> <td>   -0.099</td> <td>    1.386</td>\n",
       "</tr>\n",
       "<tr>\n",
       "  <th>District_LES CORTS</th>                                           <td>   -0.8210</td> <td>    0.589</td> <td>   -1.395</td> <td> 0.163</td> <td>   -1.975</td> <td>    0.333</td>\n",
       "</tr>\n",
       "<tr>\n",
       "  <th>District_NOU BARRIS</th>                                          <td>    0.6139</td> <td>    0.392</td> <td>    1.568</td> <td> 0.117</td> <td>   -0.154</td> <td>    1.382</td>\n",
       "</tr>\n",
       "<tr>\n",
       "  <th>District_SANT ANDREU</th>                                         <td>    0.5261</td> <td>    0.390</td> <td>    1.349</td> <td> 0.177</td> <td>   -0.238</td> <td>    1.290</td>\n",
       "</tr>\n",
       "<tr>\n",
       "  <th>District_SANT MARTÍ</th>                                          <td>    0.1040</td> <td>    0.392</td> <td>    0.265</td> <td> 0.791</td> <td>   -0.664</td> <td>    0.872</td>\n",
       "</tr>\n",
       "<tr>\n",
       "  <th>District_SANTS - MONTJUÏC</th>                                    <td>    0.4359</td> <td>    0.400</td> <td>    1.091</td> <td> 0.275</td> <td>   -0.347</td> <td>    1.219</td>\n",
       "</tr>\n",
       "<tr>\n",
       "  <th>District_SARRIÀ - SANT GERVASI</th>                               <td>   -0.4669</td> <td>    0.550</td> <td>   -0.849</td> <td> 0.396</td> <td>   -1.544</td> <td>    0.610</td>\n",
       "</tr>\n",
       "<tr>\n",
       "  <th>House_size_101-150 M2</th>                                        <td>   -0.5359</td> <td>    0.492</td> <td>   -1.089</td> <td> 0.276</td> <td>   -1.501</td> <td>    0.429</td>\n",
       "</tr>\n",
       "<tr>\n",
       "  <th>House_size_51-100 M2</th>                                         <td>   -0.3798</td> <td>    0.377</td> <td>   -1.008</td> <td> 0.314</td> <td>   -1.118</td> <td>    0.359</td>\n",
       "</tr>\n",
       "<tr>\n",
       "  <th>House_size_> 150 M2</th>                                          <td>   -0.0212</td> <td>    0.649</td> <td>   -0.033</td> <td> 0.974</td> <td>   -1.292</td> <td>    1.250</td>\n",
       "</tr>\n",
       "<tr>\n",
       "  <th>House_size_I DON'T KNOW</th>                                      <td>   -0.9009</td> <td>    0.577</td> <td>   -1.562</td> <td> 0.118</td> <td>   -2.031</td> <td>    0.229</td>\n",
       "</tr>\n",
       "<tr>\n",
       "  <th>No_of_people_in_the_house_THREE OR MORE</th>                      <td>    0.0964</td> <td>    0.370</td> <td>    0.261</td> <td> 0.794</td> <td>   -0.628</td> <td>    0.821</td>\n",
       "</tr>\n",
       "<tr>\n",
       "  <th>No_of_people_in_the_house_TWO</th>                                <td>   -0.4909</td> <td>    0.368</td> <td>   -1.334</td> <td> 0.182</td> <td>   -1.212</td> <td>    0.230</td>\n",
       "</tr>\n",
       "<tr>\n",
       "  <th>Family_type_COUPLE WITH CHILDREN</th>                             <td>   -1.0076</td> <td>    0.569</td> <td>   -1.772</td> <td> 0.076</td> <td>   -2.122</td> <td>    0.107</td>\n",
       "</tr>\n",
       "<tr>\n",
       "  <th>Family_type_COUPLE WITH NO CHILDREN</th>                          <td>   -0.4145</td> <td>    0.496</td> <td>   -0.835</td> <td> 0.404</td> <td>   -1.387</td> <td>    0.558</td>\n",
       "</tr>\n",
       "<tr>\n",
       "  <th>Family_type_SINGLE</th>                                           <td>   -0.6792</td> <td>    0.270</td> <td>   -2.511</td> <td> 0.012</td> <td>   -1.209</td> <td>   -0.149</td>\n",
       "</tr>\n",
       "<tr>\n",
       "  <th>Family_type_SINGLE-PARENT WITH CHILDREN</th>                      <td>   -0.4179</td> <td>    0.541</td> <td>   -0.772</td> <td> 0.440</td> <td>   -1.479</td> <td>    0.643</td>\n",
       "</tr>\n",
       "<tr>\n",
       "  <th>Financial_situation_BAD</th>                                      <td>    0.0638</td> <td>    0.215</td> <td>    0.297</td> <td> 0.767</td> <td>   -0.358</td> <td>    0.485</td>\n",
       "</tr>\n",
       "<tr>\n",
       "  <th>Time_living_in_barri_I HAVE ALWAYS LIVED IN THE NEIGHBORHOOD</th> <td>   -2.1917</td> <td>    0.538</td> <td>   -4.075</td> <td> 0.000</td> <td>   -3.246</td> <td>   -1.138</td>\n",
       "</tr>\n",
       "<tr>\n",
       "  <th>Time_living_in_barri_MORE THAN 10 YEARS</th>                      <td>   -0.9665</td> <td>    0.351</td> <td>   -2.750</td> <td> 0.006</td> <td>   -1.655</td> <td>   -0.278</td>\n",
       "</tr>\n",
       "<tr>\n",
       "  <th>Barri_evolution_IT HAS WORSENED</th>                              <td>   -0.2257</td> <td>    0.291</td> <td>   -0.775</td> <td> 0.438</td> <td>   -0.796</td> <td>    0.345</td>\n",
       "</tr>\n",
       "<tr>\n",
       "  <th>Barri_evolution_IT IS THE SAME</th>                               <td>   -0.3127</td> <td>    0.254</td> <td>   -1.229</td> <td> 0.219</td> <td>   -0.811</td> <td>    0.186</td>\n",
       "</tr>\n",
       "<tr>\n",
       "  <th>Barri_future_IT WILL STAY THE SAME</th>                           <td>   -0.1175</td> <td>    0.272</td> <td>   -0.432</td> <td> 0.666</td> <td>   -0.651</td> <td>    0.415</td>\n",
       "</tr>\n",
       "<tr>\n",
       "  <th>Barri_future_IT WILL WORSEN</th>                                  <td>   -0.0287</td> <td>    0.330</td> <td>   -0.087</td> <td> 0.931</td> <td>   -0.676</td> <td>    0.618</td>\n",
       "</tr>\n",
       "<tr>\n",
       "  <th>Barri_satisfaction_FAIRLY SATISFIED</th>                          <td>   -0.1918</td> <td>    0.613</td> <td>   -0.313</td> <td> 0.754</td> <td>   -1.392</td> <td>    1.009</td>\n",
       "</tr>\n",
       "<tr>\n",
       "  <th>Barri_satisfaction_NOT SATISFIED</th>                             <td>    2.8153</td> <td>    1.357</td> <td>    2.074</td> <td> 0.038</td> <td>    0.155</td> <td>    5.476</td>\n",
       "</tr>\n",
       "<tr>\n",
       "  <th>Barri_security_BAD</th>                                           <td>    0.3014</td> <td>    0.330</td> <td>    0.912</td> <td> 0.362</td> <td>   -0.346</td> <td>    0.949</td>\n",
       "</tr>\n",
       "<tr>\n",
       "  <th>Barri_security_NEITHER BAD, NOR GOOD</th>                         <td>    0.1019</td> <td>    0.232</td> <td>    0.438</td> <td> 0.661</td> <td>   -0.353</td> <td>    0.557</td>\n",
       "</tr>\n",
       "<tr>\n",
       "  <th>Barri_management_BAD</th>                                         <td>    0.3784</td> <td>    0.563</td> <td>    0.672</td> <td> 0.502</td> <td>   -0.726</td> <td>    1.483</td>\n",
       "</tr>\n",
       "<tr>\n",
       "  <th>Barri_management_NEITHER BAD, NOR GOOD</th>                       <td>    0.2392</td> <td>    0.225</td> <td>    1.065</td> <td> 0.287</td> <td>   -0.201</td> <td>    0.679</td>\n",
       "</tr>\n",
       "<tr>\n",
       "  <th>Barri_comparison_NEITHER THE BEST, NOR THE WORST</th>             <td>    1.3037</td> <td>    0.220</td> <td>    5.916</td> <td> 0.000</td> <td>    0.872</td> <td>    1.736</td>\n",
       "</tr>\n",
       "<tr>\n",
       "  <th>Barri_comparison_ONE OF THE WORST</th>                            <td>    1.4137</td> <td>    0.437</td> <td>    3.234</td> <td> 0.001</td> <td>    0.557</td> <td>    2.270</td>\n",
       "</tr>\n",
       "<tr>\n",
       "  <th>Barri_transport_BAD</th>                                          <td>    0.2563</td> <td>    0.388</td> <td>    0.660</td> <td> 0.509</td> <td>   -0.505</td> <td>    1.017</td>\n",
       "</tr>\n",
       "<tr>\n",
       "  <th>Barri_transport_NEITHER BAD, NOR GOOD</th>                        <td>    0.0749</td> <td>    0.399</td> <td>    0.188</td> <td> 0.851</td> <td>   -0.707</td> <td>    0.857</td>\n",
       "</tr>\n",
       "</table>"
      ],
      "text/plain": [
       "<class 'statsmodels.iolib.summary.Summary'>\n",
       "\"\"\"\n",
       "                         Generalized Linear Model Regression Results                          \n",
       "==============================================================================================\n",
       "Dep. Variable:     Would_live_in_another_neighborhood   No. Observations:                 1169\n",
       "Model:                                            GLM   Df Residuals:                     1120\n",
       "Model Family:                                Binomial   Df Model:                           48\n",
       "Link Function:                                  logit   Scale:                          1.0000\n",
       "Method:                                          IRLS   Log-Likelihood:                -376.11\n",
       "Date:                                Sun, 08 Aug 2021   Deviance:                       752.23\n",
       "Time:                                        12:51:35   Pearson chi2:                 1.27e+03\n",
       "No. Iterations:                                     6                                         \n",
       "Covariance Type:                            nonrobust                                         \n",
       "================================================================================================================================\n",
       "                                                                   coef    std err          z      P>|z|      [0.025      0.975]\n",
       "--------------------------------------------------------------------------------------------------------------------------------\n",
       "const                                                           -1.0737      0.456     -2.352      0.019      -1.968      -0.179\n",
       "Woman                                                           -0.0930      0.212     -0.439      0.660      -0.508       0.322\n",
       "Car                                                              0.3431      0.233      1.472      0.141      -0.114       0.800\n",
       "Support_with_housework                                           0.0383      0.227      0.169      0.866      -0.407       0.484\n",
       "Owner                                                            0.0917      0.280      0.327      0.743      -0.457       0.641\n",
       "Disability                                                       0.3594      0.380      0.945      0.345      -0.386       1.105\n",
       "Living_with_disabled_person                                     -0.3036      0.328     -0.926      0.355      -0.946       0.339\n",
       "Barri_association                                               -0.3707      0.257     -1.441      0.150      -0.875       0.134\n",
       "BCN_over_barri_evolution                                         0.0589      0.353      0.167      0.867      -0.632       0.750\n",
       "BCN_over_barri_future                                            0.4512      0.303      1.487      0.137      -0.143       1.046\n",
       "BCN_over_barri_satisfaction                                      1.0905      0.653      1.670      0.095      -0.189       2.370\n",
       "BCN_over_barri_transport                                        -0.7977      0.528     -1.512      0.131      -1.832       0.237\n",
       "BCN_over_barri_management                                       -0.4118      0.697     -0.591      0.555      -1.779       0.955\n",
       "BCN_over_barri_security                                         -0.0049      0.464     -0.011      0.992      -0.915       0.905\n",
       "District_CIUTAT VELLA                                            0.0591      0.526      0.112      0.910      -0.972       1.090\n",
       "District_GRÀCIA                                                  0.4840      0.422      1.146      0.252      -0.344       1.312\n",
       "District_HORTA - GUINARDÓ                                        0.6435      0.379      1.698      0.089      -0.099       1.386\n",
       "District_LES CORTS                                              -0.8210      0.589     -1.395      0.163      -1.975       0.333\n",
       "District_NOU BARRIS                                              0.6139      0.392      1.568      0.117      -0.154       1.382\n",
       "District_SANT ANDREU                                             0.5261      0.390      1.349      0.177      -0.238       1.290\n",
       "District_SANT MARTÍ                                              0.1040      0.392      0.265      0.791      -0.664       0.872\n",
       "District_SANTS - MONTJUÏC                                        0.4359      0.400      1.091      0.275      -0.347       1.219\n",
       "District_SARRIÀ - SANT GERVASI                                  -0.4669      0.550     -0.849      0.396      -1.544       0.610\n",
       "House_size_101-150 M2                                           -0.5359      0.492     -1.089      0.276      -1.501       0.429\n",
       "House_size_51-100 M2                                            -0.3798      0.377     -1.008      0.314      -1.118       0.359\n",
       "House_size_> 150 M2                                             -0.0212      0.649     -0.033      0.974      -1.292       1.250\n",
       "House_size_I DON'T KNOW                                         -0.9009      0.577     -1.562      0.118      -2.031       0.229\n",
       "No_of_people_in_the_house_THREE OR MORE                          0.0964      0.370      0.261      0.794      -0.628       0.821\n",
       "No_of_people_in_the_house_TWO                                   -0.4909      0.368     -1.334      0.182      -1.212       0.230\n",
       "Family_type_COUPLE WITH CHILDREN                                -1.0076      0.569     -1.772      0.076      -2.122       0.107\n",
       "Family_type_COUPLE WITH NO CHILDREN                             -0.4145      0.496     -0.835      0.404      -1.387       0.558\n",
       "Family_type_SINGLE                                              -0.6792      0.270     -2.511      0.012      -1.209      -0.149\n",
       "Family_type_SINGLE-PARENT WITH CHILDREN                         -0.4179      0.541     -0.772      0.440      -1.479       0.643\n",
       "Financial_situation_BAD                                          0.0638      0.215      0.297      0.767      -0.358       0.485\n",
       "Time_living_in_barri_I HAVE ALWAYS LIVED IN THE NEIGHBORHOOD    -2.1917      0.538     -4.075      0.000      -3.246      -1.138\n",
       "Time_living_in_barri_MORE THAN 10 YEARS                         -0.9665      0.351     -2.750      0.006      -1.655      -0.278\n",
       "Barri_evolution_IT HAS WORSENED                                 -0.2257      0.291     -0.775      0.438      -0.796       0.345\n",
       "Barri_evolution_IT IS THE SAME                                  -0.3127      0.254     -1.229      0.219      -0.811       0.186\n",
       "Barri_future_IT WILL STAY THE SAME                              -0.1175      0.272     -0.432      0.666      -0.651       0.415\n",
       "Barri_future_IT WILL WORSEN                                     -0.0287      0.330     -0.087      0.931      -0.676       0.618\n",
       "Barri_satisfaction_FAIRLY SATISFIED                             -0.1918      0.613     -0.313      0.754      -1.392       1.009\n",
       "Barri_satisfaction_NOT SATISFIED                                 2.8153      1.357      2.074      0.038       0.155       5.476\n",
       "Barri_security_BAD                                               0.3014      0.330      0.912      0.362      -0.346       0.949\n",
       "Barri_security_NEITHER BAD, NOR GOOD                             0.1019      0.232      0.438      0.661      -0.353       0.557\n",
       "Barri_management_BAD                                             0.3784      0.563      0.672      0.502      -0.726       1.483\n",
       "Barri_management_NEITHER BAD, NOR GOOD                           0.2392      0.225      1.065      0.287      -0.201       0.679\n",
       "Barri_comparison_NEITHER THE BEST, NOR THE WORST                 1.3037      0.220      5.916      0.000       0.872       1.736\n",
       "Barri_comparison_ONE OF THE WORST                                1.4137      0.437      3.234      0.001       0.557       2.270\n",
       "Barri_transport_BAD                                              0.2563      0.388      0.660      0.509      -0.505       1.017\n",
       "Barri_transport_NEITHER BAD, NOR GOOD                            0.0749      0.399      0.188      0.851      -0.707       0.857\n",
       "================================================================================================================================\n",
       "\"\"\""
      ]
     },
     "execution_count": 19,
     "metadata": {},
     "output_type": "execute_result"
    }
   ],
   "source": [
    "glm_logit = sm.GLM(y, x, family=sm.families.Binomial())\n",
    "glm_logit_results = glm_logit.fit()\n",
    "glm_logit_results.summary()"
   ]
  },
  {
   "cell_type": "code",
   "execution_count": 20,
   "metadata": {},
   "outputs": [
    {
     "data": {
      "text/plain": [
       "850.2295527820288"
      ]
     },
     "execution_count": 20,
     "metadata": {},
     "output_type": "execute_result"
    }
   ],
   "source": [
    "glm_logit_results.aic"
   ]
  },
  {
   "cell_type": "code",
   "execution_count": 21,
   "metadata": {},
   "outputs": [
    {
     "name": "stderr",
     "output_type": "stream",
     "text": [
      "C:\\Users\\THINK\\anaconda3\\lib\\site-packages\\statsmodels\\genmod\\generalized_linear_model.py:1731: FutureWarning: The bic value is computed using the deviance formula. After 0.13 this will change to the log-likelihood based formula. This change has no impact on the relative rank of models compared using BIC. You can directly access the log-likelihood version using the `bic_llf` attribute. You can suppress this message by calling statsmodels.genmod.generalized_linear_model.SET_USE_BIC_LLF with True to get the LLF-based version now or False to retainthe deviance version.\n",
      "  FutureWarning\n"
     ]
    },
    {
     "data": {
      "text/plain": [
       "-7159.3428840666875"
      ]
     },
     "execution_count": 21,
     "metadata": {},
     "output_type": "execute_result"
    }
   ],
   "source": [
    "glm_logit_results.bic"
   ]
  },
  {
   "cell_type": "code",
   "execution_count": 22,
   "metadata": {},
   "outputs": [
    {
     "name": "stdout",
     "output_type": "stream",
     "text": [
      "Pseudo R2: 0.17773202803245125\n"
     ]
    }
   ],
   "source": [
    "pseudo_r2(glm_logit_results)"
   ]
  },
  {
   "cell_type": "code",
   "execution_count": 23,
   "metadata": {},
   "outputs": [
    {
     "name": "stdout",
     "output_type": "stream",
     "text": [
      "Adjusted Pseudo R2: 0.07060746618188829\n"
     ]
    }
   ],
   "source": [
    "adj_pseudo_r2(glm_logit_results)"
   ]
  },
  {
   "cell_type": "code",
   "execution_count": 24,
   "metadata": {},
   "outputs": [
    {
     "name": "stdout",
     "output_type": "stream",
     "text": [
      "Adj Count R2: 0.077\n"
     ]
    }
   ],
   "source": [
    "adj_count_r2(glm_logit_results)"
   ]
  },
  {
   "cell_type": "code",
   "execution_count": 25,
   "metadata": {},
   "outputs": [
    {
     "data": {
      "text/html": [
       "<div>\n",
       "<style scoped>\n",
       "    .dataframe tbody tr th:only-of-type {\n",
       "        vertical-align: middle;\n",
       "    }\n",
       "\n",
       "    .dataframe tbody tr th {\n",
       "        vertical-align: top;\n",
       "    }\n",
       "\n",
       "    .dataframe thead th {\n",
       "        text-align: right;\n",
       "    }\n",
       "</style>\n",
       "<table border=\"1\" class=\"dataframe\">\n",
       "  <thead>\n",
       "    <tr style=\"text-align: right;\">\n",
       "      <th>y_predict</th>\n",
       "      <th>0.0</th>\n",
       "      <th>1.0</th>\n",
       "    </tr>\n",
       "    <tr>\n",
       "      <th>y</th>\n",
       "      <th></th>\n",
       "      <th></th>\n",
       "    </tr>\n",
       "  </thead>\n",
       "  <tbody>\n",
       "    <tr>\n",
       "      <th>0.0</th>\n",
       "      <td>1008</td>\n",
       "      <td>6</td>\n",
       "    </tr>\n",
       "    <tr>\n",
       "      <th>1.0</th>\n",
       "      <td>137</td>\n",
       "      <td>18</td>\n",
       "    </tr>\n",
       "  </tbody>\n",
       "</table>\n",
       "</div>"
      ],
      "text/plain": [
       "y_predict   0.0  1.0\n",
       "y                   \n",
       "0.0        1008    6\n",
       "1.0         137   18"
      ]
     },
     "execution_count": 25,
     "metadata": {},
     "output_type": "execute_result"
    }
   ],
   "source": [
    "classification_table(glm_logit_results)"
   ]
  },
  {
   "cell_type": "code",
   "execution_count": 26,
   "metadata": {},
   "outputs": [
    {
     "data": {
      "image/png": "[encoded data removed]",
      "text/plain": [
       "<Figure size 432x288 with 1 Axes>"
      ]
     },
     "metadata": {},
     "output_type": "display_data"
    }
   ],
   "source": [
    "plot_roc_auc(glm_logit_results)"
   ]
  },
  {
   "cell_type": "code",
   "execution_count": null,
   "metadata": {},
   "outputs": [],
   "source": []
  },
  {
   "cell_type": "code",
   "execution_count": 27,
   "metadata": {},
   "outputs": [
    {
     "data": {
      "text/plain": [
       "BCN_over_barri_security                                         9.915535e-01\n",
       "House_size_> 150 M2                                             9.738995e-01\n",
       "Barri_future_IT WILL WORSEN                                     9.306495e-01\n",
       "District_CIUTAT VELLA                                           9.104970e-01\n",
       "BCN_over_barri_evolution                                        8.674181e-01\n",
       "Support_with_housework                                          8.661781e-01\n",
       "Barri_transport_NEITHER BAD, NOR GOOD                           8.510790e-01\n",
       "No_of_people_in_the_house_THREE OR MORE                         7.943511e-01\n",
       "District_SANT MARTÍ                                             7.908681e-01\n",
       "Financial_situation_BAD                                         7.667681e-01\n",
       "Barri_satisfaction_FAIRLY SATISFIED                             7.542500e-01\n",
       "Owner                                                           7.434031e-01\n",
       "Barri_future_IT WILL STAY THE SAME                              6.656055e-01\n",
       "Barri_security_NEITHER BAD, NOR GOOD                            6.610634e-01\n",
       "Woman                                                           6.604803e-01\n",
       "BCN_over_barri_management                                       5.548057e-01\n",
       "Barri_transport_BAD                                             5.091390e-01\n",
       "Barri_management_BAD                                            5.018144e-01\n",
       "Family_type_SINGLE-PARENT WITH CHILDREN                         4.400922e-01\n",
       "Barri_evolution_IT HAS WORSENED                                 4.382592e-01\n",
       "Family_type_COUPLE WITH NO CHILDREN                             4.035259e-01\n",
       "District_SARRIÀ - SANT GERVASI                                  3.956084e-01\n",
       "Barri_security_BAD                                              3.615482e-01\n",
       "Living_with_disabled_person                                     3.546636e-01\n",
       "Disability                                                      3.447869e-01\n",
       "House_size_51-100 M2                                            3.135428e-01\n",
       "Barri_management_NEITHER BAD, NOR GOOD                          2.867326e-01\n",
       "House_size_101-150 M2                                           2.763641e-01\n",
       "District_SANTS - MONTJUÏC                                       2.753140e-01\n",
       "District_GRÀCIA                                                 2.517015e-01\n",
       "Barri_evolution_IT IS THE SAME                                  2.190515e-01\n",
       "No_of_people_in_the_house_TWO                                   1.821840e-01\n",
       "District_SANT ANDREU                                            1.773093e-01\n",
       "District_LES CORTS                                              1.630535e-01\n",
       "Barri_association                                               1.496262e-01\n",
       "Car                                                             1.410759e-01\n",
       "BCN_over_barri_future                                           1.369711e-01\n",
       "BCN_over_barri_transport                                        1.306158e-01\n",
       "House_size_I DON'T KNOW                                         1.182243e-01\n",
       "District_NOU BARRIS                                             1.169667e-01\n",
       "BCN_over_barri_satisfaction                                     9.482258e-02\n",
       "District_HORTA - GUINARDÓ                                       8.949561e-02\n",
       "Family_type_COUPLE WITH CHILDREN                                7.639737e-02\n",
       "Barri_satisfaction_NOT SATISFIED                                3.806132e-02\n",
       "const                                                           1.865051e-02\n",
       "Family_type_SINGLE                                              1.202542e-02\n",
       "Time_living_in_barri_MORE THAN 10 YEARS                         5.957986e-03\n",
       "Barri_comparison_ONE OF THE WORST                               1.219613e-03\n",
       "Time_living_in_barri_I HAVE ALWAYS LIVED IN THE NEIGHBORHOOD    4.602898e-05\n",
       "Barri_comparison_NEITHER THE BEST, NOR THE WORST                3.300276e-09\n",
       "dtype: float64"
      ]
     },
     "execution_count": 27,
     "metadata": {},
     "output_type": "execute_result"
    }
   ],
   "source": [
    "glm_logit_results.pvalues.sort_values(ascending=False)"
   ]
  },
  {
   "cell_type": "code",
   "execution_count": null,
   "metadata": {},
   "outputs": [],
   "source": []
  },
  {
   "cell_type": "code",
   "execution_count": 28,
   "metadata": {},
   "outputs": [],
   "source": [
    "for i in x.columns.tolist():\n",
    "    if i[:8] == 'District':\n",
    "        del x[i]"
   ]
  },
  {
   "cell_type": "code",
   "execution_count": 29,
   "metadata": {},
   "outputs": [
    {
     "data": {
      "text/html": [
       "<table class=\"simpletable\">\n",
       "<caption>Generalized Linear Model Regression Results</caption>\n",
       "<tr>\n",
       "  <th>Dep. Variable:</th>   <td>Would_live_in_another_neighborhood</td> <th>  No. Observations:  </th>  <td>  1169</td> \n",
       "</tr>\n",
       "<tr>\n",
       "  <th>Model:</th>                           <td>GLM</td>                <th>  Df Residuals:      </th>  <td>  1129</td> \n",
       "</tr>\n",
       "<tr>\n",
       "  <th>Model Family:</th>                 <td>Binomial</td>              <th>  Df Model:          </th>  <td>    39</td> \n",
       "</tr>\n",
       "<tr>\n",
       "  <th>Link Function:</th>                  <td>logit</td>               <th>  Scale:             </th> <td>  1.0000</td>\n",
       "</tr>\n",
       "<tr>\n",
       "  <th>Method:</th>                         <td>IRLS</td>                <th>  Log-Likelihood:    </th> <td> -382.90</td>\n",
       "</tr>\n",
       "<tr>\n",
       "  <th>Date:</th>                     <td>Sun, 08 Aug 2021</td>          <th>  Deviance:          </th> <td>  765.79</td>\n",
       "</tr>\n",
       "<tr>\n",
       "  <th>Time:</th>                         <td>12:51:35</td>              <th>  Pearson chi2:      </th> <td>1.21e+03</td>\n",
       "</tr>\n",
       "<tr>\n",
       "  <th>No. Iterations:</th>                   <td>6</td>                 <th>                     </th>     <td> </td>   \n",
       "</tr>\n",
       "<tr>\n",
       "  <th>Covariance Type:</th>              <td>nonrobust</td>             <th>                     </th>     <td> </td>   \n",
       "</tr>\n",
       "</table>\n",
       "<table class=\"simpletable\">\n",
       "<tr>\n",
       "                                <td></td>                                  <th>coef</th>     <th>std err</th>      <th>z</th>      <th>P>|z|</th>  <th>[0.025</th>    <th>0.975]</th>  \n",
       "</tr>\n",
       "<tr>\n",
       "  <th>const</th>                                                        <td>   -1.0315</td> <td>    0.408</td> <td>   -2.529</td> <td> 0.011</td> <td>   -1.831</td> <td>   -0.232</td>\n",
       "</tr>\n",
       "<tr>\n",
       "  <th>Woman</th>                                                        <td>   -0.0905</td> <td>    0.210</td> <td>   -0.431</td> <td> 0.667</td> <td>   -0.502</td> <td>    0.321</td>\n",
       "</tr>\n",
       "<tr>\n",
       "  <th>Car</th>                                                          <td>    0.3143</td> <td>    0.228</td> <td>    1.381</td> <td> 0.167</td> <td>   -0.132</td> <td>    0.760</td>\n",
       "</tr>\n",
       "<tr>\n",
       "  <th>Support_with_housework</th>                                       <td>   -0.0835</td> <td>    0.219</td> <td>   -0.382</td> <td> 0.703</td> <td>   -0.512</td> <td>    0.345</td>\n",
       "</tr>\n",
       "<tr>\n",
       "  <th>Owner</th>                                                        <td>    0.2336</td> <td>    0.269</td> <td>    0.867</td> <td> 0.386</td> <td>   -0.294</td> <td>    0.762</td>\n",
       "</tr>\n",
       "<tr>\n",
       "  <th>Disability</th>                                                   <td>    0.4446</td> <td>    0.374</td> <td>    1.190</td> <td> 0.234</td> <td>   -0.288</td> <td>    1.177</td>\n",
       "</tr>\n",
       "<tr>\n",
       "  <th>Living_with_disabled_person</th>                                  <td>   -0.2841</td> <td>    0.321</td> <td>   -0.884</td> <td> 0.376</td> <td>   -0.914</td> <td>    0.346</td>\n",
       "</tr>\n",
       "<tr>\n",
       "  <th>Barri_association</th>                                            <td>   -0.3274</td> <td>    0.253</td> <td>   -1.296</td> <td> 0.195</td> <td>   -0.822</td> <td>    0.168</td>\n",
       "</tr>\n",
       "<tr>\n",
       "  <th>BCN_over_barri_evolution</th>                                     <td>    0.0659</td> <td>    0.349</td> <td>    0.189</td> <td> 0.850</td> <td>   -0.618</td> <td>    0.749</td>\n",
       "</tr>\n",
       "<tr>\n",
       "  <th>BCN_over_barri_future</th>                                        <td>    0.4383</td> <td>    0.297</td> <td>    1.473</td> <td> 0.141</td> <td>   -0.145</td> <td>    1.021</td>\n",
       "</tr>\n",
       "<tr>\n",
       "  <th>BCN_over_barri_satisfaction</th>                                  <td>    1.0954</td> <td>    0.641</td> <td>    1.709</td> <td> 0.087</td> <td>   -0.161</td> <td>    2.351</td>\n",
       "</tr>\n",
       "<tr>\n",
       "  <th>BCN_over_barri_transport</th>                                     <td>   -0.7822</td> <td>    0.522</td> <td>   -1.497</td> <td> 0.134</td> <td>   -1.806</td> <td>    0.242</td>\n",
       "</tr>\n",
       "<tr>\n",
       "  <th>BCN_over_barri_management</th>                                    <td>   -0.2554</td> <td>    0.691</td> <td>   -0.370</td> <td> 0.712</td> <td>   -1.610</td> <td>    1.099</td>\n",
       "</tr>\n",
       "<tr>\n",
       "  <th>BCN_over_barri_security</th>                                      <td>   -0.0911</td> <td>    0.460</td> <td>   -0.198</td> <td> 0.843</td> <td>   -0.994</td> <td>    0.811</td>\n",
       "</tr>\n",
       "<tr>\n",
       "  <th>House_size_101-150 M2</th>                                        <td>   -0.6526</td> <td>    0.479</td> <td>   -1.363</td> <td> 0.173</td> <td>   -1.591</td> <td>    0.286</td>\n",
       "</tr>\n",
       "<tr>\n",
       "  <th>House_size_51-100 M2</th>                                         <td>   -0.3785</td> <td>    0.369</td> <td>   -1.025</td> <td> 0.306</td> <td>   -1.103</td> <td>    0.346</td>\n",
       "</tr>\n",
       "<tr>\n",
       "  <th>House_size_> 150 M2</th>                                          <td>   -0.2246</td> <td>    0.630</td> <td>   -0.357</td> <td> 0.721</td> <td>   -1.459</td> <td>    1.010</td>\n",
       "</tr>\n",
       "<tr>\n",
       "  <th>House_size_I DON'T KNOW</th>                                      <td>   -0.8418</td> <td>    0.564</td> <td>   -1.492</td> <td> 0.136</td> <td>   -1.947</td> <td>    0.264</td>\n",
       "</tr>\n",
       "<tr>\n",
       "  <th>No_of_people_in_the_house_THREE OR MORE</th>                      <td>    0.1138</td> <td>    0.358</td> <td>    0.318</td> <td> 0.751</td> <td>   -0.588</td> <td>    0.815</td>\n",
       "</tr>\n",
       "<tr>\n",
       "  <th>No_of_people_in_the_house_TWO</th>                                <td>   -0.5021</td> <td>    0.353</td> <td>   -1.422</td> <td> 0.155</td> <td>   -1.194</td> <td>    0.190</td>\n",
       "</tr>\n",
       "<tr>\n",
       "  <th>Family_type_COUPLE WITH CHILDREN</th>                             <td>   -0.9417</td> <td>    0.561</td> <td>   -1.680</td> <td> 0.093</td> <td>   -2.040</td> <td>    0.157</td>\n",
       "</tr>\n",
       "<tr>\n",
       "  <th>Family_type_COUPLE WITH NO CHILDREN</th>                          <td>   -0.3233</td> <td>    0.484</td> <td>   -0.667</td> <td> 0.505</td> <td>   -1.273</td> <td>    0.626</td>\n",
       "</tr>\n",
       "<tr>\n",
       "  <th>Family_type_SINGLE</th>                                           <td>   -0.6431</td> <td>    0.261</td> <td>   -2.466</td> <td> 0.014</td> <td>   -1.154</td> <td>   -0.132</td>\n",
       "</tr>\n",
       "<tr>\n",
       "  <th>Family_type_SINGLE-PARENT WITH CHILDREN</th>                      <td>   -0.3056</td> <td>    0.534</td> <td>   -0.572</td> <td> 0.567</td> <td>   -1.352</td> <td>    0.741</td>\n",
       "</tr>\n",
       "<tr>\n",
       "  <th>Financial_situation_BAD</th>                                      <td>    0.0822</td> <td>    0.210</td> <td>    0.391</td> <td> 0.696</td> <td>   -0.330</td> <td>    0.495</td>\n",
       "</tr>\n",
       "<tr>\n",
       "  <th>Time_living_in_barri_I HAVE ALWAYS LIVED IN THE NEIGHBORHOOD</th> <td>   -2.1378</td> <td>    0.529</td> <td>   -4.038</td> <td> 0.000</td> <td>   -3.175</td> <td>   -1.100</td>\n",
       "</tr>\n",
       "<tr>\n",
       "  <th>Time_living_in_barri_MORE THAN 10 YEARS</th>                      <td>   -0.9323</td> <td>    0.345</td> <td>   -2.704</td> <td> 0.007</td> <td>   -1.608</td> <td>   -0.256</td>\n",
       "</tr>\n",
       "<tr>\n",
       "  <th>Barri_evolution_IT HAS WORSENED</th>                              <td>   -0.2485</td> <td>    0.288</td> <td>   -0.864</td> <td> 0.388</td> <td>   -0.812</td> <td>    0.315</td>\n",
       "</tr>\n",
       "<tr>\n",
       "  <th>Barri_evolution_IT IS THE SAME</th>                               <td>   -0.3393</td> <td>    0.251</td> <td>   -1.354</td> <td> 0.176</td> <td>   -0.830</td> <td>    0.152</td>\n",
       "</tr>\n",
       "<tr>\n",
       "  <th>Barri_future_IT WILL STAY THE SAME</th>                           <td>   -0.1645</td> <td>    0.266</td> <td>   -0.618</td> <td> 0.537</td> <td>   -0.686</td> <td>    0.357</td>\n",
       "</tr>\n",
       "<tr>\n",
       "  <th>Barri_future_IT WILL WORSEN</th>                                  <td>   -0.1051</td> <td>    0.326</td> <td>   -0.322</td> <td> 0.747</td> <td>   -0.745</td> <td>    0.534</td>\n",
       "</tr>\n",
       "<tr>\n",
       "  <th>Barri_satisfaction_FAIRLY SATISFIED</th>                          <td>   -0.2766</td> <td>    0.601</td> <td>   -0.460</td> <td> 0.645</td> <td>   -1.454</td> <td>    0.901</td>\n",
       "</tr>\n",
       "<tr>\n",
       "  <th>Barri_satisfaction_NOT SATISFIED</th>                             <td>    2.7250</td> <td>    1.350</td> <td>    2.018</td> <td> 0.044</td> <td>    0.078</td> <td>    5.372</td>\n",
       "</tr>\n",
       "<tr>\n",
       "  <th>Barri_security_BAD</th>                                           <td>    0.4343</td> <td>    0.323</td> <td>    1.346</td> <td> 0.178</td> <td>   -0.198</td> <td>    1.067</td>\n",
       "</tr>\n",
       "<tr>\n",
       "  <th>Barri_security_NEITHER BAD, NOR GOOD</th>                         <td>    0.1343</td> <td>    0.228</td> <td>    0.588</td> <td> 0.557</td> <td>   -0.313</td> <td>    0.582</td>\n",
       "</tr>\n",
       "<tr>\n",
       "  <th>Barri_management_BAD</th>                                         <td>    0.2156</td> <td>    0.556</td> <td>    0.387</td> <td> 0.698</td> <td>   -0.875</td> <td>    1.306</td>\n",
       "</tr>\n",
       "<tr>\n",
       "  <th>Barri_management_NEITHER BAD, NOR GOOD</th>                       <td>    0.2137</td> <td>    0.219</td> <td>    0.974</td> <td> 0.330</td> <td>   -0.216</td> <td>    0.644</td>\n",
       "</tr>\n",
       "<tr>\n",
       "  <th>Barri_comparison_NEITHER THE BEST, NOR THE WORST</th>             <td>    1.4199</td> <td>    0.212</td> <td>    6.691</td> <td> 0.000</td> <td>    1.004</td> <td>    1.836</td>\n",
       "</tr>\n",
       "<tr>\n",
       "  <th>Barri_comparison_ONE OF THE WORST</th>                            <td>    1.6584</td> <td>    0.417</td> <td>    3.973</td> <td> 0.000</td> <td>    0.840</td> <td>    2.476</td>\n",
       "</tr>\n",
       "<tr>\n",
       "  <th>Barri_transport_BAD</th>                                          <td>    0.2137</td> <td>    0.384</td> <td>    0.557</td> <td> 0.578</td> <td>   -0.539</td> <td>    0.966</td>\n",
       "</tr>\n",
       "<tr>\n",
       "  <th>Barri_transport_NEITHER BAD, NOR GOOD</th>                        <td>    0.0637</td> <td>    0.390</td> <td>    0.163</td> <td> 0.870</td> <td>   -0.701</td> <td>    0.829</td>\n",
       "</tr>\n",
       "</table>"
      ],
      "text/plain": [
       "<class 'statsmodels.iolib.summary.Summary'>\n",
       "\"\"\"\n",
       "                         Generalized Linear Model Regression Results                          \n",
       "==============================================================================================\n",
       "Dep. Variable:     Would_live_in_another_neighborhood   No. Observations:                 1169\n",
       "Model:                                            GLM   Df Residuals:                     1129\n",
       "Model Family:                                Binomial   Df Model:                           39\n",
       "Link Function:                                  logit   Scale:                          1.0000\n",
       "Method:                                          IRLS   Log-Likelihood:                -382.90\n",
       "Date:                                Sun, 08 Aug 2021   Deviance:                       765.79\n",
       "Time:                                        12:51:35   Pearson chi2:                 1.21e+03\n",
       "No. Iterations:                                     6                                         \n",
       "Covariance Type:                            nonrobust                                         \n",
       "================================================================================================================================\n",
       "                                                                   coef    std err          z      P>|z|      [0.025      0.975]\n",
       "--------------------------------------------------------------------------------------------------------------------------------\n",
       "const                                                           -1.0315      0.408     -2.529      0.011      -1.831      -0.232\n",
       "Woman                                                           -0.0905      0.210     -0.431      0.667      -0.502       0.321\n",
       "Car                                                              0.3143      0.228      1.381      0.167      -0.132       0.760\n",
       "Support_with_housework                                          -0.0835      0.219     -0.382      0.703      -0.512       0.345\n",
       "Owner                                                            0.2336      0.269      0.867      0.386      -0.294       0.762\n",
       "Disability                                                       0.4446      0.374      1.190      0.234      -0.288       1.177\n",
       "Living_with_disabled_person                                     -0.2841      0.321     -0.884      0.376      -0.914       0.346\n",
       "Barri_association                                               -0.3274      0.253     -1.296      0.195      -0.822       0.168\n",
       "BCN_over_barri_evolution                                         0.0659      0.349      0.189      0.850      -0.618       0.749\n",
       "BCN_over_barri_future                                            0.4383      0.297      1.473      0.141      -0.145       1.021\n",
       "BCN_over_barri_satisfaction                                      1.0954      0.641      1.709      0.087      -0.161       2.351\n",
       "BCN_over_barri_transport                                        -0.7822      0.522     -1.497      0.134      -1.806       0.242\n",
       "BCN_over_barri_management                                       -0.2554      0.691     -0.370      0.712      -1.610       1.099\n",
       "BCN_over_barri_security                                         -0.0911      0.460     -0.198      0.843      -0.994       0.811\n",
       "House_size_101-150 M2                                           -0.6526      0.479     -1.363      0.173      -1.591       0.286\n",
       "House_size_51-100 M2                                            -0.3785      0.369     -1.025      0.306      -1.103       0.346\n",
       "House_size_> 150 M2                                             -0.2246      0.630     -0.357      0.721      -1.459       1.010\n",
       "House_size_I DON'T KNOW                                         -0.8418      0.564     -1.492      0.136      -1.947       0.264\n",
       "No_of_people_in_the_house_THREE OR MORE                          0.1138      0.358      0.318      0.751      -0.588       0.815\n",
       "No_of_people_in_the_house_TWO                                   -0.5021      0.353     -1.422      0.155      -1.194       0.190\n",
       "Family_type_COUPLE WITH CHILDREN                                -0.9417      0.561     -1.680      0.093      -2.040       0.157\n",
       "Family_type_COUPLE WITH NO CHILDREN                             -0.3233      0.484     -0.667      0.505      -1.273       0.626\n",
       "Family_type_SINGLE                                              -0.6431      0.261     -2.466      0.014      -1.154      -0.132\n",
       "Family_type_SINGLE-PARENT WITH CHILDREN                         -0.3056      0.534     -0.572      0.567      -1.352       0.741\n",
       "Financial_situation_BAD                                          0.0822      0.210      0.391      0.696      -0.330       0.495\n",
       "Time_living_in_barri_I HAVE ALWAYS LIVED IN THE NEIGHBORHOOD    -2.1378      0.529     -4.038      0.000      -3.175      -1.100\n",
       "Time_living_in_barri_MORE THAN 10 YEARS                         -0.9323      0.345     -2.704      0.007      -1.608      -0.256\n",
       "Barri_evolution_IT HAS WORSENED                                 -0.2485      0.288     -0.864      0.388      -0.812       0.315\n",
       "Barri_evolution_IT IS THE SAME                                  -0.3393      0.251     -1.354      0.176      -0.830       0.152\n",
       "Barri_future_IT WILL STAY THE SAME                              -0.1645      0.266     -0.618      0.537      -0.686       0.357\n",
       "Barri_future_IT WILL WORSEN                                     -0.1051      0.326     -0.322      0.747      -0.745       0.534\n",
       "Barri_satisfaction_FAIRLY SATISFIED                             -0.2766      0.601     -0.460      0.645      -1.454       0.901\n",
       "Barri_satisfaction_NOT SATISFIED                                 2.7250      1.350      2.018      0.044       0.078       5.372\n",
       "Barri_security_BAD                                               0.4343      0.323      1.346      0.178      -0.198       1.067\n",
       "Barri_security_NEITHER BAD, NOR GOOD                             0.1343      0.228      0.588      0.557      -0.313       0.582\n",
       "Barri_management_BAD                                             0.2156      0.556      0.387      0.698      -0.875       1.306\n",
       "Barri_management_NEITHER BAD, NOR GOOD                           0.2137      0.219      0.974      0.330      -0.216       0.644\n",
       "Barri_comparison_NEITHER THE BEST, NOR THE WORST                 1.4199      0.212      6.691      0.000       1.004       1.836\n",
       "Barri_comparison_ONE OF THE WORST                                1.6584      0.417      3.973      0.000       0.840       2.476\n",
       "Barri_transport_BAD                                              0.2137      0.384      0.557      0.578      -0.539       0.966\n",
       "Barri_transport_NEITHER BAD, NOR GOOD                            0.0637      0.390      0.163      0.870      -0.701       0.829\n",
       "================================================================================================================================\n",
       "\"\"\""
      ]
     },
     "execution_count": 29,
     "metadata": {},
     "output_type": "execute_result"
    }
   ],
   "source": [
    "glm_logit = sm.GLM(y, x, family=sm.families.Binomial())\n",
    "glm_logit_results = glm_logit.fit()\n",
    "glm_logit_results.summary()"
   ]
  },
  {
   "cell_type": "code",
   "execution_count": 30,
   "metadata": {},
   "outputs": [
    {
     "data": {
      "text/plain": [
       "845.7922817566337"
      ]
     },
     "execution_count": 30,
     "metadata": {},
     "output_type": "execute_result"
    }
   ],
   "source": [
    "glm_logit_results.aic"
   ]
  },
  {
   "cell_type": "code",
   "execution_count": 31,
   "metadata": {},
   "outputs": [
    {
     "name": "stderr",
     "output_type": "stream",
     "text": [
      "C:\\Users\\THINK\\anaconda3\\lib\\site-packages\\statsmodels\\genmod\\generalized_linear_model.py:1731: FutureWarning: The bic value is computed using the deviance formula. After 0.13 this will change to the log-likelihood based formula. This change has no impact on the relative rank of models compared using BIC. You can directly access the log-likelihood version using the `bic_llf` attribute. You can suppress this message by calling statsmodels.genmod.generalized_linear_model.SET_USE_BIC_LLF with True to get the LLF-based version now or False to retainthe deviance version.\n",
      "  FutureWarning\n"
     ]
    },
    {
     "data": {
      "text/plain": [
       "-7209.35529074533"
      ]
     },
     "execution_count": 31,
     "metadata": {},
     "output_type": "execute_result"
    }
   ],
   "source": [
    "glm_logit_results.bic"
   ]
  },
  {
   "cell_type": "code",
   "execution_count": 32,
   "metadata": {},
   "outputs": [
    {
     "data": {
      "text/plain": [
       "Barri_transport_NEITHER BAD, NOR GOOD                           8.703039e-01\n",
       "BCN_over_barri_evolution                                        8.501387e-01\n",
       "BCN_over_barri_security                                         8.431794e-01\n",
       "No_of_people_in_the_house_THREE OR MORE                         7.505667e-01\n",
       "Barri_future_IT WILL WORSEN                                     7.473285e-01\n",
       "House_size_> 150 M2                                             7.213355e-01\n",
       "BCN_over_barri_management                                       7.116237e-01\n",
       "Support_with_housework                                          7.025504e-01\n",
       "Barri_management_BAD                                            6.983896e-01\n",
       "Financial_situation_BAD                                         6.958094e-01\n",
       "Woman                                                           6.667409e-01\n",
       "Barri_satisfaction_FAIRLY SATISFIED                             6.452065e-01\n",
       "Barri_transport_BAD                                             5.777588e-01\n",
       "Family_type_SINGLE-PARENT WITH CHILDREN                         5.670641e-01\n",
       "Barri_security_NEITHER BAD, NOR GOOD                            5.565898e-01\n",
       "Barri_future_IT WILL STAY THE SAME                              5.366573e-01\n",
       "Family_type_COUPLE WITH NO CHILDREN                             5.045114e-01\n",
       "Barri_evolution_IT HAS WORSENED                                 3.877584e-01\n",
       "Owner                                                           3.859602e-01\n",
       "Living_with_disabled_person                                     3.764923e-01\n",
       "Barri_management_NEITHER BAD, NOR GOOD                          3.302708e-01\n",
       "House_size_51-100 M2                                            3.055907e-01\n",
       "Disability                                                      2.339807e-01\n",
       "Barri_association                                               1.950072e-01\n",
       "Barri_security_BAD                                              1.783420e-01\n",
       "Barri_evolution_IT IS THE SAME                                  1.756141e-01\n",
       "House_size_101-150 M2                                           1.730130e-01\n",
       "Car                                                             1.673387e-01\n",
       "No_of_people_in_the_house_TWO                                   1.548942e-01\n",
       "BCN_over_barri_future                                           1.406207e-01\n",
       "House_size_I DON'T KNOW                                         1.356093e-01\n",
       "BCN_over_barri_transport                                        1.343713e-01\n",
       "Family_type_COUPLE WITH CHILDREN                                9.298414e-02\n",
       "BCN_over_barri_satisfaction                                     8.737696e-02\n",
       "Barri_satisfaction_NOT SATISFIED                                4.360913e-02\n",
       "Family_type_SINGLE                                              1.365101e-02\n",
       "const                                                           1.144813e-02\n",
       "Time_living_in_barri_MORE THAN 10 YEARS                         6.858454e-03\n",
       "Barri_comparison_ONE OF THE WORST                               7.097899e-05\n",
       "Time_living_in_barri_I HAVE ALWAYS LIVED IN THE NEIGHBORHOOD    5.390374e-05\n",
       "Barri_comparison_NEITHER THE BEST, NOR THE WORST                2.210641e-11\n",
       "dtype: float64"
      ]
     },
     "execution_count": 32,
     "metadata": {},
     "output_type": "execute_result"
    }
   ],
   "source": [
    "glm_logit_results.pvalues.sort_values(ascending=False)"
   ]
  },
  {
   "cell_type": "code",
   "execution_count": null,
   "metadata": {},
   "outputs": [],
   "source": []
  },
  {
   "cell_type": "code",
   "execution_count": 33,
   "metadata": {},
   "outputs": [],
   "source": [
    "for i in ['Barri_transport_NEITHER BAD, NOR GOOD', 'Barri_transport_BAD',\n",
    "          'BCN_over_barri_evolution',\n",
    "          'BCN_over_barri_security',\n",
    "          'Barri_future_IT WILL WORSEN', 'Barri_future_IT WILL STAY THE SAME',\n",
    "          'BCN_over_barri_management', \n",
    "          'Support_with_housework',\n",
    "          'Barri_management_BAD', 'Barri_management_NEITHER BAD, NOR GOOD',\n",
    "          'Financial_situation_BAD', \n",
    "          'Woman']:\n",
    "    del x[i]"
   ]
  },
  {
   "cell_type": "code",
   "execution_count": 34,
   "metadata": {},
   "outputs": [],
   "source": [
    "# for i in ['BCN_over_barri_security', \n",
    "#           'Barri_transport_NEITHER BAD, NOR GOOD', 'Barri_transport_BAD',\n",
    "#           'BCN_over_barri_evolution',\n",
    "#           'Barri_future_IT WILL WORSEN', 'Barri_future_IT WILL STAY THE SAME',\n",
    "#           'Support_with_housework',\n",
    "#           'No_of_people_in_the_house_THREE OR MORE', 'No_of_people_in_the_house_TWO',\n",
    "#           'BCN_over_barri_management', \n",
    "#           'Woman',\n",
    "#           'Barri_management_BAD', 'Barri_management_NEITHER BAD, NOR GOOD',\n",
    "#           'Financial_situation_BAD',\n",
    "#           'Living_with_disabled_person',\n",
    "#           'Owner',\n",
    "#           'Barri_evolution_IT HAS WORSENED', 'Barri_evolution_IT IS THE SAME']:\n",
    "#     del x[i]"
   ]
  },
  {
   "cell_type": "code",
   "execution_count": 35,
   "metadata": {},
   "outputs": [
    {
     "data": {
      "text/html": [
       "<table class=\"simpletable\">\n",
       "<caption>Generalized Linear Model Regression Results</caption>\n",
       "<tr>\n",
       "  <th>Dep. Variable:</th>   <td>Would_live_in_another_neighborhood</td> <th>  No. Observations:  </th>  <td>  1169</td> \n",
       "</tr>\n",
       "<tr>\n",
       "  <th>Model:</th>                           <td>GLM</td>                <th>  Df Residuals:      </th>  <td>  1141</td> \n",
       "</tr>\n",
       "<tr>\n",
       "  <th>Model Family:</th>                 <td>Binomial</td>              <th>  Df Model:          </th>  <td>    27</td> \n",
       "</tr>\n",
       "<tr>\n",
       "  <th>Link Function:</th>                  <td>logit</td>               <th>  Scale:             </th> <td>  1.0000</td>\n",
       "</tr>\n",
       "<tr>\n",
       "  <th>Method:</th>                         <td>IRLS</td>                <th>  Log-Likelihood:    </th> <td> -384.07</td>\n",
       "</tr>\n",
       "<tr>\n",
       "  <th>Date:</th>                     <td>Sun, 08 Aug 2021</td>          <th>  Deviance:          </th> <td>  768.13</td>\n",
       "</tr>\n",
       "<tr>\n",
       "  <th>Time:</th>                         <td>12:51:35</td>              <th>  Pearson chi2:      </th> <td>1.20e+03</td>\n",
       "</tr>\n",
       "<tr>\n",
       "  <th>No. Iterations:</th>                   <td>7</td>                 <th>                     </th>     <td> </td>   \n",
       "</tr>\n",
       "<tr>\n",
       "  <th>Covariance Type:</th>              <td>nonrobust</td>             <th>                     </th>     <td> </td>   \n",
       "</tr>\n",
       "</table>\n",
       "<table class=\"simpletable\">\n",
       "<tr>\n",
       "                                <td></td>                                  <th>coef</th>     <th>std err</th>      <th>z</th>      <th>P>|z|</th>  <th>[0.025</th>    <th>0.975]</th>  \n",
       "</tr>\n",
       "<tr>\n",
       "  <th>const</th>                                                        <td>   -1.0145</td> <td>    0.378</td> <td>   -2.682</td> <td> 0.007</td> <td>   -1.756</td> <td>   -0.273</td>\n",
       "</tr>\n",
       "<tr>\n",
       "  <th>Car</th>                                                          <td>    0.3311</td> <td>    0.221</td> <td>    1.500</td> <td> 0.134</td> <td>   -0.102</td> <td>    0.764</td>\n",
       "</tr>\n",
       "<tr>\n",
       "  <th>Owner</th>                                                        <td>    0.2301</td> <td>    0.264</td> <td>    0.871</td> <td> 0.384</td> <td>   -0.287</td> <td>    0.748</td>\n",
       "</tr>\n",
       "<tr>\n",
       "  <th>Disability</th>                                                   <td>    0.4533</td> <td>    0.369</td> <td>    1.230</td> <td> 0.219</td> <td>   -0.269</td> <td>    1.176</td>\n",
       "</tr>\n",
       "<tr>\n",
       "  <th>Living_with_disabled_person</th>                                  <td>   -0.2702</td> <td>    0.319</td> <td>   -0.846</td> <td> 0.398</td> <td>   -0.896</td> <td>    0.356</td>\n",
       "</tr>\n",
       "<tr>\n",
       "  <th>Barri_association</th>                                            <td>   -0.3224</td> <td>    0.249</td> <td>   -1.292</td> <td> 0.196</td> <td>   -0.811</td> <td>    0.167</td>\n",
       "</tr>\n",
       "<tr>\n",
       "  <th>BCN_over_barri_future</th>                                        <td>    0.3487</td> <td>    0.252</td> <td>    1.383</td> <td> 0.167</td> <td>   -0.145</td> <td>    0.843</td>\n",
       "</tr>\n",
       "<tr>\n",
       "  <th>BCN_over_barri_satisfaction</th>                                  <td>    1.1068</td> <td>    0.619</td> <td>    1.787</td> <td> 0.074</td> <td>   -0.107</td> <td>    2.321</td>\n",
       "</tr>\n",
       "<tr>\n",
       "  <th>BCN_over_barri_transport</th>                                     <td>   -0.6129</td> <td>    0.387</td> <td>   -1.585</td> <td> 0.113</td> <td>   -1.371</td> <td>    0.145</td>\n",
       "</tr>\n",
       "<tr>\n",
       "  <th>House_size_101-150 M2</th>                                        <td>   -0.6903</td> <td>    0.468</td> <td>   -1.474</td> <td> 0.140</td> <td>   -1.608</td> <td>    0.228</td>\n",
       "</tr>\n",
       "<tr>\n",
       "  <th>House_size_51-100 M2</th>                                         <td>   -0.3956</td> <td>    0.366</td> <td>   -1.082</td> <td> 0.279</td> <td>   -1.112</td> <td>    0.321</td>\n",
       "</tr>\n",
       "<tr>\n",
       "  <th>House_size_> 150 M2</th>                                          <td>   -0.3017</td> <td>    0.618</td> <td>   -0.488</td> <td> 0.626</td> <td>   -1.513</td> <td>    0.910</td>\n",
       "</tr>\n",
       "<tr>\n",
       "  <th>House_size_I DON'T KNOW</th>                                      <td>   -0.8910</td> <td>    0.557</td> <td>   -1.599</td> <td> 0.110</td> <td>   -1.983</td> <td>    0.201</td>\n",
       "</tr>\n",
       "<tr>\n",
       "  <th>No_of_people_in_the_house_THREE OR MORE</th>                      <td>    0.1105</td> <td>    0.356</td> <td>    0.310</td> <td> 0.756</td> <td>   -0.587</td> <td>    0.808</td>\n",
       "</tr>\n",
       "<tr>\n",
       "  <th>No_of_people_in_the_house_TWO</th>                                <td>   -0.4938</td> <td>    0.346</td> <td>   -1.426</td> <td> 0.154</td> <td>   -1.172</td> <td>    0.185</td>\n",
       "</tr>\n",
       "<tr>\n",
       "  <th>Family_type_COUPLE WITH CHILDREN</th>                             <td>   -0.9088</td> <td>    0.560</td> <td>   -1.624</td> <td> 0.104</td> <td>   -2.006</td> <td>    0.188</td>\n",
       "</tr>\n",
       "<tr>\n",
       "  <th>Family_type_COUPLE WITH NO CHILDREN</th>                          <td>   -0.3153</td> <td>    0.481</td> <td>   -0.656</td> <td> 0.512</td> <td>   -1.258</td> <td>    0.627</td>\n",
       "</tr>\n",
       "<tr>\n",
       "  <th>Family_type_SINGLE</th>                                           <td>   -0.6311</td> <td>    0.250</td> <td>   -2.521</td> <td> 0.012</td> <td>   -1.122</td> <td>   -0.140</td>\n",
       "</tr>\n",
       "<tr>\n",
       "  <th>Family_type_SINGLE-PARENT WITH CHILDREN</th>                      <td>   -0.3067</td> <td>    0.527</td> <td>   -0.582</td> <td> 0.560</td> <td>   -1.339</td> <td>    0.726</td>\n",
       "</tr>\n",
       "<tr>\n",
       "  <th>Time_living_in_barri_I HAVE ALWAYS LIVED IN THE NEIGHBORHOOD</th> <td>   -2.1406</td> <td>    0.526</td> <td>   -4.068</td> <td> 0.000</td> <td>   -3.172</td> <td>   -1.109</td>\n",
       "</tr>\n",
       "<tr>\n",
       "  <th>Time_living_in_barri_MORE THAN 10 YEARS</th>                      <td>   -0.9590</td> <td>    0.341</td> <td>   -2.809</td> <td> 0.005</td> <td>   -1.628</td> <td>   -0.290</td>\n",
       "</tr>\n",
       "<tr>\n",
       "  <th>Barri_evolution_IT HAS WORSENED</th>                              <td>   -0.2472</td> <td>    0.260</td> <td>   -0.952</td> <td> 0.341</td> <td>   -0.756</td> <td>    0.262</td>\n",
       "</tr>\n",
       "<tr>\n",
       "  <th>Barri_evolution_IT IS THE SAME</th>                               <td>   -0.3308</td> <td>    0.225</td> <td>   -1.471</td> <td> 0.141</td> <td>   -0.771</td> <td>    0.110</td>\n",
       "</tr>\n",
       "<tr>\n",
       "  <th>Barri_satisfaction_FAIRLY SATISFIED</th>                          <td>   -0.2188</td> <td>    0.575</td> <td>   -0.380</td> <td> 0.704</td> <td>   -1.347</td> <td>    0.909</td>\n",
       "</tr>\n",
       "<tr>\n",
       "  <th>Barri_satisfaction_NOT SATISFIED</th>                             <td>    2.5726</td> <td>    1.289</td> <td>    1.995</td> <td> 0.046</td> <td>    0.046</td> <td>    5.100</td>\n",
       "</tr>\n",
       "<tr>\n",
       "  <th>Barri_security_BAD</th>                                           <td>    0.4595</td> <td>    0.276</td> <td>    1.662</td> <td> 0.097</td> <td>   -0.082</td> <td>    1.001</td>\n",
       "</tr>\n",
       "<tr>\n",
       "  <th>Barri_security_NEITHER BAD, NOR GOOD</th>                         <td>    0.1717</td> <td>    0.223</td> <td>    0.769</td> <td> 0.442</td> <td>   -0.266</td> <td>    0.610</td>\n",
       "</tr>\n",
       "<tr>\n",
       "  <th>Barri_comparison_NEITHER THE BEST, NOR THE WORST</th>             <td>    1.4241</td> <td>    0.211</td> <td>    6.751</td> <td> 0.000</td> <td>    1.011</td> <td>    1.838</td>\n",
       "</tr>\n",
       "<tr>\n",
       "  <th>Barri_comparison_ONE OF THE WORST</th>                            <td>    1.7088</td> <td>    0.410</td> <td>    4.163</td> <td> 0.000</td> <td>    0.904</td> <td>    2.513</td>\n",
       "</tr>\n",
       "</table>"
      ],
      "text/plain": [
       "<class 'statsmodels.iolib.summary.Summary'>\n",
       "\"\"\"\n",
       "                         Generalized Linear Model Regression Results                          \n",
       "==============================================================================================\n",
       "Dep. Variable:     Would_live_in_another_neighborhood   No. Observations:                 1169\n",
       "Model:                                            GLM   Df Residuals:                     1141\n",
       "Model Family:                                Binomial   Df Model:                           27\n",
       "Link Function:                                  logit   Scale:                          1.0000\n",
       "Method:                                          IRLS   Log-Likelihood:                -384.07\n",
       "Date:                                Sun, 08 Aug 2021   Deviance:                       768.13\n",
       "Time:                                        12:51:35   Pearson chi2:                 1.20e+03\n",
       "No. Iterations:                                     7                                         \n",
       "Covariance Type:                            nonrobust                                         \n",
       "================================================================================================================================\n",
       "                                                                   coef    std err          z      P>|z|      [0.025      0.975]\n",
       "--------------------------------------------------------------------------------------------------------------------------------\n",
       "const                                                           -1.0145      0.378     -2.682      0.007      -1.756      -0.273\n",
       "Car                                                              0.3311      0.221      1.500      0.134      -0.102       0.764\n",
       "Owner                                                            0.2301      0.264      0.871      0.384      -0.287       0.748\n",
       "Disability                                                       0.4533      0.369      1.230      0.219      -0.269       1.176\n",
       "Living_with_disabled_person                                     -0.2702      0.319     -0.846      0.398      -0.896       0.356\n",
       "Barri_association                                               -0.3224      0.249     -1.292      0.196      -0.811       0.167\n",
       "BCN_over_barri_future                                            0.3487      0.252      1.383      0.167      -0.145       0.843\n",
       "BCN_over_barri_satisfaction                                      1.1068      0.619      1.787      0.074      -0.107       2.321\n",
       "BCN_over_barri_transport                                        -0.6129      0.387     -1.585      0.113      -1.371       0.145\n",
       "House_size_101-150 M2                                           -0.6903      0.468     -1.474      0.140      -1.608       0.228\n",
       "House_size_51-100 M2                                            -0.3956      0.366     -1.082      0.279      -1.112       0.321\n",
       "House_size_> 150 M2                                             -0.3017      0.618     -0.488      0.626      -1.513       0.910\n",
       "House_size_I DON'T KNOW                                         -0.8910      0.557     -1.599      0.110      -1.983       0.201\n",
       "No_of_people_in_the_house_THREE OR MORE                          0.1105      0.356      0.310      0.756      -0.587       0.808\n",
       "No_of_people_in_the_house_TWO                                   -0.4938      0.346     -1.426      0.154      -1.172       0.185\n",
       "Family_type_COUPLE WITH CHILDREN                                -0.9088      0.560     -1.624      0.104      -2.006       0.188\n",
       "Family_type_COUPLE WITH NO CHILDREN                             -0.3153      0.481     -0.656      0.512      -1.258       0.627\n",
       "Family_type_SINGLE                                              -0.6311      0.250     -2.521      0.012      -1.122      -0.140\n",
       "Family_type_SINGLE-PARENT WITH CHILDREN                         -0.3067      0.527     -0.582      0.560      -1.339       0.726\n",
       "Time_living_in_barri_I HAVE ALWAYS LIVED IN THE NEIGHBORHOOD    -2.1406      0.526     -4.068      0.000      -3.172      -1.109\n",
       "Time_living_in_barri_MORE THAN 10 YEARS                         -0.9590      0.341     -2.809      0.005      -1.628      -0.290\n",
       "Barri_evolution_IT HAS WORSENED                                 -0.2472      0.260     -0.952      0.341      -0.756       0.262\n",
       "Barri_evolution_IT IS THE SAME                                  -0.3308      0.225     -1.471      0.141      -0.771       0.110\n",
       "Barri_satisfaction_FAIRLY SATISFIED                             -0.2188      0.575     -0.380      0.704      -1.347       0.909\n",
       "Barri_satisfaction_NOT SATISFIED                                 2.5726      1.289      1.995      0.046       0.046       5.100\n",
       "Barri_security_BAD                                               0.4595      0.276      1.662      0.097      -0.082       1.001\n",
       "Barri_security_NEITHER BAD, NOR GOOD                             0.1717      0.223      0.769      0.442      -0.266       0.610\n",
       "Barri_comparison_NEITHER THE BEST, NOR THE WORST                 1.4241      0.211      6.751      0.000       1.011       1.838\n",
       "Barri_comparison_ONE OF THE WORST                                1.7088      0.410      4.163      0.000       0.904       2.513\n",
       "================================================================================================================================\n",
       "\"\"\""
      ]
     },
     "execution_count": 35,
     "metadata": {},
     "output_type": "execute_result"
    }
   ],
   "source": [
    "glm_logit = sm.GLM(y, x, family=sm.families.Binomial())\n",
    "glm_logit_results = glm_logit.fit()\n",
    "glm_logit_results.summary()"
   ]
  },
  {
   "cell_type": "code",
   "execution_count": 36,
   "metadata": {},
   "outputs": [
    {
     "data": {
      "text/plain": [
       "824.1331682358785"
      ]
     },
     "execution_count": 36,
     "metadata": {},
     "output_type": "execute_result"
    }
   ],
   "source": [
    "glm_logit_results.aic"
   ]
  },
  {
   "cell_type": "code",
   "execution_count": 37,
   "metadata": {},
   "outputs": [
    {
     "name": "stderr",
     "output_type": "stream",
     "text": [
      "C:\\Users\\THINK\\anaconda3\\lib\\site-packages\\statsmodels\\genmod\\generalized_linear_model.py:1731: FutureWarning: The bic value is computed using the deviance formula. After 0.13 this will change to the log-likelihood based formula. This change has no impact on the relative rank of models compared using BIC. You can directly access the log-likelihood version using the `bic_llf` attribute. You can suppress this message by calling statsmodels.genmod.generalized_linear_model.SET_USE_BIC_LLF with True to get the LLF-based version now or False to retainthe deviance version.\n",
      "  FutureWarning\n"
     ]
    },
    {
     "data": {
      "text/plain": [
       "-7291.781251803751"
      ]
     },
     "execution_count": 37,
     "metadata": {},
     "output_type": "execute_result"
    }
   ],
   "source": [
    "glm_logit_results.bic"
   ]
  },
  {
   "cell_type": "code",
   "execution_count": 38,
   "metadata": {},
   "outputs": [
    {
     "data": {
      "text/plain": [
       "No_of_people_in_the_house_THREE OR MORE                         7.563170e-01\n",
       "Barri_satisfaction_FAIRLY SATISFIED                             7.038275e-01\n",
       "House_size_> 150 M2                                             6.255474e-01\n",
       "Family_type_SINGLE-PARENT WITH CHILDREN                         5.603385e-01\n",
       "Family_type_COUPLE WITH NO CHILDREN                             5.121255e-01\n",
       "Barri_security_NEITHER BAD, NOR GOOD                            4.421851e-01\n",
       "Living_with_disabled_person                                     3.975597e-01\n",
       "Owner                                                           3.835192e-01\n",
       "Barri_evolution_IT HAS WORSENED                                 3.412008e-01\n",
       "House_size_51-100 M2                                            2.793385e-01\n",
       "Disability                                                      2.188172e-01\n",
       "Barri_association                                               1.962648e-01\n",
       "BCN_over_barri_future                                           1.665173e-01\n",
       "No_of_people_in_the_house_TWO                                   1.537758e-01\n",
       "Barri_evolution_IT IS THE SAME                                  1.412046e-01\n",
       "House_size_101-150 M2                                           1.404849e-01\n",
       "Car                                                             1.336189e-01\n",
       "BCN_over_barri_transport                                        1.129966e-01\n",
       "House_size_I DON'T KNOW                                         1.098477e-01\n",
       "Family_type_COUPLE WITH CHILDREN                                1.044198e-01\n",
       "Barri_security_BAD                                              9.653148e-02\n",
       "BCN_over_barri_satisfaction                                     7.394882e-02\n",
       "Barri_satisfaction_NOT SATISFIED                                4.601239e-02\n",
       "Family_type_SINGLE                                              1.171330e-02\n",
       "const                                                           7.321621e-03\n",
       "Time_living_in_barri_MORE THAN 10 YEARS                         4.977229e-03\n",
       "Time_living_in_barri_I HAVE ALWAYS LIVED IN THE NEIGHBORHOOD    4.746054e-05\n",
       "Barri_comparison_ONE OF THE WORST                               3.142235e-05\n",
       "Barri_comparison_NEITHER THE BEST, NOR THE WORST                1.467896e-11\n",
       "dtype: float64"
      ]
     },
     "execution_count": 38,
     "metadata": {},
     "output_type": "execute_result"
    }
   ],
   "source": [
    "glm_logit_results.pvalues.sort_values(ascending=False)"
   ]
  },
  {
   "cell_type": "code",
   "execution_count": null,
   "metadata": {},
   "outputs": [],
   "source": []
  },
  {
   "cell_type": "code",
   "execution_count": 39,
   "metadata": {},
   "outputs": [],
   "source": [
    "for i in ['House_size_> 150 M2', 'House_size_51-100 M2', 'House_size_101-150 M2', \"House_size_I DON'T KNOW\",\n",
    "          'Disability', 'Living_with_disabled_person', 'Barri_association',\n",
    "          'No_of_people_in_the_house_THREE OR MORE', 'No_of_people_in_the_house_TWO',\n",
    "          'BCN_over_barri_future']:\n",
    "    del x[i]"
   ]
  },
  {
   "cell_type": "code",
   "execution_count": 40,
   "metadata": {},
   "outputs": [],
   "source": [
    "# for i in ['House_size_> 150 M2', 'House_size_51-100 M2', 'House_size_101-150 M2', \"House_size_I DON'T KNOW\",\n",
    "#           'Barri_security_NEITHER BAD, NOR GOOD', 'Barri_security_BAD',\n",
    "#           'Disability',\n",
    "#           'BCN_over_barri_future']:\n",
    "#     del x[i]"
   ]
  },
  {
   "cell_type": "code",
   "execution_count": 41,
   "metadata": {},
   "outputs": [
    {
     "data": {
      "text/html": [
       "<table class=\"simpletable\">\n",
       "<caption>Generalized Linear Model Regression Results</caption>\n",
       "<tr>\n",
       "  <th>Dep. Variable:</th>   <td>Would_live_in_another_neighborhood</td> <th>  No. Observations:  </th>  <td>  1169</td> \n",
       "</tr>\n",
       "<tr>\n",
       "  <th>Model:</th>                           <td>GLM</td>                <th>  Df Residuals:      </th>  <td>  1150</td> \n",
       "</tr>\n",
       "<tr>\n",
       "  <th>Model Family:</th>                 <td>Binomial</td>              <th>  Df Model:          </th>  <td>    18</td> \n",
       "</tr>\n",
       "<tr>\n",
       "  <th>Link Function:</th>                  <td>logit</td>               <th>  Scale:             </th> <td>  1.0000</td>\n",
       "</tr>\n",
       "<tr>\n",
       "  <th>Method:</th>                         <td>IRLS</td>                <th>  Log-Likelihood:    </th> <td> -389.16</td>\n",
       "</tr>\n",
       "<tr>\n",
       "  <th>Date:</th>                     <td>Sun, 08 Aug 2021</td>          <th>  Deviance:          </th> <td>  778.31</td>\n",
       "</tr>\n",
       "<tr>\n",
       "  <th>Time:</th>                         <td>12:51:36</td>              <th>  Pearson chi2:      </th> <td>1.22e+03</td>\n",
       "</tr>\n",
       "<tr>\n",
       "  <th>No. Iterations:</th>                   <td>6</td>                 <th>                     </th>     <td> </td>   \n",
       "</tr>\n",
       "<tr>\n",
       "  <th>Covariance Type:</th>              <td>nonrobust</td>             <th>                     </th>     <td> </td>   \n",
       "</tr>\n",
       "</table>\n",
       "<table class=\"simpletable\">\n",
       "<tr>\n",
       "                                <td></td>                                  <th>coef</th>     <th>std err</th>      <th>z</th>      <th>P>|z|</th>  <th>[0.025</th>    <th>0.975]</th>  \n",
       "</tr>\n",
       "<tr>\n",
       "  <th>const</th>                                                        <td>   -1.6796</td> <td>    0.500</td> <td>   -3.356</td> <td> 0.001</td> <td>   -2.660</td> <td>   -0.699</td>\n",
       "</tr>\n",
       "<tr>\n",
       "  <th>Car</th>                                                          <td>    0.3575</td> <td>    0.216</td> <td>    1.657</td> <td> 0.098</td> <td>   -0.065</td> <td>    0.781</td>\n",
       "</tr>\n",
       "<tr>\n",
       "  <th>Owner</th>                                                        <td>    0.1485</td> <td>    0.255</td> <td>    0.582</td> <td> 0.560</td> <td>   -0.351</td> <td>    0.648</td>\n",
       "</tr>\n",
       "<tr>\n",
       "  <th>BCN_over_barri_satisfaction</th>                                  <td>    1.2731</td> <td>    0.610</td> <td>    2.087</td> <td> 0.037</td> <td>    0.078</td> <td>    2.469</td>\n",
       "</tr>\n",
       "<tr>\n",
       "  <th>BCN_over_barri_transport</th>                                     <td>   -0.5771</td> <td>    0.383</td> <td>   -1.508</td> <td> 0.131</td> <td>   -1.327</td> <td>    0.173</td>\n",
       "</tr>\n",
       "<tr>\n",
       "  <th>Family_type_COUPLE WITH CHILDREN</th>                             <td>   -0.6383</td> <td>    0.479</td> <td>   -1.333</td> <td> 0.182</td> <td>   -1.577</td> <td>    0.300</td>\n",
       "</tr>\n",
       "<tr>\n",
       "  <th>Family_type_COUPLE WITH NO CHILDREN</th>                          <td>   -0.5995</td> <td>    0.393</td> <td>   -1.526</td> <td> 0.127</td> <td>   -1.369</td> <td>    0.170</td>\n",
       "</tr>\n",
       "<tr>\n",
       "  <th>Family_type_SINGLE</th>                                           <td>   -0.3164</td> <td>    0.402</td> <td>   -0.786</td> <td> 0.432</td> <td>   -1.105</td> <td>    0.472</td>\n",
       "</tr>\n",
       "<tr>\n",
       "  <th>Family_type_SINGLE-PARENT WITH CHILDREN</th>                      <td>   -0.4059</td> <td>    0.514</td> <td>   -0.789</td> <td> 0.430</td> <td>   -1.414</td> <td>    0.602</td>\n",
       "</tr>\n",
       "<tr>\n",
       "  <th>Time_living_in_barri_I HAVE ALWAYS LIVED IN THE NEIGHBORHOOD</th> <td>   -2.0898</td> <td>    0.520</td> <td>   -4.018</td> <td> 0.000</td> <td>   -3.109</td> <td>   -1.071</td>\n",
       "</tr>\n",
       "<tr>\n",
       "  <th>Time_living_in_barri_MORE THAN 10 YEARS</th>                      <td>   -0.9162</td> <td>    0.334</td> <td>   -2.740</td> <td> 0.006</td> <td>   -1.572</td> <td>   -0.261</td>\n",
       "</tr>\n",
       "<tr>\n",
       "  <th>Barri_evolution_IT HAS WORSENED</th>                              <td>   -0.1829</td> <td>    0.255</td> <td>   -0.717</td> <td> 0.473</td> <td>   -0.683</td> <td>    0.317</td>\n",
       "</tr>\n",
       "<tr>\n",
       "  <th>Barri_evolution_IT IS THE SAME</th>                               <td>   -0.2988</td> <td>    0.221</td> <td>   -1.351</td> <td> 0.177</td> <td>   -0.732</td> <td>    0.135</td>\n",
       "</tr>\n",
       "<tr>\n",
       "  <th>Barri_satisfaction_FAIRLY SATISFIED</th>                          <td>   -0.3337</td> <td>    0.567</td> <td>   -0.589</td> <td> 0.556</td> <td>   -1.444</td> <td>    0.777</td>\n",
       "</tr>\n",
       "<tr>\n",
       "  <th>Barri_satisfaction_NOT SATISFIED</th>                             <td>    2.3824</td> <td>    1.270</td> <td>    1.876</td> <td> 0.061</td> <td>   -0.107</td> <td>    4.872</td>\n",
       "</tr>\n",
       "<tr>\n",
       "  <th>Barri_security_BAD</th>                                           <td>    0.4517</td> <td>    0.275</td> <td>    1.644</td> <td> 0.100</td> <td>   -0.087</td> <td>    0.990</td>\n",
       "</tr>\n",
       "<tr>\n",
       "  <th>Barri_security_NEITHER BAD, NOR GOOD</th>                         <td>    0.1675</td> <td>    0.220</td> <td>    0.762</td> <td> 0.446</td> <td>   -0.263</td> <td>    0.598</td>\n",
       "</tr>\n",
       "<tr>\n",
       "  <th>Barri_comparison_NEITHER THE BEST, NOR THE WORST</th>             <td>    1.3981</td> <td>    0.207</td> <td>    6.747</td> <td> 0.000</td> <td>    0.992</td> <td>    1.804</td>\n",
       "</tr>\n",
       "<tr>\n",
       "  <th>Barri_comparison_ONE OF THE WORST</th>                            <td>    1.7360</td> <td>    0.401</td> <td>    4.324</td> <td> 0.000</td> <td>    0.949</td> <td>    2.523</td>\n",
       "</tr>\n",
       "</table>"
      ],
      "text/plain": [
       "<class 'statsmodels.iolib.summary.Summary'>\n",
       "\"\"\"\n",
       "                         Generalized Linear Model Regression Results                          \n",
       "==============================================================================================\n",
       "Dep. Variable:     Would_live_in_another_neighborhood   No. Observations:                 1169\n",
       "Model:                                            GLM   Df Residuals:                     1150\n",
       "Model Family:                                Binomial   Df Model:                           18\n",
       "Link Function:                                  logit   Scale:                          1.0000\n",
       "Method:                                          IRLS   Log-Likelihood:                -389.16\n",
       "Date:                                Sun, 08 Aug 2021   Deviance:                       778.31\n",
       "Time:                                        12:51:36   Pearson chi2:                 1.22e+03\n",
       "No. Iterations:                                     6                                         \n",
       "Covariance Type:                            nonrobust                                         \n",
       "================================================================================================================================\n",
       "                                                                   coef    std err          z      P>|z|      [0.025      0.975]\n",
       "--------------------------------------------------------------------------------------------------------------------------------\n",
       "const                                                           -1.6796      0.500     -3.356      0.001      -2.660      -0.699\n",
       "Car                                                              0.3575      0.216      1.657      0.098      -0.065       0.781\n",
       "Owner                                                            0.1485      0.255      0.582      0.560      -0.351       0.648\n",
       "BCN_over_barri_satisfaction                                      1.2731      0.610      2.087      0.037       0.078       2.469\n",
       "BCN_over_barri_transport                                        -0.5771      0.383     -1.508      0.131      -1.327       0.173\n",
       "Family_type_COUPLE WITH CHILDREN                                -0.6383      0.479     -1.333      0.182      -1.577       0.300\n",
       "Family_type_COUPLE WITH NO CHILDREN                             -0.5995      0.393     -1.526      0.127      -1.369       0.170\n",
       "Family_type_SINGLE                                              -0.3164      0.402     -0.786      0.432      -1.105       0.472\n",
       "Family_type_SINGLE-PARENT WITH CHILDREN                         -0.4059      0.514     -0.789      0.430      -1.414       0.602\n",
       "Time_living_in_barri_I HAVE ALWAYS LIVED IN THE NEIGHBORHOOD    -2.0898      0.520     -4.018      0.000      -3.109      -1.071\n",
       "Time_living_in_barri_MORE THAN 10 YEARS                         -0.9162      0.334     -2.740      0.006      -1.572      -0.261\n",
       "Barri_evolution_IT HAS WORSENED                                 -0.1829      0.255     -0.717      0.473      -0.683       0.317\n",
       "Barri_evolution_IT IS THE SAME                                  -0.2988      0.221     -1.351      0.177      -0.732       0.135\n",
       "Barri_satisfaction_FAIRLY SATISFIED                             -0.3337      0.567     -0.589      0.556      -1.444       0.777\n",
       "Barri_satisfaction_NOT SATISFIED                                 2.3824      1.270      1.876      0.061      -0.107       4.872\n",
       "Barri_security_BAD                                               0.4517      0.275      1.644      0.100      -0.087       0.990\n",
       "Barri_security_NEITHER BAD, NOR GOOD                             0.1675      0.220      0.762      0.446      -0.263       0.598\n",
       "Barri_comparison_NEITHER THE BEST, NOR THE WORST                 1.3981      0.207      6.747      0.000       0.992       1.804\n",
       "Barri_comparison_ONE OF THE WORST                                1.7360      0.401      4.324      0.000       0.949       2.523\n",
       "================================================================================================================================\n",
       "\"\"\""
      ]
     },
     "execution_count": 41,
     "metadata": {},
     "output_type": "execute_result"
    }
   ],
   "source": [
    "glm_logit = sm.GLM(y, x, family=sm.families.Binomial())\n",
    "glm_logit_results = glm_logit.fit()\n",
    "glm_logit_results.summary()"
   ]
  },
  {
   "cell_type": "code",
   "execution_count": 42,
   "metadata": {},
   "outputs": [
    {
     "data": {
      "text/plain": [
       "816.3117741729585"
      ]
     },
     "execution_count": 42,
     "metadata": {},
     "output_type": "execute_result"
    }
   ],
   "source": [
    "glm_logit_results.aic"
   ]
  },
  {
   "cell_type": "code",
   "execution_count": 43,
   "metadata": {},
   "outputs": [
    {
     "name": "stderr",
     "output_type": "stream",
     "text": [
      "C:\\Users\\THINK\\anaconda3\\lib\\site-packages\\statsmodels\\genmod\\generalized_linear_model.py:1731: FutureWarning: The bic value is computed using the deviance formula. After 0.13 this will change to the log-likelihood based formula. This change has no impact on the relative rank of models compared using BIC. You can directly access the log-likelihood version using the `bic_llf` attribute. You can suppress this message by calling statsmodels.genmod.generalized_linear_model.SET_USE_BIC_LLF with True to get the LLF-based version now or False to retainthe deviance version.\n",
      "  FutureWarning\n"
     ]
    },
    {
     "data": {
      "text/plain": [
       "-7345.17778151992"
      ]
     },
     "execution_count": 43,
     "metadata": {},
     "output_type": "execute_result"
    }
   ],
   "source": [
    "glm_logit_results.bic"
   ]
  },
  {
   "cell_type": "code",
   "execution_count": 44,
   "metadata": {},
   "outputs": [
    {
     "data": {
      "text/plain": [
       "Owner                                                           5.602786e-01\n",
       "Barri_satisfaction_FAIRLY SATISFIED                             5.559250e-01\n",
       "Barri_evolution_IT HAS WORSENED                                 4.733172e-01\n",
       "Barri_security_NEITHER BAD, NOR GOOD                            4.458726e-01\n",
       "Family_type_SINGLE                                              4.315794e-01\n",
       "Family_type_SINGLE-PARENT WITH CHILDREN                         4.301518e-01\n",
       "Family_type_COUPLE WITH CHILDREN                                1.823950e-01\n",
       "Barri_evolution_IT IS THE SAME                                  1.768353e-01\n",
       "BCN_over_barri_transport                                        1.314567e-01\n",
       "Family_type_COUPLE WITH NO CHILDREN                             1.269946e-01\n",
       "Barri_security_BAD                                              1.001067e-01\n",
       "Car                                                             9.761217e-02\n",
       "Barri_satisfaction_NOT SATISFIED                                6.066841e-02\n",
       "BCN_over_barri_satisfaction                                     3.687039e-02\n",
       "Time_living_in_barri_MORE THAN 10 YEARS                         6.136722e-03\n",
       "const                                                           7.894899e-04\n",
       "Time_living_in_barri_I HAVE ALWAYS LIVED IN THE NEIGHBORHOOD    5.858185e-05\n",
       "Barri_comparison_ONE OF THE WORST                               1.531024e-05\n",
       "Barri_comparison_NEITHER THE BEST, NOR THE WORST                1.506620e-11\n",
       "dtype: float64"
      ]
     },
     "execution_count": 44,
     "metadata": {},
     "output_type": "execute_result"
    }
   ],
   "source": [
    "glm_logit_results.pvalues.sort_values(ascending=False)"
   ]
  },
  {
   "cell_type": "code",
   "execution_count": null,
   "metadata": {},
   "outputs": [],
   "source": []
  },
  {
   "cell_type": "code",
   "execution_count": 45,
   "metadata": {},
   "outputs": [],
   "source": [
    "for i in ['Owner']:\n",
    "    del x[i]"
   ]
  },
  {
   "cell_type": "code",
   "execution_count": 46,
   "metadata": {},
   "outputs": [
    {
     "data": {
      "text/html": [
       "<table class=\"simpletable\">\n",
       "<caption>Generalized Linear Model Regression Results</caption>\n",
       "<tr>\n",
       "  <th>Dep. Variable:</th>   <td>Would_live_in_another_neighborhood</td> <th>  No. Observations:  </th>  <td>  1169</td> \n",
       "</tr>\n",
       "<tr>\n",
       "  <th>Model:</th>                           <td>GLM</td>                <th>  Df Residuals:      </th>  <td>  1151</td> \n",
       "</tr>\n",
       "<tr>\n",
       "  <th>Model Family:</th>                 <td>Binomial</td>              <th>  Df Model:          </th>  <td>    17</td> \n",
       "</tr>\n",
       "<tr>\n",
       "  <th>Link Function:</th>                  <td>logit</td>               <th>  Scale:             </th> <td>  1.0000</td>\n",
       "</tr>\n",
       "<tr>\n",
       "  <th>Method:</th>                         <td>IRLS</td>                <th>  Log-Likelihood:    </th> <td> -389.33</td>\n",
       "</tr>\n",
       "<tr>\n",
       "  <th>Date:</th>                     <td>Sun, 08 Aug 2021</td>          <th>  Deviance:          </th> <td>  778.66</td>\n",
       "</tr>\n",
       "<tr>\n",
       "  <th>Time:</th>                         <td>12:51:36</td>              <th>  Pearson chi2:      </th> <td>1.23e+03</td>\n",
       "</tr>\n",
       "<tr>\n",
       "  <th>No. Iterations:</th>                   <td>6</td>                 <th>                     </th>     <td> </td>   \n",
       "</tr>\n",
       "<tr>\n",
       "  <th>Covariance Type:</th>              <td>nonrobust</td>             <th>                     </th>     <td> </td>   \n",
       "</tr>\n",
       "</table>\n",
       "<table class=\"simpletable\">\n",
       "<tr>\n",
       "                                <td></td>                                  <th>coef</th>     <th>std err</th>      <th>z</th>      <th>P>|z|</th>  <th>[0.025</th>    <th>0.975]</th>  \n",
       "</tr>\n",
       "<tr>\n",
       "  <th>const</th>                                                        <td>   -1.6064</td> <td>    0.484</td> <td>   -3.318</td> <td> 0.001</td> <td>   -2.555</td> <td>   -0.658</td>\n",
       "</tr>\n",
       "<tr>\n",
       "  <th>Car</th>                                                          <td>    0.3776</td> <td>    0.213</td> <td>    1.772</td> <td> 0.076</td> <td>   -0.040</td> <td>    0.795</td>\n",
       "</tr>\n",
       "<tr>\n",
       "  <th>BCN_over_barri_satisfaction</th>                                  <td>    1.2768</td> <td>    0.610</td> <td>    2.093</td> <td> 0.036</td> <td>    0.081</td> <td>    2.473</td>\n",
       "</tr>\n",
       "<tr>\n",
       "  <th>BCN_over_barri_transport</th>                                     <td>   -0.5843</td> <td>    0.382</td> <td>   -1.528</td> <td> 0.127</td> <td>   -1.334</td> <td>    0.165</td>\n",
       "</tr>\n",
       "<tr>\n",
       "  <th>Family_type_COUPLE WITH CHILDREN</th>                             <td>   -0.6480</td> <td>    0.478</td> <td>   -1.355</td> <td> 0.176</td> <td>   -1.586</td> <td>    0.290</td>\n",
       "</tr>\n",
       "<tr>\n",
       "  <th>Family_type_COUPLE WITH NO CHILDREN</th>                          <td>   -0.6143</td> <td>    0.392</td> <td>   -1.567</td> <td> 0.117</td> <td>   -1.383</td> <td>    0.154</td>\n",
       "</tr>\n",
       "<tr>\n",
       "  <th>Family_type_SINGLE</th>                                           <td>   -0.3299</td> <td>    0.402</td> <td>   -0.822</td> <td> 0.411</td> <td>   -1.117</td> <td>    0.457</td>\n",
       "</tr>\n",
       "<tr>\n",
       "  <th>Family_type_SINGLE-PARENT WITH CHILDREN</th>                      <td>   -0.4371</td> <td>    0.512</td> <td>   -0.854</td> <td> 0.393</td> <td>   -1.440</td> <td>    0.566</td>\n",
       "</tr>\n",
       "<tr>\n",
       "  <th>Time_living_in_barri_I HAVE ALWAYS LIVED IN THE NEIGHBORHOOD</th> <td>   -2.0472</td> <td>    0.515</td> <td>   -3.972</td> <td> 0.000</td> <td>   -3.057</td> <td>   -1.037</td>\n",
       "</tr>\n",
       "<tr>\n",
       "  <th>Time_living_in_barri_MORE THAN 10 YEARS</th>                      <td>   -0.8606</td> <td>    0.320</td> <td>   -2.686</td> <td> 0.007</td> <td>   -1.489</td> <td>   -0.233</td>\n",
       "</tr>\n",
       "<tr>\n",
       "  <th>Barri_evolution_IT HAS WORSENED</th>                              <td>   -0.1838</td> <td>    0.255</td> <td>   -0.722</td> <td> 0.470</td> <td>   -0.683</td> <td>    0.315</td>\n",
       "</tr>\n",
       "<tr>\n",
       "  <th>Barri_evolution_IT IS THE SAME</th>                               <td>   -0.3035</td> <td>    0.221</td> <td>   -1.373</td> <td> 0.170</td> <td>   -0.737</td> <td>    0.130</td>\n",
       "</tr>\n",
       "<tr>\n",
       "  <th>Barri_satisfaction_FAIRLY SATISFIED</th>                          <td>   -0.3423</td> <td>    0.567</td> <td>   -0.604</td> <td> 0.546</td> <td>   -1.453</td> <td>    0.768</td>\n",
       "</tr>\n",
       "<tr>\n",
       "  <th>Barri_satisfaction_NOT SATISFIED</th>                             <td>    2.3701</td> <td>    1.263</td> <td>    1.877</td> <td> 0.061</td> <td>   -0.105</td> <td>    4.845</td>\n",
       "</tr>\n",
       "<tr>\n",
       "  <th>Barri_security_BAD</th>                                           <td>    0.4530</td> <td>    0.275</td> <td>    1.650</td> <td> 0.099</td> <td>   -0.085</td> <td>    0.991</td>\n",
       "</tr>\n",
       "<tr>\n",
       "  <th>Barri_security_NEITHER BAD, NOR GOOD</th>                         <td>    0.1713</td> <td>    0.220</td> <td>    0.780</td> <td> 0.435</td> <td>   -0.259</td> <td>    0.602</td>\n",
       "</tr>\n",
       "<tr>\n",
       "  <th>Barri_comparison_NEITHER THE BEST, NOR THE WORST</th>             <td>    1.3993</td> <td>    0.207</td> <td>    6.754</td> <td> 0.000</td> <td>    0.993</td> <td>    1.805</td>\n",
       "</tr>\n",
       "<tr>\n",
       "  <th>Barri_comparison_ONE OF THE WORST</th>                            <td>    1.7313</td> <td>    0.402</td> <td>    4.311</td> <td> 0.000</td> <td>    0.944</td> <td>    2.518</td>\n",
       "</tr>\n",
       "</table>"
      ],
      "text/plain": [
       "<class 'statsmodels.iolib.summary.Summary'>\n",
       "\"\"\"\n",
       "                         Generalized Linear Model Regression Results                          \n",
       "==============================================================================================\n",
       "Dep. Variable:     Would_live_in_another_neighborhood   No. Observations:                 1169\n",
       "Model:                                            GLM   Df Residuals:                     1151\n",
       "Model Family:                                Binomial   Df Model:                           17\n",
       "Link Function:                                  logit   Scale:                          1.0000\n",
       "Method:                                          IRLS   Log-Likelihood:                -389.33\n",
       "Date:                                Sun, 08 Aug 2021   Deviance:                       778.66\n",
       "Time:                                        12:51:36   Pearson chi2:                 1.23e+03\n",
       "No. Iterations:                                     6                                         \n",
       "Covariance Type:                            nonrobust                                         \n",
       "================================================================================================================================\n",
       "                                                                   coef    std err          z      P>|z|      [0.025      0.975]\n",
       "--------------------------------------------------------------------------------------------------------------------------------\n",
       "const                                                           -1.6064      0.484     -3.318      0.001      -2.555      -0.658\n",
       "Car                                                              0.3776      0.213      1.772      0.076      -0.040       0.795\n",
       "BCN_over_barri_satisfaction                                      1.2768      0.610      2.093      0.036       0.081       2.473\n",
       "BCN_over_barri_transport                                        -0.5843      0.382     -1.528      0.127      -1.334       0.165\n",
       "Family_type_COUPLE WITH CHILDREN                                -0.6480      0.478     -1.355      0.176      -1.586       0.290\n",
       "Family_type_COUPLE WITH NO CHILDREN                             -0.6143      0.392     -1.567      0.117      -1.383       0.154\n",
       "Family_type_SINGLE                                              -0.3299      0.402     -0.822      0.411      -1.117       0.457\n",
       "Family_type_SINGLE-PARENT WITH CHILDREN                         -0.4371      0.512     -0.854      0.393      -1.440       0.566\n",
       "Time_living_in_barri_I HAVE ALWAYS LIVED IN THE NEIGHBORHOOD    -2.0472      0.515     -3.972      0.000      -3.057      -1.037\n",
       "Time_living_in_barri_MORE THAN 10 YEARS                         -0.8606      0.320     -2.686      0.007      -1.489      -0.233\n",
       "Barri_evolution_IT HAS WORSENED                                 -0.1838      0.255     -0.722      0.470      -0.683       0.315\n",
       "Barri_evolution_IT IS THE SAME                                  -0.3035      0.221     -1.373      0.170      -0.737       0.130\n",
       "Barri_satisfaction_FAIRLY SATISFIED                             -0.3423      0.567     -0.604      0.546      -1.453       0.768\n",
       "Barri_satisfaction_NOT SATISFIED                                 2.3701      1.263      1.877      0.061      -0.105       4.845\n",
       "Barri_security_BAD                                               0.4530      0.275      1.650      0.099      -0.085       0.991\n",
       "Barri_security_NEITHER BAD, NOR GOOD                             0.1713      0.220      0.780      0.435      -0.259       0.602\n",
       "Barri_comparison_NEITHER THE BEST, NOR THE WORST                 1.3993      0.207      6.754      0.000       0.993       1.805\n",
       "Barri_comparison_ONE OF THE WORST                                1.7313      0.402      4.311      0.000       0.944       2.518\n",
       "================================================================================================================================\n",
       "\"\"\""
      ]
     },
     "execution_count": 46,
     "metadata": {},
     "output_type": "execute_result"
    }
   ],
   "source": [
    "glm_logit = sm.GLM(y, x, family=sm.families.Binomial())\n",
    "glm_logit_results = glm_logit.fit()\n",
    "glm_logit_results.summary()"
   ]
  },
  {
   "cell_type": "code",
   "execution_count": 47,
   "metadata": {},
   "outputs": [
    {
     "data": {
      "text/plain": [
       "814.6568927642717"
      ]
     },
     "execution_count": 47,
     "metadata": {},
     "output_type": "execute_result"
    }
   ],
   "source": [
    "glm_logit_results.aic"
   ]
  },
  {
   "cell_type": "code",
   "execution_count": 48,
   "metadata": {},
   "outputs": [
    {
     "name": "stderr",
     "output_type": "stream",
     "text": [
      "C:\\Users\\THINK\\anaconda3\\lib\\site-packages\\statsmodels\\genmod\\generalized_linear_model.py:1731: FutureWarning: The bic value is computed using the deviance formula. After 0.13 this will change to the log-likelihood based formula. This change has no impact on the relative rank of models compared using BIC. You can directly access the log-likelihood version using the `bic_llf` attribute. You can suppress this message by calling statsmodels.genmod.generalized_linear_model.SET_USE_BIC_LLF with True to get the LLF-based version now or False to retainthe deviance version.\n",
      "  FutureWarning\n"
     ]
    },
    {
     "data": {
      "text/plain": [
       "-7351.896566890078"
      ]
     },
     "execution_count": 48,
     "metadata": {},
     "output_type": "execute_result"
    }
   ],
   "source": [
    "glm_logit_results.bic"
   ]
  },
  {
   "cell_type": "code",
   "execution_count": 49,
   "metadata": {},
   "outputs": [
    {
     "data": {
      "text/plain": [
       "Barri_satisfaction_FAIRLY SATISFIED                             5.457842e-01\n",
       "Barri_evolution_IT HAS WORSENED                                 4.704796e-01\n",
       "Barri_security_NEITHER BAD, NOR GOOD                            4.354008e-01\n",
       "Family_type_SINGLE                                              4.113610e-01\n",
       "Family_type_SINGLE-PARENT WITH CHILDREN                         3.929937e-01\n",
       "Family_type_COUPLE WITH CHILDREN                                1.755518e-01\n",
       "Barri_evolution_IT IS THE SAME                                  1.697941e-01\n",
       "BCN_over_barri_transport                                        1.265378e-01\n",
       "Family_type_COUPLE WITH NO CHILDREN                             1.172106e-01\n",
       "Barri_security_BAD                                              9.892239e-02\n",
       "Car                                                             7.638409e-02\n",
       "Barri_satisfaction_NOT SATISFIED                                6.053989e-02\n",
       "BCN_over_barri_satisfaction                                     3.638011e-02\n",
       "Time_living_in_barri_MORE THAN 10 YEARS                         7.236910e-03\n",
       "const                                                           9.063525e-04\n",
       "Time_living_in_barri_I HAVE ALWAYS LIVED IN THE NEIGHBORHOOD    7.123524e-05\n",
       "Barri_comparison_ONE OF THE WORST                               1.621686e-05\n",
       "Barri_comparison_NEITHER THE BEST, NOR THE WORST                1.441541e-11\n",
       "dtype: float64"
      ]
     },
     "execution_count": 49,
     "metadata": {},
     "output_type": "execute_result"
    }
   ],
   "source": [
    "glm_logit_results.pvalues.sort_values(ascending=False)"
   ]
  },
  {
   "cell_type": "code",
   "execution_count": null,
   "metadata": {},
   "outputs": [],
   "source": []
  },
  {
   "cell_type": "code",
   "execution_count": 50,
   "metadata": {},
   "outputs": [],
   "source": [
    "for i in ['BCN_over_barri_transport', \n",
    "          'Barri_evolution_IT HAS WORSENED', 'Barri_evolution_IT IS THE SAME',\n",
    "         'Barri_security_BAD', 'Barri_security_NEITHER BAD, NOR GOOD']:\n",
    "    del x[i]"
   ]
  },
  {
   "cell_type": "code",
   "execution_count": 51,
   "metadata": {},
   "outputs": [
    {
     "data": {
      "text/html": [
       "<table class=\"simpletable\">\n",
       "<caption>Generalized Linear Model Regression Results</caption>\n",
       "<tr>\n",
       "  <th>Dep. Variable:</th>   <td>Would_live_in_another_neighborhood</td> <th>  No. Observations:  </th>  <td>  1169</td> \n",
       "</tr>\n",
       "<tr>\n",
       "  <th>Model:</th>                           <td>GLM</td>                <th>  Df Residuals:      </th>  <td>  1156</td> \n",
       "</tr>\n",
       "<tr>\n",
       "  <th>Model Family:</th>                 <td>Binomial</td>              <th>  Df Model:          </th>  <td>    12</td> \n",
       "</tr>\n",
       "<tr>\n",
       "  <th>Link Function:</th>                  <td>logit</td>               <th>  Scale:             </th> <td>  1.0000</td>\n",
       "</tr>\n",
       "<tr>\n",
       "  <th>Method:</th>                         <td>IRLS</td>                <th>  Log-Likelihood:    </th> <td> -392.93</td>\n",
       "</tr>\n",
       "<tr>\n",
       "  <th>Date:</th>                     <td>Sun, 08 Aug 2021</td>          <th>  Deviance:          </th> <td>  785.86</td>\n",
       "</tr>\n",
       "<tr>\n",
       "  <th>Time:</th>                         <td>12:51:36</td>              <th>  Pearson chi2:      </th> <td>1.22e+03</td>\n",
       "</tr>\n",
       "<tr>\n",
       "  <th>No. Iterations:</th>                   <td>6</td>                 <th>                     </th>     <td> </td>   \n",
       "</tr>\n",
       "<tr>\n",
       "  <th>Covariance Type:</th>              <td>nonrobust</td>             <th>                     </th>     <td> </td>   \n",
       "</tr>\n",
       "</table>\n",
       "<table class=\"simpletable\">\n",
       "<tr>\n",
       "                                <td></td>                                  <th>coef</th>     <th>std err</th>      <th>z</th>      <th>P>|z|</th>  <th>[0.025</th>    <th>0.975]</th>  \n",
       "</tr>\n",
       "<tr>\n",
       "  <th>const</th>                                                        <td>   -1.6783</td> <td>    0.471</td> <td>   -3.565</td> <td> 0.000</td> <td>   -2.601</td> <td>   -0.756</td>\n",
       "</tr>\n",
       "<tr>\n",
       "  <th>Car</th>                                                          <td>    0.3537</td> <td>    0.211</td> <td>    1.676</td> <td> 0.094</td> <td>   -0.060</td> <td>    0.767</td>\n",
       "</tr>\n",
       "<tr>\n",
       "  <th>BCN_over_barri_satisfaction</th>                                  <td>    1.2408</td> <td>    0.601</td> <td>    2.063</td> <td> 0.039</td> <td>    0.062</td> <td>    2.419</td>\n",
       "</tr>\n",
       "<tr>\n",
       "  <th>Family_type_COUPLE WITH CHILDREN</th>                             <td>   -0.6792</td> <td>    0.474</td> <td>   -1.433</td> <td> 0.152</td> <td>   -1.608</td> <td>    0.250</td>\n",
       "</tr>\n",
       "<tr>\n",
       "  <th>Family_type_COUPLE WITH NO CHILDREN</th>                          <td>   -0.6191</td> <td>    0.388</td> <td>   -1.598</td> <td> 0.110</td> <td>   -1.379</td> <td>    0.140</td>\n",
       "</tr>\n",
       "<tr>\n",
       "  <th>Family_type_SINGLE</th>                                           <td>   -0.3863</td> <td>    0.397</td> <td>   -0.973</td> <td> 0.331</td> <td>   -1.165</td> <td>    0.392</td>\n",
       "</tr>\n",
       "<tr>\n",
       "  <th>Family_type_SINGLE-PARENT WITH CHILDREN</th>                      <td>   -0.4477</td> <td>    0.510</td> <td>   -0.878</td> <td> 0.380</td> <td>   -1.447</td> <td>    0.551</td>\n",
       "</tr>\n",
       "<tr>\n",
       "  <th>Time_living_in_barri_I HAVE ALWAYS LIVED IN THE NEIGHBORHOOD</th> <td>   -1.9851</td> <td>    0.514</td> <td>   -3.864</td> <td> 0.000</td> <td>   -2.992</td> <td>   -0.978</td>\n",
       "</tr>\n",
       "<tr>\n",
       "  <th>Time_living_in_barri_MORE THAN 10 YEARS</th>                      <td>   -0.8009</td> <td>    0.316</td> <td>   -2.531</td> <td> 0.011</td> <td>   -1.421</td> <td>   -0.181</td>\n",
       "</tr>\n",
       "<tr>\n",
       "  <th>Barri_satisfaction_FAIRLY SATISFIED</th>                          <td>   -0.2819</td> <td>    0.553</td> <td>   -0.509</td> <td> 0.610</td> <td>   -1.366</td> <td>    0.803</td>\n",
       "</tr>\n",
       "<tr>\n",
       "  <th>Barri_satisfaction_NOT SATISFIED</th>                             <td>    2.3447</td> <td>    1.224</td> <td>    1.915</td> <td> 0.056</td> <td>   -0.055</td> <td>    4.745</td>\n",
       "</tr>\n",
       "<tr>\n",
       "  <th>Barri_comparison_NEITHER THE BEST, NOR THE WORST</th>             <td>    1.4158</td> <td>    0.203</td> <td>    6.973</td> <td> 0.000</td> <td>    1.018</td> <td>    1.814</td>\n",
       "</tr>\n",
       "<tr>\n",
       "  <th>Barri_comparison_ONE OF THE WORST</th>                            <td>    1.8241</td> <td>    0.394</td> <td>    4.633</td> <td> 0.000</td> <td>    1.052</td> <td>    2.596</td>\n",
       "</tr>\n",
       "</table>"
      ],
      "text/plain": [
       "<class 'statsmodels.iolib.summary.Summary'>\n",
       "\"\"\"\n",
       "                         Generalized Linear Model Regression Results                          \n",
       "==============================================================================================\n",
       "Dep. Variable:     Would_live_in_another_neighborhood   No. Observations:                 1169\n",
       "Model:                                            GLM   Df Residuals:                     1156\n",
       "Model Family:                                Binomial   Df Model:                           12\n",
       "Link Function:                                  logit   Scale:                          1.0000\n",
       "Method:                                          IRLS   Log-Likelihood:                -392.93\n",
       "Date:                                Sun, 08 Aug 2021   Deviance:                       785.86\n",
       "Time:                                        12:51:36   Pearson chi2:                 1.22e+03\n",
       "No. Iterations:                                     6                                         \n",
       "Covariance Type:                            nonrobust                                         \n",
       "================================================================================================================================\n",
       "                                                                   coef    std err          z      P>|z|      [0.025      0.975]\n",
       "--------------------------------------------------------------------------------------------------------------------------------\n",
       "const                                                           -1.6783      0.471     -3.565      0.000      -2.601      -0.756\n",
       "Car                                                              0.3537      0.211      1.676      0.094      -0.060       0.767\n",
       "BCN_over_barri_satisfaction                                      1.2408      0.601      2.063      0.039       0.062       2.419\n",
       "Family_type_COUPLE WITH CHILDREN                                -0.6792      0.474     -1.433      0.152      -1.608       0.250\n",
       "Family_type_COUPLE WITH NO CHILDREN                             -0.6191      0.388     -1.598      0.110      -1.379       0.140\n",
       "Family_type_SINGLE                                              -0.3863      0.397     -0.973      0.331      -1.165       0.392\n",
       "Family_type_SINGLE-PARENT WITH CHILDREN                         -0.4477      0.510     -0.878      0.380      -1.447       0.551\n",
       "Time_living_in_barri_I HAVE ALWAYS LIVED IN THE NEIGHBORHOOD    -1.9851      0.514     -3.864      0.000      -2.992      -0.978\n",
       "Time_living_in_barri_MORE THAN 10 YEARS                         -0.8009      0.316     -2.531      0.011      -1.421      -0.181\n",
       "Barri_satisfaction_FAIRLY SATISFIED                             -0.2819      0.553     -0.509      0.610      -1.366       0.803\n",
       "Barri_satisfaction_NOT SATISFIED                                 2.3447      1.224      1.915      0.056      -0.055       4.745\n",
       "Barri_comparison_NEITHER THE BEST, NOR THE WORST                 1.4158      0.203      6.973      0.000       1.018       1.814\n",
       "Barri_comparison_ONE OF THE WORST                                1.8241      0.394      4.633      0.000       1.052       2.596\n",
       "================================================================================================================================\n",
       "\"\"\""
      ]
     },
     "execution_count": 51,
     "metadata": {},
     "output_type": "execute_result"
    }
   ],
   "source": [
    "glm_logit = sm.GLM(y, x, family=sm.families.Binomial())\n",
    "glm_logit_results = glm_logit.fit()\n",
    "glm_logit_results.summary()"
   ]
  },
  {
   "cell_type": "code",
   "execution_count": 52,
   "metadata": {},
   "outputs": [
    {
     "data": {
      "text/plain": [
       "811.8618008288616"
      ]
     },
     "execution_count": 52,
     "metadata": {},
     "output_type": "execute_result"
    }
   ],
   "source": [
    "glm_logit_results.aic"
   ]
  },
  {
   "cell_type": "code",
   "execution_count": 53,
   "metadata": {},
   "outputs": [
    {
     "name": "stderr",
     "output_type": "stream",
     "text": [
      "C:\\Users\\THINK\\anaconda3\\lib\\site-packages\\statsmodels\\genmod\\generalized_linear_model.py:1731: FutureWarning: The bic value is computed using the deviance formula. After 0.13 this will change to the log-likelihood based formula. This change has no impact on the relative rank of models compared using BIC. You can directly access the log-likelihood version using the `bic_llf` attribute. You can suppress this message by calling statsmodels.genmod.generalized_linear_model.SET_USE_BIC_LLF with True to get the LLF-based version now or False to retainthe deviance version.\n",
      "  FutureWarning\n"
     ]
    },
    {
     "data": {
      "text/plain": [
       "-7380.011178632849"
      ]
     },
     "execution_count": 53,
     "metadata": {},
     "output_type": "execute_result"
    }
   ],
   "source": [
    "glm_logit_results.bic"
   ]
  },
  {
   "cell_type": "code",
   "execution_count": 54,
   "metadata": {},
   "outputs": [
    {
     "data": {
      "text/plain": [
       "Barri_satisfaction_FAIRLY SATISFIED                             6.104983e-01\n",
       "Family_type_SINGLE-PARENT WITH CHILDREN                         3.797637e-01\n",
       "Family_type_SINGLE                                              3.306635e-01\n",
       "Family_type_COUPLE WITH CHILDREN                                1.518561e-01\n",
       "Family_type_COUPLE WITH NO CHILDREN                             1.100929e-01\n",
       "Car                                                             9.369259e-02\n",
       "Barri_satisfaction_NOT SATISFIED                                5.551135e-02\n",
       "BCN_over_barri_satisfaction                                     3.907753e-02\n",
       "Time_living_in_barri_MORE THAN 10 YEARS                         1.137382e-02\n",
       "const                                                           3.638597e-04\n",
       "Time_living_in_barri_I HAVE ALWAYS LIVED IN THE NEIGHBORHOOD    1.115940e-04\n",
       "Barri_comparison_ONE OF THE WORST                               3.602536e-06\n",
       "Barri_comparison_NEITHER THE BEST, NOR THE WORST                3.099699e-12\n",
       "dtype: float64"
      ]
     },
     "execution_count": 54,
     "metadata": {},
     "output_type": "execute_result"
    }
   ],
   "source": [
    "glm_logit_results.pvalues.sort_values(ascending=False)"
   ]
  },
  {
   "cell_type": "code",
   "execution_count": null,
   "metadata": {},
   "outputs": [],
   "source": []
  },
  {
   "cell_type": "code",
   "execution_count": 55,
   "metadata": {},
   "outputs": [],
   "source": [
    "for i in x.columns.tolist():\n",
    "    if i[:6] == 'Family':\n",
    "        del x[i]"
   ]
  },
  {
   "cell_type": "code",
   "execution_count": 56,
   "metadata": {},
   "outputs": [
    {
     "data": {
      "text/html": [
       "<table class=\"simpletable\">\n",
       "<caption>Generalized Linear Model Regression Results</caption>\n",
       "<tr>\n",
       "  <th>Dep. Variable:</th>   <td>Would_live_in_another_neighborhood</td> <th>  No. Observations:  </th>  <td>  1169</td> \n",
       "</tr>\n",
       "<tr>\n",
       "  <th>Model:</th>                           <td>GLM</td>                <th>  Df Residuals:      </th>  <td>  1160</td> \n",
       "</tr>\n",
       "<tr>\n",
       "  <th>Model Family:</th>                 <td>Binomial</td>              <th>  Df Model:          </th>  <td>     8</td> \n",
       "</tr>\n",
       "<tr>\n",
       "  <th>Link Function:</th>                  <td>logit</td>               <th>  Scale:             </th> <td>  1.0000</td>\n",
       "</tr>\n",
       "<tr>\n",
       "  <th>Method:</th>                         <td>IRLS</td>                <th>  Log-Likelihood:    </th> <td> -394.48</td>\n",
       "</tr>\n",
       "<tr>\n",
       "  <th>Date:</th>                     <td>Sun, 08 Aug 2021</td>          <th>  Deviance:          </th> <td>  788.96</td>\n",
       "</tr>\n",
       "<tr>\n",
       "  <th>Time:</th>                         <td>12:51:36</td>              <th>  Pearson chi2:      </th> <td>1.20e+03</td>\n",
       "</tr>\n",
       "<tr>\n",
       "  <th>No. Iterations:</th>                   <td>6</td>                 <th>                     </th>     <td> </td>   \n",
       "</tr>\n",
       "<tr>\n",
       "  <th>Covariance Type:</th>              <td>nonrobust</td>             <th>                     </th>     <td> </td>   \n",
       "</tr>\n",
       "</table>\n",
       "<table class=\"simpletable\">\n",
       "<tr>\n",
       "                                <td></td>                                  <th>coef</th>     <th>std err</th>      <th>z</th>      <th>P>|z|</th>  <th>[0.025</th>    <th>0.975]</th>  \n",
       "</tr>\n",
       "<tr>\n",
       "  <th>const</th>                                                        <td>   -2.1202</td> <td>    0.329</td> <td>   -6.453</td> <td> 0.000</td> <td>   -2.764</td> <td>   -1.476</td>\n",
       "</tr>\n",
       "<tr>\n",
       "  <th>Car</th>                                                          <td>    0.2534</td> <td>    0.189</td> <td>    1.341</td> <td> 0.180</td> <td>   -0.117</td> <td>    0.624</td>\n",
       "</tr>\n",
       "<tr>\n",
       "  <th>BCN_over_barri_satisfaction</th>                                  <td>    1.2559</td> <td>    0.601</td> <td>    2.090</td> <td> 0.037</td> <td>    0.078</td> <td>    2.433</td>\n",
       "</tr>\n",
       "<tr>\n",
       "  <th>Time_living_in_barri_I HAVE ALWAYS LIVED IN THE NEIGHBORHOOD</th> <td>   -1.9547</td> <td>    0.511</td> <td>   -3.825</td> <td> 0.000</td> <td>   -2.956</td> <td>   -0.953</td>\n",
       "</tr>\n",
       "<tr>\n",
       "  <th>Time_living_in_barri_MORE THAN 10 YEARS</th>                      <td>   -0.7944</td> <td>    0.317</td> <td>   -2.510</td> <td> 0.012</td> <td>   -1.415</td> <td>   -0.174</td>\n",
       "</tr>\n",
       "<tr>\n",
       "  <th>Barri_satisfaction_FAIRLY SATISFIED</th>                          <td>   -0.3200</td> <td>    0.553</td> <td>   -0.578</td> <td> 0.563</td> <td>   -1.404</td> <td>    0.764</td>\n",
       "</tr>\n",
       "<tr>\n",
       "  <th>Barri_satisfaction_NOT SATISFIED</th>                             <td>    2.3046</td> <td>    1.223</td> <td>    1.885</td> <td> 0.059</td> <td>   -0.092</td> <td>    4.701</td>\n",
       "</tr>\n",
       "<tr>\n",
       "  <th>Barri_comparison_NEITHER THE BEST, NOR THE WORST</th>             <td>    1.4047</td> <td>    0.202</td> <td>    6.940</td> <td> 0.000</td> <td>    1.008</td> <td>    1.801</td>\n",
       "</tr>\n",
       "<tr>\n",
       "  <th>Barri_comparison_ONE OF THE WORST</th>                            <td>    1.8513</td> <td>    0.390</td> <td>    4.745</td> <td> 0.000</td> <td>    1.087</td> <td>    2.616</td>\n",
       "</tr>\n",
       "</table>"
      ],
      "text/plain": [
       "<class 'statsmodels.iolib.summary.Summary'>\n",
       "\"\"\"\n",
       "                         Generalized Linear Model Regression Results                          \n",
       "==============================================================================================\n",
       "Dep. Variable:     Would_live_in_another_neighborhood   No. Observations:                 1169\n",
       "Model:                                            GLM   Df Residuals:                     1160\n",
       "Model Family:                                Binomial   Df Model:                            8\n",
       "Link Function:                                  logit   Scale:                          1.0000\n",
       "Method:                                          IRLS   Log-Likelihood:                -394.48\n",
       "Date:                                Sun, 08 Aug 2021   Deviance:                       788.96\n",
       "Time:                                        12:51:36   Pearson chi2:                 1.20e+03\n",
       "No. Iterations:                                     6                                         \n",
       "Covariance Type:                            nonrobust                                         \n",
       "================================================================================================================================\n",
       "                                                                   coef    std err          z      P>|z|      [0.025      0.975]\n",
       "--------------------------------------------------------------------------------------------------------------------------------\n",
       "const                                                           -2.1202      0.329     -6.453      0.000      -2.764      -1.476\n",
       "Car                                                              0.2534      0.189      1.341      0.180      -0.117       0.624\n",
       "BCN_over_barri_satisfaction                                      1.2559      0.601      2.090      0.037       0.078       2.433\n",
       "Time_living_in_barri_I HAVE ALWAYS LIVED IN THE NEIGHBORHOOD    -1.9547      0.511     -3.825      0.000      -2.956      -0.953\n",
       "Time_living_in_barri_MORE THAN 10 YEARS                         -0.7944      0.317     -2.510      0.012      -1.415      -0.174\n",
       "Barri_satisfaction_FAIRLY SATISFIED                             -0.3200      0.553     -0.578      0.563      -1.404       0.764\n",
       "Barri_satisfaction_NOT SATISFIED                                 2.3046      1.223      1.885      0.059      -0.092       4.701\n",
       "Barri_comparison_NEITHER THE BEST, NOR THE WORST                 1.4047      0.202      6.940      0.000       1.008       1.801\n",
       "Barri_comparison_ONE OF THE WORST                                1.8513      0.390      4.745      0.000       1.087       2.616\n",
       "================================================================================================================================\n",
       "\"\"\""
      ]
     },
     "execution_count": 56,
     "metadata": {},
     "output_type": "execute_result"
    }
   ],
   "source": [
    "glm_logit = sm.GLM(y, x, family=sm.families.Binomial())\n",
    "glm_logit_results = glm_logit.fit()\n",
    "glm_logit_results.summary()"
   ]
  },
  {
   "cell_type": "code",
   "execution_count": 57,
   "metadata": {},
   "outputs": [
    {
     "data": {
      "text/plain": [
       "806.9639574532791"
      ]
     },
     "execution_count": 57,
     "metadata": {},
     "output_type": "execute_result"
    }
   ],
   "source": [
    "glm_logit_results.aic"
   ]
  },
  {
   "cell_type": "code",
   "execution_count": 58,
   "metadata": {},
   "outputs": [
    {
     "name": "stderr",
     "output_type": "stream",
     "text": [
      "C:\\Users\\THINK\\anaconda3\\lib\\site-packages\\statsmodels\\genmod\\generalized_linear_model.py:1731: FutureWarning: The bic value is computed using the deviance formula. After 0.13 this will change to the log-likelihood based formula. This change has no impact on the relative rank of models compared using BIC. You can directly access the log-likelihood version using the `bic_llf` attribute. You can suppress this message by calling statsmodels.genmod.generalized_linear_model.SET_USE_BIC_LLF with True to get the LLF-based version now or False to retainthe deviance version.\n",
      "  FutureWarning\n"
     ]
    },
    {
     "data": {
      "text/plain": [
       "-7405.164637854319"
      ]
     },
     "execution_count": 58,
     "metadata": {},
     "output_type": "execute_result"
    }
   ],
   "source": [
    "glm_logit_results.bic"
   ]
  },
  {
   "cell_type": "code",
   "execution_count": 59,
   "metadata": {},
   "outputs": [
    {
     "data": {
      "text/plain": [
       "Barri_satisfaction_FAIRLY SATISFIED                             5.629550e-01\n",
       "Car                                                             1.798414e-01\n",
       "Barri_satisfaction_NOT SATISFIED                                5.947499e-02\n",
       "BCN_over_barri_satisfaction                                     3.657625e-02\n",
       "Time_living_in_barri_MORE THAN 10 YEARS                         1.208437e-02\n",
       "Time_living_in_barri_I HAVE ALWAYS LIVED IN THE NEIGHBORHOOD    1.305361e-04\n",
       "Barri_comparison_ONE OF THE WORST                               2.088813e-06\n",
       "const                                                           1.097752e-10\n",
       "Barri_comparison_NEITHER THE BEST, NOR THE WORST                3.932602e-12\n",
       "dtype: float64"
      ]
     },
     "execution_count": 59,
     "metadata": {},
     "output_type": "execute_result"
    }
   ],
   "source": [
    "glm_logit_results.pvalues.sort_values(ascending=False)"
   ]
  },
  {
   "cell_type": "code",
   "execution_count": null,
   "metadata": {},
   "outputs": [],
   "source": []
  },
  {
   "cell_type": "code",
   "execution_count": 60,
   "metadata": {},
   "outputs": [],
   "source": [
    "for i in ['Car']:\n",
    "    del x[i]"
   ]
  },
  {
   "cell_type": "code",
   "execution_count": 61,
   "metadata": {},
   "outputs": [
    {
     "data": {
      "text/html": [
       "<table class=\"simpletable\">\n",
       "<caption>Generalized Linear Model Regression Results</caption>\n",
       "<tr>\n",
       "  <th>Dep. Variable:</th>   <td>Would_live_in_another_neighborhood</td> <th>  No. Observations:  </th>  <td>  1169</td> \n",
       "</tr>\n",
       "<tr>\n",
       "  <th>Model:</th>                           <td>GLM</td>                <th>  Df Residuals:      </th>  <td>  1161</td> \n",
       "</tr>\n",
       "<tr>\n",
       "  <th>Model Family:</th>                 <td>Binomial</td>              <th>  Df Model:          </th>  <td>     7</td> \n",
       "</tr>\n",
       "<tr>\n",
       "  <th>Link Function:</th>                  <td>logit</td>               <th>  Scale:             </th> <td>  1.0000</td>\n",
       "</tr>\n",
       "<tr>\n",
       "  <th>Method:</th>                         <td>IRLS</td>                <th>  Log-Likelihood:    </th> <td> -395.39</td>\n",
       "</tr>\n",
       "<tr>\n",
       "  <th>Date:</th>                     <td>Sun, 08 Aug 2021</td>          <th>  Deviance:          </th> <td>  790.78</td>\n",
       "</tr>\n",
       "<tr>\n",
       "  <th>Time:</th>                         <td>12:51:36</td>              <th>  Pearson chi2:      </th> <td>1.21e+03</td>\n",
       "</tr>\n",
       "<tr>\n",
       "  <th>No. Iterations:</th>                   <td>6</td>                 <th>                     </th>     <td> </td>   \n",
       "</tr>\n",
       "<tr>\n",
       "  <th>Covariance Type:</th>              <td>nonrobust</td>             <th>                     </th>     <td> </td>   \n",
       "</tr>\n",
       "</table>\n",
       "<table class=\"simpletable\">\n",
       "<tr>\n",
       "                                <td></td>                                  <th>coef</th>     <th>std err</th>      <th>z</th>      <th>P>|z|</th>  <th>[0.025</th>    <th>0.975]</th>  \n",
       "</tr>\n",
       "<tr>\n",
       "  <th>const</th>                                                        <td>   -2.0266</td> <td>    0.320</td> <td>   -6.333</td> <td> 0.000</td> <td>   -2.654</td> <td>   -1.399</td>\n",
       "</tr>\n",
       "<tr>\n",
       "  <th>BCN_over_barri_satisfaction</th>                                  <td>    1.2612</td> <td>    0.601</td> <td>    2.099</td> <td> 0.036</td> <td>    0.083</td> <td>    2.439</td>\n",
       "</tr>\n",
       "<tr>\n",
       "  <th>Time_living_in_barri_I HAVE ALWAYS LIVED IN THE NEIGHBORHOOD</th> <td>   -1.9037</td> <td>    0.509</td> <td>   -3.741</td> <td> 0.000</td> <td>   -2.901</td> <td>   -0.906</td>\n",
       "</tr>\n",
       "<tr>\n",
       "  <th>Time_living_in_barri_MORE THAN 10 YEARS</th>                      <td>   -0.7492</td> <td>    0.314</td> <td>   -2.383</td> <td> 0.017</td> <td>   -1.365</td> <td>   -0.133</td>\n",
       "</tr>\n",
       "<tr>\n",
       "  <th>Barri_satisfaction_FAIRLY SATISFIED</th>                          <td>   -0.3228</td> <td>    0.554</td> <td>   -0.583</td> <td> 0.560</td> <td>   -1.408</td> <td>    0.763</td>\n",
       "</tr>\n",
       "<tr>\n",
       "  <th>Barri_satisfaction_NOT SATISFIED</th>                             <td>    2.3276</td> <td>    1.223</td> <td>    1.902</td> <td> 0.057</td> <td>   -0.070</td> <td>    4.726</td>\n",
       "</tr>\n",
       "<tr>\n",
       "  <th>Barri_comparison_NEITHER THE BEST, NOR THE WORST</th>             <td>    1.4169</td> <td>    0.202</td> <td>    7.012</td> <td> 0.000</td> <td>    1.021</td> <td>    1.813</td>\n",
       "</tr>\n",
       "<tr>\n",
       "  <th>Barri_comparison_ONE OF THE WORST</th>                            <td>    1.8592</td> <td>    0.390</td> <td>    4.764</td> <td> 0.000</td> <td>    1.094</td> <td>    2.624</td>\n",
       "</tr>\n",
       "</table>"
      ],
      "text/plain": [
       "<class 'statsmodels.iolib.summary.Summary'>\n",
       "\"\"\"\n",
       "                         Generalized Linear Model Regression Results                          \n",
       "==============================================================================================\n",
       "Dep. Variable:     Would_live_in_another_neighborhood   No. Observations:                 1169\n",
       "Model:                                            GLM   Df Residuals:                     1161\n",
       "Model Family:                                Binomial   Df Model:                            7\n",
       "Link Function:                                  logit   Scale:                          1.0000\n",
       "Method:                                          IRLS   Log-Likelihood:                -395.39\n",
       "Date:                                Sun, 08 Aug 2021   Deviance:                       790.78\n",
       "Time:                                        12:51:36   Pearson chi2:                 1.21e+03\n",
       "No. Iterations:                                     6                                         \n",
       "Covariance Type:                            nonrobust                                         \n",
       "================================================================================================================================\n",
       "                                                                   coef    std err          z      P>|z|      [0.025      0.975]\n",
       "--------------------------------------------------------------------------------------------------------------------------------\n",
       "const                                                           -2.0266      0.320     -6.333      0.000      -2.654      -1.399\n",
       "BCN_over_barri_satisfaction                                      1.2612      0.601      2.099      0.036       0.083       2.439\n",
       "Time_living_in_barri_I HAVE ALWAYS LIVED IN THE NEIGHBORHOOD    -1.9037      0.509     -3.741      0.000      -2.901      -0.906\n",
       "Time_living_in_barri_MORE THAN 10 YEARS                         -0.7492      0.314     -2.383      0.017      -1.365      -0.133\n",
       "Barri_satisfaction_FAIRLY SATISFIED                             -0.3228      0.554     -0.583      0.560      -1.408       0.763\n",
       "Barri_satisfaction_NOT SATISFIED                                 2.3276      1.223      1.902      0.057      -0.070       4.726\n",
       "Barri_comparison_NEITHER THE BEST, NOR THE WORST                 1.4169      0.202      7.012      0.000       1.021       1.813\n",
       "Barri_comparison_ONE OF THE WORST                                1.8592      0.390      4.764      0.000       1.094       2.624\n",
       "================================================================================================================================\n",
       "\"\"\""
      ]
     },
     "execution_count": 61,
     "metadata": {},
     "output_type": "execute_result"
    }
   ],
   "source": [
    "glm_logit = sm.GLM(y, x, family=sm.families.Binomial())\n",
    "glm_logit_results = glm_logit.fit()\n",
    "glm_logit_results.summary()"
   ]
  },
  {
   "cell_type": "code",
   "execution_count": 62,
   "metadata": {},
   "outputs": [
    {
     "data": {
      "text/plain": [
       "806.778886601712"
      ]
     },
     "execution_count": 62,
     "metadata": {},
     "output_type": "execute_result"
    }
   ],
   "source": [
    "glm_logit_results.aic"
   ]
  },
  {
   "cell_type": "code",
   "execution_count": 63,
   "metadata": {},
   "outputs": [
    {
     "name": "stderr",
     "output_type": "stream",
     "text": [
      "C:\\Users\\THINK\\anaconda3\\lib\\site-packages\\statsmodels\\genmod\\generalized_linear_model.py:1731: FutureWarning: The bic value is computed using the deviance formula. After 0.13 this will change to the log-likelihood based formula. This change has no impact on the relative rank of models compared using BIC. You can directly access the log-likelihood version using the `bic_llf` attribute. You can suppress this message by calling statsmodels.genmod.generalized_linear_model.SET_USE_BIC_LLF with True to get the LLF-based version now or False to retainthe deviance version.\n",
      "  FutureWarning\n"
     ]
    },
    {
     "data": {
      "text/plain": [
       "-7410.413612667359"
      ]
     },
     "execution_count": 63,
     "metadata": {},
     "output_type": "execute_result"
    }
   ],
   "source": [
    "glm_logit_results.bic"
   ]
  },
  {
   "cell_type": "code",
   "execution_count": 64,
   "metadata": {},
   "outputs": [
    {
     "data": {
      "text/plain": [
       "Barri_satisfaction_FAIRLY SATISFIED                             5.601182e-01\n",
       "Barri_satisfaction_NOT SATISFIED                                5.712194e-02\n",
       "BCN_over_barri_satisfaction                                     3.585793e-02\n",
       "Time_living_in_barri_MORE THAN 10 YEARS                         1.715628e-02\n",
       "Time_living_in_barri_I HAVE ALWAYS LIVED IN THE NEIGHBORHOOD    1.831512e-04\n",
       "Barri_comparison_ONE OF THE WORST                               1.895998e-06\n",
       "const                                                           2.403283e-10\n",
       "Barri_comparison_NEITHER THE BEST, NOR THE WORST                2.357558e-12\n",
       "dtype: float64"
      ]
     },
     "execution_count": 64,
     "metadata": {},
     "output_type": "execute_result"
    }
   ],
   "source": [
    "glm_logit_results.pvalues.sort_values(ascending=False)"
   ]
  },
  {
   "cell_type": "code",
   "execution_count": null,
   "metadata": {},
   "outputs": [],
   "source": []
  },
  {
   "cell_type": "code",
   "execution_count": 65,
   "metadata": {},
   "outputs": [
    {
     "data": {
      "text/plain": [
       "const                                                            0.131783\n",
       "BCN_over_barri_satisfaction                                      3.529763\n",
       "Time_living_in_barri_I HAVE ALWAYS LIVED IN THE NEIGHBORHOOD     0.149012\n",
       "Time_living_in_barri_MORE THAN 10 YEARS                          0.472743\n",
       "Barri_satisfaction_FAIRLY SATISFIED                              0.724150\n",
       "Barri_satisfaction_NOT SATISFIED                                10.252854\n",
       "Barri_comparison_NEITHER THE BEST, NOR THE WORST                 4.124498\n",
       "Barri_comparison_ONE OF THE WORST                                6.418561\n",
       "dtype: float64"
      ]
     },
     "execution_count": 65,
     "metadata": {},
     "output_type": "execute_result"
    }
   ],
   "source": [
    "odds_ratios(glm_logit_results)"
   ]
  },
  {
   "cell_type": "code",
   "execution_count": 66,
   "metadata": {},
   "outputs": [
    {
     "data": {
      "text/html": [
       "<div>\n",
       "<style scoped>\n",
       "    .dataframe tbody tr th:only-of-type {\n",
       "        vertical-align: middle;\n",
       "    }\n",
       "\n",
       "    .dataframe tbody tr th {\n",
       "        vertical-align: top;\n",
       "    }\n",
       "\n",
       "    .dataframe thead th {\n",
       "        text-align: right;\n",
       "    }\n",
       "</style>\n",
       "<table border=\"1\" class=\"dataframe\">\n",
       "  <thead>\n",
       "    <tr style=\"text-align: right;\">\n",
       "      <th>y_predict</th>\n",
       "      <th>0.0</th>\n",
       "      <th>1.0</th>\n",
       "    </tr>\n",
       "    <tr>\n",
       "      <th>y</th>\n",
       "      <th></th>\n",
       "      <th></th>\n",
       "    </tr>\n",
       "  </thead>\n",
       "  <tbody>\n",
       "    <tr>\n",
       "      <th>0.0</th>\n",
       "      <td>1012</td>\n",
       "      <td>2</td>\n",
       "    </tr>\n",
       "    <tr>\n",
       "      <th>1.0</th>\n",
       "      <td>139</td>\n",
       "      <td>16</td>\n",
       "    </tr>\n",
       "  </tbody>\n",
       "</table>\n",
       "</div>"
      ],
      "text/plain": [
       "y_predict   0.0  1.0\n",
       "y                   \n",
       "0.0        1012    2\n",
       "1.0         139   16"
      ]
     },
     "execution_count": 66,
     "metadata": {},
     "output_type": "execute_result"
    }
   ],
   "source": [
    "classification_table(glm_logit_results)"
   ]
  },
  {
   "cell_type": "code",
   "execution_count": 67,
   "metadata": {},
   "outputs": [
    {
     "data": {
      "image/png": "[encoded data removed]",
      "text/plain": [
       "<Figure size 432x288 with 1 Axes>"
      ]
     },
     "metadata": {},
     "output_type": "display_data"
    }
   ],
   "source": [
    "plot_roc_auc(glm_logit_results)"
   ]
  },
  {
   "cell_type": "code",
   "execution_count": 68,
   "metadata": {},
   "outputs": [
    {
     "name": "stdout",
     "output_type": "stream",
     "text": [
      "Pseudo R2: 0.1355934515521997\n"
     ]
    }
   ],
   "source": [
    "pseudo_r2(glm_logit_results)"
   ]
  },
  {
   "cell_type": "code",
   "execution_count": 69,
   "metadata": {},
   "outputs": [
    {
     "name": "stdout",
     "output_type": "stream",
     "text": [
      "Adjusted Pseudo R2: 0.12028994271640503\n"
     ]
    }
   ],
   "source": [
    "adj_pseudo_r2(glm_logit_results)"
   ]
  },
  {
   "cell_type": "code",
   "execution_count": 70,
   "metadata": {},
   "outputs": [
    {
     "name": "stdout",
     "output_type": "stream",
     "text": [
      "Adj Count R2: 0.09\n"
     ]
    }
   ],
   "source": [
    "adj_count_r2(glm_logit_results)"
   ]
  },
  {
   "cell_type": "code",
   "execution_count": 71,
   "metadata": {},
   "outputs": [
    {
     "data": {
      "text/plain": [
       "(-395.389443300856, -457.41143910912047)"
      ]
     },
     "execution_count": 71,
     "metadata": {},
     "output_type": "execute_result"
    }
   ],
   "source": [
    "glm_logit_results.llf, glm_logit_results.llnull"
   ]
  },
  {
   "cell_type": "code",
   "execution_count": null,
   "metadata": {},
   "outputs": [],
   "source": []
  },
  {
   "cell_type": "markdown",
   "metadata": {},
   "source": [
    "# Probit"
   ]
  },
  {
   "cell_type": "code",
   "execution_count": 72,
   "metadata": {},
   "outputs": [
    {
     "name": "stderr",
     "output_type": "stream",
     "text": [
      "C:\\Users\\THINK\\anaconda3\\lib\\site-packages\\ipykernel_launcher.py:1: DeprecationWarning: Calling Family(..) with a link class as argument is deprecated.\n",
      "Use an instance of a link class instead.\n",
      "  \"\"\"Entry point for launching an IPython kernel.\n"
     ]
    },
    {
     "data": {
      "text/html": [
       "<table class=\"simpletable\">\n",
       "<caption>Generalized Linear Model Regression Results</caption>\n",
       "<tr>\n",
       "  <th>Dep. Variable:</th>   <td>Would_live_in_another_neighborhood</td> <th>  No. Observations:  </th>  <td>  1169</td> \n",
       "</tr>\n",
       "<tr>\n",
       "  <th>Model:</th>                           <td>GLM</td>                <th>  Df Residuals:      </th>  <td>  1161</td> \n",
       "</tr>\n",
       "<tr>\n",
       "  <th>Model Family:</th>                 <td>Binomial</td>              <th>  Df Model:          </th>  <td>     7</td> \n",
       "</tr>\n",
       "<tr>\n",
       "  <th>Link Function:</th>                 <td>probit</td>               <th>  Scale:             </th> <td>  1.0000</td>\n",
       "</tr>\n",
       "<tr>\n",
       "  <th>Method:</th>                         <td>IRLS</td>                <th>  Log-Likelihood:    </th> <td> -396.11</td>\n",
       "</tr>\n",
       "<tr>\n",
       "  <th>Date:</th>                     <td>Sun, 08 Aug 2021</td>          <th>  Deviance:          </th> <td>  792.21</td>\n",
       "</tr>\n",
       "<tr>\n",
       "  <th>Time:</th>                         <td>12:51:37</td>              <th>  Pearson chi2:      </th> <td>1.22e+03</td>\n",
       "</tr>\n",
       "<tr>\n",
       "  <th>No. Iterations:</th>                   <td>6</td>                 <th>                     </th>     <td> </td>   \n",
       "</tr>\n",
       "<tr>\n",
       "  <th>Covariance Type:</th>              <td>nonrobust</td>             <th>                     </th>     <td> </td>   \n",
       "</tr>\n",
       "</table>\n",
       "<table class=\"simpletable\">\n",
       "<tr>\n",
       "                                <td></td>                                  <th>coef</th>     <th>std err</th>      <th>z</th>      <th>P>|z|</th>  <th>[0.025</th>    <th>0.975]</th>  \n",
       "</tr>\n",
       "<tr>\n",
       "  <th>const</th>                                                        <td>   -1.1553</td> <td>    0.178</td> <td>   -6.501</td> <td> 0.000</td> <td>   -1.504</td> <td>   -0.807</td>\n",
       "</tr>\n",
       "<tr>\n",
       "  <th>BCN_over_barri_satisfaction</th>                                  <td>    0.7067</td> <td>    0.336</td> <td>    2.104</td> <td> 0.035</td> <td>    0.048</td> <td>    1.365</td>\n",
       "</tr>\n",
       "<tr>\n",
       "  <th>Time_living_in_barri_I HAVE ALWAYS LIVED IN THE NEIGHBORHOOD</th> <td>   -0.9572</td> <td>    0.256</td> <td>   -3.740</td> <td> 0.000</td> <td>   -1.459</td> <td>   -0.456</td>\n",
       "</tr>\n",
       "<tr>\n",
       "  <th>Time_living_in_barri_MORE THAN 10 YEARS</th>                      <td>   -0.4114</td> <td>    0.179</td> <td>   -2.304</td> <td> 0.021</td> <td>   -0.761</td> <td>   -0.061</td>\n",
       "</tr>\n",
       "<tr>\n",
       "  <th>Barri_satisfaction_FAIRLY SATISFIED</th>                          <td>   -0.1854</td> <td>    0.305</td> <td>   -0.608</td> <td> 0.543</td> <td>   -0.784</td> <td>    0.413</td>\n",
       "</tr>\n",
       "<tr>\n",
       "  <th>Barri_satisfaction_NOT SATISFIED</th>                             <td>    1.3307</td> <td>    0.641</td> <td>    2.076</td> <td> 0.038</td> <td>    0.074</td> <td>    2.587</td>\n",
       "</tr>\n",
       "<tr>\n",
       "  <th>Barri_comparison_NEITHER THE BEST, NOR THE WORST</th>             <td>    0.7434</td> <td>    0.104</td> <td>    7.157</td> <td> 0.000</td> <td>    0.540</td> <td>    0.947</td>\n",
       "</tr>\n",
       "<tr>\n",
       "  <th>Barri_comparison_ONE OF THE WORST</th>                            <td>    0.9942</td> <td>    0.225</td> <td>    4.414</td> <td> 0.000</td> <td>    0.553</td> <td>    1.436</td>\n",
       "</tr>\n",
       "</table>"
      ],
      "text/plain": [
       "<class 'statsmodels.iolib.summary.Summary'>\n",
       "\"\"\"\n",
       "                         Generalized Linear Model Regression Results                          \n",
       "==============================================================================================\n",
       "Dep. Variable:     Would_live_in_another_neighborhood   No. Observations:                 1169\n",
       "Model:                                            GLM   Df Residuals:                     1161\n",
       "Model Family:                                Binomial   Df Model:                            7\n",
       "Link Function:                                 probit   Scale:                          1.0000\n",
       "Method:                                          IRLS   Log-Likelihood:                -396.11\n",
       "Date:                                Sun, 08 Aug 2021   Deviance:                       792.21\n",
       "Time:                                        12:51:37   Pearson chi2:                 1.22e+03\n",
       "No. Iterations:                                     6                                         \n",
       "Covariance Type:                            nonrobust                                         \n",
       "================================================================================================================================\n",
       "                                                                   coef    std err          z      P>|z|      [0.025      0.975]\n",
       "--------------------------------------------------------------------------------------------------------------------------------\n",
       "const                                                           -1.1553      0.178     -6.501      0.000      -1.504      -0.807\n",
       "BCN_over_barri_satisfaction                                      0.7067      0.336      2.104      0.035       0.048       1.365\n",
       "Time_living_in_barri_I HAVE ALWAYS LIVED IN THE NEIGHBORHOOD    -0.9572      0.256     -3.740      0.000      -1.459      -0.456\n",
       "Time_living_in_barri_MORE THAN 10 YEARS                         -0.4114      0.179     -2.304      0.021      -0.761      -0.061\n",
       "Barri_satisfaction_FAIRLY SATISFIED                             -0.1854      0.305     -0.608      0.543      -0.784       0.413\n",
       "Barri_satisfaction_NOT SATISFIED                                 1.3307      0.641      2.076      0.038       0.074       2.587\n",
       "Barri_comparison_NEITHER THE BEST, NOR THE WORST                 0.7434      0.104      7.157      0.000       0.540       0.947\n",
       "Barri_comparison_ONE OF THE WORST                                0.9942      0.225      4.414      0.000       0.553       1.436\n",
       "================================================================================================================================\n",
       "\"\"\""
      ]
     },
     "execution_count": 72,
     "metadata": {},
     "output_type": "execute_result"
    }
   ],
   "source": [
    "glm_probit = sm.GLM(y, x, family=sm.families.Binomial(link=sm.genmod.families.links.probit))\n",
    "glm_probit_results = glm_probit.fit()\n",
    "glm_probit_results.summary()"
   ]
  },
  {
   "cell_type": "code",
   "execution_count": 73,
   "metadata": {},
   "outputs": [
    {
     "data": {
      "text/plain": [
       "808.2124550245735"
      ]
     },
     "execution_count": 73,
     "metadata": {},
     "output_type": "execute_result"
    }
   ],
   "source": [
    "glm_probit_results.aic"
   ]
  },
  {
   "cell_type": "code",
   "execution_count": 74,
   "metadata": {},
   "outputs": [
    {
     "name": "stderr",
     "output_type": "stream",
     "text": [
      "C:\\Users\\THINK\\anaconda3\\lib\\site-packages\\statsmodels\\genmod\\generalized_linear_model.py:1731: FutureWarning: The bic value is computed using the deviance formula. After 0.13 this will change to the log-likelihood based formula. This change has no impact on the relative rank of models compared using BIC. You can directly access the log-likelihood version using the `bic_llf` attribute. You can suppress this message by calling statsmodels.genmod.generalized_linear_model.SET_USE_BIC_LLF with True to get the LLF-based version now or False to retainthe deviance version.\n",
      "  FutureWarning\n"
     ]
    },
    {
     "data": {
      "text/plain": [
       "-7408.980044244498"
      ]
     },
     "execution_count": 74,
     "metadata": {},
     "output_type": "execute_result"
    }
   ],
   "source": [
    "glm_probit_results.bic"
   ]
  },
  {
   "cell_type": "code",
   "execution_count": 75,
   "metadata": {},
   "outputs": [
    {
     "data": {
      "text/html": [
       "<div>\n",
       "<style scoped>\n",
       "    .dataframe tbody tr th:only-of-type {\n",
       "        vertical-align: middle;\n",
       "    }\n",
       "\n",
       "    .dataframe tbody tr th {\n",
       "        vertical-align: top;\n",
       "    }\n",
       "\n",
       "    .dataframe thead th {\n",
       "        text-align: right;\n",
       "    }\n",
       "</style>\n",
       "<table border=\"1\" class=\"dataframe\">\n",
       "  <thead>\n",
       "    <tr style=\"text-align: right;\">\n",
       "      <th>y_predict</th>\n",
       "      <th>0.0</th>\n",
       "      <th>1.0</th>\n",
       "    </tr>\n",
       "    <tr>\n",
       "      <th>y</th>\n",
       "      <th></th>\n",
       "      <th></th>\n",
       "    </tr>\n",
       "  </thead>\n",
       "  <tbody>\n",
       "    <tr>\n",
       "      <th>0.0</th>\n",
       "      <td>1013</td>\n",
       "      <td>1</td>\n",
       "    </tr>\n",
       "    <tr>\n",
       "      <th>1.0</th>\n",
       "      <td>145</td>\n",
       "      <td>10</td>\n",
       "    </tr>\n",
       "  </tbody>\n",
       "</table>\n",
       "</div>"
      ],
      "text/plain": [
       "y_predict   0.0  1.0\n",
       "y                   \n",
       "0.0        1013    1\n",
       "1.0         145   10"
      ]
     },
     "execution_count": 75,
     "metadata": {},
     "output_type": "execute_result"
    }
   ],
   "source": [
    "classification_table(glm_probit_results)"
   ]
  },
  {
   "cell_type": "code",
   "execution_count": 76,
   "metadata": {},
   "outputs": [
    {
     "data": {
      "image/png": "[encoded data removed]",
      "text/plain": [
       "<Figure size 432x288 with 1 Axes>"
      ]
     },
     "metadata": {},
     "output_type": "display_data"
    }
   ],
   "source": [
    "plot_roc_auc(glm_probit_results)"
   ]
  },
  {
   "cell_type": "code",
   "execution_count": 77,
   "metadata": {},
   "outputs": [
    {
     "data": {
      "text/plain": [
       "const                                                           0.314971\n",
       "BCN_over_barri_satisfaction                                     2.027388\n",
       "Time_living_in_barri_I HAVE ALWAYS LIVED IN THE NEIGHBORHOOD    0.383949\n",
       "Time_living_in_barri_MORE THAN 10 YEARS                         0.662726\n",
       "Barri_satisfaction_FAIRLY SATISFIED                             0.830746\n",
       "Barri_satisfaction_NOT SATISFIED                                3.783546\n",
       "Barri_comparison_NEITHER THE BEST, NOR THE WORST                2.102972\n",
       "Barri_comparison_ONE OF THE WORST                               2.702658\n",
       "dtype: float64"
      ]
     },
     "execution_count": 77,
     "metadata": {},
     "output_type": "execute_result"
    }
   ],
   "source": [
    "odds_ratios(glm_probit_results)"
   ]
  },
  {
   "cell_type": "code",
   "execution_count": 78,
   "metadata": {},
   "outputs": [
    {
     "name": "stdout",
     "output_type": "stream",
     "text": [
      "Pseudo R2: 0.13402640676463007\n"
     ]
    }
   ],
   "source": [
    "pseudo_r2(glm_probit_results)"
   ]
  },
  {
   "cell_type": "code",
   "execution_count": 79,
   "metadata": {},
   "outputs": [
    {
     "name": "stdout",
     "output_type": "stream",
     "text": [
      "Adjusted Pseudo R2: 0.11872289792883539\n"
     ]
    }
   ],
   "source": [
    "adj_pseudo_r2(glm_probit_results)"
   ]
  },
  {
   "cell_type": "code",
   "execution_count": 80,
   "metadata": {},
   "outputs": [
    {
     "name": "stdout",
     "output_type": "stream",
     "text": [
      "Adj Count R2: 0.058\n"
     ]
    }
   ],
   "source": [
    "adj_count_r2(glm_probit_results)"
   ]
  },
  {
   "cell_type": "code",
   "execution_count": null,
   "metadata": {},
   "outputs": [],
   "source": []
  },
  {
   "cell_type": "markdown",
   "metadata": {},
   "source": [
    "# Scobit"
   ]
  },
  {
   "cell_type": "code",
   "execution_count": 81,
   "metadata": {
    "scrolled": false
   },
   "outputs": [
    {
     "name": "stderr",
     "output_type": "stream",
     "text": [
      "C:\\Users\\THINK\\anaconda3\\lib\\site-packages\\ipykernel_launcher.py:1: DeprecationWarning: Calling Family(..) with a link class as argument is deprecated.\n",
      "Use an instance of a link class instead.\n",
      "  \"\"\"Entry point for launching an IPython kernel.\n"
     ]
    },
    {
     "data": {
      "text/html": [
       "<table class=\"simpletable\">\n",
       "<caption>Generalized Linear Model Regression Results</caption>\n",
       "<tr>\n",
       "  <th>Dep. Variable:</th>   <td>Would_live_in_another_neighborhood</td> <th>  No. Observations:  </th>  <td>  1169</td> \n",
       "</tr>\n",
       "<tr>\n",
       "  <th>Model:</th>                           <td>GLM</td>                <th>  Df Residuals:      </th>  <td>  1161</td> \n",
       "</tr>\n",
       "<tr>\n",
       "  <th>Model Family:</th>                 <td>Binomial</td>              <th>  Df Model:          </th>  <td>     7</td> \n",
       "</tr>\n",
       "<tr>\n",
       "  <th>Link Function:</th>                 <td>cloglog</td>              <th>  Scale:             </th> <td>  1.0000</td>\n",
       "</tr>\n",
       "<tr>\n",
       "  <th>Method:</th>                         <td>IRLS</td>                <th>  Log-Likelihood:    </th> <td> -395.71</td>\n",
       "</tr>\n",
       "<tr>\n",
       "  <th>Date:</th>                     <td>Sun, 08 Aug 2021</td>          <th>  Deviance:          </th> <td>  791.42</td>\n",
       "</tr>\n",
       "<tr>\n",
       "  <th>Time:</th>                         <td>12:51:37</td>              <th>  Pearson chi2:      </th> <td>1.20e+03</td>\n",
       "</tr>\n",
       "<tr>\n",
       "  <th>No. Iterations:</th>                   <td>8</td>                 <th>                     </th>     <td> </td>   \n",
       "</tr>\n",
       "<tr>\n",
       "  <th>Covariance Type:</th>              <td>nonrobust</td>             <th>                     </th>     <td> </td>   \n",
       "</tr>\n",
       "</table>\n",
       "<table class=\"simpletable\">\n",
       "<tr>\n",
       "                                <td></td>                                  <th>coef</th>     <th>std err</th>      <th>z</th>      <th>P>|z|</th>  <th>[0.025</th>    <th>0.975]</th>  \n",
       "</tr>\n",
       "<tr>\n",
       "  <th>const</th>                                                        <td>   -2.1286</td> <td>    0.282</td> <td>   -7.559</td> <td> 0.000</td> <td>   -2.680</td> <td>   -1.577</td>\n",
       "</tr>\n",
       "<tr>\n",
       "  <th>BCN_over_barri_satisfaction</th>                                  <td>    1.0279</td> <td>    0.492</td> <td>    2.088</td> <td> 0.037</td> <td>    0.063</td> <td>    1.993</td>\n",
       "</tr>\n",
       "<tr>\n",
       "  <th>Time_living_in_barri_I HAVE ALWAYS LIVED IN THE NEIGHBORHOOD</th> <td>   -1.7000</td> <td>    0.455</td> <td>   -3.738</td> <td> 0.000</td> <td>   -2.591</td> <td>   -0.809</td>\n",
       "</tr>\n",
       "<tr>\n",
       "  <th>Time_living_in_barri_MORE THAN 10 YEARS</th>                      <td>   -0.6740</td> <td>    0.268</td> <td>   -2.517</td> <td> 0.012</td> <td>   -1.199</td> <td>   -0.149</td>\n",
       "</tr>\n",
       "<tr>\n",
       "  <th>Barri_satisfaction_FAIRLY SATISFIED</th>                          <td>   -0.2029</td> <td>    0.467</td> <td>   -0.435</td> <td> 0.664</td> <td>   -1.117</td> <td>    0.712</td>\n",
       "</tr>\n",
       "<tr>\n",
       "  <th>Barri_satisfaction_NOT SATISFIED</th>                             <td>    1.1042</td> <td>    0.674</td> <td>    1.637</td> <td> 0.102</td> <td>   -0.218</td> <td>    2.426</td>\n",
       "</tr>\n",
       "<tr>\n",
       "  <th>Barri_comparison_NEITHER THE BEST, NOR THE WORST</th>             <td>    1.3209</td> <td>    0.189</td> <td>    7.001</td> <td> 0.000</td> <td>    0.951</td> <td>    1.691</td>\n",
       "</tr>\n",
       "<tr>\n",
       "  <th>Barri_comparison_ONE OF THE WORST</th>                            <td>    1.6804</td> <td>    0.326</td> <td>    5.155</td> <td> 0.000</td> <td>    1.041</td> <td>    2.319</td>\n",
       "</tr>\n",
       "</table>"
      ],
      "text/plain": [
       "<class 'statsmodels.iolib.summary.Summary'>\n",
       "\"\"\"\n",
       "                         Generalized Linear Model Regression Results                          \n",
       "==============================================================================================\n",
       "Dep. Variable:     Would_live_in_another_neighborhood   No. Observations:                 1169\n",
       "Model:                                            GLM   Df Residuals:                     1161\n",
       "Model Family:                                Binomial   Df Model:                            7\n",
       "Link Function:                                cloglog   Scale:                          1.0000\n",
       "Method:                                          IRLS   Log-Likelihood:                -395.71\n",
       "Date:                                Sun, 08 Aug 2021   Deviance:                       791.42\n",
       "Time:                                        12:51:37   Pearson chi2:                 1.20e+03\n",
       "No. Iterations:                                     8                                         \n",
       "Covariance Type:                            nonrobust                                         \n",
       "================================================================================================================================\n",
       "                                                                   coef    std err          z      P>|z|      [0.025      0.975]\n",
       "--------------------------------------------------------------------------------------------------------------------------------\n",
       "const                                                           -2.1286      0.282     -7.559      0.000      -2.680      -1.577\n",
       "BCN_over_barri_satisfaction                                      1.0279      0.492      2.088      0.037       0.063       1.993\n",
       "Time_living_in_barri_I HAVE ALWAYS LIVED IN THE NEIGHBORHOOD    -1.7000      0.455     -3.738      0.000      -2.591      -0.809\n",
       "Time_living_in_barri_MORE THAN 10 YEARS                         -0.6740      0.268     -2.517      0.012      -1.199      -0.149\n",
       "Barri_satisfaction_FAIRLY SATISFIED                             -0.2029      0.467     -0.435      0.664      -1.117       0.712\n",
       "Barri_satisfaction_NOT SATISFIED                                 1.1042      0.674      1.637      0.102      -0.218       2.426\n",
       "Barri_comparison_NEITHER THE BEST, NOR THE WORST                 1.3209      0.189      7.001      0.000       0.951       1.691\n",
       "Barri_comparison_ONE OF THE WORST                                1.6804      0.326      5.155      0.000       1.041       2.319\n",
       "================================================================================================================================\n",
       "\"\"\""
      ]
     },
     "execution_count": 81,
     "metadata": {},
     "output_type": "execute_result"
    }
   ],
   "source": [
    "glm_scobit = sm.GLM(y, x, family=sm.families.Binomial(link=sm.genmod.families.links.cloglog))\n",
    "glm_scobit_results = glm_scobit.fit()\n",
    "glm_scobit_results.summary()"
   ]
  },
  {
   "cell_type": "code",
   "execution_count": 82,
   "metadata": {},
   "outputs": [
    {
     "data": {
      "text/plain": [
       "807.4219490310483"
      ]
     },
     "execution_count": 82,
     "metadata": {},
     "output_type": "execute_result"
    }
   ],
   "source": [
    "glm_scobit_results.aic"
   ]
  },
  {
   "cell_type": "code",
   "execution_count": 83,
   "metadata": {},
   "outputs": [
    {
     "name": "stderr",
     "output_type": "stream",
     "text": [
      "C:\\Users\\THINK\\anaconda3\\lib\\site-packages\\statsmodels\\genmod\\generalized_linear_model.py:1731: FutureWarning: The bic value is computed using the deviance formula. After 0.13 this will change to the log-likelihood based formula. This change has no impact on the relative rank of models compared using BIC. You can directly access the log-likelihood version using the `bic_llf` attribute. You can suppress this message by calling statsmodels.genmod.generalized_linear_model.SET_USE_BIC_LLF with True to get the LLF-based version now or False to retainthe deviance version.\n",
      "  FutureWarning\n"
     ]
    },
    {
     "data": {
      "text/plain": [
       "-7409.770550238023"
      ]
     },
     "execution_count": 83,
     "metadata": {},
     "output_type": "execute_result"
    }
   ],
   "source": [
    "glm_scobit_results.bic"
   ]
  },
  {
   "cell_type": "code",
   "execution_count": 84,
   "metadata": {},
   "outputs": [
    {
     "data": {
      "text/html": [
       "<div>\n",
       "<style scoped>\n",
       "    .dataframe tbody tr th:only-of-type {\n",
       "        vertical-align: middle;\n",
       "    }\n",
       "\n",
       "    .dataframe tbody tr th {\n",
       "        vertical-align: top;\n",
       "    }\n",
       "\n",
       "    .dataframe thead th {\n",
       "        text-align: right;\n",
       "    }\n",
       "</style>\n",
       "<table border=\"1\" class=\"dataframe\">\n",
       "  <thead>\n",
       "    <tr style=\"text-align: right;\">\n",
       "      <th>y_predict</th>\n",
       "      <th>0.0</th>\n",
       "      <th>1.0</th>\n",
       "    </tr>\n",
       "    <tr>\n",
       "      <th>y</th>\n",
       "      <th></th>\n",
       "      <th></th>\n",
       "    </tr>\n",
       "  </thead>\n",
       "  <tbody>\n",
       "    <tr>\n",
       "      <th>0.0</th>\n",
       "      <td>1012</td>\n",
       "      <td>2</td>\n",
       "    </tr>\n",
       "    <tr>\n",
       "      <th>1.0</th>\n",
       "      <td>140</td>\n",
       "      <td>15</td>\n",
       "    </tr>\n",
       "  </tbody>\n",
       "</table>\n",
       "</div>"
      ],
      "text/plain": [
       "y_predict   0.0  1.0\n",
       "y                   \n",
       "0.0        1012    2\n",
       "1.0         140   15"
      ]
     },
     "execution_count": 84,
     "metadata": {},
     "output_type": "execute_result"
    }
   ],
   "source": [
    "classification_table(glm_scobit_results)"
   ]
  },
  {
   "cell_type": "code",
   "execution_count": 85,
   "metadata": {},
   "outputs": [
    {
     "data": {
      "image/png": "[encoded data removed]",
      "text/plain": [
       "<Figure size 432x288 with 1 Axes>"
      ]
     },
     "metadata": {},
     "output_type": "display_data"
    }
   ],
   "source": [
    "plot_roc_auc(glm_scobit_results)"
   ]
  },
  {
   "cell_type": "code",
   "execution_count": 86,
   "metadata": {},
   "outputs": [
    {
     "data": {
      "text/plain": [
       "const                                                           0.119007\n",
       "BCN_over_barri_satisfaction                                     2.795187\n",
       "Time_living_in_barri_I HAVE ALWAYS LIVED IN THE NEIGHBORHOOD    0.182683\n",
       "Time_living_in_barri_MORE THAN 10 YEARS                         0.509641\n",
       "Barri_satisfaction_FAIRLY SATISFIED                             0.816345\n",
       "Barri_satisfaction_NOT SATISFIED                                3.016699\n",
       "Barri_comparison_NEITHER THE BEST, NOR THE WORST                3.746953\n",
       "Barri_comparison_ONE OF THE WORST                               5.367487\n",
       "dtype: float64"
      ]
     },
     "execution_count": 86,
     "metadata": {},
     "output_type": "execute_result"
    }
   ],
   "source": [
    "odds_ratios(glm_scobit_results)"
   ]
  },
  {
   "cell_type": "code",
   "execution_count": 87,
   "metadata": {},
   "outputs": [
    {
     "name": "stdout",
     "output_type": "stream",
     "text": [
      "Pseudo R2: 0.13489051501153448\n"
     ]
    }
   ],
   "source": [
    "pseudo_r2(glm_scobit_results)"
   ]
  },
  {
   "cell_type": "code",
   "execution_count": 88,
   "metadata": {},
   "outputs": [
    {
     "name": "stdout",
     "output_type": "stream",
     "text": [
      "Adjusted Pseudo R2: 0.1195870061757397\n"
     ]
    }
   ],
   "source": [
    "adj_pseudo_r2(glm_scobit_results)"
   ]
  },
  {
   "cell_type": "code",
   "execution_count": 89,
   "metadata": {},
   "outputs": [
    {
     "name": "stdout",
     "output_type": "stream",
     "text": [
      "Adj Count R2: 0.084\n"
     ]
    }
   ],
   "source": [
    "adj_count_r2(glm_scobit_results)"
   ]
  },
  {
   "cell_type": "code",
   "execution_count": null,
   "metadata": {},
   "outputs": [],
   "source": []
  },
  {
   "cell_type": "markdown",
   "metadata": {},
   "source": [
    "# Results comparison"
   ]
  },
  {
   "cell_type": "code",
   "execution_count": 90,
   "metadata": {},
   "outputs": [
    {
     "data": {
      "text/html": [
       "<table class=\"simpletable\">\n",
       "<caption>Generalized Linear Model Regression Results</caption>\n",
       "<tr>\n",
       "  <th>Dep. Variable:</th>   <td>Would_live_in_another_neighborhood</td> <th>  No. Observations:  </th>  <td>  1169</td> \n",
       "</tr>\n",
       "<tr>\n",
       "  <th>Model:</th>                           <td>GLM</td>                <th>  Df Residuals:      </th>  <td>  1161</td> \n",
       "</tr>\n",
       "<tr>\n",
       "  <th>Model Family:</th>                 <td>Binomial</td>              <th>  Df Model:          </th>  <td>     7</td> \n",
       "</tr>\n",
       "<tr>\n",
       "  <th>Link Function:</th>                  <td>logit</td>               <th>  Scale:             </th> <td>  1.0000</td>\n",
       "</tr>\n",
       "<tr>\n",
       "  <th>Method:</th>                         <td>IRLS</td>                <th>  Log-Likelihood:    </th> <td> -395.39</td>\n",
       "</tr>\n",
       "<tr>\n",
       "  <th>Date:</th>                     <td>Sun, 08 Aug 2021</td>          <th>  Deviance:          </th> <td>  790.78</td>\n",
       "</tr>\n",
       "<tr>\n",
       "  <th>Time:</th>                         <td>12:51:38</td>              <th>  Pearson chi2:      </th> <td>1.21e+03</td>\n",
       "</tr>\n",
       "<tr>\n",
       "  <th>No. Iterations:</th>                   <td>6</td>                 <th>                     </th>     <td> </td>   \n",
       "</tr>\n",
       "<tr>\n",
       "  <th>Covariance Type:</th>              <td>nonrobust</td>             <th>                     </th>     <td> </td>   \n",
       "</tr>\n",
       "</table>\n",
       "<table class=\"simpletable\">\n",
       "<tr>\n",
       "                                <td></td>                                  <th>coef</th>     <th>std err</th>      <th>z</th>      <th>P>|z|</th>  <th>[0.025</th>    <th>0.975]</th>  \n",
       "</tr>\n",
       "<tr>\n",
       "  <th>const</th>                                                        <td>   -2.0266</td> <td>    0.320</td> <td>   -6.333</td> <td> 0.000</td> <td>   -2.654</td> <td>   -1.399</td>\n",
       "</tr>\n",
       "<tr>\n",
       "  <th>BCN_over_barri_satisfaction</th>                                  <td>    1.2612</td> <td>    0.601</td> <td>    2.099</td> <td> 0.036</td> <td>    0.083</td> <td>    2.439</td>\n",
       "</tr>\n",
       "<tr>\n",
       "  <th>Time_living_in_barri_I HAVE ALWAYS LIVED IN THE NEIGHBORHOOD</th> <td>   -1.9037</td> <td>    0.509</td> <td>   -3.741</td> <td> 0.000</td> <td>   -2.901</td> <td>   -0.906</td>\n",
       "</tr>\n",
       "<tr>\n",
       "  <th>Time_living_in_barri_MORE THAN 10 YEARS</th>                      <td>   -0.7492</td> <td>    0.314</td> <td>   -2.383</td> <td> 0.017</td> <td>   -1.365</td> <td>   -0.133</td>\n",
       "</tr>\n",
       "<tr>\n",
       "  <th>Barri_satisfaction_FAIRLY SATISFIED</th>                          <td>   -0.3228</td> <td>    0.554</td> <td>   -0.583</td> <td> 0.560</td> <td>   -1.408</td> <td>    0.763</td>\n",
       "</tr>\n",
       "<tr>\n",
       "  <th>Barri_satisfaction_NOT SATISFIED</th>                             <td>    2.3276</td> <td>    1.223</td> <td>    1.902</td> <td> 0.057</td> <td>   -0.070</td> <td>    4.726</td>\n",
       "</tr>\n",
       "<tr>\n",
       "  <th>Barri_comparison_NEITHER THE BEST, NOR THE WORST</th>             <td>    1.4169</td> <td>    0.202</td> <td>    7.012</td> <td> 0.000</td> <td>    1.021</td> <td>    1.813</td>\n",
       "</tr>\n",
       "<tr>\n",
       "  <th>Barri_comparison_ONE OF THE WORST</th>                            <td>    1.8592</td> <td>    0.390</td> <td>    4.764</td> <td> 0.000</td> <td>    1.094</td> <td>    2.624</td>\n",
       "</tr>\n",
       "</table>"
      ],
      "text/plain": [
       "<class 'statsmodels.iolib.summary.Summary'>\n",
       "\"\"\"\n",
       "                         Generalized Linear Model Regression Results                          \n",
       "==============================================================================================\n",
       "Dep. Variable:     Would_live_in_another_neighborhood   No. Observations:                 1169\n",
       "Model:                                            GLM   Df Residuals:                     1161\n",
       "Model Family:                                Binomial   Df Model:                            7\n",
       "Link Function:                                  logit   Scale:                          1.0000\n",
       "Method:                                          IRLS   Log-Likelihood:                -395.39\n",
       "Date:                                Sun, 08 Aug 2021   Deviance:                       790.78\n",
       "Time:                                        12:51:38   Pearson chi2:                 1.21e+03\n",
       "No. Iterations:                                     6                                         \n",
       "Covariance Type:                            nonrobust                                         \n",
       "================================================================================================================================\n",
       "                                                                   coef    std err          z      P>|z|      [0.025      0.975]\n",
       "--------------------------------------------------------------------------------------------------------------------------------\n",
       "const                                                           -2.0266      0.320     -6.333      0.000      -2.654      -1.399\n",
       "BCN_over_barri_satisfaction                                      1.2612      0.601      2.099      0.036       0.083       2.439\n",
       "Time_living_in_barri_I HAVE ALWAYS LIVED IN THE NEIGHBORHOOD    -1.9037      0.509     -3.741      0.000      -2.901      -0.906\n",
       "Time_living_in_barri_MORE THAN 10 YEARS                         -0.7492      0.314     -2.383      0.017      -1.365      -0.133\n",
       "Barri_satisfaction_FAIRLY SATISFIED                             -0.3228      0.554     -0.583      0.560      -1.408       0.763\n",
       "Barri_satisfaction_NOT SATISFIED                                 2.3276      1.223      1.902      0.057      -0.070       4.726\n",
       "Barri_comparison_NEITHER THE BEST, NOR THE WORST                 1.4169      0.202      7.012      0.000       1.021       1.813\n",
       "Barri_comparison_ONE OF THE WORST                                1.8592      0.390      4.764      0.000       1.094       2.624\n",
       "================================================================================================================================\n",
       "\"\"\""
      ]
     },
     "execution_count": 90,
     "metadata": {},
     "output_type": "execute_result"
    }
   ],
   "source": [
    "glm_logit_results.summary()"
   ]
  },
  {
   "cell_type": "code",
   "execution_count": 91,
   "metadata": {},
   "outputs": [
    {
     "data": {
      "text/html": [
       "<table class=\"simpletable\">\n",
       "<caption>Generalized Linear Model Regression Results</caption>\n",
       "<tr>\n",
       "  <th>Dep. Variable:</th>   <td>Would_live_in_another_neighborhood</td> <th>  No. Observations:  </th>  <td>  1169</td> \n",
       "</tr>\n",
       "<tr>\n",
       "  <th>Model:</th>                           <td>GLM</td>                <th>  Df Residuals:      </th>  <td>  1161</td> \n",
       "</tr>\n",
       "<tr>\n",
       "  <th>Model Family:</th>                 <td>Binomial</td>              <th>  Df Model:          </th>  <td>     7</td> \n",
       "</tr>\n",
       "<tr>\n",
       "  <th>Link Function:</th>                 <td>probit</td>               <th>  Scale:             </th> <td>  1.0000</td>\n",
       "</tr>\n",
       "<tr>\n",
       "  <th>Method:</th>                         <td>IRLS</td>                <th>  Log-Likelihood:    </th> <td> -396.11</td>\n",
       "</tr>\n",
       "<tr>\n",
       "  <th>Date:</th>                     <td>Sun, 08 Aug 2021</td>          <th>  Deviance:          </th> <td>  792.21</td>\n",
       "</tr>\n",
       "<tr>\n",
       "  <th>Time:</th>                         <td>12:51:38</td>              <th>  Pearson chi2:      </th> <td>1.22e+03</td>\n",
       "</tr>\n",
       "<tr>\n",
       "  <th>No. Iterations:</th>                   <td>6</td>                 <th>                     </th>     <td> </td>   \n",
       "</tr>\n",
       "<tr>\n",
       "  <th>Covariance Type:</th>              <td>nonrobust</td>             <th>                     </th>     <td> </td>   \n",
       "</tr>\n",
       "</table>\n",
       "<table class=\"simpletable\">\n",
       "<tr>\n",
       "                                <td></td>                                  <th>coef</th>     <th>std err</th>      <th>z</th>      <th>P>|z|</th>  <th>[0.025</th>    <th>0.975]</th>  \n",
       "</tr>\n",
       "<tr>\n",
       "  <th>const</th>                                                        <td>   -1.1553</td> <td>    0.178</td> <td>   -6.501</td> <td> 0.000</td> <td>   -1.504</td> <td>   -0.807</td>\n",
       "</tr>\n",
       "<tr>\n",
       "  <th>BCN_over_barri_satisfaction</th>                                  <td>    0.7067</td> <td>    0.336</td> <td>    2.104</td> <td> 0.035</td> <td>    0.048</td> <td>    1.365</td>\n",
       "</tr>\n",
       "<tr>\n",
       "  <th>Time_living_in_barri_I HAVE ALWAYS LIVED IN THE NEIGHBORHOOD</th> <td>   -0.9572</td> <td>    0.256</td> <td>   -3.740</td> <td> 0.000</td> <td>   -1.459</td> <td>   -0.456</td>\n",
       "</tr>\n",
       "<tr>\n",
       "  <th>Time_living_in_barri_MORE THAN 10 YEARS</th>                      <td>   -0.4114</td> <td>    0.179</td> <td>   -2.304</td> <td> 0.021</td> <td>   -0.761</td> <td>   -0.061</td>\n",
       "</tr>\n",
       "<tr>\n",
       "  <th>Barri_satisfaction_FAIRLY SATISFIED</th>                          <td>   -0.1854</td> <td>    0.305</td> <td>   -0.608</td> <td> 0.543</td> <td>   -0.784</td> <td>    0.413</td>\n",
       "</tr>\n",
       "<tr>\n",
       "  <th>Barri_satisfaction_NOT SATISFIED</th>                             <td>    1.3307</td> <td>    0.641</td> <td>    2.076</td> <td> 0.038</td> <td>    0.074</td> <td>    2.587</td>\n",
       "</tr>\n",
       "<tr>\n",
       "  <th>Barri_comparison_NEITHER THE BEST, NOR THE WORST</th>             <td>    0.7434</td> <td>    0.104</td> <td>    7.157</td> <td> 0.000</td> <td>    0.540</td> <td>    0.947</td>\n",
       "</tr>\n",
       "<tr>\n",
       "  <th>Barri_comparison_ONE OF THE WORST</th>                            <td>    0.9942</td> <td>    0.225</td> <td>    4.414</td> <td> 0.000</td> <td>    0.553</td> <td>    1.436</td>\n",
       "</tr>\n",
       "</table>"
      ],
      "text/plain": [
       "<class 'statsmodels.iolib.summary.Summary'>\n",
       "\"\"\"\n",
       "                         Generalized Linear Model Regression Results                          \n",
       "==============================================================================================\n",
       "Dep. Variable:     Would_live_in_another_neighborhood   No. Observations:                 1169\n",
       "Model:                                            GLM   Df Residuals:                     1161\n",
       "Model Family:                                Binomial   Df Model:                            7\n",
       "Link Function:                                 probit   Scale:                          1.0000\n",
       "Method:                                          IRLS   Log-Likelihood:                -396.11\n",
       "Date:                                Sun, 08 Aug 2021   Deviance:                       792.21\n",
       "Time:                                        12:51:38   Pearson chi2:                 1.22e+03\n",
       "No. Iterations:                                     6                                         \n",
       "Covariance Type:                            nonrobust                                         \n",
       "================================================================================================================================\n",
       "                                                                   coef    std err          z      P>|z|      [0.025      0.975]\n",
       "--------------------------------------------------------------------------------------------------------------------------------\n",
       "const                                                           -1.1553      0.178     -6.501      0.000      -1.504      -0.807\n",
       "BCN_over_barri_satisfaction                                      0.7067      0.336      2.104      0.035       0.048       1.365\n",
       "Time_living_in_barri_I HAVE ALWAYS LIVED IN THE NEIGHBORHOOD    -0.9572      0.256     -3.740      0.000      -1.459      -0.456\n",
       "Time_living_in_barri_MORE THAN 10 YEARS                         -0.4114      0.179     -2.304      0.021      -0.761      -0.061\n",
       "Barri_satisfaction_FAIRLY SATISFIED                             -0.1854      0.305     -0.608      0.543      -0.784       0.413\n",
       "Barri_satisfaction_NOT SATISFIED                                 1.3307      0.641      2.076      0.038       0.074       2.587\n",
       "Barri_comparison_NEITHER THE BEST, NOR THE WORST                 0.7434      0.104      7.157      0.000       0.540       0.947\n",
       "Barri_comparison_ONE OF THE WORST                                0.9942      0.225      4.414      0.000       0.553       1.436\n",
       "================================================================================================================================\n",
       "\"\"\""
      ]
     },
     "execution_count": 91,
     "metadata": {},
     "output_type": "execute_result"
    }
   ],
   "source": [
    "glm_probit_results.summary()"
   ]
  },
  {
   "cell_type": "code",
   "execution_count": 92,
   "metadata": {},
   "outputs": [
    {
     "data": {
      "text/html": [
       "<table class=\"simpletable\">\n",
       "<caption>Generalized Linear Model Regression Results</caption>\n",
       "<tr>\n",
       "  <th>Dep. Variable:</th>   <td>Would_live_in_another_neighborhood</td> <th>  No. Observations:  </th>  <td>  1169</td> \n",
       "</tr>\n",
       "<tr>\n",
       "  <th>Model:</th>                           <td>GLM</td>                <th>  Df Residuals:      </th>  <td>  1161</td> \n",
       "</tr>\n",
       "<tr>\n",
       "  <th>Model Family:</th>                 <td>Binomial</td>              <th>  Df Model:          </th>  <td>     7</td> \n",
       "</tr>\n",
       "<tr>\n",
       "  <th>Link Function:</th>                 <td>cloglog</td>              <th>  Scale:             </th> <td>  1.0000</td>\n",
       "</tr>\n",
       "<tr>\n",
       "  <th>Method:</th>                         <td>IRLS</td>                <th>  Log-Likelihood:    </th> <td> -395.71</td>\n",
       "</tr>\n",
       "<tr>\n",
       "  <th>Date:</th>                     <td>Sun, 08 Aug 2021</td>          <th>  Deviance:          </th> <td>  791.42</td>\n",
       "</tr>\n",
       "<tr>\n",
       "  <th>Time:</th>                         <td>12:51:38</td>              <th>  Pearson chi2:      </th> <td>1.20e+03</td>\n",
       "</tr>\n",
       "<tr>\n",
       "  <th>No. Iterations:</th>                   <td>8</td>                 <th>                     </th>     <td> </td>   \n",
       "</tr>\n",
       "<tr>\n",
       "  <th>Covariance Type:</th>              <td>nonrobust</td>             <th>                     </th>     <td> </td>   \n",
       "</tr>\n",
       "</table>\n",
       "<table class=\"simpletable\">\n",
       "<tr>\n",
       "                                <td></td>                                  <th>coef</th>     <th>std err</th>      <th>z</th>      <th>P>|z|</th>  <th>[0.025</th>    <th>0.975]</th>  \n",
       "</tr>\n",
       "<tr>\n",
       "  <th>const</th>                                                        <td>   -2.1286</td> <td>    0.282</td> <td>   -7.559</td> <td> 0.000</td> <td>   -2.680</td> <td>   -1.577</td>\n",
       "</tr>\n",
       "<tr>\n",
       "  <th>BCN_over_barri_satisfaction</th>                                  <td>    1.0279</td> <td>    0.492</td> <td>    2.088</td> <td> 0.037</td> <td>    0.063</td> <td>    1.993</td>\n",
       "</tr>\n",
       "<tr>\n",
       "  <th>Time_living_in_barri_I HAVE ALWAYS LIVED IN THE NEIGHBORHOOD</th> <td>   -1.7000</td> <td>    0.455</td> <td>   -3.738</td> <td> 0.000</td> <td>   -2.591</td> <td>   -0.809</td>\n",
       "</tr>\n",
       "<tr>\n",
       "  <th>Time_living_in_barri_MORE THAN 10 YEARS</th>                      <td>   -0.6740</td> <td>    0.268</td> <td>   -2.517</td> <td> 0.012</td> <td>   -1.199</td> <td>   -0.149</td>\n",
       "</tr>\n",
       "<tr>\n",
       "  <th>Barri_satisfaction_FAIRLY SATISFIED</th>                          <td>   -0.2029</td> <td>    0.467</td> <td>   -0.435</td> <td> 0.664</td> <td>   -1.117</td> <td>    0.712</td>\n",
       "</tr>\n",
       "<tr>\n",
       "  <th>Barri_satisfaction_NOT SATISFIED</th>                             <td>    1.1042</td> <td>    0.674</td> <td>    1.637</td> <td> 0.102</td> <td>   -0.218</td> <td>    2.426</td>\n",
       "</tr>\n",
       "<tr>\n",
       "  <th>Barri_comparison_NEITHER THE BEST, NOR THE WORST</th>             <td>    1.3209</td> <td>    0.189</td> <td>    7.001</td> <td> 0.000</td> <td>    0.951</td> <td>    1.691</td>\n",
       "</tr>\n",
       "<tr>\n",
       "  <th>Barri_comparison_ONE OF THE WORST</th>                            <td>    1.6804</td> <td>    0.326</td> <td>    5.155</td> <td> 0.000</td> <td>    1.041</td> <td>    2.319</td>\n",
       "</tr>\n",
       "</table>"
      ],
      "text/plain": [
       "<class 'statsmodels.iolib.summary.Summary'>\n",
       "\"\"\"\n",
       "                         Generalized Linear Model Regression Results                          \n",
       "==============================================================================================\n",
       "Dep. Variable:     Would_live_in_another_neighborhood   No. Observations:                 1169\n",
       "Model:                                            GLM   Df Residuals:                     1161\n",
       "Model Family:                                Binomial   Df Model:                            7\n",
       "Link Function:                                cloglog   Scale:                          1.0000\n",
       "Method:                                          IRLS   Log-Likelihood:                -395.71\n",
       "Date:                                Sun, 08 Aug 2021   Deviance:                       791.42\n",
       "Time:                                        12:51:38   Pearson chi2:                 1.20e+03\n",
       "No. Iterations:                                     8                                         \n",
       "Covariance Type:                            nonrobust                                         \n",
       "================================================================================================================================\n",
       "                                                                   coef    std err          z      P>|z|      [0.025      0.975]\n",
       "--------------------------------------------------------------------------------------------------------------------------------\n",
       "const                                                           -2.1286      0.282     -7.559      0.000      -2.680      -1.577\n",
       "BCN_over_barri_satisfaction                                      1.0279      0.492      2.088      0.037       0.063       1.993\n",
       "Time_living_in_barri_I HAVE ALWAYS LIVED IN THE NEIGHBORHOOD    -1.7000      0.455     -3.738      0.000      -2.591      -0.809\n",
       "Time_living_in_barri_MORE THAN 10 YEARS                         -0.6740      0.268     -2.517      0.012      -1.199      -0.149\n",
       "Barri_satisfaction_FAIRLY SATISFIED                             -0.2029      0.467     -0.435      0.664      -1.117       0.712\n",
       "Barri_satisfaction_NOT SATISFIED                                 1.1042      0.674      1.637      0.102      -0.218       2.426\n",
       "Barri_comparison_NEITHER THE BEST, NOR THE WORST                 1.3209      0.189      7.001      0.000       0.951       1.691\n",
       "Barri_comparison_ONE OF THE WORST                                1.6804      0.326      5.155      0.000       1.041       2.319\n",
       "================================================================================================================================\n",
       "\"\"\""
      ]
     },
     "execution_count": 92,
     "metadata": {},
     "output_type": "execute_result"
    }
   ],
   "source": [
    "glm_scobit_results.summary()"
   ]
  },
  {
   "cell_type": "code",
   "execution_count": null,
   "metadata": {},
   "outputs": [],
   "source": []
  },
  {
   "cell_type": "code",
   "execution_count": 93,
   "metadata": {},
   "outputs": [
    {
     "data": {
      "text/plain": [
       "const                                                            0.131783\n",
       "BCN_over_barri_satisfaction                                      3.529763\n",
       "Time_living_in_barri_I HAVE ALWAYS LIVED IN THE NEIGHBORHOOD     0.149012\n",
       "Time_living_in_barri_MORE THAN 10 YEARS                          0.472743\n",
       "Barri_satisfaction_FAIRLY SATISFIED                              0.724150\n",
       "Barri_satisfaction_NOT SATISFIED                                10.252854\n",
       "Barri_comparison_NEITHER THE BEST, NOR THE WORST                 4.124498\n",
       "Barri_comparison_ONE OF THE WORST                                6.418561\n",
       "dtype: float64"
      ]
     },
     "execution_count": 93,
     "metadata": {},
     "output_type": "execute_result"
    }
   ],
   "source": [
    "odds_ratios(glm_logit_results)"
   ]
  },
  {
   "cell_type": "code",
   "execution_count": 94,
   "metadata": {},
   "outputs": [
    {
     "data": {
      "text/plain": [
       "const                                                           0.314971\n",
       "BCN_over_barri_satisfaction                                     2.027388\n",
       "Time_living_in_barri_I HAVE ALWAYS LIVED IN THE NEIGHBORHOOD    0.383949\n",
       "Time_living_in_barri_MORE THAN 10 YEARS                         0.662726\n",
       "Barri_satisfaction_FAIRLY SATISFIED                             0.830746\n",
       "Barri_satisfaction_NOT SATISFIED                                3.783546\n",
       "Barri_comparison_NEITHER THE BEST, NOR THE WORST                2.102972\n",
       "Barri_comparison_ONE OF THE WORST                               2.702658\n",
       "dtype: float64"
      ]
     },
     "execution_count": 94,
     "metadata": {},
     "output_type": "execute_result"
    }
   ],
   "source": [
    "odds_ratios(glm_probit_results)"
   ]
  },
  {
   "cell_type": "code",
   "execution_count": 95,
   "metadata": {},
   "outputs": [
    {
     "data": {
      "text/plain": [
       "const                                                           0.119007\n",
       "BCN_over_barri_satisfaction                                     2.795187\n",
       "Time_living_in_barri_I HAVE ALWAYS LIVED IN THE NEIGHBORHOOD    0.182683\n",
       "Time_living_in_barri_MORE THAN 10 YEARS                         0.509641\n",
       "Barri_satisfaction_FAIRLY SATISFIED                             0.816345\n",
       "Barri_satisfaction_NOT SATISFIED                                3.016699\n",
       "Barri_comparison_NEITHER THE BEST, NOR THE WORST                3.746953\n",
       "Barri_comparison_ONE OF THE WORST                               5.367487\n",
       "dtype: float64"
      ]
     },
     "execution_count": 95,
     "metadata": {},
     "output_type": "execute_result"
    }
   ],
   "source": [
    "odds_ratios(glm_scobit_results)"
   ]
  },
  {
   "cell_type": "code",
   "execution_count": null,
   "metadata": {},
   "outputs": [],
   "source": []
  },
  {
   "cell_type": "code",
   "execution_count": 96,
   "metadata": {},
   "outputs": [
    {
     "data": {
      "text/html": [
       "<div>\n",
       "<style scoped>\n",
       "    .dataframe tbody tr th:only-of-type {\n",
       "        vertical-align: middle;\n",
       "    }\n",
       "\n",
       "    .dataframe tbody tr th {\n",
       "        vertical-align: top;\n",
       "    }\n",
       "\n",
       "    .dataframe thead th {\n",
       "        text-align: right;\n",
       "    }\n",
       "</style>\n",
       "<table border=\"1\" class=\"dataframe\">\n",
       "  <thead>\n",
       "    <tr style=\"text-align: right;\">\n",
       "      <th>y_predict</th>\n",
       "      <th>0.0</th>\n",
       "      <th>1.0</th>\n",
       "    </tr>\n",
       "    <tr>\n",
       "      <th>y</th>\n",
       "      <th></th>\n",
       "      <th></th>\n",
       "    </tr>\n",
       "  </thead>\n",
       "  <tbody>\n",
       "    <tr>\n",
       "      <th>0.0</th>\n",
       "      <td>1012</td>\n",
       "      <td>2</td>\n",
       "    </tr>\n",
       "    <tr>\n",
       "      <th>1.0</th>\n",
       "      <td>139</td>\n",
       "      <td>16</td>\n",
       "    </tr>\n",
       "  </tbody>\n",
       "</table>\n",
       "</div>"
      ],
      "text/plain": [
       "y_predict   0.0  1.0\n",
       "y                   \n",
       "0.0        1012    2\n",
       "1.0         139   16"
      ]
     },
     "execution_count": 96,
     "metadata": {},
     "output_type": "execute_result"
    }
   ],
   "source": [
    "classification_table(glm_logit_results)"
   ]
  },
  {
   "cell_type": "code",
   "execution_count": 97,
   "metadata": {},
   "outputs": [
    {
     "data": {
      "text/html": [
       "<div>\n",
       "<style scoped>\n",
       "    .dataframe tbody tr th:only-of-type {\n",
       "        vertical-align: middle;\n",
       "    }\n",
       "\n",
       "    .dataframe tbody tr th {\n",
       "        vertical-align: top;\n",
       "    }\n",
       "\n",
       "    .dataframe thead th {\n",
       "        text-align: right;\n",
       "    }\n",
       "</style>\n",
       "<table border=\"1\" class=\"dataframe\">\n",
       "  <thead>\n",
       "    <tr style=\"text-align: right;\">\n",
       "      <th>y_predict</th>\n",
       "      <th>0.0</th>\n",
       "      <th>1.0</th>\n",
       "    </tr>\n",
       "    <tr>\n",
       "      <th>y</th>\n",
       "      <th></th>\n",
       "      <th></th>\n",
       "    </tr>\n",
       "  </thead>\n",
       "  <tbody>\n",
       "    <tr>\n",
       "      <th>0.0</th>\n",
       "      <td>1013</td>\n",
       "      <td>1</td>\n",
       "    </tr>\n",
       "    <tr>\n",
       "      <th>1.0</th>\n",
       "      <td>145</td>\n",
       "      <td>10</td>\n",
       "    </tr>\n",
       "  </tbody>\n",
       "</table>\n",
       "</div>"
      ],
      "text/plain": [
       "y_predict   0.0  1.0\n",
       "y                   \n",
       "0.0        1013    1\n",
       "1.0         145   10"
      ]
     },
     "execution_count": 97,
     "metadata": {},
     "output_type": "execute_result"
    }
   ],
   "source": [
    "classification_table(glm_probit_results)"
   ]
  },
  {
   "cell_type": "code",
   "execution_count": 98,
   "metadata": {},
   "outputs": [
    {
     "data": {
      "text/html": [
       "<div>\n",
       "<style scoped>\n",
       "    .dataframe tbody tr th:only-of-type {\n",
       "        vertical-align: middle;\n",
       "    }\n",
       "\n",
       "    .dataframe tbody tr th {\n",
       "        vertical-align: top;\n",
       "    }\n",
       "\n",
       "    .dataframe thead th {\n",
       "        text-align: right;\n",
       "    }\n",
       "</style>\n",
       "<table border=\"1\" class=\"dataframe\">\n",
       "  <thead>\n",
       "    <tr style=\"text-align: right;\">\n",
       "      <th>y_predict</th>\n",
       "      <th>0.0</th>\n",
       "      <th>1.0</th>\n",
       "    </tr>\n",
       "    <tr>\n",
       "      <th>y</th>\n",
       "      <th></th>\n",
       "      <th></th>\n",
       "    </tr>\n",
       "  </thead>\n",
       "  <tbody>\n",
       "    <tr>\n",
       "      <th>0.0</th>\n",
       "      <td>1012</td>\n",
       "      <td>2</td>\n",
       "    </tr>\n",
       "    <tr>\n",
       "      <th>1.0</th>\n",
       "      <td>140</td>\n",
       "      <td>15</td>\n",
       "    </tr>\n",
       "  </tbody>\n",
       "</table>\n",
       "</div>"
      ],
      "text/plain": [
       "y_predict   0.0  1.0\n",
       "y                   \n",
       "0.0        1012    2\n",
       "1.0         140   15"
      ]
     },
     "execution_count": 98,
     "metadata": {},
     "output_type": "execute_result"
    }
   ],
   "source": [
    "classification_table(glm_scobit_results)"
   ]
  },
  {
   "cell_type": "code",
   "execution_count": null,
   "metadata": {},
   "outputs": [],
   "source": []
  },
  {
   "cell_type": "code",
   "execution_count": 99,
   "metadata": {},
   "outputs": [
    {
     "data": {
      "image/png": "[encoded data removed]",
      "text/plain": [
       "<Figure size 432x288 with 1 Axes>"
      ]
     },
     "metadata": {},
     "output_type": "display_data"
    }
   ],
   "source": [
    "plot_roc_auc(glm_logit_results)"
   ]
  },
  {
   "cell_type": "code",
   "execution_count": 100,
   "metadata": {},
   "outputs": [
    {
     "data": {
      "image/png": "[encoded data removed]",
      "text/plain": [
       "<Figure size 432x288 with 1 Axes>"
      ]
     },
     "metadata": {},
     "output_type": "display_data"
    }
   ],
   "source": [
    "plot_roc_auc(glm_probit_results)"
   ]
  },
  {
   "cell_type": "code",
   "execution_count": 101,
   "metadata": {},
   "outputs": [
    {
     "data": {
      "image/png": "[encoded data removed]",
      "text/plain": [
       "<Figure size 432x288 with 1 Axes>"
      ]
     },
     "metadata": {},
     "output_type": "display_data"
    }
   ],
   "source": [
    "plot_roc_auc(glm_scobit_results)"
   ]
  },
  {
   "cell_type": "code",
   "execution_count": null,
   "metadata": {},
   "outputs": [],
   "source": []
  },
  {
   "cell_type": "code",
   "execution_count": 102,
   "metadata": {},
   "outputs": [
    {
     "name": "stdout",
     "output_type": "stream",
     "text": [
      "Logit\n",
      "Adjusted Pseudo R2: 0.12028994271640503\n",
      "Adj Count R2: 0.09\n"
     ]
    }
   ],
   "source": [
    "print(\"Logit\")\n",
    "adj_pseudo_r2(glm_logit_results)\n",
    "adj_count_r2(glm_logit_results)"
   ]
  },
  {
   "cell_type": "code",
   "execution_count": 103,
   "metadata": {},
   "outputs": [
    {
     "name": "stdout",
     "output_type": "stream",
     "text": [
      "Probit\n",
      "Adjusted Pseudo R2: 0.11872289792883539\n",
      "Adj Count R2: 0.058\n"
     ]
    }
   ],
   "source": [
    "print(\"Probit\")\n",
    "adj_pseudo_r2(glm_probit_results)\n",
    "adj_count_r2(glm_probit_results)"
   ]
  },
  {
   "cell_type": "code",
   "execution_count": 104,
   "metadata": {},
   "outputs": [
    {
     "name": "stdout",
     "output_type": "stream",
     "text": [
      "Scobit\n",
      "Adjusted Pseudo R2: 0.1195870061757397\n",
      "Adj Count R2: 0.084\n"
     ]
    }
   ],
   "source": [
    "print(\"Scobit\")\n",
    "adj_pseudo_r2(glm_scobit_results)\n",
    "adj_count_r2(glm_scobit_results)"
   ]
  },
  {
   "cell_type": "code",
   "execution_count": null,
   "metadata": {},
   "outputs": [],
   "source": []
  },
  {
   "cell_type": "code",
   "execution_count": 105,
   "metadata": {},
   "outputs": [
    {
     "name": "stdout",
     "output_type": "stream",
     "text": [
      "Logit \n",
      " AIC: 806.778886601712 BIC: -7410.413612667359\n"
     ]
    },
    {
     "name": "stderr",
     "output_type": "stream",
     "text": [
      "C:\\Users\\THINK\\anaconda3\\lib\\site-packages\\statsmodels\\genmod\\generalized_linear_model.py:1731: FutureWarning: The bic value is computed using the deviance formula. After 0.13 this will change to the log-likelihood based formula. This change has no impact on the relative rank of models compared using BIC. You can directly access the log-likelihood version using the `bic_llf` attribute. You can suppress this message by calling statsmodels.genmod.generalized_linear_model.SET_USE_BIC_LLF with True to get the LLF-based version now or False to retainthe deviance version.\n",
      "  FutureWarning\n"
     ]
    }
   ],
   "source": [
    "print(\"Logit \\n AIC:\", glm_logit_results.aic, \"BIC:\", glm_logit_results.bic)"
   ]
  },
  {
   "cell_type": "code",
   "execution_count": 106,
   "metadata": {},
   "outputs": [
    {
     "name": "stdout",
     "output_type": "stream",
     "text": [
      "Probit \n",
      " AIC: 808.2124550245735 BIC: -7408.980044244498\n"
     ]
    }
   ],
   "source": [
    "print(\"Probit \\n AIC:\", glm_probit_results.aic, \"BIC:\", glm_probit_results.bic)"
   ]
  },
  {
   "cell_type": "code",
   "execution_count": 107,
   "metadata": {},
   "outputs": [
    {
     "name": "stdout",
     "output_type": "stream",
     "text": [
      "Scobit \n",
      " AIC: 807.4219490310483 BIC: -7409.770550238023\n"
     ]
    }
   ],
   "source": [
    "print(\"Scobit \\n AIC:\", glm_scobit_results.aic, \"BIC:\", glm_scobit_results.bic)"
   ]
  },
  {
   "cell_type": "code",
   "execution_count": null,
   "metadata": {},
   "outputs": [],
   "source": []
  },
  {
   "cell_type": "markdown",
   "metadata": {},
   "source": [
    "Results of AIC, BIC, McFadden's pseudo R2 and adjusted count R2 indicate that the best model is logit."
   ]
  },
  {
   "cell_type": "code",
   "execution_count": null,
   "metadata": {},
   "outputs": [],
   "source": []
  },
  {
   "cell_type": "code",
   "execution_count": 108,
   "metadata": {},
   "outputs": [
    {
     "data": {
      "text/plain": [
       "(1169, 8)"
      ]
     },
     "execution_count": 108,
     "metadata": {},
     "output_type": "execute_result"
    }
   ],
   "source": [
    "x.shape"
   ]
  },
  {
   "cell_type": "code",
   "execution_count": null,
   "metadata": {},
   "outputs": [],
   "source": []
  },
  {
   "cell_type": "markdown",
   "metadata": {},
   "source": [
    "### Marginal effects for logit model"
   ]
  },
  {
   "cell_type": "code",
   "execution_count": 109,
   "metadata": {},
   "outputs": [
    {
     "name": "stdout",
     "output_type": "stream",
     "text": [
      "Optimization terminated successfully.\n",
      "         Current function value: 0.338229\n",
      "         Iterations 7\n",
      "                                   Logit Regression Results                                   \n",
      "==============================================================================================\n",
      "Dep. Variable:     Would_live_in_another_neighborhood   No. Observations:                 1169\n",
      "Model:                                          Logit   Df Residuals:                     1161\n",
      "Method:                                           MLE   Df Model:                            7\n",
      "Date:                                Sun, 08 Aug 2021   Pseudo R-squ.:                  0.1356\n",
      "Time:                                        12:51:39   Log-Likelihood:                -395.39\n",
      "converged:                                       True   LL-Null:                       -457.41\n",
      "Covariance Type:                            nonrobust   LLR p-value:                 1.100e-23\n",
      "================================================================================================================================\n",
      "                                                                   coef    std err          z      P>|z|      [0.025      0.975]\n",
      "--------------------------------------------------------------------------------------------------------------------------------\n",
      "const                                                           -2.0266      0.320     -6.333      0.000      -2.654      -1.399\n",
      "BCN_over_barri_satisfaction                                      1.2612      0.601      2.099      0.036       0.083       2.439\n",
      "Time_living_in_barri_I HAVE ALWAYS LIVED IN THE NEIGHBORHOOD    -1.9037      0.509     -3.741      0.000      -2.901      -0.906\n",
      "Time_living_in_barri_MORE THAN 10 YEARS                         -0.7492      0.314     -2.383      0.017      -1.365      -0.133\n",
      "Barri_satisfaction_FAIRLY SATISFIED                             -0.3228      0.554     -0.583      0.560      -1.408       0.763\n",
      "Barri_satisfaction_NOT SATISFIED                                 2.3276      1.223      1.902      0.057      -0.070       4.726\n",
      "Barri_comparison_NEITHER THE BEST, NOR THE WORST                 1.4169      0.202      7.012      0.000       1.021       1.813\n",
      "Barri_comparison_ONE OF THE WORST                                1.8592      0.390      4.764      0.000       1.094       2.624\n",
      "================================================================================================================================\n"
     ]
    }
   ],
   "source": [
    "logit_mod = sm.Logit(y, x)\n",
    "logit_res = logit_mod.fit()\n",
    "print(logit_res.summary())"
   ]
  },
  {
   "cell_type": "code",
   "execution_count": 110,
   "metadata": {},
   "outputs": [
    {
     "name": "stdout",
     "output_type": "stream",
     "text": [
      "                Logit Marginal Effects               \n",
      "=====================================================\n",
      "Dep. Variable:     Would_live_in_another_neighborhood\n",
      "Method:                                          dydx\n",
      "At:                                           overall\n",
      "================================================================================================================================\n",
      "                                                                  dy/dx    std err          z      P>|z|      [0.025      0.975]\n",
      "--------------------------------------------------------------------------------------------------------------------------------\n",
      "BCN_over_barri_satisfaction                                      0.1265      0.060      2.107      0.035       0.009       0.244\n",
      "Time_living_in_barri_I HAVE ALWAYS LIVED IN THE NEIGHBORHOOD    -0.1910      0.051     -3.751      0.000      -0.291      -0.091\n",
      "Time_living_in_barri_MORE THAN 10 YEARS                         -0.0752      0.031     -2.393      0.017      -0.137      -0.014\n",
      "Barri_satisfaction_FAIRLY SATISFIED                             -0.0324      0.056     -0.583      0.560      -0.141       0.077\n",
      "Barri_satisfaction_NOT SATISFIED                                 0.2335      0.122      1.912      0.056      -0.006       0.473\n",
      "Barri_comparison_NEITHER THE BEST, NOR THE WORST                 0.1422      0.020      7.027      0.000       0.103       0.182\n",
      "Barri_comparison_ONE OF THE WORST                                0.1865      0.039      4.804      0.000       0.110       0.263\n",
      "================================================================================================================================\n"
     ]
    }
   ],
   "source": [
    "logit_margeff = logit_res.get_margeff()\n",
    "print(logit_margeff.summary())"
   ]
  },
  {
   "cell_type": "code",
   "execution_count": null,
   "metadata": {},
   "outputs": [],
   "source": []
  },
  {
   "cell_type": "markdown",
   "metadata": {},
   "source": [
    "### Linktest"
   ]
  },
  {
   "cell_type": "code",
   "execution_count": 111,
   "metadata": {},
   "outputs": [],
   "source": [
    "def linktest(results):\n",
    "    linktest_dict = {}\n",
    "    linktest_dict['yhat'] = results.predict(x)\n",
    "    linktest_dict['yhat_2'] = results.predict(x)**2\n",
    "    linktest_df = pd.DataFrame.from_dict(linktest_dict)\n",
    "    linktest_df = sm.add_constant(linktest_df)\n",
    "    return sm.GLM(y, linktest_df, family=sm.families.Binomial()).fit().summary()"
   ]
  },
  {
   "cell_type": "code",
   "execution_count": 112,
   "metadata": {},
   "outputs": [
    {
     "data": {
      "text/html": [
       "<table class=\"simpletable\">\n",
       "<caption>Generalized Linear Model Regression Results</caption>\n",
       "<tr>\n",
       "  <th>Dep. Variable:</th>   <td>Would_live_in_another_neighborhood</td> <th>  No. Observations:  </th>  <td>  1169</td> \n",
       "</tr>\n",
       "<tr>\n",
       "  <th>Model:</th>                           <td>GLM</td>                <th>  Df Residuals:      </th>  <td>  1166</td> \n",
       "</tr>\n",
       "<tr>\n",
       "  <th>Model Family:</th>                 <td>Binomial</td>              <th>  Df Model:          </th>  <td>     2</td> \n",
       "</tr>\n",
       "<tr>\n",
       "  <th>Link Function:</th>                  <td>logit</td>               <th>  Scale:             </th> <td>  1.0000</td>\n",
       "</tr>\n",
       "<tr>\n",
       "  <th>Method:</th>                         <td>IRLS</td>                <th>  Log-Likelihood:    </th> <td> -395.24</td>\n",
       "</tr>\n",
       "<tr>\n",
       "  <th>Date:</th>                     <td>Sun, 08 Aug 2021</td>          <th>  Deviance:          </th> <td>  790.48</td>\n",
       "</tr>\n",
       "<tr>\n",
       "  <th>Time:</th>                         <td>12:51:39</td>              <th>  Pearson chi2:      </th> <td>1.15e+03</td>\n",
       "</tr>\n",
       "<tr>\n",
       "  <th>No. Iterations:</th>                   <td>5</td>                 <th>                     </th>     <td> </td>   \n",
       "</tr>\n",
       "<tr>\n",
       "  <th>Covariance Type:</th>              <td>nonrobust</td>             <th>                     </th>     <td> </td>   \n",
       "</tr>\n",
       "</table>\n",
       "<table class=\"simpletable\">\n",
       "<tr>\n",
       "     <td></td>       <th>coef</th>     <th>std err</th>      <th>z</th>      <th>P>|z|</th>  <th>[0.025</th>    <th>0.975]</th>  \n",
       "</tr>\n",
       "<tr>\n",
       "  <th>const</th>  <td>   -3.2912</td> <td>    0.216</td> <td>  -15.206</td> <td> 0.000</td> <td>   -3.715</td> <td>   -2.867</td>\n",
       "</tr>\n",
       "<tr>\n",
       "  <th>yhat</th>   <td>    9.7212</td> <td>    1.568</td> <td>    6.201</td> <td> 0.000</td> <td>    6.649</td> <td>   12.794</td>\n",
       "</tr>\n",
       "<tr>\n",
       "  <th>yhat_2</th> <td>   -4.2958</td> <td>    2.291</td> <td>   -1.875</td> <td> 0.061</td> <td>   -8.787</td> <td>    0.195</td>\n",
       "</tr>\n",
       "</table>"
      ],
      "text/plain": [
       "<class 'statsmodels.iolib.summary.Summary'>\n",
       "\"\"\"\n",
       "                         Generalized Linear Model Regression Results                          \n",
       "==============================================================================================\n",
       "Dep. Variable:     Would_live_in_another_neighborhood   No. Observations:                 1169\n",
       "Model:                                            GLM   Df Residuals:                     1166\n",
       "Model Family:                                Binomial   Df Model:                            2\n",
       "Link Function:                                  logit   Scale:                          1.0000\n",
       "Method:                                          IRLS   Log-Likelihood:                -395.24\n",
       "Date:                                Sun, 08 Aug 2021   Deviance:                       790.48\n",
       "Time:                                        12:51:39   Pearson chi2:                 1.15e+03\n",
       "No. Iterations:                                     5                                         \n",
       "Covariance Type:                            nonrobust                                         \n",
       "==============================================================================\n",
       "                 coef    std err          z      P>|z|      [0.025      0.975]\n",
       "------------------------------------------------------------------------------\n",
       "const         -3.2912      0.216    -15.206      0.000      -3.715      -2.867\n",
       "yhat           9.7212      1.568      6.201      0.000       6.649      12.794\n",
       "yhat_2        -4.2958      2.291     -1.875      0.061      -8.787       0.195\n",
       "==============================================================================\n",
       "\"\"\""
      ]
     },
     "execution_count": 112,
     "metadata": {},
     "output_type": "execute_result"
    }
   ],
   "source": [
    "linktest(glm_logit_results)"
   ]
  },
  {
   "cell_type": "code",
   "execution_count": null,
   "metadata": {},
   "outputs": [],
   "source": []
  }
 ],
 "metadata": {
  "kernelspec": {
   "display_name": "Python 3",
   "language": "python",
   "name": "python3"
  },
  "language_info": {
   "codemirror_mode": {
    "name": "ipython",
    "version": 3
   },
   "file_extension": ".py",
   "mimetype": "text/x-python",
   "name": "python",
   "nbconvert_exporter": "python",
   "pygments_lexer": "ipython3",
   "version": "3.7.6"
  }
 },
 "nbformat": 4,
 "nbformat_minor": 4
}
