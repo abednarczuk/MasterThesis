{
 "cells": [
  {
   "cell_type": "markdown",
   "metadata": {},
   "source": [
    "Aleksandra Bednarczuk"
   ]
  },
  {
   "cell_type": "markdown",
   "metadata": {},
   "source": [
    "# Predictors of elderly citizens willingness to stay in the neighbourhood\n",
    "# Logistic regression"
   ]
  },
  {
   "cell_type": "markdown",
   "metadata": {},
   "source": [
    "Original dataset, including barris among predictors"
   ]
  },
  {
   "cell_type": "code",
   "execution_count": 1,
   "metadata": {},
   "outputs": [],
   "source": [
    "import pandas as pd\n",
    "import numpy as np\n",
    "\n",
    "import matplotlib.pyplot as plt"
   ]
  },
  {
   "cell_type": "code",
   "execution_count": 2,
   "metadata": {},
   "outputs": [],
   "source": [
    "from imblearn.over_sampling import SMOTE\n",
    "\n",
    "import statsmodels.api as sm\n",
    "import statsmodels.formula.api as smf\n",
    "\n",
    "from sklearn.model_selection import train_test_split\n",
    "from sklearn.feature_selection import RFE\n",
    "from sklearn.linear_model import LogisticRegression\n",
    "\n",
    "from sklearn.metrics import accuracy_score\n",
    "from sklearn.metrics import classification_report\n",
    "from sklearn.metrics import confusion_matrix\n",
    "from sklearn.metrics import roc_auc_score\n",
    "from sklearn.metrics import roc_curve\n",
    "from sklearn.metrics import r2_score\n",
    "\n",
    "from sklearn.feature_selection import SelectKBest\n",
    "from sklearn.feature_selection import chi2\n",
    "from sklearn.feature_selection import mutual_info_classif\n",
    "from sklearn.feature_selection import f_classif\n",
    "from sklearn.preprocessing import LabelEncoder\n",
    "from sklearn.preprocessing import OrdinalEncoder\n",
    "\n",
    "from scipy import stats"
   ]
  },
  {
   "cell_type": "code",
   "execution_count": null,
   "metadata": {},
   "outputs": [],
   "source": []
  },
  {
   "cell_type": "code",
   "execution_count": 3,
   "metadata": {},
   "outputs": [],
   "source": [
    "data = pd.read_pickle(\"survey_transformed_2019.pkl\")"
   ]
  },
  {
   "cell_type": "code",
   "execution_count": 4,
   "metadata": {},
   "outputs": [],
   "source": [
    "data.reset_index(drop=True, inplace=True)"
   ]
  },
  {
   "cell_type": "code",
   "execution_count": 5,
   "metadata": {},
   "outputs": [
    {
     "data": {
      "text/html": [
       "<div>\n",
       "<style scoped>\n",
       "    .dataframe tbody tr th:only-of-type {\n",
       "        vertical-align: middle;\n",
       "    }\n",
       "\n",
       "    .dataframe tbody tr th {\n",
       "        vertical-align: top;\n",
       "    }\n",
       "\n",
       "    .dataframe thead th {\n",
       "        text-align: right;\n",
       "    }\n",
       "</style>\n",
       "<table border=\"1\" class=\"dataframe\">\n",
       "  <thead>\n",
       "    <tr style=\"text-align: right;\">\n",
       "      <th></th>\n",
       "      <th>Would_live_in_another_neighborhood</th>\n",
       "      <th>District</th>\n",
       "      <th>Woman</th>\n",
       "      <th>Car</th>\n",
       "      <th>Support_with_housework</th>\n",
       "      <th>Owner</th>\n",
       "      <th>House_size</th>\n",
       "      <th>No_of_people_in_the_house</th>\n",
       "      <th>Financial_situation</th>\n",
       "      <th>Disability</th>\n",
       "      <th>...</th>\n",
       "      <th>CIRCULATION AND TRAFFIC</th>\n",
       "      <th>BUS</th>\n",
       "      <th>CITIZEN SECURITY IN THE CITY AS A WHOLE</th>\n",
       "      <th>CITY MANAGEMENT</th>\n",
       "      <th>BCN_over_barri_evolution</th>\n",
       "      <th>BCN_over_barri_future</th>\n",
       "      <th>BCN_over_barri_satisfaction</th>\n",
       "      <th>BCN_over_barri_transport</th>\n",
       "      <th>BCN_over_barri_management</th>\n",
       "      <th>BCN_over_barri_security</th>\n",
       "    </tr>\n",
       "  </thead>\n",
       "  <tbody>\n",
       "    <tr>\n",
       "      <th>0</th>\n",
       "      <td>0.0</td>\n",
       "      <td>SANTS - MONTJUÏC</td>\n",
       "      <td>0</td>\n",
       "      <td>1</td>\n",
       "      <td>0.0</td>\n",
       "      <td>1.0</td>\n",
       "      <td>51-100 M2</td>\n",
       "      <td>TWO</td>\n",
       "      <td>GOOD</td>\n",
       "      <td>0.0</td>\n",
       "      <td>...</td>\n",
       "      <td>1.0</td>\n",
       "      <td>1.0</td>\n",
       "      <td>0.0</td>\n",
       "      <td>1</td>\n",
       "      <td>0</td>\n",
       "      <td>0</td>\n",
       "      <td>0</td>\n",
       "      <td>0</td>\n",
       "      <td>0</td>\n",
       "      <td>0</td>\n",
       "    </tr>\n",
       "    <tr>\n",
       "      <th>1</th>\n",
       "      <td>0.0</td>\n",
       "      <td>SANTS - MONTJUÏC</td>\n",
       "      <td>1</td>\n",
       "      <td>0</td>\n",
       "      <td>0.0</td>\n",
       "      <td>1.0</td>\n",
       "      <td>51-100 M2</td>\n",
       "      <td>ONE</td>\n",
       "      <td>BAD</td>\n",
       "      <td>0.0</td>\n",
       "      <td>...</td>\n",
       "      <td>0.0</td>\n",
       "      <td>1.0</td>\n",
       "      <td>1.0</td>\n",
       "      <td>0</td>\n",
       "      <td>1</td>\n",
       "      <td>0</td>\n",
       "      <td>0</td>\n",
       "      <td>0</td>\n",
       "      <td>0</td>\n",
       "      <td>0</td>\n",
       "    </tr>\n",
       "    <tr>\n",
       "      <th>2</th>\n",
       "      <td>0.0</td>\n",
       "      <td>SANTS - MONTJUÏC</td>\n",
       "      <td>1</td>\n",
       "      <td>0</td>\n",
       "      <td>1.0</td>\n",
       "      <td>0.0</td>\n",
       "      <td>51-100 M2</td>\n",
       "      <td>ONE</td>\n",
       "      <td>GOOD</td>\n",
       "      <td>0.0</td>\n",
       "      <td>...</td>\n",
       "      <td>0.0</td>\n",
       "      <td>1.0</td>\n",
       "      <td>0.0</td>\n",
       "      <td>0</td>\n",
       "      <td>0</td>\n",
       "      <td>0</td>\n",
       "      <td>0</td>\n",
       "      <td>1</td>\n",
       "      <td>0</td>\n",
       "      <td>0</td>\n",
       "    </tr>\n",
       "    <tr>\n",
       "      <th>3</th>\n",
       "      <td>1.0</td>\n",
       "      <td>SANTS - MONTJUÏC</td>\n",
       "      <td>0</td>\n",
       "      <td>0</td>\n",
       "      <td>0.0</td>\n",
       "      <td>1.0</td>\n",
       "      <td>&lt; 50 M2</td>\n",
       "      <td>TWO</td>\n",
       "      <td>BAD</td>\n",
       "      <td>1.0</td>\n",
       "      <td>...</td>\n",
       "      <td>0.0</td>\n",
       "      <td>1.0</td>\n",
       "      <td>0.0</td>\n",
       "      <td>0</td>\n",
       "      <td>0</td>\n",
       "      <td>0</td>\n",
       "      <td>1</td>\n",
       "      <td>0</td>\n",
       "      <td>0</td>\n",
       "      <td>0</td>\n",
       "    </tr>\n",
       "    <tr>\n",
       "      <th>4</th>\n",
       "      <td>0.0</td>\n",
       "      <td>SANTS - MONTJUÏC</td>\n",
       "      <td>1</td>\n",
       "      <td>0</td>\n",
       "      <td>1.0</td>\n",
       "      <td>1.0</td>\n",
       "      <td>51-100 M2</td>\n",
       "      <td>TWO</td>\n",
       "      <td>GOOD</td>\n",
       "      <td>0.0</td>\n",
       "      <td>...</td>\n",
       "      <td>0.0</td>\n",
       "      <td>0.0</td>\n",
       "      <td>1.0</td>\n",
       "      <td>1</td>\n",
       "      <td>0</td>\n",
       "      <td>1</td>\n",
       "      <td>0</td>\n",
       "      <td>0</td>\n",
       "      <td>0</td>\n",
       "      <td>0</td>\n",
       "    </tr>\n",
       "  </tbody>\n",
       "</table>\n",
       "<p>5 rows × 46 columns</p>\n",
       "</div>"
      ],
      "text/plain": [
       "   Would_live_in_another_neighborhood          District  Woman  Car  \\\n",
       "0                                 0.0  SANTS - MONTJUÏC      0    1   \n",
       "1                                 0.0  SANTS - MONTJUÏC      1    0   \n",
       "2                                 0.0  SANTS - MONTJUÏC      1    0   \n",
       "3                                 1.0  SANTS - MONTJUÏC      0    0   \n",
       "4                                 0.0  SANTS - MONTJUÏC      1    0   \n",
       "\n",
       "   Support_with_housework  Owner House_size No_of_people_in_the_house  \\\n",
       "0                     0.0    1.0  51-100 M2                       TWO   \n",
       "1                     0.0    1.0  51-100 M2                       ONE   \n",
       "2                     1.0    0.0  51-100 M2                       ONE   \n",
       "3                     0.0    1.0    < 50 M2                       TWO   \n",
       "4                     1.0    1.0  51-100 M2                       TWO   \n",
       "\n",
       "  Financial_situation  Disability  ...  CIRCULATION AND TRAFFIC  BUS  \\\n",
       "0                GOOD         0.0  ...                      1.0  1.0   \n",
       "1                 BAD         0.0  ...                      0.0  1.0   \n",
       "2                GOOD         0.0  ...                      0.0  1.0   \n",
       "3                 BAD         1.0  ...                      0.0  1.0   \n",
       "4                GOOD         0.0  ...                      0.0  0.0   \n",
       "\n",
       "  CITIZEN SECURITY IN THE CITY AS A WHOLE CITY MANAGEMENT  \\\n",
       "0                                     0.0               1   \n",
       "1                                     1.0               0   \n",
       "2                                     0.0               0   \n",
       "3                                     0.0               0   \n",
       "4                                     1.0               1   \n",
       "\n",
       "  BCN_over_barri_evolution BCN_over_barri_future BCN_over_barri_satisfaction  \\\n",
       "0                        0                     0                           0   \n",
       "1                        1                     0                           0   \n",
       "2                        0                     0                           0   \n",
       "3                        0                     0                           1   \n",
       "4                        0                     1                           0   \n",
       "\n",
       "  BCN_over_barri_transport BCN_over_barri_management BCN_over_barri_security  \n",
       "0                        0                         0                       0  \n",
       "1                        0                         0                       0  \n",
       "2                        1                         0                       0  \n",
       "3                        0                         0                       0  \n",
       "4                        0                         0                       0  \n",
       "\n",
       "[5 rows x 46 columns]"
      ]
     },
     "execution_count": 5,
     "metadata": {},
     "output_type": "execute_result"
    }
   ],
   "source": [
    "data.head()"
   ]
  },
  {
   "cell_type": "code",
   "execution_count": null,
   "metadata": {},
   "outputs": [],
   "source": []
  },
  {
   "cell_type": "code",
   "execution_count": 6,
   "metadata": {},
   "outputs": [
    {
     "data": {
      "text/plain": [
       "(1169, 46)"
      ]
     },
     "execution_count": 6,
     "metadata": {},
     "output_type": "execute_result"
    }
   ],
   "source": [
    "data.shape"
   ]
  },
  {
   "cell_type": "code",
   "execution_count": 7,
   "metadata": {},
   "outputs": [
    {
     "data": {
      "text/plain": [
       "['Would_live_in_another_neighborhood',\n",
       " 'District',\n",
       " 'Woman',\n",
       " 'Car',\n",
       " 'Support_with_housework',\n",
       " 'Owner',\n",
       " 'House_size',\n",
       " 'No_of_people_in_the_house',\n",
       " 'Financial_situation',\n",
       " 'Disability',\n",
       " 'Living_with_disabled_person',\n",
       " 'Time_living_in_barri',\n",
       " 'Barri_evolution',\n",
       " 'BCN_evolution',\n",
       " 'Barri_future',\n",
       " 'BCN_future',\n",
       " 'Barri_satisfaction',\n",
       " 'BCN_satisfaction',\n",
       " 'Barri_security',\n",
       " 'BCN_security',\n",
       " 'Barri_management',\n",
       " 'BCN_management',\n",
       " 'Barri_comparison',\n",
       " 'Barri_association',\n",
       " 'Barri_transport',\n",
       " 'BCN_transport',\n",
       " 'Barri_problem_with_security',\n",
       " 'Barri_problem_with_streets_cleaning',\n",
       " 'Barri_problem_with_mobility',\n",
       " 'Residential_satisfaction',\n",
       " 'GARBAGE COLLECTION',\n",
       " 'STREETS CLEANING',\n",
       " 'NOISE',\n",
       " 'GREEN AREAS',\n",
       " 'PUBLIC LIGHTING',\n",
       " 'ASPHALT AND STREET CONSERVATION',\n",
       " 'CIRCULATION AND TRAFFIC',\n",
       " 'BUS',\n",
       " 'CITIZEN SECURITY IN THE CITY AS A WHOLE',\n",
       " 'CITY MANAGEMENT',\n",
       " 'BCN_over_barri_evolution',\n",
       " 'BCN_over_barri_future',\n",
       " 'BCN_over_barri_satisfaction',\n",
       " 'BCN_over_barri_transport',\n",
       " 'BCN_over_barri_management',\n",
       " 'BCN_over_barri_security']"
      ]
     },
     "execution_count": 7,
     "metadata": {},
     "output_type": "execute_result"
    }
   ],
   "source": [
    "data.columns.tolist()"
   ]
  },
  {
   "cell_type": "code",
   "execution_count": null,
   "metadata": {},
   "outputs": [],
   "source": []
  },
  {
   "cell_type": "code",
   "execution_count": 8,
   "metadata": {},
   "outputs": [],
   "source": [
    "x_var = ['District',\n",
    " 'Woman',\n",
    " 'Car',\n",
    " 'Support_with_housework',\n",
    " 'Owner',\n",
    " 'House_size',\n",
    " 'No_of_people_in_the_house',\n",
    " 'Financial_situation',\n",
    " 'Disability',\n",
    " 'Living_with_disabled_person',\n",
    " 'BCN_evolution',\n",
    " 'BCN_future',\n",
    " 'Barri_association',\n",
    " 'BCN_transport',\n",
    " 'GARBAGE COLLECTION',\n",
    " 'STREETS CLEANING',\n",
    " 'NOISE',\n",
    " 'GREEN AREAS',\n",
    " 'PUBLIC LIGHTING',\n",
    " 'ASPHALT AND STREET CONSERVATION',\n",
    " 'CIRCULATION AND TRAFFIC',\n",
    " 'BUS',\n",
    " 'CITIZEN SECURITY IN THE CITY AS A WHOLE',\n",
    " 'CITY MANAGEMENT']"
   ]
  },
  {
   "cell_type": "code",
   "execution_count": null,
   "metadata": {},
   "outputs": [],
   "source": []
  },
  {
   "cell_type": "code",
   "execution_count": 9,
   "metadata": {},
   "outputs": [],
   "source": [
    "y = data['Residential_satisfaction']"
   ]
  },
  {
   "cell_type": "code",
   "execution_count": null,
   "metadata": {},
   "outputs": [],
   "source": []
  },
  {
   "cell_type": "code",
   "execution_count": 10,
   "metadata": {},
   "outputs": [],
   "source": [
    "x = pd.get_dummies(data[x_var])"
   ]
  },
  {
   "cell_type": "code",
   "execution_count": 11,
   "metadata": {},
   "outputs": [
    {
     "data": {
      "text/plain": [
       "['Woman',\n",
       " 'Car',\n",
       " 'Support_with_housework',\n",
       " 'Owner',\n",
       " 'Disability',\n",
       " 'Living_with_disabled_person',\n",
       " 'Barri_association',\n",
       " 'GARBAGE COLLECTION',\n",
       " 'STREETS CLEANING',\n",
       " 'NOISE',\n",
       " 'GREEN AREAS',\n",
       " 'PUBLIC LIGHTING',\n",
       " 'ASPHALT AND STREET CONSERVATION',\n",
       " 'CIRCULATION AND TRAFFIC',\n",
       " 'BUS',\n",
       " 'CITIZEN SECURITY IN THE CITY AS A WHOLE',\n",
       " 'CITY MANAGEMENT',\n",
       " 'District_CIUTAT VELLA',\n",
       " 'District_EIXAMPLE',\n",
       " 'District_GRÀCIA',\n",
       " 'District_HORTA - GUINARDÓ',\n",
       " 'District_LES CORTS',\n",
       " 'District_NOU BARRIS',\n",
       " 'District_SANT ANDREU',\n",
       " 'District_SANT MARTÍ',\n",
       " 'District_SANTS - MONTJUÏC',\n",
       " 'District_SARRIÀ - SANT GERVASI',\n",
       " 'House_size_101-150 M2',\n",
       " 'House_size_51-100 M2',\n",
       " 'House_size_< 50 M2',\n",
       " 'House_size_> 150 M2',\n",
       " \"House_size_I DON'T KNOW\",\n",
       " 'No_of_people_in_the_house_ONE',\n",
       " 'No_of_people_in_the_house_THREE OR MORE',\n",
       " 'No_of_people_in_the_house_TWO',\n",
       " 'Financial_situation_BAD',\n",
       " 'Financial_situation_GOOD',\n",
       " 'BCN_evolution_IT HAS IMPROVED',\n",
       " 'BCN_evolution_IT HAS WORSENED',\n",
       " 'BCN_evolution_IT IS THE SAME',\n",
       " 'BCN_future_IT WILL IMPROVE',\n",
       " 'BCN_future_IT WILL STAY THE SAME',\n",
       " 'BCN_future_IT WILL WORSEN',\n",
       " 'BCN_transport_BAD',\n",
       " 'BCN_transport_GOOD',\n",
       " 'BCN_transport_NEITHER BAD, NOR GOOD']"
      ]
     },
     "execution_count": 11,
     "metadata": {},
     "output_type": "execute_result"
    }
   ],
   "source": [
    "x.columns.tolist()"
   ]
  },
  {
   "cell_type": "code",
   "execution_count": 12,
   "metadata": {},
   "outputs": [],
   "source": [
    "for i in ['District_EIXAMPLE',\n",
    "  'House_size_< 50 M2',\n",
    "  'No_of_people_in_the_house_ONE',\n",
    " 'Financial_situation_BAD',\n",
    "  'BCN_evolution_IT HAS WORSENED',\n",
    "  'BCN_future_IT WILL WORSEN',\n",
    " 'BCN_transport_BAD']:\n",
    "    del x[i]"
   ]
  },
  {
   "cell_type": "code",
   "execution_count": 13,
   "metadata": {},
   "outputs": [
    {
     "data": {
      "text/plain": [
       "<matplotlib.axes._subplots.AxesSubplot at 0x11ea8294c88>"
      ]
     },
     "execution_count": 13,
     "metadata": {},
     "output_type": "execute_result"
    },
    {
     "data": {
      "image/png": "[encoded data removed]",
      "text/plain": [
       "<Figure size 1152x1152 with 2 Axes>"
      ]
     },
     "metadata": {},
     "output_type": "display_data"
    }
   ],
   "source": [
    "import seaborn as sns # just a conventional alias, don't know why\n",
    "sns.set(style=\"white\")\n",
    "\n",
    "corr = x.corr('spearman')\n",
    "\n",
    "# Generate a mask for the upper triangle\n",
    "mask = np.zeros_like(corr, dtype=np.bool)\n",
    "mask[np.triu_indices_from(mask)] = True\n",
    "\n",
    "# Set up the matplotlib figure\n",
    "f, ax = plt.subplots(figsize=(16, 16))\n",
    "\n",
    "# Generate a custom diverging colormap\n",
    "cmap = sns.diverging_palette(220, 10, as_cmap=True)\n",
    "\n",
    "# Draw the heatmap with the mask and correct aspect ratio\n",
    "sns.heatmap(corr, mask=mask, cmap=cmap, vmax=.3, center=0,\n",
    "            square=True, #annot = corr.round(2), \n",
    "            linewidths=.5, cbar_kws={\"shrink\": .5})"
   ]
  },
  {
   "cell_type": "code",
   "execution_count": 14,
   "metadata": {},
   "outputs": [],
   "source": [
    "x = sm.add_constant(x)"
   ]
  },
  {
   "cell_type": "code",
   "execution_count": null,
   "metadata": {},
   "outputs": [],
   "source": []
  },
  {
   "cell_type": "markdown",
   "metadata": {},
   "source": [
    "# Logit"
   ]
  },
  {
   "cell_type": "code",
   "execution_count": 15,
   "metadata": {},
   "outputs": [
    {
     "data": {
      "text/html": [
       "<table class=\"simpletable\">\n",
       "<caption>Generalized Linear Model Regression Results</caption>\n",
       "<tr>\n",
       "  <th>Dep. Variable:</th>   <td>Residential_satisfaction</td> <th>  No. Observations:  </th>  <td>  1169</td> \n",
       "</tr>\n",
       "<tr>\n",
       "  <th>Model:</th>                      <td>GLM</td>           <th>  Df Residuals:      </th>  <td>  1129</td> \n",
       "</tr>\n",
       "<tr>\n",
       "  <th>Model Family:</th>            <td>Binomial</td>         <th>  Df Model:          </th>  <td>    39</td> \n",
       "</tr>\n",
       "<tr>\n",
       "  <th>Link Function:</th>             <td>logit</td>          <th>  Scale:             </th> <td>  1.0000</td>\n",
       "</tr>\n",
       "<tr>\n",
       "  <th>Method:</th>                    <td>IRLS</td>           <th>  Log-Likelihood:    </th> <td> -371.40</td>\n",
       "</tr>\n",
       "<tr>\n",
       "  <th>Date:</th>                <td>Mon, 10 May 2021</td>     <th>  Deviance:          </th> <td>  742.80</td>\n",
       "</tr>\n",
       "<tr>\n",
       "  <th>Time:</th>                    <td>21:48:05</td>         <th>  Pearson chi2:      </th> <td>1.19e+03</td>\n",
       "</tr>\n",
       "<tr>\n",
       "  <th>No. Iterations:</th>              <td>6</td>            <th>                     </th>     <td> </td>   \n",
       "</tr>\n",
       "<tr>\n",
       "  <th>Covariance Type:</th>         <td>nonrobust</td>        <th>                     </th>     <td> </td>   \n",
       "</tr>\n",
       "</table>\n",
       "<table class=\"simpletable\">\n",
       "<tr>\n",
       "                     <td></td>                        <th>coef</th>     <th>std err</th>      <th>z</th>      <th>P>|z|</th>  <th>[0.025</th>    <th>0.975]</th>  \n",
       "</tr>\n",
       "<tr>\n",
       "  <th>const</th>                                   <td>    0.7866</td> <td>    0.669</td> <td>    1.175</td> <td> 0.240</td> <td>   -0.525</td> <td>    2.099</td>\n",
       "</tr>\n",
       "<tr>\n",
       "  <th>Woman</th>                                   <td>    0.3813</td> <td>    0.211</td> <td>    1.808</td> <td> 0.071</td> <td>   -0.032</td> <td>    0.795</td>\n",
       "</tr>\n",
       "<tr>\n",
       "  <th>Car</th>                                     <td>   -0.3621</td> <td>    0.235</td> <td>   -1.541</td> <td> 0.123</td> <td>   -0.823</td> <td>    0.098</td>\n",
       "</tr>\n",
       "<tr>\n",
       "  <th>Support_with_housework</th>                  <td>    0.1553</td> <td>    0.225</td> <td>    0.691</td> <td> 0.489</td> <td>   -0.285</td> <td>    0.595</td>\n",
       "</tr>\n",
       "<tr>\n",
       "  <th>Owner</th>                                   <td>    0.3319</td> <td>    0.266</td> <td>    1.248</td> <td> 0.212</td> <td>   -0.189</td> <td>    0.853</td>\n",
       "</tr>\n",
       "<tr>\n",
       "  <th>Disability</th>                              <td>   -0.0984</td> <td>    0.349</td> <td>   -0.282</td> <td> 0.778</td> <td>   -0.782</td> <td>    0.585</td>\n",
       "</tr>\n",
       "<tr>\n",
       "  <th>Living_with_disabled_person</th>             <td>   -0.1011</td> <td>    0.293</td> <td>   -0.345</td> <td> 0.730</td> <td>   -0.675</td> <td>    0.473</td>\n",
       "</tr>\n",
       "<tr>\n",
       "  <th>Barri_association</th>                       <td>    0.1230</td> <td>    0.244</td> <td>    0.505</td> <td> 0.614</td> <td>   -0.355</td> <td>    0.601</td>\n",
       "</tr>\n",
       "<tr>\n",
       "  <th>GARBAGE COLLECTION</th>                      <td>    0.5202</td> <td>    0.234</td> <td>    2.220</td> <td> 0.026</td> <td>    0.061</td> <td>    0.980</td>\n",
       "</tr>\n",
       "<tr>\n",
       "  <th>STREETS CLEANING</th>                        <td>    0.1180</td> <td>    0.239</td> <td>    0.493</td> <td> 0.622</td> <td>   -0.351</td> <td>    0.587</td>\n",
       "</tr>\n",
       "<tr>\n",
       "  <th>NOISE</th>                                   <td>    0.0320</td> <td>    0.225</td> <td>    0.142</td> <td> 0.887</td> <td>   -0.408</td> <td>    0.472</td>\n",
       "</tr>\n",
       "<tr>\n",
       "  <th>GREEN AREAS</th>                             <td>    0.2122</td> <td>    0.219</td> <td>    0.969</td> <td> 0.333</td> <td>   -0.217</td> <td>    0.641</td>\n",
       "</tr>\n",
       "<tr>\n",
       "  <th>PUBLIC LIGHTING</th>                         <td>   -0.0471</td> <td>    0.214</td> <td>   -0.220</td> <td> 0.826</td> <td>   -0.467</td> <td>    0.373</td>\n",
       "</tr>\n",
       "<tr>\n",
       "  <th>ASPHALT AND STREET CONSERVATION</th>         <td>    0.5727</td> <td>    0.255</td> <td>    2.246</td> <td> 0.025</td> <td>    0.073</td> <td>    1.072</td>\n",
       "</tr>\n",
       "<tr>\n",
       "  <th>CIRCULATION AND TRAFFIC</th>                 <td>   -0.1968</td> <td>    0.250</td> <td>   -0.788</td> <td> 0.431</td> <td>   -0.687</td> <td>    0.293</td>\n",
       "</tr>\n",
       "<tr>\n",
       "  <th>BUS</th>                                     <td>   -0.0628</td> <td>    0.223</td> <td>   -0.281</td> <td> 0.779</td> <td>   -0.501</td> <td>    0.375</td>\n",
       "</tr>\n",
       "<tr>\n",
       "  <th>CITIZEN SECURITY IN THE CITY AS A WHOLE</th> <td>   -0.0138</td> <td>    0.270</td> <td>   -0.051</td> <td> 0.959</td> <td>   -0.543</td> <td>    0.516</td>\n",
       "</tr>\n",
       "<tr>\n",
       "  <th>CITY MANAGEMENT</th>                         <td>    0.6071</td> <td>    0.263</td> <td>    2.310</td> <td> 0.021</td> <td>    0.092</td> <td>    1.122</td>\n",
       "</tr>\n",
       "<tr>\n",
       "  <th>District_CIUTAT VELLA</th>                   <td>   -1.0898</td> <td>    0.444</td> <td>   -2.455</td> <td> 0.014</td> <td>   -1.960</td> <td>   -0.220</td>\n",
       "</tr>\n",
       "<tr>\n",
       "  <th>District_GRÀCIA</th>                         <td>   -0.7630</td> <td>    0.402</td> <td>   -1.900</td> <td> 0.057</td> <td>   -1.550</td> <td>    0.024</td>\n",
       "</tr>\n",
       "<tr>\n",
       "  <th>District_HORTA - GUINARDÓ</th>               <td>   -0.2270</td> <td>    0.393</td> <td>   -0.578</td> <td> 0.564</td> <td>   -0.997</td> <td>    0.543</td>\n",
       "</tr>\n",
       "<tr>\n",
       "  <th>District_LES CORTS</th>                      <td>   -0.3386</td> <td>    0.432</td> <td>   -0.784</td> <td> 0.433</td> <td>   -1.185</td> <td>    0.507</td>\n",
       "</tr>\n",
       "<tr>\n",
       "  <th>District_NOU BARRIS</th>                     <td>   -0.5714</td> <td>    0.407</td> <td>   -1.403</td> <td> 0.161</td> <td>   -1.370</td> <td>    0.227</td>\n",
       "</tr>\n",
       "<tr>\n",
       "  <th>District_SANT ANDREU</th>                    <td>   -0.3595</td> <td>    0.434</td> <td>   -0.829</td> <td> 0.407</td> <td>   -1.210</td> <td>    0.491</td>\n",
       "</tr>\n",
       "<tr>\n",
       "  <th>District_SANT MARTÍ</th>                     <td>   -0.1284</td> <td>    0.405</td> <td>   -0.317</td> <td> 0.751</td> <td>   -0.922</td> <td>    0.665</td>\n",
       "</tr>\n",
       "<tr>\n",
       "  <th>District_SANTS - MONTJUÏC</th>               <td>   -0.6951</td> <td>    0.402</td> <td>   -1.728</td> <td> 0.084</td> <td>   -1.483</td> <td>    0.093</td>\n",
       "</tr>\n",
       "<tr>\n",
       "  <th>District_SARRIÀ - SANT GERVASI</th>          <td>   -0.1513</td> <td>    0.440</td> <td>   -0.344</td> <td> 0.731</td> <td>   -1.014</td> <td>    0.711</td>\n",
       "</tr>\n",
       "<tr>\n",
       "  <th>House_size_101-150 M2</th>                   <td>   -0.6728</td> <td>    0.566</td> <td>   -1.189</td> <td> 0.234</td> <td>   -1.782</td> <td>    0.436</td>\n",
       "</tr>\n",
       "<tr>\n",
       "  <th>House_size_51-100 M2</th>                    <td>   -0.5182</td> <td>    0.498</td> <td>   -1.041</td> <td> 0.298</td> <td>   -1.493</td> <td>    0.457</td>\n",
       "</tr>\n",
       "<tr>\n",
       "  <th>House_size_> 150 M2</th>                     <td>   -0.7664</td> <td>    0.697</td> <td>   -1.100</td> <td> 0.271</td> <td>   -2.132</td> <td>    0.599</td>\n",
       "</tr>\n",
       "<tr>\n",
       "  <th>House_size_I DON'T KNOW</th>                 <td>   -0.2975</td> <td>    0.644</td> <td>   -0.462</td> <td> 0.644</td> <td>   -1.560</td> <td>    0.965</td>\n",
       "</tr>\n",
       "<tr>\n",
       "  <th>No_of_people_in_the_house_THREE OR MORE</th> <td>   -0.2924</td> <td>    0.332</td> <td>   -0.880</td> <td> 0.379</td> <td>   -0.944</td> <td>    0.359</td>\n",
       "</tr>\n",
       "<tr>\n",
       "  <th>No_of_people_in_the_house_TWO</th>           <td>   -0.1061</td> <td>    0.256</td> <td>   -0.414</td> <td> 0.679</td> <td>   -0.608</td> <td>    0.396</td>\n",
       "</tr>\n",
       "<tr>\n",
       "  <th>Financial_situation_GOOD</th>                <td>    0.0200</td> <td>    0.207</td> <td>    0.096</td> <td> 0.923</td> <td>   -0.386</td> <td>    0.426</td>\n",
       "</tr>\n",
       "<tr>\n",
       "  <th>BCN_evolution_IT HAS IMPROVED</th>           <td>    0.7977</td> <td>    0.327</td> <td>    2.439</td> <td> 0.015</td> <td>    0.157</td> <td>    1.439</td>\n",
       "</tr>\n",
       "<tr>\n",
       "  <th>BCN_evolution_IT IS THE SAME</th>            <td>    0.7302</td> <td>    0.278</td> <td>    2.630</td> <td> 0.009</td> <td>    0.186</td> <td>    1.274</td>\n",
       "</tr>\n",
       "<tr>\n",
       "  <th>BCN_future_IT WILL IMPROVE</th>              <td>    1.2815</td> <td>    0.238</td> <td>    5.393</td> <td> 0.000</td> <td>    0.816</td> <td>    1.747</td>\n",
       "</tr>\n",
       "<tr>\n",
       "  <th>BCN_future_IT WILL STAY THE SAME</th>        <td>    0.5829</td> <td>    0.246</td> <td>    2.373</td> <td> 0.018</td> <td>    0.102</td> <td>    1.064</td>\n",
       "</tr>\n",
       "<tr>\n",
       "  <th>BCN_transport_GOOD</th>                      <td>    0.1567</td> <td>    0.302</td> <td>    0.519</td> <td> 0.604</td> <td>   -0.435</td> <td>    0.749</td>\n",
       "</tr>\n",
       "<tr>\n",
       "  <th>BCN_transport_NEITHER BAD, NOR GOOD</th>     <td>   -0.0454</td> <td>    0.404</td> <td>   -0.112</td> <td> 0.911</td> <td>   -0.838</td> <td>    0.747</td>\n",
       "</tr>\n",
       "</table>"
      ],
      "text/plain": [
       "<class 'statsmodels.iolib.summary.Summary'>\n",
       "\"\"\"\n",
       "                    Generalized Linear Model Regression Results                     \n",
       "====================================================================================\n",
       "Dep. Variable:     Residential_satisfaction   No. Observations:                 1169\n",
       "Model:                                  GLM   Df Residuals:                     1129\n",
       "Model Family:                      Binomial   Df Model:                           39\n",
       "Link Function:                        logit   Scale:                          1.0000\n",
       "Method:                                IRLS   Log-Likelihood:                -371.40\n",
       "Date:                      Mon, 10 May 2021   Deviance:                       742.80\n",
       "Time:                              21:48:05   Pearson chi2:                 1.19e+03\n",
       "No. Iterations:                           6                                         \n",
       "Covariance Type:                  nonrobust                                         \n",
       "===========================================================================================================\n",
       "                                              coef    std err          z      P>|z|      [0.025      0.975]\n",
       "-----------------------------------------------------------------------------------------------------------\n",
       "const                                       0.7866      0.669      1.175      0.240      -0.525       2.099\n",
       "Woman                                       0.3813      0.211      1.808      0.071      -0.032       0.795\n",
       "Car                                        -0.3621      0.235     -1.541      0.123      -0.823       0.098\n",
       "Support_with_housework                      0.1553      0.225      0.691      0.489      -0.285       0.595\n",
       "Owner                                       0.3319      0.266      1.248      0.212      -0.189       0.853\n",
       "Disability                                 -0.0984      0.349     -0.282      0.778      -0.782       0.585\n",
       "Living_with_disabled_person                -0.1011      0.293     -0.345      0.730      -0.675       0.473\n",
       "Barri_association                           0.1230      0.244      0.505      0.614      -0.355       0.601\n",
       "GARBAGE COLLECTION                          0.5202      0.234      2.220      0.026       0.061       0.980\n",
       "STREETS CLEANING                            0.1180      0.239      0.493      0.622      -0.351       0.587\n",
       "NOISE                                       0.0320      0.225      0.142      0.887      -0.408       0.472\n",
       "GREEN AREAS                                 0.2122      0.219      0.969      0.333      -0.217       0.641\n",
       "PUBLIC LIGHTING                            -0.0471      0.214     -0.220      0.826      -0.467       0.373\n",
       "ASPHALT AND STREET CONSERVATION             0.5727      0.255      2.246      0.025       0.073       1.072\n",
       "CIRCULATION AND TRAFFIC                    -0.1968      0.250     -0.788      0.431      -0.687       0.293\n",
       "BUS                                        -0.0628      0.223     -0.281      0.779      -0.501       0.375\n",
       "CITIZEN SECURITY IN THE CITY AS A WHOLE    -0.0138      0.270     -0.051      0.959      -0.543       0.516\n",
       "CITY MANAGEMENT                             0.6071      0.263      2.310      0.021       0.092       1.122\n",
       "District_CIUTAT VELLA                      -1.0898      0.444     -2.455      0.014      -1.960      -0.220\n",
       "District_GRÀCIA                            -0.7630      0.402     -1.900      0.057      -1.550       0.024\n",
       "District_HORTA - GUINARDÓ                  -0.2270      0.393     -0.578      0.564      -0.997       0.543\n",
       "District_LES CORTS                         -0.3386      0.432     -0.784      0.433      -1.185       0.507\n",
       "District_NOU BARRIS                        -0.5714      0.407     -1.403      0.161      -1.370       0.227\n",
       "District_SANT ANDREU                       -0.3595      0.434     -0.829      0.407      -1.210       0.491\n",
       "District_SANT MARTÍ                        -0.1284      0.405     -0.317      0.751      -0.922       0.665\n",
       "District_SANTS - MONTJUÏC                  -0.6951      0.402     -1.728      0.084      -1.483       0.093\n",
       "District_SARRIÀ - SANT GERVASI             -0.1513      0.440     -0.344      0.731      -1.014       0.711\n",
       "House_size_101-150 M2                      -0.6728      0.566     -1.189      0.234      -1.782       0.436\n",
       "House_size_51-100 M2                       -0.5182      0.498     -1.041      0.298      -1.493       0.457\n",
       "House_size_> 150 M2                        -0.7664      0.697     -1.100      0.271      -2.132       0.599\n",
       "House_size_I DON'T KNOW                    -0.2975      0.644     -0.462      0.644      -1.560       0.965\n",
       "No_of_people_in_the_house_THREE OR MORE    -0.2924      0.332     -0.880      0.379      -0.944       0.359\n",
       "No_of_people_in_the_house_TWO              -0.1061      0.256     -0.414      0.679      -0.608       0.396\n",
       "Financial_situation_GOOD                    0.0200      0.207      0.096      0.923      -0.386       0.426\n",
       "BCN_evolution_IT HAS IMPROVED               0.7977      0.327      2.439      0.015       0.157       1.439\n",
       "BCN_evolution_IT IS THE SAME                0.7302      0.278      2.630      0.009       0.186       1.274\n",
       "BCN_future_IT WILL IMPROVE                  1.2815      0.238      5.393      0.000       0.816       1.747\n",
       "BCN_future_IT WILL STAY THE SAME            0.5829      0.246      2.373      0.018       0.102       1.064\n",
       "BCN_transport_GOOD                          0.1567      0.302      0.519      0.604      -0.435       0.749\n",
       "BCN_transport_NEITHER BAD, NOR GOOD        -0.0454      0.404     -0.112      0.911      -0.838       0.747\n",
       "===========================================================================================================\n",
       "\"\"\""
      ]
     },
     "execution_count": 15,
     "metadata": {},
     "output_type": "execute_result"
    }
   ],
   "source": [
    "glm_logit = sm.GLM(y, x, family=sm.families.Binomial())\n",
    "glm_logit_results = glm_logit.fit()\n",
    "glm_logit_results.summary()"
   ]
  },
  {
   "cell_type": "code",
   "execution_count": 16,
   "metadata": {},
   "outputs": [
    {
     "data": {
      "text/plain": [
       "822.797885564924"
      ]
     },
     "execution_count": 16,
     "metadata": {},
     "output_type": "execute_result"
    }
   ],
   "source": [
    "glm_logit_results.aic"
   ]
  },
  {
   "cell_type": "code",
   "execution_count": 17,
   "metadata": {},
   "outputs": [
    {
     "name": "stderr",
     "output_type": "stream",
     "text": [
      "C:\\Users\\THINK\\anaconda3\\lib\\site-packages\\statsmodels\\genmod\\generalized_linear_model.py:1731: FutureWarning: The bic value is computed using the deviance formula. After 0.13 this will change to the log-likelihood based formula. This change has no impact on the relative rank of models compared using BIC. You can directly access the log-likelihood version using the `bic_llf` attribute. You can suppress this message by calling statsmodels.genmod.generalized_linear_model.SET_USE_BIC_LLF with True to get the LLF-based version now or False to retainthe deviance version.\n",
      "  FutureWarning\n"
     ]
    },
    {
     "data": {
      "text/plain": [
       "-7232.349686937041"
      ]
     },
     "execution_count": 17,
     "metadata": {},
     "output_type": "execute_result"
    }
   ],
   "source": [
    "glm_logit_results.bic"
   ]
  },
  {
   "cell_type": "code",
   "execution_count": 18,
   "metadata": {},
   "outputs": [
    {
     "data": {
      "text/plain": [
       "CITIZEN SECURITY IN THE CITY AS A WHOLE    9.592508e-01\n",
       "Financial_situation_GOOD                   9.232035e-01\n",
       "BCN_transport_NEITHER BAD, NOR GOOD        9.105452e-01\n",
       "NOISE                                      8.867277e-01\n",
       "PUBLIC LIGHTING                            8.261036e-01\n",
       "BUS                                        7.785348e-01\n",
       "Disability                                 7.777877e-01\n",
       "District_SANT MARTÍ                        7.512018e-01\n",
       "District_SARRIÀ - SANT GERVASI             7.308700e-01\n",
       "Living_with_disabled_person                7.297491e-01\n",
       "No_of_people_in_the_house_TWO              6.788884e-01\n",
       "House_size_I DON'T KNOW                    6.441352e-01\n",
       "STREETS CLEANING                           6.219847e-01\n",
       "Barri_association                          6.138311e-01\n",
       "BCN_transport_GOOD                         6.038129e-01\n",
       "District_HORTA - GUINARDÓ                  5.635081e-01\n",
       "Support_with_housework                     4.893070e-01\n",
       "District_LES CORTS                         4.327581e-01\n",
       "CIRCULATION AND TRAFFIC                    4.309816e-01\n",
       "District_SANT ANDREU                       4.071475e-01\n",
       "No_of_people_in_the_house_THREE OR MORE    3.789363e-01\n",
       "GREEN AREAS                                3.325622e-01\n",
       "House_size_51-100 M2                       2.977389e-01\n",
       "House_size_> 150 M2                        2.713591e-01\n",
       "const                                      2.399385e-01\n",
       "House_size_101-150 M2                      2.343209e-01\n",
       "Owner                                      2.120860e-01\n",
       "District_NOU BARRIS                        1.605824e-01\n",
       "Car                                        1.233636e-01\n",
       "District_SANTS - MONTJUÏC                  8.394222e-02\n",
       "Woman                                      7.064731e-02\n",
       "District_GRÀCIA                            5.742222e-02\n",
       "GARBAGE COLLECTION                         2.641275e-02\n",
       "ASPHALT AND STREET CONSERVATION            2.472107e-02\n",
       "CITY MANAGEMENT                            2.088886e-02\n",
       "BCN_future_IT WILL STAY THE SAME           1.763122e-02\n",
       "BCN_evolution_IT HAS IMPROVED              1.471391e-02\n",
       "District_CIUTAT VELLA                      1.410040e-02\n",
       "BCN_evolution_IT IS THE SAME               8.536735e-03\n",
       "BCN_future_IT WILL IMPROVE                 6.937296e-08\n",
       "dtype: float64"
      ]
     },
     "execution_count": 18,
     "metadata": {},
     "output_type": "execute_result"
    }
   ],
   "source": [
    "glm_logit_results.pvalues.sort_values(ascending=False)"
   ]
  },
  {
   "cell_type": "code",
   "execution_count": null,
   "metadata": {},
   "outputs": [],
   "source": []
  },
  {
   "cell_type": "code",
   "execution_count": 19,
   "metadata": {},
   "outputs": [],
   "source": [
    "for i in [\"CITIZEN SECURITY IN THE CITY AS A WHOLE\",\n",
    "          \"Financial_situation_GOOD\",\n",
    "          \"BCN_transport_NEITHER BAD, NOR GOOD\", \"BCN_transport_GOOD\",\n",
    "          \"NOISE\", \n",
    "          \"PUBLIC LIGHTING\", \n",
    "          \"BUS\",\n",
    "          \"Disability\",\n",
    "          \"Living_with_disabled_person\",\n",
    "         \"STREETS CLEANING\",\n",
    "          \"Barri_association\"]:\n",
    "    del x[i]"
   ]
  },
  {
   "cell_type": "code",
   "execution_count": 20,
   "metadata": {},
   "outputs": [
    {
     "data": {
      "text/html": [
       "<table class=\"simpletable\">\n",
       "<caption>Generalized Linear Model Regression Results</caption>\n",
       "<tr>\n",
       "  <th>Dep. Variable:</th>   <td>Residential_satisfaction</td> <th>  No. Observations:  </th>  <td>  1169</td> \n",
       "</tr>\n",
       "<tr>\n",
       "  <th>Model:</th>                      <td>GLM</td>           <th>  Df Residuals:      </th>  <td>  1140</td> \n",
       "</tr>\n",
       "<tr>\n",
       "  <th>Model Family:</th>            <td>Binomial</td>         <th>  Df Model:          </th>  <td>    28</td> \n",
       "</tr>\n",
       "<tr>\n",
       "  <th>Link Function:</th>             <td>logit</td>          <th>  Scale:             </th> <td>  1.0000</td>\n",
       "</tr>\n",
       "<tr>\n",
       "  <th>Method:</th>                    <td>IRLS</td>           <th>  Log-Likelihood:    </th> <td> -372.30</td>\n",
       "</tr>\n",
       "<tr>\n",
       "  <th>Date:</th>                <td>Mon, 10 May 2021</td>     <th>  Deviance:          </th> <td>  744.60</td>\n",
       "</tr>\n",
       "<tr>\n",
       "  <th>Time:</th>                    <td>21:48:07</td>         <th>  Pearson chi2:      </th> <td>1.19e+03</td>\n",
       "</tr>\n",
       "<tr>\n",
       "  <th>No. Iterations:</th>              <td>6</td>            <th>                     </th>     <td> </td>   \n",
       "</tr>\n",
       "<tr>\n",
       "  <th>Covariance Type:</th>         <td>nonrobust</td>        <th>                     </th>     <td> </td>   \n",
       "</tr>\n",
       "</table>\n",
       "<table class=\"simpletable\">\n",
       "<tr>\n",
       "                     <td></td>                        <th>coef</th>     <th>std err</th>      <th>z</th>      <th>P>|z|</th>  <th>[0.025</th>    <th>0.975]</th>  \n",
       "</tr>\n",
       "<tr>\n",
       "  <th>const</th>                                   <td>    0.7819</td> <td>    0.613</td> <td>    1.276</td> <td> 0.202</td> <td>   -0.419</td> <td>    1.983</td>\n",
       "</tr>\n",
       "<tr>\n",
       "  <th>Woman</th>                                   <td>    0.3778</td> <td>    0.208</td> <td>    1.815</td> <td> 0.070</td> <td>   -0.030</td> <td>    0.786</td>\n",
       "</tr>\n",
       "<tr>\n",
       "  <th>Car</th>                                     <td>   -0.3519</td> <td>    0.233</td> <td>   -1.512</td> <td> 0.131</td> <td>   -0.808</td> <td>    0.104</td>\n",
       "</tr>\n",
       "<tr>\n",
       "  <th>Support_with_housework</th>                  <td>    0.1410</td> <td>    0.220</td> <td>    0.640</td> <td> 0.522</td> <td>   -0.291</td> <td>    0.573</td>\n",
       "</tr>\n",
       "<tr>\n",
       "  <th>Owner</th>                                   <td>    0.3640</td> <td>    0.260</td> <td>    1.400</td> <td> 0.161</td> <td>   -0.146</td> <td>    0.874</td>\n",
       "</tr>\n",
       "<tr>\n",
       "  <th>GARBAGE COLLECTION</th>                      <td>    0.5739</td> <td>    0.208</td> <td>    2.755</td> <td> 0.006</td> <td>    0.166</td> <td>    0.982</td>\n",
       "</tr>\n",
       "<tr>\n",
       "  <th>GREEN AREAS</th>                             <td>    0.2055</td> <td>    0.212</td> <td>    0.968</td> <td> 0.333</td> <td>   -0.211</td> <td>    0.622</td>\n",
       "</tr>\n",
       "<tr>\n",
       "  <th>ASPHALT AND STREET CONSERVATION</th>         <td>    0.5973</td> <td>    0.244</td> <td>    2.452</td> <td> 0.014</td> <td>    0.120</td> <td>    1.075</td>\n",
       "</tr>\n",
       "<tr>\n",
       "  <th>CIRCULATION AND TRAFFIC</th>                 <td>   -0.2041</td> <td>    0.242</td> <td>   -0.844</td> <td> 0.399</td> <td>   -0.678</td> <td>    0.270</td>\n",
       "</tr>\n",
       "<tr>\n",
       "  <th>CITY MANAGEMENT</th>                         <td>    0.6288</td> <td>    0.259</td> <td>    2.423</td> <td> 0.015</td> <td>    0.120</td> <td>    1.137</td>\n",
       "</tr>\n",
       "<tr>\n",
       "  <th>District_CIUTAT VELLA</th>                   <td>   -1.0733</td> <td>    0.440</td> <td>   -2.439</td> <td> 0.015</td> <td>   -1.936</td> <td>   -0.211</td>\n",
       "</tr>\n",
       "<tr>\n",
       "  <th>District_GRÀCIA</th>                         <td>   -0.7578</td> <td>    0.397</td> <td>   -1.910</td> <td> 0.056</td> <td>   -1.536</td> <td>    0.020</td>\n",
       "</tr>\n",
       "<tr>\n",
       "  <th>District_HORTA - GUINARDÓ</th>               <td>   -0.2465</td> <td>    0.389</td> <td>   -0.634</td> <td> 0.526</td> <td>   -1.008</td> <td>    0.515</td>\n",
       "</tr>\n",
       "<tr>\n",
       "  <th>District_LES CORTS</th>                      <td>   -0.3396</td> <td>    0.429</td> <td>   -0.792</td> <td> 0.428</td> <td>   -1.180</td> <td>    0.501</td>\n",
       "</tr>\n",
       "<tr>\n",
       "  <th>District_NOU BARRIS</th>                     <td>   -0.6019</td> <td>    0.399</td> <td>   -1.507</td> <td> 0.132</td> <td>   -1.384</td> <td>    0.181</td>\n",
       "</tr>\n",
       "<tr>\n",
       "  <th>District_SANT ANDREU</th>                    <td>   -0.3875</td> <td>    0.428</td> <td>   -0.905</td> <td> 0.366</td> <td>   -1.227</td> <td>    0.452</td>\n",
       "</tr>\n",
       "<tr>\n",
       "  <th>District_SANT MARTÍ</th>                     <td>   -0.1140</td> <td>    0.402</td> <td>   -0.283</td> <td> 0.777</td> <td>   -0.902</td> <td>    0.674</td>\n",
       "</tr>\n",
       "<tr>\n",
       "  <th>District_SANTS - MONTJUÏC</th>               <td>   -0.6973</td> <td>    0.400</td> <td>   -1.744</td> <td> 0.081</td> <td>   -1.481</td> <td>    0.086</td>\n",
       "</tr>\n",
       "<tr>\n",
       "  <th>District_SARRIÀ - SANT GERVASI</th>          <td>   -0.1330</td> <td>    0.438</td> <td>   -0.304</td> <td> 0.761</td> <td>   -0.992</td> <td>    0.726</td>\n",
       "</tr>\n",
       "<tr>\n",
       "  <th>House_size_101-150 M2</th>                   <td>   -0.6087</td> <td>    0.559</td> <td>   -1.089</td> <td> 0.276</td> <td>   -1.704</td> <td>    0.487</td>\n",
       "</tr>\n",
       "<tr>\n",
       "  <th>House_size_51-100 M2</th>                    <td>   -0.4713</td> <td>    0.493</td> <td>   -0.956</td> <td> 0.339</td> <td>   -1.438</td> <td>    0.495</td>\n",
       "</tr>\n",
       "<tr>\n",
       "  <th>House_size_> 150 M2</th>                     <td>   -0.6585</td> <td>    0.690</td> <td>   -0.954</td> <td> 0.340</td> <td>   -2.011</td> <td>    0.694</td>\n",
       "</tr>\n",
       "<tr>\n",
       "  <th>House_size_I DON'T KNOW</th>                 <td>   -0.2863</td> <td>    0.640</td> <td>   -0.448</td> <td> 0.654</td> <td>   -1.540</td> <td>    0.967</td>\n",
       "</tr>\n",
       "<tr>\n",
       "  <th>No_of_people_in_the_house_THREE OR MORE</th> <td>   -0.3078</td> <td>    0.315</td> <td>   -0.978</td> <td> 0.328</td> <td>   -0.924</td> <td>    0.309</td>\n",
       "</tr>\n",
       "<tr>\n",
       "  <th>No_of_people_in_the_house_TWO</th>           <td>   -0.1216</td> <td>    0.246</td> <td>   -0.494</td> <td> 0.621</td> <td>   -0.604</td> <td>    0.361</td>\n",
       "</tr>\n",
       "<tr>\n",
       "  <th>BCN_evolution_IT HAS IMPROVED</th>           <td>    0.8215</td> <td>    0.323</td> <td>    2.543</td> <td> 0.011</td> <td>    0.188</td> <td>    1.455</td>\n",
       "</tr>\n",
       "<tr>\n",
       "  <th>BCN_evolution_IT IS THE SAME</th>            <td>    0.7333</td> <td>    0.276</td> <td>    2.658</td> <td> 0.008</td> <td>    0.193</td> <td>    1.274</td>\n",
       "</tr>\n",
       "<tr>\n",
       "  <th>BCN_future_IT WILL IMPROVE</th>              <td>    1.2811</td> <td>    0.234</td> <td>    5.469</td> <td> 0.000</td> <td>    0.822</td> <td>    1.740</td>\n",
       "</tr>\n",
       "<tr>\n",
       "  <th>BCN_future_IT WILL STAY THE SAME</th>        <td>    0.5602</td> <td>    0.242</td> <td>    2.316</td> <td> 0.021</td> <td>    0.086</td> <td>    1.034</td>\n",
       "</tr>\n",
       "</table>"
      ],
      "text/plain": [
       "<class 'statsmodels.iolib.summary.Summary'>\n",
       "\"\"\"\n",
       "                    Generalized Linear Model Regression Results                     \n",
       "====================================================================================\n",
       "Dep. Variable:     Residential_satisfaction   No. Observations:                 1169\n",
       "Model:                                  GLM   Df Residuals:                     1140\n",
       "Model Family:                      Binomial   Df Model:                           28\n",
       "Link Function:                        logit   Scale:                          1.0000\n",
       "Method:                                IRLS   Log-Likelihood:                -372.30\n",
       "Date:                      Mon, 10 May 2021   Deviance:                       744.60\n",
       "Time:                              21:48:07   Pearson chi2:                 1.19e+03\n",
       "No. Iterations:                           6                                         \n",
       "Covariance Type:                  nonrobust                                         \n",
       "===========================================================================================================\n",
       "                                              coef    std err          z      P>|z|      [0.025      0.975]\n",
       "-----------------------------------------------------------------------------------------------------------\n",
       "const                                       0.7819      0.613      1.276      0.202      -0.419       1.983\n",
       "Woman                                       0.3778      0.208      1.815      0.070      -0.030       0.786\n",
       "Car                                        -0.3519      0.233     -1.512      0.131      -0.808       0.104\n",
       "Support_with_housework                      0.1410      0.220      0.640      0.522      -0.291       0.573\n",
       "Owner                                       0.3640      0.260      1.400      0.161      -0.146       0.874\n",
       "GARBAGE COLLECTION                          0.5739      0.208      2.755      0.006       0.166       0.982\n",
       "GREEN AREAS                                 0.2055      0.212      0.968      0.333      -0.211       0.622\n",
       "ASPHALT AND STREET CONSERVATION             0.5973      0.244      2.452      0.014       0.120       1.075\n",
       "CIRCULATION AND TRAFFIC                    -0.2041      0.242     -0.844      0.399      -0.678       0.270\n",
       "CITY MANAGEMENT                             0.6288      0.259      2.423      0.015       0.120       1.137\n",
       "District_CIUTAT VELLA                      -1.0733      0.440     -2.439      0.015      -1.936      -0.211\n",
       "District_GRÀCIA                            -0.7578      0.397     -1.910      0.056      -1.536       0.020\n",
       "District_HORTA - GUINARDÓ                  -0.2465      0.389     -0.634      0.526      -1.008       0.515\n",
       "District_LES CORTS                         -0.3396      0.429     -0.792      0.428      -1.180       0.501\n",
       "District_NOU BARRIS                        -0.6019      0.399     -1.507      0.132      -1.384       0.181\n",
       "District_SANT ANDREU                       -0.3875      0.428     -0.905      0.366      -1.227       0.452\n",
       "District_SANT MARTÍ                        -0.1140      0.402     -0.283      0.777      -0.902       0.674\n",
       "District_SANTS - MONTJUÏC                  -0.6973      0.400     -1.744      0.081      -1.481       0.086\n",
       "District_SARRIÀ - SANT GERVASI             -0.1330      0.438     -0.304      0.761      -0.992       0.726\n",
       "House_size_101-150 M2                      -0.6087      0.559     -1.089      0.276      -1.704       0.487\n",
       "House_size_51-100 M2                       -0.4713      0.493     -0.956      0.339      -1.438       0.495\n",
       "House_size_> 150 M2                        -0.6585      0.690     -0.954      0.340      -2.011       0.694\n",
       "House_size_I DON'T KNOW                    -0.2863      0.640     -0.448      0.654      -1.540       0.967\n",
       "No_of_people_in_the_house_THREE OR MORE    -0.3078      0.315     -0.978      0.328      -0.924       0.309\n",
       "No_of_people_in_the_house_TWO              -0.1216      0.246     -0.494      0.621      -0.604       0.361\n",
       "BCN_evolution_IT HAS IMPROVED               0.8215      0.323      2.543      0.011       0.188       1.455\n",
       "BCN_evolution_IT IS THE SAME                0.7333      0.276      2.658      0.008       0.193       1.274\n",
       "BCN_future_IT WILL IMPROVE                  1.2811      0.234      5.469      0.000       0.822       1.740\n",
       "BCN_future_IT WILL STAY THE SAME            0.5602      0.242      2.316      0.021       0.086       1.034\n",
       "===========================================================================================================\n",
       "\"\"\""
      ]
     },
     "execution_count": 20,
     "metadata": {},
     "output_type": "execute_result"
    }
   ],
   "source": [
    "glm_logit = sm.GLM(y, x, family=sm.families.Binomial())\n",
    "glm_logit_results = glm_logit.fit()\n",
    "glm_logit_results.summary()"
   ]
  },
  {
   "cell_type": "code",
   "execution_count": 21,
   "metadata": {},
   "outputs": [
    {
     "data": {
      "text/plain": [
       "802.6002079300702"
      ]
     },
     "execution_count": 21,
     "metadata": {},
     "output_type": "execute_result"
    }
   ],
   "source": [
    "glm_logit_results.aic"
   ]
  },
  {
   "cell_type": "code",
   "execution_count": 22,
   "metadata": {},
   "outputs": [
    {
     "name": "stderr",
     "output_type": "stream",
     "text": [
      "C:\\Users\\THINK\\anaconda3\\lib\\site-packages\\statsmodels\\genmod\\generalized_linear_model.py:1731: FutureWarning: The bic value is computed using the deviance formula. After 0.13 this will change to the log-likelihood based formula. This change has no impact on the relative rank of models compared using BIC. You can directly access the log-likelihood version using the `bic_llf` attribute. You can suppress this message by calling statsmodels.genmod.generalized_linear_model.SET_USE_BIC_LLF with True to get the LLF-based version now or False to retainthe deviance version.\n",
      "  FutureWarning\n"
     ]
    },
    {
     "data": {
      "text/plain": [
       "-7308.250308148088"
      ]
     },
     "execution_count": 22,
     "metadata": {},
     "output_type": "execute_result"
    }
   ],
   "source": [
    "glm_logit_results.bic"
   ]
  },
  {
   "cell_type": "code",
   "execution_count": 23,
   "metadata": {},
   "outputs": [
    {
     "data": {
      "text/plain": [
       "District_SANT MARTÍ                        7.769407e-01\n",
       "District_SARRIÀ - SANT GERVASI             7.614293e-01\n",
       "House_size_I DON'T KNOW                    6.544909e-01\n",
       "No_of_people_in_the_house_TWO              6.211597e-01\n",
       "District_HORTA - GUINARDÓ                  5.259700e-01\n",
       "Support_with_housework                     5.220505e-01\n",
       "District_LES CORTS                         4.284042e-01\n",
       "CIRCULATION AND TRAFFIC                    3.989381e-01\n",
       "District_SANT ANDREU                       3.656722e-01\n",
       "House_size_> 150 M2                        3.398494e-01\n",
       "House_size_51-100 M2                       3.390077e-01\n",
       "GREEN AREAS                                3.332627e-01\n",
       "No_of_people_in_the_house_THREE OR MORE    3.278564e-01\n",
       "House_size_101-150 M2                      2.760599e-01\n",
       "const                                      2.019986e-01\n",
       "Owner                                      1.614931e-01\n",
       "District_NOU BARRIS                        1.317243e-01\n",
       "Car                                        1.305086e-01\n",
       "District_SANTS - MONTJUÏC                  8.114508e-02\n",
       "Woman                                      6.953434e-02\n",
       "District_GRÀCIA                            5.615467e-02\n",
       "BCN_future_IT WILL STAY THE SAME           2.057298e-02\n",
       "CITY MANAGEMENT                            1.538933e-02\n",
       "District_CIUTAT VELLA                      1.474613e-02\n",
       "ASPHALT AND STREET CONSERVATION            1.422421e-02\n",
       "BCN_evolution_IT HAS IMPROVED              1.097504e-02\n",
       "BCN_evolution_IT IS THE SAME               7.866019e-03\n",
       "GARBAGE COLLECTION                         5.872092e-03\n",
       "BCN_future_IT WILL IMPROVE                 4.532228e-08\n",
       "dtype: float64"
      ]
     },
     "execution_count": 23,
     "metadata": {},
     "output_type": "execute_result"
    }
   ],
   "source": [
    "glm_logit_results.pvalues.sort_values(ascending=False)"
   ]
  },
  {
   "cell_type": "code",
   "execution_count": null,
   "metadata": {},
   "outputs": [],
   "source": []
  },
  {
   "cell_type": "code",
   "execution_count": 24,
   "metadata": {},
   "outputs": [],
   "source": [
    "for i in x.columns.tolist():\n",
    "    if i[:8] == 'District':\n",
    "        del x[i]"
   ]
  },
  {
   "cell_type": "code",
   "execution_count": 25,
   "metadata": {},
   "outputs": [
    {
     "data": {
      "text/html": [
       "<table class=\"simpletable\">\n",
       "<caption>Generalized Linear Model Regression Results</caption>\n",
       "<tr>\n",
       "  <th>Dep. Variable:</th>   <td>Residential_satisfaction</td> <th>  No. Observations:  </th>  <td>  1169</td> \n",
       "</tr>\n",
       "<tr>\n",
       "  <th>Model:</th>                      <td>GLM</td>           <th>  Df Residuals:      </th>  <td>  1149</td> \n",
       "</tr>\n",
       "<tr>\n",
       "  <th>Model Family:</th>            <td>Binomial</td>         <th>  Df Model:          </th>  <td>    19</td> \n",
       "</tr>\n",
       "<tr>\n",
       "  <th>Link Function:</th>             <td>logit</td>          <th>  Scale:             </th> <td>  1.0000</td>\n",
       "</tr>\n",
       "<tr>\n",
       "  <th>Method:</th>                    <td>IRLS</td>           <th>  Log-Likelihood:    </th> <td> -377.51</td>\n",
       "</tr>\n",
       "<tr>\n",
       "  <th>Date:</th>                <td>Mon, 10 May 2021</td>     <th>  Deviance:          </th> <td>  755.01</td>\n",
       "</tr>\n",
       "<tr>\n",
       "  <th>Time:</th>                    <td>21:48:09</td>         <th>  Pearson chi2:      </th> <td>1.21e+03</td>\n",
       "</tr>\n",
       "<tr>\n",
       "  <th>No. Iterations:</th>              <td>6</td>            <th>                     </th>     <td> </td>   \n",
       "</tr>\n",
       "<tr>\n",
       "  <th>Covariance Type:</th>         <td>nonrobust</td>        <th>                     </th>     <td> </td>   \n",
       "</tr>\n",
       "</table>\n",
       "<table class=\"simpletable\">\n",
       "<tr>\n",
       "                     <td></td>                        <th>coef</th>     <th>std err</th>      <th>z</th>      <th>P>|z|</th>  <th>[0.025</th>    <th>0.975]</th>  \n",
       "</tr>\n",
       "<tr>\n",
       "  <th>const</th>                                   <td>    0.1587</td> <td>    0.544</td> <td>    0.292</td> <td> 0.771</td> <td>   -0.908</td> <td>    1.225</td>\n",
       "</tr>\n",
       "<tr>\n",
       "  <th>Woman</th>                                   <td>    0.3956</td> <td>    0.206</td> <td>    1.920</td> <td> 0.055</td> <td>   -0.008</td> <td>    0.799</td>\n",
       "</tr>\n",
       "<tr>\n",
       "  <th>Car</th>                                     <td>   -0.2667</td> <td>    0.224</td> <td>   -1.190</td> <td> 0.234</td> <td>   -0.706</td> <td>    0.173</td>\n",
       "</tr>\n",
       "<tr>\n",
       "  <th>Support_with_housework</th>                  <td>    0.2496</td> <td>    0.211</td> <td>    1.182</td> <td> 0.237</td> <td>   -0.164</td> <td>    0.663</td>\n",
       "</tr>\n",
       "<tr>\n",
       "  <th>Owner</th>                                   <td>    0.3900</td> <td>    0.247</td> <td>    1.582</td> <td> 0.114</td> <td>   -0.093</td> <td>    0.873</td>\n",
       "</tr>\n",
       "<tr>\n",
       "  <th>GARBAGE COLLECTION</th>                      <td>    0.5518</td> <td>    0.206</td> <td>    2.675</td> <td> 0.007</td> <td>    0.147</td> <td>    0.956</td>\n",
       "</tr>\n",
       "<tr>\n",
       "  <th>GREEN AREAS</th>                             <td>    0.1888</td> <td>    0.210</td> <td>    0.898</td> <td> 0.369</td> <td>   -0.223</td> <td>    0.601</td>\n",
       "</tr>\n",
       "<tr>\n",
       "  <th>ASPHALT AND STREET CONSERVATION</th>         <td>    0.5709</td> <td>    0.240</td> <td>    2.376</td> <td> 0.018</td> <td>    0.100</td> <td>    1.042</td>\n",
       "</tr>\n",
       "<tr>\n",
       "  <th>CIRCULATION AND TRAFFIC</th>                 <td>   -0.1643</td> <td>    0.235</td> <td>   -0.700</td> <td> 0.484</td> <td>   -0.624</td> <td>    0.296</td>\n",
       "</tr>\n",
       "<tr>\n",
       "  <th>CITY MANAGEMENT</th>                         <td>    0.5830</td> <td>    0.259</td> <td>    2.254</td> <td> 0.024</td> <td>    0.076</td> <td>    1.090</td>\n",
       "</tr>\n",
       "<tr>\n",
       "  <th>House_size_101-150 M2</th>                   <td>   -0.4254</td> <td>    0.546</td> <td>   -0.779</td> <td> 0.436</td> <td>   -1.495</td> <td>    0.645</td>\n",
       "</tr>\n",
       "<tr>\n",
       "  <th>House_size_51-100 M2</th>                    <td>   -0.3054</td> <td>    0.479</td> <td>   -0.638</td> <td> 0.524</td> <td>   -1.244</td> <td>    0.633</td>\n",
       "</tr>\n",
       "<tr>\n",
       "  <th>House_size_> 150 M2</th>                     <td>   -0.4806</td> <td>    0.674</td> <td>   -0.713</td> <td> 0.476</td> <td>   -1.802</td> <td>    0.841</td>\n",
       "</tr>\n",
       "<tr>\n",
       "  <th>House_size_I DON'T KNOW</th>                 <td>   -0.1003</td> <td>    0.627</td> <td>   -0.160</td> <td> 0.873</td> <td>   -1.329</td> <td>    1.129</td>\n",
       "</tr>\n",
       "<tr>\n",
       "  <th>No_of_people_in_the_house_THREE OR MORE</th> <td>   -0.3527</td> <td>    0.309</td> <td>   -1.140</td> <td> 0.254</td> <td>   -0.959</td> <td>    0.254</td>\n",
       "</tr>\n",
       "<tr>\n",
       "  <th>No_of_people_in_the_house_TWO</th>           <td>   -0.1721</td> <td>    0.242</td> <td>   -0.711</td> <td> 0.477</td> <td>   -0.647</td> <td>    0.302</td>\n",
       "</tr>\n",
       "<tr>\n",
       "  <th>BCN_evolution_IT HAS IMPROVED</th>           <td>    0.8797</td> <td>    0.321</td> <td>    2.741</td> <td> 0.006</td> <td>    0.251</td> <td>    1.509</td>\n",
       "</tr>\n",
       "<tr>\n",
       "  <th>BCN_evolution_IT IS THE SAME</th>            <td>    0.7388</td> <td>    0.272</td> <td>    2.719</td> <td> 0.007</td> <td>    0.206</td> <td>    1.271</td>\n",
       "</tr>\n",
       "<tr>\n",
       "  <th>BCN_future_IT WILL IMPROVE</th>              <td>    1.2487</td> <td>    0.230</td> <td>    5.424</td> <td> 0.000</td> <td>    0.798</td> <td>    1.700</td>\n",
       "</tr>\n",
       "<tr>\n",
       "  <th>BCN_future_IT WILL STAY THE SAME</th>        <td>    0.6103</td> <td>    0.238</td> <td>    2.561</td> <td> 0.010</td> <td>    0.143</td> <td>    1.077</td>\n",
       "</tr>\n",
       "</table>"
      ],
      "text/plain": [
       "<class 'statsmodels.iolib.summary.Summary'>\n",
       "\"\"\"\n",
       "                    Generalized Linear Model Regression Results                     \n",
       "====================================================================================\n",
       "Dep. Variable:     Residential_satisfaction   No. Observations:                 1169\n",
       "Model:                                  GLM   Df Residuals:                     1149\n",
       "Model Family:                      Binomial   Df Model:                           19\n",
       "Link Function:                        logit   Scale:                          1.0000\n",
       "Method:                                IRLS   Log-Likelihood:                -377.51\n",
       "Date:                      Mon, 10 May 2021   Deviance:                       755.01\n",
       "Time:                              21:48:09   Pearson chi2:                 1.21e+03\n",
       "No. Iterations:                           6                                         \n",
       "Covariance Type:                  nonrobust                                         \n",
       "===========================================================================================================\n",
       "                                              coef    std err          z      P>|z|      [0.025      0.975]\n",
       "-----------------------------------------------------------------------------------------------------------\n",
       "const                                       0.1587      0.544      0.292      0.771      -0.908       1.225\n",
       "Woman                                       0.3956      0.206      1.920      0.055      -0.008       0.799\n",
       "Car                                        -0.2667      0.224     -1.190      0.234      -0.706       0.173\n",
       "Support_with_housework                      0.2496      0.211      1.182      0.237      -0.164       0.663\n",
       "Owner                                       0.3900      0.247      1.582      0.114      -0.093       0.873\n",
       "GARBAGE COLLECTION                          0.5518      0.206      2.675      0.007       0.147       0.956\n",
       "GREEN AREAS                                 0.1888      0.210      0.898      0.369      -0.223       0.601\n",
       "ASPHALT AND STREET CONSERVATION             0.5709      0.240      2.376      0.018       0.100       1.042\n",
       "CIRCULATION AND TRAFFIC                    -0.1643      0.235     -0.700      0.484      -0.624       0.296\n",
       "CITY MANAGEMENT                             0.5830      0.259      2.254      0.024       0.076       1.090\n",
       "House_size_101-150 M2                      -0.4254      0.546     -0.779      0.436      -1.495       0.645\n",
       "House_size_51-100 M2                       -0.3054      0.479     -0.638      0.524      -1.244       0.633\n",
       "House_size_> 150 M2                        -0.4806      0.674     -0.713      0.476      -1.802       0.841\n",
       "House_size_I DON'T KNOW                    -0.1003      0.627     -0.160      0.873      -1.329       1.129\n",
       "No_of_people_in_the_house_THREE OR MORE    -0.3527      0.309     -1.140      0.254      -0.959       0.254\n",
       "No_of_people_in_the_house_TWO              -0.1721      0.242     -0.711      0.477      -0.647       0.302\n",
       "BCN_evolution_IT HAS IMPROVED               0.8797      0.321      2.741      0.006       0.251       1.509\n",
       "BCN_evolution_IT IS THE SAME                0.7388      0.272      2.719      0.007       0.206       1.271\n",
       "BCN_future_IT WILL IMPROVE                  1.2487      0.230      5.424      0.000       0.798       1.700\n",
       "BCN_future_IT WILL STAY THE SAME            0.6103      0.238      2.561      0.010       0.143       1.077\n",
       "===========================================================================================================\n",
       "\"\"\""
      ]
     },
     "execution_count": 25,
     "metadata": {},
     "output_type": "execute_result"
    }
   ],
   "source": [
    "glm_logit = sm.GLM(y, x, family=sm.families.Binomial())\n",
    "glm_logit_results = glm_logit.fit()\n",
    "glm_logit_results.summary()"
   ]
  },
  {
   "cell_type": "code",
   "execution_count": 26,
   "metadata": {},
   "outputs": [
    {
     "data": {
      "text/plain": [
       "795.013781057183"
      ]
     },
     "execution_count": 26,
     "metadata": {},
     "output_type": "execute_result"
    }
   ],
   "source": [
    "glm_logit_results.aic"
   ]
  },
  {
   "cell_type": "code",
   "execution_count": 27,
   "metadata": {},
   "outputs": [
    {
     "name": "stderr",
     "output_type": "stream",
     "text": [
      "C:\\Users\\THINK\\anaconda3\\lib\\site-packages\\statsmodels\\genmod\\generalized_linear_model.py:1731: FutureWarning: The bic value is computed using the deviance formula. After 0.13 this will change to the log-likelihood based formula. This change has no impact on the relative rank of models compared using BIC. You can directly access the log-likelihood version using the `bic_llf` attribute. You can suppress this message by calling statsmodels.genmod.generalized_linear_model.SET_USE_BIC_LLF with True to get the LLF-based version now or False to retainthe deviance version.\n",
      "  FutureWarning\n"
     ]
    },
    {
     "data": {
      "text/plain": [
       "-7361.411870674223"
      ]
     },
     "execution_count": 27,
     "metadata": {},
     "output_type": "execute_result"
    }
   ],
   "source": [
    "glm_logit_results.bic"
   ]
  },
  {
   "cell_type": "code",
   "execution_count": 28,
   "metadata": {},
   "outputs": [
    {
     "data": {
      "text/plain": [
       "House_size_I DON'T KNOW                    8.729428e-01\n",
       "const                                      7.705453e-01\n",
       "House_size_51-100 M2                       5.237231e-01\n",
       "CIRCULATION AND TRAFFIC                    4.837595e-01\n",
       "No_of_people_in_the_house_TWO              4.770659e-01\n",
       "House_size_> 150 M2                        4.759677e-01\n",
       "House_size_101-150 M2                      4.358733e-01\n",
       "GREEN AREAS                                3.689380e-01\n",
       "No_of_people_in_the_house_THREE OR MORE    2.541561e-01\n",
       "Support_with_housework                     2.370614e-01\n",
       "Car                                        2.342000e-01\n",
       "Owner                                      1.136721e-01\n",
       "Woman                                      5.490377e-02\n",
       "CITY MANAGEMENT                            2.418297e-02\n",
       "ASPHALT AND STREET CONSERVATION            1.751297e-02\n",
       "BCN_future_IT WILL STAY THE SAME           1.043698e-02\n",
       "GARBAGE COLLECTION                         7.474732e-03\n",
       "BCN_evolution_IT IS THE SAME               6.555473e-03\n",
       "BCN_evolution_IT HAS IMPROVED              6.122569e-03\n",
       "BCN_future_IT WILL IMPROVE                 5.813991e-08\n",
       "dtype: float64"
      ]
     },
     "execution_count": 28,
     "metadata": {},
     "output_type": "execute_result"
    }
   ],
   "source": [
    "glm_logit_results.pvalues.sort_values(ascending=False)"
   ]
  },
  {
   "cell_type": "code",
   "execution_count": null,
   "metadata": {},
   "outputs": [],
   "source": []
  },
  {
   "cell_type": "code",
   "execution_count": 29,
   "metadata": {},
   "outputs": [],
   "source": [
    "for i in x.columns.tolist():\n",
    "    if i[:5] == 'House':\n",
    "        del x[i]"
   ]
  },
  {
   "cell_type": "code",
   "execution_count": 30,
   "metadata": {},
   "outputs": [
    {
     "data": {
      "text/html": [
       "<table class=\"simpletable\">\n",
       "<caption>Generalized Linear Model Regression Results</caption>\n",
       "<tr>\n",
       "  <th>Dep. Variable:</th>   <td>Residential_satisfaction</td> <th>  No. Observations:  </th>  <td>  1169</td> \n",
       "</tr>\n",
       "<tr>\n",
       "  <th>Model:</th>                      <td>GLM</td>           <th>  Df Residuals:      </th>  <td>  1153</td> \n",
       "</tr>\n",
       "<tr>\n",
       "  <th>Model Family:</th>            <td>Binomial</td>         <th>  Df Model:          </th>  <td>    15</td> \n",
       "</tr>\n",
       "<tr>\n",
       "  <th>Link Function:</th>             <td>logit</td>          <th>  Scale:             </th> <td>  1.0000</td>\n",
       "</tr>\n",
       "<tr>\n",
       "  <th>Method:</th>                    <td>IRLS</td>           <th>  Log-Likelihood:    </th> <td> -377.98</td>\n",
       "</tr>\n",
       "<tr>\n",
       "  <th>Date:</th>                <td>Mon, 10 May 2021</td>     <th>  Deviance:          </th> <td>  755.97</td>\n",
       "</tr>\n",
       "<tr>\n",
       "  <th>Time:</th>                    <td>21:48:10</td>         <th>  Pearson chi2:      </th> <td>1.21e+03</td>\n",
       "</tr>\n",
       "<tr>\n",
       "  <th>No. Iterations:</th>              <td>6</td>            <th>                     </th>     <td> </td>   \n",
       "</tr>\n",
       "<tr>\n",
       "  <th>Covariance Type:</th>         <td>nonrobust</td>        <th>                     </th>     <td> </td>   \n",
       "</tr>\n",
       "</table>\n",
       "<table class=\"simpletable\">\n",
       "<tr>\n",
       "                     <td></td>                        <th>coef</th>     <th>std err</th>      <th>z</th>      <th>P>|z|</th>  <th>[0.025</th>    <th>0.975]</th>  \n",
       "</tr>\n",
       "<tr>\n",
       "  <th>const</th>                                   <td>   -0.0749</td> <td>    0.372</td> <td>   -0.201</td> <td> 0.841</td> <td>   -0.804</td> <td>    0.654</td>\n",
       "</tr>\n",
       "<tr>\n",
       "  <th>Woman</th>                                   <td>    0.4012</td> <td>    0.204</td> <td>    1.965</td> <td> 0.049</td> <td>    0.001</td> <td>    0.801</td>\n",
       "</tr>\n",
       "<tr>\n",
       "  <th>Car</th>                                     <td>   -0.2875</td> <td>    0.223</td> <td>   -1.291</td> <td> 0.197</td> <td>   -0.724</td> <td>    0.149</td>\n",
       "</tr>\n",
       "<tr>\n",
       "  <th>Support_with_housework</th>                  <td>    0.2199</td> <td>    0.205</td> <td>    1.072</td> <td> 0.284</td> <td>   -0.182</td> <td>    0.622</td>\n",
       "</tr>\n",
       "<tr>\n",
       "  <th>Owner</th>                                   <td>    0.3467</td> <td>    0.242</td> <td>    1.435</td> <td> 0.151</td> <td>   -0.127</td> <td>    0.820</td>\n",
       "</tr>\n",
       "<tr>\n",
       "  <th>GARBAGE COLLECTION</th>                      <td>    0.5464</td> <td>    0.206</td> <td>    2.655</td> <td> 0.008</td> <td>    0.143</td> <td>    0.950</td>\n",
       "</tr>\n",
       "<tr>\n",
       "  <th>GREEN AREAS</th>                             <td>    0.1978</td> <td>    0.209</td> <td>    0.945</td> <td> 0.345</td> <td>   -0.212</td> <td>    0.608</td>\n",
       "</tr>\n",
       "<tr>\n",
       "  <th>ASPHALT AND STREET CONSERVATION</th>         <td>    0.5705</td> <td>    0.239</td> <td>    2.386</td> <td> 0.017</td> <td>    0.102</td> <td>    1.039</td>\n",
       "</tr>\n",
       "<tr>\n",
       "  <th>CIRCULATION AND TRAFFIC</th>                 <td>   -0.1574</td> <td>    0.234</td> <td>   -0.674</td> <td> 0.501</td> <td>   -0.615</td> <td>    0.301</td>\n",
       "</tr>\n",
       "<tr>\n",
       "  <th>CITY MANAGEMENT</th>                         <td>    0.5975</td> <td>    0.257</td> <td>    2.322</td> <td> 0.020</td> <td>    0.093</td> <td>    1.102</td>\n",
       "</tr>\n",
       "<tr>\n",
       "  <th>No_of_people_in_the_house_THREE OR MORE</th> <td>   -0.3758</td> <td>    0.307</td> <td>   -1.226</td> <td> 0.220</td> <td>   -0.977</td> <td>    0.225</td>\n",
       "</tr>\n",
       "<tr>\n",
       "  <th>No_of_people_in_the_house_TWO</th>           <td>   -0.1856</td> <td>    0.241</td> <td>   -0.772</td> <td> 0.440</td> <td>   -0.657</td> <td>    0.286</td>\n",
       "</tr>\n",
       "<tr>\n",
       "  <th>BCN_evolution_IT HAS IMPROVED</th>           <td>    0.8774</td> <td>    0.320</td> <td>    2.740</td> <td> 0.006</td> <td>    0.250</td> <td>    1.505</td>\n",
       "</tr>\n",
       "<tr>\n",
       "  <th>BCN_evolution_IT IS THE SAME</th>            <td>    0.7354</td> <td>    0.271</td> <td>    2.711</td> <td> 0.007</td> <td>    0.204</td> <td>    1.267</td>\n",
       "</tr>\n",
       "<tr>\n",
       "  <th>BCN_future_IT WILL IMPROVE</th>              <td>    1.2372</td> <td>    0.229</td> <td>    5.410</td> <td> 0.000</td> <td>    0.789</td> <td>    1.686</td>\n",
       "</tr>\n",
       "<tr>\n",
       "  <th>BCN_future_IT WILL STAY THE SAME</th>        <td>    0.5977</td> <td>    0.237</td> <td>    2.518</td> <td> 0.012</td> <td>    0.133</td> <td>    1.063</td>\n",
       "</tr>\n",
       "</table>"
      ],
      "text/plain": [
       "<class 'statsmodels.iolib.summary.Summary'>\n",
       "\"\"\"\n",
       "                    Generalized Linear Model Regression Results                     \n",
       "====================================================================================\n",
       "Dep. Variable:     Residential_satisfaction   No. Observations:                 1169\n",
       "Model:                                  GLM   Df Residuals:                     1153\n",
       "Model Family:                      Binomial   Df Model:                           15\n",
       "Link Function:                        logit   Scale:                          1.0000\n",
       "Method:                                IRLS   Log-Likelihood:                -377.98\n",
       "Date:                      Mon, 10 May 2021   Deviance:                       755.97\n",
       "Time:                              21:48:10   Pearson chi2:                 1.21e+03\n",
       "No. Iterations:                           6                                         \n",
       "Covariance Type:                  nonrobust                                         \n",
       "===========================================================================================================\n",
       "                                              coef    std err          z      P>|z|      [0.025      0.975]\n",
       "-----------------------------------------------------------------------------------------------------------\n",
       "const                                      -0.0749      0.372     -0.201      0.841      -0.804       0.654\n",
       "Woman                                       0.4012      0.204      1.965      0.049       0.001       0.801\n",
       "Car                                        -0.2875      0.223     -1.291      0.197      -0.724       0.149\n",
       "Support_with_housework                      0.2199      0.205      1.072      0.284      -0.182       0.622\n",
       "Owner                                       0.3467      0.242      1.435      0.151      -0.127       0.820\n",
       "GARBAGE COLLECTION                          0.5464      0.206      2.655      0.008       0.143       0.950\n",
       "GREEN AREAS                                 0.1978      0.209      0.945      0.345      -0.212       0.608\n",
       "ASPHALT AND STREET CONSERVATION             0.5705      0.239      2.386      0.017       0.102       1.039\n",
       "CIRCULATION AND TRAFFIC                    -0.1574      0.234     -0.674      0.501      -0.615       0.301\n",
       "CITY MANAGEMENT                             0.5975      0.257      2.322      0.020       0.093       1.102\n",
       "No_of_people_in_the_house_THREE OR MORE    -0.3758      0.307     -1.226      0.220      -0.977       0.225\n",
       "No_of_people_in_the_house_TWO              -0.1856      0.241     -0.772      0.440      -0.657       0.286\n",
       "BCN_evolution_IT HAS IMPROVED               0.8774      0.320      2.740      0.006       0.250       1.505\n",
       "BCN_evolution_IT IS THE SAME                0.7354      0.271      2.711      0.007       0.204       1.267\n",
       "BCN_future_IT WILL IMPROVE                  1.2372      0.229      5.410      0.000       0.789       1.686\n",
       "BCN_future_IT WILL STAY THE SAME            0.5977      0.237      2.518      0.012       0.133       1.063\n",
       "===========================================================================================================\n",
       "\"\"\""
      ]
     },
     "execution_count": 30,
     "metadata": {},
     "output_type": "execute_result"
    }
   ],
   "source": [
    "glm_logit = sm.GLM(y, x, family=sm.families.Binomial())\n",
    "glm_logit_results = glm_logit.fit()\n",
    "glm_logit_results.summary()"
   ]
  },
  {
   "cell_type": "code",
   "execution_count": null,
   "metadata": {},
   "outputs": [],
   "source": []
  },
  {
   "cell_type": "code",
   "execution_count": 31,
   "metadata": {},
   "outputs": [
    {
     "data": {
      "text/plain": [
       "787.9663588236922"
      ]
     },
     "execution_count": 31,
     "metadata": {},
     "output_type": "execute_result"
    }
   ],
   "source": [
    "glm_logit_results.aic"
   ]
  },
  {
   "cell_type": "code",
   "execution_count": 32,
   "metadata": {},
   "outputs": [
    {
     "name": "stderr",
     "output_type": "stream",
     "text": [
      "C:\\Users\\THINK\\anaconda3\\lib\\site-packages\\statsmodels\\genmod\\generalized_linear_model.py:1731: FutureWarning: The bic value is computed using the deviance formula. After 0.13 this will change to the log-likelihood based formula. This change has no impact on the relative rank of models compared using BIC. You can directly access the log-likelihood version using the `bic_llf` attribute. You can suppress this message by calling statsmodels.genmod.generalized_linear_model.SET_USE_BIC_LLF with True to get the LLF-based version now or False to retainthe deviance version.\n",
      "  FutureWarning\n"
     ]
    },
    {
     "data": {
      "text/plain": [
       "-7388.714908753602"
      ]
     },
     "execution_count": 32,
     "metadata": {},
     "output_type": "execute_result"
    }
   ],
   "source": [
    "glm_logit_results.bic"
   ]
  },
  {
   "cell_type": "code",
   "execution_count": 33,
   "metadata": {},
   "outputs": [
    {
     "data": {
      "text/plain": [
       "const                                      8.405718e-01\n",
       "CIRCULATION AND TRAFFIC                    5.005274e-01\n",
       "No_of_people_in_the_house_TWO              4.402279e-01\n",
       "GREEN AREAS                                3.446993e-01\n",
       "Support_with_housework                     2.838945e-01\n",
       "No_of_people_in_the_house_THREE OR MORE    2.203488e-01\n",
       "Car                                        1.967533e-01\n",
       "Owner                                      1.513937e-01\n",
       "Woman                                      4.938199e-02\n",
       "CITY MANAGEMENT                            2.023511e-02\n",
       "ASPHALT AND STREET CONSERVATION            1.701808e-02\n",
       "BCN_future_IT WILL STAY THE SAME           1.178627e-02\n",
       "GARBAGE COLLECTION                         7.938504e-03\n",
       "BCN_evolution_IT IS THE SAME               6.708003e-03\n",
       "BCN_evolution_IT HAS IMPROVED              6.140364e-03\n",
       "BCN_future_IT WILL IMPROVE                 6.311932e-08\n",
       "dtype: float64"
      ]
     },
     "execution_count": 33,
     "metadata": {},
     "output_type": "execute_result"
    }
   ],
   "source": [
    "glm_logit_results.pvalues.sort_values(ascending=False)"
   ]
  },
  {
   "cell_type": "code",
   "execution_count": null,
   "metadata": {},
   "outputs": [],
   "source": []
  },
  {
   "cell_type": "code",
   "execution_count": 34,
   "metadata": {},
   "outputs": [],
   "source": [
    "for i in x.columns.tolist():\n",
    "    if i[:5] == 'No_of':\n",
    "        del x[i]"
   ]
  },
  {
   "cell_type": "code",
   "execution_count": 35,
   "metadata": {},
   "outputs": [
    {
     "data": {
      "text/html": [
       "<table class=\"simpletable\">\n",
       "<caption>Generalized Linear Model Regression Results</caption>\n",
       "<tr>\n",
       "  <th>Dep. Variable:</th>   <td>Residential_satisfaction</td> <th>  No. Observations:  </th>  <td>  1169</td> \n",
       "</tr>\n",
       "<tr>\n",
       "  <th>Model:</th>                      <td>GLM</td>           <th>  Df Residuals:      </th>  <td>  1155</td> \n",
       "</tr>\n",
       "<tr>\n",
       "  <th>Model Family:</th>            <td>Binomial</td>         <th>  Df Model:          </th>  <td>    13</td> \n",
       "</tr>\n",
       "<tr>\n",
       "  <th>Link Function:</th>             <td>logit</td>          <th>  Scale:             </th> <td>  1.0000</td>\n",
       "</tr>\n",
       "<tr>\n",
       "  <th>Method:</th>                    <td>IRLS</td>           <th>  Log-Likelihood:    </th> <td> -378.73</td>\n",
       "</tr>\n",
       "<tr>\n",
       "  <th>Date:</th>                <td>Mon, 10 May 2021</td>     <th>  Deviance:          </th> <td>  757.47</td>\n",
       "</tr>\n",
       "<tr>\n",
       "  <th>Time:</th>                    <td>21:48:12</td>         <th>  Pearson chi2:      </th> <td>1.22e+03</td>\n",
       "</tr>\n",
       "<tr>\n",
       "  <th>No. Iterations:</th>              <td>6</td>            <th>                     </th>     <td> </td>   \n",
       "</tr>\n",
       "<tr>\n",
       "  <th>Covariance Type:</th>         <td>nonrobust</td>        <th>                     </th>     <td> </td>   \n",
       "</tr>\n",
       "</table>\n",
       "<table class=\"simpletable\">\n",
       "<tr>\n",
       "                  <td></td>                    <th>coef</th>     <th>std err</th>      <th>z</th>      <th>P>|z|</th>  <th>[0.025</th>    <th>0.975]</th>  \n",
       "</tr>\n",
       "<tr>\n",
       "  <th>const</th>                            <td>   -0.2299</td> <td>    0.342</td> <td>   -0.673</td> <td> 0.501</td> <td>   -0.899</td> <td>    0.440</td>\n",
       "</tr>\n",
       "<tr>\n",
       "  <th>Woman</th>                            <td>    0.4439</td> <td>    0.201</td> <td>    2.208</td> <td> 0.027</td> <td>    0.050</td> <td>    0.838</td>\n",
       "</tr>\n",
       "<tr>\n",
       "  <th>Car</th>                              <td>   -0.3641</td> <td>    0.208</td> <td>   -1.747</td> <td> 0.081</td> <td>   -0.773</td> <td>    0.044</td>\n",
       "</tr>\n",
       "<tr>\n",
       "  <th>Support_with_housework</th>           <td>    0.2259</td> <td>    0.205</td> <td>    1.103</td> <td> 0.270</td> <td>   -0.176</td> <td>    0.627</td>\n",
       "</tr>\n",
       "<tr>\n",
       "  <th>Owner</th>                            <td>    0.3584</td> <td>    0.241</td> <td>    1.489</td> <td> 0.136</td> <td>   -0.113</td> <td>    0.830</td>\n",
       "</tr>\n",
       "<tr>\n",
       "  <th>GARBAGE COLLECTION</th>               <td>    0.5471</td> <td>    0.205</td> <td>    2.666</td> <td> 0.008</td> <td>    0.145</td> <td>    0.949</td>\n",
       "</tr>\n",
       "<tr>\n",
       "  <th>GREEN AREAS</th>                      <td>    0.2041</td> <td>    0.209</td> <td>    0.976</td> <td> 0.329</td> <td>   -0.206</td> <td>    0.614</td>\n",
       "</tr>\n",
       "<tr>\n",
       "  <th>ASPHALT AND STREET CONSERVATION</th>  <td>    0.5840</td> <td>    0.238</td> <td>    2.454</td> <td> 0.014</td> <td>    0.118</td> <td>    1.050</td>\n",
       "</tr>\n",
       "<tr>\n",
       "  <th>CIRCULATION AND TRAFFIC</th>          <td>   -0.1708</td> <td>    0.233</td> <td>   -0.732</td> <td> 0.464</td> <td>   -0.628</td> <td>    0.286</td>\n",
       "</tr>\n",
       "<tr>\n",
       "  <th>CITY MANAGEMENT</th>                  <td>    0.5898</td> <td>    0.257</td> <td>    2.297</td> <td> 0.022</td> <td>    0.087</td> <td>    1.093</td>\n",
       "</tr>\n",
       "<tr>\n",
       "  <th>BCN_evolution_IT HAS IMPROVED</th>    <td>    0.8954</td> <td>    0.320</td> <td>    2.800</td> <td> 0.005</td> <td>    0.269</td> <td>    1.522</td>\n",
       "</tr>\n",
       "<tr>\n",
       "  <th>BCN_evolution_IT IS THE SAME</th>     <td>    0.7548</td> <td>    0.271</td> <td>    2.789</td> <td> 0.005</td> <td>    0.224</td> <td>    1.285</td>\n",
       "</tr>\n",
       "<tr>\n",
       "  <th>BCN_future_IT WILL IMPROVE</th>       <td>    1.2313</td> <td>    0.228</td> <td>    5.392</td> <td> 0.000</td> <td>    0.784</td> <td>    1.679</td>\n",
       "</tr>\n",
       "<tr>\n",
       "  <th>BCN_future_IT WILL STAY THE SAME</th> <td>    0.5974</td> <td>    0.237</td> <td>    2.525</td> <td> 0.012</td> <td>    0.134</td> <td>    1.061</td>\n",
       "</tr>\n",
       "</table>"
      ],
      "text/plain": [
       "<class 'statsmodels.iolib.summary.Summary'>\n",
       "\"\"\"\n",
       "                    Generalized Linear Model Regression Results                     \n",
       "====================================================================================\n",
       "Dep. Variable:     Residential_satisfaction   No. Observations:                 1169\n",
       "Model:                                  GLM   Df Residuals:                     1155\n",
       "Model Family:                      Binomial   Df Model:                           13\n",
       "Link Function:                        logit   Scale:                          1.0000\n",
       "Method:                                IRLS   Log-Likelihood:                -378.73\n",
       "Date:                      Mon, 10 May 2021   Deviance:                       757.47\n",
       "Time:                              21:48:12   Pearson chi2:                 1.22e+03\n",
       "No. Iterations:                           6                                         \n",
       "Covariance Type:                  nonrobust                                         \n",
       "====================================================================================================\n",
       "                                       coef    std err          z      P>|z|      [0.025      0.975]\n",
       "----------------------------------------------------------------------------------------------------\n",
       "const                               -0.2299      0.342     -0.673      0.501      -0.899       0.440\n",
       "Woman                                0.4439      0.201      2.208      0.027       0.050       0.838\n",
       "Car                                 -0.3641      0.208     -1.747      0.081      -0.773       0.044\n",
       "Support_with_housework               0.2259      0.205      1.103      0.270      -0.176       0.627\n",
       "Owner                                0.3584      0.241      1.489      0.136      -0.113       0.830\n",
       "GARBAGE COLLECTION                   0.5471      0.205      2.666      0.008       0.145       0.949\n",
       "GREEN AREAS                          0.2041      0.209      0.976      0.329      -0.206       0.614\n",
       "ASPHALT AND STREET CONSERVATION      0.5840      0.238      2.454      0.014       0.118       1.050\n",
       "CIRCULATION AND TRAFFIC             -0.1708      0.233     -0.732      0.464      -0.628       0.286\n",
       "CITY MANAGEMENT                      0.5898      0.257      2.297      0.022       0.087       1.093\n",
       "BCN_evolution_IT HAS IMPROVED        0.8954      0.320      2.800      0.005       0.269       1.522\n",
       "BCN_evolution_IT IS THE SAME         0.7548      0.271      2.789      0.005       0.224       1.285\n",
       "BCN_future_IT WILL IMPROVE           1.2313      0.228      5.392      0.000       0.784       1.679\n",
       "BCN_future_IT WILL STAY THE SAME     0.5974      0.237      2.525      0.012       0.134       1.061\n",
       "====================================================================================================\n",
       "\"\"\""
      ]
     },
     "execution_count": 35,
     "metadata": {},
     "output_type": "execute_result"
    }
   ],
   "source": [
    "glm_logit = sm.GLM(y, x, family=sm.families.Binomial())\n",
    "glm_logit_results = glm_logit.fit()\n",
    "glm_logit_results.summary()"
   ]
  },
  {
   "cell_type": "code",
   "execution_count": null,
   "metadata": {},
   "outputs": [],
   "source": []
  },
  {
   "cell_type": "code",
   "execution_count": 36,
   "metadata": {},
   "outputs": [
    {
     "data": {
      "text/plain": [
       "785.469018504969"
      ]
     },
     "execution_count": 36,
     "metadata": {},
     "output_type": "execute_result"
    }
   ],
   "source": [
    "glm_logit_results.aic"
   ]
  },
  {
   "cell_type": "code",
   "execution_count": 37,
   "metadata": {},
   "outputs": [
    {
     "name": "stderr",
     "output_type": "stream",
     "text": [
      "C:\\Users\\THINK\\anaconda3\\lib\\site-packages\\statsmodels\\genmod\\generalized_linear_model.py:1731: FutureWarning: The bic value is computed using the deviance formula. After 0.13 this will change to the log-likelihood based formula. This change has no impact on the relative rank of models compared using BIC. You can directly access the log-likelihood version using the `bic_llf` attribute. You can suppress this message by calling statsmodels.genmod.generalized_linear_model.SET_USE_BIC_LLF with True to get the LLF-based version now or False to retainthe deviance version.\n",
      "  FutureWarning\n"
     ]
    },
    {
     "data": {
      "text/plain": [
       "-7401.34005699527"
      ]
     },
     "execution_count": 37,
     "metadata": {},
     "output_type": "execute_result"
    }
   ],
   "source": [
    "glm_logit_results.bic"
   ]
  },
  {
   "cell_type": "code",
   "execution_count": 38,
   "metadata": {},
   "outputs": [
    {
     "data": {
      "text/plain": [
       "const                               5.009352e-01\n",
       "CIRCULATION AND TRAFFIC             4.640093e-01\n",
       "GREEN AREAS                         3.288698e-01\n",
       "Support_with_housework              2.701933e-01\n",
       "Owner                               1.363859e-01\n",
       "Car                                 8.066333e-02\n",
       "Woman                               2.722912e-02\n",
       "CITY MANAGEMENT                     2.161422e-02\n",
       "ASPHALT AND STREET CONSERVATION     1.413569e-02\n",
       "BCN_future_IT WILL STAY THE SAME    1.156896e-02\n",
       "GARBAGE COLLECTION                  7.687206e-03\n",
       "BCN_evolution_IT IS THE SAME        5.292589e-03\n",
       "BCN_evolution_IT HAS IMPROVED       5.102940e-03\n",
       "BCN_future_IT WILL IMPROVE          6.974700e-08\n",
       "dtype: float64"
      ]
     },
     "execution_count": 38,
     "metadata": {},
     "output_type": "execute_result"
    }
   ],
   "source": [
    "glm_logit_results.pvalues.sort_values(ascending=False)"
   ]
  },
  {
   "cell_type": "code",
   "execution_count": null,
   "metadata": {},
   "outputs": [],
   "source": []
  },
  {
   "cell_type": "code",
   "execution_count": 39,
   "metadata": {},
   "outputs": [],
   "source": [
    "for i in ['CIRCULATION AND TRAFFIC', 'GREEN AREAS', 'Support_with_housework', 'Owner']:\n",
    "    del x[i]"
   ]
  },
  {
   "cell_type": "code",
   "execution_count": 40,
   "metadata": {},
   "outputs": [
    {
     "data": {
      "text/html": [
       "<table class=\"simpletable\">\n",
       "<caption>Generalized Linear Model Regression Results</caption>\n",
       "<tr>\n",
       "  <th>Dep. Variable:</th>   <td>Residential_satisfaction</td> <th>  No. Observations:  </th>  <td>  1169</td> \n",
       "</tr>\n",
       "<tr>\n",
       "  <th>Model:</th>                      <td>GLM</td>           <th>  Df Residuals:      </th>  <td>  1159</td> \n",
       "</tr>\n",
       "<tr>\n",
       "  <th>Model Family:</th>            <td>Binomial</td>         <th>  Df Model:          </th>  <td>     9</td> \n",
       "</tr>\n",
       "<tr>\n",
       "  <th>Link Function:</th>             <td>logit</td>          <th>  Scale:             </th> <td>  1.0000</td>\n",
       "</tr>\n",
       "<tr>\n",
       "  <th>Method:</th>                    <td>IRLS</td>           <th>  Log-Likelihood:    </th> <td> -381.09</td>\n",
       "</tr>\n",
       "<tr>\n",
       "  <th>Date:</th>                <td>Mon, 10 May 2021</td>     <th>  Deviance:          </th> <td>  762.17</td>\n",
       "</tr>\n",
       "<tr>\n",
       "  <th>Time:</th>                    <td>21:48:14</td>         <th>  Pearson chi2:      </th> <td>1.19e+03</td>\n",
       "</tr>\n",
       "<tr>\n",
       "  <th>No. Iterations:</th>              <td>6</td>            <th>                     </th>     <td> </td>   \n",
       "</tr>\n",
       "<tr>\n",
       "  <th>Covariance Type:</th>         <td>nonrobust</td>        <th>                     </th>     <td> </td>   \n",
       "</tr>\n",
       "</table>\n",
       "<table class=\"simpletable\">\n",
       "<tr>\n",
       "                  <td></td>                    <th>coef</th>     <th>std err</th>      <th>z</th>      <th>P>|z|</th>  <th>[0.025</th>    <th>0.975]</th>  \n",
       "</tr>\n",
       "<tr>\n",
       "  <th>const</th>                            <td>    0.1175</td> <td>    0.282</td> <td>    0.416</td> <td> 0.677</td> <td>   -0.436</td> <td>    0.671</td>\n",
       "</tr>\n",
       "<tr>\n",
       "  <th>Woman</th>                            <td>    0.4368</td> <td>    0.200</td> <td>    2.182</td> <td> 0.029</td> <td>    0.044</td> <td>    0.829</td>\n",
       "</tr>\n",
       "<tr>\n",
       "  <th>Car</th>                              <td>   -0.2871</td> <td>    0.202</td> <td>   -1.424</td> <td> 0.155</td> <td>   -0.682</td> <td>    0.108</td>\n",
       "</tr>\n",
       "<tr>\n",
       "  <th>GARBAGE COLLECTION</th>               <td>    0.5378</td> <td>    0.199</td> <td>    2.700</td> <td> 0.007</td> <td>    0.147</td> <td>    0.928</td>\n",
       "</tr>\n",
       "<tr>\n",
       "  <th>ASPHALT AND STREET CONSERVATION</th>  <td>    0.5710</td> <td>    0.227</td> <td>    2.516</td> <td> 0.012</td> <td>    0.126</td> <td>    1.016</td>\n",
       "</tr>\n",
       "<tr>\n",
       "  <th>CITY MANAGEMENT</th>                  <td>    0.5837</td> <td>    0.253</td> <td>    2.310</td> <td> 0.021</td> <td>    0.088</td> <td>    1.079</td>\n",
       "</tr>\n",
       "<tr>\n",
       "  <th>BCN_evolution_IT HAS IMPROVED</th>    <td>    0.8710</td> <td>    0.317</td> <td>    2.744</td> <td> 0.006</td> <td>    0.249</td> <td>    1.493</td>\n",
       "</tr>\n",
       "<tr>\n",
       "  <th>BCN_evolution_IT IS THE SAME</th>     <td>    0.7323</td> <td>    0.270</td> <td>    2.716</td> <td> 0.007</td> <td>    0.204</td> <td>    1.261</td>\n",
       "</tr>\n",
       "<tr>\n",
       "  <th>BCN_future_IT WILL IMPROVE</th>       <td>    1.2618</td> <td>    0.227</td> <td>    5.558</td> <td> 0.000</td> <td>    0.817</td> <td>    1.707</td>\n",
       "</tr>\n",
       "<tr>\n",
       "  <th>BCN_future_IT WILL STAY THE SAME</th> <td>    0.6481</td> <td>    0.234</td> <td>    2.766</td> <td> 0.006</td> <td>    0.189</td> <td>    1.107</td>\n",
       "</tr>\n",
       "</table>"
      ],
      "text/plain": [
       "<class 'statsmodels.iolib.summary.Summary'>\n",
       "\"\"\"\n",
       "                    Generalized Linear Model Regression Results                     \n",
       "====================================================================================\n",
       "Dep. Variable:     Residential_satisfaction   No. Observations:                 1169\n",
       "Model:                                  GLM   Df Residuals:                     1159\n",
       "Model Family:                      Binomial   Df Model:                            9\n",
       "Link Function:                        logit   Scale:                          1.0000\n",
       "Method:                                IRLS   Log-Likelihood:                -381.09\n",
       "Date:                      Mon, 10 May 2021   Deviance:                       762.17\n",
       "Time:                              21:48:14   Pearson chi2:                 1.19e+03\n",
       "No. Iterations:                           6                                         \n",
       "Covariance Type:                  nonrobust                                         \n",
       "====================================================================================================\n",
       "                                       coef    std err          z      P>|z|      [0.025      0.975]\n",
       "----------------------------------------------------------------------------------------------------\n",
       "const                                0.1175      0.282      0.416      0.677      -0.436       0.671\n",
       "Woman                                0.4368      0.200      2.182      0.029       0.044       0.829\n",
       "Car                                 -0.2871      0.202     -1.424      0.155      -0.682       0.108\n",
       "GARBAGE COLLECTION                   0.5378      0.199      2.700      0.007       0.147       0.928\n",
       "ASPHALT AND STREET CONSERVATION      0.5710      0.227      2.516      0.012       0.126       1.016\n",
       "CITY MANAGEMENT                      0.5837      0.253      2.310      0.021       0.088       1.079\n",
       "BCN_evolution_IT HAS IMPROVED        0.8710      0.317      2.744      0.006       0.249       1.493\n",
       "BCN_evolution_IT IS THE SAME         0.7323      0.270      2.716      0.007       0.204       1.261\n",
       "BCN_future_IT WILL IMPROVE           1.2618      0.227      5.558      0.000       0.817       1.707\n",
       "BCN_future_IT WILL STAY THE SAME     0.6481      0.234      2.766      0.006       0.189       1.107\n",
       "====================================================================================================\n",
       "\"\"\""
      ]
     },
     "execution_count": 40,
     "metadata": {},
     "output_type": "execute_result"
    }
   ],
   "source": [
    "glm_logit = sm.GLM(y, x, family=sm.families.Binomial())\n",
    "glm_logit_results = glm_logit.fit()\n",
    "glm_logit_results.summary()"
   ]
  },
  {
   "cell_type": "code",
   "execution_count": null,
   "metadata": {},
   "outputs": [],
   "source": []
  },
  {
   "cell_type": "code",
   "execution_count": 41,
   "metadata": {},
   "outputs": [
    {
     "data": {
      "text/plain": [
       "782.1718097631767"
      ]
     },
     "execution_count": 41,
     "metadata": {},
     "output_type": "execute_result"
    }
   ],
   "source": [
    "glm_logit_results.aic"
   ]
  },
  {
   "cell_type": "code",
   "execution_count": 42,
   "metadata": {},
   "outputs": [
    {
     "name": "stderr",
     "output_type": "stream",
     "text": [
      "C:\\Users\\THINK\\anaconda3\\lib\\site-packages\\statsmodels\\genmod\\generalized_linear_model.py:1731: FutureWarning: The bic value is computed using the deviance formula. After 0.13 this will change to the log-likelihood based formula. This change has no impact on the relative rank of models compared using BIC. You can directly access the log-likelihood version using the `bic_llf` attribute. You can suppress this message by calling statsmodels.genmod.generalized_linear_model.SET_USE_BIC_LLF with True to get the LLF-based version now or False to retainthe deviance version.\n",
      "  FutureWarning\n"
     ]
    },
    {
     "data": {
      "text/plain": [
       "-7424.89288158295"
      ]
     },
     "execution_count": 42,
     "metadata": {},
     "output_type": "execute_result"
    }
   ],
   "source": [
    "glm_logit_results.bic"
   ]
  },
  {
   "cell_type": "code",
   "execution_count": 43,
   "metadata": {},
   "outputs": [
    {
     "data": {
      "text/plain": [
       "const                               6.772048e-01\n",
       "Car                                 1.545768e-01\n",
       "Woman                               2.910608e-02\n",
       "CITY MANAGEMENT                     2.089098e-02\n",
       "ASPHALT AND STREET CONSERVATION     1.186863e-02\n",
       "GARBAGE COLLECTION                  6.942045e-03\n",
       "BCN_evolution_IT IS THE SAME        6.608162e-03\n",
       "BCN_evolution_IT HAS IMPROVED       6.072731e-03\n",
       "BCN_future_IT WILL STAY THE SAME    5.669355e-03\n",
       "BCN_future_IT WILL IMPROVE          2.727900e-08\n",
       "dtype: float64"
      ]
     },
     "execution_count": 43,
     "metadata": {},
     "output_type": "execute_result"
    }
   ],
   "source": [
    "glm_logit_results.pvalues.sort_values(ascending=False)"
   ]
  },
  {
   "cell_type": "code",
   "execution_count": null,
   "metadata": {},
   "outputs": [],
   "source": []
  },
  {
   "cell_type": "code",
   "execution_count": 44,
   "metadata": {},
   "outputs": [],
   "source": [
    "for i in ['Car']:\n",
    "    del x[i]"
   ]
  },
  {
   "cell_type": "code",
   "execution_count": 45,
   "metadata": {},
   "outputs": [
    {
     "data": {
      "text/html": [
       "<table class=\"simpletable\">\n",
       "<caption>Generalized Linear Model Regression Results</caption>\n",
       "<tr>\n",
       "  <th>Dep. Variable:</th>   <td>Residential_satisfaction</td> <th>  No. Observations:  </th>  <td>  1169</td> \n",
       "</tr>\n",
       "<tr>\n",
       "  <th>Model:</th>                      <td>GLM</td>           <th>  Df Residuals:      </th>  <td>  1160</td> \n",
       "</tr>\n",
       "<tr>\n",
       "  <th>Model Family:</th>            <td>Binomial</td>         <th>  Df Model:          </th>  <td>     8</td> \n",
       "</tr>\n",
       "<tr>\n",
       "  <th>Link Function:</th>             <td>logit</td>          <th>  Scale:             </th> <td>  1.0000</td>\n",
       "</tr>\n",
       "<tr>\n",
       "  <th>Method:</th>                    <td>IRLS</td>           <th>  Log-Likelihood:    </th> <td> -382.11</td>\n",
       "</tr>\n",
       "<tr>\n",
       "  <th>Date:</th>                <td>Mon, 10 May 2021</td>     <th>  Deviance:          </th> <td>  764.22</td>\n",
       "</tr>\n",
       "<tr>\n",
       "  <th>Time:</th>                    <td>21:48:16</td>         <th>  Pearson chi2:      </th> <td>1.20e+03</td>\n",
       "</tr>\n",
       "<tr>\n",
       "  <th>No. Iterations:</th>              <td>6</td>            <th>                     </th>     <td> </td>   \n",
       "</tr>\n",
       "<tr>\n",
       "  <th>Covariance Type:</th>         <td>nonrobust</td>        <th>                     </th>     <td> </td>   \n",
       "</tr>\n",
       "</table>\n",
       "<table class=\"simpletable\">\n",
       "<tr>\n",
       "                  <td></td>                    <th>coef</th>     <th>std err</th>      <th>z</th>      <th>P>|z|</th>  <th>[0.025</th>    <th>0.975]</th>  \n",
       "</tr>\n",
       "<tr>\n",
       "  <th>const</th>                            <td>   -0.1141</td> <td>    0.231</td> <td>   -0.495</td> <td> 0.621</td> <td>   -0.566</td> <td>    0.338</td>\n",
       "</tr>\n",
       "<tr>\n",
       "  <th>Woman</th>                            <td>    0.5098</td> <td>    0.194</td> <td>    2.632</td> <td> 0.008</td> <td>    0.130</td> <td>    0.889</td>\n",
       "</tr>\n",
       "<tr>\n",
       "  <th>GARBAGE COLLECTION</th>               <td>    0.5683</td> <td>    0.198</td> <td>    2.874</td> <td> 0.004</td> <td>    0.181</td> <td>    0.956</td>\n",
       "</tr>\n",
       "<tr>\n",
       "  <th>ASPHALT AND STREET CONSERVATION</th>  <td>    0.5874</td> <td>    0.227</td> <td>    2.593</td> <td> 0.010</td> <td>    0.143</td> <td>    1.031</td>\n",
       "</tr>\n",
       "<tr>\n",
       "  <th>CITY MANAGEMENT</th>                  <td>    0.6224</td> <td>    0.251</td> <td>    2.482</td> <td> 0.013</td> <td>    0.131</td> <td>    1.114</td>\n",
       "</tr>\n",
       "<tr>\n",
       "  <th>BCN_evolution_IT HAS IMPROVED</th>    <td>    0.8746</td> <td>    0.317</td> <td>    2.763</td> <td> 0.006</td> <td>    0.254</td> <td>    1.495</td>\n",
       "</tr>\n",
       "<tr>\n",
       "  <th>BCN_evolution_IT IS THE SAME</th>     <td>    0.7169</td> <td>    0.269</td> <td>    2.666</td> <td> 0.008</td> <td>    0.190</td> <td>    1.244</td>\n",
       "</tr>\n",
       "<tr>\n",
       "  <th>BCN_future_IT WILL IMPROVE</th>       <td>    1.2393</td> <td>    0.226</td> <td>    5.489</td> <td> 0.000</td> <td>    0.797</td> <td>    1.682</td>\n",
       "</tr>\n",
       "<tr>\n",
       "  <th>BCN_future_IT WILL STAY THE SAME</th> <td>    0.6501</td> <td>    0.234</td> <td>    2.781</td> <td> 0.005</td> <td>    0.192</td> <td>    1.108</td>\n",
       "</tr>\n",
       "</table>"
      ],
      "text/plain": [
       "<class 'statsmodels.iolib.summary.Summary'>\n",
       "\"\"\"\n",
       "                    Generalized Linear Model Regression Results                     \n",
       "====================================================================================\n",
       "Dep. Variable:     Residential_satisfaction   No. Observations:                 1169\n",
       "Model:                                  GLM   Df Residuals:                     1160\n",
       "Model Family:                      Binomial   Df Model:                            8\n",
       "Link Function:                        logit   Scale:                          1.0000\n",
       "Method:                                IRLS   Log-Likelihood:                -382.11\n",
       "Date:                      Mon, 10 May 2021   Deviance:                       764.22\n",
       "Time:                              21:48:16   Pearson chi2:                 1.20e+03\n",
       "No. Iterations:                           6                                         \n",
       "Covariance Type:                  nonrobust                                         \n",
       "====================================================================================================\n",
       "                                       coef    std err          z      P>|z|      [0.025      0.975]\n",
       "----------------------------------------------------------------------------------------------------\n",
       "const                               -0.1141      0.231     -0.495      0.621      -0.566       0.338\n",
       "Woman                                0.5098      0.194      2.632      0.008       0.130       0.889\n",
       "GARBAGE COLLECTION                   0.5683      0.198      2.874      0.004       0.181       0.956\n",
       "ASPHALT AND STREET CONSERVATION      0.5874      0.227      2.593      0.010       0.143       1.031\n",
       "CITY MANAGEMENT                      0.6224      0.251      2.482      0.013       0.131       1.114\n",
       "BCN_evolution_IT HAS IMPROVED        0.8746      0.317      2.763      0.006       0.254       1.495\n",
       "BCN_evolution_IT IS THE SAME         0.7169      0.269      2.666      0.008       0.190       1.244\n",
       "BCN_future_IT WILL IMPROVE           1.2393      0.226      5.489      0.000       0.797       1.682\n",
       "BCN_future_IT WILL STAY THE SAME     0.6501      0.234      2.781      0.005       0.192       1.108\n",
       "====================================================================================================\n",
       "\"\"\""
      ]
     },
     "execution_count": 45,
     "metadata": {},
     "output_type": "execute_result"
    }
   ],
   "source": [
    "glm_logit = sm.GLM(y, x, family=sm.families.Binomial())\n",
    "glm_logit_results = glm_logit.fit()\n",
    "glm_logit_results.summary()"
   ]
  },
  {
   "cell_type": "code",
   "execution_count": null,
   "metadata": {},
   "outputs": [],
   "source": []
  },
  {
   "cell_type": "code",
   "execution_count": 46,
   "metadata": {},
   "outputs": [
    {
     "data": {
      "text/plain": [
       "782.2164169564903"
      ]
     },
     "execution_count": 46,
     "metadata": {},
     "output_type": "execute_result"
    }
   ],
   "source": [
    "glm_logit_results.aic"
   ]
  },
  {
   "cell_type": "code",
   "execution_count": 47,
   "metadata": {},
   "outputs": [
    {
     "name": "stderr",
     "output_type": "stream",
     "text": [
      "C:\\Users\\THINK\\anaconda3\\lib\\site-packages\\statsmodels\\genmod\\generalized_linear_model.py:1731: FutureWarning: The bic value is computed using the deviance formula. After 0.13 this will change to the log-likelihood based formula. This change has no impact on the relative rank of models compared using BIC. You can directly access the log-likelihood version using the `bic_llf` attribute. You can suppress this message by calling statsmodels.genmod.generalized_linear_model.SET_USE_BIC_LLF with True to get the LLF-based version now or False to retainthe deviance version.\n",
      "  FutureWarning\n"
     ]
    },
    {
     "data": {
      "text/plain": [
       "-7429.912178351108"
      ]
     },
     "execution_count": 47,
     "metadata": {},
     "output_type": "execute_result"
    }
   ],
   "source": [
    "glm_logit_results.bic"
   ]
  },
  {
   "cell_type": "code",
   "execution_count": 48,
   "metadata": {},
   "outputs": [
    {
     "data": {
      "text/plain": [
       "const                               6.205130e-01\n",
       "CITY MANAGEMENT                     1.305948e-02\n",
       "ASPHALT AND STREET CONSERVATION     9.503128e-03\n",
       "Woman                               8.485393e-03\n",
       "BCN_evolution_IT IS THE SAME        7.675970e-03\n",
       "BCN_evolution_IT HAS IMPROVED       5.727471e-03\n",
       "BCN_future_IT WILL STAY THE SAME    5.411460e-03\n",
       "GARBAGE COLLECTION                  4.059032e-03\n",
       "BCN_future_IT WILL IMPROVE          4.043848e-08\n",
       "dtype: float64"
      ]
     },
     "execution_count": 48,
     "metadata": {},
     "output_type": "execute_result"
    }
   ],
   "source": [
    "glm_logit_results.pvalues.sort_values(ascending=False)"
   ]
  },
  {
   "cell_type": "code",
   "execution_count": null,
   "metadata": {},
   "outputs": [],
   "source": []
  },
  {
   "cell_type": "code",
   "execution_count": 49,
   "metadata": {},
   "outputs": [],
   "source": [
    "def odds_ratios(results):\n",
    "    return np.exp(results.params)"
   ]
  },
  {
   "cell_type": "code",
   "execution_count": 50,
   "metadata": {},
   "outputs": [
    {
     "data": {
      "text/plain": [
       "const                               0.892142\n",
       "Woman                               1.664950\n",
       "GARBAGE COLLECTION                  1.765315\n",
       "ASPHALT AND STREET CONSERVATION     1.799321\n",
       "CITY MANAGEMENT                     1.863400\n",
       "BCN_evolution_IT HAS IMPROVED       2.397873\n",
       "BCN_evolution_IT IS THE SAME        2.048007\n",
       "BCN_future_IT WILL IMPROVE          3.453330\n",
       "BCN_future_IT WILL STAY THE SAME    1.915766\n",
       "dtype: float64"
      ]
     },
     "execution_count": 50,
     "metadata": {},
     "output_type": "execute_result"
    }
   ],
   "source": [
    "odds_ratios(glm_logit_results)"
   ]
  },
  {
   "cell_type": "code",
   "execution_count": null,
   "metadata": {},
   "outputs": [],
   "source": []
  },
  {
   "cell_type": "code",
   "execution_count": 51,
   "metadata": {},
   "outputs": [],
   "source": [
    "def classification_table(results):\n",
    "    df_classification_table = pd.DataFrame(y).join(pd.DataFrame(results.predict(x).round()))\n",
    "    df_classification_table.rename(columns={'Residential_satisfaction': 'y', 0: 'y_predict'}, inplace=True)\n",
    "    return pd.crosstab(df_classification_table['y'], df_classification_table['y_predict'])"
   ]
  },
  {
   "cell_type": "code",
   "execution_count": 52,
   "metadata": {},
   "outputs": [],
   "source": [
    "def plot_roc_auc(results):\n",
    "    y_predict = results.predict(x)\n",
    "    roc_auc = roc_auc_score(y, y_predict)\n",
    "    fpr, tpr, thresholds = roc_curve(y, y_predict)\n",
    "    plt.figure()\n",
    "    plt.plot(fpr, tpr, label='Logistic Regression (area = %0.2f)' % roc_auc)\n",
    "    plt.plot([0, 1], [0, 1],'r--')\n",
    "    plt.xlim([0.0, 1.0])\n",
    "    plt.ylim([0.0, 1.05])\n",
    "    plt.xlabel('False Positive Rate')\n",
    "    plt.ylabel('True Positive Rate')\n",
    "    plt.title('Receiver operating characteristic')\n",
    "    plt.legend(loc=\"lower right\")\n",
    "    plt.show()"
   ]
  },
  {
   "cell_type": "code",
   "execution_count": 53,
   "metadata": {},
   "outputs": [],
   "source": [
    "# https://github.com/statsmodels/statsmodels/issues/5861\n",
    "def pseudo_r2(results):\n",
    "    return print(\"Pseudo R2:\", (1 - results.llf / results.llnull))"
   ]
  },
  {
   "cell_type": "code",
   "execution_count": 54,
   "metadata": {},
   "outputs": [],
   "source": [
    "def adj_count_r2(results):\n",
    "    df_classification_table = pd.DataFrame(y).join(pd.DataFrame(results.predict(x).round()))\n",
    "    df_classification_table.rename(columns={'Residential_satisfaction': 'y', 0: 'y_predict'}, inplace=True)\n",
    "    df = pd.crosstab(df_classification_table['y'], df_classification_table['y_predict'])\n",
    "    return print(\"Adj Count R2:\", round((df[0][0] + df[1][1] - (df[0][0]+df[1][0]))/(df[0][1]+df[1][1]),3))"
   ]
  },
  {
   "cell_type": "code",
   "execution_count": null,
   "metadata": {},
   "outputs": [],
   "source": []
  },
  {
   "cell_type": "code",
   "execution_count": 55,
   "metadata": {},
   "outputs": [
    {
     "data": {
      "text/html": [
       "<div>\n",
       "<style scoped>\n",
       "    .dataframe tbody tr th:only-of-type {\n",
       "        vertical-align: middle;\n",
       "    }\n",
       "\n",
       "    .dataframe tbody tr th {\n",
       "        vertical-align: top;\n",
       "    }\n",
       "\n",
       "    .dataframe thead th {\n",
       "        text-align: right;\n",
       "    }\n",
       "</style>\n",
       "<table border=\"1\" class=\"dataframe\">\n",
       "  <thead>\n",
       "    <tr style=\"text-align: right;\">\n",
       "      <th>y_predict</th>\n",
       "      <th>0.0</th>\n",
       "      <th>1.0</th>\n",
       "    </tr>\n",
       "    <tr>\n",
       "      <th>y</th>\n",
       "      <th></th>\n",
       "      <th></th>\n",
       "    </tr>\n",
       "  </thead>\n",
       "  <tbody>\n",
       "    <tr>\n",
       "      <th>0</th>\n",
       "      <td>8</td>\n",
       "      <td>141</td>\n",
       "    </tr>\n",
       "    <tr>\n",
       "      <th>1</th>\n",
       "      <td>9</td>\n",
       "      <td>1011</td>\n",
       "    </tr>\n",
       "  </tbody>\n",
       "</table>\n",
       "</div>"
      ],
      "text/plain": [
       "y_predict  0.0   1.0\n",
       "y                   \n",
       "0            8   141\n",
       "1            9  1011"
      ]
     },
     "execution_count": 55,
     "metadata": {},
     "output_type": "execute_result"
    }
   ],
   "source": [
    "classification_table(glm_logit_results)"
   ]
  },
  {
   "cell_type": "code",
   "execution_count": 56,
   "metadata": {},
   "outputs": [
    {
     "data": {
      "image/png": "[encoded data removed]",
      "text/plain": [
       "<Figure size 432x288 with 1 Axes>"
      ]
     },
     "metadata": {},
     "output_type": "display_data"
    }
   ],
   "source": [
    "plot_roc_auc(glm_logit_results)"
   ]
  },
  {
   "cell_type": "code",
   "execution_count": 57,
   "metadata": {},
   "outputs": [
    {
     "name": "stdout",
     "output_type": "stream",
     "text": [
      "Pseudo R2: 0.14326794468520387\n"
     ]
    }
   ],
   "source": [
    "pseudo_r2(glm_logit_results)"
   ]
  },
  {
   "cell_type": "code",
   "execution_count": 58,
   "metadata": {},
   "outputs": [
    {
     "name": "stdout",
     "output_type": "stream",
     "text": [
      "Adj Count R2: 0.853\n"
     ]
    }
   ],
   "source": [
    "adj_count_r2(glm_logit_results)"
   ]
  },
  {
   "cell_type": "code",
   "execution_count": null,
   "metadata": {},
   "outputs": [],
   "source": []
  },
  {
   "cell_type": "markdown",
   "metadata": {},
   "source": [
    "# Probit"
   ]
  },
  {
   "cell_type": "code",
   "execution_count": 59,
   "metadata": {},
   "outputs": [
    {
     "name": "stderr",
     "output_type": "stream",
     "text": [
      "C:\\Users\\THINK\\anaconda3\\lib\\site-packages\\ipykernel_launcher.py:1: DeprecationWarning: Calling Family(..) with a link class as argument is deprecated.\n",
      "Use an instance of a link class instead.\n",
      "  \"\"\"Entry point for launching an IPython kernel.\n"
     ]
    },
    {
     "data": {
      "text/html": [
       "<table class=\"simpletable\">\n",
       "<caption>Generalized Linear Model Regression Results</caption>\n",
       "<tr>\n",
       "  <th>Dep. Variable:</th>   <td>Residential_satisfaction</td> <th>  No. Observations:  </th>  <td>  1169</td> \n",
       "</tr>\n",
       "<tr>\n",
       "  <th>Model:</th>                      <td>GLM</td>           <th>  Df Residuals:      </th>  <td>  1160</td> \n",
       "</tr>\n",
       "<tr>\n",
       "  <th>Model Family:</th>            <td>Binomial</td>         <th>  Df Model:          </th>  <td>     8</td> \n",
       "</tr>\n",
       "<tr>\n",
       "  <th>Link Function:</th>            <td>probit</td>          <th>  Scale:             </th> <td>  1.0000</td>\n",
       "</tr>\n",
       "<tr>\n",
       "  <th>Method:</th>                    <td>IRLS</td>           <th>  Log-Likelihood:    </th> <td> -382.83</td>\n",
       "</tr>\n",
       "<tr>\n",
       "  <th>Date:</th>                <td>Mon, 10 May 2021</td>     <th>  Deviance:          </th> <td>  765.65</td>\n",
       "</tr>\n",
       "<tr>\n",
       "  <th>Time:</th>                    <td>22:09:13</td>         <th>  Pearson chi2:      </th> <td>1.24e+03</td>\n",
       "</tr>\n",
       "<tr>\n",
       "  <th>No. Iterations:</th>              <td>6</td>            <th>                     </th>     <td> </td>   \n",
       "</tr>\n",
       "<tr>\n",
       "  <th>Covariance Type:</th>         <td>nonrobust</td>        <th>                     </th>     <td> </td>   \n",
       "</tr>\n",
       "</table>\n",
       "<table class=\"simpletable\">\n",
       "<tr>\n",
       "                  <td></td>                    <th>coef</th>     <th>std err</th>      <th>z</th>      <th>P>|z|</th>  <th>[0.025</th>    <th>0.975]</th>  \n",
       "</tr>\n",
       "<tr>\n",
       "  <th>const</th>                            <td>    0.0151</td> <td>    0.133</td> <td>    0.114</td> <td> 0.909</td> <td>   -0.245</td> <td>    0.275</td>\n",
       "</tr>\n",
       "<tr>\n",
       "  <th>Woman</th>                            <td>    0.2662</td> <td>    0.105</td> <td>    2.533</td> <td> 0.011</td> <td>    0.060</td> <td>    0.472</td>\n",
       "</tr>\n",
       "<tr>\n",
       "  <th>GARBAGE COLLECTION</th>               <td>    0.3232</td> <td>    0.109</td> <td>    2.954</td> <td> 0.003</td> <td>    0.109</td> <td>    0.538</td>\n",
       "</tr>\n",
       "<tr>\n",
       "  <th>ASPHALT AND STREET CONSERVATION</th>  <td>    0.2949</td> <td>    0.117</td> <td>    2.522</td> <td> 0.012</td> <td>    0.066</td> <td>    0.524</td>\n",
       "</tr>\n",
       "<tr>\n",
       "  <th>CITY MANAGEMENT</th>                  <td>    0.3043</td> <td>    0.126</td> <td>    2.419</td> <td> 0.016</td> <td>    0.058</td> <td>    0.551</td>\n",
       "</tr>\n",
       "<tr>\n",
       "  <th>BCN_evolution_IT HAS IMPROVED</th>    <td>    0.4432</td> <td>    0.155</td> <td>    2.856</td> <td> 0.004</td> <td>    0.139</td> <td>    0.747</td>\n",
       "</tr>\n",
       "<tr>\n",
       "  <th>BCN_evolution_IT IS THE SAME</th>     <td>    0.3761</td> <td>    0.139</td> <td>    2.700</td> <td> 0.007</td> <td>    0.103</td> <td>    0.649</td>\n",
       "</tr>\n",
       "<tr>\n",
       "  <th>BCN_future_IT WILL IMPROVE</th>       <td>    0.6690</td> <td>    0.122</td> <td>    5.501</td> <td> 0.000</td> <td>    0.431</td> <td>    0.907</td>\n",
       "</tr>\n",
       "<tr>\n",
       "  <th>BCN_future_IT WILL STAY THE SAME</th> <td>    0.3671</td> <td>    0.132</td> <td>    2.791</td> <td> 0.005</td> <td>    0.109</td> <td>    0.625</td>\n",
       "</tr>\n",
       "</table>"
      ],
      "text/plain": [
       "<class 'statsmodels.iolib.summary.Summary'>\n",
       "\"\"\"\n",
       "                    Generalized Linear Model Regression Results                     \n",
       "====================================================================================\n",
       "Dep. Variable:     Residential_satisfaction   No. Observations:                 1169\n",
       "Model:                                  GLM   Df Residuals:                     1160\n",
       "Model Family:                      Binomial   Df Model:                            8\n",
       "Link Function:                       probit   Scale:                          1.0000\n",
       "Method:                                IRLS   Log-Likelihood:                -382.83\n",
       "Date:                      Mon, 10 May 2021   Deviance:                       765.65\n",
       "Time:                              22:09:13   Pearson chi2:                 1.24e+03\n",
       "No. Iterations:                           6                                         \n",
       "Covariance Type:                  nonrobust                                         \n",
       "====================================================================================================\n",
       "                                       coef    std err          z      P>|z|      [0.025      0.975]\n",
       "----------------------------------------------------------------------------------------------------\n",
       "const                                0.0151      0.133      0.114      0.909      -0.245       0.275\n",
       "Woman                                0.2662      0.105      2.533      0.011       0.060       0.472\n",
       "GARBAGE COLLECTION                   0.3232      0.109      2.954      0.003       0.109       0.538\n",
       "ASPHALT AND STREET CONSERVATION      0.2949      0.117      2.522      0.012       0.066       0.524\n",
       "CITY MANAGEMENT                      0.3043      0.126      2.419      0.016       0.058       0.551\n",
       "BCN_evolution_IT HAS IMPROVED        0.4432      0.155      2.856      0.004       0.139       0.747\n",
       "BCN_evolution_IT IS THE SAME         0.3761      0.139      2.700      0.007       0.103       0.649\n",
       "BCN_future_IT WILL IMPROVE           0.6690      0.122      5.501      0.000       0.431       0.907\n",
       "BCN_future_IT WILL STAY THE SAME     0.3671      0.132      2.791      0.005       0.109       0.625\n",
       "====================================================================================================\n",
       "\"\"\""
      ]
     },
     "execution_count": 59,
     "metadata": {},
     "output_type": "execute_result"
    }
   ],
   "source": [
    "glm_probit = sm.GLM(y, x, family=sm.families.Binomial(link=sm.genmod.families.links.probit))\n",
    "glm_probit_results = glm_probit.fit()\n",
    "glm_probit_results.summary()"
   ]
  },
  {
   "cell_type": "code",
   "execution_count": 60,
   "metadata": {},
   "outputs": [
    {
     "data": {
      "text/plain": [
       "783.6542884523521"
      ]
     },
     "execution_count": 60,
     "metadata": {},
     "output_type": "execute_result"
    }
   ],
   "source": [
    "glm_probit_results.aic"
   ]
  },
  {
   "cell_type": "code",
   "execution_count": 61,
   "metadata": {},
   "outputs": [
    {
     "name": "stderr",
     "output_type": "stream",
     "text": [
      "C:\\Users\\THINK\\anaconda3\\lib\\site-packages\\statsmodels\\genmod\\generalized_linear_model.py:1731: FutureWarning: The bic value is computed using the deviance formula. After 0.13 this will change to the log-likelihood based formula. This change has no impact on the relative rank of models compared using BIC. You can directly access the log-likelihood version using the `bic_llf` attribute. You can suppress this message by calling statsmodels.genmod.generalized_linear_model.SET_USE_BIC_LLF with True to get the LLF-based version now or False to retainthe deviance version.\n",
      "  FutureWarning\n"
     ]
    },
    {
     "data": {
      "text/plain": [
       "-7428.474306855246"
      ]
     },
     "execution_count": 61,
     "metadata": {},
     "output_type": "execute_result"
    }
   ],
   "source": [
    "glm_probit_results.bic"
   ]
  },
  {
   "cell_type": "code",
   "execution_count": 62,
   "metadata": {},
   "outputs": [
    {
     "data": {
      "text/plain": [
       "const                               1.015208\n",
       "Woman                               1.304987\n",
       "GARBAGE COLLECTION                  1.381560\n",
       "ASPHALT AND STREET CONSERVATION     1.342981\n",
       "CITY MANAGEMENT                     1.355671\n",
       "BCN_evolution_IT HAS IMPROVED       1.557682\n",
       "BCN_evolution_IT IS THE SAME        1.456612\n",
       "BCN_future_IT WILL IMPROVE          1.952262\n",
       "BCN_future_IT WILL STAY THE SAME    1.443586\n",
       "dtype: float64"
      ]
     },
     "execution_count": 62,
     "metadata": {},
     "output_type": "execute_result"
    }
   ],
   "source": [
    "odds_ratios(glm_probit_results)"
   ]
  },
  {
   "cell_type": "code",
   "execution_count": null,
   "metadata": {},
   "outputs": [],
   "source": []
  },
  {
   "cell_type": "code",
   "execution_count": 63,
   "metadata": {},
   "outputs": [
    {
     "data": {
      "text/html": [
       "<div>\n",
       "<style scoped>\n",
       "    .dataframe tbody tr th:only-of-type {\n",
       "        vertical-align: middle;\n",
       "    }\n",
       "\n",
       "    .dataframe tbody tr th {\n",
       "        vertical-align: top;\n",
       "    }\n",
       "\n",
       "    .dataframe thead th {\n",
       "        text-align: right;\n",
       "    }\n",
       "</style>\n",
       "<table border=\"1\" class=\"dataframe\">\n",
       "  <thead>\n",
       "    <tr style=\"text-align: right;\">\n",
       "      <th>y_predict</th>\n",
       "      <th>1.0</th>\n",
       "    </tr>\n",
       "    <tr>\n",
       "      <th>y</th>\n",
       "      <th></th>\n",
       "    </tr>\n",
       "  </thead>\n",
       "  <tbody>\n",
       "    <tr>\n",
       "      <th>0</th>\n",
       "      <td>149</td>\n",
       "    </tr>\n",
       "    <tr>\n",
       "      <th>1</th>\n",
       "      <td>1020</td>\n",
       "    </tr>\n",
       "  </tbody>\n",
       "</table>\n",
       "</div>"
      ],
      "text/plain": [
       "y_predict   1.0\n",
       "y              \n",
       "0           149\n",
       "1          1020"
      ]
     },
     "execution_count": 63,
     "metadata": {},
     "output_type": "execute_result"
    }
   ],
   "source": [
    "classification_table(glm_probit_results)"
   ]
  },
  {
   "cell_type": "code",
   "execution_count": 64,
   "metadata": {},
   "outputs": [
    {
     "data": {
      "image/png": "[encoded data removed]",
      "text/plain": [
       "<Figure size 432x288 with 1 Axes>"
      ]
     },
     "metadata": {},
     "output_type": "display_data"
    }
   ],
   "source": [
    "plot_roc_auc(glm_probit_results)"
   ]
  },
  {
   "cell_type": "code",
   "execution_count": 65,
   "metadata": {},
   "outputs": [
    {
     "name": "stdout",
     "output_type": "stream",
     "text": [
      "Pseudo R2: 0.141656005220681\n"
     ]
    }
   ],
   "source": [
    "pseudo_r2(glm_probit_results)"
   ]
  },
  {
   "cell_type": "code",
   "execution_count": 66,
   "metadata": {},
   "outputs": [
    {
     "ename": "KeyError",
     "evalue": "0.0",
     "output_type": "error",
     "traceback": [
      "\u001b[1;31m---------------------------------------------------------------------------\u001b[0m",
      "\u001b[1;31mKeyError\u001b[0m                                  Traceback (most recent call last)",
      "\u001b[1;32m~\\anaconda3\\lib\\site-packages\\pandas\\core\\indexes\\base.py\u001b[0m in \u001b[0;36mget_loc\u001b[1;34m(self, key, method, tolerance)\u001b[0m\n\u001b[0;32m   2645\u001b[0m             \u001b[1;32mtry\u001b[0m\u001b[1;33m:\u001b[0m\u001b[1;33m\u001b[0m\u001b[1;33m\u001b[0m\u001b[0m\n\u001b[1;32m-> 2646\u001b[1;33m                 \u001b[1;32mreturn\u001b[0m \u001b[0mself\u001b[0m\u001b[1;33m.\u001b[0m\u001b[0m_engine\u001b[0m\u001b[1;33m.\u001b[0m\u001b[0mget_loc\u001b[0m\u001b[1;33m(\u001b[0m\u001b[0mkey\u001b[0m\u001b[1;33m)\u001b[0m\u001b[1;33m\u001b[0m\u001b[1;33m\u001b[0m\u001b[0m\n\u001b[0m\u001b[0;32m   2647\u001b[0m             \u001b[1;32mexcept\u001b[0m \u001b[0mKeyError\u001b[0m\u001b[1;33m:\u001b[0m\u001b[1;33m\u001b[0m\u001b[1;33m\u001b[0m\u001b[0m\n",
      "\u001b[1;32mpandas\\_libs\\index.pyx\u001b[0m in \u001b[0;36mpandas._libs.index.IndexEngine.get_loc\u001b[1;34m()\u001b[0m\n",
      "\u001b[1;32mpandas\\_libs\\index.pyx\u001b[0m in \u001b[0;36mpandas._libs.index.IndexEngine.get_loc\u001b[1;34m()\u001b[0m\n",
      "\u001b[1;32mpandas\\_libs\\hashtable_class_helper.pxi\u001b[0m in \u001b[0;36mpandas._libs.hashtable.Float64HashTable.get_item\u001b[1;34m()\u001b[0m\n",
      "\u001b[1;32mpandas\\_libs\\hashtable_class_helper.pxi\u001b[0m in \u001b[0;36mpandas._libs.hashtable.Float64HashTable.get_item\u001b[1;34m()\u001b[0m\n",
      "\u001b[1;31mKeyError\u001b[0m: 0.0",
      "\nDuring handling of the above exception, another exception occurred:\n",
      "\u001b[1;31mKeyError\u001b[0m                                  Traceback (most recent call last)",
      "\u001b[1;32m<ipython-input-66-07ac48103555>\u001b[0m in \u001b[0;36m<module>\u001b[1;34m\u001b[0m\n\u001b[1;32m----> 1\u001b[1;33m \u001b[0madj_count_r2\u001b[0m\u001b[1;33m(\u001b[0m\u001b[0mglm_probit_results\u001b[0m\u001b[1;33m)\u001b[0m\u001b[1;33m\u001b[0m\u001b[1;33m\u001b[0m\u001b[0m\n\u001b[0m",
      "\u001b[1;32m<ipython-input-54-abbce19263e3>\u001b[0m in \u001b[0;36madj_count_r2\u001b[1;34m(results)\u001b[0m\n\u001b[0;32m      3\u001b[0m     \u001b[0mdf_classification_table\u001b[0m\u001b[1;33m.\u001b[0m\u001b[0mrename\u001b[0m\u001b[1;33m(\u001b[0m\u001b[0mcolumns\u001b[0m\u001b[1;33m=\u001b[0m\u001b[1;33m{\u001b[0m\u001b[1;34m'Residential_satisfaction'\u001b[0m\u001b[1;33m:\u001b[0m \u001b[1;34m'y'\u001b[0m\u001b[1;33m,\u001b[0m \u001b[1;36m0\u001b[0m\u001b[1;33m:\u001b[0m \u001b[1;34m'y_predict'\u001b[0m\u001b[1;33m}\u001b[0m\u001b[1;33m,\u001b[0m \u001b[0minplace\u001b[0m\u001b[1;33m=\u001b[0m\u001b[1;32mTrue\u001b[0m\u001b[1;33m)\u001b[0m\u001b[1;33m\u001b[0m\u001b[1;33m\u001b[0m\u001b[0m\n\u001b[0;32m      4\u001b[0m     \u001b[0mdf\u001b[0m \u001b[1;33m=\u001b[0m \u001b[0mpd\u001b[0m\u001b[1;33m.\u001b[0m\u001b[0mcrosstab\u001b[0m\u001b[1;33m(\u001b[0m\u001b[0mdf_classification_table\u001b[0m\u001b[1;33m[\u001b[0m\u001b[1;34m'y'\u001b[0m\u001b[1;33m]\u001b[0m\u001b[1;33m,\u001b[0m \u001b[0mdf_classification_table\u001b[0m\u001b[1;33m[\u001b[0m\u001b[1;34m'y_predict'\u001b[0m\u001b[1;33m]\u001b[0m\u001b[1;33m)\u001b[0m\u001b[1;33m\u001b[0m\u001b[1;33m\u001b[0m\u001b[0m\n\u001b[1;32m----> 5\u001b[1;33m     \u001b[1;32mreturn\u001b[0m \u001b[0mprint\u001b[0m\u001b[1;33m(\u001b[0m\u001b[1;34m\"Adj Count R2:\"\u001b[0m\u001b[1;33m,\u001b[0m \u001b[0mround\u001b[0m\u001b[1;33m(\u001b[0m\u001b[1;33m(\u001b[0m\u001b[0mdf\u001b[0m\u001b[1;33m[\u001b[0m\u001b[1;36m0\u001b[0m\u001b[1;33m]\u001b[0m\u001b[1;33m[\u001b[0m\u001b[1;36m0\u001b[0m\u001b[1;33m]\u001b[0m \u001b[1;33m+\u001b[0m \u001b[0mdf\u001b[0m\u001b[1;33m[\u001b[0m\u001b[1;36m1\u001b[0m\u001b[1;33m]\u001b[0m\u001b[1;33m[\u001b[0m\u001b[1;36m1\u001b[0m\u001b[1;33m]\u001b[0m \u001b[1;33m-\u001b[0m \u001b[1;33m(\u001b[0m\u001b[0mdf\u001b[0m\u001b[1;33m[\u001b[0m\u001b[1;36m0\u001b[0m\u001b[1;33m]\u001b[0m\u001b[1;33m[\u001b[0m\u001b[1;36m0\u001b[0m\u001b[1;33m]\u001b[0m\u001b[1;33m+\u001b[0m\u001b[0mdf\u001b[0m\u001b[1;33m[\u001b[0m\u001b[1;36m1\u001b[0m\u001b[1;33m]\u001b[0m\u001b[1;33m[\u001b[0m\u001b[1;36m0\u001b[0m\u001b[1;33m]\u001b[0m\u001b[1;33m)\u001b[0m\u001b[1;33m)\u001b[0m\u001b[1;33m/\u001b[0m\u001b[1;33m(\u001b[0m\u001b[0mdf\u001b[0m\u001b[1;33m[\u001b[0m\u001b[1;36m0\u001b[0m\u001b[1;33m]\u001b[0m\u001b[1;33m[\u001b[0m\u001b[1;36m1\u001b[0m\u001b[1;33m]\u001b[0m\u001b[1;33m+\u001b[0m\u001b[0mdf\u001b[0m\u001b[1;33m[\u001b[0m\u001b[1;36m1\u001b[0m\u001b[1;33m]\u001b[0m\u001b[1;33m[\u001b[0m\u001b[1;36m1\u001b[0m\u001b[1;33m]\u001b[0m\u001b[1;33m)\u001b[0m\u001b[1;33m,\u001b[0m\u001b[1;36m3\u001b[0m\u001b[1;33m)\u001b[0m\u001b[1;33m)\u001b[0m\u001b[1;33m\u001b[0m\u001b[1;33m\u001b[0m\u001b[0m\n\u001b[0m",
      "\u001b[1;32m~\\anaconda3\\lib\\site-packages\\pandas\\core\\frame.py\u001b[0m in \u001b[0;36m__getitem__\u001b[1;34m(self, key)\u001b[0m\n\u001b[0;32m   2798\u001b[0m             \u001b[1;32mif\u001b[0m \u001b[0mself\u001b[0m\u001b[1;33m.\u001b[0m\u001b[0mcolumns\u001b[0m\u001b[1;33m.\u001b[0m\u001b[0mnlevels\u001b[0m \u001b[1;33m>\u001b[0m \u001b[1;36m1\u001b[0m\u001b[1;33m:\u001b[0m\u001b[1;33m\u001b[0m\u001b[1;33m\u001b[0m\u001b[0m\n\u001b[0;32m   2799\u001b[0m                 \u001b[1;32mreturn\u001b[0m \u001b[0mself\u001b[0m\u001b[1;33m.\u001b[0m\u001b[0m_getitem_multilevel\u001b[0m\u001b[1;33m(\u001b[0m\u001b[0mkey\u001b[0m\u001b[1;33m)\u001b[0m\u001b[1;33m\u001b[0m\u001b[1;33m\u001b[0m\u001b[0m\n\u001b[1;32m-> 2800\u001b[1;33m             \u001b[0mindexer\u001b[0m \u001b[1;33m=\u001b[0m \u001b[0mself\u001b[0m\u001b[1;33m.\u001b[0m\u001b[0mcolumns\u001b[0m\u001b[1;33m.\u001b[0m\u001b[0mget_loc\u001b[0m\u001b[1;33m(\u001b[0m\u001b[0mkey\u001b[0m\u001b[1;33m)\u001b[0m\u001b[1;33m\u001b[0m\u001b[1;33m\u001b[0m\u001b[0m\n\u001b[0m\u001b[0;32m   2801\u001b[0m             \u001b[1;32mif\u001b[0m \u001b[0mis_integer\u001b[0m\u001b[1;33m(\u001b[0m\u001b[0mindexer\u001b[0m\u001b[1;33m)\u001b[0m\u001b[1;33m:\u001b[0m\u001b[1;33m\u001b[0m\u001b[1;33m\u001b[0m\u001b[0m\n\u001b[0;32m   2802\u001b[0m                 \u001b[0mindexer\u001b[0m \u001b[1;33m=\u001b[0m \u001b[1;33m[\u001b[0m\u001b[0mindexer\u001b[0m\u001b[1;33m]\u001b[0m\u001b[1;33m\u001b[0m\u001b[1;33m\u001b[0m\u001b[0m\n",
      "\u001b[1;32m~\\anaconda3\\lib\\site-packages\\pandas\\core\\indexes\\numeric.py\u001b[0m in \u001b[0;36mget_loc\u001b[1;34m(self, key, method, tolerance)\u001b[0m\n\u001b[0;32m    506\u001b[0m         \u001b[1;32mexcept\u001b[0m \u001b[1;33m(\u001b[0m\u001b[0mTypeError\u001b[0m\u001b[1;33m,\u001b[0m \u001b[0mNotImplementedError\u001b[0m\u001b[1;33m)\u001b[0m\u001b[1;33m:\u001b[0m\u001b[1;33m\u001b[0m\u001b[1;33m\u001b[0m\u001b[0m\n\u001b[0;32m    507\u001b[0m             \u001b[1;32mpass\u001b[0m\u001b[1;33m\u001b[0m\u001b[1;33m\u001b[0m\u001b[0m\n\u001b[1;32m--> 508\u001b[1;33m         \u001b[1;32mreturn\u001b[0m \u001b[0msuper\u001b[0m\u001b[1;33m(\u001b[0m\u001b[1;33m)\u001b[0m\u001b[1;33m.\u001b[0m\u001b[0mget_loc\u001b[0m\u001b[1;33m(\u001b[0m\u001b[0mkey\u001b[0m\u001b[1;33m,\u001b[0m \u001b[0mmethod\u001b[0m\u001b[1;33m=\u001b[0m\u001b[0mmethod\u001b[0m\u001b[1;33m,\u001b[0m \u001b[0mtolerance\u001b[0m\u001b[1;33m=\u001b[0m\u001b[0mtolerance\u001b[0m\u001b[1;33m)\u001b[0m\u001b[1;33m\u001b[0m\u001b[1;33m\u001b[0m\u001b[0m\n\u001b[0m\u001b[0;32m    509\u001b[0m \u001b[1;33m\u001b[0m\u001b[0m\n\u001b[0;32m    510\u001b[0m     \u001b[1;33m@\u001b[0m\u001b[0mcache_readonly\u001b[0m\u001b[1;33m\u001b[0m\u001b[1;33m\u001b[0m\u001b[0m\n",
      "\u001b[1;32m~\\anaconda3\\lib\\site-packages\\pandas\\core\\indexes\\base.py\u001b[0m in \u001b[0;36mget_loc\u001b[1;34m(self, key, method, tolerance)\u001b[0m\n\u001b[0;32m   2646\u001b[0m                 \u001b[1;32mreturn\u001b[0m \u001b[0mself\u001b[0m\u001b[1;33m.\u001b[0m\u001b[0m_engine\u001b[0m\u001b[1;33m.\u001b[0m\u001b[0mget_loc\u001b[0m\u001b[1;33m(\u001b[0m\u001b[0mkey\u001b[0m\u001b[1;33m)\u001b[0m\u001b[1;33m\u001b[0m\u001b[1;33m\u001b[0m\u001b[0m\n\u001b[0;32m   2647\u001b[0m             \u001b[1;32mexcept\u001b[0m \u001b[0mKeyError\u001b[0m\u001b[1;33m:\u001b[0m\u001b[1;33m\u001b[0m\u001b[1;33m\u001b[0m\u001b[0m\n\u001b[1;32m-> 2648\u001b[1;33m                 \u001b[1;32mreturn\u001b[0m \u001b[0mself\u001b[0m\u001b[1;33m.\u001b[0m\u001b[0m_engine\u001b[0m\u001b[1;33m.\u001b[0m\u001b[0mget_loc\u001b[0m\u001b[1;33m(\u001b[0m\u001b[0mself\u001b[0m\u001b[1;33m.\u001b[0m\u001b[0m_maybe_cast_indexer\u001b[0m\u001b[1;33m(\u001b[0m\u001b[0mkey\u001b[0m\u001b[1;33m)\u001b[0m\u001b[1;33m)\u001b[0m\u001b[1;33m\u001b[0m\u001b[1;33m\u001b[0m\u001b[0m\n\u001b[0m\u001b[0;32m   2649\u001b[0m         \u001b[0mindexer\u001b[0m \u001b[1;33m=\u001b[0m \u001b[0mself\u001b[0m\u001b[1;33m.\u001b[0m\u001b[0mget_indexer\u001b[0m\u001b[1;33m(\u001b[0m\u001b[1;33m[\u001b[0m\u001b[0mkey\u001b[0m\u001b[1;33m]\u001b[0m\u001b[1;33m,\u001b[0m \u001b[0mmethod\u001b[0m\u001b[1;33m=\u001b[0m\u001b[0mmethod\u001b[0m\u001b[1;33m,\u001b[0m \u001b[0mtolerance\u001b[0m\u001b[1;33m=\u001b[0m\u001b[0mtolerance\u001b[0m\u001b[1;33m)\u001b[0m\u001b[1;33m\u001b[0m\u001b[1;33m\u001b[0m\u001b[0m\n\u001b[0;32m   2650\u001b[0m         \u001b[1;32mif\u001b[0m \u001b[0mindexer\u001b[0m\u001b[1;33m.\u001b[0m\u001b[0mndim\u001b[0m \u001b[1;33m>\u001b[0m \u001b[1;36m1\u001b[0m \u001b[1;32mor\u001b[0m \u001b[0mindexer\u001b[0m\u001b[1;33m.\u001b[0m\u001b[0msize\u001b[0m \u001b[1;33m>\u001b[0m \u001b[1;36m1\u001b[0m\u001b[1;33m:\u001b[0m\u001b[1;33m\u001b[0m\u001b[1;33m\u001b[0m\u001b[0m\n",
      "\u001b[1;32mpandas\\_libs\\index.pyx\u001b[0m in \u001b[0;36mpandas._libs.index.IndexEngine.get_loc\u001b[1;34m()\u001b[0m\n",
      "\u001b[1;32mpandas\\_libs\\index.pyx\u001b[0m in \u001b[0;36mpandas._libs.index.IndexEngine.get_loc\u001b[1;34m()\u001b[0m\n",
      "\u001b[1;32mpandas\\_libs\\hashtable_class_helper.pxi\u001b[0m in \u001b[0;36mpandas._libs.hashtable.Float64HashTable.get_item\u001b[1;34m()\u001b[0m\n",
      "\u001b[1;32mpandas\\_libs\\hashtable_class_helper.pxi\u001b[0m in \u001b[0;36mpandas._libs.hashtable.Float64HashTable.get_item\u001b[1;34m()\u001b[0m\n",
      "\u001b[1;31mKeyError\u001b[0m: 0.0"
     ]
    }
   ],
   "source": [
    "adj_count_r2(glm_probit_results)"
   ]
  },
  {
   "cell_type": "code",
   "execution_count": null,
   "metadata": {},
   "outputs": [],
   "source": []
  },
  {
   "cell_type": "markdown",
   "metadata": {},
   "source": [
    "# Scobit"
   ]
  },
  {
   "cell_type": "code",
   "execution_count": 67,
   "metadata": {
    "scrolled": false
   },
   "outputs": [
    {
     "name": "stderr",
     "output_type": "stream",
     "text": [
      "C:\\Users\\THINK\\anaconda3\\lib\\site-packages\\ipykernel_launcher.py:1: DeprecationWarning: Calling Family(..) with a link class as argument is deprecated.\n",
      "Use an instance of a link class instead.\n",
      "  \"\"\"Entry point for launching an IPython kernel.\n"
     ]
    },
    {
     "data": {
      "text/html": [
       "<table class=\"simpletable\">\n",
       "<caption>Generalized Linear Model Regression Results</caption>\n",
       "<tr>\n",
       "  <th>Dep. Variable:</th>   <td>Residential_satisfaction</td> <th>  No. Observations:  </th>  <td>  1169</td> \n",
       "</tr>\n",
       "<tr>\n",
       "  <th>Model:</th>                      <td>GLM</td>           <th>  Df Residuals:      </th>  <td>  1160</td> \n",
       "</tr>\n",
       "<tr>\n",
       "  <th>Model Family:</th>            <td>Binomial</td>         <th>  Df Model:          </th>  <td>     8</td> \n",
       "</tr>\n",
       "<tr>\n",
       "  <th>Link Function:</th>            <td>cloglog</td>         <th>  Scale:             </th> <td>  1.0000</td>\n",
       "</tr>\n",
       "<tr>\n",
       "  <th>Method:</th>                    <td>IRLS</td>           <th>  Log-Likelihood:    </th> <td> -384.26</td>\n",
       "</tr>\n",
       "<tr>\n",
       "  <th>Date:</th>                <td>Mon, 10 May 2021</td>     <th>  Deviance:          </th> <td>  768.52</td>\n",
       "</tr>\n",
       "<tr>\n",
       "  <th>Time:</th>                    <td>22:09:24</td>         <th>  Pearson chi2:      </th> <td>1.29e+03</td>\n",
       "</tr>\n",
       "<tr>\n",
       "  <th>No. Iterations:</th>              <td>7</td>            <th>                     </th>     <td> </td>   \n",
       "</tr>\n",
       "<tr>\n",
       "  <th>Covariance Type:</th>         <td>nonrobust</td>        <th>                     </th>     <td> </td>   \n",
       "</tr>\n",
       "</table>\n",
       "<table class=\"simpletable\">\n",
       "<tr>\n",
       "                  <td></td>                    <th>coef</th>     <th>std err</th>      <th>z</th>      <th>P>|z|</th>  <th>[0.025</th>    <th>0.975]</th>  \n",
       "</tr>\n",
       "<tr>\n",
       "  <th>const</th>                            <td>   -0.1978</td> <td>    0.120</td> <td>   -1.650</td> <td> 0.099</td> <td>   -0.433</td> <td>    0.037</td>\n",
       "</tr>\n",
       "<tr>\n",
       "  <th>Woman</th>                            <td>    0.1992</td> <td>    0.085</td> <td>    2.339</td> <td> 0.019</td> <td>    0.032</td> <td>    0.366</td>\n",
       "</tr>\n",
       "<tr>\n",
       "  <th>GARBAGE COLLECTION</th>               <td>    0.2725</td> <td>    0.092</td> <td>    2.968</td> <td> 0.003</td> <td>    0.093</td> <td>    0.452</td>\n",
       "</tr>\n",
       "<tr>\n",
       "  <th>ASPHALT AND STREET CONSERVATION</th>  <td>    0.2133</td> <td>    0.090</td> <td>    2.375</td> <td> 0.018</td> <td>    0.037</td> <td>    0.389</td>\n",
       "</tr>\n",
       "<tr>\n",
       "  <th>CITY MANAGEMENT</th>                  <td>    0.2187</td> <td>    0.094</td> <td>    2.315</td> <td> 0.021</td> <td>    0.034</td> <td>    0.404</td>\n",
       "</tr>\n",
       "<tr>\n",
       "  <th>BCN_evolution_IT HAS IMPROVED</th>    <td>    0.3342</td> <td>    0.114</td> <td>    2.928</td> <td> 0.003</td> <td>    0.111</td> <td>    0.558</td>\n",
       "</tr>\n",
       "<tr>\n",
       "  <th>BCN_evolution_IT IS THE SAME</th>     <td>    0.2896</td> <td>    0.107</td> <td>    2.699</td> <td> 0.007</td> <td>    0.079</td> <td>    0.500</td>\n",
       "</tr>\n",
       "<tr>\n",
       "  <th>BCN_future_IT WILL IMPROVE</th>       <td>    0.5423</td> <td>    0.101</td> <td>    5.345</td> <td> 0.000</td> <td>    0.343</td> <td>    0.741</td>\n",
       "</tr>\n",
       "<tr>\n",
       "  <th>BCN_future_IT WILL STAY THE SAME</th> <td>    0.3142</td> <td>    0.113</td> <td>    2.773</td> <td> 0.006</td> <td>    0.092</td> <td>    0.536</td>\n",
       "</tr>\n",
       "</table>"
      ],
      "text/plain": [
       "<class 'statsmodels.iolib.summary.Summary'>\n",
       "\"\"\"\n",
       "                    Generalized Linear Model Regression Results                     \n",
       "====================================================================================\n",
       "Dep. Variable:     Residential_satisfaction   No. Observations:                 1169\n",
       "Model:                                  GLM   Df Residuals:                     1160\n",
       "Model Family:                      Binomial   Df Model:                            8\n",
       "Link Function:                      cloglog   Scale:                          1.0000\n",
       "Method:                                IRLS   Log-Likelihood:                -384.26\n",
       "Date:                      Mon, 10 May 2021   Deviance:                       768.52\n",
       "Time:                              22:09:24   Pearson chi2:                 1.29e+03\n",
       "No. Iterations:                           7                                         \n",
       "Covariance Type:                  nonrobust                                         \n",
       "====================================================================================================\n",
       "                                       coef    std err          z      P>|z|      [0.025      0.975]\n",
       "----------------------------------------------------------------------------------------------------\n",
       "const                               -0.1978      0.120     -1.650      0.099      -0.433       0.037\n",
       "Woman                                0.1992      0.085      2.339      0.019       0.032       0.366\n",
       "GARBAGE COLLECTION                   0.2725      0.092      2.968      0.003       0.093       0.452\n",
       "ASPHALT AND STREET CONSERVATION      0.2133      0.090      2.375      0.018       0.037       0.389\n",
       "CITY MANAGEMENT                      0.2187      0.094      2.315      0.021       0.034       0.404\n",
       "BCN_evolution_IT HAS IMPROVED        0.3342      0.114      2.928      0.003       0.111       0.558\n",
       "BCN_evolution_IT IS THE SAME         0.2896      0.107      2.699      0.007       0.079       0.500\n",
       "BCN_future_IT WILL IMPROVE           0.5423      0.101      5.345      0.000       0.343       0.741\n",
       "BCN_future_IT WILL STAY THE SAME     0.3142      0.113      2.773      0.006       0.092       0.536\n",
       "====================================================================================================\n",
       "\"\"\""
      ]
     },
     "execution_count": 67,
     "metadata": {},
     "output_type": "execute_result"
    }
   ],
   "source": [
    "glm_scobit = sm.GLM(y, x, family=sm.families.Binomial(link=sm.genmod.families.links.cloglog))\n",
    "glm_scobit_results = glm_scobit.fit()\n",
    "glm_scobit_results.summary()"
   ]
  },
  {
   "cell_type": "code",
   "execution_count": 68,
   "metadata": {},
   "outputs": [
    {
     "data": {
      "text/plain": [
       "786.5156511751957"
      ]
     },
     "execution_count": 68,
     "metadata": {},
     "output_type": "execute_result"
    }
   ],
   "source": [
    "glm_scobit_results.aic"
   ]
  },
  {
   "cell_type": "code",
   "execution_count": 69,
   "metadata": {},
   "outputs": [
    {
     "name": "stderr",
     "output_type": "stream",
     "text": [
      "C:\\Users\\THINK\\anaconda3\\lib\\site-packages\\statsmodels\\genmod\\generalized_linear_model.py:1731: FutureWarning: The bic value is computed using the deviance formula. After 0.13 this will change to the log-likelihood based formula. This change has no impact on the relative rank of models compared using BIC. You can directly access the log-likelihood version using the `bic_llf` attribute. You can suppress this message by calling statsmodels.genmod.generalized_linear_model.SET_USE_BIC_LLF with True to get the LLF-based version now or False to retainthe deviance version.\n",
      "  FutureWarning\n"
     ]
    },
    {
     "data": {
      "text/plain": [
       "-7425.612944132403"
      ]
     },
     "execution_count": 69,
     "metadata": {},
     "output_type": "execute_result"
    }
   ],
   "source": [
    "glm_scobit_results.bic"
   ]
  },
  {
   "cell_type": "code",
   "execution_count": 70,
   "metadata": {},
   "outputs": [
    {
     "data": {
      "text/plain": [
       "const                               0.820519\n",
       "Woman                               1.220396\n",
       "GARBAGE COLLECTION                  1.313255\n",
       "ASPHALT AND STREET CONSERVATION     1.237813\n",
       "CITY MANAGEMENT                     1.244416\n",
       "BCN_evolution_IT HAS IMPROVED       1.396804\n",
       "BCN_evolution_IT IS THE SAME        1.335956\n",
       "BCN_future_IT WILL IMPROVE          1.720009\n",
       "BCN_future_IT WILL STAY THE SAME    1.369143\n",
       "dtype: float64"
      ]
     },
     "execution_count": 70,
     "metadata": {},
     "output_type": "execute_result"
    }
   ],
   "source": [
    "odds_ratios(glm_scobit_results)"
   ]
  },
  {
   "cell_type": "code",
   "execution_count": null,
   "metadata": {},
   "outputs": [],
   "source": []
  },
  {
   "cell_type": "code",
   "execution_count": 71,
   "metadata": {},
   "outputs": [
    {
     "data": {
      "text/html": [
       "<div>\n",
       "<style scoped>\n",
       "    .dataframe tbody tr th:only-of-type {\n",
       "        vertical-align: middle;\n",
       "    }\n",
       "\n",
       "    .dataframe tbody tr th {\n",
       "        vertical-align: top;\n",
       "    }\n",
       "\n",
       "    .dataframe thead th {\n",
       "        text-align: right;\n",
       "    }\n",
       "</style>\n",
       "<table border=\"1\" class=\"dataframe\">\n",
       "  <thead>\n",
       "    <tr style=\"text-align: right;\">\n",
       "      <th>y_predict</th>\n",
       "      <th>1.0</th>\n",
       "    </tr>\n",
       "    <tr>\n",
       "      <th>y</th>\n",
       "      <th></th>\n",
       "    </tr>\n",
       "  </thead>\n",
       "  <tbody>\n",
       "    <tr>\n",
       "      <th>0</th>\n",
       "      <td>149</td>\n",
       "    </tr>\n",
       "    <tr>\n",
       "      <th>1</th>\n",
       "      <td>1020</td>\n",
       "    </tr>\n",
       "  </tbody>\n",
       "</table>\n",
       "</div>"
      ],
      "text/plain": [
       "y_predict   1.0\n",
       "y              \n",
       "0           149\n",
       "1          1020"
      ]
     },
     "execution_count": 71,
     "metadata": {},
     "output_type": "execute_result"
    }
   ],
   "source": [
    "classification_table(glm_scobit_results)"
   ]
  },
  {
   "cell_type": "code",
   "execution_count": null,
   "metadata": {},
   "outputs": [],
   "source": [
    "plot_roc_auc(glm_scobit_results)"
   ]
  },
  {
   "cell_type": "code",
   "execution_count": null,
   "metadata": {},
   "outputs": [],
   "source": [
    "pseudo_r2(glm_scobit_results)"
   ]
  },
  {
   "cell_type": "code",
   "execution_count": null,
   "metadata": {},
   "outputs": [],
   "source": [
    "adj_count_r2(glm_scobit_results)"
   ]
  },
  {
   "cell_type": "code",
   "execution_count": null,
   "metadata": {},
   "outputs": [],
   "source": []
  }
 ],
 "metadata": {
  "kernelspec": {
   "display_name": "Python 3",
   "language": "python",
   "name": "python3"
  },
  "language_info": {
   "codemirror_mode": {
    "name": "ipython",
    "version": 3
   },
   "file_extension": ".py",
   "mimetype": "text/x-python",
   "name": "python",
   "nbconvert_exporter": "python",
   "pygments_lexer": "ipython3",
   "version": "3.7.6"
  }
 },
 "nbformat": 4,
 "nbformat_minor": 4
}
