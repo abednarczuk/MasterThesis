{
 "cells": [
  {
   "cell_type": "markdown",
   "metadata": {},
   "source": [
    "Aleksandra Bednarczuk"
   ]
  },
  {
   "cell_type": "markdown",
   "metadata": {},
   "source": [
    "# Predictors of elderly citizens willingness to stay in the neighbourhood\n",
    "# Logistic regression"
   ]
  },
  {
   "cell_type": "markdown",
   "metadata": {},
   "source": [
    "Original dataset, including barris among predictors"
   ]
  },
  {
   "cell_type": "code",
   "execution_count": 1,
   "metadata": {},
   "outputs": [],
   "source": [
    "import pandas as pd\n",
    "import numpy as np\n",
    "\n",
    "import matplotlib.pyplot as plt"
   ]
  },
  {
   "cell_type": "code",
   "execution_count": 2,
   "metadata": {},
   "outputs": [],
   "source": [
    "from imblearn.over_sampling import SMOTE\n",
    "\n",
    "import statsmodels.api as sm\n",
    "import statsmodels.formula.api as smf\n",
    "\n",
    "from sklearn.model_selection import train_test_split\n",
    "from sklearn.feature_selection import RFE\n",
    "from sklearn.linear_model import LogisticRegression\n",
    "\n",
    "from sklearn.metrics import accuracy_score\n",
    "from sklearn.metrics import classification_report\n",
    "from sklearn.metrics import confusion_matrix\n",
    "from sklearn.metrics import roc_auc_score\n",
    "from sklearn.metrics import roc_curve\n",
    "from sklearn.metrics import r2_score\n",
    "\n",
    "from sklearn.feature_selection import SelectKBest\n",
    "from sklearn.feature_selection import chi2\n",
    "from sklearn.feature_selection import mutual_info_classif\n",
    "from sklearn.feature_selection import f_classif\n",
    "from sklearn.preprocessing import LabelEncoder\n",
    "from sklearn.preprocessing import OrdinalEncoder\n",
    "\n",
    "from scipy import stats"
   ]
  },
  {
   "cell_type": "code",
   "execution_count": null,
   "metadata": {},
   "outputs": [],
   "source": []
  },
  {
   "cell_type": "code",
   "execution_count": 3,
   "metadata": {},
   "outputs": [],
   "source": [
    "data = pd.read_pickle(\"survey_transformed_2019.pkl\")"
   ]
  },
  {
   "cell_type": "code",
   "execution_count": 4,
   "metadata": {},
   "outputs": [],
   "source": [
    "data.reset_index(drop=True, inplace=True)"
   ]
  },
  {
   "cell_type": "code",
   "execution_count": 5,
   "metadata": {},
   "outputs": [
    {
     "data": {
      "text/html": [
       "<div>\n",
       "<style scoped>\n",
       "    .dataframe tbody tr th:only-of-type {\n",
       "        vertical-align: middle;\n",
       "    }\n",
       "\n",
       "    .dataframe tbody tr th {\n",
       "        vertical-align: top;\n",
       "    }\n",
       "\n",
       "    .dataframe thead th {\n",
       "        text-align: right;\n",
       "    }\n",
       "</style>\n",
       "<table border=\"1\" class=\"dataframe\">\n",
       "  <thead>\n",
       "    <tr style=\"text-align: right;\">\n",
       "      <th></th>\n",
       "      <th>Would_live_in_another_neighborhood</th>\n",
       "      <th>District</th>\n",
       "      <th>Woman</th>\n",
       "      <th>Car</th>\n",
       "      <th>Support_with_housework</th>\n",
       "      <th>Owner</th>\n",
       "      <th>House_size</th>\n",
       "      <th>No_of_people_in_the_house</th>\n",
       "      <th>Family_type</th>\n",
       "      <th>Financial_situation</th>\n",
       "      <th>...</th>\n",
       "      <th>CIRCULATION AND TRAFFIC</th>\n",
       "      <th>BUS</th>\n",
       "      <th>CITIZEN SECURITY IN THE CITY AS A WHOLE</th>\n",
       "      <th>CITY MANAGEMENT</th>\n",
       "      <th>BCN_over_barri_evolution</th>\n",
       "      <th>BCN_over_barri_future</th>\n",
       "      <th>BCN_over_barri_satisfaction</th>\n",
       "      <th>BCN_over_barri_transport</th>\n",
       "      <th>BCN_over_barri_management</th>\n",
       "      <th>BCN_over_barri_security</th>\n",
       "    </tr>\n",
       "  </thead>\n",
       "  <tbody>\n",
       "    <tr>\n",
       "      <th>0</th>\n",
       "      <td>0.0</td>\n",
       "      <td>SANTS - MONTJUÏC</td>\n",
       "      <td>0</td>\n",
       "      <td>1</td>\n",
       "      <td>0.0</td>\n",
       "      <td>1.0</td>\n",
       "      <td>51-100 M2</td>\n",
       "      <td>TWO</td>\n",
       "      <td>COUPLE WITH NO CHILDREN</td>\n",
       "      <td>GOOD</td>\n",
       "      <td>...</td>\n",
       "      <td>GOOD</td>\n",
       "      <td>GOOD</td>\n",
       "      <td>NEITHER BAD, NOR GOOD</td>\n",
       "      <td>GOOD</td>\n",
       "      <td>0</td>\n",
       "      <td>0</td>\n",
       "      <td>0</td>\n",
       "      <td>0</td>\n",
       "      <td>0</td>\n",
       "      <td>0</td>\n",
       "    </tr>\n",
       "    <tr>\n",
       "      <th>1</th>\n",
       "      <td>0.0</td>\n",
       "      <td>SANTS - MONTJUÏC</td>\n",
       "      <td>1</td>\n",
       "      <td>0</td>\n",
       "      <td>0.0</td>\n",
       "      <td>1.0</td>\n",
       "      <td>51-100 M2</td>\n",
       "      <td>ONE</td>\n",
       "      <td>SINGLE</td>\n",
       "      <td>BAD</td>\n",
       "      <td>...</td>\n",
       "      <td>NEITHER BAD, NOR GOOD</td>\n",
       "      <td>GOOD</td>\n",
       "      <td>GOOD</td>\n",
       "      <td>NEITHER BAD, NOR GOOD</td>\n",
       "      <td>1</td>\n",
       "      <td>0</td>\n",
       "      <td>0</td>\n",
       "      <td>0</td>\n",
       "      <td>0</td>\n",
       "      <td>0</td>\n",
       "    </tr>\n",
       "    <tr>\n",
       "      <th>2</th>\n",
       "      <td>0.0</td>\n",
       "      <td>SANTS - MONTJUÏC</td>\n",
       "      <td>1</td>\n",
       "      <td>0</td>\n",
       "      <td>1.0</td>\n",
       "      <td>0.0</td>\n",
       "      <td>51-100 M2</td>\n",
       "      <td>ONE</td>\n",
       "      <td>SINGLE</td>\n",
       "      <td>GOOD</td>\n",
       "      <td>...</td>\n",
       "      <td>NEITHER BAD, NOR GOOD</td>\n",
       "      <td>GOOD</td>\n",
       "      <td>NEITHER BAD, NOR GOOD</td>\n",
       "      <td>NEITHER BAD, NOR GOOD</td>\n",
       "      <td>0</td>\n",
       "      <td>0</td>\n",
       "      <td>0</td>\n",
       "      <td>1</td>\n",
       "      <td>0</td>\n",
       "      <td>0</td>\n",
       "    </tr>\n",
       "    <tr>\n",
       "      <th>3</th>\n",
       "      <td>1.0</td>\n",
       "      <td>SANTS - MONTJUÏC</td>\n",
       "      <td>0</td>\n",
       "      <td>0</td>\n",
       "      <td>0.0</td>\n",
       "      <td>1.0</td>\n",
       "      <td>&lt; 50 M2</td>\n",
       "      <td>TWO</td>\n",
       "      <td>COUPLE WITH NO CHILDREN</td>\n",
       "      <td>BAD</td>\n",
       "      <td>...</td>\n",
       "      <td>NEITHER BAD, NOR GOOD</td>\n",
       "      <td>GOOD</td>\n",
       "      <td>NEITHER BAD, NOR GOOD</td>\n",
       "      <td>NEITHER BAD, NOR GOOD</td>\n",
       "      <td>0</td>\n",
       "      <td>0</td>\n",
       "      <td>1</td>\n",
       "      <td>0</td>\n",
       "      <td>0</td>\n",
       "      <td>0</td>\n",
       "    </tr>\n",
       "    <tr>\n",
       "      <th>4</th>\n",
       "      <td>0.0</td>\n",
       "      <td>SANTS - MONTJUÏC</td>\n",
       "      <td>1</td>\n",
       "      <td>0</td>\n",
       "      <td>1.0</td>\n",
       "      <td>1.0</td>\n",
       "      <td>51-100 M2</td>\n",
       "      <td>TWO</td>\n",
       "      <td>SINGLE-PARENT WITH CHILDREN</td>\n",
       "      <td>GOOD</td>\n",
       "      <td>...</td>\n",
       "      <td>NEITHER BAD, NOR GOOD</td>\n",
       "      <td>NEITHER BAD, NOR GOOD</td>\n",
       "      <td>GOOD</td>\n",
       "      <td>GOOD</td>\n",
       "      <td>0</td>\n",
       "      <td>1</td>\n",
       "      <td>0</td>\n",
       "      <td>0</td>\n",
       "      <td>0</td>\n",
       "      <td>0</td>\n",
       "    </tr>\n",
       "  </tbody>\n",
       "</table>\n",
       "<p>5 rows × 48 columns</p>\n",
       "</div>"
      ],
      "text/plain": [
       "   Would_live_in_another_neighborhood          District  Woman  Car  \\\n",
       "0                                 0.0  SANTS - MONTJUÏC      0    1   \n",
       "1                                 0.0  SANTS - MONTJUÏC      1    0   \n",
       "2                                 0.0  SANTS - MONTJUÏC      1    0   \n",
       "3                                 1.0  SANTS - MONTJUÏC      0    0   \n",
       "4                                 0.0  SANTS - MONTJUÏC      1    0   \n",
       "\n",
       "   Support_with_housework  Owner House_size No_of_people_in_the_house  \\\n",
       "0                     0.0    1.0  51-100 M2                       TWO   \n",
       "1                     0.0    1.0  51-100 M2                       ONE   \n",
       "2                     1.0    0.0  51-100 M2                       ONE   \n",
       "3                     0.0    1.0    < 50 M2                       TWO   \n",
       "4                     1.0    1.0  51-100 M2                       TWO   \n",
       "\n",
       "                   Family_type Financial_situation  ...  \\\n",
       "0      COUPLE WITH NO CHILDREN                GOOD  ...   \n",
       "1                       SINGLE                 BAD  ...   \n",
       "2                       SINGLE                GOOD  ...   \n",
       "3      COUPLE WITH NO CHILDREN                 BAD  ...   \n",
       "4  SINGLE-PARENT WITH CHILDREN                GOOD  ...   \n",
       "\n",
       "   CIRCULATION AND TRAFFIC                    BUS  \\\n",
       "0                     GOOD                   GOOD   \n",
       "1    NEITHER BAD, NOR GOOD                   GOOD   \n",
       "2    NEITHER BAD, NOR GOOD                   GOOD   \n",
       "3    NEITHER BAD, NOR GOOD                   GOOD   \n",
       "4    NEITHER BAD, NOR GOOD  NEITHER BAD, NOR GOOD   \n",
       "\n",
       "  CITIZEN SECURITY IN THE CITY AS A WHOLE        CITY MANAGEMENT  \\\n",
       "0                   NEITHER BAD, NOR GOOD                   GOOD   \n",
       "1                                    GOOD  NEITHER BAD, NOR GOOD   \n",
       "2                   NEITHER BAD, NOR GOOD  NEITHER BAD, NOR GOOD   \n",
       "3                   NEITHER BAD, NOR GOOD  NEITHER BAD, NOR GOOD   \n",
       "4                                    GOOD                   GOOD   \n",
       "\n",
       "  BCN_over_barri_evolution BCN_over_barri_future BCN_over_barri_satisfaction  \\\n",
       "0                        0                     0                           0   \n",
       "1                        1                     0                           0   \n",
       "2                        0                     0                           0   \n",
       "3                        0                     0                           1   \n",
       "4                        0                     1                           0   \n",
       "\n",
       "  BCN_over_barri_transport BCN_over_barri_management BCN_over_barri_security  \n",
       "0                        0                         0                       0  \n",
       "1                        0                         0                       0  \n",
       "2                        1                         0                       0  \n",
       "3                        0                         0                       0  \n",
       "4                        0                         0                       0  \n",
       "\n",
       "[5 rows x 48 columns]"
      ]
     },
     "execution_count": 5,
     "metadata": {},
     "output_type": "execute_result"
    }
   ],
   "source": [
    "data.head()"
   ]
  },
  {
   "cell_type": "code",
   "execution_count": null,
   "metadata": {},
   "outputs": [],
   "source": []
  },
  {
   "cell_type": "code",
   "execution_count": 6,
   "metadata": {},
   "outputs": [
    {
     "data": {
      "text/plain": [
       "(1169, 48)"
      ]
     },
     "execution_count": 6,
     "metadata": {},
     "output_type": "execute_result"
    }
   ],
   "source": [
    "data.shape"
   ]
  },
  {
   "cell_type": "code",
   "execution_count": 7,
   "metadata": {},
   "outputs": [
    {
     "data": {
      "text/plain": [
       "['Would_live_in_another_neighborhood',\n",
       " 'District',\n",
       " 'Woman',\n",
       " 'Car',\n",
       " 'Support_with_housework',\n",
       " 'Owner',\n",
       " 'House_size',\n",
       " 'No_of_people_in_the_house',\n",
       " 'Family_type',\n",
       " 'Financial_situation',\n",
       " 'Disability',\n",
       " 'Living_with_disabled_person',\n",
       " 'Time_living_in_BCN',\n",
       " 'Time_living_in_barri',\n",
       " 'Barri_evolution',\n",
       " 'BCN_evolution',\n",
       " 'Barri_future',\n",
       " 'BCN_future',\n",
       " 'Barri_satisfaction',\n",
       " 'BCN_satisfaction',\n",
       " 'Barri_security',\n",
       " 'BCN_security',\n",
       " 'Barri_management',\n",
       " 'BCN_management',\n",
       " 'Barri_comparison',\n",
       " 'Barri_association',\n",
       " 'Barri_transport',\n",
       " 'BCN_transport',\n",
       " 'Barri_problem_with_security',\n",
       " 'Barri_problem_with_streets_cleaning',\n",
       " 'Barri_problem_with_mobility',\n",
       " 'Residential_satisfaction',\n",
       " 'GARBAGE COLLECTION',\n",
       " 'STREETS CLEANING',\n",
       " 'NOISE',\n",
       " 'GREEN AREAS',\n",
       " 'PUBLIC LIGHTING',\n",
       " 'ASPHALT AND STREET CONSERVATION',\n",
       " 'CIRCULATION AND TRAFFIC',\n",
       " 'BUS',\n",
       " 'CITIZEN SECURITY IN THE CITY AS A WHOLE',\n",
       " 'CITY MANAGEMENT',\n",
       " 'BCN_over_barri_evolution',\n",
       " 'BCN_over_barri_future',\n",
       " 'BCN_over_barri_satisfaction',\n",
       " 'BCN_over_barri_transport',\n",
       " 'BCN_over_barri_management',\n",
       " 'BCN_over_barri_security']"
      ]
     },
     "execution_count": 7,
     "metadata": {},
     "output_type": "execute_result"
    }
   ],
   "source": [
    "data.columns.tolist()"
   ]
  },
  {
   "cell_type": "code",
   "execution_count": null,
   "metadata": {},
   "outputs": [],
   "source": []
  },
  {
   "cell_type": "code",
   "execution_count": 8,
   "metadata": {},
   "outputs": [
    {
     "data": {
      "text/plain": [
       "Residential_satisfaction\n",
       "0     149\n",
       "1    1020\n",
       "dtype: int64"
      ]
     },
     "execution_count": 8,
     "metadata": {},
     "output_type": "execute_result"
    }
   ],
   "source": [
    "data.groupby(['Residential_satisfaction']).size()"
   ]
  },
  {
   "cell_type": "code",
   "execution_count": null,
   "metadata": {},
   "outputs": [],
   "source": []
  },
  {
   "cell_type": "code",
   "execution_count": 9,
   "metadata": {},
   "outputs": [],
   "source": [
    "x_var = ['District',\n",
    " 'Woman',\n",
    " 'Car',\n",
    " 'Support_with_housework',\n",
    " 'Owner',\n",
    " 'House_size',\n",
    " 'No_of_people_in_the_house',\n",
    " 'Family_type',\n",
    " 'Financial_situation',\n",
    " 'Disability',\n",
    " 'Living_with_disabled_person',\n",
    " 'Time_living_in_BCN',\n",
    " 'BCN_evolution',\n",
    " 'BCN_future',\n",
    " 'BCN_transport',\n",
    " 'GARBAGE COLLECTION',\n",
    " 'STREETS CLEANING',\n",
    " 'NOISE',\n",
    " 'GREEN AREAS',\n",
    " 'PUBLIC LIGHTING',\n",
    " 'ASPHALT AND STREET CONSERVATION',\n",
    " 'CIRCULATION AND TRAFFIC',\n",
    " 'BUS',\n",
    " 'CITIZEN SECURITY IN THE CITY AS A WHOLE',\n",
    " 'CITY MANAGEMENT']"
   ]
  },
  {
   "cell_type": "code",
   "execution_count": null,
   "metadata": {},
   "outputs": [],
   "source": []
  },
  {
   "cell_type": "code",
   "execution_count": 10,
   "metadata": {},
   "outputs": [],
   "source": [
    "y = data['Residential_satisfaction']"
   ]
  },
  {
   "cell_type": "code",
   "execution_count": null,
   "metadata": {},
   "outputs": [],
   "source": []
  },
  {
   "cell_type": "code",
   "execution_count": 11,
   "metadata": {},
   "outputs": [],
   "source": [
    "x = pd.get_dummies(data[x_var])"
   ]
  },
  {
   "cell_type": "code",
   "execution_count": 12,
   "metadata": {},
   "outputs": [
    {
     "data": {
      "text/plain": [
       "['Woman',\n",
       " 'Car',\n",
       " 'Support_with_housework',\n",
       " 'Owner',\n",
       " 'Disability',\n",
       " 'Living_with_disabled_person',\n",
       " 'District_CIUTAT VELLA',\n",
       " 'District_EIXAMPLE',\n",
       " 'District_GRÀCIA',\n",
       " 'District_HORTA - GUINARDÓ',\n",
       " 'District_LES CORTS',\n",
       " 'District_NOU BARRIS',\n",
       " 'District_SANT ANDREU',\n",
       " 'District_SANT MARTÍ',\n",
       " 'District_SANTS - MONTJUÏC',\n",
       " 'District_SARRIÀ - SANT GERVASI',\n",
       " 'House_size_101-150 M2',\n",
       " 'House_size_51-100 M2',\n",
       " 'House_size_< 50 M2',\n",
       " 'House_size_> 150 M2',\n",
       " \"House_size_I DON'T KNOW\",\n",
       " 'No_of_people_in_the_house_ONE',\n",
       " 'No_of_people_in_the_house_THREE OR MORE',\n",
       " 'No_of_people_in_the_house_TWO',\n",
       " 'Family_type_COUPLE WITH CHILDREN',\n",
       " 'Family_type_COUPLE WITH NO CHILDREN',\n",
       " 'Family_type_OTHER',\n",
       " 'Family_type_SINGLE',\n",
       " 'Family_type_SINGLE-PARENT WITH CHILDREN',\n",
       " 'Financial_situation_BAD',\n",
       " 'Financial_situation_GOOD',\n",
       " 'Time_living_in_BCN_I HAVE ALWAYS LIVED IN THE CITY',\n",
       " 'Time_living_in_BCN_LESS THAN 10 YEARS',\n",
       " 'Time_living_in_BCN_MORE THAN 10 YEARS',\n",
       " 'BCN_evolution_IT HAS IMPROVED',\n",
       " 'BCN_evolution_IT HAS WORSENED',\n",
       " 'BCN_evolution_IT IS THE SAME',\n",
       " 'BCN_future_IT WILL IMPROVE',\n",
       " 'BCN_future_IT WILL STAY THE SAME',\n",
       " 'BCN_future_IT WILL WORSEN',\n",
       " 'BCN_transport_BAD',\n",
       " 'BCN_transport_GOOD',\n",
       " 'BCN_transport_NEITHER BAD, NOR GOOD',\n",
       " 'GARBAGE COLLECTION_BAD',\n",
       " 'GARBAGE COLLECTION_GOOD',\n",
       " 'GARBAGE COLLECTION_NEITHER BAD, NOR GOOD',\n",
       " 'STREETS CLEANING_BAD',\n",
       " 'STREETS CLEANING_GOOD',\n",
       " 'STREETS CLEANING_NEITHER BAD, NOR GOOD',\n",
       " 'NOISE_BAD',\n",
       " 'NOISE_GOOD',\n",
       " 'NOISE_NEITHER BAD, NOR GOOD',\n",
       " 'GREEN AREAS_BAD',\n",
       " 'GREEN AREAS_GOOD',\n",
       " 'GREEN AREAS_NEITHER BAD, NOR GOOD',\n",
       " 'PUBLIC LIGHTING_BAD',\n",
       " 'PUBLIC LIGHTING_GOOD',\n",
       " 'PUBLIC LIGHTING_NEITHER BAD, NOR GOOD',\n",
       " 'ASPHALT AND STREET CONSERVATION_BAD',\n",
       " 'ASPHALT AND STREET CONSERVATION_GOOD',\n",
       " 'ASPHALT AND STREET CONSERVATION_NEITHER BAD, NOR GOOD',\n",
       " 'CIRCULATION AND TRAFFIC_BAD',\n",
       " 'CIRCULATION AND TRAFFIC_GOOD',\n",
       " 'CIRCULATION AND TRAFFIC_NEITHER BAD, NOR GOOD',\n",
       " 'BUS_BAD',\n",
       " 'BUS_GOOD',\n",
       " 'BUS_NEITHER BAD, NOR GOOD',\n",
       " 'CITIZEN SECURITY IN THE CITY AS A WHOLE_BAD',\n",
       " 'CITIZEN SECURITY IN THE CITY AS A WHOLE_GOOD',\n",
       " 'CITIZEN SECURITY IN THE CITY AS A WHOLE_NEITHER BAD, NOR GOOD',\n",
       " 'CITY MANAGEMENT_BAD',\n",
       " 'CITY MANAGEMENT_GOOD',\n",
       " 'CITY MANAGEMENT_NEITHER BAD, NOR GOOD']"
      ]
     },
     "execution_count": 12,
     "metadata": {},
     "output_type": "execute_result"
    }
   ],
   "source": [
    "x.columns.tolist()"
   ]
  },
  {
   "cell_type": "code",
   "execution_count": 13,
   "metadata": {},
   "outputs": [],
   "source": [
    "for i in ['District_EIXAMPLE',\n",
    " 'House_size_< 50 M2',\n",
    " 'No_of_people_in_the_house_ONE',\n",
    " 'Family_type_OTHER',\n",
    " 'Financial_situation_BAD',\n",
    " 'Time_living_in_BCN_LESS THAN 10 YEARS',\n",
    " 'BCN_evolution_IT HAS WORSENED',\n",
    " 'BCN_future_IT WILL WORSEN',\n",
    " 'BCN_transport_BAD',\n",
    " 'GARBAGE COLLECTION_BAD',\n",
    " 'STREETS CLEANING_BAD',\n",
    " 'NOISE_BAD',\n",
    " 'GREEN AREAS_BAD',\n",
    " 'PUBLIC LIGHTING_BAD',\n",
    " 'ASPHALT AND STREET CONSERVATION_BAD',\n",
    " 'CIRCULATION AND TRAFFIC_BAD',\n",
    " 'BUS_BAD',\n",
    " 'CITIZEN SECURITY IN THE CITY AS A WHOLE_BAD',\n",
    " 'CITY MANAGEMENT_BAD']:\n",
    "    del x[i]"
   ]
  },
  {
   "cell_type": "code",
   "execution_count": 14,
   "metadata": {},
   "outputs": [
    {
     "data": {
      "text/plain": [
       "<matplotlib.axes._subplots.AxesSubplot at 0x256ef7a3508>"
      ]
     },
     "execution_count": 14,
     "metadata": {},
     "output_type": "execute_result"
    },
    {
     "data": {
      "image/png": "[encoded data removed]",
      "text/plain": [
       "<Figure size 1152x1152 with 2 Axes>"
      ]
     },
     "metadata": {},
     "output_type": "display_data"
    }
   ],
   "source": [
    "import seaborn as sns # just a conventional alias, don't know why\n",
    "sns.set(style=\"white\")\n",
    "\n",
    "corr = x.corr('spearman')\n",
    "\n",
    "# Generate a mask for the upper triangle\n",
    "mask = np.zeros_like(corr, dtype=np.bool)\n",
    "mask[np.triu_indices_from(mask)] = True\n",
    "\n",
    "# Set up the matplotlib figure\n",
    "f, ax = plt.subplots(figsize=(16, 16))\n",
    "\n",
    "# Generate a custom diverging colormap\n",
    "cmap = sns.diverging_palette(220, 10, as_cmap=True)\n",
    "\n",
    "# Draw the heatmap with the mask and correct aspect ratio\n",
    "sns.heatmap(corr, mask=mask, cmap=cmap, vmax=.3, center=0,\n",
    "            square=True, #annot = corr.round(2), \n",
    "            linewidths=.5, cbar_kws={\"shrink\": .5})"
   ]
  },
  {
   "cell_type": "code",
   "execution_count": 15,
   "metadata": {},
   "outputs": [],
   "source": [
    "x = sm.add_constant(x)"
   ]
  },
  {
   "cell_type": "code",
   "execution_count": 16,
   "metadata": {},
   "outputs": [
    {
     "data": {
      "text/plain": [
       "(1169, 55)"
      ]
     },
     "execution_count": 16,
     "metadata": {},
     "output_type": "execute_result"
    }
   ],
   "source": [
    "x.shape"
   ]
  },
  {
   "cell_type": "code",
   "execution_count": null,
   "metadata": {},
   "outputs": [],
   "source": []
  },
  {
   "cell_type": "code",
   "execution_count": 17,
   "metadata": {},
   "outputs": [],
   "source": [
    "def odds_ratios(results):\n",
    "    return np.exp(results.params)\n",
    "\n",
    "def classification_table(results):\n",
    "    df_classification_table = pd.DataFrame(y).join(pd.DataFrame(results.predict(x).round()))\n",
    "    df_classification_table.rename(columns={'Residential_satisfaction': 'y', 0: 'y_predict'}, inplace=True)\n",
    "    return pd.crosstab(df_classification_table['y'], df_classification_table['y_predict'])\n",
    "\n",
    "def plot_roc_auc(results):\n",
    "    y_predict = results.predict(x)\n",
    "    roc_auc = roc_auc_score(y, y_predict)\n",
    "    fpr, tpr, thresholds = roc_curve(y, y_predict)\n",
    "    plt.figure()\n",
    "    plt.plot(fpr, tpr, label='Logistic Regression (area = %0.2f)' % roc_auc)\n",
    "    plt.plot([0, 1], [0, 1],'r--')\n",
    "    plt.xlim([0.0, 1.0])\n",
    "    plt.ylim([0.0, 1.05])\n",
    "    plt.xlabel('False Positive Rate')\n",
    "    plt.ylabel('True Positive Rate')\n",
    "    plt.title('Receiver operating characteristic')\n",
    "    plt.legend(loc=\"lower right\")\n",
    "    plt.show()\n",
    "\n",
    "# https://github.com/statsmodels/statsmodels/issues/5861\n",
    "def pseudo_r2(results):\n",
    "    return print(\"Pseudo R2:\", (1 - results.llf / results.llnull))\n",
    "\n",
    "def adj_count_r2(results):\n",
    "    df_classification_table = pd.DataFrame(y).join(pd.DataFrame(results.predict(x).round()))\n",
    "    df_classification_table.rename(columns={'Residential_satisfaction': 'y', 0: 'y_predict'}, inplace=True)\n",
    "    df = pd.crosstab(df_classification_table['y'], df_classification_table['y_predict'])\n",
    "    return print(\"Adj Count R2:\", round((df[0][0] + df[1][1] - (df[1][1]+df[0][1]))/(df[1][0]+df[0][0]),3))"
   ]
  },
  {
   "cell_type": "code",
   "execution_count": null,
   "metadata": {},
   "outputs": [],
   "source": []
  },
  {
   "cell_type": "markdown",
   "metadata": {},
   "source": [
    "# Logit"
   ]
  },
  {
   "cell_type": "code",
   "execution_count": 18,
   "metadata": {},
   "outputs": [
    {
     "data": {
      "text/html": [
       "<table class=\"simpletable\">\n",
       "<caption>Generalized Linear Model Regression Results</caption>\n",
       "<tr>\n",
       "  <th>Dep. Variable:</th>   <td>Residential_satisfaction</td> <th>  No. Observations:  </th>  <td>  1169</td> \n",
       "</tr>\n",
       "<tr>\n",
       "  <th>Model:</th>                      <td>GLM</td>           <th>  Df Residuals:      </th>  <td>  1115</td> \n",
       "</tr>\n",
       "<tr>\n",
       "  <th>Model Family:</th>            <td>Binomial</td>         <th>  Df Model:          </th>  <td>    53</td> \n",
       "</tr>\n",
       "<tr>\n",
       "  <th>Link Function:</th>             <td>logit</td>          <th>  Scale:             </th> <td>  1.0000</td>\n",
       "</tr>\n",
       "<tr>\n",
       "  <th>Method:</th>                    <td>IRLS</td>           <th>  Log-Likelihood:    </th> <td> -361.28</td>\n",
       "</tr>\n",
       "<tr>\n",
       "  <th>Date:</th>                <td>Sun, 01 Aug 2021</td>     <th>  Deviance:          </th> <td>  722.56</td>\n",
       "</tr>\n",
       "<tr>\n",
       "  <th>Time:</th>                    <td>19:01:26</td>         <th>  Pearson chi2:      </th> <td>1.17e+03</td>\n",
       "</tr>\n",
       "<tr>\n",
       "  <th>No. Iterations:</th>              <td>6</td>            <th>                     </th>     <td> </td>   \n",
       "</tr>\n",
       "<tr>\n",
       "  <th>Covariance Type:</th>         <td>nonrobust</td>        <th>                     </th>     <td> </td>   \n",
       "</tr>\n",
       "</table>\n",
       "<table class=\"simpletable\">\n",
       "<tr>\n",
       "                                <td></td>                                   <th>coef</th>     <th>std err</th>      <th>z</th>      <th>P>|z|</th>  <th>[0.025</th>    <th>0.975]</th>  \n",
       "</tr>\n",
       "<tr>\n",
       "  <th>const</th>                                                         <td>    0.1522</td> <td>    0.876</td> <td>    0.174</td> <td> 0.862</td> <td>   -1.564</td> <td>    1.869</td>\n",
       "</tr>\n",
       "<tr>\n",
       "  <th>Woman</th>                                                         <td>    0.4339</td> <td>    0.218</td> <td>    1.987</td> <td> 0.047</td> <td>    0.006</td> <td>    0.862</td>\n",
       "</tr>\n",
       "<tr>\n",
       "  <th>Car</th>                                                           <td>   -0.3276</td> <td>    0.242</td> <td>   -1.351</td> <td> 0.177</td> <td>   -0.803</td> <td>    0.148</td>\n",
       "</tr>\n",
       "<tr>\n",
       "  <th>Support_with_housework</th>                                        <td>    0.0625</td> <td>    0.233</td> <td>    0.268</td> <td> 0.788</td> <td>   -0.394</td> <td>    0.519</td>\n",
       "</tr>\n",
       "<tr>\n",
       "  <th>Owner</th>                                                         <td>    0.4222</td> <td>    0.272</td> <td>    1.554</td> <td> 0.120</td> <td>   -0.110</td> <td>    0.955</td>\n",
       "</tr>\n",
       "<tr>\n",
       "  <th>Disability</th>                                                    <td>   -0.0911</td> <td>    0.358</td> <td>   -0.255</td> <td> 0.799</td> <td>   -0.792</td> <td>    0.610</td>\n",
       "</tr>\n",
       "<tr>\n",
       "  <th>Living_with_disabled_person</th>                                   <td>   -0.1002</td> <td>    0.299</td> <td>   -0.335</td> <td> 0.738</td> <td>   -0.686</td> <td>    0.486</td>\n",
       "</tr>\n",
       "<tr>\n",
       "  <th>District_CIUTAT VELLA</th>                                         <td>   -1.2383</td> <td>    0.456</td> <td>   -2.714</td> <td> 0.007</td> <td>   -2.133</td> <td>   -0.344</td>\n",
       "</tr>\n",
       "<tr>\n",
       "  <th>District_GRÀCIA</th>                                               <td>   -0.7846</td> <td>    0.413</td> <td>   -1.899</td> <td> 0.058</td> <td>   -1.595</td> <td>    0.025</td>\n",
       "</tr>\n",
       "<tr>\n",
       "  <th>District_HORTA - GUINARDÓ</th>                                     <td>   -0.1544</td> <td>    0.408</td> <td>   -0.378</td> <td> 0.705</td> <td>   -0.954</td> <td>    0.646</td>\n",
       "</tr>\n",
       "<tr>\n",
       "  <th>District_LES CORTS</th>                                            <td>   -0.3256</td> <td>    0.445</td> <td>   -0.732</td> <td> 0.464</td> <td>   -1.197</td> <td>    0.546</td>\n",
       "</tr>\n",
       "<tr>\n",
       "  <th>District_NOU BARRIS</th>                                           <td>   -0.5115</td> <td>    0.422</td> <td>   -1.212</td> <td> 0.225</td> <td>   -1.338</td> <td>    0.315</td>\n",
       "</tr>\n",
       "<tr>\n",
       "  <th>District_SANT ANDREU</th>                                          <td>   -0.2288</td> <td>    0.449</td> <td>   -0.510</td> <td> 0.610</td> <td>   -1.109</td> <td>    0.651</td>\n",
       "</tr>\n",
       "<tr>\n",
       "  <th>District_SANT MARTÍ</th>                                           <td>   -0.1730</td> <td>    0.411</td> <td>   -0.421</td> <td> 0.674</td> <td>   -0.978</td> <td>    0.632</td>\n",
       "</tr>\n",
       "<tr>\n",
       "  <th>District_SANTS - MONTJUÏC</th>                                     <td>   -0.6773</td> <td>    0.412</td> <td>   -1.644</td> <td> 0.100</td> <td>   -1.485</td> <td>    0.130</td>\n",
       "</tr>\n",
       "<tr>\n",
       "  <th>District_SARRIÀ - SANT GERVASI</th>                                <td>   -0.1653</td> <td>    0.460</td> <td>   -0.359</td> <td> 0.719</td> <td>   -1.067</td> <td>    0.736</td>\n",
       "</tr>\n",
       "<tr>\n",
       "  <th>House_size_101-150 M2</th>                                         <td>   -0.5784</td> <td>    0.577</td> <td>   -1.002</td> <td> 0.316</td> <td>   -1.710</td> <td>    0.553</td>\n",
       "</tr>\n",
       "<tr>\n",
       "  <th>House_size_51-100 M2</th>                                          <td>   -0.5098</td> <td>    0.504</td> <td>   -1.012</td> <td> 0.311</td> <td>   -1.497</td> <td>    0.477</td>\n",
       "</tr>\n",
       "<tr>\n",
       "  <th>House_size_> 150 M2</th>                                           <td>   -0.8303</td> <td>    0.707</td> <td>   -1.174</td> <td> 0.240</td> <td>   -2.216</td> <td>    0.555</td>\n",
       "</tr>\n",
       "<tr>\n",
       "  <th>House_size_I DON'T KNOW</th>                                       <td>   -0.3377</td> <td>    0.653</td> <td>   -0.517</td> <td> 0.605</td> <td>   -1.618</td> <td>    0.942</td>\n",
       "</tr>\n",
       "<tr>\n",
       "  <th>No_of_people_in_the_house_THREE OR MORE</th>                       <td>   -0.2598</td> <td>    0.471</td> <td>   -0.551</td> <td> 0.582</td> <td>   -1.184</td> <td>    0.664</td>\n",
       "</tr>\n",
       "<tr>\n",
       "  <th>No_of_people_in_the_house_TWO</th>                                 <td>    0.2028</td> <td>    0.452</td> <td>    0.449</td> <td> 0.653</td> <td>   -0.682</td> <td>    1.088</td>\n",
       "</tr>\n",
       "<tr>\n",
       "  <th>Family_type_COUPLE WITH CHILDREN</th>                              <td>    0.1905</td> <td>    0.579</td> <td>    0.329</td> <td> 0.742</td> <td>   -0.945</td> <td>    1.326</td>\n",
       "</tr>\n",
       "<tr>\n",
       "  <th>Family_type_COUPLE WITH NO CHILDREN</th>                           <td>   -0.1483</td> <td>    0.539</td> <td>   -0.275</td> <td> 0.783</td> <td>   -1.204</td> <td>    0.907</td>\n",
       "</tr>\n",
       "<tr>\n",
       "  <th>Family_type_SINGLE</th>                                            <td>    0.2092</td> <td>    0.371</td> <td>    0.564</td> <td> 0.573</td> <td>   -0.518</td> <td>    0.937</td>\n",
       "</tr>\n",
       "<tr>\n",
       "  <th>Family_type_SINGLE-PARENT WITH CHILDREN</th>                       <td>   -0.0607</td> <td>    0.569</td> <td>   -0.107</td> <td> 0.915</td> <td>   -1.177</td> <td>    1.055</td>\n",
       "</tr>\n",
       "<tr>\n",
       "  <th>Financial_situation_GOOD</th>                                      <td>    0.0284</td> <td>    0.212</td> <td>    0.134</td> <td> 0.894</td> <td>   -0.388</td> <td>    0.445</td>\n",
       "</tr>\n",
       "<tr>\n",
       "  <th>Time_living_in_BCN_I HAVE ALWAYS LIVED IN THE CITY</th>            <td>   -0.2596</td> <td>    0.828</td> <td>   -0.314</td> <td> 0.754</td> <td>   -1.882</td> <td>    1.363</td>\n",
       "</tr>\n",
       "<tr>\n",
       "  <th>Time_living_in_BCN_MORE THAN 10 YEARS</th>                         <td>   -0.2991</td> <td>    0.823</td> <td>   -0.363</td> <td> 0.716</td> <td>   -1.912</td> <td>    1.314</td>\n",
       "</tr>\n",
       "<tr>\n",
       "  <th>BCN_evolution_IT HAS IMPROVED</th>                                 <td>    0.7077</td> <td>    0.335</td> <td>    2.110</td> <td> 0.035</td> <td>    0.050</td> <td>    1.365</td>\n",
       "</tr>\n",
       "<tr>\n",
       "  <th>BCN_evolution_IT IS THE SAME</th>                                  <td>    0.5385</td> <td>    0.287</td> <td>    1.875</td> <td> 0.061</td> <td>   -0.024</td> <td>    1.101</td>\n",
       "</tr>\n",
       "<tr>\n",
       "  <th>BCN_future_IT WILL IMPROVE</th>                                    <td>    1.1892</td> <td>    0.248</td> <td>    4.796</td> <td> 0.000</td> <td>    0.703</td> <td>    1.675</td>\n",
       "</tr>\n",
       "<tr>\n",
       "  <th>BCN_future_IT WILL STAY THE SAME</th>                              <td>    0.5128</td> <td>    0.257</td> <td>    1.995</td> <td> 0.046</td> <td>    0.009</td> <td>    1.016</td>\n",
       "</tr>\n",
       "<tr>\n",
       "  <th>BCN_transport_GOOD</th>                                            <td>   -0.0776</td> <td>    0.321</td> <td>   -0.242</td> <td> 0.809</td> <td>   -0.706</td> <td>    0.551</td>\n",
       "</tr>\n",
       "<tr>\n",
       "  <th>BCN_transport_NEITHER BAD, NOR GOOD</th>                           <td>   -0.2424</td> <td>    0.424</td> <td>   -0.571</td> <td> 0.568</td> <td>   -1.074</td> <td>    0.590</td>\n",
       "</tr>\n",
       "<tr>\n",
       "  <th>GARBAGE COLLECTION_GOOD</th>                                       <td>    0.2803</td> <td>    0.479</td> <td>    0.585</td> <td> 0.558</td> <td>   -0.658</td> <td>    1.219</td>\n",
       "</tr>\n",
       "<tr>\n",
       "  <th>GARBAGE COLLECTION_NEITHER BAD, NOR GOOD</th>                      <td>   -0.2192</td> <td>    0.471</td> <td>   -0.465</td> <td> 0.642</td> <td>   -1.143</td> <td>    0.704</td>\n",
       "</tr>\n",
       "<tr>\n",
       "  <th>STREETS CLEANING_GOOD</th>                                         <td>    0.3176</td> <td>    0.352</td> <td>    0.902</td> <td> 0.367</td> <td>   -0.372</td> <td>    1.008</td>\n",
       "</tr>\n",
       "<tr>\n",
       "  <th>STREETS CLEANING_NEITHER BAD, NOR GOOD</th>                        <td>    0.2562</td> <td>    0.311</td> <td>    0.824</td> <td> 0.410</td> <td>   -0.353</td> <td>    0.865</td>\n",
       "</tr>\n",
       "<tr>\n",
       "  <th>NOISE_GOOD</th>                                                    <td>    0.0300</td> <td>    0.317</td> <td>    0.095</td> <td> 0.925</td> <td>   -0.592</td> <td>    0.652</td>\n",
       "</tr>\n",
       "<tr>\n",
       "  <th>NOISE_NEITHER BAD, NOR GOOD</th>                                   <td>    0.1061</td> <td>    0.285</td> <td>    0.373</td> <td> 0.709</td> <td>   -0.452</td> <td>    0.664</td>\n",
       "</tr>\n",
       "<tr>\n",
       "  <th>GREEN AREAS_GOOD</th>                                              <td>    0.0421</td> <td>    0.335</td> <td>    0.126</td> <td> 0.900</td> <td>   -0.615</td> <td>    0.699</td>\n",
       "</tr>\n",
       "<tr>\n",
       "  <th>GREEN AREAS_NEITHER BAD, NOR GOOD</th>                             <td>   -0.1474</td> <td>    0.313</td> <td>   -0.471</td> <td> 0.638</td> <td>   -0.761</td> <td>    0.466</td>\n",
       "</tr>\n",
       "<tr>\n",
       "  <th>PUBLIC LIGHTING_GOOD</th>                                          <td>    0.0546</td> <td>    0.397</td> <td>    0.138</td> <td> 0.891</td> <td>   -0.723</td> <td>    0.833</td>\n",
       "</tr>\n",
       "<tr>\n",
       "  <th>PUBLIC LIGHTING_NEITHER BAD, NOR GOOD</th>                         <td>    0.1721</td> <td>    0.395</td> <td>    0.435</td> <td> 0.663</td> <td>   -0.603</td> <td>    0.947</td>\n",
       "</tr>\n",
       "<tr>\n",
       "  <th>ASPHALT AND STREET CONSERVATION_GOOD</th>                          <td>    0.6741</td> <td>    0.341</td> <td>    1.978</td> <td> 0.048</td> <td>    0.006</td> <td>    1.342</td>\n",
       "</tr>\n",
       "<tr>\n",
       "  <th>ASPHALT AND STREET CONSERVATION_NEITHER BAD, NOR GOOD</th>         <td>    0.1248</td> <td>    0.275</td> <td>    0.454</td> <td> 0.650</td> <td>   -0.414</td> <td>    0.664</td>\n",
       "</tr>\n",
       "<tr>\n",
       "  <th>CIRCULATION AND TRAFFIC_GOOD</th>                                  <td>   -0.2345</td> <td>    0.332</td> <td>   -0.706</td> <td> 0.480</td> <td>   -0.885</td> <td>    0.416</td>\n",
       "</tr>\n",
       "<tr>\n",
       "  <th>CIRCULATION AND TRAFFIC_NEITHER BAD, NOR GOOD</th>                 <td>   -0.0620</td> <td>    0.278</td> <td>   -0.223</td> <td> 0.823</td> <td>   -0.606</td> <td>    0.482</td>\n",
       "</tr>\n",
       "<tr>\n",
       "  <th>BUS_GOOD</th>                                                      <td>   -0.0202</td> <td>    0.381</td> <td>   -0.053</td> <td> 0.958</td> <td>   -0.767</td> <td>    0.726</td>\n",
       "</tr>\n",
       "<tr>\n",
       "  <th>BUS_NEITHER BAD, NOR GOOD</th>                                     <td>    0.1046</td> <td>    0.379</td> <td>    0.276</td> <td> 0.783</td> <td>   -0.639</td> <td>    0.848</td>\n",
       "</tr>\n",
       "<tr>\n",
       "  <th>CITIZEN SECURITY IN THE CITY AS A WHOLE_GOOD</th>                  <td>    0.5026</td> <td>    0.319</td> <td>    1.574</td> <td> 0.115</td> <td>   -0.123</td> <td>    1.128</td>\n",
       "</tr>\n",
       "<tr>\n",
       "  <th>CITIZEN SECURITY IN THE CITY AS A WHOLE_NEITHER BAD, NOR GOOD</th> <td>    0.7452</td> <td>    0.247</td> <td>    3.013</td> <td> 0.003</td> <td>    0.260</td> <td>    1.230</td>\n",
       "</tr>\n",
       "<tr>\n",
       "  <th>CITY MANAGEMENT_GOOD</th>                                          <td>    0.9711</td> <td>    0.359</td> <td>    2.706</td> <td> 0.007</td> <td>    0.268</td> <td>    1.674</td>\n",
       "</tr>\n",
       "<tr>\n",
       "  <th>CITY MANAGEMENT_NEITHER BAD, NOR GOOD</th>                         <td>    0.4533</td> <td>    0.284</td> <td>    1.598</td> <td> 0.110</td> <td>   -0.103</td> <td>    1.009</td>\n",
       "</tr>\n",
       "</table>"
      ],
      "text/plain": [
       "<class 'statsmodels.iolib.summary.Summary'>\n",
       "\"\"\"\n",
       "                    Generalized Linear Model Regression Results                     \n",
       "====================================================================================\n",
       "Dep. Variable:     Residential_satisfaction   No. Observations:                 1169\n",
       "Model:                                  GLM   Df Residuals:                     1115\n",
       "Model Family:                      Binomial   Df Model:                           53\n",
       "Link Function:                        logit   Scale:                          1.0000\n",
       "Method:                                IRLS   Log-Likelihood:                -361.28\n",
       "Date:                      Sun, 01 Aug 2021   Deviance:                       722.56\n",
       "Time:                              19:01:26   Pearson chi2:                 1.17e+03\n",
       "No. Iterations:                           6                                         \n",
       "Covariance Type:                  nonrobust                                         \n",
       "=================================================================================================================================\n",
       "                                                                    coef    std err          z      P>|z|      [0.025      0.975]\n",
       "---------------------------------------------------------------------------------------------------------------------------------\n",
       "const                                                             0.1522      0.876      0.174      0.862      -1.564       1.869\n",
       "Woman                                                             0.4339      0.218      1.987      0.047       0.006       0.862\n",
       "Car                                                              -0.3276      0.242     -1.351      0.177      -0.803       0.148\n",
       "Support_with_housework                                            0.0625      0.233      0.268      0.788      -0.394       0.519\n",
       "Owner                                                             0.4222      0.272      1.554      0.120      -0.110       0.955\n",
       "Disability                                                       -0.0911      0.358     -0.255      0.799      -0.792       0.610\n",
       "Living_with_disabled_person                                      -0.1002      0.299     -0.335      0.738      -0.686       0.486\n",
       "District_CIUTAT VELLA                                            -1.2383      0.456     -2.714      0.007      -2.133      -0.344\n",
       "District_GRÀCIA                                                  -0.7846      0.413     -1.899      0.058      -1.595       0.025\n",
       "District_HORTA - GUINARDÓ                                        -0.1544      0.408     -0.378      0.705      -0.954       0.646\n",
       "District_LES CORTS                                               -0.3256      0.445     -0.732      0.464      -1.197       0.546\n",
       "District_NOU BARRIS                                              -0.5115      0.422     -1.212      0.225      -1.338       0.315\n",
       "District_SANT ANDREU                                             -0.2288      0.449     -0.510      0.610      -1.109       0.651\n",
       "District_SANT MARTÍ                                              -0.1730      0.411     -0.421      0.674      -0.978       0.632\n",
       "District_SANTS - MONTJUÏC                                        -0.6773      0.412     -1.644      0.100      -1.485       0.130\n",
       "District_SARRIÀ - SANT GERVASI                                   -0.1653      0.460     -0.359      0.719      -1.067       0.736\n",
       "House_size_101-150 M2                                            -0.5784      0.577     -1.002      0.316      -1.710       0.553\n",
       "House_size_51-100 M2                                             -0.5098      0.504     -1.012      0.311      -1.497       0.477\n",
       "House_size_> 150 M2                                              -0.8303      0.707     -1.174      0.240      -2.216       0.555\n",
       "House_size_I DON'T KNOW                                          -0.3377      0.653     -0.517      0.605      -1.618       0.942\n",
       "No_of_people_in_the_house_THREE OR MORE                          -0.2598      0.471     -0.551      0.582      -1.184       0.664\n",
       "No_of_people_in_the_house_TWO                                     0.2028      0.452      0.449      0.653      -0.682       1.088\n",
       "Family_type_COUPLE WITH CHILDREN                                  0.1905      0.579      0.329      0.742      -0.945       1.326\n",
       "Family_type_COUPLE WITH NO CHILDREN                              -0.1483      0.539     -0.275      0.783      -1.204       0.907\n",
       "Family_type_SINGLE                                                0.2092      0.371      0.564      0.573      -0.518       0.937\n",
       "Family_type_SINGLE-PARENT WITH CHILDREN                          -0.0607      0.569     -0.107      0.915      -1.177       1.055\n",
       "Financial_situation_GOOD                                          0.0284      0.212      0.134      0.894      -0.388       0.445\n",
       "Time_living_in_BCN_I HAVE ALWAYS LIVED IN THE CITY               -0.2596      0.828     -0.314      0.754      -1.882       1.363\n",
       "Time_living_in_BCN_MORE THAN 10 YEARS                            -0.2991      0.823     -0.363      0.716      -1.912       1.314\n",
       "BCN_evolution_IT HAS IMPROVED                                     0.7077      0.335      2.110      0.035       0.050       1.365\n",
       "BCN_evolution_IT IS THE SAME                                      0.5385      0.287      1.875      0.061      -0.024       1.101\n",
       "BCN_future_IT WILL IMPROVE                                        1.1892      0.248      4.796      0.000       0.703       1.675\n",
       "BCN_future_IT WILL STAY THE SAME                                  0.5128      0.257      1.995      0.046       0.009       1.016\n",
       "BCN_transport_GOOD                                               -0.0776      0.321     -0.242      0.809      -0.706       0.551\n",
       "BCN_transport_NEITHER BAD, NOR GOOD                              -0.2424      0.424     -0.571      0.568      -1.074       0.590\n",
       "GARBAGE COLLECTION_GOOD                                           0.2803      0.479      0.585      0.558      -0.658       1.219\n",
       "GARBAGE COLLECTION_NEITHER BAD, NOR GOOD                         -0.2192      0.471     -0.465      0.642      -1.143       0.704\n",
       "STREETS CLEANING_GOOD                                             0.3176      0.352      0.902      0.367      -0.372       1.008\n",
       "STREETS CLEANING_NEITHER BAD, NOR GOOD                            0.2562      0.311      0.824      0.410      -0.353       0.865\n",
       "NOISE_GOOD                                                        0.0300      0.317      0.095      0.925      -0.592       0.652\n",
       "NOISE_NEITHER BAD, NOR GOOD                                       0.1061      0.285      0.373      0.709      -0.452       0.664\n",
       "GREEN AREAS_GOOD                                                  0.0421      0.335      0.126      0.900      -0.615       0.699\n",
       "GREEN AREAS_NEITHER BAD, NOR GOOD                                -0.1474      0.313     -0.471      0.638      -0.761       0.466\n",
       "PUBLIC LIGHTING_GOOD                                              0.0546      0.397      0.138      0.891      -0.723       0.833\n",
       "PUBLIC LIGHTING_NEITHER BAD, NOR GOOD                             0.1721      0.395      0.435      0.663      -0.603       0.947\n",
       "ASPHALT AND STREET CONSERVATION_GOOD                              0.6741      0.341      1.978      0.048       0.006       1.342\n",
       "ASPHALT AND STREET CONSERVATION_NEITHER BAD, NOR GOOD             0.1248      0.275      0.454      0.650      -0.414       0.664\n",
       "CIRCULATION AND TRAFFIC_GOOD                                     -0.2345      0.332     -0.706      0.480      -0.885       0.416\n",
       "CIRCULATION AND TRAFFIC_NEITHER BAD, NOR GOOD                    -0.0620      0.278     -0.223      0.823      -0.606       0.482\n",
       "BUS_GOOD                                                         -0.0202      0.381     -0.053      0.958      -0.767       0.726\n",
       "BUS_NEITHER BAD, NOR GOOD                                         0.1046      0.379      0.276      0.783      -0.639       0.848\n",
       "CITIZEN SECURITY IN THE CITY AS A WHOLE_GOOD                      0.5026      0.319      1.574      0.115      -0.123       1.128\n",
       "CITIZEN SECURITY IN THE CITY AS A WHOLE_NEITHER BAD, NOR GOOD     0.7452      0.247      3.013      0.003       0.260       1.230\n",
       "CITY MANAGEMENT_GOOD                                              0.9711      0.359      2.706      0.007       0.268       1.674\n",
       "CITY MANAGEMENT_NEITHER BAD, NOR GOOD                             0.4533      0.284      1.598      0.110      -0.103       1.009\n",
       "=================================================================================================================================\n",
       "\"\"\""
      ]
     },
     "execution_count": 18,
     "metadata": {},
     "output_type": "execute_result"
    }
   ],
   "source": [
    "glm_logit = sm.GLM(y, x, family=sm.families.Binomial())\n",
    "glm_logit_results = glm_logit.fit()\n",
    "glm_logit_results.summary()"
   ]
  },
  {
   "cell_type": "code",
   "execution_count": 19,
   "metadata": {},
   "outputs": [
    {
     "data": {
      "text/plain": [
       "830.5634657247423"
      ]
     },
     "execution_count": 19,
     "metadata": {},
     "output_type": "execute_result"
    }
   ],
   "source": [
    "glm_logit_results.aic"
   ]
  },
  {
   "cell_type": "code",
   "execution_count": 20,
   "metadata": {},
   "outputs": [
    {
     "name": "stderr",
     "output_type": "stream",
     "text": [
      "C:\\Users\\THINK\\anaconda3\\lib\\site-packages\\statsmodels\\genmod\\generalized_linear_model.py:1731: FutureWarning: The bic value is computed using the deviance formula. After 0.13 this will change to the log-likelihood based formula. This change has no impact on the relative rank of models compared using BIC. You can directly access the log-likelihood version using the `bic_llf` attribute. You can suppress this message by calling statsmodels.genmod.generalized_linear_model.SET_USE_BIC_LLF with True to get the LLF-based version now or False to retainthe deviance version.\n",
      "  FutureWarning\n"
     ]
    },
    {
     "data": {
      "text/plain": [
       "-7153.6894513166135"
      ]
     },
     "execution_count": 20,
     "metadata": {},
     "output_type": "execute_result"
    }
   ],
   "source": [
    "glm_logit_results.bic"
   ]
  },
  {
   "cell_type": "code",
   "execution_count": 21,
   "metadata": {},
   "outputs": [
    {
     "name": "stdout",
     "output_type": "stream",
     "text": [
      "Pseudo R2: 0.18996338033263538\n"
     ]
    }
   ],
   "source": [
    "pseudo_r2(glm_logit_results)"
   ]
  },
  {
   "cell_type": "code",
   "execution_count": 22,
   "metadata": {},
   "outputs": [
    {
     "data": {
      "text/html": [
       "<div>\n",
       "<style scoped>\n",
       "    .dataframe tbody tr th:only-of-type {\n",
       "        vertical-align: middle;\n",
       "    }\n",
       "\n",
       "    .dataframe tbody tr th {\n",
       "        vertical-align: top;\n",
       "    }\n",
       "\n",
       "    .dataframe thead th {\n",
       "        text-align: right;\n",
       "    }\n",
       "</style>\n",
       "<table border=\"1\" class=\"dataframe\">\n",
       "  <thead>\n",
       "    <tr style=\"text-align: right;\">\n",
       "      <th>y_predict</th>\n",
       "      <th>0.0</th>\n",
       "      <th>1.0</th>\n",
       "    </tr>\n",
       "    <tr>\n",
       "      <th>y</th>\n",
       "      <th></th>\n",
       "      <th></th>\n",
       "    </tr>\n",
       "  </thead>\n",
       "  <tbody>\n",
       "    <tr>\n",
       "      <th>0</th>\n",
       "      <td>28</td>\n",
       "      <td>121</td>\n",
       "    </tr>\n",
       "    <tr>\n",
       "      <th>1</th>\n",
       "      <td>10</td>\n",
       "      <td>1010</td>\n",
       "    </tr>\n",
       "  </tbody>\n",
       "</table>\n",
       "</div>"
      ],
      "text/plain": [
       "y_predict  0.0   1.0\n",
       "y                   \n",
       "0           28   121\n",
       "1           10  1010"
      ]
     },
     "execution_count": 22,
     "metadata": {},
     "output_type": "execute_result"
    }
   ],
   "source": [
    "classification_table(glm_logit_results)"
   ]
  },
  {
   "cell_type": "code",
   "execution_count": 23,
   "metadata": {},
   "outputs": [
    {
     "name": "stdout",
     "output_type": "stream",
     "text": [
      "Adj Count R2: 0.121\n"
     ]
    }
   ],
   "source": [
    "adj_count_r2(glm_logit_results)"
   ]
  },
  {
   "cell_type": "code",
   "execution_count": 24,
   "metadata": {},
   "outputs": [
    {
     "data": {
      "image/png": "[encoded data removed]",
      "text/plain": [
       "<Figure size 432x288 with 1 Axes>"
      ]
     },
     "metadata": {},
     "output_type": "display_data"
    }
   ],
   "source": [
    "plot_roc_auc(glm_logit_results)"
   ]
  },
  {
   "cell_type": "code",
   "execution_count": null,
   "metadata": {},
   "outputs": [],
   "source": []
  },
  {
   "cell_type": "code",
   "execution_count": 25,
   "metadata": {},
   "outputs": [
    {
     "data": {
      "text/plain": [
       "BUS_GOOD                                                         0.957704\n",
       "NOISE_GOOD                                                       0.924618\n",
       "Family_type_SINGLE-PARENT WITH CHILDREN                          0.915138\n",
       "GREEN AREAS_GOOD                                                 0.900030\n",
       "Financial_situation_GOOD                                         0.893692\n",
       "PUBLIC LIGHTING_GOOD                                             0.890583\n",
       "const                                                            0.862050\n",
       "CIRCULATION AND TRAFFIC_NEITHER BAD, NOR GOOD                    0.823398\n",
       "BCN_transport_GOOD                                               0.808740\n",
       "Disability                                                       0.798947\n",
       "Support_with_housework                                           0.788426\n",
       "Family_type_COUPLE WITH NO CHILDREN                              0.783108\n",
       "BUS_NEITHER BAD, NOR GOOD                                        0.782770\n",
       "Time_living_in_BCN_I HAVE ALWAYS LIVED IN THE CITY               0.753867\n",
       "Family_type_COUPLE WITH CHILDREN                                 0.742387\n",
       "Living_with_disabled_person                                      0.737564\n",
       "District_SARRIÀ - SANT GERVASI                                   0.719332\n",
       "Time_living_in_BCN_MORE THAN 10 YEARS                            0.716256\n",
       "NOISE_NEITHER BAD, NOR GOOD                                      0.709226\n",
       "District_HORTA - GUINARDÓ                                        0.705223\n",
       "District_SANT MARTÍ                                              0.673756\n",
       "PUBLIC LIGHTING_NEITHER BAD, NOR GOOD                            0.663354\n",
       "No_of_people_in_the_house_TWO                                    0.653416\n",
       "ASPHALT AND STREET CONSERVATION_NEITHER BAD, NOR GOOD            0.649748\n",
       "GARBAGE COLLECTION_NEITHER BAD, NOR GOOD                         0.641893\n",
       "GREEN AREAS_NEITHER BAD, NOR GOOD                                0.637736\n",
       "District_SANT ANDREU                                             0.610284\n",
       "House_size_I DON'T KNOW                                          0.605094\n",
       "No_of_people_in_the_house_THREE OR MORE                          0.581513\n",
       "Family_type_SINGLE                                               0.572951\n",
       "BCN_transport_NEITHER BAD, NOR GOOD                              0.568039\n",
       "GARBAGE COLLECTION_GOOD                                          0.558329\n",
       "CIRCULATION AND TRAFFIC_GOOD                                     0.480100\n",
       "District_LES CORTS                                               0.464028\n",
       "STREETS CLEANING_NEITHER BAD, NOR GOOD                           0.409656\n",
       "STREETS CLEANING_GOOD                                            0.366984\n",
       "House_size_101-150 M2                                            0.316490\n",
       "House_size_51-100 M2                                             0.311411\n",
       "House_size_> 150 M2                                              0.240238\n",
       "District_NOU BARRIS                                              0.225324\n",
       "Car                                                              0.176541\n",
       "Owner                                                            0.120097\n",
       "CITIZEN SECURITY IN THE CITY AS A WHOLE_GOOD                     0.115379\n",
       "CITY MANAGEMENT_NEITHER BAD, NOR GOOD                            0.110137\n",
       "District_SANTS - MONTJUÏC                                        0.100246\n",
       "BCN_evolution_IT IS THE SAME                                     0.060764\n",
       "District_GRÀCIA                                                  0.057578\n",
       "ASPHALT AND STREET CONSERVATION_GOOD                             0.047980\n",
       "Woman                                                            0.046918\n",
       "BCN_future_IT WILL STAY THE SAME                                 0.046011\n",
       "BCN_evolution_IT HAS IMPROVED                                    0.034859\n",
       "CITY MANAGEMENT_GOOD                                             0.006810\n",
       "District_CIUTAT VELLA                                            0.006645\n",
       "CITIZEN SECURITY IN THE CITY AS A WHOLE_NEITHER BAD, NOR GOOD    0.002588\n",
       "BCN_future_IT WILL IMPROVE                                       0.000002\n",
       "dtype: float64"
      ]
     },
     "execution_count": 25,
     "metadata": {},
     "output_type": "execute_result"
    }
   ],
   "source": [
    "glm_logit_results.pvalues.sort_values(ascending=False)"
   ]
  },
  {
   "cell_type": "code",
   "execution_count": null,
   "metadata": {},
   "outputs": [],
   "source": []
  },
  {
   "cell_type": "code",
   "execution_count": 26,
   "metadata": {},
   "outputs": [],
   "source": [
    "for i in [\"BUS_GOOD\", \"BUS_NEITHER BAD, NOR GOOD\",\n",
    "          \"Family_type_SINGLE-PARENT WITH CHILDREN\", \"Family_type_COUPLE WITH NO CHILDREN\",\n",
    "          \"Family_type_COUPLE WITH CHILDREN\", \"Family_type_SINGLE\",\n",
    "          \"NOISE_GOOD\", \"NOISE_NEITHER BAD, NOR GOOD\",\n",
    "          \"Time_living_in_BCN_I HAVE ALWAYS LIVED IN THE CITY\", \"Time_living_in_BCN_MORE THAN 10 YEARS\",\n",
    "          \"GREEN AREAS_GOOD\", \"GREEN AREAS_NEITHER BAD, NOR GOOD\",\n",
    "          \"Financial_situation_GOOD\", 'Support_with_housework', 'Disability', 'Living_with_disabled_person',\n",
    "          \"PUBLIC LIGHTING_GOOD\", \"PUBLIC LIGHTING_NEITHER BAD, NOR GOOD\",\n",
    "          \"CIRCULATION AND TRAFFIC_NEITHER BAD, NOR GOOD\", \"CIRCULATION AND TRAFFIC_GOOD\",\n",
    "          \"BCN_transport_GOOD\", \"BCN_transport_NEITHER BAD, NOR GOOD\", \n",
    "          \"No_of_people_in_the_house_TWO\", \"No_of_people_in_the_house_THREE OR MORE\",\n",
    "          \"GARBAGE COLLECTION_NEITHER BAD, NOR GOOD\", \"GARBAGE COLLECTION_GOOD\",\n",
    "          \"House_size_I DON'T KNOW\", \"House_size_101-150 M2\", \"House_size_51-100 M2\", \"House_size_> 150 M2\",\n",
    "            \"STREETS CLEANING_NEITHER BAD, NOR GOOD\", \"STREETS CLEANING_GOOD\"]:\n",
    "    del x[i]"
   ]
  },
  {
   "cell_type": "code",
   "execution_count": 27,
   "metadata": {},
   "outputs": [
    {
     "data": {
      "text/html": [
       "<table class=\"simpletable\">\n",
       "<caption>Generalized Linear Model Regression Results</caption>\n",
       "<tr>\n",
       "  <th>Dep. Variable:</th>   <td>Residential_satisfaction</td> <th>  No. Observations:  </th>  <td>  1169</td> \n",
       "</tr>\n",
       "<tr>\n",
       "  <th>Model:</th>                      <td>GLM</td>           <th>  Df Residuals:      </th>  <td>  1146</td> \n",
       "</tr>\n",
       "<tr>\n",
       "  <th>Model Family:</th>            <td>Binomial</td>         <th>  Df Model:          </th>  <td>    22</td> \n",
       "</tr>\n",
       "<tr>\n",
       "  <th>Link Function:</th>             <td>logit</td>          <th>  Scale:             </th> <td>  1.0000</td>\n",
       "</tr>\n",
       "<tr>\n",
       "  <th>Method:</th>                    <td>IRLS</td>           <th>  Log-Likelihood:    </th> <td> -367.87</td>\n",
       "</tr>\n",
       "<tr>\n",
       "  <th>Date:</th>                <td>Sun, 01 Aug 2021</td>     <th>  Deviance:          </th> <td>  735.75</td>\n",
       "</tr>\n",
       "<tr>\n",
       "  <th>Time:</th>                    <td>19:01:27</td>         <th>  Pearson chi2:      </th> <td>1.20e+03</td>\n",
       "</tr>\n",
       "<tr>\n",
       "  <th>No. Iterations:</th>              <td>6</td>            <th>                     </th>     <td> </td>   \n",
       "</tr>\n",
       "<tr>\n",
       "  <th>Covariance Type:</th>         <td>nonrobust</td>        <th>                     </th>     <td> </td>   \n",
       "</tr>\n",
       "</table>\n",
       "<table class=\"simpletable\">\n",
       "<tr>\n",
       "                                <td></td>                                   <th>coef</th>     <th>std err</th>      <th>z</th>      <th>P>|z|</th>  <th>[0.025</th>    <th>0.975]</th>  \n",
       "</tr>\n",
       "<tr>\n",
       "  <th>const</th>                                                         <td>   -0.2806</td> <td>    0.453</td> <td>   -0.620</td> <td> 0.536</td> <td>   -1.168</td> <td>    0.607</td>\n",
       "</tr>\n",
       "<tr>\n",
       "  <th>Woman</th>                                                         <td>    0.4295</td> <td>    0.205</td> <td>    2.093</td> <td> 0.036</td> <td>    0.027</td> <td>    0.832</td>\n",
       "</tr>\n",
       "<tr>\n",
       "  <th>Car</th>                                                           <td>   -0.4371</td> <td>    0.219</td> <td>   -2.000</td> <td> 0.046</td> <td>   -0.865</td> <td>   -0.009</td>\n",
       "</tr>\n",
       "<tr>\n",
       "  <th>Owner</th>                                                         <td>    0.3333</td> <td>    0.254</td> <td>    1.310</td> <td> 0.190</td> <td>   -0.165</td> <td>    0.832</td>\n",
       "</tr>\n",
       "<tr>\n",
       "  <th>District_CIUTAT VELLA</th>                                         <td>   -1.1641</td> <td>    0.431</td> <td>   -2.701</td> <td> 0.007</td> <td>   -2.009</td> <td>   -0.319</td>\n",
       "</tr>\n",
       "<tr>\n",
       "  <th>District_GRÀCIA</th>                                               <td>   -0.8082</td> <td>    0.396</td> <td>   -2.041</td> <td> 0.041</td> <td>   -1.585</td> <td>   -0.032</td>\n",
       "</tr>\n",
       "<tr>\n",
       "  <th>District_HORTA - GUINARDÓ</th>                                     <td>   -0.1804</td> <td>    0.386</td> <td>   -0.468</td> <td> 0.640</td> <td>   -0.936</td> <td>    0.575</td>\n",
       "</tr>\n",
       "<tr>\n",
       "  <th>District_LES CORTS</th>                                            <td>   -0.2716</td> <td>    0.427</td> <td>   -0.637</td> <td> 0.524</td> <td>   -1.108</td> <td>    0.564</td>\n",
       "</tr>\n",
       "<tr>\n",
       "  <th>District_NOU BARRIS</th>                                           <td>   -0.5571</td> <td>    0.395</td> <td>   -1.412</td> <td> 0.158</td> <td>   -1.330</td> <td>    0.216</td>\n",
       "</tr>\n",
       "<tr>\n",
       "  <th>District_SANT ANDREU</th>                                          <td>   -0.2246</td> <td>    0.428</td> <td>   -0.525</td> <td> 0.600</td> <td>   -1.064</td> <td>    0.614</td>\n",
       "</tr>\n",
       "<tr>\n",
       "  <th>District_SANT MARTÍ</th>                                           <td>   -0.1968</td> <td>    0.397</td> <td>   -0.496</td> <td> 0.620</td> <td>   -0.975</td> <td>    0.581</td>\n",
       "</tr>\n",
       "<tr>\n",
       "  <th>District_SANTS - MONTJUÏC</th>                                     <td>   -0.6384</td> <td>    0.398</td> <td>   -1.605</td> <td> 0.108</td> <td>   -1.418</td> <td>    0.141</td>\n",
       "</tr>\n",
       "<tr>\n",
       "  <th>District_SARRIÀ - SANT GERVASI</th>                                <td>   -0.2234</td> <td>    0.436</td> <td>   -0.513</td> <td> 0.608</td> <td>   -1.077</td> <td>    0.630</td>\n",
       "</tr>\n",
       "<tr>\n",
       "  <th>BCN_evolution_IT HAS IMPROVED</th>                                 <td>    0.7228</td> <td>    0.329</td> <td>    2.200</td> <td> 0.028</td> <td>    0.079</td> <td>    1.367</td>\n",
       "</tr>\n",
       "<tr>\n",
       "  <th>BCN_evolution_IT IS THE SAME</th>                                  <td>    0.5395</td> <td>    0.279</td> <td>    1.933</td> <td> 0.053</td> <td>   -0.008</td> <td>    1.087</td>\n",
       "</tr>\n",
       "<tr>\n",
       "  <th>BCN_future_IT WILL IMPROVE</th>                                    <td>    1.1865</td> <td>    0.235</td> <td>    5.044</td> <td> 0.000</td> <td>    0.725</td> <td>    1.648</td>\n",
       "</tr>\n",
       "<tr>\n",
       "  <th>BCN_future_IT WILL STAY THE SAME</th>                              <td>    0.5357</td> <td>    0.243</td> <td>    2.204</td> <td> 0.028</td> <td>    0.059</td> <td>    1.012</td>\n",
       "</tr>\n",
       "<tr>\n",
       "  <th>ASPHALT AND STREET CONSERVATION_GOOD</th>                          <td>    0.8081</td> <td>    0.308</td> <td>    2.621</td> <td> 0.009</td> <td>    0.204</td> <td>    1.413</td>\n",
       "</tr>\n",
       "<tr>\n",
       "  <th>ASPHALT AND STREET CONSERVATION_NEITHER BAD, NOR GOOD</th>         <td>    0.1830</td> <td>    0.258</td> <td>    0.709</td> <td> 0.478</td> <td>   -0.322</td> <td>    0.688</td>\n",
       "</tr>\n",
       "<tr>\n",
       "  <th>CITIZEN SECURITY IN THE CITY AS A WHOLE_GOOD</th>                  <td>    0.5003</td> <td>    0.299</td> <td>    1.671</td> <td> 0.095</td> <td>   -0.086</td> <td>    1.087</td>\n",
       "</tr>\n",
       "<tr>\n",
       "  <th>CITIZEN SECURITY IN THE CITY AS A WHOLE_NEITHER BAD, NOR GOOD</th> <td>    0.7349</td> <td>    0.230</td> <td>    3.201</td> <td> 0.001</td> <td>    0.285</td> <td>    1.185</td>\n",
       "</tr>\n",
       "<tr>\n",
       "  <th>CITY MANAGEMENT_GOOD</th>                                          <td>    1.1036</td> <td>    0.333</td> <td>    3.314</td> <td> 0.001</td> <td>    0.451</td> <td>    1.756</td>\n",
       "</tr>\n",
       "<tr>\n",
       "  <th>CITY MANAGEMENT_NEITHER BAD, NOR GOOD</th>                         <td>    0.5604</td> <td>    0.258</td> <td>    2.174</td> <td> 0.030</td> <td>    0.055</td> <td>    1.066</td>\n",
       "</tr>\n",
       "</table>"
      ],
      "text/plain": [
       "<class 'statsmodels.iolib.summary.Summary'>\n",
       "\"\"\"\n",
       "                    Generalized Linear Model Regression Results                     \n",
       "====================================================================================\n",
       "Dep. Variable:     Residential_satisfaction   No. Observations:                 1169\n",
       "Model:                                  GLM   Df Residuals:                     1146\n",
       "Model Family:                      Binomial   Df Model:                           22\n",
       "Link Function:                        logit   Scale:                          1.0000\n",
       "Method:                                IRLS   Log-Likelihood:                -367.87\n",
       "Date:                      Sun, 01 Aug 2021   Deviance:                       735.75\n",
       "Time:                              19:01:27   Pearson chi2:                 1.20e+03\n",
       "No. Iterations:                           6                                         \n",
       "Covariance Type:                  nonrobust                                         \n",
       "=================================================================================================================================\n",
       "                                                                    coef    std err          z      P>|z|      [0.025      0.975]\n",
       "---------------------------------------------------------------------------------------------------------------------------------\n",
       "const                                                            -0.2806      0.453     -0.620      0.536      -1.168       0.607\n",
       "Woman                                                             0.4295      0.205      2.093      0.036       0.027       0.832\n",
       "Car                                                              -0.4371      0.219     -2.000      0.046      -0.865      -0.009\n",
       "Owner                                                             0.3333      0.254      1.310      0.190      -0.165       0.832\n",
       "District_CIUTAT VELLA                                            -1.1641      0.431     -2.701      0.007      -2.009      -0.319\n",
       "District_GRÀCIA                                                  -0.8082      0.396     -2.041      0.041      -1.585      -0.032\n",
       "District_HORTA - GUINARDÓ                                        -0.1804      0.386     -0.468      0.640      -0.936       0.575\n",
       "District_LES CORTS                                               -0.2716      0.427     -0.637      0.524      -1.108       0.564\n",
       "District_NOU BARRIS                                              -0.5571      0.395     -1.412      0.158      -1.330       0.216\n",
       "District_SANT ANDREU                                             -0.2246      0.428     -0.525      0.600      -1.064       0.614\n",
       "District_SANT MARTÍ                                              -0.1968      0.397     -0.496      0.620      -0.975       0.581\n",
       "District_SANTS - MONTJUÏC                                        -0.6384      0.398     -1.605      0.108      -1.418       0.141\n",
       "District_SARRIÀ - SANT GERVASI                                   -0.2234      0.436     -0.513      0.608      -1.077       0.630\n",
       "BCN_evolution_IT HAS IMPROVED                                     0.7228      0.329      2.200      0.028       0.079       1.367\n",
       "BCN_evolution_IT IS THE SAME                                      0.5395      0.279      1.933      0.053      -0.008       1.087\n",
       "BCN_future_IT WILL IMPROVE                                        1.1865      0.235      5.044      0.000       0.725       1.648\n",
       "BCN_future_IT WILL STAY THE SAME                                  0.5357      0.243      2.204      0.028       0.059       1.012\n",
       "ASPHALT AND STREET CONSERVATION_GOOD                              0.8081      0.308      2.621      0.009       0.204       1.413\n",
       "ASPHALT AND STREET CONSERVATION_NEITHER BAD, NOR GOOD             0.1830      0.258      0.709      0.478      -0.322       0.688\n",
       "CITIZEN SECURITY IN THE CITY AS A WHOLE_GOOD                      0.5003      0.299      1.671      0.095      -0.086       1.087\n",
       "CITIZEN SECURITY IN THE CITY AS A WHOLE_NEITHER BAD, NOR GOOD     0.7349      0.230      3.201      0.001       0.285       1.185\n",
       "CITY MANAGEMENT_GOOD                                              1.1036      0.333      3.314      0.001       0.451       1.756\n",
       "CITY MANAGEMENT_NEITHER BAD, NOR GOOD                             0.5604      0.258      2.174      0.030       0.055       1.066\n",
       "=================================================================================================================================\n",
       "\"\"\""
      ]
     },
     "execution_count": 27,
     "metadata": {},
     "output_type": "execute_result"
    }
   ],
   "source": [
    "glm_logit = sm.GLM(y, x, family=sm.families.Binomial())\n",
    "glm_logit_results = glm_logit.fit()\n",
    "glm_logit_results.summary()"
   ]
  },
  {
   "cell_type": "code",
   "execution_count": 28,
   "metadata": {},
   "outputs": [
    {
     "data": {
      "text/plain": [
       "781.7483689164219"
      ]
     },
     "execution_count": 28,
     "metadata": {},
     "output_type": "execute_result"
    }
   ],
   "source": [
    "glm_logit_results.aic"
   ]
  },
  {
   "cell_type": "code",
   "execution_count": 29,
   "metadata": {},
   "outputs": [
    {
     "name": "stderr",
     "output_type": "stream",
     "text": [
      "C:\\Users\\THINK\\anaconda3\\lib\\site-packages\\statsmodels\\genmod\\generalized_linear_model.py:1731: FutureWarning: The bic value is computed using the deviance formula. After 0.13 this will change to the log-likelihood based formula. This change has no impact on the relative rank of models compared using BIC. You can directly access the log-likelihood version using the `bic_llf` attribute. You can suppress this message by calling statsmodels.genmod.generalized_linear_model.SET_USE_BIC_LLF with True to get the LLF-based version now or False to retainthe deviance version.\n",
      "  FutureWarning\n"
     ]
    },
    {
     "data": {
      "text/plain": [
       "-7359.485570930568"
      ]
     },
     "execution_count": 29,
     "metadata": {},
     "output_type": "execute_result"
    }
   ],
   "source": [
    "glm_logit_results.bic"
   ]
  },
  {
   "cell_type": "code",
   "execution_count": 30,
   "metadata": {},
   "outputs": [
    {
     "data": {
      "text/plain": [
       "District_HORTA - GUINARDÓ                                        6.399334e-01\n",
       "District_SANT MARTÍ                                              6.201356e-01\n",
       "District_SARRIÀ - SANT GERVASI                                   6.079850e-01\n",
       "District_SANT ANDREU                                             5.998063e-01\n",
       "const                                                            5.355793e-01\n",
       "District_LES CORTS                                               5.242244e-01\n",
       "ASPHALT AND STREET CONSERVATION_NEITHER BAD, NOR GOOD            4.780160e-01\n",
       "Owner                                                            1.901058e-01\n",
       "District_NOU BARRIS                                              1.579516e-01\n",
       "District_SANTS - MONTJUÏC                                        1.083980e-01\n",
       "CITIZEN SECURITY IN THE CITY AS A WHOLE_GOOD                     9.465772e-02\n",
       "BCN_evolution_IT IS THE SAME                                     5.327053e-02\n",
       "Car                                                              4.554336e-02\n",
       "District_GRÀCIA                                                  4.129903e-02\n",
       "Woman                                                            3.637510e-02\n",
       "CITY MANAGEMENT_NEITHER BAD, NOR GOOD                            2.971720e-02\n",
       "BCN_evolution_IT HAS IMPROVED                                    2.779400e-02\n",
       "BCN_future_IT WILL STAY THE SAME                                 2.752502e-02\n",
       "ASPHALT AND STREET CONSERVATION_GOOD                             8.777346e-03\n",
       "District_CIUTAT VELLA                                            6.919021e-03\n",
       "CITIZEN SECURITY IN THE CITY AS A WHOLE_NEITHER BAD, NOR GOOD    1.367907e-03\n",
       "CITY MANAGEMENT_GOOD                                             9.198221e-04\n",
       "BCN_future_IT WILL IMPROVE                                       4.565532e-07\n",
       "dtype: float64"
      ]
     },
     "execution_count": 30,
     "metadata": {},
     "output_type": "execute_result"
    }
   ],
   "source": [
    "glm_logit_results.pvalues.sort_values(ascending=False)"
   ]
  },
  {
   "cell_type": "code",
   "execution_count": null,
   "metadata": {},
   "outputs": [],
   "source": []
  },
  {
   "cell_type": "code",
   "execution_count": 31,
   "metadata": {},
   "outputs": [],
   "source": [
    "del x['Owner']"
   ]
  },
  {
   "cell_type": "code",
   "execution_count": 32,
   "metadata": {},
   "outputs": [
    {
     "data": {
      "text/html": [
       "<table class=\"simpletable\">\n",
       "<caption>Generalized Linear Model Regression Results</caption>\n",
       "<tr>\n",
       "  <th>Dep. Variable:</th>   <td>Residential_satisfaction</td> <th>  No. Observations:  </th>  <td>  1169</td> \n",
       "</tr>\n",
       "<tr>\n",
       "  <th>Model:</th>                      <td>GLM</td>           <th>  Df Residuals:      </th>  <td>  1147</td> \n",
       "</tr>\n",
       "<tr>\n",
       "  <th>Model Family:</th>            <td>Binomial</td>         <th>  Df Model:          </th>  <td>    21</td> \n",
       "</tr>\n",
       "<tr>\n",
       "  <th>Link Function:</th>             <td>logit</td>          <th>  Scale:             </th> <td>  1.0000</td>\n",
       "</tr>\n",
       "<tr>\n",
       "  <th>Method:</th>                    <td>IRLS</td>           <th>  Log-Likelihood:    </th> <td> -368.71</td>\n",
       "</tr>\n",
       "<tr>\n",
       "  <th>Date:</th>                <td>Sun, 01 Aug 2021</td>     <th>  Deviance:          </th> <td>  737.42</td>\n",
       "</tr>\n",
       "<tr>\n",
       "  <th>Time:</th>                    <td>19:01:27</td>         <th>  Pearson chi2:      </th> <td>1.21e+03</td>\n",
       "</tr>\n",
       "<tr>\n",
       "  <th>No. Iterations:</th>              <td>6</td>            <th>                     </th>     <td> </td>   \n",
       "</tr>\n",
       "<tr>\n",
       "  <th>Covariance Type:</th>         <td>nonrobust</td>        <th>                     </th>     <td> </td>   \n",
       "</tr>\n",
       "</table>\n",
       "<table class=\"simpletable\">\n",
       "<tr>\n",
       "                                <td></td>                                   <th>coef</th>     <th>std err</th>      <th>z</th>      <th>P>|z|</th>  <th>[0.025</th>    <th>0.975]</th>  \n",
       "</tr>\n",
       "<tr>\n",
       "  <th>const</th>                                                         <td>   -0.0595</td> <td>    0.421</td> <td>   -0.142</td> <td> 0.887</td> <td>   -0.884</td> <td>    0.765</td>\n",
       "</tr>\n",
       "<tr>\n",
       "  <th>Woman</th>                                                         <td>    0.4311</td> <td>    0.205</td> <td>    2.101</td> <td> 0.036</td> <td>    0.029</td> <td>    0.833</td>\n",
       "</tr>\n",
       "<tr>\n",
       "  <th>Car</th>                                                           <td>   -0.3777</td> <td>    0.213</td> <td>   -1.772</td> <td> 0.076</td> <td>   -0.795</td> <td>    0.040</td>\n",
       "</tr>\n",
       "<tr>\n",
       "  <th>District_CIUTAT VELLA</th>                                         <td>   -1.2070</td> <td>    0.428</td> <td>   -2.820</td> <td> 0.005</td> <td>   -2.046</td> <td>   -0.368</td>\n",
       "</tr>\n",
       "<tr>\n",
       "  <th>District_GRÀCIA</th>                                               <td>   -0.7994</td> <td>    0.396</td> <td>   -2.016</td> <td> 0.044</td> <td>   -1.576</td> <td>   -0.022</td>\n",
       "</tr>\n",
       "<tr>\n",
       "  <th>District_HORTA - GUINARDÓ</th>                                     <td>   -0.1395</td> <td>    0.384</td> <td>   -0.363</td> <td> 0.716</td> <td>   -0.892</td> <td>    0.613</td>\n",
       "</tr>\n",
       "<tr>\n",
       "  <th>District_LES CORTS</th>                                            <td>   -0.2628</td> <td>    0.426</td> <td>   -0.617</td> <td> 0.537</td> <td>   -1.098</td> <td>    0.572</td>\n",
       "</tr>\n",
       "<tr>\n",
       "  <th>District_NOU BARRIS</th>                                           <td>   -0.4926</td> <td>    0.391</td> <td>   -1.261</td> <td> 0.207</td> <td>   -1.258</td> <td>    0.273</td>\n",
       "</tr>\n",
       "<tr>\n",
       "  <th>District_SANT ANDREU</th>                                          <td>   -0.1936</td> <td>    0.427</td> <td>   -0.453</td> <td> 0.651</td> <td>   -1.031</td> <td>    0.644</td>\n",
       "</tr>\n",
       "<tr>\n",
       "  <th>District_SANT MARTÍ</th>                                           <td>   -0.1450</td> <td>    0.395</td> <td>   -0.367</td> <td> 0.713</td> <td>   -0.919</td> <td>    0.629</td>\n",
       "</tr>\n",
       "<tr>\n",
       "  <th>District_SANTS - MONTJUÏC</th>                                     <td>   -0.6081</td> <td>    0.397</td> <td>   -1.533</td> <td> 0.125</td> <td>   -1.386</td> <td>    0.169</td>\n",
       "</tr>\n",
       "<tr>\n",
       "  <th>District_SARRIÀ - SANT GERVASI</th>                                <td>   -0.2520</td> <td>    0.434</td> <td>   -0.580</td> <td> 0.562</td> <td>   -1.103</td> <td>    0.599</td>\n",
       "</tr>\n",
       "<tr>\n",
       "  <th>BCN_evolution_IT HAS IMPROVED</th>                                 <td>    0.7058</td> <td>    0.327</td> <td>    2.155</td> <td> 0.031</td> <td>    0.064</td> <td>    1.348</td>\n",
       "</tr>\n",
       "<tr>\n",
       "  <th>BCN_evolution_IT IS THE SAME</th>                                  <td>    0.5330</td> <td>    0.279</td> <td>    1.913</td> <td> 0.056</td> <td>   -0.013</td> <td>    1.079</td>\n",
       "</tr>\n",
       "<tr>\n",
       "  <th>BCN_future_IT WILL IMPROVE</th>                                    <td>    1.2037</td> <td>    0.235</td> <td>    5.126</td> <td> 0.000</td> <td>    0.743</td> <td>    1.664</td>\n",
       "</tr>\n",
       "<tr>\n",
       "  <th>BCN_future_IT WILL STAY THE SAME</th>                              <td>    0.5504</td> <td>    0.243</td> <td>    2.270</td> <td> 0.023</td> <td>    0.075</td> <td>    1.026</td>\n",
       "</tr>\n",
       "<tr>\n",
       "  <th>ASPHALT AND STREET CONSERVATION_GOOD</th>                          <td>    0.7952</td> <td>    0.308</td> <td>    2.585</td> <td> 0.010</td> <td>    0.192</td> <td>    1.398</td>\n",
       "</tr>\n",
       "<tr>\n",
       "  <th>ASPHALT AND STREET CONSERVATION_NEITHER BAD, NOR GOOD</th>         <td>    0.1819</td> <td>    0.258</td> <td>    0.706</td> <td> 0.480</td> <td>   -0.323</td> <td>    0.687</td>\n",
       "</tr>\n",
       "<tr>\n",
       "  <th>CITIZEN SECURITY IN THE CITY AS A WHOLE_GOOD</th>                  <td>    0.4989</td> <td>    0.299</td> <td>    1.670</td> <td> 0.095</td> <td>   -0.087</td> <td>    1.084</td>\n",
       "</tr>\n",
       "<tr>\n",
       "  <th>CITIZEN SECURITY IN THE CITY AS A WHOLE_NEITHER BAD, NOR GOOD</th> <td>    0.7260</td> <td>    0.229</td> <td>    3.170</td> <td> 0.002</td> <td>    0.277</td> <td>    1.175</td>\n",
       "</tr>\n",
       "<tr>\n",
       "  <th>CITY MANAGEMENT_GOOD</th>                                          <td>    1.0843</td> <td>    0.333</td> <td>    3.261</td> <td> 0.001</td> <td>    0.433</td> <td>    1.736</td>\n",
       "</tr>\n",
       "<tr>\n",
       "  <th>CITY MANAGEMENT_NEITHER BAD, NOR GOOD</th>                         <td>    0.5565</td> <td>    0.258</td> <td>    2.159</td> <td> 0.031</td> <td>    0.051</td> <td>    1.062</td>\n",
       "</tr>\n",
       "</table>"
      ],
      "text/plain": [
       "<class 'statsmodels.iolib.summary.Summary'>\n",
       "\"\"\"\n",
       "                    Generalized Linear Model Regression Results                     \n",
       "====================================================================================\n",
       "Dep. Variable:     Residential_satisfaction   No. Observations:                 1169\n",
       "Model:                                  GLM   Df Residuals:                     1147\n",
       "Model Family:                      Binomial   Df Model:                           21\n",
       "Link Function:                        logit   Scale:                          1.0000\n",
       "Method:                                IRLS   Log-Likelihood:                -368.71\n",
       "Date:                      Sun, 01 Aug 2021   Deviance:                       737.42\n",
       "Time:                              19:01:27   Pearson chi2:                 1.21e+03\n",
       "No. Iterations:                           6                                         \n",
       "Covariance Type:                  nonrobust                                         \n",
       "=================================================================================================================================\n",
       "                                                                    coef    std err          z      P>|z|      [0.025      0.975]\n",
       "---------------------------------------------------------------------------------------------------------------------------------\n",
       "const                                                            -0.0595      0.421     -0.142      0.887      -0.884       0.765\n",
       "Woman                                                             0.4311      0.205      2.101      0.036       0.029       0.833\n",
       "Car                                                              -0.3777      0.213     -1.772      0.076      -0.795       0.040\n",
       "District_CIUTAT VELLA                                            -1.2070      0.428     -2.820      0.005      -2.046      -0.368\n",
       "District_GRÀCIA                                                  -0.7994      0.396     -2.016      0.044      -1.576      -0.022\n",
       "District_HORTA - GUINARDÓ                                        -0.1395      0.384     -0.363      0.716      -0.892       0.613\n",
       "District_LES CORTS                                               -0.2628      0.426     -0.617      0.537      -1.098       0.572\n",
       "District_NOU BARRIS                                              -0.4926      0.391     -1.261      0.207      -1.258       0.273\n",
       "District_SANT ANDREU                                             -0.1936      0.427     -0.453      0.651      -1.031       0.644\n",
       "District_SANT MARTÍ                                              -0.1450      0.395     -0.367      0.713      -0.919       0.629\n",
       "District_SANTS - MONTJUÏC                                        -0.6081      0.397     -1.533      0.125      -1.386       0.169\n",
       "District_SARRIÀ - SANT GERVASI                                   -0.2520      0.434     -0.580      0.562      -1.103       0.599\n",
       "BCN_evolution_IT HAS IMPROVED                                     0.7058      0.327      2.155      0.031       0.064       1.348\n",
       "BCN_evolution_IT IS THE SAME                                      0.5330      0.279      1.913      0.056      -0.013       1.079\n",
       "BCN_future_IT WILL IMPROVE                                        1.2037      0.235      5.126      0.000       0.743       1.664\n",
       "BCN_future_IT WILL STAY THE SAME                                  0.5504      0.243      2.270      0.023       0.075       1.026\n",
       "ASPHALT AND STREET CONSERVATION_GOOD                              0.7952      0.308      2.585      0.010       0.192       1.398\n",
       "ASPHALT AND STREET CONSERVATION_NEITHER BAD, NOR GOOD             0.1819      0.258      0.706      0.480      -0.323       0.687\n",
       "CITIZEN SECURITY IN THE CITY AS A WHOLE_GOOD                      0.4989      0.299      1.670      0.095      -0.087       1.084\n",
       "CITIZEN SECURITY IN THE CITY AS A WHOLE_NEITHER BAD, NOR GOOD     0.7260      0.229      3.170      0.002       0.277       1.175\n",
       "CITY MANAGEMENT_GOOD                                              1.0843      0.333      3.261      0.001       0.433       1.736\n",
       "CITY MANAGEMENT_NEITHER BAD, NOR GOOD                             0.5565      0.258      2.159      0.031       0.051       1.062\n",
       "=================================================================================================================================\n",
       "\"\"\""
      ]
     },
     "execution_count": 32,
     "metadata": {},
     "output_type": "execute_result"
    }
   ],
   "source": [
    "glm_logit = sm.GLM(y, x, family=sm.families.Binomial())\n",
    "glm_logit_results = glm_logit.fit()\n",
    "glm_logit_results.summary()"
   ]
  },
  {
   "cell_type": "code",
   "execution_count": 33,
   "metadata": {},
   "outputs": [
    {
     "data": {
      "text/plain": [
       "781.4207268010628"
      ]
     },
     "execution_count": 33,
     "metadata": {},
     "output_type": "execute_result"
    }
   ],
   "source": [
    "glm_logit_results.aic"
   ]
  },
  {
   "cell_type": "code",
   "execution_count": 34,
   "metadata": {},
   "outputs": [
    {
     "name": "stderr",
     "output_type": "stream",
     "text": [
      "C:\\Users\\THINK\\anaconda3\\lib\\site-packages\\statsmodels\\genmod\\generalized_linear_model.py:1731: FutureWarning: The bic value is computed using the deviance formula. After 0.13 this will change to the log-likelihood based formula. This change has no impact on the relative rank of models compared using BIC. You can directly access the log-likelihood version using the `bic_llf` attribute. You can suppress this message by calling statsmodels.genmod.generalized_linear_model.SET_USE_BIC_LLF with True to get the LLF-based version now or False to retainthe deviance version.\n",
      "  FutureWarning\n"
     ]
    },
    {
     "data": {
      "text/plain": [
       "-7364.8771170074"
      ]
     },
     "execution_count": 34,
     "metadata": {},
     "output_type": "execute_result"
    }
   ],
   "source": [
    "glm_logit_results.bic"
   ]
  },
  {
   "cell_type": "code",
   "execution_count": 35,
   "metadata": {},
   "outputs": [
    {
     "data": {
      "text/plain": [
       "const                                                            8.874749e-01\n",
       "District_HORTA - GUINARDÓ                                        7.163636e-01\n",
       "District_SANT MARTÍ                                              7.134761e-01\n",
       "District_SANT ANDREU                                             6.506439e-01\n",
       "District_SARRIÀ - SANT GERVASI                                   5.615926e-01\n",
       "District_LES CORTS                                               5.371816e-01\n",
       "ASPHALT AND STREET CONSERVATION_NEITHER BAD, NOR GOOD            4.803099e-01\n",
       "District_NOU BARRIS                                              2.074347e-01\n",
       "District_SANTS - MONTJUÏC                                        1.253201e-01\n",
       "CITIZEN SECURITY IN THE CITY AS A WHOLE_GOOD                     9.488396e-02\n",
       "Car                                                              7.633756e-02\n",
       "BCN_evolution_IT IS THE SAME                                     5.574467e-02\n",
       "District_GRÀCIA                                                  4.375074e-02\n",
       "Woman                                                            3.563888e-02\n",
       "BCN_evolution_IT HAS IMPROVED                                    3.115404e-02\n",
       "CITY MANAGEMENT_NEITHER BAD, NOR GOOD                            3.085497e-02\n",
       "BCN_future_IT WILL STAY THE SAME                                 2.322487e-02\n",
       "ASPHALT AND STREET CONSERVATION_GOOD                             9.744025e-03\n",
       "District_CIUTAT VELLA                                            4.799285e-03\n",
       "CITIZEN SECURITY IN THE CITY AS A WHOLE_NEITHER BAD, NOR GOOD    1.525649e-03\n",
       "CITY MANAGEMENT_GOOD                                             1.110115e-03\n",
       "BCN_future_IT WILL IMPROVE                                       2.960510e-07\n",
       "dtype: float64"
      ]
     },
     "execution_count": 35,
     "metadata": {},
     "output_type": "execute_result"
    }
   ],
   "source": [
    "glm_logit_results.pvalues.sort_values(ascending=False)"
   ]
  },
  {
   "cell_type": "code",
   "execution_count": null,
   "metadata": {},
   "outputs": [],
   "source": []
  },
  {
   "cell_type": "code",
   "execution_count": 36,
   "metadata": {},
   "outputs": [
    {
     "data": {
      "text/plain": [
       "const                                                            0.942189\n",
       "Woman                                                            1.538951\n",
       "Car                                                              0.685421\n",
       "District_CIUTAT VELLA                                            0.299103\n",
       "District_GRÀCIA                                                  0.449577\n",
       "District_HORTA - GUINARDÓ                                        0.869795\n",
       "District_LES CORTS                                               0.768865\n",
       "District_NOU BARRIS                                              0.611033\n",
       "District_SANT ANDREU                                             0.824000\n",
       "District_SANT MARTÍ                                              0.865051\n",
       "District_SANTS - MONTJUÏC                                        0.544360\n",
       "District_SARRIÀ - SANT GERVASI                                   0.777224\n",
       "BCN_evolution_IT HAS IMPROVED                                    2.025383\n",
       "BCN_evolution_IT IS THE SAME                                     1.704053\n",
       "BCN_future_IT WILL IMPROVE                                       3.332307\n",
       "BCN_future_IT WILL STAY THE SAME                                 1.733981\n",
       "ASPHALT AND STREET CONSERVATION_GOOD                             2.214925\n",
       "ASPHALT AND STREET CONSERVATION_NEITHER BAD, NOR GOOD            1.199538\n",
       "CITIZEN SECURITY IN THE CITY AS A WHOLE_GOOD                     1.646957\n",
       "CITIZEN SECURITY IN THE CITY AS A WHOLE_NEITHER BAD, NOR GOOD    2.066761\n",
       "CITY MANAGEMENT_GOOD                                             2.957445\n",
       "CITY MANAGEMENT_NEITHER BAD, NOR GOOD                            1.744521\n",
       "dtype: float64"
      ]
     },
     "execution_count": 36,
     "metadata": {},
     "output_type": "execute_result"
    }
   ],
   "source": [
    "odds_ratios(glm_logit_results)"
   ]
  },
  {
   "cell_type": "code",
   "execution_count": 37,
   "metadata": {},
   "outputs": [
    {
     "data": {
      "text/html": [
       "<div>\n",
       "<style scoped>\n",
       "    .dataframe tbody tr th:only-of-type {\n",
       "        vertical-align: middle;\n",
       "    }\n",
       "\n",
       "    .dataframe tbody tr th {\n",
       "        vertical-align: top;\n",
       "    }\n",
       "\n",
       "    .dataframe thead th {\n",
       "        text-align: right;\n",
       "    }\n",
       "</style>\n",
       "<table border=\"1\" class=\"dataframe\">\n",
       "  <thead>\n",
       "    <tr style=\"text-align: right;\">\n",
       "      <th>y_predict</th>\n",
       "      <th>0.0</th>\n",
       "      <th>1.0</th>\n",
       "    </tr>\n",
       "    <tr>\n",
       "      <th>y</th>\n",
       "      <th></th>\n",
       "      <th></th>\n",
       "    </tr>\n",
       "  </thead>\n",
       "  <tbody>\n",
       "    <tr>\n",
       "      <th>0</th>\n",
       "      <td>21</td>\n",
       "      <td>128</td>\n",
       "    </tr>\n",
       "    <tr>\n",
       "      <th>1</th>\n",
       "      <td>9</td>\n",
       "      <td>1011</td>\n",
       "    </tr>\n",
       "  </tbody>\n",
       "</table>\n",
       "</div>"
      ],
      "text/plain": [
       "y_predict  0.0   1.0\n",
       "y                   \n",
       "0           21   128\n",
       "1            9  1011"
      ]
     },
     "execution_count": 37,
     "metadata": {},
     "output_type": "execute_result"
    }
   ],
   "source": [
    "classification_table(glm_logit_results)"
   ]
  },
  {
   "cell_type": "code",
   "execution_count": 38,
   "metadata": {},
   "outputs": [
    {
     "data": {
      "image/png": "[encoded data removed]",
      "text/plain": [
       "<Figure size 432x288 with 1 Axes>"
      ]
     },
     "metadata": {},
     "output_type": "display_data"
    }
   ],
   "source": [
    "plot_roc_auc(glm_logit_results)"
   ]
  },
  {
   "cell_type": "code",
   "execution_count": 39,
   "metadata": {},
   "outputs": [
    {
     "name": "stdout",
     "output_type": "stream",
     "text": [
      "Pseudo R2: 0.1733075070278497\n"
     ]
    }
   ],
   "source": [
    "pseudo_r2(glm_logit_results)"
   ]
  },
  {
   "cell_type": "code",
   "execution_count": 40,
   "metadata": {},
   "outputs": [
    {
     "name": "stdout",
     "output_type": "stream",
     "text": [
      "Adj Count R2: 0.081\n"
     ]
    }
   ],
   "source": [
    "adj_count_r2(glm_logit_results)"
   ]
  },
  {
   "cell_type": "code",
   "execution_count": null,
   "metadata": {},
   "outputs": [],
   "source": []
  },
  {
   "cell_type": "markdown",
   "metadata": {},
   "source": [
    "# Probit"
   ]
  },
  {
   "cell_type": "code",
   "execution_count": 41,
   "metadata": {},
   "outputs": [
    {
     "name": "stderr",
     "output_type": "stream",
     "text": [
      "C:\\Users\\THINK\\anaconda3\\lib\\site-packages\\ipykernel_launcher.py:1: DeprecationWarning: Calling Family(..) with a link class as argument is deprecated.\n",
      "Use an instance of a link class instead.\n",
      "  \"\"\"Entry point for launching an IPython kernel.\n"
     ]
    },
    {
     "data": {
      "text/html": [
       "<table class=\"simpletable\">\n",
       "<caption>Generalized Linear Model Regression Results</caption>\n",
       "<tr>\n",
       "  <th>Dep. Variable:</th>   <td>Residential_satisfaction</td> <th>  No. Observations:  </th>  <td>  1169</td> \n",
       "</tr>\n",
       "<tr>\n",
       "  <th>Model:</th>                      <td>GLM</td>           <th>  Df Residuals:      </th>  <td>  1147</td> \n",
       "</tr>\n",
       "<tr>\n",
       "  <th>Model Family:</th>            <td>Binomial</td>         <th>  Df Model:          </th>  <td>    21</td> \n",
       "</tr>\n",
       "<tr>\n",
       "  <th>Link Function:</th>            <td>probit</td>          <th>  Scale:             </th> <td>  1.0000</td>\n",
       "</tr>\n",
       "<tr>\n",
       "  <th>Method:</th>                    <td>IRLS</td>           <th>  Log-Likelihood:    </th> <td> -369.83</td>\n",
       "</tr>\n",
       "<tr>\n",
       "  <th>Date:</th>                <td>Sun, 01 Aug 2021</td>     <th>  Deviance:          </th> <td>  739.67</td>\n",
       "</tr>\n",
       "<tr>\n",
       "  <th>Time:</th>                    <td>19:01:28</td>         <th>  Pearson chi2:      </th> <td>1.19e+03</td>\n",
       "</tr>\n",
       "<tr>\n",
       "  <th>No. Iterations:</th>              <td>7</td>            <th>                     </th>     <td> </td>   \n",
       "</tr>\n",
       "<tr>\n",
       "  <th>Covariance Type:</th>         <td>nonrobust</td>        <th>                     </th>     <td> </td>   \n",
       "</tr>\n",
       "</table>\n",
       "<table class=\"simpletable\">\n",
       "<tr>\n",
       "                                <td></td>                                   <th>coef</th>     <th>std err</th>      <th>z</th>      <th>P>|z|</th>  <th>[0.025</th>    <th>0.975]</th>  \n",
       "</tr>\n",
       "<tr>\n",
       "  <th>const</th>                                                         <td>    0.0328</td> <td>    0.235</td> <td>    0.140</td> <td> 0.889</td> <td>   -0.427</td> <td>    0.492</td>\n",
       "</tr>\n",
       "<tr>\n",
       "  <th>Woman</th>                                                         <td>    0.2232</td> <td>    0.111</td> <td>    2.018</td> <td> 0.044</td> <td>    0.006</td> <td>    0.440</td>\n",
       "</tr>\n",
       "<tr>\n",
       "  <th>Car</th>                                                           <td>   -0.2108</td> <td>    0.113</td> <td>   -1.859</td> <td> 0.063</td> <td>   -0.433</td> <td>    0.011</td>\n",
       "</tr>\n",
       "<tr>\n",
       "  <th>District_CIUTAT VELLA</th>                                         <td>   -0.6673</td> <td>    0.235</td> <td>   -2.843</td> <td> 0.004</td> <td>   -1.127</td> <td>   -0.207</td>\n",
       "</tr>\n",
       "<tr>\n",
       "  <th>District_GRÀCIA</th>                                               <td>   -0.4530</td> <td>    0.215</td> <td>   -2.108</td> <td> 0.035</td> <td>   -0.874</td> <td>   -0.032</td>\n",
       "</tr>\n",
       "<tr>\n",
       "  <th>District_HORTA - GUINARDÓ</th>                                     <td>   -0.1039</td> <td>    0.206</td> <td>   -0.505</td> <td> 0.614</td> <td>   -0.507</td> <td>    0.299</td>\n",
       "</tr>\n",
       "<tr>\n",
       "  <th>District_LES CORTS</th>                                            <td>   -0.1178</td> <td>    0.229</td> <td>   -0.515</td> <td> 0.607</td> <td>   -0.566</td> <td>    0.331</td>\n",
       "</tr>\n",
       "<tr>\n",
       "  <th>District_NOU BARRIS</th>                                           <td>   -0.2548</td> <td>    0.211</td> <td>   -1.205</td> <td> 0.228</td> <td>   -0.669</td> <td>    0.159</td>\n",
       "</tr>\n",
       "<tr>\n",
       "  <th>District_SANT ANDREU</th>                                          <td>   -0.1394</td> <td>    0.226</td> <td>   -0.616</td> <td> 0.538</td> <td>   -0.583</td> <td>    0.304</td>\n",
       "</tr>\n",
       "<tr>\n",
       "  <th>District_SANT MARTÍ</th>                                           <td>   -0.1314</td> <td>    0.206</td> <td>   -0.638</td> <td> 0.523</td> <td>   -0.535</td> <td>    0.272</td>\n",
       "</tr>\n",
       "<tr>\n",
       "  <th>District_SANTS - MONTJUÏC</th>                                     <td>   -0.3259</td> <td>    0.215</td> <td>   -1.514</td> <td> 0.130</td> <td>   -0.748</td> <td>    0.096</td>\n",
       "</tr>\n",
       "<tr>\n",
       "  <th>District_SARRIÀ - SANT GERVASI</th>                                <td>   -0.1514</td> <td>    0.231</td> <td>   -0.657</td> <td> 0.511</td> <td>   -0.603</td> <td>    0.300</td>\n",
       "</tr>\n",
       "<tr>\n",
       "  <th>BCN_evolution_IT HAS IMPROVED</th>                                 <td>    0.3678</td> <td>    0.161</td> <td>    2.282</td> <td> 0.022</td> <td>    0.052</td> <td>    0.684</td>\n",
       "</tr>\n",
       "<tr>\n",
       "  <th>BCN_evolution_IT IS THE SAME</th>                                  <td>    0.2855</td> <td>    0.145</td> <td>    1.975</td> <td> 0.048</td> <td>    0.002</td> <td>    0.569</td>\n",
       "</tr>\n",
       "<tr>\n",
       "  <th>BCN_future_IT WILL IMPROVE</th>                                    <td>    0.6284</td> <td>    0.126</td> <td>    4.971</td> <td> 0.000</td> <td>    0.381</td> <td>    0.876</td>\n",
       "</tr>\n",
       "<tr>\n",
       "  <th>BCN_future_IT WILL STAY THE SAME</th>                              <td>    0.2973</td> <td>    0.136</td> <td>    2.191</td> <td> 0.028</td> <td>    0.031</td> <td>    0.563</td>\n",
       "</tr>\n",
       "<tr>\n",
       "  <th>ASPHALT AND STREET CONSERVATION_GOOD</th>                          <td>    0.4082</td> <td>    0.168</td> <td>    2.432</td> <td> 0.015</td> <td>    0.079</td> <td>    0.737</td>\n",
       "</tr>\n",
       "<tr>\n",
       "  <th>ASPHALT AND STREET CONSERVATION_NEITHER BAD, NOR GOOD</th>         <td>    0.1094</td> <td>    0.147</td> <td>    0.744</td> <td> 0.457</td> <td>   -0.179</td> <td>    0.398</td>\n",
       "</tr>\n",
       "<tr>\n",
       "  <th>CITIZEN SECURITY IN THE CITY AS A WHOLE_GOOD</th>                  <td>    0.3205</td> <td>    0.162</td> <td>    1.981</td> <td> 0.048</td> <td>    0.003</td> <td>    0.638</td>\n",
       "</tr>\n",
       "<tr>\n",
       "  <th>CITIZEN SECURITY IN THE CITY AS A WHOLE_NEITHER BAD, NOR GOOD</th> <td>    0.4010</td> <td>    0.128</td> <td>    3.141</td> <td> 0.002</td> <td>    0.151</td> <td>    0.651</td>\n",
       "</tr>\n",
       "<tr>\n",
       "  <th>CITY MANAGEMENT_GOOD</th>                                          <td>    0.5663</td> <td>    0.182</td> <td>    3.116</td> <td> 0.002</td> <td>    0.210</td> <td>    0.923</td>\n",
       "</tr>\n",
       "<tr>\n",
       "  <th>CITY MANAGEMENT_NEITHER BAD, NOR GOOD</th>                         <td>    0.3292</td> <td>    0.151</td> <td>    2.186</td> <td> 0.029</td> <td>    0.034</td> <td>    0.624</td>\n",
       "</tr>\n",
       "</table>"
      ],
      "text/plain": [
       "<class 'statsmodels.iolib.summary.Summary'>\n",
       "\"\"\"\n",
       "                    Generalized Linear Model Regression Results                     \n",
       "====================================================================================\n",
       "Dep. Variable:     Residential_satisfaction   No. Observations:                 1169\n",
       "Model:                                  GLM   Df Residuals:                     1147\n",
       "Model Family:                      Binomial   Df Model:                           21\n",
       "Link Function:                       probit   Scale:                          1.0000\n",
       "Method:                                IRLS   Log-Likelihood:                -369.83\n",
       "Date:                      Sun, 01 Aug 2021   Deviance:                       739.67\n",
       "Time:                              19:01:28   Pearson chi2:                 1.19e+03\n",
       "No. Iterations:                           7                                         \n",
       "Covariance Type:                  nonrobust                                         \n",
       "=================================================================================================================================\n",
       "                                                                    coef    std err          z      P>|z|      [0.025      0.975]\n",
       "---------------------------------------------------------------------------------------------------------------------------------\n",
       "const                                                             0.0328      0.235      0.140      0.889      -0.427       0.492\n",
       "Woman                                                             0.2232      0.111      2.018      0.044       0.006       0.440\n",
       "Car                                                              -0.2108      0.113     -1.859      0.063      -0.433       0.011\n",
       "District_CIUTAT VELLA                                            -0.6673      0.235     -2.843      0.004      -1.127      -0.207\n",
       "District_GRÀCIA                                                  -0.4530      0.215     -2.108      0.035      -0.874      -0.032\n",
       "District_HORTA - GUINARDÓ                                        -0.1039      0.206     -0.505      0.614      -0.507       0.299\n",
       "District_LES CORTS                                               -0.1178      0.229     -0.515      0.607      -0.566       0.331\n",
       "District_NOU BARRIS                                              -0.2548      0.211     -1.205      0.228      -0.669       0.159\n",
       "District_SANT ANDREU                                             -0.1394      0.226     -0.616      0.538      -0.583       0.304\n",
       "District_SANT MARTÍ                                              -0.1314      0.206     -0.638      0.523      -0.535       0.272\n",
       "District_SANTS - MONTJUÏC                                        -0.3259      0.215     -1.514      0.130      -0.748       0.096\n",
       "District_SARRIÀ - SANT GERVASI                                   -0.1514      0.231     -0.657      0.511      -0.603       0.300\n",
       "BCN_evolution_IT HAS IMPROVED                                     0.3678      0.161      2.282      0.022       0.052       0.684\n",
       "BCN_evolution_IT IS THE SAME                                      0.2855      0.145      1.975      0.048       0.002       0.569\n",
       "BCN_future_IT WILL IMPROVE                                        0.6284      0.126      4.971      0.000       0.381       0.876\n",
       "BCN_future_IT WILL STAY THE SAME                                  0.2973      0.136      2.191      0.028       0.031       0.563\n",
       "ASPHALT AND STREET CONSERVATION_GOOD                              0.4082      0.168      2.432      0.015       0.079       0.737\n",
       "ASPHALT AND STREET CONSERVATION_NEITHER BAD, NOR GOOD             0.1094      0.147      0.744      0.457      -0.179       0.398\n",
       "CITIZEN SECURITY IN THE CITY AS A WHOLE_GOOD                      0.3205      0.162      1.981      0.048       0.003       0.638\n",
       "CITIZEN SECURITY IN THE CITY AS A WHOLE_NEITHER BAD, NOR GOOD     0.4010      0.128      3.141      0.002       0.151       0.651\n",
       "CITY MANAGEMENT_GOOD                                              0.5663      0.182      3.116      0.002       0.210       0.923\n",
       "CITY MANAGEMENT_NEITHER BAD, NOR GOOD                             0.3292      0.151      2.186      0.029       0.034       0.624\n",
       "=================================================================================================================================\n",
       "\"\"\""
      ]
     },
     "execution_count": 41,
     "metadata": {},
     "output_type": "execute_result"
    }
   ],
   "source": [
    "glm_probit = sm.GLM(y, x, family=sm.families.Binomial(link=sm.genmod.families.links.probit))\n",
    "glm_probit_results = glm_probit.fit()\n",
    "glm_probit_results.summary()"
   ]
  },
  {
   "cell_type": "code",
   "execution_count": 42,
   "metadata": {},
   "outputs": [
    {
     "data": {
      "text/plain": [
       "783.6653983833979"
      ]
     },
     "execution_count": 42,
     "metadata": {},
     "output_type": "execute_result"
    }
   ],
   "source": [
    "glm_probit_results.aic"
   ]
  },
  {
   "cell_type": "code",
   "execution_count": 43,
   "metadata": {},
   "outputs": [
    {
     "name": "stderr",
     "output_type": "stream",
     "text": [
      "C:\\Users\\THINK\\anaconda3\\lib\\site-packages\\statsmodels\\genmod\\generalized_linear_model.py:1731: FutureWarning: The bic value is computed using the deviance formula. After 0.13 this will change to the log-likelihood based formula. This change has no impact on the relative rank of models compared using BIC. You can directly access the log-likelihood version using the `bic_llf` attribute. You can suppress this message by calling statsmodels.genmod.generalized_linear_model.SET_USE_BIC_LLF with True to get the LLF-based version now or False to retainthe deviance version.\n",
      "  FutureWarning\n"
     ]
    },
    {
     "data": {
      "text/plain": [
       "-7362.632445425064"
      ]
     },
     "execution_count": 43,
     "metadata": {},
     "output_type": "execute_result"
    }
   ],
   "source": [
    "glm_probit_results.bic"
   ]
  },
  {
   "cell_type": "code",
   "execution_count": 44,
   "metadata": {},
   "outputs": [
    {
     "data": {
      "text/plain": [
       "const                                                            1.033331\n",
       "Woman                                                            1.250084\n",
       "Car                                                              0.809954\n",
       "District_CIUTAT VELLA                                            0.513104\n",
       "District_GRÀCIA                                                  0.635721\n",
       "District_HORTA - GUINARDÓ                                        0.901327\n",
       "District_LES CORTS                                               0.888915\n",
       "District_NOU BARRIS                                              0.775083\n",
       "District_SANT ANDREU                                             0.869881\n",
       "District_SANT MARTÍ                                              0.876843\n",
       "District_SANTS - MONTJUÏC                                        0.721888\n",
       "District_SARRIÀ - SANT GERVASI                                   0.859472\n",
       "BCN_evolution_IT HAS IMPROVED                                    1.444488\n",
       "BCN_evolution_IT IS THE SAME                                     1.330437\n",
       "BCN_future_IT WILL IMPROVE                                       1.874601\n",
       "BCN_future_IT WILL STAY THE SAME                                 1.346222\n",
       "ASPHALT AND STREET CONSERVATION_GOOD                             1.504128\n",
       "ASPHALT AND STREET CONSERVATION_NEITHER BAD, NOR GOOD            1.115564\n",
       "CITIZEN SECURITY IN THE CITY AS A WHOLE_GOOD                     1.377803\n",
       "CITIZEN SECURITY IN THE CITY AS A WHOLE_NEITHER BAD, NOR GOOD    1.493262\n",
       "CITY MANAGEMENT_GOOD                                             1.761730\n",
       "CITY MANAGEMENT_NEITHER BAD, NOR GOOD                            1.389816\n",
       "dtype: float64"
      ]
     },
     "execution_count": 44,
     "metadata": {},
     "output_type": "execute_result"
    }
   ],
   "source": [
    "odds_ratios(glm_probit_results)"
   ]
  },
  {
   "cell_type": "code",
   "execution_count": null,
   "metadata": {},
   "outputs": [],
   "source": []
  },
  {
   "cell_type": "code",
   "execution_count": 45,
   "metadata": {},
   "outputs": [
    {
     "data": {
      "text/html": [
       "<div>\n",
       "<style scoped>\n",
       "    .dataframe tbody tr th:only-of-type {\n",
       "        vertical-align: middle;\n",
       "    }\n",
       "\n",
       "    .dataframe tbody tr th {\n",
       "        vertical-align: top;\n",
       "    }\n",
       "\n",
       "    .dataframe thead th {\n",
       "        text-align: right;\n",
       "    }\n",
       "</style>\n",
       "<table border=\"1\" class=\"dataframe\">\n",
       "  <thead>\n",
       "    <tr style=\"text-align: right;\">\n",
       "      <th>y_predict</th>\n",
       "      <th>0.0</th>\n",
       "      <th>1.0</th>\n",
       "    </tr>\n",
       "    <tr>\n",
       "      <th>y</th>\n",
       "      <th></th>\n",
       "      <th></th>\n",
       "    </tr>\n",
       "  </thead>\n",
       "  <tbody>\n",
       "    <tr>\n",
       "      <th>0</th>\n",
       "      <td>17</td>\n",
       "      <td>132</td>\n",
       "    </tr>\n",
       "    <tr>\n",
       "      <th>1</th>\n",
       "      <td>5</td>\n",
       "      <td>1015</td>\n",
       "    </tr>\n",
       "  </tbody>\n",
       "</table>\n",
       "</div>"
      ],
      "text/plain": [
       "y_predict  0.0   1.0\n",
       "y                   \n",
       "0           17   132\n",
       "1            5  1015"
      ]
     },
     "execution_count": 45,
     "metadata": {},
     "output_type": "execute_result"
    }
   ],
   "source": [
    "classification_table(glm_probit_results)"
   ]
  },
  {
   "cell_type": "code",
   "execution_count": 46,
   "metadata": {},
   "outputs": [
    {
     "data": {
      "image/png": "[encoded data removed]",
      "text/plain": [
       "<Figure size 432x288 with 1 Axes>"
      ]
     },
     "metadata": {},
     "output_type": "display_data"
    }
   ],
   "source": [
    "plot_roc_auc(glm_probit_results)"
   ]
  },
  {
   "cell_type": "code",
   "execution_count": 47,
   "metadata": {},
   "outputs": [
    {
     "name": "stdout",
     "output_type": "stream",
     "text": [
      "Pseudo R2: 0.17079109668181236\n"
     ]
    }
   ],
   "source": [
    "pseudo_r2(glm_probit_results)"
   ]
  },
  {
   "cell_type": "code",
   "execution_count": 48,
   "metadata": {},
   "outputs": [
    {
     "name": "stdout",
     "output_type": "stream",
     "text": [
      "Adj Count R2: 0.081\n"
     ]
    }
   ],
   "source": [
    "adj_count_r2(glm_probit_results)"
   ]
  },
  {
   "cell_type": "code",
   "execution_count": null,
   "metadata": {},
   "outputs": [],
   "source": []
  },
  {
   "cell_type": "markdown",
   "metadata": {},
   "source": [
    "# Scobit"
   ]
  },
  {
   "cell_type": "code",
   "execution_count": 49,
   "metadata": {
    "scrolled": false
   },
   "outputs": [
    {
     "name": "stderr",
     "output_type": "stream",
     "text": [
      "C:\\Users\\THINK\\anaconda3\\lib\\site-packages\\ipykernel_launcher.py:1: DeprecationWarning: Calling Family(..) with a link class as argument is deprecated.\n",
      "Use an instance of a link class instead.\n",
      "  \"\"\"Entry point for launching an IPython kernel.\n"
     ]
    },
    {
     "data": {
      "text/html": [
       "<table class=\"simpletable\">\n",
       "<caption>Generalized Linear Model Regression Results</caption>\n",
       "<tr>\n",
       "  <th>Dep. Variable:</th>   <td>Residential_satisfaction</td> <th>  No. Observations:  </th>  <td>  1169</td> \n",
       "</tr>\n",
       "<tr>\n",
       "  <th>Model:</th>                      <td>GLM</td>           <th>  Df Residuals:      </th>  <td>  1147</td> \n",
       "</tr>\n",
       "<tr>\n",
       "  <th>Model Family:</th>            <td>Binomial</td>         <th>  Df Model:          </th>  <td>    21</td> \n",
       "</tr>\n",
       "<tr>\n",
       "  <th>Link Function:</th>            <td>cloglog</td>         <th>  Scale:             </th> <td>  1.0000</td>\n",
       "</tr>\n",
       "<tr>\n",
       "  <th>Method:</th>                    <td>IRLS</td>           <th>  Log-Likelihood:    </th> <td> -371.55</td>\n",
       "</tr>\n",
       "<tr>\n",
       "  <th>Date:</th>                <td>Sun, 01 Aug 2021</td>     <th>  Deviance:          </th> <td>  743.10</td>\n",
       "</tr>\n",
       "<tr>\n",
       "  <th>Time:</th>                    <td>19:01:29</td>         <th>  Pearson chi2:      </th> <td>1.16e+03</td>\n",
       "</tr>\n",
       "<tr>\n",
       "  <th>No. Iterations:</th>              <td>9</td>            <th>                     </th>     <td> </td>   \n",
       "</tr>\n",
       "<tr>\n",
       "  <th>Covariance Type:</th>         <td>nonrobust</td>        <th>                     </th>     <td> </td>   \n",
       "</tr>\n",
       "</table>\n",
       "<table class=\"simpletable\">\n",
       "<tr>\n",
       "                                <td></td>                                   <th>coef</th>     <th>std err</th>      <th>z</th>      <th>P>|z|</th>  <th>[0.025</th>    <th>0.975]</th>  \n",
       "</tr>\n",
       "<tr>\n",
       "  <th>const</th>                                                         <td>   -0.2111</td> <td>    0.205</td> <td>   -1.029</td> <td> 0.304</td> <td>   -0.613</td> <td>    0.191</td>\n",
       "</tr>\n",
       "<tr>\n",
       "  <th>Woman</th>                                                         <td>    0.1712</td> <td>    0.090</td> <td>    1.912</td> <td> 0.056</td> <td>   -0.004</td> <td>    0.347</td>\n",
       "</tr>\n",
       "<tr>\n",
       "  <th>Car</th>                                                           <td>   -0.1744</td> <td>    0.090</td> <td>   -1.934</td> <td> 0.053</td> <td>   -0.351</td> <td>    0.002</td>\n",
       "</tr>\n",
       "<tr>\n",
       "  <th>District_CIUTAT VELLA</th>                                         <td>   -0.5552</td> <td>    0.196</td> <td>   -2.834</td> <td> 0.005</td> <td>   -0.939</td> <td>   -0.171</td>\n",
       "</tr>\n",
       "<tr>\n",
       "  <th>District_GRÀCIA</th>                                               <td>   -0.3943</td> <td>    0.176</td> <td>   -2.246</td> <td> 0.025</td> <td>   -0.738</td> <td>   -0.050</td>\n",
       "</tr>\n",
       "<tr>\n",
       "  <th>District_HORTA - GUINARDÓ</th>                                     <td>   -0.1226</td> <td>    0.164</td> <td>   -0.746</td> <td> 0.456</td> <td>   -0.445</td> <td>    0.200</td>\n",
       "</tr>\n",
       "<tr>\n",
       "  <th>District_LES CORTS</th>                                            <td>   -0.0682</td> <td>    0.182</td> <td>   -0.375</td> <td> 0.708</td> <td>   -0.424</td> <td>    0.288</td>\n",
       "</tr>\n",
       "<tr>\n",
       "  <th>District_NOU BARRIS</th>                                           <td>   -0.1968</td> <td>    0.170</td> <td>   -1.156</td> <td> 0.248</td> <td>   -0.531</td> <td>    0.137</td>\n",
       "</tr>\n",
       "<tr>\n",
       "  <th>District_SANT ANDREU</th>                                          <td>   -0.1472</td> <td>    0.179</td> <td>   -0.821</td> <td> 0.412</td> <td>   -0.499</td> <td>    0.204</td>\n",
       "</tr>\n",
       "<tr>\n",
       "  <th>District_SANT MARTÍ</th>                                           <td>   -0.1597</td> <td>    0.160</td> <td>   -0.996</td> <td> 0.319</td> <td>   -0.474</td> <td>    0.155</td>\n",
       "</tr>\n",
       "<tr>\n",
       "  <th>District_SANTS - MONTJUÏC</th>                                     <td>   -0.2626</td> <td>    0.174</td> <td>   -1.505</td> <td> 0.132</td> <td>   -0.605</td> <td>    0.079</td>\n",
       "</tr>\n",
       "<tr>\n",
       "  <th>District_SARRIÀ - SANT GERVASI</th>                                <td>   -0.1407</td> <td>    0.182</td> <td>   -0.775</td> <td> 0.439</td> <td>   -0.497</td> <td>    0.215</td>\n",
       "</tr>\n",
       "<tr>\n",
       "  <th>BCN_evolution_IT HAS IMPROVED</th>                                 <td>    0.2926</td> <td>    0.119</td> <td>    2.459</td> <td> 0.014</td> <td>    0.059</td> <td>    0.526</td>\n",
       "</tr>\n",
       "<tr>\n",
       "  <th>BCN_evolution_IT IS THE SAME</th>                                  <td>    0.2314</td> <td>    0.112</td> <td>    2.071</td> <td> 0.038</td> <td>    0.012</td> <td>    0.450</td>\n",
       "</tr>\n",
       "<tr>\n",
       "  <th>BCN_future_IT WILL IMPROVE</th>                                    <td>    0.4854</td> <td>    0.105</td> <td>    4.603</td> <td> 0.000</td> <td>    0.279</td> <td>    0.692</td>\n",
       "</tr>\n",
       "<tr>\n",
       "  <th>BCN_future_IT WILL STAY THE SAME</th>                              <td>    0.2314</td> <td>    0.116</td> <td>    1.986</td> <td> 0.047</td> <td>    0.003</td> <td>    0.460</td>\n",
       "</tr>\n",
       "<tr>\n",
       "  <th>ASPHALT AND STREET CONSERVATION_GOOD</th>                          <td>    0.3172</td> <td>    0.142</td> <td>    2.235</td> <td> 0.025</td> <td>    0.039</td> <td>    0.595</td>\n",
       "</tr>\n",
       "<tr>\n",
       "  <th>ASPHALT AND STREET CONSERVATION_NEITHER BAD, NOR GOOD</th>         <td>    0.1035</td> <td>    0.131</td> <td>    0.792</td> <td> 0.428</td> <td>   -0.153</td> <td>    0.360</td>\n",
       "</tr>\n",
       "<tr>\n",
       "  <th>CITIZEN SECURITY IN THE CITY AS A WHOLE_GOOD</th>                  <td>    0.3037</td> <td>    0.133</td> <td>    2.288</td> <td> 0.022</td> <td>    0.044</td> <td>    0.564</td>\n",
       "</tr>\n",
       "<tr>\n",
       "  <th>CITIZEN SECURITY IN THE CITY AS A WHOLE_NEITHER BAD, NOR GOOD</th> <td>    0.3346</td> <td>    0.110</td> <td>    3.041</td> <td> 0.002</td> <td>    0.119</td> <td>    0.550</td>\n",
       "</tr>\n",
       "<tr>\n",
       "  <th>CITY MANAGEMENT_GOOD</th>                                          <td>    0.4543</td> <td>    0.159</td> <td>    2.855</td> <td> 0.004</td> <td>    0.142</td> <td>    0.766</td>\n",
       "</tr>\n",
       "<tr>\n",
       "  <th>CITY MANAGEMENT_NEITHER BAD, NOR GOOD</th>                         <td>    0.3024</td> <td>    0.141</td> <td>    2.138</td> <td> 0.033</td> <td>    0.025</td> <td>    0.580</td>\n",
       "</tr>\n",
       "</table>"
      ],
      "text/plain": [
       "<class 'statsmodels.iolib.summary.Summary'>\n",
       "\"\"\"\n",
       "                    Generalized Linear Model Regression Results                     \n",
       "====================================================================================\n",
       "Dep. Variable:     Residential_satisfaction   No. Observations:                 1169\n",
       "Model:                                  GLM   Df Residuals:                     1147\n",
       "Model Family:                      Binomial   Df Model:                           21\n",
       "Link Function:                      cloglog   Scale:                          1.0000\n",
       "Method:                                IRLS   Log-Likelihood:                -371.55\n",
       "Date:                      Sun, 01 Aug 2021   Deviance:                       743.10\n",
       "Time:                              19:01:29   Pearson chi2:                 1.16e+03\n",
       "No. Iterations:                           9                                         \n",
       "Covariance Type:                  nonrobust                                         \n",
       "=================================================================================================================================\n",
       "                                                                    coef    std err          z      P>|z|      [0.025      0.975]\n",
       "---------------------------------------------------------------------------------------------------------------------------------\n",
       "const                                                            -0.2111      0.205     -1.029      0.304      -0.613       0.191\n",
       "Woman                                                             0.1712      0.090      1.912      0.056      -0.004       0.347\n",
       "Car                                                              -0.1744      0.090     -1.934      0.053      -0.351       0.002\n",
       "District_CIUTAT VELLA                                            -0.5552      0.196     -2.834      0.005      -0.939      -0.171\n",
       "District_GRÀCIA                                                  -0.3943      0.176     -2.246      0.025      -0.738      -0.050\n",
       "District_HORTA - GUINARDÓ                                        -0.1226      0.164     -0.746      0.456      -0.445       0.200\n",
       "District_LES CORTS                                               -0.0682      0.182     -0.375      0.708      -0.424       0.288\n",
       "District_NOU BARRIS                                              -0.1968      0.170     -1.156      0.248      -0.531       0.137\n",
       "District_SANT ANDREU                                             -0.1472      0.179     -0.821      0.412      -0.499       0.204\n",
       "District_SANT MARTÍ                                              -0.1597      0.160     -0.996      0.319      -0.474       0.155\n",
       "District_SANTS - MONTJUÏC                                        -0.2626      0.174     -1.505      0.132      -0.605       0.079\n",
       "District_SARRIÀ - SANT GERVASI                                   -0.1407      0.182     -0.775      0.439      -0.497       0.215\n",
       "BCN_evolution_IT HAS IMPROVED                                     0.2926      0.119      2.459      0.014       0.059       0.526\n",
       "BCN_evolution_IT IS THE SAME                                      0.2314      0.112      2.071      0.038       0.012       0.450\n",
       "BCN_future_IT WILL IMPROVE                                        0.4854      0.105      4.603      0.000       0.279       0.692\n",
       "BCN_future_IT WILL STAY THE SAME                                  0.2314      0.116      1.986      0.047       0.003       0.460\n",
       "ASPHALT AND STREET CONSERVATION_GOOD                              0.3172      0.142      2.235      0.025       0.039       0.595\n",
       "ASPHALT AND STREET CONSERVATION_NEITHER BAD, NOR GOOD             0.1035      0.131      0.792      0.428      -0.153       0.360\n",
       "CITIZEN SECURITY IN THE CITY AS A WHOLE_GOOD                      0.3037      0.133      2.288      0.022       0.044       0.564\n",
       "CITIZEN SECURITY IN THE CITY AS A WHOLE_NEITHER BAD, NOR GOOD     0.3346      0.110      3.041      0.002       0.119       0.550\n",
       "CITY MANAGEMENT_GOOD                                              0.4543      0.159      2.855      0.004       0.142       0.766\n",
       "CITY MANAGEMENT_NEITHER BAD, NOR GOOD                             0.3024      0.141      2.138      0.033       0.025       0.580\n",
       "=================================================================================================================================\n",
       "\"\"\""
      ]
     },
     "execution_count": 49,
     "metadata": {},
     "output_type": "execute_result"
    }
   ],
   "source": [
    "glm_scobit = sm.GLM(y, x, family=sm.families.Binomial(link=sm.genmod.families.links.cloglog))\n",
    "glm_scobit_results = glm_scobit.fit()\n",
    "glm_scobit_results.summary()"
   ]
  },
  {
   "cell_type": "code",
   "execution_count": 50,
   "metadata": {},
   "outputs": [
    {
     "data": {
      "text/plain": [
       "787.0977985559406"
      ]
     },
     "execution_count": 50,
     "metadata": {},
     "output_type": "execute_result"
    }
   ],
   "source": [
    "glm_scobit_results.aic"
   ]
  },
  {
   "cell_type": "code",
   "execution_count": 51,
   "metadata": {},
   "outputs": [
    {
     "name": "stderr",
     "output_type": "stream",
     "text": [
      "C:\\Users\\THINK\\anaconda3\\lib\\site-packages\\statsmodels\\genmod\\generalized_linear_model.py:1731: FutureWarning: The bic value is computed using the deviance formula. After 0.13 this will change to the log-likelihood based formula. This change has no impact on the relative rank of models compared using BIC. You can directly access the log-likelihood version using the `bic_llf` attribute. You can suppress this message by calling statsmodels.genmod.generalized_linear_model.SET_USE_BIC_LLF with True to get the LLF-based version now or False to retainthe deviance version.\n",
      "  FutureWarning\n"
     ]
    },
    {
     "data": {
      "text/plain": [
       "-7359.200045252522"
      ]
     },
     "execution_count": 51,
     "metadata": {},
     "output_type": "execute_result"
    }
   ],
   "source": [
    "glm_scobit_results.bic"
   ]
  },
  {
   "cell_type": "code",
   "execution_count": 52,
   "metadata": {},
   "outputs": [
    {
     "data": {
      "text/plain": [
       "const                                                            0.809679\n",
       "Woman                                                            1.186708\n",
       "Car                                                              0.839993\n",
       "District_CIUTAT VELLA                                            0.573951\n",
       "District_GRÀCIA                                                  0.674185\n",
       "District_HORTA - GUINARDÓ                                        0.884579\n",
       "District_LES CORTS                                               0.934105\n",
       "District_NOU BARRIS                                              0.821352\n",
       "District_SANT ANDREU                                             0.863104\n",
       "District_SANT MARTÍ                                              0.852362\n",
       "District_SANTS - MONTJUÏC                                        0.769019\n",
       "District_SARRIÀ - SANT GERVASI                                   0.868729\n",
       "BCN_evolution_IT HAS IMPROVED                                    1.339911\n",
       "BCN_evolution_IT IS THE SAME                                     1.260390\n",
       "BCN_future_IT WILL IMPROVE                                       1.624807\n",
       "BCN_future_IT WILL STAY THE SAME                                 1.260386\n",
       "ASPHALT AND STREET CONSERVATION_GOOD                             1.373288\n",
       "ASPHALT AND STREET CONSERVATION_NEITHER BAD, NOR GOOD            1.109054\n",
       "CITIZEN SECURITY IN THE CITY AS A WHOLE_GOOD                     1.354902\n",
       "CITIZEN SECURITY IN THE CITY AS A WHOLE_NEITHER BAD, NOR GOOD    1.397356\n",
       "CITY MANAGEMENT_GOOD                                             1.575002\n",
       "CITY MANAGEMENT_NEITHER BAD, NOR GOOD                            1.353166\n",
       "dtype: float64"
      ]
     },
     "execution_count": 52,
     "metadata": {},
     "output_type": "execute_result"
    }
   ],
   "source": [
    "odds_ratios(glm_scobit_results)"
   ]
  },
  {
   "cell_type": "code",
   "execution_count": null,
   "metadata": {},
   "outputs": [],
   "source": []
  },
  {
   "cell_type": "code",
   "execution_count": 53,
   "metadata": {},
   "outputs": [
    {
     "data": {
      "text/html": [
       "<div>\n",
       "<style scoped>\n",
       "    .dataframe tbody tr th:only-of-type {\n",
       "        vertical-align: middle;\n",
       "    }\n",
       "\n",
       "    .dataframe tbody tr th {\n",
       "        vertical-align: top;\n",
       "    }\n",
       "\n",
       "    .dataframe thead th {\n",
       "        text-align: right;\n",
       "    }\n",
       "</style>\n",
       "<table border=\"1\" class=\"dataframe\">\n",
       "  <thead>\n",
       "    <tr style=\"text-align: right;\">\n",
       "      <th>y_predict</th>\n",
       "      <th>0.0</th>\n",
       "      <th>1.0</th>\n",
       "    </tr>\n",
       "    <tr>\n",
       "      <th>y</th>\n",
       "      <th></th>\n",
       "      <th></th>\n",
       "    </tr>\n",
       "  </thead>\n",
       "  <tbody>\n",
       "    <tr>\n",
       "      <th>0</th>\n",
       "      <td>5</td>\n",
       "      <td>144</td>\n",
       "    </tr>\n",
       "    <tr>\n",
       "      <th>1</th>\n",
       "      <td>4</td>\n",
       "      <td>1016</td>\n",
       "    </tr>\n",
       "  </tbody>\n",
       "</table>\n",
       "</div>"
      ],
      "text/plain": [
       "y_predict  0.0   1.0\n",
       "y                   \n",
       "0            5   144\n",
       "1            4  1016"
      ]
     },
     "execution_count": 53,
     "metadata": {},
     "output_type": "execute_result"
    }
   ],
   "source": [
    "classification_table(glm_scobit_results)"
   ]
  },
  {
   "cell_type": "code",
   "execution_count": 54,
   "metadata": {},
   "outputs": [
    {
     "data": {
      "image/png": "[encoded data removed]",
      "text/plain": [
       "<Figure size 432x288 with 1 Axes>"
      ]
     },
     "metadata": {},
     "output_type": "display_data"
    }
   ],
   "source": [
    "plot_roc_auc(glm_scobit_results)"
   ]
  },
  {
   "cell_type": "code",
   "execution_count": 55,
   "metadata": {},
   "outputs": [
    {
     "name": "stdout",
     "output_type": "stream",
     "text": [
      "Pseudo R2: 0.16694317194578423\n"
     ]
    }
   ],
   "source": [
    "pseudo_r2(glm_scobit_results)"
   ]
  },
  {
   "cell_type": "code",
   "execution_count": 56,
   "metadata": {},
   "outputs": [
    {
     "name": "stdout",
     "output_type": "stream",
     "text": [
      "Adj Count R2: 0.007\n"
     ]
    }
   ],
   "source": [
    "adj_count_r2(glm_scobit_results)"
   ]
  },
  {
   "cell_type": "code",
   "execution_count": null,
   "metadata": {},
   "outputs": [],
   "source": []
  },
  {
   "cell_type": "markdown",
   "metadata": {},
   "source": [
    "# Results comparison"
   ]
  },
  {
   "cell_type": "code",
   "execution_count": 57,
   "metadata": {},
   "outputs": [
    {
     "data": {
      "text/html": [
       "<table class=\"simpletable\">\n",
       "<caption>Generalized Linear Model Regression Results</caption>\n",
       "<tr>\n",
       "  <th>Dep. Variable:</th>   <td>Residential_satisfaction</td> <th>  No. Observations:  </th>  <td>  1169</td> \n",
       "</tr>\n",
       "<tr>\n",
       "  <th>Model:</th>                      <td>GLM</td>           <th>  Df Residuals:      </th>  <td>  1147</td> \n",
       "</tr>\n",
       "<tr>\n",
       "  <th>Model Family:</th>            <td>Binomial</td>         <th>  Df Model:          </th>  <td>    21</td> \n",
       "</tr>\n",
       "<tr>\n",
       "  <th>Link Function:</th>             <td>logit</td>          <th>  Scale:             </th> <td>  1.0000</td>\n",
       "</tr>\n",
       "<tr>\n",
       "  <th>Method:</th>                    <td>IRLS</td>           <th>  Log-Likelihood:    </th> <td> -368.71</td>\n",
       "</tr>\n",
       "<tr>\n",
       "  <th>Date:</th>                <td>Sun, 01 Aug 2021</td>     <th>  Deviance:          </th> <td>  737.42</td>\n",
       "</tr>\n",
       "<tr>\n",
       "  <th>Time:</th>                    <td>19:01:30</td>         <th>  Pearson chi2:      </th> <td>1.21e+03</td>\n",
       "</tr>\n",
       "<tr>\n",
       "  <th>No. Iterations:</th>              <td>6</td>            <th>                     </th>     <td> </td>   \n",
       "</tr>\n",
       "<tr>\n",
       "  <th>Covariance Type:</th>         <td>nonrobust</td>        <th>                     </th>     <td> </td>   \n",
       "</tr>\n",
       "</table>\n",
       "<table class=\"simpletable\">\n",
       "<tr>\n",
       "                                <td></td>                                   <th>coef</th>     <th>std err</th>      <th>z</th>      <th>P>|z|</th>  <th>[0.025</th>    <th>0.975]</th>  \n",
       "</tr>\n",
       "<tr>\n",
       "  <th>const</th>                                                         <td>   -0.0595</td> <td>    0.421</td> <td>   -0.142</td> <td> 0.887</td> <td>   -0.884</td> <td>    0.765</td>\n",
       "</tr>\n",
       "<tr>\n",
       "  <th>Woman</th>                                                         <td>    0.4311</td> <td>    0.205</td> <td>    2.101</td> <td> 0.036</td> <td>    0.029</td> <td>    0.833</td>\n",
       "</tr>\n",
       "<tr>\n",
       "  <th>Car</th>                                                           <td>   -0.3777</td> <td>    0.213</td> <td>   -1.772</td> <td> 0.076</td> <td>   -0.795</td> <td>    0.040</td>\n",
       "</tr>\n",
       "<tr>\n",
       "  <th>District_CIUTAT VELLA</th>                                         <td>   -1.2070</td> <td>    0.428</td> <td>   -2.820</td> <td> 0.005</td> <td>   -2.046</td> <td>   -0.368</td>\n",
       "</tr>\n",
       "<tr>\n",
       "  <th>District_GRÀCIA</th>                                               <td>   -0.7994</td> <td>    0.396</td> <td>   -2.016</td> <td> 0.044</td> <td>   -1.576</td> <td>   -0.022</td>\n",
       "</tr>\n",
       "<tr>\n",
       "  <th>District_HORTA - GUINARDÓ</th>                                     <td>   -0.1395</td> <td>    0.384</td> <td>   -0.363</td> <td> 0.716</td> <td>   -0.892</td> <td>    0.613</td>\n",
       "</tr>\n",
       "<tr>\n",
       "  <th>District_LES CORTS</th>                                            <td>   -0.2628</td> <td>    0.426</td> <td>   -0.617</td> <td> 0.537</td> <td>   -1.098</td> <td>    0.572</td>\n",
       "</tr>\n",
       "<tr>\n",
       "  <th>District_NOU BARRIS</th>                                           <td>   -0.4926</td> <td>    0.391</td> <td>   -1.261</td> <td> 0.207</td> <td>   -1.258</td> <td>    0.273</td>\n",
       "</tr>\n",
       "<tr>\n",
       "  <th>District_SANT ANDREU</th>                                          <td>   -0.1936</td> <td>    0.427</td> <td>   -0.453</td> <td> 0.651</td> <td>   -1.031</td> <td>    0.644</td>\n",
       "</tr>\n",
       "<tr>\n",
       "  <th>District_SANT MARTÍ</th>                                           <td>   -0.1450</td> <td>    0.395</td> <td>   -0.367</td> <td> 0.713</td> <td>   -0.919</td> <td>    0.629</td>\n",
       "</tr>\n",
       "<tr>\n",
       "  <th>District_SANTS - MONTJUÏC</th>                                     <td>   -0.6081</td> <td>    0.397</td> <td>   -1.533</td> <td> 0.125</td> <td>   -1.386</td> <td>    0.169</td>\n",
       "</tr>\n",
       "<tr>\n",
       "  <th>District_SARRIÀ - SANT GERVASI</th>                                <td>   -0.2520</td> <td>    0.434</td> <td>   -0.580</td> <td> 0.562</td> <td>   -1.103</td> <td>    0.599</td>\n",
       "</tr>\n",
       "<tr>\n",
       "  <th>BCN_evolution_IT HAS IMPROVED</th>                                 <td>    0.7058</td> <td>    0.327</td> <td>    2.155</td> <td> 0.031</td> <td>    0.064</td> <td>    1.348</td>\n",
       "</tr>\n",
       "<tr>\n",
       "  <th>BCN_evolution_IT IS THE SAME</th>                                  <td>    0.5330</td> <td>    0.279</td> <td>    1.913</td> <td> 0.056</td> <td>   -0.013</td> <td>    1.079</td>\n",
       "</tr>\n",
       "<tr>\n",
       "  <th>BCN_future_IT WILL IMPROVE</th>                                    <td>    1.2037</td> <td>    0.235</td> <td>    5.126</td> <td> 0.000</td> <td>    0.743</td> <td>    1.664</td>\n",
       "</tr>\n",
       "<tr>\n",
       "  <th>BCN_future_IT WILL STAY THE SAME</th>                              <td>    0.5504</td> <td>    0.243</td> <td>    2.270</td> <td> 0.023</td> <td>    0.075</td> <td>    1.026</td>\n",
       "</tr>\n",
       "<tr>\n",
       "  <th>ASPHALT AND STREET CONSERVATION_GOOD</th>                          <td>    0.7952</td> <td>    0.308</td> <td>    2.585</td> <td> 0.010</td> <td>    0.192</td> <td>    1.398</td>\n",
       "</tr>\n",
       "<tr>\n",
       "  <th>ASPHALT AND STREET CONSERVATION_NEITHER BAD, NOR GOOD</th>         <td>    0.1819</td> <td>    0.258</td> <td>    0.706</td> <td> 0.480</td> <td>   -0.323</td> <td>    0.687</td>\n",
       "</tr>\n",
       "<tr>\n",
       "  <th>CITIZEN SECURITY IN THE CITY AS A WHOLE_GOOD</th>                  <td>    0.4989</td> <td>    0.299</td> <td>    1.670</td> <td> 0.095</td> <td>   -0.087</td> <td>    1.084</td>\n",
       "</tr>\n",
       "<tr>\n",
       "  <th>CITIZEN SECURITY IN THE CITY AS A WHOLE_NEITHER BAD, NOR GOOD</th> <td>    0.7260</td> <td>    0.229</td> <td>    3.170</td> <td> 0.002</td> <td>    0.277</td> <td>    1.175</td>\n",
       "</tr>\n",
       "<tr>\n",
       "  <th>CITY MANAGEMENT_GOOD</th>                                          <td>    1.0843</td> <td>    0.333</td> <td>    3.261</td> <td> 0.001</td> <td>    0.433</td> <td>    1.736</td>\n",
       "</tr>\n",
       "<tr>\n",
       "  <th>CITY MANAGEMENT_NEITHER BAD, NOR GOOD</th>                         <td>    0.5565</td> <td>    0.258</td> <td>    2.159</td> <td> 0.031</td> <td>    0.051</td> <td>    1.062</td>\n",
       "</tr>\n",
       "</table>"
      ],
      "text/plain": [
       "<class 'statsmodels.iolib.summary.Summary'>\n",
       "\"\"\"\n",
       "                    Generalized Linear Model Regression Results                     \n",
       "====================================================================================\n",
       "Dep. Variable:     Residential_satisfaction   No. Observations:                 1169\n",
       "Model:                                  GLM   Df Residuals:                     1147\n",
       "Model Family:                      Binomial   Df Model:                           21\n",
       "Link Function:                        logit   Scale:                          1.0000\n",
       "Method:                                IRLS   Log-Likelihood:                -368.71\n",
       "Date:                      Sun, 01 Aug 2021   Deviance:                       737.42\n",
       "Time:                              19:01:30   Pearson chi2:                 1.21e+03\n",
       "No. Iterations:                           6                                         \n",
       "Covariance Type:                  nonrobust                                         \n",
       "=================================================================================================================================\n",
       "                                                                    coef    std err          z      P>|z|      [0.025      0.975]\n",
       "---------------------------------------------------------------------------------------------------------------------------------\n",
       "const                                                            -0.0595      0.421     -0.142      0.887      -0.884       0.765\n",
       "Woman                                                             0.4311      0.205      2.101      0.036       0.029       0.833\n",
       "Car                                                              -0.3777      0.213     -1.772      0.076      -0.795       0.040\n",
       "District_CIUTAT VELLA                                            -1.2070      0.428     -2.820      0.005      -2.046      -0.368\n",
       "District_GRÀCIA                                                  -0.7994      0.396     -2.016      0.044      -1.576      -0.022\n",
       "District_HORTA - GUINARDÓ                                        -0.1395      0.384     -0.363      0.716      -0.892       0.613\n",
       "District_LES CORTS                                               -0.2628      0.426     -0.617      0.537      -1.098       0.572\n",
       "District_NOU BARRIS                                              -0.4926      0.391     -1.261      0.207      -1.258       0.273\n",
       "District_SANT ANDREU                                             -0.1936      0.427     -0.453      0.651      -1.031       0.644\n",
       "District_SANT MARTÍ                                              -0.1450      0.395     -0.367      0.713      -0.919       0.629\n",
       "District_SANTS - MONTJUÏC                                        -0.6081      0.397     -1.533      0.125      -1.386       0.169\n",
       "District_SARRIÀ - SANT GERVASI                                   -0.2520      0.434     -0.580      0.562      -1.103       0.599\n",
       "BCN_evolution_IT HAS IMPROVED                                     0.7058      0.327      2.155      0.031       0.064       1.348\n",
       "BCN_evolution_IT IS THE SAME                                      0.5330      0.279      1.913      0.056      -0.013       1.079\n",
       "BCN_future_IT WILL IMPROVE                                        1.2037      0.235      5.126      0.000       0.743       1.664\n",
       "BCN_future_IT WILL STAY THE SAME                                  0.5504      0.243      2.270      0.023       0.075       1.026\n",
       "ASPHALT AND STREET CONSERVATION_GOOD                              0.7952      0.308      2.585      0.010       0.192       1.398\n",
       "ASPHALT AND STREET CONSERVATION_NEITHER BAD, NOR GOOD             0.1819      0.258      0.706      0.480      -0.323       0.687\n",
       "CITIZEN SECURITY IN THE CITY AS A WHOLE_GOOD                      0.4989      0.299      1.670      0.095      -0.087       1.084\n",
       "CITIZEN SECURITY IN THE CITY AS A WHOLE_NEITHER BAD, NOR GOOD     0.7260      0.229      3.170      0.002       0.277       1.175\n",
       "CITY MANAGEMENT_GOOD                                              1.0843      0.333      3.261      0.001       0.433       1.736\n",
       "CITY MANAGEMENT_NEITHER BAD, NOR GOOD                             0.5565      0.258      2.159      0.031       0.051       1.062\n",
       "=================================================================================================================================\n",
       "\"\"\""
      ]
     },
     "execution_count": 57,
     "metadata": {},
     "output_type": "execute_result"
    }
   ],
   "source": [
    "glm_logit_results.summary()"
   ]
  },
  {
   "cell_type": "code",
   "execution_count": 58,
   "metadata": {},
   "outputs": [
    {
     "data": {
      "text/html": [
       "<table class=\"simpletable\">\n",
       "<caption>Generalized Linear Model Regression Results</caption>\n",
       "<tr>\n",
       "  <th>Dep. Variable:</th>   <td>Residential_satisfaction</td> <th>  No. Observations:  </th>  <td>  1169</td> \n",
       "</tr>\n",
       "<tr>\n",
       "  <th>Model:</th>                      <td>GLM</td>           <th>  Df Residuals:      </th>  <td>  1147</td> \n",
       "</tr>\n",
       "<tr>\n",
       "  <th>Model Family:</th>            <td>Binomial</td>         <th>  Df Model:          </th>  <td>    21</td> \n",
       "</tr>\n",
       "<tr>\n",
       "  <th>Link Function:</th>            <td>probit</td>          <th>  Scale:             </th> <td>  1.0000</td>\n",
       "</tr>\n",
       "<tr>\n",
       "  <th>Method:</th>                    <td>IRLS</td>           <th>  Log-Likelihood:    </th> <td> -369.83</td>\n",
       "</tr>\n",
       "<tr>\n",
       "  <th>Date:</th>                <td>Sun, 01 Aug 2021</td>     <th>  Deviance:          </th> <td>  739.67</td>\n",
       "</tr>\n",
       "<tr>\n",
       "  <th>Time:</th>                    <td>19:01:30</td>         <th>  Pearson chi2:      </th> <td>1.19e+03</td>\n",
       "</tr>\n",
       "<tr>\n",
       "  <th>No. Iterations:</th>              <td>7</td>            <th>                     </th>     <td> </td>   \n",
       "</tr>\n",
       "<tr>\n",
       "  <th>Covariance Type:</th>         <td>nonrobust</td>        <th>                     </th>     <td> </td>   \n",
       "</tr>\n",
       "</table>\n",
       "<table class=\"simpletable\">\n",
       "<tr>\n",
       "                                <td></td>                                   <th>coef</th>     <th>std err</th>      <th>z</th>      <th>P>|z|</th>  <th>[0.025</th>    <th>0.975]</th>  \n",
       "</tr>\n",
       "<tr>\n",
       "  <th>const</th>                                                         <td>    0.0328</td> <td>    0.235</td> <td>    0.140</td> <td> 0.889</td> <td>   -0.427</td> <td>    0.492</td>\n",
       "</tr>\n",
       "<tr>\n",
       "  <th>Woman</th>                                                         <td>    0.2232</td> <td>    0.111</td> <td>    2.018</td> <td> 0.044</td> <td>    0.006</td> <td>    0.440</td>\n",
       "</tr>\n",
       "<tr>\n",
       "  <th>Car</th>                                                           <td>   -0.2108</td> <td>    0.113</td> <td>   -1.859</td> <td> 0.063</td> <td>   -0.433</td> <td>    0.011</td>\n",
       "</tr>\n",
       "<tr>\n",
       "  <th>District_CIUTAT VELLA</th>                                         <td>   -0.6673</td> <td>    0.235</td> <td>   -2.843</td> <td> 0.004</td> <td>   -1.127</td> <td>   -0.207</td>\n",
       "</tr>\n",
       "<tr>\n",
       "  <th>District_GRÀCIA</th>                                               <td>   -0.4530</td> <td>    0.215</td> <td>   -2.108</td> <td> 0.035</td> <td>   -0.874</td> <td>   -0.032</td>\n",
       "</tr>\n",
       "<tr>\n",
       "  <th>District_HORTA - GUINARDÓ</th>                                     <td>   -0.1039</td> <td>    0.206</td> <td>   -0.505</td> <td> 0.614</td> <td>   -0.507</td> <td>    0.299</td>\n",
       "</tr>\n",
       "<tr>\n",
       "  <th>District_LES CORTS</th>                                            <td>   -0.1178</td> <td>    0.229</td> <td>   -0.515</td> <td> 0.607</td> <td>   -0.566</td> <td>    0.331</td>\n",
       "</tr>\n",
       "<tr>\n",
       "  <th>District_NOU BARRIS</th>                                           <td>   -0.2548</td> <td>    0.211</td> <td>   -1.205</td> <td> 0.228</td> <td>   -0.669</td> <td>    0.159</td>\n",
       "</tr>\n",
       "<tr>\n",
       "  <th>District_SANT ANDREU</th>                                          <td>   -0.1394</td> <td>    0.226</td> <td>   -0.616</td> <td> 0.538</td> <td>   -0.583</td> <td>    0.304</td>\n",
       "</tr>\n",
       "<tr>\n",
       "  <th>District_SANT MARTÍ</th>                                           <td>   -0.1314</td> <td>    0.206</td> <td>   -0.638</td> <td> 0.523</td> <td>   -0.535</td> <td>    0.272</td>\n",
       "</tr>\n",
       "<tr>\n",
       "  <th>District_SANTS - MONTJUÏC</th>                                     <td>   -0.3259</td> <td>    0.215</td> <td>   -1.514</td> <td> 0.130</td> <td>   -0.748</td> <td>    0.096</td>\n",
       "</tr>\n",
       "<tr>\n",
       "  <th>District_SARRIÀ - SANT GERVASI</th>                                <td>   -0.1514</td> <td>    0.231</td> <td>   -0.657</td> <td> 0.511</td> <td>   -0.603</td> <td>    0.300</td>\n",
       "</tr>\n",
       "<tr>\n",
       "  <th>BCN_evolution_IT HAS IMPROVED</th>                                 <td>    0.3678</td> <td>    0.161</td> <td>    2.282</td> <td> 0.022</td> <td>    0.052</td> <td>    0.684</td>\n",
       "</tr>\n",
       "<tr>\n",
       "  <th>BCN_evolution_IT IS THE SAME</th>                                  <td>    0.2855</td> <td>    0.145</td> <td>    1.975</td> <td> 0.048</td> <td>    0.002</td> <td>    0.569</td>\n",
       "</tr>\n",
       "<tr>\n",
       "  <th>BCN_future_IT WILL IMPROVE</th>                                    <td>    0.6284</td> <td>    0.126</td> <td>    4.971</td> <td> 0.000</td> <td>    0.381</td> <td>    0.876</td>\n",
       "</tr>\n",
       "<tr>\n",
       "  <th>BCN_future_IT WILL STAY THE SAME</th>                              <td>    0.2973</td> <td>    0.136</td> <td>    2.191</td> <td> 0.028</td> <td>    0.031</td> <td>    0.563</td>\n",
       "</tr>\n",
       "<tr>\n",
       "  <th>ASPHALT AND STREET CONSERVATION_GOOD</th>                          <td>    0.4082</td> <td>    0.168</td> <td>    2.432</td> <td> 0.015</td> <td>    0.079</td> <td>    0.737</td>\n",
       "</tr>\n",
       "<tr>\n",
       "  <th>ASPHALT AND STREET CONSERVATION_NEITHER BAD, NOR GOOD</th>         <td>    0.1094</td> <td>    0.147</td> <td>    0.744</td> <td> 0.457</td> <td>   -0.179</td> <td>    0.398</td>\n",
       "</tr>\n",
       "<tr>\n",
       "  <th>CITIZEN SECURITY IN THE CITY AS A WHOLE_GOOD</th>                  <td>    0.3205</td> <td>    0.162</td> <td>    1.981</td> <td> 0.048</td> <td>    0.003</td> <td>    0.638</td>\n",
       "</tr>\n",
       "<tr>\n",
       "  <th>CITIZEN SECURITY IN THE CITY AS A WHOLE_NEITHER BAD, NOR GOOD</th> <td>    0.4010</td> <td>    0.128</td> <td>    3.141</td> <td> 0.002</td> <td>    0.151</td> <td>    0.651</td>\n",
       "</tr>\n",
       "<tr>\n",
       "  <th>CITY MANAGEMENT_GOOD</th>                                          <td>    0.5663</td> <td>    0.182</td> <td>    3.116</td> <td> 0.002</td> <td>    0.210</td> <td>    0.923</td>\n",
       "</tr>\n",
       "<tr>\n",
       "  <th>CITY MANAGEMENT_NEITHER BAD, NOR GOOD</th>                         <td>    0.3292</td> <td>    0.151</td> <td>    2.186</td> <td> 0.029</td> <td>    0.034</td> <td>    0.624</td>\n",
       "</tr>\n",
       "</table>"
      ],
      "text/plain": [
       "<class 'statsmodels.iolib.summary.Summary'>\n",
       "\"\"\"\n",
       "                    Generalized Linear Model Regression Results                     \n",
       "====================================================================================\n",
       "Dep. Variable:     Residential_satisfaction   No. Observations:                 1169\n",
       "Model:                                  GLM   Df Residuals:                     1147\n",
       "Model Family:                      Binomial   Df Model:                           21\n",
       "Link Function:                       probit   Scale:                          1.0000\n",
       "Method:                                IRLS   Log-Likelihood:                -369.83\n",
       "Date:                      Sun, 01 Aug 2021   Deviance:                       739.67\n",
       "Time:                              19:01:30   Pearson chi2:                 1.19e+03\n",
       "No. Iterations:                           7                                         \n",
       "Covariance Type:                  nonrobust                                         \n",
       "=================================================================================================================================\n",
       "                                                                    coef    std err          z      P>|z|      [0.025      0.975]\n",
       "---------------------------------------------------------------------------------------------------------------------------------\n",
       "const                                                             0.0328      0.235      0.140      0.889      -0.427       0.492\n",
       "Woman                                                             0.2232      0.111      2.018      0.044       0.006       0.440\n",
       "Car                                                              -0.2108      0.113     -1.859      0.063      -0.433       0.011\n",
       "District_CIUTAT VELLA                                            -0.6673      0.235     -2.843      0.004      -1.127      -0.207\n",
       "District_GRÀCIA                                                  -0.4530      0.215     -2.108      0.035      -0.874      -0.032\n",
       "District_HORTA - GUINARDÓ                                        -0.1039      0.206     -0.505      0.614      -0.507       0.299\n",
       "District_LES CORTS                                               -0.1178      0.229     -0.515      0.607      -0.566       0.331\n",
       "District_NOU BARRIS                                              -0.2548      0.211     -1.205      0.228      -0.669       0.159\n",
       "District_SANT ANDREU                                             -0.1394      0.226     -0.616      0.538      -0.583       0.304\n",
       "District_SANT MARTÍ                                              -0.1314      0.206     -0.638      0.523      -0.535       0.272\n",
       "District_SANTS - MONTJUÏC                                        -0.3259      0.215     -1.514      0.130      -0.748       0.096\n",
       "District_SARRIÀ - SANT GERVASI                                   -0.1514      0.231     -0.657      0.511      -0.603       0.300\n",
       "BCN_evolution_IT HAS IMPROVED                                     0.3678      0.161      2.282      0.022       0.052       0.684\n",
       "BCN_evolution_IT IS THE SAME                                      0.2855      0.145      1.975      0.048       0.002       0.569\n",
       "BCN_future_IT WILL IMPROVE                                        0.6284      0.126      4.971      0.000       0.381       0.876\n",
       "BCN_future_IT WILL STAY THE SAME                                  0.2973      0.136      2.191      0.028       0.031       0.563\n",
       "ASPHALT AND STREET CONSERVATION_GOOD                              0.4082      0.168      2.432      0.015       0.079       0.737\n",
       "ASPHALT AND STREET CONSERVATION_NEITHER BAD, NOR GOOD             0.1094      0.147      0.744      0.457      -0.179       0.398\n",
       "CITIZEN SECURITY IN THE CITY AS A WHOLE_GOOD                      0.3205      0.162      1.981      0.048       0.003       0.638\n",
       "CITIZEN SECURITY IN THE CITY AS A WHOLE_NEITHER BAD, NOR GOOD     0.4010      0.128      3.141      0.002       0.151       0.651\n",
       "CITY MANAGEMENT_GOOD                                              0.5663      0.182      3.116      0.002       0.210       0.923\n",
       "CITY MANAGEMENT_NEITHER BAD, NOR GOOD                             0.3292      0.151      2.186      0.029       0.034       0.624\n",
       "=================================================================================================================================\n",
       "\"\"\""
      ]
     },
     "execution_count": 58,
     "metadata": {},
     "output_type": "execute_result"
    }
   ],
   "source": [
    "glm_probit_results.summary()"
   ]
  },
  {
   "cell_type": "code",
   "execution_count": 59,
   "metadata": {},
   "outputs": [
    {
     "data": {
      "text/html": [
       "<table class=\"simpletable\">\n",
       "<caption>Generalized Linear Model Regression Results</caption>\n",
       "<tr>\n",
       "  <th>Dep. Variable:</th>   <td>Residential_satisfaction</td> <th>  No. Observations:  </th>  <td>  1169</td> \n",
       "</tr>\n",
       "<tr>\n",
       "  <th>Model:</th>                      <td>GLM</td>           <th>  Df Residuals:      </th>  <td>  1147</td> \n",
       "</tr>\n",
       "<tr>\n",
       "  <th>Model Family:</th>            <td>Binomial</td>         <th>  Df Model:          </th>  <td>    21</td> \n",
       "</tr>\n",
       "<tr>\n",
       "  <th>Link Function:</th>            <td>cloglog</td>         <th>  Scale:             </th> <td>  1.0000</td>\n",
       "</tr>\n",
       "<tr>\n",
       "  <th>Method:</th>                    <td>IRLS</td>           <th>  Log-Likelihood:    </th> <td> -371.55</td>\n",
       "</tr>\n",
       "<tr>\n",
       "  <th>Date:</th>                <td>Sun, 01 Aug 2021</td>     <th>  Deviance:          </th> <td>  743.10</td>\n",
       "</tr>\n",
       "<tr>\n",
       "  <th>Time:</th>                    <td>19:01:30</td>         <th>  Pearson chi2:      </th> <td>1.16e+03</td>\n",
       "</tr>\n",
       "<tr>\n",
       "  <th>No. Iterations:</th>              <td>9</td>            <th>                     </th>     <td> </td>   \n",
       "</tr>\n",
       "<tr>\n",
       "  <th>Covariance Type:</th>         <td>nonrobust</td>        <th>                     </th>     <td> </td>   \n",
       "</tr>\n",
       "</table>\n",
       "<table class=\"simpletable\">\n",
       "<tr>\n",
       "                                <td></td>                                   <th>coef</th>     <th>std err</th>      <th>z</th>      <th>P>|z|</th>  <th>[0.025</th>    <th>0.975]</th>  \n",
       "</tr>\n",
       "<tr>\n",
       "  <th>const</th>                                                         <td>   -0.2111</td> <td>    0.205</td> <td>   -1.029</td> <td> 0.304</td> <td>   -0.613</td> <td>    0.191</td>\n",
       "</tr>\n",
       "<tr>\n",
       "  <th>Woman</th>                                                         <td>    0.1712</td> <td>    0.090</td> <td>    1.912</td> <td> 0.056</td> <td>   -0.004</td> <td>    0.347</td>\n",
       "</tr>\n",
       "<tr>\n",
       "  <th>Car</th>                                                           <td>   -0.1744</td> <td>    0.090</td> <td>   -1.934</td> <td> 0.053</td> <td>   -0.351</td> <td>    0.002</td>\n",
       "</tr>\n",
       "<tr>\n",
       "  <th>District_CIUTAT VELLA</th>                                         <td>   -0.5552</td> <td>    0.196</td> <td>   -2.834</td> <td> 0.005</td> <td>   -0.939</td> <td>   -0.171</td>\n",
       "</tr>\n",
       "<tr>\n",
       "  <th>District_GRÀCIA</th>                                               <td>   -0.3943</td> <td>    0.176</td> <td>   -2.246</td> <td> 0.025</td> <td>   -0.738</td> <td>   -0.050</td>\n",
       "</tr>\n",
       "<tr>\n",
       "  <th>District_HORTA - GUINARDÓ</th>                                     <td>   -0.1226</td> <td>    0.164</td> <td>   -0.746</td> <td> 0.456</td> <td>   -0.445</td> <td>    0.200</td>\n",
       "</tr>\n",
       "<tr>\n",
       "  <th>District_LES CORTS</th>                                            <td>   -0.0682</td> <td>    0.182</td> <td>   -0.375</td> <td> 0.708</td> <td>   -0.424</td> <td>    0.288</td>\n",
       "</tr>\n",
       "<tr>\n",
       "  <th>District_NOU BARRIS</th>                                           <td>   -0.1968</td> <td>    0.170</td> <td>   -1.156</td> <td> 0.248</td> <td>   -0.531</td> <td>    0.137</td>\n",
       "</tr>\n",
       "<tr>\n",
       "  <th>District_SANT ANDREU</th>                                          <td>   -0.1472</td> <td>    0.179</td> <td>   -0.821</td> <td> 0.412</td> <td>   -0.499</td> <td>    0.204</td>\n",
       "</tr>\n",
       "<tr>\n",
       "  <th>District_SANT MARTÍ</th>                                           <td>   -0.1597</td> <td>    0.160</td> <td>   -0.996</td> <td> 0.319</td> <td>   -0.474</td> <td>    0.155</td>\n",
       "</tr>\n",
       "<tr>\n",
       "  <th>District_SANTS - MONTJUÏC</th>                                     <td>   -0.2626</td> <td>    0.174</td> <td>   -1.505</td> <td> 0.132</td> <td>   -0.605</td> <td>    0.079</td>\n",
       "</tr>\n",
       "<tr>\n",
       "  <th>District_SARRIÀ - SANT GERVASI</th>                                <td>   -0.1407</td> <td>    0.182</td> <td>   -0.775</td> <td> 0.439</td> <td>   -0.497</td> <td>    0.215</td>\n",
       "</tr>\n",
       "<tr>\n",
       "  <th>BCN_evolution_IT HAS IMPROVED</th>                                 <td>    0.2926</td> <td>    0.119</td> <td>    2.459</td> <td> 0.014</td> <td>    0.059</td> <td>    0.526</td>\n",
       "</tr>\n",
       "<tr>\n",
       "  <th>BCN_evolution_IT IS THE SAME</th>                                  <td>    0.2314</td> <td>    0.112</td> <td>    2.071</td> <td> 0.038</td> <td>    0.012</td> <td>    0.450</td>\n",
       "</tr>\n",
       "<tr>\n",
       "  <th>BCN_future_IT WILL IMPROVE</th>                                    <td>    0.4854</td> <td>    0.105</td> <td>    4.603</td> <td> 0.000</td> <td>    0.279</td> <td>    0.692</td>\n",
       "</tr>\n",
       "<tr>\n",
       "  <th>BCN_future_IT WILL STAY THE SAME</th>                              <td>    0.2314</td> <td>    0.116</td> <td>    1.986</td> <td> 0.047</td> <td>    0.003</td> <td>    0.460</td>\n",
       "</tr>\n",
       "<tr>\n",
       "  <th>ASPHALT AND STREET CONSERVATION_GOOD</th>                          <td>    0.3172</td> <td>    0.142</td> <td>    2.235</td> <td> 0.025</td> <td>    0.039</td> <td>    0.595</td>\n",
       "</tr>\n",
       "<tr>\n",
       "  <th>ASPHALT AND STREET CONSERVATION_NEITHER BAD, NOR GOOD</th>         <td>    0.1035</td> <td>    0.131</td> <td>    0.792</td> <td> 0.428</td> <td>   -0.153</td> <td>    0.360</td>\n",
       "</tr>\n",
       "<tr>\n",
       "  <th>CITIZEN SECURITY IN THE CITY AS A WHOLE_GOOD</th>                  <td>    0.3037</td> <td>    0.133</td> <td>    2.288</td> <td> 0.022</td> <td>    0.044</td> <td>    0.564</td>\n",
       "</tr>\n",
       "<tr>\n",
       "  <th>CITIZEN SECURITY IN THE CITY AS A WHOLE_NEITHER BAD, NOR GOOD</th> <td>    0.3346</td> <td>    0.110</td> <td>    3.041</td> <td> 0.002</td> <td>    0.119</td> <td>    0.550</td>\n",
       "</tr>\n",
       "<tr>\n",
       "  <th>CITY MANAGEMENT_GOOD</th>                                          <td>    0.4543</td> <td>    0.159</td> <td>    2.855</td> <td> 0.004</td> <td>    0.142</td> <td>    0.766</td>\n",
       "</tr>\n",
       "<tr>\n",
       "  <th>CITY MANAGEMENT_NEITHER BAD, NOR GOOD</th>                         <td>    0.3024</td> <td>    0.141</td> <td>    2.138</td> <td> 0.033</td> <td>    0.025</td> <td>    0.580</td>\n",
       "</tr>\n",
       "</table>"
      ],
      "text/plain": [
       "<class 'statsmodels.iolib.summary.Summary'>\n",
       "\"\"\"\n",
       "                    Generalized Linear Model Regression Results                     \n",
       "====================================================================================\n",
       "Dep. Variable:     Residential_satisfaction   No. Observations:                 1169\n",
       "Model:                                  GLM   Df Residuals:                     1147\n",
       "Model Family:                      Binomial   Df Model:                           21\n",
       "Link Function:                      cloglog   Scale:                          1.0000\n",
       "Method:                                IRLS   Log-Likelihood:                -371.55\n",
       "Date:                      Sun, 01 Aug 2021   Deviance:                       743.10\n",
       "Time:                              19:01:30   Pearson chi2:                 1.16e+03\n",
       "No. Iterations:                           9                                         \n",
       "Covariance Type:                  nonrobust                                         \n",
       "=================================================================================================================================\n",
       "                                                                    coef    std err          z      P>|z|      [0.025      0.975]\n",
       "---------------------------------------------------------------------------------------------------------------------------------\n",
       "const                                                            -0.2111      0.205     -1.029      0.304      -0.613       0.191\n",
       "Woman                                                             0.1712      0.090      1.912      0.056      -0.004       0.347\n",
       "Car                                                              -0.1744      0.090     -1.934      0.053      -0.351       0.002\n",
       "District_CIUTAT VELLA                                            -0.5552      0.196     -2.834      0.005      -0.939      -0.171\n",
       "District_GRÀCIA                                                  -0.3943      0.176     -2.246      0.025      -0.738      -0.050\n",
       "District_HORTA - GUINARDÓ                                        -0.1226      0.164     -0.746      0.456      -0.445       0.200\n",
       "District_LES CORTS                                               -0.0682      0.182     -0.375      0.708      -0.424       0.288\n",
       "District_NOU BARRIS                                              -0.1968      0.170     -1.156      0.248      -0.531       0.137\n",
       "District_SANT ANDREU                                             -0.1472      0.179     -0.821      0.412      -0.499       0.204\n",
       "District_SANT MARTÍ                                              -0.1597      0.160     -0.996      0.319      -0.474       0.155\n",
       "District_SANTS - MONTJUÏC                                        -0.2626      0.174     -1.505      0.132      -0.605       0.079\n",
       "District_SARRIÀ - SANT GERVASI                                   -0.1407      0.182     -0.775      0.439      -0.497       0.215\n",
       "BCN_evolution_IT HAS IMPROVED                                     0.2926      0.119      2.459      0.014       0.059       0.526\n",
       "BCN_evolution_IT IS THE SAME                                      0.2314      0.112      2.071      0.038       0.012       0.450\n",
       "BCN_future_IT WILL IMPROVE                                        0.4854      0.105      4.603      0.000       0.279       0.692\n",
       "BCN_future_IT WILL STAY THE SAME                                  0.2314      0.116      1.986      0.047       0.003       0.460\n",
       "ASPHALT AND STREET CONSERVATION_GOOD                              0.3172      0.142      2.235      0.025       0.039       0.595\n",
       "ASPHALT AND STREET CONSERVATION_NEITHER BAD, NOR GOOD             0.1035      0.131      0.792      0.428      -0.153       0.360\n",
       "CITIZEN SECURITY IN THE CITY AS A WHOLE_GOOD                      0.3037      0.133      2.288      0.022       0.044       0.564\n",
       "CITIZEN SECURITY IN THE CITY AS A WHOLE_NEITHER BAD, NOR GOOD     0.3346      0.110      3.041      0.002       0.119       0.550\n",
       "CITY MANAGEMENT_GOOD                                              0.4543      0.159      2.855      0.004       0.142       0.766\n",
       "CITY MANAGEMENT_NEITHER BAD, NOR GOOD                             0.3024      0.141      2.138      0.033       0.025       0.580\n",
       "=================================================================================================================================\n",
       "\"\"\""
      ]
     },
     "execution_count": 59,
     "metadata": {},
     "output_type": "execute_result"
    }
   ],
   "source": [
    "glm_scobit_results.summary()"
   ]
  },
  {
   "cell_type": "code",
   "execution_count": null,
   "metadata": {},
   "outputs": [],
   "source": []
  },
  {
   "cell_type": "code",
   "execution_count": 60,
   "metadata": {},
   "outputs": [
    {
     "data": {
      "text/html": [
       "<div>\n",
       "<style scoped>\n",
       "    .dataframe tbody tr th:only-of-type {\n",
       "        vertical-align: middle;\n",
       "    }\n",
       "\n",
       "    .dataframe tbody tr th {\n",
       "        vertical-align: top;\n",
       "    }\n",
       "\n",
       "    .dataframe thead th {\n",
       "        text-align: right;\n",
       "    }\n",
       "</style>\n",
       "<table border=\"1\" class=\"dataframe\">\n",
       "  <thead>\n",
       "    <tr style=\"text-align: right;\">\n",
       "      <th>y_predict</th>\n",
       "      <th>0.0</th>\n",
       "      <th>1.0</th>\n",
       "    </tr>\n",
       "    <tr>\n",
       "      <th>y</th>\n",
       "      <th></th>\n",
       "      <th></th>\n",
       "    </tr>\n",
       "  </thead>\n",
       "  <tbody>\n",
       "    <tr>\n",
       "      <th>0</th>\n",
       "      <td>21</td>\n",
       "      <td>128</td>\n",
       "    </tr>\n",
       "    <tr>\n",
       "      <th>1</th>\n",
       "      <td>9</td>\n",
       "      <td>1011</td>\n",
       "    </tr>\n",
       "  </tbody>\n",
       "</table>\n",
       "</div>"
      ],
      "text/plain": [
       "y_predict  0.0   1.0\n",
       "y                   \n",
       "0           21   128\n",
       "1            9  1011"
      ]
     },
     "execution_count": 60,
     "metadata": {},
     "output_type": "execute_result"
    }
   ],
   "source": [
    "classification_table(glm_logit_results)"
   ]
  },
  {
   "cell_type": "code",
   "execution_count": 61,
   "metadata": {},
   "outputs": [
    {
     "data": {
      "text/html": [
       "<div>\n",
       "<style scoped>\n",
       "    .dataframe tbody tr th:only-of-type {\n",
       "        vertical-align: middle;\n",
       "    }\n",
       "\n",
       "    .dataframe tbody tr th {\n",
       "        vertical-align: top;\n",
       "    }\n",
       "\n",
       "    .dataframe thead th {\n",
       "        text-align: right;\n",
       "    }\n",
       "</style>\n",
       "<table border=\"1\" class=\"dataframe\">\n",
       "  <thead>\n",
       "    <tr style=\"text-align: right;\">\n",
       "      <th>y_predict</th>\n",
       "      <th>0.0</th>\n",
       "      <th>1.0</th>\n",
       "    </tr>\n",
       "    <tr>\n",
       "      <th>y</th>\n",
       "      <th></th>\n",
       "      <th></th>\n",
       "    </tr>\n",
       "  </thead>\n",
       "  <tbody>\n",
       "    <tr>\n",
       "      <th>0</th>\n",
       "      <td>17</td>\n",
       "      <td>132</td>\n",
       "    </tr>\n",
       "    <tr>\n",
       "      <th>1</th>\n",
       "      <td>5</td>\n",
       "      <td>1015</td>\n",
       "    </tr>\n",
       "  </tbody>\n",
       "</table>\n",
       "</div>"
      ],
      "text/plain": [
       "y_predict  0.0   1.0\n",
       "y                   \n",
       "0           17   132\n",
       "1            5  1015"
      ]
     },
     "execution_count": 61,
     "metadata": {},
     "output_type": "execute_result"
    }
   ],
   "source": [
    "classification_table(glm_probit_results)"
   ]
  },
  {
   "cell_type": "code",
   "execution_count": 62,
   "metadata": {},
   "outputs": [
    {
     "data": {
      "text/html": [
       "<div>\n",
       "<style scoped>\n",
       "    .dataframe tbody tr th:only-of-type {\n",
       "        vertical-align: middle;\n",
       "    }\n",
       "\n",
       "    .dataframe tbody tr th {\n",
       "        vertical-align: top;\n",
       "    }\n",
       "\n",
       "    .dataframe thead th {\n",
       "        text-align: right;\n",
       "    }\n",
       "</style>\n",
       "<table border=\"1\" class=\"dataframe\">\n",
       "  <thead>\n",
       "    <tr style=\"text-align: right;\">\n",
       "      <th>y_predict</th>\n",
       "      <th>0.0</th>\n",
       "      <th>1.0</th>\n",
       "    </tr>\n",
       "    <tr>\n",
       "      <th>y</th>\n",
       "      <th></th>\n",
       "      <th></th>\n",
       "    </tr>\n",
       "  </thead>\n",
       "  <tbody>\n",
       "    <tr>\n",
       "      <th>0</th>\n",
       "      <td>5</td>\n",
       "      <td>144</td>\n",
       "    </tr>\n",
       "    <tr>\n",
       "      <th>1</th>\n",
       "      <td>4</td>\n",
       "      <td>1016</td>\n",
       "    </tr>\n",
       "  </tbody>\n",
       "</table>\n",
       "</div>"
      ],
      "text/plain": [
       "y_predict  0.0   1.0\n",
       "y                   \n",
       "0            5   144\n",
       "1            4  1016"
      ]
     },
     "execution_count": 62,
     "metadata": {},
     "output_type": "execute_result"
    }
   ],
   "source": [
    "classification_table(glm_scobit_results)"
   ]
  },
  {
   "cell_type": "code",
   "execution_count": null,
   "metadata": {},
   "outputs": [],
   "source": []
  },
  {
   "cell_type": "code",
   "execution_count": 63,
   "metadata": {},
   "outputs": [
    {
     "data": {
      "image/png": "[encoded data removed]",
      "text/plain": [
       "<Figure size 432x288 with 1 Axes>"
      ]
     },
     "metadata": {},
     "output_type": "display_data"
    }
   ],
   "source": [
    "plot_roc_auc(glm_logit_results)"
   ]
  },
  {
   "cell_type": "code",
   "execution_count": 64,
   "metadata": {},
   "outputs": [
    {
     "data": {
      "image/png": "[encoded data removed]",
      "text/plain": [
       "<Figure size 432x288 with 1 Axes>"
      ]
     },
     "metadata": {},
     "output_type": "display_data"
    }
   ],
   "source": [
    "plot_roc_auc(glm_probit_results)"
   ]
  },
  {
   "cell_type": "code",
   "execution_count": 65,
   "metadata": {},
   "outputs": [
    {
     "data": {
      "image/png": "[encoded data removed]",
      "text/plain": [
       "<Figure size 432x288 with 1 Axes>"
      ]
     },
     "metadata": {},
     "output_type": "display_data"
    }
   ],
   "source": [
    "plot_roc_auc(glm_scobit_results)"
   ]
  },
  {
   "cell_type": "code",
   "execution_count": null,
   "metadata": {},
   "outputs": [],
   "source": []
  },
  {
   "cell_type": "code",
   "execution_count": 66,
   "metadata": {},
   "outputs": [
    {
     "name": "stdout",
     "output_type": "stream",
     "text": [
      "Logit\n",
      "Pseudo R2: 0.1733075070278497\n",
      "Adj Count R2: 0.081\n"
     ]
    }
   ],
   "source": [
    "print(\"Logit\")\n",
    "pseudo_r2(glm_logit_results)\n",
    "adj_count_r2(glm_logit_results)"
   ]
  },
  {
   "cell_type": "code",
   "execution_count": 67,
   "metadata": {},
   "outputs": [
    {
     "name": "stdout",
     "output_type": "stream",
     "text": [
      "Probit\n",
      "Pseudo R2: 0.17079109668181236\n",
      "Adj Count R2: 0.081\n"
     ]
    }
   ],
   "source": [
    "print(\"Probit\")\n",
    "pseudo_r2(glm_probit_results)\n",
    "adj_count_r2(glm_probit_results)"
   ]
  },
  {
   "cell_type": "code",
   "execution_count": 68,
   "metadata": {},
   "outputs": [
    {
     "name": "stdout",
     "output_type": "stream",
     "text": [
      "Scobit\n",
      "Pseudo R2: 0.16694317194578423\n",
      "Adj Count R2: 0.007\n"
     ]
    }
   ],
   "source": [
    "print(\"Scobit\")\n",
    "pseudo_r2(glm_scobit_results)\n",
    "adj_count_r2(glm_scobit_results)"
   ]
  },
  {
   "cell_type": "code",
   "execution_count": null,
   "metadata": {},
   "outputs": [],
   "source": []
  },
  {
   "cell_type": "code",
   "execution_count": 69,
   "metadata": {},
   "outputs": [
    {
     "name": "stdout",
     "output_type": "stream",
     "text": [
      "Logit \n",
      " AIC: 781.4207268010628 BIC: -7364.8771170074\n"
     ]
    },
    {
     "name": "stderr",
     "output_type": "stream",
     "text": [
      "C:\\Users\\THINK\\anaconda3\\lib\\site-packages\\statsmodels\\genmod\\generalized_linear_model.py:1731: FutureWarning: The bic value is computed using the deviance formula. After 0.13 this will change to the log-likelihood based formula. This change has no impact on the relative rank of models compared using BIC. You can directly access the log-likelihood version using the `bic_llf` attribute. You can suppress this message by calling statsmodels.genmod.generalized_linear_model.SET_USE_BIC_LLF with True to get the LLF-based version now or False to retainthe deviance version.\n",
      "  FutureWarning\n"
     ]
    }
   ],
   "source": [
    "print(\"Logit \\n AIC:\", glm_logit_results.aic, \"BIC:\", glm_logit_results.bic)"
   ]
  },
  {
   "cell_type": "code",
   "execution_count": 70,
   "metadata": {},
   "outputs": [
    {
     "name": "stdout",
     "output_type": "stream",
     "text": [
      "Probit \n",
      " AIC: 783.6653983833979 BIC: -7362.632445425064\n"
     ]
    }
   ],
   "source": [
    "print(\"Probit \\n AIC:\", glm_probit_results.aic, \"BIC:\", glm_probit_results.bic)"
   ]
  },
  {
   "cell_type": "code",
   "execution_count": 71,
   "metadata": {},
   "outputs": [
    {
     "name": "stdout",
     "output_type": "stream",
     "text": [
      "Scobit \n",
      " AIC: 787.0977985559406 BIC: -7359.200045252522\n"
     ]
    }
   ],
   "source": [
    "print(\"Scobit \\n AIC:\", glm_scobit_results.aic, \"BIC:\", glm_scobit_results.bic)"
   ]
  },
  {
   "cell_type": "code",
   "execution_count": null,
   "metadata": {},
   "outputs": [],
   "source": []
  },
  {
   "cell_type": "code",
   "execution_count": 72,
   "metadata": {},
   "outputs": [
    {
     "data": {
      "text/plain": [
       "const                                                            0.942189\n",
       "Woman                                                            1.538951\n",
       "Car                                                              0.685421\n",
       "District_CIUTAT VELLA                                            0.299103\n",
       "District_GRÀCIA                                                  0.449577\n",
       "District_HORTA - GUINARDÓ                                        0.869795\n",
       "District_LES CORTS                                               0.768865\n",
       "District_NOU BARRIS                                              0.611033\n",
       "District_SANT ANDREU                                             0.824000\n",
       "District_SANT MARTÍ                                              0.865051\n",
       "District_SANTS - MONTJUÏC                                        0.544360\n",
       "District_SARRIÀ - SANT GERVASI                                   0.777224\n",
       "BCN_evolution_IT HAS IMPROVED                                    2.025383\n",
       "BCN_evolution_IT IS THE SAME                                     1.704053\n",
       "BCN_future_IT WILL IMPROVE                                       3.332307\n",
       "BCN_future_IT WILL STAY THE SAME                                 1.733981\n",
       "ASPHALT AND STREET CONSERVATION_GOOD                             2.214925\n",
       "ASPHALT AND STREET CONSERVATION_NEITHER BAD, NOR GOOD            1.199538\n",
       "CITIZEN SECURITY IN THE CITY AS A WHOLE_GOOD                     1.646957\n",
       "CITIZEN SECURITY IN THE CITY AS A WHOLE_NEITHER BAD, NOR GOOD    2.066761\n",
       "CITY MANAGEMENT_GOOD                                             2.957445\n",
       "CITY MANAGEMENT_NEITHER BAD, NOR GOOD                            1.744521\n",
       "dtype: float64"
      ]
     },
     "execution_count": 72,
     "metadata": {},
     "output_type": "execute_result"
    }
   ],
   "source": [
    "odds_ratios(glm_logit_results)"
   ]
  },
  {
   "cell_type": "code",
   "execution_count": null,
   "metadata": {},
   "outputs": [],
   "source": []
  },
  {
   "cell_type": "markdown",
   "metadata": {},
   "source": [
    "Results of AIC, BIC, McFadden's pseudo R2 and adjusted count R2 indicate that the best model is logit."
   ]
  },
  {
   "cell_type": "code",
   "execution_count": null,
   "metadata": {},
   "outputs": [],
   "source": []
  },
  {
   "cell_type": "code",
   "execution_count": 73,
   "metadata": {},
   "outputs": [
    {
     "data": {
      "text/plain": [
       "(1169, 22)"
      ]
     },
     "execution_count": 73,
     "metadata": {},
     "output_type": "execute_result"
    }
   ],
   "source": [
    "x.shape"
   ]
  },
  {
   "cell_type": "code",
   "execution_count": null,
   "metadata": {},
   "outputs": [],
   "source": []
  },
  {
   "cell_type": "markdown",
   "metadata": {},
   "source": [
    "### Marginal effects for logit model"
   ]
  },
  {
   "cell_type": "code",
   "execution_count": 74,
   "metadata": {},
   "outputs": [
    {
     "name": "stdout",
     "output_type": "stream",
     "text": [
      "Optimization terminated successfully.\n",
      "         Current function value: 0.315407\n",
      "         Iterations 7\n",
      "                              Logit Regression Results                              \n",
      "====================================================================================\n",
      "Dep. Variable:     Residential_satisfaction   No. Observations:                 1169\n",
      "Model:                                Logit   Df Residuals:                     1147\n",
      "Method:                                 MLE   Df Model:                           21\n",
      "Date:                      Sun, 01 Aug 2021   Pseudo R-squ.:                  0.1733\n",
      "Time:                              19:01:33   Log-Likelihood:                -368.71\n",
      "converged:                             True   LL-Null:                       -446.01\n",
      "Covariance Type:                  nonrobust   LLR p-value:                 2.344e-22\n",
      "=================================================================================================================================\n",
      "                                                                    coef    std err          z      P>|z|      [0.025      0.975]\n",
      "---------------------------------------------------------------------------------------------------------------------------------\n",
      "const                                                            -0.0595      0.421     -0.142      0.887      -0.884       0.765\n",
      "Woman                                                             0.4311      0.205      2.101      0.036       0.029       0.833\n",
      "Car                                                              -0.3777      0.213     -1.772      0.076      -0.795       0.040\n",
      "District_CIUTAT VELLA                                            -1.2070      0.428     -2.820      0.005      -2.046      -0.368\n",
      "District_GRÀCIA                                                  -0.7994      0.396     -2.016      0.044      -1.576      -0.022\n",
      "District_HORTA - GUINARDÓ                                        -0.1395      0.384     -0.363      0.716      -0.892       0.613\n",
      "District_LES CORTS                                               -0.2628      0.426     -0.617      0.537      -1.098       0.572\n",
      "District_NOU BARRIS                                              -0.4926      0.391     -1.261      0.207      -1.258       0.273\n",
      "District_SANT ANDREU                                             -0.1936      0.427     -0.453      0.651      -1.031       0.644\n",
      "District_SANT MARTÍ                                              -0.1450      0.395     -0.367      0.713      -0.919       0.629\n",
      "District_SANTS - MONTJUÏC                                        -0.6081      0.397     -1.533      0.125      -1.386       0.169\n",
      "District_SARRIÀ - SANT GERVASI                                   -0.2520      0.434     -0.580      0.562      -1.103       0.599\n",
      "BCN_evolution_IT HAS IMPROVED                                     0.7058      0.327      2.155      0.031       0.064       1.348\n",
      "BCN_evolution_IT IS THE SAME                                      0.5330      0.279      1.913      0.056      -0.013       1.079\n",
      "BCN_future_IT WILL IMPROVE                                        1.2037      0.235      5.126      0.000       0.743       1.664\n",
      "BCN_future_IT WILL STAY THE SAME                                  0.5504      0.243      2.270      0.023       0.075       1.026\n",
      "ASPHALT AND STREET CONSERVATION_GOOD                              0.7952      0.308      2.585      0.010       0.192       1.398\n",
      "ASPHALT AND STREET CONSERVATION_NEITHER BAD, NOR GOOD             0.1819      0.258      0.706      0.480      -0.323       0.687\n",
      "CITIZEN SECURITY IN THE CITY AS A WHOLE_GOOD                      0.4989      0.299      1.670      0.095      -0.087       1.084\n",
      "CITIZEN SECURITY IN THE CITY AS A WHOLE_NEITHER BAD, NOR GOOD     0.7260      0.229      3.170      0.002       0.277       1.175\n",
      "CITY MANAGEMENT_GOOD                                              1.0843      0.333      3.261      0.001       0.433       1.736\n",
      "CITY MANAGEMENT_NEITHER BAD, NOR GOOD                             0.5565      0.258      2.159      0.031       0.051       1.062\n",
      "=================================================================================================================================\n"
     ]
    }
   ],
   "source": [
    "logit_mod = sm.Logit(y, x)\n",
    "logit_res = logit_mod.fit()\n",
    "print(logit_res.summary())"
   ]
  },
  {
   "cell_type": "code",
   "execution_count": 75,
   "metadata": {},
   "outputs": [
    {
     "name": "stdout",
     "output_type": "stream",
     "text": [
      "           Logit Marginal Effects          \n",
      "===========================================\n",
      "Dep. Variable:     Residential_satisfaction\n",
      "Method:                                dydx\n",
      "At:                                 overall\n",
      "=================================================================================================================================\n",
      "                                                                   dy/dx    std err          z      P>|z|      [0.025      0.975]\n",
      "---------------------------------------------------------------------------------------------------------------------------------\n",
      "Woman                                                             0.0407      0.019      2.107      0.035       0.003       0.078\n",
      "Car                                                              -0.0356      0.020     -1.778      0.075      -0.075       0.004\n",
      "District_CIUTAT VELLA                                            -0.1138      0.040     -2.835      0.005      -0.192      -0.035\n",
      "District_GRÀCIA                                                  -0.0754      0.037     -2.021      0.043      -0.148      -0.002\n",
      "District_HORTA - GUINARDÓ                                        -0.0132      0.036     -0.363      0.716      -0.084       0.058\n",
      "District_LES CORTS                                               -0.0248      0.040     -0.617      0.537      -0.103       0.054\n",
      "District_NOU BARRIS                                              -0.0465      0.037     -1.262      0.207      -0.119       0.026\n",
      "District_SANT ANDREU                                             -0.0183      0.040     -0.453      0.651      -0.097       0.061\n",
      "District_SANT MARTÍ                                              -0.0137      0.037     -0.367      0.713      -0.087       0.059\n",
      "District_SANTS - MONTJUÏC                                        -0.0573      0.037     -1.535      0.125      -0.131       0.016\n",
      "District_SARRIÀ - SANT GERVASI                                   -0.0238      0.041     -0.581      0.562      -0.104       0.056\n",
      "BCN_evolution_IT HAS IMPROVED                                     0.0666      0.031      2.153      0.031       0.006       0.127\n",
      "BCN_evolution_IT IS THE SAME                                      0.0503      0.026      1.914      0.056      -0.001       0.102\n",
      "BCN_future_IT WILL IMPROVE                                        0.1135      0.022      5.228      0.000       0.071       0.156\n",
      "BCN_future_IT WILL STAY THE SAME                                  0.0519      0.023      2.286      0.022       0.007       0.096\n",
      "ASPHALT AND STREET CONSERVATION_GOOD                              0.0750      0.029      2.597      0.009       0.018       0.132\n",
      "ASPHALT AND STREET CONSERVATION_NEITHER BAD, NOR GOOD             0.0172      0.024      0.706      0.480      -0.030       0.065\n",
      "CITIZEN SECURITY IN THE CITY AS A WHOLE_GOOD                      0.0470      0.028      1.676      0.094      -0.008       0.102\n",
      "CITIZEN SECURITY IN THE CITY AS A WHOLE_NEITHER BAD, NOR GOOD     0.0685      0.021      3.207      0.001       0.027       0.110\n",
      "CITY MANAGEMENT_GOOD                                              0.1023      0.031      3.290      0.001       0.041       0.163\n",
      "CITY MANAGEMENT_NEITHER BAD, NOR GOOD                             0.0525      0.024      2.176      0.030       0.005       0.100\n",
      "=================================================================================================================================\n"
     ]
    }
   ],
   "source": [
    "logit_margeff = logit_res.get_margeff()\n",
    "print(logit_margeff.summary())"
   ]
  },
  {
   "cell_type": "code",
   "execution_count": null,
   "metadata": {},
   "outputs": [],
   "source": []
  },
  {
   "cell_type": "code",
   "execution_count": null,
   "metadata": {},
   "outputs": [],
   "source": []
  },
  {
   "cell_type": "code",
   "execution_count": null,
   "metadata": {},
   "outputs": [],
   "source": []
  }
 ],
 "metadata": {
  "kernelspec": {
   "display_name": "Python 3",
   "language": "python",
   "name": "python3"
  },
  "language_info": {
   "codemirror_mode": {
    "name": "ipython",
    "version": 3
   },
   "file_extension": ".py",
   "mimetype": "text/x-python",
   "name": "python",
   "nbconvert_exporter": "python",
   "pygments_lexer": "ipython3",
   "version": "3.7.6"
  }
 },
 "nbformat": 4,
 "nbformat_minor": 4
}
