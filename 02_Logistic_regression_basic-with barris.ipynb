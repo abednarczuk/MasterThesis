{
 "cells": [
  {
   "cell_type": "markdown",
   "metadata": {},
   "source": [
    "Aleksandra Bednarczuk"
   ]
  },
  {
   "cell_type": "markdown",
   "metadata": {},
   "source": [
    "# Predictors of elderly citizens willingness to stay in the neighbourhood\n",
    "# Logistic regression"
   ]
  },
  {
   "cell_type": "code",
   "execution_count": 1,
   "metadata": {},
   "outputs": [],
   "source": [
    "import pandas as pd\n",
    "import numpy as np\n",
    "\n",
    "import matplotlib.pyplot as plt"
   ]
  },
  {
   "cell_type": "code",
   "execution_count": 2,
   "metadata": {},
   "outputs": [],
   "source": [
    "from imblearn.over_sampling import SMOTE\n",
    "\n",
    "import statsmodels.api as sm\n",
    "import statsmodels.formula.api as smf\n",
    "\n",
    "from sklearn.model_selection import train_test_split\n",
    "from sklearn.feature_selection import RFE\n",
    "from sklearn.linear_model import LogisticRegression\n",
    "\n",
    "from sklearn.metrics import accuracy_score\n",
    "from sklearn.metrics import classification_report\n",
    "from sklearn.metrics import confusion_matrix\n",
    "from sklearn.metrics import roc_auc_score\n",
    "from sklearn.metrics import roc_curve\n",
    "from sklearn.metrics import r2_score\n",
    "\n",
    "from sklearn.feature_selection import SelectKBest\n",
    "from sklearn.feature_selection import chi2\n",
    "from sklearn.feature_selection import mutual_info_classif\n",
    "from sklearn.feature_selection import f_classif\n",
    "from sklearn.preprocessing import LabelEncoder\n",
    "from sklearn.preprocessing import OrdinalEncoder\n",
    "\n",
    "from scipy import stats"
   ]
  },
  {
   "cell_type": "code",
   "execution_count": null,
   "metadata": {},
   "outputs": [],
   "source": []
  },
  {
   "cell_type": "code",
   "execution_count": 3,
   "metadata": {},
   "outputs": [],
   "source": [
    "data = pd.read_pickle(\"survey_transformed.pkl\")"
   ]
  },
  {
   "cell_type": "code",
   "execution_count": 4,
   "metadata": {},
   "outputs": [
    {
     "data": {
      "text/html": [
       "<div>\n",
       "<style scoped>\n",
       "    .dataframe tbody tr th:only-of-type {\n",
       "        vertical-align: middle;\n",
       "    }\n",
       "\n",
       "    .dataframe tbody tr th {\n",
       "        vertical-align: top;\n",
       "    }\n",
       "\n",
       "    .dataframe thead th {\n",
       "        text-align: right;\n",
       "    }\n",
       "</style>\n",
       "<table border=\"1\" class=\"dataframe\">\n",
       "  <thead>\n",
       "    <tr style=\"text-align: right;\">\n",
       "      <th></th>\n",
       "      <th>ANY</th>\n",
       "      <th>NOM_DISTRICTE</th>\n",
       "      <th>Would_not_stay_in_the_neighborhood</th>\n",
       "      <th>Gender</th>\n",
       "      <th>Time_living_in_barri</th>\n",
       "      <th>Barri_evolution</th>\n",
       "      <th>Barri_future</th>\n",
       "      <th>Barri_satisfaction_of_living</th>\n",
       "      <th>Barri_comparison</th>\n",
       "      <th>GARBAGE COLLECTION</th>\n",
       "      <th>...</th>\n",
       "      <th>Social_class</th>\n",
       "      <th>Living_alone</th>\n",
       "      <th>BCN_evolution</th>\n",
       "      <th>BCN_future</th>\n",
       "      <th>BCN_satisfaction_of_living</th>\n",
       "      <th>BCN_transport</th>\n",
       "      <th>BCN_over_barri_evolution</th>\n",
       "      <th>BCN_over_barri_future</th>\n",
       "      <th>BCN_over_barri_satisfaction_of_living</th>\n",
       "      <th>BCN_over_barri_transport</th>\n",
       "    </tr>\n",
       "  </thead>\n",
       "  <tbody>\n",
       "    <tr>\n",
       "      <th>0</th>\n",
       "      <td>2011</td>\n",
       "      <td>EIXAMPLE</td>\n",
       "      <td>0.0</td>\n",
       "      <td>1</td>\n",
       "      <td>MORE THAN 10 YEARS</td>\n",
       "      <td>IT IS WORSE</td>\n",
       "      <td>IT WILL GET WORSE</td>\n",
       "      <td>NOT SATISFIED</td>\n",
       "      <td>NEITHER THE BEST, NOR THE WORST</td>\n",
       "      <td>GOOD</td>\n",
       "      <td>...</td>\n",
       "      <td>MIDDLE-HIGH</td>\n",
       "      <td>1</td>\n",
       "      <td>IT IS WORSE</td>\n",
       "      <td>IT WILL GET WORSE</td>\n",
       "      <td>SATISFIED</td>\n",
       "      <td>GOOD</td>\n",
       "      <td>0</td>\n",
       "      <td>0</td>\n",
       "      <td>1</td>\n",
       "      <td>0</td>\n",
       "    </tr>\n",
       "    <tr>\n",
       "      <th>1</th>\n",
       "      <td>2011</td>\n",
       "      <td>EIXAMPLE</td>\n",
       "      <td>0.0</td>\n",
       "      <td>1</td>\n",
       "      <td>MORE THAN 10 YEARS</td>\n",
       "      <td>IT IS THE SAME</td>\n",
       "      <td>IT WILL STAY THE SAME</td>\n",
       "      <td>SATISFIED</td>\n",
       "      <td>NEITHER THE BEST, NOR THE WORST</td>\n",
       "      <td>BAD</td>\n",
       "      <td>...</td>\n",
       "      <td>MIDDLE-MIDDLE</td>\n",
       "      <td>0</td>\n",
       "      <td>IT IS WORSE</td>\n",
       "      <td>IT WILL GET WORSE</td>\n",
       "      <td>SATISFIED</td>\n",
       "      <td>NORMAL</td>\n",
       "      <td>0</td>\n",
       "      <td>0</td>\n",
       "      <td>0</td>\n",
       "      <td>0</td>\n",
       "    </tr>\n",
       "    <tr>\n",
       "      <th>2</th>\n",
       "      <td>2011</td>\n",
       "      <td>EIXAMPLE</td>\n",
       "      <td>0.0</td>\n",
       "      <td>1</td>\n",
       "      <td>MORE THAN 10 YEARS</td>\n",
       "      <td>IT IS WORSE</td>\n",
       "      <td>IT WILL STAY THE SAME</td>\n",
       "      <td>SATISFIED</td>\n",
       "      <td>NEITHER THE BEST, NOR THE WORST</td>\n",
       "      <td>GOOD</td>\n",
       "      <td>...</td>\n",
       "      <td>MIDDLE-MIDDLE</td>\n",
       "      <td>1</td>\n",
       "      <td>IT IS THE SAME</td>\n",
       "      <td>IT WILL IMPROVE</td>\n",
       "      <td>SATISFIED</td>\n",
       "      <td>GOOD</td>\n",
       "      <td>1</td>\n",
       "      <td>1</td>\n",
       "      <td>0</td>\n",
       "      <td>0</td>\n",
       "    </tr>\n",
       "    <tr>\n",
       "      <th>3</th>\n",
       "      <td>2011</td>\n",
       "      <td>EIXAMPLE</td>\n",
       "      <td>0.0</td>\n",
       "      <td>1</td>\n",
       "      <td>LESS THAN 10 YEARS</td>\n",
       "      <td>IT IS WORSE</td>\n",
       "      <td>IT WILL GET WORSE</td>\n",
       "      <td>SATISFIED</td>\n",
       "      <td>ONE OF THE BEST</td>\n",
       "      <td>GOOD</td>\n",
       "      <td>...</td>\n",
       "      <td>MIDDLE-MIDDLE</td>\n",
       "      <td>1</td>\n",
       "      <td>IT IS WORSE</td>\n",
       "      <td>IT WILL STAY THE SAME</td>\n",
       "      <td>SATISFIED</td>\n",
       "      <td>GOOD</td>\n",
       "      <td>0</td>\n",
       "      <td>1</td>\n",
       "      <td>0</td>\n",
       "      <td>0</td>\n",
       "    </tr>\n",
       "    <tr>\n",
       "      <th>4</th>\n",
       "      <td>2011</td>\n",
       "      <td>EIXAMPLE</td>\n",
       "      <td>1.0</td>\n",
       "      <td>0</td>\n",
       "      <td>MORE THAN 10 YEARS</td>\n",
       "      <td>IT IS THE SAME</td>\n",
       "      <td>IT WILL STAY THE SAME</td>\n",
       "      <td>NOT SATISFIED</td>\n",
       "      <td>NEITHER THE BEST, NOR THE WORST</td>\n",
       "      <td>BAD</td>\n",
       "      <td>...</td>\n",
       "      <td>MIDDLE-LOW</td>\n",
       "      <td>0</td>\n",
       "      <td>IT IS THE SAME</td>\n",
       "      <td>IT WILL STAY THE SAME</td>\n",
       "      <td>SATISFIED</td>\n",
       "      <td>NORMAL</td>\n",
       "      <td>0</td>\n",
       "      <td>0</td>\n",
       "      <td>1</td>\n",
       "      <td>0</td>\n",
       "    </tr>\n",
       "  </tbody>\n",
       "</table>\n",
       "<p>5 rows × 35 columns</p>\n",
       "</div>"
      ],
      "text/plain": [
       "    ANY NOM_DISTRICTE  Would_not_stay_in_the_neighborhood  Gender  \\\n",
       "0  2011      EIXAMPLE                                 0.0       1   \n",
       "1  2011      EIXAMPLE                                 0.0       1   \n",
       "2  2011      EIXAMPLE                                 0.0       1   \n",
       "3  2011      EIXAMPLE                                 0.0       1   \n",
       "4  2011      EIXAMPLE                                 1.0       0   \n",
       "\n",
       "  Time_living_in_barri Barri_evolution           Barri_future  \\\n",
       "0   MORE THAN 10 YEARS     IT IS WORSE      IT WILL GET WORSE   \n",
       "1   MORE THAN 10 YEARS  IT IS THE SAME  IT WILL STAY THE SAME   \n",
       "2   MORE THAN 10 YEARS     IT IS WORSE  IT WILL STAY THE SAME   \n",
       "3   LESS THAN 10 YEARS     IT IS WORSE      IT WILL GET WORSE   \n",
       "4   MORE THAN 10 YEARS  IT IS THE SAME  IT WILL STAY THE SAME   \n",
       "\n",
       "  Barri_satisfaction_of_living                 Barri_comparison  \\\n",
       "0                NOT SATISFIED  NEITHER THE BEST, NOR THE WORST   \n",
       "1                    SATISFIED  NEITHER THE BEST, NOR THE WORST   \n",
       "2                    SATISFIED  NEITHER THE BEST, NOR THE WORST   \n",
       "3                    SATISFIED                  ONE OF THE BEST   \n",
       "4                NOT SATISFIED  NEITHER THE BEST, NOR THE WORST   \n",
       "\n",
       "  GARBAGE COLLECTION  ...   Social_class Living_alone   BCN_evolution  \\\n",
       "0               GOOD  ...    MIDDLE-HIGH            1     IT IS WORSE   \n",
       "1                BAD  ...  MIDDLE-MIDDLE            0     IT IS WORSE   \n",
       "2               GOOD  ...  MIDDLE-MIDDLE            1  IT IS THE SAME   \n",
       "3               GOOD  ...  MIDDLE-MIDDLE            1     IT IS WORSE   \n",
       "4                BAD  ...     MIDDLE-LOW            0  IT IS THE SAME   \n",
       "\n",
       "              BCN_future BCN_satisfaction_of_living BCN_transport  \\\n",
       "0      IT WILL GET WORSE                  SATISFIED          GOOD   \n",
       "1      IT WILL GET WORSE                  SATISFIED        NORMAL   \n",
       "2        IT WILL IMPROVE                  SATISFIED          GOOD   \n",
       "3  IT WILL STAY THE SAME                  SATISFIED          GOOD   \n",
       "4  IT WILL STAY THE SAME                  SATISFIED        NORMAL   \n",
       "\n",
       "  BCN_over_barri_evolution BCN_over_barri_future  \\\n",
       "0                        0                     0   \n",
       "1                        0                     0   \n",
       "2                        1                     1   \n",
       "3                        0                     1   \n",
       "4                        0                     0   \n",
       "\n",
       "  BCN_over_barri_satisfaction_of_living BCN_over_barri_transport  \n",
       "0                                     1                        0  \n",
       "1                                     0                        0  \n",
       "2                                     0                        0  \n",
       "3                                     0                        0  \n",
       "4                                     1                        0  \n",
       "\n",
       "[5 rows x 35 columns]"
      ]
     },
     "execution_count": 4,
     "metadata": {},
     "output_type": "execute_result"
    }
   ],
   "source": [
    "data.head()"
   ]
  },
  {
   "cell_type": "code",
   "execution_count": 5,
   "metadata": {},
   "outputs": [
    {
     "data": {
      "text/plain": [
       "(4531, 35)"
      ]
     },
     "execution_count": 5,
     "metadata": {},
     "output_type": "execute_result"
    }
   ],
   "source": [
    "data.shape"
   ]
  },
  {
   "cell_type": "code",
   "execution_count": 6,
   "metadata": {},
   "outputs": [
    {
     "data": {
      "text/plain": [
       "['ANY',\n",
       " 'NOM_DISTRICTE',\n",
       " 'Would_not_stay_in_the_neighborhood',\n",
       " 'Gender',\n",
       " 'Time_living_in_barri',\n",
       " 'Barri_evolution',\n",
       " 'Barri_future',\n",
       " 'Barri_satisfaction_of_living',\n",
       " 'Barri_comparison',\n",
       " 'GARBAGE COLLECTION',\n",
       " 'STREETS CLEANING',\n",
       " 'GREEN AREAS',\n",
       " 'PUBLIC LIGHTING',\n",
       " 'ASPHALT AND STREET CONSERVATION',\n",
       " 'FACADES AND BUILDING CONSERVATION',\n",
       " 'CIRCULATION',\n",
       " 'BUS',\n",
       " 'MUNICIPAL POLICE',\n",
       " 'CITIZEN SECURITY IN THE CITY AS A WHOLE',\n",
       " 'CITIZEN SECURITY IN THE NEIGHBORHOOD',\n",
       " 'MUNICIPAL MARKETS',\n",
       " 'Barri_transport',\n",
       " 'Owns_a_car',\n",
       " 'House_size',\n",
       " 'Monthly_family_income',\n",
       " 'Social_class',\n",
       " 'Living_alone',\n",
       " 'BCN_evolution',\n",
       " 'BCN_future',\n",
       " 'BCN_satisfaction_of_living',\n",
       " 'BCN_transport',\n",
       " 'BCN_over_barri_evolution',\n",
       " 'BCN_over_barri_future',\n",
       " 'BCN_over_barri_satisfaction_of_living',\n",
       " 'BCN_over_barri_transport']"
      ]
     },
     "execution_count": 6,
     "metadata": {},
     "output_type": "execute_result"
    }
   ],
   "source": [
    "data.columns.tolist()"
   ]
  },
  {
   "cell_type": "code",
   "execution_count": 7,
   "metadata": {},
   "outputs": [],
   "source": [
    "x_var = data.columns.tolist()"
   ]
  },
  {
   "cell_type": "code",
   "execution_count": 8,
   "metadata": {},
   "outputs": [],
   "source": [
    "for i in ['ANY', 'Would_not_stay_in_the_neighborhood',\n",
    "          'BCN_evolution', 'BCN_future', 'BCN_satisfaction_of_living', 'BCN_transport']:\n",
    "    x_var.remove(i)"
   ]
  },
  {
   "cell_type": "code",
   "execution_count": 9,
   "metadata": {},
   "outputs": [],
   "source": [
    "x = data[x_var]"
   ]
  },
  {
   "cell_type": "code",
   "execution_count": 10,
   "metadata": {},
   "outputs": [],
   "source": [
    "y = data['Would_not_stay_in_the_neighborhood']"
   ]
  },
  {
   "cell_type": "code",
   "execution_count": null,
   "metadata": {},
   "outputs": [],
   "source": []
  },
  {
   "cell_type": "code",
   "execution_count": 11,
   "metadata": {},
   "outputs": [],
   "source": [
    "x = pd.get_dummies(x, drop_first = True)"
   ]
  },
  {
   "cell_type": "code",
   "execution_count": 12,
   "metadata": {},
   "outputs": [
    {
     "name": "stdout",
     "output_type": "stream",
     "text": [
      "Optimization terminated successfully.\n",
      "         Current function value: 0.303290\n",
      "         Iterations 7\n",
      "                                       Results: Logit\n",
      "=============================================================================================\n",
      "Model:                 Logit                                 Pseudo R-squared:    0.185      \n",
      "Dependent Variable:    Would_not_stay_in_the_neighborhood    AIC:                 2846.4097  \n",
      "Date:                  2021-04-13 08:21                      BIC:                 3160.9259  \n",
      "No. Observations:      4531                                  Log-Likelihood:      -1374.2    \n",
      "Df Model:              48                                    LL-Null:             -1686.8    \n",
      "Df Residuals:          4482                                  LLR p-value:         1.6891e-101\n",
      "Converged:             1.0000                                Scale:               1.0000     \n",
      "No. Iterations:        7.0000                                                                \n",
      "---------------------------------------------------------------------------------------------\n",
      "                                              Coef.  Std.Err.    z     P>|z|   [0.025  0.975]\n",
      "---------------------------------------------------------------------------------------------\n",
      "Gender                                        0.1064   0.1083   0.9822 0.3260 -0.1059  0.3186\n",
      "Owns_a_car                                    0.0607   0.1192   0.5093 0.6105 -0.1729  0.2943\n",
      "Living_alone                                  0.2029   0.1262   1.6083 0.1078 -0.0444  0.4502\n",
      "BCN_over_barri_evolution                     -0.0358   0.1647  -0.2176 0.8277 -0.3586  0.2869\n",
      "BCN_over_barri_future                         0.1522   0.1548   0.9827 0.3258 -0.1513  0.4557\n",
      "BCN_over_barri_satisfaction_of_living         0.5177   0.2370   2.1846 0.0289  0.0532  0.9821\n",
      "BCN_over_barri_transport                      0.3187   0.2150   1.4821 0.1383 -0.1028  0.7402\n",
      "NOM_DISTRICTE_EIXAMPLE                       -0.5178   0.2249  -2.3029 0.0213 -0.9585 -0.0771\n",
      "NOM_DISTRICTE_GRÀCIA                          0.1233   0.2537   0.4860 0.6270 -0.3739  0.6205\n",
      "NOM_DISTRICTE_HORTA - GUINARDÓ               -0.1965   0.2267  -0.8668 0.3861 -0.6409  0.2478\n",
      "NOM_DISTRICTE_LES CORTS                      -0.9249   0.3397  -2.7229 0.0065 -1.5907 -0.2592\n",
      "NOM_DISTRICTE_NOU BARRIS                     -0.1227   0.2122  -0.5784 0.5630 -0.5387  0.2932\n",
      "NOM_DISTRICTE_SANT ANDREU                    -0.0947   0.2335  -0.4055 0.6851 -0.5524  0.3630\n",
      "NOM_DISTRICTE_SANT MARTÍ                     -0.3688   0.2226  -1.6569 0.0975 -0.8051  0.0675\n",
      "NOM_DISTRICTE_SANTS - MONTJUÏC               -0.0891   0.2109  -0.4223 0.6728 -0.5024  0.3243\n",
      "NOM_DISTRICTE_SARRIÀ - SANT GERVASI          -0.6852   0.3354  -2.0430 0.0411 -1.3425 -0.0278\n",
      "Time_living_in_barri_LESS THAN 10 YEARS       1.3108   0.2389   5.4869 0.0000  0.8426  1.7790\n",
      "Time_living_in_barri_MORE THAN 10 YEARS       0.4601   0.1713   2.6857 0.0072  0.1243  0.7959\n",
      "Barri_evolution_IT IS THE SAME                0.0607   0.1365   0.4445 0.6567 -0.2068  0.3282\n",
      "Barri_evolution_IT IS WORSE                  -0.2042   0.1650  -1.2377 0.2158 -0.5276  0.1192\n",
      "Barri_future_IT WILL IMPROVE                 -0.4396   0.1707  -2.5757 0.0100 -0.7742 -0.1051\n",
      "Barri_future_IT WILL STAY THE SAME           -0.5326   0.1753  -3.0389 0.0024 -0.8762 -0.1891\n",
      "Barri_satisfaction_of_living_SATISFIED       -0.7765   0.2085  -3.7241 0.0002 -1.1851 -0.3678\n",
      "Barri_comparison_ONE OF THE BEST             -1.4452   0.1209 -11.9568 0.0000 -1.6821 -1.2083\n",
      "Barri_comparison_ONE OF THE WORST             0.8617   0.1782   4.8363 0.0000  0.5125  1.2110\n",
      "GARBAGE COLLECTION_GOOD                      -0.0115   0.2109  -0.0544 0.9566 -0.4249  0.4020\n",
      "STREETS CLEANING_GOOD                        -0.1651   0.1429  -1.1553 0.2480 -0.4453  0.1150\n",
      "GREEN AREAS_GOOD                             -0.2115   0.1338  -1.5804 0.1140 -0.4738  0.0508\n",
      "PUBLIC LIGHTING_GOOD                         -0.1813   0.1692  -1.0715 0.2840 -0.5129  0.1503\n",
      "ASPHALT AND STREET CONSERVATION_GOOD          0.1758   0.1343   1.3091 0.1905 -0.0874  0.4391\n",
      "FACADES AND BUILDING CONSERVATION_GOOD        0.0875   0.1583   0.5530 0.5802 -0.2227  0.3977\n",
      "CIRCULATION_GOOD                             -0.0762   0.1151  -0.6623 0.5078 -0.3018  0.1494\n",
      "BUS_GOOD                                     -0.2917   0.1739  -1.6773 0.0935 -0.6325  0.0492\n",
      "MUNICIPAL POLICE_GOOD                        -0.0855   0.1338  -0.6387 0.5230 -0.3478  0.1768\n",
      "CITIZEN SECURITY IN THE CITY AS A WHOLE_GOOD  0.2446   0.1395   1.7528 0.0796 -0.0289  0.5180\n",
      "CITIZEN SECURITY IN THE NEIGHBORHOOD_GOOD    -0.3394   0.1424  -2.3830 0.0172 -0.6186 -0.0603\n",
      "MUNICIPAL MARKETS_GOOD                        0.2423   0.1908   1.2705 0.2039 -0.1315  0.6162\n",
      "Barri_transport_GOOD                          0.0789   0.2130   0.3704 0.7111 -0.3386  0.4963\n",
      "Barri_transport_NORMAL                        0.2825   0.2183   1.2945 0.1955 -0.1453  0.7104\n",
      "House_size_51-100 M2                          0.2105   0.1879   1.1204 0.2626 -0.1577  0.5787\n",
      "House_size_< 50 M2                            0.2830   0.2501   1.1318 0.2577 -0.2071  0.7732\n",
      "House_size_> 150 M2                           0.5565   0.3173   1.7539 0.0794 -0.0654  1.1784\n",
      "Monthly_family_income_2001-3000 EUROS         0.2237   0.1558   1.4357 0.1511 -0.0817  0.5291\n",
      "Monthly_family_income_< 1000 EUROS           -0.0940   0.1297  -0.7246 0.4687 -0.3483  0.1603\n",
      "Monthly_family_income_> 3000 EUROS            0.3881   0.2155   1.8008 0.0717 -0.0343  0.8104\n",
      "Social_class_LOW                             -0.7601   0.4437  -1.7132 0.0867 -1.6297  0.1095\n",
      "Social_class_MIDDLE-HIGH                     -0.9772   0.5169  -1.8905 0.0587 -1.9902  0.0359\n",
      "Social_class_MIDDLE-LOW                      -0.7135   0.4290  -1.6630 0.0963 -1.5544  0.1274\n",
      "Social_class_MIDDLE-MIDDLE                   -0.6669   0.4260  -1.5655 0.1175 -1.5018  0.1680\n",
      "=============================================================================================\n",
      "\n"
     ]
    }
   ],
   "source": [
    "logit_model = sm.Logit(y,x)\n",
    "result=logit_model.fit()\n",
    "print(result.summary2())"
   ]
  },
  {
   "cell_type": "code",
   "execution_count": 13,
   "metadata": {},
   "outputs": [
    {
     "data": {
      "text/plain": [
       "GARBAGE COLLECTION_GOOD                         9.565946e-01\n",
       "BCN_over_barri_evolution                        8.277302e-01\n",
       "Barri_transport_GOOD                            7.110984e-01\n",
       "NOM_DISTRICTE_SANT ANDREU                       6.851197e-01\n",
       "NOM_DISTRICTE_SANTS - MONTJUÏC                  6.727937e-01\n",
       "Barri_evolution_IT IS THE SAME                  6.566945e-01\n",
       "NOM_DISTRICTE_GRÀCIA                            6.269755e-01\n",
       "Owns_a_car                                      6.105392e-01\n",
       "FACADES AND BUILDING CONSERVATION_GOOD          5.802340e-01\n",
       "NOM_DISTRICTE_NOU BARRIS                        5.629945e-01\n",
       "MUNICIPAL POLICE_GOOD                           5.230069e-01\n",
       "CIRCULATION_GOOD                                5.077689e-01\n",
       "Monthly_family_income_< 1000 EUROS              4.687177e-01\n",
       "NOM_DISTRICTE_HORTA - GUINARDÓ                  3.860715e-01\n",
       "Gender                                          3.260050e-01\n",
       "BCN_over_barri_future                           3.257538e-01\n",
       "PUBLIC LIGHTING_GOOD                            2.839627e-01\n",
       "House_size_51-100 M2                            2.625581e-01\n",
       "House_size_< 50 M2                              2.577385e-01\n",
       "STREETS CLEANING_GOOD                           2.479836e-01\n",
       "Barri_evolution_IT IS WORSE                     2.158127e-01\n",
       "MUNICIPAL MARKETS_GOOD                          2.039191e-01\n",
       "Barri_transport_NORMAL                          1.955042e-01\n",
       "ASPHALT AND STREET CONSERVATION_GOOD            1.905135e-01\n",
       "Monthly_family_income_2001-3000 EUROS           1.510793e-01\n",
       "BCN_over_barri_transport                        1.383096e-01\n",
       "Social_class_MIDDLE-MIDDLE                      1.174622e-01\n",
       "GREEN AREAS_GOOD                                1.140174e-01\n",
       "Living_alone                                    1.077760e-01\n",
       "NOM_DISTRICTE_SANT MARTÍ                        9.753913e-02\n",
       "Social_class_MIDDLE-LOW                         9.632198e-02\n",
       "BUS_GOOD                                        9.349048e-02\n",
       "Social_class_LOW                                8.668362e-02\n",
       "CITIZEN SECURITY IN THE CITY AS A WHOLE_GOOD    7.963686e-02\n",
       "House_size_> 150 M2                             7.944443e-02\n",
       "Monthly_family_income_> 3000 EUROS              7.173469e-02\n",
       "Social_class_MIDDLE-HIGH                        5.868664e-02\n",
       "NOM_DISTRICTE_SARRIÀ - SANT GERVASI             4.105283e-02\n",
       "BCN_over_barri_satisfaction_of_living           2.891576e-02\n",
       "NOM_DISTRICTE_EIXAMPLE                          2.128219e-02\n",
       "CITIZEN SECURITY IN THE NEIGHBORHOOD_GOOD       1.717410e-02\n",
       "Barri_future_IT WILL IMPROVE                    1.000479e-02\n",
       "Time_living_in_barri_MORE THAN 10 YEARS         7.238195e-03\n",
       "NOM_DISTRICTE_LES CORTS                         6.471341e-03\n",
       "Barri_future_IT WILL STAY THE SAME              2.374613e-03\n",
       "Barri_satisfaction_of_living_SATISFIED          1.960111e-04\n",
       "Barri_comparison_ONE OF THE WORST               1.322894e-06\n",
       "Time_living_in_barri_LESS THAN 10 YEARS         4.090331e-08\n",
       "Barri_comparison_ONE OF THE BEST                5.980357e-33\n",
       "dtype: float64"
      ]
     },
     "execution_count": 13,
     "metadata": {},
     "output_type": "execute_result"
    }
   ],
   "source": [
    "result.pvalues.sort_values(ascending=False)"
   ]
  },
  {
   "cell_type": "code",
   "execution_count": null,
   "metadata": {},
   "outputs": [],
   "source": []
  },
  {
   "cell_type": "code",
   "execution_count": 14,
   "metadata": {},
   "outputs": [],
   "source": [
    "for i in ['GARBAGE COLLECTION', 'BCN_over_barri_evolution', 'Barri_transport', 'Barri_evolution', 'Owns_a_car']:\n",
    "    x_var.remove(i)"
   ]
  },
  {
   "cell_type": "code",
   "execution_count": 15,
   "metadata": {},
   "outputs": [],
   "source": [
    "x = data[x_var]\n",
    "x = pd.get_dummies(x, drop_first = True)"
   ]
  },
  {
   "cell_type": "code",
   "execution_count": 16,
   "metadata": {},
   "outputs": [
    {
     "name": "stdout",
     "output_type": "stream",
     "text": [
      "Optimization terminated successfully.\n",
      "         Current function value: 0.303848\n",
      "         Iterations 7\n",
      "                                       Results: Logit\n",
      "=============================================================================================\n",
      "Model:                 Logit                                 Pseudo R-squared:    0.184      \n",
      "Dependent Variable:    Would_not_stay_in_the_neighborhood    AIC:                 2837.4685  \n",
      "Date:                  2021-04-13 08:21                      BIC:                 3107.0538  \n",
      "No. Observations:      4531                                  Log-Likelihood:      -1376.7    \n",
      "Df Model:              41                                    LL-Null:             -1686.8    \n",
      "Df Residuals:          4489                                  LLR p-value:         1.5825e-104\n",
      "Converged:             1.0000                                Scale:               1.0000     \n",
      "No. Iterations:        7.0000                                                                \n",
      "---------------------------------------------------------------------------------------------\n",
      "                                              Coef.  Std.Err.    z     P>|z|   [0.025  0.975]\n",
      "---------------------------------------------------------------------------------------------\n",
      "Gender                                        0.0898   0.1070   0.8388 0.4016 -0.1200  0.2995\n",
      "Living_alone                                  0.1850   0.1229   1.5063 0.1320 -0.0557  0.4258\n",
      "BCN_over_barri_future                         0.1404   0.1525   0.9204 0.3574 -0.1586  0.4394\n",
      "BCN_over_barri_satisfaction_of_living         0.4802   0.2346   2.0474 0.0406  0.0205  0.9399\n",
      "BCN_over_barri_transport                      0.3345   0.1455   2.2994 0.0215  0.0494  0.6197\n",
      "NOM_DISTRICTE_EIXAMPLE                       -0.5043   0.2228  -2.2633 0.0236 -0.9411 -0.0676\n",
      "NOM_DISTRICTE_GRÀCIA                          0.1461   0.2510   0.5823 0.5604 -0.3457  0.6380\n",
      "NOM_DISTRICTE_HORTA - GUINARDÓ               -0.1683   0.2235  -0.7533 0.4513 -0.6064  0.2697\n",
      "NOM_DISTRICTE_LES CORTS                      -0.9006   0.3382  -2.6633 0.0077 -1.5634 -0.2378\n",
      "NOM_DISTRICTE_NOU BARRIS                     -0.1131   0.2102  -0.5383 0.5904 -0.5251  0.2988\n",
      "NOM_DISTRICTE_SANT ANDREU                    -0.0783   0.2315  -0.3382 0.7352 -0.5320  0.3754\n",
      "NOM_DISTRICTE_SANT MARTÍ                     -0.3556   0.2208  -1.6104 0.1073 -0.7885  0.0772\n",
      "NOM_DISTRICTE_SANTS - MONTJUÏC               -0.0827   0.2089  -0.3961 0.6920 -0.4922  0.3267\n",
      "NOM_DISTRICTE_SARRIÀ - SANT GERVASI          -0.6545   0.3330  -1.9653 0.0494 -1.3072 -0.0018\n",
      "Time_living_in_barri_LESS THAN 10 YEARS       1.3048   0.2378   5.4858 0.0000  0.8386  1.7709\n",
      "Time_living_in_barri_MORE THAN 10 YEARS       0.4545   0.1707   2.6621 0.0078  0.1199  0.7892\n",
      "Barri_future_IT WILL IMPROVE                 -0.3256   0.1508  -2.1596 0.0308 -0.6211 -0.0301\n",
      "Barri_future_IT WILL STAY THE SAME           -0.3854   0.1566  -2.4616 0.0138 -0.6923 -0.0785\n",
      "Barri_satisfaction_of_living_SATISFIED       -0.7723   0.2061  -3.7473 0.0002 -1.1762 -0.3684\n",
      "Barri_comparison_ONE OF THE BEST             -1.4401   0.1205 -11.9515 0.0000 -1.6763 -1.2039\n",
      "Barri_comparison_ONE OF THE WORST             0.8440   0.1764   4.7838 0.0000  0.4982  1.1898\n",
      "STREETS CLEANING_GOOD                        -0.1548   0.1375  -1.1261 0.2601 -0.4242  0.1146\n",
      "GREEN AREAS_GOOD                             -0.2095   0.1331  -1.5740 0.1155 -0.4704  0.0514\n",
      "PUBLIC LIGHTING_GOOD                         -0.1901   0.1670  -1.1380 0.2551 -0.5175  0.1373\n",
      "ASPHALT AND STREET CONSERVATION_GOOD          0.1787   0.1338   1.3355 0.1817 -0.0836  0.4410\n",
      "FACADES AND BUILDING CONSERVATION_GOOD        0.0869   0.1578   0.5510 0.5816 -0.2223  0.3962\n",
      "CIRCULATION_GOOD                             -0.0669   0.1146  -0.5841 0.5591 -0.2916  0.1577\n",
      "BUS_GOOD                                     -0.2537   0.1641  -1.5462 0.1220 -0.5752  0.0679\n",
      "MUNICIPAL POLICE_GOOD                        -0.1025   0.1334  -0.7678 0.4426 -0.3640  0.1591\n",
      "CITIZEN SECURITY IN THE CITY AS A WHOLE_GOOD  0.2456   0.1393   1.7635 0.0778 -0.0274  0.5186\n",
      "CITIZEN SECURITY IN THE NEIGHBORHOOD_GOOD    -0.3228   0.1417  -2.2775 0.0228 -0.6006 -0.0450\n",
      "MUNICIPAL MARKETS_GOOD                        0.2284   0.1892   1.2071 0.2274 -0.1425  0.5993\n",
      "House_size_51-100 M2                          0.2116   0.1874   1.1291 0.2589 -0.1557  0.5788\n",
      "House_size_< 50 M2                            0.2762   0.2491   1.1088 0.2675 -0.2120  0.7644\n",
      "House_size_> 150 M2                           0.5457   0.3175   1.7188 0.0857 -0.0766  1.1680\n",
      "Monthly_family_income_2001-3000 EUROS         0.2247   0.1532   1.4666 0.1425 -0.0756  0.5251\n",
      "Monthly_family_income_< 1000 EUROS           -0.1083   0.1277  -0.8481 0.3964 -0.3585  0.1419\n",
      "Monthly_family_income_> 3000 EUROS            0.3970   0.2133   1.8614 0.0627 -0.0210  0.8151\n",
      "Social_class_LOW                             -0.8185   0.3969  -2.0625 0.0392 -1.5964 -0.0407\n",
      "Social_class_MIDDLE-HIGH                     -1.0304   0.4794  -2.1493 0.0316 -1.9700 -0.0908\n",
      "Social_class_MIDDLE-LOW                      -0.7621   0.3837  -1.9864 0.0470 -1.5141 -0.0101\n",
      "Social_class_MIDDLE-MIDDLE                   -0.7188   0.3802  -1.8905 0.0587 -1.4639  0.0264\n",
      "=============================================================================================\n",
      "\n"
     ]
    }
   ],
   "source": [
    "logit_model = sm.Logit(y,x)\n",
    "result=logit_model.fit()\n",
    "print(result.summary2())"
   ]
  },
  {
   "cell_type": "code",
   "execution_count": 17,
   "metadata": {},
   "outputs": [
    {
     "data": {
      "text/plain": [
       "NOM_DISTRICTE_SANT ANDREU                       7.352280e-01\n",
       "NOM_DISTRICTE_SANTS - MONTJUÏC                  6.920358e-01\n",
       "NOM_DISTRICTE_NOU BARRIS                        5.903993e-01\n",
       "FACADES AND BUILDING CONSERVATION_GOOD          5.816243e-01\n",
       "NOM_DISTRICTE_GRÀCIA                            5.603563e-01\n",
       "CIRCULATION_GOOD                                5.591326e-01\n",
       "NOM_DISTRICTE_HORTA - GUINARDÓ                  4.512783e-01\n",
       "MUNICIPAL POLICE_GOOD                           4.425924e-01\n",
       "Gender                                          4.016018e-01\n",
       "Monthly_family_income_< 1000 EUROS              3.964083e-01\n",
       "BCN_over_barri_future                           3.573736e-01\n",
       "House_size_< 50 M2                              2.674993e-01\n",
       "STREETS CLEANING_GOOD                           2.601300e-01\n",
       "House_size_51-100 M2                            2.588541e-01\n",
       "PUBLIC LIGHTING_GOOD                            2.551254e-01\n",
       "MUNICIPAL MARKETS_GOOD                          2.273961e-01\n",
       "ASPHALT AND STREET CONSERVATION_GOOD            1.817029e-01\n",
       "Monthly_family_income_2001-3000 EUROS           1.424944e-01\n",
       "Living_alone                                    1.320000e-01\n",
       "BUS_GOOD                                        1.220494e-01\n",
       "GREEN AREAS_GOOD                                1.154913e-01\n",
       "NOM_DISTRICTE_SANT MARTÍ                        1.073137e-01\n",
       "House_size_> 150 M2                             8.565242e-02\n",
       "CITIZEN SECURITY IN THE CITY AS A WHOLE_GOOD    7.780999e-02\n",
       "Monthly_family_income_> 3000 EUROS              6.269109e-02\n",
       "Social_class_MIDDLE-MIDDLE                      5.868914e-02\n",
       "NOM_DISTRICTE_SARRIÀ - SANT GERVASI             4.938324e-02\n",
       "Social_class_MIDDLE-LOW                         4.698953e-02\n",
       "BCN_over_barri_satisfaction_of_living           4.061841e-02\n",
       "Social_class_LOW                                3.915998e-02\n",
       "Social_class_MIDDLE-HIGH                        3.160863e-02\n",
       "Barri_future_IT WILL IMPROVE                    3.080151e-02\n",
       "NOM_DISTRICTE_EIXAMPLE                          2.362018e-02\n",
       "CITIZEN SECURITY IN THE NEIGHBORHOOD_GOOD       2.275844e-02\n",
       "BCN_over_barri_transport                        2.148007e-02\n",
       "Barri_future_IT WILL STAY THE SAME              1.383054e-02\n",
       "Time_living_in_barri_MORE THAN 10 YEARS         7.766093e-03\n",
       "NOM_DISTRICTE_LES CORTS                         7.738632e-03\n",
       "Barri_satisfaction_of_living_SATISFIED          1.787534e-04\n",
       "Barri_comparison_ONE OF THE WORST               1.720515e-06\n",
       "Time_living_in_barri_LESS THAN 10 YEARS         4.116028e-08\n",
       "Barri_comparison_ONE OF THE BEST                6.372819e-33\n",
       "dtype: float64"
      ]
     },
     "execution_count": 17,
     "metadata": {},
     "output_type": "execute_result"
    }
   ],
   "source": [
    "result.pvalues.sort_values(ascending=False)"
   ]
  },
  {
   "cell_type": "code",
   "execution_count": null,
   "metadata": {},
   "outputs": [],
   "source": []
  },
  {
   "cell_type": "code",
   "execution_count": 18,
   "metadata": {},
   "outputs": [],
   "source": [
    "for i in ['FACADES AND BUILDING CONSERVATION', 'MUNICIPAL POLICE', 'CIRCULATION', 'Gender']:\n",
    "    x_var.remove(i)"
   ]
  },
  {
   "cell_type": "code",
   "execution_count": 19,
   "metadata": {},
   "outputs": [],
   "source": [
    "x = data[x_var]\n",
    "x = pd.get_dummies(x, drop_first = True)"
   ]
  },
  {
   "cell_type": "code",
   "execution_count": 20,
   "metadata": {},
   "outputs": [
    {
     "name": "stdout",
     "output_type": "stream",
     "text": [
      "Optimization terminated successfully.\n",
      "         Current function value: 0.304045\n",
      "         Iterations 7\n",
      "                                       Results: Logit\n",
      "=============================================================================================\n",
      "Model:                 Logit                                 Pseudo R-squared:    0.183      \n",
      "Dependent Variable:    Would_not_stay_in_the_neighborhood    AIC:                 2831.2597  \n",
      "Date:                  2021-04-13 08:21                      BIC:                 3075.1702  \n",
      "No. Observations:      4531                                  Log-Likelihood:      -1377.6    \n",
      "Df Model:              37                                    LL-Null:             -1686.8    \n",
      "Df Residuals:          4493                                  LLR p-value:         1.3727e-106\n",
      "Converged:             1.0000                                Scale:               1.0000     \n",
      "No. Iterations:        7.0000                                                                \n",
      "---------------------------------------------------------------------------------------------\n",
      "                                              Coef.  Std.Err.    z     P>|z|   [0.025  0.975]\n",
      "---------------------------------------------------------------------------------------------\n",
      "Living_alone                                  0.2011   0.1210   1.6619 0.0965 -0.0361  0.4382\n",
      "BCN_over_barri_future                         0.1321   0.1520   0.8687 0.3850 -0.1659  0.4300\n",
      "BCN_over_barri_satisfaction_of_living         0.4798   0.2344   2.0472 0.0406  0.0204  0.9391\n",
      "BCN_over_barri_transport                      0.3358   0.1453   2.3105 0.0209  0.0510  0.6207\n",
      "NOM_DISTRICTE_EIXAMPLE                       -0.4815   0.2222  -2.1674 0.0302 -0.9170 -0.0461\n",
      "NOM_DISTRICTE_GRÀCIA                          0.1683   0.2505   0.6717 0.5018 -0.3227  0.6592\n",
      "NOM_DISTRICTE_HORTA - GUINARDÓ               -0.1624   0.2235  -0.7267 0.4674 -0.6005  0.2756\n",
      "NOM_DISTRICTE_LES CORTS                      -0.8867   0.3380  -2.6233 0.0087 -1.5493 -0.2242\n",
      "NOM_DISTRICTE_NOU BARRIS                     -0.1106   0.2102  -0.5263 0.5987 -0.5227  0.3014\n",
      "NOM_DISTRICTE_SANT ANDREU                    -0.0692   0.2314  -0.2989 0.7650 -0.5226  0.3843\n",
      "NOM_DISTRICTE_SANT MARTÍ                     -0.3409   0.2205  -1.5464 0.1220 -0.7730  0.0912\n",
      "NOM_DISTRICTE_SANTS - MONTJUÏC               -0.0763   0.2088  -0.3653 0.7149 -0.4855  0.3330\n",
      "NOM_DISTRICTE_SARRIÀ - SANT GERVASI          -0.6288   0.3322  -1.8929 0.0584 -1.2798  0.0223\n",
      "Time_living_in_barri_LESS THAN 10 YEARS       1.2958   0.2376   5.4525 0.0000  0.8300  1.7615\n",
      "Time_living_in_barri_MORE THAN 10 YEARS       0.4550   0.1707   2.6652 0.0077  0.1204  0.7896\n",
      "Barri_future_IT WILL IMPROVE                 -0.3311   0.1504  -2.2016 0.0277 -0.6259 -0.0363\n",
      "Barri_future_IT WILL STAY THE SAME           -0.3880   0.1563  -2.4820 0.0131 -0.6943 -0.0816\n",
      "Barri_satisfaction_of_living_SATISFIED       -0.7780   0.2052  -3.7924 0.0001 -1.1801 -0.3759\n",
      "Barri_comparison_ONE OF THE BEST             -1.4351   0.1202 -11.9422 0.0000 -1.6706 -1.1995\n",
      "Barri_comparison_ONE OF THE WORST             0.8409   0.1763   4.7700 0.0000  0.4954  1.1864\n",
      "STREETS CLEANING_GOOD                        -0.1633   0.1364  -1.1975 0.2311 -0.4306  0.1040\n",
      "GREEN AREAS_GOOD                             -0.2154   0.1312  -1.6425 0.1005 -0.4725  0.0416\n",
      "PUBLIC LIGHTING_GOOD                         -0.2017   0.1662  -1.2134 0.2250 -0.5276  0.1241\n",
      "ASPHALT AND STREET CONSERVATION_GOOD          0.1726   0.1309   1.3188 0.1872 -0.0839  0.4291\n",
      "BUS_GOOD                                     -0.2751   0.1627  -1.6914 0.0908 -0.5939  0.0437\n",
      "CITIZEN SECURITY IN THE CITY AS A WHOLE_GOOD  0.2230   0.1374   1.6226 0.1047 -0.0464  0.4924\n",
      "CITIZEN SECURITY IN THE NEIGHBORHOOD_GOOD    -0.3277   0.1411  -2.3218 0.0202 -0.6042 -0.0511\n",
      "MUNICIPAL MARKETS_GOOD                        0.2267   0.1887   1.2017 0.2295 -0.1430  0.5965\n",
      "House_size_51-100 M2                          0.2088   0.1873   1.1144 0.2651 -0.1584  0.5760\n",
      "House_size_< 50 M2                            0.2660   0.2487   1.0696 0.2848 -0.2215  0.7535\n",
      "House_size_> 150 M2                           0.5506   0.3170   1.7369 0.0824 -0.0707  1.1720\n",
      "Monthly_family_income_2001-3000 EUROS         0.2131   0.1529   1.3931 0.1636 -0.0867  0.5128\n",
      "Monthly_family_income_< 1000 EUROS           -0.0987   0.1267  -0.7789 0.4361 -0.3470  0.1496\n",
      "Monthly_family_income_> 3000 EUROS            0.3788   0.2128   1.7798 0.0751 -0.0384  0.7960\n",
      "Social_class_LOW                             -0.7552   0.3906  -1.9336 0.0532 -1.5208  0.0103\n",
      "Social_class_MIDDLE-HIGH                     -0.9669   0.4741  -2.0396 0.0414 -1.8960 -0.0378\n",
      "Social_class_MIDDLE-LOW                      -0.7033   0.3774  -1.8635 0.0624 -1.4430  0.0364\n",
      "Social_class_MIDDLE-MIDDLE                   -0.6572   0.3729  -1.7625 0.0780 -1.3881  0.0736\n",
      "=============================================================================================\n",
      "\n"
     ]
    }
   ],
   "source": [
    "logit_model = sm.Logit(y,x)\n",
    "result=logit_model.fit()\n",
    "print(result.summary2())"
   ]
  },
  {
   "cell_type": "code",
   "execution_count": 21,
   "metadata": {},
   "outputs": [
    {
     "data": {
      "text/plain": [
       "NOM_DISTRICTE_SANT ANDREU                       7.649836e-01\n",
       "NOM_DISTRICTE_SANTS - MONTJUÏC                  7.148756e-01\n",
       "NOM_DISTRICTE_NOU BARRIS                        5.986619e-01\n",
       "NOM_DISTRICTE_GRÀCIA                            5.018045e-01\n",
       "NOM_DISTRICTE_HORTA - GUINARDÓ                  4.674053e-01\n",
       "Monthly_family_income_< 1000 EUROS              4.360569e-01\n",
       "BCN_over_barri_future                           3.849977e-01\n",
       "House_size_< 50 M2                              2.848216e-01\n",
       "House_size_51-100 M2                            2.651160e-01\n",
       "STREETS CLEANING_GOOD                           2.311263e-01\n",
       "MUNICIPAL MARKETS_GOOD                          2.294668e-01\n",
       "PUBLIC LIGHTING_GOOD                            2.249866e-01\n",
       "ASPHALT AND STREET CONSERVATION_GOOD            1.872462e-01\n",
       "Monthly_family_income_2001-3000 EUROS           1.636005e-01\n",
       "NOM_DISTRICTE_SANT MARTÍ                        1.220108e-01\n",
       "CITIZEN SECURITY IN THE CITY AS A WHOLE_GOOD    1.046799e-01\n",
       "GREEN AREAS_GOOD                                1.004881e-01\n",
       "Living_alone                                    9.652570e-02\n",
       "BUS_GOOD                                        9.075102e-02\n",
       "House_size_> 150 M2                             8.241339e-02\n",
       "Social_class_MIDDLE-MIDDLE                      7.798436e-02\n",
       "Monthly_family_income_> 3000 EUROS              7.511237e-02\n",
       "Social_class_MIDDLE-LOW                         6.239343e-02\n",
       "NOM_DISTRICTE_SARRIÀ - SANT GERVASI             5.837106e-02\n",
       "Social_class_LOW                                5.316396e-02\n",
       "Social_class_MIDDLE-HIGH                        4.138850e-02\n",
       "BCN_over_barri_satisfaction_of_living           4.064239e-02\n",
       "NOM_DISTRICTE_EIXAMPLE                          3.020109e-02\n",
       "Barri_future_IT WILL IMPROVE                    2.769437e-02\n",
       "BCN_over_barri_transport                        2.085950e-02\n",
       "CITIZEN SECURITY IN THE NEIGHBORHOOD_GOOD       2.024161e-02\n",
       "Barri_future_IT WILL STAY THE SAME              1.306425e-02\n",
       "NOM_DISTRICTE_LES CORTS                         8.708538e-03\n",
       "Time_living_in_barri_MORE THAN 10 YEARS         7.693366e-03\n",
       "Barri_satisfaction_of_living_SATISFIED          1.491904e-04\n",
       "Barri_comparison_ONE OF THE WORST               1.842005e-06\n",
       "Time_living_in_barri_LESS THAN 10 YEARS         4.965681e-08\n",
       "Barri_comparison_ONE OF THE BEST                7.132393e-33\n",
       "dtype: float64"
      ]
     },
     "execution_count": 21,
     "metadata": {},
     "output_type": "execute_result"
    }
   ],
   "source": [
    "result.pvalues.sort_values(ascending=False)"
   ]
  },
  {
   "cell_type": "code",
   "execution_count": null,
   "metadata": {},
   "outputs": [],
   "source": []
  },
  {
   "cell_type": "code",
   "execution_count": 22,
   "metadata": {},
   "outputs": [],
   "source": [
    "for i in ['BCN_over_barri_future', 'House_size', 'MUNICIPAL MARKETS', 'STREETS CLEANING']:\n",
    "    x_var.remove(i)"
   ]
  },
  {
   "cell_type": "code",
   "execution_count": 23,
   "metadata": {},
   "outputs": [],
   "source": [
    "x = data[x_var]\n",
    "x = pd.get_dummies(x, drop_first = True)"
   ]
  },
  {
   "cell_type": "code",
   "execution_count": 24,
   "metadata": {},
   "outputs": [
    {
     "name": "stdout",
     "output_type": "stream",
     "text": [
      "Optimization terminated successfully.\n",
      "         Current function value: 0.304796\n",
      "         Iterations 7\n",
      "                                       Results: Logit\n",
      "=============================================================================================\n",
      "Model:                 Logit                                 Pseudo R-squared:    0.181      \n",
      "Dependent Variable:    Would_not_stay_in_the_neighborhood    AIC:                 2826.0602  \n",
      "Date:                  2021-04-13 08:21                      BIC:                 3031.4586  \n",
      "No. Observations:      4531                                  Log-Likelihood:      -1381.0    \n",
      "Df Model:              31                                    LL-Null:             -1686.8    \n",
      "Df Residuals:          4499                                  LLR p-value:         5.2546e-109\n",
      "Converged:             1.0000                                Scale:               1.0000     \n",
      "No. Iterations:        7.0000                                                                \n",
      "---------------------------------------------------------------------------------------------\n",
      "                                              Coef.  Std.Err.    z     P>|z|   [0.025  0.975]\n",
      "---------------------------------------------------------------------------------------------\n",
      "Living_alone                                  0.2101   0.1203   1.7467 0.0807 -0.0257  0.4458\n",
      "BCN_over_barri_satisfaction_of_living         0.5009   0.2329   2.1505 0.0315  0.0444  0.9574\n",
      "BCN_over_barri_transport                      0.3357   0.1449   2.3176 0.0205  0.0518  0.6196\n",
      "NOM_DISTRICTE_EIXAMPLE                       -0.4753   0.2180  -2.1806 0.0292 -0.9025 -0.0481\n",
      "NOM_DISTRICTE_GRÀCIA                          0.1756   0.2460   0.7140 0.4752 -0.3065  0.6577\n",
      "NOM_DISTRICTE_HORTA - GUINARDÓ               -0.1554   0.2193  -0.7086 0.4786 -0.5852  0.2744\n",
      "NOM_DISTRICTE_LES CORTS                      -0.8644   0.3350  -2.5803 0.0099 -1.5211 -0.2078\n",
      "NOM_DISTRICTE_NOU BARRIS                     -0.1040   0.2069  -0.5028 0.6151 -0.5095  0.3015\n",
      "NOM_DISTRICTE_SANT ANDREU                    -0.1004   0.2269  -0.4426 0.6581 -0.5452  0.3443\n",
      "NOM_DISTRICTE_SANT MARTÍ                     -0.3381   0.2156  -1.5680 0.1169 -0.7608  0.0845\n",
      "NOM_DISTRICTE_SANTS - MONTJUÏC               -0.0555   0.2040  -0.2720 0.7856 -0.4552  0.3443\n",
      "NOM_DISTRICTE_SARRIÀ - SANT GERVASI          -0.6084   0.3280  -1.8550 0.0636 -1.2512  0.0344\n",
      "Time_living_in_barri_LESS THAN 10 YEARS       1.3289   0.2360   5.6322 0.0000  0.8665  1.7914\n",
      "Time_living_in_barri_MORE THAN 10 YEARS       0.4713   0.1709   2.7571 0.0058  0.1363  0.8063\n",
      "Barri_future_IT WILL IMPROVE                 -0.3894   0.1314  -2.9644 0.0030 -0.6468 -0.1319\n",
      "Barri_future_IT WILL STAY THE SAME           -0.3710   0.1558  -2.3815 0.0172 -0.6763 -0.0657\n",
      "Barri_satisfaction_of_living_SATISFIED       -0.7577   0.2031  -3.7305 0.0002 -1.1558 -0.3596\n",
      "Barri_comparison_ONE OF THE BEST             -1.4264   0.1198 -11.9099 0.0000 -1.6611 -1.1917\n",
      "Barri_comparison_ONE OF THE WORST             0.8558   0.1755   4.8772 0.0000  0.5119  1.1997\n",
      "GREEN AREAS_GOOD                             -0.2296   0.1293  -1.7759 0.0758 -0.4830  0.0238\n",
      "PUBLIC LIGHTING_GOOD                         -0.1972   0.1655  -1.1915 0.2334 -0.5215  0.1272\n",
      "ASPHALT AND STREET CONSERVATION_GOOD          0.1609   0.1289   1.2484 0.2119 -0.0917  0.4134\n",
      "BUS_GOOD                                     -0.2464   0.1617  -1.5241 0.1275 -0.5632  0.0705\n",
      "CITIZEN SECURITY IN THE CITY AS A WHOLE_GOOD  0.2306   0.1373   1.6795 0.0931 -0.0385  0.4996\n",
      "CITIZEN SECURITY IN THE NEIGHBORHOOD_GOOD    -0.3324   0.1409  -2.3595 0.0183 -0.6084 -0.0563\n",
      "Monthly_family_income_2001-3000 EUROS         0.2221   0.1518   1.4635 0.1433 -0.0753  0.5195\n",
      "Monthly_family_income_< 1000 EUROS           -0.0825   0.1259  -0.6553 0.5123 -0.3292  0.1642\n",
      "Monthly_family_income_> 3000 EUROS            0.3991   0.2079   1.9198 0.0549 -0.0083  0.8066\n",
      "Social_class_LOW                             -0.4815   0.3490  -1.3797 0.1677 -1.1654  0.2025\n",
      "Social_class_MIDDLE-HIGH                     -0.7003   0.4466  -1.5679 0.1169 -1.5756  0.1751\n",
      "Social_class_MIDDLE-LOW                      -0.4334   0.3335  -1.2996 0.1937 -1.0871  0.2202\n",
      "Social_class_MIDDLE-MIDDLE                   -0.3871   0.3310  -1.1692 0.2423 -1.0359  0.2618\n",
      "=============================================================================================\n",
      "\n"
     ]
    }
   ],
   "source": [
    "logit_model = sm.Logit(y,x)\n",
    "result=logit_model.fit()\n",
    "print(result.summary2())"
   ]
  },
  {
   "cell_type": "code",
   "execution_count": 25,
   "metadata": {},
   "outputs": [
    {
     "data": {
      "text/plain": [
       "NOM_DISTRICTE_SANTS - MONTJUÏC                  7.856279e-01\n",
       "NOM_DISTRICTE_SANT ANDREU                       6.580760e-01\n",
       "NOM_DISTRICTE_NOU BARRIS                        6.151185e-01\n",
       "Monthly_family_income_< 1000 EUROS              5.122511e-01\n",
       "NOM_DISTRICTE_HORTA - GUINARDÓ                  4.785962e-01\n",
       "NOM_DISTRICTE_GRÀCIA                            4.752130e-01\n",
       "Social_class_MIDDLE-MIDDLE                      2.423109e-01\n",
       "PUBLIC LIGHTING_GOOD                            2.334467e-01\n",
       "ASPHALT AND STREET CONSERVATION_GOOD            2.118777e-01\n",
       "Social_class_MIDDLE-LOW                         1.937336e-01\n",
       "Social_class_LOW                                1.676865e-01\n",
       "Monthly_family_income_2001-3000 EUROS           1.433434e-01\n",
       "BUS_GOOD                                        1.274790e-01\n",
       "Social_class_MIDDLE-HIGH                        1.169051e-01\n",
       "NOM_DISTRICTE_SANT MARTÍ                        1.168747e-01\n",
       "CITIZEN SECURITY IN THE CITY AS A WHOLE_GOOD    9.305967e-02\n",
       "Living_alone                                    8.069478e-02\n",
       "GREEN AREAS_GOOD                                7.575694e-02\n",
       "NOM_DISTRICTE_SARRIÀ - SANT GERVASI             6.359689e-02\n",
       "Monthly_family_income_> 3000 EUROS              5.488177e-02\n",
       "BCN_over_barri_satisfaction_of_living           3.151940e-02\n",
       "NOM_DISTRICTE_EIXAMPLE                          2.921202e-02\n",
       "BCN_over_barri_transport                        2.047173e-02\n",
       "CITIZEN SECURITY IN THE NEIGHBORHOOD_GOOD       1.830130e-02\n",
       "Barri_future_IT WILL STAY THE SAME              1.724339e-02\n",
       "NOM_DISTRICTE_LES CORTS                         9.872068e-03\n",
       "Time_living_in_barri_MORE THAN 10 YEARS         5.830777e-03\n",
       "Barri_future_IT WILL IMPROVE                    3.032876e-03\n",
       "Barri_satisfaction_of_living_SATISFIED          1.910924e-04\n",
       "Barri_comparison_ONE OF THE WORST               1.075845e-06\n",
       "Time_living_in_barri_LESS THAN 10 YEARS         1.779069e-08\n",
       "Barri_comparison_ONE OF THE BEST                1.051489e-32\n",
       "dtype: float64"
      ]
     },
     "execution_count": 25,
     "metadata": {},
     "output_type": "execute_result"
    }
   ],
   "source": [
    "result.pvalues.sort_values(ascending=False)"
   ]
  },
  {
   "cell_type": "code",
   "execution_count": null,
   "metadata": {},
   "outputs": [],
   "source": []
  },
  {
   "cell_type": "code",
   "execution_count": 26,
   "metadata": {},
   "outputs": [],
   "source": [
    "for i in ['PUBLIC LIGHTING', 'ASPHALT AND STREET CONSERVATION', 'Monthly_family_income', 'Social_class']:\n",
    "    x_var.remove(i)"
   ]
  },
  {
   "cell_type": "code",
   "execution_count": 27,
   "metadata": {},
   "outputs": [],
   "source": [
    "x = data[x_var]\n",
    "x = pd.get_dummies(x, drop_first = True)"
   ]
  },
  {
   "cell_type": "code",
   "execution_count": 28,
   "metadata": {},
   "outputs": [
    {
     "name": "stdout",
     "output_type": "stream",
     "text": [
      "Optimization terminated successfully.\n",
      "         Current function value: 0.306263\n",
      "         Iterations 7\n",
      "                                       Results: Logit\n",
      "=============================================================================================\n",
      "Model:                 Logit                                 Pseudo R-squared:    0.177      \n",
      "Dependent Variable:    Would_not_stay_in_the_neighborhood    AIC:                 2821.3589  \n",
      "Date:                  2021-04-13 08:21                      BIC:                 2968.9890  \n",
      "No. Observations:      4531                                  Log-Likelihood:      -1387.7    \n",
      "Df Model:              22                                    LL-Null:             -1686.8    \n",
      "Df Residuals:          4508                                  LLR p-value:         1.9365e-112\n",
      "Converged:             1.0000                                Scale:               1.0000     \n",
      "No. Iterations:        7.0000                                                                \n",
      "---------------------------------------------------------------------------------------------\n",
      "                                              Coef.  Std.Err.    z     P>|z|   [0.025  0.975]\n",
      "---------------------------------------------------------------------------------------------\n",
      "Living_alone                                  0.0763   0.1062   0.7183 0.4726 -0.1319  0.2845\n",
      "BCN_over_barri_satisfaction_of_living         0.3394   0.2057   1.6499 0.0990 -0.0638  0.7425\n",
      "BCN_over_barri_transport                      0.3050   0.1441   2.1169 0.0343  0.0226  0.5873\n",
      "NOM_DISTRICTE_EIXAMPLE                       -0.5001   0.2017  -2.4795 0.0132 -0.8954 -0.1048\n",
      "NOM_DISTRICTE_GRÀCIA                          0.1292   0.2349   0.5501 0.5822 -0.3312  0.5897\n",
      "NOM_DISTRICTE_HORTA - GUINARDÓ               -0.2668   0.2078  -1.2841 0.1991 -0.6741  0.1404\n",
      "NOM_DISTRICTE_LES CORTS                      -0.8914   0.3273  -2.7235 0.0065 -1.5329 -0.2499\n",
      "NOM_DISTRICTE_NOU BARRIS                     -0.2089   0.1969  -1.0609 0.2887 -0.5949  0.1771\n",
      "NOM_DISTRICTE_SANT ANDREU                    -0.1791   0.2159  -0.8298 0.4066 -0.6023  0.2440\n",
      "NOM_DISTRICTE_SANT MARTÍ                     -0.4064   0.2038  -1.9941 0.0461 -0.8059 -0.0069\n",
      "NOM_DISTRICTE_SANTS - MONTJUÏC               -0.1406   0.1897  -0.7412 0.4585 -0.5124  0.2312\n",
      "NOM_DISTRICTE_SARRIÀ - SANT GERVASI          -0.5980   0.3173  -1.8846 0.0595 -1.2198  0.0239\n",
      "Time_living_in_barri_LESS THAN 10 YEARS       1.2143   0.2247   5.4052 0.0000  0.7740  1.6547\n",
      "Time_living_in_barri_MORE THAN 10 YEARS       0.3662   0.1530   2.3939 0.0167  0.0664  0.6661\n",
      "Barri_future_IT WILL IMPROVE                 -0.3823   0.1297  -2.9471 0.0032 -0.6365 -0.1280\n",
      "Barri_future_IT WILL STAY THE SAME           -0.3727   0.1544  -2.4132 0.0158 -0.6754 -0.0700\n",
      "Barri_satisfaction_of_living_SATISFIED       -0.8980   0.1726  -5.2017 0.0000 -1.2364 -0.5597\n",
      "Barri_comparison_ONE OF THE BEST             -1.4291   0.1188 -12.0247 0.0000 -1.6621 -1.1962\n",
      "Barri_comparison_ONE OF THE WORST             0.7550   0.1685   4.4795 0.0000  0.4246  1.0853\n",
      "GREEN AREAS_GOOD                             -0.2638   0.1230  -2.1442 0.0320 -0.5048 -0.0227\n",
      "BUS_GOOD                                     -0.3379   0.1485  -2.2758 0.0229 -0.6288 -0.0469\n",
      "CITIZEN SECURITY IN THE CITY AS A WHOLE_GOOD  0.2355   0.1356   1.7372 0.0823 -0.0302  0.5013\n",
      "CITIZEN SECURITY IN THE NEIGHBORHOOD_GOOD    -0.3073   0.1387  -2.2154 0.0267 -0.5791 -0.0354\n",
      "=============================================================================================\n",
      "\n"
     ]
    }
   ],
   "source": [
    "logit_model = sm.Logit(y,x)\n",
    "result=logit_model.fit()\n",
    "print(result.summary2())"
   ]
  },
  {
   "cell_type": "code",
   "execution_count": 29,
   "metadata": {},
   "outputs": [
    {
     "data": {
      "text/plain": [
       "NOM_DISTRICTE_GRÀCIA                            5.822321e-01\n",
       "Living_alone                                    4.725956e-01\n",
       "NOM_DISTRICTE_SANTS - MONTJUÏC                  4.585485e-01\n",
       "NOM_DISTRICTE_SANT ANDREU                       4.066401e-01\n",
       "NOM_DISTRICTE_NOU BARRIS                        2.887351e-01\n",
       "NOM_DISTRICTE_HORTA - GUINARDÓ                  1.991076e-01\n",
       "BCN_over_barri_satisfaction_of_living           9.896220e-02\n",
       "CITIZEN SECURITY IN THE CITY AS A WHOLE_GOOD    8.234434e-02\n",
       "NOM_DISTRICTE_SARRIÀ - SANT GERVASI             5.947893e-02\n",
       "NOM_DISTRICTE_SANT MARTÍ                        4.614597e-02\n",
       "BCN_over_barri_transport                        3.427017e-02\n",
       "GREEN AREAS_GOOD                                3.201840e-02\n",
       "CITIZEN SECURITY IN THE NEIGHBORHOOD_GOOD       2.673117e-02\n",
       "BUS_GOOD                                        2.285741e-02\n",
       "Time_living_in_barri_MORE THAN 10 YEARS         1.667234e-02\n",
       "Barri_future_IT WILL STAY THE SAME              1.581356e-02\n",
       "NOM_DISTRICTE_EIXAMPLE                          1.315600e-02\n",
       "NOM_DISTRICTE_LES CORTS                         6.460286e-03\n",
       "Barri_future_IT WILL IMPROVE                    3.207419e-03\n",
       "Barri_comparison_ONE OF THE WORST               7.482607e-06\n",
       "Barri_satisfaction_of_living_SATISFIED          1.974511e-07\n",
       "Time_living_in_barri_LESS THAN 10 YEARS         6.472089e-08\n",
       "Barri_comparison_ONE OF THE BEST                2.634692e-33\n",
       "dtype: float64"
      ]
     },
     "execution_count": 29,
     "metadata": {},
     "output_type": "execute_result"
    }
   ],
   "source": [
    "result.pvalues.sort_values(ascending=False)"
   ]
  },
  {
   "cell_type": "code",
   "execution_count": null,
   "metadata": {},
   "outputs": [],
   "source": []
  },
  {
   "cell_type": "code",
   "execution_count": 30,
   "metadata": {},
   "outputs": [],
   "source": [
    "for i in ['Living_alone']:\n",
    "    x_var.remove(i)"
   ]
  },
  {
   "cell_type": "code",
   "execution_count": 31,
   "metadata": {},
   "outputs": [],
   "source": [
    "x = data[x_var]\n",
    "x = pd.get_dummies(x, drop_first = True)"
   ]
  },
  {
   "cell_type": "code",
   "execution_count": 32,
   "metadata": {},
   "outputs": [
    {
     "name": "stdout",
     "output_type": "stream",
     "text": [
      "Optimization terminated successfully.\n",
      "         Current function value: 0.306320\n",
      "         Iterations 7\n",
      "                                       Results: Logit\n",
      "=============================================================================================\n",
      "Model:                 Logit                                 Pseudo R-squared:    0.177      \n",
      "Dependent Variable:    Would_not_stay_in_the_neighborhood    AIC:                 2819.8721  \n",
      "Date:                  2021-04-13 08:23                      BIC:                 2961.0834  \n",
      "No. Observations:      4531                                  Log-Likelihood:      -1387.9    \n",
      "Df Model:              21                                    LL-Null:             -1686.8    \n",
      "Df Residuals:          4509                                  LLR p-value:         4.5883e-113\n",
      "Converged:             1.0000                                Scale:               1.0000     \n",
      "No. Iterations:        7.0000                                                                \n",
      "---------------------------------------------------------------------------------------------\n",
      "                                              Coef.  Std.Err.    z     P>|z|   [0.025  0.975]\n",
      "---------------------------------------------------------------------------------------------\n",
      "BCN_over_barri_satisfaction_of_living         0.3520   0.2050   1.7174 0.0859 -0.0497  0.7537\n",
      "BCN_over_barri_transport                      0.3083   0.1440   2.1418 0.0322  0.0262  0.5905\n",
      "NOM_DISTRICTE_EIXAMPLE                       -0.4971   0.2019  -2.4626 0.0138 -0.8928 -0.1015\n",
      "NOM_DISTRICTE_GRÀCIA                          0.1344   0.2349   0.5724 0.5671 -0.3259  0.5947\n",
      "NOM_DISTRICTE_HORTA - GUINARDÓ               -0.2703   0.2079  -1.3001 0.1936 -0.6777  0.1372\n",
      "NOM_DISTRICTE_LES CORTS                      -0.8966   0.3274  -2.7386 0.0062 -1.5383 -0.2549\n",
      "NOM_DISTRICTE_NOU BARRIS                     -0.2132   0.1971  -1.0820 0.2792 -0.5995  0.1730\n",
      "NOM_DISTRICTE_SANT ANDREU                    -0.1846   0.2160  -0.8548 0.3926 -0.6079  0.2387\n",
      "NOM_DISTRICTE_SANT MARTÍ                     -0.4091   0.2041  -2.0050 0.0450 -0.8091 -0.0092\n",
      "NOM_DISTRICTE_SANTS - MONTJUÏC               -0.1428   0.1898  -0.7524 0.4518 -0.5149  0.2292\n",
      "NOM_DISTRICTE_SARRIÀ - SANT GERVASI          -0.6002   0.3173  -1.8915 0.0586 -1.2222  0.0217\n",
      "Time_living_in_barri_LESS THAN 10 YEARS       1.2280   0.2240   5.4814 0.0000  0.7889  1.6671\n",
      "Time_living_in_barri_MORE THAN 10 YEARS       0.3734   0.1531   2.4396 0.0147  0.0734  0.6734\n",
      "Barri_future_IT WILL IMPROVE                 -0.3819   0.1298  -2.9431 0.0032 -0.6362 -0.1276\n",
      "Barri_future_IT WILL STAY THE SAME           -0.3698   0.1544  -2.3950 0.0166 -0.6724 -0.0672\n",
      "Barri_satisfaction_of_living_SATISFIED       -0.8869   0.1721  -5.1532 0.0000 -1.2243 -0.5496\n",
      "Barri_comparison_ONE OF THE BEST             -1.4293   0.1189 -12.0257 0.0000 -1.6623 -1.1964\n",
      "Barri_comparison_ONE OF THE WORST             0.7548   0.1684   4.4828 0.0000  0.4248  1.0847\n",
      "GREEN AREAS_GOOD                             -0.2605   0.1230  -2.1179 0.0342 -0.5015 -0.0194\n",
      "BUS_GOOD                                     -0.3339   0.1486  -2.2473 0.0246 -0.6251 -0.0427\n",
      "CITIZEN SECURITY IN THE CITY AS A WHOLE_GOOD  0.2330   0.1355   1.7194 0.0855 -0.0326  0.4986\n",
      "CITIZEN SECURITY IN THE NEIGHBORHOOD_GOOD    -0.3053   0.1386  -2.2021 0.0277 -0.5771 -0.0336\n",
      "=============================================================================================\n",
      "\n"
     ]
    }
   ],
   "source": [
    "logit_model = sm.Logit(y,x)\n",
    "result=logit_model.fit()\n",
    "print(result.summary2())"
   ]
  },
  {
   "cell_type": "code",
   "execution_count": 33,
   "metadata": {},
   "outputs": [
    {
     "data": {
      "text/plain": [
       "NOM_DISTRICTE_GRÀCIA                            5.670791e-01\n",
       "NOM_DISTRICTE_SANTS - MONTJUÏC                  4.518141e-01\n",
       "NOM_DISTRICTE_SANT ANDREU                       3.926385e-01\n",
       "NOM_DISTRICTE_NOU BARRIS                        2.792448e-01\n",
       "NOM_DISTRICTE_HORTA - GUINARDÓ                  1.935683e-01\n",
       "BCN_over_barri_satisfaction_of_living           8.591280e-02\n",
       "CITIZEN SECURITY IN THE CITY AS A WHOLE_GOOD    8.553691e-02\n",
       "NOM_DISTRICTE_SARRIÀ - SANT GERVASI             5.855679e-02\n",
       "NOM_DISTRICTE_SANT MARTÍ                        4.495780e-02\n",
       "GREEN AREAS_GOOD                                3.418710e-02\n",
       "BCN_over_barri_transport                        3.220813e-02\n",
       "CITIZEN SECURITY IN THE NEIGHBORHOOD_GOOD       2.765699e-02\n",
       "BUS_GOOD                                        2.462234e-02\n",
       "Barri_future_IT WILL STAY THE SAME              1.662007e-02\n",
       "Time_living_in_barri_MORE THAN 10 YEARS         1.470394e-02\n",
       "NOM_DISTRICTE_EIXAMPLE                          1.379158e-02\n",
       "NOM_DISTRICTE_LES CORTS                         6.170904e-03\n",
       "Barri_future_IT WILL IMPROVE                    3.249855e-03\n",
       "Barri_comparison_ONE OF THE WORST               7.368719e-06\n",
       "Barri_satisfaction_of_living_SATISFIED          2.561157e-07\n",
       "Time_living_in_barri_LESS THAN 10 YEARS         4.220571e-08\n",
       "Barri_comparison_ONE OF THE BEST                2.602862e-33\n",
       "dtype: float64"
      ]
     },
     "execution_count": 33,
     "metadata": {},
     "output_type": "execute_result"
    }
   ],
   "source": [
    "result.pvalues.sort_values(ascending=False)"
   ]
  },
  {
   "cell_type": "code",
   "execution_count": null,
   "metadata": {},
   "outputs": [],
   "source": []
  }
 ],
 "metadata": {
  "kernelspec": {
   "display_name": "Python 3",
   "language": "python",
   "name": "python3"
  },
  "language_info": {
   "codemirror_mode": {
    "name": "ipython",
    "version": 3
   },
   "file_extension": ".py",
   "mimetype": "text/x-python",
   "name": "python",
   "nbconvert_exporter": "python",
   "pygments_lexer": "ipython3",
   "version": "3.7.6"
  }
 },
 "nbformat": 4,
 "nbformat_minor": 4
}
