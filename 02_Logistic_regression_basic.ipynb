{
 "cells": [
  {
   "cell_type": "markdown",
   "metadata": {},
   "source": [
    "Aleksandra Bednarczuk"
   ]
  },
  {
   "cell_type": "markdown",
   "metadata": {},
   "source": [
    "# Predictors of elderly citizens willingness to stay in the neighbourhood\n",
    "# Logistic regression"
   ]
  },
  {
   "cell_type": "markdown",
   "metadata": {},
   "source": [
    "Original dataset"
   ]
  },
  {
   "cell_type": "code",
   "execution_count": 1,
   "metadata": {},
   "outputs": [],
   "source": [
    "import pandas as pd\n",
    "import numpy as np\n",
    "\n",
    "import matplotlib.pyplot as plt"
   ]
  },
  {
   "cell_type": "code",
   "execution_count": 2,
   "metadata": {},
   "outputs": [],
   "source": [
    "from imblearn.over_sampling import SMOTE\n",
    "\n",
    "import statsmodels.api as sm\n",
    "import statsmodels.formula.api as smf\n",
    "\n",
    "from sklearn.model_selection import train_test_split\n",
    "from sklearn.feature_selection import RFE\n",
    "from sklearn.linear_model import LogisticRegression\n",
    "\n",
    "from sklearn.metrics import accuracy_score\n",
    "from sklearn.metrics import classification_report\n",
    "from sklearn.metrics import confusion_matrix\n",
    "from sklearn.metrics import roc_auc_score\n",
    "from sklearn.metrics import roc_curve\n",
    "from sklearn.metrics import r2_score\n",
    "\n",
    "from sklearn.feature_selection import SelectKBest\n",
    "from sklearn.feature_selection import chi2\n",
    "from sklearn.feature_selection import mutual_info_classif\n",
    "from sklearn.feature_selection import f_classif\n",
    "from sklearn.preprocessing import LabelEncoder\n",
    "from sklearn.preprocessing import OrdinalEncoder\n",
    "\n",
    "from scipy import stats"
   ]
  },
  {
   "cell_type": "code",
   "execution_count": null,
   "metadata": {},
   "outputs": [],
   "source": []
  },
  {
   "cell_type": "code",
   "execution_count": 3,
   "metadata": {},
   "outputs": [],
   "source": [
    "data = pd.read_pickle(\"survey_transformed.pkl\")"
   ]
  },
  {
   "cell_type": "code",
   "execution_count": 4,
   "metadata": {},
   "outputs": [
    {
     "data": {
      "text/html": [
       "<div>\n",
       "<style scoped>\n",
       "    .dataframe tbody tr th:only-of-type {\n",
       "        vertical-align: middle;\n",
       "    }\n",
       "\n",
       "    .dataframe tbody tr th {\n",
       "        vertical-align: top;\n",
       "    }\n",
       "\n",
       "    .dataframe thead th {\n",
       "        text-align: right;\n",
       "    }\n",
       "</style>\n",
       "<table border=\"1\" class=\"dataframe\">\n",
       "  <thead>\n",
       "    <tr style=\"text-align: right;\">\n",
       "      <th></th>\n",
       "      <th>ANY</th>\n",
       "      <th>NOM_DISTRICTE</th>\n",
       "      <th>Would_not_stay_in_the_neighborhood</th>\n",
       "      <th>Gender</th>\n",
       "      <th>Time_living_in_barri</th>\n",
       "      <th>Barri_evolution</th>\n",
       "      <th>Barri_future</th>\n",
       "      <th>Barri_satisfaction_of_living</th>\n",
       "      <th>Barri_comparison</th>\n",
       "      <th>GARBAGE COLLECTION</th>\n",
       "      <th>...</th>\n",
       "      <th>Social_class</th>\n",
       "      <th>Living_alone</th>\n",
       "      <th>BCN_evolution</th>\n",
       "      <th>BCN_future</th>\n",
       "      <th>BCN_satisfaction_of_living</th>\n",
       "      <th>BCN_transport</th>\n",
       "      <th>BCN_over_barri_evolution</th>\n",
       "      <th>BCN_over_barri_future</th>\n",
       "      <th>BCN_over_barri_satisfaction_of_living</th>\n",
       "      <th>BCN_over_barri_transport</th>\n",
       "    </tr>\n",
       "  </thead>\n",
       "  <tbody>\n",
       "    <tr>\n",
       "      <th>0</th>\n",
       "      <td>2011</td>\n",
       "      <td>EIXAMPLE</td>\n",
       "      <td>0.0</td>\n",
       "      <td>1</td>\n",
       "      <td>MORE THAN 10 YEARS</td>\n",
       "      <td>IT IS WORSE</td>\n",
       "      <td>IT WILL GET WORSE</td>\n",
       "      <td>NOT SATISFIED</td>\n",
       "      <td>NEITHER THE BEST, NOR THE WORST</td>\n",
       "      <td>GOOD</td>\n",
       "      <td>...</td>\n",
       "      <td>MIDDLE-HIGH</td>\n",
       "      <td>1</td>\n",
       "      <td>IT IS WORSE</td>\n",
       "      <td>IT WILL GET WORSE</td>\n",
       "      <td>SATISFIED</td>\n",
       "      <td>GOOD</td>\n",
       "      <td>0</td>\n",
       "      <td>0</td>\n",
       "      <td>1</td>\n",
       "      <td>0</td>\n",
       "    </tr>\n",
       "    <tr>\n",
       "      <th>1</th>\n",
       "      <td>2011</td>\n",
       "      <td>EIXAMPLE</td>\n",
       "      <td>0.0</td>\n",
       "      <td>1</td>\n",
       "      <td>MORE THAN 10 YEARS</td>\n",
       "      <td>IT IS THE SAME</td>\n",
       "      <td>IT WILL STAY THE SAME</td>\n",
       "      <td>SATISFIED</td>\n",
       "      <td>NEITHER THE BEST, NOR THE WORST</td>\n",
       "      <td>BAD</td>\n",
       "      <td>...</td>\n",
       "      <td>MIDDLE-MIDDLE</td>\n",
       "      <td>0</td>\n",
       "      <td>IT IS WORSE</td>\n",
       "      <td>IT WILL GET WORSE</td>\n",
       "      <td>SATISFIED</td>\n",
       "      <td>NORMAL</td>\n",
       "      <td>0</td>\n",
       "      <td>0</td>\n",
       "      <td>0</td>\n",
       "      <td>0</td>\n",
       "    </tr>\n",
       "    <tr>\n",
       "      <th>2</th>\n",
       "      <td>2011</td>\n",
       "      <td>EIXAMPLE</td>\n",
       "      <td>0.0</td>\n",
       "      <td>1</td>\n",
       "      <td>MORE THAN 10 YEARS</td>\n",
       "      <td>IT IS WORSE</td>\n",
       "      <td>IT WILL STAY THE SAME</td>\n",
       "      <td>SATISFIED</td>\n",
       "      <td>NEITHER THE BEST, NOR THE WORST</td>\n",
       "      <td>GOOD</td>\n",
       "      <td>...</td>\n",
       "      <td>MIDDLE-MIDDLE</td>\n",
       "      <td>1</td>\n",
       "      <td>IT IS THE SAME</td>\n",
       "      <td>IT WILL IMPROVE</td>\n",
       "      <td>SATISFIED</td>\n",
       "      <td>GOOD</td>\n",
       "      <td>1</td>\n",
       "      <td>1</td>\n",
       "      <td>0</td>\n",
       "      <td>0</td>\n",
       "    </tr>\n",
       "    <tr>\n",
       "      <th>3</th>\n",
       "      <td>2011</td>\n",
       "      <td>EIXAMPLE</td>\n",
       "      <td>0.0</td>\n",
       "      <td>1</td>\n",
       "      <td>LESS THAN 10 YEARS</td>\n",
       "      <td>IT IS WORSE</td>\n",
       "      <td>IT WILL GET WORSE</td>\n",
       "      <td>SATISFIED</td>\n",
       "      <td>ONE OF THE BEST</td>\n",
       "      <td>GOOD</td>\n",
       "      <td>...</td>\n",
       "      <td>MIDDLE-MIDDLE</td>\n",
       "      <td>1</td>\n",
       "      <td>IT IS WORSE</td>\n",
       "      <td>IT WILL STAY THE SAME</td>\n",
       "      <td>SATISFIED</td>\n",
       "      <td>GOOD</td>\n",
       "      <td>0</td>\n",
       "      <td>1</td>\n",
       "      <td>0</td>\n",
       "      <td>0</td>\n",
       "    </tr>\n",
       "    <tr>\n",
       "      <th>4</th>\n",
       "      <td>2011</td>\n",
       "      <td>EIXAMPLE</td>\n",
       "      <td>1.0</td>\n",
       "      <td>0</td>\n",
       "      <td>MORE THAN 10 YEARS</td>\n",
       "      <td>IT IS THE SAME</td>\n",
       "      <td>IT WILL STAY THE SAME</td>\n",
       "      <td>NOT SATISFIED</td>\n",
       "      <td>NEITHER THE BEST, NOR THE WORST</td>\n",
       "      <td>BAD</td>\n",
       "      <td>...</td>\n",
       "      <td>MIDDLE-LOW</td>\n",
       "      <td>0</td>\n",
       "      <td>IT IS THE SAME</td>\n",
       "      <td>IT WILL STAY THE SAME</td>\n",
       "      <td>SATISFIED</td>\n",
       "      <td>NORMAL</td>\n",
       "      <td>0</td>\n",
       "      <td>0</td>\n",
       "      <td>1</td>\n",
       "      <td>0</td>\n",
       "    </tr>\n",
       "  </tbody>\n",
       "</table>\n",
       "<p>5 rows × 35 columns</p>\n",
       "</div>"
      ],
      "text/plain": [
       "    ANY NOM_DISTRICTE  Would_not_stay_in_the_neighborhood  Gender  \\\n",
       "0  2011      EIXAMPLE                                 0.0       1   \n",
       "1  2011      EIXAMPLE                                 0.0       1   \n",
       "2  2011      EIXAMPLE                                 0.0       1   \n",
       "3  2011      EIXAMPLE                                 0.0       1   \n",
       "4  2011      EIXAMPLE                                 1.0       0   \n",
       "\n",
       "  Time_living_in_barri Barri_evolution           Barri_future  \\\n",
       "0   MORE THAN 10 YEARS     IT IS WORSE      IT WILL GET WORSE   \n",
       "1   MORE THAN 10 YEARS  IT IS THE SAME  IT WILL STAY THE SAME   \n",
       "2   MORE THAN 10 YEARS     IT IS WORSE  IT WILL STAY THE SAME   \n",
       "3   LESS THAN 10 YEARS     IT IS WORSE      IT WILL GET WORSE   \n",
       "4   MORE THAN 10 YEARS  IT IS THE SAME  IT WILL STAY THE SAME   \n",
       "\n",
       "  Barri_satisfaction_of_living                 Barri_comparison  \\\n",
       "0                NOT SATISFIED  NEITHER THE BEST, NOR THE WORST   \n",
       "1                    SATISFIED  NEITHER THE BEST, NOR THE WORST   \n",
       "2                    SATISFIED  NEITHER THE BEST, NOR THE WORST   \n",
       "3                    SATISFIED                  ONE OF THE BEST   \n",
       "4                NOT SATISFIED  NEITHER THE BEST, NOR THE WORST   \n",
       "\n",
       "  GARBAGE COLLECTION  ...   Social_class Living_alone   BCN_evolution  \\\n",
       "0               GOOD  ...    MIDDLE-HIGH            1     IT IS WORSE   \n",
       "1                BAD  ...  MIDDLE-MIDDLE            0     IT IS WORSE   \n",
       "2               GOOD  ...  MIDDLE-MIDDLE            1  IT IS THE SAME   \n",
       "3               GOOD  ...  MIDDLE-MIDDLE            1     IT IS WORSE   \n",
       "4                BAD  ...     MIDDLE-LOW            0  IT IS THE SAME   \n",
       "\n",
       "              BCN_future BCN_satisfaction_of_living BCN_transport  \\\n",
       "0      IT WILL GET WORSE                  SATISFIED          GOOD   \n",
       "1      IT WILL GET WORSE                  SATISFIED        NORMAL   \n",
       "2        IT WILL IMPROVE                  SATISFIED          GOOD   \n",
       "3  IT WILL STAY THE SAME                  SATISFIED          GOOD   \n",
       "4  IT WILL STAY THE SAME                  SATISFIED        NORMAL   \n",
       "\n",
       "  BCN_over_barri_evolution BCN_over_barri_future  \\\n",
       "0                        0                     0   \n",
       "1                        0                     0   \n",
       "2                        1                     1   \n",
       "3                        0                     1   \n",
       "4                        0                     0   \n",
       "\n",
       "  BCN_over_barri_satisfaction_of_living BCN_over_barri_transport  \n",
       "0                                     1                        0  \n",
       "1                                     0                        0  \n",
       "2                                     0                        0  \n",
       "3                                     0                        0  \n",
       "4                                     1                        0  \n",
       "\n",
       "[5 rows x 35 columns]"
      ]
     },
     "execution_count": 4,
     "metadata": {},
     "output_type": "execute_result"
    }
   ],
   "source": [
    "data.head()"
   ]
  },
  {
   "cell_type": "code",
   "execution_count": 5,
   "metadata": {},
   "outputs": [
    {
     "data": {
      "text/plain": [
       "(4531, 35)"
      ]
     },
     "execution_count": 5,
     "metadata": {},
     "output_type": "execute_result"
    }
   ],
   "source": [
    "data.shape"
   ]
  },
  {
   "cell_type": "code",
   "execution_count": 6,
   "metadata": {},
   "outputs": [
    {
     "data": {
      "text/plain": [
       "['ANY',\n",
       " 'NOM_DISTRICTE',\n",
       " 'Would_not_stay_in_the_neighborhood',\n",
       " 'Gender',\n",
       " 'Time_living_in_barri',\n",
       " 'Barri_evolution',\n",
       " 'Barri_future',\n",
       " 'Barri_satisfaction_of_living',\n",
       " 'Barri_comparison',\n",
       " 'GARBAGE COLLECTION',\n",
       " 'STREETS CLEANING',\n",
       " 'GREEN AREAS',\n",
       " 'PUBLIC LIGHTING',\n",
       " 'ASPHALT AND STREET CONSERVATION',\n",
       " 'FACADES AND BUILDING CONSERVATION',\n",
       " 'CIRCULATION',\n",
       " 'BUS',\n",
       " 'MUNICIPAL POLICE',\n",
       " 'CITIZEN SECURITY IN THE CITY AS A WHOLE',\n",
       " 'CITIZEN SECURITY IN THE NEIGHBORHOOD',\n",
       " 'MUNICIPAL MARKETS',\n",
       " 'Barri_transport',\n",
       " 'Owns_a_car',\n",
       " 'House_size',\n",
       " 'Monthly_family_income',\n",
       " 'Social_class',\n",
       " 'Living_alone',\n",
       " 'BCN_evolution',\n",
       " 'BCN_future',\n",
       " 'BCN_satisfaction_of_living',\n",
       " 'BCN_transport',\n",
       " 'BCN_over_barri_evolution',\n",
       " 'BCN_over_barri_future',\n",
       " 'BCN_over_barri_satisfaction_of_living',\n",
       " 'BCN_over_barri_transport']"
      ]
     },
     "execution_count": 6,
     "metadata": {},
     "output_type": "execute_result"
    }
   ],
   "source": [
    "data.columns.tolist()"
   ]
  },
  {
   "cell_type": "code",
   "execution_count": 7,
   "metadata": {},
   "outputs": [],
   "source": [
    "x_var = data.columns.tolist()"
   ]
  },
  {
   "cell_type": "code",
   "execution_count": 8,
   "metadata": {},
   "outputs": [],
   "source": [
    "for i in ['ANY', 'NOM_DISTRICTE', 'Would_not_stay_in_the_neighborhood',\n",
    "          'BCN_evolution', 'BCN_future', 'BCN_satisfaction_of_living', 'BCN_transport']:\n",
    "    x_var.remove(i)"
   ]
  },
  {
   "cell_type": "code",
   "execution_count": 9,
   "metadata": {},
   "outputs": [],
   "source": [
    "x = data[x_var]"
   ]
  },
  {
   "cell_type": "code",
   "execution_count": 10,
   "metadata": {},
   "outputs": [],
   "source": [
    "y = data['Would_not_stay_in_the_neighborhood']"
   ]
  },
  {
   "cell_type": "code",
   "execution_count": null,
   "metadata": {},
   "outputs": [],
   "source": []
  },
  {
   "cell_type": "code",
   "execution_count": 11,
   "metadata": {},
   "outputs": [],
   "source": [
    "x = pd.get_dummies(x, drop_first = True)"
   ]
  },
  {
   "cell_type": "code",
   "execution_count": 12,
   "metadata": {},
   "outputs": [],
   "source": [
    "# x = sm.add_constant(x)"
   ]
  },
  {
   "cell_type": "code",
   "execution_count": 13,
   "metadata": {},
   "outputs": [
    {
     "name": "stdout",
     "output_type": "stream",
     "text": [
      "Optimization terminated successfully.\n",
      "         Current function value: 0.305594\n",
      "         Iterations 7\n",
      "                                       Results: Logit\n",
      "=============================================================================================\n",
      "Model:                 Logit                                 Pseudo R-squared:    0.179      \n",
      "Dependent Variable:    Would_not_stay_in_the_neighborhood    AIC:                 2849.2936  \n",
      "Date:                  2021-04-15 21:26                      BIC:                 3106.0415  \n",
      "No. Observations:      4531                                  Log-Likelihood:      -1384.6    \n",
      "Df Model:              39                                    LL-Null:             -1686.8    \n",
      "Df Residuals:          4491                                  LLR p-value:         1.6819e-102\n",
      "Converged:             1.0000                                Scale:               1.0000     \n",
      "No. Iterations:        7.0000                                                                \n",
      "---------------------------------------------------------------------------------------------\n",
      "                                              Coef.  Std.Err.    z     P>|z|   [0.025  0.975]\n",
      "---------------------------------------------------------------------------------------------\n",
      "Gender                                        0.0840   0.1076   0.7807 0.4350 -0.1269  0.2950\n",
      "Owns_a_car                                    0.0509   0.1172   0.4347 0.6638 -0.1787  0.2806\n",
      "Living_alone                                  0.1948   0.1247   1.5627 0.1181 -0.0495  0.4391\n",
      "BCN_over_barri_evolution                     -0.0175   0.1640  -0.1065 0.9152 -0.3389  0.3040\n",
      "BCN_over_barri_future                         0.1525   0.1541   0.9895 0.3224 -0.1496  0.4546\n",
      "BCN_over_barri_satisfaction_of_living         0.5118   0.2349   2.1792 0.0293  0.0515  0.9722\n",
      "BCN_over_barri_transport                      0.3273   0.2131   1.5357 0.1246 -0.0904  0.7450\n",
      "Time_living_in_barri_LESS THAN 10 YEARS       1.2601   0.2359   5.3407 0.0000  0.7977  1.7225\n",
      "Time_living_in_barri_MORE THAN 10 YEARS       0.4120   0.1669   2.4687 0.0136  0.0849  0.7391\n",
      "Barri_evolution_IT IS THE SAME                0.0277   0.1352   0.2046 0.8379 -0.2373  0.2926\n",
      "Barri_evolution_IT IS WORSE                  -0.2220   0.1641  -1.3527 0.1761 -0.5437  0.0997\n",
      "Barri_future_IT WILL IMPROVE                 -0.4669   0.1696  -2.7532 0.0059 -0.7993 -0.1345\n",
      "Barri_future_IT WILL STAY THE SAME           -0.5678   0.1736  -3.2708 0.0011 -0.9080 -0.2276\n",
      "Barri_satisfaction_of_living_SATISFIED       -0.7989   0.2058  -3.8818 0.0001 -1.2023 -0.3955\n",
      "Barri_comparison_ONE OF THE BEST             -1.5334   0.1175 -13.0490 0.0000 -1.7637 -1.3031\n",
      "Barri_comparison_ONE OF THE WORST             0.9051   0.1767   5.1230 0.0000  0.5588  1.2513\n",
      "GARBAGE COLLECTION_GOOD                      -0.0185   0.2087  -0.0887 0.9293 -0.4276  0.3906\n",
      "STREETS CLEANING_GOOD                        -0.1499   0.1418  -1.0573 0.2904 -0.4279  0.1280\n",
      "GREEN AREAS_GOOD                             -0.2083   0.1331  -1.5651 0.1176 -0.4692  0.0526\n",
      "PUBLIC LIGHTING_GOOD                         -0.1678   0.1677  -1.0009 0.3169 -0.4965  0.1608\n",
      "ASPHALT AND STREET CONSERVATION_GOOD          0.1742   0.1337   1.3032 0.1925 -0.0878  0.4363\n",
      "FACADES AND BUILDING CONSERVATION_GOOD        0.0955   0.1578   0.6053 0.5450 -0.2138  0.4048\n",
      "CIRCULATION_GOOD                             -0.0639   0.1142  -0.5600 0.5755 -0.2877  0.1599\n",
      "BUS_GOOD                                     -0.2837   0.1724  -1.6457 0.0998 -0.6217  0.0542\n",
      "MUNICIPAL POLICE_GOOD                        -0.0619   0.1330  -0.4657 0.6415 -0.3225  0.1987\n",
      "CITIZEN SECURITY IN THE CITY AS A WHOLE_GOOD  0.2741   0.1386   1.9771 0.0480  0.0024  0.5457\n",
      "CITIZEN SECURITY IN THE NEIGHBORHOOD_GOOD    -0.3765   0.1404  -2.6809 0.0073 -0.6517 -0.1012\n",
      "MUNICIPAL MARKETS_GOOD                        0.2150   0.1874   1.1474 0.2512 -0.1523  0.5823\n",
      "Barri_transport_GOOD                          0.0410   0.2115   0.1938 0.8463 -0.3736  0.4556\n",
      "Barri_transport_NORMAL                        0.2685   0.2167   1.2390 0.2153 -0.1562  0.6933\n",
      "House_size_51-100 M2                          0.2494   0.1837   1.3575 0.1746 -0.1107  0.6094\n",
      "House_size_< 50 M2                            0.3768   0.2465   1.5288 0.1263 -0.1063  0.8599\n",
      "House_size_> 150 M2                           0.4952   0.3106   1.5945 0.1108 -0.1135  1.1039\n",
      "Monthly_family_income_2001-3000 EUROS         0.1784   0.1545   1.1546 0.2483 -0.1244  0.4811\n",
      "Monthly_family_income_< 1000 EUROS           -0.0912   0.1288  -0.7085 0.4786 -0.3437  0.1612\n",
      "Monthly_family_income_> 3000 EUROS            0.3046   0.2121   1.4361 0.1510 -0.1111  0.7204\n",
      "Social_class_LOW                             -0.8491   0.4255  -1.9955 0.0460 -1.6831 -0.0151\n",
      "Social_class_MIDDLE-HIGH                     -1.1403   0.4973  -2.2929 0.0219 -2.1150 -0.1656\n",
      "Social_class_MIDDLE-LOW                      -0.8213   0.4078  -2.0141 0.0440 -1.6206 -0.0221\n",
      "Social_class_MIDDLE-MIDDLE                   -0.8057   0.4036  -1.9961 0.0459 -1.5968 -0.0146\n",
      "=============================================================================================\n",
      "\n"
     ]
    }
   ],
   "source": [
    "logit_model = sm.Logit(y,x)\n",
    "result=logit_model.fit()\n",
    "print(result.summary2())"
   ]
  },
  {
   "cell_type": "code",
   "execution_count": 14,
   "metadata": {},
   "outputs": [
    {
     "data": {
      "text/plain": [
       "GARBAGE COLLECTION_GOOD                         9.293256e-01\n",
       "BCN_over_barri_evolution                        9.151620e-01\n",
       "Barri_transport_GOOD                            8.463396e-01\n",
       "Barri_evolution_IT IS THE SAME                  8.378724e-01\n",
       "Owns_a_car                                      6.637586e-01\n",
       "MUNICIPAL POLICE_GOOD                           6.414519e-01\n",
       "CIRCULATION_GOOD                                5.755090e-01\n",
       "FACADES AND BUILDING CONSERVATION_GOOD          5.449863e-01\n",
       "Monthly_family_income_< 1000 EUROS              4.786306e-01\n",
       "Gender                                          4.349799e-01\n",
       "BCN_over_barri_future                           3.224236e-01\n",
       "PUBLIC LIGHTING_GOOD                            3.168967e-01\n",
       "STREETS CLEANING_GOOD                           2.903554e-01\n",
       "MUNICIPAL MARKETS_GOOD                          2.512089e-01\n",
       "Monthly_family_income_2001-3000 EUROS           2.482588e-01\n",
       "Barri_transport_NORMAL                          2.153328e-01\n",
       "ASPHALT AND STREET CONSERVATION_GOOD            1.925222e-01\n",
       "Barri_evolution_IT IS WORSE                     1.761440e-01\n",
       "House_size_51-100 M2                            1.746309e-01\n",
       "Monthly_family_income_> 3000 EUROS              1.509747e-01\n",
       "House_size_< 50 M2                              1.263111e-01\n",
       "BCN_over_barri_transport                        1.246228e-01\n",
       "Living_alone                                    1.181195e-01\n",
       "GREEN AREAS_GOOD                                1.175574e-01\n",
       "House_size_> 150 M2                             1.108348e-01\n",
       "BUS_GOOD                                        9.983230e-02\n",
       "CITIZEN SECURITY IN THE CITY AS A WHOLE_GOOD    4.802762e-02\n",
       "Social_class_LOW                                4.599106e-02\n",
       "Social_class_MIDDLE-MIDDLE                      4.592244e-02\n",
       "Social_class_MIDDLE-LOW                         4.399719e-02\n",
       "BCN_over_barri_satisfaction_of_living           2.931587e-02\n",
       "Social_class_MIDDLE-HIGH                        2.185133e-02\n",
       "Time_living_in_barri_MORE THAN 10 YEARS         1.356016e-02\n",
       "CITIZEN SECURITY IN THE NEIGHBORHOOD_GOOD       7.342698e-03\n",
       "Barri_future_IT WILL IMPROVE                    5.901059e-03\n",
       "Barri_future_IT WILL STAY THE SAME              1.072497e-03\n",
       "Barri_satisfaction_of_living_SATISFIED          1.036869e-04\n",
       "Barri_comparison_ONE OF THE WORST               3.007278e-07\n",
       "Time_living_in_barri_LESS THAN 10 YEARS         9.256747e-08\n",
       "Barri_comparison_ONE OF THE BEST                6.441665e-39\n",
       "dtype: float64"
      ]
     },
     "execution_count": 14,
     "metadata": {},
     "output_type": "execute_result"
    }
   ],
   "source": [
    "result.pvalues.sort_values(ascending=False)"
   ]
  },
  {
   "cell_type": "code",
   "execution_count": 15,
   "metadata": {},
   "outputs": [
    {
     "data": {
      "image/png": "[encoded data removed]",
      "text/plain": [
       "<Figure size 432x288 with 1 Axes>"
      ]
     },
     "metadata": {
      "needs_background": "light"
     },
     "output_type": "display_data"
    }
   ],
   "source": [
    "logit_roc_auc = roc_auc_score(y, result.predict(x))\n",
    "fpr, tpr, thresholds = roc_curve(y, result.predict(x))\n",
    "plt.figure()\n",
    "plt.plot(fpr, tpr, label='Logistic Regression (area = %0.2f)' % logit_roc_auc)\n",
    "plt.plot([0, 1], [0, 1],'r--')\n",
    "plt.xlim([0.0, 1.0])\n",
    "plt.ylim([0.0, 1.05])\n",
    "plt.xlabel('False Positive Rate')\n",
    "plt.ylabel('True Positive Rate')\n",
    "plt.title('Receiver operating characteristic')\n",
    "plt.legend(loc=\"lower right\")\n",
    "#plt.savefig('Log_ROC')\n",
    "plt.show()"
   ]
  },
  {
   "cell_type": "code",
   "execution_count": null,
   "metadata": {},
   "outputs": [],
   "source": []
  },
  {
   "cell_type": "code",
   "execution_count": 16,
   "metadata": {},
   "outputs": [],
   "source": [
    "for i in ['GARBAGE COLLECTION', 'BCN_over_barri_evolution', 'Barri_transport', 'Barri_evolution', 'Owns_a_car']:\n",
    "    x_var.remove(i)"
   ]
  },
  {
   "cell_type": "code",
   "execution_count": 17,
   "metadata": {},
   "outputs": [],
   "source": [
    "x = data[x_var]\n",
    "x = pd.get_dummies(x, drop_first = True)"
   ]
  },
  {
   "cell_type": "code",
   "execution_count": 18,
   "metadata": {},
   "outputs": [
    {
     "name": "stdout",
     "output_type": "stream",
     "text": [
      "Optimization terminated successfully.\n",
      "         Current function value: 0.306124\n",
      "         Iterations 7\n",
      "                                       Results: Logit\n",
      "=============================================================================================\n",
      "Model:                 Logit                                 Pseudo R-squared:    0.178      \n",
      "Dependent Variable:    Would_not_stay_in_the_neighborhood    AIC:                 2840.0943  \n",
      "Date:                  2021-04-15 21:26                      BIC:                 3051.9114  \n",
      "No. Observations:      4531                                  Log-Likelihood:      -1387.0    \n",
      "Df Model:              32                                    LL-Null:             -1686.8    \n",
      "Df Residuals:          4498                                  LLR p-value:         7.1866e-106\n",
      "Converged:             1.0000                                Scale:               1.0000     \n",
      "No. Iterations:        7.0000                                                                \n",
      "---------------------------------------------------------------------------------------------\n",
      "                                              Coef.  Std.Err.    z     P>|z|   [0.025  0.975]\n",
      "---------------------------------------------------------------------------------------------\n",
      "Gender                                        0.0677   0.1064   0.6359 0.5248 -0.1409  0.2762\n",
      "Living_alone                                  0.1767   0.1212   1.4585 0.1447 -0.0608  0.4142\n",
      "BCN_over_barri_future                         0.1418   0.1518   0.9342 0.3502 -0.1557  0.4394\n",
      "BCN_over_barri_satisfaction_of_living         0.4716   0.2323   2.0296 0.0424  0.0162  0.9269\n",
      "BCN_over_barri_transport                      0.3708   0.1431   2.5909 0.0096  0.0903  0.6513\n",
      "Time_living_in_barri_LESS THAN 10 YEARS       1.2515   0.2348   5.3300 0.0000  0.7913  1.7116\n",
      "Time_living_in_barri_MORE THAN 10 YEARS       0.4051   0.1660   2.4404 0.0147  0.0798  0.7304\n",
      "Barri_future_IT WILL IMPROVE                 -0.3473   0.1496  -2.3218 0.0202 -0.6405 -0.0541\n",
      "Barri_future_IT WILL STAY THE SAME           -0.4240   0.1544  -2.7467 0.0060 -0.7266 -0.1215\n",
      "Barri_satisfaction_of_living_SATISFIED       -0.7945   0.2033  -3.9083 0.0001 -1.1929 -0.3961\n",
      "Barri_comparison_ONE OF THE BEST             -1.5249   0.1172 -13.0128 0.0000 -1.7545 -1.2952\n",
      "Barri_comparison_ONE OF THE WORST             0.8866   0.1749   5.0681 0.0000  0.5438  1.2295\n",
      "STREETS CLEANING_GOOD                        -0.1409   0.1365  -1.0319 0.3021 -0.4084  0.1267\n",
      "GREEN AREAS_GOOD                             -0.2050   0.1323  -1.5488 0.1214 -0.4643  0.0544\n",
      "PUBLIC LIGHTING_GOOD                         -0.1796   0.1654  -1.0861 0.2774 -0.5038  0.1445\n",
      "ASPHALT AND STREET CONSERVATION_GOOD          0.1783   0.1332   1.3386 0.1807 -0.0828  0.4393\n",
      "FACADES AND BUILDING CONSERVATION_GOOD        0.0931   0.1573   0.5921 0.5538 -0.2151  0.4014\n",
      "CIRCULATION_GOOD                             -0.0569   0.1137  -0.5005 0.6167 -0.2797  0.1659\n",
      "BUS_GOOD                                     -0.2554   0.1624  -1.5725 0.1158 -0.5736  0.0629\n",
      "MUNICIPAL POLICE_GOOD                        -0.0786   0.1326  -0.5926 0.5534 -0.3384  0.1813\n",
      "CITIZEN SECURITY IN THE CITY AS A WHOLE_GOOD  0.2739   0.1384   1.9793 0.0478  0.0027  0.5451\n",
      "CITIZEN SECURITY IN THE NEIGHBORHOOD_GOOD    -0.3573   0.1397  -2.5570 0.0106 -0.6312 -0.0834\n",
      "MUNICIPAL MARKETS_GOOD                        0.1977   0.1857   1.0645 0.2871 -0.1663  0.5616\n",
      "House_size_51-100 M2                          0.2460   0.1830   1.3439 0.1790 -0.1128  0.6047\n",
      "House_size_< 50 M2                            0.3628   0.2453   1.4793 0.1391 -0.1179  0.8435\n",
      "House_size_> 150 M2                           0.4793   0.3104   1.5444 0.1225 -0.1290  1.0877\n",
      "Monthly_family_income_2001-3000 EUROS         0.1769   0.1519   1.1647 0.2442 -0.1208  0.4746\n",
      "Monthly_family_income_< 1000 EUROS           -0.1035   0.1269  -0.8157 0.4147 -0.3522  0.1452\n",
      "Monthly_family_income_> 3000 EUROS            0.3075   0.2098   1.4658 0.1427 -0.1037  0.7186\n",
      "Social_class_LOW                             -0.9347   0.3771  -2.4784 0.0132 -1.6738 -0.1955\n",
      "Social_class_MIDDLE-HIGH                     -1.2151   0.4580  -2.6529 0.0080 -2.1128 -0.3174\n",
      "Social_class_MIDDLE-LOW                      -0.8952   0.3598  -2.4880 0.0128 -1.6004 -0.1900\n",
      "Social_class_MIDDLE-MIDDLE                   -0.8809   0.3548  -2.4827 0.0130 -1.5764 -0.1855\n",
      "=============================================================================================\n",
      "\n"
     ]
    }
   ],
   "source": [
    "logit_model = sm.Logit(y,x)\n",
    "result=logit_model.fit()\n",
    "print(result.summary2())"
   ]
  },
  {
   "cell_type": "code",
   "execution_count": 19,
   "metadata": {},
   "outputs": [
    {
     "data": {
      "text/plain": [
       "CIRCULATION_GOOD                                6.166958e-01\n",
       "FACADES AND BUILDING CONSERVATION_GOOD          5.537762e-01\n",
       "MUNICIPAL POLICE_GOOD                           5.534458e-01\n",
       "Gender                                          5.248419e-01\n",
       "Monthly_family_income_< 1000 EUROS              4.146879e-01\n",
       "BCN_over_barri_future                           3.501832e-01\n",
       "STREETS CLEANING_GOOD                           3.021299e-01\n",
       "MUNICIPAL MARKETS_GOOD                          2.870879e-01\n",
       "PUBLIC LIGHTING_GOOD                            2.774155e-01\n",
       "Monthly_family_income_2001-3000 EUROS           2.441590e-01\n",
       "ASPHALT AND STREET CONSERVATION_GOOD            1.806988e-01\n",
       "House_size_51-100 M2                            1.789817e-01\n",
       "Living_alone                                    1.446895e-01\n",
       "Monthly_family_income_> 3000 EUROS              1.427137e-01\n",
       "House_size_< 50 M2                              1.390550e-01\n",
       "House_size_> 150 M2                             1.224834e-01\n",
       "GREEN AREAS_GOOD                                1.214361e-01\n",
       "BUS_GOOD                                        1.158406e-01\n",
       "CITIZEN SECURITY IN THE CITY AS A WHOLE_GOOD    4.778136e-02\n",
       "BCN_over_barri_satisfaction_of_living           4.239880e-02\n",
       "Barri_future_IT WILL IMPROVE                    2.024257e-02\n",
       "Time_living_in_barri_MORE THAN 10 YEARS         1.466931e-02\n",
       "Social_class_LOW                                1.319579e-02\n",
       "Social_class_MIDDLE-MIDDLE                      1.303962e-02\n",
       "Social_class_MIDDLE-LOW                         1.284524e-02\n",
       "CITIZEN SECURITY IN THE NEIGHBORHOOD_GOOD       1.055704e-02\n",
       "BCN_over_barri_transport                        9.573458e-03\n",
       "Social_class_MIDDLE-HIGH                        7.981017e-03\n",
       "Barri_future_IT WILL STAY THE SAME              6.020196e-03\n",
       "Barri_satisfaction_of_living_SATISFIED          9.293179e-05\n",
       "Barri_comparison_ONE OF THE WORST               4.017659e-07\n",
       "Time_living_in_barri_LESS THAN 10 YEARS         9.822603e-08\n",
       "Barri_comparison_ONE OF THE BEST                1.034183e-38\n",
       "dtype: float64"
      ]
     },
     "execution_count": 19,
     "metadata": {},
     "output_type": "execute_result"
    }
   ],
   "source": [
    "result.pvalues.sort_values(ascending=False)"
   ]
  },
  {
   "cell_type": "code",
   "execution_count": 20,
   "metadata": {},
   "outputs": [
    {
     "data": {
      "image/png": "[encoded data removed]",
      "text/plain": [
       "<Figure size 432x288 with 1 Axes>"
      ]
     },
     "metadata": {
      "needs_background": "light"
     },
     "output_type": "display_data"
    }
   ],
   "source": [
    "logit_roc_auc = roc_auc_score(y, result.predict(x))\n",
    "fpr, tpr, thresholds = roc_curve(y, result.predict(x))\n",
    "plt.figure()\n",
    "plt.plot(fpr, tpr, label='Logistic Regression (area = %0.2f)' % logit_roc_auc)\n",
    "plt.plot([0, 1], [0, 1],'r--')\n",
    "plt.xlim([0.0, 1.0])\n",
    "plt.ylim([0.0, 1.05])\n",
    "plt.xlabel('False Positive Rate')\n",
    "plt.ylabel('True Positive Rate')\n",
    "plt.title('Receiver operating characteristic')\n",
    "plt.legend(loc=\"lower right\")\n",
    "#plt.savefig('Log_ROC')\n",
    "plt.show()"
   ]
  },
  {
   "cell_type": "code",
   "execution_count": null,
   "metadata": {},
   "outputs": [],
   "source": []
  },
  {
   "cell_type": "code",
   "execution_count": 21,
   "metadata": {},
   "outputs": [],
   "source": [
    "for i in ['FACADES AND BUILDING CONSERVATION', 'MUNICIPAL POLICE', 'CIRCULATION', 'Gender']:\n",
    "    x_var.remove(i)"
   ]
  },
  {
   "cell_type": "code",
   "execution_count": 22,
   "metadata": {},
   "outputs": [],
   "source": [
    "x = data[x_var]\n",
    "x = pd.get_dummies(x, drop_first = True)"
   ]
  },
  {
   "cell_type": "code",
   "execution_count": 23,
   "metadata": {},
   "outputs": [
    {
     "name": "stdout",
     "output_type": "stream",
     "text": [
      "Optimization terminated successfully.\n",
      "         Current function value: 0.306261\n",
      "         Iterations 7\n",
      "                                       Results: Logit\n",
      "=============================================================================================\n",
      "Model:                 Logit                                 Pseudo R-squared:    0.177      \n",
      "Dependent Variable:    Would_not_stay_in_the_neighborhood    AIC:                 2833.3386  \n",
      "Date:                  2021-04-15 21:26                      BIC:                 3019.4809  \n",
      "No. Observations:      4531                                  Log-Likelihood:      -1387.7    \n",
      "Df Model:              28                                    LL-Null:             -1686.8    \n",
      "Df Residuals:          4502                                  LLR p-value:         3.0238e-108\n",
      "Converged:             1.0000                                Scale:               1.0000     \n",
      "No. Iterations:        7.0000                                                                \n",
      "---------------------------------------------------------------------------------------------\n",
      "                                              Coef.  Std.Err.    z     P>|z|   [0.025  0.975]\n",
      "---------------------------------------------------------------------------------------------\n",
      "Living_alone                                  0.1909   0.1193   1.6011 0.1094 -0.0428  0.4247\n",
      "BCN_over_barri_future                         0.1360   0.1513   0.8988 0.3688 -0.1605  0.4325\n",
      "BCN_over_barri_satisfaction_of_living         0.4706   0.2321   2.0273 0.0426  0.0156  0.9256\n",
      "BCN_over_barri_transport                      0.3712   0.1430   2.5953 0.0094  0.0909  0.6515\n",
      "Time_living_in_barri_LESS THAN 10 YEARS       1.2466   0.2346   5.3133 0.0000  0.7868  1.7065\n",
      "Time_living_in_barri_MORE THAN 10 YEARS       0.4078   0.1660   2.4573 0.0140  0.0825  0.7331\n",
      "Barri_future_IT WILL IMPROVE                 -0.3510   0.1492  -2.3527 0.0186 -0.6435 -0.0586\n",
      "Barri_future_IT WILL STAY THE SAME           -0.4241   0.1541  -2.7515 0.0059 -0.7262 -0.1220\n",
      "Barri_satisfaction_of_living_SATISFIED       -0.7987   0.2023  -3.9489 0.0001 -1.1951 -0.4023\n",
      "Barri_comparison_ONE OF THE BEST             -1.5182   0.1168 -12.9988 0.0000 -1.7472 -1.2893\n",
      "Barri_comparison_ONE OF THE WORST             0.8819   0.1748   5.0461 0.0000  0.5394  1.2244\n",
      "STREETS CLEANING_GOOD                        -0.1457   0.1355  -1.0757 0.2821 -0.4112  0.1198\n",
      "GREEN AREAS_GOOD                             -0.2071   0.1304  -1.5878 0.1123 -0.4627  0.0485\n",
      "PUBLIC LIGHTING_GOOD                         -0.1869   0.1647  -1.1350 0.2564 -0.5098  0.1359\n",
      "ASPHALT AND STREET CONSERVATION_GOOD          0.1767   0.1303   1.3563 0.1750 -0.0786  0.4320\n",
      "BUS_GOOD                                     -0.2706   0.1611  -1.6803 0.0929 -0.5863  0.0450\n",
      "CITIZEN SECURITY IN THE CITY AS A WHOLE_GOOD  0.2550   0.1365   1.8686 0.0617 -0.0125  0.5225\n",
      "CITIZEN SECURITY IN THE NEIGHBORHOOD_GOOD    -0.3586   0.1391  -2.5771 0.0100 -0.6313 -0.0859\n",
      "MUNICIPAL MARKETS_GOOD                        0.1981   0.1851   1.0701 0.2846 -0.1647  0.5609\n",
      "House_size_51-100 M2                          0.2436   0.1831   1.3308 0.1832 -0.1152  0.6024\n",
      "House_size_< 50 M2                            0.3509   0.2449   1.4330 0.1519 -0.1291  0.8309\n",
      "House_size_> 150 M2                           0.4883   0.3100   1.5753 0.1152 -0.1193  1.0959\n",
      "Monthly_family_income_2001-3000 EUROS         0.1695   0.1517   1.1173 0.2639 -0.1278  0.4669\n",
      "Monthly_family_income_< 1000 EUROS           -0.0978   0.1259  -0.7768 0.4373 -0.3446  0.1490\n",
      "Monthly_family_income_> 3000 EUROS            0.2953   0.2095   1.4095 0.1587 -0.1153  0.7060\n",
      "Social_class_LOW                             -0.8752   0.3703  -2.3632 0.0181 -1.6010 -0.1493\n",
      "Social_class_MIDDLE-HIGH                     -1.1520   0.4520  -2.5485 0.0108 -2.0380 -0.2660\n",
      "Social_class_MIDDLE-LOW                      -0.8384   0.3529  -2.3759 0.0175 -1.5300 -0.1468\n",
      "Social_class_MIDDLE-MIDDLE                   -0.8197   0.3466  -2.3650 0.0180 -1.4990 -0.1404\n",
      "=============================================================================================\n",
      "\n"
     ]
    }
   ],
   "source": [
    "logit_model = sm.Logit(y,x)\n",
    "result=logit_model.fit()\n",
    "print(result.summary2())"
   ]
  },
  {
   "cell_type": "code",
   "execution_count": 24,
   "metadata": {},
   "outputs": [
    {
     "data": {
      "text/plain": [
       "Monthly_family_income_< 1000 EUROS              4.373059e-01\n",
       "BCN_over_barri_future                           3.687793e-01\n",
       "MUNICIPAL MARKETS_GOOD                          2.845520e-01\n",
       "STREETS CLEANING_GOOD                           2.820591e-01\n",
       "Monthly_family_income_2001-3000 EUROS           2.638510e-01\n",
       "PUBLIC LIGHTING_GOOD                            2.563611e-01\n",
       "House_size_51-100 M2                            1.832458e-01\n",
       "ASPHALT AND STREET CONSERVATION_GOOD            1.749885e-01\n",
       "Monthly_family_income_> 3000 EUROS              1.586795e-01\n",
       "House_size_< 50 M2                              1.518652e-01\n",
       "House_size_> 150 M2                             1.151963e-01\n",
       "GREEN AREAS_GOOD                                1.123298e-01\n",
       "Living_alone                                    1.093604e-01\n",
       "BUS_GOOD                                        9.289572e-02\n",
       "CITIZEN SECURITY IN THE CITY AS A WHOLE_GOOD    6.167851e-02\n",
       "BCN_over_barri_satisfaction_of_living           4.263587e-02\n",
       "Barri_future_IT WILL IMPROVE                    1.863626e-02\n",
       "Social_class_LOW                                1.812021e-02\n",
       "Social_class_MIDDLE-MIDDLE                      1.803116e-02\n",
       "Social_class_MIDDLE-LOW                         1.750523e-02\n",
       "Time_living_in_barri_MORE THAN 10 YEARS         1.399810e-02\n",
       "Social_class_MIDDLE-HIGH                        1.081888e-02\n",
       "CITIZEN SECURITY IN THE NEIGHBORHOOD_GOOD       9.963108e-03\n",
       "BCN_over_barri_transport                        9.449602e-03\n",
       "Barri_future_IT WILL STAY THE SAME              5.932424e-03\n",
       "Barri_satisfaction_of_living_SATISFIED          7.852597e-05\n",
       "Barri_comparison_ONE OF THE WORST               4.509346e-07\n",
       "Time_living_in_barri_LESS THAN 10 YEARS         1.076661e-07\n",
       "Barri_comparison_ONE OF THE BEST                1.243562e-38\n",
       "dtype: float64"
      ]
     },
     "execution_count": 24,
     "metadata": {},
     "output_type": "execute_result"
    }
   ],
   "source": [
    "result.pvalues.sort_values(ascending=False)"
   ]
  },
  {
   "cell_type": "code",
   "execution_count": 25,
   "metadata": {},
   "outputs": [
    {
     "data": {
      "image/png": "[encoded data removed]",
      "text/plain": [
       "<Figure size 432x288 with 1 Axes>"
      ]
     },
     "metadata": {
      "needs_background": "light"
     },
     "output_type": "display_data"
    }
   ],
   "source": [
    "logit_roc_auc = roc_auc_score(y, result.predict(x))\n",
    "fpr, tpr, thresholds = roc_curve(y, result.predict(x))\n",
    "plt.figure()\n",
    "plt.plot(fpr, tpr, label='Logistic Regression (area = %0.2f)' % logit_roc_auc)\n",
    "plt.plot([0, 1], [0, 1],'r--')\n",
    "plt.xlim([0.0, 1.0])\n",
    "plt.ylim([0.0, 1.05])\n",
    "plt.xlabel('False Positive Rate')\n",
    "plt.ylabel('True Positive Rate')\n",
    "plt.title('Receiver operating characteristic')\n",
    "plt.legend(loc=\"lower right\")\n",
    "#plt.savefig('Log_ROC')\n",
    "plt.show()"
   ]
  },
  {
   "cell_type": "code",
   "execution_count": null,
   "metadata": {},
   "outputs": [],
   "source": []
  },
  {
   "cell_type": "code",
   "execution_count": 26,
   "metadata": {},
   "outputs": [],
   "source": [
    "for i in ['BCN_over_barri_future', 'MUNICIPAL MARKETS', 'STREETS CLEANING', 'Monthly_family_income', 'PUBLIC LIGHTING']:\n",
    "    x_var.remove(i)"
   ]
  },
  {
   "cell_type": "code",
   "execution_count": 27,
   "metadata": {},
   "outputs": [],
   "source": [
    "x = data[x_var]\n",
    "x = pd.get_dummies(x, drop_first = True)"
   ]
  },
  {
   "cell_type": "code",
   "execution_count": 28,
   "metadata": {},
   "outputs": [
    {
     "name": "stdout",
     "output_type": "stream",
     "text": [
      "Optimization terminated successfully.\n",
      "         Current function value: 0.307201\n",
      "         Iterations 7\n",
      "                                       Results: Logit\n",
      "=============================================================================================\n",
      "Model:                 Logit                                 Pseudo R-squared:    0.175      \n",
      "Dependent Variable:    Would_not_stay_in_the_neighborhood    AIC:                 2827.8556  \n",
      "Date:                  2021-04-15 21:26                      BIC:                 2969.0670  \n",
      "No. Observations:      4531                                  Log-Likelihood:      -1391.9    \n",
      "Df Model:              21                                    LL-Null:             -1686.8    \n",
      "Df Residuals:          4509                                  LLR p-value:         2.1876e-111\n",
      "Converged:             1.0000                                Scale:               1.0000     \n",
      "No. Iterations:        7.0000                                                                \n",
      "---------------------------------------------------------------------------------------------\n",
      "                                              Coef.  Std.Err.    z     P>|z|   [0.025  0.975]\n",
      "---------------------------------------------------------------------------------------------\n",
      "Living_alone                                  0.1155   0.1086   1.0637 0.2875 -0.0973  0.3284\n",
      "BCN_over_barri_satisfaction_of_living         0.4904   0.2302   2.1301 0.0332  0.0392  0.9417\n",
      "BCN_over_barri_transport                      0.3623   0.1429   2.5352 0.0112  0.0822  0.6423\n",
      "Time_living_in_barri_LESS THAN 10 YEARS       1.2711   0.2344   5.4239 0.0000  0.8118  1.7304\n",
      "Time_living_in_barri_MORE THAN 10 YEARS       0.4196   0.1660   2.5280 0.0115  0.0943  0.7449\n",
      "Barri_future_IT WILL IMPROVE                 -0.4172   0.1297  -3.2167 0.0013 -0.6715 -0.1630\n",
      "Barri_future_IT WILL STAY THE SAME           -0.4144   0.1535  -2.6994 0.0069 -0.7152 -0.1135\n",
      "Barri_satisfaction_of_living_SATISFIED       -0.7790   0.1999  -3.8973 0.0001 -1.1707 -0.3872\n",
      "Barri_comparison_ONE OF THE BEST             -1.5006   0.1162 -12.9120 0.0000 -1.7283 -1.2728\n",
      "Barri_comparison_ONE OF THE WORST             0.8889   0.1743   5.1006 0.0000  0.5473  1.2305\n",
      "GREEN AREAS_GOOD                             -0.2424   0.1278  -1.8973 0.0578 -0.4929  0.0080\n",
      "ASPHALT AND STREET CONSERVATION_GOOD          0.1450   0.1268   1.1434 0.2529 -0.1036  0.3936\n",
      "BUS_GOOD                                     -0.2662   0.1595  -1.6686 0.0952 -0.5789  0.0465\n",
      "CITIZEN SECURITY IN THE CITY AS A WHOLE_GOOD  0.2654   0.1359   1.9530 0.0508 -0.0009  0.5317\n",
      "CITIZEN SECURITY IN THE NEIGHBORHOOD_GOOD    -0.3522   0.1385  -2.5432 0.0110 -0.6237 -0.0808\n",
      "House_size_51-100 M2                          0.1904   0.1809   1.0527 0.2925 -0.1641  0.5450\n",
      "House_size_< 50 M2                            0.2735   0.2406   1.1366 0.2557 -0.1981  0.7452\n",
      "House_size_> 150 M2                           0.5293   0.3090   1.7129 0.0867 -0.0763  1.1349\n",
      "Social_class_LOW                             -0.8884   0.3369  -2.6370 0.0084 -1.5487 -0.2281\n",
      "Social_class_MIDDLE-HIGH                     -1.0275   0.4227  -2.4309 0.0151 -1.8559 -0.1990\n",
      "Social_class_MIDDLE-LOW                      -0.8148   0.3187  -2.5569 0.0106 -1.4393 -0.1902\n",
      "Social_class_MIDDLE-MIDDLE                   -0.7472   0.3093  -2.4155 0.0157 -1.3534 -0.1409\n",
      "=============================================================================================\n",
      "\n"
     ]
    }
   ],
   "source": [
    "logit_model = sm.Logit(y,x)\n",
    "result=logit_model.fit()\n",
    "print(result.summary2())"
   ]
  },
  {
   "cell_type": "code",
   "execution_count": 29,
   "metadata": {},
   "outputs": [
    {
     "data": {
      "text/plain": [
       "House_size_51-100 M2                            2.924579e-01\n",
       "Living_alone                                    2.874739e-01\n",
       "House_size_< 50 M2                              2.557090e-01\n",
       "ASPHALT AND STREET CONSERVATION_GOOD            2.528628e-01\n",
       "BUS_GOOD                                        9.518769e-02\n",
       "House_size_> 150 M2                             8.673218e-02\n",
       "GREEN AREAS_GOOD                                5.779307e-02\n",
       "CITIZEN SECURITY IN THE CITY AS A WHOLE_GOOD    5.082005e-02\n",
       "BCN_over_barri_satisfaction_of_living           3.316672e-02\n",
       "Social_class_MIDDLE-MIDDLE                      1.571353e-02\n",
       "Social_class_MIDDLE-HIGH                        1.506337e-02\n",
       "Time_living_in_barri_MORE THAN 10 YEARS         1.147237e-02\n",
       "BCN_over_barri_transport                        1.123741e-02\n",
       "CITIZEN SECURITY IN THE NEIGHBORHOOD_GOOD       1.098532e-02\n",
       "Social_class_MIDDLE-LOW                         1.056081e-02\n",
       "Social_class_LOW                                8.365345e-03\n",
       "Barri_future_IT WILL STAY THE SAME              6.947505e-03\n",
       "Barri_future_IT WILL IMPROVE                    1.296918e-03\n",
       "Barri_satisfaction_of_living_SATISFIED          9.728927e-05\n",
       "Barri_comparison_ONE OF THE WORST               3.385872e-07\n",
       "Time_living_in_barri_LESS THAN 10 YEARS         5.831041e-08\n",
       "Barri_comparison_ONE OF THE BEST                3.853112e-38\n",
       "dtype: float64"
      ]
     },
     "execution_count": 29,
     "metadata": {},
     "output_type": "execute_result"
    }
   ],
   "source": [
    "result.pvalues.sort_values(ascending=False)"
   ]
  },
  {
   "cell_type": "code",
   "execution_count": 30,
   "metadata": {},
   "outputs": [
    {
     "data": {
      "image/png": "[encoded data removed]",
      "text/plain": [
       "<Figure size 432x288 with 1 Axes>"
      ]
     },
     "metadata": {
      "needs_background": "light"
     },
     "output_type": "display_data"
    }
   ],
   "source": [
    "logit_roc_auc = roc_auc_score(y, result.predict(x))\n",
    "fpr, tpr, thresholds = roc_curve(y, result.predict(x))\n",
    "plt.figure()\n",
    "plt.plot(fpr, tpr, label='Logistic Regression (area = %0.2f)' % logit_roc_auc)\n",
    "plt.plot([0, 1], [0, 1],'r--')\n",
    "plt.xlim([0.0, 1.0])\n",
    "plt.ylim([0.0, 1.05])\n",
    "plt.xlabel('False Positive Rate')\n",
    "plt.ylabel('True Positive Rate')\n",
    "plt.title('Receiver operating characteristic')\n",
    "plt.legend(loc=\"lower right\")\n",
    "#plt.savefig('Log_ROC')\n",
    "plt.show()"
   ]
  },
  {
   "cell_type": "code",
   "execution_count": null,
   "metadata": {},
   "outputs": [],
   "source": []
  },
  {
   "cell_type": "code",
   "execution_count": 31,
   "metadata": {},
   "outputs": [],
   "source": [
    "for i in ['House_size', 'Living_alone', 'ASPHALT AND STREET CONSERVATION']:\n",
    "    x_var.remove(i)"
   ]
  },
  {
   "cell_type": "code",
   "execution_count": 32,
   "metadata": {},
   "outputs": [],
   "source": [
    "x = data[x_var]\n",
    "x = pd.get_dummies(x, drop_first = True)"
   ]
  },
  {
   "cell_type": "code",
   "execution_count": 33,
   "metadata": {},
   "outputs": [
    {
     "name": "stdout",
     "output_type": "stream",
     "text": [
      "Optimization terminated successfully.\n",
      "         Current function value: 0.307867\n",
      "         Iterations 7\n",
      "                                       Results: Logit\n",
      "=============================================================================================\n",
      "Model:                 Logit                                 Pseudo R-squared:    0.173      \n",
      "Dependent Variable:    Would_not_stay_in_the_neighborhood    AIC:                 2823.8898  \n",
      "Date:                  2021-04-15 21:26                      BIC:                 2933.0076  \n",
      "No. Observations:      4531                                  Log-Likelihood:      -1394.9    \n",
      "Df Model:              16                                    LL-Null:             -1686.8    \n",
      "Df Residuals:          4514                                  LLR p-value:         6.2087e-114\n",
      "Converged:             1.0000                                Scale:               1.0000     \n",
      "No. Iterations:        7.0000                                                                \n",
      "---------------------------------------------------------------------------------------------\n",
      "                                              Coef.  Std.Err.    z     P>|z|   [0.025  0.975]\n",
      "---------------------------------------------------------------------------------------------\n",
      "BCN_over_barri_satisfaction_of_living         0.5066   0.2303   2.1998 0.0278  0.0552  0.9580\n",
      "BCN_over_barri_transport                      0.3665   0.1422   2.5770 0.0100  0.0878  0.6453\n",
      "Time_living_in_barri_LESS THAN 10 YEARS       1.3038   0.2336   5.5817 0.0000  0.8460  1.7616\n",
      "Time_living_in_barri_MORE THAN 10 YEARS       0.4303   0.1666   2.5828 0.0098  0.1038  0.7568\n",
      "Barri_future_IT WILL IMPROVE                 -0.4057   0.1294  -3.1357 0.0017 -0.6592 -0.1521\n",
      "Barri_future_IT WILL STAY THE SAME           -0.4003   0.1533  -2.6116 0.0090 -0.7007 -0.0999\n",
      "Barri_satisfaction_of_living_SATISFIED       -0.7581   0.2001  -3.7892 0.0002 -1.1502 -0.3660\n",
      "Barri_comparison_ONE OF THE BEST             -1.4932   0.1156 -12.9153 0.0000 -1.7197 -1.2666\n",
      "Barri_comparison_ONE OF THE WORST             0.8803   0.1734   5.0767 0.0000  0.5405  1.2202\n",
      "GREEN AREAS_GOOD                             -0.2109   0.1256  -1.6799 0.0930 -0.4570  0.0352\n",
      "BUS_GOOD                                     -0.2412   0.1587  -1.5205 0.1284 -0.5522  0.0697\n",
      "CITIZEN SECURITY IN THE CITY AS A WHOLE_GOOD  0.2740   0.1351   2.0282 0.0425  0.0092  0.5388\n",
      "CITIZEN SECURITY IN THE NEIGHBORHOOD_GOOD    -0.3396   0.1373  -2.4736 0.0134 -0.6087 -0.0705\n",
      "Social_class_LOW                             -0.6266   0.2995  -2.0923 0.0364 -1.2136 -0.0396\n",
      "Social_class_MIDDLE-HIGH                     -0.7820   0.4058  -1.9271 0.0540 -1.5773  0.0133\n",
      "Social_class_MIDDLE-LOW                      -0.5804   0.2830  -2.0507 0.0403 -1.1350 -0.0257\n",
      "Social_class_MIDDLE-MIDDLE                   -0.5152   0.2779  -1.8540 0.0637 -1.0598  0.0294\n",
      "=============================================================================================\n",
      "\n"
     ]
    }
   ],
   "source": [
    "logit_model = sm.Logit(y,x)\n",
    "result=logit_model.fit()\n",
    "print(result.summary2())"
   ]
  },
  {
   "cell_type": "code",
   "execution_count": 34,
   "metadata": {
    "scrolled": true
   },
   "outputs": [
    {
     "data": {
      "text/plain": [
       "BUS_GOOD                                        1.283854e-01\n",
       "GREEN AREAS_GOOD                                9.298168e-02\n",
       "Social_class_MIDDLE-MIDDLE                      6.374127e-02\n",
       "Social_class_MIDDLE-HIGH                        5.396609e-02\n",
       "CITIZEN SECURITY IN THE CITY AS A WHOLE_GOOD    4.254300e-02\n",
       "Social_class_MIDDLE-LOW                         4.029244e-02\n",
       "Social_class_LOW                                3.641516e-02\n",
       "BCN_over_barri_satisfaction_of_living           2.782324e-02\n",
       "CITIZEN SECURITY IN THE NEIGHBORHOOD_GOOD       1.337473e-02\n",
       "BCN_over_barri_transport                        9.966625e-03\n",
       "Time_living_in_barri_MORE THAN 10 YEARS         9.799170e-03\n",
       "Barri_future_IT WILL STAY THE SAME              9.011909e-03\n",
       "Barri_future_IT WILL IMPROVE                    1.714337e-03\n",
       "Barri_satisfaction_of_living_SATISFIED          1.511147e-04\n",
       "Barri_comparison_ONE OF THE WORST               3.840501e-07\n",
       "Time_living_in_barri_LESS THAN 10 YEARS         2.382173e-08\n",
       "Barri_comparison_ONE OF THE BEST                3.690017e-38\n",
       "dtype: float64"
      ]
     },
     "execution_count": 34,
     "metadata": {},
     "output_type": "execute_result"
    }
   ],
   "source": [
    "result.pvalues.sort_values(ascending=False)"
   ]
  },
  {
   "cell_type": "code",
   "execution_count": null,
   "metadata": {},
   "outputs": [],
   "source": []
  },
  {
   "cell_type": "code",
   "execution_count": 35,
   "metadata": {},
   "outputs": [
    {
     "name": "stdout",
     "output_type": "stream",
     "text": [
      "                Logit Marginal Effects               \n",
      "=====================================================\n",
      "Dep. Variable:     Would_not_stay_in_the_neighborhood\n",
      "Method:                                          dydx\n",
      "At:                                           overall\n",
      "================================================================================================================\n",
      "                                                  dy/dx    std err          z      P>|z|      [0.025      0.975]\n",
      "----------------------------------------------------------------------------------------------------------------\n",
      "BCN_over_barri_satisfaction_of_living            0.0457      0.021      2.204      0.028       0.005       0.086\n",
      "BCN_over_barri_transport                         0.0331      0.013      2.580      0.010       0.008       0.058\n",
      "Time_living_in_barri_LESS THAN 10 YEARS          0.1176      0.021      5.602      0.000       0.076       0.159\n",
      "Time_living_in_barri_MORE THAN 10 YEARS          0.0388      0.015      2.583      0.010       0.009       0.068\n",
      "Barri_future_IT WILL IMPROVE                    -0.0366      0.012     -3.141      0.002      -0.059      -0.014\n",
      "Barri_future_IT WILL STAY THE SAME              -0.0361      0.014     -2.615      0.009      -0.063      -0.009\n",
      "Barri_satisfaction_of_living_SATISFIED          -0.0684      0.018     -3.811      0.000      -0.104      -0.033\n",
      "Barri_comparison_ONE OF THE BEST                -0.1347      0.011    -12.792      0.000      -0.155      -0.114\n",
      "Barri_comparison_ONE OF THE WORST                0.0794      0.015      5.146      0.000       0.049       0.110\n",
      "GREEN AREAS_GOOD                                -0.0190      0.011     -1.681      0.093      -0.041       0.003\n",
      "BUS_GOOD                                        -0.0218      0.014     -1.522      0.128      -0.050       0.006\n",
      "CITIZEN SECURITY IN THE CITY AS A WHOLE_GOOD     0.0247      0.012      2.030      0.042       0.001       0.049\n",
      "CITIZEN SECURITY IN THE NEIGHBORHOOD_GOOD       -0.0306      0.012     -2.477      0.013      -0.055      -0.006\n",
      "Social_class_LOW                                -0.0565      0.027     -2.096      0.036      -0.109      -0.004\n",
      "Social_class_MIDDLE-HIGH                        -0.0705      0.037     -1.929      0.054      -0.142       0.001\n",
      "Social_class_MIDDLE-LOW                         -0.0523      0.025     -2.054      0.040      -0.102      -0.002\n",
      "Social_class_MIDDLE-MIDDLE                      -0.0465      0.025     -1.857      0.063      -0.096       0.003\n",
      "================================================================================================================\n"
     ]
    }
   ],
   "source": [
    "print(result.get_margeff().summary())"
   ]
  },
  {
   "cell_type": "code",
   "execution_count": null,
   "metadata": {},
   "outputs": [],
   "source": []
  },
  {
   "cell_type": "code",
   "execution_count": 36,
   "metadata": {},
   "outputs": [
    {
     "data": {
      "text/plain": [
       "array([[3923.,   52.],\n",
       "       [ 471.,   85.]])"
      ]
     },
     "execution_count": 36,
     "metadata": {},
     "output_type": "execute_result"
    }
   ],
   "source": [
    "result.pred_table()"
   ]
  },
  {
   "cell_type": "code",
   "execution_count": null,
   "metadata": {},
   "outputs": [],
   "source": []
  },
  {
   "cell_type": "code",
   "execution_count": 37,
   "metadata": {},
   "outputs": [
    {
     "data": {
      "image/png": "[encoded data removed]",
      "text/plain": [
       "<Figure size 432x288 with 1 Axes>"
      ]
     },
     "metadata": {
      "needs_background": "light"
     },
     "output_type": "display_data"
    }
   ],
   "source": [
    "logit_roc_auc = roc_auc_score(y, result.predict(x))\n",
    "fpr, tpr, thresholds = roc_curve(y, result.predict(x))\n",
    "plt.figure()\n",
    "plt.plot(fpr, tpr, label='Logistic Regression (area = %0.2f)' % logit_roc_auc)\n",
    "plt.plot([0, 1], [0, 1],'r--')\n",
    "plt.xlim([0.0, 1.0])\n",
    "plt.ylim([0.0, 1.05])\n",
    "plt.xlabel('False Positive Rate')\n",
    "plt.ylabel('True Positive Rate')\n",
    "plt.title('Receiver operating characteristic')\n",
    "plt.legend(loc=\"lower right\")\n",
    "#plt.savefig('Log_ROC')\n",
    "plt.show()"
   ]
  },
  {
   "cell_type": "code",
   "execution_count": null,
   "metadata": {},
   "outputs": [],
   "source": []
  }
 ],
 "metadata": {
  "kernelspec": {
   "display_name": "Python 3",
   "language": "python",
   "name": "python3"
  },
  "language_info": {
   "codemirror_mode": {
    "name": "ipython",
    "version": 3
   },
   "file_extension": ".py",
   "mimetype": "text/x-python",
   "name": "python",
   "nbconvert_exporter": "python",
   "pygments_lexer": "ipython3",
   "version": "3.7.6"
  }
 },
 "nbformat": 4,
 "nbformat_minor": 4
}
