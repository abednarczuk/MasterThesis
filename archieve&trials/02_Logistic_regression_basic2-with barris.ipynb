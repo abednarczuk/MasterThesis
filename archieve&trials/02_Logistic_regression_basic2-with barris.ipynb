{
 "cells": [
  {
   "cell_type": "markdown",
   "metadata": {},
   "source": [
    "Aleksandra Bednarczuk"
   ]
  },
  {
   "cell_type": "markdown",
   "metadata": {},
   "source": [
    "# Predictors of elderly citizens willingness to stay in the neighbourhood\n",
    "# Logistic regression"
   ]
  },
  {
   "cell_type": "markdown",
   "metadata": {},
   "source": [
    "Missing values (\"I DON'T KNOW\") replaced with most common answer (mode) or with the most neutral answer (e.g. \"NORMAL\" or \"IT IS THE SAME\")."
   ]
  },
  {
   "cell_type": "code",
   "execution_count": 1,
   "metadata": {},
   "outputs": [],
   "source": [
    "import pandas as pd\n",
    "import numpy as np\n",
    "\n",
    "import matplotlib.pyplot as plt"
   ]
  },
  {
   "cell_type": "code",
   "execution_count": 2,
   "metadata": {},
   "outputs": [],
   "source": [
    "from imblearn.over_sampling import SMOTE\n",
    "\n",
    "import statsmodels.api as sm\n",
    "import statsmodels.formula.api as smf\n",
    "\n",
    "from sklearn.model_selection import train_test_split\n",
    "from sklearn.feature_selection import RFE\n",
    "from sklearn.linear_model import LogisticRegression\n",
    "\n",
    "from sklearn.metrics import accuracy_score\n",
    "from sklearn.metrics import classification_report\n",
    "from sklearn.metrics import confusion_matrix\n",
    "from sklearn.metrics import roc_auc_score\n",
    "from sklearn.metrics import roc_curve\n",
    "from sklearn.metrics import r2_score\n",
    "\n",
    "from sklearn.feature_selection import SelectKBest\n",
    "from sklearn.feature_selection import chi2\n",
    "from sklearn.feature_selection import mutual_info_classif\n",
    "from sklearn.feature_selection import f_classif\n",
    "from sklearn.preprocessing import LabelEncoder\n",
    "from sklearn.preprocessing import OrdinalEncoder\n",
    "\n",
    "from scipy import stats"
   ]
  },
  {
   "cell_type": "code",
   "execution_count": null,
   "metadata": {},
   "outputs": [],
   "source": []
  },
  {
   "cell_type": "code",
   "execution_count": 3,
   "metadata": {},
   "outputs": [],
   "source": [
    "data = pd.read_pickle(\"survey_transformed2.pkl\")"
   ]
  },
  {
   "cell_type": "code",
   "execution_count": 4,
   "metadata": {},
   "outputs": [
    {
     "data": {
      "text/html": [
       "<div>\n",
       "<style scoped>\n",
       "    .dataframe tbody tr th:only-of-type {\n",
       "        vertical-align: middle;\n",
       "    }\n",
       "\n",
       "    .dataframe tbody tr th {\n",
       "        vertical-align: top;\n",
       "    }\n",
       "\n",
       "    .dataframe thead th {\n",
       "        text-align: right;\n",
       "    }\n",
       "</style>\n",
       "<table border=\"1\" class=\"dataframe\">\n",
       "  <thead>\n",
       "    <tr style=\"text-align: right;\">\n",
       "      <th></th>\n",
       "      <th>ANY</th>\n",
       "      <th>NOM_DISTRICTE</th>\n",
       "      <th>Would_not_stay_in_the_neighborhood</th>\n",
       "      <th>Gender</th>\n",
       "      <th>Time_living_in_barri</th>\n",
       "      <th>Barri_evolution2</th>\n",
       "      <th>Barri_future2</th>\n",
       "      <th>Barri_satisfaction_of_living</th>\n",
       "      <th>Barri_comparison2</th>\n",
       "      <th>GARBAGE COLLECTION</th>\n",
       "      <th>...</th>\n",
       "      <th>Social_class2</th>\n",
       "      <th>Living_alone</th>\n",
       "      <th>BCN_evolution2</th>\n",
       "      <th>BCN_future2</th>\n",
       "      <th>BCN_satisfaction_of_living</th>\n",
       "      <th>BCN_transport</th>\n",
       "      <th>BCN_over_barri_evolution2</th>\n",
       "      <th>BCN_over_barri_future2</th>\n",
       "      <th>BCN_over_barri_satisfaction_of_living</th>\n",
       "      <th>BCN_over_barri_transport</th>\n",
       "    </tr>\n",
       "  </thead>\n",
       "  <tbody>\n",
       "    <tr>\n",
       "      <th>0</th>\n",
       "      <td>2011</td>\n",
       "      <td>EIXAMPLE</td>\n",
       "      <td>0.0</td>\n",
       "      <td>1</td>\n",
       "      <td>MORE THAN 10 YEARS</td>\n",
       "      <td>IT IS WORSE</td>\n",
       "      <td>IT WILL GET WORSE</td>\n",
       "      <td>NOT SATISFIED</td>\n",
       "      <td>NEITHER THE BEST, NOR THE WORST</td>\n",
       "      <td>GOOD</td>\n",
       "      <td>...</td>\n",
       "      <td>MIDDLE-HIGH</td>\n",
       "      <td>1</td>\n",
       "      <td>IT IS WORSE</td>\n",
       "      <td>IT WILL GET WORSE</td>\n",
       "      <td>SATISFIED</td>\n",
       "      <td>GOOD</td>\n",
       "      <td>0</td>\n",
       "      <td>0</td>\n",
       "      <td>1</td>\n",
       "      <td>0</td>\n",
       "    </tr>\n",
       "    <tr>\n",
       "      <th>1</th>\n",
       "      <td>2011</td>\n",
       "      <td>EIXAMPLE</td>\n",
       "      <td>0.0</td>\n",
       "      <td>1</td>\n",
       "      <td>MORE THAN 10 YEARS</td>\n",
       "      <td>IT IS THE SAME</td>\n",
       "      <td>IT WILL STAY THE SAME</td>\n",
       "      <td>SATISFIED</td>\n",
       "      <td>NEITHER THE BEST, NOR THE WORST</td>\n",
       "      <td>BAD</td>\n",
       "      <td>...</td>\n",
       "      <td>MIDDLE-MIDDLE</td>\n",
       "      <td>0</td>\n",
       "      <td>IT IS WORSE</td>\n",
       "      <td>IT WILL GET WORSE</td>\n",
       "      <td>SATISFIED</td>\n",
       "      <td>NORMAL</td>\n",
       "      <td>0</td>\n",
       "      <td>0</td>\n",
       "      <td>0</td>\n",
       "      <td>0</td>\n",
       "    </tr>\n",
       "    <tr>\n",
       "      <th>2</th>\n",
       "      <td>2011</td>\n",
       "      <td>EIXAMPLE</td>\n",
       "      <td>0.0</td>\n",
       "      <td>1</td>\n",
       "      <td>MORE THAN 10 YEARS</td>\n",
       "      <td>IT IS WORSE</td>\n",
       "      <td>IT WILL STAY THE SAME</td>\n",
       "      <td>SATISFIED</td>\n",
       "      <td>NEITHER THE BEST, NOR THE WORST</td>\n",
       "      <td>GOOD</td>\n",
       "      <td>...</td>\n",
       "      <td>MIDDLE-MIDDLE</td>\n",
       "      <td>1</td>\n",
       "      <td>IT IS THE SAME</td>\n",
       "      <td>IT WILL IMPROVE</td>\n",
       "      <td>SATISFIED</td>\n",
       "      <td>GOOD</td>\n",
       "      <td>1</td>\n",
       "      <td>1</td>\n",
       "      <td>0</td>\n",
       "      <td>0</td>\n",
       "    </tr>\n",
       "    <tr>\n",
       "      <th>3</th>\n",
       "      <td>2011</td>\n",
       "      <td>EIXAMPLE</td>\n",
       "      <td>0.0</td>\n",
       "      <td>1</td>\n",
       "      <td>LESS THAN 10 YEARS</td>\n",
       "      <td>IT IS WORSE</td>\n",
       "      <td>IT WILL GET WORSE</td>\n",
       "      <td>SATISFIED</td>\n",
       "      <td>ONE OF THE BEST</td>\n",
       "      <td>GOOD</td>\n",
       "      <td>...</td>\n",
       "      <td>MIDDLE-MIDDLE</td>\n",
       "      <td>1</td>\n",
       "      <td>IT IS WORSE</td>\n",
       "      <td>IT WILL STAY THE SAME</td>\n",
       "      <td>SATISFIED</td>\n",
       "      <td>GOOD</td>\n",
       "      <td>0</td>\n",
       "      <td>1</td>\n",
       "      <td>0</td>\n",
       "      <td>0</td>\n",
       "    </tr>\n",
       "    <tr>\n",
       "      <th>4</th>\n",
       "      <td>2011</td>\n",
       "      <td>EIXAMPLE</td>\n",
       "      <td>1.0</td>\n",
       "      <td>0</td>\n",
       "      <td>MORE THAN 10 YEARS</td>\n",
       "      <td>IT IS THE SAME</td>\n",
       "      <td>IT WILL STAY THE SAME</td>\n",
       "      <td>NOT SATISFIED</td>\n",
       "      <td>NEITHER THE BEST, NOR THE WORST</td>\n",
       "      <td>BAD</td>\n",
       "      <td>...</td>\n",
       "      <td>MIDDLE-LOW</td>\n",
       "      <td>0</td>\n",
       "      <td>IT IS THE SAME</td>\n",
       "      <td>IT WILL STAY THE SAME</td>\n",
       "      <td>SATISFIED</td>\n",
       "      <td>NORMAL</td>\n",
       "      <td>0</td>\n",
       "      <td>0</td>\n",
       "      <td>1</td>\n",
       "      <td>0</td>\n",
       "    </tr>\n",
       "  </tbody>\n",
       "</table>\n",
       "<p>5 rows × 35 columns</p>\n",
       "</div>"
      ],
      "text/plain": [
       "    ANY NOM_DISTRICTE  Would_not_stay_in_the_neighborhood  Gender  \\\n",
       "0  2011      EIXAMPLE                                 0.0       1   \n",
       "1  2011      EIXAMPLE                                 0.0       1   \n",
       "2  2011      EIXAMPLE                                 0.0       1   \n",
       "3  2011      EIXAMPLE                                 0.0       1   \n",
       "4  2011      EIXAMPLE                                 1.0       0   \n",
       "\n",
       "  Time_living_in_barri Barri_evolution2          Barri_future2  \\\n",
       "0   MORE THAN 10 YEARS      IT IS WORSE      IT WILL GET WORSE   \n",
       "1   MORE THAN 10 YEARS   IT IS THE SAME  IT WILL STAY THE SAME   \n",
       "2   MORE THAN 10 YEARS      IT IS WORSE  IT WILL STAY THE SAME   \n",
       "3   LESS THAN 10 YEARS      IT IS WORSE      IT WILL GET WORSE   \n",
       "4   MORE THAN 10 YEARS   IT IS THE SAME  IT WILL STAY THE SAME   \n",
       "\n",
       "  Barri_satisfaction_of_living                Barri_comparison2  \\\n",
       "0                NOT SATISFIED  NEITHER THE BEST, NOR THE WORST   \n",
       "1                    SATISFIED  NEITHER THE BEST, NOR THE WORST   \n",
       "2                    SATISFIED  NEITHER THE BEST, NOR THE WORST   \n",
       "3                    SATISFIED                  ONE OF THE BEST   \n",
       "4                NOT SATISFIED  NEITHER THE BEST, NOR THE WORST   \n",
       "\n",
       "  GARBAGE COLLECTION  ...  Social_class2 Living_alone  BCN_evolution2  \\\n",
       "0               GOOD  ...    MIDDLE-HIGH            1     IT IS WORSE   \n",
       "1                BAD  ...  MIDDLE-MIDDLE            0     IT IS WORSE   \n",
       "2               GOOD  ...  MIDDLE-MIDDLE            1  IT IS THE SAME   \n",
       "3               GOOD  ...  MIDDLE-MIDDLE            1     IT IS WORSE   \n",
       "4                BAD  ...     MIDDLE-LOW            0  IT IS THE SAME   \n",
       "\n",
       "             BCN_future2 BCN_satisfaction_of_living BCN_transport  \\\n",
       "0      IT WILL GET WORSE                  SATISFIED          GOOD   \n",
       "1      IT WILL GET WORSE                  SATISFIED        NORMAL   \n",
       "2        IT WILL IMPROVE                  SATISFIED          GOOD   \n",
       "3  IT WILL STAY THE SAME                  SATISFIED          GOOD   \n",
       "4  IT WILL STAY THE SAME                  SATISFIED        NORMAL   \n",
       "\n",
       "  BCN_over_barri_evolution2 BCN_over_barri_future2  \\\n",
       "0                         0                      0   \n",
       "1                         0                      0   \n",
       "2                         1                      1   \n",
       "3                         0                      1   \n",
       "4                         0                      0   \n",
       "\n",
       "  BCN_over_barri_satisfaction_of_living BCN_over_barri_transport  \n",
       "0                                     1                        0  \n",
       "1                                     0                        0  \n",
       "2                                     0                        0  \n",
       "3                                     0                        0  \n",
       "4                                     1                        0  \n",
       "\n",
       "[5 rows x 35 columns]"
      ]
     },
     "execution_count": 4,
     "metadata": {},
     "output_type": "execute_result"
    }
   ],
   "source": [
    "data.head()"
   ]
  },
  {
   "cell_type": "code",
   "execution_count": 5,
   "metadata": {},
   "outputs": [
    {
     "data": {
      "text/plain": [
       "(6245, 35)"
      ]
     },
     "execution_count": 5,
     "metadata": {},
     "output_type": "execute_result"
    }
   ],
   "source": [
    "data.shape"
   ]
  },
  {
   "cell_type": "code",
   "execution_count": 6,
   "metadata": {},
   "outputs": [
    {
     "data": {
      "text/plain": [
       "['ANY',\n",
       " 'NOM_DISTRICTE',\n",
       " 'Would_not_stay_in_the_neighborhood',\n",
       " 'Gender',\n",
       " 'Time_living_in_barri',\n",
       " 'Barri_evolution2',\n",
       " 'Barri_future2',\n",
       " 'Barri_satisfaction_of_living',\n",
       " 'Barri_comparison2',\n",
       " 'GARBAGE COLLECTION',\n",
       " 'STREETS CLEANING',\n",
       " 'GREEN AREAS',\n",
       " 'PUBLIC LIGHTING',\n",
       " 'ASPHALT AND STREET CONSERVATION',\n",
       " 'FACADES AND BUILDING CONSERVATION',\n",
       " 'CIRCULATION',\n",
       " 'BUS',\n",
       " 'MUNICIPAL POLICE',\n",
       " 'CITIZEN SECURITY IN THE CITY AS A WHOLE',\n",
       " 'CITIZEN SECURITY IN THE NEIGHBORHOOD',\n",
       " 'MUNICIPAL MARKETS',\n",
       " 'Barri_transport',\n",
       " 'Owns_a_car',\n",
       " 'House_size2',\n",
       " 'Monthly_family_income2',\n",
       " 'Social_class2',\n",
       " 'Living_alone',\n",
       " 'BCN_evolution2',\n",
       " 'BCN_future2',\n",
       " 'BCN_satisfaction_of_living',\n",
       " 'BCN_transport',\n",
       " 'BCN_over_barri_evolution2',\n",
       " 'BCN_over_barri_future2',\n",
       " 'BCN_over_barri_satisfaction_of_living',\n",
       " 'BCN_over_barri_transport']"
      ]
     },
     "execution_count": 6,
     "metadata": {},
     "output_type": "execute_result"
    }
   ],
   "source": [
    "data.columns.tolist()"
   ]
  },
  {
   "cell_type": "code",
   "execution_count": 7,
   "metadata": {},
   "outputs": [],
   "source": [
    "x_var = data.columns.tolist()"
   ]
  },
  {
   "cell_type": "code",
   "execution_count": 8,
   "metadata": {},
   "outputs": [],
   "source": [
    "for i in ['ANY', 'Would_not_stay_in_the_neighborhood',\n",
    "          'BCN_evolution2', 'BCN_future2', 'BCN_satisfaction_of_living', 'BCN_transport']:\n",
    "    x_var.remove(i)"
   ]
  },
  {
   "cell_type": "code",
   "execution_count": 9,
   "metadata": {},
   "outputs": [],
   "source": [
    "x = data[x_var]"
   ]
  },
  {
   "cell_type": "code",
   "execution_count": 10,
   "metadata": {},
   "outputs": [],
   "source": [
    "y = data['Would_not_stay_in_the_neighborhood']"
   ]
  },
  {
   "cell_type": "code",
   "execution_count": null,
   "metadata": {},
   "outputs": [],
   "source": []
  },
  {
   "cell_type": "code",
   "execution_count": 11,
   "metadata": {},
   "outputs": [],
   "source": [
    "x = pd.get_dummies(x, drop_first = True)"
   ]
  },
  {
   "cell_type": "code",
   "execution_count": 12,
   "metadata": {},
   "outputs": [
    {
     "name": "stdout",
     "output_type": "stream",
     "text": [
      "Optimization terminated successfully.\n",
      "         Current function value: 0.300478\n",
      "         Iterations 7\n",
      "                                       Results: Logit\n",
      "=============================================================================================\n",
      "Model:                 Logit                                 Pseudo R-squared:    0.175      \n",
      "Dependent Variable:    Would_not_stay_in_the_neighborhood    AIC:                 3850.9692  \n",
      "Date:                  2021-04-14 08:39                      BIC:                 4181.2065  \n",
      "No. Observations:      6245                                  Log-Likelihood:      -1876.5    \n",
      "Df Model:              48                                    LL-Null:             -2274.7    \n",
      "Df Residuals:          6196                                  LLR p-value:         3.0978e-136\n",
      "Converged:             1.0000                                Scale:               1.0000     \n",
      "No. Iterations:        7.0000                                                                \n",
      "---------------------------------------------------------------------------------------------\n",
      "                                              Coef.  Std.Err.    z     P>|z|   [0.025  0.975]\n",
      "---------------------------------------------------------------------------------------------\n",
      "Gender                                        0.0790   0.0933   0.8473 0.3968 -0.1038  0.2618\n",
      "Owns_a_car                                    0.0543   0.1005   0.5402 0.5891 -0.1427  0.2514\n",
      "Living_alone                                  0.2182   0.1058   2.0613 0.0393  0.0107  0.4256\n",
      "BCN_over_barri_evolution2                    -0.0970   0.1385  -0.7006 0.4835 -0.3685  0.1744\n",
      "BCN_over_barri_future2                        0.1282   0.1261   1.0165 0.3094 -0.1190  0.3753\n",
      "BCN_over_barri_satisfaction_of_living         0.4333   0.1970   2.1998 0.0278  0.0472  0.8194\n",
      "BCN_over_barri_transport                      0.3521   0.1786   1.9709 0.0487  0.0020  0.7022\n",
      "NOM_DISTRICTE_EIXAMPLE                       -0.3468   0.1878  -1.8469 0.0648 -0.7148  0.0212\n",
      "NOM_DISTRICTE_GRÀCIA                         -0.0772   0.2175  -0.3549 0.7226 -0.5036  0.3491\n",
      "NOM_DISTRICTE_HORTA - GUINARDÓ               -0.2471   0.1907  -1.2960 0.1950 -0.6208  0.1266\n",
      "NOM_DISTRICTE_LES CORTS                      -0.9776   0.2927  -3.3404 0.0008 -1.5512 -0.4040\n",
      "NOM_DISTRICTE_NOU BARRIS                     -0.1836   0.1815  -1.0117 0.3117 -0.5392  0.1721\n",
      "NOM_DISTRICTE_SANT ANDREU                    -0.1513   0.1968  -0.7689 0.4419 -0.5369  0.2343\n",
      "NOM_DISTRICTE_SANT MARTÍ                     -0.3343   0.1882  -1.7766 0.0756 -0.7031  0.0345\n",
      "NOM_DISTRICTE_SANTS - MONTJUÏC               -0.1819   0.1835  -0.9912 0.3216 -0.5415  0.1778\n",
      "NOM_DISTRICTE_SARRIÀ - SANT GERVASI          -0.5753   0.2740  -2.0995 0.0358 -1.1124 -0.0382\n",
      "Time_living_in_barri_LESS THAN 10 YEARS       1.2525   0.2037   6.1492 0.0000  0.8533  1.6517\n",
      "Time_living_in_barri_MORE THAN 10 YEARS       0.4332   0.1470   2.9479 0.0032  0.1452  0.7213\n",
      "Barri_evolution2_IT IS THE SAME               0.0492   0.1150   0.4275 0.6690 -0.1763  0.2746\n",
      "Barri_evolution2_IT IS WORSE                 -0.0435   0.1386  -0.3142 0.7533 -0.3152  0.2281\n",
      "Barri_future2_IT WILL IMPROVE                -0.2443   0.1509  -1.6188 0.1055 -0.5400  0.0515\n",
      "Barri_future2_IT WILL STAY THE SAME          -0.2477   0.1382  -1.7921 0.0731 -0.5185  0.0232\n",
      "Barri_satisfaction_of_living_SATISFIED       -0.8373   0.1741  -4.8098 0.0000 -1.1785 -0.4961\n",
      "Barri_comparison2_ONE OF THE BEST            -1.4164   0.1041 -13.6058 0.0000 -1.6205 -1.2124\n",
      "Barri_comparison2_ONE OF THE WORST            0.8487   0.1525   5.5637 0.0000  0.5497  1.1477\n",
      "GARBAGE COLLECTION_GOOD                       0.0044   0.1825   0.0239 0.9809 -0.3533  0.3620\n",
      "STREETS CLEANING_GOOD                        -0.1513   0.1216  -1.2446 0.2133 -0.3896  0.0870\n",
      "GREEN AREAS_GOOD                             -0.2168   0.1141  -1.8999 0.0574 -0.4405  0.0069\n",
      "PUBLIC LIGHTING_GOOD                         -0.0717   0.1461  -0.4906 0.6237 -0.3581  0.2147\n",
      "ASPHALT AND STREET CONSERVATION_GOOD          0.0431   0.1116   0.3863 0.6993 -0.1756  0.2618\n",
      "FACADES AND BUILDING CONSERVATION_GOOD       -0.0093   0.1303  -0.0713 0.9431 -0.2648  0.2462\n",
      "CIRCULATION_GOOD                             -0.0159   0.0983  -0.1614 0.8718 -0.2085  0.1768\n",
      "BUS_GOOD                                     -0.2287   0.1448  -1.5799 0.1141 -0.5125  0.0550\n",
      "MUNICIPAL POLICE_GOOD                        -0.0564   0.1134  -0.4978 0.6186 -0.2787  0.1658\n",
      "CITIZEN SECURITY IN THE CITY AS A WHOLE_GOOD  0.1994   0.1176   1.6963 0.0898 -0.0310  0.4299\n",
      "CITIZEN SECURITY IN THE NEIGHBORHOOD_GOOD    -0.2738   0.1200  -2.2809 0.0226 -0.5091 -0.0385\n",
      "MUNICIPAL MARKETS_GOOD                        0.1255   0.1594   0.7872 0.4311 -0.1869  0.4379\n",
      "Barri_transport_GOOD                          0.0638   0.1752   0.3642 0.7157 -0.2796  0.4072\n",
      "Barri_transport_NORMAL                        0.2546   0.1833   1.3889 0.1649 -0.1047  0.6139\n",
      "House_size2_51-100 M2                         0.1739   0.1599   1.0874 0.2769 -0.1396  0.4874\n",
      "House_size2_< 50 M2                           0.0958   0.2195   0.4365 0.6624 -0.3344  0.5261\n",
      "House_size2_> 150 M2                          0.2566   0.2815   0.9116 0.3620 -0.2951  0.8084\n",
      "Monthly_family_income2_2001-3000 EUROS        0.1103   0.1365   0.8081 0.4190 -0.1572  0.3778\n",
      "Monthly_family_income2_< 1000 EUROS          -0.2140   0.1054  -2.0312 0.0422 -0.4206 -0.0075\n",
      "Monthly_family_income2_> 3000 EUROS           0.3102   0.1900   1.6325 0.1026 -0.0622  0.6825\n",
      "Social_class2_LOW                            -0.7122   0.3807  -1.8706 0.0614 -1.4584  0.0340\n",
      "Social_class2_MIDDLE-HIGH                    -0.7182   0.4351  -1.6507 0.0988 -1.5710  0.1346\n",
      "Social_class2_MIDDLE-LOW                     -0.6444   0.3675  -1.7538 0.0795 -1.3647  0.0758\n",
      "Social_class2_MIDDLE-MIDDLE                  -0.6579   0.3657  -1.7989 0.0720 -1.3748  0.0589\n",
      "=============================================================================================\n",
      "\n"
     ]
    }
   ],
   "source": [
    "logit_model = sm.Logit(y,x)\n",
    "result=logit_model.fit()\n",
    "print(result.summary2())"
   ]
  },
  {
   "cell_type": "code",
   "execution_count": 13,
   "metadata": {},
   "outputs": [
    {
     "data": {
      "text/plain": [
       "GARBAGE COLLECTION_GOOD                         9.809125e-01\n",
       "FACADES AND BUILDING CONSERVATION_GOOD          9.431387e-01\n",
       "CIRCULATION_GOOD                                8.717687e-01\n",
       "Barri_evolution2_IT IS WORSE                    7.533416e-01\n",
       "NOM_DISTRICTE_GRÀCIA                            7.226417e-01\n",
       "Barri_transport_GOOD                            7.156944e-01\n",
       "ASPHALT AND STREET CONSERVATION_GOOD            6.992710e-01\n",
       "Barri_evolution2_IT IS THE SAME                 6.690285e-01\n",
       "House_size2_< 50 M2                             6.624411e-01\n",
       "PUBLIC LIGHTING_GOOD                            6.237184e-01\n",
       "MUNICIPAL POLICE_GOOD                           6.185992e-01\n",
       "Owns_a_car                                      5.890816e-01\n",
       "BCN_over_barri_evolution2                       4.835356e-01\n",
       "NOM_DISTRICTE_SANT ANDREU                       4.419332e-01\n",
       "MUNICIPAL MARKETS_GOOD                          4.311359e-01\n",
       "Monthly_family_income2_2001-3000 EUROS          4.190368e-01\n",
       "Gender                                          3.968473e-01\n",
       "House_size2_> 150 M2                            3.619574e-01\n",
       "NOM_DISTRICTE_SANTS - MONTJUÏC                  3.215952e-01\n",
       "NOM_DISTRICTE_NOU BARRIS                        3.116801e-01\n",
       "BCN_over_barri_future2                          3.094130e-01\n",
       "House_size2_51-100 M2                           2.768606e-01\n",
       "STREETS CLEANING_GOOD                           2.132627e-01\n",
       "NOM_DISTRICTE_HORTA - GUINARDÓ                  1.949900e-01\n",
       "Barri_transport_NORMAL                          1.648705e-01\n",
       "BUS_GOOD                                        1.141195e-01\n",
       "Barri_future2_IT WILL IMPROVE                   1.054915e-01\n",
       "Monthly_family_income2_> 3000 EUROS             1.025816e-01\n",
       "Social_class2_MIDDLE-HIGH                       9.880174e-02\n",
       "CITIZEN SECURITY IN THE CITY AS A WHOLE_GOOD    8.982383e-02\n",
       "Social_class2_MIDDLE-LOW                        7.946758e-02\n",
       "NOM_DISTRICTE_SANT MARTÍ                        7.563817e-02\n",
       "Barri_future2_IT WILL STAY THE SAME             7.312361e-02\n",
       "Social_class2_MIDDLE-MIDDLE                     7.204168e-02\n",
       "NOM_DISTRICTE_EIXAMPLE                          6.476167e-02\n",
       "Social_class2_LOW                               6.139457e-02\n",
       "GREEN AREAS_GOOD                                5.744288e-02\n",
       "BCN_over_barri_transport                        4.873714e-02\n",
       "Monthly_family_income2_< 1000 EUROS             4.223859e-02\n",
       "Living_alone                                    3.927402e-02\n",
       "NOM_DISTRICTE_SARRIÀ - SANT GERVASI             3.577691e-02\n",
       "BCN_over_barri_satisfaction_of_living           2.782214e-02\n",
       "CITIZEN SECURITY IN THE NEIGHBORHOOD_GOOD       2.255494e-02\n",
       "Time_living_in_barri_MORE THAN 10 YEARS         3.199338e-03\n",
       "NOM_DISTRICTE_LES CORTS                         8.365885e-04\n",
       "Barri_satisfaction_of_living_SATISFIED          1.510783e-06\n",
       "Barri_comparison2_ONE OF THE WORST              2.641443e-08\n",
       "Time_living_in_barri_LESS THAN 10 YEARS         7.788346e-10\n",
       "Barri_comparison2_ONE OF THE BEST               3.697628e-42\n",
       "dtype: float64"
      ]
     },
     "execution_count": 13,
     "metadata": {},
     "output_type": "execute_result"
    }
   ],
   "source": [
    "result.pvalues.sort_values(ascending=False)"
   ]
  },
  {
   "cell_type": "code",
   "execution_count": null,
   "metadata": {},
   "outputs": [],
   "source": []
  },
  {
   "cell_type": "code",
   "execution_count": 14,
   "metadata": {},
   "outputs": [],
   "source": [
    "for i in ['GARBAGE COLLECTION', 'FACADES AND BUILDING CONSERVATION', 'CIRCULATION', 'Barri_evolution2', 'Barri_transport',\n",
    "         'ASPHALT AND STREET CONSERVATION']:\n",
    "    x_var.remove(i)"
   ]
  },
  {
   "cell_type": "code",
   "execution_count": 15,
   "metadata": {},
   "outputs": [],
   "source": [
    "x = data[x_var]\n",
    "x = pd.get_dummies(x, drop_first = True)"
   ]
  },
  {
   "cell_type": "code",
   "execution_count": 16,
   "metadata": {},
   "outputs": [
    {
     "name": "stdout",
     "output_type": "stream",
     "text": [
      "Optimization terminated successfully.\n",
      "         Current function value: 0.300691\n",
      "         Iterations 7\n",
      "                                       Results: Logit\n",
      "=============================================================================================\n",
      "Model:                 Logit                                 Pseudo R-squared:    0.174      \n",
      "Dependent Variable:    Would_not_stay_in_the_neighborhood    AIC:                 3837.6330  \n",
      "Date:                  2021-04-14 08:39                      BIC:                 4113.9540  \n",
      "No. Observations:      6245                                  Log-Likelihood:      -1877.8    \n",
      "Df Model:              40                                    LL-Null:             -2274.7    \n",
      "Df Residuals:          6204                                  LLR p-value:         9.2137e-141\n",
      "Converged:             1.0000                                Scale:               1.0000     \n",
      "No. Iterations:        7.0000                                                                \n",
      "---------------------------------------------------------------------------------------------\n",
      "                                              Coef.  Std.Err.    z     P>|z|   [0.025  0.975]\n",
      "---------------------------------------------------------------------------------------------\n",
      "Gender                                        0.0684   0.0927   0.7380 0.4605 -0.1133  0.2502\n",
      "Owns_a_car                                    0.0483   0.1001   0.4824 0.6295 -0.1479  0.2445\n",
      "Living_alone                                  0.2180   0.1056   2.0639 0.0390  0.0110  0.4250\n",
      "BCN_over_barri_evolution2                    -0.1102   0.1286  -0.8570 0.3914 -0.3623  0.1419\n",
      "BCN_over_barri_future2                        0.1261   0.1256   1.0042 0.3153 -0.1200  0.3722\n",
      "BCN_over_barri_satisfaction_of_living         0.4321   0.1965   2.1989 0.0279  0.0470  0.8172\n",
      "BCN_over_barri_transport                      0.3754   0.1247   3.0104 0.0026  0.1310  0.6198\n",
      "NOM_DISTRICTE_EIXAMPLE                       -0.3392   0.1869  -1.8152 0.0695 -0.7055  0.0271\n",
      "NOM_DISTRICTE_GRÀCIA                         -0.0699   0.2167  -0.3227 0.7469 -0.4947  0.3548\n",
      "NOM_DISTRICTE_HORTA - GUINARDÓ               -0.2341   0.1900  -1.2324 0.2178 -0.6065  0.1382\n",
      "NOM_DISTRICTE_LES CORTS                      -0.9640   0.2923  -3.2976 0.0010 -1.5370 -0.3910\n",
      "NOM_DISTRICTE_NOU BARRIS                     -0.1810   0.1811  -0.9996 0.3175 -0.5360  0.1739\n",
      "NOM_DISTRICTE_SANT ANDREU                    -0.1432   0.1963  -0.7297 0.4656 -0.5279  0.2415\n",
      "NOM_DISTRICTE_SANT MARTÍ                     -0.3297   0.1879  -1.7547 0.0793 -0.6979  0.0386\n",
      "NOM_DISTRICTE_SANTS - MONTJUÏC               -0.1796   0.1831  -0.9806 0.3268 -0.5385  0.1794\n",
      "NOM_DISTRICTE_SARRIÀ - SANT GERVASI          -0.5589   0.2730  -2.0471 0.0406 -1.0940 -0.0238\n",
      "Time_living_in_barri_LESS THAN 10 YEARS       1.2602   0.2029   6.2116 0.0000  0.8626  1.6578\n",
      "Time_living_in_barri_MORE THAN 10 YEARS       0.4324   0.1467   2.9488 0.0032  0.1450  0.7199\n",
      "Barri_future2_IT WILL IMPROVE                -0.2200   0.1363  -1.6146 0.1064 -0.4871  0.0471\n",
      "Barri_future2_IT WILL STAY THE SAME          -0.2059   0.1278  -1.6111 0.1072 -0.4563  0.0446\n",
      "Barri_satisfaction_of_living_SATISFIED       -0.8319   0.1725  -4.8222 0.0000 -1.1700 -0.4938\n",
      "Barri_comparison2_ONE OF THE BEST            -1.4181   0.1038 -13.6631 0.0000 -1.6216 -1.2147\n",
      "Barri_comparison2_ONE OF THE WORST            0.8338   0.1515   5.5023 0.0000  0.5368  1.1308\n",
      "STREETS CLEANING_GOOD                        -0.1358   0.1147  -1.1836 0.2366 -0.3606  0.0891\n",
      "GREEN AREAS_GOOD                             -0.2133   0.1115  -1.9125 0.0558 -0.4319  0.0053\n",
      "PUBLIC LIGHTING_GOOD                         -0.0757   0.1436  -0.5272 0.5981 -0.3572  0.2058\n",
      "BUS_GOOD                                     -0.1995   0.1373  -1.4531 0.1462 -0.4685  0.0696\n",
      "MUNICIPAL POLICE_GOOD                        -0.0631   0.1126  -0.5606 0.5751 -0.2838  0.1576\n",
      "CITIZEN SECURITY IN THE CITY AS A WHOLE_GOOD  0.2000   0.1167   1.7137 0.0866 -0.0287  0.4288\n",
      "CITIZEN SECURITY IN THE NEIGHBORHOOD_GOOD    -0.2674   0.1192  -2.2436 0.0249 -0.5010 -0.0338\n",
      "MUNICIPAL MARKETS_GOOD                        0.1252   0.1586   0.7895 0.4298 -0.1856  0.4361\n",
      "House_size2_51-100 M2                         0.1756   0.1596   1.1001 0.2713 -0.1372  0.4883\n",
      "House_size2_< 50 M2                           0.0951   0.2190   0.4343 0.6641 -0.3342  0.5245\n",
      "House_size2_> 150 M2                          0.2547   0.2819   0.9035 0.3663 -0.2978  0.8072\n",
      "Monthly_family_income2_2001-3000 EUROS        0.1044   0.1363   0.7665 0.4434 -0.1626  0.3715\n",
      "Monthly_family_income2_< 1000 EUROS          -0.2137   0.1052  -2.0317 0.0422 -0.4200 -0.0075\n",
      "Monthly_family_income2_> 3000 EUROS           0.3102   0.1898   1.6344 0.1022 -0.0618  0.6822\n",
      "Social_class2_LOW                            -0.6783   0.3434  -1.9751 0.0483 -1.3514 -0.0052\n",
      "Social_class2_MIDDLE-HIGH                    -0.6931   0.4056  -1.7086 0.0875 -1.4881  0.1020\n",
      "Social_class2_MIDDLE-LOW                     -0.6123   0.3299  -1.8558 0.0635 -1.2590  0.0344\n",
      "Social_class2_MIDDLE-MIDDLE                  -0.6299   0.3289  -1.9150 0.0555 -1.2745  0.0148\n",
      "=============================================================================================\n",
      "\n"
     ]
    }
   ],
   "source": [
    "logit_model = sm.Logit(y,x)\n",
    "result=logit_model.fit()\n",
    "print(result.summary2())"
   ]
  },
  {
   "cell_type": "code",
   "execution_count": 17,
   "metadata": {},
   "outputs": [
    {
     "data": {
      "text/plain": [
       "NOM_DISTRICTE_GRÀCIA                            7.468962e-01\n",
       "House_size2_< 50 M2                             6.640586e-01\n",
       "Owns_a_car                                      6.295370e-01\n",
       "PUBLIC LIGHTING_GOOD                            5.980843e-01\n",
       "MUNICIPAL POLICE_GOOD                           5.750823e-01\n",
       "NOM_DISTRICTE_SANT ANDREU                       4.655532e-01\n",
       "Gender                                          4.605216e-01\n",
       "Monthly_family_income2_2001-3000 EUROS          4.433611e-01\n",
       "MUNICIPAL MARKETS_GOOD                          4.298386e-01\n",
       "BCN_over_barri_evolution2                       3.914473e-01\n",
       "House_size2_> 150 M2                            3.662823e-01\n",
       "NOM_DISTRICTE_SANTS - MONTJUÏC                  3.267848e-01\n",
       "NOM_DISTRICTE_NOU BARRIS                        3.174925e-01\n",
       "BCN_over_barri_future2                          3.152679e-01\n",
       "House_size2_51-100 M2                           2.712701e-01\n",
       "STREETS CLEANING_GOOD                           2.365556e-01\n",
       "NOM_DISTRICTE_HORTA - GUINARDÓ                  2.177825e-01\n",
       "BUS_GOOD                                        1.462027e-01\n",
       "Barri_future2_IT WILL STAY THE SAME             1.071612e-01\n",
       "Barri_future2_IT WILL IMPROVE                   1.064006e-01\n",
       "Monthly_family_income2_> 3000 EUROS             1.021813e-01\n",
       "Social_class2_MIDDLE-HIGH                       8.752882e-02\n",
       "CITIZEN SECURITY IN THE CITY AS A WHOLE_GOOD    8.658280e-02\n",
       "NOM_DISTRICTE_SANT MARTÍ                        7.931645e-02\n",
       "NOM_DISTRICTE_EIXAMPLE                          6.949202e-02\n",
       "Social_class2_MIDDLE-LOW                        6.348365e-02\n",
       "GREEN AREAS_GOOD                                5.580970e-02\n",
       "Social_class2_MIDDLE-MIDDLE                     5.548620e-02\n",
       "Social_class2_LOW                               4.826123e-02\n",
       "Monthly_family_income2_< 1000 EUROS             4.218684e-02\n",
       "NOM_DISTRICTE_SARRIÀ - SANT GERVASI             4.064961e-02\n",
       "Living_alone                                    3.902343e-02\n",
       "BCN_over_barri_satisfaction_of_living           2.788204e-02\n",
       "CITIZEN SECURITY IN THE NEIGHBORHOOD_GOOD       2.485620e-02\n",
       "Time_living_in_barri_MORE THAN 10 YEARS         3.189896e-03\n",
       "BCN_over_barri_transport                        2.608735e-03\n",
       "NOM_DISTRICTE_LES CORTS                         9.752096e-04\n",
       "Barri_satisfaction_of_living_SATISFIED          1.419718e-06\n",
       "Barri_comparison2_ONE OF THE WORST              3.747996e-08\n",
       "Time_living_in_barri_LESS THAN 10 YEARS         5.244489e-10\n",
       "Barri_comparison2_ONE OF THE BEST               1.687332e-42\n",
       "dtype: float64"
      ]
     },
     "execution_count": 17,
     "metadata": {},
     "output_type": "execute_result"
    }
   ],
   "source": [
    "result.pvalues.sort_values(ascending=False)"
   ]
  },
  {
   "cell_type": "code",
   "execution_count": null,
   "metadata": {},
   "outputs": [],
   "source": []
  },
  {
   "cell_type": "code",
   "execution_count": 18,
   "metadata": {},
   "outputs": [],
   "source": [
    "for i in ['House_size2', 'Owns_a_car', 'PUBLIC LIGHTING', 'MUNICIPAL POLICE', 'Gender']:\n",
    "    x_var.remove(i)"
   ]
  },
  {
   "cell_type": "code",
   "execution_count": 19,
   "metadata": {},
   "outputs": [],
   "source": [
    "x = data[x_var]\n",
    "x = pd.get_dummies(x, drop_first = True)"
   ]
  },
  {
   "cell_type": "code",
   "execution_count": 20,
   "metadata": {},
   "outputs": [
    {
     "name": "stdout",
     "output_type": "stream",
     "text": [
      "Optimization terminated successfully.\n",
      "         Current function value: 0.300928\n",
      "         Iterations 7\n",
      "                                       Results: Logit\n",
      "=============================================================================================\n",
      "Model:                 Logit                                 Pseudo R-squared:    0.174      \n",
      "Dependent Variable:    Would_not_stay_in_the_neighborhood    AIC:                 3826.5905  \n",
      "Date:                  2021-04-14 08:39                      BIC:                 4055.7348  \n",
      "No. Observations:      6245                                  Log-Likelihood:      -1879.3    \n",
      "Df Model:              33                                    LL-Null:             -2274.7    \n",
      "Df Residuals:          6211                                  LLR p-value:         7.1181e-145\n",
      "Converged:             1.0000                                Scale:               1.0000     \n",
      "No. Iterations:        7.0000                                                                \n",
      "---------------------------------------------------------------------------------------------\n",
      "                                              Coef.  Std.Err.    z     P>|z|   [0.025  0.975]\n",
      "---------------------------------------------------------------------------------------------\n",
      "Living_alone                                  0.2141   0.1003   2.1345 0.0328  0.0175  0.4108\n",
      "BCN_over_barri_evolution2                    -0.1077   0.1285  -0.8381 0.4020 -0.3595  0.1442\n",
      "BCN_over_barri_future2                        0.1213   0.1253   0.9677 0.3332 -0.1244  0.3669\n",
      "BCN_over_barri_satisfaction_of_living         0.4406   0.1964   2.2438 0.0248  0.0557  0.8255\n",
      "BCN_over_barri_transport                      0.3800   0.1245   3.0521 0.0023  0.1360  0.6240\n",
      "NOM_DISTRICTE_EIXAMPLE                       -0.2998   0.1833  -1.6355 0.1019 -0.6592  0.0595\n",
      "NOM_DISTRICTE_GRÀCIA                         -0.0189   0.2127  -0.0888 0.9292 -0.4358  0.3980\n",
      "NOM_DISTRICTE_HORTA - GUINARDÓ               -0.1925   0.1857  -1.0368 0.2998 -0.5564  0.1714\n",
      "NOM_DISTRICTE_LES CORTS                      -0.9255   0.2901  -3.1907 0.0014 -1.4940 -0.3570\n",
      "NOM_DISTRICTE_NOU BARRIS                     -0.1452   0.1782  -0.8145 0.4154 -0.4945  0.2042\n",
      "NOM_DISTRICTE_SANT ANDREU                    -0.1025   0.1926  -0.5324 0.5944 -0.4799  0.2749\n",
      "NOM_DISTRICTE_SANT MARTÍ                     -0.2855   0.1838  -1.5532 0.1204 -0.6457  0.0748\n",
      "NOM_DISTRICTE_SANTS - MONTJUÏC               -0.1343   0.1792  -0.7494 0.4536 -0.4856  0.2170\n",
      "NOM_DISTRICTE_SARRIÀ - SANT GERVASI          -0.5202   0.2687  -1.9356 0.0529 -1.0469  0.0065\n",
      "Time_living_in_barri_LESS THAN 10 YEARS       1.2506   0.2016   6.2031 0.0000  0.8554  1.6457\n",
      "Time_living_in_barri_MORE THAN 10 YEARS       0.4329   0.1465   2.9544 0.0031  0.1457  0.7202\n",
      "Barri_future2_IT WILL IMPROVE                -0.2235   0.1360  -1.6436 0.1003 -0.4900  0.0430\n",
      "Barri_future2_IT WILL STAY THE SAME          -0.2056   0.1276  -1.6120 0.1070 -0.4556  0.0444\n",
      "Barri_satisfaction_of_living_SATISFIED       -0.8403   0.1723  -4.8768 0.0000 -1.1781 -0.5026\n",
      "Barri_comparison2_ONE OF THE BEST            -1.4190   0.1037 -13.6833 0.0000 -1.6223 -1.2158\n",
      "Barri_comparison2_ONE OF THE WORST            0.8381   0.1512   5.5414 0.0000  0.5417  1.1346\n",
      "STREETS CLEANING_GOOD                        -0.1441   0.1136  -1.2689 0.2045 -0.3667  0.0785\n",
      "GREEN AREAS_GOOD                             -0.2261   0.1102  -2.0505 0.0403 -0.4421 -0.0100\n",
      "BUS_GOOD                                     -0.2121   0.1354  -1.5665 0.1172 -0.4774  0.0533\n",
      "CITIZEN SECURITY IN THE CITY AS A WHOLE_GOOD  0.1877   0.1156   1.6236 0.1045 -0.0389  0.4144\n",
      "CITIZEN SECURITY IN THE NEIGHBORHOOD_GOOD    -0.2754   0.1188  -2.3184 0.0204 -0.5083 -0.0426\n",
      "MUNICIPAL MARKETS_GOOD                        0.1205   0.1583   0.7612 0.4465 -0.1897  0.4306\n",
      "Monthly_family_income2_2001-3000 EUROS        0.1021   0.1340   0.7616 0.4463 -0.1606  0.3647\n",
      "Monthly_family_income2_< 1000 EUROS          -0.2095   0.1030  -2.0339 0.0420 -0.4113 -0.0076\n",
      "Monthly_family_income2_> 3000 EUROS           0.3027   0.1844   1.6416 0.1007 -0.0587  0.6640\n",
      "Social_class2_LOW                            -0.5666   0.3048  -1.8591 0.0630 -1.1640  0.0307\n",
      "Social_class2_MIDDLE-HIGH                    -0.5725   0.3783  -1.5133 0.1302 -1.3139  0.1689\n",
      "Social_class2_MIDDLE-LOW                     -0.4948   0.2905  -1.7031 0.0886 -1.0642  0.0746\n",
      "Social_class2_MIDDLE-MIDDLE                  -0.5111   0.2895  -1.7657 0.0775 -1.0785  0.0563\n",
      "=============================================================================================\n",
      "\n"
     ]
    }
   ],
   "source": [
    "logit_model = sm.Logit(y,x)\n",
    "result=logit_model.fit()\n",
    "print(result.summary2())"
   ]
  },
  {
   "cell_type": "code",
   "execution_count": 21,
   "metadata": {},
   "outputs": [
    {
     "data": {
      "text/plain": [
       "NOM_DISTRICTE_GRÀCIA                            9.292167e-01\n",
       "NOM_DISTRICTE_SANT ANDREU                       5.944378e-01\n",
       "NOM_DISTRICTE_SANTS - MONTJUÏC                  4.536278e-01\n",
       "MUNICIPAL MARKETS_GOOD                          4.465274e-01\n",
       "Monthly_family_income2_2001-3000 EUROS          4.463091e-01\n",
       "NOM_DISTRICTE_NOU BARRIS                        4.153872e-01\n",
       "BCN_over_barri_evolution2                       4.019937e-01\n",
       "BCN_over_barri_future2                          3.332170e-01\n",
       "NOM_DISTRICTE_HORTA - GUINARDÓ                  2.998218e-01\n",
       "STREETS CLEANING_GOOD                           2.044922e-01\n",
       "Social_class2_MIDDLE-HIGH                       1.301920e-01\n",
       "NOM_DISTRICTE_SANT MARTÍ                        1.203717e-01\n",
       "BUS_GOOD                                        1.172229e-01\n",
       "Barri_future2_IT WILL STAY THE SAME             1.069694e-01\n",
       "CITIZEN SECURITY IN THE CITY AS A WHOLE_GOOD    1.044631e-01\n",
       "NOM_DISTRICTE_EIXAMPLE                          1.019480e-01\n",
       "Monthly_family_income2_> 3000 EUROS             1.006631e-01\n",
       "Barri_future2_IT WILL IMPROVE                   1.002662e-01\n",
       "Social_class2_MIDDLE-LOW                        8.855378e-02\n",
       "Social_class2_MIDDLE-MIDDLE                     7.745369e-02\n",
       "Social_class2_LOW                               6.301099e-02\n",
       "NOM_DISTRICTE_SARRIÀ - SANT GERVASI             5.291078e-02\n",
       "Monthly_family_income2_< 1000 EUROS             4.196079e-02\n",
       "GREEN AREAS_GOOD                                4.031101e-02\n",
       "Living_alone                                    3.279975e-02\n",
       "BCN_over_barri_satisfaction_of_living           2.484330e-02\n",
       "CITIZEN SECURITY IN THE NEIGHBORHOOD_GOOD       2.042569e-02\n",
       "Time_living_in_barri_MORE THAN 10 YEARS         3.132535e-03\n",
       "BCN_over_barri_transport                        2.272473e-03\n",
       "NOM_DISTRICTE_LES CORTS                         1.419493e-03\n",
       "Barri_satisfaction_of_living_SATISFIED          1.078386e-06\n",
       "Barri_comparison2_ONE OF THE WORST              3.000235e-08\n",
       "Time_living_in_barri_LESS THAN 10 YEARS         5.536304e-10\n",
       "Barri_comparison2_ONE OF THE BEST               1.277302e-42\n",
       "dtype: float64"
      ]
     },
     "execution_count": 21,
     "metadata": {},
     "output_type": "execute_result"
    }
   ],
   "source": [
    "result.pvalues.sort_values(ascending=False)"
   ]
  },
  {
   "cell_type": "code",
   "execution_count": null,
   "metadata": {},
   "outputs": [],
   "source": []
  },
  {
   "cell_type": "code",
   "execution_count": 22,
   "metadata": {},
   "outputs": [],
   "source": [
    "for i in ['MUNICIPAL MARKETS', 'BCN_over_barri_evolution2', 'BCN_over_barri_future2', 'STREETS CLEANING']:\n",
    "    x_var.remove(i)"
   ]
  },
  {
   "cell_type": "code",
   "execution_count": 23,
   "metadata": {},
   "outputs": [],
   "source": [
    "x = data[x_var]\n",
    "x = pd.get_dummies(x, drop_first = True)"
   ]
  },
  {
   "cell_type": "code",
   "execution_count": 24,
   "metadata": {},
   "outputs": [
    {
     "name": "stdout",
     "output_type": "stream",
     "text": [
      "Optimization terminated successfully.\n",
      "         Current function value: 0.301218\n",
      "         Iterations 7\n",
      "                                       Results: Logit\n",
      "=============================================================================================\n",
      "Model:                 Logit                                 Pseudo R-squared:    0.173      \n",
      "Dependent Variable:    Would_not_stay_in_the_neighborhood    AIC:                 3822.2114  \n",
      "Date:                  2021-04-14 08:39                      BIC:                 4024.3974  \n",
      "No. Observations:      6245                                  Log-Likelihood:      -1881.1    \n",
      "Df Model:              29                                    LL-Null:             -2274.7    \n",
      "Df Residuals:          6215                                  LLR p-value:         5.8508e-147\n",
      "Converged:             1.0000                                Scale:               1.0000     \n",
      "No. Iterations:        7.0000                                                                \n",
      "---------------------------------------------------------------------------------------------\n",
      "                                              Coef.  Std.Err.    z     P>|z|   [0.025  0.975]\n",
      "---------------------------------------------------------------------------------------------\n",
      "Living_alone                                  0.2141   0.1002   2.1359 0.0327  0.0176  0.4105\n",
      "BCN_over_barri_satisfaction_of_living         0.4326   0.1949   2.2190 0.0265  0.0505  0.8146\n",
      "BCN_over_barri_transport                      0.3760   0.1244   3.0222 0.0025  0.1321  0.6198\n",
      "NOM_DISTRICTE_EIXAMPLE                       -0.2986   0.1834  -1.6287 0.1034 -0.6580  0.0607\n",
      "NOM_DISTRICTE_GRÀCIA                         -0.0240   0.2126  -0.1128 0.9102 -0.4406  0.3927\n",
      "NOM_DISTRICTE_HORTA - GUINARDÓ               -0.1939   0.1855  -1.0455 0.2958 -0.5575  0.1696\n",
      "NOM_DISTRICTE_LES CORTS                      -0.9122   0.2897  -3.1488 0.0016 -1.4800 -0.3444\n",
      "NOM_DISTRICTE_NOU BARRIS                     -0.1436   0.1781  -0.8058 0.4203 -0.4927  0.2056\n",
      "NOM_DISTRICTE_SANT ANDREU                    -0.1174   0.1914  -0.6133 0.5397 -0.4926  0.2578\n",
      "NOM_DISTRICTE_SANT MARTÍ                     -0.2842   0.1837  -1.5466 0.1220 -0.6443  0.0760\n",
      "NOM_DISTRICTE_SANTS - MONTJUÏC               -0.1321   0.1791  -0.7373 0.4609 -0.4831  0.2190\n",
      "NOM_DISTRICTE_SARRIÀ - SANT GERVASI          -0.5224   0.2687  -1.9437 0.0519 -1.0491  0.0044\n",
      "Time_living_in_barri_LESS THAN 10 YEARS       1.2567   0.2010   6.2517 0.0000  0.8627  1.6507\n",
      "Time_living_in_barri_MORE THAN 10 YEARS       0.4385   0.1464   2.9947 0.0027  0.1515  0.7255\n",
      "Barri_future2_IT WILL IMPROVE                -0.2710   0.1176  -2.3040 0.0212 -0.5015 -0.0405\n",
      "Barri_future2_IT WILL STAY THE SAME          -0.2067   0.1261  -1.6390 0.1012 -0.4539  0.0405\n",
      "Barri_satisfaction_of_living_SATISFIED       -0.8458   0.1707  -4.9560 0.0000 -1.1803 -0.5113\n",
      "Barri_comparison2_ONE OF THE BEST            -1.4163   0.1036 -13.6665 0.0000 -1.6194 -1.2132\n",
      "Barri_comparison2_ONE OF THE WORST            0.8492   0.1507   5.6345 0.0000  0.5538  1.1446\n",
      "GREEN AREAS_GOOD                             -0.2447   0.1073  -2.2794 0.0226 -0.4551 -0.0343\n",
      "BUS_GOOD                                     -0.2159   0.1343  -1.6077 0.1079 -0.4792  0.0473\n",
      "CITIZEN SECURITY IN THE CITY AS A WHOLE_GOOD  0.1873   0.1152   1.6268 0.1038 -0.0384  0.4130\n",
      "CITIZEN SECURITY IN THE NEIGHBORHOOD_GOOD    -0.2814   0.1185  -2.3749 0.0176 -0.5136 -0.0492\n",
      "Monthly_family_income2_2001-3000 EUROS        0.1138   0.1336   0.8517 0.3944 -0.1481  0.3757\n",
      "Monthly_family_income2_< 1000 EUROS          -0.2052   0.1028  -1.9964 0.0459 -0.4067 -0.0037\n",
      "Monthly_family_income2_> 3000 EUROS           0.3046   0.1843   1.6528 0.0984 -0.0566  0.6659\n",
      "Social_class2_LOW                            -0.5232   0.2836  -1.8444 0.0651 -1.0791  0.0328\n",
      "Social_class2_MIDDLE-HIGH                    -0.5285   0.3600  -1.4682 0.1420 -1.2341  0.1770\n",
      "Social_class2_MIDDLE-LOW                     -0.4463   0.2648  -1.6853 0.0919 -0.9654  0.0727\n",
      "Social_class2_MIDDLE-MIDDLE                  -0.4622   0.2640  -1.7508 0.0800 -0.9797  0.0552\n",
      "=============================================================================================\n",
      "\n"
     ]
    }
   ],
   "source": [
    "logit_model = sm.Logit(y,x)\n",
    "result=logit_model.fit()\n",
    "print(result.summary2())"
   ]
  },
  {
   "cell_type": "code",
   "execution_count": 25,
   "metadata": {},
   "outputs": [
    {
     "data": {
      "text/plain": [
       "NOM_DISTRICTE_GRÀCIA                            9.101717e-01\n",
       "NOM_DISTRICTE_SANT ANDREU                       5.397031e-01\n",
       "NOM_DISTRICTE_SANTS - MONTJUÏC                  4.609163e-01\n",
       "NOM_DISTRICTE_NOU BARRIS                        4.203447e-01\n",
       "Monthly_family_income2_2001-3000 EUROS          3.943741e-01\n",
       "NOM_DISTRICTE_HORTA - GUINARDÓ                  2.958028e-01\n",
       "Social_class2_MIDDLE-HIGH                       1.420455e-01\n",
       "NOM_DISTRICTE_SANT MARTÍ                        1.219590e-01\n",
       "BUS_GOOD                                        1.079095e-01\n",
       "CITIZEN SECURITY IN THE CITY AS A WHOLE_GOOD    1.037862e-01\n",
       "NOM_DISTRICTE_EIXAMPLE                          1.033846e-01\n",
       "Barri_future2_IT WILL STAY THE SAME             1.012152e-01\n",
       "Monthly_family_income2_> 3000 EUROS             9.837364e-02\n",
       "Social_class2_MIDDLE-LOW                        9.193559e-02\n",
       "Social_class2_MIDDLE-MIDDLE                     7.998572e-02\n",
       "Social_class2_LOW                               6.512681e-02\n",
       "NOM_DISTRICTE_SARRIÀ - SANT GERVASI             5.193109e-02\n",
       "Monthly_family_income2_< 1000 EUROS             4.589010e-02\n",
       "Living_alone                                    3.268881e-02\n",
       "BCN_over_barri_satisfaction_of_living           2.648463e-02\n",
       "GREEN AREAS_GOOD                                2.264150e-02\n",
       "Barri_future2_IT WILL IMPROVE                   2.122304e-02\n",
       "CITIZEN SECURITY IN THE NEIGHBORHOOD_GOOD       1.755154e-02\n",
       "Time_living_in_barri_MORE THAN 10 YEARS         2.746971e-03\n",
       "BCN_over_barri_transport                        2.509753e-03\n",
       "NOM_DISTRICTE_LES CORTS                         1.639699e-03\n",
       "Barri_satisfaction_of_living_SATISFIED          7.194354e-07\n",
       "Barri_comparison2_ONE OF THE WORST              1.756049e-08\n",
       "Time_living_in_barri_LESS THAN 10 YEARS         4.060226e-10\n",
       "Barri_comparison2_ONE OF THE BEST               1.610341e-42\n",
       "dtype: float64"
      ]
     },
     "execution_count": 25,
     "metadata": {},
     "output_type": "execute_result"
    }
   ],
   "source": [
    "result.pvalues.sort_values(ascending=False)"
   ]
  },
  {
   "cell_type": "code",
   "execution_count": null,
   "metadata": {},
   "outputs": [],
   "source": []
  },
  {
   "cell_type": "code",
   "execution_count": 26,
   "metadata": {},
   "outputs": [
    {
     "name": "stdout",
     "output_type": "stream",
     "text": [
      "                Logit Marginal Effects               \n",
      "=====================================================\n",
      "Dep. Variable:     Would_not_stay_in_the_neighborhood\n",
      "Method:                                          dydx\n",
      "At:                                           overall\n",
      "================================================================================================================\n",
      "                                                  dy/dx    std err          z      P>|z|      [0.025      0.975]\n",
      "----------------------------------------------------------------------------------------------------------------\n",
      "Living_alone                                     0.0188      0.009      2.137      0.033       0.002       0.036\n",
      "BCN_over_barri_satisfaction_of_living            0.0381      0.017      2.222      0.026       0.004       0.072\n",
      "BCN_over_barri_transport                         0.0331      0.011      3.025      0.002       0.012       0.055\n",
      "NOM_DISTRICTE_EIXAMPLE                          -0.0263      0.016     -1.629      0.103      -0.058       0.005\n",
      "NOM_DISTRICTE_GRÀCIA                            -0.0021      0.019     -0.113      0.910      -0.039       0.035\n",
      "NOM_DISTRICTE_HORTA - GUINARDÓ                  -0.0171      0.016     -1.046      0.296      -0.049       0.015\n",
      "NOM_DISTRICTE_LES CORTS                         -0.0802      0.026     -3.146      0.002      -0.130      -0.030\n",
      "NOM_DISTRICTE_NOU BARRIS                        -0.0126      0.016     -0.806      0.420      -0.043       0.018\n",
      "NOM_DISTRICTE_SANT ANDREU                       -0.0103      0.017     -0.613      0.540      -0.043       0.023\n",
      "NOM_DISTRICTE_SANT MARTÍ                        -0.0250      0.016     -1.547      0.122      -0.057       0.007\n",
      "NOM_DISTRICTE_SANTS - MONTJUÏC                  -0.0116      0.016     -0.737      0.461      -0.042       0.019\n",
      "NOM_DISTRICTE_SARRIÀ - SANT GERVASI             -0.0460      0.024     -1.944      0.052      -0.092       0.000\n",
      "Time_living_in_barri_LESS THAN 10 YEARS          0.1106      0.018      6.273      0.000       0.076       0.145\n",
      "Time_living_in_barri_MORE THAN 10 YEARS          0.0386      0.013      2.995      0.003       0.013       0.064\n",
      "Barri_future2_IT WILL IMPROVE                   -0.0238      0.010     -2.305      0.021      -0.044      -0.004\n",
      "Barri_future2_IT WILL STAY THE SAME             -0.0182      0.011     -1.640      0.101      -0.040       0.004\n",
      "Barri_satisfaction_of_living_SATISFIED          -0.0744      0.015     -4.990      0.000      -0.104      -0.045\n",
      "Barri_comparison2_ONE OF THE BEST               -0.1246      0.009    -13.537      0.000      -0.143      -0.107\n",
      "Barri_comparison2_ONE OF THE WORST               0.0747      0.013      5.705      0.000       0.049       0.100\n",
      "GREEN AREAS_GOOD                                -0.0215      0.009     -2.281      0.023      -0.040      -0.003\n",
      "BUS_GOOD                                        -0.0190      0.012     -1.609      0.108      -0.042       0.004\n",
      "CITIZEN SECURITY IN THE CITY AS A WHOLE_GOOD     0.0165      0.010      1.628      0.104      -0.003       0.036\n",
      "CITIZEN SECURITY IN THE NEIGHBORHOOD_GOOD       -0.0248      0.010     -2.377      0.017      -0.045      -0.004\n",
      "Monthly_family_income2_2001-3000 EUROS           0.0100      0.012      0.852      0.394      -0.013       0.033\n",
      "Monthly_family_income2_< 1000 EUROS             -0.0181      0.009     -1.997      0.046      -0.036      -0.000\n",
      "Monthly_family_income2_> 3000 EUROS              0.0268      0.016      1.653      0.098      -0.005       0.059\n",
      "Social_class2_LOW                               -0.0460      0.025     -1.847      0.065      -0.095       0.003\n",
      "Social_class2_MIDDLE-HIGH                       -0.0465      0.032     -1.469      0.142      -0.109       0.016\n",
      "Social_class2_MIDDLE-LOW                        -0.0393      0.023     -1.687      0.092      -0.085       0.006\n",
      "Social_class2_MIDDLE-MIDDLE                     -0.0407      0.023     -1.753      0.080      -0.086       0.005\n",
      "================================================================================================================\n"
     ]
    }
   ],
   "source": [
    "print(result.get_margeff().summary())"
   ]
  },
  {
   "cell_type": "code",
   "execution_count": null,
   "metadata": {},
   "outputs": [],
   "source": []
  },
  {
   "cell_type": "code",
   "execution_count": 27,
   "metadata": {},
   "outputs": [
    {
     "data": {
      "text/plain": [
       "array([[5437.,   67.],\n",
       "       [ 627.,  114.]])"
      ]
     },
     "execution_count": 27,
     "metadata": {},
     "output_type": "execute_result"
    }
   ],
   "source": [
    "result.pred_table()"
   ]
  },
  {
   "cell_type": "code",
   "execution_count": null,
   "metadata": {},
   "outputs": [],
   "source": []
  },
  {
   "cell_type": "code",
   "execution_count": 28,
   "metadata": {},
   "outputs": [
    {
     "data": {
      "image/png": "[encoded data removed]",
      "text/plain": [
       "<Figure size 432x288 with 1 Axes>"
      ]
     },
     "metadata": {
      "needs_background": "light"
     },
     "output_type": "display_data"
    }
   ],
   "source": [
    "logit_roc_auc = roc_auc_score(y, result.predict(x))\n",
    "fpr, tpr, thresholds = roc_curve(y, result.predict(x))\n",
    "plt.figure()\n",
    "plt.plot(fpr, tpr, label='Logistic Regression (area = %0.2f)' % logit_roc_auc)\n",
    "plt.plot([0, 1], [0, 1],'r--')\n",
    "plt.xlim([0.0, 1.0])\n",
    "plt.ylim([0.0, 1.05])\n",
    "plt.xlabel('False Positive Rate')\n",
    "plt.ylabel('True Positive Rate')\n",
    "plt.title('Receiver operating characteristic')\n",
    "plt.legend(loc=\"lower right\")\n",
    "#plt.savefig('Log_ROC')\n",
    "plt.show()"
   ]
  },
  {
   "cell_type": "code",
   "execution_count": null,
   "metadata": {},
   "outputs": [],
   "source": []
  }
 ],
 "metadata": {
  "kernelspec": {
   "display_name": "Python 3",
   "language": "python",
   "name": "python3"
  },
  "language_info": {
   "codemirror_mode": {
    "name": "ipython",
    "version": 3
   },
   "file_extension": ".py",
   "mimetype": "text/x-python",
   "name": "python",
   "nbconvert_exporter": "python",
   "pygments_lexer": "ipython3",
   "version": "3.7.6"
  }
 },
 "nbformat": 4,
 "nbformat_minor": 4
}
