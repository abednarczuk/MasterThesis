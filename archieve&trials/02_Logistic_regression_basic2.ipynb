{
 "cells": [
  {
   "cell_type": "markdown",
   "metadata": {},
   "source": [
    "Aleksandra Bednarczuk"
   ]
  },
  {
   "cell_type": "markdown",
   "metadata": {},
   "source": [
    "# Predictors of elderly citizens willingness to stay in the neighbourhood\n",
    "# Logistic regression"
   ]
  },
  {
   "cell_type": "markdown",
   "metadata": {},
   "source": [
    "Missing values (\"I DON'T KNOW\") replaced with most common answer (mode) or with the most neutral answer (e.g. \"NORMAL\" or \"IT IS THE SAME\")."
   ]
  },
  {
   "cell_type": "code",
   "execution_count": 1,
   "metadata": {},
   "outputs": [],
   "source": [
    "import pandas as pd\n",
    "import numpy as np\n",
    "\n",
    "import matplotlib.pyplot as plt"
   ]
  },
  {
   "cell_type": "code",
   "execution_count": 2,
   "metadata": {},
   "outputs": [],
   "source": [
    "from imblearn.over_sampling import SMOTE\n",
    "\n",
    "import statsmodels.api as sm\n",
    "import statsmodels.formula.api as smf\n",
    "\n",
    "from sklearn.model_selection import train_test_split\n",
    "from sklearn.feature_selection import RFE\n",
    "from sklearn.linear_model import LogisticRegression\n",
    "\n",
    "from sklearn.metrics import accuracy_score\n",
    "from sklearn.metrics import classification_report\n",
    "from sklearn.metrics import confusion_matrix\n",
    "from sklearn.metrics import roc_auc_score\n",
    "from sklearn.metrics import roc_curve\n",
    "from sklearn.metrics import r2_score\n",
    "\n",
    "from sklearn.feature_selection import SelectKBest\n",
    "from sklearn.feature_selection import chi2\n",
    "from sklearn.feature_selection import mutual_info_classif\n",
    "from sklearn.feature_selection import f_classif\n",
    "from sklearn.preprocessing import LabelEncoder\n",
    "from sklearn.preprocessing import OrdinalEncoder\n",
    "\n",
    "from scipy import stats"
   ]
  },
  {
   "cell_type": "code",
   "execution_count": null,
   "metadata": {},
   "outputs": [],
   "source": []
  },
  {
   "cell_type": "code",
   "execution_count": 3,
   "metadata": {},
   "outputs": [],
   "source": [
    "data = pd.read_pickle(\"survey_transformed2.pkl\")"
   ]
  },
  {
   "cell_type": "code",
   "execution_count": 4,
   "metadata": {},
   "outputs": [
    {
     "data": {
      "text/html": [
       "<div>\n",
       "<style scoped>\n",
       "    .dataframe tbody tr th:only-of-type {\n",
       "        vertical-align: middle;\n",
       "    }\n",
       "\n",
       "    .dataframe tbody tr th {\n",
       "        vertical-align: top;\n",
       "    }\n",
       "\n",
       "    .dataframe thead th {\n",
       "        text-align: right;\n",
       "    }\n",
       "</style>\n",
       "<table border=\"1\" class=\"dataframe\">\n",
       "  <thead>\n",
       "    <tr style=\"text-align: right;\">\n",
       "      <th></th>\n",
       "      <th>ANY</th>\n",
       "      <th>NOM_DISTRICTE</th>\n",
       "      <th>Would_not_stay_in_the_neighborhood</th>\n",
       "      <th>Gender</th>\n",
       "      <th>Time_living_in_barri</th>\n",
       "      <th>Barri_evolution2</th>\n",
       "      <th>Barri_future2</th>\n",
       "      <th>Barri_satisfaction_of_living</th>\n",
       "      <th>Barri_comparison2</th>\n",
       "      <th>GARBAGE COLLECTION</th>\n",
       "      <th>...</th>\n",
       "      <th>Social_class2</th>\n",
       "      <th>Living_alone</th>\n",
       "      <th>BCN_evolution2</th>\n",
       "      <th>BCN_future2</th>\n",
       "      <th>BCN_satisfaction_of_living</th>\n",
       "      <th>BCN_transport</th>\n",
       "      <th>BCN_over_barri_evolution2</th>\n",
       "      <th>BCN_over_barri_future2</th>\n",
       "      <th>BCN_over_barri_satisfaction_of_living</th>\n",
       "      <th>BCN_over_barri_transport</th>\n",
       "    </tr>\n",
       "  </thead>\n",
       "  <tbody>\n",
       "    <tr>\n",
       "      <th>0</th>\n",
       "      <td>2011</td>\n",
       "      <td>EIXAMPLE</td>\n",
       "      <td>0.0</td>\n",
       "      <td>1</td>\n",
       "      <td>MORE THAN 10 YEARS</td>\n",
       "      <td>IT IS WORSE</td>\n",
       "      <td>IT WILL GET WORSE</td>\n",
       "      <td>NOT SATISFIED</td>\n",
       "      <td>NEITHER THE BEST, NOR THE WORST</td>\n",
       "      <td>GOOD</td>\n",
       "      <td>...</td>\n",
       "      <td>MIDDLE-HIGH</td>\n",
       "      <td>1</td>\n",
       "      <td>IT IS WORSE</td>\n",
       "      <td>IT WILL GET WORSE</td>\n",
       "      <td>SATISFIED</td>\n",
       "      <td>GOOD</td>\n",
       "      <td>0</td>\n",
       "      <td>0</td>\n",
       "      <td>1</td>\n",
       "      <td>0</td>\n",
       "    </tr>\n",
       "    <tr>\n",
       "      <th>1</th>\n",
       "      <td>2011</td>\n",
       "      <td>EIXAMPLE</td>\n",
       "      <td>0.0</td>\n",
       "      <td>1</td>\n",
       "      <td>MORE THAN 10 YEARS</td>\n",
       "      <td>IT IS THE SAME</td>\n",
       "      <td>IT WILL STAY THE SAME</td>\n",
       "      <td>SATISFIED</td>\n",
       "      <td>NEITHER THE BEST, NOR THE WORST</td>\n",
       "      <td>BAD</td>\n",
       "      <td>...</td>\n",
       "      <td>MIDDLE-MIDDLE</td>\n",
       "      <td>0</td>\n",
       "      <td>IT IS WORSE</td>\n",
       "      <td>IT WILL GET WORSE</td>\n",
       "      <td>SATISFIED</td>\n",
       "      <td>NORMAL</td>\n",
       "      <td>0</td>\n",
       "      <td>0</td>\n",
       "      <td>0</td>\n",
       "      <td>0</td>\n",
       "    </tr>\n",
       "    <tr>\n",
       "      <th>2</th>\n",
       "      <td>2011</td>\n",
       "      <td>EIXAMPLE</td>\n",
       "      <td>0.0</td>\n",
       "      <td>1</td>\n",
       "      <td>MORE THAN 10 YEARS</td>\n",
       "      <td>IT IS WORSE</td>\n",
       "      <td>IT WILL STAY THE SAME</td>\n",
       "      <td>SATISFIED</td>\n",
       "      <td>NEITHER THE BEST, NOR THE WORST</td>\n",
       "      <td>GOOD</td>\n",
       "      <td>...</td>\n",
       "      <td>MIDDLE-MIDDLE</td>\n",
       "      <td>1</td>\n",
       "      <td>IT IS THE SAME</td>\n",
       "      <td>IT WILL IMPROVE</td>\n",
       "      <td>SATISFIED</td>\n",
       "      <td>GOOD</td>\n",
       "      <td>1</td>\n",
       "      <td>1</td>\n",
       "      <td>0</td>\n",
       "      <td>0</td>\n",
       "    </tr>\n",
       "    <tr>\n",
       "      <th>3</th>\n",
       "      <td>2011</td>\n",
       "      <td>EIXAMPLE</td>\n",
       "      <td>0.0</td>\n",
       "      <td>1</td>\n",
       "      <td>LESS THAN 10 YEARS</td>\n",
       "      <td>IT IS WORSE</td>\n",
       "      <td>IT WILL GET WORSE</td>\n",
       "      <td>SATISFIED</td>\n",
       "      <td>ONE OF THE BEST</td>\n",
       "      <td>GOOD</td>\n",
       "      <td>...</td>\n",
       "      <td>MIDDLE-MIDDLE</td>\n",
       "      <td>1</td>\n",
       "      <td>IT IS WORSE</td>\n",
       "      <td>IT WILL STAY THE SAME</td>\n",
       "      <td>SATISFIED</td>\n",
       "      <td>GOOD</td>\n",
       "      <td>0</td>\n",
       "      <td>1</td>\n",
       "      <td>0</td>\n",
       "      <td>0</td>\n",
       "    </tr>\n",
       "    <tr>\n",
       "      <th>4</th>\n",
       "      <td>2011</td>\n",
       "      <td>EIXAMPLE</td>\n",
       "      <td>1.0</td>\n",
       "      <td>0</td>\n",
       "      <td>MORE THAN 10 YEARS</td>\n",
       "      <td>IT IS THE SAME</td>\n",
       "      <td>IT WILL STAY THE SAME</td>\n",
       "      <td>NOT SATISFIED</td>\n",
       "      <td>NEITHER THE BEST, NOR THE WORST</td>\n",
       "      <td>BAD</td>\n",
       "      <td>...</td>\n",
       "      <td>MIDDLE-LOW</td>\n",
       "      <td>0</td>\n",
       "      <td>IT IS THE SAME</td>\n",
       "      <td>IT WILL STAY THE SAME</td>\n",
       "      <td>SATISFIED</td>\n",
       "      <td>NORMAL</td>\n",
       "      <td>0</td>\n",
       "      <td>0</td>\n",
       "      <td>1</td>\n",
       "      <td>0</td>\n",
       "    </tr>\n",
       "  </tbody>\n",
       "</table>\n",
       "<p>5 rows × 35 columns</p>\n",
       "</div>"
      ],
      "text/plain": [
       "    ANY NOM_DISTRICTE  Would_not_stay_in_the_neighborhood  Gender  \\\n",
       "0  2011      EIXAMPLE                                 0.0       1   \n",
       "1  2011      EIXAMPLE                                 0.0       1   \n",
       "2  2011      EIXAMPLE                                 0.0       1   \n",
       "3  2011      EIXAMPLE                                 0.0       1   \n",
       "4  2011      EIXAMPLE                                 1.0       0   \n",
       "\n",
       "  Time_living_in_barri Barri_evolution2          Barri_future2  \\\n",
       "0   MORE THAN 10 YEARS      IT IS WORSE      IT WILL GET WORSE   \n",
       "1   MORE THAN 10 YEARS   IT IS THE SAME  IT WILL STAY THE SAME   \n",
       "2   MORE THAN 10 YEARS      IT IS WORSE  IT WILL STAY THE SAME   \n",
       "3   LESS THAN 10 YEARS      IT IS WORSE      IT WILL GET WORSE   \n",
       "4   MORE THAN 10 YEARS   IT IS THE SAME  IT WILL STAY THE SAME   \n",
       "\n",
       "  Barri_satisfaction_of_living                Barri_comparison2  \\\n",
       "0                NOT SATISFIED  NEITHER THE BEST, NOR THE WORST   \n",
       "1                    SATISFIED  NEITHER THE BEST, NOR THE WORST   \n",
       "2                    SATISFIED  NEITHER THE BEST, NOR THE WORST   \n",
       "3                    SATISFIED                  ONE OF THE BEST   \n",
       "4                NOT SATISFIED  NEITHER THE BEST, NOR THE WORST   \n",
       "\n",
       "  GARBAGE COLLECTION  ...  Social_class2 Living_alone  BCN_evolution2  \\\n",
       "0               GOOD  ...    MIDDLE-HIGH            1     IT IS WORSE   \n",
       "1                BAD  ...  MIDDLE-MIDDLE            0     IT IS WORSE   \n",
       "2               GOOD  ...  MIDDLE-MIDDLE            1  IT IS THE SAME   \n",
       "3               GOOD  ...  MIDDLE-MIDDLE            1     IT IS WORSE   \n",
       "4                BAD  ...     MIDDLE-LOW            0  IT IS THE SAME   \n",
       "\n",
       "             BCN_future2 BCN_satisfaction_of_living BCN_transport  \\\n",
       "0      IT WILL GET WORSE                  SATISFIED          GOOD   \n",
       "1      IT WILL GET WORSE                  SATISFIED        NORMAL   \n",
       "2        IT WILL IMPROVE                  SATISFIED          GOOD   \n",
       "3  IT WILL STAY THE SAME                  SATISFIED          GOOD   \n",
       "4  IT WILL STAY THE SAME                  SATISFIED        NORMAL   \n",
       "\n",
       "  BCN_over_barri_evolution2 BCN_over_barri_future2  \\\n",
       "0                         0                      0   \n",
       "1                         0                      0   \n",
       "2                         1                      1   \n",
       "3                         0                      1   \n",
       "4                         0                      0   \n",
       "\n",
       "  BCN_over_barri_satisfaction_of_living BCN_over_barri_transport  \n",
       "0                                     1                        0  \n",
       "1                                     0                        0  \n",
       "2                                     0                        0  \n",
       "3                                     0                        0  \n",
       "4                                     1                        0  \n",
       "\n",
       "[5 rows x 35 columns]"
      ]
     },
     "execution_count": 4,
     "metadata": {},
     "output_type": "execute_result"
    }
   ],
   "source": [
    "data.head()"
   ]
  },
  {
   "cell_type": "code",
   "execution_count": 5,
   "metadata": {},
   "outputs": [
    {
     "data": {
      "text/plain": [
       "(6245, 35)"
      ]
     },
     "execution_count": 5,
     "metadata": {},
     "output_type": "execute_result"
    }
   ],
   "source": [
    "data.shape"
   ]
  },
  {
   "cell_type": "code",
   "execution_count": 6,
   "metadata": {},
   "outputs": [
    {
     "data": {
      "text/plain": [
       "['ANY',\n",
       " 'NOM_DISTRICTE',\n",
       " 'Would_not_stay_in_the_neighborhood',\n",
       " 'Gender',\n",
       " 'Time_living_in_barri',\n",
       " 'Barri_evolution2',\n",
       " 'Barri_future2',\n",
       " 'Barri_satisfaction_of_living',\n",
       " 'Barri_comparison2',\n",
       " 'GARBAGE COLLECTION',\n",
       " 'STREETS CLEANING',\n",
       " 'GREEN AREAS',\n",
       " 'PUBLIC LIGHTING',\n",
       " 'ASPHALT AND STREET CONSERVATION',\n",
       " 'FACADES AND BUILDING CONSERVATION',\n",
       " 'CIRCULATION',\n",
       " 'BUS',\n",
       " 'MUNICIPAL POLICE',\n",
       " 'CITIZEN SECURITY IN THE CITY AS A WHOLE',\n",
       " 'CITIZEN SECURITY IN THE NEIGHBORHOOD',\n",
       " 'MUNICIPAL MARKETS',\n",
       " 'Barri_transport',\n",
       " 'Owns_a_car',\n",
       " 'House_size2',\n",
       " 'Monthly_family_income2',\n",
       " 'Social_class2',\n",
       " 'Living_alone',\n",
       " 'BCN_evolution2',\n",
       " 'BCN_future2',\n",
       " 'BCN_satisfaction_of_living',\n",
       " 'BCN_transport',\n",
       " 'BCN_over_barri_evolution2',\n",
       " 'BCN_over_barri_future2',\n",
       " 'BCN_over_barri_satisfaction_of_living',\n",
       " 'BCN_over_barri_transport']"
      ]
     },
     "execution_count": 6,
     "metadata": {},
     "output_type": "execute_result"
    }
   ],
   "source": [
    "data.columns.tolist()"
   ]
  },
  {
   "cell_type": "code",
   "execution_count": 7,
   "metadata": {},
   "outputs": [],
   "source": [
    "x_var = data.columns.tolist()"
   ]
  },
  {
   "cell_type": "code",
   "execution_count": 8,
   "metadata": {},
   "outputs": [],
   "source": [
    "for i in ['ANY', 'NOM_DISTRICTE', 'Would_not_stay_in_the_neighborhood',\n",
    "          'BCN_evolution2', 'BCN_future2', 'BCN_satisfaction_of_living', 'BCN_transport']:\n",
    "    x_var.remove(i)"
   ]
  },
  {
   "cell_type": "code",
   "execution_count": 9,
   "metadata": {},
   "outputs": [],
   "source": [
    "x = data[x_var]"
   ]
  },
  {
   "cell_type": "code",
   "execution_count": 10,
   "metadata": {},
   "outputs": [],
   "source": [
    "y = data['Would_not_stay_in_the_neighborhood']"
   ]
  },
  {
   "cell_type": "code",
   "execution_count": null,
   "metadata": {},
   "outputs": [],
   "source": []
  },
  {
   "cell_type": "code",
   "execution_count": 11,
   "metadata": {},
   "outputs": [],
   "source": [
    "x = pd.get_dummies(x, drop_first = True)"
   ]
  },
  {
   "cell_type": "code",
   "execution_count": 12,
   "metadata": {},
   "outputs": [
    {
     "name": "stdout",
     "output_type": "stream",
     "text": [
      "Optimization terminated successfully.\n",
      "         Current function value: 0.301876\n",
      "         Iterations 7\n",
      "                                       Results: Logit\n",
      "=============================================================================================\n",
      "Model:                 Logit                                 Pseudo R-squared:    0.171      \n",
      "Dependent Variable:    Would_not_stay_in_the_neighborhood    AIC:                 3850.4288  \n",
      "Date:                  2021-04-14 08:40                      BIC:                 4120.0103  \n",
      "No. Observations:      6245                                  Log-Likelihood:      -1885.2    \n",
      "Df Model:              39                                    LL-Null:             -2274.7    \n",
      "Df Residuals:          6205                                  LLR p-value:         2.3381e-138\n",
      "Converged:             1.0000                                Scale:               1.0000     \n",
      "No. Iterations:        7.0000                                                                \n",
      "---------------------------------------------------------------------------------------------\n",
      "                                              Coef.  Std.Err.    z     P>|z|   [0.025  0.975]\n",
      "---------------------------------------------------------------------------------------------\n",
      "Gender                                        0.0619   0.0928   0.6670 0.5048 -0.1200  0.2439\n",
      "Owns_a_car                                    0.0318   0.0991   0.3209 0.7482 -0.1625  0.2261\n",
      "Living_alone                                  0.2133   0.1052   2.0283 0.0425  0.0072  0.4194\n",
      "BCN_over_barri_evolution2                    -0.0891   0.1383  -0.6444 0.5193 -0.3602  0.1820\n",
      "BCN_over_barri_future2                        0.1324   0.1257   1.0531 0.2923 -0.1140  0.3788\n",
      "BCN_over_barri_satisfaction_of_living         0.4254   0.1955   2.1757 0.0296  0.0422  0.8086\n",
      "BCN_over_barri_transport                      0.3354   0.1774   1.8910 0.0586 -0.0122  0.6831\n",
      "Time_living_in_barri_LESS THAN 10 YEARS       1.2260   0.2014   6.0867 0.0000  0.8312  1.6208\n",
      "Time_living_in_barri_MORE THAN 10 YEARS       0.3956   0.1435   2.7558 0.0059  0.1142  0.6769\n",
      "Barri_evolution2_IT IS THE SAME               0.0273   0.1141   0.2392 0.8109 -0.1964  0.2510\n",
      "Barri_evolution2_IT IS WORSE                 -0.0489   0.1378  -0.3549 0.7227 -0.3190  0.2212\n",
      "Barri_future2_IT WILL IMPROVE                -0.2584   0.1503  -1.7194 0.0855 -0.5530  0.0362\n",
      "Barri_future2_IT WILL STAY THE SAME          -0.2668   0.1375  -1.9398 0.0524 -0.5363  0.0028\n",
      "Barri_satisfaction_of_living_SATISFIED       -0.8712   0.1722  -5.0596 0.0000 -1.2087 -0.5337\n",
      "Barri_comparison2_ONE OF THE BEST            -1.4899   0.1009 -14.7721 0.0000 -1.6876 -1.2922\n",
      "Barri_comparison2_ONE OF THE WORST            0.8839   0.1512   5.8471 0.0000  0.5876  1.1801\n",
      "GARBAGE COLLECTION_GOOD                      -0.0068   0.1812  -0.0374 0.9701 -0.3619  0.3483\n",
      "STREETS CLEANING_GOOD                        -0.1329   0.1208  -1.0999 0.2714 -0.3697  0.1039\n",
      "GREEN AREAS_GOOD                             -0.2130   0.1137  -1.8735 0.0610 -0.4359  0.0098\n",
      "PUBLIC LIGHTING_GOOD                         -0.0722   0.1451  -0.4977 0.6187 -0.3565  0.2121\n",
      "ASPHALT AND STREET CONSERVATION_GOOD          0.0405   0.1112   0.3640 0.7159 -0.1774  0.2584\n",
      "FACADES AND BUILDING CONSERVATION_GOOD       -0.0101   0.1297  -0.0777 0.9381 -0.2643  0.2442\n",
      "CIRCULATION_GOOD                             -0.0139   0.0978  -0.1417 0.8873 -0.2055  0.1778\n",
      "BUS_GOOD                                     -0.2178   0.1441  -1.5112 0.1307 -0.5004  0.0647\n",
      "MUNICIPAL POLICE_GOOD                        -0.0446   0.1130  -0.3951 0.6928 -0.2661  0.1768\n",
      "CITIZEN SECURITY IN THE CITY AS A WHOLE_GOOD  0.2342   0.1169   2.0033 0.0451  0.0051  0.4634\n",
      "CITIZEN SECURITY IN THE NEIGHBORHOOD_GOOD    -0.3127   0.1187  -2.6332 0.0085 -0.5454 -0.0799\n",
      "MUNICIPAL MARKETS_GOOD                        0.0995   0.1571   0.6329 0.5268 -0.2085  0.4075\n",
      "Barri_transport_GOOD                          0.0367   0.1741   0.2106 0.8332 -0.3045  0.3779\n",
      "Barri_transport_NORMAL                        0.2336   0.1824   1.2806 0.2003 -0.1239  0.5912\n",
      "House_size2_51-100 M2                         0.1957   0.1565   1.2507 0.2110 -0.1110  0.5025\n",
      "House_size2_< 50 M2                           0.1710   0.2165   0.7897 0.4297 -0.2534  0.5954\n",
      "House_size2_> 150 M2                          0.2124   0.2778   0.7646 0.4445 -0.3320  0.7568\n",
      "Monthly_family_income2_2001-3000 EUROS        0.0853   0.1358   0.6285 0.5297 -0.1808  0.3514\n",
      "Monthly_family_income2_< 1000 EUROS          -0.2152   0.1050  -2.0498 0.0404 -0.4210 -0.0094\n",
      "Monthly_family_income2_> 3000 EUROS           0.2664   0.1879   1.4177 0.1563 -0.1019  0.6346\n",
      "Social_class2_LOW                            -0.8163   0.3638  -2.2436 0.0249 -1.5294 -0.1032\n",
      "Social_class2_MIDDLE-HIGH                    -0.8820   0.4178  -2.1109 0.0348 -1.7008 -0.0631\n",
      "Social_class2_MIDDLE-LOW                     -0.7535   0.3488  -2.1599 0.0308 -1.4372 -0.0698\n",
      "Social_class2_MIDDLE-MIDDLE                  -0.7900   0.3462  -2.2817 0.0225 -1.4686 -0.1114\n",
      "=============================================================================================\n",
      "\n"
     ]
    }
   ],
   "source": [
    "logit_model = sm.Logit(y,x)\n",
    "result=logit_model.fit()\n",
    "print(result.summary2())"
   ]
  },
  {
   "cell_type": "code",
   "execution_count": 13,
   "metadata": {},
   "outputs": [
    {
     "data": {
      "text/plain": [
       "GARBAGE COLLECTION_GOOD                         9.701419e-01\n",
       "FACADES AND BUILDING CONSERVATION_GOOD          9.380965e-01\n",
       "CIRCULATION_GOOD                                8.873053e-01\n",
       "Barri_transport_GOOD                            8.332137e-01\n",
       "Barri_evolution2_IT IS THE SAME                 8.109227e-01\n",
       "Owns_a_car                                      7.482489e-01\n",
       "Barri_evolution2_IT IS WORSE                    7.226733e-01\n",
       "ASPHALT AND STREET CONSERVATION_GOOD            7.158719e-01\n",
       "MUNICIPAL POLICE_GOOD                           6.927672e-01\n",
       "PUBLIC LIGHTING_GOOD                            6.187034e-01\n",
       "Monthly_family_income2_2001-3000 EUROS          5.297034e-01\n",
       "MUNICIPAL MARKETS_GOOD                          5.267684e-01\n",
       "BCN_over_barri_evolution2                       5.193481e-01\n",
       "Gender                                          5.047996e-01\n",
       "House_size2_> 150 M2                            4.444842e-01\n",
       "House_size2_< 50 M2                             4.296742e-01\n",
       "BCN_over_barri_future2                          2.922867e-01\n",
       "STREETS CLEANING_GOOD                           2.713936e-01\n",
       "House_size2_51-100 M2                           2.110271e-01\n",
       "Barri_transport_NORMAL                          2.003308e-01\n",
       "Monthly_family_income2_> 3000 EUROS             1.562793e-01\n",
       "BUS_GOOD                                        1.307394e-01\n",
       "Barri_future2_IT WILL IMPROVE                   8.553795e-02\n",
       "GREEN AREAS_GOOD                                6.100177e-02\n",
       "BCN_over_barri_transport                        5.862775e-02\n",
       "Barri_future2_IT WILL STAY THE SAME             5.240637e-02\n",
       "CITIZEN SECURITY IN THE CITY AS A WHOLE_GOOD    4.514285e-02\n",
       "Living_alone                                    4.252769e-02\n",
       "Monthly_family_income2_< 1000 EUROS             4.038751e-02\n",
       "Social_class2_MIDDLE-HIGH                       3.478055e-02\n",
       "Social_class2_MIDDLE-LOW                        3.077786e-02\n",
       "BCN_over_barri_satisfaction_of_living           2.957449e-02\n",
       "Social_class2_LOW                               2.485999e-02\n",
       "Social_class2_MIDDLE-MIDDLE                     2.250647e-02\n",
       "CITIZEN SECURITY IN THE NEIGHBORHOOD_GOOD       8.459071e-03\n",
       "Time_living_in_barri_MORE THAN 10 YEARS         5.855530e-03\n",
       "Barri_satisfaction_of_living_SATISFIED          4.200455e-07\n",
       "Barri_comparison2_ONE OF THE WORST              5.002206e-09\n",
       "Time_living_in_barri_LESS THAN 10 YEARS         1.152838e-09\n",
       "Barri_comparison2_ONE OF THE BEST               2.216557e-49\n",
       "dtype: float64"
      ]
     },
     "execution_count": 13,
     "metadata": {},
     "output_type": "execute_result"
    }
   ],
   "source": [
    "result.pvalues.sort_values(ascending=False)"
   ]
  },
  {
   "cell_type": "code",
   "execution_count": null,
   "metadata": {},
   "outputs": [],
   "source": []
  },
  {
   "cell_type": "code",
   "execution_count": 14,
   "metadata": {},
   "outputs": [],
   "source": [
    "for i in ['GARBAGE COLLECTION', 'FACADES AND BUILDING CONSERVATION', 'CIRCULATION', 'Barri_evolution2', 'Barri_transport',\n",
    "         'ASPHALT AND STREET CONSERVATION', 'Owns_a_car']:\n",
    "    x_var.remove(i)"
   ]
  },
  {
   "cell_type": "code",
   "execution_count": 15,
   "metadata": {},
   "outputs": [],
   "source": [
    "x = data[x_var]\n",
    "x = pd.get_dummies(x, drop_first = True)"
   ]
  },
  {
   "cell_type": "code",
   "execution_count": 16,
   "metadata": {},
   "outputs": [
    {
     "name": "stdout",
     "output_type": "stream",
     "text": [
      "Optimization terminated successfully.\n",
      "         Current function value: 0.302065\n",
      "         Iterations 7\n",
      "                                       Results: Logit\n",
      "=============================================================================================\n",
      "Model:                 Logit                                 Pseudo R-squared:    0.171      \n",
      "Dependent Variable:    Would_not_stay_in_the_neighborhood    AIC:                 3834.7921  \n",
      "Date:                  2021-04-14 08:40                      BIC:                 4043.7177  \n",
      "No. Observations:      6245                                  Log-Likelihood:      -1886.4    \n",
      "Df Model:              30                                    LL-Null:             -2274.7    \n",
      "Df Residuals:          6214                                  LLR p-value:         5.0566e-144\n",
      "Converged:             1.0000                                Scale:               1.0000     \n",
      "No. Iterations:        7.0000                                                                \n",
      "---------------------------------------------------------------------------------------------\n",
      "                                              Coef.  Std.Err.    z     P>|z|   [0.025  0.975]\n",
      "---------------------------------------------------------------------------------------------\n",
      "Gender                                        0.0490   0.0917   0.5342 0.5932 -0.1307  0.2286\n",
      "Living_alone                                  0.2045   0.1012   2.0204 0.0433  0.0061  0.4028\n",
      "BCN_over_barri_evolution2                    -0.1062   0.1283  -0.8274 0.4080 -0.3578  0.1454\n",
      "BCN_over_barri_future2                        0.1314   0.1252   1.0500 0.2937 -0.1139  0.3767\n",
      "BCN_over_barri_satisfaction_of_living         0.4221   0.1950   2.1651 0.0304  0.0400  0.8042\n",
      "BCN_over_barri_transport                      0.3765   0.1229   3.0628 0.0022  0.1356  0.6174\n",
      "Time_living_in_barri_LESS THAN 10 YEARS       1.2304   0.2006   6.1344 0.0000  0.8373  1.6235\n",
      "Time_living_in_barri_MORE THAN 10 YEARS       0.3954   0.1431   2.7631 0.0057  0.1149  0.6759\n",
      "Barri_future2_IT WILL IMPROVE                -0.2316   0.1356  -1.7079 0.0877 -0.4974  0.0342\n",
      "Barri_future2_IT WILL STAY THE SAME          -0.2282   0.1268  -1.7996 0.0719 -0.4766  0.0203\n",
      "Barri_satisfaction_of_living_SATISFIED       -0.8682   0.1705  -5.0923 0.0000 -1.2023 -0.5340\n",
      "Barri_comparison2_ONE OF THE BEST            -1.4896   0.1005 -14.8153 0.0000 -1.6867 -1.2926\n",
      "Barri_comparison2_ONE OF THE WORST            0.8717   0.1500   5.8120 0.0000  0.5777  1.1657\n",
      "STREETS CLEANING_GOOD                        -0.1203   0.1142  -1.0532 0.2922 -0.3441  0.1036\n",
      "GREEN AREAS_GOOD                             -0.2109   0.1110  -1.8989 0.0576 -0.4285  0.0068\n",
      "PUBLIC LIGHTING_GOOD                         -0.0766   0.1425  -0.5380 0.5906 -0.3559  0.2026\n",
      "BUS_GOOD                                     -0.1956   0.1364  -1.4341 0.1515 -0.4628  0.0717\n",
      "MUNICIPAL POLICE_GOOD                        -0.0523   0.1121  -0.4663 0.6410 -0.2721  0.1675\n",
      "CITIZEN SECURITY IN THE CITY AS A WHOLE_GOOD  0.2334   0.1161   2.0111 0.0443  0.0059  0.4609\n",
      "CITIZEN SECURITY IN THE NEIGHBORHOOD_GOOD    -0.3048   0.1178  -2.5874 0.0097 -0.5357 -0.0739\n",
      "MUNICIPAL MARKETS_GOOD                        0.0967   0.1563   0.6185 0.5363 -0.2097  0.4030\n",
      "House_size2_51-100 M2                         0.1951   0.1561   1.2498 0.2114 -0.1108  0.5010\n",
      "House_size2_< 50 M2                           0.1645   0.2156   0.7628 0.4456 -0.2581  0.5871\n",
      "House_size2_> 150 M2                          0.2123   0.2779   0.7641 0.4448 -0.3323  0.7569\n",
      "Monthly_family_income2_2001-3000 EUROS        0.0860   0.1338   0.6428 0.5203 -0.1762  0.3482\n",
      "Monthly_family_income2_< 1000 EUROS          -0.2173   0.1043  -2.0838 0.0372 -0.4217 -0.0129\n",
      "Monthly_family_income2_> 3000 EUROS           0.2714   0.1860   1.4588 0.1446 -0.0932  0.6359\n",
      "Social_class2_LOW                            -0.7913   0.3228  -2.4514 0.0142 -1.4240 -0.1586\n",
      "Social_class2_MIDDLE-HIGH                    -0.8580   0.3823  -2.2439 0.0248 -1.6073 -0.1086\n",
      "Social_class2_MIDDLE-LOW                     -0.7280   0.3057  -2.3811 0.0173 -1.3272 -0.1288\n",
      "Social_class2_MIDDLE-MIDDLE                  -0.7658   0.3020  -2.5354 0.0112 -1.3578 -0.1738\n",
      "=============================================================================================\n",
      "\n"
     ]
    }
   ],
   "source": [
    "logit_model = sm.Logit(y,x)\n",
    "result=logit_model.fit()\n",
    "print(result.summary2())"
   ]
  },
  {
   "cell_type": "code",
   "execution_count": 17,
   "metadata": {},
   "outputs": [
    {
     "data": {
      "text/plain": [
       "MUNICIPAL POLICE_GOOD                           6.409816e-01\n",
       "Gender                                          5.932299e-01\n",
       "PUBLIC LIGHTING_GOOD                            5.905925e-01\n",
       "MUNICIPAL MARKETS_GOOD                          5.362574e-01\n",
       "Monthly_family_income2_2001-3000 EUROS          5.203357e-01\n",
       "House_size2_< 50 M2                             4.455901e-01\n",
       "House_size2_> 150 M2                            4.447979e-01\n",
       "BCN_over_barri_evolution2                       4.080209e-01\n",
       "BCN_over_barri_future2                          2.937288e-01\n",
       "STREETS CLEANING_GOOD                           2.922301e-01\n",
       "House_size2_51-100 M2                           2.113674e-01\n",
       "BUS_GOOD                                        1.515296e-01\n",
       "Monthly_family_income2_> 3000 EUROS             1.446077e-01\n",
       "Barri_future2_IT WILL IMPROVE                   8.765838e-02\n",
       "Barri_future2_IT WILL STAY THE SAME             7.192402e-02\n",
       "GREEN AREAS_GOOD                                5.757323e-02\n",
       "CITIZEN SECURITY IN THE CITY AS A WHOLE_GOOD    4.431168e-02\n",
       "Living_alone                                    4.334407e-02\n",
       "Monthly_family_income2_< 1000 EUROS             3.718013e-02\n",
       "BCN_over_barri_satisfaction_of_living           3.038009e-02\n",
       "Social_class2_MIDDLE-HIGH                       2.483674e-02\n",
       "Social_class2_MIDDLE-LOW                        1.726113e-02\n",
       "Social_class2_LOW                               1.423140e-02\n",
       "Social_class2_MIDDLE-MIDDLE                     1.123123e-02\n",
       "CITIZEN SECURITY IN THE NEIGHBORHOOD_GOOD       9.669449e-03\n",
       "Time_living_in_barri_MORE THAN 10 YEARS         5.725551e-03\n",
       "BCN_over_barri_transport                        2.193089e-03\n",
       "Barri_satisfaction_of_living_SATISFIED          3.537368e-07\n",
       "Barri_comparison2_ONE OF THE WORST              6.174169e-09\n",
       "Time_living_in_barri_LESS THAN 10 YEARS         8.546680e-10\n",
       "Barri_comparison2_ONE OF THE BEST               1.167282e-49\n",
       "dtype: float64"
      ]
     },
     "execution_count": 17,
     "metadata": {},
     "output_type": "execute_result"
    }
   ],
   "source": [
    "result.pvalues.sort_values(ascending=False)"
   ]
  },
  {
   "cell_type": "code",
   "execution_count": null,
   "metadata": {},
   "outputs": [],
   "source": []
  },
  {
   "cell_type": "code",
   "execution_count": 18,
   "metadata": {},
   "outputs": [],
   "source": [
    "for i in ['PUBLIC LIGHTING', 'MUNICIPAL POLICE', 'Gender', 'MUNICIPAL MARKETS', 'House_size2']:\n",
    "    x_var.remove(i)"
   ]
  },
  {
   "cell_type": "code",
   "execution_count": 19,
   "metadata": {},
   "outputs": [],
   "source": [
    "x = data[x_var]\n",
    "x = pd.get_dummies(x, drop_first = True)"
   ]
  },
  {
   "cell_type": "code",
   "execution_count": 20,
   "metadata": {},
   "outputs": [
    {
     "name": "stdout",
     "output_type": "stream",
     "text": [
      "Optimization terminated successfully.\n",
      "         Current function value: 0.302294\n",
      "         Iterations 7\n",
      "                                       Results: Logit\n",
      "=============================================================================================\n",
      "Model:                 Logit                                 Pseudo R-squared:    0.170      \n",
      "Dependent Variable:    Would_not_stay_in_the_neighborhood    AIC:                 3823.6580  \n",
      "Date:                  2021-04-14 08:40                      BIC:                 3985.4069  \n",
      "No. Observations:      6245                                  Log-Likelihood:      -1887.8    \n",
      "Df Model:              23                                    LL-Null:             -2274.7    \n",
      "Df Residuals:          6221                                  LLR p-value:         1.2832e-148\n",
      "Converged:             1.0000                                Scale:               1.0000     \n",
      "No. Iterations:        7.0000                                                                \n",
      "---------------------------------------------------------------------------------------------\n",
      "                                              Coef.  Std.Err.    z     P>|z|   [0.025  0.975]\n",
      "---------------------------------------------------------------------------------------------\n",
      "Living_alone                                  0.2172   0.0994   2.1844 0.0289  0.0223  0.4121\n",
      "BCN_over_barri_evolution2                    -0.1014   0.1281  -0.7911 0.4289 -0.3525  0.1498\n",
      "BCN_over_barri_future2                        0.1296   0.1248   1.0379 0.2993 -0.1151  0.3743\n",
      "BCN_over_barri_satisfaction_of_living         0.4367   0.1949   2.2409 0.0250  0.0547  0.8186\n",
      "BCN_over_barri_transport                      0.3795   0.1226   3.0944 0.0020  0.1391  0.6199\n",
      "Time_living_in_barri_LESS THAN 10 YEARS       1.2381   0.1995   6.2051 0.0000  0.8470  1.6292\n",
      "Time_living_in_barri_MORE THAN 10 YEARS       0.4045   0.1430   2.8292 0.0047  0.1243  0.6848\n",
      "Barri_future2_IT WILL IMPROVE                -0.2292   0.1351  -1.6963 0.0898 -0.4941  0.0356\n",
      "Barri_future2_IT WILL STAY THE SAME          -0.2253   0.1265  -1.7820 0.0747 -0.4732  0.0225\n",
      "Barri_satisfaction_of_living_SATISFIED       -0.8660   0.1703  -5.0840 0.0000 -1.1998 -0.5321\n",
      "Barri_comparison2_ONE OF THE BEST            -1.4901   0.1003 -14.8579 0.0000 -1.6866 -1.2935\n",
      "Barri_comparison2_ONE OF THE WORST            0.8693   0.1496   5.8096 0.0000  0.5760  1.1626\n",
      "STREETS CLEANING_GOOD                        -0.1268   0.1131  -1.1212 0.2622 -0.3485  0.0949\n",
      "GREEN AREAS_GOOD                             -0.2177   0.1096  -1.9873 0.0469 -0.4325 -0.0030\n",
      "BUS_GOOD                                     -0.1986   0.1341  -1.4811 0.1386 -0.4614  0.0642\n",
      "CITIZEN SECURITY IN THE CITY AS A WHOLE_GOOD  0.2260   0.1147   1.9696 0.0489  0.0011  0.4509\n",
      "CITIZEN SECURITY IN THE NEIGHBORHOOD_GOOD    -0.3115   0.1173  -2.6558 0.0079 -0.5414 -0.0816\n",
      "Monthly_family_income2_2001-3000 EUROS        0.0762   0.1330   0.5729 0.5667 -0.1845  0.3369\n",
      "Monthly_family_income2_< 1000 EUROS          -0.2041   0.1025  -1.9906 0.0465 -0.4050 -0.0031\n",
      "Monthly_family_income2_> 3000 EUROS           0.2450   0.1816   1.3494 0.1772 -0.1109  0.6009\n",
      "Social_class2_LOW                            -0.6075   0.2701  -2.2489 0.0245 -1.1369 -0.0781\n",
      "Social_class2_MIDDLE-HIGH                    -0.6885   0.3477  -1.9800 0.0477 -1.3701 -0.0070\n",
      "Social_class2_MIDDLE-LOW                     -0.5377   0.2486  -2.1626 0.0306 -1.0250 -0.0504\n",
      "Social_class2_MIDDLE-MIDDLE                  -0.5825   0.2473  -2.3553 0.0185 -1.0672 -0.0978\n",
      "=============================================================================================\n",
      "\n"
     ]
    }
   ],
   "source": [
    "logit_model = sm.Logit(y,x)\n",
    "result=logit_model.fit()\n",
    "print(result.summary2())"
   ]
  },
  {
   "cell_type": "code",
   "execution_count": 21,
   "metadata": {},
   "outputs": [
    {
     "data": {
      "text/plain": [
       "Monthly_family_income2_2001-3000 EUROS          5.667020e-01\n",
       "BCN_over_barri_evolution2                       4.288722e-01\n",
       "BCN_over_barri_future2                          2.993038e-01\n",
       "STREETS CLEANING_GOOD                           2.622114e-01\n",
       "Monthly_family_income2_> 3000 EUROS             1.771938e-01\n",
       "BUS_GOOD                                        1.385845e-01\n",
       "Barri_future2_IT WILL IMPROVE                   8.982199e-02\n",
       "Barri_future2_IT WILL STAY THE SAME             7.474378e-02\n",
       "CITIZEN SECURITY IN THE CITY AS A WHOLE_GOOD    4.888697e-02\n",
       "Social_class2_MIDDLE-HIGH                       4.770035e-02\n",
       "GREEN AREAS_GOOD                                4.689257e-02\n",
       "Monthly_family_income2_< 1000 EUROS             4.652931e-02\n",
       "Social_class2_MIDDLE-LOW                        3.057552e-02\n",
       "Living_alone                                    2.892963e-02\n",
       "BCN_over_barri_satisfaction_of_living           2.503425e-02\n",
       "Social_class2_LOW                               2.451589e-02\n",
       "Social_class2_MIDDLE-MIDDLE                     1.850794e-02\n",
       "CITIZEN SECURITY IN THE NEIGHBORHOOD_GOOD       7.911175e-03\n",
       "Time_living_in_barri_MORE THAN 10 YEARS         4.665964e-03\n",
       "BCN_over_barri_transport                        1.972432e-03\n",
       "Barri_satisfaction_of_living_SATISFIED          3.696008e-07\n",
       "Barri_comparison2_ONE OF THE WORST              6.262116e-09\n",
       "Time_living_in_barri_LESS THAN 10 YEARS         5.467001e-10\n",
       "Barri_comparison2_ONE OF THE BEST               6.186284e-50\n",
       "dtype: float64"
      ]
     },
     "execution_count": 21,
     "metadata": {},
     "output_type": "execute_result"
    }
   ],
   "source": [
    "result.pvalues.sort_values(ascending=False)"
   ]
  },
  {
   "cell_type": "code",
   "execution_count": null,
   "metadata": {},
   "outputs": [],
   "source": []
  },
  {
   "cell_type": "code",
   "execution_count": 22,
   "metadata": {},
   "outputs": [],
   "source": [
    "for i in ['Monthly_family_income2', 'BCN_over_barri_evolution2', 'BCN_over_barri_future2', \n",
    "          'STREETS CLEANING', 'Living_alone']:\n",
    "    x_var.remove(i)"
   ]
  },
  {
   "cell_type": "code",
   "execution_count": 23,
   "metadata": {},
   "outputs": [],
   "source": [
    "x = data[x_var]\n",
    "x = pd.get_dummies(x, drop_first = True)"
   ]
  },
  {
   "cell_type": "code",
   "execution_count": 24,
   "metadata": {},
   "outputs": [
    {
     "name": "stdout",
     "output_type": "stream",
     "text": [
      "Optimization terminated successfully.\n",
      "         Current function value: 0.303261\n",
      "         Iterations 7\n",
      "                                       Results: Logit\n",
      "=============================================================================================\n",
      "Model:                 Logit                                 Pseudo R-squared:    0.167      \n",
      "Dependent Variable:    Would_not_stay_in_the_neighborhood    AIC:                 3821.7358  \n",
      "Date:                  2021-04-14 08:40                      BIC:                 3936.3080  \n",
      "No. Observations:      6245                                  Log-Likelihood:      -1893.9    \n",
      "Df Model:              16                                    LL-Null:             -2274.7    \n",
      "Df Residuals:          6228                                  LLR p-value:         9.9088e-152\n",
      "Converged:             1.0000                                Scale:               1.0000     \n",
      "No. Iterations:        7.0000                                                                \n",
      "---------------------------------------------------------------------------------------------\n",
      "                                              Coef.  Std.Err.    z     P>|z|   [0.025  0.975]\n",
      "---------------------------------------------------------------------------------------------\n",
      "BCN_over_barri_satisfaction_of_living         0.4259   0.1932   2.2048 0.0275  0.0473  0.8046\n",
      "BCN_over_barri_transport                      0.3812   0.1226   3.1091 0.0019  0.1409  0.6214\n",
      "Time_living_in_barri_LESS THAN 10 YEARS       1.2413   0.1990   6.2381 0.0000  0.8513  1.6313\n",
      "Time_living_in_barri_MORE THAN 10 YEARS       0.4059   0.1430   2.8385 0.0045  0.1256  0.6862\n",
      "Barri_future2_IT WILL IMPROVE                -0.2812   0.1168  -2.4071 0.0161 -0.5101 -0.0522\n",
      "Barri_future2_IT WILL STAY THE SAME          -0.2235   0.1250  -1.7885 0.0737 -0.4684  0.0214\n",
      "Barri_satisfaction_of_living_SATISFIED       -0.8640   0.1685  -5.1276 0.0000 -1.1943 -0.5338\n",
      "Barri_comparison2_ONE OF THE BEST            -1.4781   0.0999 -14.7936 0.0000 -1.6740 -1.2823\n",
      "Barri_comparison2_ONE OF THE WORST            0.8805   0.1490   5.9088 0.0000  0.5884  1.1725\n",
      "GREEN AREAS_GOOD                             -0.2429   0.1067  -2.2756 0.0229 -0.4521 -0.0337\n",
      "BUS_GOOD                                     -0.2173   0.1333  -1.6304 0.1030 -0.4786  0.0439\n",
      "CITIZEN SECURITY IN THE CITY AS A WHOLE_GOOD  0.2268   0.1139   1.9916 0.0464  0.0036  0.4501\n",
      "CITIZEN SECURITY IN THE NEIGHBORHOOD_GOOD    -0.2955   0.1164  -2.5397 0.0111 -0.5236 -0.0675\n",
      "Social_class2_LOW                            -0.6935   0.2573  -2.6957 0.0070 -1.1977 -0.1893\n",
      "Social_class2_MIDDLE-HIGH                    -0.6340   0.3354  -1.8904 0.0587 -1.2914  0.0233\n",
      "Social_class2_MIDDLE-LOW                     -0.5839   0.2382  -2.4507 0.0143 -1.0508 -0.1169\n",
      "Social_class2_MIDDLE-MIDDLE                  -0.5853   0.2354  -2.4861 0.0129 -1.0468 -0.1239\n",
      "=============================================================================================\n",
      "\n"
     ]
    }
   ],
   "source": [
    "logit_model = sm.Logit(y,x)\n",
    "result=logit_model.fit()\n",
    "print(result.summary2())"
   ]
  },
  {
   "cell_type": "code",
   "execution_count": 25,
   "metadata": {},
   "outputs": [
    {
     "data": {
      "text/plain": [
       "BUS_GOOD                                        1.030236e-01\n",
       "Barri_future2_IT WILL STAY THE SAME             7.368834e-02\n",
       "Social_class2_MIDDLE-HIGH                       5.870802e-02\n",
       "CITIZEN SECURITY IN THE CITY AS A WHOLE_GOOD    4.641031e-02\n",
       "BCN_over_barri_satisfaction_of_living           2.746575e-02\n",
       "GREEN AREAS_GOOD                                2.287038e-02\n",
       "Barri_future2_IT WILL IMPROVE                   1.608119e-02\n",
       "Social_class2_MIDDLE-LOW                        1.425607e-02\n",
       "Social_class2_MIDDLE-MIDDLE                     1.291664e-02\n",
       "CITIZEN SECURITY IN THE NEIGHBORHOOD_GOOD       1.109433e-02\n",
       "Social_class2_LOW                               7.023686e-03\n",
       "Time_living_in_barri_MORE THAN 10 YEARS         4.532081e-03\n",
       "BCN_over_barri_transport                        1.876504e-03\n",
       "Barri_satisfaction_of_living_SATISFIED          2.934228e-07\n",
       "Barri_comparison2_ONE OF THE WORST              3.446756e-09\n",
       "Time_living_in_barri_LESS THAN 10 YEARS         4.427776e-10\n",
       "Barri_comparison2_ONE OF THE BEST               1.612183e-49\n",
       "dtype: float64"
      ]
     },
     "execution_count": 25,
     "metadata": {},
     "output_type": "execute_result"
    }
   ],
   "source": [
    "result.pvalues.sort_values(ascending=False)"
   ]
  },
  {
   "cell_type": "code",
   "execution_count": null,
   "metadata": {},
   "outputs": [],
   "source": []
  },
  {
   "cell_type": "code",
   "execution_count": 26,
   "metadata": {},
   "outputs": [
    {
     "name": "stdout",
     "output_type": "stream",
     "text": [
      "                Logit Marginal Effects               \n",
      "=====================================================\n",
      "Dep. Variable:     Would_not_stay_in_the_neighborhood\n",
      "Method:                                          dydx\n",
      "At:                                           overall\n",
      "================================================================================================================\n",
      "                                                  dy/dx    std err          z      P>|z|      [0.025      0.975]\n",
      "----------------------------------------------------------------------------------------------------------------\n",
      "BCN_over_barri_satisfaction_of_living            0.0377      0.017      2.207      0.027       0.004       0.071\n",
      "BCN_over_barri_transport                         0.0337      0.011      3.112      0.002       0.012       0.055\n",
      "Time_living_in_barri_LESS THAN 10 YEARS          0.1097      0.018      6.258      0.000       0.075       0.144\n",
      "Time_living_in_barri_MORE THAN 10 YEARS          0.0359      0.013      2.839      0.005       0.011       0.061\n",
      "Barri_future2_IT WILL IMPROVE                   -0.0249      0.010     -2.409      0.016      -0.045      -0.005\n",
      "Barri_future2_IT WILL STAY THE SAME             -0.0198      0.011     -1.789      0.074      -0.041       0.002\n",
      "Barri_satisfaction_of_living_SATISFIED          -0.0764      0.015     -5.164      0.000      -0.105      -0.047\n",
      "Barri_comparison2_ONE OF THE BEST               -0.1307      0.009    -14.595      0.000      -0.148      -0.113\n",
      "Barri_comparison2_ONE OF THE WORST               0.0778      0.013      5.988      0.000       0.052       0.103\n",
      "GREEN AREAS_GOOD                                -0.0215      0.009     -2.277      0.023      -0.040      -0.003\n",
      "BUS_GOOD                                        -0.0192      0.012     -1.631      0.103      -0.042       0.004\n",
      "CITIZEN SECURITY IN THE CITY AS A WHOLE_GOOD     0.0201      0.010      1.993      0.046       0.000       0.040\n",
      "CITIZEN SECURITY IN THE NEIGHBORHOOD_GOOD       -0.0261      0.010     -2.542      0.011      -0.046      -0.006\n",
      "Social_class2_LOW                               -0.0613      0.023     -2.702      0.007      -0.106      -0.017\n",
      "Social_class2_MIDDLE-HIGH                       -0.0561      0.030     -1.893      0.058      -0.114       0.002\n",
      "Social_class2_MIDDLE-LOW                        -0.0516      0.021     -2.456      0.014      -0.093      -0.010\n",
      "Social_class2_MIDDLE-MIDDLE                     -0.0517      0.021     -2.491      0.013      -0.092      -0.011\n",
      "================================================================================================================\n"
     ]
    }
   ],
   "source": [
    "print(result.get_margeff().summary())"
   ]
  },
  {
   "cell_type": "code",
   "execution_count": null,
   "metadata": {},
   "outputs": [],
   "source": []
  },
  {
   "cell_type": "code",
   "execution_count": 27,
   "metadata": {},
   "outputs": [
    {
     "data": {
      "text/plain": [
       "array([[5438.,   66.],\n",
       "       [ 633.,  108.]])"
      ]
     },
     "execution_count": 27,
     "metadata": {},
     "output_type": "execute_result"
    }
   ],
   "source": [
    "result.pred_table()"
   ]
  },
  {
   "cell_type": "code",
   "execution_count": null,
   "metadata": {},
   "outputs": [],
   "source": []
  },
  {
   "cell_type": "code",
   "execution_count": 28,
   "metadata": {},
   "outputs": [
    {
     "data": {
      "image/png": "[encoded data removed]",
      "text/plain": [
       "<Figure size 432x288 with 1 Axes>"
      ]
     },
     "metadata": {
      "needs_background": "light"
     },
     "output_type": "display_data"
    }
   ],
   "source": [
    "logit_roc_auc = roc_auc_score(y, result.predict(x))\n",
    "fpr, tpr, thresholds = roc_curve(y, result.predict(x))\n",
    "plt.figure()\n",
    "plt.plot(fpr, tpr, label='Logistic Regression (area = %0.2f)' % logit_roc_auc)\n",
    "plt.plot([0, 1], [0, 1],'r--')\n",
    "plt.xlim([0.0, 1.0])\n",
    "plt.ylim([0.0, 1.05])\n",
    "plt.xlabel('False Positive Rate')\n",
    "plt.ylabel('True Positive Rate')\n",
    "plt.title('Receiver operating characteristic')\n",
    "plt.legend(loc=\"lower right\")\n",
    "#plt.savefig('Log_ROC')\n",
    "plt.show()"
   ]
  },
  {
   "cell_type": "code",
   "execution_count": null,
   "metadata": {},
   "outputs": [],
   "source": []
  }
 ],
 "metadata": {
  "kernelspec": {
   "display_name": "Python 3",
   "language": "python",
   "name": "python3"
  },
  "language_info": {
   "codemirror_mode": {
    "name": "ipython",
    "version": 3
   },
   "file_extension": ".py",
   "mimetype": "text/x-python",
   "name": "python",
   "nbconvert_exporter": "python",
   "pygments_lexer": "ipython3",
   "version": "3.7.6"
  }
 },
 "nbformat": 4,
 "nbformat_minor": 4
}
