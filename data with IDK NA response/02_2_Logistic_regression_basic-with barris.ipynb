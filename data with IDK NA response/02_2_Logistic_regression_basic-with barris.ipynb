{
 "cells": [
  {
   "cell_type": "markdown",
   "metadata": {},
   "source": [
    "Aleksandra Bednarczuk"
   ]
  },
  {
   "cell_type": "markdown",
   "metadata": {},
   "source": [
    "# Predictors of elderly citizens willingness to stay in the neighbourhood\n",
    "# Logistic regression"
   ]
  },
  {
   "cell_type": "markdown",
   "metadata": {},
   "source": [
    "Original dataset, including barris among predictors"
   ]
  },
  {
   "cell_type": "code",
   "execution_count": 19,
   "metadata": {},
   "outputs": [],
   "source": [
    "import pandas as pd\n",
    "import numpy as np\n",
    "\n",
    "import matplotlib.pyplot as plt"
   ]
  },
  {
   "cell_type": "code",
   "execution_count": 20,
   "metadata": {},
   "outputs": [],
   "source": [
    "from imblearn.over_sampling import SMOTE\n",
    "\n",
    "import statsmodels.api as sm\n",
    "import statsmodels.formula.api as smf\n",
    "\n",
    "from sklearn.model_selection import train_test_split\n",
    "from sklearn.feature_selection import RFE\n",
    "from sklearn.linear_model import LogisticRegression\n",
    "\n",
    "from sklearn.metrics import accuracy_score\n",
    "from sklearn.metrics import classification_report\n",
    "from sklearn.metrics import confusion_matrix\n",
    "from sklearn.metrics import roc_auc_score\n",
    "from sklearn.metrics import roc_curve\n",
    "from sklearn.metrics import r2_score\n",
    "\n",
    "from sklearn.feature_selection import SelectKBest\n",
    "from sklearn.feature_selection import chi2\n",
    "from sklearn.feature_selection import mutual_info_classif\n",
    "from sklearn.feature_selection import f_classif\n",
    "from sklearn.preprocessing import LabelEncoder\n",
    "from sklearn.preprocessing import OrdinalEncoder\n",
    "\n",
    "from scipy import stats"
   ]
  },
  {
   "cell_type": "code",
   "execution_count": null,
   "metadata": {},
   "outputs": [],
   "source": []
  },
  {
   "cell_type": "code",
   "execution_count": 21,
   "metadata": {},
   "outputs": [],
   "source": [
    "data = pd.read_pickle(\"survey_transformed.pkl\")"
   ]
  },
  {
   "cell_type": "code",
   "execution_count": 22,
   "metadata": {},
   "outputs": [
    {
     "data": {
      "text/html": [
       "<div>\n",
       "<style scoped>\n",
       "    .dataframe tbody tr th:only-of-type {\n",
       "        vertical-align: middle;\n",
       "    }\n",
       "\n",
       "    .dataframe tbody tr th {\n",
       "        vertical-align: top;\n",
       "    }\n",
       "\n",
       "    .dataframe thead th {\n",
       "        text-align: right;\n",
       "    }\n",
       "</style>\n",
       "<table border=\"1\" class=\"dataframe\">\n",
       "  <thead>\n",
       "    <tr style=\"text-align: right;\">\n",
       "      <th></th>\n",
       "      <th>ANY</th>\n",
       "      <th>NOM_DISTRICTE</th>\n",
       "      <th>Would_not_stay_in_the_neighborhood</th>\n",
       "      <th>Gender</th>\n",
       "      <th>Time_living_in_barri</th>\n",
       "      <th>Barri_evolution</th>\n",
       "      <th>Barri_satisfaction_of_living</th>\n",
       "      <th>Barri_comparison</th>\n",
       "      <th>GREEN AREAS</th>\n",
       "      <th>PUBLIC LIGHTING</th>\n",
       "      <th>...</th>\n",
       "      <th>House_size</th>\n",
       "      <th>Monthly_family_income</th>\n",
       "      <th>Social_class</th>\n",
       "      <th>Living_alone</th>\n",
       "      <th>BCN_evolution</th>\n",
       "      <th>BCN_satisfaction_of_living</th>\n",
       "      <th>BCN_transport</th>\n",
       "      <th>BCN_over_barri_evolution</th>\n",
       "      <th>BCN_over_barri_satisfaction_of_living</th>\n",
       "      <th>BCN_over_barri_transport</th>\n",
       "    </tr>\n",
       "  </thead>\n",
       "  <tbody>\n",
       "    <tr>\n",
       "      <th>0</th>\n",
       "      <td>2007</td>\n",
       "      <td>CIUTAT VELLA</td>\n",
       "      <td>0.0</td>\n",
       "      <td>0</td>\n",
       "      <td>I HAVE ALWAYS LIVED IN THE CITY</td>\n",
       "      <td>IT HAS IMPROVED</td>\n",
       "      <td>SATISFIED</td>\n",
       "      <td>NEITHER THE BEST, NOR THE WORST</td>\n",
       "      <td>GOOD</td>\n",
       "      <td>GOOD</td>\n",
       "      <td>...</td>\n",
       "      <td>51-100 M2</td>\n",
       "      <td>1001-2000 EUROS</td>\n",
       "      <td>MIDDLE-LOW</td>\n",
       "      <td>0</td>\n",
       "      <td>IT HAS IMPROVED</td>\n",
       "      <td>SATISFIED</td>\n",
       "      <td>GOOD</td>\n",
       "      <td>0</td>\n",
       "      <td>0</td>\n",
       "      <td>0</td>\n",
       "    </tr>\n",
       "    <tr>\n",
       "      <th>5</th>\n",
       "      <td>2007</td>\n",
       "      <td>CIUTAT VELLA</td>\n",
       "      <td>0.0</td>\n",
       "      <td>1</td>\n",
       "      <td>MORE THAN 10 YEARS</td>\n",
       "      <td>IT HAS IMPROVED</td>\n",
       "      <td>SATISFIED</td>\n",
       "      <td>NEITHER THE BEST, NOR THE WORST</td>\n",
       "      <td>GOOD</td>\n",
       "      <td>GOOD</td>\n",
       "      <td>...</td>\n",
       "      <td>51-100 M2</td>\n",
       "      <td>&lt; 1000 EUROS</td>\n",
       "      <td>MIDDLE-LOW</td>\n",
       "      <td>0</td>\n",
       "      <td>IT HAS IMPROVED</td>\n",
       "      <td>SATISFIED</td>\n",
       "      <td>GOOD</td>\n",
       "      <td>0</td>\n",
       "      <td>0</td>\n",
       "      <td>0</td>\n",
       "    </tr>\n",
       "    <tr>\n",
       "      <th>7</th>\n",
       "      <td>2007</td>\n",
       "      <td>CIUTAT VELLA</td>\n",
       "      <td>1.0</td>\n",
       "      <td>0</td>\n",
       "      <td>I HAVE ALWAYS LIVED IN THE CITY</td>\n",
       "      <td>IT IS WORSE</td>\n",
       "      <td>I DON'T KNOW / NO ANSWER</td>\n",
       "      <td>NEITHER THE BEST, NOR THE WORST</td>\n",
       "      <td>GOOD</td>\n",
       "      <td>GOOD</td>\n",
       "      <td>...</td>\n",
       "      <td>&lt; 50 M2</td>\n",
       "      <td>1001-2000 EUROS</td>\n",
       "      <td>MIDDLE-LOW</td>\n",
       "      <td>0</td>\n",
       "      <td>IT HAS IMPROVED</td>\n",
       "      <td>NOT SATISFIED</td>\n",
       "      <td>GOOD</td>\n",
       "      <td>1</td>\n",
       "      <td>0</td>\n",
       "      <td>0</td>\n",
       "    </tr>\n",
       "    <tr>\n",
       "      <th>9</th>\n",
       "      <td>2007</td>\n",
       "      <td>CIUTAT VELLA</td>\n",
       "      <td>0.0</td>\n",
       "      <td>1</td>\n",
       "      <td>MORE THAN 10 YEARS</td>\n",
       "      <td>IT IS WORSE</td>\n",
       "      <td>SATISFIED</td>\n",
       "      <td>NEITHER THE BEST, NOR THE WORST</td>\n",
       "      <td>GOOD</td>\n",
       "      <td>GOOD</td>\n",
       "      <td>...</td>\n",
       "      <td>101-150 M2</td>\n",
       "      <td>&lt; 1000 EUROS</td>\n",
       "      <td>MIDDLE-LOW</td>\n",
       "      <td>0</td>\n",
       "      <td>IT HAS IMPROVED</td>\n",
       "      <td>SATISFIED</td>\n",
       "      <td>GOOD</td>\n",
       "      <td>1</td>\n",
       "      <td>0</td>\n",
       "      <td>1</td>\n",
       "    </tr>\n",
       "    <tr>\n",
       "      <th>12</th>\n",
       "      <td>2007</td>\n",
       "      <td>CIUTAT VELLA</td>\n",
       "      <td>0.0</td>\n",
       "      <td>1</td>\n",
       "      <td>I HAVE ALWAYS LIVED IN THE CITY</td>\n",
       "      <td>IT HAS IMPROVED</td>\n",
       "      <td>SATISFIED</td>\n",
       "      <td>ONE OF THE BEST</td>\n",
       "      <td>BAD</td>\n",
       "      <td>GOOD</td>\n",
       "      <td>...</td>\n",
       "      <td>51-100 M2</td>\n",
       "      <td>&lt; 1000 EUROS</td>\n",
       "      <td>MIDDLE-LOW</td>\n",
       "      <td>1</td>\n",
       "      <td>IT HAS IMPROVED</td>\n",
       "      <td>SATISFIED</td>\n",
       "      <td>GOOD</td>\n",
       "      <td>0</td>\n",
       "      <td>0</td>\n",
       "      <td>0</td>\n",
       "    </tr>\n",
       "  </tbody>\n",
       "</table>\n",
       "<p>5 rows × 28 columns</p>\n",
       "</div>"
      ],
      "text/plain": [
       "     ANY NOM_DISTRICTE  Would_not_stay_in_the_neighborhood  Gender  \\\n",
       "0   2007  CIUTAT VELLA                                 0.0       0   \n",
       "5   2007  CIUTAT VELLA                                 0.0       1   \n",
       "7   2007  CIUTAT VELLA                                 1.0       0   \n",
       "9   2007  CIUTAT VELLA                                 0.0       1   \n",
       "12  2007  CIUTAT VELLA                                 0.0       1   \n",
       "\n",
       "               Time_living_in_barri  Barri_evolution  \\\n",
       "0   I HAVE ALWAYS LIVED IN THE CITY  IT HAS IMPROVED   \n",
       "5                MORE THAN 10 YEARS  IT HAS IMPROVED   \n",
       "7   I HAVE ALWAYS LIVED IN THE CITY      IT IS WORSE   \n",
       "9                MORE THAN 10 YEARS      IT IS WORSE   \n",
       "12  I HAVE ALWAYS LIVED IN THE CITY  IT HAS IMPROVED   \n",
       "\n",
       "   Barri_satisfaction_of_living                 Barri_comparison GREEN AREAS  \\\n",
       "0                     SATISFIED  NEITHER THE BEST, NOR THE WORST        GOOD   \n",
       "5                     SATISFIED  NEITHER THE BEST, NOR THE WORST        GOOD   \n",
       "7      I DON'T KNOW / NO ANSWER  NEITHER THE BEST, NOR THE WORST        GOOD   \n",
       "9                     SATISFIED  NEITHER THE BEST, NOR THE WORST        GOOD   \n",
       "12                    SATISFIED                  ONE OF THE BEST         BAD   \n",
       "\n",
       "   PUBLIC LIGHTING  ...  House_size Monthly_family_income Social_class  \\\n",
       "0             GOOD  ...   51-100 M2       1001-2000 EUROS   MIDDLE-LOW   \n",
       "5             GOOD  ...   51-100 M2          < 1000 EUROS   MIDDLE-LOW   \n",
       "7             GOOD  ...     < 50 M2       1001-2000 EUROS   MIDDLE-LOW   \n",
       "9             GOOD  ...  101-150 M2          < 1000 EUROS   MIDDLE-LOW   \n",
       "12            GOOD  ...   51-100 M2          < 1000 EUROS   MIDDLE-LOW   \n",
       "\n",
       "   Living_alone    BCN_evolution BCN_satisfaction_of_living BCN_transport  \\\n",
       "0             0  IT HAS IMPROVED                  SATISFIED          GOOD   \n",
       "5             0  IT HAS IMPROVED                  SATISFIED          GOOD   \n",
       "7             0  IT HAS IMPROVED              NOT SATISFIED          GOOD   \n",
       "9             0  IT HAS IMPROVED                  SATISFIED          GOOD   \n",
       "12            1  IT HAS IMPROVED                  SATISFIED          GOOD   \n",
       "\n",
       "    BCN_over_barri_evolution BCN_over_barri_satisfaction_of_living  \\\n",
       "0                          0                                     0   \n",
       "5                          0                                     0   \n",
       "7                          1                                     0   \n",
       "9                          1                                     0   \n",
       "12                         0                                     0   \n",
       "\n",
       "   BCN_over_barri_transport  \n",
       "0                         0  \n",
       "5                         0  \n",
       "7                         0  \n",
       "9                         1  \n",
       "12                        0  \n",
       "\n",
       "[5 rows x 28 columns]"
      ]
     },
     "execution_count": 22,
     "metadata": {},
     "output_type": "execute_result"
    }
   ],
   "source": [
    "data.head()"
   ]
  },
  {
   "cell_type": "code",
   "execution_count": 23,
   "metadata": {},
   "outputs": [
    {
     "data": {
      "text/plain": [
       "(10915, 28)"
      ]
     },
     "execution_count": 23,
     "metadata": {},
     "output_type": "execute_result"
    }
   ],
   "source": [
    "data.shape"
   ]
  },
  {
   "cell_type": "code",
   "execution_count": 24,
   "metadata": {},
   "outputs": [
    {
     "data": {
      "text/plain": [
       "['ANY',\n",
       " 'NOM_DISTRICTE',\n",
       " 'Would_not_stay_in_the_neighborhood',\n",
       " 'Gender',\n",
       " 'Time_living_in_barri',\n",
       " 'Barri_evolution',\n",
       " 'Barri_satisfaction_of_living',\n",
       " 'Barri_comparison',\n",
       " 'GREEN AREAS',\n",
       " 'PUBLIC LIGHTING',\n",
       " 'ASPHALT AND STREET CONSERVATION',\n",
       " 'CIRCULATION',\n",
       " 'BUS',\n",
       " 'CITIZEN SECURITY IN THE CITY AS A WHOLE',\n",
       " 'CITIZEN SECURITY IN THE NEIGHBORHOOD',\n",
       " 'MUNICIPAL MARKETS',\n",
       " 'Barri_transport',\n",
       " 'Owns_a_car',\n",
       " 'House_size',\n",
       " 'Monthly_family_income',\n",
       " 'Social_class',\n",
       " 'Living_alone',\n",
       " 'BCN_evolution',\n",
       " 'BCN_satisfaction_of_living',\n",
       " 'BCN_transport',\n",
       " 'BCN_over_barri_evolution',\n",
       " 'BCN_over_barri_satisfaction_of_living',\n",
       " 'BCN_over_barri_transport']"
      ]
     },
     "execution_count": 24,
     "metadata": {},
     "output_type": "execute_result"
    }
   ],
   "source": [
    "data.columns.tolist()"
   ]
  },
  {
   "cell_type": "code",
   "execution_count": 25,
   "metadata": {},
   "outputs": [],
   "source": [
    "x_var = data.columns.tolist()"
   ]
  },
  {
   "cell_type": "code",
   "execution_count": 26,
   "metadata": {},
   "outputs": [],
   "source": [
    "for i in ['ANY', 'Would_not_stay_in_the_neighborhood',\n",
    "          'BCN_evolution', 'BCN_satisfaction_of_living', 'BCN_transport']:\n",
    "    x_var.remove(i)"
   ]
  },
  {
   "cell_type": "code",
   "execution_count": 27,
   "metadata": {},
   "outputs": [],
   "source": [
    "x = data[x_var]"
   ]
  },
  {
   "cell_type": "code",
   "execution_count": 28,
   "metadata": {},
   "outputs": [],
   "source": [
    "y = data['Would_not_stay_in_the_neighborhood']"
   ]
  },
  {
   "cell_type": "code",
   "execution_count": null,
   "metadata": {},
   "outputs": [],
   "source": []
  },
  {
   "cell_type": "code",
   "execution_count": 29,
   "metadata": {},
   "outputs": [],
   "source": [
    "x = pd.get_dummies(x)"
   ]
  },
  {
   "cell_type": "code",
   "execution_count": 30,
   "metadata": {
    "scrolled": true
   },
   "outputs": [
    {
     "data": {
      "text/plain": [
       "['Gender',\n",
       " 'Owns_a_car',\n",
       " 'Living_alone',\n",
       " 'BCN_over_barri_evolution',\n",
       " 'BCN_over_barri_satisfaction_of_living',\n",
       " 'BCN_over_barri_transport',\n",
       " 'NOM_DISTRICTE_CIUTAT VELLA',\n",
       " 'NOM_DISTRICTE_EIXAMPLE',\n",
       " 'NOM_DISTRICTE_GRÀCIA',\n",
       " 'NOM_DISTRICTE_HORTA - GUINARDÓ',\n",
       " 'NOM_DISTRICTE_LES CORTS',\n",
       " 'NOM_DISTRICTE_NOU BARRIS',\n",
       " 'NOM_DISTRICTE_SANT ANDREU',\n",
       " 'NOM_DISTRICTE_SANT MARTÍ',\n",
       " 'NOM_DISTRICTE_SANTS - MONTJUÏC',\n",
       " 'NOM_DISTRICTE_SARRIÀ - SANT GERVASI',\n",
       " 'Time_living_in_barri_I HAVE ALWAYS LIVED IN THE CITY',\n",
       " 'Time_living_in_barri_LESS THAN 10 YEARS',\n",
       " 'Time_living_in_barri_MORE THAN 10 YEARS',\n",
       " \"Barri_evolution_I DON'T KNOW / NO ANSWER\",\n",
       " 'Barri_evolution_IT HAS IMPROVED',\n",
       " 'Barri_evolution_IT IS THE SAME',\n",
       " 'Barri_evolution_IT IS WORSE',\n",
       " \"Barri_satisfaction_of_living_I DON'T KNOW / NO ANSWER\",\n",
       " 'Barri_satisfaction_of_living_NOT SATISFIED',\n",
       " 'Barri_satisfaction_of_living_SATISFIED',\n",
       " \"Barri_comparison_I DON'T KNOW / NO ANSWER\",\n",
       " 'Barri_comparison_NEITHER THE BEST, NOR THE WORST',\n",
       " 'Barri_comparison_ONE OF THE BEST',\n",
       " 'Barri_comparison_ONE OF THE WORST',\n",
       " 'GREEN AREAS_BAD',\n",
       " 'GREEN AREAS_GOOD',\n",
       " \"GREEN AREAS_I DON'T KNOW / NO ANSWER\",\n",
       " 'PUBLIC LIGHTING_BAD',\n",
       " 'PUBLIC LIGHTING_GOOD',\n",
       " \"PUBLIC LIGHTING_I DON'T KNOW / NO ANSWER\",\n",
       " 'ASPHALT AND STREET CONSERVATION_BAD',\n",
       " 'ASPHALT AND STREET CONSERVATION_GOOD',\n",
       " \"ASPHALT AND STREET CONSERVATION_I DON'T KNOW / NO ANSWER\",\n",
       " 'CIRCULATION_BAD',\n",
       " 'CIRCULATION_GOOD',\n",
       " \"CIRCULATION_I DON'T KNOW / NO ANSWER\",\n",
       " 'BUS_BAD',\n",
       " 'BUS_GOOD',\n",
       " \"BUS_I DON'T KNOW / NO ANSWER\",\n",
       " 'CITIZEN SECURITY IN THE CITY AS A WHOLE_BAD',\n",
       " 'CITIZEN SECURITY IN THE CITY AS A WHOLE_GOOD',\n",
       " \"CITIZEN SECURITY IN THE CITY AS A WHOLE_I DON'T KNOW / NO ANSWER\",\n",
       " 'CITIZEN SECURITY IN THE NEIGHBORHOOD_BAD',\n",
       " 'CITIZEN SECURITY IN THE NEIGHBORHOOD_GOOD',\n",
       " \"CITIZEN SECURITY IN THE NEIGHBORHOOD_I DON'T KNOW / NO ANSWER\",\n",
       " 'MUNICIPAL MARKETS_BAD',\n",
       " 'MUNICIPAL MARKETS_GOOD',\n",
       " \"MUNICIPAL MARKETS_I DON'T KNOW / NO ANSWER\",\n",
       " 'Barri_transport_BAD',\n",
       " 'Barri_transport_GOOD',\n",
       " \"Barri_transport_I DON'T KNOW / NO ANSWER\",\n",
       " 'Barri_transport_NORMAL',\n",
       " 'House_size_101-150 M2',\n",
       " 'House_size_51-100 M2',\n",
       " 'House_size_< 50 M2',\n",
       " 'House_size_> 150 M2',\n",
       " 'Monthly_family_income_1001-2000 EUROS',\n",
       " 'Monthly_family_income_2001-3000 EUROS',\n",
       " 'Monthly_family_income_< 1000 EUROS',\n",
       " 'Monthly_family_income_> 3000 EUROS',\n",
       " 'Social_class_HIGH',\n",
       " 'Social_class_LOW',\n",
       " 'Social_class_MIDDLE-HIGH',\n",
       " 'Social_class_MIDDLE-LOW',\n",
       " 'Social_class_MIDDLE-MIDDLE']"
      ]
     },
     "execution_count": 30,
     "metadata": {},
     "output_type": "execute_result"
    }
   ],
   "source": [
    "x.columns.tolist()"
   ]
  },
  {
   "cell_type": "code",
   "execution_count": 31,
   "metadata": {},
   "outputs": [],
   "source": [
    "for i in x.columns.tolist():\n",
    "    if i[-5:] == \"_GOOD\":\n",
    "        del x[i]"
   ]
  },
  {
   "cell_type": "code",
   "execution_count": 32,
   "metadata": {},
   "outputs": [],
   "source": [
    "for i in [#'Gender', 'Owns_a_car', 'Living_alone',\n",
    "    #'BCN_over_barri_evolution', 'BCN_over_barri_satisfaction_of_living', 'BCN_over_barri_transport',\n",
    "    \n",
    "    #'NOM_DISTRICTE_CIUTAT VELLA', 'NOM_DISTRICTE_EIXAMPLE', 'NOM_DISTRICTE_GRÀCIA', 'NOM_DISTRICTE_HORTA - GUINARDÓ',\n",
    "    #'NOM_DISTRICTE_LES CORTS', 'NOM_DISTRICTE_NOU BARRIS', 'NOM_DISTRICTE_SANT ANDREU', 'NOM_DISTRICTE_SANT MARTÍ',\n",
    "    #'NOM_DISTRICTE_SANTS - MONTJUÏC',\n",
    "    'NOM_DISTRICTE_SARRIÀ - SANT GERVASI',\n",
    "    \n",
    "    #'Time_living_in_barri_I HAVE ALWAYS LIVED IN THE CITY',\n",
    "    'Time_living_in_barri_LESS THAN 10 YEARS',\n",
    "    #'Time_living_in_barri_MORE THAN 10 YEARS',\n",
    "    \n",
    "    #\"Barri_evolution_I DON'T KNOW / NO ANSWER\",\n",
    "    'Barri_evolution_IT HAS IMPROVED',\n",
    "    #'Barri_evolution_IT IS THE SAME',\n",
    "    #'Barri_evolution_IT IS WORSE',\n",
    "    \n",
    "    #\"Barri_satisfaction_of_living_I DON'T KNOW / NO ANSWER\",\n",
    "    #'Barri_satisfaction_of_living_NOT SATISFIED',\n",
    "    'Barri_satisfaction_of_living_SATISFIED',\n",
    "    \n",
    "    #\"Barri_comparison_I DON'T KNOW / NO ANSWER\",\n",
    "    #'Barri_comparison_NEITHER THE BEST, NOR THE WORST',\n",
    "    'Barri_comparison_ONE OF THE BEST',\n",
    "    #'Barri_comparison_ONE OF THE WORST',\n",
    "    \n",
    "    #'House_size_101-150 M2', 'House_size_51-100 M2',\n",
    "    'House_size_< 50 M2',\n",
    "    #'House_size_> 150 M2',\n",
    "    \n",
    "    #'Monthly_family_income_1001-2000 EUROS', 'Monthly_family_income_2001-3000 EUROS',\n",
    "    'Monthly_family_income_< 1000 EUROS',\n",
    "    #'Monthly_family_income_> 3000 EUROS',\n",
    "    \n",
    "    #'Social_class_HIGH','Social_class_MIDDLE-HIGH','Social_class_MIDDLE-LOW','Social_class_MIDDLE-MIDDLE',\n",
    "    'Social_class_LOW']:\n",
    "    del x[i]"
   ]
  },
  {
   "cell_type": "code",
   "execution_count": 33,
   "metadata": {},
   "outputs": [],
   "source": [
    "x = sm.add_constant(x)"
   ]
  },
  {
   "cell_type": "code",
   "execution_count": 34,
   "metadata": {},
   "outputs": [
    {
     "name": "stdout",
     "output_type": "stream",
     "text": [
      "Optimization terminated successfully.\n",
      "         Current function value: 0.289033\n",
      "         Iterations 7\n",
      "                                                 Results: Logit\n",
      "=================================================================================================================\n",
      "Model:                         Logit                                       Pseudo R-squared:          0.174      \n",
      "Dependent Variable:            Would_not_stay_in_the_neighborhood          AIC:                       6419.5836  \n",
      "Date:                          2021-04-25 17:20                            BIC:                       6820.9677  \n",
      "No. Observations:              10915                                       Log-Likelihood:            -3154.8    \n",
      "Df Model:                      54                                          LL-Null:                   -3818.3    \n",
      "Df Residuals:                  10860                                       LLR p-value:               3.9932e-242\n",
      "Converged:                     1.0000                                      Scale:                     1.0000     \n",
      "No. Iterations:                7.0000                                                                            \n",
      "-----------------------------------------------------------------------------------------------------------------\n",
      "                                                                  Coef.  Std.Err.    z     P>|z|   [0.025  0.975]\n",
      "-----------------------------------------------------------------------------------------------------------------\n",
      "const                                                            -2.9836   0.2689 -11.0953 0.0000 -3.5106 -2.4565\n",
      "Gender                                                            0.0682   0.0721   0.9458 0.3443 -0.0731  0.2095\n",
      "Owns_a_car                                                        0.1810   0.0796   2.2732 0.0230  0.0249  0.3372\n",
      "Living_alone                                                      0.1648   0.0825   1.9969 0.0458  0.0030  0.3265\n",
      "BCN_over_barri_evolution                                         -0.1673   0.1054  -1.5873 0.1124 -0.3738  0.0393\n",
      "BCN_over_barri_satisfaction_of_living                             0.2425   0.1479   1.6394 0.1011 -0.0474  0.5324\n",
      "BCN_over_barri_transport                                          0.2973   0.1323   2.2466 0.0247  0.0379  0.5567\n",
      "NOM_DISTRICTE_CIUTAT VELLA                                        0.9083   0.2131   4.2620 0.0000  0.4906  1.3260\n",
      "NOM_DISTRICTE_EIXAMPLE                                            0.3268   0.2027   1.6124 0.1069 -0.0705  0.7242\n",
      "NOM_DISTRICTE_GRÀCIA                                              0.5452   0.2200   2.4784 0.0132  0.1140  0.9763\n",
      "NOM_DISTRICTE_HORTA - GUINARDÓ                                    0.7044   0.2052   3.4321 0.0006  0.3021  1.1067\n",
      "NOM_DISTRICTE_LES CORTS                                          -0.1784   0.2648  -0.6739 0.5004 -0.6973  0.3405\n",
      "NOM_DISTRICTE_NOU BARRIS                                          0.6894   0.2071   3.3291 0.0009  0.2835  1.0952\n",
      "NOM_DISTRICTE_SANT ANDREU                                         0.6790   0.2127   3.1923 0.0014  0.2621  1.0958\n",
      "NOM_DISTRICTE_SANT MARTÍ                                          0.3707   0.2086   1.7766 0.0756 -0.0383  0.7796\n",
      "NOM_DISTRICTE_SANTS - MONTJUÏC                                    0.6103   0.2073   2.9442 0.0032  0.2040  1.0165\n",
      "Time_living_in_barri_I HAVE ALWAYS LIVED IN THE CITY             -1.2916   0.1487  -8.6853 0.0000 -1.5830 -1.0001\n",
      "Time_living_in_barri_MORE THAN 10 YEARS                          -0.9489   0.1184  -8.0169 0.0000 -1.1809 -0.7169\n",
      "Barri_evolution_I DON'T KNOW / NO ANSWER                         -0.1487   0.3314  -0.4487 0.6537 -0.7982  0.5008\n",
      "Barri_evolution_IT IS THE SAME                                    0.0367   0.0860   0.4270 0.6694 -0.1318  0.2052\n",
      "Barri_evolution_IT IS WORSE                                       0.2599   0.0958   2.7141 0.0066  0.0722  0.4476\n",
      "Barri_satisfaction_of_living_I DON'T KNOW / NO ANSWER             1.4537   0.4263   3.4099 0.0006  0.6181  2.2893\n",
      "Barri_satisfaction_of_living_NOT SATISFIED                        0.8580   0.1306   6.5689 0.0000  0.6020  1.1140\n",
      "Barri_comparison_I DON'T KNOW / NO ANSWER                         1.1764   0.2333   5.0419 0.0000  0.7191  1.6336\n",
      "Barri_comparison_NEITHER THE BEST, NOR THE WORST                  1.3486   0.0811  16.6255 0.0000  1.1897  1.5076\n",
      "Barri_comparison_ONE OF THE WORST                                 2.3095   0.1360  16.9828 0.0000  2.0429  2.5760\n",
      "GREEN AREAS_BAD                                                   0.1897   0.0895   2.1205 0.0340  0.0144  0.3651\n",
      "GREEN AREAS_I DON'T KNOW / NO ANSWER                             -0.1693   0.1882  -0.8995 0.3684 -0.5381  0.1996\n",
      "PUBLIC LIGHTING_BAD                                               0.2145   0.1162   1.8463 0.0648 -0.0132  0.4423\n",
      "PUBLIC LIGHTING_I DON'T KNOW / NO ANSWER                          0.2826   0.2877   0.9822 0.3260 -0.2813  0.8464\n",
      "ASPHALT AND STREET CONSERVATION_BAD                              -0.0099   0.0875  -0.1126 0.9103 -0.1814  0.1617\n",
      "ASPHALT AND STREET CONSERVATION_I DON'T KNOW / NO ANSWER         -0.4960   0.3916  -1.2665 0.2053 -1.2635  0.2716\n",
      "CIRCULATION_BAD                                                  -0.0038   0.0750  -0.0500 0.9601 -0.1508  0.1433\n",
      "CIRCULATION_I DON'T KNOW / NO ANSWER                             -0.0512   0.1747  -0.2930 0.7696 -0.3935  0.2912\n",
      "BUS_BAD                                                           0.1347   0.1144   1.1775 0.2390 -0.0895  0.3589\n",
      "BUS_I DON'T KNOW / NO ANSWER                                     -0.3917   0.2021  -1.9379 0.0526 -0.7878  0.0045\n",
      "CITIZEN SECURITY IN THE CITY AS A WHOLE_BAD                      -0.2264   0.0933  -2.4269 0.0152 -0.4092 -0.0436\n",
      "CITIZEN SECURITY IN THE CITY AS A WHOLE_I DON'T KNOW / NO ANSWER  0.1328   0.1833   0.7246 0.4687 -0.2264  0.4920\n",
      "CITIZEN SECURITY IN THE NEIGHBORHOOD_BAD                          0.1612   0.0954   1.6899 0.0910 -0.0258  0.3482\n",
      "CITIZEN SECURITY IN THE NEIGHBORHOOD_I DON'T KNOW / NO ANSWER     0.5508   0.3530   1.5604 0.1187 -0.1410  1.2426\n",
      "MUNICIPAL MARKETS_BAD                                            -0.0654   0.1287  -0.5079 0.6115 -0.3176  0.1868\n",
      "MUNICIPAL MARKETS_I DON'T KNOW / NO ANSWER                       -0.1720   0.1311  -1.3127 0.1893 -0.4289  0.0848\n",
      "Barri_transport_BAD                                               0.0382   0.1338   0.2853 0.7754 -0.2241  0.3005\n",
      "Barri_transport_I DON'T KNOW / NO ANSWER                          0.0153   0.4417   0.0345 0.9725 -0.8504  0.8809\n",
      "Barri_transport_NORMAL                                            0.0720   0.1219   0.5905 0.5549 -0.1670  0.3109\n",
      "House_size_101-150 M2                                            -0.1867   0.1672  -1.1170 0.2640 -0.5144  0.1409\n",
      "House_size_51-100 M2                                             -0.0226   0.1173  -0.1923 0.8475 -0.2525  0.2074\n",
      "House_size_> 150 M2                                               0.0003   0.2406   0.0012 0.9990 -0.4712  0.4718\n",
      "Monthly_family_income_1001-2000 EUROS                             0.0746   0.0833   0.8953 0.3706 -0.0887  0.2378\n",
      "Monthly_family_income_2001-3000 EUROS                             0.2973   0.1235   2.4075 0.0161  0.0553  0.5393\n",
      "Monthly_family_income_> 3000 EUROS                                0.3621   0.1699   2.1315 0.0331  0.0291  0.6950\n",
      "Social_class_HIGH                                                -0.2837   0.7689  -0.3689 0.7122 -1.7906  1.2233\n",
      "Social_class_MIDDLE-HIGH                                          0.0383   0.2122   0.1806 0.8567 -0.3776  0.4543\n",
      "Social_class_MIDDLE-LOW                                          -0.0412   0.1084  -0.3804 0.7036 -0.2538  0.1713\n",
      "Social_class_MIDDLE-MIDDLE                                       -0.1612   0.1111  -1.4508 0.1468 -0.3790  0.0566\n",
      "=================================================================================================================\n",
      "\n"
     ]
    }
   ],
   "source": [
    "logit_model = sm.Logit(y,x)\n",
    "result=logit_model.fit()\n",
    "print(result.summary2())"
   ]
  },
  {
   "cell_type": "code",
   "execution_count": 35,
   "metadata": {},
   "outputs": [
    {
     "data": {
      "text/plain": [
       "House_size_> 150 M2                                                 9.990261e-01\n",
       "Barri_transport_I DON'T KNOW / NO ANSWER                            9.724513e-01\n",
       "CIRCULATION_BAD                                                     9.600979e-01\n",
       "ASPHALT AND STREET CONSERVATION_BAD                                 9.103429e-01\n",
       "Social_class_MIDDLE-HIGH                                            8.566636e-01\n",
       "House_size_51-100 M2                                                8.475164e-01\n",
       "Barri_transport_BAD                                                 7.753772e-01\n",
       "CIRCULATION_I DON'T KNOW / NO ANSWER                                7.695522e-01\n",
       "Social_class_HIGH                                                   7.121916e-01\n",
       "Social_class_MIDDLE-LOW                                             7.036176e-01\n",
       "Barri_evolution_IT IS THE SAME                                      6.694018e-01\n",
       "Barri_evolution_I DON'T KNOW / NO ANSWER                            6.536665e-01\n",
       "MUNICIPAL MARKETS_BAD                                               6.115325e-01\n",
       "Barri_transport_NORMAL                                              5.548551e-01\n",
       "NOM_DISTRICTE_LES CORTS                                             5.003926e-01\n",
       "CITIZEN SECURITY IN THE CITY AS A WHOLE_I DON'T KNOW / NO ANSWER    4.686933e-01\n",
       "Monthly_family_income_1001-2000 EUROS                               3.706416e-01\n",
       "GREEN AREAS_I DON'T KNOW / NO ANSWER                                3.683866e-01\n",
       "Gender                                                              3.442716e-01\n",
       "PUBLIC LIGHTING_I DON'T KNOW / NO ANSWER                            3.259893e-01\n",
       "House_size_101-150 M2                                               2.639894e-01\n",
       "BUS_BAD                                                             2.390081e-01\n",
       "ASPHALT AND STREET CONSERVATION_I DON'T KNOW / NO ANSWER            2.053408e-01\n",
       "MUNICIPAL MARKETS_I DON'T KNOW / NO ANSWER                          1.892929e-01\n",
       "Social_class_MIDDLE-MIDDLE                                          1.468321e-01\n",
       "CITIZEN SECURITY IN THE NEIGHBORHOOD_I DON'T KNOW / NO ANSWER       1.186627e-01\n",
       "BCN_over_barri_evolution                                            1.124437e-01\n",
       "NOM_DISTRICTE_EIXAMPLE                                              1.068851e-01\n",
       "BCN_over_barri_satisfaction_of_living                               1.011269e-01\n",
       "CITIZEN SECURITY IN THE NEIGHBORHOOD_BAD                            9.104080e-02\n",
       "NOM_DISTRICTE_SANT MARTÍ                                            7.563293e-02\n",
       "PUBLIC LIGHTING_BAD                                                 6.484619e-02\n",
       "BUS_I DON'T KNOW / NO ANSWER                                        5.264049e-02\n",
       "Living_alone                                                        4.583585e-02\n",
       "GREEN AREAS_BAD                                                     3.396168e-02\n",
       "Monthly_family_income_> 3000 EUROS                                  3.305136e-02\n",
       "BCN_over_barri_transport                                            2.466742e-02\n",
       "Owns_a_car                                                          2.301610e-02\n",
       "Monthly_family_income_2001-3000 EUROS                               1.606339e-02\n",
       "CITIZEN SECURITY IN THE CITY AS A WHOLE_BAD                         1.522836e-02\n",
       "NOM_DISTRICTE_GRÀCIA                                                1.319602e-02\n",
       "Barri_evolution_IT IS WORSE                                         6.646428e-03\n",
       "NOM_DISTRICTE_SANTS - MONTJUÏC                                      3.238162e-03\n",
       "NOM_DISTRICTE_SANT ANDREU                                           1.411450e-03\n",
       "NOM_DISTRICTE_NOU BARRIS                                            8.712909e-04\n",
       "Barri_satisfaction_of_living_I DON'T KNOW / NO ANSWER               6.498806e-04\n",
       "NOM_DISTRICTE_HORTA - GUINARDÓ                                      5.989521e-04\n",
       "NOM_DISTRICTE_CIUTAT VELLA                                          2.026163e-05\n",
       "Barri_comparison_I DON'T KNOW / NO ANSWER                           4.609877e-07\n",
       "Barri_satisfaction_of_living_NOT SATISFIED                          5.070027e-11\n",
       "Time_living_in_barri_MORE THAN 10 YEARS                             1.084642e-15\n",
       "Time_living_in_barri_I HAVE ALWAYS LIVED IN THE CITY                3.777192e-18\n",
       "const                                                               1.321792e-28\n",
       "Barri_comparison_NEITHER THE BEST, NOR THE WORST                    4.557366e-62\n",
       "Barri_comparison_ONE OF THE WORST                                   1.101795e-64\n",
       "dtype: float64"
      ]
     },
     "execution_count": 35,
     "metadata": {},
     "output_type": "execute_result"
    }
   ],
   "source": [
    "result.pvalues.sort_values(ascending=False)"
   ]
  },
  {
   "cell_type": "code",
   "execution_count": 36,
   "metadata": {},
   "outputs": [
    {
     "data": {
      "image/png": "[encoded data removed]",
      "text/plain": [
       "<Figure size 432x288 with 1 Axes>"
      ]
     },
     "metadata": {
      "needs_background": "light"
     },
     "output_type": "display_data"
    }
   ],
   "source": [
    "logit_roc_auc = roc_auc_score(y, result.predict(x))\n",
    "fpr, tpr, thresholds = roc_curve(y, result.predict(x))\n",
    "plt.figure()\n",
    "plt.plot(fpr, tpr, label='Logistic Regression (area = %0.2f)' % logit_roc_auc)\n",
    "plt.plot([0, 1], [0, 1],'r--')\n",
    "plt.xlim([0.0, 1.0])\n",
    "plt.ylim([0.0, 1.05])\n",
    "plt.xlabel('False Positive Rate')\n",
    "plt.ylabel('True Positive Rate')\n",
    "plt.title('Receiver operating characteristic')\n",
    "plt.legend(loc=\"lower right\")\n",
    "#plt.savefig('Log_ROC')\n",
    "plt.show()"
   ]
  },
  {
   "cell_type": "code",
   "execution_count": null,
   "metadata": {},
   "outputs": [],
   "source": []
  },
  {
   "cell_type": "code",
   "execution_count": null,
   "metadata": {},
   "outputs": [],
   "source": [
    "# NIE POPRAWIŁAM PONIŻSZEGO FEATURE SELECTION"
   ]
  },
  {
   "cell_type": "code",
   "execution_count": null,
   "metadata": {},
   "outputs": [],
   "source": [
    "for i in ['GARBAGE COLLECTION', 'BCN_over_barri_evolution', 'Barri_transport', 'Barri_evolution', 'Owns_a_car']:\n",
    "    x_var.remove(i)"
   ]
  },
  {
   "cell_type": "code",
   "execution_count": null,
   "metadata": {},
   "outputs": [],
   "source": [
    "x = data[x_var]\n",
    "x = pd.get_dummies(x, drop_first = True)"
   ]
  },
  {
   "cell_type": "code",
   "execution_count": null,
   "metadata": {},
   "outputs": [],
   "source": [
    "logit_model = sm.Logit(y,x)\n",
    "result=logit_model.fit()\n",
    "print(result.summary2())"
   ]
  },
  {
   "cell_type": "code",
   "execution_count": null,
   "metadata": {},
   "outputs": [],
   "source": [
    "result.pvalues.sort_values(ascending=False)"
   ]
  },
  {
   "cell_type": "code",
   "execution_count": null,
   "metadata": {},
   "outputs": [],
   "source": [
    "logit_roc_auc = roc_auc_score(y, result.predict(x))\n",
    "fpr, tpr, thresholds = roc_curve(y, result.predict(x))\n",
    "plt.figure()\n",
    "plt.plot(fpr, tpr, label='Logistic Regression (area = %0.2f)' % logit_roc_auc)\n",
    "plt.plot([0, 1], [0, 1],'r--')\n",
    "plt.xlim([0.0, 1.0])\n",
    "plt.ylim([0.0, 1.05])\n",
    "plt.xlabel('False Positive Rate')\n",
    "plt.ylabel('True Positive Rate')\n",
    "plt.title('Receiver operating characteristic')\n",
    "plt.legend(loc=\"lower right\")\n",
    "#plt.savefig('Log_ROC')\n",
    "plt.show()"
   ]
  },
  {
   "cell_type": "code",
   "execution_count": null,
   "metadata": {},
   "outputs": [],
   "source": []
  },
  {
   "cell_type": "code",
   "execution_count": null,
   "metadata": {},
   "outputs": [],
   "source": [
    "for i in ['FACADES AND BUILDING CONSERVATION', 'MUNICIPAL POLICE', 'CIRCULATION', 'Gender']:\n",
    "    x_var.remove(i)"
   ]
  },
  {
   "cell_type": "code",
   "execution_count": null,
   "metadata": {},
   "outputs": [],
   "source": [
    "x = data[x_var]\n",
    "x = pd.get_dummies(x, drop_first = True)"
   ]
  },
  {
   "cell_type": "code",
   "execution_count": null,
   "metadata": {},
   "outputs": [],
   "source": [
    "logit_model = sm.Logit(y,x)\n",
    "result=logit_model.fit()\n",
    "print(result.summary2())"
   ]
  },
  {
   "cell_type": "code",
   "execution_count": null,
   "metadata": {},
   "outputs": [],
   "source": [
    "result.pvalues.sort_values(ascending=False)"
   ]
  },
  {
   "cell_type": "code",
   "execution_count": null,
   "metadata": {},
   "outputs": [],
   "source": [
    "logit_roc_auc = roc_auc_score(y, result.predict(x))\n",
    "fpr, tpr, thresholds = roc_curve(y, result.predict(x))\n",
    "plt.figure()\n",
    "plt.plot(fpr, tpr, label='Logistic Regression (area = %0.2f)' % logit_roc_auc)\n",
    "plt.plot([0, 1], [0, 1],'r--')\n",
    "plt.xlim([0.0, 1.0])\n",
    "plt.ylim([0.0, 1.05])\n",
    "plt.xlabel('False Positive Rate')\n",
    "plt.ylabel('True Positive Rate')\n",
    "plt.title('Receiver operating characteristic')\n",
    "plt.legend(loc=\"lower right\")\n",
    "#plt.savefig('Log_ROC')\n",
    "plt.show()"
   ]
  },
  {
   "cell_type": "code",
   "execution_count": null,
   "metadata": {},
   "outputs": [],
   "source": []
  },
  {
   "cell_type": "code",
   "execution_count": null,
   "metadata": {},
   "outputs": [],
   "source": [
    "for i in ['BCN_over_barri_future', 'House_size', 'MUNICIPAL MARKETS', 'STREETS CLEANING']:\n",
    "    x_var.remove(i)"
   ]
  },
  {
   "cell_type": "code",
   "execution_count": null,
   "metadata": {},
   "outputs": [],
   "source": [
    "x = data[x_var]\n",
    "x = pd.get_dummies(x, drop_first = True)"
   ]
  },
  {
   "cell_type": "code",
   "execution_count": null,
   "metadata": {},
   "outputs": [],
   "source": [
    "logit_model = sm.Logit(y,x)\n",
    "result=logit_model.fit()\n",
    "print(result.summary2())"
   ]
  },
  {
   "cell_type": "code",
   "execution_count": null,
   "metadata": {},
   "outputs": [],
   "source": [
    "result.pvalues.sort_values(ascending=False)"
   ]
  },
  {
   "cell_type": "code",
   "execution_count": null,
   "metadata": {},
   "outputs": [],
   "source": [
    "logit_roc_auc = roc_auc_score(y, result.predict(x))\n",
    "fpr, tpr, thresholds = roc_curve(y, result.predict(x))\n",
    "plt.figure()\n",
    "plt.plot(fpr, tpr, label='Logistic Regression (area = %0.2f)' % logit_roc_auc)\n",
    "plt.plot([0, 1], [0, 1],'r--')\n",
    "plt.xlim([0.0, 1.0])\n",
    "plt.ylim([0.0, 1.05])\n",
    "plt.xlabel('False Positive Rate')\n",
    "plt.ylabel('True Positive Rate')\n",
    "plt.title('Receiver operating characteristic')\n",
    "plt.legend(loc=\"lower right\")\n",
    "#plt.savefig('Log_ROC')\n",
    "plt.show()"
   ]
  },
  {
   "cell_type": "code",
   "execution_count": null,
   "metadata": {},
   "outputs": [],
   "source": []
  },
  {
   "cell_type": "code",
   "execution_count": null,
   "metadata": {},
   "outputs": [],
   "source": [
    "for i in ['PUBLIC LIGHTING', 'ASPHALT AND STREET CONSERVATION', 'Monthly_family_income', 'Social_class']:\n",
    "    x_var.remove(i)"
   ]
  },
  {
   "cell_type": "code",
   "execution_count": null,
   "metadata": {},
   "outputs": [],
   "source": [
    "x = data[x_var]\n",
    "x = pd.get_dummies(x, drop_first = True)"
   ]
  },
  {
   "cell_type": "code",
   "execution_count": null,
   "metadata": {},
   "outputs": [],
   "source": [
    "logit_model = sm.Logit(y,x)\n",
    "result=logit_model.fit()\n",
    "print(result.summary2())"
   ]
  },
  {
   "cell_type": "code",
   "execution_count": null,
   "metadata": {},
   "outputs": [],
   "source": [
    "result.pvalues.sort_values(ascending=False)"
   ]
  },
  {
   "cell_type": "code",
   "execution_count": null,
   "metadata": {},
   "outputs": [],
   "source": [
    "logit_roc_auc = roc_auc_score(y, result.predict(x))\n",
    "fpr, tpr, thresholds = roc_curve(y, result.predict(x))\n",
    "plt.figure()\n",
    "plt.plot(fpr, tpr, label='Logistic Regression (area = %0.2f)' % logit_roc_auc)\n",
    "plt.plot([0, 1], [0, 1],'r--')\n",
    "plt.xlim([0.0, 1.0])\n",
    "plt.ylim([0.0, 1.05])\n",
    "plt.xlabel('False Positive Rate')\n",
    "plt.ylabel('True Positive Rate')\n",
    "plt.title('Receiver operating characteristic')\n",
    "plt.legend(loc=\"lower right\")\n",
    "#plt.savefig('Log_ROC')\n",
    "plt.show()"
   ]
  },
  {
   "cell_type": "code",
   "execution_count": null,
   "metadata": {},
   "outputs": [],
   "source": []
  },
  {
   "cell_type": "code",
   "execution_count": null,
   "metadata": {},
   "outputs": [],
   "source": [
    "for i in ['Living_alone']:\n",
    "    x_var.remove(i)"
   ]
  },
  {
   "cell_type": "code",
   "execution_count": null,
   "metadata": {},
   "outputs": [],
   "source": [
    "x = data[x_var]\n",
    "x = pd.get_dummies(x, drop_first = True)"
   ]
  },
  {
   "cell_type": "code",
   "execution_count": null,
   "metadata": {},
   "outputs": [],
   "source": [
    "logit_model = sm.Logit(y,x)\n",
    "result=logit_model.fit()\n",
    "print(result.summary2())"
   ]
  },
  {
   "cell_type": "code",
   "execution_count": null,
   "metadata": {},
   "outputs": [],
   "source": [
    "result.pvalues.sort_values(ascending=False)"
   ]
  },
  {
   "cell_type": "code",
   "execution_count": null,
   "metadata": {},
   "outputs": [],
   "source": []
  },
  {
   "cell_type": "code",
   "execution_count": null,
   "metadata": {},
   "outputs": [],
   "source": [
    "print(result.get_margeff().summary())"
   ]
  },
  {
   "cell_type": "code",
   "execution_count": null,
   "metadata": {},
   "outputs": [],
   "source": []
  },
  {
   "cell_type": "code",
   "execution_count": null,
   "metadata": {},
   "outputs": [],
   "source": [
    "result.pred_table()"
   ]
  },
  {
   "cell_type": "code",
   "execution_count": null,
   "metadata": {},
   "outputs": [],
   "source": []
  },
  {
   "cell_type": "code",
   "execution_count": null,
   "metadata": {},
   "outputs": [],
   "source": [
    "logit_roc_auc = roc_auc_score(y, result.predict(x))\n",
    "fpr, tpr, thresholds = roc_curve(y, result.predict(x))\n",
    "plt.figure()\n",
    "plt.plot(fpr, tpr, label='Logistic Regression (area = %0.2f)' % logit_roc_auc)\n",
    "plt.plot([0, 1], [0, 1],'r--')\n",
    "plt.xlim([0.0, 1.0])\n",
    "plt.ylim([0.0, 1.05])\n",
    "plt.xlabel('False Positive Rate')\n",
    "plt.ylabel('True Positive Rate')\n",
    "plt.title('Receiver operating characteristic')\n",
    "plt.legend(loc=\"lower right\")\n",
    "#plt.savefig('Log_ROC')\n",
    "plt.show()"
   ]
  },
  {
   "cell_type": "code",
   "execution_count": null,
   "metadata": {},
   "outputs": [],
   "source": []
  }
 ],
 "metadata": {
  "kernelspec": {
   "display_name": "Python 3",
   "language": "python",
   "name": "python3"
  },
  "language_info": {
   "codemirror_mode": {
    "name": "ipython",
    "version": 3
   },
   "file_extension": ".py",
   "mimetype": "text/x-python",
   "name": "python",
   "nbconvert_exporter": "python",
   "pygments_lexer": "ipython3",
   "version": "3.7.6"
  }
 },
 "nbformat": 4,
 "nbformat_minor": 4
}
