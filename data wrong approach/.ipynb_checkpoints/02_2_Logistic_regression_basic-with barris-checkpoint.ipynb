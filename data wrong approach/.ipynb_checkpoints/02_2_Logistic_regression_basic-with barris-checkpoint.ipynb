{
 "cells": [
  {
   "cell_type": "markdown",
   "metadata": {},
   "source": [
    "Aleksandra Bednarczuk"
   ]
  },
  {
   "cell_type": "markdown",
   "metadata": {},
   "source": [
    "# Predictors of elderly citizens willingness to stay in the neighbourhood\n",
    "# Logistic regression"
   ]
  },
  {
   "cell_type": "code",
   "execution_count": 1,
   "metadata": {},
   "outputs": [],
   "source": [
    "import pandas as pd\n",
    "import numpy as np\n",
    "\n",
    "import matplotlib.pyplot as plt"
   ]
  },
  {
   "cell_type": "code",
   "execution_count": 2,
   "metadata": {},
   "outputs": [],
   "source": [
    "from imblearn.over_sampling import SMOTE\n",
    "\n",
    "import statsmodels.api as sm\n",
    "import statsmodels.formula.api as smf\n",
    "\n",
    "from sklearn.model_selection import train_test_split\n",
    "from sklearn.feature_selection import RFE\n",
    "from sklearn.linear_model import LogisticRegression\n",
    "\n",
    "from sklearn.metrics import accuracy_score\n",
    "from sklearn.metrics import classification_report\n",
    "from sklearn.metrics import confusion_matrix\n",
    "from sklearn.metrics import roc_auc_score\n",
    "from sklearn.metrics import roc_curve\n",
    "from sklearn.metrics import r2_score\n",
    "\n",
    "from sklearn.feature_selection import SelectKBest\n",
    "from sklearn.feature_selection import chi2\n",
    "from sklearn.feature_selection import mutual_info_classif\n",
    "from sklearn.feature_selection import f_classif\n",
    "from sklearn.preprocessing import LabelEncoder\n",
    "from sklearn.preprocessing import OrdinalEncoder\n",
    "\n",
    "from scipy import stats"
   ]
  },
  {
   "cell_type": "code",
   "execution_count": null,
   "metadata": {},
   "outputs": [],
   "source": []
  },
  {
   "cell_type": "code",
   "execution_count": 3,
   "metadata": {},
   "outputs": [],
   "source": [
    "data = pd.read_pickle(\"survey_transformed.pkl\")"
   ]
  },
  {
   "cell_type": "code",
   "execution_count": 4,
   "metadata": {},
   "outputs": [
    {
     "data": {
      "text/html": [
       "<div>\n",
       "<style scoped>\n",
       "    .dataframe tbody tr th:only-of-type {\n",
       "        vertical-align: middle;\n",
       "    }\n",
       "\n",
       "    .dataframe tbody tr th {\n",
       "        vertical-align: top;\n",
       "    }\n",
       "\n",
       "    .dataframe thead th {\n",
       "        text-align: right;\n",
       "    }\n",
       "</style>\n",
       "<table border=\"1\" class=\"dataframe\">\n",
       "  <thead>\n",
       "    <tr style=\"text-align: right;\">\n",
       "      <th></th>\n",
       "      <th>ANY</th>\n",
       "      <th>NOM_DISTRICTE</th>\n",
       "      <th>Would_not_stay_in_the_neighborhood</th>\n",
       "      <th>Gender</th>\n",
       "      <th>Time_living_in_barri</th>\n",
       "      <th>Barri_evolution</th>\n",
       "      <th>Barri_future</th>\n",
       "      <th>Barri_satisfaction_of_living</th>\n",
       "      <th>Barri_comparison</th>\n",
       "      <th>GARBAGE COLLECTION</th>\n",
       "      <th>...</th>\n",
       "      <th>Social_class</th>\n",
       "      <th>Living_alone</th>\n",
       "      <th>BCN_evolution</th>\n",
       "      <th>BCN_future</th>\n",
       "      <th>BCN_satisfaction_of_living</th>\n",
       "      <th>BCN_transport</th>\n",
       "      <th>BCN_over_barri_evolution</th>\n",
       "      <th>BCN_over_barri_future</th>\n",
       "      <th>BCN_over_barri_satisfaction_of_living</th>\n",
       "      <th>BCN_over_barri_transport</th>\n",
       "    </tr>\n",
       "  </thead>\n",
       "  <tbody>\n",
       "    <tr>\n",
       "      <th>0</th>\n",
       "      <td>2011</td>\n",
       "      <td>EIXAMPLE</td>\n",
       "      <td>0.0</td>\n",
       "      <td>1</td>\n",
       "      <td>MORE THAN 10 YEARS</td>\n",
       "      <td>IT IS WORSE</td>\n",
       "      <td>IT WILL GET WORSE</td>\n",
       "      <td>NOT SATISFIED</td>\n",
       "      <td>NEITHER THE BEST, NOR THE WORST</td>\n",
       "      <td>GOOD</td>\n",
       "      <td>...</td>\n",
       "      <td>MIDDLE-HIGH</td>\n",
       "      <td>1</td>\n",
       "      <td>IT IS WORSE</td>\n",
       "      <td>IT WILL GET WORSE</td>\n",
       "      <td>SATISFIED</td>\n",
       "      <td>GOOD</td>\n",
       "      <td>0</td>\n",
       "      <td>0</td>\n",
       "      <td>1</td>\n",
       "      <td>0</td>\n",
       "    </tr>\n",
       "    <tr>\n",
       "      <th>1</th>\n",
       "      <td>2011</td>\n",
       "      <td>EIXAMPLE</td>\n",
       "      <td>0.0</td>\n",
       "      <td>1</td>\n",
       "      <td>MORE THAN 10 YEARS</td>\n",
       "      <td>IT IS THE SAME</td>\n",
       "      <td>IT WILL STAY THE SAME</td>\n",
       "      <td>SATISFIED</td>\n",
       "      <td>NEITHER THE BEST, NOR THE WORST</td>\n",
       "      <td>BAD</td>\n",
       "      <td>...</td>\n",
       "      <td>MIDDLE-MIDDLE</td>\n",
       "      <td>0</td>\n",
       "      <td>IT IS WORSE</td>\n",
       "      <td>IT WILL GET WORSE</td>\n",
       "      <td>SATISFIED</td>\n",
       "      <td>NORMAL</td>\n",
       "      <td>0</td>\n",
       "      <td>0</td>\n",
       "      <td>0</td>\n",
       "      <td>0</td>\n",
       "    </tr>\n",
       "    <tr>\n",
       "      <th>2</th>\n",
       "      <td>2011</td>\n",
       "      <td>EIXAMPLE</td>\n",
       "      <td>0.0</td>\n",
       "      <td>1</td>\n",
       "      <td>MORE THAN 10 YEARS</td>\n",
       "      <td>IT IS WORSE</td>\n",
       "      <td>IT WILL STAY THE SAME</td>\n",
       "      <td>SATISFIED</td>\n",
       "      <td>NEITHER THE BEST, NOR THE WORST</td>\n",
       "      <td>GOOD</td>\n",
       "      <td>...</td>\n",
       "      <td>MIDDLE-MIDDLE</td>\n",
       "      <td>1</td>\n",
       "      <td>IT IS THE SAME</td>\n",
       "      <td>IT WILL IMPROVE</td>\n",
       "      <td>SATISFIED</td>\n",
       "      <td>GOOD</td>\n",
       "      <td>1</td>\n",
       "      <td>1</td>\n",
       "      <td>0</td>\n",
       "      <td>0</td>\n",
       "    </tr>\n",
       "    <tr>\n",
       "      <th>3</th>\n",
       "      <td>2011</td>\n",
       "      <td>EIXAMPLE</td>\n",
       "      <td>0.0</td>\n",
       "      <td>1</td>\n",
       "      <td>LESS THAN 10 YEARS</td>\n",
       "      <td>IT IS WORSE</td>\n",
       "      <td>IT WILL GET WORSE</td>\n",
       "      <td>SATISFIED</td>\n",
       "      <td>ONE OF THE BEST</td>\n",
       "      <td>GOOD</td>\n",
       "      <td>...</td>\n",
       "      <td>MIDDLE-MIDDLE</td>\n",
       "      <td>1</td>\n",
       "      <td>IT IS WORSE</td>\n",
       "      <td>IT WILL STAY THE SAME</td>\n",
       "      <td>SATISFIED</td>\n",
       "      <td>GOOD</td>\n",
       "      <td>0</td>\n",
       "      <td>1</td>\n",
       "      <td>0</td>\n",
       "      <td>0</td>\n",
       "    </tr>\n",
       "    <tr>\n",
       "      <th>4</th>\n",
       "      <td>2011</td>\n",
       "      <td>EIXAMPLE</td>\n",
       "      <td>1.0</td>\n",
       "      <td>0</td>\n",
       "      <td>MORE THAN 10 YEARS</td>\n",
       "      <td>IT IS THE SAME</td>\n",
       "      <td>IT WILL STAY THE SAME</td>\n",
       "      <td>NOT SATISFIED</td>\n",
       "      <td>NEITHER THE BEST, NOR THE WORST</td>\n",
       "      <td>BAD</td>\n",
       "      <td>...</td>\n",
       "      <td>MIDDLE-LOW</td>\n",
       "      <td>0</td>\n",
       "      <td>IT IS THE SAME</td>\n",
       "      <td>IT WILL STAY THE SAME</td>\n",
       "      <td>SATISFIED</td>\n",
       "      <td>NORMAL</td>\n",
       "      <td>0</td>\n",
       "      <td>0</td>\n",
       "      <td>1</td>\n",
       "      <td>0</td>\n",
       "    </tr>\n",
       "  </tbody>\n",
       "</table>\n",
       "<p>5 rows × 35 columns</p>\n",
       "</div>"
      ],
      "text/plain": [
       "    ANY NOM_DISTRICTE  Would_not_stay_in_the_neighborhood  Gender  \\\n",
       "0  2011      EIXAMPLE                                 0.0       1   \n",
       "1  2011      EIXAMPLE                                 0.0       1   \n",
       "2  2011      EIXAMPLE                                 0.0       1   \n",
       "3  2011      EIXAMPLE                                 0.0       1   \n",
       "4  2011      EIXAMPLE                                 1.0       0   \n",
       "\n",
       "  Time_living_in_barri Barri_evolution           Barri_future  \\\n",
       "0   MORE THAN 10 YEARS     IT IS WORSE      IT WILL GET WORSE   \n",
       "1   MORE THAN 10 YEARS  IT IS THE SAME  IT WILL STAY THE SAME   \n",
       "2   MORE THAN 10 YEARS     IT IS WORSE  IT WILL STAY THE SAME   \n",
       "3   LESS THAN 10 YEARS     IT IS WORSE      IT WILL GET WORSE   \n",
       "4   MORE THAN 10 YEARS  IT IS THE SAME  IT WILL STAY THE SAME   \n",
       "\n",
       "  Barri_satisfaction_of_living                 Barri_comparison  \\\n",
       "0                NOT SATISFIED  NEITHER THE BEST, NOR THE WORST   \n",
       "1                    SATISFIED  NEITHER THE BEST, NOR THE WORST   \n",
       "2                    SATISFIED  NEITHER THE BEST, NOR THE WORST   \n",
       "3                    SATISFIED                  ONE OF THE BEST   \n",
       "4                NOT SATISFIED  NEITHER THE BEST, NOR THE WORST   \n",
       "\n",
       "  GARBAGE COLLECTION  ...   Social_class Living_alone   BCN_evolution  \\\n",
       "0               GOOD  ...    MIDDLE-HIGH            1     IT IS WORSE   \n",
       "1                BAD  ...  MIDDLE-MIDDLE            0     IT IS WORSE   \n",
       "2               GOOD  ...  MIDDLE-MIDDLE            1  IT IS THE SAME   \n",
       "3               GOOD  ...  MIDDLE-MIDDLE            1     IT IS WORSE   \n",
       "4                BAD  ...     MIDDLE-LOW            0  IT IS THE SAME   \n",
       "\n",
       "              BCN_future BCN_satisfaction_of_living BCN_transport  \\\n",
       "0      IT WILL GET WORSE                  SATISFIED          GOOD   \n",
       "1      IT WILL GET WORSE                  SATISFIED        NORMAL   \n",
       "2        IT WILL IMPROVE                  SATISFIED          GOOD   \n",
       "3  IT WILL STAY THE SAME                  SATISFIED          GOOD   \n",
       "4  IT WILL STAY THE SAME                  SATISFIED        NORMAL   \n",
       "\n",
       "  BCN_over_barri_evolution BCN_over_barri_future  \\\n",
       "0                        0                     0   \n",
       "1                        0                     0   \n",
       "2                        1                     1   \n",
       "3                        0                     1   \n",
       "4                        0                     0   \n",
       "\n",
       "  BCN_over_barri_satisfaction_of_living BCN_over_barri_transport  \n",
       "0                                     1                        0  \n",
       "1                                     0                        0  \n",
       "2                                     0                        0  \n",
       "3                                     0                        0  \n",
       "4                                     1                        0  \n",
       "\n",
       "[5 rows x 35 columns]"
      ]
     },
     "execution_count": 4,
     "metadata": {},
     "output_type": "execute_result"
    }
   ],
   "source": [
    "data.head()"
   ]
  },
  {
   "cell_type": "code",
   "execution_count": 5,
   "metadata": {},
   "outputs": [
    {
     "data": {
      "text/plain": [
       "(4531, 35)"
      ]
     },
     "execution_count": 5,
     "metadata": {},
     "output_type": "execute_result"
    }
   ],
   "source": [
    "data.shape"
   ]
  },
  {
   "cell_type": "code",
   "execution_count": 6,
   "metadata": {},
   "outputs": [
    {
     "data": {
      "text/plain": [
       "['ANY',\n",
       " 'NOM_DISTRICTE',\n",
       " 'Would_not_stay_in_the_neighborhood',\n",
       " 'Gender',\n",
       " 'Time_living_in_barri',\n",
       " 'Barri_evolution',\n",
       " 'Barri_future',\n",
       " 'Barri_satisfaction_of_living',\n",
       " 'Barri_comparison',\n",
       " 'GARBAGE COLLECTION',\n",
       " 'STREETS CLEANING',\n",
       " 'GREEN AREAS',\n",
       " 'PUBLIC LIGHTING',\n",
       " 'ASPHALT AND STREET CONSERVATION',\n",
       " 'FACADES AND BUILDING CONSERVATION',\n",
       " 'CIRCULATION',\n",
       " 'BUS',\n",
       " 'MUNICIPAL POLICE',\n",
       " 'CITIZEN SECURITY IN THE CITY AS A WHOLE',\n",
       " 'CITIZEN SECURITY IN THE NEIGHBORHOOD',\n",
       " 'MUNICIPAL MARKETS',\n",
       " 'Barri_transport',\n",
       " 'Owns_a_car',\n",
       " 'House_size',\n",
       " 'Monthly_family_income',\n",
       " 'Social_class',\n",
       " 'Living_alone',\n",
       " 'BCN_evolution',\n",
       " 'BCN_future',\n",
       " 'BCN_satisfaction_of_living',\n",
       " 'BCN_transport',\n",
       " 'BCN_over_barri_evolution',\n",
       " 'BCN_over_barri_future',\n",
       " 'BCN_over_barri_satisfaction_of_living',\n",
       " 'BCN_over_barri_transport']"
      ]
     },
     "execution_count": 6,
     "metadata": {},
     "output_type": "execute_result"
    }
   ],
   "source": [
    "data.columns.tolist()"
   ]
  },
  {
   "cell_type": "code",
   "execution_count": 7,
   "metadata": {},
   "outputs": [],
   "source": [
    "x_var = data.columns.tolist()"
   ]
  },
  {
   "cell_type": "code",
   "execution_count": 8,
   "metadata": {},
   "outputs": [],
   "source": [
    "for i in ['ANY', 'NOM_DISTRICTE', 'Would_not_stay_in_the_neighborhood',\n",
    "          'BCN_evolution', 'BCN_future', 'BCN_satisfaction_of_living', 'BCN_transport']:\n",
    "    x_var.remove(i)"
   ]
  },
  {
   "cell_type": "code",
   "execution_count": 9,
   "metadata": {},
   "outputs": [],
   "source": [
    "x = data[x_var]"
   ]
  },
  {
   "cell_type": "code",
   "execution_count": 10,
   "metadata": {},
   "outputs": [],
   "source": [
    "y = data['Would_not_stay_in_the_neighborhood']"
   ]
  },
  {
   "cell_type": "code",
   "execution_count": null,
   "metadata": {},
   "outputs": [],
   "source": []
  },
  {
   "cell_type": "code",
   "execution_count": 11,
   "metadata": {},
   "outputs": [],
   "source": [
    "x = pd.get_dummies(x, drop_first = True)"
   ]
  },
  {
   "cell_type": "code",
   "execution_count": 12,
   "metadata": {},
   "outputs": [
    {
     "name": "stdout",
     "output_type": "stream",
     "text": [
      "Optimization terminated successfully.\n",
      "         Current function value: 0.305594\n",
      "         Iterations 7\n",
      "                                       Results: Logit\n",
      "=============================================================================================\n",
      "Model:                 Logit                                 Pseudo R-squared:    0.179      \n",
      "Dependent Variable:    Would_not_stay_in_the_neighborhood    AIC:                 2849.2936  \n",
      "Date:                  2021-04-12 23:23                      BIC:                 3106.0415  \n",
      "No. Observations:      4531                                  Log-Likelihood:      -1384.6    \n",
      "Df Model:              39                                    LL-Null:             -1686.8    \n",
      "Df Residuals:          4491                                  LLR p-value:         1.6819e-102\n",
      "Converged:             1.0000                                Scale:               1.0000     \n",
      "No. Iterations:        7.0000                                                                \n",
      "---------------------------------------------------------------------------------------------\n",
      "                                              Coef.  Std.Err.    z     P>|z|   [0.025  0.975]\n",
      "---------------------------------------------------------------------------------------------\n",
      "Gender                                        0.0840   0.1076   0.7807 0.4350 -0.1269  0.2950\n",
      "Owns_a_car                                    0.0509   0.1172   0.4347 0.6638 -0.1787  0.2806\n",
      "Living_alone                                  0.1948   0.1247   1.5627 0.1181 -0.0495  0.4391\n",
      "BCN_over_barri_evolution                     -0.0175   0.1640  -0.1065 0.9152 -0.3389  0.3040\n",
      "BCN_over_barri_future                         0.1525   0.1541   0.9895 0.3224 -0.1496  0.4546\n",
      "BCN_over_barri_satisfaction_of_living         0.5118   0.2349   2.1792 0.0293  0.0515  0.9722\n",
      "BCN_over_barri_transport                      0.3273   0.2131   1.5357 0.1246 -0.0904  0.7450\n",
      "Time_living_in_barri_LESS THAN 10 YEARS       1.2601   0.2359   5.3407 0.0000  0.7977  1.7225\n",
      "Time_living_in_barri_MORE THAN 10 YEARS       0.4120   0.1669   2.4687 0.0136  0.0849  0.7391\n",
      "Barri_evolution_IT IS THE SAME                0.0277   0.1352   0.2046 0.8379 -0.2373  0.2926\n",
      "Barri_evolution_IT IS WORSE                  -0.2220   0.1641  -1.3527 0.1761 -0.5437  0.0997\n",
      "Barri_future_IT WILL IMPROVE                 -0.4669   0.1696  -2.7532 0.0059 -0.7993 -0.1345\n",
      "Barri_future_IT WILL STAY THE SAME           -0.5678   0.1736  -3.2708 0.0011 -0.9080 -0.2276\n",
      "Barri_satisfaction_of_living_SATISFIED       -0.7989   0.2058  -3.8818 0.0001 -1.2023 -0.3955\n",
      "Barri_comparison_ONE OF THE BEST             -1.5334   0.1175 -13.0490 0.0000 -1.7637 -1.3031\n",
      "Barri_comparison_ONE OF THE WORST             0.9051   0.1767   5.1230 0.0000  0.5588  1.2513\n",
      "GARBAGE COLLECTION_GOOD                      -0.0185   0.2087  -0.0887 0.9293 -0.4276  0.3906\n",
      "STREETS CLEANING_GOOD                        -0.1499   0.1418  -1.0573 0.2904 -0.4279  0.1280\n",
      "GREEN AREAS_GOOD                             -0.2083   0.1331  -1.5651 0.1176 -0.4692  0.0526\n",
      "PUBLIC LIGHTING_GOOD                         -0.1678   0.1677  -1.0009 0.3169 -0.4965  0.1608\n",
      "ASPHALT AND STREET CONSERVATION_GOOD          0.1742   0.1337   1.3032 0.1925 -0.0878  0.4363\n",
      "FACADES AND BUILDING CONSERVATION_GOOD        0.0955   0.1578   0.6053 0.5450 -0.2138  0.4048\n",
      "CIRCULATION_GOOD                             -0.0639   0.1142  -0.5600 0.5755 -0.2877  0.1599\n",
      "BUS_GOOD                                     -0.2837   0.1724  -1.6457 0.0998 -0.6217  0.0542\n",
      "MUNICIPAL POLICE_GOOD                        -0.0619   0.1330  -0.4657 0.6415 -0.3225  0.1987\n",
      "CITIZEN SECURITY IN THE CITY AS A WHOLE_GOOD  0.2741   0.1386   1.9771 0.0480  0.0024  0.5457\n",
      "CITIZEN SECURITY IN THE NEIGHBORHOOD_GOOD    -0.3765   0.1404  -2.6809 0.0073 -0.6517 -0.1012\n",
      "MUNICIPAL MARKETS_GOOD                        0.2150   0.1874   1.1474 0.2512 -0.1523  0.5823\n",
      "Barri_transport_GOOD                          0.0410   0.2115   0.1938 0.8463 -0.3736  0.4556\n",
      "Barri_transport_NORMAL                        0.2685   0.2167   1.2390 0.2153 -0.1562  0.6933\n",
      "House_size_51-100 M2                          0.2494   0.1837   1.3575 0.1746 -0.1107  0.6094\n",
      "House_size_< 50 M2                            0.3768   0.2465   1.5288 0.1263 -0.1063  0.8599\n",
      "House_size_> 150 M2                           0.4952   0.3106   1.5945 0.1108 -0.1135  1.1039\n",
      "Monthly_family_income_2001-3000 EUROS         0.1784   0.1545   1.1546 0.2483 -0.1244  0.4811\n",
      "Monthly_family_income_< 1000 EUROS           -0.0912   0.1288  -0.7085 0.4786 -0.3437  0.1612\n",
      "Monthly_family_income_> 3000 EUROS            0.3046   0.2121   1.4361 0.1510 -0.1111  0.7204\n",
      "Social_class_LOW                             -0.8491   0.4255  -1.9955 0.0460 -1.6831 -0.0151\n",
      "Social_class_MIDDLE-HIGH                     -1.1403   0.4973  -2.2929 0.0219 -2.1150 -0.1656\n",
      "Social_class_MIDDLE-LOW                      -0.8213   0.4078  -2.0141 0.0440 -1.6206 -0.0221\n",
      "Social_class_MIDDLE-MIDDLE                   -0.8057   0.4036  -1.9961 0.0459 -1.5968 -0.0146\n",
      "=============================================================================================\n",
      "\n"
     ]
    }
   ],
   "source": [
    "logit_model = sm.Logit(y,x)\n",
    "result=logit_model.fit()\n",
    "print(result.summary2())"
   ]
  },
  {
   "cell_type": "code",
   "execution_count": 13,
   "metadata": {},
   "outputs": [
    {
     "data": {
      "text/plain": [
       "GARBAGE COLLECTION_GOOD                         9.293256e-01\n",
       "BCN_over_barri_evolution                        9.151620e-01\n",
       "Barri_transport_GOOD                            8.463396e-01\n",
       "Barri_evolution_IT IS THE SAME                  8.378724e-01\n",
       "Owns_a_car                                      6.637586e-01\n",
       "MUNICIPAL POLICE_GOOD                           6.414519e-01\n",
       "CIRCULATION_GOOD                                5.755090e-01\n",
       "FACADES AND BUILDING CONSERVATION_GOOD          5.449863e-01\n",
       "Monthly_family_income_< 1000 EUROS              4.786306e-01\n",
       "Gender                                          4.349799e-01\n",
       "BCN_over_barri_future                           3.224236e-01\n",
       "PUBLIC LIGHTING_GOOD                            3.168967e-01\n",
       "STREETS CLEANING_GOOD                           2.903554e-01\n",
       "MUNICIPAL MARKETS_GOOD                          2.512089e-01\n",
       "Monthly_family_income_2001-3000 EUROS           2.482588e-01\n",
       "Barri_transport_NORMAL                          2.153328e-01\n",
       "ASPHALT AND STREET CONSERVATION_GOOD            1.925222e-01\n",
       "Barri_evolution_IT IS WORSE                     1.761440e-01\n",
       "House_size_51-100 M2                            1.746309e-01\n",
       "Monthly_family_income_> 3000 EUROS              1.509747e-01\n",
       "House_size_< 50 M2                              1.263111e-01\n",
       "BCN_over_barri_transport                        1.246228e-01\n",
       "Living_alone                                    1.181195e-01\n",
       "GREEN AREAS_GOOD                                1.175574e-01\n",
       "House_size_> 150 M2                             1.108348e-01\n",
       "BUS_GOOD                                        9.983230e-02\n",
       "CITIZEN SECURITY IN THE CITY AS A WHOLE_GOOD    4.802762e-02\n",
       "Social_class_LOW                                4.599106e-02\n",
       "Social_class_MIDDLE-MIDDLE                      4.592244e-02\n",
       "Social_class_MIDDLE-LOW                         4.399719e-02\n",
       "BCN_over_barri_satisfaction_of_living           2.931587e-02\n",
       "Social_class_MIDDLE-HIGH                        2.185133e-02\n",
       "Time_living_in_barri_MORE THAN 10 YEARS         1.356016e-02\n",
       "CITIZEN SECURITY IN THE NEIGHBORHOOD_GOOD       7.342698e-03\n",
       "Barri_future_IT WILL IMPROVE                    5.901059e-03\n",
       "Barri_future_IT WILL STAY THE SAME              1.072497e-03\n",
       "Barri_satisfaction_of_living_SATISFIED          1.036869e-04\n",
       "Barri_comparison_ONE OF THE WORST               3.007278e-07\n",
       "Time_living_in_barri_LESS THAN 10 YEARS         9.256747e-08\n",
       "Barri_comparison_ONE OF THE BEST                6.441665e-39\n",
       "dtype: float64"
      ]
     },
     "execution_count": 13,
     "metadata": {},
     "output_type": "execute_result"
    }
   ],
   "source": [
    "result.pvalues.sort_values(ascending=False)"
   ]
  },
  {
   "cell_type": "code",
   "execution_count": null,
   "metadata": {},
   "outputs": [],
   "source": []
  },
  {
   "cell_type": "code",
   "execution_count": 14,
   "metadata": {},
   "outputs": [],
   "source": [
    "for i in ['GARBAGE COLLECTION', 'BCN_over_barri_evolution', 'Barri_transport', 'Barri_evolution', 'Owns_a_car']:\n",
    "    x_var.remove(i)"
   ]
  },
  {
   "cell_type": "code",
   "execution_count": 15,
   "metadata": {},
   "outputs": [],
   "source": [
    "x = data[x_var]\n",
    "x = pd.get_dummies(x, drop_first = True)"
   ]
  },
  {
   "cell_type": "code",
   "execution_count": 16,
   "metadata": {},
   "outputs": [
    {
     "name": "stdout",
     "output_type": "stream",
     "text": [
      "Optimization terminated successfully.\n",
      "         Current function value: 0.306124\n",
      "         Iterations 7\n",
      "                                       Results: Logit\n",
      "=============================================================================================\n",
      "Model:                 Logit                                 Pseudo R-squared:    0.178      \n",
      "Dependent Variable:    Would_not_stay_in_the_neighborhood    AIC:                 2840.0943  \n",
      "Date:                  2021-04-12 23:23                      BIC:                 3051.9114  \n",
      "No. Observations:      4531                                  Log-Likelihood:      -1387.0    \n",
      "Df Model:              32                                    LL-Null:             -1686.8    \n",
      "Df Residuals:          4498                                  LLR p-value:         7.1866e-106\n",
      "Converged:             1.0000                                Scale:               1.0000     \n",
      "No. Iterations:        7.0000                                                                \n",
      "---------------------------------------------------------------------------------------------\n",
      "                                              Coef.  Std.Err.    z     P>|z|   [0.025  0.975]\n",
      "---------------------------------------------------------------------------------------------\n",
      "Gender                                        0.0677   0.1064   0.6359 0.5248 -0.1409  0.2762\n",
      "Living_alone                                  0.1767   0.1212   1.4585 0.1447 -0.0608  0.4142\n",
      "BCN_over_barri_future                         0.1418   0.1518   0.9342 0.3502 -0.1557  0.4394\n",
      "BCN_over_barri_satisfaction_of_living         0.4716   0.2323   2.0296 0.0424  0.0162  0.9269\n",
      "BCN_over_barri_transport                      0.3708   0.1431   2.5909 0.0096  0.0903  0.6513\n",
      "Time_living_in_barri_LESS THAN 10 YEARS       1.2515   0.2348   5.3300 0.0000  0.7913  1.7116\n",
      "Time_living_in_barri_MORE THAN 10 YEARS       0.4051   0.1660   2.4404 0.0147  0.0798  0.7304\n",
      "Barri_future_IT WILL IMPROVE                 -0.3473   0.1496  -2.3218 0.0202 -0.6405 -0.0541\n",
      "Barri_future_IT WILL STAY THE SAME           -0.4240   0.1544  -2.7467 0.0060 -0.7266 -0.1215\n",
      "Barri_satisfaction_of_living_SATISFIED       -0.7945   0.2033  -3.9083 0.0001 -1.1929 -0.3961\n",
      "Barri_comparison_ONE OF THE BEST             -1.5249   0.1172 -13.0128 0.0000 -1.7545 -1.2952\n",
      "Barri_comparison_ONE OF THE WORST             0.8866   0.1749   5.0681 0.0000  0.5438  1.2295\n",
      "STREETS CLEANING_GOOD                        -0.1409   0.1365  -1.0319 0.3021 -0.4084  0.1267\n",
      "GREEN AREAS_GOOD                             -0.2050   0.1323  -1.5488 0.1214 -0.4643  0.0544\n",
      "PUBLIC LIGHTING_GOOD                         -0.1796   0.1654  -1.0861 0.2774 -0.5038  0.1445\n",
      "ASPHALT AND STREET CONSERVATION_GOOD          0.1783   0.1332   1.3386 0.1807 -0.0828  0.4393\n",
      "FACADES AND BUILDING CONSERVATION_GOOD        0.0931   0.1573   0.5921 0.5538 -0.2151  0.4014\n",
      "CIRCULATION_GOOD                             -0.0569   0.1137  -0.5005 0.6167 -0.2797  0.1659\n",
      "BUS_GOOD                                     -0.2554   0.1624  -1.5725 0.1158 -0.5736  0.0629\n",
      "MUNICIPAL POLICE_GOOD                        -0.0786   0.1326  -0.5926 0.5534 -0.3384  0.1813\n",
      "CITIZEN SECURITY IN THE CITY AS A WHOLE_GOOD  0.2739   0.1384   1.9793 0.0478  0.0027  0.5451\n",
      "CITIZEN SECURITY IN THE NEIGHBORHOOD_GOOD    -0.3573   0.1397  -2.5570 0.0106 -0.6312 -0.0834\n",
      "MUNICIPAL MARKETS_GOOD                        0.1977   0.1857   1.0645 0.2871 -0.1663  0.5616\n",
      "House_size_51-100 M2                          0.2460   0.1830   1.3439 0.1790 -0.1128  0.6047\n",
      "House_size_< 50 M2                            0.3628   0.2453   1.4793 0.1391 -0.1179  0.8435\n",
      "House_size_> 150 M2                           0.4793   0.3104   1.5444 0.1225 -0.1290  1.0877\n",
      "Monthly_family_income_2001-3000 EUROS         0.1769   0.1519   1.1647 0.2442 -0.1208  0.4746\n",
      "Monthly_family_income_< 1000 EUROS           -0.1035   0.1269  -0.8157 0.4147 -0.3522  0.1452\n",
      "Monthly_family_income_> 3000 EUROS            0.3075   0.2098   1.4658 0.1427 -0.1037  0.7186\n",
      "Social_class_LOW                             -0.9347   0.3771  -2.4784 0.0132 -1.6738 -0.1955\n",
      "Social_class_MIDDLE-HIGH                     -1.2151   0.4580  -2.6529 0.0080 -2.1128 -0.3174\n",
      "Social_class_MIDDLE-LOW                      -0.8952   0.3598  -2.4880 0.0128 -1.6004 -0.1900\n",
      "Social_class_MIDDLE-MIDDLE                   -0.8809   0.3548  -2.4827 0.0130 -1.5764 -0.1855\n",
      "=============================================================================================\n",
      "\n"
     ]
    }
   ],
   "source": [
    "logit_model = sm.Logit(y,x)\n",
    "result=logit_model.fit()\n",
    "print(result.summary2())"
   ]
  },
  {
   "cell_type": "code",
   "execution_count": 17,
   "metadata": {},
   "outputs": [
    {
     "data": {
      "text/plain": [
       "CIRCULATION_GOOD                                6.166958e-01\n",
       "FACADES AND BUILDING CONSERVATION_GOOD          5.537762e-01\n",
       "MUNICIPAL POLICE_GOOD                           5.534458e-01\n",
       "Gender                                          5.248419e-01\n",
       "Monthly_family_income_< 1000 EUROS              4.146879e-01\n",
       "BCN_over_barri_future                           3.501832e-01\n",
       "STREETS CLEANING_GOOD                           3.021299e-01\n",
       "MUNICIPAL MARKETS_GOOD                          2.870879e-01\n",
       "PUBLIC LIGHTING_GOOD                            2.774155e-01\n",
       "Monthly_family_income_2001-3000 EUROS           2.441590e-01\n",
       "ASPHALT AND STREET CONSERVATION_GOOD            1.806988e-01\n",
       "House_size_51-100 M2                            1.789817e-01\n",
       "Living_alone                                    1.446895e-01\n",
       "Monthly_family_income_> 3000 EUROS              1.427137e-01\n",
       "House_size_< 50 M2                              1.390550e-01\n",
       "House_size_> 150 M2                             1.224834e-01\n",
       "GREEN AREAS_GOOD                                1.214361e-01\n",
       "BUS_GOOD                                        1.158406e-01\n",
       "CITIZEN SECURITY IN THE CITY AS A WHOLE_GOOD    4.778136e-02\n",
       "BCN_over_barri_satisfaction_of_living           4.239880e-02\n",
       "Barri_future_IT WILL IMPROVE                    2.024257e-02\n",
       "Time_living_in_barri_MORE THAN 10 YEARS         1.466931e-02\n",
       "Social_class_LOW                                1.319579e-02\n",
       "Social_class_MIDDLE-MIDDLE                      1.303962e-02\n",
       "Social_class_MIDDLE-LOW                         1.284524e-02\n",
       "CITIZEN SECURITY IN THE NEIGHBORHOOD_GOOD       1.055704e-02\n",
       "BCN_over_barri_transport                        9.573458e-03\n",
       "Social_class_MIDDLE-HIGH                        7.981017e-03\n",
       "Barri_future_IT WILL STAY THE SAME              6.020196e-03\n",
       "Barri_satisfaction_of_living_SATISFIED          9.293179e-05\n",
       "Barri_comparison_ONE OF THE WORST               4.017659e-07\n",
       "Time_living_in_barri_LESS THAN 10 YEARS         9.822603e-08\n",
       "Barri_comparison_ONE OF THE BEST                1.034183e-38\n",
       "dtype: float64"
      ]
     },
     "execution_count": 17,
     "metadata": {},
     "output_type": "execute_result"
    }
   ],
   "source": [
    "result.pvalues.sort_values(ascending=False)"
   ]
  },
  {
   "cell_type": "code",
   "execution_count": null,
   "metadata": {},
   "outputs": [],
   "source": []
  },
  {
   "cell_type": "code",
   "execution_count": 18,
   "metadata": {},
   "outputs": [],
   "source": [
    "for i in ['FACADES AND BUILDING CONSERVATION', 'MUNICIPAL POLICE', 'CIRCULATION', 'Gender']:\n",
    "    x_var.remove(i)"
   ]
  },
  {
   "cell_type": "code",
   "execution_count": 19,
   "metadata": {},
   "outputs": [],
   "source": [
    "x = data[x_var]\n",
    "x = pd.get_dummies(x, drop_first = True)"
   ]
  },
  {
   "cell_type": "code",
   "execution_count": 20,
   "metadata": {},
   "outputs": [
    {
     "name": "stdout",
     "output_type": "stream",
     "text": [
      "Optimization terminated successfully.\n",
      "         Current function value: 0.306261\n",
      "         Iterations 7\n",
      "                                       Results: Logit\n",
      "=============================================================================================\n",
      "Model:                 Logit                                 Pseudo R-squared:    0.177      \n",
      "Dependent Variable:    Would_not_stay_in_the_neighborhood    AIC:                 2833.3386  \n",
      "Date:                  2021-04-12 23:23                      BIC:                 3019.4809  \n",
      "No. Observations:      4531                                  Log-Likelihood:      -1387.7    \n",
      "Df Model:              28                                    LL-Null:             -1686.8    \n",
      "Df Residuals:          4502                                  LLR p-value:         3.0238e-108\n",
      "Converged:             1.0000                                Scale:               1.0000     \n",
      "No. Iterations:        7.0000                                                                \n",
      "---------------------------------------------------------------------------------------------\n",
      "                                              Coef.  Std.Err.    z     P>|z|   [0.025  0.975]\n",
      "---------------------------------------------------------------------------------------------\n",
      "Living_alone                                  0.1909   0.1193   1.6011 0.1094 -0.0428  0.4247\n",
      "BCN_over_barri_future                         0.1360   0.1513   0.8988 0.3688 -0.1605  0.4325\n",
      "BCN_over_barri_satisfaction_of_living         0.4706   0.2321   2.0273 0.0426  0.0156  0.9256\n",
      "BCN_over_barri_transport                      0.3712   0.1430   2.5953 0.0094  0.0909  0.6515\n",
      "Time_living_in_barri_LESS THAN 10 YEARS       1.2466   0.2346   5.3133 0.0000  0.7868  1.7065\n",
      "Time_living_in_barri_MORE THAN 10 YEARS       0.4078   0.1660   2.4573 0.0140  0.0825  0.7331\n",
      "Barri_future_IT WILL IMPROVE                 -0.3510   0.1492  -2.3527 0.0186 -0.6435 -0.0586\n",
      "Barri_future_IT WILL STAY THE SAME           -0.4241   0.1541  -2.7515 0.0059 -0.7262 -0.1220\n",
      "Barri_satisfaction_of_living_SATISFIED       -0.7987   0.2023  -3.9489 0.0001 -1.1951 -0.4023\n",
      "Barri_comparison_ONE OF THE BEST             -1.5182   0.1168 -12.9988 0.0000 -1.7472 -1.2893\n",
      "Barri_comparison_ONE OF THE WORST             0.8819   0.1748   5.0461 0.0000  0.5394  1.2244\n",
      "STREETS CLEANING_GOOD                        -0.1457   0.1355  -1.0757 0.2821 -0.4112  0.1198\n",
      "GREEN AREAS_GOOD                             -0.2071   0.1304  -1.5878 0.1123 -0.4627  0.0485\n",
      "PUBLIC LIGHTING_GOOD                         -0.1869   0.1647  -1.1350 0.2564 -0.5098  0.1359\n",
      "ASPHALT AND STREET CONSERVATION_GOOD          0.1767   0.1303   1.3563 0.1750 -0.0786  0.4320\n",
      "BUS_GOOD                                     -0.2706   0.1611  -1.6803 0.0929 -0.5863  0.0450\n",
      "CITIZEN SECURITY IN THE CITY AS A WHOLE_GOOD  0.2550   0.1365   1.8686 0.0617 -0.0125  0.5225\n",
      "CITIZEN SECURITY IN THE NEIGHBORHOOD_GOOD    -0.3586   0.1391  -2.5771 0.0100 -0.6313 -0.0859\n",
      "MUNICIPAL MARKETS_GOOD                        0.1981   0.1851   1.0701 0.2846 -0.1647  0.5609\n",
      "House_size_51-100 M2                          0.2436   0.1831   1.3308 0.1832 -0.1152  0.6024\n",
      "House_size_< 50 M2                            0.3509   0.2449   1.4330 0.1519 -0.1291  0.8309\n",
      "House_size_> 150 M2                           0.4883   0.3100   1.5753 0.1152 -0.1193  1.0959\n",
      "Monthly_family_income_2001-3000 EUROS         0.1695   0.1517   1.1173 0.2639 -0.1278  0.4669\n",
      "Monthly_family_income_< 1000 EUROS           -0.0978   0.1259  -0.7768 0.4373 -0.3446  0.1490\n",
      "Monthly_family_income_> 3000 EUROS            0.2953   0.2095   1.4095 0.1587 -0.1153  0.7060\n",
      "Social_class_LOW                             -0.8752   0.3703  -2.3632 0.0181 -1.6010 -0.1493\n",
      "Social_class_MIDDLE-HIGH                     -1.1520   0.4520  -2.5485 0.0108 -2.0380 -0.2660\n",
      "Social_class_MIDDLE-LOW                      -0.8384   0.3529  -2.3759 0.0175 -1.5300 -0.1468\n",
      "Social_class_MIDDLE-MIDDLE                   -0.8197   0.3466  -2.3650 0.0180 -1.4990 -0.1404\n",
      "=============================================================================================\n",
      "\n"
     ]
    }
   ],
   "source": [
    "logit_model = sm.Logit(y,x)\n",
    "result=logit_model.fit()\n",
    "print(result.summary2())"
   ]
  },
  {
   "cell_type": "code",
   "execution_count": 21,
   "metadata": {},
   "outputs": [
    {
     "data": {
      "text/plain": [
       "Monthly_family_income_< 1000 EUROS              4.373059e-01\n",
       "BCN_over_barri_future                           3.687793e-01\n",
       "MUNICIPAL MARKETS_GOOD                          2.845520e-01\n",
       "STREETS CLEANING_GOOD                           2.820591e-01\n",
       "Monthly_family_income_2001-3000 EUROS           2.638510e-01\n",
       "PUBLIC LIGHTING_GOOD                            2.563611e-01\n",
       "House_size_51-100 M2                            1.832458e-01\n",
       "ASPHALT AND STREET CONSERVATION_GOOD            1.749885e-01\n",
       "Monthly_family_income_> 3000 EUROS              1.586795e-01\n",
       "House_size_< 50 M2                              1.518652e-01\n",
       "House_size_> 150 M2                             1.151963e-01\n",
       "GREEN AREAS_GOOD                                1.123298e-01\n",
       "Living_alone                                    1.093604e-01\n",
       "BUS_GOOD                                        9.289572e-02\n",
       "CITIZEN SECURITY IN THE CITY AS A WHOLE_GOOD    6.167851e-02\n",
       "BCN_over_barri_satisfaction_of_living           4.263587e-02\n",
       "Barri_future_IT WILL IMPROVE                    1.863626e-02\n",
       "Social_class_LOW                                1.812021e-02\n",
       "Social_class_MIDDLE-MIDDLE                      1.803116e-02\n",
       "Social_class_MIDDLE-LOW                         1.750523e-02\n",
       "Time_living_in_barri_MORE THAN 10 YEARS         1.399810e-02\n",
       "Social_class_MIDDLE-HIGH                        1.081888e-02\n",
       "CITIZEN SECURITY IN THE NEIGHBORHOOD_GOOD       9.963108e-03\n",
       "BCN_over_barri_transport                        9.449602e-03\n",
       "Barri_future_IT WILL STAY THE SAME              5.932424e-03\n",
       "Barri_satisfaction_of_living_SATISFIED          7.852597e-05\n",
       "Barri_comparison_ONE OF THE WORST               4.509346e-07\n",
       "Time_living_in_barri_LESS THAN 10 YEARS         1.076661e-07\n",
       "Barri_comparison_ONE OF THE BEST                1.243562e-38\n",
       "dtype: float64"
      ]
     },
     "execution_count": 21,
     "metadata": {},
     "output_type": "execute_result"
    }
   ],
   "source": [
    "result.pvalues.sort_values(ascending=False)"
   ]
  },
  {
   "cell_type": "code",
   "execution_count": null,
   "metadata": {},
   "outputs": [],
   "source": []
  },
  {
   "cell_type": "code",
   "execution_count": 22,
   "metadata": {},
   "outputs": [],
   "source": [
    "for i in ['BCN_over_barri_future', 'MUNICIPAL MARKETS', 'STREETS CLEANING']:\n",
    "    x_var.remove(i)"
   ]
  },
  {
   "cell_type": "code",
   "execution_count": 23,
   "metadata": {},
   "outputs": [],
   "source": [
    "x = data[x_var]\n",
    "x = pd.get_dummies(x, drop_first = True)"
   ]
  },
  {
   "cell_type": "code",
   "execution_count": 24,
   "metadata": {},
   "outputs": [
    {
     "name": "stdout",
     "output_type": "stream",
     "text": [
      "Optimization terminated successfully.\n",
      "         Current function value: 0.306601\n",
      "         Iterations 7\n",
      "                                       Results: Logit\n",
      "=============================================================================================\n",
      "Model:                 Logit                                 Pseudo R-squared:    0.176      \n",
      "Dependent Variable:    Would_not_stay_in_the_neighborhood    AIC:                 2830.4171  \n",
      "Date:                  2021-04-12 23:23                      BIC:                 2997.3032  \n",
      "No. Observations:      4531                                  Log-Likelihood:      -1389.2    \n",
      "Df Model:              25                                    LL-Null:             -1686.8    \n",
      "Df Residuals:          4505                                  LLR p-value:         1.1621e-109\n",
      "Converged:             1.0000                                Scale:               1.0000     \n",
      "No. Iterations:        7.0000                                                                \n",
      "---------------------------------------------------------------------------------------------\n",
      "                                              Coef.  Std.Err.    z     P>|z|   [0.025  0.975]\n",
      "---------------------------------------------------------------------------------------------\n",
      "Living_alone                                  0.1896   0.1191   1.5915 0.1115 -0.0439  0.4230\n",
      "BCN_over_barri_satisfaction_of_living         0.4811   0.2307   2.0852 0.0371  0.0289  0.9333\n",
      "BCN_over_barri_transport                      0.3622   0.1430   2.5331 0.0113  0.0819  0.6424\n",
      "Time_living_in_barri_LESS THAN 10 YEARS       1.2575   0.2346   5.3609 0.0000  0.7977  1.7172\n",
      "Time_living_in_barri_MORE THAN 10 YEARS       0.4169   0.1660   2.5115 0.0120  0.0915  0.7423\n",
      "Barri_future_IT WILL IMPROVE                 -0.4150   0.1300  -3.1916 0.0014 -0.6699 -0.1602\n",
      "Barri_future_IT WILL STAY THE SAME           -0.4162   0.1538  -2.7061 0.0068 -0.7177 -0.1148\n",
      "Barri_satisfaction_of_living_SATISFIED       -0.7865   0.2002  -3.9279 0.0001 -1.1790 -0.3941\n",
      "Barri_comparison_ONE OF THE BEST             -1.5132   0.1166 -12.9793 0.0000 -1.7416 -1.2847\n",
      "Barri_comparison_ONE OF THE WORST             0.8853   0.1742   5.0809 0.0000  0.5438  1.2269\n",
      "GREEN AREAS_GOOD                             -0.2216   0.1286  -1.7228 0.0849 -0.4737  0.0305\n",
      "PUBLIC LIGHTING_GOOD                         -0.1839   0.1639  -1.1219 0.2619 -0.5052  0.1374\n",
      "ASPHALT AND STREET CONSERVATION_GOOD          0.1600   0.1285   1.2454 0.2130 -0.0918  0.4118\n",
      "BUS_GOOD                                     -0.2553   0.1604  -1.5920 0.1114 -0.5696  0.0590\n",
      "CITIZEN SECURITY IN THE CITY AS A WHOLE_GOOD  0.2614   0.1364   1.9156 0.0554 -0.0060  0.5287\n",
      "CITIZEN SECURITY IN THE NEIGHBORHOOD_GOOD    -0.3575   0.1391  -2.5704 0.0102 -0.6301 -0.0849\n",
      "House_size_51-100 M2                          0.2445   0.1832   1.3343 0.1821 -0.1146  0.6036\n",
      "House_size_< 50 M2                            0.3625   0.2447   1.4814 0.1385 -0.1171  0.8421\n",
      "House_size_> 150 M2                           0.4849   0.3103   1.5630 0.1181 -0.1232  1.0930\n",
      "Monthly_family_income_2001-3000 EUROS         0.1893   0.1510   1.2532 0.2101 -0.1068  0.4853\n",
      "Monthly_family_income_< 1000 EUROS           -0.0878   0.1257  -0.6983 0.4850 -0.3342  0.1586\n",
      "Monthly_family_income_> 3000 EUROS            0.3078   0.2095   1.4691 0.1418 -0.1028  0.7184\n",
      "Social_class_LOW                             -0.7825   0.3564  -2.1954 0.0281 -1.4810 -0.0839\n",
      "Social_class_MIDDLE-HIGH                     -1.0605   0.4406  -2.4068 0.0161 -1.9241 -0.1969\n",
      "Social_class_MIDDLE-LOW                      -0.7396   0.3362  -2.1997 0.0278 -1.3985 -0.0806\n",
      "Social_class_MIDDLE-MIDDLE                   -0.7192   0.3298  -2.1805 0.0292 -1.3657 -0.0727\n",
      "=============================================================================================\n",
      "\n"
     ]
    }
   ],
   "source": [
    "logit_model = sm.Logit(y,x)\n",
    "result=logit_model.fit()\n",
    "print(result.summary2())"
   ]
  },
  {
   "cell_type": "code",
   "execution_count": 25,
   "metadata": {},
   "outputs": [
    {
     "data": {
      "text/plain": [
       "Monthly_family_income_< 1000 EUROS              4.849643e-01\n",
       "PUBLIC LIGHTING_GOOD                            2.619169e-01\n",
       "ASPHALT AND STREET CONSERVATION_GOOD            2.129939e-01\n",
       "Monthly_family_income_2001-3000 EUROS           2.101440e-01\n",
       "House_size_51-100 M2                            1.821185e-01\n",
       "Monthly_family_income_> 3000 EUROS              1.418066e-01\n",
       "House_size_< 50 M2                              1.385030e-01\n",
       "House_size_> 150 M2                             1.180558e-01\n",
       "Living_alone                                    1.114939e-01\n",
       "BUS_GOOD                                        1.113939e-01\n",
       "GREEN AREAS_GOOD                                8.491731e-02\n",
       "CITIZEN SECURITY IN THE CITY AS A WHOLE_GOOD    5.540990e-02\n",
       "BCN_over_barri_satisfaction_of_living           3.705211e-02\n",
       "Social_class_MIDDLE-MIDDLE                      2.922364e-02\n",
       "Social_class_LOW                                2.813554e-02\n",
       "Social_class_MIDDLE-LOW                         2.783103e-02\n",
       "Social_class_MIDDLE-HIGH                        1.609302e-02\n",
       "Time_living_in_barri_MORE THAN 10 YEARS         1.202284e-02\n",
       "BCN_over_barri_transport                        1.130490e-02\n",
       "CITIZEN SECURITY IN THE NEIGHBORHOOD_GOOD       1.015870e-02\n",
       "Barri_future_IT WILL STAY THE SAME              6.807927e-03\n",
       "Barri_future_IT WILL IMPROVE                    1.414889e-03\n",
       "Barri_satisfaction_of_living_SATISFIED          8.569431e-05\n",
       "Barri_comparison_ONE OF THE WORST               3.756203e-07\n",
       "Time_living_in_barri_LESS THAN 10 YEARS         8.280408e-08\n",
       "Barri_comparison_ONE OF THE BEST                1.604013e-38\n",
       "dtype: float64"
      ]
     },
     "execution_count": 25,
     "metadata": {},
     "output_type": "execute_result"
    }
   ],
   "source": [
    "result.pvalues.sort_values(ascending=False)"
   ]
  },
  {
   "cell_type": "code",
   "execution_count": null,
   "metadata": {},
   "outputs": [],
   "source": []
  },
  {
   "cell_type": "code",
   "execution_count": 26,
   "metadata": {},
   "outputs": [],
   "source": [
    "for i in ['PUBLIC LIGHTING', 'ASPHALT AND STREET CONSERVATION', 'Monthly_family_income']:\n",
    "    x_var.remove(i)"
   ]
  },
  {
   "cell_type": "code",
   "execution_count": 27,
   "metadata": {},
   "outputs": [],
   "source": [
    "x = data[x_var]\n",
    "x = pd.get_dummies(x, drop_first = True)"
   ]
  },
  {
   "cell_type": "code",
   "execution_count": 28,
   "metadata": {},
   "outputs": [
    {
     "name": "stdout",
     "output_type": "stream",
     "text": [
      "Optimization terminated successfully.\n",
      "         Current function value: 0.307347\n",
      "         Iterations 7\n",
      "                                       Results: Logit\n",
      "=============================================================================================\n",
      "Model:                 Logit                                 Pseudo R-squared:    0.174      \n",
      "Dependent Variable:    Would_not_stay_in_the_neighborhood    AIC:                 2827.1809  \n",
      "Date:                  2021-04-12 23:25                      BIC:                 2961.9735  \n",
      "No. Observations:      4531                                  Log-Likelihood:      -1392.6    \n",
      "Df Model:              20                                    LL-Null:             -1686.8    \n",
      "Df Residuals:          4510                                  LLR p-value:         7.5502e-112\n",
      "Converged:             1.0000                                Scale:               1.0000     \n",
      "No. Iterations:        7.0000                                                                \n",
      "---------------------------------------------------------------------------------------------\n",
      "                                              Coef.  Std.Err.    z     P>|z|   [0.025  0.975]\n",
      "---------------------------------------------------------------------------------------------\n",
      "Living_alone                                  0.1148   0.1086   1.0575 0.2903 -0.0980  0.3276\n",
      "BCN_over_barri_satisfaction_of_living         0.4938   0.2303   2.1447 0.0320  0.0425  0.9452\n",
      "BCN_over_barri_transport                      0.3534   0.1427   2.4768 0.0133  0.0737  0.6331\n",
      "Time_living_in_barri_LESS THAN 10 YEARS       1.2757   0.2345   5.4395 0.0000  0.8160  1.7353\n",
      "Time_living_in_barri_MORE THAN 10 YEARS       0.4242   0.1660   2.5546 0.0106  0.0987  0.7496\n",
      "Barri_future_IT WILL IMPROVE                 -0.4084   0.1295  -3.1546 0.0016 -0.6621 -0.1547\n",
      "Barri_future_IT WILL STAY THE SAME           -0.4108   0.1535  -2.6766 0.0074 -0.7116 -0.1100\n",
      "Barri_satisfaction_of_living_SATISFIED       -0.7684   0.1998  -3.8465 0.0001 -1.1599 -0.3769\n",
      "Barri_comparison_ONE OF THE BEST             -1.4993   0.1162 -12.9046 0.0000 -1.7270 -1.2716\n",
      "Barri_comparison_ONE OF THE WORST             0.8799   0.1741   5.0546 0.0000  0.5387  1.2210\n",
      "GREEN AREAS_GOOD                             -0.2147   0.1256  -1.7099 0.0873 -0.4608  0.0314\n",
      "BUS_GOOD                                     -0.2499   0.1589  -1.5726 0.1158 -0.5612  0.0615\n",
      "CITIZEN SECURITY IN THE CITY AS A WHOLE_GOOD  0.2762   0.1355   2.0390 0.0414  0.0107  0.5417\n",
      "CITIZEN SECURITY IN THE NEIGHBORHOOD_GOOD    -0.3376   0.1378  -2.4495 0.0143 -0.6077 -0.0675\n",
      "House_size_51-100 M2                          0.1910   0.1809   1.0553 0.2913 -0.1637  0.5456\n",
      "House_size_< 50 M2                            0.2716   0.2406   1.1289 0.2589 -0.2000  0.7432\n",
      "House_size_> 150 M2                           0.5423   0.3089   1.7555 0.0792 -0.0632  1.1478\n",
      "Social_class_LOW                             -0.8453   0.3349  -2.5239 0.0116 -1.5018 -0.1889\n",
      "Social_class_MIDDLE-HIGH                     -0.9901   0.4224  -2.3441 0.0191 -1.8180 -0.1623\n",
      "Social_class_MIDDLE-LOW                      -0.7731   0.3168  -2.4406 0.0147 -1.3940 -0.1522\n",
      "Social_class_MIDDLE-MIDDLE                   -0.7064   0.3075  -2.2974 0.0216 -1.3090 -0.1038\n",
      "=============================================================================================\n",
      "\n"
     ]
    }
   ],
   "source": [
    "logit_model = sm.Logit(y,x)\n",
    "result=logit_model.fit()\n",
    "print(result.summary2())"
   ]
  },
  {
   "cell_type": "code",
   "execution_count": 29,
   "metadata": {},
   "outputs": [
    {
     "data": {
      "text/plain": [
       "House_size_51-100 M2                            2.912657e-01\n",
       "Living_alone                                    2.902985e-01\n",
       "House_size_< 50 M2                              2.589381e-01\n",
       "BUS_GOOD                                        1.158023e-01\n",
       "GREEN AREAS_GOOD                                8.728723e-02\n",
       "House_size_> 150 M2                             7.917136e-02\n",
       "CITIZEN SECURITY IN THE CITY AS A WHOLE_GOOD    4.144552e-02\n",
       "BCN_over_barri_satisfaction_of_living           3.197948e-02\n",
       "Social_class_MIDDLE-MIDDLE                      2.159359e-02\n",
       "Social_class_MIDDLE-HIGH                        1.907320e-02\n",
       "Social_class_MIDDLE-LOW                         1.466433e-02\n",
       "CITIZEN SECURITY IN THE NEIGHBORHOOD_GOOD       1.430642e-02\n",
       "BCN_over_barri_transport                        1.325539e-02\n",
       "Social_class_LOW                                1.160611e-02\n",
       "Time_living_in_barri_MORE THAN 10 YEARS         1.062948e-02\n",
       "Barri_future_IT WILL STAY THE SAME              7.438229e-03\n",
       "Barri_future_IT WILL IMPROVE                    1.607207e-03\n",
       "Barri_satisfaction_of_living_SATISFIED          1.198197e-04\n",
       "Barri_comparison_ONE OF THE WORST               4.313489e-07\n",
       "Time_living_in_barri_LESS THAN 10 YEARS         5.344013e-08\n",
       "Barri_comparison_ONE OF THE BEST                4.242189e-38\n",
       "dtype: float64"
      ]
     },
     "execution_count": 29,
     "metadata": {},
     "output_type": "execute_result"
    }
   ],
   "source": [
    "result.pvalues.sort_values(ascending=False)"
   ]
  },
  {
   "cell_type": "code",
   "execution_count": null,
   "metadata": {},
   "outputs": [],
   "source": []
  }
 ],
 "metadata": {
  "kernelspec": {
   "display_name": "Python 3",
   "language": "python",
   "name": "python3"
  },
  "language_info": {
   "codemirror_mode": {
    "name": "ipython",
    "version": 3
   },
   "file_extension": ".py",
   "mimetype": "text/x-python",
   "name": "python",
   "nbconvert_exporter": "python",
   "pygments_lexer": "ipython3",
   "version": "3.7.6"
  }
 },
 "nbformat": 4,
 "nbformat_minor": 4
}
