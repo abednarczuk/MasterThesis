{
 "cells": [
  {
   "cell_type": "markdown",
   "metadata": {},
   "source": [
    "Aleksandra Bednarczuk"
   ]
  },
  {
   "cell_type": "markdown",
   "metadata": {},
   "source": [
    "# Predictors of elderly citizens willingness to stay in the neighbourhood\n",
    "# Logistic regression"
   ]
  },
  {
   "cell_type": "markdown",
   "metadata": {},
   "source": [
    "Original dataset, including barris among predictors"
   ]
  },
  {
   "cell_type": "code",
   "execution_count": 1,
   "metadata": {},
   "outputs": [],
   "source": [
    "import pandas as pd\n",
    "import numpy as np\n",
    "\n",
    "import matplotlib.pyplot as plt"
   ]
  },
  {
   "cell_type": "code",
   "execution_count": 2,
   "metadata": {},
   "outputs": [],
   "source": [
    "from imblearn.over_sampling import SMOTE\n",
    "\n",
    "import statsmodels.api as sm\n",
    "import statsmodels.formula.api as smf\n",
    "\n",
    "from sklearn.model_selection import train_test_split\n",
    "from sklearn.feature_selection import RFE\n",
    "from sklearn.linear_model import LogisticRegression\n",
    "\n",
    "from sklearn.metrics import accuracy_score\n",
    "from sklearn.metrics import classification_report\n",
    "from sklearn.metrics import confusion_matrix\n",
    "from sklearn.metrics import roc_auc_score\n",
    "from sklearn.metrics import roc_curve\n",
    "from sklearn.metrics import r2_score\n",
    "\n",
    "from sklearn.feature_selection import SelectKBest\n",
    "from sklearn.feature_selection import chi2\n",
    "from sklearn.feature_selection import mutual_info_classif\n",
    "from sklearn.feature_selection import f_classif\n",
    "from sklearn.preprocessing import LabelEncoder\n",
    "from sklearn.preprocessing import OrdinalEncoder\n",
    "\n",
    "from scipy import stats"
   ]
  },
  {
   "cell_type": "code",
   "execution_count": null,
   "metadata": {},
   "outputs": [],
   "source": []
  },
  {
   "cell_type": "code",
   "execution_count": 3,
   "metadata": {},
   "outputs": [],
   "source": [
    "data = pd.read_pickle(\"survey_transformed.pkl\")"
   ]
  },
  {
   "cell_type": "code",
   "execution_count": 4,
   "metadata": {},
   "outputs": [
    {
     "data": {
      "text/html": [
       "<div>\n",
       "<style scoped>\n",
       "    .dataframe tbody tr th:only-of-type {\n",
       "        vertical-align: middle;\n",
       "    }\n",
       "\n",
       "    .dataframe tbody tr th {\n",
       "        vertical-align: top;\n",
       "    }\n",
       "\n",
       "    .dataframe thead th {\n",
       "        text-align: right;\n",
       "    }\n",
       "</style>\n",
       "<table border=\"1\" class=\"dataframe\">\n",
       "  <thead>\n",
       "    <tr style=\"text-align: right;\">\n",
       "      <th></th>\n",
       "      <th>ANY</th>\n",
       "      <th>Would_live_in_another_neighborhood</th>\n",
       "      <th>District</th>\n",
       "      <th>Gender</th>\n",
       "      <th>Place_of_birth</th>\n",
       "      <th>Time_living_in_barri</th>\n",
       "      <th>Barri_evolution</th>\n",
       "      <th>BCN_evolution</th>\n",
       "      <th>Barri_future</th>\n",
       "      <th>BCN_future</th>\n",
       "      <th>...</th>\n",
       "      <th>House_size</th>\n",
       "      <th>Monthly_family_income</th>\n",
       "      <th>Social_class</th>\n",
       "      <th>Living_alone</th>\n",
       "      <th>BCN_over_barri_evolution</th>\n",
       "      <th>BCN_over_barri_future</th>\n",
       "      <th>BCN_over_barri_satisfaction_of_living</th>\n",
       "      <th>BCN_over_barri_transport</th>\n",
       "      <th>BCN_over_barri_management</th>\n",
       "      <th>BCN_over_barri_citizen_security</th>\n",
       "    </tr>\n",
       "  </thead>\n",
       "  <tbody>\n",
       "    <tr>\n",
       "      <th>0</th>\n",
       "      <td>2008</td>\n",
       "      <td>0.0</td>\n",
       "      <td>CIUTAT VELLA</td>\n",
       "      <td>1</td>\n",
       "      <td>BARCELONA</td>\n",
       "      <td>I HAVE ALWAYS LIVED IN THE NEIGHBORHOOD</td>\n",
       "      <td>IT IS THE SAME</td>\n",
       "      <td>IT IS WORSE</td>\n",
       "      <td>IT WILL STAY THE SAME</td>\n",
       "      <td>IT WILL GET WORSE</td>\n",
       "      <td>...</td>\n",
       "      <td>&lt; 50 M2</td>\n",
       "      <td>&lt; 1000 EUROS</td>\n",
       "      <td>MIDDLE-MIDDLE</td>\n",
       "      <td>ONE</td>\n",
       "      <td>0</td>\n",
       "      <td>0</td>\n",
       "      <td>0</td>\n",
       "      <td>0</td>\n",
       "      <td>0</td>\n",
       "      <td>0</td>\n",
       "    </tr>\n",
       "    <tr>\n",
       "      <th>1</th>\n",
       "      <td>2008</td>\n",
       "      <td>0.0</td>\n",
       "      <td>CIUTAT VELLA</td>\n",
       "      <td>1</td>\n",
       "      <td>REST OF SPAIN</td>\n",
       "      <td>MORE THAN 10 YEARS</td>\n",
       "      <td>IT IS THE SAME</td>\n",
       "      <td>IT HAS IMPROVED</td>\n",
       "      <td>IT WILL IMPROVE</td>\n",
       "      <td>IT WILL IMPROVE</td>\n",
       "      <td>...</td>\n",
       "      <td>51-100 M2</td>\n",
       "      <td>&lt; 1000 EUROS</td>\n",
       "      <td>LOW</td>\n",
       "      <td>TWO</td>\n",
       "      <td>1</td>\n",
       "      <td>0</td>\n",
       "      <td>0</td>\n",
       "      <td>0</td>\n",
       "      <td>0</td>\n",
       "      <td>0</td>\n",
       "    </tr>\n",
       "    <tr>\n",
       "      <th>3</th>\n",
       "      <td>2008</td>\n",
       "      <td>0.0</td>\n",
       "      <td>CIUTAT VELLA</td>\n",
       "      <td>0</td>\n",
       "      <td>REST OF CATALONIA</td>\n",
       "      <td>MORE THAN 10 YEARS</td>\n",
       "      <td>IT HAS IMPROVED</td>\n",
       "      <td>IT IS WORSE</td>\n",
       "      <td>IT WILL IMPROVE</td>\n",
       "      <td>IT WILL GET WORSE</td>\n",
       "      <td>...</td>\n",
       "      <td>51-100 M2</td>\n",
       "      <td>1001-2000 EUROS</td>\n",
       "      <td>MIDDLE-LOW</td>\n",
       "      <td>THREE</td>\n",
       "      <td>0</td>\n",
       "      <td>0</td>\n",
       "      <td>0</td>\n",
       "      <td>0</td>\n",
       "      <td>0</td>\n",
       "      <td>0</td>\n",
       "    </tr>\n",
       "    <tr>\n",
       "      <th>5</th>\n",
       "      <td>2008</td>\n",
       "      <td>0.0</td>\n",
       "      <td>CIUTAT VELLA</td>\n",
       "      <td>0</td>\n",
       "      <td>BARCELONA</td>\n",
       "      <td>I HAVE ALWAYS LIVED IN THE NEIGHBORHOOD</td>\n",
       "      <td>IT IS THE SAME</td>\n",
       "      <td>IT IS WORSE</td>\n",
       "      <td>IT WILL IMPROVE</td>\n",
       "      <td>IT WILL STAY THE SAME</td>\n",
       "      <td>...</td>\n",
       "      <td>51-100 M2</td>\n",
       "      <td>&lt; 1000 EUROS</td>\n",
       "      <td>MIDDLE-LOW</td>\n",
       "      <td>THREE</td>\n",
       "      <td>0</td>\n",
       "      <td>0</td>\n",
       "      <td>0</td>\n",
       "      <td>0</td>\n",
       "      <td>0</td>\n",
       "      <td>0</td>\n",
       "    </tr>\n",
       "    <tr>\n",
       "      <th>6</th>\n",
       "      <td>2008</td>\n",
       "      <td>0.0</td>\n",
       "      <td>CIUTAT VELLA</td>\n",
       "      <td>1</td>\n",
       "      <td>BARCELONA</td>\n",
       "      <td>I HAVE ALWAYS LIVED IN THE NEIGHBORHOOD</td>\n",
       "      <td>IT IS WORSE</td>\n",
       "      <td>IT IS WORSE</td>\n",
       "      <td>IT WILL GET WORSE</td>\n",
       "      <td>IT WILL GET WORSE</td>\n",
       "      <td>...</td>\n",
       "      <td>51-100 M2</td>\n",
       "      <td>&lt; 1000 EUROS</td>\n",
       "      <td>LOW</td>\n",
       "      <td>ONE</td>\n",
       "      <td>0</td>\n",
       "      <td>0</td>\n",
       "      <td>1</td>\n",
       "      <td>0</td>\n",
       "      <td>0</td>\n",
       "      <td>0</td>\n",
       "    </tr>\n",
       "  </tbody>\n",
       "</table>\n",
       "<p>5 rows × 40 columns</p>\n",
       "</div>"
      ],
      "text/plain": [
       "    ANY  Would_live_in_another_neighborhood      District  Gender  \\\n",
       "0  2008                                 0.0  CIUTAT VELLA       1   \n",
       "1  2008                                 0.0  CIUTAT VELLA       1   \n",
       "3  2008                                 0.0  CIUTAT VELLA       0   \n",
       "5  2008                                 0.0  CIUTAT VELLA       0   \n",
       "6  2008                                 0.0  CIUTAT VELLA       1   \n",
       "\n",
       "      Place_of_birth                     Time_living_in_barri  \\\n",
       "0          BARCELONA  I HAVE ALWAYS LIVED IN THE NEIGHBORHOOD   \n",
       "1      REST OF SPAIN                       MORE THAN 10 YEARS   \n",
       "3  REST OF CATALONIA                       MORE THAN 10 YEARS   \n",
       "5          BARCELONA  I HAVE ALWAYS LIVED IN THE NEIGHBORHOOD   \n",
       "6          BARCELONA  I HAVE ALWAYS LIVED IN THE NEIGHBORHOOD   \n",
       "\n",
       "   Barri_evolution    BCN_evolution           Barri_future  \\\n",
       "0   IT IS THE SAME      IT IS WORSE  IT WILL STAY THE SAME   \n",
       "1   IT IS THE SAME  IT HAS IMPROVED        IT WILL IMPROVE   \n",
       "3  IT HAS IMPROVED      IT IS WORSE        IT WILL IMPROVE   \n",
       "5   IT IS THE SAME      IT IS WORSE        IT WILL IMPROVE   \n",
       "6      IT IS WORSE      IT IS WORSE      IT WILL GET WORSE   \n",
       "\n",
       "              BCN_future  ... House_size Monthly_family_income   Social_class  \\\n",
       "0      IT WILL GET WORSE  ...    < 50 M2          < 1000 EUROS  MIDDLE-MIDDLE   \n",
       "1        IT WILL IMPROVE  ...  51-100 M2          < 1000 EUROS            LOW   \n",
       "3      IT WILL GET WORSE  ...  51-100 M2       1001-2000 EUROS     MIDDLE-LOW   \n",
       "5  IT WILL STAY THE SAME  ...  51-100 M2          < 1000 EUROS     MIDDLE-LOW   \n",
       "6      IT WILL GET WORSE  ...  51-100 M2          < 1000 EUROS            LOW   \n",
       "\n",
       "  Living_alone BCN_over_barri_evolution BCN_over_barri_future  \\\n",
       "0          ONE                        0                     0   \n",
       "1          TWO                        1                     0   \n",
       "3        THREE                        0                     0   \n",
       "5        THREE                        0                     0   \n",
       "6          ONE                        0                     0   \n",
       "\n",
       "  BCN_over_barri_satisfaction_of_living BCN_over_barri_transport  \\\n",
       "0                                     0                        0   \n",
       "1                                     0                        0   \n",
       "3                                     0                        0   \n",
       "5                                     0                        0   \n",
       "6                                     1                        0   \n",
       "\n",
       "  BCN_over_barri_management BCN_over_barri_citizen_security  \n",
       "0                         0                               0  \n",
       "1                         0                               0  \n",
       "3                         0                               0  \n",
       "5                         0                               0  \n",
       "6                         0                               0  \n",
       "\n",
       "[5 rows x 40 columns]"
      ]
     },
     "execution_count": 4,
     "metadata": {},
     "output_type": "execute_result"
    }
   ],
   "source": [
    "data.head()"
   ]
  },
  {
   "cell_type": "code",
   "execution_count": 5,
   "metadata": {},
   "outputs": [
    {
     "data": {
      "text/plain": [
       "(15091, 40)"
      ]
     },
     "execution_count": 5,
     "metadata": {},
     "output_type": "execute_result"
    }
   ],
   "source": [
    "data.shape"
   ]
  },
  {
   "cell_type": "code",
   "execution_count": 6,
   "metadata": {},
   "outputs": [
    {
     "data": {
      "text/plain": [
       "['ANY',\n",
       " 'Would_live_in_another_neighborhood',\n",
       " 'District',\n",
       " 'Gender',\n",
       " 'Place_of_birth',\n",
       " 'Time_living_in_barri',\n",
       " 'Barri_evolution',\n",
       " 'BCN_evolution',\n",
       " 'Barri_future',\n",
       " 'BCN_future',\n",
       " 'Barri_satisfaction_of_living',\n",
       " 'BCN_satisfaction_of_living',\n",
       " 'Barri_citizen_security',\n",
       " 'BCN_citizen_security',\n",
       " 'Barri_management',\n",
       " 'BCN_management',\n",
       " 'Barri_comparison',\n",
       " 'STREETS CLEANING',\n",
       " 'NOISE',\n",
       " 'GREEN AREAS',\n",
       " 'PUBLIC LIGHTING',\n",
       " 'URBANISM',\n",
       " 'ASPHALT AND STREET CONSERVATION',\n",
       " 'CIRCULATION',\n",
       " 'BUS',\n",
       " 'SUBWAY',\n",
       " 'MUNICIPAL MARKETS',\n",
       " 'Barri_transport',\n",
       " 'BCN_transport',\n",
       " 'Owns_a_car',\n",
       " 'House_size',\n",
       " 'Monthly_family_income',\n",
       " 'Social_class',\n",
       " 'Living_alone',\n",
       " 'BCN_over_barri_evolution',\n",
       " 'BCN_over_barri_future',\n",
       " 'BCN_over_barri_satisfaction_of_living',\n",
       " 'BCN_over_barri_transport',\n",
       " 'BCN_over_barri_management',\n",
       " 'BCN_over_barri_citizen_security']"
      ]
     },
     "execution_count": 6,
     "metadata": {},
     "output_type": "execute_result"
    }
   ],
   "source": [
    "data.columns.tolist()"
   ]
  },
  {
   "cell_type": "code",
   "execution_count": 7,
   "metadata": {},
   "outputs": [],
   "source": [
    "x_var = data.columns.tolist()"
   ]
  },
  {
   "cell_type": "code",
   "execution_count": 8,
   "metadata": {},
   "outputs": [],
   "source": [
    "for i in ['ANY', 'Would_live_in_another_neighborhood',\n",
    "          'BCN_evolution', 'BCN_future', 'BCN_satisfaction_of_living', 'BCN_transport',\n",
    "          'BCN_citizen_security', 'BCN_management']:\n",
    "    x_var.remove(i)"
   ]
  },
  {
   "cell_type": "code",
   "execution_count": 9,
   "metadata": {},
   "outputs": [],
   "source": [
    "x = data[x_var]"
   ]
  },
  {
   "cell_type": "code",
   "execution_count": 10,
   "metadata": {},
   "outputs": [],
   "source": [
    "y = data['Would_live_in_another_neighborhood']"
   ]
  },
  {
   "cell_type": "code",
   "execution_count": null,
   "metadata": {},
   "outputs": [],
   "source": []
  },
  {
   "cell_type": "code",
   "execution_count": 11,
   "metadata": {},
   "outputs": [],
   "source": [
    "x = pd.get_dummies(x, drop_first=True)"
   ]
  },
  {
   "cell_type": "code",
   "execution_count": 12,
   "metadata": {
    "scrolled": true
   },
   "outputs": [
    {
     "data": {
      "text/plain": [
       "['Gender',\n",
       " 'Owns_a_car',\n",
       " 'BCN_over_barri_evolution',\n",
       " 'BCN_over_barri_future',\n",
       " 'BCN_over_barri_satisfaction_of_living',\n",
       " 'BCN_over_barri_transport',\n",
       " 'BCN_over_barri_management',\n",
       " 'BCN_over_barri_citizen_security',\n",
       " 'District_EIXAMPLE',\n",
       " 'District_GRÀCIA',\n",
       " 'District_HORTA - GUINARDÓ',\n",
       " 'District_LES CORTS',\n",
       " 'District_NOU BARRIS',\n",
       " 'District_SANT ANDREU',\n",
       " 'District_SANT MARTÍ',\n",
       " 'District_SANTS - MONTJUÏC',\n",
       " 'District_SARRIÀ - SANT GERVASI',\n",
       " 'Place_of_birth_FOREIGN',\n",
       " 'Place_of_birth_REST OF CATALONIA',\n",
       " 'Place_of_birth_REST OF SPAIN',\n",
       " 'Time_living_in_barri_LESS THAN 10 YEARS',\n",
       " 'Time_living_in_barri_MORE THAN 10 YEARS',\n",
       " 'Barri_evolution_IT IS THE SAME',\n",
       " 'Barri_evolution_IT IS WORSE',\n",
       " 'Barri_future_IT WILL IMPROVE',\n",
       " 'Barri_future_IT WILL STAY THE SAME',\n",
       " 'Barri_satisfaction_of_living_NOT SATISFIED',\n",
       " 'Barri_satisfaction_of_living_SATISFIED',\n",
       " 'Barri_citizen_security_GOOD',\n",
       " 'Barri_citizen_security_NEITHER BAD, NOR GOOD',\n",
       " 'Barri_management_GOOD',\n",
       " 'Barri_management_NEITHER BAD, NOR GOOD',\n",
       " 'Barri_comparison_ONE OF THE BEST',\n",
       " 'Barri_comparison_ONE OF THE WORST',\n",
       " 'STREETS CLEANING_GOOD',\n",
       " 'STREETS CLEANING_NEITHER BAD, NOR GOOD',\n",
       " 'NOISE_GOOD',\n",
       " 'NOISE_NEITHER BAD, NOR GOOD',\n",
       " 'GREEN AREAS_GOOD',\n",
       " 'GREEN AREAS_NEITHER BAD, NOR GOOD',\n",
       " 'PUBLIC LIGHTING_GOOD',\n",
       " 'PUBLIC LIGHTING_NEITHER BAD, NOR GOOD',\n",
       " 'URBANISM_GOOD',\n",
       " 'URBANISM_NEITHER BAD, NOR GOOD',\n",
       " 'ASPHALT AND STREET CONSERVATION_GOOD',\n",
       " 'ASPHALT AND STREET CONSERVATION_NEITHER BAD, NOR GOOD',\n",
       " 'CIRCULATION_GOOD',\n",
       " 'CIRCULATION_NEITHER BAD, NOR GOOD',\n",
       " 'BUS_GOOD',\n",
       " 'BUS_NEITHER BAD, NOR GOOD',\n",
       " 'SUBWAY_GOOD',\n",
       " 'SUBWAY_NEITHER BAD, NOR GOOD',\n",
       " 'MUNICIPAL MARKETS_GOOD',\n",
       " 'MUNICIPAL MARKETS_NEITHER BAD, NOR GOOD',\n",
       " 'Barri_transport_GOOD',\n",
       " 'Barri_transport_NEITHER BAD, NOR GOOD',\n",
       " 'House_size_51-100 M2',\n",
       " 'House_size_< 50 M2',\n",
       " 'House_size_> 150 M2',\n",
       " \"House_size_I DON'T KNOW\",\n",
       " 'Monthly_family_income_2001-3000 EUROS',\n",
       " 'Monthly_family_income_< 1000 EUROS',\n",
       " 'Monthly_family_income_> 3000 EUROS',\n",
       " \"Monthly_family_income_I DON'T KNOW / NO ANSWER\",\n",
       " \"Social_class_I DON'T KNOW\",\n",
       " 'Social_class_LOW',\n",
       " 'Social_class_MIDDLE-HIGH',\n",
       " 'Social_class_MIDDLE-LOW',\n",
       " 'Social_class_MIDDLE-MIDDLE',\n",
       " 'Living_alone_ONE',\n",
       " 'Living_alone_THREE',\n",
       " 'Living_alone_TWO']"
      ]
     },
     "execution_count": 12,
     "metadata": {},
     "output_type": "execute_result"
    }
   ],
   "source": [
    "x.columns.tolist()"
   ]
  },
  {
   "cell_type": "code",
   "execution_count": 13,
   "metadata": {},
   "outputs": [],
   "source": [
    "x = sm.add_constant(x)"
   ]
  },
  {
   "cell_type": "code",
   "execution_count": 14,
   "metadata": {
    "scrolled": false
   },
   "outputs": [
    {
     "name": "stdout",
     "output_type": "stream",
     "text": [
      "Optimization terminated successfully.\n",
      "         Current function value: 0.277509\n",
      "         Iterations 8\n",
      "                                            Results: Logit\n",
      "======================================================================================================\n",
      "Model:                      Logit                                    Pseudo R-squared:       0.192    \n",
      "Dependent Variable:         Would_live_in_another_neighborhood       AIC:                    8521.7888\n",
      "Date:                       2021-05-02 12:49                         BIC:                    9078.1841\n",
      "No. Observations:           15091                                    Log-Likelihood:         -4187.9  \n",
      "Df Model:                   72                                       LL-Null:                -5181.0  \n",
      "Df Residuals:               15018                                    LLR p-value:            0.0000   \n",
      "Converged:                  1.0000                                   Scale:                  1.0000   \n",
      "No. Iterations:             8.0000                                                                    \n",
      "------------------------------------------------------------------------------------------------------\n",
      "                                                       Coef.  Std.Err.    z     P>|z|   [0.025  0.975]\n",
      "------------------------------------------------------------------------------------------------------\n",
      "const                                                 -1.7356   0.8623  -2.0127 0.0441 -3.4256 -0.0455\n",
      "Gender                                                 0.0878   0.0635   1.3828 0.1667 -0.0366  0.2121\n",
      "Owns_a_car                                             0.1803   0.0683   2.6391 0.0083  0.0464  0.3142\n",
      "BCN_over_barri_evolution                              -0.0238   0.1047  -0.2271 0.8204 -0.2291  0.1815\n",
      "BCN_over_barri_future                                  0.1927   0.0873   2.2064 0.0274  0.0215  0.3638\n",
      "BCN_over_barri_satisfaction_of_living                  0.3681   0.1332   2.7638 0.0057  0.1071  0.6292\n",
      "BCN_over_barri_transport                               0.2106   0.1547   1.3616 0.1733 -0.0925  0.5137\n",
      "BCN_over_barri_management                              0.5137   0.3501   1.4675 0.1422 -0.1724  1.1999\n",
      "BCN_over_barri_citizen_security                        0.0735   0.3901   0.1884 0.8506 -0.6911  0.8381\n",
      "District_EIXAMPLE                                     -0.5049   0.1296  -3.8959 0.0001 -0.7589 -0.2509\n",
      "District_GRÀCIA                                       -0.2941   0.1504  -1.9561 0.0505 -0.5888  0.0006\n",
      "District_HORTA - GUINARDÓ                              0.0009   0.1296   0.0071 0.9943 -0.2532  0.2550\n",
      "District_LES CORTS                                    -0.6000   0.1734  -3.4598 0.0005 -0.9399 -0.2601\n",
      "District_NOU BARRIS                                   -0.0362   0.1280  -0.2832 0.7770 -0.2871  0.2146\n",
      "District_SANT ANDREU                                  -0.1769   0.1372  -1.2891 0.1974 -0.4458  0.0921\n",
      "District_SANT MARTÍ                                   -0.2516   0.1297  -1.9402 0.0523 -0.5059  0.0026\n",
      "District_SANTS - MONTJUÏC                             -0.0608   0.1265  -0.4807 0.6307 -0.3088  0.1872\n",
      "District_SARRIÀ - SANT GERVASI                        -0.8034   0.1823  -4.4080 0.0000 -1.1606 -0.4462\n",
      "Place_of_birth_FOREIGN                                -0.2298   0.1493  -1.5391 0.1238 -0.5225  0.0628\n",
      "Place_of_birth_REST OF CATALONIA                      -0.4331   0.1000  -4.3295 0.0000 -0.6291 -0.2370\n",
      "Place_of_birth_REST OF SPAIN                          -0.5488   0.0703  -7.8124 0.0000 -0.6865 -0.4111\n",
      "Time_living_in_barri_LESS THAN 10 YEARS                1.6311   0.1354  12.0459 0.0000  1.3657  1.8965\n",
      "Time_living_in_barri_MORE THAN 10 YEARS                0.7147   0.0991   7.2109 0.0000  0.5204  0.9089\n",
      "Barri_evolution_IT IS THE SAME                        -0.1075   0.0799  -1.3464 0.1782 -0.2641  0.0490\n",
      "Barri_evolution_IT IS WORSE                           -0.0636   0.0922  -0.6901 0.4901 -0.2444  0.1171\n",
      "Barri_future_IT WILL IMPROVE                          -0.2863   0.0978  -2.9271 0.0034 -0.4780 -0.0946\n",
      "Barri_future_IT WILL STAY THE SAME                    -0.2471   0.0920  -2.6846 0.0073 -0.4275 -0.0667\n",
      "Barri_satisfaction_of_living_NOT SATISFIED             0.9737   0.2043   4.7669 0.0000  0.5733  1.3740\n",
      "Barri_satisfaction_of_living_SATISFIED                -0.8365   0.1206  -6.9364 0.0000 -1.0729 -0.6002\n",
      "Barri_citizen_security_GOOD                           -0.0620   0.0938  -0.6614 0.5083 -0.2458  0.1218\n",
      "Barri_citizen_security_NEITHER BAD, NOR GOOD          -0.1355   0.0812  -1.6689 0.0951 -0.2946  0.0236\n",
      "Barri_management_GOOD                                 -0.0685   0.1363  -0.5021 0.6156 -0.3357  0.1988\n",
      "Barri_management_NEITHER BAD, NOR GOOD                 0.0255   0.1262   0.2020 0.8399 -0.2218  0.2728\n",
      "Barri_comparison_ONE OF THE BEST                      -1.3028   0.0698 -18.6737 0.0000 -1.4395 -1.1661\n",
      "Barri_comparison_ONE OF THE WORST                      0.9293   0.1105   8.4113 0.0000  0.7127  1.1458\n",
      "STREETS CLEANING_GOOD                                 -0.1010   0.1084  -0.9319 0.3514 -0.3134  0.1114\n",
      "STREETS CLEANING_NEITHER BAD, NOR GOOD                 0.0276   0.1055   0.2614 0.7938 -0.1792  0.2344\n",
      "NOISE_GOOD                                            -0.1980   0.0898  -2.2054 0.0274 -0.3740 -0.0220\n",
      "NOISE_NEITHER BAD, NOR GOOD                           -0.3177   0.0786  -4.0425 0.0001 -0.4718 -0.1637\n",
      "GREEN AREAS_GOOD                                      -0.1523   0.1150  -1.3242 0.1854 -0.3776  0.0731\n",
      "GREEN AREAS_NEITHER BAD, NOR GOOD                      0.0301   0.1083   0.2781 0.7810 -0.1821  0.2423\n",
      "PUBLIC LIGHTING_GOOD                                  -0.4387   0.1467  -2.9902 0.0028 -0.7263 -0.1512\n",
      "PUBLIC LIGHTING_NEITHER BAD, NOR GOOD                 -0.4704   0.1452  -3.2395 0.0012 -0.7550 -0.1858\n",
      "URBANISM_GOOD                                         -0.1013   0.1443  -0.7017 0.4828 -0.3842  0.1816\n",
      "URBANISM_NEITHER BAD, NOR GOOD                        -0.0390   0.1345  -0.2897 0.7721 -0.3027  0.2247\n",
      "ASPHALT AND STREET CONSERVATION_GOOD                   0.1841   0.1156   1.5936 0.1110 -0.0423  0.4106\n",
      "ASPHALT AND STREET CONSERVATION_NEITHER BAD, NOR GOOD  0.0784   0.1055   0.7432 0.4574 -0.1284  0.2852\n",
      "CIRCULATION_GOOD                                       0.0353   0.1039   0.3399 0.7339 -0.1684  0.2390\n",
      "CIRCULATION_NEITHER BAD, NOR GOOD                      0.1464   0.0841   1.7410 0.0817 -0.0184  0.3111\n",
      "BUS_GOOD                                              -0.0731   0.1479  -0.4943 0.6211 -0.3630  0.2168\n",
      "BUS_NEITHER BAD, NOR GOOD                             -0.0586   0.1454  -0.4034 0.6866 -0.3436  0.2263\n",
      "SUBWAY_GOOD                                            0.1331   0.2437   0.5462 0.5849 -0.3446  0.6108\n",
      "SUBWAY_NEITHER BAD, NOR GOOD                          -0.0078   0.2452  -0.0317 0.9747 -0.4884  0.4728\n",
      "MUNICIPAL MARKETS_GOOD                                 0.3896   0.1754   2.2206 0.0264  0.0457  0.7334\n",
      "MUNICIPAL MARKETS_NEITHER BAD, NOR GOOD                0.2975   0.1773   1.6779 0.0934 -0.0500  0.6451\n",
      "Barri_transport_GOOD                                  -0.1003   0.1138  -0.8810 0.3783 -0.3234  0.1228\n",
      "Barri_transport_NEITHER BAD, NOR GOOD                  0.0254   0.1340   0.1899 0.8494 -0.2371  0.2880\n",
      "House_size_51-100 M2                                   0.1721   0.1093   1.5755 0.1151 -0.0420  0.3863\n",
      "House_size_< 50 M2                                     0.1291   0.1502   0.8594 0.3901 -0.1653  0.4234\n",
      "House_size_> 150 M2                                    0.0135   0.2007   0.0674 0.9463 -0.3798  0.4068\n",
      "House_size_I DON'T KNOW                               -0.0903   0.1616  -0.5588 0.5763 -0.4071  0.2264\n",
      "Monthly_family_income_2001-3000 EUROS                  0.1188   0.1099   1.0814 0.2795 -0.0965  0.3342\n",
      "Monthly_family_income_< 1000 EUROS                    -0.0552   0.0826  -0.6686 0.5037 -0.2171  0.1067\n",
      "Monthly_family_income_> 3000 EUROS                     0.2745   0.1531   1.7926 0.0730 -0.0256  0.5746\n",
      "Monthly_family_income_I DON'T KNOW / NO ANSWER        -0.0442   0.0781  -0.5661 0.5713 -0.1973  0.1089\n",
      "Social_class_I DON'T KNOW                              0.1477   0.7957   0.1856 0.8527 -1.4118  1.7072\n",
      "Social_class_LOW                                       0.7956   0.7692   1.0343 0.3010 -0.7120  2.3033\n",
      "Social_class_MIDDLE-HIGH                               0.8146   0.7767   1.0487 0.2943 -0.7078  2.3369\n",
      "Social_class_MIDDLE-LOW                                0.7579   0.7661   0.9893 0.3225 -0.7436  2.2594\n",
      "Social_class_MIDDLE-MIDDLE                             0.6212   0.7651   0.8119 0.4169 -0.8784  2.1208\n",
      "Living_alone_ONE                                       0.2636   0.1481   1.7801 0.0751 -0.0266  0.5538\n",
      "Living_alone_THREE                                     0.0534   0.1581   0.3377 0.7356 -0.2565  0.3633\n",
      "Living_alone_TWO                                       0.1975   0.1375   1.4360 0.1510 -0.0721  0.4670\n",
      "======================================================================================================\n",
      "\n"
     ]
    }
   ],
   "source": [
    "logit_model = sm.Logit(y,x)\n",
    "result=logit_model.fit()\n",
    "print(result.summary2())"
   ]
  },
  {
   "cell_type": "code",
   "execution_count": 15,
   "metadata": {},
   "outputs": [
    {
     "data": {
      "image/png": "[encoded data removed]",
      "text/plain": [
       "<Figure size 432x288 with 1 Axes>"
      ]
     },
     "metadata": {
      "needs_background": "light"
     },
     "output_type": "display_data"
    }
   ],
   "source": [
    "logit_roc_auc = roc_auc_score(y, result.predict(x))\n",
    "fpr, tpr, thresholds = roc_curve(y, result.predict(x))\n",
    "plt.figure()\n",
    "plt.plot(fpr, tpr, label='Logistic Regression (area = %0.2f)' % logit_roc_auc)\n",
    "plt.plot([0, 1], [0, 1],'r--')\n",
    "plt.xlim([0.0, 1.0])\n",
    "plt.ylim([0.0, 1.05])\n",
    "plt.xlabel('False Positive Rate')\n",
    "plt.ylabel('True Positive Rate')\n",
    "plt.title('Receiver operating characteristic')\n",
    "plt.legend(loc=\"lower right\")\n",
    "#plt.savefig('Log_ROC')\n",
    "plt.show()"
   ]
  },
  {
   "cell_type": "code",
   "execution_count": null,
   "metadata": {},
   "outputs": [],
   "source": []
  },
  {
   "cell_type": "code",
   "execution_count": null,
   "metadata": {},
   "outputs": [],
   "source": [
    "for i in ['House_size', 'Monthly_family_income', 'Social_class']:\n",
    "    x_var.remove(i)"
   ]
  },
  {
   "cell_type": "code",
   "execution_count": null,
   "metadata": {},
   "outputs": [],
   "source": [
    "x = data[x_var]\n",
    "x = pd.get_dummies(x, drop_first = True)\n",
    "x = sm.add_constant(x)"
   ]
  },
  {
   "cell_type": "code",
   "execution_count": null,
   "metadata": {},
   "outputs": [],
   "source": [
    "logit_model = sm.Logit(y,x)\n",
    "result=logit_model.fit()\n",
    "print(result.summary2())"
   ]
  },
  {
   "cell_type": "code",
   "execution_count": null,
   "metadata": {},
   "outputs": [],
   "source": [
    "logit_roc_auc = roc_auc_score(y, result.predict(x))\n",
    "fpr, tpr, thresholds = roc_curve(y, result.predict(x))\n",
    "plt.figure()\n",
    "plt.plot(fpr, tpr, label='Logistic Regression (area = %0.2f)' % logit_roc_auc)\n",
    "plt.plot([0, 1], [0, 1],'r--')\n",
    "plt.xlim([0.0, 1.0])\n",
    "plt.ylim([0.0, 1.05])\n",
    "plt.xlabel('False Positive Rate')\n",
    "plt.ylabel('True Positive Rate')\n",
    "plt.title('Receiver operating characteristic')\n",
    "plt.legend(loc=\"lower right\")\n",
    "#plt.savefig('Log_ROC')\n",
    "plt.show()"
   ]
  },
  {
   "cell_type": "code",
   "execution_count": null,
   "metadata": {},
   "outputs": [],
   "source": [
    "result.pvalues.sort_values(ascending=False)"
   ]
  },
  {
   "cell_type": "code",
   "execution_count": null,
   "metadata": {},
   "outputs": [],
   "source": []
  },
  {
   "cell_type": "code",
   "execution_count": null,
   "metadata": {},
   "outputs": [],
   "source": [
    "for i in ['BCN_over_barri_evolution', 'BCN_over_barri_management', 'Barri_evolution', 'Barri_future',\n",
    "         'Barri_management', 'STREETS CLEANING', 'URBANISM', 'ASPHALT AND STREET CONSERVATION', 'CIRCULATION',\n",
    "         'PARKING', 'SUBWAY']:\n",
    "    x_var.remove(i)"
   ]
  },
  {
   "cell_type": "code",
   "execution_count": null,
   "metadata": {},
   "outputs": [],
   "source": [
    "x = data[x_var]\n",
    "x = pd.get_dummies(x, drop_first = True)\n",
    "x = sm.add_constant(x)"
   ]
  },
  {
   "cell_type": "code",
   "execution_count": null,
   "metadata": {},
   "outputs": [],
   "source": [
    "logit_model = sm.Logit(y,x)\n",
    "result=logit_model.fit()\n",
    "print(result.summary2())"
   ]
  },
  {
   "cell_type": "code",
   "execution_count": null,
   "metadata": {},
   "outputs": [],
   "source": [
    "logit_roc_auc = roc_auc_score(y, result.predict(x))\n",
    "fpr, tpr, thresholds = roc_curve(y, result.predict(x))\n",
    "plt.figure()\n",
    "plt.plot(fpr, tpr, label='Logistic Regression (area = %0.2f)' % logit_roc_auc)\n",
    "plt.plot([0, 1], [0, 1],'r--')\n",
    "plt.xlim([0.0, 1.0])\n",
    "plt.ylim([0.0, 1.05])\n",
    "plt.xlabel('False Positive Rate')\n",
    "plt.ylabel('True Positive Rate')\n",
    "plt.title('Receiver operating characteristic')\n",
    "plt.legend(loc=\"lower right\")\n",
    "#plt.savefig('Log_ROC')\n",
    "plt.show()"
   ]
  },
  {
   "cell_type": "code",
   "execution_count": null,
   "metadata": {},
   "outputs": [],
   "source": [
    "result.pvalues.sort_values(ascending=False)"
   ]
  },
  {
   "cell_type": "code",
   "execution_count": null,
   "metadata": {},
   "outputs": [],
   "source": []
  },
  {
   "cell_type": "code",
   "execution_count": null,
   "metadata": {},
   "outputs": [],
   "source": [
    "for i in ['BCN_over_barri_citizen_security', 'Barri_citizen_security', 'BUS', 'Barri_transport']:\n",
    "    x_var.remove(i)"
   ]
  },
  {
   "cell_type": "code",
   "execution_count": null,
   "metadata": {},
   "outputs": [],
   "source": [
    "x = data[x_var]\n",
    "x = pd.get_dummies(x, drop_first = True)\n",
    "x = sm.add_constant(x)"
   ]
  },
  {
   "cell_type": "code",
   "execution_count": null,
   "metadata": {},
   "outputs": [],
   "source": [
    "logit_model = sm.Logit(y,x)\n",
    "result=logit_model.fit()\n",
    "print(result.summary2())"
   ]
  },
  {
   "cell_type": "code",
   "execution_count": null,
   "metadata": {},
   "outputs": [],
   "source": [
    "logit_roc_auc = roc_auc_score(y, result.predict(x))\n",
    "fpr, tpr, thresholds = roc_curve(y, result.predict(x))\n",
    "plt.figure()\n",
    "plt.plot(fpr, tpr, label='Logistic Regression (area = %0.2f)' % logit_roc_auc)\n",
    "plt.plot([0, 1], [0, 1],'r--')\n",
    "plt.xlim([0.0, 1.0])\n",
    "plt.ylim([0.0, 1.05])\n",
    "plt.xlabel('False Positive Rate')\n",
    "plt.ylabel('True Positive Rate')\n",
    "plt.title('Receiver operating characteristic')\n",
    "plt.legend(loc=\"lower right\")\n",
    "#plt.savefig('Log_ROC')\n",
    "plt.show()"
   ]
  },
  {
   "cell_type": "code",
   "execution_count": null,
   "metadata": {},
   "outputs": [],
   "source": [
    "result.pvalues.sort_values(ascending=False)"
   ]
  },
  {
   "cell_type": "code",
   "execution_count": null,
   "metadata": {},
   "outputs": [],
   "source": []
  },
  {
   "cell_type": "code",
   "execution_count": null,
   "metadata": {},
   "outputs": [],
   "source": [
    "for i in ['Gender']:\n",
    "    x_var.remove(i)"
   ]
  },
  {
   "cell_type": "code",
   "execution_count": null,
   "metadata": {},
   "outputs": [],
   "source": [
    "x = data[x_var]\n",
    "x = pd.get_dummies(x, drop_first = True)\n",
    "x = sm.add_constant(x)"
   ]
  },
  {
   "cell_type": "code",
   "execution_count": null,
   "metadata": {},
   "outputs": [],
   "source": [
    "logit_model = sm.Logit(y,x)\n",
    "result=logit_model.fit()\n",
    "print(result.summary2())"
   ]
  },
  {
   "cell_type": "code",
   "execution_count": null,
   "metadata": {},
   "outputs": [],
   "source": [
    "logit_roc_auc = roc_auc_score(y, result.predict(x))\n",
    "fpr, tpr, thresholds = roc_curve(y, result.predict(x))\n",
    "plt.figure()\n",
    "plt.plot(fpr, tpr, label='Logistic Regression (area = %0.2f)' % logit_roc_auc)\n",
    "plt.plot([0, 1], [0, 1],'r--')\n",
    "plt.xlim([0.0, 1.0])\n",
    "plt.ylim([0.0, 1.05])\n",
    "plt.xlabel('False Positive Rate')\n",
    "plt.ylabel('True Positive Rate')\n",
    "plt.title('Receiver operating characteristic')\n",
    "plt.legend(loc=\"lower right\")\n",
    "#plt.savefig('Log_ROC')\n",
    "plt.show()"
   ]
  },
  {
   "cell_type": "code",
   "execution_count": null,
   "metadata": {},
   "outputs": [],
   "source": [
    "result.pvalues.sort_values(ascending=False)"
   ]
  },
  {
   "cell_type": "code",
   "execution_count": null,
   "metadata": {},
   "outputs": [],
   "source": []
  },
  {
   "cell_type": "code",
   "execution_count": null,
   "metadata": {},
   "outputs": [],
   "source": [
    "print(result.get_margeff().summary())"
   ]
  },
  {
   "cell_type": "code",
   "execution_count": null,
   "metadata": {},
   "outputs": [],
   "source": []
  },
  {
   "cell_type": "code",
   "execution_count": null,
   "metadata": {},
   "outputs": [],
   "source": [
    "result.pred_table()"
   ]
  },
  {
   "cell_type": "code",
   "execution_count": null,
   "metadata": {},
   "outputs": [],
   "source": []
  },
  {
   "cell_type": "code",
   "execution_count": null,
   "metadata": {},
   "outputs": [],
   "source": [
    "logit_roc_auc = roc_auc_score(y, result.predict(x))\n",
    "fpr, tpr, thresholds = roc_curve(y, result.predict(x))\n",
    "plt.figure()\n",
    "plt.plot(fpr, tpr, label='Logistic Regression (area = %0.2f)' % logit_roc_auc)\n",
    "plt.plot([0, 1], [0, 1],'r--')\n",
    "plt.xlim([0.0, 1.0])\n",
    "plt.ylim([0.0, 1.05])\n",
    "plt.xlabel('False Positive Rate')\n",
    "plt.ylabel('True Positive Rate')\n",
    "plt.title('Receiver operating characteristic')\n",
    "plt.legend(loc=\"lower right\")\n",
    "#plt.savefig('Log_ROC')\n",
    "plt.show()"
   ]
  },
  {
   "cell_type": "code",
   "execution_count": null,
   "metadata": {},
   "outputs": [],
   "source": []
  }
 ],
 "metadata": {
  "kernelspec": {
   "display_name": "Python 3",
   "language": "python",
   "name": "python3"
  },
  "language_info": {
   "codemirror_mode": {
    "name": "ipython",
    "version": 3
   },
   "file_extension": ".py",
   "mimetype": "text/x-python",
   "name": "python",
   "nbconvert_exporter": "python",
   "pygments_lexer": "ipython3",
   "version": "3.7.6"
  }
 },
 "nbformat": 4,
 "nbformat_minor": 4
}
