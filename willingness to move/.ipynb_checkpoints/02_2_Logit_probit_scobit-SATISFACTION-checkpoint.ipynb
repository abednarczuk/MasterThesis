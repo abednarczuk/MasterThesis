{
 "cells": [
  {
   "cell_type": "markdown",
   "metadata": {},
   "source": [
    "Aleksandra Bednarczuk"
   ]
  },
  {
   "cell_type": "markdown",
   "metadata": {},
   "source": [
    "# Predictors of elderly citizens willingness to stay in the neighbourhood\n",
    "# Logistic regression"
   ]
  },
  {
   "cell_type": "markdown",
   "metadata": {},
   "source": [
    "Original dataset, including barris among predictors"
   ]
  },
  {
   "cell_type": "code",
   "execution_count": 1,
   "metadata": {},
   "outputs": [],
   "source": [
    "import pandas as pd\n",
    "import numpy as np\n",
    "\n",
    "import matplotlib.pyplot as plt"
   ]
  },
  {
   "cell_type": "code",
   "execution_count": 2,
   "metadata": {},
   "outputs": [],
   "source": [
    "from imblearn.over_sampling import SMOTE\n",
    "\n",
    "import statsmodels.api as sm\n",
    "import statsmodels.formula.api as smf\n",
    "\n",
    "from sklearn.model_selection import train_test_split\n",
    "from sklearn.feature_selection import RFE\n",
    "from sklearn.linear_model import LogisticRegression\n",
    "\n",
    "from sklearn.metrics import accuracy_score\n",
    "from sklearn.metrics import classification_report\n",
    "from sklearn.metrics import confusion_matrix\n",
    "from sklearn.metrics import roc_auc_score\n",
    "from sklearn.metrics import roc_curve\n",
    "from sklearn.metrics import r2_score\n",
    "\n",
    "from sklearn.feature_selection import SelectKBest\n",
    "from sklearn.feature_selection import chi2\n",
    "from sklearn.feature_selection import mutual_info_classif\n",
    "from sklearn.feature_selection import f_classif\n",
    "from sklearn.preprocessing import LabelEncoder\n",
    "from sklearn.preprocessing import OrdinalEncoder\n",
    "\n",
    "from scipy import stats"
   ]
  },
  {
   "cell_type": "code",
   "execution_count": null,
   "metadata": {},
   "outputs": [],
   "source": []
  },
  {
   "cell_type": "code",
   "execution_count": 3,
   "metadata": {},
   "outputs": [],
   "source": [
    "data = pd.read_pickle(\"survey_transformed.pkl\")"
   ]
  },
  {
   "cell_type": "code",
   "execution_count": 4,
   "metadata": {},
   "outputs": [],
   "source": [
    "data.reset_index(drop=True, inplace=True)"
   ]
  },
  {
   "cell_type": "code",
   "execution_count": 5,
   "metadata": {},
   "outputs": [
    {
     "data": {
      "text/html": [
       "<div>\n",
       "<style scoped>\n",
       "    .dataframe tbody tr th:only-of-type {\n",
       "        vertical-align: middle;\n",
       "    }\n",
       "\n",
       "    .dataframe tbody tr th {\n",
       "        vertical-align: top;\n",
       "    }\n",
       "\n",
       "    .dataframe thead th {\n",
       "        text-align: right;\n",
       "    }\n",
       "</style>\n",
       "<table border=\"1\" class=\"dataframe\">\n",
       "  <thead>\n",
       "    <tr style=\"text-align: right;\">\n",
       "      <th></th>\n",
       "      <th>Would_live_in_another_neighborhood</th>\n",
       "      <th>District</th>\n",
       "      <th>Woman</th>\n",
       "      <th>Car</th>\n",
       "      <th>Support_with_housework</th>\n",
       "      <th>Owner</th>\n",
       "      <th>House_size</th>\n",
       "      <th>Living_alone</th>\n",
       "      <th>Financial_situation</th>\n",
       "      <th>Disability</th>\n",
       "      <th>...</th>\n",
       "      <th>BCN_transport</th>\n",
       "      <th>Barri_problem_with_security</th>\n",
       "      <th>Barri_problem_with_streets_cleaning</th>\n",
       "      <th>Barri_problem_with_mobility</th>\n",
       "      <th>BCN_over_barri_evolution</th>\n",
       "      <th>BCN_over_barri_future</th>\n",
       "      <th>BCN_over_barri_satisfaction</th>\n",
       "      <th>BCN_over_barri_transport</th>\n",
       "      <th>BCN_over_barri_management</th>\n",
       "      <th>BCN_over_barri_security</th>\n",
       "    </tr>\n",
       "  </thead>\n",
       "  <tbody>\n",
       "    <tr>\n",
       "      <th>0</th>\n",
       "      <td>0.0</td>\n",
       "      <td>SANTS - MONTJUÏC</td>\n",
       "      <td>0</td>\n",
       "      <td>1</td>\n",
       "      <td>0.0</td>\n",
       "      <td>1.0</td>\n",
       "      <td>51-100 M2</td>\n",
       "      <td>0</td>\n",
       "      <td>GOOD</td>\n",
       "      <td>0.0</td>\n",
       "      <td>...</td>\n",
       "      <td>GOOD</td>\n",
       "      <td>0</td>\n",
       "      <td>0</td>\n",
       "      <td>0</td>\n",
       "      <td>0</td>\n",
       "      <td>0</td>\n",
       "      <td>0</td>\n",
       "      <td>0</td>\n",
       "      <td>0</td>\n",
       "      <td>0</td>\n",
       "    </tr>\n",
       "    <tr>\n",
       "      <th>1</th>\n",
       "      <td>0.0</td>\n",
       "      <td>SANTS - MONTJUÏC</td>\n",
       "      <td>1</td>\n",
       "      <td>0</td>\n",
       "      <td>0.0</td>\n",
       "      <td>1.0</td>\n",
       "      <td>51-100 M2</td>\n",
       "      <td>1</td>\n",
       "      <td>BAD</td>\n",
       "      <td>0.0</td>\n",
       "      <td>...</td>\n",
       "      <td>GOOD</td>\n",
       "      <td>0</td>\n",
       "      <td>0</td>\n",
       "      <td>0</td>\n",
       "      <td>1</td>\n",
       "      <td>0</td>\n",
       "      <td>0</td>\n",
       "      <td>0</td>\n",
       "      <td>0</td>\n",
       "      <td>0</td>\n",
       "    </tr>\n",
       "    <tr>\n",
       "      <th>2</th>\n",
       "      <td>0.0</td>\n",
       "      <td>SANTS - MONTJUÏC</td>\n",
       "      <td>1</td>\n",
       "      <td>0</td>\n",
       "      <td>1.0</td>\n",
       "      <td>0.0</td>\n",
       "      <td>51-100 M2</td>\n",
       "      <td>1</td>\n",
       "      <td>GOOD</td>\n",
       "      <td>0.0</td>\n",
       "      <td>...</td>\n",
       "      <td>NEITHER BAD, NOR GOOD</td>\n",
       "      <td>0</td>\n",
       "      <td>0</td>\n",
       "      <td>0</td>\n",
       "      <td>0</td>\n",
       "      <td>0</td>\n",
       "      <td>0</td>\n",
       "      <td>1</td>\n",
       "      <td>0</td>\n",
       "      <td>0</td>\n",
       "    </tr>\n",
       "    <tr>\n",
       "      <th>3</th>\n",
       "      <td>1.0</td>\n",
       "      <td>SANTS - MONTJUÏC</td>\n",
       "      <td>0</td>\n",
       "      <td>0</td>\n",
       "      <td>0.0</td>\n",
       "      <td>1.0</td>\n",
       "      <td>&lt; 50 M2</td>\n",
       "      <td>0</td>\n",
       "      <td>BAD</td>\n",
       "      <td>1.0</td>\n",
       "      <td>...</td>\n",
       "      <td>GOOD</td>\n",
       "      <td>0</td>\n",
       "      <td>0</td>\n",
       "      <td>0</td>\n",
       "      <td>0</td>\n",
       "      <td>0</td>\n",
       "      <td>1</td>\n",
       "      <td>0</td>\n",
       "      <td>0</td>\n",
       "      <td>0</td>\n",
       "    </tr>\n",
       "    <tr>\n",
       "      <th>4</th>\n",
       "      <td>0.0</td>\n",
       "      <td>SANTS - MONTJUÏC</td>\n",
       "      <td>1</td>\n",
       "      <td>0</td>\n",
       "      <td>1.0</td>\n",
       "      <td>1.0</td>\n",
       "      <td>51-100 M2</td>\n",
       "      <td>0</td>\n",
       "      <td>GOOD</td>\n",
       "      <td>0.0</td>\n",
       "      <td>...</td>\n",
       "      <td>GOOD</td>\n",
       "      <td>0</td>\n",
       "      <td>1</td>\n",
       "      <td>0</td>\n",
       "      <td>0</td>\n",
       "      <td>1</td>\n",
       "      <td>0</td>\n",
       "      <td>0</td>\n",
       "      <td>0</td>\n",
       "      <td>0</td>\n",
       "    </tr>\n",
       "  </tbody>\n",
       "</table>\n",
       "<p>5 rows × 35 columns</p>\n",
       "</div>"
      ],
      "text/plain": [
       "   Would_live_in_another_neighborhood          District  Woman  Car  \\\n",
       "0                                 0.0  SANTS - MONTJUÏC      0    1   \n",
       "1                                 0.0  SANTS - MONTJUÏC      1    0   \n",
       "2                                 0.0  SANTS - MONTJUÏC      1    0   \n",
       "3                                 1.0  SANTS - MONTJUÏC      0    0   \n",
       "4                                 0.0  SANTS - MONTJUÏC      1    0   \n",
       "\n",
       "   Support_with_housework  Owner House_size  Living_alone Financial_situation  \\\n",
       "0                     0.0    1.0  51-100 M2             0                GOOD   \n",
       "1                     0.0    1.0  51-100 M2             1                 BAD   \n",
       "2                     1.0    0.0  51-100 M2             1                GOOD   \n",
       "3                     0.0    1.0    < 50 M2             0                 BAD   \n",
       "4                     1.0    1.0  51-100 M2             0                GOOD   \n",
       "\n",
       "   Disability  ...          BCN_transport Barri_problem_with_security  \\\n",
       "0         0.0  ...                   GOOD                           0   \n",
       "1         0.0  ...                   GOOD                           0   \n",
       "2         0.0  ...  NEITHER BAD, NOR GOOD                           0   \n",
       "3         1.0  ...                   GOOD                           0   \n",
       "4         0.0  ...                   GOOD                           0   \n",
       "\n",
       "  Barri_problem_with_streets_cleaning Barri_problem_with_mobility  \\\n",
       "0                                   0                           0   \n",
       "1                                   0                           0   \n",
       "2                                   0                           0   \n",
       "3                                   0                           0   \n",
       "4                                   1                           0   \n",
       "\n",
       "  BCN_over_barri_evolution BCN_over_barri_future BCN_over_barri_satisfaction  \\\n",
       "0                        0                     0                           0   \n",
       "1                        1                     0                           0   \n",
       "2                        0                     0                           0   \n",
       "3                        0                     0                           1   \n",
       "4                        0                     1                           0   \n",
       "\n",
       "  BCN_over_barri_transport BCN_over_barri_management BCN_over_barri_security  \n",
       "0                        0                         0                       0  \n",
       "1                        0                         0                       0  \n",
       "2                        1                         0                       0  \n",
       "3                        0                         0                       0  \n",
       "4                        0                         0                       0  \n",
       "\n",
       "[5 rows x 35 columns]"
      ]
     },
     "execution_count": 5,
     "metadata": {},
     "output_type": "execute_result"
    }
   ],
   "source": [
    "data.head()"
   ]
  },
  {
   "cell_type": "code",
   "execution_count": null,
   "metadata": {},
   "outputs": [],
   "source": []
  },
  {
   "cell_type": "code",
   "execution_count": 6,
   "metadata": {},
   "outputs": [
    {
     "data": {
      "text/plain": [
       "(1174, 35)"
      ]
     },
     "execution_count": 6,
     "metadata": {},
     "output_type": "execute_result"
    }
   ],
   "source": [
    "data.shape"
   ]
  },
  {
   "cell_type": "code",
   "execution_count": 7,
   "metadata": {},
   "outputs": [
    {
     "data": {
      "text/plain": [
       "['Would_live_in_another_neighborhood',\n",
       " 'District',\n",
       " 'Woman',\n",
       " 'Car',\n",
       " 'Support_with_housework',\n",
       " 'Owner',\n",
       " 'House_size',\n",
       " 'Living_alone',\n",
       " 'Financial_situation',\n",
       " 'Disability',\n",
       " 'Living_with_disabled_person',\n",
       " 'Time_living_in_barri',\n",
       " 'Barri_evolution',\n",
       " 'BCN_evolution',\n",
       " 'Barri_future',\n",
       " 'BCN_future',\n",
       " 'Barri_satisfaction',\n",
       " 'BCN_satisfaction',\n",
       " 'Barri_security',\n",
       " 'BCN_security',\n",
       " 'Barri_management',\n",
       " 'BCN_management',\n",
       " 'Barri_comparison',\n",
       " 'Barri_association',\n",
       " 'Barri_transport',\n",
       " 'BCN_transport',\n",
       " 'Barri_problem_with_security',\n",
       " 'Barri_problem_with_streets_cleaning',\n",
       " 'Barri_problem_with_mobility',\n",
       " 'BCN_over_barri_evolution',\n",
       " 'BCN_over_barri_future',\n",
       " 'BCN_over_barri_satisfaction',\n",
       " 'BCN_over_barri_transport',\n",
       " 'BCN_over_barri_management',\n",
       " 'BCN_over_barri_security']"
      ]
     },
     "execution_count": 7,
     "metadata": {},
     "output_type": "execute_result"
    }
   ],
   "source": [
    "data.columns.tolist()"
   ]
  },
  {
   "cell_type": "code",
   "execution_count": 8,
   "metadata": {},
   "outputs": [
    {
     "data": {
      "text/html": [
       "<div>\n",
       "<style scoped>\n",
       "    .dataframe tbody tr th:only-of-type {\n",
       "        vertical-align: middle;\n",
       "    }\n",
       "\n",
       "    .dataframe tbody tr th {\n",
       "        vertical-align: top;\n",
       "    }\n",
       "\n",
       "    .dataframe thead th {\n",
       "        text-align: right;\n",
       "    }\n",
       "</style>\n",
       "<table border=\"1\" class=\"dataframe\">\n",
       "  <thead>\n",
       "    <tr style=\"text-align: right;\">\n",
       "      <th>Would_live_in_another_neighborhood</th>\n",
       "      <th>0.0</th>\n",
       "      <th>1.0</th>\n",
       "    </tr>\n",
       "    <tr>\n",
       "      <th>Would_live_in_another_neighborhood</th>\n",
       "      <th></th>\n",
       "      <th></th>\n",
       "    </tr>\n",
       "  </thead>\n",
       "  <tbody>\n",
       "    <tr>\n",
       "      <th>0.0</th>\n",
       "      <td>1019</td>\n",
       "      <td>0</td>\n",
       "    </tr>\n",
       "    <tr>\n",
       "      <th>1.0</th>\n",
       "      <td>0</td>\n",
       "      <td>155</td>\n",
       "    </tr>\n",
       "  </tbody>\n",
       "</table>\n",
       "</div>"
      ],
      "text/plain": [
       "Would_live_in_another_neighborhood   0.0  1.0\n",
       "Would_live_in_another_neighborhood           \n",
       "0.0                                 1019    0\n",
       "1.0                                    0  155"
      ]
     },
     "metadata": {},
     "output_type": "display_data"
    },
    {
     "data": {
      "text/html": [
       "<div>\n",
       "<style scoped>\n",
       "    .dataframe tbody tr th:only-of-type {\n",
       "        vertical-align: middle;\n",
       "    }\n",
       "\n",
       "    .dataframe tbody tr th {\n",
       "        vertical-align: top;\n",
       "    }\n",
       "\n",
       "    .dataframe thead th {\n",
       "        text-align: right;\n",
       "    }\n",
       "</style>\n",
       "<table border=\"1\" class=\"dataframe\">\n",
       "  <thead>\n",
       "    <tr style=\"text-align: right;\">\n",
       "      <th>Would_live_in_another_neighborhood</th>\n",
       "      <th>0.0</th>\n",
       "      <th>1.0</th>\n",
       "    </tr>\n",
       "    <tr>\n",
       "      <th>District</th>\n",
       "      <th></th>\n",
       "      <th></th>\n",
       "    </tr>\n",
       "  </thead>\n",
       "  <tbody>\n",
       "    <tr>\n",
       "      <th>CIUTAT VELLA</th>\n",
       "      <td>61</td>\n",
       "      <td>8</td>\n",
       "    </tr>\n",
       "    <tr>\n",
       "      <th>EIXAMPLE</th>\n",
       "      <td>179</td>\n",
       "      <td>20</td>\n",
       "    </tr>\n",
       "    <tr>\n",
       "      <th>GRÀCIA</th>\n",
       "      <td>84</td>\n",
       "      <td>12</td>\n",
       "    </tr>\n",
       "    <tr>\n",
       "      <th>HORTA - GUINARDÓ</th>\n",
       "      <td>112</td>\n",
       "      <td>21</td>\n",
       "    </tr>\n",
       "    <tr>\n",
       "      <th>LES CORTS</th>\n",
       "      <td>104</td>\n",
       "      <td>4</td>\n",
       "    </tr>\n",
       "    <tr>\n",
       "      <th>NOU BARRIS</th>\n",
       "      <td>94</td>\n",
       "      <td>23</td>\n",
       "    </tr>\n",
       "    <tr>\n",
       "      <th>SANT ANDREU</th>\n",
       "      <td>83</td>\n",
       "      <td>22</td>\n",
       "    </tr>\n",
       "    <tr>\n",
       "      <th>SANT MARTÍ</th>\n",
       "      <td>129</td>\n",
       "      <td>18</td>\n",
       "    </tr>\n",
       "    <tr>\n",
       "      <th>SANTS - MONTJUÏC</th>\n",
       "      <td>80</td>\n",
       "      <td>22</td>\n",
       "    </tr>\n",
       "    <tr>\n",
       "      <th>SARRIÀ - SANT GERVASI</th>\n",
       "      <td>93</td>\n",
       "      <td>5</td>\n",
       "    </tr>\n",
       "  </tbody>\n",
       "</table>\n",
       "</div>"
      ],
      "text/plain": [
       "Would_live_in_another_neighborhood  0.0  1.0\n",
       "District                                    \n",
       "CIUTAT VELLA                         61    8\n",
       "EIXAMPLE                            179   20\n",
       "GRÀCIA                               84   12\n",
       "HORTA - GUINARDÓ                    112   21\n",
       "LES CORTS                           104    4\n",
       "NOU BARRIS                           94   23\n",
       "SANT ANDREU                          83   22\n",
       "SANT MARTÍ                          129   18\n",
       "SANTS - MONTJUÏC                     80   22\n",
       "SARRIÀ - SANT GERVASI                93    5"
      ]
     },
     "metadata": {},
     "output_type": "display_data"
    },
    {
     "data": {
      "text/html": [
       "<div>\n",
       "<style scoped>\n",
       "    .dataframe tbody tr th:only-of-type {\n",
       "        vertical-align: middle;\n",
       "    }\n",
       "\n",
       "    .dataframe tbody tr th {\n",
       "        vertical-align: top;\n",
       "    }\n",
       "\n",
       "    .dataframe thead th {\n",
       "        text-align: right;\n",
       "    }\n",
       "</style>\n",
       "<table border=\"1\" class=\"dataframe\">\n",
       "  <thead>\n",
       "    <tr style=\"text-align: right;\">\n",
       "      <th>Would_live_in_another_neighborhood</th>\n",
       "      <th>0.0</th>\n",
       "      <th>1.0</th>\n",
       "    </tr>\n",
       "    <tr>\n",
       "      <th>Woman</th>\n",
       "      <th></th>\n",
       "      <th></th>\n",
       "    </tr>\n",
       "  </thead>\n",
       "  <tbody>\n",
       "    <tr>\n",
       "      <th>0</th>\n",
       "      <td>399</td>\n",
       "      <td>61</td>\n",
       "    </tr>\n",
       "    <tr>\n",
       "      <th>1</th>\n",
       "      <td>620</td>\n",
       "      <td>94</td>\n",
       "    </tr>\n",
       "  </tbody>\n",
       "</table>\n",
       "</div>"
      ],
      "text/plain": [
       "Would_live_in_another_neighborhood  0.0  1.0\n",
       "Woman                                       \n",
       "0                                   399   61\n",
       "1                                   620   94"
      ]
     },
     "metadata": {},
     "output_type": "display_data"
    },
    {
     "data": {
      "text/html": [
       "<div>\n",
       "<style scoped>\n",
       "    .dataframe tbody tr th:only-of-type {\n",
       "        vertical-align: middle;\n",
       "    }\n",
       "\n",
       "    .dataframe tbody tr th {\n",
       "        vertical-align: top;\n",
       "    }\n",
       "\n",
       "    .dataframe thead th {\n",
       "        text-align: right;\n",
       "    }\n",
       "</style>\n",
       "<table border=\"1\" class=\"dataframe\">\n",
       "  <thead>\n",
       "    <tr style=\"text-align: right;\">\n",
       "      <th>Would_live_in_another_neighborhood</th>\n",
       "      <th>0.0</th>\n",
       "      <th>1.0</th>\n",
       "    </tr>\n",
       "    <tr>\n",
       "      <th>Car</th>\n",
       "      <th></th>\n",
       "      <th></th>\n",
       "    </tr>\n",
       "  </thead>\n",
       "  <tbody>\n",
       "    <tr>\n",
       "      <th>0</th>\n",
       "      <td>479</td>\n",
       "      <td>63</td>\n",
       "    </tr>\n",
       "    <tr>\n",
       "      <th>1</th>\n",
       "      <td>540</td>\n",
       "      <td>92</td>\n",
       "    </tr>\n",
       "  </tbody>\n",
       "</table>\n",
       "</div>"
      ],
      "text/plain": [
       "Would_live_in_another_neighborhood  0.0  1.0\n",
       "Car                                         \n",
       "0                                   479   63\n",
       "1                                   540   92"
      ]
     },
     "metadata": {},
     "output_type": "display_data"
    },
    {
     "data": {
      "text/html": [
       "<div>\n",
       "<style scoped>\n",
       "    .dataframe tbody tr th:only-of-type {\n",
       "        vertical-align: middle;\n",
       "    }\n",
       "\n",
       "    .dataframe tbody tr th {\n",
       "        vertical-align: top;\n",
       "    }\n",
       "\n",
       "    .dataframe thead th {\n",
       "        text-align: right;\n",
       "    }\n",
       "</style>\n",
       "<table border=\"1\" class=\"dataframe\">\n",
       "  <thead>\n",
       "    <tr style=\"text-align: right;\">\n",
       "      <th>Would_live_in_another_neighborhood</th>\n",
       "      <th>0.0</th>\n",
       "      <th>1.0</th>\n",
       "    </tr>\n",
       "    <tr>\n",
       "      <th>Support_with_housework</th>\n",
       "      <th></th>\n",
       "      <th></th>\n",
       "    </tr>\n",
       "  </thead>\n",
       "  <tbody>\n",
       "    <tr>\n",
       "      <th>0.0</th>\n",
       "      <td>656</td>\n",
       "      <td>110</td>\n",
       "    </tr>\n",
       "    <tr>\n",
       "      <th>1.0</th>\n",
       "      <td>363</td>\n",
       "      <td>45</td>\n",
       "    </tr>\n",
       "  </tbody>\n",
       "</table>\n",
       "</div>"
      ],
      "text/plain": [
       "Would_live_in_another_neighborhood  0.0  1.0\n",
       "Support_with_housework                      \n",
       "0.0                                 656  110\n",
       "1.0                                 363   45"
      ]
     },
     "metadata": {},
     "output_type": "display_data"
    },
    {
     "data": {
      "text/html": [
       "<div>\n",
       "<style scoped>\n",
       "    .dataframe tbody tr th:only-of-type {\n",
       "        vertical-align: middle;\n",
       "    }\n",
       "\n",
       "    .dataframe tbody tr th {\n",
       "        vertical-align: top;\n",
       "    }\n",
       "\n",
       "    .dataframe thead th {\n",
       "        text-align: right;\n",
       "    }\n",
       "</style>\n",
       "<table border=\"1\" class=\"dataframe\">\n",
       "  <thead>\n",
       "    <tr style=\"text-align: right;\">\n",
       "      <th>Would_live_in_another_neighborhood</th>\n",
       "      <th>0.0</th>\n",
       "      <th>1.0</th>\n",
       "    </tr>\n",
       "    <tr>\n",
       "      <th>Owner</th>\n",
       "      <th></th>\n",
       "      <th></th>\n",
       "    </tr>\n",
       "  </thead>\n",
       "  <tbody>\n",
       "    <tr>\n",
       "      <th>0.0</th>\n",
       "      <td>210</td>\n",
       "      <td>28</td>\n",
       "    </tr>\n",
       "    <tr>\n",
       "      <th>1.0</th>\n",
       "      <td>809</td>\n",
       "      <td>127</td>\n",
       "    </tr>\n",
       "  </tbody>\n",
       "</table>\n",
       "</div>"
      ],
      "text/plain": [
       "Would_live_in_another_neighborhood  0.0  1.0\n",
       "Owner                                       \n",
       "0.0                                 210   28\n",
       "1.0                                 809  127"
      ]
     },
     "metadata": {},
     "output_type": "display_data"
    },
    {
     "data": {
      "text/html": [
       "<div>\n",
       "<style scoped>\n",
       "    .dataframe tbody tr th:only-of-type {\n",
       "        vertical-align: middle;\n",
       "    }\n",
       "\n",
       "    .dataframe tbody tr th {\n",
       "        vertical-align: top;\n",
       "    }\n",
       "\n",
       "    .dataframe thead th {\n",
       "        text-align: right;\n",
       "    }\n",
       "</style>\n",
       "<table border=\"1\" class=\"dataframe\">\n",
       "  <thead>\n",
       "    <tr style=\"text-align: right;\">\n",
       "      <th>Would_live_in_another_neighborhood</th>\n",
       "      <th>0.0</th>\n",
       "      <th>1.0</th>\n",
       "    </tr>\n",
       "    <tr>\n",
       "      <th>House_size</th>\n",
       "      <th></th>\n",
       "      <th></th>\n",
       "    </tr>\n",
       "  </thead>\n",
       "  <tbody>\n",
       "    <tr>\n",
       "      <th>101-150 M2</th>\n",
       "      <td>126</td>\n",
       "      <td>15</td>\n",
       "    </tr>\n",
       "    <tr>\n",
       "      <th>51-100 M2</th>\n",
       "      <td>724</td>\n",
       "      <td>115</td>\n",
       "    </tr>\n",
       "    <tr>\n",
       "      <th>&lt; 50 M2</th>\n",
       "      <td>57</td>\n",
       "      <td>14</td>\n",
       "    </tr>\n",
       "    <tr>\n",
       "      <th>&gt; 150 M2</th>\n",
       "      <td>43</td>\n",
       "      <td>5</td>\n",
       "    </tr>\n",
       "    <tr>\n",
       "      <th>I DON'T KNOW</th>\n",
       "      <td>69</td>\n",
       "      <td>6</td>\n",
       "    </tr>\n",
       "  </tbody>\n",
       "</table>\n",
       "</div>"
      ],
      "text/plain": [
       "Would_live_in_another_neighborhood  0.0  1.0\n",
       "House_size                                  \n",
       "101-150 M2                          126   15\n",
       "51-100 M2                           724  115\n",
       "< 50 M2                              57   14\n",
       "> 150 M2                             43    5\n",
       "I DON'T KNOW                         69    6"
      ]
     },
     "metadata": {},
     "output_type": "display_data"
    },
    {
     "data": {
      "text/html": [
       "<div>\n",
       "<style scoped>\n",
       "    .dataframe tbody tr th:only-of-type {\n",
       "        vertical-align: middle;\n",
       "    }\n",
       "\n",
       "    .dataframe tbody tr th {\n",
       "        vertical-align: top;\n",
       "    }\n",
       "\n",
       "    .dataframe thead th {\n",
       "        text-align: right;\n",
       "    }\n",
       "</style>\n",
       "<table border=\"1\" class=\"dataframe\">\n",
       "  <thead>\n",
       "    <tr style=\"text-align: right;\">\n",
       "      <th>Would_live_in_another_neighborhood</th>\n",
       "      <th>0.0</th>\n",
       "      <th>1.0</th>\n",
       "    </tr>\n",
       "    <tr>\n",
       "      <th>Living_alone</th>\n",
       "      <th></th>\n",
       "      <th></th>\n",
       "    </tr>\n",
       "  </thead>\n",
       "  <tbody>\n",
       "    <tr>\n",
       "      <th>0</th>\n",
       "      <td>666</td>\n",
       "      <td>103</td>\n",
       "    </tr>\n",
       "    <tr>\n",
       "      <th>1</th>\n",
       "      <td>353</td>\n",
       "      <td>52</td>\n",
       "    </tr>\n",
       "  </tbody>\n",
       "</table>\n",
       "</div>"
      ],
      "text/plain": [
       "Would_live_in_another_neighborhood  0.0  1.0\n",
       "Living_alone                                \n",
       "0                                   666  103\n",
       "1                                   353   52"
      ]
     },
     "metadata": {},
     "output_type": "display_data"
    },
    {
     "data": {
      "text/html": [
       "<div>\n",
       "<style scoped>\n",
       "    .dataframe tbody tr th:only-of-type {\n",
       "        vertical-align: middle;\n",
       "    }\n",
       "\n",
       "    .dataframe tbody tr th {\n",
       "        vertical-align: top;\n",
       "    }\n",
       "\n",
       "    .dataframe thead th {\n",
       "        text-align: right;\n",
       "    }\n",
       "</style>\n",
       "<table border=\"1\" class=\"dataframe\">\n",
       "  <thead>\n",
       "    <tr style=\"text-align: right;\">\n",
       "      <th>Would_live_in_another_neighborhood</th>\n",
       "      <th>0.0</th>\n",
       "      <th>1.0</th>\n",
       "    </tr>\n",
       "    <tr>\n",
       "      <th>Financial_situation</th>\n",
       "      <th></th>\n",
       "      <th></th>\n",
       "    </tr>\n",
       "  </thead>\n",
       "  <tbody>\n",
       "    <tr>\n",
       "      <th>BAD</th>\n",
       "      <td>390</td>\n",
       "      <td>63</td>\n",
       "    </tr>\n",
       "    <tr>\n",
       "      <th>GOOD</th>\n",
       "      <td>629</td>\n",
       "      <td>92</td>\n",
       "    </tr>\n",
       "  </tbody>\n",
       "</table>\n",
       "</div>"
      ],
      "text/plain": [
       "Would_live_in_another_neighborhood  0.0  1.0\n",
       "Financial_situation                         \n",
       "BAD                                 390   63\n",
       "GOOD                                629   92"
      ]
     },
     "metadata": {},
     "output_type": "display_data"
    },
    {
     "data": {
      "text/html": [
       "<div>\n",
       "<style scoped>\n",
       "    .dataframe tbody tr th:only-of-type {\n",
       "        vertical-align: middle;\n",
       "    }\n",
       "\n",
       "    .dataframe tbody tr th {\n",
       "        vertical-align: top;\n",
       "    }\n",
       "\n",
       "    .dataframe thead th {\n",
       "        text-align: right;\n",
       "    }\n",
       "</style>\n",
       "<table border=\"1\" class=\"dataframe\">\n",
       "  <thead>\n",
       "    <tr style=\"text-align: right;\">\n",
       "      <th>Would_live_in_another_neighborhood</th>\n",
       "      <th>0.0</th>\n",
       "      <th>1.0</th>\n",
       "    </tr>\n",
       "    <tr>\n",
       "      <th>Disability</th>\n",
       "      <th></th>\n",
       "      <th></th>\n",
       "    </tr>\n",
       "  </thead>\n",
       "  <tbody>\n",
       "    <tr>\n",
       "      <th>0.0</th>\n",
       "      <td>856</td>\n",
       "      <td>121</td>\n",
       "    </tr>\n",
       "    <tr>\n",
       "      <th>1.0</th>\n",
       "      <td>163</td>\n",
       "      <td>34</td>\n",
       "    </tr>\n",
       "  </tbody>\n",
       "</table>\n",
       "</div>"
      ],
      "text/plain": [
       "Would_live_in_another_neighborhood  0.0  1.0\n",
       "Disability                                  \n",
       "0.0                                 856  121\n",
       "1.0                                 163   34"
      ]
     },
     "metadata": {},
     "output_type": "display_data"
    },
    {
     "data": {
      "text/html": [
       "<div>\n",
       "<style scoped>\n",
       "    .dataframe tbody tr th:only-of-type {\n",
       "        vertical-align: middle;\n",
       "    }\n",
       "\n",
       "    .dataframe tbody tr th {\n",
       "        vertical-align: top;\n",
       "    }\n",
       "\n",
       "    .dataframe thead th {\n",
       "        text-align: right;\n",
       "    }\n",
       "</style>\n",
       "<table border=\"1\" class=\"dataframe\">\n",
       "  <thead>\n",
       "    <tr style=\"text-align: right;\">\n",
       "      <th>Would_live_in_another_neighborhood</th>\n",
       "      <th>0.0</th>\n",
       "      <th>1.0</th>\n",
       "    </tr>\n",
       "    <tr>\n",
       "      <th>Living_with_disabled_person</th>\n",
       "      <th></th>\n",
       "      <th></th>\n",
       "    </tr>\n",
       "  </thead>\n",
       "  <tbody>\n",
       "    <tr>\n",
       "      <th>0</th>\n",
       "      <td>722</td>\n",
       "      <td>105</td>\n",
       "    </tr>\n",
       "    <tr>\n",
       "      <th>1</th>\n",
       "      <td>297</td>\n",
       "      <td>50</td>\n",
       "    </tr>\n",
       "  </tbody>\n",
       "</table>\n",
       "</div>"
      ],
      "text/plain": [
       "Would_live_in_another_neighborhood  0.0  1.0\n",
       "Living_with_disabled_person                 \n",
       "0                                   722  105\n",
       "1                                   297   50"
      ]
     },
     "metadata": {},
     "output_type": "display_data"
    },
    {
     "data": {
      "text/html": [
       "<div>\n",
       "<style scoped>\n",
       "    .dataframe tbody tr th:only-of-type {\n",
       "        vertical-align: middle;\n",
       "    }\n",
       "\n",
       "    .dataframe tbody tr th {\n",
       "        vertical-align: top;\n",
       "    }\n",
       "\n",
       "    .dataframe thead th {\n",
       "        text-align: right;\n",
       "    }\n",
       "</style>\n",
       "<table border=\"1\" class=\"dataframe\">\n",
       "  <thead>\n",
       "    <tr style=\"text-align: right;\">\n",
       "      <th>Would_live_in_another_neighborhood</th>\n",
       "      <th>0.0</th>\n",
       "      <th>1.0</th>\n",
       "    </tr>\n",
       "    <tr>\n",
       "      <th>Time_living_in_barri</th>\n",
       "      <th></th>\n",
       "      <th></th>\n",
       "    </tr>\n",
       "  </thead>\n",
       "  <tbody>\n",
       "    <tr>\n",
       "      <th>I HAVE ALWAYS LIVED IN THE NEIGHBORHOOD</th>\n",
       "      <td>136</td>\n",
       "      <td>7</td>\n",
       "    </tr>\n",
       "    <tr>\n",
       "      <th>LESS THAN 10 YEARS</th>\n",
       "      <td>57</td>\n",
       "      <td>16</td>\n",
       "    </tr>\n",
       "    <tr>\n",
       "      <th>MORE THAN 10 YEARS</th>\n",
       "      <td>826</td>\n",
       "      <td>132</td>\n",
       "    </tr>\n",
       "  </tbody>\n",
       "</table>\n",
       "</div>"
      ],
      "text/plain": [
       "Would_live_in_another_neighborhood       0.0  1.0\n",
       "Time_living_in_barri                             \n",
       "I HAVE ALWAYS LIVED IN THE NEIGHBORHOOD  136    7\n",
       "LESS THAN 10 YEARS                        57   16\n",
       "MORE THAN 10 YEARS                       826  132"
      ]
     },
     "metadata": {},
     "output_type": "display_data"
    },
    {
     "data": {
      "text/html": [
       "<div>\n",
       "<style scoped>\n",
       "    .dataframe tbody tr th:only-of-type {\n",
       "        vertical-align: middle;\n",
       "    }\n",
       "\n",
       "    .dataframe tbody tr th {\n",
       "        vertical-align: top;\n",
       "    }\n",
       "\n",
       "    .dataframe thead th {\n",
       "        text-align: right;\n",
       "    }\n",
       "</style>\n",
       "<table border=\"1\" class=\"dataframe\">\n",
       "  <thead>\n",
       "    <tr style=\"text-align: right;\">\n",
       "      <th>Would_live_in_another_neighborhood</th>\n",
       "      <th>0.0</th>\n",
       "      <th>1.0</th>\n",
       "    </tr>\n",
       "    <tr>\n",
       "      <th>Barri_evolution</th>\n",
       "      <th></th>\n",
       "      <th></th>\n",
       "    </tr>\n",
       "  </thead>\n",
       "  <tbody>\n",
       "    <tr>\n",
       "      <th>IT HAS IMPROVED</th>\n",
       "      <td>411</td>\n",
       "      <td>59</td>\n",
       "    </tr>\n",
       "    <tr>\n",
       "      <th>IT HAS WORSENED</th>\n",
       "      <td>230</td>\n",
       "      <td>46</td>\n",
       "    </tr>\n",
       "    <tr>\n",
       "      <th>IT IS THE SAME</th>\n",
       "      <td>378</td>\n",
       "      <td>50</td>\n",
       "    </tr>\n",
       "  </tbody>\n",
       "</table>\n",
       "</div>"
      ],
      "text/plain": [
       "Would_live_in_another_neighborhood  0.0  1.0\n",
       "Barri_evolution                             \n",
       "IT HAS IMPROVED                     411   59\n",
       "IT HAS WORSENED                     230   46\n",
       "IT IS THE SAME                      378   50"
      ]
     },
     "metadata": {},
     "output_type": "display_data"
    },
    {
     "data": {
      "text/html": [
       "<div>\n",
       "<style scoped>\n",
       "    .dataframe tbody tr th:only-of-type {\n",
       "        vertical-align: middle;\n",
       "    }\n",
       "\n",
       "    .dataframe tbody tr th {\n",
       "        vertical-align: top;\n",
       "    }\n",
       "\n",
       "    .dataframe thead th {\n",
       "        text-align: right;\n",
       "    }\n",
       "</style>\n",
       "<table border=\"1\" class=\"dataframe\">\n",
       "  <thead>\n",
       "    <tr style=\"text-align: right;\">\n",
       "      <th>Would_live_in_another_neighborhood</th>\n",
       "      <th>0.0</th>\n",
       "      <th>1.0</th>\n",
       "    </tr>\n",
       "    <tr>\n",
       "      <th>BCN_evolution</th>\n",
       "      <th></th>\n",
       "      <th></th>\n",
       "    </tr>\n",
       "  </thead>\n",
       "  <tbody>\n",
       "    <tr>\n",
       "      <th>IT HAS IMPROVED</th>\n",
       "      <td>272</td>\n",
       "      <td>36</td>\n",
       "    </tr>\n",
       "    <tr>\n",
       "      <th>IT HAS WORSENED</th>\n",
       "      <td>517</td>\n",
       "      <td>85</td>\n",
       "    </tr>\n",
       "    <tr>\n",
       "      <th>IT IS THE SAME</th>\n",
       "      <td>230</td>\n",
       "      <td>34</td>\n",
       "    </tr>\n",
       "  </tbody>\n",
       "</table>\n",
       "</div>"
      ],
      "text/plain": [
       "Would_live_in_another_neighborhood  0.0  1.0\n",
       "BCN_evolution                               \n",
       "IT HAS IMPROVED                     272   36\n",
       "IT HAS WORSENED                     517   85\n",
       "IT IS THE SAME                      230   34"
      ]
     },
     "metadata": {},
     "output_type": "display_data"
    },
    {
     "data": {
      "text/html": [
       "<div>\n",
       "<style scoped>\n",
       "    .dataframe tbody tr th:only-of-type {\n",
       "        vertical-align: middle;\n",
       "    }\n",
       "\n",
       "    .dataframe tbody tr th {\n",
       "        vertical-align: top;\n",
       "    }\n",
       "\n",
       "    .dataframe thead th {\n",
       "        text-align: right;\n",
       "    }\n",
       "</style>\n",
       "<table border=\"1\" class=\"dataframe\">\n",
       "  <thead>\n",
       "    <tr style=\"text-align: right;\">\n",
       "      <th>Would_live_in_another_neighborhood</th>\n",
       "      <th>0.0</th>\n",
       "      <th>1.0</th>\n",
       "    </tr>\n",
       "    <tr>\n",
       "      <th>Barri_future</th>\n",
       "      <th></th>\n",
       "      <th></th>\n",
       "    </tr>\n",
       "  </thead>\n",
       "  <tbody>\n",
       "    <tr>\n",
       "      <th>IT WILL IMPROVE</th>\n",
       "      <td>577</td>\n",
       "      <td>79</td>\n",
       "    </tr>\n",
       "    <tr>\n",
       "      <th>IT WILL STAY THE SAME</th>\n",
       "      <td>288</td>\n",
       "      <td>45</td>\n",
       "    </tr>\n",
       "    <tr>\n",
       "      <th>IT WILL WORSEN</th>\n",
       "      <td>154</td>\n",
       "      <td>31</td>\n",
       "    </tr>\n",
       "  </tbody>\n",
       "</table>\n",
       "</div>"
      ],
      "text/plain": [
       "Would_live_in_another_neighborhood  0.0  1.0\n",
       "Barri_future                                \n",
       "IT WILL IMPROVE                     577   79\n",
       "IT WILL STAY THE SAME               288   45\n",
       "IT WILL WORSEN                      154   31"
      ]
     },
     "metadata": {},
     "output_type": "display_data"
    },
    {
     "data": {
      "text/html": [
       "<div>\n",
       "<style scoped>\n",
       "    .dataframe tbody tr th:only-of-type {\n",
       "        vertical-align: middle;\n",
       "    }\n",
       "\n",
       "    .dataframe tbody tr th {\n",
       "        vertical-align: top;\n",
       "    }\n",
       "\n",
       "    .dataframe thead th {\n",
       "        text-align: right;\n",
       "    }\n",
       "</style>\n",
       "<table border=\"1\" class=\"dataframe\">\n",
       "  <thead>\n",
       "    <tr style=\"text-align: right;\">\n",
       "      <th>Would_live_in_another_neighborhood</th>\n",
       "      <th>0.0</th>\n",
       "      <th>1.0</th>\n",
       "    </tr>\n",
       "    <tr>\n",
       "      <th>BCN_future</th>\n",
       "      <th></th>\n",
       "      <th></th>\n",
       "    </tr>\n",
       "  </thead>\n",
       "  <tbody>\n",
       "    <tr>\n",
       "      <th>IT WILL IMPROVE</th>\n",
       "      <td>546</td>\n",
       "      <td>92</td>\n",
       "    </tr>\n",
       "    <tr>\n",
       "      <th>IT WILL STAY THE SAME</th>\n",
       "      <td>241</td>\n",
       "      <td>32</td>\n",
       "    </tr>\n",
       "    <tr>\n",
       "      <th>IT WILL WORSEN</th>\n",
       "      <td>232</td>\n",
       "      <td>31</td>\n",
       "    </tr>\n",
       "  </tbody>\n",
       "</table>\n",
       "</div>"
      ],
      "text/plain": [
       "Would_live_in_another_neighborhood  0.0  1.0\n",
       "BCN_future                                  \n",
       "IT WILL IMPROVE                     546   92\n",
       "IT WILL STAY THE SAME               241   32\n",
       "IT WILL WORSEN                      232   31"
      ]
     },
     "metadata": {},
     "output_type": "display_data"
    },
    {
     "data": {
      "text/html": [
       "<div>\n",
       "<style scoped>\n",
       "    .dataframe tbody tr th:only-of-type {\n",
       "        vertical-align: middle;\n",
       "    }\n",
       "\n",
       "    .dataframe tbody tr th {\n",
       "        vertical-align: top;\n",
       "    }\n",
       "\n",
       "    .dataframe thead th {\n",
       "        text-align: right;\n",
       "    }\n",
       "</style>\n",
       "<table border=\"1\" class=\"dataframe\">\n",
       "  <thead>\n",
       "    <tr style=\"text-align: right;\">\n",
       "      <th>Would_live_in_another_neighborhood</th>\n",
       "      <th>0.0</th>\n",
       "      <th>1.0</th>\n",
       "    </tr>\n",
       "    <tr>\n",
       "      <th>Barri_satisfaction</th>\n",
       "      <th></th>\n",
       "      <th></th>\n",
       "    </tr>\n",
       "  </thead>\n",
       "  <tbody>\n",
       "    <tr>\n",
       "      <th>FAIRLY SATISFIED</th>\n",
       "      <td>75</td>\n",
       "      <td>25</td>\n",
       "    </tr>\n",
       "    <tr>\n",
       "      <th>NOT SATISFIED</th>\n",
       "      <td>1</td>\n",
       "      <td>9</td>\n",
       "    </tr>\n",
       "    <tr>\n",
       "      <th>SATISFIED</th>\n",
       "      <td>943</td>\n",
       "      <td>121</td>\n",
       "    </tr>\n",
       "  </tbody>\n",
       "</table>\n",
       "</div>"
      ],
      "text/plain": [
       "Would_live_in_another_neighborhood  0.0  1.0\n",
       "Barri_satisfaction                          \n",
       "FAIRLY SATISFIED                     75   25\n",
       "NOT SATISFIED                         1    9\n",
       "SATISFIED                           943  121"
      ]
     },
     "metadata": {},
     "output_type": "display_data"
    },
    {
     "data": {
      "text/html": [
       "<div>\n",
       "<style scoped>\n",
       "    .dataframe tbody tr th:only-of-type {\n",
       "        vertical-align: middle;\n",
       "    }\n",
       "\n",
       "    .dataframe tbody tr th {\n",
       "        vertical-align: top;\n",
       "    }\n",
       "\n",
       "    .dataframe thead th {\n",
       "        text-align: right;\n",
       "    }\n",
       "</style>\n",
       "<table border=\"1\" class=\"dataframe\">\n",
       "  <thead>\n",
       "    <tr style=\"text-align: right;\">\n",
       "      <th>Would_live_in_another_neighborhood</th>\n",
       "      <th>0.0</th>\n",
       "      <th>1.0</th>\n",
       "    </tr>\n",
       "    <tr>\n",
       "      <th>BCN_satisfaction</th>\n",
       "      <th></th>\n",
       "      <th></th>\n",
       "    </tr>\n",
       "  </thead>\n",
       "  <tbody>\n",
       "    <tr>\n",
       "      <th>FAIRLY SATISFIED</th>\n",
       "      <td>118</td>\n",
       "      <td>22</td>\n",
       "    </tr>\n",
       "    <tr>\n",
       "      <th>NOT SATISFIED</th>\n",
       "      <td>8</td>\n",
       "      <td>1</td>\n",
       "    </tr>\n",
       "    <tr>\n",
       "      <th>SATISFIED</th>\n",
       "      <td>893</td>\n",
       "      <td>132</td>\n",
       "    </tr>\n",
       "  </tbody>\n",
       "</table>\n",
       "</div>"
      ],
      "text/plain": [
       "Would_live_in_another_neighborhood  0.0  1.0\n",
       "BCN_satisfaction                            \n",
       "FAIRLY SATISFIED                    118   22\n",
       "NOT SATISFIED                         8    1\n",
       "SATISFIED                           893  132"
      ]
     },
     "metadata": {},
     "output_type": "display_data"
    },
    {
     "data": {
      "text/html": [
       "<div>\n",
       "<style scoped>\n",
       "    .dataframe tbody tr th:only-of-type {\n",
       "        vertical-align: middle;\n",
       "    }\n",
       "\n",
       "    .dataframe tbody tr th {\n",
       "        vertical-align: top;\n",
       "    }\n",
       "\n",
       "    .dataframe thead th {\n",
       "        text-align: right;\n",
       "    }\n",
       "</style>\n",
       "<table border=\"1\" class=\"dataframe\">\n",
       "  <thead>\n",
       "    <tr style=\"text-align: right;\">\n",
       "      <th>Would_live_in_another_neighborhood</th>\n",
       "      <th>0.0</th>\n",
       "      <th>1.0</th>\n",
       "    </tr>\n",
       "    <tr>\n",
       "      <th>Barri_security</th>\n",
       "      <th></th>\n",
       "      <th></th>\n",
       "    </tr>\n",
       "  </thead>\n",
       "  <tbody>\n",
       "    <tr>\n",
       "      <th>BAD</th>\n",
       "      <td>152</td>\n",
       "      <td>40</td>\n",
       "    </tr>\n",
       "    <tr>\n",
       "      <th>GOOD</th>\n",
       "      <td>455</td>\n",
       "      <td>49</td>\n",
       "    </tr>\n",
       "    <tr>\n",
       "      <th>NEITHER BAD, NOR GOOD</th>\n",
       "      <td>412</td>\n",
       "      <td>66</td>\n",
       "    </tr>\n",
       "  </tbody>\n",
       "</table>\n",
       "</div>"
      ],
      "text/plain": [
       "Would_live_in_another_neighborhood  0.0  1.0\n",
       "Barri_security                              \n",
       "BAD                                 152   40\n",
       "GOOD                                455   49\n",
       "NEITHER BAD, NOR GOOD               412   66"
      ]
     },
     "metadata": {},
     "output_type": "display_data"
    },
    {
     "data": {
      "text/html": [
       "<div>\n",
       "<style scoped>\n",
       "    .dataframe tbody tr th:only-of-type {\n",
       "        vertical-align: middle;\n",
       "    }\n",
       "\n",
       "    .dataframe tbody tr th {\n",
       "        vertical-align: top;\n",
       "    }\n",
       "\n",
       "    .dataframe thead th {\n",
       "        text-align: right;\n",
       "    }\n",
       "</style>\n",
       "<table border=\"1\" class=\"dataframe\">\n",
       "  <thead>\n",
       "    <tr style=\"text-align: right;\">\n",
       "      <th>Would_live_in_another_neighborhood</th>\n",
       "      <th>0.0</th>\n",
       "      <th>1.0</th>\n",
       "    </tr>\n",
       "    <tr>\n",
       "      <th>BCN_security</th>\n",
       "      <th></th>\n",
       "      <th></th>\n",
       "    </tr>\n",
       "  </thead>\n",
       "  <tbody>\n",
       "    <tr>\n",
       "      <th>BAD</th>\n",
       "      <td>199</td>\n",
       "      <td>40</td>\n",
       "    </tr>\n",
       "    <tr>\n",
       "      <th>GOOD</th>\n",
       "      <td>285</td>\n",
       "      <td>38</td>\n",
       "    </tr>\n",
       "    <tr>\n",
       "      <th>NEITHER BAD, NOR GOOD</th>\n",
       "      <td>535</td>\n",
       "      <td>77</td>\n",
       "    </tr>\n",
       "  </tbody>\n",
       "</table>\n",
       "</div>"
      ],
      "text/plain": [
       "Would_live_in_another_neighborhood  0.0  1.0\n",
       "BCN_security                                \n",
       "BAD                                 199   40\n",
       "GOOD                                285   38\n",
       "NEITHER BAD, NOR GOOD               535   77"
      ]
     },
     "metadata": {},
     "output_type": "display_data"
    },
    {
     "data": {
      "text/html": [
       "<div>\n",
       "<style scoped>\n",
       "    .dataframe tbody tr th:only-of-type {\n",
       "        vertical-align: middle;\n",
       "    }\n",
       "\n",
       "    .dataframe tbody tr th {\n",
       "        vertical-align: top;\n",
       "    }\n",
       "\n",
       "    .dataframe thead th {\n",
       "        text-align: right;\n",
       "    }\n",
       "</style>\n",
       "<table border=\"1\" class=\"dataframe\">\n",
       "  <thead>\n",
       "    <tr style=\"text-align: right;\">\n",
       "      <th>Would_live_in_another_neighborhood</th>\n",
       "      <th>0.0</th>\n",
       "      <th>1.0</th>\n",
       "    </tr>\n",
       "    <tr>\n",
       "      <th>Barri_management</th>\n",
       "      <th></th>\n",
       "      <th></th>\n",
       "    </tr>\n",
       "  </thead>\n",
       "  <tbody>\n",
       "    <tr>\n",
       "      <th>BAD</th>\n",
       "      <td>65</td>\n",
       "      <td>17</td>\n",
       "    </tr>\n",
       "    <tr>\n",
       "      <th>GOOD</th>\n",
       "      <td>509</td>\n",
       "      <td>56</td>\n",
       "    </tr>\n",
       "    <tr>\n",
       "      <th>NEITHER BAD, NOR GOOD</th>\n",
       "      <td>445</td>\n",
       "      <td>82</td>\n",
       "    </tr>\n",
       "  </tbody>\n",
       "</table>\n",
       "</div>"
      ],
      "text/plain": [
       "Would_live_in_another_neighborhood  0.0  1.0\n",
       "Barri_management                            \n",
       "BAD                                  65   17\n",
       "GOOD                                509   56\n",
       "NEITHER BAD, NOR GOOD               445   82"
      ]
     },
     "metadata": {},
     "output_type": "display_data"
    },
    {
     "data": {
      "text/html": [
       "<div>\n",
       "<style scoped>\n",
       "    .dataframe tbody tr th:only-of-type {\n",
       "        vertical-align: middle;\n",
       "    }\n",
       "\n",
       "    .dataframe tbody tr th {\n",
       "        vertical-align: top;\n",
       "    }\n",
       "\n",
       "    .dataframe thead th {\n",
       "        text-align: right;\n",
       "    }\n",
       "</style>\n",
       "<table border=\"1\" class=\"dataframe\">\n",
       "  <thead>\n",
       "    <tr style=\"text-align: right;\">\n",
       "      <th>Would_live_in_another_neighborhood</th>\n",
       "      <th>0.0</th>\n",
       "      <th>1.0</th>\n",
       "    </tr>\n",
       "    <tr>\n",
       "      <th>BCN_management</th>\n",
       "      <th></th>\n",
       "      <th></th>\n",
       "    </tr>\n",
       "  </thead>\n",
       "  <tbody>\n",
       "    <tr>\n",
       "      <th>BAD</th>\n",
       "      <td>96</td>\n",
       "      <td>21</td>\n",
       "    </tr>\n",
       "    <tr>\n",
       "      <th>GOOD</th>\n",
       "      <td>431</td>\n",
       "      <td>46</td>\n",
       "    </tr>\n",
       "    <tr>\n",
       "      <th>NEITHER BAD, NOR GOOD</th>\n",
       "      <td>492</td>\n",
       "      <td>88</td>\n",
       "    </tr>\n",
       "  </tbody>\n",
       "</table>\n",
       "</div>"
      ],
      "text/plain": [
       "Would_live_in_another_neighborhood  0.0  1.0\n",
       "BCN_management                              \n",
       "BAD                                  96   21\n",
       "GOOD                                431   46\n",
       "NEITHER BAD, NOR GOOD               492   88"
      ]
     },
     "metadata": {},
     "output_type": "display_data"
    },
    {
     "data": {
      "text/html": [
       "<div>\n",
       "<style scoped>\n",
       "    .dataframe tbody tr th:only-of-type {\n",
       "        vertical-align: middle;\n",
       "    }\n",
       "\n",
       "    .dataframe tbody tr th {\n",
       "        vertical-align: top;\n",
       "    }\n",
       "\n",
       "    .dataframe thead th {\n",
       "        text-align: right;\n",
       "    }\n",
       "</style>\n",
       "<table border=\"1\" class=\"dataframe\">\n",
       "  <thead>\n",
       "    <tr style=\"text-align: right;\">\n",
       "      <th>Would_live_in_another_neighborhood</th>\n",
       "      <th>0.0</th>\n",
       "      <th>1.0</th>\n",
       "    </tr>\n",
       "    <tr>\n",
       "      <th>Barri_comparison</th>\n",
       "      <th></th>\n",
       "      <th></th>\n",
       "    </tr>\n",
       "  </thead>\n",
       "  <tbody>\n",
       "    <tr>\n",
       "      <th>NEITHER THE BEST, NOR THE WORST</th>\n",
       "      <td>341</td>\n",
       "      <td>94</td>\n",
       "    </tr>\n",
       "    <tr>\n",
       "      <th>ONE OF THE BEST</th>\n",
       "      <td>649</td>\n",
       "      <td>41</td>\n",
       "    </tr>\n",
       "    <tr>\n",
       "      <th>ONE OF THE WORST</th>\n",
       "      <td>29</td>\n",
       "      <td>20</td>\n",
       "    </tr>\n",
       "  </tbody>\n",
       "</table>\n",
       "</div>"
      ],
      "text/plain": [
       "Would_live_in_another_neighborhood  0.0  1.0\n",
       "Barri_comparison                            \n",
       "NEITHER THE BEST, NOR THE WORST     341   94\n",
       "ONE OF THE BEST                     649   41\n",
       "ONE OF THE WORST                     29   20"
      ]
     },
     "metadata": {},
     "output_type": "display_data"
    },
    {
     "data": {
      "text/html": [
       "<div>\n",
       "<style scoped>\n",
       "    .dataframe tbody tr th:only-of-type {\n",
       "        vertical-align: middle;\n",
       "    }\n",
       "\n",
       "    .dataframe tbody tr th {\n",
       "        vertical-align: top;\n",
       "    }\n",
       "\n",
       "    .dataframe thead th {\n",
       "        text-align: right;\n",
       "    }\n",
       "</style>\n",
       "<table border=\"1\" class=\"dataframe\">\n",
       "  <thead>\n",
       "    <tr style=\"text-align: right;\">\n",
       "      <th>Would_live_in_another_neighborhood</th>\n",
       "      <th>0.0</th>\n",
       "      <th>1.0</th>\n",
       "    </tr>\n",
       "    <tr>\n",
       "      <th>Barri_association</th>\n",
       "      <th></th>\n",
       "      <th></th>\n",
       "    </tr>\n",
       "  </thead>\n",
       "  <tbody>\n",
       "    <tr>\n",
       "      <th>0.0</th>\n",
       "      <td>805</td>\n",
       "      <td>128</td>\n",
       "    </tr>\n",
       "    <tr>\n",
       "      <th>1.0</th>\n",
       "      <td>214</td>\n",
       "      <td>27</td>\n",
       "    </tr>\n",
       "  </tbody>\n",
       "</table>\n",
       "</div>"
      ],
      "text/plain": [
       "Would_live_in_another_neighborhood  0.0  1.0\n",
       "Barri_association                           \n",
       "0.0                                 805  128\n",
       "1.0                                 214   27"
      ]
     },
     "metadata": {},
     "output_type": "display_data"
    },
    {
     "data": {
      "text/html": [
       "<div>\n",
       "<style scoped>\n",
       "    .dataframe tbody tr th:only-of-type {\n",
       "        vertical-align: middle;\n",
       "    }\n",
       "\n",
       "    .dataframe tbody tr th {\n",
       "        vertical-align: top;\n",
       "    }\n",
       "\n",
       "    .dataframe thead th {\n",
       "        text-align: right;\n",
       "    }\n",
       "</style>\n",
       "<table border=\"1\" class=\"dataframe\">\n",
       "  <thead>\n",
       "    <tr style=\"text-align: right;\">\n",
       "      <th>Would_live_in_another_neighborhood</th>\n",
       "      <th>0.0</th>\n",
       "      <th>1.0</th>\n",
       "    </tr>\n",
       "    <tr>\n",
       "      <th>Barri_transport</th>\n",
       "      <th></th>\n",
       "      <th></th>\n",
       "    </tr>\n",
       "  </thead>\n",
       "  <tbody>\n",
       "    <tr>\n",
       "      <th>BAD</th>\n",
       "      <td>149</td>\n",
       "      <td>22</td>\n",
       "    </tr>\n",
       "    <tr>\n",
       "      <th>GOOD</th>\n",
       "      <td>812</td>\n",
       "      <td>120</td>\n",
       "    </tr>\n",
       "    <tr>\n",
       "      <th>NEITHER BAD, NOR GOOD</th>\n",
       "      <td>58</td>\n",
       "      <td>13</td>\n",
       "    </tr>\n",
       "  </tbody>\n",
       "</table>\n",
       "</div>"
      ],
      "text/plain": [
       "Would_live_in_another_neighborhood  0.0  1.0\n",
       "Barri_transport                             \n",
       "BAD                                 149   22\n",
       "GOOD                                812  120\n",
       "NEITHER BAD, NOR GOOD                58   13"
      ]
     },
     "metadata": {},
     "output_type": "display_data"
    },
    {
     "data": {
      "text/html": [
       "<div>\n",
       "<style scoped>\n",
       "    .dataframe tbody tr th:only-of-type {\n",
       "        vertical-align: middle;\n",
       "    }\n",
       "\n",
       "    .dataframe tbody tr th {\n",
       "        vertical-align: top;\n",
       "    }\n",
       "\n",
       "    .dataframe thead th {\n",
       "        text-align: right;\n",
       "    }\n",
       "</style>\n",
       "<table border=\"1\" class=\"dataframe\">\n",
       "  <thead>\n",
       "    <tr style=\"text-align: right;\">\n",
       "      <th>Would_live_in_another_neighborhood</th>\n",
       "      <th>0.0</th>\n",
       "      <th>1.0</th>\n",
       "    </tr>\n",
       "    <tr>\n",
       "      <th>BCN_transport</th>\n",
       "      <th></th>\n",
       "      <th></th>\n",
       "    </tr>\n",
       "  </thead>\n",
       "  <tbody>\n",
       "    <tr>\n",
       "      <th>BAD</th>\n",
       "      <td>95</td>\n",
       "      <td>21</td>\n",
       "    </tr>\n",
       "    <tr>\n",
       "      <th>GOOD</th>\n",
       "      <td>824</td>\n",
       "      <td>125</td>\n",
       "    </tr>\n",
       "    <tr>\n",
       "      <th>NEITHER BAD, NOR GOOD</th>\n",
       "      <td>100</td>\n",
       "      <td>9</td>\n",
       "    </tr>\n",
       "  </tbody>\n",
       "</table>\n",
       "</div>"
      ],
      "text/plain": [
       "Would_live_in_another_neighborhood  0.0  1.0\n",
       "BCN_transport                               \n",
       "BAD                                  95   21\n",
       "GOOD                                824  125\n",
       "NEITHER BAD, NOR GOOD               100    9"
      ]
     },
     "metadata": {},
     "output_type": "display_data"
    },
    {
     "data": {
      "text/html": [
       "<div>\n",
       "<style scoped>\n",
       "    .dataframe tbody tr th:only-of-type {\n",
       "        vertical-align: middle;\n",
       "    }\n",
       "\n",
       "    .dataframe tbody tr th {\n",
       "        vertical-align: top;\n",
       "    }\n",
       "\n",
       "    .dataframe thead th {\n",
       "        text-align: right;\n",
       "    }\n",
       "</style>\n",
       "<table border=\"1\" class=\"dataframe\">\n",
       "  <thead>\n",
       "    <tr style=\"text-align: right;\">\n",
       "      <th>Would_live_in_another_neighborhood</th>\n",
       "      <th>0.0</th>\n",
       "      <th>1.0</th>\n",
       "    </tr>\n",
       "    <tr>\n",
       "      <th>Barri_problem_with_security</th>\n",
       "      <th></th>\n",
       "      <th></th>\n",
       "    </tr>\n",
       "  </thead>\n",
       "  <tbody>\n",
       "    <tr>\n",
       "      <th>0</th>\n",
       "      <td>860</td>\n",
       "      <td>131</td>\n",
       "    </tr>\n",
       "    <tr>\n",
       "      <th>1</th>\n",
       "      <td>159</td>\n",
       "      <td>24</td>\n",
       "    </tr>\n",
       "  </tbody>\n",
       "</table>\n",
       "</div>"
      ],
      "text/plain": [
       "Would_live_in_another_neighborhood  0.0  1.0\n",
       "Barri_problem_with_security                 \n",
       "0                                   860  131\n",
       "1                                   159   24"
      ]
     },
     "metadata": {},
     "output_type": "display_data"
    },
    {
     "data": {
      "text/html": [
       "<div>\n",
       "<style scoped>\n",
       "    .dataframe tbody tr th:only-of-type {\n",
       "        vertical-align: middle;\n",
       "    }\n",
       "\n",
       "    .dataframe tbody tr th {\n",
       "        vertical-align: top;\n",
       "    }\n",
       "\n",
       "    .dataframe thead th {\n",
       "        text-align: right;\n",
       "    }\n",
       "</style>\n",
       "<table border=\"1\" class=\"dataframe\">\n",
       "  <thead>\n",
       "    <tr style=\"text-align: right;\">\n",
       "      <th>Would_live_in_another_neighborhood</th>\n",
       "      <th>0.0</th>\n",
       "      <th>1.0</th>\n",
       "    </tr>\n",
       "    <tr>\n",
       "      <th>Barri_problem_with_streets_cleaning</th>\n",
       "      <th></th>\n",
       "      <th></th>\n",
       "    </tr>\n",
       "  </thead>\n",
       "  <tbody>\n",
       "    <tr>\n",
       "      <th>0</th>\n",
       "      <td>920</td>\n",
       "      <td>138</td>\n",
       "    </tr>\n",
       "    <tr>\n",
       "      <th>1</th>\n",
       "      <td>99</td>\n",
       "      <td>17</td>\n",
       "    </tr>\n",
       "  </tbody>\n",
       "</table>\n",
       "</div>"
      ],
      "text/plain": [
       "Would_live_in_another_neighborhood   0.0  1.0\n",
       "Barri_problem_with_streets_cleaning          \n",
       "0                                    920  138\n",
       "1                                     99   17"
      ]
     },
     "metadata": {},
     "output_type": "display_data"
    },
    {
     "data": {
      "text/html": [
       "<div>\n",
       "<style scoped>\n",
       "    .dataframe tbody tr th:only-of-type {\n",
       "        vertical-align: middle;\n",
       "    }\n",
       "\n",
       "    .dataframe tbody tr th {\n",
       "        vertical-align: top;\n",
       "    }\n",
       "\n",
       "    .dataframe thead th {\n",
       "        text-align: right;\n",
       "    }\n",
       "</style>\n",
       "<table border=\"1\" class=\"dataframe\">\n",
       "  <thead>\n",
       "    <tr style=\"text-align: right;\">\n",
       "      <th>Would_live_in_another_neighborhood</th>\n",
       "      <th>0.0</th>\n",
       "      <th>1.0</th>\n",
       "    </tr>\n",
       "    <tr>\n",
       "      <th>Barri_problem_with_mobility</th>\n",
       "      <th></th>\n",
       "      <th></th>\n",
       "    </tr>\n",
       "  </thead>\n",
       "  <tbody>\n",
       "    <tr>\n",
       "      <th>0</th>\n",
       "      <td>962</td>\n",
       "      <td>148</td>\n",
       "    </tr>\n",
       "    <tr>\n",
       "      <th>1</th>\n",
       "      <td>57</td>\n",
       "      <td>7</td>\n",
       "    </tr>\n",
       "  </tbody>\n",
       "</table>\n",
       "</div>"
      ],
      "text/plain": [
       "Would_live_in_another_neighborhood  0.0  1.0\n",
       "Barri_problem_with_mobility                 \n",
       "0                                   962  148\n",
       "1                                    57    7"
      ]
     },
     "metadata": {},
     "output_type": "display_data"
    },
    {
     "data": {
      "text/html": [
       "<div>\n",
       "<style scoped>\n",
       "    .dataframe tbody tr th:only-of-type {\n",
       "        vertical-align: middle;\n",
       "    }\n",
       "\n",
       "    .dataframe tbody tr th {\n",
       "        vertical-align: top;\n",
       "    }\n",
       "\n",
       "    .dataframe thead th {\n",
       "        text-align: right;\n",
       "    }\n",
       "</style>\n",
       "<table border=\"1\" class=\"dataframe\">\n",
       "  <thead>\n",
       "    <tr style=\"text-align: right;\">\n",
       "      <th>Would_live_in_another_neighborhood</th>\n",
       "      <th>0.0</th>\n",
       "      <th>1.0</th>\n",
       "    </tr>\n",
       "    <tr>\n",
       "      <th>BCN_over_barri_evolution</th>\n",
       "      <th></th>\n",
       "      <th></th>\n",
       "    </tr>\n",
       "  </thead>\n",
       "  <tbody>\n",
       "    <tr>\n",
       "      <th>0</th>\n",
       "      <td>913</td>\n",
       "      <td>140</td>\n",
       "    </tr>\n",
       "    <tr>\n",
       "      <th>1</th>\n",
       "      <td>106</td>\n",
       "      <td>15</td>\n",
       "    </tr>\n",
       "  </tbody>\n",
       "</table>\n",
       "</div>"
      ],
      "text/plain": [
       "Would_live_in_another_neighborhood  0.0  1.0\n",
       "BCN_over_barri_evolution                    \n",
       "0                                   913  140\n",
       "1                                   106   15"
      ]
     },
     "metadata": {},
     "output_type": "display_data"
    },
    {
     "data": {
      "text/html": [
       "<div>\n",
       "<style scoped>\n",
       "    .dataframe tbody tr th:only-of-type {\n",
       "        vertical-align: middle;\n",
       "    }\n",
       "\n",
       "    .dataframe tbody tr th {\n",
       "        vertical-align: top;\n",
       "    }\n",
       "\n",
       "    .dataframe thead th {\n",
       "        text-align: right;\n",
       "    }\n",
       "</style>\n",
       "<table border=\"1\" class=\"dataframe\">\n",
       "  <thead>\n",
       "    <tr style=\"text-align: right;\">\n",
       "      <th>Would_live_in_another_neighborhood</th>\n",
       "      <th>0.0</th>\n",
       "      <th>1.0</th>\n",
       "    </tr>\n",
       "    <tr>\n",
       "      <th>BCN_over_barri_future</th>\n",
       "      <th></th>\n",
       "      <th></th>\n",
       "    </tr>\n",
       "  </thead>\n",
       "  <tbody>\n",
       "    <tr>\n",
       "      <th>0</th>\n",
       "      <td>871</td>\n",
       "      <td>126</td>\n",
       "    </tr>\n",
       "    <tr>\n",
       "      <th>1</th>\n",
       "      <td>148</td>\n",
       "      <td>29</td>\n",
       "    </tr>\n",
       "  </tbody>\n",
       "</table>\n",
       "</div>"
      ],
      "text/plain": [
       "Would_live_in_another_neighborhood  0.0  1.0\n",
       "BCN_over_barri_future                       \n",
       "0                                   871  126\n",
       "1                                   148   29"
      ]
     },
     "metadata": {},
     "output_type": "display_data"
    },
    {
     "data": {
      "text/html": [
       "<div>\n",
       "<style scoped>\n",
       "    .dataframe tbody tr th:only-of-type {\n",
       "        vertical-align: middle;\n",
       "    }\n",
       "\n",
       "    .dataframe tbody tr th {\n",
       "        vertical-align: top;\n",
       "    }\n",
       "\n",
       "    .dataframe thead th {\n",
       "        text-align: right;\n",
       "    }\n",
       "</style>\n",
       "<table border=\"1\" class=\"dataframe\">\n",
       "  <thead>\n",
       "    <tr style=\"text-align: right;\">\n",
       "      <th>Would_live_in_another_neighborhood</th>\n",
       "      <th>0.0</th>\n",
       "      <th>1.0</th>\n",
       "    </tr>\n",
       "    <tr>\n",
       "      <th>BCN_over_barri_satisfaction</th>\n",
       "      <th></th>\n",
       "      <th></th>\n",
       "    </tr>\n",
       "  </thead>\n",
       "  <tbody>\n",
       "    <tr>\n",
       "      <th>0</th>\n",
       "      <td>968</td>\n",
       "      <td>126</td>\n",
       "    </tr>\n",
       "    <tr>\n",
       "      <th>1</th>\n",
       "      <td>51</td>\n",
       "      <td>29</td>\n",
       "    </tr>\n",
       "  </tbody>\n",
       "</table>\n",
       "</div>"
      ],
      "text/plain": [
       "Would_live_in_another_neighborhood  0.0  1.0\n",
       "BCN_over_barri_satisfaction                 \n",
       "0                                   968  126\n",
       "1                                    51   29"
      ]
     },
     "metadata": {},
     "output_type": "display_data"
    },
    {
     "data": {
      "text/html": [
       "<div>\n",
       "<style scoped>\n",
       "    .dataframe tbody tr th:only-of-type {\n",
       "        vertical-align: middle;\n",
       "    }\n",
       "\n",
       "    .dataframe tbody tr th {\n",
       "        vertical-align: top;\n",
       "    }\n",
       "\n",
       "    .dataframe thead th {\n",
       "        text-align: right;\n",
       "    }\n",
       "</style>\n",
       "<table border=\"1\" class=\"dataframe\">\n",
       "  <thead>\n",
       "    <tr style=\"text-align: right;\">\n",
       "      <th>Would_live_in_another_neighborhood</th>\n",
       "      <th>0.0</th>\n",
       "      <th>1.0</th>\n",
       "    </tr>\n",
       "    <tr>\n",
       "      <th>BCN_over_barri_transport</th>\n",
       "      <th></th>\n",
       "      <th></th>\n",
       "    </tr>\n",
       "  </thead>\n",
       "  <tbody>\n",
       "    <tr>\n",
       "      <th>0</th>\n",
       "      <td>921</td>\n",
       "      <td>146</td>\n",
       "    </tr>\n",
       "    <tr>\n",
       "      <th>1</th>\n",
       "      <td>98</td>\n",
       "      <td>9</td>\n",
       "    </tr>\n",
       "  </tbody>\n",
       "</table>\n",
       "</div>"
      ],
      "text/plain": [
       "Would_live_in_another_neighborhood  0.0  1.0\n",
       "BCN_over_barri_transport                    \n",
       "0                                   921  146\n",
       "1                                    98    9"
      ]
     },
     "metadata": {},
     "output_type": "display_data"
    },
    {
     "data": {
      "text/html": [
       "<div>\n",
       "<style scoped>\n",
       "    .dataframe tbody tr th:only-of-type {\n",
       "        vertical-align: middle;\n",
       "    }\n",
       "\n",
       "    .dataframe tbody tr th {\n",
       "        vertical-align: top;\n",
       "    }\n",
       "\n",
       "    .dataframe thead th {\n",
       "        text-align: right;\n",
       "    }\n",
       "</style>\n",
       "<table border=\"1\" class=\"dataframe\">\n",
       "  <thead>\n",
       "    <tr style=\"text-align: right;\">\n",
       "      <th>Would_live_in_another_neighborhood</th>\n",
       "      <th>0.0</th>\n",
       "      <th>1.0</th>\n",
       "    </tr>\n",
       "    <tr>\n",
       "      <th>BCN_over_barri_management</th>\n",
       "      <th></th>\n",
       "      <th></th>\n",
       "    </tr>\n",
       "  </thead>\n",
       "  <tbody>\n",
       "    <tr>\n",
       "      <th>0</th>\n",
       "      <td>983</td>\n",
       "      <td>147</td>\n",
       "    </tr>\n",
       "    <tr>\n",
       "      <th>1</th>\n",
       "      <td>36</td>\n",
       "      <td>8</td>\n",
       "    </tr>\n",
       "  </tbody>\n",
       "</table>\n",
       "</div>"
      ],
      "text/plain": [
       "Would_live_in_another_neighborhood  0.0  1.0\n",
       "BCN_over_barri_management                   \n",
       "0                                   983  147\n",
       "1                                    36    8"
      ]
     },
     "metadata": {},
     "output_type": "display_data"
    },
    {
     "data": {
      "text/html": [
       "<div>\n",
       "<style scoped>\n",
       "    .dataframe tbody tr th:only-of-type {\n",
       "        vertical-align: middle;\n",
       "    }\n",
       "\n",
       "    .dataframe tbody tr th {\n",
       "        vertical-align: top;\n",
       "    }\n",
       "\n",
       "    .dataframe thead th {\n",
       "        text-align: right;\n",
       "    }\n",
       "</style>\n",
       "<table border=\"1\" class=\"dataframe\">\n",
       "  <thead>\n",
       "    <tr style=\"text-align: right;\">\n",
       "      <th>Would_live_in_another_neighborhood</th>\n",
       "      <th>0.0</th>\n",
       "      <th>1.0</th>\n",
       "    </tr>\n",
       "    <tr>\n",
       "      <th>BCN_over_barri_security</th>\n",
       "      <th></th>\n",
       "      <th></th>\n",
       "    </tr>\n",
       "  </thead>\n",
       "  <tbody>\n",
       "    <tr>\n",
       "      <th>0</th>\n",
       "      <td>973</td>\n",
       "      <td>145</td>\n",
       "    </tr>\n",
       "    <tr>\n",
       "      <th>1</th>\n",
       "      <td>46</td>\n",
       "      <td>10</td>\n",
       "    </tr>\n",
       "  </tbody>\n",
       "</table>\n",
       "</div>"
      ],
      "text/plain": [
       "Would_live_in_another_neighborhood  0.0  1.0\n",
       "BCN_over_barri_security                     \n",
       "0                                   973  145\n",
       "1                                    46   10"
      ]
     },
     "metadata": {},
     "output_type": "display_data"
    }
   ],
   "source": [
    "for i in data.columns.tolist():\n",
    "    display(pd.crosstab(data[i], data.Would_live_in_another_neighborhood))"
   ]
  },
  {
   "cell_type": "code",
   "execution_count": 9,
   "metadata": {},
   "outputs": [
    {
     "data": {
      "text/plain": [
       "['Would_live_in_another_neighborhood',\n",
       " 'District',\n",
       " 'Woman',\n",
       " 'Car',\n",
       " 'Support_with_housework',\n",
       " 'Owner',\n",
       " 'House_size',\n",
       " 'Living_alone',\n",
       " 'Financial_situation',\n",
       " 'Disability',\n",
       " 'Living_with_disabled_person',\n",
       " 'Time_living_in_barri',\n",
       " 'Barri_evolution',\n",
       " 'BCN_evolution',\n",
       " 'Barri_future',\n",
       " 'BCN_future',\n",
       " 'Barri_satisfaction',\n",
       " 'BCN_satisfaction',\n",
       " 'Barri_security',\n",
       " 'BCN_security',\n",
       " 'Barri_management',\n",
       " 'BCN_management',\n",
       " 'Barri_comparison',\n",
       " 'Barri_association',\n",
       " 'Barri_transport',\n",
       " 'BCN_transport',\n",
       " 'Barri_problem_with_security',\n",
       " 'Barri_problem_with_streets_cleaning',\n",
       " 'Barri_problem_with_mobility',\n",
       " 'BCN_over_barri_evolution',\n",
       " 'BCN_over_barri_future',\n",
       " 'BCN_over_barri_satisfaction',\n",
       " 'BCN_over_barri_transport',\n",
       " 'BCN_over_barri_management',\n",
       " 'BCN_over_barri_security']"
      ]
     },
     "execution_count": 9,
     "metadata": {},
     "output_type": "execute_result"
    }
   ],
   "source": [
    "data.columns.tolist()"
   ]
  },
  {
   "cell_type": "code",
   "execution_count": null,
   "metadata": {},
   "outputs": [],
   "source": []
  },
  {
   "cell_type": "code",
   "execution_count": 10,
   "metadata": {},
   "outputs": [],
   "source": [
    "x_var = ['District',\n",
    " 'Woman',\n",
    " 'Car',\n",
    " 'Support_with_housework',\n",
    " 'Owner',\n",
    " 'House_size',\n",
    " 'Living_alone',\n",
    " 'Financial_situation',\n",
    " 'Disability',\n",
    " 'Living_with_disabled_person',\n",
    " 'Time_living_in_barri',\n",
    " #'Barri_evolution',\n",
    " #'BCN_evolution',\n",
    " #'Barri_future',\n",
    " #'BCN_future',\n",
    " 'Barri_satisfaction',\n",
    " #'BCN_satisfaction',\n",
    " 'Barri_security',\n",
    " #'BCN_security',\n",
    " 'Barri_management',\n",
    " #'BCN_management',\n",
    " 'Barri_comparison',\n",
    " 'Barri_association',\n",
    " 'Barri_transport',\n",
    " #'BCN_transport',\n",
    " #'BCN_over_barri_evolution',\n",
    " #'BCN_over_barri_future',\n",
    " 'BCN_over_barri_satisfaction',\n",
    " 'BCN_over_barri_transport',\n",
    " 'BCN_over_barri_management',\n",
    " 'BCN_over_barri_security']"
   ]
  },
  {
   "cell_type": "code",
   "execution_count": null,
   "metadata": {},
   "outputs": [],
   "source": []
  },
  {
   "cell_type": "code",
   "execution_count": 11,
   "metadata": {},
   "outputs": [],
   "source": [
    "y = data['Would_live_in_another_neighborhood']"
   ]
  },
  {
   "cell_type": "code",
   "execution_count": null,
   "metadata": {},
   "outputs": [],
   "source": []
  },
  {
   "cell_type": "code",
   "execution_count": 12,
   "metadata": {},
   "outputs": [],
   "source": [
    "x = pd.get_dummies(data[x_var])"
   ]
  },
  {
   "cell_type": "code",
   "execution_count": 13,
   "metadata": {},
   "outputs": [
    {
     "data": {
      "text/plain": [
       "Index(['Woman', 'Car', 'Support_with_housework', 'Owner', 'Living_alone',\n",
       "       'Disability', 'Living_with_disabled_person', 'Barri_association',\n",
       "       'BCN_over_barri_satisfaction', 'BCN_over_barri_transport',\n",
       "       'BCN_over_barri_management', 'BCN_over_barri_security',\n",
       "       'District_CIUTAT VELLA', 'District_EIXAMPLE', 'District_GRÀCIA',\n",
       "       'District_HORTA - GUINARDÓ', 'District_LES CORTS',\n",
       "       'District_NOU BARRIS', 'District_SANT ANDREU', 'District_SANT MARTÍ',\n",
       "       'District_SANTS - MONTJUÏC', 'District_SARRIÀ - SANT GERVASI',\n",
       "       'House_size_101-150 M2', 'House_size_51-100 M2', 'House_size_< 50 M2',\n",
       "       'House_size_> 150 M2', 'House_size_I DON'T KNOW',\n",
       "       'Financial_situation_BAD', 'Financial_situation_GOOD',\n",
       "       'Time_living_in_barri_I HAVE ALWAYS LIVED IN THE NEIGHBORHOOD',\n",
       "       'Time_living_in_barri_LESS THAN 10 YEARS',\n",
       "       'Time_living_in_barri_MORE THAN 10 YEARS',\n",
       "       'Barri_satisfaction_FAIRLY SATISFIED',\n",
       "       'Barri_satisfaction_NOT SATISFIED', 'Barri_satisfaction_SATISFIED',\n",
       "       'Barri_security_BAD', 'Barri_security_GOOD',\n",
       "       'Barri_security_NEITHER BAD, NOR GOOD', 'Barri_management_BAD',\n",
       "       'Barri_management_GOOD', 'Barri_management_NEITHER BAD, NOR GOOD',\n",
       "       'Barri_comparison_NEITHER THE BEST, NOR THE WORST',\n",
       "       'Barri_comparison_ONE OF THE BEST', 'Barri_comparison_ONE OF THE WORST',\n",
       "       'Barri_transport_BAD', 'Barri_transport_GOOD',\n",
       "       'Barri_transport_NEITHER BAD, NOR GOOD'],\n",
       "      dtype='object')"
      ]
     },
     "execution_count": 13,
     "metadata": {},
     "output_type": "execute_result"
    }
   ],
   "source": [
    "x.columns"
   ]
  },
  {
   "cell_type": "code",
   "execution_count": 14,
   "metadata": {},
   "outputs": [],
   "source": [
    "for i in ['District_EIXAMPLE',\n",
    "          'House_size_< 50 M2',\n",
    "          'Financial_situation_GOOD',\n",
    "          'Time_living_in_barri_LESS THAN 10 YEARS',\n",
    "         'Barri_satisfaction_SATISFIED',\n",
    "         'Barri_security_GOOD',\n",
    "         'Barri_management_GOOD',\n",
    "         'Barri_comparison_ONE OF THE BEST',\n",
    "         'Barri_transport_GOOD']:\n",
    "    del x[i]"
   ]
  },
  {
   "cell_type": "code",
   "execution_count": 15,
   "metadata": {},
   "outputs": [],
   "source": [
    "x = sm.add_constant(x)"
   ]
  },
  {
   "cell_type": "code",
   "execution_count": 16,
   "metadata": {
    "scrolled": false
   },
   "outputs": [],
   "source": [
    "# logit_model = sm.Logit(y,x)\n",
    "# result=logit_model.fit()\n",
    "# print(result.summary2())"
   ]
  },
  {
   "cell_type": "code",
   "execution_count": 17,
   "metadata": {},
   "outputs": [],
   "source": [
    "# logit_roc_auc = roc_auc_score(y, result.predict(x))\n",
    "# fpr, tpr, thresholds = roc_curve(y, result.predict(x))\n",
    "# plt.figure()\n",
    "# plt.plot(fpr, tpr, label='Logistic Regression (area = %0.2f)' % logit_roc_auc)\n",
    "# plt.plot([0, 1], [0, 1],'r--')\n",
    "# plt.xlim([0.0, 1.0])\n",
    "# plt.ylim([0.0, 1.05])\n",
    "# plt.xlabel('False Positive Rate')\n",
    "# plt.ylabel('True Positive Rate')\n",
    "# plt.title('Receiver operating characteristic')\n",
    "# plt.legend(loc=\"lower right\")\n",
    "# #plt.savefig('Log_ROC')\n",
    "# plt.show()"
   ]
  },
  {
   "cell_type": "code",
   "execution_count": null,
   "metadata": {},
   "outputs": [],
   "source": []
  },
  {
   "cell_type": "code",
   "execution_count": 18,
   "metadata": {},
   "outputs": [],
   "source": [
    "# result.pvalues.sort_values(ascending=False)"
   ]
  },
  {
   "cell_type": "code",
   "execution_count": null,
   "metadata": {},
   "outputs": [],
   "source": []
  },
  {
   "cell_type": "code",
   "execution_count": 19,
   "metadata": {},
   "outputs": [],
   "source": [
    "# display(result.get_margeff().summary())"
   ]
  },
  {
   "cell_type": "code",
   "execution_count": null,
   "metadata": {},
   "outputs": [],
   "source": []
  },
  {
   "cell_type": "code",
   "execution_count": 20,
   "metadata": {},
   "outputs": [],
   "source": [
    "# result.pred_table()"
   ]
  },
  {
   "cell_type": "code",
   "execution_count": null,
   "metadata": {},
   "outputs": [],
   "source": []
  },
  {
   "cell_type": "markdown",
   "metadata": {},
   "source": [
    "# Logit"
   ]
  },
  {
   "cell_type": "code",
   "execution_count": 21,
   "metadata": {},
   "outputs": [
    {
     "data": {
      "text/html": [
       "<table class=\"simpletable\">\n",
       "<caption>Generalized Linear Model Regression Results</caption>\n",
       "<tr>\n",
       "  <th>Dep. Variable:</th>   <td>Would_live_in_another_neighborhood</td> <th>  No. Observations:  </th>  <td>  1174</td> \n",
       "</tr>\n",
       "<tr>\n",
       "  <th>Model:</th>                           <td>GLM</td>                <th>  Df Residuals:      </th>  <td>  1135</td> \n",
       "</tr>\n",
       "<tr>\n",
       "  <th>Model Family:</th>                 <td>Binomial</td>              <th>  Df Model:          </th>  <td>    38</td> \n",
       "</tr>\n",
       "<tr>\n",
       "  <th>Link Function:</th>                  <td>logit</td>               <th>  Scale:             </th> <td>  1.0000</td>\n",
       "</tr>\n",
       "<tr>\n",
       "  <th>Method:</th>                         <td>IRLS</td>                <th>  Log-Likelihood:    </th> <td> -380.60</td>\n",
       "</tr>\n",
       "<tr>\n",
       "  <th>Date:</th>                     <td>Sun, 09 May 2021</td>          <th>  Deviance:          </th> <td>  761.20</td>\n",
       "</tr>\n",
       "<tr>\n",
       "  <th>Time:</th>                         <td>10:44:22</td>              <th>  Pearson chi2:      </th> <td>1.27e+03</td>\n",
       "</tr>\n",
       "<tr>\n",
       "  <th>No. Iterations:</th>                   <td>6</td>                 <th>                     </th>     <td> </td>   \n",
       "</tr>\n",
       "<tr>\n",
       "  <th>Covariance Type:</th>              <td>nonrobust</td>             <th>                     </th>     <td> </td>   \n",
       "</tr>\n",
       "</table>\n",
       "<table class=\"simpletable\">\n",
       "<tr>\n",
       "                                <td></td>                                  <th>coef</th>     <th>std err</th>      <th>z</th>      <th>P>|z|</th>  <th>[0.025</th>    <th>0.975]</th>  \n",
       "</tr>\n",
       "<tr>\n",
       "  <th>const</th>                                                        <td>   -1.9411</td> <td>    0.573</td> <td>   -3.386</td> <td> 0.001</td> <td>   -3.065</td> <td>   -0.818</td>\n",
       "</tr>\n",
       "<tr>\n",
       "  <th>Woman</th>                                                        <td>   -0.0755</td> <td>    0.207</td> <td>   -0.364</td> <td> 0.715</td> <td>   -0.482</td> <td>    0.331</td>\n",
       "</tr>\n",
       "<tr>\n",
       "  <th>Car</th>                                                          <td>    0.3383</td> <td>    0.230</td> <td>    1.472</td> <td> 0.141</td> <td>   -0.112</td> <td>    0.789</td>\n",
       "</tr>\n",
       "<tr>\n",
       "  <th>Support_with_housework</th>                                       <td>    0.0368</td> <td>    0.224</td> <td>    0.164</td> <td> 0.870</td> <td>   -0.402</td> <td>    0.476</td>\n",
       "</tr>\n",
       "<tr>\n",
       "  <th>Owner</th>                                                        <td>    0.1069</td> <td>    0.275</td> <td>    0.389</td> <td> 0.698</td> <td>   -0.433</td> <td>    0.646</td>\n",
       "</tr>\n",
       "<tr>\n",
       "  <th>Living_alone</th>                                                 <td>    0.1558</td> <td>    0.239</td> <td>    0.652</td> <td> 0.514</td> <td>   -0.313</td> <td>    0.624</td>\n",
       "</tr>\n",
       "<tr>\n",
       "  <th>Disability</th>                                                   <td>    0.2688</td> <td>    0.370</td> <td>    0.726</td> <td> 0.468</td> <td>   -0.457</td> <td>    0.994</td>\n",
       "</tr>\n",
       "<tr>\n",
       "  <th>Living_with_disabled_person</th>                                  <td>   -0.2202</td> <td>    0.316</td> <td>   -0.696</td> <td> 0.486</td> <td>   -0.840</td> <td>    0.400</td>\n",
       "</tr>\n",
       "<tr>\n",
       "  <th>Barri_association</th>                                            <td>   -0.3905</td> <td>    0.254</td> <td>   -1.537</td> <td> 0.124</td> <td>   -0.888</td> <td>    0.107</td>\n",
       "</tr>\n",
       "<tr>\n",
       "  <th>BCN_over_barri_satisfaction</th>                                  <td>    1.2146</td> <td>    0.640</td> <td>    1.897</td> <td> 0.058</td> <td>   -0.040</td> <td>    2.470</td>\n",
       "</tr>\n",
       "<tr>\n",
       "  <th>BCN_over_barri_transport</th>                                     <td>   -0.7557</td> <td>    0.522</td> <td>   -1.448</td> <td> 0.148</td> <td>   -1.779</td> <td>    0.267</td>\n",
       "</tr>\n",
       "<tr>\n",
       "  <th>BCN_over_barri_management</th>                                    <td>   -0.3681</td> <td>    0.686</td> <td>   -0.536</td> <td> 0.592</td> <td>   -1.713</td> <td>    0.977</td>\n",
       "</tr>\n",
       "<tr>\n",
       "  <th>BCN_over_barri_security</th>                                      <td>   -0.0451</td> <td>    0.457</td> <td>   -0.099</td> <td> 0.921</td> <td>   -0.941</td> <td>    0.851</td>\n",
       "</tr>\n",
       "<tr>\n",
       "  <th>District_CIUTAT VELLA</th>                                        <td>    0.1064</td> <td>    0.520</td> <td>    0.205</td> <td> 0.838</td> <td>   -0.913</td> <td>    1.126</td>\n",
       "</tr>\n",
       "<tr>\n",
       "  <th>District_GRÀCIA</th>                                              <td>    0.5206</td> <td>    0.419</td> <td>    1.244</td> <td> 0.214</td> <td>   -0.300</td> <td>    1.341</td>\n",
       "</tr>\n",
       "<tr>\n",
       "  <th>District_HORTA - GUINARDÓ</th>                                    <td>    0.6254</td> <td>    0.377</td> <td>    1.657</td> <td> 0.097</td> <td>   -0.114</td> <td>    1.365</td>\n",
       "</tr>\n",
       "<tr>\n",
       "  <th>District_LES CORTS</th>                                           <td>   -0.7912</td> <td>    0.584</td> <td>   -1.354</td> <td> 0.176</td> <td>   -1.936</td> <td>    0.354</td>\n",
       "</tr>\n",
       "<tr>\n",
       "  <th>District_NOU BARRIS</th>                                          <td>    0.6244</td> <td>    0.388</td> <td>    1.610</td> <td> 0.107</td> <td>   -0.136</td> <td>    1.384</td>\n",
       "</tr>\n",
       "<tr>\n",
       "  <th>District_SANT ANDREU</th>                                         <td>    0.5410</td> <td>    0.387</td> <td>    1.399</td> <td> 0.162</td> <td>   -0.217</td> <td>    1.299</td>\n",
       "</tr>\n",
       "<tr>\n",
       "  <th>District_SANT MARTÍ</th>                                          <td>    0.1584</td> <td>    0.388</td> <td>    0.409</td> <td> 0.683</td> <td>   -0.601</td> <td>    0.918</td>\n",
       "</tr>\n",
       "<tr>\n",
       "  <th>District_SANTS - MONTJUÏC</th>                                    <td>    0.5390</td> <td>    0.391</td> <td>    1.378</td> <td> 0.168</td> <td>   -0.227</td> <td>    1.306</td>\n",
       "</tr>\n",
       "<tr>\n",
       "  <th>District_SARRIÀ - SANT GERVASI</th>                               <td>   -0.4313</td> <td>    0.545</td> <td>   -0.791</td> <td> 0.429</td> <td>   -1.499</td> <td>    0.637</td>\n",
       "</tr>\n",
       "<tr>\n",
       "  <th>House_size_101-150 M2</th>                                        <td>   -0.6384</td> <td>    0.484</td> <td>   -1.319</td> <td> 0.187</td> <td>   -1.587</td> <td>    0.310</td>\n",
       "</tr>\n",
       "<tr>\n",
       "  <th>House_size_51-100 M2</th>                                         <td>   -0.4321</td> <td>    0.370</td> <td>   -1.168</td> <td> 0.243</td> <td>   -1.157</td> <td>    0.293</td>\n",
       "</tr>\n",
       "<tr>\n",
       "  <th>House_size_> 150 M2</th>                                          <td>   -0.0914</td> <td>    0.633</td> <td>   -0.144</td> <td> 0.885</td> <td>   -1.333</td> <td>    1.150</td>\n",
       "</tr>\n",
       "<tr>\n",
       "  <th>House_size_I DON'T KNOW</th>                                      <td>   -0.8939</td> <td>    0.566</td> <td>   -1.579</td> <td> 0.114</td> <td>   -2.003</td> <td>    0.216</td>\n",
       "</tr>\n",
       "<tr>\n",
       "  <th>Financial_situation_BAD</th>                                      <td>    0.0524</td> <td>    0.213</td> <td>    0.246</td> <td> 0.806</td> <td>   -0.365</td> <td>    0.470</td>\n",
       "</tr>\n",
       "<tr>\n",
       "  <th>Time_living_in_barri_I HAVE ALWAYS LIVED IN THE NEIGHBORHOOD</th> <td>   -2.1703</td> <td>    0.532</td> <td>   -4.079</td> <td> 0.000</td> <td>   -3.213</td> <td>   -1.127</td>\n",
       "</tr>\n",
       "<tr>\n",
       "  <th>Time_living_in_barri_MORE THAN 10 YEARS</th>                      <td>   -0.9581</td> <td>    0.348</td> <td>   -2.756</td> <td> 0.006</td> <td>   -1.639</td> <td>   -0.277</td>\n",
       "</tr>\n",
       "<tr>\n",
       "  <th>Barri_satisfaction_FAIRLY SATISFIED</th>                          <td>   -0.3237</td> <td>    0.595</td> <td>   -0.544</td> <td> 0.587</td> <td>   -1.491</td> <td>    0.843</td>\n",
       "</tr>\n",
       "<tr>\n",
       "  <th>Barri_satisfaction_NOT SATISFIED</th>                             <td>    2.4846</td> <td>    1.329</td> <td>    1.870</td> <td> 0.062</td> <td>   -0.120</td> <td>    5.089</td>\n",
       "</tr>\n",
       "<tr>\n",
       "  <th>Barri_security_BAD</th>                                           <td>    0.2923</td> <td>    0.321</td> <td>    0.911</td> <td> 0.362</td> <td>   -0.336</td> <td>    0.921</td>\n",
       "</tr>\n",
       "<tr>\n",
       "  <th>Barri_security_NEITHER BAD, NOR GOOD</th>                         <td>    0.0737</td> <td>    0.228</td> <td>    0.323</td> <td> 0.747</td> <td>   -0.374</td> <td>    0.521</td>\n",
       "</tr>\n",
       "<tr>\n",
       "  <th>Barri_management_BAD</th>                                         <td>    0.2507</td> <td>    0.559</td> <td>    0.449</td> <td> 0.654</td> <td>   -0.844</td> <td>    1.346</td>\n",
       "</tr>\n",
       "<tr>\n",
       "  <th>Barri_management_NEITHER BAD, NOR GOOD</th>                       <td>    0.1580</td> <td>    0.218</td> <td>    0.726</td> <td> 0.468</td> <td>   -0.269</td> <td>    0.585</td>\n",
       "</tr>\n",
       "<tr>\n",
       "  <th>Barri_comparison_NEITHER THE BEST, NOR THE WORST</th>             <td>    1.2601</td> <td>    0.217</td> <td>    5.797</td> <td> 0.000</td> <td>    0.834</td> <td>    1.686</td>\n",
       "</tr>\n",
       "<tr>\n",
       "  <th>Barri_comparison_ONE OF THE WORST</th>                            <td>    1.4713</td> <td>    0.425</td> <td>    3.464</td> <td> 0.001</td> <td>    0.639</td> <td>    2.304</td>\n",
       "</tr>\n",
       "<tr>\n",
       "  <th>Barri_transport_BAD</th>                                          <td>    0.2113</td> <td>    0.383</td> <td>    0.552</td> <td> 0.581</td> <td>   -0.539</td> <td>    0.962</td>\n",
       "</tr>\n",
       "<tr>\n",
       "  <th>Barri_transport_NEITHER BAD, NOR GOOD</th>                        <td>    0.0824</td> <td>    0.395</td> <td>    0.208</td> <td> 0.835</td> <td>   -0.693</td> <td>    0.857</td>\n",
       "</tr>\n",
       "</table>"
      ],
      "text/plain": [
       "<class 'statsmodels.iolib.summary.Summary'>\n",
       "\"\"\"\n",
       "                         Generalized Linear Model Regression Results                          \n",
       "==============================================================================================\n",
       "Dep. Variable:     Would_live_in_another_neighborhood   No. Observations:                 1174\n",
       "Model:                                            GLM   Df Residuals:                     1135\n",
       "Model Family:                                Binomial   Df Model:                           38\n",
       "Link Function:                                  logit   Scale:                          1.0000\n",
       "Method:                                          IRLS   Log-Likelihood:                -380.60\n",
       "Date:                                Sun, 09 May 2021   Deviance:                       761.20\n",
       "Time:                                        10:44:22   Pearson chi2:                 1.27e+03\n",
       "No. Iterations:                                     6                                         \n",
       "Covariance Type:                            nonrobust                                         \n",
       "================================================================================================================================\n",
       "                                                                   coef    std err          z      P>|z|      [0.025      0.975]\n",
       "--------------------------------------------------------------------------------------------------------------------------------\n",
       "const                                                           -1.9411      0.573     -3.386      0.001      -3.065      -0.818\n",
       "Woman                                                           -0.0755      0.207     -0.364      0.715      -0.482       0.331\n",
       "Car                                                              0.3383      0.230      1.472      0.141      -0.112       0.789\n",
       "Support_with_housework                                           0.0368      0.224      0.164      0.870      -0.402       0.476\n",
       "Owner                                                            0.1069      0.275      0.389      0.698      -0.433       0.646\n",
       "Living_alone                                                     0.1558      0.239      0.652      0.514      -0.313       0.624\n",
       "Disability                                                       0.2688      0.370      0.726      0.468      -0.457       0.994\n",
       "Living_with_disabled_person                                     -0.2202      0.316     -0.696      0.486      -0.840       0.400\n",
       "Barri_association                                               -0.3905      0.254     -1.537      0.124      -0.888       0.107\n",
       "BCN_over_barri_satisfaction                                      1.2146      0.640      1.897      0.058      -0.040       2.470\n",
       "BCN_over_barri_transport                                        -0.7557      0.522     -1.448      0.148      -1.779       0.267\n",
       "BCN_over_barri_management                                       -0.3681      0.686     -0.536      0.592      -1.713       0.977\n",
       "BCN_over_barri_security                                         -0.0451      0.457     -0.099      0.921      -0.941       0.851\n",
       "District_CIUTAT VELLA                                            0.1064      0.520      0.205      0.838      -0.913       1.126\n",
       "District_GRÀCIA                                                  0.5206      0.419      1.244      0.214      -0.300       1.341\n",
       "District_HORTA - GUINARDÓ                                        0.6254      0.377      1.657      0.097      -0.114       1.365\n",
       "District_LES CORTS                                              -0.7912      0.584     -1.354      0.176      -1.936       0.354\n",
       "District_NOU BARRIS                                              0.6244      0.388      1.610      0.107      -0.136       1.384\n",
       "District_SANT ANDREU                                             0.5410      0.387      1.399      0.162      -0.217       1.299\n",
       "District_SANT MARTÍ                                              0.1584      0.388      0.409      0.683      -0.601       0.918\n",
       "District_SANTS - MONTJUÏC                                        0.5390      0.391      1.378      0.168      -0.227       1.306\n",
       "District_SARRIÀ - SANT GERVASI                                  -0.4313      0.545     -0.791      0.429      -1.499       0.637\n",
       "House_size_101-150 M2                                           -0.6384      0.484     -1.319      0.187      -1.587       0.310\n",
       "House_size_51-100 M2                                            -0.4321      0.370     -1.168      0.243      -1.157       0.293\n",
       "House_size_> 150 M2                                             -0.0914      0.633     -0.144      0.885      -1.333       1.150\n",
       "House_size_I DON'T KNOW                                         -0.8939      0.566     -1.579      0.114      -2.003       0.216\n",
       "Financial_situation_BAD                                          0.0524      0.213      0.246      0.806      -0.365       0.470\n",
       "Time_living_in_barri_I HAVE ALWAYS LIVED IN THE NEIGHBORHOOD    -2.1703      0.532     -4.079      0.000      -3.213      -1.127\n",
       "Time_living_in_barri_MORE THAN 10 YEARS                         -0.9581      0.348     -2.756      0.006      -1.639      -0.277\n",
       "Barri_satisfaction_FAIRLY SATISFIED                             -0.3237      0.595     -0.544      0.587      -1.491       0.843\n",
       "Barri_satisfaction_NOT SATISFIED                                 2.4846      1.329      1.870      0.062      -0.120       5.089\n",
       "Barri_security_BAD                                               0.2923      0.321      0.911      0.362      -0.336       0.921\n",
       "Barri_security_NEITHER BAD, NOR GOOD                             0.0737      0.228      0.323      0.747      -0.374       0.521\n",
       "Barri_management_BAD                                             0.2507      0.559      0.449      0.654      -0.844       1.346\n",
       "Barri_management_NEITHER BAD, NOR GOOD                           0.1580      0.218      0.726      0.468      -0.269       0.585\n",
       "Barri_comparison_NEITHER THE BEST, NOR THE WORST                 1.2601      0.217      5.797      0.000       0.834       1.686\n",
       "Barri_comparison_ONE OF THE WORST                                1.4713      0.425      3.464      0.001       0.639       2.304\n",
       "Barri_transport_BAD                                              0.2113      0.383      0.552      0.581      -0.539       0.962\n",
       "Barri_transport_NEITHER BAD, NOR GOOD                            0.0824      0.395      0.208      0.835      -0.693       0.857\n",
       "================================================================================================================================\n",
       "\"\"\""
      ]
     },
     "execution_count": 21,
     "metadata": {},
     "output_type": "execute_result"
    }
   ],
   "source": [
    "glm_logit = sm.GLM(y, x, family=sm.families.Binomial())\n",
    "glm_logit_results = glm_logit.fit()\n",
    "glm_logit_results.summary()"
   ]
  },
  {
   "cell_type": "code",
   "execution_count": 22,
   "metadata": {},
   "outputs": [
    {
     "data": {
      "text/plain": [
       "839.2026245563593"
      ]
     },
     "execution_count": 22,
     "metadata": {},
     "output_type": "execute_result"
    }
   ],
   "source": [
    "glm_logit_results.aic"
   ]
  },
  {
   "cell_type": "code",
   "execution_count": 23,
   "metadata": {},
   "outputs": [
    {
     "data": {
      "text/plain": [
       "-7261.172595884069"
      ]
     },
     "execution_count": 23,
     "metadata": {},
     "output_type": "execute_result"
    }
   ],
   "source": [
    "glm_logit_results.bic"
   ]
  },
  {
   "cell_type": "code",
   "execution_count": 24,
   "metadata": {},
   "outputs": [
    {
     "data": {
      "text/plain": [
       "BCN_over_barri_security                                         9.213873e-01\n",
       "House_size_> 150 M2                                             8.852305e-01\n",
       "Support_with_housework                                          8.696284e-01\n",
       "District_CIUTAT VELLA                                           8.378899e-01\n",
       "Barri_transport_NEITHER BAD, NOR GOOD                           8.348445e-01\n",
       "Financial_situation_BAD                                         8.058104e-01\n",
       "Barri_security_NEITHER BAD, NOR GOOD                            7.469199e-01\n",
       "Woman                                                           7.154975e-01\n",
       "Owner                                                           6.976416e-01\n",
       "District_SANT MARTÍ                                             6.828511e-01\n",
       "Barri_management_BAD                                            6.536795e-01\n",
       "BCN_over_barri_management                                       5.916566e-01\n",
       "Barri_satisfaction_FAIRLY SATISFIED                             5.866692e-01\n",
       "Barri_transport_BAD                                             5.809996e-01\n",
       "Living_alone                                                    5.144436e-01\n",
       "Living_with_disabled_person                                     4.863136e-01\n",
       "Barri_management_NEITHER BAD, NOR GOOD                          4.677927e-01\n",
       "Disability                                                      4.676492e-01\n",
       "District_SARRIÀ - SANT GERVASI                                  4.286546e-01\n",
       "Barri_security_BAD                                              3.620864e-01\n",
       "House_size_51-100 M2                                            2.429405e-01\n",
       "District_GRÀCIA                                                 2.136038e-01\n",
       "House_size_101-150 M2                                           1.871374e-01\n",
       "District_LES CORTS                                              1.756021e-01\n",
       "District_SANTS - MONTJUÏC                                       1.680991e-01\n",
       "District_SANT ANDREU                                            1.618550e-01\n",
       "BCN_over_barri_transport                                        1.476892e-01\n",
       "Car                                                             1.410640e-01\n",
       "Barri_association                                               1.241913e-01\n",
       "House_size_I DON'T KNOW                                         1.143484e-01\n",
       "District_NOU BARRIS                                             1.073373e-01\n",
       "District_HORTA - GUINARDÓ                                       9.744837e-02\n",
       "Barri_satisfaction_NOT SATISFIED                                6.150873e-02\n",
       "BCN_over_barri_satisfaction                                     5.781614e-02\n",
       "Time_living_in_barri_MORE THAN 10 YEARS                         5.843040e-03\n",
       "const                                                           7.085797e-04\n",
       "Barri_comparison_ONE OF THE WORST                               5.316908e-04\n",
       "Time_living_in_barri_I HAVE ALWAYS LIVED IN THE NEIGHBORHOOD    4.525770e-05\n",
       "Barri_comparison_NEITHER THE BEST, NOR THE WORST                6.741513e-09\n",
       "dtype: float64"
      ]
     },
     "execution_count": 24,
     "metadata": {},
     "output_type": "execute_result"
    }
   ],
   "source": [
    "glm_logit_results.pvalues.sort_values(ascending=False)"
   ]
  },
  {
   "cell_type": "code",
   "execution_count": null,
   "metadata": {},
   "outputs": [],
   "source": []
  },
  {
   "cell_type": "code",
   "execution_count": 25,
   "metadata": {},
   "outputs": [],
   "source": [
    "for i in ['BCN_over_barri_security', 'Support_with_housework', 'Woman', 'Owner', \n",
    "          'Financial_situation_BAD', 'Barri_transport_NEITHER BAD, NOR GOOD', 'Barri_transport_BAD',\n",
    "         'Barri_security_NEITHER BAD, NOR GOOD', 'Barri_security_BAD', 'Living_alone',\n",
    "         'Living_with_disabled_person', 'Disability']:\n",
    "    del x[i]"
   ]
  },
  {
   "cell_type": "code",
   "execution_count": 26,
   "metadata": {},
   "outputs": [
    {
     "data": {
      "text/html": [
       "<table class=\"simpletable\">\n",
       "<caption>Generalized Linear Model Regression Results</caption>\n",
       "<tr>\n",
       "  <th>Dep. Variable:</th>   <td>Would_live_in_another_neighborhood</td> <th>  No. Observations:  </th>  <td>  1174</td> \n",
       "</tr>\n",
       "<tr>\n",
       "  <th>Model:</th>                           <td>GLM</td>                <th>  Df Residuals:      </th>  <td>  1147</td> \n",
       "</tr>\n",
       "<tr>\n",
       "  <th>Model Family:</th>                 <td>Binomial</td>              <th>  Df Model:          </th>  <td>    26</td> \n",
       "</tr>\n",
       "<tr>\n",
       "  <th>Link Function:</th>                  <td>logit</td>               <th>  Scale:             </th> <td>  1.0000</td>\n",
       "</tr>\n",
       "<tr>\n",
       "  <th>Method:</th>                         <td>IRLS</td>                <th>  Log-Likelihood:    </th> <td> -382.21</td>\n",
       "</tr>\n",
       "<tr>\n",
       "  <th>Date:</th>                     <td>Sun, 09 May 2021</td>          <th>  Deviance:          </th> <td>  764.42</td>\n",
       "</tr>\n",
       "<tr>\n",
       "  <th>Time:</th>                         <td>10:44:22</td>              <th>  Pearson chi2:      </th> <td>1.26e+03</td>\n",
       "</tr>\n",
       "<tr>\n",
       "  <th>No. Iterations:</th>                   <td>6</td>                 <th>                     </th>     <td> </td>   \n",
       "</tr>\n",
       "<tr>\n",
       "  <th>Covariance Type:</th>              <td>nonrobust</td>             <th>                     </th>     <td> </td>   \n",
       "</tr>\n",
       "</table>\n",
       "<table class=\"simpletable\">\n",
       "<tr>\n",
       "                                <td></td>                                  <th>coef</th>     <th>std err</th>      <th>z</th>      <th>P>|z|</th>  <th>[0.025</th>    <th>0.975]</th>  \n",
       "</tr>\n",
       "<tr>\n",
       "  <th>const</th>                                                        <td>   -1.8095</td> <td>    0.503</td> <td>   -3.597</td> <td> 0.000</td> <td>   -2.796</td> <td>   -0.823</td>\n",
       "</tr>\n",
       "<tr>\n",
       "  <th>Car</th>                                                          <td>    0.2965</td> <td>    0.203</td> <td>    1.461</td> <td> 0.144</td> <td>   -0.101</td> <td>    0.694</td>\n",
       "</tr>\n",
       "<tr>\n",
       "  <th>Barri_association</th>                                            <td>   -0.3700</td> <td>    0.251</td> <td>   -1.474</td> <td> 0.140</td> <td>   -0.862</td> <td>    0.122</td>\n",
       "</tr>\n",
       "<tr>\n",
       "  <th>BCN_over_barri_satisfaction</th>                                  <td>    1.1873</td> <td>    0.630</td> <td>    1.886</td> <td> 0.059</td> <td>   -0.047</td> <td>    2.421</td>\n",
       "</tr>\n",
       "<tr>\n",
       "  <th>BCN_over_barri_transport</th>                                     <td>   -0.5689</td> <td>    0.388</td> <td>   -1.466</td> <td> 0.143</td> <td>   -1.329</td> <td>    0.192</td>\n",
       "</tr>\n",
       "<tr>\n",
       "  <th>BCN_over_barri_management</th>                                    <td>   -0.3518</td> <td>    0.677</td> <td>   -0.520</td> <td> 0.603</td> <td>   -1.679</td> <td>    0.975</td>\n",
       "</tr>\n",
       "<tr>\n",
       "  <th>District_CIUTAT VELLA</th>                                        <td>    0.0830</td> <td>    0.509</td> <td>    0.163</td> <td> 0.870</td> <td>   -0.914</td> <td>    1.080</td>\n",
       "</tr>\n",
       "<tr>\n",
       "  <th>District_GRÀCIA</th>                                              <td>    0.5201</td> <td>    0.414</td> <td>    1.258</td> <td> 0.209</td> <td>   -0.290</td> <td>    1.331</td>\n",
       "</tr>\n",
       "<tr>\n",
       "  <th>District_HORTA - GUINARDÓ</th>                                    <td>    0.6354</td> <td>    0.367</td> <td>    1.732</td> <td> 0.083</td> <td>   -0.084</td> <td>    1.354</td>\n",
       "</tr>\n",
       "<tr>\n",
       "  <th>District_LES CORTS</th>                                           <td>   -0.8143</td> <td>    0.582</td> <td>   -1.399</td> <td> 0.162</td> <td>   -1.955</td> <td>    0.327</td>\n",
       "</tr>\n",
       "<tr>\n",
       "  <th>District_NOU BARRIS</th>                                          <td>    0.6295</td> <td>    0.370</td> <td>    1.701</td> <td> 0.089</td> <td>   -0.096</td> <td>    1.355</td>\n",
       "</tr>\n",
       "<tr>\n",
       "  <th>District_SANT ANDREU</th>                                         <td>    0.5553</td> <td>    0.377</td> <td>    1.475</td> <td> 0.140</td> <td>   -0.183</td> <td>    1.293</td>\n",
       "</tr>\n",
       "<tr>\n",
       "  <th>District_SANT MARTÍ</th>                                          <td>    0.1466</td> <td>    0.375</td> <td>    0.391</td> <td> 0.696</td> <td>   -0.589</td> <td>    0.882</td>\n",
       "</tr>\n",
       "<tr>\n",
       "  <th>District_SANTS - MONTJUÏC</th>                                    <td>    0.5607</td> <td>    0.378</td> <td>    1.485</td> <td> 0.138</td> <td>   -0.179</td> <td>    1.301</td>\n",
       "</tr>\n",
       "<tr>\n",
       "  <th>District_SARRIÀ - SANT GERVASI</th>                               <td>   -0.4630</td> <td>    0.543</td> <td>   -0.853</td> <td> 0.393</td> <td>   -1.526</td> <td>    0.600</td>\n",
       "</tr>\n",
       "<tr>\n",
       "  <th>House_size_101-150 M2</th>                                        <td>   -0.6600</td> <td>    0.461</td> <td>   -1.433</td> <td> 0.152</td> <td>   -1.563</td> <td>    0.243</td>\n",
       "</tr>\n",
       "<tr>\n",
       "  <th>House_size_51-100 M2</th>                                         <td>   -0.4661</td> <td>    0.357</td> <td>   -1.304</td> <td> 0.192</td> <td>   -1.167</td> <td>    0.234</td>\n",
       "</tr>\n",
       "<tr>\n",
       "  <th>House_size_> 150 M2</th>                                          <td>   -0.1235</td> <td>    0.620</td> <td>   -0.199</td> <td> 0.842</td> <td>   -1.339</td> <td>    1.092</td>\n",
       "</tr>\n",
       "<tr>\n",
       "  <th>House_size_I DON'T KNOW</th>                                      <td>   -0.9489</td> <td>    0.557</td> <td>   -1.702</td> <td> 0.089</td> <td>   -2.041</td> <td>    0.144</td>\n",
       "</tr>\n",
       "<tr>\n",
       "  <th>Time_living_in_barri_I HAVE ALWAYS LIVED IN THE NEIGHBORHOOD</th> <td>   -2.0487</td> <td>    0.523</td> <td>   -3.916</td> <td> 0.000</td> <td>   -3.074</td> <td>   -1.023</td>\n",
       "</tr>\n",
       "<tr>\n",
       "  <th>Time_living_in_barri_MORE THAN 10 YEARS</th>                      <td>   -0.8668</td> <td>    0.332</td> <td>   -2.613</td> <td> 0.009</td> <td>   -1.517</td> <td>   -0.217</td>\n",
       "</tr>\n",
       "<tr>\n",
       "  <th>Barri_satisfaction_FAIRLY SATISFIED</th>                          <td>   -0.2471</td> <td>    0.584</td> <td>   -0.423</td> <td> 0.672</td> <td>   -1.392</td> <td>    0.898</td>\n",
       "</tr>\n",
       "<tr>\n",
       "  <th>Barri_satisfaction_NOT SATISFIED</th>                             <td>    2.5243</td> <td>    1.294</td> <td>    1.951</td> <td> 0.051</td> <td>   -0.012</td> <td>    5.060</td>\n",
       "</tr>\n",
       "<tr>\n",
       "  <th>Barri_management_BAD</th>                                         <td>    0.3966</td> <td>    0.537</td> <td>    0.738</td> <td> 0.460</td> <td>   -0.656</td> <td>    1.449</td>\n",
       "</tr>\n",
       "<tr>\n",
       "  <th>Barri_management_NEITHER BAD, NOR GOOD</th>                       <td>    0.2061</td> <td>    0.209</td> <td>    0.988</td> <td> 0.323</td> <td>   -0.203</td> <td>    0.615</td>\n",
       "</tr>\n",
       "<tr>\n",
       "  <th>Barri_comparison_NEITHER THE BEST, NOR THE WORST</th>             <td>    1.2673</td> <td>    0.214</td> <td>    5.911</td> <td> 0.000</td> <td>    0.847</td> <td>    1.687</td>\n",
       "</tr>\n",
       "<tr>\n",
       "  <th>Barri_comparison_ONE OF THE WORST</th>                            <td>    1.5020</td> <td>    0.417</td> <td>    3.599</td> <td> 0.000</td> <td>    0.684</td> <td>    2.320</td>\n",
       "</tr>\n",
       "</table>"
      ],
      "text/plain": [
       "<class 'statsmodels.iolib.summary.Summary'>\n",
       "\"\"\"\n",
       "                         Generalized Linear Model Regression Results                          \n",
       "==============================================================================================\n",
       "Dep. Variable:     Would_live_in_another_neighborhood   No. Observations:                 1174\n",
       "Model:                                            GLM   Df Residuals:                     1147\n",
       "Model Family:                                Binomial   Df Model:                           26\n",
       "Link Function:                                  logit   Scale:                          1.0000\n",
       "Method:                                          IRLS   Log-Likelihood:                -382.21\n",
       "Date:                                Sun, 09 May 2021   Deviance:                       764.42\n",
       "Time:                                        10:44:22   Pearson chi2:                 1.26e+03\n",
       "No. Iterations:                                     6                                         \n",
       "Covariance Type:                            nonrobust                                         \n",
       "================================================================================================================================\n",
       "                                                                   coef    std err          z      P>|z|      [0.025      0.975]\n",
       "--------------------------------------------------------------------------------------------------------------------------------\n",
       "const                                                           -1.8095      0.503     -3.597      0.000      -2.796      -0.823\n",
       "Car                                                              0.2965      0.203      1.461      0.144      -0.101       0.694\n",
       "Barri_association                                               -0.3700      0.251     -1.474      0.140      -0.862       0.122\n",
       "BCN_over_barri_satisfaction                                      1.1873      0.630      1.886      0.059      -0.047       2.421\n",
       "BCN_over_barri_transport                                        -0.5689      0.388     -1.466      0.143      -1.329       0.192\n",
       "BCN_over_barri_management                                       -0.3518      0.677     -0.520      0.603      -1.679       0.975\n",
       "District_CIUTAT VELLA                                            0.0830      0.509      0.163      0.870      -0.914       1.080\n",
       "District_GRÀCIA                                                  0.5201      0.414      1.258      0.209      -0.290       1.331\n",
       "District_HORTA - GUINARDÓ                                        0.6354      0.367      1.732      0.083      -0.084       1.354\n",
       "District_LES CORTS                                              -0.8143      0.582     -1.399      0.162      -1.955       0.327\n",
       "District_NOU BARRIS                                              0.6295      0.370      1.701      0.089      -0.096       1.355\n",
       "District_SANT ANDREU                                             0.5553      0.377      1.475      0.140      -0.183       1.293\n",
       "District_SANT MARTÍ                                              0.1466      0.375      0.391      0.696      -0.589       0.882\n",
       "District_SANTS - MONTJUÏC                                        0.5607      0.378      1.485      0.138      -0.179       1.301\n",
       "District_SARRIÀ - SANT GERVASI                                  -0.4630      0.543     -0.853      0.393      -1.526       0.600\n",
       "House_size_101-150 M2                                           -0.6600      0.461     -1.433      0.152      -1.563       0.243\n",
       "House_size_51-100 M2                                            -0.4661      0.357     -1.304      0.192      -1.167       0.234\n",
       "House_size_> 150 M2                                             -0.1235      0.620     -0.199      0.842      -1.339       1.092\n",
       "House_size_I DON'T KNOW                                         -0.9489      0.557     -1.702      0.089      -2.041       0.144\n",
       "Time_living_in_barri_I HAVE ALWAYS LIVED IN THE NEIGHBORHOOD    -2.0487      0.523     -3.916      0.000      -3.074      -1.023\n",
       "Time_living_in_barri_MORE THAN 10 YEARS                         -0.8668      0.332     -2.613      0.009      -1.517      -0.217\n",
       "Barri_satisfaction_FAIRLY SATISFIED                             -0.2471      0.584     -0.423      0.672      -1.392       0.898\n",
       "Barri_satisfaction_NOT SATISFIED                                 2.5243      1.294      1.951      0.051      -0.012       5.060\n",
       "Barri_management_BAD                                             0.3966      0.537      0.738      0.460      -0.656       1.449\n",
       "Barri_management_NEITHER BAD, NOR GOOD                           0.2061      0.209      0.988      0.323      -0.203       0.615\n",
       "Barri_comparison_NEITHER THE BEST, NOR THE WORST                 1.2673      0.214      5.911      0.000       0.847       1.687\n",
       "Barri_comparison_ONE OF THE WORST                                1.5020      0.417      3.599      0.000       0.684       2.320\n",
       "================================================================================================================================\n",
       "\"\"\""
      ]
     },
     "execution_count": 26,
     "metadata": {},
     "output_type": "execute_result"
    }
   ],
   "source": [
    "glm_logit = sm.GLM(y, x, family=sm.families.Binomial())\n",
    "glm_logit_results = glm_logit.fit()\n",
    "glm_logit_results.summary()"
   ]
  },
  {
   "cell_type": "code",
   "execution_count": 27,
   "metadata": {},
   "outputs": [
    {
     "data": {
      "text/plain": [
       "818.4177469576287"
      ]
     },
     "execution_count": 27,
     "metadata": {},
     "output_type": "execute_result"
    }
   ],
   "source": [
    "glm_logit_results.aic"
   ]
  },
  {
   "cell_type": "code",
   "execution_count": 28,
   "metadata": {},
   "outputs": [
    {
     "data": {
      "text/plain": [
       "-7342.775537487455"
      ]
     },
     "execution_count": 28,
     "metadata": {},
     "output_type": "execute_result"
    }
   ],
   "source": [
    "glm_logit_results.bic"
   ]
  },
  {
   "cell_type": "code",
   "execution_count": 29,
   "metadata": {},
   "outputs": [
    {
     "data": {
      "text/plain": [
       "District_CIUTAT VELLA                                           8.703281e-01\n",
       "House_size_> 150 M2                                             8.421407e-01\n",
       "District_SANT MARTÍ                                             6.960445e-01\n",
       "Barri_satisfaction_FAIRLY SATISFIED                             6.722369e-01\n",
       "BCN_over_barri_management                                       6.033613e-01\n",
       "Barri_management_BAD                                            4.602761e-01\n",
       "District_SARRIÀ - SANT GERVASI                                  3.934282e-01\n",
       "Barri_management_NEITHER BAD, NOR GOOD                          3.231700e-01\n",
       "District_GRÀCIA                                                 2.085131e-01\n",
       "House_size_51-100 M2                                            1.921472e-01\n",
       "District_LES CORTS                                              1.618147e-01\n",
       "House_size_101-150 M2                                           1.518953e-01\n",
       "Car                                                             1.441388e-01\n",
       "BCN_over_barri_transport                                        1.426319e-01\n",
       "Barri_association                                               1.404893e-01\n",
       "District_SANT ANDREU                                            1.402268e-01\n",
       "District_SANTS - MONTJUÏC                                       1.375801e-01\n",
       "District_NOU BARRIS                                             8.897315e-02\n",
       "House_size_I DON'T KNOW                                         8.866476e-02\n",
       "District_HORTA - GUINARDÓ                                       8.323433e-02\n",
       "BCN_over_barri_satisfaction                                     5.934700e-02\n",
       "Barri_satisfaction_NOT SATISFIED                                5.107033e-02\n",
       "Time_living_in_barri_MORE THAN 10 YEARS                         8.981068e-03\n",
       "const                                                           3.225199e-04\n",
       "Barri_comparison_ONE OF THE WORST                               3.199937e-04\n",
       "Time_living_in_barri_I HAVE ALWAYS LIVED IN THE NEIGHBORHOOD    8.995440e-05\n",
       "Barri_comparison_NEITHER THE BEST, NOR THE WORST                3.392368e-09\n",
       "dtype: float64"
      ]
     },
     "execution_count": 29,
     "metadata": {},
     "output_type": "execute_result"
    }
   ],
   "source": [
    "glm_logit_results.pvalues.sort_values(ascending=False)"
   ]
  },
  {
   "cell_type": "code",
   "execution_count": null,
   "metadata": {},
   "outputs": [],
   "source": []
  },
  {
   "cell_type": "code",
   "execution_count": 30,
   "metadata": {},
   "outputs": [],
   "source": [
    "for i in ['House_size_> 150 M2', 'House_size_101-150 M2', 'House_size_51-100 M2', \"House_size_I DON'T KNOW\"]:\n",
    "    del x[i]"
   ]
  },
  {
   "cell_type": "code",
   "execution_count": 31,
   "metadata": {},
   "outputs": [
    {
     "data": {
      "text/html": [
       "<table class=\"simpletable\">\n",
       "<caption>Generalized Linear Model Regression Results</caption>\n",
       "<tr>\n",
       "  <th>Dep. Variable:</th>   <td>Would_live_in_another_neighborhood</td> <th>  No. Observations:  </th>  <td>  1174</td> \n",
       "</tr>\n",
       "<tr>\n",
       "  <th>Model:</th>                           <td>GLM</td>                <th>  Df Residuals:      </th>  <td>  1151</td> \n",
       "</tr>\n",
       "<tr>\n",
       "  <th>Model Family:</th>                 <td>Binomial</td>              <th>  Df Model:          </th>  <td>    22</td> \n",
       "</tr>\n",
       "<tr>\n",
       "  <th>Link Function:</th>                  <td>logit</td>               <th>  Scale:             </th> <td>  1.0000</td>\n",
       "</tr>\n",
       "<tr>\n",
       "  <th>Method:</th>                         <td>IRLS</td>                <th>  Log-Likelihood:    </th> <td> -384.21</td>\n",
       "</tr>\n",
       "<tr>\n",
       "  <th>Date:</th>                     <td>Sun, 09 May 2021</td>          <th>  Deviance:          </th> <td>  768.42</td>\n",
       "</tr>\n",
       "<tr>\n",
       "  <th>Time:</th>                         <td>10:44:23</td>              <th>  Pearson chi2:      </th> <td>1.29e+03</td>\n",
       "</tr>\n",
       "<tr>\n",
       "  <th>No. Iterations:</th>                   <td>6</td>                 <th>                     </th>     <td> </td>   \n",
       "</tr>\n",
       "<tr>\n",
       "  <th>Covariance Type:</th>              <td>nonrobust</td>             <th>                     </th>     <td> </td>   \n",
       "</tr>\n",
       "</table>\n",
       "<table class=\"simpletable\">\n",
       "<tr>\n",
       "                                <td></td>                                  <th>coef</th>     <th>std err</th>      <th>z</th>      <th>P>|z|</th>  <th>[0.025</th>    <th>0.975]</th>  \n",
       "</tr>\n",
       "<tr>\n",
       "  <th>const</th>                                                        <td>   -2.2620</td> <td>    0.412</td> <td>   -5.494</td> <td> 0.000</td> <td>   -3.069</td> <td>   -1.455</td>\n",
       "</tr>\n",
       "<tr>\n",
       "  <th>Car</th>                                                          <td>    0.2917</td> <td>    0.197</td> <td>    1.481</td> <td> 0.138</td> <td>   -0.094</td> <td>    0.678</td>\n",
       "</tr>\n",
       "<tr>\n",
       "  <th>Barri_association</th>                                            <td>   -0.3801</td> <td>    0.250</td> <td>   -1.518</td> <td> 0.129</td> <td>   -0.871</td> <td>    0.111</td>\n",
       "</tr>\n",
       "<tr>\n",
       "  <th>BCN_over_barri_satisfaction</th>                                  <td>    1.2460</td> <td>    0.625</td> <td>    1.995</td> <td> 0.046</td> <td>    0.022</td> <td>    2.470</td>\n",
       "</tr>\n",
       "<tr>\n",
       "  <th>BCN_over_barri_transport</th>                                     <td>   -0.5406</td> <td>    0.386</td> <td>   -1.400</td> <td> 0.162</td> <td>   -1.298</td> <td>    0.217</td>\n",
       "</tr>\n",
       "<tr>\n",
       "  <th>BCN_over_barri_management</th>                                    <td>   -0.3255</td> <td>    0.670</td> <td>   -0.485</td> <td> 0.627</td> <td>   -1.640</td> <td>    0.989</td>\n",
       "</tr>\n",
       "<tr>\n",
       "  <th>District_CIUTAT VELLA</th>                                        <td>    0.2060</td> <td>    0.499</td> <td>    0.413</td> <td> 0.680</td> <td>   -0.771</td> <td>    1.183</td>\n",
       "</tr>\n",
       "<tr>\n",
       "  <th>District_GRÀCIA</th>                                              <td>    0.5132</td> <td>    0.413</td> <td>    1.244</td> <td> 0.214</td> <td>   -0.296</td> <td>    1.322</td>\n",
       "</tr>\n",
       "<tr>\n",
       "  <th>District_HORTA - GUINARDÓ</th>                                    <td>    0.6237</td> <td>    0.364</td> <td>    1.714</td> <td> 0.086</td> <td>   -0.089</td> <td>    1.337</td>\n",
       "</tr>\n",
       "<tr>\n",
       "  <th>District_LES CORTS</th>                                           <td>   -0.7802</td> <td>    0.580</td> <td>   -1.345</td> <td> 0.179</td> <td>   -1.917</td> <td>    0.356</td>\n",
       "</tr>\n",
       "<tr>\n",
       "  <th>District_NOU BARRIS</th>                                          <td>    0.6478</td> <td>    0.366</td> <td>    1.768</td> <td> 0.077</td> <td>   -0.070</td> <td>    1.366</td>\n",
       "</tr>\n",
       "<tr>\n",
       "  <th>District_SANT ANDREU</th>                                         <td>    0.5474</td> <td>    0.374</td> <td>    1.463</td> <td> 0.144</td> <td>   -0.186</td> <td>    1.281</td>\n",
       "</tr>\n",
       "<tr>\n",
       "  <th>District_SANT MARTÍ</th>                                          <td>    0.1349</td> <td>    0.372</td> <td>    0.363</td> <td> 0.717</td> <td>   -0.593</td> <td>    0.863</td>\n",
       "</tr>\n",
       "<tr>\n",
       "  <th>District_SANTS - MONTJUÏC</th>                                    <td>    0.5593</td> <td>    0.373</td> <td>    1.499</td> <td> 0.134</td> <td>   -0.172</td> <td>    1.291</td>\n",
       "</tr>\n",
       "<tr>\n",
       "  <th>District_SARRIÀ - SANT GERVASI</th>                               <td>   -0.4788</td> <td>    0.541</td> <td>   -0.884</td> <td> 0.377</td> <td>   -1.540</td> <td>    0.582</td>\n",
       "</tr>\n",
       "<tr>\n",
       "  <th>Time_living_in_barri_I HAVE ALWAYS LIVED IN THE NEIGHBORHOOD</th> <td>   -2.0611</td> <td>    0.519</td> <td>   -3.974</td> <td> 0.000</td> <td>   -3.078</td> <td>   -1.044</td>\n",
       "</tr>\n",
       "<tr>\n",
       "  <th>Time_living_in_barri_MORE THAN 10 YEARS</th>                      <td>   -0.8847</td> <td>    0.325</td> <td>   -2.721</td> <td> 0.007</td> <td>   -1.522</td> <td>   -0.247</td>\n",
       "</tr>\n",
       "<tr>\n",
       "  <th>Barri_satisfaction_FAIRLY SATISFIED</th>                          <td>   -0.2927</td> <td>    0.578</td> <td>   -0.507</td> <td> 0.612</td> <td>   -1.425</td> <td>    0.840</td>\n",
       "</tr>\n",
       "<tr>\n",
       "  <th>Barri_satisfaction_NOT SATISFIED</th>                             <td>    2.4352</td> <td>    1.288</td> <td>    1.891</td> <td> 0.059</td> <td>   -0.089</td> <td>    4.959</td>\n",
       "</tr>\n",
       "<tr>\n",
       "  <th>Barri_management_BAD</th>                                         <td>    0.4025</td> <td>    0.533</td> <td>    0.756</td> <td> 0.450</td> <td>   -0.641</td> <td>    1.447</td>\n",
       "</tr>\n",
       "<tr>\n",
       "  <th>Barri_management_NEITHER BAD, NOR GOOD</th>                       <td>    0.2254</td> <td>    0.208</td> <td>    1.086</td> <td> 0.278</td> <td>   -0.181</td> <td>    0.632</td>\n",
       "</tr>\n",
       "<tr>\n",
       "  <th>Barri_comparison_NEITHER THE BEST, NOR THE WORST</th>             <td>    1.2486</td> <td>    0.212</td> <td>    5.884</td> <td> 0.000</td> <td>    0.833</td> <td>    1.664</td>\n",
       "</tr>\n",
       "<tr>\n",
       "  <th>Barri_comparison_ONE OF THE WORST</th>                            <td>    1.5078</td> <td>    0.414</td> <td>    3.638</td> <td> 0.000</td> <td>    0.695</td> <td>    2.320</td>\n",
       "</tr>\n",
       "</table>"
      ],
      "text/plain": [
       "<class 'statsmodels.iolib.summary.Summary'>\n",
       "\"\"\"\n",
       "                         Generalized Linear Model Regression Results                          \n",
       "==============================================================================================\n",
       "Dep. Variable:     Would_live_in_another_neighborhood   No. Observations:                 1174\n",
       "Model:                                            GLM   Df Residuals:                     1151\n",
       "Model Family:                                Binomial   Df Model:                           22\n",
       "Link Function:                                  logit   Scale:                          1.0000\n",
       "Method:                                          IRLS   Log-Likelihood:                -384.21\n",
       "Date:                                Sun, 09 May 2021   Deviance:                       768.42\n",
       "Time:                                        10:44:23   Pearson chi2:                 1.29e+03\n",
       "No. Iterations:                                     6                                         \n",
       "Covariance Type:                            nonrobust                                         \n",
       "================================================================================================================================\n",
       "                                                                   coef    std err          z      P>|z|      [0.025      0.975]\n",
       "--------------------------------------------------------------------------------------------------------------------------------\n",
       "const                                                           -2.2620      0.412     -5.494      0.000      -3.069      -1.455\n",
       "Car                                                              0.2917      0.197      1.481      0.138      -0.094       0.678\n",
       "Barri_association                                               -0.3801      0.250     -1.518      0.129      -0.871       0.111\n",
       "BCN_over_barri_satisfaction                                      1.2460      0.625      1.995      0.046       0.022       2.470\n",
       "BCN_over_barri_transport                                        -0.5406      0.386     -1.400      0.162      -1.298       0.217\n",
       "BCN_over_barri_management                                       -0.3255      0.670     -0.485      0.627      -1.640       0.989\n",
       "District_CIUTAT VELLA                                            0.2060      0.499      0.413      0.680      -0.771       1.183\n",
       "District_GRÀCIA                                                  0.5132      0.413      1.244      0.214      -0.296       1.322\n",
       "District_HORTA - GUINARDÓ                                        0.6237      0.364      1.714      0.086      -0.089       1.337\n",
       "District_LES CORTS                                              -0.7802      0.580     -1.345      0.179      -1.917       0.356\n",
       "District_NOU BARRIS                                              0.6478      0.366      1.768      0.077      -0.070       1.366\n",
       "District_SANT ANDREU                                             0.5474      0.374      1.463      0.144      -0.186       1.281\n",
       "District_SANT MARTÍ                                              0.1349      0.372      0.363      0.717      -0.593       0.863\n",
       "District_SANTS - MONTJUÏC                                        0.5593      0.373      1.499      0.134      -0.172       1.291\n",
       "District_SARRIÀ - SANT GERVASI                                  -0.4788      0.541     -0.884      0.377      -1.540       0.582\n",
       "Time_living_in_barri_I HAVE ALWAYS LIVED IN THE NEIGHBORHOOD    -2.0611      0.519     -3.974      0.000      -3.078      -1.044\n",
       "Time_living_in_barri_MORE THAN 10 YEARS                         -0.8847      0.325     -2.721      0.007      -1.522      -0.247\n",
       "Barri_satisfaction_FAIRLY SATISFIED                             -0.2927      0.578     -0.507      0.612      -1.425       0.840\n",
       "Barri_satisfaction_NOT SATISFIED                                 2.4352      1.288      1.891      0.059      -0.089       4.959\n",
       "Barri_management_BAD                                             0.4025      0.533      0.756      0.450      -0.641       1.447\n",
       "Barri_management_NEITHER BAD, NOR GOOD                           0.2254      0.208      1.086      0.278      -0.181       0.632\n",
       "Barri_comparison_NEITHER THE BEST, NOR THE WORST                 1.2486      0.212      5.884      0.000       0.833       1.664\n",
       "Barri_comparison_ONE OF THE WORST                                1.5078      0.414      3.638      0.000       0.695       2.320\n",
       "================================================================================================================================\n",
       "\"\"\""
      ]
     },
     "execution_count": 31,
     "metadata": {},
     "output_type": "execute_result"
    }
   ],
   "source": [
    "glm_logit = sm.GLM(y, x, family=sm.families.Binomial())\n",
    "glm_logit_results = glm_logit.fit()\n",
    "glm_logit_results.summary()"
   ]
  },
  {
   "cell_type": "code",
   "execution_count": 32,
   "metadata": {},
   "outputs": [
    {
     "data": {
      "text/plain": [
       "814.4202122942107"
      ]
     },
     "execution_count": 32,
     "metadata": {},
     "output_type": "execute_result"
    }
   ],
   "source": [
    "glm_logit_results.aic"
   ]
  },
  {
   "cell_type": "code",
   "execution_count": 33,
   "metadata": {},
   "outputs": [
    {
     "data": {
      "text/plain": [
       "-7367.045760152426"
      ]
     },
     "execution_count": 33,
     "metadata": {},
     "output_type": "execute_result"
    }
   ],
   "source": [
    "glm_logit_results.bic"
   ]
  },
  {
   "cell_type": "code",
   "execution_count": 34,
   "metadata": {},
   "outputs": [
    {
     "data": {
      "text/plain": [
       "District_SANT MARTÍ                                             7.165325e-01\n",
       "District_CIUTAT VELLA                                           6.795250e-01\n",
       "BCN_over_barri_management                                       6.273513e-01\n",
       "Barri_satisfaction_FAIRLY SATISFIED                             6.124051e-01\n",
       "Barri_management_BAD                                            4.498456e-01\n",
       "District_SARRIÀ - SANT GERVASI                                  3.765274e-01\n",
       "Barri_management_NEITHER BAD, NOR GOOD                          2.775942e-01\n",
       "District_GRÀCIA                                                 2.136401e-01\n",
       "District_LES CORTS                                              1.785255e-01\n",
       "BCN_over_barri_transport                                        1.616610e-01\n",
       "District_SANT ANDREU                                            1.435888e-01\n",
       "Car                                                             1.384989e-01\n",
       "District_SANTS - MONTJUÏC                                       1.339385e-01\n",
       "Barri_association                                               1.290302e-01\n",
       "District_HORTA - GUINARDÓ                                       8.644650e-02\n",
       "District_NOU BARRIS                                             7.711935e-02\n",
       "Barri_satisfaction_NOT SATISFIED                                5.862526e-02\n",
       "BCN_over_barri_satisfaction                                     4.606732e-02\n",
       "Time_living_in_barri_MORE THAN 10 YEARS                         6.511444e-03\n",
       "Barri_comparison_ONE OF THE WORST                               2.749855e-04\n",
       "Time_living_in_barri_I HAVE ALWAYS LIVED IN THE NEIGHBORHOOD    7.079929e-05\n",
       "const                                                           3.934329e-08\n",
       "Barri_comparison_NEITHER THE BEST, NOR THE WORST                3.999869e-09\n",
       "dtype: float64"
      ]
     },
     "execution_count": 34,
     "metadata": {},
     "output_type": "execute_result"
    }
   ],
   "source": [
    "glm_logit_results.pvalues.sort_values(ascending=False)"
   ]
  },
  {
   "cell_type": "code",
   "execution_count": null,
   "metadata": {},
   "outputs": [],
   "source": []
  },
  {
   "cell_type": "code",
   "execution_count": 35,
   "metadata": {},
   "outputs": [],
   "source": [
    "for i in ['BCN_over_barri_management', 'Barri_management_NEITHER BAD, NOR GOOD', 'Barri_management_BAD']:\n",
    "    del x[i]"
   ]
  },
  {
   "cell_type": "code",
   "execution_count": 36,
   "metadata": {},
   "outputs": [
    {
     "data": {
      "text/html": [
       "<table class=\"simpletable\">\n",
       "<caption>Generalized Linear Model Regression Results</caption>\n",
       "<tr>\n",
       "  <th>Dep. Variable:</th>   <td>Would_live_in_another_neighborhood</td> <th>  No. Observations:  </th>  <td>  1174</td> \n",
       "</tr>\n",
       "<tr>\n",
       "  <th>Model:</th>                           <td>GLM</td>                <th>  Df Residuals:      </th>  <td>  1154</td> \n",
       "</tr>\n",
       "<tr>\n",
       "  <th>Model Family:</th>                 <td>Binomial</td>              <th>  Df Model:          </th>  <td>    19</td> \n",
       "</tr>\n",
       "<tr>\n",
       "  <th>Link Function:</th>                  <td>logit</td>               <th>  Scale:             </th> <td>  1.0000</td>\n",
       "</tr>\n",
       "<tr>\n",
       "  <th>Method:</th>                         <td>IRLS</td>                <th>  Log-Likelihood:    </th> <td> -384.93</td>\n",
       "</tr>\n",
       "<tr>\n",
       "  <th>Date:</th>                     <td>Sun, 09 May 2021</td>          <th>  Deviance:          </th> <td>  769.87</td>\n",
       "</tr>\n",
       "<tr>\n",
       "  <th>Time:</th>                         <td>10:44:23</td>              <th>  Pearson chi2:      </th> <td>1.25e+03</td>\n",
       "</tr>\n",
       "<tr>\n",
       "  <th>No. Iterations:</th>                   <td>6</td>                 <th>                     </th>     <td> </td>   \n",
       "</tr>\n",
       "<tr>\n",
       "  <th>Covariance Type:</th>              <td>nonrobust</td>             <th>                     </th>     <td> </td>   \n",
       "</tr>\n",
       "</table>\n",
       "<table class=\"simpletable\">\n",
       "<tr>\n",
       "                                <td></td>                                  <th>coef</th>     <th>std err</th>      <th>z</th>      <th>P>|z|</th>  <th>[0.025</th>    <th>0.975]</th>  \n",
       "</tr>\n",
       "<tr>\n",
       "  <th>const</th>                                                        <td>   -2.1716</td> <td>    0.402</td> <td>   -5.403</td> <td> 0.000</td> <td>   -2.959</td> <td>   -1.384</td>\n",
       "</tr>\n",
       "<tr>\n",
       "  <th>Car</th>                                                          <td>    0.3038</td> <td>    0.196</td> <td>    1.549</td> <td> 0.121</td> <td>   -0.080</td> <td>    0.688</td>\n",
       "</tr>\n",
       "<tr>\n",
       "  <th>Barri_association</th>                                            <td>   -0.3916</td> <td>    0.250</td> <td>   -1.567</td> <td> 0.117</td> <td>   -0.882</td> <td>    0.098</td>\n",
       "</tr>\n",
       "<tr>\n",
       "  <th>BCN_over_barri_satisfaction</th>                                  <td>    1.2055</td> <td>    0.619</td> <td>    1.947</td> <td> 0.051</td> <td>   -0.008</td> <td>    2.419</td>\n",
       "</tr>\n",
       "<tr>\n",
       "  <th>BCN_over_barri_transport</th>                                     <td>   -0.5381</td> <td>    0.386</td> <td>   -1.393</td> <td> 0.164</td> <td>   -1.295</td> <td>    0.219</td>\n",
       "</tr>\n",
       "<tr>\n",
       "  <th>District_CIUTAT VELLA</th>                                        <td>    0.1378</td> <td>    0.496</td> <td>    0.278</td> <td> 0.781</td> <td>   -0.835</td> <td>    1.111</td>\n",
       "</tr>\n",
       "<tr>\n",
       "  <th>District_GRÀCIA</th>                                              <td>    0.5247</td> <td>    0.412</td> <td>    1.273</td> <td> 0.203</td> <td>   -0.283</td> <td>    1.333</td>\n",
       "</tr>\n",
       "<tr>\n",
       "  <th>District_HORTA - GUINARDÓ</th>                                    <td>    0.5991</td> <td>    0.361</td> <td>    1.661</td> <td> 0.097</td> <td>   -0.108</td> <td>    1.306</td>\n",
       "</tr>\n",
       "<tr>\n",
       "  <th>District_LES CORTS</th>                                           <td>   -0.7736</td> <td>    0.578</td> <td>   -1.338</td> <td> 0.181</td> <td>   -1.907</td> <td>    0.359</td>\n",
       "</tr>\n",
       "<tr>\n",
       "  <th>District_NOU BARRIS</th>                                          <td>    0.6073</td> <td>    0.364</td> <td>    1.669</td> <td> 0.095</td> <td>   -0.106</td> <td>    1.320</td>\n",
       "</tr>\n",
       "<tr>\n",
       "  <th>District_SANT ANDREU</th>                                         <td>    0.5235</td> <td>    0.373</td> <td>    1.404</td> <td> 0.160</td> <td>   -0.207</td> <td>    1.255</td>\n",
       "</tr>\n",
       "<tr>\n",
       "  <th>District_SANT MARTÍ</th>                                          <td>    0.1232</td> <td>    0.370</td> <td>    0.333</td> <td> 0.739</td> <td>   -0.603</td> <td>    0.849</td>\n",
       "</tr>\n",
       "<tr>\n",
       "  <th>District_SANTS - MONTJUÏC</th>                                    <td>    0.5504</td> <td>    0.372</td> <td>    1.479</td> <td> 0.139</td> <td>   -0.179</td> <td>    1.280</td>\n",
       "</tr>\n",
       "<tr>\n",
       "  <th>District_SARRIÀ - SANT GERVASI</th>                               <td>   -0.4906</td> <td>    0.539</td> <td>   -0.910</td> <td> 0.363</td> <td>   -1.547</td> <td>    0.566</td>\n",
       "</tr>\n",
       "<tr>\n",
       "  <th>Time_living_in_barri_I HAVE ALWAYS LIVED IN THE NEIGHBORHOOD</th> <td>   -2.0248</td> <td>    0.517</td> <td>   -3.918</td> <td> 0.000</td> <td>   -3.038</td> <td>   -1.012</td>\n",
       "</tr>\n",
       "<tr>\n",
       "  <th>Time_living_in_barri_MORE THAN 10 YEARS</th>                      <td>   -0.8586</td> <td>    0.323</td> <td>   -2.655</td> <td> 0.008</td> <td>   -1.493</td> <td>   -0.225</td>\n",
       "</tr>\n",
       "<tr>\n",
       "  <th>Barri_satisfaction_FAIRLY SATISFIED</th>                          <td>   -0.1831</td> <td>    0.568</td> <td>   -0.323</td> <td> 0.747</td> <td>   -1.296</td> <td>    0.930</td>\n",
       "</tr>\n",
       "<tr>\n",
       "  <th>Barri_satisfaction_NOT SATISFIED</th>                             <td>    2.5209</td> <td>    1.264</td> <td>    1.995</td> <td> 0.046</td> <td>    0.044</td> <td>    4.998</td>\n",
       "</tr>\n",
       "<tr>\n",
       "  <th>Barri_comparison_NEITHER THE BEST, NOR THE WORST</th>             <td>    1.2715</td> <td>    0.211</td> <td>    6.025</td> <td> 0.000</td> <td>    0.858</td> <td>    1.685</td>\n",
       "</tr>\n",
       "<tr>\n",
       "  <th>Barri_comparison_ONE OF THE WORST</th>                            <td>    1.5736</td> <td>    0.408</td> <td>    3.854</td> <td> 0.000</td> <td>    0.773</td> <td>    2.374</td>\n",
       "</tr>\n",
       "</table>"
      ],
      "text/plain": [
       "<class 'statsmodels.iolib.summary.Summary'>\n",
       "\"\"\"\n",
       "                         Generalized Linear Model Regression Results                          \n",
       "==============================================================================================\n",
       "Dep. Variable:     Would_live_in_another_neighborhood   No. Observations:                 1174\n",
       "Model:                                            GLM   Df Residuals:                     1154\n",
       "Model Family:                                Binomial   Df Model:                           19\n",
       "Link Function:                                  logit   Scale:                          1.0000\n",
       "Method:                                          IRLS   Log-Likelihood:                -384.93\n",
       "Date:                                Sun, 09 May 2021   Deviance:                       769.87\n",
       "Time:                                        10:44:23   Pearson chi2:                 1.25e+03\n",
       "No. Iterations:                                     6                                         \n",
       "Covariance Type:                            nonrobust                                         \n",
       "================================================================================================================================\n",
       "                                                                   coef    std err          z      P>|z|      [0.025      0.975]\n",
       "--------------------------------------------------------------------------------------------------------------------------------\n",
       "const                                                           -2.1716      0.402     -5.403      0.000      -2.959      -1.384\n",
       "Car                                                              0.3038      0.196      1.549      0.121      -0.080       0.688\n",
       "Barri_association                                               -0.3916      0.250     -1.567      0.117      -0.882       0.098\n",
       "BCN_over_barri_satisfaction                                      1.2055      0.619      1.947      0.051      -0.008       2.419\n",
       "BCN_over_barri_transport                                        -0.5381      0.386     -1.393      0.164      -1.295       0.219\n",
       "District_CIUTAT VELLA                                            0.1378      0.496      0.278      0.781      -0.835       1.111\n",
       "District_GRÀCIA                                                  0.5247      0.412      1.273      0.203      -0.283       1.333\n",
       "District_HORTA - GUINARDÓ                                        0.5991      0.361      1.661      0.097      -0.108       1.306\n",
       "District_LES CORTS                                              -0.7736      0.578     -1.338      0.181      -1.907       0.359\n",
       "District_NOU BARRIS                                              0.6073      0.364      1.669      0.095      -0.106       1.320\n",
       "District_SANT ANDREU                                             0.5235      0.373      1.404      0.160      -0.207       1.255\n",
       "District_SANT MARTÍ                                              0.1232      0.370      0.333      0.739      -0.603       0.849\n",
       "District_SANTS - MONTJUÏC                                        0.5504      0.372      1.479      0.139      -0.179       1.280\n",
       "District_SARRIÀ - SANT GERVASI                                  -0.4906      0.539     -0.910      0.363      -1.547       0.566\n",
       "Time_living_in_barri_I HAVE ALWAYS LIVED IN THE NEIGHBORHOOD    -2.0248      0.517     -3.918      0.000      -3.038      -1.012\n",
       "Time_living_in_barri_MORE THAN 10 YEARS                         -0.8586      0.323     -2.655      0.008      -1.493      -0.225\n",
       "Barri_satisfaction_FAIRLY SATISFIED                             -0.1831      0.568     -0.323      0.747      -1.296       0.930\n",
       "Barri_satisfaction_NOT SATISFIED                                 2.5209      1.264      1.995      0.046       0.044       4.998\n",
       "Barri_comparison_NEITHER THE BEST, NOR THE WORST                 1.2715      0.211      6.025      0.000       0.858       1.685\n",
       "Barri_comparison_ONE OF THE WORST                                1.5736      0.408      3.854      0.000       0.773       2.374\n",
       "================================================================================================================================\n",
       "\"\"\""
      ]
     },
     "execution_count": 36,
     "metadata": {},
     "output_type": "execute_result"
    }
   ],
   "source": [
    "glm_logit = sm.GLM(y, x, family=sm.families.Binomial())\n",
    "glm_logit_results = glm_logit.fit()\n",
    "glm_logit_results.summary()"
   ]
  },
  {
   "cell_type": "code",
   "execution_count": 37,
   "metadata": {},
   "outputs": [
    {
     "data": {
      "text/plain": [
       "809.8665925533255"
      ]
     },
     "execution_count": 37,
     "metadata": {},
     "output_type": "execute_result"
    }
   ],
   "source": [
    "glm_logit_results.aic"
   ]
  },
  {
   "cell_type": "code",
   "execution_count": 38,
   "metadata": {},
   "outputs": [
    {
     "data": {
      "text/plain": [
       "-7386.803895894474"
      ]
     },
     "execution_count": 38,
     "metadata": {},
     "output_type": "execute_result"
    }
   ],
   "source": [
    "glm_logit_results.bic"
   ]
  },
  {
   "cell_type": "code",
   "execution_count": 39,
   "metadata": {},
   "outputs": [
    {
     "data": {
      "text/plain": [
       "District_CIUTAT VELLA                                           7.812696e-01\n",
       "Barri_satisfaction_FAIRLY SATISFIED                             7.470395e-01\n",
       "District_SANT MARTÍ                                             7.394602e-01\n",
       "District_SARRIÀ - SANT GERVASI                                  3.626442e-01\n",
       "District_GRÀCIA                                                 2.031586e-01\n",
       "District_LES CORTS                                              1.808234e-01\n",
       "BCN_over_barri_transport                                        1.636431e-01\n",
       "District_SANT ANDREU                                            1.603890e-01\n",
       "District_SANTS - MONTJUÏC                                       1.391977e-01\n",
       "Car                                                             1.212668e-01\n",
       "Barri_association                                               1.172147e-01\n",
       "District_HORTA - GUINARDÓ                                       9.679990e-02\n",
       "District_NOU BARRIS                                             9.506000e-02\n",
       "BCN_over_barri_satisfaction                                     5.148509e-02\n",
       "Barri_satisfaction_NOT SATISFIED                                4.606304e-02\n",
       "Time_living_in_barri_MORE THAN 10 YEARS                         7.936499e-03\n",
       "Barri_comparison_ONE OF THE WORST                               1.161684e-04\n",
       "Time_living_in_barri_I HAVE ALWAYS LIVED IN THE NEIGHBORHOOD    8.924452e-05\n",
       "const                                                           6.543943e-08\n",
       "Barri_comparison_NEITHER THE BEST, NOR THE WORST                1.689293e-09\n",
       "dtype: float64"
      ]
     },
     "execution_count": 39,
     "metadata": {},
     "output_type": "execute_result"
    }
   ],
   "source": [
    "glm_logit_results.pvalues.sort_values(ascending=False)"
   ]
  },
  {
   "cell_type": "code",
   "execution_count": null,
   "metadata": {},
   "outputs": [],
   "source": []
  },
  {
   "cell_type": "code",
   "execution_count": 40,
   "metadata": {},
   "outputs": [],
   "source": [
    "for i in x.columns.tolist():\n",
    "    if i[:8] == 'District':\n",
    "        del x[i]"
   ]
  },
  {
   "cell_type": "code",
   "execution_count": 41,
   "metadata": {},
   "outputs": [
    {
     "data": {
      "text/html": [
       "<table class=\"simpletable\">\n",
       "<caption>Generalized Linear Model Regression Results</caption>\n",
       "<tr>\n",
       "  <th>Dep. Variable:</th>   <td>Would_live_in_another_neighborhood</td> <th>  No. Observations:  </th>  <td>  1174</td> \n",
       "</tr>\n",
       "<tr>\n",
       "  <th>Model:</th>                           <td>GLM</td>                <th>  Df Residuals:      </th>  <td>  1163</td> \n",
       "</tr>\n",
       "<tr>\n",
       "  <th>Model Family:</th>                 <td>Binomial</td>              <th>  Df Model:          </th>  <td>    10</td> \n",
       "</tr>\n",
       "<tr>\n",
       "  <th>Link Function:</th>                  <td>logit</td>               <th>  Scale:             </th> <td>  1.0000</td>\n",
       "</tr>\n",
       "<tr>\n",
       "  <th>Method:</th>                         <td>IRLS</td>                <th>  Log-Likelihood:    </th> <td> -392.64</td>\n",
       "</tr>\n",
       "<tr>\n",
       "  <th>Date:</th>                     <td>Sun, 09 May 2021</td>          <th>  Deviance:          </th> <td>  785.28</td>\n",
       "</tr>\n",
       "<tr>\n",
       "  <th>Time:</th>                         <td>10:44:23</td>              <th>  Pearson chi2:      </th> <td>1.20e+03</td>\n",
       "</tr>\n",
       "<tr>\n",
       "  <th>No. Iterations:</th>                   <td>6</td>                 <th>                     </th>     <td> </td>   \n",
       "</tr>\n",
       "<tr>\n",
       "  <th>Covariance Type:</th>              <td>nonrobust</td>             <th>                     </th>     <td> </td>   \n",
       "</tr>\n",
       "</table>\n",
       "<table class=\"simpletable\">\n",
       "<tr>\n",
       "                                <td></td>                                  <th>coef</th>     <th>std err</th>      <th>z</th>      <th>P>|z|</th>  <th>[0.025</th>    <th>0.975]</th>  \n",
       "</tr>\n",
       "<tr>\n",
       "  <th>const</th>                                                        <td>   -2.0310</td> <td>    0.332</td> <td>   -6.125</td> <td> 0.000</td> <td>   -2.681</td> <td>   -1.381</td>\n",
       "</tr>\n",
       "<tr>\n",
       "  <th>Car</th>                                                          <td>    0.2674</td> <td>    0.190</td> <td>    1.410</td> <td> 0.159</td> <td>   -0.104</td> <td>    0.639</td>\n",
       "</tr>\n",
       "<tr>\n",
       "  <th>Barri_association</th>                                            <td>   -0.3362</td> <td>    0.245</td> <td>   -1.374</td> <td> 0.170</td> <td>   -0.816</td> <td>    0.144</td>\n",
       "</tr>\n",
       "<tr>\n",
       "  <th>BCN_over_barri_satisfaction</th>                                  <td>    1.2272</td> <td>    0.606</td> <td>    2.027</td> <td> 0.043</td> <td>    0.040</td> <td>    2.414</td>\n",
       "</tr>\n",
       "<tr>\n",
       "  <th>BCN_over_barri_transport</th>                                     <td>   -0.5764</td> <td>    0.381</td> <td>   -1.512</td> <td> 0.130</td> <td>   -1.323</td> <td>    0.171</td>\n",
       "</tr>\n",
       "<tr>\n",
       "  <th>Time_living_in_barri_I HAVE ALWAYS LIVED IN THE NEIGHBORHOOD</th> <td>   -1.9318</td> <td>    0.509</td> <td>   -3.794</td> <td> 0.000</td> <td>   -2.930</td> <td>   -0.934</td>\n",
       "</tr>\n",
       "<tr>\n",
       "  <th>Time_living_in_barri_MORE THAN 10 YEARS</th>                      <td>   -0.8069</td> <td>    0.318</td> <td>   -2.541</td> <td> 0.011</td> <td>   -1.429</td> <td>   -0.185</td>\n",
       "</tr>\n",
       "<tr>\n",
       "  <th>Barri_satisfaction_FAIRLY SATISFIED</th>                          <td>   -0.2607</td> <td>    0.557</td> <td>   -0.468</td> <td> 0.640</td> <td>   -1.353</td> <td>    0.832</td>\n",
       "</tr>\n",
       "<tr>\n",
       "  <th>Barri_satisfaction_NOT SATISFIED</th>                             <td>    2.4164</td> <td>    1.244</td> <td>    1.943</td> <td> 0.052</td> <td>   -0.022</td> <td>    4.854</td>\n",
       "</tr>\n",
       "<tr>\n",
       "  <th>Barri_comparison_NEITHER THE BEST, NOR THE WORST</th>             <td>    1.4247</td> <td>    0.203</td> <td>    7.012</td> <td> 0.000</td> <td>    1.027</td> <td>    1.823</td>\n",
       "</tr>\n",
       "<tr>\n",
       "  <th>Barri_comparison_ONE OF THE WORST</th>                            <td>    1.8505</td> <td>    0.392</td> <td>    4.725</td> <td> 0.000</td> <td>    1.083</td> <td>    2.618</td>\n",
       "</tr>\n",
       "</table>"
      ],
      "text/plain": [
       "<class 'statsmodels.iolib.summary.Summary'>\n",
       "\"\"\"\n",
       "                         Generalized Linear Model Regression Results                          \n",
       "==============================================================================================\n",
       "Dep. Variable:     Would_live_in_another_neighborhood   No. Observations:                 1174\n",
       "Model:                                            GLM   Df Residuals:                     1163\n",
       "Model Family:                                Binomial   Df Model:                           10\n",
       "Link Function:                                  logit   Scale:                          1.0000\n",
       "Method:                                          IRLS   Log-Likelihood:                -392.64\n",
       "Date:                                Sun, 09 May 2021   Deviance:                       785.28\n",
       "Time:                                        10:44:23   Pearson chi2:                 1.20e+03\n",
       "No. Iterations:                                     6                                         \n",
       "Covariance Type:                            nonrobust                                         \n",
       "================================================================================================================================\n",
       "                                                                   coef    std err          z      P>|z|      [0.025      0.975]\n",
       "--------------------------------------------------------------------------------------------------------------------------------\n",
       "const                                                           -2.0310      0.332     -6.125      0.000      -2.681      -1.381\n",
       "Car                                                              0.2674      0.190      1.410      0.159      -0.104       0.639\n",
       "Barri_association                                               -0.3362      0.245     -1.374      0.170      -0.816       0.144\n",
       "BCN_over_barri_satisfaction                                      1.2272      0.606      2.027      0.043       0.040       2.414\n",
       "BCN_over_barri_transport                                        -0.5764      0.381     -1.512      0.130      -1.323       0.171\n",
       "Time_living_in_barri_I HAVE ALWAYS LIVED IN THE NEIGHBORHOOD    -1.9318      0.509     -3.794      0.000      -2.930      -0.934\n",
       "Time_living_in_barri_MORE THAN 10 YEARS                         -0.8069      0.318     -2.541      0.011      -1.429      -0.185\n",
       "Barri_satisfaction_FAIRLY SATISFIED                             -0.2607      0.557     -0.468      0.640      -1.353       0.832\n",
       "Barri_satisfaction_NOT SATISFIED                                 2.4164      1.244      1.943      0.052      -0.022       4.854\n",
       "Barri_comparison_NEITHER THE BEST, NOR THE WORST                 1.4247      0.203      7.012      0.000       1.027       1.823\n",
       "Barri_comparison_ONE OF THE WORST                                1.8505      0.392      4.725      0.000       1.083       2.618\n",
       "================================================================================================================================\n",
       "\"\"\""
      ]
     },
     "execution_count": 41,
     "metadata": {},
     "output_type": "execute_result"
    }
   ],
   "source": [
    "glm_logit = sm.GLM(y, x, family=sm.families.Binomial())\n",
    "glm_logit_results = glm_logit.fit()\n",
    "glm_logit_results.summary()"
   ]
  },
  {
   "cell_type": "code",
   "execution_count": 42,
   "metadata": {},
   "outputs": [
    {
     "data": {
      "text/plain": [
       "807.2756625463222"
      ]
     },
     "execution_count": 42,
     "metadata": {},
     "output_type": "execute_result"
    }
   ],
   "source": [
    "glm_logit_results.aic"
   ]
  },
  {
   "cell_type": "code",
   "execution_count": 43,
   "metadata": {},
   "outputs": [
    {
     "data": {
      "text/plain": [
       "-7435.00837390497"
      ]
     },
     "execution_count": 43,
     "metadata": {},
     "output_type": "execute_result"
    }
   ],
   "source": [
    "glm_logit_results.bic"
   ]
  },
  {
   "cell_type": "code",
   "execution_count": 44,
   "metadata": {},
   "outputs": [
    {
     "data": {
      "text/plain": [
       "Barri_satisfaction_FAIRLY SATISFIED                             6.400547e-01\n",
       "Barri_association                                               1.695727e-01\n",
       "Car                                                             1.586384e-01\n",
       "BCN_over_barri_transport                                        1.304738e-01\n",
       "Barri_satisfaction_NOT SATISFIED                                5.206538e-02\n",
       "BCN_over_barri_satisfaction                                     4.270883e-02\n",
       "Time_living_in_barri_MORE THAN 10 YEARS                         1.105484e-02\n",
       "Time_living_in_barri_I HAVE ALWAYS LIVED IN THE NEIGHBORHOOD    1.484941e-04\n",
       "Barri_comparison_ONE OF THE WORST                               2.297955e-06\n",
       "const                                                           9.063157e-10\n",
       "Barri_comparison_NEITHER THE BEST, NOR THE WORST                2.342330e-12\n",
       "dtype: float64"
      ]
     },
     "execution_count": 44,
     "metadata": {},
     "output_type": "execute_result"
    }
   ],
   "source": [
    "glm_logit_results.pvalues.sort_values(ascending=False)"
   ]
  },
  {
   "cell_type": "code",
   "execution_count": null,
   "metadata": {},
   "outputs": [],
   "source": []
  },
  {
   "cell_type": "code",
   "execution_count": 45,
   "metadata": {},
   "outputs": [],
   "source": [
    "for i in ['Barri_association', 'Car', 'BCN_over_barri_transport']:\n",
    "    del x[i]"
   ]
  },
  {
   "cell_type": "code",
   "execution_count": 46,
   "metadata": {},
   "outputs": [
    {
     "data": {
      "text/html": [
       "<table class=\"simpletable\">\n",
       "<caption>Generalized Linear Model Regression Results</caption>\n",
       "<tr>\n",
       "  <th>Dep. Variable:</th>   <td>Would_live_in_another_neighborhood</td> <th>  No. Observations:  </th>  <td>  1174</td> \n",
       "</tr>\n",
       "<tr>\n",
       "  <th>Model:</th>                           <td>GLM</td>                <th>  Df Residuals:      </th>  <td>  1166</td> \n",
       "</tr>\n",
       "<tr>\n",
       "  <th>Model Family:</th>                 <td>Binomial</td>              <th>  Df Model:          </th>  <td>     7</td> \n",
       "</tr>\n",
       "<tr>\n",
       "  <th>Link Function:</th>                  <td>logit</td>               <th>  Scale:             </th> <td>  1.0000</td>\n",
       "</tr>\n",
       "<tr>\n",
       "  <th>Method:</th>                         <td>IRLS</td>                <th>  Log-Likelihood:    </th> <td> -395.82</td>\n",
       "</tr>\n",
       "<tr>\n",
       "  <th>Date:</th>                     <td>Sun, 09 May 2021</td>          <th>  Deviance:          </th> <td>  791.64</td>\n",
       "</tr>\n",
       "<tr>\n",
       "  <th>Time:</th>                         <td>10:44:23</td>              <th>  Pearson chi2:      </th> <td>1.22e+03</td>\n",
       "</tr>\n",
       "<tr>\n",
       "  <th>No. Iterations:</th>                   <td>6</td>                 <th>                     </th>     <td> </td>   \n",
       "</tr>\n",
       "<tr>\n",
       "  <th>Covariance Type:</th>              <td>nonrobust</td>             <th>                     </th>     <td> </td>   \n",
       "</tr>\n",
       "</table>\n",
       "<table class=\"simpletable\">\n",
       "<tr>\n",
       "                                <td></td>                                  <th>coef</th>     <th>std err</th>      <th>z</th>      <th>P>|z|</th>  <th>[0.025</th>    <th>0.975]</th>  \n",
       "</tr>\n",
       "<tr>\n",
       "  <th>const</th>                                                        <td>   -2.0282</td> <td>    0.320</td> <td>   -6.337</td> <td> 0.000</td> <td>   -2.656</td> <td>   -1.401</td>\n",
       "</tr>\n",
       "<tr>\n",
       "  <th>BCN_over_barri_satisfaction</th>                                  <td>    1.2623</td> <td>    0.601</td> <td>    2.100</td> <td> 0.036</td> <td>    0.084</td> <td>    2.440</td>\n",
       "</tr>\n",
       "<tr>\n",
       "  <th>Time_living_in_barri_I HAVE ALWAYS LIVED IN THE NEIGHBORHOOD</th> <td>   -1.9077</td> <td>    0.509</td> <td>   -3.749</td> <td> 0.000</td> <td>   -2.905</td> <td>   -0.910</td>\n",
       "</tr>\n",
       "<tr>\n",
       "  <th>Time_living_in_barri_MORE THAN 10 YEARS</th>                      <td>   -0.7535</td> <td>    0.314</td> <td>   -2.397</td> <td> 0.017</td> <td>   -1.370</td> <td>   -0.137</td>\n",
       "</tr>\n",
       "<tr>\n",
       "  <th>Barri_satisfaction_FAIRLY SATISFIED</th>                          <td>   -0.3200</td> <td>    0.554</td> <td>   -0.578</td> <td> 0.564</td> <td>   -1.406</td> <td>    0.766</td>\n",
       "</tr>\n",
       "<tr>\n",
       "  <th>Barri_satisfaction_NOT SATISFIED</th>                             <td>    2.3289</td> <td>    1.224</td> <td>    1.903</td> <td> 0.057</td> <td>   -0.069</td> <td>    4.727</td>\n",
       "</tr>\n",
       "<tr>\n",
       "  <th>Barri_comparison_NEITHER THE BEST, NOR THE WORST</th>             <td>    1.4191</td> <td>    0.202</td> <td>    7.023</td> <td> 0.000</td> <td>    1.023</td> <td>    1.815</td>\n",
       "</tr>\n",
       "<tr>\n",
       "  <th>Barri_comparison_ONE OF THE WORST</th>                            <td>    1.8636</td> <td>    0.390</td> <td>    4.775</td> <td> 0.000</td> <td>    1.099</td> <td>    2.629</td>\n",
       "</tr>\n",
       "</table>"
      ],
      "text/plain": [
       "<class 'statsmodels.iolib.summary.Summary'>\n",
       "\"\"\"\n",
       "                         Generalized Linear Model Regression Results                          \n",
       "==============================================================================================\n",
       "Dep. Variable:     Would_live_in_another_neighborhood   No. Observations:                 1174\n",
       "Model:                                            GLM   Df Residuals:                     1166\n",
       "Model Family:                                Binomial   Df Model:                            7\n",
       "Link Function:                                  logit   Scale:                          1.0000\n",
       "Method:                                          IRLS   Log-Likelihood:                -395.82\n",
       "Date:                                Sun, 09 May 2021   Deviance:                       791.64\n",
       "Time:                                        10:44:23   Pearson chi2:                 1.22e+03\n",
       "No. Iterations:                                     6                                         \n",
       "Covariance Type:                            nonrobust                                         \n",
       "================================================================================================================================\n",
       "                                                                   coef    std err          z      P>|z|      [0.025      0.975]\n",
       "--------------------------------------------------------------------------------------------------------------------------------\n",
       "const                                                           -2.0282      0.320     -6.337      0.000      -2.656      -1.401\n",
       "BCN_over_barri_satisfaction                                      1.2623      0.601      2.100      0.036       0.084       2.440\n",
       "Time_living_in_barri_I HAVE ALWAYS LIVED IN THE NEIGHBORHOOD    -1.9077      0.509     -3.749      0.000      -2.905      -0.910\n",
       "Time_living_in_barri_MORE THAN 10 YEARS                         -0.7535      0.314     -2.397      0.017      -1.370      -0.137\n",
       "Barri_satisfaction_FAIRLY SATISFIED                             -0.3200      0.554     -0.578      0.564      -1.406       0.766\n",
       "Barri_satisfaction_NOT SATISFIED                                 2.3289      1.224      1.903      0.057      -0.069       4.727\n",
       "Barri_comparison_NEITHER THE BEST, NOR THE WORST                 1.4191      0.202      7.023      0.000       1.023       1.815\n",
       "Barri_comparison_ONE OF THE WORST                                1.8636      0.390      4.775      0.000       1.099       2.629\n",
       "================================================================================================================================\n",
       "\"\"\""
      ]
     },
     "execution_count": 46,
     "metadata": {},
     "output_type": "execute_result"
    }
   ],
   "source": [
    "glm_logit = sm.GLM(y, x, family=sm.families.Binomial())\n",
    "glm_logit_results = glm_logit.fit()\n",
    "glm_logit_results.summary()"
   ]
  },
  {
   "cell_type": "code",
   "execution_count": 47,
   "metadata": {},
   "outputs": [
    {
     "data": {
      "text/plain": [
       "807.6358393000108"
      ]
     },
     "execution_count": 47,
     "metadata": {},
     "output_type": "execute_result"
    }
   ],
   "source": [
    "glm_logit_results.aic"
   ]
  },
  {
   "cell_type": "code",
   "execution_count": 48,
   "metadata": {},
   "outputs": [
    {
     "data": {
      "text/plain": [
       "-7449.852713152447"
      ]
     },
     "execution_count": 48,
     "metadata": {},
     "output_type": "execute_result"
    }
   ],
   "source": [
    "glm_logit_results.bic"
   ]
  },
  {
   "cell_type": "code",
   "execution_count": 49,
   "metadata": {},
   "outputs": [
    {
     "data": {
      "text/plain": [
       "Barri_satisfaction_FAIRLY SATISFIED                             5.635220e-01\n",
       "Barri_satisfaction_NOT SATISFIED                                5.699655e-02\n",
       "BCN_over_barri_satisfaction                                     3.573131e-02\n",
       "Time_living_in_barri_MORE THAN 10 YEARS                         1.653556e-02\n",
       "Time_living_in_barri_I HAVE ALWAYS LIVED IN THE NEIGHBORHOOD    1.774428e-04\n",
       "Barri_comparison_ONE OF THE WORST                               1.799348e-06\n",
       "const                                                           2.344028e-10\n",
       "Barri_comparison_NEITHER THE BEST, NOR THE WORST                2.165260e-12\n",
       "dtype: float64"
      ]
     },
     "execution_count": 49,
     "metadata": {},
     "output_type": "execute_result"
    }
   ],
   "source": [
    "glm_logit_results.pvalues.sort_values(ascending=False)"
   ]
  },
  {
   "cell_type": "code",
   "execution_count": null,
   "metadata": {},
   "outputs": [],
   "source": []
  },
  {
   "cell_type": "code",
   "execution_count": 50,
   "metadata": {},
   "outputs": [],
   "source": [
    "def glm_classification_table(results):\n",
    "    df_classification_table = pd.DataFrame(y).join(pd.DataFrame(results.predict(x).round()))\n",
    "    df_classification_table.rename(columns={'Would_live_in_another_neighborhood': 'y', 0: 'y_predict'}, inplace=True)\n",
    "    return pd.crosstab(df_classification_table['y'], df_classification_table['y_predict'])"
   ]
  },
  {
   "cell_type": "code",
   "execution_count": 51,
   "metadata": {},
   "outputs": [
    {
     "data": {
      "text/html": [
       "<div>\n",
       "<style scoped>\n",
       "    .dataframe tbody tr th:only-of-type {\n",
       "        vertical-align: middle;\n",
       "    }\n",
       "\n",
       "    .dataframe tbody tr th {\n",
       "        vertical-align: top;\n",
       "    }\n",
       "\n",
       "    .dataframe thead th {\n",
       "        text-align: right;\n",
       "    }\n",
       "</style>\n",
       "<table border=\"1\" class=\"dataframe\">\n",
       "  <thead>\n",
       "    <tr style=\"text-align: right;\">\n",
       "      <th>y_predict</th>\n",
       "      <th>0.0</th>\n",
       "      <th>1.0</th>\n",
       "    </tr>\n",
       "    <tr>\n",
       "      <th>y</th>\n",
       "      <th></th>\n",
       "      <th></th>\n",
       "    </tr>\n",
       "  </thead>\n",
       "  <tbody>\n",
       "    <tr>\n",
       "      <th>0.0</th>\n",
       "      <td>1017</td>\n",
       "      <td>2</td>\n",
       "    </tr>\n",
       "    <tr>\n",
       "      <th>1.0</th>\n",
       "      <td>139</td>\n",
       "      <td>16</td>\n",
       "    </tr>\n",
       "  </tbody>\n",
       "</table>\n",
       "</div>"
      ],
      "text/plain": [
       "y_predict   0.0  1.0\n",
       "y                   \n",
       "0.0        1017    2\n",
       "1.0         139   16"
      ]
     },
     "execution_count": 51,
     "metadata": {},
     "output_type": "execute_result"
    }
   ],
   "source": [
    "glm_classification_table(glm_logit_results)"
   ]
  },
  {
   "cell_type": "code",
   "execution_count": null,
   "metadata": {},
   "outputs": [],
   "source": []
  },
  {
   "cell_type": "code",
   "execution_count": 52,
   "metadata": {},
   "outputs": [],
   "source": [
    "def plot_roc_auc(results):\n",
    "    y_predict = results.predict(x)\n",
    "    roc_auc = roc_auc_score(y, y_predict)\n",
    "    fpr, tpr, thresholds = roc_curve(y, y_predict)\n",
    "    plt.figure()\n",
    "    plt.plot(fpr, tpr, label='Logistic Regression (area = %0.2f)' % roc_auc)\n",
    "    plt.plot([0, 1], [0, 1],'r--')\n",
    "    plt.xlim([0.0, 1.0])\n",
    "    plt.ylim([0.0, 1.05])\n",
    "    plt.xlabel('False Positive Rate')\n",
    "    plt.ylabel('True Positive Rate')\n",
    "    plt.title('Receiver operating characteristic')\n",
    "    plt.legend(loc=\"lower right\")\n",
    "    plt.show()"
   ]
  },
  {
   "cell_type": "code",
   "execution_count": 53,
   "metadata": {},
   "outputs": [
    {
     "data": {
      "image/png": "[encoded data removed]",
      "text/plain": [
       "<Figure size 432x288 with 1 Axes>"
      ]
     },
     "metadata": {
      "needs_background": "light"
     },
     "output_type": "display_data"
    }
   ],
   "source": [
    "plot_roc_auc(glm_logit_results)"
   ]
  },
  {
   "cell_type": "code",
   "execution_count": null,
   "metadata": {},
   "outputs": [],
   "source": []
  },
  {
   "cell_type": "code",
   "execution_count": 54,
   "metadata": {},
   "outputs": [],
   "source": [
    "def odds_ratios(results):\n",
    "    return np.exp(results.params)"
   ]
  },
  {
   "cell_type": "code",
   "execution_count": 55,
   "metadata": {},
   "outputs": [
    {
     "data": {
      "text/plain": [
       "const                                                            0.131570\n",
       "BCN_over_barri_satisfaction                                      3.533595\n",
       "Time_living_in_barri_I HAVE ALWAYS LIVED IN THE NEIGHBORHOOD     0.148423\n",
       "Time_living_in_barri_MORE THAN 10 YEARS                          0.470697\n",
       "Barri_satisfaction_FAIRLY SATISFIED                              0.726132\n",
       "Barri_satisfaction_NOT SATISFIED                                10.266586\n",
       "Barri_comparison_NEITHER THE BEST, NOR THE WORST                 4.133216\n",
       "Barri_comparison_ONE OF THE WORST                                6.446781\n",
       "dtype: float64"
      ]
     },
     "execution_count": 55,
     "metadata": {},
     "output_type": "execute_result"
    }
   ],
   "source": [
    "odds_ratios(glm_logit_results)"
   ]
  },
  {
   "cell_type": "code",
   "execution_count": null,
   "metadata": {},
   "outputs": [],
   "source": []
  },
  {
   "cell_type": "markdown",
   "metadata": {},
   "source": [
    "# Probit"
   ]
  },
  {
   "cell_type": "code",
   "execution_count": 56,
   "metadata": {},
   "outputs": [
    {
     "name": "stderr",
     "output_type": "stream",
     "text": [
      "C:\\Users\\THINK\\anaconda3\\lib\\site-packages\\ipykernel_launcher.py:1: DeprecationWarning: Calling Family(..) with a link class as argument is deprecated.\n",
      "Use an instance of a link class instead.\n",
      "  \"\"\"Entry point for launching an IPython kernel.\n"
     ]
    },
    {
     "data": {
      "text/html": [
       "<table class=\"simpletable\">\n",
       "<caption>Generalized Linear Model Regression Results</caption>\n",
       "<tr>\n",
       "  <th>Dep. Variable:</th>   <td>Would_live_in_another_neighborhood</td> <th>  No. Observations:  </th>  <td>  1174</td> \n",
       "</tr>\n",
       "<tr>\n",
       "  <th>Model:</th>                           <td>GLM</td>                <th>  Df Residuals:      </th>  <td>  1166</td> \n",
       "</tr>\n",
       "<tr>\n",
       "  <th>Model Family:</th>                 <td>Binomial</td>              <th>  Df Model:          </th>  <td>     7</td> \n",
       "</tr>\n",
       "<tr>\n",
       "  <th>Link Function:</th>                 <td>probit</td>               <th>  Scale:             </th> <td>  1.0000</td>\n",
       "</tr>\n",
       "<tr>\n",
       "  <th>Method:</th>                         <td>IRLS</td>                <th>  Log-Likelihood:    </th> <td> -396.53</td>\n",
       "</tr>\n",
       "<tr>\n",
       "  <th>Date:</th>                     <td>Sun, 09 May 2021</td>          <th>  Deviance:          </th> <td>  793.07</td>\n",
       "</tr>\n",
       "<tr>\n",
       "  <th>Time:</th>                         <td>10:44:23</td>              <th>  Pearson chi2:      </th> <td>1.23e+03</td>\n",
       "</tr>\n",
       "<tr>\n",
       "  <th>No. Iterations:</th>                   <td>6</td>                 <th>                     </th>     <td> </td>   \n",
       "</tr>\n",
       "<tr>\n",
       "  <th>Covariance Type:</th>              <td>nonrobust</td>             <th>                     </th>     <td> </td>   \n",
       "</tr>\n",
       "</table>\n",
       "<table class=\"simpletable\">\n",
       "<tr>\n",
       "                                <td></td>                                  <th>coef</th>     <th>std err</th>      <th>z</th>      <th>P>|z|</th>  <th>[0.025</th>    <th>0.975]</th>  \n",
       "</tr>\n",
       "<tr>\n",
       "  <th>const</th>                                                        <td>   -1.1558</td> <td>    0.178</td> <td>   -6.504</td> <td> 0.000</td> <td>   -1.504</td> <td>   -0.808</td>\n",
       "</tr>\n",
       "<tr>\n",
       "  <th>BCN_over_barri_satisfaction</th>                                  <td>    0.7072</td> <td>    0.336</td> <td>    2.105</td> <td> 0.035</td> <td>    0.049</td> <td>    1.366</td>\n",
       "</tr>\n",
       "<tr>\n",
       "  <th>Time_living_in_barri_I HAVE ALWAYS LIVED IN THE NEIGHBORHOOD</th> <td>   -0.9590</td> <td>    0.256</td> <td>   -3.749</td> <td> 0.000</td> <td>   -1.460</td> <td>   -0.458</td>\n",
       "</tr>\n",
       "<tr>\n",
       "  <th>Time_living_in_barri_MORE THAN 10 YEARS</th>                      <td>   -0.4137</td> <td>    0.179</td> <td>   -2.317</td> <td> 0.020</td> <td>   -0.764</td> <td>   -0.064</td>\n",
       "</tr>\n",
       "<tr>\n",
       "  <th>Barri_satisfaction_FAIRLY SATISFIED</th>                          <td>   -0.1838</td> <td>    0.305</td> <td>   -0.602</td> <td> 0.547</td> <td>   -0.782</td> <td>    0.414</td>\n",
       "</tr>\n",
       "<tr>\n",
       "  <th>Barri_satisfaction_NOT SATISFIED</th>                             <td>    1.3314</td> <td>    0.641</td> <td>    2.077</td> <td> 0.038</td> <td>    0.075</td> <td>    2.588</td>\n",
       "</tr>\n",
       "<tr>\n",
       "  <th>Barri_comparison_NEITHER THE BEST, NOR THE WORST</th>             <td>    0.7441</td> <td>    0.104</td> <td>    7.170</td> <td> 0.000</td> <td>    0.541</td> <td>    0.947</td>\n",
       "</tr>\n",
       "<tr>\n",
       "  <th>Barri_comparison_ONE OF THE WORST</th>                            <td>    0.9962</td> <td>    0.225</td> <td>    4.423</td> <td> 0.000</td> <td>    0.555</td> <td>    1.438</td>\n",
       "</tr>\n",
       "</table>"
      ],
      "text/plain": [
       "<class 'statsmodels.iolib.summary.Summary'>\n",
       "\"\"\"\n",
       "                         Generalized Linear Model Regression Results                          \n",
       "==============================================================================================\n",
       "Dep. Variable:     Would_live_in_another_neighborhood   No. Observations:                 1174\n",
       "Model:                                            GLM   Df Residuals:                     1166\n",
       "Model Family:                                Binomial   Df Model:                            7\n",
       "Link Function:                                 probit   Scale:                          1.0000\n",
       "Method:                                          IRLS   Log-Likelihood:                -396.53\n",
       "Date:                                Sun, 09 May 2021   Deviance:                       793.07\n",
       "Time:                                        10:44:23   Pearson chi2:                 1.23e+03\n",
       "No. Iterations:                                     6                                         \n",
       "Covariance Type:                            nonrobust                                         \n",
       "================================================================================================================================\n",
       "                                                                   coef    std err          z      P>|z|      [0.025      0.975]\n",
       "--------------------------------------------------------------------------------------------------------------------------------\n",
       "const                                                           -1.1558      0.178     -6.504      0.000      -1.504      -0.808\n",
       "BCN_over_barri_satisfaction                                      0.7072      0.336      2.105      0.035       0.049       1.366\n",
       "Time_living_in_barri_I HAVE ALWAYS LIVED IN THE NEIGHBORHOOD    -0.9590      0.256     -3.749      0.000      -1.460      -0.458\n",
       "Time_living_in_barri_MORE THAN 10 YEARS                         -0.4137      0.179     -2.317      0.020      -0.764      -0.064\n",
       "Barri_satisfaction_FAIRLY SATISFIED                             -0.1838      0.305     -0.602      0.547      -0.782       0.414\n",
       "Barri_satisfaction_NOT SATISFIED                                 1.3314      0.641      2.077      0.038       0.075       2.588\n",
       "Barri_comparison_NEITHER THE BEST, NOR THE WORST                 0.7441      0.104      7.170      0.000       0.541       0.947\n",
       "Barri_comparison_ONE OF THE WORST                                0.9962      0.225      4.423      0.000       0.555       1.438\n",
       "================================================================================================================================\n",
       "\"\"\""
      ]
     },
     "execution_count": 56,
     "metadata": {},
     "output_type": "execute_result"
    }
   ],
   "source": [
    "glm_probit = sm.GLM(y, x, family=sm.families.Binomial(link=sm.genmod.families.links.probit))\n",
    "glm_probit_results = glm_probit.fit()\n",
    "glm_probit_results.summary()"
   ]
  },
  {
   "cell_type": "code",
   "execution_count": 57,
   "metadata": {},
   "outputs": [
    {
     "data": {
      "text/plain": [
       "809.066989007597"
      ]
     },
     "execution_count": 57,
     "metadata": {},
     "output_type": "execute_result"
    }
   ],
   "source": [
    "glm_probit_results.aic"
   ]
  },
  {
   "cell_type": "code",
   "execution_count": 58,
   "metadata": {},
   "outputs": [
    {
     "data": {
      "text/plain": [
       "-7448.421563444861"
      ]
     },
     "execution_count": 58,
     "metadata": {},
     "output_type": "execute_result"
    }
   ],
   "source": [
    "glm_probit_results.bic"
   ]
  },
  {
   "cell_type": "code",
   "execution_count": 59,
   "metadata": {},
   "outputs": [
    {
     "data": {
      "text/html": [
       "<div>\n",
       "<style scoped>\n",
       "    .dataframe tbody tr th:only-of-type {\n",
       "        vertical-align: middle;\n",
       "    }\n",
       "\n",
       "    .dataframe tbody tr th {\n",
       "        vertical-align: top;\n",
       "    }\n",
       "\n",
       "    .dataframe thead th {\n",
       "        text-align: right;\n",
       "    }\n",
       "</style>\n",
       "<table border=\"1\" class=\"dataframe\">\n",
       "  <thead>\n",
       "    <tr style=\"text-align: right;\">\n",
       "      <th>y_predict</th>\n",
       "      <th>0.0</th>\n",
       "      <th>1.0</th>\n",
       "    </tr>\n",
       "    <tr>\n",
       "      <th>y</th>\n",
       "      <th></th>\n",
       "      <th></th>\n",
       "    </tr>\n",
       "  </thead>\n",
       "  <tbody>\n",
       "    <tr>\n",
       "      <th>0.0</th>\n",
       "      <td>1018</td>\n",
       "      <td>1</td>\n",
       "    </tr>\n",
       "    <tr>\n",
       "      <th>1.0</th>\n",
       "      <td>145</td>\n",
       "      <td>10</td>\n",
       "    </tr>\n",
       "  </tbody>\n",
       "</table>\n",
       "</div>"
      ],
      "text/plain": [
       "y_predict   0.0  1.0\n",
       "y                   \n",
       "0.0        1018    1\n",
       "1.0         145   10"
      ]
     },
     "execution_count": 59,
     "metadata": {},
     "output_type": "execute_result"
    }
   ],
   "source": [
    "glm_classification_table(glm_probit_results)"
   ]
  },
  {
   "cell_type": "code",
   "execution_count": 60,
   "metadata": {},
   "outputs": [
    {
     "data": {
      "image/png": "[encoded data removed]",
      "text/plain": [
       "<Figure size 432x288 with 1 Axes>"
      ]
     },
     "metadata": {
      "needs_background": "light"
     },
     "output_type": "display_data"
    }
   ],
   "source": [
    "plot_roc_auc(glm_probit_results)"
   ]
  },
  {
   "cell_type": "code",
   "execution_count": 61,
   "metadata": {},
   "outputs": [
    {
     "data": {
      "text/plain": [
       "const                                                           0.314802\n",
       "BCN_over_barri_satisfaction                                     2.028321\n",
       "Time_living_in_barri_I HAVE ALWAYS LIVED IN THE NEIGHBORHOOD    0.383264\n",
       "Time_living_in_barri_MORE THAN 10 YEARS                         0.661169\n",
       "Barri_satisfaction_FAIRLY SATISFIED                             0.832094\n",
       "Barri_satisfaction_NOT SATISFIED                                3.786204\n",
       "Barri_comparison_NEITHER THE BEST, NOR THE WORST                2.104500\n",
       "Barri_comparison_ONE OF THE WORST                               2.708043\n",
       "dtype: float64"
      ]
     },
     "execution_count": 61,
     "metadata": {},
     "output_type": "execute_result"
    }
   ],
   "source": [
    "odds_ratios(glm_probit_results)"
   ]
  },
  {
   "cell_type": "code",
   "execution_count": null,
   "metadata": {},
   "outputs": [],
   "source": []
  },
  {
   "cell_type": "markdown",
   "metadata": {},
   "source": [
    "# Scobit"
   ]
  },
  {
   "cell_type": "code",
   "execution_count": 62,
   "metadata": {
    "scrolled": false
   },
   "outputs": [
    {
     "name": "stderr",
     "output_type": "stream",
     "text": [
      "C:\\Users\\THINK\\anaconda3\\lib\\site-packages\\ipykernel_launcher.py:1: DeprecationWarning: Calling Family(..) with a link class as argument is deprecated.\n",
      "Use an instance of a link class instead.\n",
      "  \"\"\"Entry point for launching an IPython kernel.\n"
     ]
    },
    {
     "data": {
      "text/html": [
       "<table class=\"simpletable\">\n",
       "<caption>Generalized Linear Model Regression Results</caption>\n",
       "<tr>\n",
       "  <th>Dep. Variable:</th>   <td>Would_live_in_another_neighborhood</td> <th>  No. Observations:  </th>  <td>  1174</td> \n",
       "</tr>\n",
       "<tr>\n",
       "  <th>Model:</th>                           <td>GLM</td>                <th>  Df Residuals:      </th>  <td>  1166</td> \n",
       "</tr>\n",
       "<tr>\n",
       "  <th>Model Family:</th>                 <td>Binomial</td>              <th>  Df Model:          </th>  <td>     7</td> \n",
       "</tr>\n",
       "<tr>\n",
       "  <th>Link Function:</th>                 <td>cloglog</td>              <th>  Scale:             </th> <td>  1.0000</td>\n",
       "</tr>\n",
       "<tr>\n",
       "  <th>Method:</th>                         <td>IRLS</td>                <th>  Log-Likelihood:    </th> <td> -396.14</td>\n",
       "</tr>\n",
       "<tr>\n",
       "  <th>Date:</th>                     <td>Sun, 09 May 2021</td>          <th>  Deviance:          </th> <td>  792.28</td>\n",
       "</tr>\n",
       "<tr>\n",
       "  <th>Time:</th>                         <td>10:44:24</td>              <th>  Pearson chi2:      </th> <td>1.20e+03</td>\n",
       "</tr>\n",
       "<tr>\n",
       "  <th>No. Iterations:</th>                   <td>8</td>                 <th>                     </th>     <td> </td>   \n",
       "</tr>\n",
       "<tr>\n",
       "  <th>Covariance Type:</th>              <td>nonrobust</td>             <th>                     </th>     <td> </td>   \n",
       "</tr>\n",
       "</table>\n",
       "<table class=\"simpletable\">\n",
       "<tr>\n",
       "                                <td></td>                                  <th>coef</th>     <th>std err</th>      <th>z</th>      <th>P>|z|</th>  <th>[0.025</th>    <th>0.975]</th>  \n",
       "</tr>\n",
       "<tr>\n",
       "  <th>const</th>                                                        <td>   -2.1305</td> <td>    0.282</td> <td>   -7.564</td> <td> 0.000</td> <td>   -2.683</td> <td>   -1.578</td>\n",
       "</tr>\n",
       "<tr>\n",
       "  <th>BCN_over_barri_satisfaction</th>                                  <td>    1.0290</td> <td>    0.492</td> <td>    2.090</td> <td> 0.037</td> <td>    0.064</td> <td>    1.994</td>\n",
       "</tr>\n",
       "<tr>\n",
       "  <th>Time_living_in_barri_I HAVE ALWAYS LIVED IN THE NEIGHBORHOOD</th> <td>   -1.7037</td> <td>    0.455</td> <td>   -3.746</td> <td> 0.000</td> <td>   -2.595</td> <td>   -0.812</td>\n",
       "</tr>\n",
       "<tr>\n",
       "  <th>Time_living_in_barri_MORE THAN 10 YEARS</th>                      <td>   -0.6778</td> <td>    0.268</td> <td>   -2.531</td> <td> 0.011</td> <td>   -1.203</td> <td>   -0.153</td>\n",
       "</tr>\n",
       "<tr>\n",
       "  <th>Barri_satisfaction_FAIRLY SATISFIED</th>                          <td>   -0.2007</td> <td>    0.467</td> <td>   -0.430</td> <td> 0.667</td> <td>   -1.115</td> <td>    0.714</td>\n",
       "</tr>\n",
       "<tr>\n",
       "  <th>Barri_satisfaction_NOT SATISFIED</th>                             <td>    1.1048</td> <td>    0.675</td> <td>    1.638</td> <td> 0.101</td> <td>   -0.217</td> <td>    2.427</td>\n",
       "</tr>\n",
       "<tr>\n",
       "  <th>Barri_comparison_NEITHER THE BEST, NOR THE WORST</th>             <td>    1.3232</td> <td>    0.189</td> <td>    7.013</td> <td> 0.000</td> <td>    0.953</td> <td>    1.693</td>\n",
       "</tr>\n",
       "<tr>\n",
       "  <th>Barri_comparison_ONE OF THE WORST</th>                            <td>    1.6846</td> <td>    0.326</td> <td>    5.167</td> <td> 0.000</td> <td>    1.046</td> <td>    2.324</td>\n",
       "</tr>\n",
       "</table>"
      ],
      "text/plain": [
       "<class 'statsmodels.iolib.summary.Summary'>\n",
       "\"\"\"\n",
       "                         Generalized Linear Model Regression Results                          \n",
       "==============================================================================================\n",
       "Dep. Variable:     Would_live_in_another_neighborhood   No. Observations:                 1174\n",
       "Model:                                            GLM   Df Residuals:                     1166\n",
       "Model Family:                                Binomial   Df Model:                            7\n",
       "Link Function:                                cloglog   Scale:                          1.0000\n",
       "Method:                                          IRLS   Log-Likelihood:                -396.14\n",
       "Date:                                Sun, 09 May 2021   Deviance:                       792.28\n",
       "Time:                                        10:44:24   Pearson chi2:                 1.20e+03\n",
       "No. Iterations:                                     8                                         \n",
       "Covariance Type:                            nonrobust                                         \n",
       "================================================================================================================================\n",
       "                                                                   coef    std err          z      P>|z|      [0.025      0.975]\n",
       "--------------------------------------------------------------------------------------------------------------------------------\n",
       "const                                                           -2.1305      0.282     -7.564      0.000      -2.683      -1.578\n",
       "BCN_over_barri_satisfaction                                      1.0290      0.492      2.090      0.037       0.064       1.994\n",
       "Time_living_in_barri_I HAVE ALWAYS LIVED IN THE NEIGHBORHOOD    -1.7037      0.455     -3.746      0.000      -2.595      -0.812\n",
       "Time_living_in_barri_MORE THAN 10 YEARS                         -0.6778      0.268     -2.531      0.011      -1.203      -0.153\n",
       "Barri_satisfaction_FAIRLY SATISFIED                             -0.2007      0.467     -0.430      0.667      -1.115       0.714\n",
       "Barri_satisfaction_NOT SATISFIED                                 1.1048      0.675      1.638      0.101      -0.217       2.427\n",
       "Barri_comparison_NEITHER THE BEST, NOR THE WORST                 1.3232      0.189      7.013      0.000       0.953       1.693\n",
       "Barri_comparison_ONE OF THE WORST                                1.6846      0.326      5.167      0.000       1.046       2.324\n",
       "================================================================================================================================\n",
       "\"\"\""
      ]
     },
     "execution_count": 62,
     "metadata": {},
     "output_type": "execute_result"
    }
   ],
   "source": [
    "glm_scobit = sm.GLM(y, x, family=sm.families.Binomial(link=sm.genmod.families.links.cloglog))\n",
    "glm_scobit_results = glm_scobit.fit()\n",
    "glm_scobit_results.summary()"
   ]
  },
  {
   "cell_type": "code",
   "execution_count": 63,
   "metadata": {},
   "outputs": [
    {
     "data": {
      "text/plain": [
       "808.2819070297534"
      ]
     },
     "execution_count": 63,
     "metadata": {},
     "output_type": "execute_result"
    }
   ],
   "source": [
    "glm_scobit_results.aic"
   ]
  },
  {
   "cell_type": "code",
   "execution_count": 64,
   "metadata": {},
   "outputs": [
    {
     "data": {
      "text/plain": [
       "-7449.206645422704"
      ]
     },
     "execution_count": 64,
     "metadata": {},
     "output_type": "execute_result"
    }
   ],
   "source": [
    "glm_scobit_results.bic"
   ]
  },
  {
   "cell_type": "code",
   "execution_count": 65,
   "metadata": {},
   "outputs": [
    {
     "data": {
      "text/html": [
       "<div>\n",
       "<style scoped>\n",
       "    .dataframe tbody tr th:only-of-type {\n",
       "        vertical-align: middle;\n",
       "    }\n",
       "\n",
       "    .dataframe tbody tr th {\n",
       "        vertical-align: top;\n",
       "    }\n",
       "\n",
       "    .dataframe thead th {\n",
       "        text-align: right;\n",
       "    }\n",
       "</style>\n",
       "<table border=\"1\" class=\"dataframe\">\n",
       "  <thead>\n",
       "    <tr style=\"text-align: right;\">\n",
       "      <th>y_predict</th>\n",
       "      <th>0.0</th>\n",
       "      <th>1.0</th>\n",
       "    </tr>\n",
       "    <tr>\n",
       "      <th>y</th>\n",
       "      <th></th>\n",
       "      <th></th>\n",
       "    </tr>\n",
       "  </thead>\n",
       "  <tbody>\n",
       "    <tr>\n",
       "      <th>0.0</th>\n",
       "      <td>1017</td>\n",
       "      <td>2</td>\n",
       "    </tr>\n",
       "    <tr>\n",
       "      <th>1.0</th>\n",
       "      <td>140</td>\n",
       "      <td>15</td>\n",
       "    </tr>\n",
       "  </tbody>\n",
       "</table>\n",
       "</div>"
      ],
      "text/plain": [
       "y_predict   0.0  1.0\n",
       "y                   \n",
       "0.0        1017    2\n",
       "1.0         140   15"
      ]
     },
     "execution_count": 65,
     "metadata": {},
     "output_type": "execute_result"
    }
   ],
   "source": [
    "glm_classification_table(glm_scobit_results)"
   ]
  },
  {
   "cell_type": "code",
   "execution_count": 66,
   "metadata": {},
   "outputs": [
    {
     "data": {
      "image/png": "[encoded data removed]",
      "text/plain": [
       "<Figure size 432x288 with 1 Axes>"
      ]
     },
     "metadata": {
      "needs_background": "light"
     },
     "output_type": "display_data"
    }
   ],
   "source": [
    "plot_roc_auc(glm_scobit_results)"
   ]
  },
  {
   "cell_type": "code",
   "execution_count": 67,
   "metadata": {},
   "outputs": [
    {
     "data": {
      "text/plain": [
       "const                                                           0.118779\n",
       "BCN_over_barri_satisfaction                                     2.798382\n",
       "Time_living_in_barri_I HAVE ALWAYS LIVED IN THE NEIGHBORHOOD    0.182015\n",
       "Time_living_in_barri_MORE THAN 10 YEARS                         0.507708\n",
       "Barri_satisfaction_FAIRLY SATISFIED                             0.818196\n",
       "Barri_satisfaction_NOT SATISFIED                                3.018493\n",
       "Barri_comparison_NEITHER THE BEST, NOR THE WORST                3.755494\n",
       "Barri_comparison_ONE OF THE WORST                               5.390427\n",
       "dtype: float64"
      ]
     },
     "execution_count": 67,
     "metadata": {},
     "output_type": "execute_result"
    }
   ],
   "source": [
    "odds_ratios(glm_scobit_results)"
   ]
  },
  {
   "cell_type": "code",
   "execution_count": null,
   "metadata": {},
   "outputs": [],
   "source": []
  },
  {
   "cell_type": "code",
   "execution_count": 68,
   "metadata": {},
   "outputs": [],
   "source": [
    "for i in ['Barri_satisfaction_FAIRLY SATISFIED', 'Barri_satisfaction_NOT SATISFIED']:\n",
    "    del x[i]"
   ]
  },
  {
   "cell_type": "code",
   "execution_count": 69,
   "metadata": {},
   "outputs": [
    {
     "name": "stderr",
     "output_type": "stream",
     "text": [
      "C:\\Users\\THINK\\anaconda3\\lib\\site-packages\\ipykernel_launcher.py:1: DeprecationWarning: Calling Family(..) with a link class as argument is deprecated.\n",
      "Use an instance of a link class instead.\n",
      "  \"\"\"Entry point for launching an IPython kernel.\n"
     ]
    },
    {
     "data": {
      "text/html": [
       "<table class=\"simpletable\">\n",
       "<caption>Generalized Linear Model Regression Results</caption>\n",
       "<tr>\n",
       "  <th>Dep. Variable:</th>   <td>Would_live_in_another_neighborhood</td> <th>  No. Observations:  </th>  <td>  1174</td> \n",
       "</tr>\n",
       "<tr>\n",
       "  <th>Model:</th>                           <td>GLM</td>                <th>  Df Residuals:      </th>  <td>  1168</td> \n",
       "</tr>\n",
       "<tr>\n",
       "  <th>Model Family:</th>                 <td>Binomial</td>              <th>  Df Model:          </th>  <td>     5</td> \n",
       "</tr>\n",
       "<tr>\n",
       "  <th>Link Function:</th>                 <td>cloglog</td>              <th>  Scale:             </th> <td>  1.0000</td>\n",
       "</tr>\n",
       "<tr>\n",
       "  <th>Method:</th>                         <td>IRLS</td>                <th>  Log-Likelihood:    </th> <td> -399.35</td>\n",
       "</tr>\n",
       "<tr>\n",
       "  <th>Date:</th>                     <td>Sun, 09 May 2021</td>          <th>  Deviance:          </th> <td>  798.69</td>\n",
       "</tr>\n",
       "<tr>\n",
       "  <th>Time:</th>                         <td>10:44:24</td>              <th>  Pearson chi2:      </th> <td>1.21e+03</td>\n",
       "</tr>\n",
       "<tr>\n",
       "  <th>No. Iterations:</th>                   <td>7</td>                 <th>                     </th>     <td> </td>   \n",
       "</tr>\n",
       "<tr>\n",
       "  <th>Covariance Type:</th>              <td>nonrobust</td>             <th>                     </th>     <td> </td>   \n",
       "</tr>\n",
       "</table>\n",
       "<table class=\"simpletable\">\n",
       "<tr>\n",
       "                                <td></td>                                  <th>coef</th>     <th>std err</th>      <th>z</th>      <th>P>|z|</th>  <th>[0.025</th>    <th>0.975]</th>  \n",
       "</tr>\n",
       "<tr>\n",
       "  <th>const</th>                                                        <td>   -2.1582</td> <td>    0.282</td> <td>   -7.650</td> <td> 0.000</td> <td>   -2.711</td> <td>   -1.605</td>\n",
       "</tr>\n",
       "<tr>\n",
       "  <th>BCN_over_barri_satisfaction</th>                                  <td>    1.0188</td> <td>    0.217</td> <td>    4.693</td> <td> 0.000</td> <td>    0.593</td> <td>    1.444</td>\n",
       "</tr>\n",
       "<tr>\n",
       "  <th>Time_living_in_barri_I HAVE ALWAYS LIVED IN THE NEIGHBORHOOD</th> <td>   -1.7051</td> <td>    0.458</td> <td>   -3.724</td> <td> 0.000</td> <td>   -2.603</td> <td>   -0.808</td>\n",
       "</tr>\n",
       "<tr>\n",
       "  <th>Time_living_in_barri_MORE THAN 10 YEARS</th>                      <td>   -0.6668</td> <td>    0.268</td> <td>   -2.485</td> <td> 0.013</td> <td>   -1.193</td> <td>   -0.141</td>\n",
       "</tr>\n",
       "<tr>\n",
       "  <th>Barri_comparison_NEITHER THE BEST, NOR THE WORST</th>             <td>    1.3111</td> <td>    0.188</td> <td>    6.957</td> <td> 0.000</td> <td>    0.942</td> <td>    1.680</td>\n",
       "</tr>\n",
       "<tr>\n",
       "  <th>Barri_comparison_ONE OF THE WORST</th>                            <td>    1.9248</td> <td>    0.284</td> <td>    6.771</td> <td> 0.000</td> <td>    1.368</td> <td>    2.482</td>\n",
       "</tr>\n",
       "</table>"
      ],
      "text/plain": [
       "<class 'statsmodels.iolib.summary.Summary'>\n",
       "\"\"\"\n",
       "                         Generalized Linear Model Regression Results                          \n",
       "==============================================================================================\n",
       "Dep. Variable:     Would_live_in_another_neighborhood   No. Observations:                 1174\n",
       "Model:                                            GLM   Df Residuals:                     1168\n",
       "Model Family:                                Binomial   Df Model:                            5\n",
       "Link Function:                                cloglog   Scale:                          1.0000\n",
       "Method:                                          IRLS   Log-Likelihood:                -399.35\n",
       "Date:                                Sun, 09 May 2021   Deviance:                       798.69\n",
       "Time:                                        10:44:24   Pearson chi2:                 1.21e+03\n",
       "No. Iterations:                                     7                                         \n",
       "Covariance Type:                            nonrobust                                         \n",
       "================================================================================================================================\n",
       "                                                                   coef    std err          z      P>|z|      [0.025      0.975]\n",
       "--------------------------------------------------------------------------------------------------------------------------------\n",
       "const                                                           -2.1582      0.282     -7.650      0.000      -2.711      -1.605\n",
       "BCN_over_barri_satisfaction                                      1.0188      0.217      4.693      0.000       0.593       1.444\n",
       "Time_living_in_barri_I HAVE ALWAYS LIVED IN THE NEIGHBORHOOD    -1.7051      0.458     -3.724      0.000      -2.603      -0.808\n",
       "Time_living_in_barri_MORE THAN 10 YEARS                         -0.6668      0.268     -2.485      0.013      -1.193      -0.141\n",
       "Barri_comparison_NEITHER THE BEST, NOR THE WORST                 1.3111      0.188      6.957      0.000       0.942       1.680\n",
       "Barri_comparison_ONE OF THE WORST                                1.9248      0.284      6.771      0.000       1.368       2.482\n",
       "================================================================================================================================\n",
       "\"\"\""
      ]
     },
     "execution_count": 69,
     "metadata": {},
     "output_type": "execute_result"
    }
   ],
   "source": [
    "glm_scobit = sm.GLM(y, x, family=sm.families.Binomial(link=sm.genmod.families.links.cloglog))\n",
    "glm_scobit_results = glm_scobit.fit()\n",
    "glm_scobit_results.summary()"
   ]
  },
  {
   "cell_type": "code",
   "execution_count": 70,
   "metadata": {},
   "outputs": [
    {
     "data": {
      "text/plain": [
       "810.6916215408858"
      ]
     },
     "execution_count": 70,
     "metadata": {},
     "output_type": "execute_result"
    }
   ],
   "source": [
    "glm_scobit_results.aic"
   ]
  },
  {
   "cell_type": "code",
   "execution_count": 71,
   "metadata": {},
   "outputs": [
    {
     "data": {
      "text/plain": [
       "-7456.933274912348"
      ]
     },
     "execution_count": 71,
     "metadata": {},
     "output_type": "execute_result"
    }
   ],
   "source": [
    "glm_scobit_results.bic"
   ]
  },
  {
   "cell_type": "code",
   "execution_count": 72,
   "metadata": {},
   "outputs": [
    {
     "data": {
      "text/html": [
       "<div>\n",
       "<style scoped>\n",
       "    .dataframe tbody tr th:only-of-type {\n",
       "        vertical-align: middle;\n",
       "    }\n",
       "\n",
       "    .dataframe tbody tr th {\n",
       "        vertical-align: top;\n",
       "    }\n",
       "\n",
       "    .dataframe thead th {\n",
       "        text-align: right;\n",
       "    }\n",
       "</style>\n",
       "<table border=\"1\" class=\"dataframe\">\n",
       "  <thead>\n",
       "    <tr style=\"text-align: right;\">\n",
       "      <th>y_predict</th>\n",
       "      <th>0.0</th>\n",
       "      <th>1.0</th>\n",
       "    </tr>\n",
       "    <tr>\n",
       "      <th>y</th>\n",
       "      <th></th>\n",
       "      <th></th>\n",
       "    </tr>\n",
       "  </thead>\n",
       "  <tbody>\n",
       "    <tr>\n",
       "      <th>0.0</th>\n",
       "      <td>1016</td>\n",
       "      <td>3</td>\n",
       "    </tr>\n",
       "    <tr>\n",
       "      <th>1.0</th>\n",
       "      <td>141</td>\n",
       "      <td>14</td>\n",
       "    </tr>\n",
       "  </tbody>\n",
       "</table>\n",
       "</div>"
      ],
      "text/plain": [
       "y_predict   0.0  1.0\n",
       "y                   \n",
       "0.0        1016    3\n",
       "1.0         141   14"
      ]
     },
     "execution_count": 72,
     "metadata": {},
     "output_type": "execute_result"
    }
   ],
   "source": [
    "glm_classification_table(glm_scobit_results)"
   ]
  },
  {
   "cell_type": "code",
   "execution_count": 73,
   "metadata": {},
   "outputs": [
    {
     "data": {
      "image/png": "[encoded data removed]",
      "text/plain": [
       "<Figure size 432x288 with 1 Axes>"
      ]
     },
     "metadata": {
      "needs_background": "light"
     },
     "output_type": "display_data"
    }
   ],
   "source": [
    "plot_roc_auc(glm_scobit_results)"
   ]
  },
  {
   "cell_type": "code",
   "execution_count": 74,
   "metadata": {},
   "outputs": [
    {
     "data": {
      "text/plain": [
       "const                                                           0.115534\n",
       "BCN_over_barri_satisfaction                                     2.769830\n",
       "Time_living_in_barri_I HAVE ALWAYS LIVED IN THE NEIGHBORHOOD    0.181748\n",
       "Time_living_in_barri_MORE THAN 10 YEARS                         0.513330\n",
       "Barri_comparison_NEITHER THE BEST, NOR THE WORST                3.710110\n",
       "Barri_comparison_ONE OF THE WORST                               6.853442\n",
       "dtype: float64"
      ]
     },
     "execution_count": 74,
     "metadata": {},
     "output_type": "execute_result"
    }
   ],
   "source": [
    "odds_ratios(glm_scobit_results)"
   ]
  },
  {
   "cell_type": "code",
   "execution_count": null,
   "metadata": {},
   "outputs": [],
   "source": []
  },
  {
   "cell_type": "code",
   "execution_count": null,
   "metadata": {},
   "outputs": [],
   "source": []
  }
 ],
 "metadata": {
  "kernelspec": {
   "display_name": "Python 3",
   "language": "python",
   "name": "python3"
  },
  "language_info": {
   "codemirror_mode": {
    "name": "ipython",
    "version": 3
   },
   "file_extension": ".py",
   "mimetype": "text/x-python",
   "name": "python",
   "nbconvert_exporter": "python",
   "pygments_lexer": "ipython3",
   "version": "3.7.6"
  }
 },
 "nbformat": 4,
 "nbformat_minor": 4
}
