{
 "cells": [
  {
   "cell_type": "markdown",
   "metadata": {},
   "source": [
    "Aleksandra Bednarczuk"
   ]
  },
  {
   "cell_type": "markdown",
   "metadata": {},
   "source": [
    "# Predictors of elderly citizens willingness to stay in the neighbourhood\n",
    "# Logistic regression"
   ]
  },
  {
   "cell_type": "markdown",
   "metadata": {},
   "source": [
    "Original dataset, including barris among predictors"
   ]
  },
  {
   "cell_type": "code",
   "execution_count": 1,
   "metadata": {},
   "outputs": [],
   "source": [
    "import pandas as pd\n",
    "import numpy as np\n",
    "\n",
    "import matplotlib.pyplot as plt"
   ]
  },
  {
   "cell_type": "code",
   "execution_count": 2,
   "metadata": {},
   "outputs": [],
   "source": [
    "from imblearn.over_sampling import SMOTE\n",
    "\n",
    "import statsmodels.api as sm\n",
    "import statsmodels.formula.api as smf\n",
    "\n",
    "from sklearn.model_selection import train_test_split\n",
    "from sklearn.feature_selection import RFE\n",
    "from sklearn.linear_model import LogisticRegression\n",
    "\n",
    "from sklearn.metrics import accuracy_score\n",
    "from sklearn.metrics import classification_report\n",
    "from sklearn.metrics import confusion_matrix\n",
    "from sklearn.metrics import roc_auc_score\n",
    "from sklearn.metrics import roc_curve\n",
    "from sklearn.metrics import r2_score\n",
    "\n",
    "from sklearn.feature_selection import SelectKBest\n",
    "from sklearn.feature_selection import chi2\n",
    "from sklearn.feature_selection import mutual_info_classif\n",
    "from sklearn.feature_selection import f_classif\n",
    "from sklearn.preprocessing import LabelEncoder\n",
    "from sklearn.preprocessing import OrdinalEncoder\n",
    "\n",
    "from scipy import stats"
   ]
  },
  {
   "cell_type": "code",
   "execution_count": null,
   "metadata": {},
   "outputs": [],
   "source": []
  },
  {
   "cell_type": "code",
   "execution_count": 3,
   "metadata": {},
   "outputs": [],
   "source": [
    "data = pd.read_pickle(\"survey_transformed_20102019.pkl\")"
   ]
  },
  {
   "cell_type": "code",
   "execution_count": 4,
   "metadata": {},
   "outputs": [],
   "source": [
    "data.reset_index(drop=True, inplace=True)"
   ]
  },
  {
   "cell_type": "code",
   "execution_count": 5,
   "metadata": {},
   "outputs": [
    {
     "data": {
      "text/html": [
       "<div>\n",
       "<style scoped>\n",
       "    .dataframe tbody tr th:only-of-type {\n",
       "        vertical-align: middle;\n",
       "    }\n",
       "\n",
       "    .dataframe tbody tr th {\n",
       "        vertical-align: top;\n",
       "    }\n",
       "\n",
       "    .dataframe thead th {\n",
       "        text-align: right;\n",
       "    }\n",
       "</style>\n",
       "<table border=\"1\" class=\"dataframe\">\n",
       "  <thead>\n",
       "    <tr style=\"text-align: right;\">\n",
       "      <th></th>\n",
       "      <th>Would_live_in_another_neighborhood</th>\n",
       "      <th>District</th>\n",
       "      <th>Woman</th>\n",
       "      <th>Car</th>\n",
       "      <th>House_size</th>\n",
       "      <th>Living_alone</th>\n",
       "      <th>No_of_people_in_the_house</th>\n",
       "      <th>Time_living_in_barri</th>\n",
       "      <th>Barri_evolution</th>\n",
       "      <th>BCN_evolution</th>\n",
       "      <th>...</th>\n",
       "      <th>BCN_transport</th>\n",
       "      <th>Barri_problem_with_security</th>\n",
       "      <th>Barri_problem_with_streets_cleaning</th>\n",
       "      <th>Barri_problem_with_mobility</th>\n",
       "      <th>BCN_over_barri_evolution</th>\n",
       "      <th>BCN_over_barri_future</th>\n",
       "      <th>BCN_over_barri_satisfaction</th>\n",
       "      <th>BCN_over_barri_transport</th>\n",
       "      <th>BCN_over_barri_management</th>\n",
       "      <th>BCN_over_barri_security</th>\n",
       "    </tr>\n",
       "  </thead>\n",
       "  <tbody>\n",
       "    <tr>\n",
       "      <th>0</th>\n",
       "      <td>0.0</td>\n",
       "      <td>CIUTAT VELLA</td>\n",
       "      <td>1</td>\n",
       "      <td>1.0</td>\n",
       "      <td>51-100 M2</td>\n",
       "      <td>0</td>\n",
       "      <td>TWO</td>\n",
       "      <td>MORE THAN 10 YEARS</td>\n",
       "      <td>IT HAS WORSENED</td>\n",
       "      <td>IT HAS IMPROVED</td>\n",
       "      <td>...</td>\n",
       "      <td>GOOD</td>\n",
       "      <td>0</td>\n",
       "      <td>0</td>\n",
       "      <td>0</td>\n",
       "      <td>1</td>\n",
       "      <td>0</td>\n",
       "      <td>0</td>\n",
       "      <td>0</td>\n",
       "      <td>0</td>\n",
       "      <td>0</td>\n",
       "    </tr>\n",
       "    <tr>\n",
       "      <th>1</th>\n",
       "      <td>0.0</td>\n",
       "      <td>CIUTAT VELLA</td>\n",
       "      <td>1</td>\n",
       "      <td>0.0</td>\n",
       "      <td>101-150 M2</td>\n",
       "      <td>0</td>\n",
       "      <td>TWO</td>\n",
       "      <td>MORE THAN 10 YEARS</td>\n",
       "      <td>IT HAS IMPROVED</td>\n",
       "      <td>IT HAS IMPROVED</td>\n",
       "      <td>...</td>\n",
       "      <td>GOOD</td>\n",
       "      <td>0</td>\n",
       "      <td>0</td>\n",
       "      <td>0</td>\n",
       "      <td>0</td>\n",
       "      <td>0</td>\n",
       "      <td>0</td>\n",
       "      <td>0</td>\n",
       "      <td>0</td>\n",
       "      <td>0</td>\n",
       "    </tr>\n",
       "    <tr>\n",
       "      <th>2</th>\n",
       "      <td>1.0</td>\n",
       "      <td>CIUTAT VELLA</td>\n",
       "      <td>1</td>\n",
       "      <td>0.0</td>\n",
       "      <td>51-100 M2</td>\n",
       "      <td>0</td>\n",
       "      <td>TWO</td>\n",
       "      <td>I HAVE ALWAYS LIVED IN THE NEIGHBORHOOD</td>\n",
       "      <td>IT HAS WORSENED</td>\n",
       "      <td>IT HAS WORSENED</td>\n",
       "      <td>...</td>\n",
       "      <td>GOOD</td>\n",
       "      <td>0</td>\n",
       "      <td>0</td>\n",
       "      <td>0</td>\n",
       "      <td>0</td>\n",
       "      <td>0</td>\n",
       "      <td>1</td>\n",
       "      <td>0</td>\n",
       "      <td>0</td>\n",
       "      <td>0</td>\n",
       "    </tr>\n",
       "    <tr>\n",
       "      <th>3</th>\n",
       "      <td>0.0</td>\n",
       "      <td>CIUTAT VELLA</td>\n",
       "      <td>1</td>\n",
       "      <td>0.0</td>\n",
       "      <td>&lt; 50 M2</td>\n",
       "      <td>1</td>\n",
       "      <td>ONE</td>\n",
       "      <td>MORE THAN 10 YEARS</td>\n",
       "      <td>IT HAS IMPROVED</td>\n",
       "      <td>IT IS THE SAME</td>\n",
       "      <td>...</td>\n",
       "      <td>NEITHER BAD, NOR GOOD</td>\n",
       "      <td>1</td>\n",
       "      <td>0</td>\n",
       "      <td>0</td>\n",
       "      <td>0</td>\n",
       "      <td>0</td>\n",
       "      <td>0</td>\n",
       "      <td>0</td>\n",
       "      <td>0</td>\n",
       "      <td>0</td>\n",
       "    </tr>\n",
       "    <tr>\n",
       "      <th>4</th>\n",
       "      <td>1.0</td>\n",
       "      <td>CIUTAT VELLA</td>\n",
       "      <td>0</td>\n",
       "      <td>0.0</td>\n",
       "      <td>&lt; 50 M2</td>\n",
       "      <td>1</td>\n",
       "      <td>ONE</td>\n",
       "      <td>MORE THAN 10 YEARS</td>\n",
       "      <td>IT HAS IMPROVED</td>\n",
       "      <td>IT HAS IMPROVED</td>\n",
       "      <td>...</td>\n",
       "      <td>GOOD</td>\n",
       "      <td>0</td>\n",
       "      <td>0</td>\n",
       "      <td>0</td>\n",
       "      <td>0</td>\n",
       "      <td>0</td>\n",
       "      <td>0</td>\n",
       "      <td>0</td>\n",
       "      <td>0</td>\n",
       "      <td>0</td>\n",
       "    </tr>\n",
       "  </tbody>\n",
       "</table>\n",
       "<p>5 rows × 30 columns</p>\n",
       "</div>"
      ],
      "text/plain": [
       "   Would_live_in_another_neighborhood      District  Woman  Car  House_size  \\\n",
       "0                                 0.0  CIUTAT VELLA      1  1.0   51-100 M2   \n",
       "1                                 0.0  CIUTAT VELLA      1  0.0  101-150 M2   \n",
       "2                                 1.0  CIUTAT VELLA      1  0.0   51-100 M2   \n",
       "3                                 0.0  CIUTAT VELLA      1  0.0     < 50 M2   \n",
       "4                                 1.0  CIUTAT VELLA      0  0.0     < 50 M2   \n",
       "\n",
       "   Living_alone No_of_people_in_the_house  \\\n",
       "0             0                       TWO   \n",
       "1             0                       TWO   \n",
       "2             0                       TWO   \n",
       "3             1                       ONE   \n",
       "4             1                       ONE   \n",
       "\n",
       "                      Time_living_in_barri  Barri_evolution    BCN_evolution  \\\n",
       "0                       MORE THAN 10 YEARS  IT HAS WORSENED  IT HAS IMPROVED   \n",
       "1                       MORE THAN 10 YEARS  IT HAS IMPROVED  IT HAS IMPROVED   \n",
       "2  I HAVE ALWAYS LIVED IN THE NEIGHBORHOOD  IT HAS WORSENED  IT HAS WORSENED   \n",
       "3                       MORE THAN 10 YEARS  IT HAS IMPROVED   IT IS THE SAME   \n",
       "4                       MORE THAN 10 YEARS  IT HAS IMPROVED  IT HAS IMPROVED   \n",
       "\n",
       "   ...          BCN_transport Barri_problem_with_security  \\\n",
       "0  ...                   GOOD                           0   \n",
       "1  ...                   GOOD                           0   \n",
       "2  ...                   GOOD                           0   \n",
       "3  ...  NEITHER BAD, NOR GOOD                           1   \n",
       "4  ...                   GOOD                           0   \n",
       "\n",
       "  Barri_problem_with_streets_cleaning Barri_problem_with_mobility  \\\n",
       "0                                   0                           0   \n",
       "1                                   0                           0   \n",
       "2                                   0                           0   \n",
       "3                                   0                           0   \n",
       "4                                   0                           0   \n",
       "\n",
       "  BCN_over_barri_evolution BCN_over_barri_future BCN_over_barri_satisfaction  \\\n",
       "0                        1                     0                           0   \n",
       "1                        0                     0                           0   \n",
       "2                        0                     0                           1   \n",
       "3                        0                     0                           0   \n",
       "4                        0                     0                           0   \n",
       "\n",
       "  BCN_over_barri_transport BCN_over_barri_management BCN_over_barri_security  \n",
       "0                        0                         0                       0  \n",
       "1                        0                         0                       0  \n",
       "2                        0                         0                       0  \n",
       "3                        0                         0                       0  \n",
       "4                        0                         0                       0  \n",
       "\n",
       "[5 rows x 30 columns]"
      ]
     },
     "execution_count": 5,
     "metadata": {},
     "output_type": "execute_result"
    }
   ],
   "source": [
    "data.head()"
   ]
  },
  {
   "cell_type": "code",
   "execution_count": null,
   "metadata": {},
   "outputs": [],
   "source": []
  },
  {
   "cell_type": "code",
   "execution_count": 6,
   "metadata": {},
   "outputs": [
    {
     "data": {
      "text/plain": [
       "(12758, 30)"
      ]
     },
     "execution_count": 6,
     "metadata": {},
     "output_type": "execute_result"
    }
   ],
   "source": [
    "data.shape"
   ]
  },
  {
   "cell_type": "code",
   "execution_count": 7,
   "metadata": {},
   "outputs": [
    {
     "data": {
      "text/plain": [
       "['Would_live_in_another_neighborhood',\n",
       " 'District',\n",
       " 'Woman',\n",
       " 'Car',\n",
       " 'House_size',\n",
       " 'Living_alone',\n",
       " 'No_of_people_in_the_house',\n",
       " 'Time_living_in_barri',\n",
       " 'Barri_evolution',\n",
       " 'BCN_evolution',\n",
       " 'Barri_future',\n",
       " 'BCN_future',\n",
       " 'Barri_satisfaction',\n",
       " 'BCN_satisfaction',\n",
       " 'Barri_security',\n",
       " 'BCN_security',\n",
       " 'Barri_management',\n",
       " 'BCN_management',\n",
       " 'Barri_comparison',\n",
       " 'Barri_transport',\n",
       " 'BCN_transport',\n",
       " 'Barri_problem_with_security',\n",
       " 'Barri_problem_with_streets_cleaning',\n",
       " 'Barri_problem_with_mobility',\n",
       " 'BCN_over_barri_evolution',\n",
       " 'BCN_over_barri_future',\n",
       " 'BCN_over_barri_satisfaction',\n",
       " 'BCN_over_barri_transport',\n",
       " 'BCN_over_barri_management',\n",
       " 'BCN_over_barri_security']"
      ]
     },
     "execution_count": 7,
     "metadata": {},
     "output_type": "execute_result"
    }
   ],
   "source": [
    "data.columns.tolist()"
   ]
  },
  {
   "cell_type": "code",
   "execution_count": 8,
   "metadata": {},
   "outputs": [
    {
     "data": {
      "text/html": [
       "<div>\n",
       "<style scoped>\n",
       "    .dataframe tbody tr th:only-of-type {\n",
       "        vertical-align: middle;\n",
       "    }\n",
       "\n",
       "    .dataframe tbody tr th {\n",
       "        vertical-align: top;\n",
       "    }\n",
       "\n",
       "    .dataframe thead th {\n",
       "        text-align: right;\n",
       "    }\n",
       "</style>\n",
       "<table border=\"1\" class=\"dataframe\">\n",
       "  <thead>\n",
       "    <tr style=\"text-align: right;\">\n",
       "      <th>Would_live_in_another_neighborhood</th>\n",
       "      <th>0.0</th>\n",
       "      <th>1.0</th>\n",
       "    </tr>\n",
       "    <tr>\n",
       "      <th>Would_live_in_another_neighborhood</th>\n",
       "      <th></th>\n",
       "      <th></th>\n",
       "    </tr>\n",
       "  </thead>\n",
       "  <tbody>\n",
       "    <tr>\n",
       "      <th>0.0</th>\n",
       "      <td>11340</td>\n",
       "      <td>0</td>\n",
       "    </tr>\n",
       "    <tr>\n",
       "      <th>1.0</th>\n",
       "      <td>0</td>\n",
       "      <td>1418</td>\n",
       "    </tr>\n",
       "  </tbody>\n",
       "</table>\n",
       "</div>"
      ],
      "text/plain": [
       "Would_live_in_another_neighborhood    0.0   1.0\n",
       "Would_live_in_another_neighborhood             \n",
       "0.0                                 11340     0\n",
       "1.0                                     0  1418"
      ]
     },
     "metadata": {},
     "output_type": "display_data"
    },
    {
     "data": {
      "text/html": [
       "<div>\n",
       "<style scoped>\n",
       "    .dataframe tbody tr th:only-of-type {\n",
       "        vertical-align: middle;\n",
       "    }\n",
       "\n",
       "    .dataframe tbody tr th {\n",
       "        vertical-align: top;\n",
       "    }\n",
       "\n",
       "    .dataframe thead th {\n",
       "        text-align: right;\n",
       "    }\n",
       "</style>\n",
       "<table border=\"1\" class=\"dataframe\">\n",
       "  <thead>\n",
       "    <tr style=\"text-align: right;\">\n",
       "      <th>Would_live_in_another_neighborhood</th>\n",
       "      <th>0.0</th>\n",
       "      <th>1.0</th>\n",
       "    </tr>\n",
       "    <tr>\n",
       "      <th>District</th>\n",
       "      <th></th>\n",
       "      <th></th>\n",
       "    </tr>\n",
       "  </thead>\n",
       "  <tbody>\n",
       "    <tr>\n",
       "      <th>CIUTAT VELLA</th>\n",
       "      <td>741</td>\n",
       "      <td>160</td>\n",
       "    </tr>\n",
       "    <tr>\n",
       "      <th>EIXAMPLE</th>\n",
       "      <td>1914</td>\n",
       "      <td>164</td>\n",
       "    </tr>\n",
       "    <tr>\n",
       "      <th>GRÀCIA</th>\n",
       "      <td>921</td>\n",
       "      <td>88</td>\n",
       "    </tr>\n",
       "    <tr>\n",
       "      <th>HORTA - GUINARDÓ</th>\n",
       "      <td>1290</td>\n",
       "      <td>180</td>\n",
       "    </tr>\n",
       "    <tr>\n",
       "      <th>LES CORTS</th>\n",
       "      <td>1021</td>\n",
       "      <td>49</td>\n",
       "    </tr>\n",
       "    <tr>\n",
       "      <th>NOU BARRIS</th>\n",
       "      <td>1158</td>\n",
       "      <td>209</td>\n",
       "    </tr>\n",
       "    <tr>\n",
       "      <th>SANT ANDREU</th>\n",
       "      <td>940</td>\n",
       "      <td>149</td>\n",
       "    </tr>\n",
       "    <tr>\n",
       "      <th>SANT MARTÍ</th>\n",
       "      <td>1359</td>\n",
       "      <td>166</td>\n",
       "    </tr>\n",
       "    <tr>\n",
       "      <th>SANTS - MONTJUÏC</th>\n",
       "      <td>972</td>\n",
       "      <td>203</td>\n",
       "    </tr>\n",
       "    <tr>\n",
       "      <th>SARRIÀ - SANT GERVASI</th>\n",
       "      <td>1024</td>\n",
       "      <td>50</td>\n",
       "    </tr>\n",
       "  </tbody>\n",
       "</table>\n",
       "</div>"
      ],
      "text/plain": [
       "Would_live_in_another_neighborhood   0.0  1.0\n",
       "District                                     \n",
       "CIUTAT VELLA                         741  160\n",
       "EIXAMPLE                            1914  164\n",
       "GRÀCIA                               921   88\n",
       "HORTA - GUINARDÓ                    1290  180\n",
       "LES CORTS                           1021   49\n",
       "NOU BARRIS                          1158  209\n",
       "SANT ANDREU                          940  149\n",
       "SANT MARTÍ                          1359  166\n",
       "SANTS - MONTJUÏC                     972  203\n",
       "SARRIÀ - SANT GERVASI               1024   50"
      ]
     },
     "metadata": {},
     "output_type": "display_data"
    },
    {
     "data": {
      "text/html": [
       "<div>\n",
       "<style scoped>\n",
       "    .dataframe tbody tr th:only-of-type {\n",
       "        vertical-align: middle;\n",
       "    }\n",
       "\n",
       "    .dataframe tbody tr th {\n",
       "        vertical-align: top;\n",
       "    }\n",
       "\n",
       "    .dataframe thead th {\n",
       "        text-align: right;\n",
       "    }\n",
       "</style>\n",
       "<table border=\"1\" class=\"dataframe\">\n",
       "  <thead>\n",
       "    <tr style=\"text-align: right;\">\n",
       "      <th>Would_live_in_another_neighborhood</th>\n",
       "      <th>0.0</th>\n",
       "      <th>1.0</th>\n",
       "    </tr>\n",
       "    <tr>\n",
       "      <th>Woman</th>\n",
       "      <th></th>\n",
       "      <th></th>\n",
       "    </tr>\n",
       "  </thead>\n",
       "  <tbody>\n",
       "    <tr>\n",
       "      <th>0</th>\n",
       "      <td>4446</td>\n",
       "      <td>526</td>\n",
       "    </tr>\n",
       "    <tr>\n",
       "      <th>1</th>\n",
       "      <td>6894</td>\n",
       "      <td>892</td>\n",
       "    </tr>\n",
       "  </tbody>\n",
       "</table>\n",
       "</div>"
      ],
      "text/plain": [
       "Would_live_in_another_neighborhood   0.0  1.0\n",
       "Woman                                        \n",
       "0                                   4446  526\n",
       "1                                   6894  892"
      ]
     },
     "metadata": {},
     "output_type": "display_data"
    },
    {
     "data": {
      "text/html": [
       "<div>\n",
       "<style scoped>\n",
       "    .dataframe tbody tr th:only-of-type {\n",
       "        vertical-align: middle;\n",
       "    }\n",
       "\n",
       "    .dataframe tbody tr th {\n",
       "        vertical-align: top;\n",
       "    }\n",
       "\n",
       "    .dataframe thead th {\n",
       "        text-align: right;\n",
       "    }\n",
       "</style>\n",
       "<table border=\"1\" class=\"dataframe\">\n",
       "  <thead>\n",
       "    <tr style=\"text-align: right;\">\n",
       "      <th>Would_live_in_another_neighborhood</th>\n",
       "      <th>0.0</th>\n",
       "      <th>1.0</th>\n",
       "    </tr>\n",
       "    <tr>\n",
       "      <th>Car</th>\n",
       "      <th></th>\n",
       "      <th></th>\n",
       "    </tr>\n",
       "  </thead>\n",
       "  <tbody>\n",
       "    <tr>\n",
       "      <th>0.0</th>\n",
       "      <td>5874</td>\n",
       "      <td>719</td>\n",
       "    </tr>\n",
       "    <tr>\n",
       "      <th>1.0</th>\n",
       "      <td>5466</td>\n",
       "      <td>699</td>\n",
       "    </tr>\n",
       "  </tbody>\n",
       "</table>\n",
       "</div>"
      ],
      "text/plain": [
       "Would_live_in_another_neighborhood   0.0  1.0\n",
       "Car                                          \n",
       "0.0                                 5874  719\n",
       "1.0                                 5466  699"
      ]
     },
     "metadata": {},
     "output_type": "display_data"
    },
    {
     "data": {
      "text/html": [
       "<div>\n",
       "<style scoped>\n",
       "    .dataframe tbody tr th:only-of-type {\n",
       "        vertical-align: middle;\n",
       "    }\n",
       "\n",
       "    .dataframe tbody tr th {\n",
       "        vertical-align: top;\n",
       "    }\n",
       "\n",
       "    .dataframe thead th {\n",
       "        text-align: right;\n",
       "    }\n",
       "</style>\n",
       "<table border=\"1\" class=\"dataframe\">\n",
       "  <thead>\n",
       "    <tr style=\"text-align: right;\">\n",
       "      <th>Would_live_in_another_neighborhood</th>\n",
       "      <th>0.0</th>\n",
       "      <th>1.0</th>\n",
       "    </tr>\n",
       "    <tr>\n",
       "      <th>House_size</th>\n",
       "      <th></th>\n",
       "      <th></th>\n",
       "    </tr>\n",
       "  </thead>\n",
       "  <tbody>\n",
       "    <tr>\n",
       "      <th>101-150 M2</th>\n",
       "      <td>1373</td>\n",
       "      <td>117</td>\n",
       "    </tr>\n",
       "    <tr>\n",
       "      <th>51-100 M2</th>\n",
       "      <td>7843</td>\n",
       "      <td>1058</td>\n",
       "    </tr>\n",
       "    <tr>\n",
       "      <th>&lt; 50 M2</th>\n",
       "      <td>793</td>\n",
       "      <td>124</td>\n",
       "    </tr>\n",
       "    <tr>\n",
       "      <th>&gt; 150 M2</th>\n",
       "      <td>496</td>\n",
       "      <td>40</td>\n",
       "    </tr>\n",
       "    <tr>\n",
       "      <th>I DON'T KNOW</th>\n",
       "      <td>835</td>\n",
       "      <td>79</td>\n",
       "    </tr>\n",
       "  </tbody>\n",
       "</table>\n",
       "</div>"
      ],
      "text/plain": [
       "Would_live_in_another_neighborhood   0.0   1.0\n",
       "House_size                                    \n",
       "101-150 M2                          1373   117\n",
       "51-100 M2                           7843  1058\n",
       "< 50 M2                              793   124\n",
       "> 150 M2                             496    40\n",
       "I DON'T KNOW                         835    79"
      ]
     },
     "metadata": {},
     "output_type": "display_data"
    },
    {
     "data": {
      "text/html": [
       "<div>\n",
       "<style scoped>\n",
       "    .dataframe tbody tr th:only-of-type {\n",
       "        vertical-align: middle;\n",
       "    }\n",
       "\n",
       "    .dataframe tbody tr th {\n",
       "        vertical-align: top;\n",
       "    }\n",
       "\n",
       "    .dataframe thead th {\n",
       "        text-align: right;\n",
       "    }\n",
       "</style>\n",
       "<table border=\"1\" class=\"dataframe\">\n",
       "  <thead>\n",
       "    <tr style=\"text-align: right;\">\n",
       "      <th>Would_live_in_another_neighborhood</th>\n",
       "      <th>0.0</th>\n",
       "      <th>1.0</th>\n",
       "    </tr>\n",
       "    <tr>\n",
       "      <th>Living_alone</th>\n",
       "      <th></th>\n",
       "      <th></th>\n",
       "    </tr>\n",
       "  </thead>\n",
       "  <tbody>\n",
       "    <tr>\n",
       "      <th>0</th>\n",
       "      <td>7919</td>\n",
       "      <td>985</td>\n",
       "    </tr>\n",
       "    <tr>\n",
       "      <th>1</th>\n",
       "      <td>3421</td>\n",
       "      <td>433</td>\n",
       "    </tr>\n",
       "  </tbody>\n",
       "</table>\n",
       "</div>"
      ],
      "text/plain": [
       "Would_live_in_another_neighborhood   0.0  1.0\n",
       "Living_alone                                 \n",
       "0                                   7919  985\n",
       "1                                   3421  433"
      ]
     },
     "metadata": {},
     "output_type": "display_data"
    },
    {
     "data": {
      "text/html": [
       "<div>\n",
       "<style scoped>\n",
       "    .dataframe tbody tr th:only-of-type {\n",
       "        vertical-align: middle;\n",
       "    }\n",
       "\n",
       "    .dataframe tbody tr th {\n",
       "        vertical-align: top;\n",
       "    }\n",
       "\n",
       "    .dataframe thead th {\n",
       "        text-align: right;\n",
       "    }\n",
       "</style>\n",
       "<table border=\"1\" class=\"dataframe\">\n",
       "  <thead>\n",
       "    <tr style=\"text-align: right;\">\n",
       "      <th>Would_live_in_another_neighborhood</th>\n",
       "      <th>0.0</th>\n",
       "      <th>1.0</th>\n",
       "    </tr>\n",
       "    <tr>\n",
       "      <th>No_of_people_in_the_house</th>\n",
       "      <th></th>\n",
       "      <th></th>\n",
       "    </tr>\n",
       "  </thead>\n",
       "  <tbody>\n",
       "    <tr>\n",
       "      <th>FOUR OR MORE</th>\n",
       "      <td>549</td>\n",
       "      <td>58</td>\n",
       "    </tr>\n",
       "    <tr>\n",
       "      <th>ONE</th>\n",
       "      <td>3421</td>\n",
       "      <td>433</td>\n",
       "    </tr>\n",
       "    <tr>\n",
       "      <th>THREE</th>\n",
       "      <td>1319</td>\n",
       "      <td>146</td>\n",
       "    </tr>\n",
       "    <tr>\n",
       "      <th>TWO</th>\n",
       "      <td>6051</td>\n",
       "      <td>781</td>\n",
       "    </tr>\n",
       "  </tbody>\n",
       "</table>\n",
       "</div>"
      ],
      "text/plain": [
       "Would_live_in_another_neighborhood   0.0  1.0\n",
       "No_of_people_in_the_house                    \n",
       "FOUR OR MORE                         549   58\n",
       "ONE                                 3421  433\n",
       "THREE                               1319  146\n",
       "TWO                                 6051  781"
      ]
     },
     "metadata": {},
     "output_type": "display_data"
    },
    {
     "data": {
      "text/html": [
       "<div>\n",
       "<style scoped>\n",
       "    .dataframe tbody tr th:only-of-type {\n",
       "        vertical-align: middle;\n",
       "    }\n",
       "\n",
       "    .dataframe tbody tr th {\n",
       "        vertical-align: top;\n",
       "    }\n",
       "\n",
       "    .dataframe thead th {\n",
       "        text-align: right;\n",
       "    }\n",
       "</style>\n",
       "<table border=\"1\" class=\"dataframe\">\n",
       "  <thead>\n",
       "    <tr style=\"text-align: right;\">\n",
       "      <th>Would_live_in_another_neighborhood</th>\n",
       "      <th>0.0</th>\n",
       "      <th>1.0</th>\n",
       "    </tr>\n",
       "    <tr>\n",
       "      <th>Time_living_in_barri</th>\n",
       "      <th></th>\n",
       "      <th></th>\n",
       "    </tr>\n",
       "  </thead>\n",
       "  <tbody>\n",
       "    <tr>\n",
       "      <th>I HAVE ALWAYS LIVED IN THE NEIGHBORHOOD</th>\n",
       "      <td>1628</td>\n",
       "      <td>128</td>\n",
       "    </tr>\n",
       "    <tr>\n",
       "      <th>LESS THAN 10 YEARS</th>\n",
       "      <td>573</td>\n",
       "      <td>165</td>\n",
       "    </tr>\n",
       "    <tr>\n",
       "      <th>MORE THAN 10 YEARS</th>\n",
       "      <td>9139</td>\n",
       "      <td>1125</td>\n",
       "    </tr>\n",
       "  </tbody>\n",
       "</table>\n",
       "</div>"
      ],
      "text/plain": [
       "Would_live_in_another_neighborhood        0.0   1.0\n",
       "Time_living_in_barri                               \n",
       "I HAVE ALWAYS LIVED IN THE NEIGHBORHOOD  1628   128\n",
       "LESS THAN 10 YEARS                        573   165\n",
       "MORE THAN 10 YEARS                       9139  1125"
      ]
     },
     "metadata": {},
     "output_type": "display_data"
    },
    {
     "data": {
      "text/html": [
       "<div>\n",
       "<style scoped>\n",
       "    .dataframe tbody tr th:only-of-type {\n",
       "        vertical-align: middle;\n",
       "    }\n",
       "\n",
       "    .dataframe tbody tr th {\n",
       "        vertical-align: top;\n",
       "    }\n",
       "\n",
       "    .dataframe thead th {\n",
       "        text-align: right;\n",
       "    }\n",
       "</style>\n",
       "<table border=\"1\" class=\"dataframe\">\n",
       "  <thead>\n",
       "    <tr style=\"text-align: right;\">\n",
       "      <th>Would_live_in_another_neighborhood</th>\n",
       "      <th>0.0</th>\n",
       "      <th>1.0</th>\n",
       "    </tr>\n",
       "    <tr>\n",
       "      <th>Barri_evolution</th>\n",
       "      <th></th>\n",
       "      <th></th>\n",
       "    </tr>\n",
       "  </thead>\n",
       "  <tbody>\n",
       "    <tr>\n",
       "      <th>IT HAS IMPROVED</th>\n",
       "      <td>5962</td>\n",
       "      <td>573</td>\n",
       "    </tr>\n",
       "    <tr>\n",
       "      <th>IT HAS WORSENED</th>\n",
       "      <td>1984</td>\n",
       "      <td>465</td>\n",
       "    </tr>\n",
       "    <tr>\n",
       "      <th>IT IS THE SAME</th>\n",
       "      <td>3394</td>\n",
       "      <td>380</td>\n",
       "    </tr>\n",
       "  </tbody>\n",
       "</table>\n",
       "</div>"
      ],
      "text/plain": [
       "Would_live_in_another_neighborhood   0.0  1.0\n",
       "Barri_evolution                              \n",
       "IT HAS IMPROVED                     5962  573\n",
       "IT HAS WORSENED                     1984  465\n",
       "IT IS THE SAME                      3394  380"
      ]
     },
     "metadata": {},
     "output_type": "display_data"
    },
    {
     "data": {
      "text/html": [
       "<div>\n",
       "<style scoped>\n",
       "    .dataframe tbody tr th:only-of-type {\n",
       "        vertical-align: middle;\n",
       "    }\n",
       "\n",
       "    .dataframe tbody tr th {\n",
       "        vertical-align: top;\n",
       "    }\n",
       "\n",
       "    .dataframe thead th {\n",
       "        text-align: right;\n",
       "    }\n",
       "</style>\n",
       "<table border=\"1\" class=\"dataframe\">\n",
       "  <thead>\n",
       "    <tr style=\"text-align: right;\">\n",
       "      <th>Would_live_in_another_neighborhood</th>\n",
       "      <th>0.0</th>\n",
       "      <th>1.0</th>\n",
       "    </tr>\n",
       "    <tr>\n",
       "      <th>BCN_evolution</th>\n",
       "      <th></th>\n",
       "      <th></th>\n",
       "    </tr>\n",
       "  </thead>\n",
       "  <tbody>\n",
       "    <tr>\n",
       "      <th>IT HAS IMPROVED</th>\n",
       "      <td>3733</td>\n",
       "      <td>371</td>\n",
       "    </tr>\n",
       "    <tr>\n",
       "      <th>IT HAS WORSENED</th>\n",
       "      <td>4266</td>\n",
       "      <td>698</td>\n",
       "    </tr>\n",
       "    <tr>\n",
       "      <th>IT IS THE SAME</th>\n",
       "      <td>3341</td>\n",
       "      <td>349</td>\n",
       "    </tr>\n",
       "  </tbody>\n",
       "</table>\n",
       "</div>"
      ],
      "text/plain": [
       "Would_live_in_another_neighborhood   0.0  1.0\n",
       "BCN_evolution                                \n",
       "IT HAS IMPROVED                     3733  371\n",
       "IT HAS WORSENED                     4266  698\n",
       "IT IS THE SAME                      3341  349"
      ]
     },
     "metadata": {},
     "output_type": "display_data"
    },
    {
     "data": {
      "text/html": [
       "<div>\n",
       "<style scoped>\n",
       "    .dataframe tbody tr th:only-of-type {\n",
       "        vertical-align: middle;\n",
       "    }\n",
       "\n",
       "    .dataframe tbody tr th {\n",
       "        vertical-align: top;\n",
       "    }\n",
       "\n",
       "    .dataframe thead th {\n",
       "        text-align: right;\n",
       "    }\n",
       "</style>\n",
       "<table border=\"1\" class=\"dataframe\">\n",
       "  <thead>\n",
       "    <tr style=\"text-align: right;\">\n",
       "      <th>Would_live_in_another_neighborhood</th>\n",
       "      <th>0.0</th>\n",
       "      <th>1.0</th>\n",
       "    </tr>\n",
       "    <tr>\n",
       "      <th>Barri_future</th>\n",
       "      <th></th>\n",
       "      <th></th>\n",
       "    </tr>\n",
       "  </thead>\n",
       "  <tbody>\n",
       "    <tr>\n",
       "      <th>IT WILL IMPROVE</th>\n",
       "      <td>6375</td>\n",
       "      <td>608</td>\n",
       "    </tr>\n",
       "    <tr>\n",
       "      <th>IT WILL STAY THE SAME</th>\n",
       "      <td>3483</td>\n",
       "      <td>432</td>\n",
       "    </tr>\n",
       "    <tr>\n",
       "      <th>IT WILL WORSEN</th>\n",
       "      <td>1482</td>\n",
       "      <td>378</td>\n",
       "    </tr>\n",
       "  </tbody>\n",
       "</table>\n",
       "</div>"
      ],
      "text/plain": [
       "Would_live_in_another_neighborhood   0.0  1.0\n",
       "Barri_future                                 \n",
       "IT WILL IMPROVE                     6375  608\n",
       "IT WILL STAY THE SAME               3483  432\n",
       "IT WILL WORSEN                      1482  378"
      ]
     },
     "metadata": {},
     "output_type": "display_data"
    },
    {
     "data": {
      "text/html": [
       "<div>\n",
       "<style scoped>\n",
       "    .dataframe tbody tr th:only-of-type {\n",
       "        vertical-align: middle;\n",
       "    }\n",
       "\n",
       "    .dataframe tbody tr th {\n",
       "        vertical-align: top;\n",
       "    }\n",
       "\n",
       "    .dataframe thead th {\n",
       "        text-align: right;\n",
       "    }\n",
       "</style>\n",
       "<table border=\"1\" class=\"dataframe\">\n",
       "  <thead>\n",
       "    <tr style=\"text-align: right;\">\n",
       "      <th>Would_live_in_another_neighborhood</th>\n",
       "      <th>0.0</th>\n",
       "      <th>1.0</th>\n",
       "    </tr>\n",
       "    <tr>\n",
       "      <th>BCN_future</th>\n",
       "      <th></th>\n",
       "      <th></th>\n",
       "    </tr>\n",
       "  </thead>\n",
       "  <tbody>\n",
       "    <tr>\n",
       "      <th>IT WILL IMPROVE</th>\n",
       "      <td>5906</td>\n",
       "      <td>645</td>\n",
       "    </tr>\n",
       "    <tr>\n",
       "      <th>IT WILL STAY THE SAME</th>\n",
       "      <td>2795</td>\n",
       "      <td>359</td>\n",
       "    </tr>\n",
       "    <tr>\n",
       "      <th>IT WILL WORSEN</th>\n",
       "      <td>2639</td>\n",
       "      <td>414</td>\n",
       "    </tr>\n",
       "  </tbody>\n",
       "</table>\n",
       "</div>"
      ],
      "text/plain": [
       "Would_live_in_another_neighborhood   0.0  1.0\n",
       "BCN_future                                   \n",
       "IT WILL IMPROVE                     5906  645\n",
       "IT WILL STAY THE SAME               2795  359\n",
       "IT WILL WORSEN                      2639  414"
      ]
     },
     "metadata": {},
     "output_type": "display_data"
    },
    {
     "data": {
      "text/html": [
       "<div>\n",
       "<style scoped>\n",
       "    .dataframe tbody tr th:only-of-type {\n",
       "        vertical-align: middle;\n",
       "    }\n",
       "\n",
       "    .dataframe tbody tr th {\n",
       "        vertical-align: top;\n",
       "    }\n",
       "\n",
       "    .dataframe thead th {\n",
       "        text-align: right;\n",
       "    }\n",
       "</style>\n",
       "<table border=\"1\" class=\"dataframe\">\n",
       "  <thead>\n",
       "    <tr style=\"text-align: right;\">\n",
       "      <th>Would_live_in_another_neighborhood</th>\n",
       "      <th>0.0</th>\n",
       "      <th>1.0</th>\n",
       "    </tr>\n",
       "    <tr>\n",
       "      <th>Barri_satisfaction</th>\n",
       "      <th></th>\n",
       "      <th></th>\n",
       "    </tr>\n",
       "  </thead>\n",
       "  <tbody>\n",
       "    <tr>\n",
       "      <th>FAIRLY SATISFIED</th>\n",
       "      <td>749</td>\n",
       "      <td>368</td>\n",
       "    </tr>\n",
       "    <tr>\n",
       "      <th>NOT SATISFIED</th>\n",
       "      <td>45</td>\n",
       "      <td>94</td>\n",
       "    </tr>\n",
       "    <tr>\n",
       "      <th>SATISFIED</th>\n",
       "      <td>10546</td>\n",
       "      <td>956</td>\n",
       "    </tr>\n",
       "  </tbody>\n",
       "</table>\n",
       "</div>"
      ],
      "text/plain": [
       "Would_live_in_another_neighborhood    0.0  1.0\n",
       "Barri_satisfaction                            \n",
       "FAIRLY SATISFIED                      749  368\n",
       "NOT SATISFIED                          45   94\n",
       "SATISFIED                           10546  956"
      ]
     },
     "metadata": {},
     "output_type": "display_data"
    },
    {
     "data": {
      "text/html": [
       "<div>\n",
       "<style scoped>\n",
       "    .dataframe tbody tr th:only-of-type {\n",
       "        vertical-align: middle;\n",
       "    }\n",
       "\n",
       "    .dataframe tbody tr th {\n",
       "        vertical-align: top;\n",
       "    }\n",
       "\n",
       "    .dataframe thead th {\n",
       "        text-align: right;\n",
       "    }\n",
       "</style>\n",
       "<table border=\"1\" class=\"dataframe\">\n",
       "  <thead>\n",
       "    <tr style=\"text-align: right;\">\n",
       "      <th>Would_live_in_another_neighborhood</th>\n",
       "      <th>0.0</th>\n",
       "      <th>1.0</th>\n",
       "    </tr>\n",
       "    <tr>\n",
       "      <th>BCN_satisfaction</th>\n",
       "      <th></th>\n",
       "      <th></th>\n",
       "    </tr>\n",
       "  </thead>\n",
       "  <tbody>\n",
       "    <tr>\n",
       "      <th>FAIRLY SATISFIED</th>\n",
       "      <td>1090</td>\n",
       "      <td>238</td>\n",
       "    </tr>\n",
       "    <tr>\n",
       "      <th>NOT SATISFIED</th>\n",
       "      <td>106</td>\n",
       "      <td>21</td>\n",
       "    </tr>\n",
       "    <tr>\n",
       "      <th>SATISFIED</th>\n",
       "      <td>10144</td>\n",
       "      <td>1159</td>\n",
       "    </tr>\n",
       "  </tbody>\n",
       "</table>\n",
       "</div>"
      ],
      "text/plain": [
       "Would_live_in_another_neighborhood    0.0   1.0\n",
       "BCN_satisfaction                               \n",
       "FAIRLY SATISFIED                     1090   238\n",
       "NOT SATISFIED                         106    21\n",
       "SATISFIED                           10144  1159"
      ]
     },
     "metadata": {},
     "output_type": "display_data"
    },
    {
     "data": {
      "text/html": [
       "<div>\n",
       "<style scoped>\n",
       "    .dataframe tbody tr th:only-of-type {\n",
       "        vertical-align: middle;\n",
       "    }\n",
       "\n",
       "    .dataframe tbody tr th {\n",
       "        vertical-align: top;\n",
       "    }\n",
       "\n",
       "    .dataframe thead th {\n",
       "        text-align: right;\n",
       "    }\n",
       "</style>\n",
       "<table border=\"1\" class=\"dataframe\">\n",
       "  <thead>\n",
       "    <tr style=\"text-align: right;\">\n",
       "      <th>Would_live_in_another_neighborhood</th>\n",
       "      <th>0.0</th>\n",
       "      <th>1.0</th>\n",
       "    </tr>\n",
       "    <tr>\n",
       "      <th>Barri_security</th>\n",
       "      <th></th>\n",
       "      <th></th>\n",
       "    </tr>\n",
       "  </thead>\n",
       "  <tbody>\n",
       "    <tr>\n",
       "      <th>BAD</th>\n",
       "      <td>1528</td>\n",
       "      <td>363</td>\n",
       "    </tr>\n",
       "    <tr>\n",
       "      <th>GOOD</th>\n",
       "      <td>4707</td>\n",
       "      <td>423</td>\n",
       "    </tr>\n",
       "    <tr>\n",
       "      <th>NEITHER BAD, NOR GOOD</th>\n",
       "      <td>5105</td>\n",
       "      <td>632</td>\n",
       "    </tr>\n",
       "  </tbody>\n",
       "</table>\n",
       "</div>"
      ],
      "text/plain": [
       "Would_live_in_another_neighborhood   0.0  1.0\n",
       "Barri_security                               \n",
       "BAD                                 1528  363\n",
       "GOOD                                4707  423\n",
       "NEITHER BAD, NOR GOOD               5105  632"
      ]
     },
     "metadata": {},
     "output_type": "display_data"
    },
    {
     "data": {
      "text/html": [
       "<div>\n",
       "<style scoped>\n",
       "    .dataframe tbody tr th:only-of-type {\n",
       "        vertical-align: middle;\n",
       "    }\n",
       "\n",
       "    .dataframe tbody tr th {\n",
       "        vertical-align: top;\n",
       "    }\n",
       "\n",
       "    .dataframe thead th {\n",
       "        text-align: right;\n",
       "    }\n",
       "</style>\n",
       "<table border=\"1\" class=\"dataframe\">\n",
       "  <thead>\n",
       "    <tr style=\"text-align: right;\">\n",
       "      <th>Would_live_in_another_neighborhood</th>\n",
       "      <th>0.0</th>\n",
       "      <th>1.0</th>\n",
       "    </tr>\n",
       "    <tr>\n",
       "      <th>BCN_security</th>\n",
       "      <th></th>\n",
       "      <th></th>\n",
       "    </tr>\n",
       "  </thead>\n",
       "  <tbody>\n",
       "    <tr>\n",
       "      <th>BAD</th>\n",
       "      <td>1766</td>\n",
       "      <td>293</td>\n",
       "    </tr>\n",
       "    <tr>\n",
       "      <th>GOOD</th>\n",
       "      <td>3171</td>\n",
       "      <td>320</td>\n",
       "    </tr>\n",
       "    <tr>\n",
       "      <th>NEITHER BAD, NOR GOOD</th>\n",
       "      <td>6403</td>\n",
       "      <td>805</td>\n",
       "    </tr>\n",
       "  </tbody>\n",
       "</table>\n",
       "</div>"
      ],
      "text/plain": [
       "Would_live_in_another_neighborhood   0.0  1.0\n",
       "BCN_security                                 \n",
       "BAD                                 1766  293\n",
       "GOOD                                3171  320\n",
       "NEITHER BAD, NOR GOOD               6403  805"
      ]
     },
     "metadata": {},
     "output_type": "display_data"
    },
    {
     "data": {
      "text/html": [
       "<div>\n",
       "<style scoped>\n",
       "    .dataframe tbody tr th:only-of-type {\n",
       "        vertical-align: middle;\n",
       "    }\n",
       "\n",
       "    .dataframe tbody tr th {\n",
       "        vertical-align: top;\n",
       "    }\n",
       "\n",
       "    .dataframe thead th {\n",
       "        text-align: right;\n",
       "    }\n",
       "</style>\n",
       "<table border=\"1\" class=\"dataframe\">\n",
       "  <thead>\n",
       "    <tr style=\"text-align: right;\">\n",
       "      <th>Would_live_in_another_neighborhood</th>\n",
       "      <th>0.0</th>\n",
       "      <th>1.0</th>\n",
       "    </tr>\n",
       "    <tr>\n",
       "      <th>Barri_management</th>\n",
       "      <th></th>\n",
       "      <th></th>\n",
       "    </tr>\n",
       "  </thead>\n",
       "  <tbody>\n",
       "    <tr>\n",
       "      <th>BAD</th>\n",
       "      <td>512</td>\n",
       "      <td>147</td>\n",
       "    </tr>\n",
       "    <tr>\n",
       "      <th>GOOD</th>\n",
       "      <td>5861</td>\n",
       "      <td>514</td>\n",
       "    </tr>\n",
       "    <tr>\n",
       "      <th>NEITHER BAD, NOR GOOD</th>\n",
       "      <td>4967</td>\n",
       "      <td>757</td>\n",
       "    </tr>\n",
       "  </tbody>\n",
       "</table>\n",
       "</div>"
      ],
      "text/plain": [
       "Would_live_in_another_neighborhood   0.0  1.0\n",
       "Barri_management                             \n",
       "BAD                                  512  147\n",
       "GOOD                                5861  514\n",
       "NEITHER BAD, NOR GOOD               4967  757"
      ]
     },
     "metadata": {},
     "output_type": "display_data"
    },
    {
     "data": {
      "text/html": [
       "<div>\n",
       "<style scoped>\n",
       "    .dataframe tbody tr th:only-of-type {\n",
       "        vertical-align: middle;\n",
       "    }\n",
       "\n",
       "    .dataframe tbody tr th {\n",
       "        vertical-align: top;\n",
       "    }\n",
       "\n",
       "    .dataframe thead th {\n",
       "        text-align: right;\n",
       "    }\n",
       "</style>\n",
       "<table border=\"1\" class=\"dataframe\">\n",
       "  <thead>\n",
       "    <tr style=\"text-align: right;\">\n",
       "      <th>Would_live_in_another_neighborhood</th>\n",
       "      <th>0.0</th>\n",
       "      <th>1.0</th>\n",
       "    </tr>\n",
       "    <tr>\n",
       "      <th>BCN_management</th>\n",
       "      <th></th>\n",
       "      <th></th>\n",
       "    </tr>\n",
       "  </thead>\n",
       "  <tbody>\n",
       "    <tr>\n",
       "      <th>BAD</th>\n",
       "      <td>972</td>\n",
       "      <td>162</td>\n",
       "    </tr>\n",
       "    <tr>\n",
       "      <th>GOOD</th>\n",
       "      <td>4918</td>\n",
       "      <td>486</td>\n",
       "    </tr>\n",
       "    <tr>\n",
       "      <th>NEITHER BAD, NOR GOOD</th>\n",
       "      <td>5450</td>\n",
       "      <td>770</td>\n",
       "    </tr>\n",
       "  </tbody>\n",
       "</table>\n",
       "</div>"
      ],
      "text/plain": [
       "Would_live_in_another_neighborhood   0.0  1.0\n",
       "BCN_management                               \n",
       "BAD                                  972  162\n",
       "GOOD                                4918  486\n",
       "NEITHER BAD, NOR GOOD               5450  770"
      ]
     },
     "metadata": {},
     "output_type": "display_data"
    },
    {
     "data": {
      "text/html": [
       "<div>\n",
       "<style scoped>\n",
       "    .dataframe tbody tr th:only-of-type {\n",
       "        vertical-align: middle;\n",
       "    }\n",
       "\n",
       "    .dataframe tbody tr th {\n",
       "        vertical-align: top;\n",
       "    }\n",
       "\n",
       "    .dataframe thead th {\n",
       "        text-align: right;\n",
       "    }\n",
       "</style>\n",
       "<table border=\"1\" class=\"dataframe\">\n",
       "  <thead>\n",
       "    <tr style=\"text-align: right;\">\n",
       "      <th>Would_live_in_another_neighborhood</th>\n",
       "      <th>0.0</th>\n",
       "      <th>1.0</th>\n",
       "    </tr>\n",
       "    <tr>\n",
       "      <th>Barri_comparison</th>\n",
       "      <th></th>\n",
       "      <th></th>\n",
       "    </tr>\n",
       "  </thead>\n",
       "  <tbody>\n",
       "    <tr>\n",
       "      <th>NEITHER THE BEST, NOR THE WORST</th>\n",
       "      <td>4250</td>\n",
       "      <td>868</td>\n",
       "    </tr>\n",
       "    <tr>\n",
       "      <th>ONE OF THE BEST</th>\n",
       "      <td>6852</td>\n",
       "      <td>317</td>\n",
       "    </tr>\n",
       "    <tr>\n",
       "      <th>ONE OF THE WORST</th>\n",
       "      <td>238</td>\n",
       "      <td>233</td>\n",
       "    </tr>\n",
       "  </tbody>\n",
       "</table>\n",
       "</div>"
      ],
      "text/plain": [
       "Would_live_in_another_neighborhood   0.0  1.0\n",
       "Barri_comparison                             \n",
       "NEITHER THE BEST, NOR THE WORST     4250  868\n",
       "ONE OF THE BEST                     6852  317\n",
       "ONE OF THE WORST                     238  233"
      ]
     },
     "metadata": {},
     "output_type": "display_data"
    },
    {
     "data": {
      "text/html": [
       "<div>\n",
       "<style scoped>\n",
       "    .dataframe tbody tr th:only-of-type {\n",
       "        vertical-align: middle;\n",
       "    }\n",
       "\n",
       "    .dataframe tbody tr th {\n",
       "        vertical-align: top;\n",
       "    }\n",
       "\n",
       "    .dataframe thead th {\n",
       "        text-align: right;\n",
       "    }\n",
       "</style>\n",
       "<table border=\"1\" class=\"dataframe\">\n",
       "  <thead>\n",
       "    <tr style=\"text-align: right;\">\n",
       "      <th>Would_live_in_another_neighborhood</th>\n",
       "      <th>0.0</th>\n",
       "      <th>1.0</th>\n",
       "    </tr>\n",
       "    <tr>\n",
       "      <th>Barri_transport</th>\n",
       "      <th></th>\n",
       "      <th></th>\n",
       "    </tr>\n",
       "  </thead>\n",
       "  <tbody>\n",
       "    <tr>\n",
       "      <th>BAD</th>\n",
       "      <td>1240</td>\n",
       "      <td>232</td>\n",
       "    </tr>\n",
       "    <tr>\n",
       "      <th>GOOD</th>\n",
       "      <td>9104</td>\n",
       "      <td>1016</td>\n",
       "    </tr>\n",
       "    <tr>\n",
       "      <th>NEITHER BAD, NOR GOOD</th>\n",
       "      <td>996</td>\n",
       "      <td>170</td>\n",
       "    </tr>\n",
       "  </tbody>\n",
       "</table>\n",
       "</div>"
      ],
      "text/plain": [
       "Would_live_in_another_neighborhood   0.0   1.0\n",
       "Barri_transport                               \n",
       "BAD                                 1240   232\n",
       "GOOD                                9104  1016\n",
       "NEITHER BAD, NOR GOOD                996   170"
      ]
     },
     "metadata": {},
     "output_type": "display_data"
    },
    {
     "data": {
      "text/html": [
       "<div>\n",
       "<style scoped>\n",
       "    .dataframe tbody tr th:only-of-type {\n",
       "        vertical-align: middle;\n",
       "    }\n",
       "\n",
       "    .dataframe tbody tr th {\n",
       "        vertical-align: top;\n",
       "    }\n",
       "\n",
       "    .dataframe thead th {\n",
       "        text-align: right;\n",
       "    }\n",
       "</style>\n",
       "<table border=\"1\" class=\"dataframe\">\n",
       "  <thead>\n",
       "    <tr style=\"text-align: right;\">\n",
       "      <th>Would_live_in_another_neighborhood</th>\n",
       "      <th>0.0</th>\n",
       "      <th>1.0</th>\n",
       "    </tr>\n",
       "    <tr>\n",
       "      <th>BCN_transport</th>\n",
       "      <th></th>\n",
       "      <th></th>\n",
       "    </tr>\n",
       "  </thead>\n",
       "  <tbody>\n",
       "    <tr>\n",
       "      <th>BAD</th>\n",
       "      <td>845</td>\n",
       "      <td>146</td>\n",
       "    </tr>\n",
       "    <tr>\n",
       "      <th>GOOD</th>\n",
       "      <td>9333</td>\n",
       "      <td>1109</td>\n",
       "    </tr>\n",
       "    <tr>\n",
       "      <th>NEITHER BAD, NOR GOOD</th>\n",
       "      <td>1162</td>\n",
       "      <td>163</td>\n",
       "    </tr>\n",
       "  </tbody>\n",
       "</table>\n",
       "</div>"
      ],
      "text/plain": [
       "Would_live_in_another_neighborhood   0.0   1.0\n",
       "BCN_transport                                 \n",
       "BAD                                  845   146\n",
       "GOOD                                9333  1109\n",
       "NEITHER BAD, NOR GOOD               1162   163"
      ]
     },
     "metadata": {},
     "output_type": "display_data"
    },
    {
     "data": {
      "text/html": [
       "<div>\n",
       "<style scoped>\n",
       "    .dataframe tbody tr th:only-of-type {\n",
       "        vertical-align: middle;\n",
       "    }\n",
       "\n",
       "    .dataframe tbody tr th {\n",
       "        vertical-align: top;\n",
       "    }\n",
       "\n",
       "    .dataframe thead th {\n",
       "        text-align: right;\n",
       "    }\n",
       "</style>\n",
       "<table border=\"1\" class=\"dataframe\">\n",
       "  <thead>\n",
       "    <tr style=\"text-align: right;\">\n",
       "      <th>Would_live_in_another_neighborhood</th>\n",
       "      <th>0.0</th>\n",
       "      <th>1.0</th>\n",
       "    </tr>\n",
       "    <tr>\n",
       "      <th>Barri_problem_with_security</th>\n",
       "      <th></th>\n",
       "      <th></th>\n",
       "    </tr>\n",
       "  </thead>\n",
       "  <tbody>\n",
       "    <tr>\n",
       "      <th>0</th>\n",
       "      <td>9650</td>\n",
       "      <td>1170</td>\n",
       "    </tr>\n",
       "    <tr>\n",
       "      <th>1</th>\n",
       "      <td>1690</td>\n",
       "      <td>248</td>\n",
       "    </tr>\n",
       "  </tbody>\n",
       "</table>\n",
       "</div>"
      ],
      "text/plain": [
       "Would_live_in_another_neighborhood   0.0   1.0\n",
       "Barri_problem_with_security                   \n",
       "0                                   9650  1170\n",
       "1                                   1690   248"
      ]
     },
     "metadata": {},
     "output_type": "display_data"
    },
    {
     "data": {
      "text/html": [
       "<div>\n",
       "<style scoped>\n",
       "    .dataframe tbody tr th:only-of-type {\n",
       "        vertical-align: middle;\n",
       "    }\n",
       "\n",
       "    .dataframe tbody tr th {\n",
       "        vertical-align: top;\n",
       "    }\n",
       "\n",
       "    .dataframe thead th {\n",
       "        text-align: right;\n",
       "    }\n",
       "</style>\n",
       "<table border=\"1\" class=\"dataframe\">\n",
       "  <thead>\n",
       "    <tr style=\"text-align: right;\">\n",
       "      <th>Would_live_in_another_neighborhood</th>\n",
       "      <th>0.0</th>\n",
       "      <th>1.0</th>\n",
       "    </tr>\n",
       "    <tr>\n",
       "      <th>Barri_problem_with_streets_cleaning</th>\n",
       "      <th></th>\n",
       "      <th></th>\n",
       "    </tr>\n",
       "  </thead>\n",
       "  <tbody>\n",
       "    <tr>\n",
       "      <th>0</th>\n",
       "      <td>10400</td>\n",
       "      <td>1317</td>\n",
       "    </tr>\n",
       "    <tr>\n",
       "      <th>1</th>\n",
       "      <td>940</td>\n",
       "      <td>101</td>\n",
       "    </tr>\n",
       "  </tbody>\n",
       "</table>\n",
       "</div>"
      ],
      "text/plain": [
       "Would_live_in_another_neighborhood     0.0   1.0\n",
       "Barri_problem_with_streets_cleaning             \n",
       "0                                    10400  1317\n",
       "1                                      940   101"
      ]
     },
     "metadata": {},
     "output_type": "display_data"
    },
    {
     "data": {
      "text/html": [
       "<div>\n",
       "<style scoped>\n",
       "    .dataframe tbody tr th:only-of-type {\n",
       "        vertical-align: middle;\n",
       "    }\n",
       "\n",
       "    .dataframe tbody tr th {\n",
       "        vertical-align: top;\n",
       "    }\n",
       "\n",
       "    .dataframe thead th {\n",
       "        text-align: right;\n",
       "    }\n",
       "</style>\n",
       "<table border=\"1\" class=\"dataframe\">\n",
       "  <thead>\n",
       "    <tr style=\"text-align: right;\">\n",
       "      <th>Would_live_in_another_neighborhood</th>\n",
       "      <th>0.0</th>\n",
       "      <th>1.0</th>\n",
       "    </tr>\n",
       "    <tr>\n",
       "      <th>Barri_problem_with_mobility</th>\n",
       "      <th></th>\n",
       "      <th></th>\n",
       "    </tr>\n",
       "  </thead>\n",
       "  <tbody>\n",
       "    <tr>\n",
       "      <th>0</th>\n",
       "      <td>10833</td>\n",
       "      <td>1361</td>\n",
       "    </tr>\n",
       "    <tr>\n",
       "      <th>1</th>\n",
       "      <td>507</td>\n",
       "      <td>57</td>\n",
       "    </tr>\n",
       "  </tbody>\n",
       "</table>\n",
       "</div>"
      ],
      "text/plain": [
       "Would_live_in_another_neighborhood    0.0   1.0\n",
       "Barri_problem_with_mobility                    \n",
       "0                                   10833  1361\n",
       "1                                     507    57"
      ]
     },
     "metadata": {},
     "output_type": "display_data"
    },
    {
     "data": {
      "text/html": [
       "<div>\n",
       "<style scoped>\n",
       "    .dataframe tbody tr th:only-of-type {\n",
       "        vertical-align: middle;\n",
       "    }\n",
       "\n",
       "    .dataframe tbody tr th {\n",
       "        vertical-align: top;\n",
       "    }\n",
       "\n",
       "    .dataframe thead th {\n",
       "        text-align: right;\n",
       "    }\n",
       "</style>\n",
       "<table border=\"1\" class=\"dataframe\">\n",
       "  <thead>\n",
       "    <tr style=\"text-align: right;\">\n",
       "      <th>Would_live_in_another_neighborhood</th>\n",
       "      <th>0.0</th>\n",
       "      <th>1.0</th>\n",
       "    </tr>\n",
       "    <tr>\n",
       "      <th>BCN_over_barri_evolution</th>\n",
       "      <th></th>\n",
       "      <th></th>\n",
       "    </tr>\n",
       "  </thead>\n",
       "  <tbody>\n",
       "    <tr>\n",
       "      <th>0</th>\n",
       "      <td>10282</td>\n",
       "      <td>1280</td>\n",
       "    </tr>\n",
       "    <tr>\n",
       "      <th>1</th>\n",
       "      <td>1058</td>\n",
       "      <td>138</td>\n",
       "    </tr>\n",
       "  </tbody>\n",
       "</table>\n",
       "</div>"
      ],
      "text/plain": [
       "Would_live_in_another_neighborhood    0.0   1.0\n",
       "BCN_over_barri_evolution                       \n",
       "0                                   10282  1280\n",
       "1                                    1058   138"
      ]
     },
     "metadata": {},
     "output_type": "display_data"
    },
    {
     "data": {
      "text/html": [
       "<div>\n",
       "<style scoped>\n",
       "    .dataframe tbody tr th:only-of-type {\n",
       "        vertical-align: middle;\n",
       "    }\n",
       "\n",
       "    .dataframe tbody tr th {\n",
       "        vertical-align: top;\n",
       "    }\n",
       "\n",
       "    .dataframe thead th {\n",
       "        text-align: right;\n",
       "    }\n",
       "</style>\n",
       "<table border=\"1\" class=\"dataframe\">\n",
       "  <thead>\n",
       "    <tr style=\"text-align: right;\">\n",
       "      <th>Would_live_in_another_neighborhood</th>\n",
       "      <th>0.0</th>\n",
       "      <th>1.0</th>\n",
       "    </tr>\n",
       "    <tr>\n",
       "      <th>BCN_over_barri_future</th>\n",
       "      <th></th>\n",
       "      <th></th>\n",
       "    </tr>\n",
       "  </thead>\n",
       "  <tbody>\n",
       "    <tr>\n",
       "      <th>0</th>\n",
       "      <td>9649</td>\n",
       "      <td>1141</td>\n",
       "    </tr>\n",
       "    <tr>\n",
       "      <th>1</th>\n",
       "      <td>1691</td>\n",
       "      <td>277</td>\n",
       "    </tr>\n",
       "  </tbody>\n",
       "</table>\n",
       "</div>"
      ],
      "text/plain": [
       "Would_live_in_another_neighborhood   0.0   1.0\n",
       "BCN_over_barri_future                         \n",
       "0                                   9649  1141\n",
       "1                                   1691   277"
      ]
     },
     "metadata": {},
     "output_type": "display_data"
    },
    {
     "data": {
      "text/html": [
       "<div>\n",
       "<style scoped>\n",
       "    .dataframe tbody tr th:only-of-type {\n",
       "        vertical-align: middle;\n",
       "    }\n",
       "\n",
       "    .dataframe tbody tr th {\n",
       "        vertical-align: top;\n",
       "    }\n",
       "\n",
       "    .dataframe thead th {\n",
       "        text-align: right;\n",
       "    }\n",
       "</style>\n",
       "<table border=\"1\" class=\"dataframe\">\n",
       "  <thead>\n",
       "    <tr style=\"text-align: right;\">\n",
       "      <th>Would_live_in_another_neighborhood</th>\n",
       "      <th>0.0</th>\n",
       "      <th>1.0</th>\n",
       "    </tr>\n",
       "    <tr>\n",
       "      <th>BCN_over_barri_satisfaction</th>\n",
       "      <th></th>\n",
       "      <th></th>\n",
       "    </tr>\n",
       "  </thead>\n",
       "  <tbody>\n",
       "    <tr>\n",
       "      <th>0</th>\n",
       "      <td>10835</td>\n",
       "      <td>1076</td>\n",
       "    </tr>\n",
       "    <tr>\n",
       "      <th>1</th>\n",
       "      <td>505</td>\n",
       "      <td>342</td>\n",
       "    </tr>\n",
       "  </tbody>\n",
       "</table>\n",
       "</div>"
      ],
      "text/plain": [
       "Would_live_in_another_neighborhood    0.0   1.0\n",
       "BCN_over_barri_satisfaction                    \n",
       "0                                   10835  1076\n",
       "1                                     505   342"
      ]
     },
     "metadata": {},
     "output_type": "display_data"
    },
    {
     "data": {
      "text/html": [
       "<div>\n",
       "<style scoped>\n",
       "    .dataframe tbody tr th:only-of-type {\n",
       "        vertical-align: middle;\n",
       "    }\n",
       "\n",
       "    .dataframe tbody tr th {\n",
       "        vertical-align: top;\n",
       "    }\n",
       "\n",
       "    .dataframe thead th {\n",
       "        text-align: right;\n",
       "    }\n",
       "</style>\n",
       "<table border=\"1\" class=\"dataframe\">\n",
       "  <thead>\n",
       "    <tr style=\"text-align: right;\">\n",
       "      <th>Would_live_in_another_neighborhood</th>\n",
       "      <th>0.0</th>\n",
       "      <th>1.0</th>\n",
       "    </tr>\n",
       "    <tr>\n",
       "      <th>BCN_over_barri_transport</th>\n",
       "      <th></th>\n",
       "      <th></th>\n",
       "    </tr>\n",
       "  </thead>\n",
       "  <tbody>\n",
       "    <tr>\n",
       "      <th>0</th>\n",
       "      <td>10616</td>\n",
       "      <td>1279</td>\n",
       "    </tr>\n",
       "    <tr>\n",
       "      <th>1</th>\n",
       "      <td>724</td>\n",
       "      <td>139</td>\n",
       "    </tr>\n",
       "  </tbody>\n",
       "</table>\n",
       "</div>"
      ],
      "text/plain": [
       "Would_live_in_another_neighborhood    0.0   1.0\n",
       "BCN_over_barri_transport                       \n",
       "0                                   10616  1279\n",
       "1                                     724   139"
      ]
     },
     "metadata": {},
     "output_type": "display_data"
    },
    {
     "data": {
      "text/html": [
       "<div>\n",
       "<style scoped>\n",
       "    .dataframe tbody tr th:only-of-type {\n",
       "        vertical-align: middle;\n",
       "    }\n",
       "\n",
       "    .dataframe tbody tr th {\n",
       "        vertical-align: top;\n",
       "    }\n",
       "\n",
       "    .dataframe thead th {\n",
       "        text-align: right;\n",
       "    }\n",
       "</style>\n",
       "<table border=\"1\" class=\"dataframe\">\n",
       "  <thead>\n",
       "    <tr style=\"text-align: right;\">\n",
       "      <th>Would_live_in_another_neighborhood</th>\n",
       "      <th>0.0</th>\n",
       "      <th>1.0</th>\n",
       "    </tr>\n",
       "    <tr>\n",
       "      <th>BCN_over_barri_management</th>\n",
       "      <th></th>\n",
       "      <th></th>\n",
       "    </tr>\n",
       "  </thead>\n",
       "  <tbody>\n",
       "    <tr>\n",
       "      <th>0</th>\n",
       "      <td>11076</td>\n",
       "      <td>1339</td>\n",
       "    </tr>\n",
       "    <tr>\n",
       "      <th>1</th>\n",
       "      <td>264</td>\n",
       "      <td>79</td>\n",
       "    </tr>\n",
       "  </tbody>\n",
       "</table>\n",
       "</div>"
      ],
      "text/plain": [
       "Would_live_in_another_neighborhood    0.0   1.0\n",
       "BCN_over_barri_management                      \n",
       "0                                   11076  1339\n",
       "1                                     264    79"
      ]
     },
     "metadata": {},
     "output_type": "display_data"
    },
    {
     "data": {
      "text/html": [
       "<div>\n",
       "<style scoped>\n",
       "    .dataframe tbody tr th:only-of-type {\n",
       "        vertical-align: middle;\n",
       "    }\n",
       "\n",
       "    .dataframe tbody tr th {\n",
       "        vertical-align: top;\n",
       "    }\n",
       "\n",
       "    .dataframe thead th {\n",
       "        text-align: right;\n",
       "    }\n",
       "</style>\n",
       "<table border=\"1\" class=\"dataframe\">\n",
       "  <thead>\n",
       "    <tr style=\"text-align: right;\">\n",
       "      <th>Would_live_in_another_neighborhood</th>\n",
       "      <th>0.0</th>\n",
       "      <th>1.0</th>\n",
       "    </tr>\n",
       "    <tr>\n",
       "      <th>BCN_over_barri_security</th>\n",
       "      <th></th>\n",
       "      <th></th>\n",
       "    </tr>\n",
       "  </thead>\n",
       "  <tbody>\n",
       "    <tr>\n",
       "      <th>0</th>\n",
       "      <td>10881</td>\n",
       "      <td>1276</td>\n",
       "    </tr>\n",
       "    <tr>\n",
       "      <th>1</th>\n",
       "      <td>459</td>\n",
       "      <td>142</td>\n",
       "    </tr>\n",
       "  </tbody>\n",
       "</table>\n",
       "</div>"
      ],
      "text/plain": [
       "Would_live_in_another_neighborhood    0.0   1.0\n",
       "BCN_over_barri_security                        \n",
       "0                                   10881  1276\n",
       "1                                     459   142"
      ]
     },
     "metadata": {},
     "output_type": "display_data"
    }
   ],
   "source": [
    "for i in data.columns.tolist():\n",
    "    display(pd.crosstab(data[i], data.Would_live_in_another_neighborhood))"
   ]
  },
  {
   "cell_type": "code",
   "execution_count": 9,
   "metadata": {},
   "outputs": [
    {
     "data": {
      "text/plain": [
       "['Would_live_in_another_neighborhood',\n",
       " 'District',\n",
       " 'Woman',\n",
       " 'Car',\n",
       " 'House_size',\n",
       " 'Living_alone',\n",
       " 'No_of_people_in_the_house',\n",
       " 'Time_living_in_barri',\n",
       " 'Barri_evolution',\n",
       " 'BCN_evolution',\n",
       " 'Barri_future',\n",
       " 'BCN_future',\n",
       " 'Barri_satisfaction',\n",
       " 'BCN_satisfaction',\n",
       " 'Barri_security',\n",
       " 'BCN_security',\n",
       " 'Barri_management',\n",
       " 'BCN_management',\n",
       " 'Barri_comparison',\n",
       " 'Barri_transport',\n",
       " 'BCN_transport',\n",
       " 'Barri_problem_with_security',\n",
       " 'Barri_problem_with_streets_cleaning',\n",
       " 'Barri_problem_with_mobility',\n",
       " 'BCN_over_barri_evolution',\n",
       " 'BCN_over_barri_future',\n",
       " 'BCN_over_barri_satisfaction',\n",
       " 'BCN_over_barri_transport',\n",
       " 'BCN_over_barri_management',\n",
       " 'BCN_over_barri_security']"
      ]
     },
     "execution_count": 9,
     "metadata": {},
     "output_type": "execute_result"
    }
   ],
   "source": [
    "data.columns.tolist()"
   ]
  },
  {
   "cell_type": "code",
   "execution_count": null,
   "metadata": {},
   "outputs": [],
   "source": []
  },
  {
   "cell_type": "code",
   "execution_count": 10,
   "metadata": {},
   "outputs": [],
   "source": [
    "x_var = [# 'District',\n",
    " 'Woman',\n",
    " 'Car',\n",
    " 'House_size',\n",
    " 'No_of_people_in_the_house',\n",
    " 'Time_living_in_barri',\n",
    " #'Barri_evolution',\n",
    " #'BCN_evolution',\n",
    " #'Barri_future',\n",
    " #'BCN_future',\n",
    " 'Barri_satisfaction',\n",
    " #'BCN_satisfaction',\n",
    " 'Barri_security',\n",
    " #'BCN_security',\n",
    " 'Barri_management',\n",
    " #'BCN_management',\n",
    " 'Barri_comparison',\n",
    " 'Barri_transport',\n",
    " #'BCN_transport',\n",
    " 'Barri_problem_with_security',\n",
    " 'Barri_problem_with_streets_cleaning',\n",
    " 'Barri_problem_with_mobility',\n",
    " #'BCN_over_barri_evolution',\n",
    " #'BCN_over_barri_future',\n",
    " 'BCN_over_barri_satisfaction',\n",
    " 'BCN_over_barri_transport',\n",
    " 'BCN_over_barri_management',\n",
    " 'BCN_over_barri_security']"
   ]
  },
  {
   "cell_type": "code",
   "execution_count": null,
   "metadata": {},
   "outputs": [],
   "source": []
  },
  {
   "cell_type": "code",
   "execution_count": 11,
   "metadata": {},
   "outputs": [],
   "source": [
    "y = data['Would_live_in_another_neighborhood']"
   ]
  },
  {
   "cell_type": "code",
   "execution_count": null,
   "metadata": {},
   "outputs": [],
   "source": []
  },
  {
   "cell_type": "code",
   "execution_count": 12,
   "metadata": {},
   "outputs": [],
   "source": [
    "x = pd.get_dummies(data[x_var])"
   ]
  },
  {
   "cell_type": "code",
   "execution_count": 13,
   "metadata": {},
   "outputs": [
    {
     "data": {
      "text/plain": [
       "['Woman',\n",
       " 'Car',\n",
       " 'Barri_problem_with_security',\n",
       " 'Barri_problem_with_streets_cleaning',\n",
       " 'Barri_problem_with_mobility',\n",
       " 'BCN_over_barri_satisfaction',\n",
       " 'BCN_over_barri_transport',\n",
       " 'BCN_over_barri_management',\n",
       " 'BCN_over_barri_security',\n",
       " 'House_size_101-150 M2',\n",
       " 'House_size_51-100 M2',\n",
       " 'House_size_< 50 M2',\n",
       " 'House_size_> 150 M2',\n",
       " \"House_size_I DON'T KNOW\",\n",
       " 'No_of_people_in_the_house_FOUR OR MORE',\n",
       " 'No_of_people_in_the_house_ONE',\n",
       " 'No_of_people_in_the_house_THREE',\n",
       " 'No_of_people_in_the_house_TWO',\n",
       " 'Time_living_in_barri_I HAVE ALWAYS LIVED IN THE NEIGHBORHOOD',\n",
       " 'Time_living_in_barri_LESS THAN 10 YEARS',\n",
       " 'Time_living_in_barri_MORE THAN 10 YEARS',\n",
       " 'Barri_satisfaction_FAIRLY SATISFIED',\n",
       " 'Barri_satisfaction_NOT SATISFIED',\n",
       " 'Barri_satisfaction_SATISFIED',\n",
       " 'Barri_security_BAD',\n",
       " 'Barri_security_GOOD',\n",
       " 'Barri_security_NEITHER BAD, NOR GOOD',\n",
       " 'Barri_management_BAD',\n",
       " 'Barri_management_GOOD',\n",
       " 'Barri_management_NEITHER BAD, NOR GOOD',\n",
       " 'Barri_comparison_NEITHER THE BEST, NOR THE WORST',\n",
       " 'Barri_comparison_ONE OF THE BEST',\n",
       " 'Barri_comparison_ONE OF THE WORST',\n",
       " 'Barri_transport_BAD',\n",
       " 'Barri_transport_GOOD',\n",
       " 'Barri_transport_NEITHER BAD, NOR GOOD']"
      ]
     },
     "execution_count": 13,
     "metadata": {},
     "output_type": "execute_result"
    }
   ],
   "source": [
    "x.columns.tolist()"
   ]
  },
  {
   "cell_type": "code",
   "execution_count": 14,
   "metadata": {},
   "outputs": [],
   "source": [
    "for i in ['House_size_< 50 M2',\n",
    " \n",
    " 'No_of_people_in_the_house_ONE',\n",
    " \n",
    " 'Time_living_in_barri_LESS THAN 10 YEARS',\n",
    " \n",
    " 'Barri_satisfaction_SATISFIED',\n",
    " \n",
    " 'Barri_security_GOOD',\n",
    " \n",
    " 'Barri_management_GOOD',\n",
    " \n",
    " 'Barri_comparison_ONE OF THE BEST',\n",
    " \n",
    " 'Barri_transport_GOOD']:\n",
    "    del x[i]"
   ]
  },
  {
   "cell_type": "code",
   "execution_count": 15,
   "metadata": {},
   "outputs": [],
   "source": [
    "x = sm.add_constant(x)"
   ]
  },
  {
   "cell_type": "code",
   "execution_count": null,
   "metadata": {},
   "outputs": [],
   "source": []
  },
  {
   "cell_type": "markdown",
   "metadata": {},
   "source": [
    "# Logit"
   ]
  },
  {
   "cell_type": "code",
   "execution_count": 16,
   "metadata": {},
   "outputs": [
    {
     "data": {
      "text/html": [
       "<table class=\"simpletable\">\n",
       "<caption>Generalized Linear Model Regression Results</caption>\n",
       "<tr>\n",
       "  <th>Dep. Variable:</th>   <td>Would_live_in_another_neighborhood</td> <th>  No. Observations:  </th>  <td> 12758</td> \n",
       "</tr>\n",
       "<tr>\n",
       "  <th>Model:</th>                           <td>GLM</td>                <th>  Df Residuals:      </th>  <td> 12729</td> \n",
       "</tr>\n",
       "<tr>\n",
       "  <th>Model Family:</th>                 <td>Binomial</td>              <th>  Df Model:          </th>  <td>    28</td> \n",
       "</tr>\n",
       "<tr>\n",
       "  <th>Link Function:</th>                  <td>logit</td>               <th>  Scale:             </th> <td>  1.0000</td>\n",
       "</tr>\n",
       "<tr>\n",
       "  <th>Method:</th>                         <td>IRLS</td>                <th>  Log-Likelihood:    </th> <td> -3714.0</td>\n",
       "</tr>\n",
       "<tr>\n",
       "  <th>Date:</th>                     <td>Sun, 09 May 2021</td>          <th>  Deviance:          </th> <td>  7428.0</td>\n",
       "</tr>\n",
       "<tr>\n",
       "  <th>Time:</th>                         <td>17:47:18</td>              <th>  Pearson chi2:      </th> <td>1.28e+04</td>\n",
       "</tr>\n",
       "<tr>\n",
       "  <th>No. Iterations:</th>                   <td>6</td>                 <th>                     </th>     <td> </td>   \n",
       "</tr>\n",
       "<tr>\n",
       "  <th>Covariance Type:</th>              <td>nonrobust</td>             <th>                     </th>     <td> </td>   \n",
       "</tr>\n",
       "</table>\n",
       "<table class=\"simpletable\">\n",
       "<tr>\n",
       "                                <td></td>                                  <th>coef</th>     <th>std err</th>      <th>z</th>      <th>P>|z|</th>  <th>[0.025</th>    <th>0.975]</th>  \n",
       "</tr>\n",
       "<tr>\n",
       "  <th>const</th>                                                        <td>   -2.3555</td> <td>    0.160</td> <td>  -14.710</td> <td> 0.000</td> <td>   -2.669</td> <td>   -2.042</td>\n",
       "</tr>\n",
       "<tr>\n",
       "  <th>Woman</th>                                                        <td>    0.0626</td> <td>    0.066</td> <td>    0.949</td> <td> 0.343</td> <td>   -0.067</td> <td>    0.192</td>\n",
       "</tr>\n",
       "<tr>\n",
       "  <th>Car</th>                                                          <td>    0.1580</td> <td>    0.069</td> <td>    2.285</td> <td> 0.022</td> <td>    0.022</td> <td>    0.293</td>\n",
       "</tr>\n",
       "<tr>\n",
       "  <th>Barri_problem_with_security</th>                                  <td>   -0.1424</td> <td>    0.087</td> <td>   -1.632</td> <td> 0.103</td> <td>   -0.313</td> <td>    0.029</td>\n",
       "</tr>\n",
       "<tr>\n",
       "  <th>Barri_problem_with_streets_cleaning</th>                          <td>   -0.2206</td> <td>    0.118</td> <td>   -1.868</td> <td> 0.062</td> <td>   -0.452</td> <td>    0.011</td>\n",
       "</tr>\n",
       "<tr>\n",
       "  <th>Barri_problem_with_mobility</th>                                  <td>   -0.1818</td> <td>    0.159</td> <td>   -1.146</td> <td> 0.252</td> <td>   -0.493</td> <td>    0.129</td>\n",
       "</tr>\n",
       "<tr>\n",
       "  <th>BCN_over_barri_satisfaction</th>                                  <td>    0.4782</td> <td>    0.142</td> <td>    3.372</td> <td> 0.001</td> <td>    0.200</td> <td>    0.756</td>\n",
       "</tr>\n",
       "<tr>\n",
       "  <th>BCN_over_barri_transport</th>                                     <td>    0.0583</td> <td>    0.165</td> <td>    0.354</td> <td> 0.723</td> <td>   -0.265</td> <td>    0.381</td>\n",
       "</tr>\n",
       "<tr>\n",
       "  <th>BCN_over_barri_management</th>                                    <td>    0.2066</td> <td>    0.225</td> <td>    0.920</td> <td> 0.358</td> <td>   -0.234</td> <td>    0.647</td>\n",
       "</tr>\n",
       "<tr>\n",
       "  <th>BCN_over_barri_security</th>                                      <td>    0.3302</td> <td>    0.140</td> <td>    2.363</td> <td> 0.018</td> <td>    0.056</td> <td>    0.604</td>\n",
       "</tr>\n",
       "<tr>\n",
       "  <th>House_size_101-150 M2</th>                                        <td>   -0.1605</td> <td>    0.153</td> <td>   -1.048</td> <td> 0.295</td> <td>   -0.461</td> <td>    0.140</td>\n",
       "</tr>\n",
       "<tr>\n",
       "  <th>House_size_51-100 M2</th>                                         <td>    0.0231</td> <td>    0.116</td> <td>    0.199</td> <td> 0.842</td> <td>   -0.204</td> <td>    0.251</td>\n",
       "</tr>\n",
       "<tr>\n",
       "  <th>House_size_> 150 M2</th>                                          <td>   -0.1348</td> <td>    0.210</td> <td>   -0.642</td> <td> 0.521</td> <td>   -0.546</td> <td>    0.276</td>\n",
       "</tr>\n",
       "<tr>\n",
       "  <th>House_size_I DON'T KNOW</th>                                      <td>   -0.3348</td> <td>    0.168</td> <td>   -1.992</td> <td> 0.046</td> <td>   -0.664</td> <td>   -0.005</td>\n",
       "</tr>\n",
       "<tr>\n",
       "  <th>No_of_people_in_the_house_FOUR OR MORE</th>                       <td>   -0.3803</td> <td>    0.163</td> <td>   -2.331</td> <td> 0.020</td> <td>   -0.700</td> <td>   -0.061</td>\n",
       "</tr>\n",
       "<tr>\n",
       "  <th>No_of_people_in_the_house_THREE</th>                              <td>   -0.1685</td> <td>    0.114</td> <td>   -1.474</td> <td> 0.141</td> <td>   -0.393</td> <td>    0.056</td>\n",
       "</tr>\n",
       "<tr>\n",
       "  <th>No_of_people_in_the_house_TWO</th>                                <td>   -0.0244</td> <td>    0.076</td> <td>   -0.319</td> <td> 0.749</td> <td>   -0.174</td> <td>    0.125</td>\n",
       "</tr>\n",
       "<tr>\n",
       "  <th>Time_living_in_barri_I HAVE ALWAYS LIVED IN THE NEIGHBORHOOD</th> <td>   -1.4139</td> <td>    0.141</td> <td>  -10.015</td> <td> 0.000</td> <td>   -1.691</td> <td>   -1.137</td>\n",
       "</tr>\n",
       "<tr>\n",
       "  <th>Time_living_in_barri_MORE THAN 10 YEARS</th>                      <td>   -0.9339</td> <td>    0.106</td> <td>   -8.813</td> <td> 0.000</td> <td>   -1.142</td> <td>   -0.726</td>\n",
       "</tr>\n",
       "<tr>\n",
       "  <th>Barri_satisfaction_FAIRLY SATISFIED</th>                          <td>    0.7864</td> <td>    0.127</td> <td>    6.191</td> <td> 0.000</td> <td>    0.537</td> <td>    1.035</td>\n",
       "</tr>\n",
       "<tr>\n",
       "  <th>Barri_satisfaction_NOT SATISFIED</th>                             <td>    1.7023</td> <td>    0.243</td> <td>    6.995</td> <td> 0.000</td> <td>    1.225</td> <td>    2.179</td>\n",
       "</tr>\n",
       "<tr>\n",
       "  <th>Barri_security_BAD</th>                                           <td>    0.1130</td> <td>    0.110</td> <td>    1.027</td> <td> 0.304</td> <td>   -0.103</td> <td>    0.329</td>\n",
       "</tr>\n",
       "<tr>\n",
       "  <th>Barri_security_NEITHER BAD, NOR GOOD</th>                         <td>   -0.0324</td> <td>    0.073</td> <td>   -0.442</td> <td> 0.658</td> <td>   -0.176</td> <td>    0.111</td>\n",
       "</tr>\n",
       "<tr>\n",
       "  <th>Barri_management_BAD</th>                                         <td>    0.0542</td> <td>    0.182</td> <td>    0.298</td> <td> 0.766</td> <td>   -0.302</td> <td>    0.410</td>\n",
       "</tr>\n",
       "<tr>\n",
       "  <th>Barri_management_NEITHER BAD, NOR GOOD</th>                       <td>    0.1068</td> <td>    0.068</td> <td>    1.571</td> <td> 0.116</td> <td>   -0.026</td> <td>    0.240</td>\n",
       "</tr>\n",
       "<tr>\n",
       "  <th>Barri_comparison_NEITHER THE BEST, NOR THE WORST</th>             <td>    1.3200</td> <td>    0.072</td> <td>   18.441</td> <td> 0.000</td> <td>    1.180</td> <td>    1.460</td>\n",
       "</tr>\n",
       "<tr>\n",
       "  <th>Barri_comparison_ONE OF THE WORST</th>                            <td>    2.3371</td> <td>    0.124</td> <td>   18.845</td> <td> 0.000</td> <td>    2.094</td> <td>    2.580</td>\n",
       "</tr>\n",
       "<tr>\n",
       "  <th>Barri_transport_BAD</th>                                          <td>    0.2091</td> <td>    0.135</td> <td>    1.550</td> <td> 0.121</td> <td>   -0.055</td> <td>    0.474</td>\n",
       "</tr>\n",
       "<tr>\n",
       "  <th>Barri_transport_NEITHER BAD, NOR GOOD</th>                        <td>    0.1508</td> <td>    0.100</td> <td>    1.511</td> <td> 0.131</td> <td>   -0.045</td> <td>    0.346</td>\n",
       "</tr>\n",
       "</table>"
      ],
      "text/plain": [
       "<class 'statsmodels.iolib.summary.Summary'>\n",
       "\"\"\"\n",
       "                         Generalized Linear Model Regression Results                          \n",
       "==============================================================================================\n",
       "Dep. Variable:     Would_live_in_another_neighborhood   No. Observations:                12758\n",
       "Model:                                            GLM   Df Residuals:                    12729\n",
       "Model Family:                                Binomial   Df Model:                           28\n",
       "Link Function:                                  logit   Scale:                          1.0000\n",
       "Method:                                          IRLS   Log-Likelihood:                -3714.0\n",
       "Date:                                Sun, 09 May 2021   Deviance:                       7428.0\n",
       "Time:                                        17:47:18   Pearson chi2:                 1.28e+04\n",
       "No. Iterations:                                     6                                         \n",
       "Covariance Type:                            nonrobust                                         \n",
       "================================================================================================================================\n",
       "                                                                   coef    std err          z      P>|z|      [0.025      0.975]\n",
       "--------------------------------------------------------------------------------------------------------------------------------\n",
       "const                                                           -2.3555      0.160    -14.710      0.000      -2.669      -2.042\n",
       "Woman                                                            0.0626      0.066      0.949      0.343      -0.067       0.192\n",
       "Car                                                              0.1580      0.069      2.285      0.022       0.022       0.293\n",
       "Barri_problem_with_security                                     -0.1424      0.087     -1.632      0.103      -0.313       0.029\n",
       "Barri_problem_with_streets_cleaning                             -0.2206      0.118     -1.868      0.062      -0.452       0.011\n",
       "Barri_problem_with_mobility                                     -0.1818      0.159     -1.146      0.252      -0.493       0.129\n",
       "BCN_over_barri_satisfaction                                      0.4782      0.142      3.372      0.001       0.200       0.756\n",
       "BCN_over_barri_transport                                         0.0583      0.165      0.354      0.723      -0.265       0.381\n",
       "BCN_over_barri_management                                        0.2066      0.225      0.920      0.358      -0.234       0.647\n",
       "BCN_over_barri_security                                          0.3302      0.140      2.363      0.018       0.056       0.604\n",
       "House_size_101-150 M2                                           -0.1605      0.153     -1.048      0.295      -0.461       0.140\n",
       "House_size_51-100 M2                                             0.0231      0.116      0.199      0.842      -0.204       0.251\n",
       "House_size_> 150 M2                                             -0.1348      0.210     -0.642      0.521      -0.546       0.276\n",
       "House_size_I DON'T KNOW                                         -0.3348      0.168     -1.992      0.046      -0.664      -0.005\n",
       "No_of_people_in_the_house_FOUR OR MORE                          -0.3803      0.163     -2.331      0.020      -0.700      -0.061\n",
       "No_of_people_in_the_house_THREE                                 -0.1685      0.114     -1.474      0.141      -0.393       0.056\n",
       "No_of_people_in_the_house_TWO                                   -0.0244      0.076     -0.319      0.749      -0.174       0.125\n",
       "Time_living_in_barri_I HAVE ALWAYS LIVED IN THE NEIGHBORHOOD    -1.4139      0.141    -10.015      0.000      -1.691      -1.137\n",
       "Time_living_in_barri_MORE THAN 10 YEARS                         -0.9339      0.106     -8.813      0.000      -1.142      -0.726\n",
       "Barri_satisfaction_FAIRLY SATISFIED                              0.7864      0.127      6.191      0.000       0.537       1.035\n",
       "Barri_satisfaction_NOT SATISFIED                                 1.7023      0.243      6.995      0.000       1.225       2.179\n",
       "Barri_security_BAD                                               0.1130      0.110      1.027      0.304      -0.103       0.329\n",
       "Barri_security_NEITHER BAD, NOR GOOD                            -0.0324      0.073     -0.442      0.658      -0.176       0.111\n",
       "Barri_management_BAD                                             0.0542      0.182      0.298      0.766      -0.302       0.410\n",
       "Barri_management_NEITHER BAD, NOR GOOD                           0.1068      0.068      1.571      0.116      -0.026       0.240\n",
       "Barri_comparison_NEITHER THE BEST, NOR THE WORST                 1.3200      0.072     18.441      0.000       1.180       1.460\n",
       "Barri_comparison_ONE OF THE WORST                                2.3371      0.124     18.845      0.000       2.094       2.580\n",
       "Barri_transport_BAD                                              0.2091      0.135      1.550      0.121      -0.055       0.474\n",
       "Barri_transport_NEITHER BAD, NOR GOOD                            0.1508      0.100      1.511      0.131      -0.045       0.346\n",
       "================================================================================================================================\n",
       "\"\"\""
      ]
     },
     "execution_count": 16,
     "metadata": {},
     "output_type": "execute_result"
    }
   ],
   "source": [
    "glm_logit = sm.GLM(y, x, family=sm.families.Binomial())\n",
    "glm_logit_results = glm_logit.fit()\n",
    "glm_logit_results.summary()"
   ]
  },
  {
   "cell_type": "code",
   "execution_count": 17,
   "metadata": {},
   "outputs": [
    {
     "data": {
      "text/plain": [
       "7486.004603030209"
      ]
     },
     "execution_count": 17,
     "metadata": {},
     "output_type": "execute_result"
    }
   ],
   "source": [
    "glm_logit_results.aic"
   ]
  },
  {
   "cell_type": "code",
   "execution_count": 18,
   "metadata": {},
   "outputs": [
    {
     "name": "stderr",
     "output_type": "stream",
     "text": [
      "C:\\Users\\THINK\\anaconda3\\lib\\site-packages\\statsmodels\\genmod\\generalized_linear_model.py:1731: FutureWarning: The bic value is computed using the deviance formula. After 0.13 this will change to the log-likelihood based formula. This change has no impact on the relative rank of models compared using BIC. You can directly access the log-likelihood version using the `bic_llf` attribute. You can suppress this message by calling statsmodels.genmod.generalized_linear_model.SET_USE_BIC_LLF with True to get the LLF-based version now or False to retainthe deviance version.\n",
      "  FutureWarning\n"
     ]
    },
    {
     "data": {
      "text/plain": [
       "-112910.86421829318"
      ]
     },
     "execution_count": 18,
     "metadata": {},
     "output_type": "execute_result"
    }
   ],
   "source": [
    "glm_logit_results.bic"
   ]
  },
  {
   "cell_type": "code",
   "execution_count": 19,
   "metadata": {},
   "outputs": [
    {
     "data": {
      "text/plain": [
       "House_size_51-100 M2                                            8.421045e-01\n",
       "Barri_management_BAD                                            7.655962e-01\n",
       "No_of_people_in_the_house_TWO                                   7.494098e-01\n",
       "BCN_over_barri_transport                                        7.234023e-01\n",
       "Barri_security_NEITHER BAD, NOR GOOD                            6.583432e-01\n",
       "House_size_> 150 M2                                             5.205919e-01\n",
       "BCN_over_barri_management                                       3.577584e-01\n",
       "Woman                                                           3.426602e-01\n",
       "Barri_security_BAD                                              3.044761e-01\n",
       "House_size_101-150 M2                                           2.945539e-01\n",
       "Barri_problem_with_mobility                                     2.519146e-01\n",
       "No_of_people_in_the_house_THREE                                 1.405795e-01\n",
       "Barri_transport_NEITHER BAD, NOR GOOD                           1.306810e-01\n",
       "Barri_transport_BAD                                             1.212331e-01\n",
       "Barri_management_NEITHER BAD, NOR GOOD                          1.162588e-01\n",
       "Barri_problem_with_security                                     1.026484e-01\n",
       "Barri_problem_with_streets_cleaning                             6.181037e-02\n",
       "House_size_I DON'T KNOW                                         4.640932e-02\n",
       "Car                                                             2.230724e-02\n",
       "No_of_people_in_the_house_FOUR OR MORE                          1.974803e-02\n",
       "BCN_over_barri_security                                         1.815195e-02\n",
       "BCN_over_barri_satisfaction                                     7.473438e-04\n",
       "Barri_satisfaction_FAIRLY SATISFIED                             5.994492e-10\n",
       "Barri_satisfaction_NOT SATISFIED                                2.644851e-12\n",
       "Time_living_in_barri_MORE THAN 10 YEARS                         1.221997e-18\n",
       "Time_living_in_barri_I HAVE ALWAYS LIVED IN THE NEIGHBORHOOD    1.305123e-23\n",
       "const                                                           5.566554e-49\n",
       "Barri_comparison_NEITHER THE BEST, NOR THE WORST                6.164089e-76\n",
       "Barri_comparison_ONE OF THE WORST                               3.233099e-79\n",
       "dtype: float64"
      ]
     },
     "execution_count": 19,
     "metadata": {},
     "output_type": "execute_result"
    }
   ],
   "source": [
    "glm_logit_results.pvalues.sort_values(ascending=False)"
   ]
  },
  {
   "cell_type": "code",
   "execution_count": null,
   "metadata": {},
   "outputs": [],
   "source": []
  },
  {
   "cell_type": "code",
   "execution_count": 20,
   "metadata": {},
   "outputs": [],
   "source": [
    "for i in ['House_size_> 150 M2', 'House_size_101-150 M2', 'House_size_51-100 M2', \"House_size_I DON'T KNOW\"]:\n",
    "    del x[i]"
   ]
  },
  {
   "cell_type": "code",
   "execution_count": 21,
   "metadata": {},
   "outputs": [
    {
     "data": {
      "text/html": [
       "<table class=\"simpletable\">\n",
       "<caption>Generalized Linear Model Regression Results</caption>\n",
       "<tr>\n",
       "  <th>Dep. Variable:</th>   <td>Would_live_in_another_neighborhood</td> <th>  No. Observations:  </th>  <td> 12758</td> \n",
       "</tr>\n",
       "<tr>\n",
       "  <th>Model:</th>                           <td>GLM</td>                <th>  Df Residuals:      </th>  <td> 12733</td> \n",
       "</tr>\n",
       "<tr>\n",
       "  <th>Model Family:</th>                 <td>Binomial</td>              <th>  Df Model:          </th>  <td>    24</td> \n",
       "</tr>\n",
       "<tr>\n",
       "  <th>Link Function:</th>                  <td>logit</td>               <th>  Scale:             </th> <td>  1.0000</td>\n",
       "</tr>\n",
       "<tr>\n",
       "  <th>Method:</th>                         <td>IRLS</td>                <th>  Log-Likelihood:    </th> <td> -3719.1</td>\n",
       "</tr>\n",
       "<tr>\n",
       "  <th>Date:</th>                     <td>Sun, 09 May 2021</td>          <th>  Deviance:          </th> <td>  7438.2</td>\n",
       "</tr>\n",
       "<tr>\n",
       "  <th>Time:</th>                         <td>17:47:38</td>              <th>  Pearson chi2:      </th> <td>1.29e+04</td>\n",
       "</tr>\n",
       "<tr>\n",
       "  <th>No. Iterations:</th>                   <td>6</td>                 <th>                     </th>     <td> </td>   \n",
       "</tr>\n",
       "<tr>\n",
       "  <th>Covariance Type:</th>              <td>nonrobust</td>             <th>                     </th>     <td> </td>   \n",
       "</tr>\n",
       "</table>\n",
       "<table class=\"simpletable\">\n",
       "<tr>\n",
       "                                <td></td>                                  <th>coef</th>     <th>std err</th>      <th>z</th>      <th>P>|z|</th>  <th>[0.025</th>    <th>0.975]</th>  \n",
       "</tr>\n",
       "<tr>\n",
       "  <th>const</th>                                                        <td>   -2.3899</td> <td>    0.132</td> <td>  -18.125</td> <td> 0.000</td> <td>   -2.648</td> <td>   -2.131</td>\n",
       "</tr>\n",
       "<tr>\n",
       "  <th>Woman</th>                                                        <td>    0.0456</td> <td>    0.066</td> <td>    0.694</td> <td> 0.487</td> <td>   -0.083</td> <td>    0.174</td>\n",
       "</tr>\n",
       "<tr>\n",
       "  <th>Car</th>                                                          <td>    0.1575</td> <td>    0.068</td> <td>    2.301</td> <td> 0.021</td> <td>    0.023</td> <td>    0.292</td>\n",
       "</tr>\n",
       "<tr>\n",
       "  <th>Barri_problem_with_security</th>                                  <td>   -0.1376</td> <td>    0.087</td> <td>   -1.579</td> <td> 0.114</td> <td>   -0.308</td> <td>    0.033</td>\n",
       "</tr>\n",
       "<tr>\n",
       "  <th>Barri_problem_with_streets_cleaning</th>                          <td>   -0.2198</td> <td>    0.118</td> <td>   -1.861</td> <td> 0.063</td> <td>   -0.451</td> <td>    0.012</td>\n",
       "</tr>\n",
       "<tr>\n",
       "  <th>Barri_problem_with_mobility</th>                                  <td>   -0.1788</td> <td>    0.159</td> <td>   -1.128</td> <td> 0.259</td> <td>   -0.490</td> <td>    0.132</td>\n",
       "</tr>\n",
       "<tr>\n",
       "  <th>BCN_over_barri_satisfaction</th>                                  <td>    0.4760</td> <td>    0.142</td> <td>    3.359</td> <td> 0.001</td> <td>    0.198</td> <td>    0.754</td>\n",
       "</tr>\n",
       "<tr>\n",
       "  <th>BCN_over_barri_transport</th>                                     <td>    0.0727</td> <td>    0.164</td> <td>    0.442</td> <td> 0.659</td> <td>   -0.250</td> <td>    0.395</td>\n",
       "</tr>\n",
       "<tr>\n",
       "  <th>BCN_over_barri_management</th>                                    <td>    0.2110</td> <td>    0.224</td> <td>    0.941</td> <td> 0.347</td> <td>   -0.228</td> <td>    0.650</td>\n",
       "</tr>\n",
       "<tr>\n",
       "  <th>BCN_over_barri_security</th>                                      <td>    0.3343</td> <td>    0.140</td> <td>    2.396</td> <td> 0.017</td> <td>    0.061</td> <td>    0.608</td>\n",
       "</tr>\n",
       "<tr>\n",
       "  <th>No_of_people_in_the_house_FOUR OR MORE</th>                       <td>   -0.4087</td> <td>    0.162</td> <td>   -2.515</td> <td> 0.012</td> <td>   -0.727</td> <td>   -0.090</td>\n",
       "</tr>\n",
       "<tr>\n",
       "  <th>No_of_people_in_the_house_THREE</th>                              <td>   -0.1790</td> <td>    0.114</td> <td>   -1.571</td> <td> 0.116</td> <td>   -0.402</td> <td>    0.044</td>\n",
       "</tr>\n",
       "<tr>\n",
       "  <th>No_of_people_in_the_house_TWO</th>                                <td>   -0.0261</td> <td>    0.076</td> <td>   -0.344</td> <td> 0.731</td> <td>   -0.175</td> <td>    0.123</td>\n",
       "</tr>\n",
       "<tr>\n",
       "  <th>Time_living_in_barri_I HAVE ALWAYS LIVED IN THE NEIGHBORHOOD</th> <td>   -1.4084</td> <td>    0.141</td> <td>   -9.998</td> <td> 0.000</td> <td>   -1.684</td> <td>   -1.132</td>\n",
       "</tr>\n",
       "<tr>\n",
       "  <th>Time_living_in_barri_MORE THAN 10 YEARS</th>                      <td>   -0.9216</td> <td>    0.105</td> <td>   -8.741</td> <td> 0.000</td> <td>   -1.128</td> <td>   -0.715</td>\n",
       "</tr>\n",
       "<tr>\n",
       "  <th>Barri_satisfaction_FAIRLY SATISFIED</th>                          <td>    0.7889</td> <td>    0.127</td> <td>    6.212</td> <td> 0.000</td> <td>    0.540</td> <td>    1.038</td>\n",
       "</tr>\n",
       "<tr>\n",
       "  <th>Barri_satisfaction_NOT SATISFIED</th>                             <td>    1.6975</td> <td>    0.243</td> <td>    6.978</td> <td> 0.000</td> <td>    1.221</td> <td>    2.174</td>\n",
       "</tr>\n",
       "<tr>\n",
       "  <th>Barri_security_BAD</th>                                           <td>    0.1248</td> <td>    0.110</td> <td>    1.136</td> <td> 0.256</td> <td>   -0.091</td> <td>    0.340</td>\n",
       "</tr>\n",
       "<tr>\n",
       "  <th>Barri_security_NEITHER BAD, NOR GOOD</th>                         <td>   -0.0252</td> <td>    0.073</td> <td>   -0.344</td> <td> 0.731</td> <td>   -0.169</td> <td>    0.118</td>\n",
       "</tr>\n",
       "<tr>\n",
       "  <th>Barri_management_BAD</th>                                         <td>    0.0430</td> <td>    0.181</td> <td>    0.237</td> <td> 0.812</td> <td>   -0.312</td> <td>    0.398</td>\n",
       "</tr>\n",
       "<tr>\n",
       "  <th>Barri_management_NEITHER BAD, NOR GOOD</th>                       <td>    0.1055</td> <td>    0.068</td> <td>    1.552</td> <td> 0.121</td> <td>   -0.028</td> <td>    0.239</td>\n",
       "</tr>\n",
       "<tr>\n",
       "  <th>Barri_comparison_NEITHER THE BEST, NOR THE WORST</th>             <td>    1.3311</td> <td>    0.071</td> <td>   18.688</td> <td> 0.000</td> <td>    1.191</td> <td>    1.471</td>\n",
       "</tr>\n",
       "<tr>\n",
       "  <th>Barri_comparison_ONE OF THE WORST</th>                            <td>    2.3552</td> <td>    0.124</td> <td>   19.052</td> <td> 0.000</td> <td>    2.113</td> <td>    2.598</td>\n",
       "</tr>\n",
       "<tr>\n",
       "  <th>Barri_transport_BAD</th>                                          <td>    0.1995</td> <td>    0.135</td> <td>    1.481</td> <td> 0.139</td> <td>   -0.065</td> <td>    0.463</td>\n",
       "</tr>\n",
       "<tr>\n",
       "  <th>Barri_transport_NEITHER BAD, NOR GOOD</th>                        <td>    0.1481</td> <td>    0.100</td> <td>    1.485</td> <td> 0.137</td> <td>   -0.047</td> <td>    0.344</td>\n",
       "</tr>\n",
       "</table>"
      ],
      "text/plain": [
       "<class 'statsmodels.iolib.summary.Summary'>\n",
       "\"\"\"\n",
       "                         Generalized Linear Model Regression Results                          \n",
       "==============================================================================================\n",
       "Dep. Variable:     Would_live_in_another_neighborhood   No. Observations:                12758\n",
       "Model:                                            GLM   Df Residuals:                    12733\n",
       "Model Family:                                Binomial   Df Model:                           24\n",
       "Link Function:                                  logit   Scale:                          1.0000\n",
       "Method:                                          IRLS   Log-Likelihood:                -3719.1\n",
       "Date:                                Sun, 09 May 2021   Deviance:                       7438.2\n",
       "Time:                                        17:47:38   Pearson chi2:                 1.29e+04\n",
       "No. Iterations:                                     6                                         \n",
       "Covariance Type:                            nonrobust                                         \n",
       "================================================================================================================================\n",
       "                                                                   coef    std err          z      P>|z|      [0.025      0.975]\n",
       "--------------------------------------------------------------------------------------------------------------------------------\n",
       "const                                                           -2.3899      0.132    -18.125      0.000      -2.648      -2.131\n",
       "Woman                                                            0.0456      0.066      0.694      0.487      -0.083       0.174\n",
       "Car                                                              0.1575      0.068      2.301      0.021       0.023       0.292\n",
       "Barri_problem_with_security                                     -0.1376      0.087     -1.579      0.114      -0.308       0.033\n",
       "Barri_problem_with_streets_cleaning                             -0.2198      0.118     -1.861      0.063      -0.451       0.012\n",
       "Barri_problem_with_mobility                                     -0.1788      0.159     -1.128      0.259      -0.490       0.132\n",
       "BCN_over_barri_satisfaction                                      0.4760      0.142      3.359      0.001       0.198       0.754\n",
       "BCN_over_barri_transport                                         0.0727      0.164      0.442      0.659      -0.250       0.395\n",
       "BCN_over_barri_management                                        0.2110      0.224      0.941      0.347      -0.228       0.650\n",
       "BCN_over_barri_security                                          0.3343      0.140      2.396      0.017       0.061       0.608\n",
       "No_of_people_in_the_house_FOUR OR MORE                          -0.4087      0.162     -2.515      0.012      -0.727      -0.090\n",
       "No_of_people_in_the_house_THREE                                 -0.1790      0.114     -1.571      0.116      -0.402       0.044\n",
       "No_of_people_in_the_house_TWO                                   -0.0261      0.076     -0.344      0.731      -0.175       0.123\n",
       "Time_living_in_barri_I HAVE ALWAYS LIVED IN THE NEIGHBORHOOD    -1.4084      0.141     -9.998      0.000      -1.684      -1.132\n",
       "Time_living_in_barri_MORE THAN 10 YEARS                         -0.9216      0.105     -8.741      0.000      -1.128      -0.715\n",
       "Barri_satisfaction_FAIRLY SATISFIED                              0.7889      0.127      6.212      0.000       0.540       1.038\n",
       "Barri_satisfaction_NOT SATISFIED                                 1.6975      0.243      6.978      0.000       1.221       2.174\n",
       "Barri_security_BAD                                               0.1248      0.110      1.136      0.256      -0.091       0.340\n",
       "Barri_security_NEITHER BAD, NOR GOOD                            -0.0252      0.073     -0.344      0.731      -0.169       0.118\n",
       "Barri_management_BAD                                             0.0430      0.181      0.237      0.812      -0.312       0.398\n",
       "Barri_management_NEITHER BAD, NOR GOOD                           0.1055      0.068      1.552      0.121      -0.028       0.239\n",
       "Barri_comparison_NEITHER THE BEST, NOR THE WORST                 1.3311      0.071     18.688      0.000       1.191       1.471\n",
       "Barri_comparison_ONE OF THE WORST                                2.3552      0.124     19.052      0.000       2.113       2.598\n",
       "Barri_transport_BAD                                              0.1995      0.135      1.481      0.139      -0.065       0.463\n",
       "Barri_transport_NEITHER BAD, NOR GOOD                            0.1481      0.100      1.485      0.137      -0.047       0.344\n",
       "================================================================================================================================\n",
       "\"\"\""
      ]
     },
     "execution_count": 21,
     "metadata": {},
     "output_type": "execute_result"
    }
   ],
   "source": [
    "glm_logit = sm.GLM(y, x, family=sm.families.Binomial())\n",
    "glm_logit_results = glm_logit.fit()\n",
    "glm_logit_results.summary()"
   ]
  },
  {
   "cell_type": "code",
   "execution_count": 22,
   "metadata": {},
   "outputs": [
    {
     "data": {
      "text/plain": [
       "7488.234631364554"
      ]
     },
     "execution_count": 22,
     "metadata": {},
     "output_type": "execute_result"
    }
   ],
   "source": [
    "glm_logit_results.aic"
   ]
  },
  {
   "cell_type": "code",
   "execution_count": 23,
   "metadata": {},
   "outputs": [
    {
     "name": "stderr",
     "output_type": "stream",
     "text": [
      "C:\\Users\\THINK\\anaconda3\\lib\\site-packages\\statsmodels\\genmod\\generalized_linear_model.py:1731: FutureWarning: The bic value is computed using the deviance formula. After 0.13 this will change to the log-likelihood based formula. This change has no impact on the relative rank of models compared using BIC. You can directly access the log-likelihood version using the `bic_llf` attribute. You can suppress this message by calling statsmodels.genmod.generalized_linear_model.SET_USE_BIC_LLF with True to get the LLF-based version now or False to retainthe deviance version.\n",
      "  FutureWarning\n"
     ]
    },
    {
     "data": {
      "text/plain": [
       "-112938.44984517804"
      ]
     },
     "execution_count": 23,
     "metadata": {},
     "output_type": "execute_result"
    }
   ],
   "source": [
    "glm_logit_results.bic"
   ]
  },
  {
   "cell_type": "code",
   "execution_count": 24,
   "metadata": {},
   "outputs": [
    {
     "data": {
      "text/plain": [
       "Barri_management_BAD                                            8.123527e-01\n",
       "No_of_people_in_the_house_TWO                                   7.311912e-01\n",
       "Barri_security_NEITHER BAD, NOR GOOD                            7.307266e-01\n",
       "BCN_over_barri_transport                                        6.586516e-01\n",
       "Woman                                                           4.874823e-01\n",
       "BCN_over_barri_management                                       3.465223e-01\n",
       "Barri_problem_with_mobility                                     2.592487e-01\n",
       "Barri_security_BAD                                              2.560726e-01\n",
       "Barri_transport_BAD                                             1.386371e-01\n",
       "Barri_transport_NEITHER BAD, NOR GOOD                           1.374989e-01\n",
       "Barri_management_NEITHER BAD, NOR GOOD                          1.206653e-01\n",
       "No_of_people_in_the_house_THREE                                 1.161444e-01\n",
       "Barri_problem_with_security                                     1.143578e-01\n",
       "Barri_problem_with_streets_cleaning                             6.271967e-02\n",
       "Car                                                             2.140892e-02\n",
       "BCN_over_barri_security                                         1.658509e-02\n",
       "No_of_people_in_the_house_FOUR OR MORE                          1.188640e-02\n",
       "BCN_over_barri_satisfaction                                     7.835626e-04\n",
       "Barri_satisfaction_FAIRLY SATISFIED                             5.242935e-10\n",
       "Barri_satisfaction_NOT SATISFIED                                2.987654e-12\n",
       "Time_living_in_barri_MORE THAN 10 YEARS                         2.305245e-18\n",
       "Time_living_in_barri_I HAVE ALWAYS LIVED IN THE NEIGHBORHOOD    1.558836e-23\n",
       "const                                                           2.017944e-73\n",
       "Barri_comparison_NEITHER THE BEST, NOR THE WORST                6.220656e-78\n",
       "Barri_comparison_ONE OF THE WORST                               6.265432e-81\n",
       "dtype: float64"
      ]
     },
     "execution_count": 24,
     "metadata": {},
     "output_type": "execute_result"
    }
   ],
   "source": [
    "glm_logit_results.pvalues.sort_values(ascending=False)"
   ]
  },
  {
   "cell_type": "code",
   "execution_count": null,
   "metadata": {},
   "outputs": [],
   "source": []
  },
  {
   "cell_type": "code",
   "execution_count": 25,
   "metadata": {},
   "outputs": [],
   "source": [
    "for i in ['Woman', 'Barri_security_NEITHER BAD, NOR GOOD', 'Barri_security_BAD', \n",
    "         'BCN_over_barri_transport', 'BCN_over_barri_management', 'Barri_problem_with_mobility',\n",
    "          'Barri_management_BAD', 'Barri_management_NEITHER BAD, NOR GOOD']:\n",
    "    del x[i]"
   ]
  },
  {
   "cell_type": "code",
   "execution_count": 26,
   "metadata": {},
   "outputs": [
    {
     "data": {
      "text/html": [
       "<table class=\"simpletable\">\n",
       "<caption>Generalized Linear Model Regression Results</caption>\n",
       "<tr>\n",
       "  <th>Dep. Variable:</th>   <td>Would_live_in_another_neighborhood</td> <th>  No. Observations:  </th>  <td> 12758</td> \n",
       "</tr>\n",
       "<tr>\n",
       "  <th>Model:</th>                           <td>GLM</td>                <th>  Df Residuals:      </th>  <td> 12741</td> \n",
       "</tr>\n",
       "<tr>\n",
       "  <th>Model Family:</th>                 <td>Binomial</td>              <th>  Df Model:          </th>  <td>    16</td> \n",
       "</tr>\n",
       "<tr>\n",
       "  <th>Link Function:</th>                  <td>logit</td>               <th>  Scale:             </th> <td>  1.0000</td>\n",
       "</tr>\n",
       "<tr>\n",
       "  <th>Method:</th>                         <td>IRLS</td>                <th>  Log-Likelihood:    </th> <td> -3723.3</td>\n",
       "</tr>\n",
       "<tr>\n",
       "  <th>Date:</th>                     <td>Sun, 09 May 2021</td>          <th>  Deviance:          </th> <td>  7446.6</td>\n",
       "</tr>\n",
       "<tr>\n",
       "  <th>Time:</th>                         <td>17:49:11</td>              <th>  Pearson chi2:      </th> <td>1.29e+04</td>\n",
       "</tr>\n",
       "<tr>\n",
       "  <th>No. Iterations:</th>                   <td>6</td>                 <th>                     </th>     <td> </td>   \n",
       "</tr>\n",
       "<tr>\n",
       "  <th>Covariance Type:</th>              <td>nonrobust</td>             <th>                     </th>     <td> </td>   \n",
       "</tr>\n",
       "</table>\n",
       "<table class=\"simpletable\">\n",
       "<tr>\n",
       "                                <td></td>                                  <th>coef</th>     <th>std err</th>      <th>z</th>      <th>P>|z|</th>  <th>[0.025</th>    <th>0.975]</th>  \n",
       "</tr>\n",
       "<tr>\n",
       "  <th>const</th>                                                        <td>   -2.3352</td> <td>    0.119</td> <td>  -19.660</td> <td> 0.000</td> <td>   -2.568</td> <td>   -2.102</td>\n",
       "</tr>\n",
       "<tr>\n",
       "  <th>Car</th>                                                          <td>    0.1565</td> <td>    0.067</td> <td>    2.328</td> <td> 0.020</td> <td>    0.025</td> <td>    0.288</td>\n",
       "</tr>\n",
       "<tr>\n",
       "  <th>Barri_problem_with_security</th>                                  <td>   -0.1047</td> <td>    0.084</td> <td>   -1.242</td> <td> 0.214</td> <td>   -0.270</td> <td>    0.061</td>\n",
       "</tr>\n",
       "<tr>\n",
       "  <th>Barri_problem_with_streets_cleaning</th>                          <td>   -0.2008</td> <td>    0.117</td> <td>   -1.710</td> <td> 0.087</td> <td>   -0.431</td> <td>    0.029</td>\n",
       "</tr>\n",
       "<tr>\n",
       "  <th>BCN_over_barri_satisfaction</th>                                  <td>    0.4714</td> <td>    0.141</td> <td>    3.344</td> <td> 0.001</td> <td>    0.195</td> <td>    0.748</td>\n",
       "</tr>\n",
       "<tr>\n",
       "  <th>BCN_over_barri_security</th>                                      <td>    0.4564</td> <td>    0.117</td> <td>    3.899</td> <td> 0.000</td> <td>    0.227</td> <td>    0.686</td>\n",
       "</tr>\n",
       "<tr>\n",
       "  <th>No_of_people_in_the_house_FOUR OR MORE</th>                       <td>   -0.4101</td> <td>    0.162</td> <td>   -2.531</td> <td> 0.011</td> <td>   -0.728</td> <td>   -0.092</td>\n",
       "</tr>\n",
       "<tr>\n",
       "  <th>No_of_people_in_the_house_THREE</th>                              <td>   -0.1880</td> <td>    0.114</td> <td>   -1.654</td> <td> 0.098</td> <td>   -0.411</td> <td>    0.035</td>\n",
       "</tr>\n",
       "<tr>\n",
       "  <th>No_of_people_in_the_house_TWO</th>                                <td>   -0.0319</td> <td>    0.075</td> <td>   -0.424</td> <td> 0.671</td> <td>   -0.179</td> <td>    0.115</td>\n",
       "</tr>\n",
       "<tr>\n",
       "  <th>Time_living_in_barri_I HAVE ALWAYS LIVED IN THE NEIGHBORHOOD</th> <td>   -1.3868</td> <td>    0.140</td> <td>   -9.892</td> <td> 0.000</td> <td>   -1.662</td> <td>   -1.112</td>\n",
       "</tr>\n",
       "<tr>\n",
       "  <th>Time_living_in_barri_MORE THAN 10 YEARS</th>                      <td>   -0.9120</td> <td>    0.105</td> <td>   -8.681</td> <td> 0.000</td> <td>   -1.118</td> <td>   -0.706</td>\n",
       "</tr>\n",
       "<tr>\n",
       "  <th>Barri_satisfaction_FAIRLY SATISFIED</th>                          <td>    0.8356</td> <td>    0.124</td> <td>    6.721</td> <td> 0.000</td> <td>    0.592</td> <td>    1.079</td>\n",
       "</tr>\n",
       "<tr>\n",
       "  <th>Barri_satisfaction_NOT SATISFIED</th>                             <td>    1.7692</td> <td>    0.237</td> <td>    7.480</td> <td> 0.000</td> <td>    1.306</td> <td>    2.233</td>\n",
       "</tr>\n",
       "<tr>\n",
       "  <th>Barri_comparison_NEITHER THE BEST, NOR THE WORST</th>             <td>    1.3449</td> <td>    0.071</td> <td>   19.060</td> <td> 0.000</td> <td>    1.207</td> <td>    1.483</td>\n",
       "</tr>\n",
       "<tr>\n",
       "  <th>Barri_comparison_ONE OF THE WORST</th>                            <td>    2.3983</td> <td>    0.122</td> <td>   19.638</td> <td> 0.000</td> <td>    2.159</td> <td>    2.638</td>\n",
       "</tr>\n",
       "<tr>\n",
       "  <th>Barri_transport_BAD</th>                                          <td>    0.2410</td> <td>    0.089</td> <td>    2.722</td> <td> 0.006</td> <td>    0.067</td> <td>    0.415</td>\n",
       "</tr>\n",
       "<tr>\n",
       "  <th>Barri_transport_NEITHER BAD, NOR GOOD</th>                        <td>    0.1560</td> <td>    0.099</td> <td>    1.574</td> <td> 0.115</td> <td>   -0.038</td> <td>    0.350</td>\n",
       "</tr>\n",
       "</table>"
      ],
      "text/plain": [
       "<class 'statsmodels.iolib.summary.Summary'>\n",
       "\"\"\"\n",
       "                         Generalized Linear Model Regression Results                          \n",
       "==============================================================================================\n",
       "Dep. Variable:     Would_live_in_another_neighborhood   No. Observations:                12758\n",
       "Model:                                            GLM   Df Residuals:                    12741\n",
       "Model Family:                                Binomial   Df Model:                           16\n",
       "Link Function:                                  logit   Scale:                          1.0000\n",
       "Method:                                          IRLS   Log-Likelihood:                -3723.3\n",
       "Date:                                Sun, 09 May 2021   Deviance:                       7446.6\n",
       "Time:                                        17:49:11   Pearson chi2:                 1.29e+04\n",
       "No. Iterations:                                     6                                         \n",
       "Covariance Type:                            nonrobust                                         \n",
       "================================================================================================================================\n",
       "                                                                   coef    std err          z      P>|z|      [0.025      0.975]\n",
       "--------------------------------------------------------------------------------------------------------------------------------\n",
       "const                                                           -2.3352      0.119    -19.660      0.000      -2.568      -2.102\n",
       "Car                                                              0.1565      0.067      2.328      0.020       0.025       0.288\n",
       "Barri_problem_with_security                                     -0.1047      0.084     -1.242      0.214      -0.270       0.061\n",
       "Barri_problem_with_streets_cleaning                             -0.2008      0.117     -1.710      0.087      -0.431       0.029\n",
       "BCN_over_barri_satisfaction                                      0.4714      0.141      3.344      0.001       0.195       0.748\n",
       "BCN_over_barri_security                                          0.4564      0.117      3.899      0.000       0.227       0.686\n",
       "No_of_people_in_the_house_FOUR OR MORE                          -0.4101      0.162     -2.531      0.011      -0.728      -0.092\n",
       "No_of_people_in_the_house_THREE                                 -0.1880      0.114     -1.654      0.098      -0.411       0.035\n",
       "No_of_people_in_the_house_TWO                                   -0.0319      0.075     -0.424      0.671      -0.179       0.115\n",
       "Time_living_in_barri_I HAVE ALWAYS LIVED IN THE NEIGHBORHOOD    -1.3868      0.140     -9.892      0.000      -1.662      -1.112\n",
       "Time_living_in_barri_MORE THAN 10 YEARS                         -0.9120      0.105     -8.681      0.000      -1.118      -0.706\n",
       "Barri_satisfaction_FAIRLY SATISFIED                              0.8356      0.124      6.721      0.000       0.592       1.079\n",
       "Barri_satisfaction_NOT SATISFIED                                 1.7692      0.237      7.480      0.000       1.306       2.233\n",
       "Barri_comparison_NEITHER THE BEST, NOR THE WORST                 1.3449      0.071     19.060      0.000       1.207       1.483\n",
       "Barri_comparison_ONE OF THE WORST                                2.3983      0.122     19.638      0.000       2.159       2.638\n",
       "Barri_transport_BAD                                              0.2410      0.089      2.722      0.006       0.067       0.415\n",
       "Barri_transport_NEITHER BAD, NOR GOOD                            0.1560      0.099      1.574      0.115      -0.038       0.350\n",
       "================================================================================================================================\n",
       "\"\"\""
      ]
     },
     "execution_count": 26,
     "metadata": {},
     "output_type": "execute_result"
    }
   ],
   "source": [
    "glm_logit = sm.GLM(y, x, family=sm.families.Binomial())\n",
    "glm_logit_results = glm_logit.fit()\n",
    "glm_logit_results.summary()"
   ]
  },
  {
   "cell_type": "code",
   "execution_count": 27,
   "metadata": {},
   "outputs": [
    {
     "data": {
      "text/plain": [
       "7480.647902153501"
      ]
     },
     "execution_count": 27,
     "metadata": {},
     "output_type": "execute_result"
    }
   ],
   "source": [
    "glm_logit_results.aic"
   ]
  },
  {
   "cell_type": "code",
   "execution_count": 28,
   "metadata": {},
   "outputs": [
    {
     "name": "stderr",
     "output_type": "stream",
     "text": [
      "C:\\Users\\THINK\\anaconda3\\lib\\site-packages\\statsmodels\\genmod\\generalized_linear_model.py:1731: FutureWarning: The bic value is computed using the deviance formula. After 0.13 this will change to the log-likelihood based formula. This change has no impact on the relative rank of models compared using BIC. You can directly access the log-likelihood version using the `bic_llf` attribute. You can suppress this message by calling statsmodels.genmod.generalized_linear_model.SET_USE_BIC_LLF with True to get the LLF-based version now or False to retainthe deviance version.\n",
      "  FutureWarning\n"
     ]
    },
    {
     "data": {
      "text/plain": [
       "-113005.6678848275"
      ]
     },
     "execution_count": 28,
     "metadata": {},
     "output_type": "execute_result"
    }
   ],
   "source": [
    "glm_logit_results.bic"
   ]
  },
  {
   "cell_type": "code",
   "execution_count": 29,
   "metadata": {},
   "outputs": [
    {
     "data": {
      "text/plain": [
       "No_of_people_in_the_house_TWO                                   6.712841e-01\n",
       "Barri_problem_with_security                                     2.142401e-01\n",
       "Barri_transport_NEITHER BAD, NOR GOOD                           1.154492e-01\n",
       "No_of_people_in_the_house_THREE                                 9.810642e-02\n",
       "Barri_problem_with_streets_cleaning                             8.731480e-02\n",
       "Car                                                             1.991235e-02\n",
       "No_of_people_in_the_house_FOUR OR MORE                          1.138039e-02\n",
       "Barri_transport_BAD                                             6.493307e-03\n",
       "BCN_over_barri_satisfaction                                     8.257536e-04\n",
       "BCN_over_barri_security                                         9.667834e-05\n",
       "Barri_satisfaction_FAIRLY SATISFIED                             1.802382e-11\n",
       "Barri_satisfaction_NOT SATISFIED                                7.413054e-14\n",
       "Time_living_in_barri_MORE THAN 10 YEARS                         3.919043e-18\n",
       "Time_living_in_barri_I HAVE ALWAYS LIVED IN THE NEIGHBORHOOD    4.506000e-23\n",
       "Barri_comparison_NEITHER THE BEST, NOR THE WORST                5.420659e-81\n",
       "Barri_comparison_ONE OF THE WORST                               7.313080e-86\n",
       "const                                                           4.705429e-86\n",
       "dtype: float64"
      ]
     },
     "execution_count": 29,
     "metadata": {},
     "output_type": "execute_result"
    }
   ],
   "source": [
    "glm_logit_results.pvalues.sort_values(ascending=False)"
   ]
  },
  {
   "cell_type": "code",
   "execution_count": null,
   "metadata": {},
   "outputs": [],
   "source": []
  },
  {
   "cell_type": "code",
   "execution_count": 30,
   "metadata": {},
   "outputs": [],
   "source": [
    "for i in ['Barri_problem_with_security']:\n",
    "    del x[i]"
   ]
  },
  {
   "cell_type": "code",
   "execution_count": 31,
   "metadata": {},
   "outputs": [
    {
     "data": {
      "text/html": [
       "<table class=\"simpletable\">\n",
       "<caption>Generalized Linear Model Regression Results</caption>\n",
       "<tr>\n",
       "  <th>Dep. Variable:</th>   <td>Would_live_in_another_neighborhood</td> <th>  No. Observations:  </th>  <td> 12758</td> \n",
       "</tr>\n",
       "<tr>\n",
       "  <th>Model:</th>                           <td>GLM</td>                <th>  Df Residuals:      </th>  <td> 12742</td> \n",
       "</tr>\n",
       "<tr>\n",
       "  <th>Model Family:</th>                 <td>Binomial</td>              <th>  Df Model:          </th>  <td>    15</td> \n",
       "</tr>\n",
       "<tr>\n",
       "  <th>Link Function:</th>                  <td>logit</td>               <th>  Scale:             </th> <td>  1.0000</td>\n",
       "</tr>\n",
       "<tr>\n",
       "  <th>Method:</th>                         <td>IRLS</td>                <th>  Log-Likelihood:    </th> <td> -3724.1</td>\n",
       "</tr>\n",
       "<tr>\n",
       "  <th>Date:</th>                     <td>Sun, 09 May 2021</td>          <th>  Deviance:          </th> <td>  7448.2</td>\n",
       "</tr>\n",
       "<tr>\n",
       "  <th>Time:</th>                         <td>17:49:49</td>              <th>  Pearson chi2:      </th> <td>1.29e+04</td>\n",
       "</tr>\n",
       "<tr>\n",
       "  <th>No. Iterations:</th>                   <td>6</td>                 <th>                     </th>     <td> </td>   \n",
       "</tr>\n",
       "<tr>\n",
       "  <th>Covariance Type:</th>              <td>nonrobust</td>             <th>                     </th>     <td> </td>   \n",
       "</tr>\n",
       "</table>\n",
       "<table class=\"simpletable\">\n",
       "<tr>\n",
       "                                <td></td>                                  <th>coef</th>     <th>std err</th>      <th>z</th>      <th>P>|z|</th>  <th>[0.025</th>    <th>0.975]</th>  \n",
       "</tr>\n",
       "<tr>\n",
       "  <th>const</th>                                                        <td>   -2.3482</td> <td>    0.118</td> <td>  -19.848</td> <td> 0.000</td> <td>   -2.580</td> <td>   -2.116</td>\n",
       "</tr>\n",
       "<tr>\n",
       "  <th>Car</th>                                                          <td>    0.1605</td> <td>    0.067</td> <td>    2.390</td> <td> 0.017</td> <td>    0.029</td> <td>    0.292</td>\n",
       "</tr>\n",
       "<tr>\n",
       "  <th>Barri_problem_with_streets_cleaning</th>                          <td>   -0.1818</td> <td>    0.116</td> <td>   -1.561</td> <td> 0.118</td> <td>   -0.410</td> <td>    0.046</td>\n",
       "</tr>\n",
       "<tr>\n",
       "  <th>BCN_over_barri_satisfaction</th>                                  <td>    0.4741</td> <td>    0.141</td> <td>    3.363</td> <td> 0.001</td> <td>    0.198</td> <td>    0.750</td>\n",
       "</tr>\n",
       "<tr>\n",
       "  <th>BCN_over_barri_security</th>                                      <td>    0.4386</td> <td>    0.116</td> <td>    3.776</td> <td> 0.000</td> <td>    0.211</td> <td>    0.666</td>\n",
       "</tr>\n",
       "<tr>\n",
       "  <th>No_of_people_in_the_house_FOUR OR MORE</th>                       <td>   -0.4121</td> <td>    0.162</td> <td>   -2.544</td> <td> 0.011</td> <td>   -0.730</td> <td>   -0.095</td>\n",
       "</tr>\n",
       "<tr>\n",
       "  <th>No_of_people_in_the_house_THREE</th>                              <td>   -0.1908</td> <td>    0.114</td> <td>   -1.679</td> <td> 0.093</td> <td>   -0.413</td> <td>    0.032</td>\n",
       "</tr>\n",
       "<tr>\n",
       "  <th>No_of_people_in_the_house_TWO</th>                                <td>   -0.0348</td> <td>    0.075</td> <td>   -0.463</td> <td> 0.644</td> <td>   -0.182</td> <td>    0.113</td>\n",
       "</tr>\n",
       "<tr>\n",
       "  <th>Time_living_in_barri_I HAVE ALWAYS LIVED IN THE NEIGHBORHOOD</th> <td>   -1.3859</td> <td>    0.140</td> <td>   -9.893</td> <td> 0.000</td> <td>   -1.660</td> <td>   -1.111</td>\n",
       "</tr>\n",
       "<tr>\n",
       "  <th>Time_living_in_barri_MORE THAN 10 YEARS</th>                      <td>   -0.9134</td> <td>    0.105</td> <td>   -8.700</td> <td> 0.000</td> <td>   -1.119</td> <td>   -0.708</td>\n",
       "</tr>\n",
       "<tr>\n",
       "  <th>Barri_satisfaction_FAIRLY SATISFIED</th>                          <td>    0.8317</td> <td>    0.124</td> <td>    6.692</td> <td> 0.000</td> <td>    0.588</td> <td>    1.075</td>\n",
       "</tr>\n",
       "<tr>\n",
       "  <th>Barri_satisfaction_NOT SATISFIED</th>                             <td>    1.7638</td> <td>    0.237</td> <td>    7.458</td> <td> 0.000</td> <td>    1.300</td> <td>    2.227</td>\n",
       "</tr>\n",
       "<tr>\n",
       "  <th>Barri_comparison_NEITHER THE BEST, NOR THE WORST</th>             <td>    1.3400</td> <td>    0.070</td> <td>   19.022</td> <td> 0.000</td> <td>    1.202</td> <td>    1.478</td>\n",
       "</tr>\n",
       "<tr>\n",
       "  <th>Barri_comparison_ONE OF THE WORST</th>                            <td>    2.3881</td> <td>    0.122</td> <td>   19.604</td> <td> 0.000</td> <td>    2.149</td> <td>    2.627</td>\n",
       "</tr>\n",
       "<tr>\n",
       "  <th>Barri_transport_BAD</th>                                          <td>    0.2444</td> <td>    0.088</td> <td>    2.762</td> <td> 0.006</td> <td>    0.071</td> <td>    0.418</td>\n",
       "</tr>\n",
       "<tr>\n",
       "  <th>Barri_transport_NEITHER BAD, NOR GOOD</th>                        <td>    0.1575</td> <td>    0.099</td> <td>    1.590</td> <td> 0.112</td> <td>   -0.037</td> <td>    0.352</td>\n",
       "</tr>\n",
       "</table>"
      ],
      "text/plain": [
       "<class 'statsmodels.iolib.summary.Summary'>\n",
       "\"\"\"\n",
       "                         Generalized Linear Model Regression Results                          \n",
       "==============================================================================================\n",
       "Dep. Variable:     Would_live_in_another_neighborhood   No. Observations:                12758\n",
       "Model:                                            GLM   Df Residuals:                    12742\n",
       "Model Family:                                Binomial   Df Model:                           15\n",
       "Link Function:                                  logit   Scale:                          1.0000\n",
       "Method:                                          IRLS   Log-Likelihood:                -3724.1\n",
       "Date:                                Sun, 09 May 2021   Deviance:                       7448.2\n",
       "Time:                                        17:49:49   Pearson chi2:                 1.29e+04\n",
       "No. Iterations:                                     6                                         \n",
       "Covariance Type:                            nonrobust                                         \n",
       "================================================================================================================================\n",
       "                                                                   coef    std err          z      P>|z|      [0.025      0.975]\n",
       "--------------------------------------------------------------------------------------------------------------------------------\n",
       "const                                                           -2.3482      0.118    -19.848      0.000      -2.580      -2.116\n",
       "Car                                                              0.1605      0.067      2.390      0.017       0.029       0.292\n",
       "Barri_problem_with_streets_cleaning                             -0.1818      0.116     -1.561      0.118      -0.410       0.046\n",
       "BCN_over_barri_satisfaction                                      0.4741      0.141      3.363      0.001       0.198       0.750\n",
       "BCN_over_barri_security                                          0.4386      0.116      3.776      0.000       0.211       0.666\n",
       "No_of_people_in_the_house_FOUR OR MORE                          -0.4121      0.162     -2.544      0.011      -0.730      -0.095\n",
       "No_of_people_in_the_house_THREE                                 -0.1908      0.114     -1.679      0.093      -0.413       0.032\n",
       "No_of_people_in_the_house_TWO                                   -0.0348      0.075     -0.463      0.644      -0.182       0.113\n",
       "Time_living_in_barri_I HAVE ALWAYS LIVED IN THE NEIGHBORHOOD    -1.3859      0.140     -9.893      0.000      -1.660      -1.111\n",
       "Time_living_in_barri_MORE THAN 10 YEARS                         -0.9134      0.105     -8.700      0.000      -1.119      -0.708\n",
       "Barri_satisfaction_FAIRLY SATISFIED                              0.8317      0.124      6.692      0.000       0.588       1.075\n",
       "Barri_satisfaction_NOT SATISFIED                                 1.7638      0.237      7.458      0.000       1.300       2.227\n",
       "Barri_comparison_NEITHER THE BEST, NOR THE WORST                 1.3400      0.070     19.022      0.000       1.202       1.478\n",
       "Barri_comparison_ONE OF THE WORST                                2.3881      0.122     19.604      0.000       2.149       2.627\n",
       "Barri_transport_BAD                                              0.2444      0.088      2.762      0.006       0.071       0.418\n",
       "Barri_transport_NEITHER BAD, NOR GOOD                            0.1575      0.099      1.590      0.112      -0.037       0.352\n",
       "================================================================================================================================\n",
       "\"\"\""
      ]
     },
     "execution_count": 31,
     "metadata": {},
     "output_type": "execute_result"
    }
   ],
   "source": [
    "glm_logit = sm.GLM(y, x, family=sm.families.Binomial())\n",
    "glm_logit_results = glm_logit.fit()\n",
    "glm_logit_results.summary()"
   ]
  },
  {
   "cell_type": "code",
   "execution_count": 32,
   "metadata": {},
   "outputs": [
    {
     "data": {
      "text/plain": [
       "7480.211507162316"
      ]
     },
     "execution_count": 32,
     "metadata": {},
     "output_type": "execute_result"
    }
   ],
   "source": [
    "glm_logit_results.aic"
   ]
  },
  {
   "cell_type": "code",
   "execution_count": 33,
   "metadata": {},
   "outputs": [
    {
     "name": "stderr",
     "output_type": "stream",
     "text": [
      "C:\\Users\\THINK\\anaconda3\\lib\\site-packages\\statsmodels\\genmod\\generalized_linear_model.py:1731: FutureWarning: The bic value is computed using the deviance formula. After 0.13 this will change to the log-likelihood based formula. This change has no impact on the relative rank of models compared using BIC. You can directly access the log-likelihood version using the `bic_llf` attribute. You can suppress this message by calling statsmodels.genmod.generalized_linear_model.SET_USE_BIC_LLF with True to get the LLF-based version now or False to retainthe deviance version.\n",
      "  FutureWarning\n"
     ]
    },
    {
     "data": {
      "text/plain": [
       "-113013.5581936235"
      ]
     },
     "execution_count": 33,
     "metadata": {},
     "output_type": "execute_result"
    }
   ],
   "source": [
    "glm_logit_results.bic"
   ]
  },
  {
   "cell_type": "code",
   "execution_count": 34,
   "metadata": {},
   "outputs": [
    {
     "data": {
      "text/plain": [
       "No_of_people_in_the_house_TWO                                   6.436139e-01\n",
       "Barri_problem_with_streets_cleaning                             1.184761e-01\n",
       "Barri_transport_NEITHER BAD, NOR GOOD                           1.119240e-01\n",
       "No_of_people_in_the_house_THREE                                 9.307913e-02\n",
       "Car                                                             1.685848e-02\n",
       "No_of_people_in_the_house_FOUR OR MORE                          1.095798e-02\n",
       "Barri_transport_BAD                                             5.747085e-03\n",
       "BCN_over_barri_satisfaction                                     7.698903e-04\n",
       "BCN_over_barri_security                                         1.595370e-04\n",
       "Barri_satisfaction_FAIRLY SATISFIED                             2.203204e-11\n",
       "Barri_satisfaction_NOT SATISFIED                                8.805348e-14\n",
       "Time_living_in_barri_MORE THAN 10 YEARS                         3.328150e-18\n",
       "Time_living_in_barri_I HAVE ALWAYS LIVED IN THE NEIGHBORHOOD    4.466221e-23\n",
       "Barri_comparison_NEITHER THE BEST, NOR THE WORST                1.116595e-80\n",
       "Barri_comparison_ONE OF THE WORST                               1.415921e-85\n",
       "const                                                           1.143203e-87\n",
       "dtype: float64"
      ]
     },
     "execution_count": 34,
     "metadata": {},
     "output_type": "execute_result"
    }
   ],
   "source": [
    "glm_logit_results.pvalues.sort_values(ascending=False)"
   ]
  },
  {
   "cell_type": "code",
   "execution_count": null,
   "metadata": {},
   "outputs": [],
   "source": []
  },
  {
   "cell_type": "code",
   "execution_count": 35,
   "metadata": {},
   "outputs": [],
   "source": [
    "def glm_classification_table(results):\n",
    "    df_classification_table = pd.DataFrame(y).join(pd.DataFrame(results.predict(x).round()))\n",
    "    df_classification_table.rename(columns={'Would_live_in_another_neighborhood': 'y', 0: 'y_predict'}, inplace=True)\n",
    "    return pd.crosstab(df_classification_table['y'], df_classification_table['y_predict'])"
   ]
  },
  {
   "cell_type": "code",
   "execution_count": 36,
   "metadata": {},
   "outputs": [
    {
     "data": {
      "text/html": [
       "<div>\n",
       "<style scoped>\n",
       "    .dataframe tbody tr th:only-of-type {\n",
       "        vertical-align: middle;\n",
       "    }\n",
       "\n",
       "    .dataframe tbody tr th {\n",
       "        vertical-align: top;\n",
       "    }\n",
       "\n",
       "    .dataframe thead th {\n",
       "        text-align: right;\n",
       "    }\n",
       "</style>\n",
       "<table border=\"1\" class=\"dataframe\">\n",
       "  <thead>\n",
       "    <tr style=\"text-align: right;\">\n",
       "      <th>y_predict</th>\n",
       "      <th>0.0</th>\n",
       "      <th>1.0</th>\n",
       "    </tr>\n",
       "    <tr>\n",
       "      <th>y</th>\n",
       "      <th></th>\n",
       "      <th></th>\n",
       "    </tr>\n",
       "  </thead>\n",
       "  <tbody>\n",
       "    <tr>\n",
       "      <th>0.0</th>\n",
       "      <td>11246</td>\n",
       "      <td>94</td>\n",
       "    </tr>\n",
       "    <tr>\n",
       "      <th>1.0</th>\n",
       "      <td>1190</td>\n",
       "      <td>228</td>\n",
       "    </tr>\n",
       "  </tbody>\n",
       "</table>\n",
       "</div>"
      ],
      "text/plain": [
       "y_predict    0.0  1.0\n",
       "y                    \n",
       "0.0        11246   94\n",
       "1.0         1190  228"
      ]
     },
     "execution_count": 36,
     "metadata": {},
     "output_type": "execute_result"
    }
   ],
   "source": [
    "glm_classification_table(glm_logit_results)"
   ]
  },
  {
   "cell_type": "code",
   "execution_count": null,
   "metadata": {},
   "outputs": [],
   "source": []
  },
  {
   "cell_type": "code",
   "execution_count": 37,
   "metadata": {},
   "outputs": [],
   "source": [
    "def plot_roc_auc(results):\n",
    "    y_predict = results.predict(x)\n",
    "    roc_auc = roc_auc_score(y, y_predict)\n",
    "    fpr, tpr, thresholds = roc_curve(y, y_predict)\n",
    "    plt.figure()\n",
    "    plt.plot(fpr, tpr, label='Logistic Regression (area = %0.2f)' % roc_auc)\n",
    "    plt.plot([0, 1], [0, 1],'r--')\n",
    "    plt.xlim([0.0, 1.0])\n",
    "    plt.ylim([0.0, 1.05])\n",
    "    plt.xlabel('False Positive Rate')\n",
    "    plt.ylabel('True Positive Rate')\n",
    "    plt.title('Receiver operating characteristic')\n",
    "    plt.legend(loc=\"lower right\")\n",
    "    plt.show()"
   ]
  },
  {
   "cell_type": "code",
   "execution_count": 38,
   "metadata": {},
   "outputs": [
    {
     "data": {
      "image/png": "[encoded data removed]",
      "text/plain": [
       "<Figure size 432x288 with 1 Axes>"
      ]
     },
     "metadata": {
      "needs_background": "light"
     },
     "output_type": "display_data"
    }
   ],
   "source": [
    "plot_roc_auc(glm_logit_results)"
   ]
  },
  {
   "cell_type": "code",
   "execution_count": null,
   "metadata": {},
   "outputs": [],
   "source": []
  },
  {
   "cell_type": "code",
   "execution_count": 39,
   "metadata": {},
   "outputs": [],
   "source": [
    "def odds_ratios(results):\n",
    "    return np.exp(results.params)"
   ]
  },
  {
   "cell_type": "code",
   "execution_count": 40,
   "metadata": {
    "scrolled": true
   },
   "outputs": [
    {
     "data": {
      "text/plain": [
       "const                                                            0.095541\n",
       "Car                                                              1.174114\n",
       "Barri_problem_with_streets_cleaning                              0.833785\n",
       "BCN_over_barri_satisfaction                                      1.606523\n",
       "BCN_over_barri_security                                          1.550460\n",
       "No_of_people_in_the_house_FOUR OR MORE                           0.662270\n",
       "No_of_people_in_the_house_THREE                                  0.826305\n",
       "No_of_people_in_the_house_TWO                                    0.965828\n",
       "Time_living_in_barri_I HAVE ALWAYS LIVED IN THE NEIGHBORHOOD     0.250094\n",
       "Time_living_in_barri_MORE THAN 10 YEARS                          0.401162\n",
       "Barri_satisfaction_FAIRLY SATISFIED                              2.297303\n",
       "Barri_satisfaction_NOT SATISFIED                                 5.834555\n",
       "Barri_comparison_NEITHER THE BEST, NOR THE WORST                 3.819012\n",
       "Barri_comparison_ONE OF THE WORST                               10.892750\n",
       "Barri_transport_BAD                                              1.276856\n",
       "Barri_transport_NEITHER BAD, NOR GOOD                            1.170585\n",
       "dtype: float64"
      ]
     },
     "execution_count": 40,
     "metadata": {},
     "output_type": "execute_result"
    }
   ],
   "source": [
    "odds_ratios(glm_logit_results)"
   ]
  },
  {
   "cell_type": "code",
   "execution_count": null,
   "metadata": {},
   "outputs": [],
   "source": []
  },
  {
   "cell_type": "code",
   "execution_count": 41,
   "metadata": {},
   "outputs": [],
   "source": [
    "def pseudo_r2(results):\n",
    "    return (1 - results.llf / results.llnull)"
   ]
  },
  {
   "cell_type": "code",
   "execution_count": 42,
   "metadata": {},
   "outputs": [
    {
     "data": {
      "text/plain": [
       "0.16337122249477742"
      ]
     },
     "execution_count": 42,
     "metadata": {},
     "output_type": "execute_result"
    }
   ],
   "source": [
    "pseudo_r2(glm_logit_results)"
   ]
  },
  {
   "cell_type": "code",
   "execution_count": null,
   "metadata": {},
   "outputs": [],
   "source": []
  },
  {
   "cell_type": "code",
   "execution_count": 43,
   "metadata": {},
   "outputs": [],
   "source": [
    "def adj_count_r2(results):\n",
    "    df_classification_table = pd.DataFrame(y).join(pd.DataFrame(results.predict(x).round()))\n",
    "    df_classification_table.rename(columns={'Would_live_in_another_neighborhood': 'y', 0: 'y_predict'}, inplace=True)\n",
    "    df = pd.crosstab(df_classification_table['y'], df_classification_table['y_predict'])\n",
    "    return round((df[0][0] + df[1][1] - (df[0][0]+df[1][0]))/(df[0][1]+df[1][1]),3)"
   ]
  },
  {
   "cell_type": "code",
   "execution_count": 44,
   "metadata": {},
   "outputs": [
    {
     "data": {
      "text/plain": [
       "0.094"
      ]
     },
     "execution_count": 44,
     "metadata": {},
     "output_type": "execute_result"
    }
   ],
   "source": [
    "adj_count_r2(glm_logit_results)"
   ]
  },
  {
   "cell_type": "code",
   "execution_count": null,
   "metadata": {},
   "outputs": [],
   "source": []
  },
  {
   "cell_type": "code",
   "execution_count": 45,
   "metadata": {},
   "outputs": [
    {
     "data": {
      "text/plain": [
       "0.10774375660360092"
      ]
     },
     "execution_count": 45,
     "metadata": {},
     "output_type": "execute_result"
    }
   ],
   "source": [
    "1 - np.exp((glm_logit_results.llnull - glm_logit_results.llf)*(2/glm_logit_results.nobs))"
   ]
  },
  {
   "cell_type": "markdown",
   "metadata": {},
   "source": [
    "# Probit"
   ]
  },
  {
   "cell_type": "code",
   "execution_count": 46,
   "metadata": {},
   "outputs": [
    {
     "name": "stderr",
     "output_type": "stream",
     "text": [
      "C:\\Users\\THINK\\anaconda3\\lib\\site-packages\\ipykernel_launcher.py:1: DeprecationWarning: Calling Family(..) with a link class as argument is deprecated.\n",
      "Use an instance of a link class instead.\n",
      "  \"\"\"Entry point for launching an IPython kernel.\n"
     ]
    },
    {
     "data": {
      "text/html": [
       "<table class=\"simpletable\">\n",
       "<caption>Generalized Linear Model Regression Results</caption>\n",
       "<tr>\n",
       "  <th>Dep. Variable:</th>   <td>Would_live_in_another_neighborhood</td> <th>  No. Observations:  </th>  <td> 12758</td> \n",
       "</tr>\n",
       "<tr>\n",
       "  <th>Model:</th>                           <td>GLM</td>                <th>  Df Residuals:      </th>  <td> 12742</td> \n",
       "</tr>\n",
       "<tr>\n",
       "  <th>Model Family:</th>                 <td>Binomial</td>              <th>  Df Model:          </th>  <td>    15</td> \n",
       "</tr>\n",
       "<tr>\n",
       "  <th>Link Function:</th>                 <td>probit</td>               <th>  Scale:             </th> <td>  1.0000</td>\n",
       "</tr>\n",
       "<tr>\n",
       "  <th>Method:</th>                         <td>IRLS</td>                <th>  Log-Likelihood:    </th> <td> -3727.4</td>\n",
       "</tr>\n",
       "<tr>\n",
       "  <th>Date:</th>                     <td>Sun, 09 May 2021</td>          <th>  Deviance:          </th> <td>  7454.9</td>\n",
       "</tr>\n",
       "<tr>\n",
       "  <th>Time:</th>                         <td>17:50:35</td>              <th>  Pearson chi2:      </th> <td>1.30e+04</td>\n",
       "</tr>\n",
       "<tr>\n",
       "  <th>No. Iterations:</th>                   <td>7</td>                 <th>                     </th>     <td> </td>   \n",
       "</tr>\n",
       "<tr>\n",
       "  <th>Covariance Type:</th>              <td>nonrobust</td>             <th>                     </th>     <td> </td>   \n",
       "</tr>\n",
       "</table>\n",
       "<table class=\"simpletable\">\n",
       "<tr>\n",
       "                                <td></td>                                  <th>coef</th>     <th>std err</th>      <th>z</th>      <th>P>|z|</th>  <th>[0.025</th>    <th>0.975]</th>  \n",
       "</tr>\n",
       "<tr>\n",
       "  <th>const</th>                                                        <td>   -1.3201</td> <td>    0.064</td> <td>  -20.734</td> <td> 0.000</td> <td>   -1.445</td> <td>   -1.195</td>\n",
       "</tr>\n",
       "<tr>\n",
       "  <th>Car</th>                                                          <td>    0.0816</td> <td>    0.035</td> <td>    2.320</td> <td> 0.020</td> <td>    0.013</td> <td>    0.151</td>\n",
       "</tr>\n",
       "<tr>\n",
       "  <th>Barri_problem_with_streets_cleaning</th>                          <td>   -0.1005</td> <td>    0.061</td> <td>   -1.659</td> <td> 0.097</td> <td>   -0.219</td> <td>    0.018</td>\n",
       "</tr>\n",
       "<tr>\n",
       "  <th>BCN_over_barri_satisfaction</th>                                  <td>    0.2742</td> <td>    0.083</td> <td>    3.295</td> <td> 0.001</td> <td>    0.111</td> <td>    0.437</td>\n",
       "</tr>\n",
       "<tr>\n",
       "  <th>BCN_over_barri_security</th>                                      <td>    0.2423</td> <td>    0.065</td> <td>    3.732</td> <td> 0.000</td> <td>    0.115</td> <td>    0.370</td>\n",
       "</tr>\n",
       "<tr>\n",
       "  <th>No_of_people_in_the_house_FOUR OR MORE</th>                       <td>   -0.1948</td> <td>    0.084</td> <td>   -2.327</td> <td> 0.020</td> <td>   -0.359</td> <td>   -0.031</td>\n",
       "</tr>\n",
       "<tr>\n",
       "  <th>No_of_people_in_the_house_THREE</th>                              <td>   -0.1014</td> <td>    0.059</td> <td>   -1.713</td> <td> 0.087</td> <td>   -0.217</td> <td>    0.015</td>\n",
       "</tr>\n",
       "<tr>\n",
       "  <th>No_of_people_in_the_house_TWO</th>                                <td>   -0.0160</td> <td>    0.039</td> <td>   -0.407</td> <td> 0.684</td> <td>   -0.093</td> <td>    0.061</td>\n",
       "</tr>\n",
       "<tr>\n",
       "  <th>Time_living_in_barri_I HAVE ALWAYS LIVED IN THE NEIGHBORHOOD</th> <td>   -0.7259</td> <td>    0.074</td> <td>   -9.759</td> <td> 0.000</td> <td>   -0.872</td> <td>   -0.580</td>\n",
       "</tr>\n",
       "<tr>\n",
       "  <th>Time_living_in_barri_MORE THAN 10 YEARS</th>                      <td>   -0.4803</td> <td>    0.058</td> <td>   -8.219</td> <td> 0.000</td> <td>   -0.595</td> <td>   -0.366</td>\n",
       "</tr>\n",
       "<tr>\n",
       "  <th>Barri_satisfaction_FAIRLY SATISFIED</th>                          <td>    0.4663</td> <td>    0.072</td> <td>    6.450</td> <td> 0.000</td> <td>    0.325</td> <td>    0.608</td>\n",
       "</tr>\n",
       "<tr>\n",
       "  <th>Barri_satisfaction_NOT SATISFIED</th>                             <td>    1.0269</td> <td>    0.140</td> <td>    7.349</td> <td> 0.000</td> <td>    0.753</td> <td>    1.301</td>\n",
       "</tr>\n",
       "<tr>\n",
       "  <th>Barri_comparison_NEITHER THE BEST, NOR THE WORST</th>             <td>    0.6701</td> <td>    0.034</td> <td>   19.438</td> <td> 0.000</td> <td>    0.602</td> <td>    0.738</td>\n",
       "</tr>\n",
       "<tr>\n",
       "  <th>Barri_comparison_ONE OF THE WORST</th>                            <td>    1.2960</td> <td>    0.070</td> <td>   18.576</td> <td> 0.000</td> <td>    1.159</td> <td>    1.433</td>\n",
       "</tr>\n",
       "<tr>\n",
       "  <th>Barri_transport_BAD</th>                                          <td>    0.1309</td> <td>    0.048</td> <td>    2.748</td> <td> 0.006</td> <td>    0.038</td> <td>    0.224</td>\n",
       "</tr>\n",
       "<tr>\n",
       "  <th>Barri_transport_NEITHER BAD, NOR GOOD</th>                        <td>    0.0814</td> <td>    0.053</td> <td>    1.531</td> <td> 0.126</td> <td>   -0.023</td> <td>    0.186</td>\n",
       "</tr>\n",
       "</table>"
      ],
      "text/plain": [
       "<class 'statsmodels.iolib.summary.Summary'>\n",
       "\"\"\"\n",
       "                         Generalized Linear Model Regression Results                          \n",
       "==============================================================================================\n",
       "Dep. Variable:     Would_live_in_another_neighborhood   No. Observations:                12758\n",
       "Model:                                            GLM   Df Residuals:                    12742\n",
       "Model Family:                                Binomial   Df Model:                           15\n",
       "Link Function:                                 probit   Scale:                          1.0000\n",
       "Method:                                          IRLS   Log-Likelihood:                -3727.4\n",
       "Date:                                Sun, 09 May 2021   Deviance:                       7454.9\n",
       "Time:                                        17:50:35   Pearson chi2:                 1.30e+04\n",
       "No. Iterations:                                     7                                         \n",
       "Covariance Type:                            nonrobust                                         \n",
       "================================================================================================================================\n",
       "                                                                   coef    std err          z      P>|z|      [0.025      0.975]\n",
       "--------------------------------------------------------------------------------------------------------------------------------\n",
       "const                                                           -1.3201      0.064    -20.734      0.000      -1.445      -1.195\n",
       "Car                                                              0.0816      0.035      2.320      0.020       0.013       0.151\n",
       "Barri_problem_with_streets_cleaning                             -0.1005      0.061     -1.659      0.097      -0.219       0.018\n",
       "BCN_over_barri_satisfaction                                      0.2742      0.083      3.295      0.001       0.111       0.437\n",
       "BCN_over_barri_security                                          0.2423      0.065      3.732      0.000       0.115       0.370\n",
       "No_of_people_in_the_house_FOUR OR MORE                          -0.1948      0.084     -2.327      0.020      -0.359      -0.031\n",
       "No_of_people_in_the_house_THREE                                 -0.1014      0.059     -1.713      0.087      -0.217       0.015\n",
       "No_of_people_in_the_house_TWO                                   -0.0160      0.039     -0.407      0.684      -0.093       0.061\n",
       "Time_living_in_barri_I HAVE ALWAYS LIVED IN THE NEIGHBORHOOD    -0.7259      0.074     -9.759      0.000      -0.872      -0.580\n",
       "Time_living_in_barri_MORE THAN 10 YEARS                         -0.4803      0.058     -8.219      0.000      -0.595      -0.366\n",
       "Barri_satisfaction_FAIRLY SATISFIED                              0.4663      0.072      6.450      0.000       0.325       0.608\n",
       "Barri_satisfaction_NOT SATISFIED                                 1.0269      0.140      7.349      0.000       0.753       1.301\n",
       "Barri_comparison_NEITHER THE BEST, NOR THE WORST                 0.6701      0.034     19.438      0.000       0.602       0.738\n",
       "Barri_comparison_ONE OF THE WORST                                1.2960      0.070     18.576      0.000       1.159       1.433\n",
       "Barri_transport_BAD                                              0.1309      0.048      2.748      0.006       0.038       0.224\n",
       "Barri_transport_NEITHER BAD, NOR GOOD                            0.0814      0.053      1.531      0.126      -0.023       0.186\n",
       "================================================================================================================================\n",
       "\"\"\""
      ]
     },
     "execution_count": 46,
     "metadata": {},
     "output_type": "execute_result"
    }
   ],
   "source": [
    "glm_probit = sm.GLM(y, x, family=sm.families.Binomial(link=sm.genmod.families.links.probit))\n",
    "glm_probit_results = glm_probit.fit()\n",
    "glm_probit_results.summary()"
   ]
  },
  {
   "cell_type": "code",
   "execution_count": 47,
   "metadata": {},
   "outputs": [
    {
     "data": {
      "text/plain": [
       "7486.872685917488"
      ]
     },
     "execution_count": 47,
     "metadata": {},
     "output_type": "execute_result"
    }
   ],
   "source": [
    "glm_probit_results.aic"
   ]
  },
  {
   "cell_type": "code",
   "execution_count": 48,
   "metadata": {},
   "outputs": [
    {
     "name": "stderr",
     "output_type": "stream",
     "text": [
      "C:\\Users\\THINK\\anaconda3\\lib\\site-packages\\statsmodels\\genmod\\generalized_linear_model.py:1731: FutureWarning: The bic value is computed using the deviance formula. After 0.13 this will change to the log-likelihood based formula. This change has no impact on the relative rank of models compared using BIC. You can directly access the log-likelihood version using the `bic_llf` attribute. You can suppress this message by calling statsmodels.genmod.generalized_linear_model.SET_USE_BIC_LLF with True to get the LLF-based version now or False to retainthe deviance version.\n",
      "  FutureWarning\n"
     ]
    },
    {
     "data": {
      "text/plain": [
       "-113006.89701486831"
      ]
     },
     "execution_count": 48,
     "metadata": {},
     "output_type": "execute_result"
    }
   ],
   "source": [
    "glm_probit_results.bic"
   ]
  },
  {
   "cell_type": "code",
   "execution_count": 49,
   "metadata": {},
   "outputs": [
    {
     "data": {
      "text/html": [
       "<div>\n",
       "<style scoped>\n",
       "    .dataframe tbody tr th:only-of-type {\n",
       "        vertical-align: middle;\n",
       "    }\n",
       "\n",
       "    .dataframe tbody tr th {\n",
       "        vertical-align: top;\n",
       "    }\n",
       "\n",
       "    .dataframe thead th {\n",
       "        text-align: right;\n",
       "    }\n",
       "</style>\n",
       "<table border=\"1\" class=\"dataframe\">\n",
       "  <thead>\n",
       "    <tr style=\"text-align: right;\">\n",
       "      <th>y_predict</th>\n",
       "      <th>0.0</th>\n",
       "      <th>1.0</th>\n",
       "    </tr>\n",
       "    <tr>\n",
       "      <th>y</th>\n",
       "      <th></th>\n",
       "      <th></th>\n",
       "    </tr>\n",
       "  </thead>\n",
       "  <tbody>\n",
       "    <tr>\n",
       "      <th>0.0</th>\n",
       "      <td>11253</td>\n",
       "      <td>87</td>\n",
       "    </tr>\n",
       "    <tr>\n",
       "      <th>1.0</th>\n",
       "      <td>1200</td>\n",
       "      <td>218</td>\n",
       "    </tr>\n",
       "  </tbody>\n",
       "</table>\n",
       "</div>"
      ],
      "text/plain": [
       "y_predict    0.0  1.0\n",
       "y                    \n",
       "0.0        11253   87\n",
       "1.0         1200  218"
      ]
     },
     "execution_count": 49,
     "metadata": {},
     "output_type": "execute_result"
    }
   ],
   "source": [
    "glm_classification_table(glm_probit_results)"
   ]
  },
  {
   "cell_type": "code",
   "execution_count": 50,
   "metadata": {},
   "outputs": [
    {
     "data": {
      "image/png": "[encoded data removed]",
      "text/plain": [
       "<Figure size 432x288 with 1 Axes>"
      ]
     },
     "metadata": {
      "needs_background": "light"
     },
     "output_type": "display_data"
    }
   ],
   "source": [
    "plot_roc_auc(glm_probit_results)"
   ]
  },
  {
   "cell_type": "code",
   "execution_count": 51,
   "metadata": {},
   "outputs": [
    {
     "data": {
      "text/plain": [
       "const                                                           0.267110\n",
       "Car                                                             1.085027\n",
       "Barri_problem_with_streets_cleaning                             0.904394\n",
       "BCN_over_barri_satisfaction                                     1.315517\n",
       "BCN_over_barri_security                                         1.274153\n",
       "No_of_people_in_the_house_FOUR OR MORE                          0.823004\n",
       "No_of_people_in_the_house_THREE                                 0.903578\n",
       "No_of_people_in_the_house_TWO                                   0.984083\n",
       "Time_living_in_barri_I HAVE ALWAYS LIVED IN THE NEIGHBORHOOD    0.483898\n",
       "Time_living_in_barri_MORE THAN 10 YEARS                         0.618601\n",
       "Barri_satisfaction_FAIRLY SATISFIED                             1.594079\n",
       "Barri_satisfaction_NOT SATISFIED                                2.792371\n",
       "Barri_comparison_NEITHER THE BEST, NOR THE WORST                1.954362\n",
       "Barri_comparison_ONE OF THE WORST                               3.654776\n",
       "Barri_transport_BAD                                             1.139829\n",
       "Barri_transport_NEITHER BAD, NOR GOOD                           1.084846\n",
       "dtype: float64"
      ]
     },
     "execution_count": 51,
     "metadata": {},
     "output_type": "execute_result"
    }
   ],
   "source": [
    "odds_ratios(glm_probit_results)"
   ]
  },
  {
   "cell_type": "code",
   "execution_count": 52,
   "metadata": {},
   "outputs": [
    {
     "data": {
      "text/plain": [
       "0.16262299806085512"
      ]
     },
     "execution_count": 52,
     "metadata": {},
     "output_type": "execute_result"
    }
   ],
   "source": [
    "pseudo_r2(glm_probit_results)"
   ]
  },
  {
   "cell_type": "code",
   "execution_count": 53,
   "metadata": {},
   "outputs": [
    {
     "data": {
      "text/plain": [
       "0.092"
      ]
     },
     "execution_count": 53,
     "metadata": {},
     "output_type": "execute_result"
    }
   ],
   "source": [
    "adj_count_r2(glm_probit_results)"
   ]
  },
  {
   "cell_type": "code",
   "execution_count": null,
   "metadata": {},
   "outputs": [],
   "source": []
  },
  {
   "cell_type": "markdown",
   "metadata": {},
   "source": [
    "# Scobit"
   ]
  },
  {
   "cell_type": "code",
   "execution_count": 54,
   "metadata": {
    "scrolled": false
   },
   "outputs": [
    {
     "name": "stderr",
     "output_type": "stream",
     "text": [
      "C:\\Users\\THINK\\anaconda3\\lib\\site-packages\\ipykernel_launcher.py:1: DeprecationWarning: Calling Family(..) with a link class as argument is deprecated.\n",
      "Use an instance of a link class instead.\n",
      "  \"\"\"Entry point for launching an IPython kernel.\n"
     ]
    },
    {
     "data": {
      "text/html": [
       "<table class=\"simpletable\">\n",
       "<caption>Generalized Linear Model Regression Results</caption>\n",
       "<tr>\n",
       "  <th>Dep. Variable:</th>   <td>Would_live_in_another_neighborhood</td> <th>  No. Observations:  </th>  <td> 12758</td> \n",
       "</tr>\n",
       "<tr>\n",
       "  <th>Model:</th>                           <td>GLM</td>                <th>  Df Residuals:      </th>  <td> 12742</td> \n",
       "</tr>\n",
       "<tr>\n",
       "  <th>Model Family:</th>                 <td>Binomial</td>              <th>  Df Model:          </th>  <td>    15</td> \n",
       "</tr>\n",
       "<tr>\n",
       "  <th>Link Function:</th>                 <td>cloglog</td>              <th>  Scale:             </th> <td>  1.0000</td>\n",
       "</tr>\n",
       "<tr>\n",
       "  <th>Method:</th>                         <td>IRLS</td>                <th>  Log-Likelihood:    </th> <td> -3728.4</td>\n",
       "</tr>\n",
       "<tr>\n",
       "  <th>Date:</th>                     <td>Sun, 09 May 2021</td>          <th>  Deviance:          </th> <td>  7456.8</td>\n",
       "</tr>\n",
       "<tr>\n",
       "  <th>Time:</th>                         <td>17:50:39</td>              <th>  Pearson chi2:      </th> <td>1.27e+04</td>\n",
       "</tr>\n",
       "<tr>\n",
       "  <th>No. Iterations:</th>                   <td>8</td>                 <th>                     </th>     <td> </td>   \n",
       "</tr>\n",
       "<tr>\n",
       "  <th>Covariance Type:</th>              <td>nonrobust</td>             <th>                     </th>     <td> </td>   \n",
       "</tr>\n",
       "</table>\n",
       "<table class=\"simpletable\">\n",
       "<tr>\n",
       "                                <td></td>                                  <th>coef</th>     <th>std err</th>      <th>z</th>      <th>P>|z|</th>  <th>[0.025</th>    <th>0.975]</th>  \n",
       "</tr>\n",
       "<tr>\n",
       "  <th>const</th>                                                        <td>   -2.4891</td> <td>    0.104</td> <td>  -23.994</td> <td> 0.000</td> <td>   -2.692</td> <td>   -2.286</td>\n",
       "</tr>\n",
       "<tr>\n",
       "  <th>Car</th>                                                          <td>    0.1460</td> <td>    0.059</td> <td>    2.471</td> <td> 0.013</td> <td>    0.030</td> <td>    0.262</td>\n",
       "</tr>\n",
       "<tr>\n",
       "  <th>Barri_problem_with_streets_cleaning</th>                          <td>   -0.1576</td> <td>    0.104</td> <td>   -1.512</td> <td> 0.131</td> <td>   -0.362</td> <td>    0.047</td>\n",
       "</tr>\n",
       "<tr>\n",
       "  <th>BCN_over_barri_satisfaction</th>                                  <td>    0.3495</td> <td>    0.110</td> <td>    3.172</td> <td> 0.002</td> <td>    0.134</td> <td>    0.566</td>\n",
       "</tr>\n",
       "<tr>\n",
       "  <th>BCN_over_barri_security</th>                                      <td>    0.3555</td> <td>    0.095</td> <td>    3.758</td> <td> 0.000</td> <td>    0.170</td> <td>    0.541</td>\n",
       "</tr>\n",
       "<tr>\n",
       "  <th>No_of_people_in_the_house_FOUR OR MORE</th>                       <td>   -0.3761</td> <td>    0.145</td> <td>   -2.589</td> <td> 0.010</td> <td>   -0.661</td> <td>   -0.091</td>\n",
       "</tr>\n",
       "<tr>\n",
       "  <th>No_of_people_in_the_house_THREE</th>                              <td>   -0.1549</td> <td>    0.101</td> <td>   -1.539</td> <td> 0.124</td> <td>   -0.352</td> <td>    0.042</td>\n",
       "</tr>\n",
       "<tr>\n",
       "  <th>No_of_people_in_the_house_TWO</th>                                <td>   -0.0177</td> <td>    0.066</td> <td>   -0.267</td> <td> 0.789</td> <td>   -0.147</td> <td>    0.112</td>\n",
       "</tr>\n",
       "<tr>\n",
       "  <th>Time_living_in_barri_I HAVE ALWAYS LIVED IN THE NEIGHBORHOOD</th> <td>   -1.1827</td> <td>    0.122</td> <td>   -9.727</td> <td> 0.000</td> <td>   -1.421</td> <td>   -0.944</td>\n",
       "</tr>\n",
       "<tr>\n",
       "  <th>Time_living_in_barri_MORE THAN 10 YEARS</th>                      <td>   -0.7635</td> <td>    0.088</td> <td>   -8.678</td> <td> 0.000</td> <td>   -0.936</td> <td>   -0.591</td>\n",
       "</tr>\n",
       "<tr>\n",
       "  <th>Barri_satisfaction_FAIRLY SATISFIED</th>                          <td>    0.7704</td> <td>    0.101</td> <td>    7.600</td> <td> 0.000</td> <td>    0.572</td> <td>    0.969</td>\n",
       "</tr>\n",
       "<tr>\n",
       "  <th>Barri_satisfaction_NOT SATISFIED</th>                             <td>    1.2599</td> <td>    0.164</td> <td>    7.679</td> <td> 0.000</td> <td>    0.938</td> <td>    1.581</td>\n",
       "</tr>\n",
       "<tr>\n",
       "  <th>Barri_comparison_NEITHER THE BEST, NOR THE WORST</th>             <td>    1.2693</td> <td>    0.067</td> <td>   19.008</td> <td> 0.000</td> <td>    1.138</td> <td>    1.400</td>\n",
       "</tr>\n",
       "<tr>\n",
       "  <th>Barri_comparison_ONE OF THE WORST</th>                            <td>    2.0568</td> <td>    0.099</td> <td>   20.762</td> <td> 0.000</td> <td>    1.863</td> <td>    2.251</td>\n",
       "</tr>\n",
       "<tr>\n",
       "  <th>Barri_transport_BAD</th>                                          <td>    0.2071</td> <td>    0.076</td> <td>    2.739</td> <td> 0.006</td> <td>    0.059</td> <td>    0.355</td>\n",
       "</tr>\n",
       "<tr>\n",
       "  <th>Barri_transport_NEITHER BAD, NOR GOOD</th>                        <td>    0.1208</td> <td>    0.086</td> <td>    1.412</td> <td> 0.158</td> <td>   -0.047</td> <td>    0.289</td>\n",
       "</tr>\n",
       "</table>"
      ],
      "text/plain": [
       "<class 'statsmodels.iolib.summary.Summary'>\n",
       "\"\"\"\n",
       "                         Generalized Linear Model Regression Results                          \n",
       "==============================================================================================\n",
       "Dep. Variable:     Would_live_in_another_neighborhood   No. Observations:                12758\n",
       "Model:                                            GLM   Df Residuals:                    12742\n",
       "Model Family:                                Binomial   Df Model:                           15\n",
       "Link Function:                                cloglog   Scale:                          1.0000\n",
       "Method:                                          IRLS   Log-Likelihood:                -3728.4\n",
       "Date:                                Sun, 09 May 2021   Deviance:                       7456.8\n",
       "Time:                                        17:50:39   Pearson chi2:                 1.27e+04\n",
       "No. Iterations:                                     8                                         \n",
       "Covariance Type:                            nonrobust                                         \n",
       "================================================================================================================================\n",
       "                                                                   coef    std err          z      P>|z|      [0.025      0.975]\n",
       "--------------------------------------------------------------------------------------------------------------------------------\n",
       "const                                                           -2.4891      0.104    -23.994      0.000      -2.692      -2.286\n",
       "Car                                                              0.1460      0.059      2.471      0.013       0.030       0.262\n",
       "Barri_problem_with_streets_cleaning                             -0.1576      0.104     -1.512      0.131      -0.362       0.047\n",
       "BCN_over_barri_satisfaction                                      0.3495      0.110      3.172      0.002       0.134       0.566\n",
       "BCN_over_barri_security                                          0.3555      0.095      3.758      0.000       0.170       0.541\n",
       "No_of_people_in_the_house_FOUR OR MORE                          -0.3761      0.145     -2.589      0.010      -0.661      -0.091\n",
       "No_of_people_in_the_house_THREE                                 -0.1549      0.101     -1.539      0.124      -0.352       0.042\n",
       "No_of_people_in_the_house_TWO                                   -0.0177      0.066     -0.267      0.789      -0.147       0.112\n",
       "Time_living_in_barri_I HAVE ALWAYS LIVED IN THE NEIGHBORHOOD    -1.1827      0.122     -9.727      0.000      -1.421      -0.944\n",
       "Time_living_in_barri_MORE THAN 10 YEARS                         -0.7635      0.088     -8.678      0.000      -0.936      -0.591\n",
       "Barri_satisfaction_FAIRLY SATISFIED                              0.7704      0.101      7.600      0.000       0.572       0.969\n",
       "Barri_satisfaction_NOT SATISFIED                                 1.2599      0.164      7.679      0.000       0.938       1.581\n",
       "Barri_comparison_NEITHER THE BEST, NOR THE WORST                 1.2693      0.067     19.008      0.000       1.138       1.400\n",
       "Barri_comparison_ONE OF THE WORST                                2.0568      0.099     20.762      0.000       1.863       2.251\n",
       "Barri_transport_BAD                                              0.2071      0.076      2.739      0.006       0.059       0.355\n",
       "Barri_transport_NEITHER BAD, NOR GOOD                            0.1208      0.086      1.412      0.158      -0.047       0.289\n",
       "================================================================================================================================\n",
       "\"\"\""
      ]
     },
     "execution_count": 54,
     "metadata": {},
     "output_type": "execute_result"
    }
   ],
   "source": [
    "glm_scobit = sm.GLM(y, x, family=sm.families.Binomial(link=sm.genmod.families.links.cloglog))\n",
    "glm_scobit_results = glm_scobit.fit()\n",
    "glm_scobit_results.summary()"
   ]
  },
  {
   "cell_type": "code",
   "execution_count": 55,
   "metadata": {},
   "outputs": [
    {
     "data": {
      "text/plain": [
       "7488.834097264591"
      ]
     },
     "execution_count": 55,
     "metadata": {},
     "output_type": "execute_result"
    }
   ],
   "source": [
    "glm_scobit_results.aic"
   ]
  },
  {
   "cell_type": "code",
   "execution_count": 56,
   "metadata": {},
   "outputs": [
    {
     "name": "stderr",
     "output_type": "stream",
     "text": [
      "C:\\Users\\THINK\\anaconda3\\lib\\site-packages\\statsmodels\\genmod\\generalized_linear_model.py:1731: FutureWarning: The bic value is computed using the deviance formula. After 0.13 this will change to the log-likelihood based formula. This change has no impact on the relative rank of models compared using BIC. You can directly access the log-likelihood version using the `bic_llf` attribute. You can suppress this message by calling statsmodels.genmod.generalized_linear_model.SET_USE_BIC_LLF with True to get the LLF-based version now or False to retainthe deviance version.\n",
      "  FutureWarning\n"
     ]
    },
    {
     "data": {
      "text/plain": [
       "-113004.93560352121"
      ]
     },
     "execution_count": 56,
     "metadata": {},
     "output_type": "execute_result"
    }
   ],
   "source": [
    "glm_scobit_results.bic"
   ]
  },
  {
   "cell_type": "code",
   "execution_count": 57,
   "metadata": {},
   "outputs": [
    {
     "data": {
      "text/html": [
       "<div>\n",
       "<style scoped>\n",
       "    .dataframe tbody tr th:only-of-type {\n",
       "        vertical-align: middle;\n",
       "    }\n",
       "\n",
       "    .dataframe tbody tr th {\n",
       "        vertical-align: top;\n",
       "    }\n",
       "\n",
       "    .dataframe thead th {\n",
       "        text-align: right;\n",
       "    }\n",
       "</style>\n",
       "<table border=\"1\" class=\"dataframe\">\n",
       "  <thead>\n",
       "    <tr style=\"text-align: right;\">\n",
       "      <th>y_predict</th>\n",
       "      <th>0.0</th>\n",
       "      <th>1.0</th>\n",
       "    </tr>\n",
       "    <tr>\n",
       "      <th>y</th>\n",
       "      <th></th>\n",
       "      <th></th>\n",
       "    </tr>\n",
       "  </thead>\n",
       "  <tbody>\n",
       "    <tr>\n",
       "      <th>0.0</th>\n",
       "      <td>11251</td>\n",
       "      <td>89</td>\n",
       "    </tr>\n",
       "    <tr>\n",
       "      <th>1.0</th>\n",
       "      <td>1209</td>\n",
       "      <td>209</td>\n",
       "    </tr>\n",
       "  </tbody>\n",
       "</table>\n",
       "</div>"
      ],
      "text/plain": [
       "y_predict    0.0  1.0\n",
       "y                    \n",
       "0.0        11251   89\n",
       "1.0         1209  209"
      ]
     },
     "execution_count": 57,
     "metadata": {},
     "output_type": "execute_result"
    }
   ],
   "source": [
    "glm_classification_table(glm_scobit_results)"
   ]
  },
  {
   "cell_type": "code",
   "execution_count": 58,
   "metadata": {},
   "outputs": [
    {
     "data": {
      "image/png": "[encoded data removed]",
      "text/plain": [
       "<Figure size 432x288 with 1 Axes>"
      ]
     },
     "metadata": {
      "needs_background": "light"
     },
     "output_type": "display_data"
    }
   ],
   "source": [
    "plot_roc_auc(glm_scobit_results)"
   ]
  },
  {
   "cell_type": "code",
   "execution_count": 59,
   "metadata": {},
   "outputs": [
    {
     "data": {
      "text/plain": [
       "const                                                           0.082982\n",
       "Car                                                             1.157203\n",
       "Barri_problem_with_streets_cleaning                             0.854192\n",
       "BCN_over_barri_satisfaction                                     1.418406\n",
       "BCN_over_barri_security                                         1.426902\n",
       "No_of_people_in_the_house_FOUR OR MORE                          0.686537\n",
       "No_of_people_in_the_house_THREE                                 0.856492\n",
       "No_of_people_in_the_house_TWO                                   0.982504\n",
       "Time_living_in_barri_I HAVE ALWAYS LIVED IN THE NEIGHBORHOOD    0.306465\n",
       "Time_living_in_barri_MORE THAN 10 YEARS                         0.466026\n",
       "Barri_satisfaction_FAIRLY SATISFIED                             2.160697\n",
       "Barri_satisfaction_NOT SATISFIED                                3.525080\n",
       "Barri_comparison_NEITHER THE BEST, NOR THE WORST                3.558327\n",
       "Barri_comparison_ONE OF THE WORST                               7.821150\n",
       "Barri_transport_BAD                                             1.230148\n",
       "Barri_transport_NEITHER BAD, NOR GOOD                           1.128431\n",
       "dtype: float64"
      ]
     },
     "execution_count": 59,
     "metadata": {},
     "output_type": "execute_result"
    }
   ],
   "source": [
    "odds_ratios(glm_scobit_results)"
   ]
  },
  {
   "cell_type": "code",
   "execution_count": 60,
   "metadata": {},
   "outputs": [
    {
     "data": {
      "text/plain": [
       "0.16240268031397864"
      ]
     },
     "execution_count": 60,
     "metadata": {},
     "output_type": "execute_result"
    }
   ],
   "source": [
    "pseudo_r2(glm_scobit_results)"
   ]
  },
  {
   "cell_type": "code",
   "execution_count": 61,
   "metadata": {},
   "outputs": [
    {
     "data": {
      "text/plain": [
       "0.085"
      ]
     },
     "execution_count": 61,
     "metadata": {},
     "output_type": "execute_result"
    }
   ],
   "source": [
    "adj_count_r2(glm_scobit_results)"
   ]
  },
  {
   "cell_type": "code",
   "execution_count": null,
   "metadata": {},
   "outputs": [],
   "source": []
  },
  {
   "cell_type": "code",
   "execution_count": 62,
   "metadata": {},
   "outputs": [
    {
     "name": "stdout",
     "output_type": "stream",
     "text": [
      "AIC:  7480.211507162316 BIC:  -113013.5581936235\n",
      "AIC:  7486.872685917488 BIC:  -113006.89701486831\n",
      "AIC:  7488.834097264591 BIC:  -113004.93560352121\n"
     ]
    },
    {
     "name": "stderr",
     "output_type": "stream",
     "text": [
      "C:\\Users\\THINK\\anaconda3\\lib\\site-packages\\statsmodels\\genmod\\generalized_linear_model.py:1731: FutureWarning: The bic value is computed using the deviance formula. After 0.13 this will change to the log-likelihood based formula. This change has no impact on the relative rank of models compared using BIC. You can directly access the log-likelihood version using the `bic_llf` attribute. You can suppress this message by calling statsmodels.genmod.generalized_linear_model.SET_USE_BIC_LLF with True to get the LLF-based version now or False to retainthe deviance version.\n",
      "  FutureWarning\n"
     ]
    }
   ],
   "source": [
    "print(\"AIC: \", glm_logit_results.aic, \"BIC: \", glm_logit_results.bic)\n",
    "print(\"AIC: \", glm_probit_results.aic, \"BIC: \", glm_probit_results.bic)\n",
    "print(\"AIC: \", glm_scobit_results.aic, \"BIC: \", glm_scobit_results.bic)"
   ]
  },
  {
   "cell_type": "code",
   "execution_count": null,
   "metadata": {},
   "outputs": [],
   "source": []
  },
  {
   "cell_type": "code",
   "execution_count": null,
   "metadata": {},
   "outputs": [],
   "source": []
  },
  {
   "cell_type": "code",
   "execution_count": null,
   "metadata": {},
   "outputs": [],
   "source": []
  }
 ],
 "metadata": {
  "kernelspec": {
   "display_name": "Python 3",
   "language": "python",
   "name": "python3"
  },
  "language_info": {
   "codemirror_mode": {
    "name": "ipython",
    "version": 3
   },
   "file_extension": ".py",
   "mimetype": "text/x-python",
   "name": "python",
   "nbconvert_exporter": "python",
   "pygments_lexer": "ipython3",
   "version": "3.7.6"
  }
 },
 "nbformat": 4,
 "nbformat_minor": 4
}
