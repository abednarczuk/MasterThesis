{
 "cells": [
  {
   "cell_type": "markdown",
   "metadata": {},
   "source": [
    "Aleksandra Bednarczuk"
   ]
  },
  {
   "cell_type": "markdown",
   "metadata": {},
   "source": [
    "# Predictors of elderly citizens willingness to stay in the neighbourhood\n",
    "# Logistic regression"
   ]
  },
  {
   "cell_type": "markdown",
   "metadata": {},
   "source": [
    "Original dataset, including barris among predictors"
   ]
  },
  {
   "cell_type": "code",
   "execution_count": 1,
   "metadata": {},
   "outputs": [],
   "source": [
    "import pandas as pd\n",
    "import numpy as np\n",
    "\n",
    "import matplotlib.pyplot as plt"
   ]
  },
  {
   "cell_type": "code",
   "execution_count": 2,
   "metadata": {},
   "outputs": [],
   "source": [
    "from imblearn.over_sampling import SMOTE\n",
    "\n",
    "import statsmodels.api as sm\n",
    "import statsmodels.formula.api as smf\n",
    "\n",
    "from sklearn.model_selection import train_test_split\n",
    "from sklearn.feature_selection import RFE\n",
    "from sklearn.linear_model import LogisticRegression\n",
    "\n",
    "from sklearn.metrics import accuracy_score\n",
    "from sklearn.metrics import classification_report\n",
    "from sklearn.metrics import confusion_matrix\n",
    "from sklearn.metrics import roc_auc_score\n",
    "from sklearn.metrics import roc_curve\n",
    "from sklearn.metrics import r2_score\n",
    "\n",
    "from sklearn.feature_selection import SelectKBest\n",
    "from sklearn.feature_selection import chi2\n",
    "from sklearn.feature_selection import mutual_info_classif\n",
    "from sklearn.feature_selection import f_classif\n",
    "from sklearn.preprocessing import LabelEncoder\n",
    "from sklearn.preprocessing import OrdinalEncoder\n",
    "\n",
    "from scipy import stats"
   ]
  },
  {
   "cell_type": "code",
   "execution_count": null,
   "metadata": {},
   "outputs": [],
   "source": []
  },
  {
   "cell_type": "code",
   "execution_count": 3,
   "metadata": {},
   "outputs": [
    {
     "ename": "FileNotFoundError",
     "evalue": "[Errno 2] No such file or directory: 'survey_transformed2.pkl'",
     "output_type": "error",
     "traceback": [
      "\u001b[1;31m---------------------------------------------------------------------------\u001b[0m",
      "\u001b[1;31mFileNotFoundError\u001b[0m                         Traceback (most recent call last)",
      "\u001b[1;32m<ipython-input-3-4d04f0befc60>\u001b[0m in \u001b[0;36m<module>\u001b[1;34m\u001b[0m\n\u001b[1;32m----> 1\u001b[1;33m \u001b[0mdata\u001b[0m \u001b[1;33m=\u001b[0m \u001b[0mpd\u001b[0m\u001b[1;33m.\u001b[0m\u001b[0mread_pickle\u001b[0m\u001b[1;33m(\u001b[0m\u001b[1;34m\"survey_transformed2.pkl\"\u001b[0m\u001b[1;33m)\u001b[0m\u001b[1;33m\u001b[0m\u001b[1;33m\u001b[0m\u001b[0m\n\u001b[0m",
      "\u001b[1;32m~\\anaconda3\\lib\\site-packages\\pandas\\io\\pickle.py\u001b[0m in \u001b[0;36mread_pickle\u001b[1;34m(filepath_or_buffer, compression)\u001b[0m\n\u001b[0;32m    168\u001b[0m     \u001b[1;32mif\u001b[0m \u001b[1;32mnot\u001b[0m \u001b[0misinstance\u001b[0m\u001b[1;33m(\u001b[0m\u001b[0mfp_or_buf\u001b[0m\u001b[1;33m,\u001b[0m \u001b[0mstr\u001b[0m\u001b[1;33m)\u001b[0m \u001b[1;32mand\u001b[0m \u001b[0mcompression\u001b[0m \u001b[1;33m==\u001b[0m \u001b[1;34m\"infer\"\u001b[0m\u001b[1;33m:\u001b[0m\u001b[1;33m\u001b[0m\u001b[1;33m\u001b[0m\u001b[0m\n\u001b[0;32m    169\u001b[0m         \u001b[0mcompression\u001b[0m \u001b[1;33m=\u001b[0m \u001b[1;32mNone\u001b[0m\u001b[1;33m\u001b[0m\u001b[1;33m\u001b[0m\u001b[0m\n\u001b[1;32m--> 170\u001b[1;33m     \u001b[0mf\u001b[0m\u001b[1;33m,\u001b[0m \u001b[0mfh\u001b[0m \u001b[1;33m=\u001b[0m \u001b[0mget_handle\u001b[0m\u001b[1;33m(\u001b[0m\u001b[0mfp_or_buf\u001b[0m\u001b[1;33m,\u001b[0m \u001b[1;34m\"rb\"\u001b[0m\u001b[1;33m,\u001b[0m \u001b[0mcompression\u001b[0m\u001b[1;33m=\u001b[0m\u001b[0mcompression\u001b[0m\u001b[1;33m,\u001b[0m \u001b[0mis_text\u001b[0m\u001b[1;33m=\u001b[0m\u001b[1;32mFalse\u001b[0m\u001b[1;33m)\u001b[0m\u001b[1;33m\u001b[0m\u001b[1;33m\u001b[0m\u001b[0m\n\u001b[0m\u001b[0;32m    171\u001b[0m \u001b[1;33m\u001b[0m\u001b[0m\n\u001b[0;32m    172\u001b[0m     \u001b[1;31m# 1) try standard library Pickle\u001b[0m\u001b[1;33m\u001b[0m\u001b[1;33m\u001b[0m\u001b[1;33m\u001b[0m\u001b[0m\n",
      "\u001b[1;32m~\\anaconda3\\lib\\site-packages\\pandas\\io\\common.py\u001b[0m in \u001b[0;36mget_handle\u001b[1;34m(path_or_buf, mode, encoding, compression, memory_map, is_text)\u001b[0m\n\u001b[0;32m    432\u001b[0m         \u001b[1;32melse\u001b[0m\u001b[1;33m:\u001b[0m\u001b[1;33m\u001b[0m\u001b[1;33m\u001b[0m\u001b[0m\n\u001b[0;32m    433\u001b[0m             \u001b[1;31m# Binary mode\u001b[0m\u001b[1;33m\u001b[0m\u001b[1;33m\u001b[0m\u001b[1;33m\u001b[0m\u001b[0m\n\u001b[1;32m--> 434\u001b[1;33m             \u001b[0mf\u001b[0m \u001b[1;33m=\u001b[0m \u001b[0mopen\u001b[0m\u001b[1;33m(\u001b[0m\u001b[0mpath_or_buf\u001b[0m\u001b[1;33m,\u001b[0m \u001b[0mmode\u001b[0m\u001b[1;33m)\u001b[0m\u001b[1;33m\u001b[0m\u001b[1;33m\u001b[0m\u001b[0m\n\u001b[0m\u001b[0;32m    435\u001b[0m         \u001b[0mhandles\u001b[0m\u001b[1;33m.\u001b[0m\u001b[0mappend\u001b[0m\u001b[1;33m(\u001b[0m\u001b[0mf\u001b[0m\u001b[1;33m)\u001b[0m\u001b[1;33m\u001b[0m\u001b[1;33m\u001b[0m\u001b[0m\n\u001b[0;32m    436\u001b[0m \u001b[1;33m\u001b[0m\u001b[0m\n",
      "\u001b[1;31mFileNotFoundError\u001b[0m: [Errno 2] No such file or directory: 'survey_transformed2.pkl'"
     ]
    }
   ],
   "source": [
    "data = pd.read_pickle(\"survey_transformed2.pkl\")"
   ]
  },
  {
   "cell_type": "code",
   "execution_count": null,
   "metadata": {},
   "outputs": [],
   "source": [
    "data.reset_index(drop=True, inplace=True)"
   ]
  },
  {
   "cell_type": "code",
   "execution_count": null,
   "metadata": {},
   "outputs": [],
   "source": [
    "data.head()"
   ]
  },
  {
   "cell_type": "code",
   "execution_count": null,
   "metadata": {},
   "outputs": [],
   "source": []
  },
  {
   "cell_type": "code",
   "execution_count": null,
   "metadata": {},
   "outputs": [],
   "source": [
    "data.shape"
   ]
  },
  {
   "cell_type": "code",
   "execution_count": null,
   "metadata": {},
   "outputs": [],
   "source": [
    "data.columns.tolist()"
   ]
  },
  {
   "cell_type": "code",
   "execution_count": null,
   "metadata": {},
   "outputs": [],
   "source": [
    "for i in data.columns.tolist():\n",
    "    display(pd.crosstab(data[i], data.Residential_satisfaction))"
   ]
  },
  {
   "cell_type": "code",
   "execution_count": 35,
   "metadata": {},
   "outputs": [
    {
     "data": {
      "text/plain": [
       "['Residential_satisfaction',\n",
       " 'District',\n",
       " 'Woman',\n",
       " 'BCN_evolution',\n",
       " 'BCN_future',\n",
       " 'BCN_security',\n",
       " 'BCN_management',\n",
       " 'BCN_transport',\n",
       " 'GARBAGE COLLECTION',\n",
       " 'STREETS CLEANING',\n",
       " 'NOISE',\n",
       " 'GREEN AREAS',\n",
       " 'PUBLIC LIGHTING',\n",
       " 'ASPHALT AND STREET CONSERVATION',\n",
       " 'CIRCULATION AND TRAFFIC',\n",
       " 'BUS',\n",
       " 'CITIZEN SECURITY IN THE CITY AS A WHOLE']"
      ]
     },
     "execution_count": 35,
     "metadata": {},
     "output_type": "execute_result"
    }
   ],
   "source": [
    "data.columns.tolist()"
   ]
  },
  {
   "cell_type": "code",
   "execution_count": null,
   "metadata": {},
   "outputs": [],
   "source": []
  },
  {
   "cell_type": "code",
   "execution_count": 36,
   "metadata": {},
   "outputs": [],
   "source": [
    "x_var = [#'District',\n",
    " 'Woman',\n",
    " 'BCN_evolution',\n",
    " 'BCN_future',\n",
    " 'BCN_management',\n",
    " 'BCN_transport',\n",
    " 'GARBAGE COLLECTION',\n",
    " 'STREETS CLEANING',\n",
    " 'NOISE',\n",
    " 'GREEN AREAS',\n",
    " 'PUBLIC LIGHTING',\n",
    " 'ASPHALT AND STREET CONSERVATION',\n",
    " 'CIRCULATION AND TRAFFIC',\n",
    " 'BUS',\n",
    " 'CITIZEN SECURITY IN THE CITY AS A WHOLE']"
   ]
  },
  {
   "cell_type": "code",
   "execution_count": null,
   "metadata": {},
   "outputs": [],
   "source": []
  },
  {
   "cell_type": "code",
   "execution_count": 37,
   "metadata": {},
   "outputs": [],
   "source": [
    "y = data['Residential_satisfaction']"
   ]
  },
  {
   "cell_type": "code",
   "execution_count": null,
   "metadata": {},
   "outputs": [],
   "source": []
  },
  {
   "cell_type": "code",
   "execution_count": 38,
   "metadata": {},
   "outputs": [],
   "source": [
    "x = pd.get_dummies(data[x_var])"
   ]
  },
  {
   "cell_type": "code",
   "execution_count": 39,
   "metadata": {},
   "outputs": [
    {
     "data": {
      "text/plain": [
       "['Woman',\n",
       " 'GARBAGE COLLECTION',\n",
       " 'STREETS CLEANING',\n",
       " 'NOISE',\n",
       " 'GREEN AREAS',\n",
       " 'PUBLIC LIGHTING',\n",
       " 'ASPHALT AND STREET CONSERVATION',\n",
       " 'CIRCULATION AND TRAFFIC',\n",
       " 'BUS',\n",
       " 'CITIZEN SECURITY IN THE CITY AS A WHOLE',\n",
       " 'BCN_evolution_IT HAS IMPROVED',\n",
       " 'BCN_evolution_IT HAS WORSENED',\n",
       " 'BCN_evolution_IT IS THE SAME',\n",
       " 'BCN_future_IT WILL IMPROVE',\n",
       " 'BCN_future_IT WILL STAY THE SAME',\n",
       " 'BCN_future_IT WILL WORSEN',\n",
       " 'BCN_management_BAD',\n",
       " 'BCN_management_GOOD',\n",
       " 'BCN_management_NEITHER BAD, NOR GOOD',\n",
       " 'BCN_transport_BAD',\n",
       " 'BCN_transport_GOOD',\n",
       " 'BCN_transport_NEITHER BAD, NOR GOOD']"
      ]
     },
     "execution_count": 39,
     "metadata": {},
     "output_type": "execute_result"
    }
   ],
   "source": [
    "x.columns.tolist()"
   ]
  },
  {
   "cell_type": "code",
   "execution_count": 40,
   "metadata": {},
   "outputs": [],
   "source": [
    "for i in x.columns.tolist():\n",
    "    if i[-4:] == '_BAD':\n",
    "        del x[i]\n",
    "\n",
    "#del x['District_EIXAMPLE']"
   ]
  },
  {
   "cell_type": "code",
   "execution_count": null,
   "metadata": {},
   "outputs": [],
   "source": [
    "import seaborn as sns # just a conventional alias, don't know why\n",
    "sns.set(style=\"white\")\n",
    "\n",
    "corr = x.corr('spearman')\n",
    "\n",
    "# Generate a mask for the upper triangle\n",
    "mask = np.zeros_like(corr, dtype=np.bool)\n",
    "mask[np.triu_indices_from(mask)] = True\n",
    "\n",
    "# Set up the matplotlib figure\n",
    "f, ax = plt.subplots(figsize=(16, 16))\n",
    "\n",
    "# Generate a custom diverging colormap\n",
    "cmap = sns.diverging_palette(220, 10, as_cmap=True)\n",
    "\n",
    "# Draw the heatmap with the mask and correct aspect ratio\n",
    "sns.heatmap(corr, mask=mask, cmap=cmap, vmax=.3, center=0,\n",
    "            square=True, #annot = corr.round(2), \n",
    "            linewidths=.5, cbar_kws={\"shrink\": .5})"
   ]
  },
  {
   "cell_type": "code",
   "execution_count": 41,
   "metadata": {},
   "outputs": [],
   "source": [
    "x = sm.add_constant(x)"
   ]
  },
  {
   "cell_type": "code",
   "execution_count": null,
   "metadata": {},
   "outputs": [],
   "source": []
  },
  {
   "cell_type": "markdown",
   "metadata": {},
   "source": [
    "# Logit"
   ]
  },
  {
   "cell_type": "code",
   "execution_count": 42,
   "metadata": {},
   "outputs": [
    {
     "data": {
      "text/html": [
       "<table class=\"simpletable\">\n",
       "<caption>Generalized Linear Model Regression Results</caption>\n",
       "<tr>\n",
       "  <th>Dep. Variable:</th>   <td>Residential_satisfaction</td> <th>  No. Observations:  </th>  <td>  1169</td> \n",
       "</tr>\n",
       "<tr>\n",
       "  <th>Model:</th>                      <td>GLM</td>           <th>  Df Residuals:      </th>  <td>  1150</td> \n",
       "</tr>\n",
       "<tr>\n",
       "  <th>Model Family:</th>            <td>Binomial</td>         <th>  Df Model:          </th>  <td>    18</td> \n",
       "</tr>\n",
       "<tr>\n",
       "  <th>Link Function:</th>             <td>logit</td>          <th>  Scale:             </th> <td>  1.0000</td>\n",
       "</tr>\n",
       "<tr>\n",
       "  <th>Method:</th>                    <td>IRLS</td>           <th>  Log-Likelihood:    </th> <td> -377.46</td>\n",
       "</tr>\n",
       "<tr>\n",
       "  <th>Date:</th>                <td>Sun, 09 May 2021</td>     <th>  Deviance:          </th> <td>  754.92</td>\n",
       "</tr>\n",
       "<tr>\n",
       "  <th>Time:</th>                    <td>14:19:37</td>         <th>  Pearson chi2:      </th> <td>1.20e+03</td>\n",
       "</tr>\n",
       "<tr>\n",
       "  <th>No. Iterations:</th>             <td>12</td>            <th>                     </th>     <td> </td>   \n",
       "</tr>\n",
       "<tr>\n",
       "  <th>Covariance Type:</th>         <td>nonrobust</td>        <th>                     </th>     <td> </td>   \n",
       "</tr>\n",
       "</table>\n",
       "<table class=\"simpletable\">\n",
       "<tr>\n",
       "                     <td></td>                        <th>coef</th>     <th>std err</th>      <th>z</th>      <th>P>|z|</th>  <th>[0.025</th>    <th>0.975]</th>  \n",
       "</tr>\n",
       "<tr>\n",
       "  <th>const</th>                                   <td>    0.2699</td> <td>    0.222</td> <td>    1.215</td> <td> 0.225</td> <td>   -0.166</td> <td>    0.705</td>\n",
       "</tr>\n",
       "<tr>\n",
       "  <th>Woman</th>                                   <td>    0.5145</td> <td>    0.197</td> <td>    2.607</td> <td> 0.009</td> <td>    0.128</td> <td>    0.901</td>\n",
       "</tr>\n",
       "<tr>\n",
       "  <th>GARBAGE COLLECTION</th>                      <td>    0.4762</td> <td>    0.228</td> <td>    2.089</td> <td> 0.037</td> <td>    0.029</td> <td>    0.923</td>\n",
       "</tr>\n",
       "<tr>\n",
       "  <th>STREETS CLEANING</th>                        <td>    0.1194</td> <td>    0.233</td> <td>    0.512</td> <td> 0.609</td> <td>   -0.338</td> <td>    0.577</td>\n",
       "</tr>\n",
       "<tr>\n",
       "  <th>NOISE</th>                                   <td>    0.0191</td> <td>    0.220</td> <td>    0.087</td> <td> 0.931</td> <td>   -0.412</td> <td>    0.450</td>\n",
       "</tr>\n",
       "<tr>\n",
       "  <th>GREEN AREAS</th>                             <td>    0.1865</td> <td>    0.214</td> <td>    0.871</td> <td> 0.384</td> <td>   -0.233</td> <td>    0.606</td>\n",
       "</tr>\n",
       "<tr>\n",
       "  <th>PUBLIC LIGHTING</th>                         <td>   -0.0414</td> <td>    0.211</td> <td>   -0.196</td> <td> 0.845</td> <td>   -0.455</td> <td>    0.372</td>\n",
       "</tr>\n",
       "<tr>\n",
       "  <th>ASPHALT AND STREET CONSERVATION</th>         <td>    0.5569</td> <td>    0.246</td> <td>    2.261</td> <td> 0.024</td> <td>    0.074</td> <td>    1.040</td>\n",
       "</tr>\n",
       "<tr>\n",
       "  <th>CIRCULATION AND TRAFFIC</th>                 <td>   -0.1527</td> <td>    0.242</td> <td>   -0.632</td> <td> 0.527</td> <td>   -0.626</td> <td>    0.321</td>\n",
       "</tr>\n",
       "<tr>\n",
       "  <th>BUS</th>                                     <td>   -0.0517</td> <td>    0.218</td> <td>   -0.237</td> <td> 0.812</td> <td>   -0.478</td> <td>    0.375</td>\n",
       "</tr>\n",
       "<tr>\n",
       "  <th>CITIZEN SECURITY IN THE CITY AS A WHOLE</th> <td>   -0.0745</td> <td>    0.263</td> <td>   -0.283</td> <td> 0.777</td> <td>   -0.590</td> <td>    0.441</td>\n",
       "</tr>\n",
       "<tr>\n",
       "  <th>BCN_evolution_IT HAS IMPROVED</th>           <td>    0.4023</td> <td>    0.246</td> <td>    1.637</td> <td> 0.102</td> <td>   -0.079</td> <td>    0.884</td>\n",
       "</tr>\n",
       "<tr>\n",
       "  <th>BCN_evolution_IT HAS WORSENED</th>           <td>   -0.3780</td> <td>    0.144</td> <td>   -2.619</td> <td> 0.009</td> <td>   -0.661</td> <td>   -0.095</td>\n",
       "</tr>\n",
       "<tr>\n",
       "  <th>BCN_evolution_IT IS THE SAME</th>            <td>    0.2457</td> <td>    0.207</td> <td>    1.187</td> <td> 0.235</td> <td>   -0.160</td> <td>    0.652</td>\n",
       "</tr>\n",
       "<tr>\n",
       "  <th>BCN_future_IT WILL IMPROVE</th>              <td>    0.6823</td> <td>    0.157</td> <td>    4.342</td> <td> 0.000</td> <td>    0.374</td> <td>    0.990</td>\n",
       "</tr>\n",
       "<tr>\n",
       "  <th>BCN_future_IT WILL STAY THE SAME</th>        <td>    0.0832</td> <td>    0.166</td> <td>    0.503</td> <td> 0.615</td> <td>   -0.241</td> <td>    0.408</td>\n",
       "</tr>\n",
       "<tr>\n",
       "  <th>BCN_future_IT WILL WORSEN</th>               <td>   -0.4957</td> <td>    0.150</td> <td>   -3.295</td> <td> 0.001</td> <td>   -0.791</td> <td>   -0.201</td>\n",
       "</tr>\n",
       "<tr>\n",
       "  <th>BCN_management_GOOD</th>                     <td>    1.1661</td> <td>    0.329</td> <td>    3.542</td> <td> 0.000</td> <td>    0.521</td> <td>    1.811</td>\n",
       "</tr>\n",
       "<tr>\n",
       "  <th>BCN_management_NEITHER BAD, NOR GOOD</th>    <td>    0.6699</td> <td>    0.248</td> <td>    2.706</td> <td> 0.007</td> <td>    0.185</td> <td>    1.155</td>\n",
       "</tr>\n",
       "<tr>\n",
       "  <th>BCN_transport_GOOD</th>                      <td>    0.1073</td> <td>    0.295</td> <td>    0.364</td> <td> 0.716</td> <td>   -0.470</td> <td>    0.685</td>\n",
       "</tr>\n",
       "<tr>\n",
       "  <th>BCN_transport_NEITHER BAD, NOR GOOD</th>     <td>    0.0077</td> <td>    0.394</td> <td>    0.019</td> <td> 0.985</td> <td>   -0.765</td> <td>    0.780</td>\n",
       "</tr>\n",
       "</table>"
      ],
      "text/plain": [
       "<class 'statsmodels.iolib.summary.Summary'>\n",
       "\"\"\"\n",
       "                    Generalized Linear Model Regression Results                     \n",
       "====================================================================================\n",
       "Dep. Variable:     Residential_satisfaction   No. Observations:                 1169\n",
       "Model:                                  GLM   Df Residuals:                     1150\n",
       "Model Family:                      Binomial   Df Model:                           18\n",
       "Link Function:                        logit   Scale:                          1.0000\n",
       "Method:                                IRLS   Log-Likelihood:                -377.46\n",
       "Date:                      Sun, 09 May 2021   Deviance:                       754.92\n",
       "Time:                              14:19:37   Pearson chi2:                 1.20e+03\n",
       "No. Iterations:                          12                                         \n",
       "Covariance Type:                  nonrobust                                         \n",
       "===========================================================================================================\n",
       "                                              coef    std err          z      P>|z|      [0.025      0.975]\n",
       "-----------------------------------------------------------------------------------------------------------\n",
       "const                                       0.2699      0.222      1.215      0.225      -0.166       0.705\n",
       "Woman                                       0.5145      0.197      2.607      0.009       0.128       0.901\n",
       "GARBAGE COLLECTION                          0.4762      0.228      2.089      0.037       0.029       0.923\n",
       "STREETS CLEANING                            0.1194      0.233      0.512      0.609      -0.338       0.577\n",
       "NOISE                                       0.0191      0.220      0.087      0.931      -0.412       0.450\n",
       "GREEN AREAS                                 0.1865      0.214      0.871      0.384      -0.233       0.606\n",
       "PUBLIC LIGHTING                            -0.0414      0.211     -0.196      0.845      -0.455       0.372\n",
       "ASPHALT AND STREET CONSERVATION             0.5569      0.246      2.261      0.024       0.074       1.040\n",
       "CIRCULATION AND TRAFFIC                    -0.1527      0.242     -0.632      0.527      -0.626       0.321\n",
       "BUS                                        -0.0517      0.218     -0.237      0.812      -0.478       0.375\n",
       "CITIZEN SECURITY IN THE CITY AS A WHOLE    -0.0745      0.263     -0.283      0.777      -0.590       0.441\n",
       "BCN_evolution_IT HAS IMPROVED               0.4023      0.246      1.637      0.102      -0.079       0.884\n",
       "BCN_evolution_IT HAS WORSENED              -0.3780      0.144     -2.619      0.009      -0.661      -0.095\n",
       "BCN_evolution_IT IS THE SAME                0.2457      0.207      1.187      0.235      -0.160       0.652\n",
       "BCN_future_IT WILL IMPROVE                  0.6823      0.157      4.342      0.000       0.374       0.990\n",
       "BCN_future_IT WILL STAY THE SAME            0.0832      0.166      0.503      0.615      -0.241       0.408\n",
       "BCN_future_IT WILL WORSEN                  -0.4957      0.150     -3.295      0.001      -0.791      -0.201\n",
       "BCN_management_GOOD                         1.1661      0.329      3.542      0.000       0.521       1.811\n",
       "BCN_management_NEITHER BAD, NOR GOOD        0.6699      0.248      2.706      0.007       0.185       1.155\n",
       "BCN_transport_GOOD                          0.1073      0.295      0.364      0.716      -0.470       0.685\n",
       "BCN_transport_NEITHER BAD, NOR GOOD         0.0077      0.394      0.019      0.985      -0.765       0.780\n",
       "===========================================================================================================\n",
       "\"\"\""
      ]
     },
     "execution_count": 42,
     "metadata": {},
     "output_type": "execute_result"
    }
   ],
   "source": [
    "glm_logit = sm.GLM(y, x, family=sm.families.Binomial())\n",
    "glm_logit_results = glm_logit.fit()\n",
    "glm_logit_results.summary()"
   ]
  },
  {
   "cell_type": "code",
   "execution_count": 43,
   "metadata": {},
   "outputs": [
    {
     "data": {
      "text/plain": [
       "792.9152349333629"
      ]
     },
     "execution_count": 43,
     "metadata": {},
     "output_type": "execute_result"
    }
   ],
   "source": [
    "glm_logit_results.aic"
   ]
  },
  {
   "cell_type": "code",
   "execution_count": 44,
   "metadata": {},
   "outputs": [
    {
     "data": {
      "text/plain": [
       "-7368.574320759516"
      ]
     },
     "execution_count": 44,
     "metadata": {},
     "output_type": "execute_result"
    }
   ],
   "source": [
    "glm_logit_results.bic"
   ]
  },
  {
   "cell_type": "code",
   "execution_count": 45,
   "metadata": {},
   "outputs": [
    {
     "data": {
      "text/plain": [
       "BCN_transport_NEITHER BAD, NOR GOOD        0.984501\n",
       "NOISE                                      0.930792\n",
       "PUBLIC LIGHTING                            0.844549\n",
       "BUS                                        0.812413\n",
       "CITIZEN SECURITY IN THE CITY AS A WHOLE    0.776991\n",
       "BCN_transport_GOOD                         0.715768\n",
       "BCN_future_IT WILL STAY THE SAME           0.615113\n",
       "STREETS CLEANING                           0.608583\n",
       "CIRCULATION AND TRAFFIC                    0.527196\n",
       "GREEN AREAS                                0.383808\n",
       "BCN_evolution_IT IS THE SAME               0.235397\n",
       "const                                      0.224517\n",
       "BCN_evolution_IT HAS IMPROVED              0.101629\n",
       "GARBAGE COLLECTION                         0.036718\n",
       "ASPHALT AND STREET CONSERVATION            0.023732\n",
       "Woman                                      0.009141\n",
       "BCN_evolution_IT HAS WORSENED              0.008818\n",
       "BCN_management_NEITHER BAD, NOR GOOD       0.006815\n",
       "BCN_future_IT WILL WORSEN                  0.000985\n",
       "BCN_management_GOOD                        0.000397\n",
       "BCN_future_IT WILL IMPROVE                 0.000014\n",
       "dtype: float64"
      ]
     },
     "execution_count": 45,
     "metadata": {},
     "output_type": "execute_result"
    }
   ],
   "source": [
    "glm_logit_results.pvalues.sort_values(ascending=False)"
   ]
  },
  {
   "cell_type": "code",
   "execution_count": null,
   "metadata": {},
   "outputs": [],
   "source": []
  },
  {
   "cell_type": "code",
   "execution_count": null,
   "metadata": {},
   "outputs": [],
   "source": [
    "for i in ['Living_with_disabled_person', 'Financial_situation_GOOD','Disability']:\n",
    "    del x[i]"
   ]
  },
  {
   "cell_type": "code",
   "execution_count": null,
   "metadata": {},
   "outputs": [],
   "source": [
    "glm_logit = sm.GLM(y, x, family=sm.families.Binomial())\n",
    "glm_logit_results = glm_logit.fit()\n",
    "glm_logit_results.summary()"
   ]
  },
  {
   "cell_type": "code",
   "execution_count": null,
   "metadata": {},
   "outputs": [],
   "source": [
    "glm_logit_results.aic"
   ]
  },
  {
   "cell_type": "code",
   "execution_count": null,
   "metadata": {},
   "outputs": [],
   "source": [
    "glm_logit_results.bic"
   ]
  },
  {
   "cell_type": "code",
   "execution_count": null,
   "metadata": {},
   "outputs": [],
   "source": [
    "glm_logit_results.pvalues.sort_values(ascending=False)"
   ]
  },
  {
   "cell_type": "code",
   "execution_count": null,
   "metadata": {},
   "outputs": [],
   "source": []
  },
  {
   "cell_type": "code",
   "execution_count": null,
   "metadata": {},
   "outputs": [],
   "source": [
    "for i in ['Car', 'CIRCULATION AND TRAFFIC', 'NOISE', 'PUBLIC LIGHTING']:\n",
    "    del x[i]"
   ]
  },
  {
   "cell_type": "code",
   "execution_count": null,
   "metadata": {},
   "outputs": [],
   "source": [
    "glm_logit = sm.GLM(y, x, family=sm.families.Binomial())\n",
    "glm_logit_results = glm_logit.fit()\n",
    "glm_logit_results.summary()"
   ]
  },
  {
   "cell_type": "code",
   "execution_count": null,
   "metadata": {},
   "outputs": [],
   "source": [
    "glm_logit_results.aic"
   ]
  },
  {
   "cell_type": "code",
   "execution_count": null,
   "metadata": {},
   "outputs": [],
   "source": [
    "glm_logit_results.bic"
   ]
  },
  {
   "cell_type": "code",
   "execution_count": null,
   "metadata": {},
   "outputs": [],
   "source": [
    "glm_logit_results.pvalues.sort_values(ascending=False)"
   ]
  },
  {
   "cell_type": "code",
   "execution_count": null,
   "metadata": {},
   "outputs": [],
   "source": []
  },
  {
   "cell_type": "code",
   "execution_count": null,
   "metadata": {},
   "outputs": [],
   "source": [
    "for i in ['STREETS CLEANING']:\n",
    "    del x[i]"
   ]
  },
  {
   "cell_type": "code",
   "execution_count": null,
   "metadata": {},
   "outputs": [],
   "source": [
    "glm_logit = sm.GLM(y, x, family=sm.families.Binomial())\n",
    "glm_logit_results = glm_logit.fit()\n",
    "glm_logit_results.summary()"
   ]
  },
  {
   "cell_type": "code",
   "execution_count": null,
   "metadata": {},
   "outputs": [],
   "source": [
    "glm_logit_results.aic"
   ]
  },
  {
   "cell_type": "code",
   "execution_count": null,
   "metadata": {},
   "outputs": [],
   "source": [
    "glm_logit_results.bic"
   ]
  },
  {
   "cell_type": "code",
   "execution_count": null,
   "metadata": {},
   "outputs": [],
   "source": [
    "glm_logit_results.pvalues.sort_values(ascending=False)"
   ]
  },
  {
   "cell_type": "code",
   "execution_count": null,
   "metadata": {},
   "outputs": [],
   "source": []
  },
  {
   "cell_type": "code",
   "execution_count": null,
   "metadata": {},
   "outputs": [],
   "source": [
    "def glm_classification_table(results):\n",
    "    df_classification_table = pd.DataFrame(y).join(pd.DataFrame(results.predict(x).round()))\n",
    "    df_classification_table.rename(columns={'BCN_residential_satisfaction': 'y', 0: 'y_predict'}, inplace=True)\n",
    "    return pd.crosstab(df_classification_table['y'], df_classification_table['y_predict'])"
   ]
  },
  {
   "cell_type": "code",
   "execution_count": null,
   "metadata": {},
   "outputs": [],
   "source": [
    "glm_classification_table(glm_logit_results)"
   ]
  },
  {
   "cell_type": "code",
   "execution_count": null,
   "metadata": {},
   "outputs": [],
   "source": []
  },
  {
   "cell_type": "code",
   "execution_count": null,
   "metadata": {},
   "outputs": [],
   "source": [
    "def plot_roc_auc(results):\n",
    "    y_predict = results.predict(x)\n",
    "    roc_auc = roc_auc_score(y, y_predict)\n",
    "    fpr, tpr, thresholds = roc_curve(y, y_predict)\n",
    "    plt.figure()\n",
    "    plt.plot(fpr, tpr, label='Logistic Regression (area = %0.2f)' % roc_auc)\n",
    "    plt.plot([0, 1], [0, 1],'r--')\n",
    "    plt.xlim([0.0, 1.0])\n",
    "    plt.ylim([0.0, 1.05])\n",
    "    plt.xlabel('False Positive Rate')\n",
    "    plt.ylabel('True Positive Rate')\n",
    "    plt.title('Receiver operating characteristic')\n",
    "    plt.legend(loc=\"lower right\")\n",
    "    plt.show()"
   ]
  },
  {
   "cell_type": "code",
   "execution_count": null,
   "metadata": {},
   "outputs": [],
   "source": [
    "plot_roc_auc(glm_logit_results)"
   ]
  },
  {
   "cell_type": "code",
   "execution_count": null,
   "metadata": {},
   "outputs": [],
   "source": []
  },
  {
   "cell_type": "code",
   "execution_count": null,
   "metadata": {},
   "outputs": [],
   "source": [
    "def odds_ratios(results):\n",
    "    return np.exp(results.params)"
   ]
  },
  {
   "cell_type": "code",
   "execution_count": null,
   "metadata": {},
   "outputs": [],
   "source": [
    "odds_ratios(glm_logit_results)"
   ]
  },
  {
   "cell_type": "code",
   "execution_count": null,
   "metadata": {},
   "outputs": [],
   "source": []
  },
  {
   "cell_type": "markdown",
   "metadata": {},
   "source": [
    "# Probit"
   ]
  },
  {
   "cell_type": "code",
   "execution_count": null,
   "metadata": {},
   "outputs": [],
   "source": [
    "glm_probit = sm.GLM(y, x, family=sm.families.Binomial(link=sm.genmod.families.links.probit))\n",
    "glm_probit_results = glm_probit.fit()\n",
    "glm_probit_results.summary()"
   ]
  },
  {
   "cell_type": "code",
   "execution_count": null,
   "metadata": {},
   "outputs": [],
   "source": [
    "glm_probit_results.aic"
   ]
  },
  {
   "cell_type": "code",
   "execution_count": null,
   "metadata": {},
   "outputs": [],
   "source": [
    "glm_probit_results.bic"
   ]
  },
  {
   "cell_type": "code",
   "execution_count": null,
   "metadata": {},
   "outputs": [],
   "source": [
    "glm_classification_table(glm_probit_results)"
   ]
  },
  {
   "cell_type": "code",
   "execution_count": null,
   "metadata": {},
   "outputs": [],
   "source": [
    "plot_roc_auc(glm_probit_results)"
   ]
  },
  {
   "cell_type": "code",
   "execution_count": null,
   "metadata": {},
   "outputs": [],
   "source": [
    "odds_ratios(glm_probit_results)"
   ]
  },
  {
   "cell_type": "code",
   "execution_count": null,
   "metadata": {},
   "outputs": [],
   "source": []
  },
  {
   "cell_type": "markdown",
   "metadata": {},
   "source": [
    "# Scobit"
   ]
  },
  {
   "cell_type": "code",
   "execution_count": null,
   "metadata": {
    "scrolled": false
   },
   "outputs": [],
   "source": [
    "glm_scobit = sm.GLM(y, x, family=sm.families.Binomial(link=sm.genmod.families.links.cloglog))\n",
    "glm_scobit_results = glm_scobit.fit()\n",
    "glm_scobit_results.summary()"
   ]
  },
  {
   "cell_type": "code",
   "execution_count": null,
   "metadata": {},
   "outputs": [],
   "source": [
    "glm_scobit_results.aic"
   ]
  },
  {
   "cell_type": "code",
   "execution_count": null,
   "metadata": {},
   "outputs": [],
   "source": [
    "glm_scobit_results.bic"
   ]
  },
  {
   "cell_type": "code",
   "execution_count": null,
   "metadata": {},
   "outputs": [],
   "source": [
    "glm_classification_table(glm_scobit_results)"
   ]
  },
  {
   "cell_type": "code",
   "execution_count": null,
   "metadata": {},
   "outputs": [],
   "source": [
    "plot_roc_auc(glm_scobit_results)"
   ]
  },
  {
   "cell_type": "code",
   "execution_count": null,
   "metadata": {},
   "outputs": [],
   "source": [
    "odds_ratios(glm_scobit_results)"
   ]
  },
  {
   "cell_type": "code",
   "execution_count": null,
   "metadata": {},
   "outputs": [],
   "source": []
  },
  {
   "cell_type": "code",
   "execution_count": null,
   "metadata": {},
   "outputs": [],
   "source": []
  }
 ],
 "metadata": {
  "kernelspec": {
   "display_name": "Python 3",
   "language": "python",
   "name": "python3"
  },
  "language_info": {
   "codemirror_mode": {
    "name": "ipython",
    "version": 3
   },
   "file_extension": ".py",
   "mimetype": "text/x-python",
   "name": "python",
   "nbconvert_exporter": "python",
   "pygments_lexer": "ipython3",
   "version": "3.7.6"
  }
 },
 "nbformat": 4,
 "nbformat_minor": 4
}
